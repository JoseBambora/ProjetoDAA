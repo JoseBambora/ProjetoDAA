{
 "cells": [
  {
   "cell_type": "markdown",
   "id": "2e2010da",
   "metadata": {},
   "source": [
    "# Decision Tree for KickStarProject dataset\n",
    "\n",
    "Goal: predict state"
   ]
  },
  {
   "cell_type": "code",
   "execution_count": 1,
   "id": "7aeb164c",
   "metadata": {
    "tags": []
   },
   "outputs": [],
   "source": [
    "import pandas as pd\n",
    "import numpy as np\n",
    "import matplotlib.pyplot as plt\n",
    "import seaborn as sns\n",
    "%matplotlib inline"
   ]
  },
  {
   "cell_type": "code",
   "execution_count": 2,
   "id": "36975df2",
   "metadata": {
    "tags": []
   },
   "outputs": [],
   "source": [
    "%store -r data"
   ]
  },
  {
   "cell_type": "code",
   "execution_count": 3,
   "id": "5d67e3ed",
   "metadata": {
    "tags": []
   },
   "outputs": [
    {
     "name": "stdout",
     "output_type": "stream",
     "text": [
      "Index(['category', 'main_category', 'currency', 'deadline', 'goal', 'launched',\n",
      "       'pledged', 'state', 'backers', 'country', 'usd pledged',\n",
      "       'usd_pledged_real', 'usd_goal_real', 'continent', 'days_launched',\n",
      "       'launched_month'],\n",
      "      dtype='object')\n",
      "(5000, 16)\n",
      "<class 'pandas.core.frame.DataFrame'>\n",
      "Index: 5000 entries, 372978 to 378660\n",
      "Data columns (total 16 columns):\n",
      " #   Column            Non-Null Count  Dtype         \n",
      "---  ------            --------------  -----         \n",
      " 0   category          5000 non-null   object        \n",
      " 1   main_category     5000 non-null   object        \n",
      " 2   currency          5000 non-null   object        \n",
      " 3   deadline          5000 non-null   datetime64[ns]\n",
      " 4   goal              5000 non-null   float64       \n",
      " 5   launched          5000 non-null   datetime64[ns]\n",
      " 6   pledged           5000 non-null   float64       \n",
      " 7   state             5000 non-null   int64         \n",
      " 8   backers           5000 non-null   int64         \n",
      " 9   country           5000 non-null   object        \n",
      " 10  usd pledged       5000 non-null   float64       \n",
      " 11  usd_pledged_real  5000 non-null   float64       \n",
      " 12  usd_goal_real     5000 non-null   float64       \n",
      " 13  continent         5000 non-null   object        \n",
      " 14  days_launched     5000 non-null   int64         \n",
      " 15  launched_month    5000 non-null   int32         \n",
      "dtypes: datetime64[ns](2), float64(5), int32(1), int64(3), object(5)\n",
      "memory usage: 644.5+ KB\n",
      "None\n"
     ]
    }
   ],
   "source": [
    "print(data.columns)\n",
    "print(data.shape)\n",
    "print(data.info())"
   ]
  },
  {
   "cell_type": "code",
   "execution_count": 33,
   "id": "2863005b",
   "metadata": {
    "tags": []
   },
   "outputs": [
    {
     "name": "stdout",
     "output_type": "stream",
     "text": [
      "<class 'pandas.core.frame.DataFrame'>\n",
      "Index: 5000 entries, 372978 to 378660\n",
      "Data columns (total 5 columns):\n",
      " #   Column            Non-Null Count  Dtype  \n",
      "---  ------            --------------  -----  \n",
      " 0   pledged           5000 non-null   float64\n",
      " 1   state             5000 non-null   int64  \n",
      " 2   backers           5000 non-null   int64  \n",
      " 3   usd pledged       5000 non-null   float64\n",
      " 4   usd_pledged_real  5000 non-null   float64\n",
      "dtypes: float64(3), int64(2)\n",
      "memory usage: 234.4 KB\n"
     ]
    }
   ],
   "source": [
    "data_rn = data.copy()\n",
    "data_rn.drop(['category','main_category','currency','deadline','goal','launched','country','continent','usd_goal_real','days_launched','launched_month'] ,axis=1,inplace=True)\n",
    "data_rn.info()"
   ]
  },
  {
   "cell_type": "code",
   "execution_count": 35,
   "id": "63a37ee5",
   "metadata": {
    "tags": []
   },
   "outputs": [],
   "source": [
    "from sklearn.model_selection import train_test_split\n",
    "from sklearn.tree import DecisionTreeClassifier\n",
    "from sklearn.tree import DecisionTreeRegressor\n",
    "from sklearn.metrics import confusion_matrix\n",
    "from sklearn.metrics import recall_score\n",
    "from sklearn.metrics import accuracy_score\n",
    "from sklearn.metrics import precision_score\n",
    "from sklearn.metrics import roc_auc_score\n",
    "from sklearn.metrics import roc_curve\n",
    "from sklearn.metrics import f1_score\n",
    "from sklearn.metrics import fbeta_score\n",
    "from sklearn.metrics import mean_absolute_error\n",
    "from sklearn.metrics import mean_squared_error\n",
    "\n",
    "def grafico_barras(data,atr,title,xlabel,ylabel):\n",
    "    incidents_count = data[atr].value_counts()\n",
    "    sns.set(style='darkgrid')\n",
    "    sns.barplot(x=incidents_count.index, y=incidents_count.values)\n",
    "    plt.title(title)\n",
    "    plt.ylabel(ylabel)\n",
    "    plt.xlabel(xlabel)\n",
    "    plt.show()\n",
    "\n",
    "\n",
    "X = data_rn.drop(['state'],axis=1)\n",
    "y = data_rn['state'].to_frame()\n",
    "random = 2021\n",
    "X_train, X_test, y_train, y_test = train_test_split(X,y, test_size=0.3, random_state=random)"
   ]
  },
  {
   "cell_type": "code",
   "execution_count": 36,
   "id": "768029c1",
   "metadata": {
    "tags": []
   },
   "outputs": [
    {
     "name": "stdout",
     "output_type": "stream",
     "text": [
      "The shape of X (5000, 4). X_train has shape (3500, 4) while X_test has shape (1500, 4)\n",
      "The shape of y (5000, 1). y_train has shape (3500, 1) while y_test has shape (1500, 1)\n"
     ]
    }
   ],
   "source": [
    "print(\"The shape of X %s. X_train has shape %s while X_test has shape %s\" %(X.shape, X_train.shape, X_test.shape))\n",
    "print(\"The shape of y %s. y_train has shape %s while y_test has shape %s\" %(y.shape, y_train.shape, y_test.shape))"
   ]
  },
  {
   "cell_type": "code",
   "execution_count": 37,
   "id": "4467e705",
   "metadata": {
    "tags": []
   },
   "outputs": [
    {
     "data": {
      "image/png": "[encoded data removed]",
      "text/plain": [
       "<Figure size 640x480 with 1 Axes>"
      ]
     },
     "metadata": {},
     "output_type": "display_data"
    },
    {
     "data": {
      "image/png": "[encoded data removed]",
      "text/plain": [
       "<Figure size 640x480 with 1 Axes>"
      ]
     },
     "metadata": {},
     "output_type": "display_data"
    }
   ],
   "source": [
    "grafico_barras(y_train,'state','Dados treino','state','Ocorrências')\n",
    "grafico_barras(y_test,'state','Dados teste','state','Ocorrências')"
   ]
  },
  {
   "cell_type": "code",
   "execution_count": 38,
   "id": "684b0c79",
   "metadata": {
    "tags": []
   },
   "outputs": [],
   "source": [
    "from sklearn.model_selection import GridSearchCV, KFold, train_test_split"
   ]
  },
  {
   "cell_type": "code",
   "execution_count": 39,
   "id": "13fca954",
   "metadata": {
    "tags": []
   },
   "outputs": [],
   "source": [
    "import tensorflow as tf\n",
    "from tensorflow import keras\n",
    "from tensorflow.keras.models import Sequential\n",
    "from tensorflow.keras.layers import Dense#, Dropout, BatchNormalization\n",
    "from scikeras.wrappers import KerasRegressor#, KerasClassifier"
   ]
  },
  {
   "cell_type": "code",
   "execution_count": 40,
   "id": "eb93b4fe",
   "metadata": {
    "tags": []
   },
   "outputs": [
    {
     "name": "stdout",
     "output_type": "stream",
     "text": [
      "TensorFlow version: 2.12.0\n"
     ]
    }
   ],
   "source": [
    "print(\"TensorFlow version:\", tf.__version__)"
   ]
  },
  {
   "cell_type": "code",
   "execution_count": 60,
   "id": "93fada70",
   "metadata": {
    "tags": []
   },
   "outputs": [],
   "source": [
    "def build_model(activation ='sigmoid', learning_rate = 0.01):\n",
    "    model = Sequential()\n",
    "    model.add(Dense(16, input_dim = 4, activation = activation))\n",
    "    model.add(Dense(8, activation = activation))\n",
    "    model.add(Dense(1,activation = activation)) #output\n",
    "    \n",
    "    #Compile the model\n",
    "    model.compile(\n",
    "        loss = 'mae',\n",
    "        optimizer = tf.optimizers.Adam(learning_rate),\n",
    "        metrics = ['mae','mse'])\n",
    "    return model"
   ]
  },
  {
   "cell_type": "code",
   "execution_count": 61,
   "id": "dba9664d-b1a5-49c5-b722-d5267fcf8184",
   "metadata": {
    "tags": []
   },
   "outputs": [],
   "source": [
    "from sklearn.preprocessing import MinMaxScaler\n",
    "\n",
    "scaler_x = MinMaxScaler(feature_range=(0,1)).fit(X)\n",
    "X_scaled = pd.DataFrame(scaler_x.transform(X[X.columns]), columns = X.columns)"
   ]
  },
  {
   "cell_type": "code",
   "execution_count": 62,
   "id": "ffe0d61a-334d-4226-8179-4d5f77ae8fa3",
   "metadata": {
    "tags": []
   },
   "outputs": [
    {
     "data": {
      "text/html": [
       "<div>\n",
       "<style scoped>\n",
       "    .dataframe tbody tr th:only-of-type {\n",
       "        vertical-align: middle;\n",
       "    }\n",
       "\n",
       "    .dataframe tbody tr th {\n",
       "        vertical-align: top;\n",
       "    }\n",
       "\n",
       "    .dataframe thead th {\n",
       "        text-align: right;\n",
       "    }\n",
       "</style>\n",
       "<table border=\"1\" class=\"dataframe\">\n",
       "  <thead>\n",
       "    <tr style=\"text-align: right;\">\n",
       "      <th></th>\n",
       "      <th>pledged</th>\n",
       "      <th>backers</th>\n",
       "      <th>usd pledged</th>\n",
       "      <th>usd_pledged_real</th>\n",
       "    </tr>\n",
       "  </thead>\n",
       "  <tbody>\n",
       "    <tr>\n",
       "      <th>372978</th>\n",
       "      <td>125.0</td>\n",
       "      <td>2</td>\n",
       "      <td>125.0</td>\n",
       "      <td>125.0</td>\n",
       "    </tr>\n",
       "    <tr>\n",
       "      <th>372979</th>\n",
       "      <td>120.0</td>\n",
       "      <td>3</td>\n",
       "      <td>120.0</td>\n",
       "      <td>120.0</td>\n",
       "    </tr>\n",
       "    <tr>\n",
       "      <th>372980</th>\n",
       "      <td>0.0</td>\n",
       "      <td>0</td>\n",
       "      <td>0.0</td>\n",
       "      <td>0.0</td>\n",
       "    </tr>\n",
       "    <tr>\n",
       "      <th>372981</th>\n",
       "      <td>1502.0</td>\n",
       "      <td>12</td>\n",
       "      <td>1502.0</td>\n",
       "      <td>1502.0</td>\n",
       "    </tr>\n",
       "    <tr>\n",
       "      <th>372983</th>\n",
       "      <td>25.0</td>\n",
       "      <td>1</td>\n",
       "      <td>25.0</td>\n",
       "      <td>25.0</td>\n",
       "    </tr>\n",
       "  </tbody>\n",
       "</table>\n",
       "</div>"
      ],
      "text/plain": [
       "        pledged  backers  usd pledged  usd_pledged_real\n",
       "372978    125.0        2        125.0             125.0\n",
       "372979    120.0        3        120.0             120.0\n",
       "372980      0.0        0          0.0               0.0\n",
       "372981   1502.0       12       1502.0            1502.0\n",
       "372983     25.0        1         25.0              25.0"
      ]
     },
     "execution_count": 62,
     "metadata": {},
     "output_type": "execute_result"
    }
   ],
   "source": [
    "X.head()"
   ]
  },
  {
   "cell_type": "code",
   "execution_count": 63,
   "id": "72e87179-a044-4a8d-ab57-e2d12bc138df",
   "metadata": {
    "tags": []
   },
   "outputs": [
    {
     "data": {
      "text/html": [
       "<div>\n",
       "<style scoped>\n",
       "    .dataframe tbody tr th:only-of-type {\n",
       "        vertical-align: middle;\n",
       "    }\n",
       "\n",
       "    .dataframe tbody tr th {\n",
       "        vertical-align: top;\n",
       "    }\n",
       "\n",
       "    .dataframe thead th {\n",
       "        text-align: right;\n",
       "    }\n",
       "</style>\n",
       "<table border=\"1\" class=\"dataframe\">\n",
       "  <thead>\n",
       "    <tr style=\"text-align: right;\">\n",
       "      <th></th>\n",
       "      <th>pledged</th>\n",
       "      <th>backers</th>\n",
       "      <th>usd pledged</th>\n",
       "      <th>usd_pledged_real</th>\n",
       "    </tr>\n",
       "  </thead>\n",
       "  <tbody>\n",
       "    <tr>\n",
       "      <th>0</th>\n",
       "      <td>0.000040</td>\n",
       "      <td>0.000082</td>\n",
       "      <td>0.000040</td>\n",
       "      <td>0.000040</td>\n",
       "    </tr>\n",
       "    <tr>\n",
       "      <th>1</th>\n",
       "      <td>0.000038</td>\n",
       "      <td>0.000123</td>\n",
       "      <td>0.000038</td>\n",
       "      <td>0.000038</td>\n",
       "    </tr>\n",
       "    <tr>\n",
       "      <th>2</th>\n",
       "      <td>0.000000</td>\n",
       "      <td>0.000000</td>\n",
       "      <td>0.000000</td>\n",
       "      <td>0.000000</td>\n",
       "    </tr>\n",
       "    <tr>\n",
       "      <th>3</th>\n",
       "      <td>0.000480</td>\n",
       "      <td>0.000493</td>\n",
       "      <td>0.000480</td>\n",
       "      <td>0.000480</td>\n",
       "    </tr>\n",
       "    <tr>\n",
       "      <th>4</th>\n",
       "      <td>0.000008</td>\n",
       "      <td>0.000041</td>\n",
       "      <td>0.000008</td>\n",
       "      <td>0.000008</td>\n",
       "    </tr>\n",
       "  </tbody>\n",
       "</table>\n",
       "</div>"
      ],
      "text/plain": [
       "    pledged   backers  usd pledged  usd_pledged_real\n",
       "0  0.000040  0.000082     0.000040          0.000040\n",
       "1  0.000038  0.000123     0.000038          0.000038\n",
       "2  0.000000  0.000000     0.000000          0.000000\n",
       "3  0.000480  0.000493     0.000480          0.000480\n",
       "4  0.000008  0.000041     0.000008          0.000008"
      ]
     },
     "execution_count": 63,
     "metadata": {},
     "output_type": "execute_result"
    }
   ],
   "source": [
    "X_scaled.head()"
   ]
  },
  {
   "cell_type": "code",
   "execution_count": 64,
   "id": "055e2c16-9211-452f-bcbb-ccda8f072c1b",
   "metadata": {
    "tags": []
   },
   "outputs": [],
   "source": [
    "X_train, X_test, y_train, y_test = train_test_split(X_scaled,y,test_size=0.2,random_state=2022)"
   ]
  },
  {
   "cell_type": "code",
   "execution_count": 53,
   "id": "a8942302",
   "metadata": {
    "tags": []
   },
   "outputs": [],
   "source": [
    "optimizer = ['SGD', 'RMSprop', 'Adagrad']\n",
    "param_grid = dict(optimizer = optimizer)"
   ]
  },
  {
   "cell_type": "code",
   "execution_count": 54,
   "id": "58624944",
   "metadata": {
    "tags": []
   },
   "outputs": [],
   "source": [
    "kf = KFold(n_splits = 5, shuffle = True, random_state = 2021)"
   ]
  },
  {
   "cell_type": "code",
   "execution_count": 58,
   "id": "44998f40",
   "metadata": {
    "tags": []
   },
   "outputs": [],
   "source": [
    "build_model = build_model()\n",
    "model = KerasRegressor(model = build_model, batch_size = 32, validation_split = 0.2, epochs = 20)"
   ]
  },
  {
   "cell_type": "code",
   "execution_count": 59,
   "id": "d5e17b07",
   "metadata": {
    "tags": []
   },
   "outputs": [
    {
     "name": "stderr",
     "output_type": "stream",
     "text": [
      "WARNING:absl:Found untraced functions such as _update_step_xla while saving (showing 1 of 1). These functions will not be directly callable after loading.\n"
     ]
    },
    {
     "name": "stdout",
     "output_type": "stream",
     "text": [
      "INFO:tensorflow:Assets written to: ram://8010b5ce16ed4f1b9c8d2134d12c2425/assets\n"
     ]
    },
    {
     "name": "stderr",
     "output_type": "stream",
     "text": [
      "INFO:tensorflow:Assets written to: ram://8010b5ce16ed4f1b9c8d2134d12c2425/assets\n",
      "2023-12-17 15:59:43.276488: W tensorflow/core/util/tensor_slice_reader.cc:97] Could not open ram://d3c41c6ca99348219c786f48fa76e6da: INVALID_ARGUMENT: ram://d3c41c6ca99348219c786f48fa76e6da is a directory.\n"
     ]
    },
    {
     "name": "stdout",
     "output_type": "stream",
     "text": [
      "Fitting 5 folds for each of 3 candidates, totalling 15 fits\n"
     ]
    },
    {
     "name": "stderr",
     "output_type": "stream",
     "text": [
      "WARNING:absl:Found untraced functions such as _update_step_xla while saving (showing 1 of 1). These functions will not be directly callable after loading.\n"
     ]
    },
    {
     "name": "stdout",
     "output_type": "stream",
     "text": [
      "INFO:tensorflow:Assets written to: ram://c5b47a9e1980454099a3128fb5601343/assets\n"
     ]
    },
    {
     "name": "stderr",
     "output_type": "stream",
     "text": [
      "INFO:tensorflow:Assets written to: ram://c5b47a9e1980454099a3128fb5601343/assets\n"
     ]
    },
    {
     "name": "stdout",
     "output_type": "stream",
     "text": [
      "Epoch 1/20\n"
     ]
    },
    {
     "name": "stderr",
     "output_type": "stream",
     "text": [
      "2023-12-17 15:59:44.167722: W tensorflow/core/util/tensor_slice_reader.cc:97] Could not open ram://6090972d41a64793a7d2d28caadc925c: INVALID_ARGUMENT: ram://6090972d41a64793a7d2d28caadc925c is a directory.\n"
     ]
    },
    {
     "name": "stdout",
     "output_type": "stream",
     "text": [
      "80/80 [==============================] - 1s 6ms/step - loss: 0.4016 - mae: 0.4016 - mse: 0.4016 - val_loss: 0.4156 - val_mae: 0.4156 - val_mse: 0.4156\n",
      "Epoch 2/20\n",
      "80/80 [==============================] - 0s 6ms/step - loss: 0.4016 - mae: 0.4016 - mse: 0.4016 - val_loss: 0.4156 - val_mae: 0.4156 - val_mse: 0.4156\n",
      "Epoch 3/20\n",
      "80/80 [==============================] - 0s 5ms/step - loss: 0.4016 - mae: 0.4016 - mse: 0.4016 - val_loss: 0.4156 - val_mae: 0.4156 - val_mse: 0.4156\n",
      "Epoch 4/20\n",
      "80/80 [==============================] - 0s 5ms/step - loss: 0.4016 - mae: 0.4016 - mse: 0.4016 - val_loss: 0.4156 - val_mae: 0.4156 - val_mse: 0.4156\n",
      "Epoch 5/20\n",
      "80/80 [==============================] - 0s 6ms/step - loss: 0.4016 - mae: 0.4016 - mse: 0.4016 - val_loss: 0.4156 - val_mae: 0.4156 - val_mse: 0.4156\n",
      "Epoch 6/20\n",
      "80/80 [==============================] - 1s 7ms/step - loss: 0.4016 - mae: 0.4016 - mse: 0.4016 - val_loss: 0.4156 - val_mae: 0.4156 - val_mse: 0.4156\n",
      "Epoch 7/20\n",
      "80/80 [==============================] - 1s 7ms/step - loss: 0.4016 - mae: 0.4016 - mse: 0.4016 - val_loss: 0.4156 - val_mae: 0.4156 - val_mse: 0.4156\n",
      "Epoch 8/20\n",
      "80/80 [==============================] - 1s 7ms/step - loss: 0.4016 - mae: 0.4016 - mse: 0.4016 - val_loss: 0.4156 - val_mae: 0.4156 - val_mse: 0.4156\n",
      "Epoch 9/20\n",
      "80/80 [==============================] - 0s 5ms/step - loss: 0.4016 - mae: 0.4016 - mse: 0.4016 - val_loss: 0.4156 - val_mae: 0.4156 - val_mse: 0.4156\n",
      "Epoch 10/20\n",
      "80/80 [==============================] - 1s 7ms/step - loss: 0.4016 - mae: 0.4016 - mse: 0.4016 - val_loss: 0.4156 - val_mae: 0.4156 - val_mse: 0.4156\n",
      "Epoch 11/20\n",
      "80/80 [==============================] - 1s 7ms/step - loss: 0.4016 - mae: 0.4016 - mse: 0.4016 - val_loss: 0.4156 - val_mae: 0.4156 - val_mse: 0.4156\n",
      "Epoch 12/20\n",
      "80/80 [==============================] - 1s 8ms/step - loss: 0.4016 - mae: 0.4016 - mse: 0.4016 - val_loss: 0.4156 - val_mae: 0.4156 - val_mse: 0.4156\n",
      "Epoch 13/20\n",
      "80/80 [==============================] - 1s 7ms/step - loss: 0.4016 - mae: 0.4016 - mse: 0.4016 - val_loss: 0.4156 - val_mae: 0.4156 - val_mse: 0.4156\n",
      "Epoch 14/20\n",
      "80/80 [==============================] - 0s 6ms/step - loss: 0.4016 - mae: 0.4016 - mse: 0.4016 - val_loss: 0.4156 - val_mae: 0.4156 - val_mse: 0.4156\n",
      "Epoch 15/20\n",
      "80/80 [==============================] - 1s 8ms/step - loss: 0.4016 - mae: 0.4016 - mse: 0.4016 - val_loss: 0.4156 - val_mae: 0.4156 - val_mse: 0.4156\n",
      "Epoch 16/20\n",
      "80/80 [==============================] - 1s 8ms/step - loss: 0.4016 - mae: 0.4016 - mse: 0.4016 - val_loss: 0.4156 - val_mae: 0.4156 - val_mse: 0.4156\n",
      "Epoch 17/20\n",
      "80/80 [==============================] - 1s 7ms/step - loss: 0.4016 - mae: 0.4016 - mse: 0.4016 - val_loss: 0.4156 - val_mae: 0.4156 - val_mse: 0.4156\n",
      "Epoch 18/20\n",
      "80/80 [==============================] - 1s 10ms/step - loss: 0.4016 - mae: 0.4016 - mse: 0.4016 - val_loss: 0.4156 - val_mae: 0.4156 - val_mse: 0.4156\n",
      "Epoch 19/20\n",
      "80/80 [==============================] - 1s 8ms/step - loss: 0.4016 - mae: 0.4016 - mse: 0.4016 - val_loss: 0.4156 - val_mae: 0.4156 - val_mse: 0.4156\n",
      "Epoch 20/20\n",
      "80/80 [==============================] - 1s 8ms/step - loss: 0.4016 - mae: 0.4016 - mse: 0.4016 - val_loss: 0.4156 - val_mae: 0.4156 - val_mse: 0.4156\n",
      "25/25 [==============================] - 0s 7ms/step\n"
     ]
    },
    {
     "name": "stderr",
     "output_type": "stream",
     "text": [
      "WARNING:absl:Found untraced functions such as _update_step_xla while saving (showing 1 of 1). These functions will not be directly callable after loading.\n"
     ]
    },
    {
     "name": "stdout",
     "output_type": "stream",
     "text": [
      "INFO:tensorflow:Assets written to: ram://9f27f35eb0aa404587de851fed2a122d/assets\n"
     ]
    },
    {
     "name": "stderr",
     "output_type": "stream",
     "text": [
      "INFO:tensorflow:Assets written to: ram://9f27f35eb0aa404587de851fed2a122d/assets\n"
     ]
    },
    {
     "name": "stdout",
     "output_type": "stream",
     "text": [
      "Epoch 1/20\n"
     ]
    },
    {
     "name": "stderr",
     "output_type": "stream",
     "text": [
      "2023-12-17 15:59:56.985725: W tensorflow/core/util/tensor_slice_reader.cc:97] Could not open ram://76972de55e1e4d5a8d5cd12c2cf9287a: INVALID_ARGUMENT: ram://76972de55e1e4d5a8d5cd12c2cf9287a is a directory.\n"
     ]
    },
    {
     "name": "stdout",
     "output_type": "stream",
     "text": [
      "80/80 [==============================] - 1s 8ms/step - loss: 0.4074 - mae: 0.4074 - mse: 0.4074 - val_loss: 0.4141 - val_mae: 0.4141 - val_mse: 0.4141\n",
      "Epoch 2/20\n",
      "80/80 [==============================] - 1s 7ms/step - loss: 0.4074 - mae: 0.4074 - mse: 0.4074 - val_loss: 0.4141 - val_mae: 0.4141 - val_mse: 0.4141\n",
      "Epoch 3/20\n",
      "80/80 [==============================] - 1s 7ms/step - loss: 0.4074 - mae: 0.4074 - mse: 0.4074 - val_loss: 0.4141 - val_mae: 0.4141 - val_mse: 0.4141\n",
      "Epoch 4/20\n",
      "80/80 [==============================] - 1s 10ms/step - loss: 0.4074 - mae: 0.4074 - mse: 0.4074 - val_loss: 0.4141 - val_mae: 0.4141 - val_mse: 0.4141\n",
      "Epoch 5/20\n",
      "80/80 [==============================] - 1s 7ms/step - loss: 0.4074 - mae: 0.4074 - mse: 0.4074 - val_loss: 0.4141 - val_mae: 0.4141 - val_mse: 0.4141\n",
      "Epoch 6/20\n",
      "80/80 [==============================] - 1s 9ms/step - loss: 0.4074 - mae: 0.4074 - mse: 0.4074 - val_loss: 0.4141 - val_mae: 0.4141 - val_mse: 0.4141\n",
      "Epoch 7/20\n",
      "80/80 [==============================] - 1s 8ms/step - loss: 0.4074 - mae: 0.4074 - mse: 0.4074 - val_loss: 0.4141 - val_mae: 0.4141 - val_mse: 0.4141\n",
      "Epoch 8/20\n",
      "80/80 [==============================] - 0s 6ms/step - loss: 0.4074 - mae: 0.4074 - mse: 0.4074 - val_loss: 0.4141 - val_mae: 0.4141 - val_mse: 0.4141\n",
      "Epoch 9/20\n",
      "80/80 [==============================] - 1s 7ms/step - loss: 0.4074 - mae: 0.4074 - mse: 0.4074 - val_loss: 0.4141 - val_mae: 0.4141 - val_mse: 0.4141\n",
      "Epoch 10/20\n",
      "80/80 [==============================] - 0s 6ms/step - loss: 0.4074 - mae: 0.4074 - mse: 0.4074 - val_loss: 0.4141 - val_mae: 0.4141 - val_mse: 0.4141\n",
      "Epoch 11/20\n",
      "80/80 [==============================] - 0s 6ms/step - loss: 0.4074 - mae: 0.4074 - mse: 0.4074 - val_loss: 0.4141 - val_mae: 0.4141 - val_mse: 0.4141\n",
      "Epoch 12/20\n",
      "80/80 [==============================] - 1s 7ms/step - loss: 0.4074 - mae: 0.4074 - mse: 0.4074 - val_loss: 0.4141 - val_mae: 0.4141 - val_mse: 0.4141\n",
      "Epoch 13/20\n",
      "80/80 [==============================] - 1s 10ms/step - loss: 0.4074 - mae: 0.4074 - mse: 0.4074 - val_loss: 0.4141 - val_mae: 0.4141 - val_mse: 0.4141\n",
      "Epoch 14/20\n",
      "80/80 [==============================] - 1s 9ms/step - loss: 0.4074 - mae: 0.4074 - mse: 0.4074 - val_loss: 0.4141 - val_mae: 0.4141 - val_mse: 0.4141\n",
      "Epoch 15/20\n",
      "80/80 [==============================] - 1s 7ms/step - loss: 0.4074 - mae: 0.4074 - mse: 0.4074 - val_loss: 0.4141 - val_mae: 0.4141 - val_mse: 0.4141\n",
      "Epoch 16/20\n",
      "80/80 [==============================] - 1s 7ms/step - loss: 0.4074 - mae: 0.4074 - mse: 0.4074 - val_loss: 0.4141 - val_mae: 0.4141 - val_mse: 0.4141\n",
      "Epoch 17/20\n",
      "80/80 [==============================] - 0s 6ms/step - loss: 0.4074 - mae: 0.4074 - mse: 0.4074 - val_loss: 0.4141 - val_mae: 0.4141 - val_mse: 0.4141\n",
      "Epoch 18/20\n",
      "80/80 [==============================] - 1s 7ms/step - loss: 0.4074 - mae: 0.4074 - mse: 0.4074 - val_loss: 0.4141 - val_mae: 0.4141 - val_mse: 0.4141\n",
      "Epoch 19/20\n",
      "80/80 [==============================] - 1s 8ms/step - loss: 0.4074 - mae: 0.4074 - mse: 0.4074 - val_loss: 0.4141 - val_mae: 0.4141 - val_mse: 0.4141\n",
      "Epoch 20/20\n",
      "80/80 [==============================] - 0s 4ms/step - loss: 0.4074 - mae: 0.4074 - mse: 0.4074 - val_loss: 0.4141 - val_mae: 0.4141 - val_mse: 0.4141\n",
      "25/25 [==============================] - 0s 4ms/step\n"
     ]
    },
    {
     "name": "stderr",
     "output_type": "stream",
     "text": [
      "WARNING:absl:Found untraced functions such as _update_step_xla while saving (showing 1 of 1). These functions will not be directly callable after loading.\n"
     ]
    },
    {
     "name": "stdout",
     "output_type": "stream",
     "text": [
      "INFO:tensorflow:Assets written to: ram://88ce28476c1b4a61895770731e652fad/assets\n"
     ]
    },
    {
     "name": "stderr",
     "output_type": "stream",
     "text": [
      "INFO:tensorflow:Assets written to: ram://88ce28476c1b4a61895770731e652fad/assets\n"
     ]
    },
    {
     "name": "stdout",
     "output_type": "stream",
     "text": [
      "Epoch 1/20\n"
     ]
    },
    {
     "name": "stderr",
     "output_type": "stream",
     "text": [
      "2023-12-17 16:00:10.573715: W tensorflow/core/util/tensor_slice_reader.cc:97] Could not open ram://c33fe8c1e529452582fd0610c6e650a8: INVALID_ARGUMENT: ram://c33fe8c1e529452582fd0610c6e650a8 is a directory.\n"
     ]
    },
    {
     "name": "stdout",
     "output_type": "stream",
     "text": [
      "80/80 [==============================] - 1s 8ms/step - loss: 0.4020 - mae: 0.4020 - mse: 0.4020 - val_loss: 0.4187 - val_mae: 0.4187 - val_mse: 0.4187\n",
      "Epoch 2/20\n",
      "80/80 [==============================] - 1s 8ms/step - loss: 0.4020 - mae: 0.4020 - mse: 0.4020 - val_loss: 0.4187 - val_mae: 0.4187 - val_mse: 0.4187\n",
      "Epoch 3/20\n",
      "80/80 [==============================] - 1s 8ms/step - loss: 0.4020 - mae: 0.4020 - mse: 0.4020 - val_loss: 0.4187 - val_mae: 0.4187 - val_mse: 0.4187\n",
      "Epoch 4/20\n",
      "80/80 [==============================] - 0s 6ms/step - loss: 0.4020 - mae: 0.4020 - mse: 0.4020 - val_loss: 0.4187 - val_mae: 0.4187 - val_mse: 0.4187\n",
      "Epoch 5/20\n",
      "80/80 [==============================] - 1s 6ms/step - loss: 0.4020 - mae: 0.4020 - mse: 0.4020 - val_loss: 0.4187 - val_mae: 0.4187 - val_mse: 0.4187\n",
      "Epoch 6/20\n",
      "80/80 [==============================] - 1s 6ms/step - loss: 0.4020 - mae: 0.4020 - mse: 0.4020 - val_loss: 0.4187 - val_mae: 0.4187 - val_mse: 0.4187\n",
      "Epoch 7/20\n",
      "80/80 [==============================] - 0s 6ms/step - loss: 0.4020 - mae: 0.4020 - mse: 0.4020 - val_loss: 0.4187 - val_mae: 0.4187 - val_mse: 0.4187\n",
      "Epoch 8/20\n",
      "80/80 [==============================] - 0s 6ms/step - loss: 0.4020 - mae: 0.4020 - mse: 0.4020 - val_loss: 0.4187 - val_mae: 0.4187 - val_mse: 0.4187\n",
      "Epoch 9/20\n",
      "80/80 [==============================] - 1s 8ms/step - loss: 0.4020 - mae: 0.4020 - mse: 0.4020 - val_loss: 0.4187 - val_mae: 0.4187 - val_mse: 0.4187\n",
      "Epoch 10/20\n",
      "80/80 [==============================] - 1s 7ms/step - loss: 0.4020 - mae: 0.4020 - mse: 0.4020 - val_loss: 0.4187 - val_mae: 0.4187 - val_mse: 0.4187\n",
      "Epoch 11/20\n",
      "80/80 [==============================] - 0s 6ms/step - loss: 0.4020 - mae: 0.4020 - mse: 0.4020 - val_loss: 0.4187 - val_mae: 0.4187 - val_mse: 0.4187\n",
      "Epoch 12/20\n",
      "80/80 [==============================] - 0s 6ms/step - loss: 0.4020 - mae: 0.4020 - mse: 0.4020 - val_loss: 0.4187 - val_mae: 0.4187 - val_mse: 0.4187\n",
      "Epoch 13/20\n",
      "80/80 [==============================] - 1s 6ms/step - loss: 0.4020 - mae: 0.4020 - mse: 0.4020 - val_loss: 0.4187 - val_mae: 0.4187 - val_mse: 0.4187\n",
      "Epoch 14/20\n",
      "80/80 [==============================] - 1s 7ms/step - loss: 0.4020 - mae: 0.4020 - mse: 0.4020 - val_loss: 0.4187 - val_mae: 0.4187 - val_mse: 0.4187\n",
      "Epoch 15/20\n",
      "80/80 [==============================] - 1s 7ms/step - loss: 0.4020 - mae: 0.4020 - mse: 0.4020 - val_loss: 0.4187 - val_mae: 0.4187 - val_mse: 0.4187\n",
      "Epoch 16/20\n",
      "80/80 [==============================] - 0s 6ms/step - loss: 0.4020 - mae: 0.4020 - mse: 0.4020 - val_loss: 0.4187 - val_mae: 0.4187 - val_mse: 0.4187\n",
      "Epoch 17/20\n",
      "80/80 [==============================] - 1s 9ms/step - loss: 0.4020 - mae: 0.4020 - mse: 0.4020 - val_loss: 0.4187 - val_mae: 0.4187 - val_mse: 0.4187\n",
      "Epoch 18/20\n",
      "80/80 [==============================] - 1s 8ms/step - loss: 0.4020 - mae: 0.4020 - mse: 0.4020 - val_loss: 0.4187 - val_mae: 0.4187 - val_mse: 0.4187\n",
      "Epoch 19/20\n",
      "80/80 [==============================] - 1s 10ms/step - loss: 0.4020 - mae: 0.4020 - mse: 0.4020 - val_loss: 0.4187 - val_mae: 0.4187 - val_mse: 0.4187\n",
      "Epoch 20/20\n",
      "80/80 [==============================] - 1s 9ms/step - loss: 0.4020 - mae: 0.4020 - mse: 0.4020 - val_loss: 0.4187 - val_mae: 0.4187 - val_mse: 0.4187\n",
      "25/25 [==============================] - 0s 3ms/step\n"
     ]
    },
    {
     "name": "stderr",
     "output_type": "stream",
     "text": [
      "WARNING:absl:Found untraced functions such as _update_step_xla while saving (showing 1 of 1). These functions will not be directly callable after loading.\n"
     ]
    },
    {
     "name": "stdout",
     "output_type": "stream",
     "text": [
      "INFO:tensorflow:Assets written to: ram://e54de54649c24a098918f71f175ee658/assets\n"
     ]
    },
    {
     "name": "stderr",
     "output_type": "stream",
     "text": [
      "INFO:tensorflow:Assets written to: ram://e54de54649c24a098918f71f175ee658/assets\n"
     ]
    },
    {
     "name": "stdout",
     "output_type": "stream",
     "text": [
      "Epoch 1/20\n"
     ]
    },
    {
     "name": "stderr",
     "output_type": "stream",
     "text": [
      "2023-12-17 16:00:32.412903: W tensorflow/core/util/tensor_slice_reader.cc:97] Could not open ram://89814a9e4efd4d69af6f36347ad9e4b9: INVALID_ARGUMENT: ram://89814a9e4efd4d69af6f36347ad9e4b9 is a directory.\n"
     ]
    },
    {
     "name": "stdout",
     "output_type": "stream",
     "text": [
      "80/80 [==============================] - 1s 8ms/step - loss: 0.3953 - mae: 0.3953 - mse: 0.3953 - val_loss: 0.4406 - val_mae: 0.4406 - val_mse: 0.4406\n",
      "Epoch 2/20\n",
      "80/80 [==============================] - 1s 7ms/step - loss: 0.3953 - mae: 0.3953 - mse: 0.3953 - val_loss: 0.4406 - val_mae: 0.4406 - val_mse: 0.4406\n",
      "Epoch 3/20\n",
      "80/80 [==============================] - 1s 7ms/step - loss: 0.3953 - mae: 0.3953 - mse: 0.3953 - val_loss: 0.4406 - val_mae: 0.4406 - val_mse: 0.4406\n",
      "Epoch 4/20\n",
      "80/80 [==============================] - 0s 5ms/step - loss: 0.3953 - mae: 0.3953 - mse: 0.3953 - val_loss: 0.4406 - val_mae: 0.4406 - val_mse: 0.4406\n",
      "Epoch 5/20\n",
      "80/80 [==============================] - 0s 5ms/step - loss: 0.3953 - mae: 0.3953 - mse: 0.3953 - val_loss: 0.4406 - val_mae: 0.4406 - val_mse: 0.4406\n",
      "Epoch 6/20\n",
      "80/80 [==============================] - 1s 6ms/step - loss: 0.3953 - mae: 0.3953 - mse: 0.3953 - val_loss: 0.4406 - val_mae: 0.4406 - val_mse: 0.4406\n",
      "Epoch 7/20\n",
      "80/80 [==============================] - 0s 5ms/step - loss: 0.3953 - mae: 0.3953 - mse: 0.3953 - val_loss: 0.4406 - val_mae: 0.4406 - val_mse: 0.4406\n",
      "Epoch 8/20\n",
      "80/80 [==============================] - 0s 6ms/step - loss: 0.3953 - mae: 0.3953 - mse: 0.3953 - val_loss: 0.4406 - val_mae: 0.4406 - val_mse: 0.4406\n",
      "Epoch 9/20\n",
      "80/80 [==============================] - 1s 6ms/step - loss: 0.3953 - mae: 0.3953 - mse: 0.3953 - val_loss: 0.4406 - val_mae: 0.4406 - val_mse: 0.4406\n",
      "Epoch 10/20\n",
      "80/80 [==============================] - 0s 5ms/step - loss: 0.3953 - mae: 0.3953 - mse: 0.3953 - val_loss: 0.4406 - val_mae: 0.4406 - val_mse: 0.4406\n",
      "Epoch 11/20\n",
      "80/80 [==============================] - 0s 6ms/step - loss: 0.3953 - mae: 0.3953 - mse: 0.3953 - val_loss: 0.4406 - val_mae: 0.4406 - val_mse: 0.4406\n",
      "Epoch 12/20\n",
      "80/80 [==============================] - 0s 6ms/step - loss: 0.3953 - mae: 0.3953 - mse: 0.3953 - val_loss: 0.4406 - val_mae: 0.4406 - val_mse: 0.4406\n",
      "Epoch 13/20\n",
      "80/80 [==============================] - 1s 6ms/step - loss: 0.3953 - mae: 0.3953 - mse: 0.3953 - val_loss: 0.4406 - val_mae: 0.4406 - val_mse: 0.4406\n",
      "Epoch 14/20\n",
      "80/80 [==============================] - 0s 6ms/step - loss: 0.3953 - mae: 0.3953 - mse: 0.3953 - val_loss: 0.4406 - val_mae: 0.4406 - val_mse: 0.4406\n",
      "Epoch 15/20\n",
      "80/80 [==============================] - 1s 8ms/step - loss: 0.3953 - mae: 0.3953 - mse: 0.3953 - val_loss: 0.4406 - val_mae: 0.4406 - val_mse: 0.4406\n",
      "Epoch 16/20\n",
      "80/80 [==============================] - 1s 13ms/step - loss: 0.3953 - mae: 0.3953 - mse: 0.3953 - val_loss: 0.4406 - val_mae: 0.4406 - val_mse: 0.4406\n",
      "Epoch 17/20\n",
      "80/80 [==============================] - 1s 8ms/step - loss: 0.3953 - mae: 0.3953 - mse: 0.3953 - val_loss: 0.4406 - val_mae: 0.4406 - val_mse: 0.4406\n",
      "Epoch 18/20\n",
      "80/80 [==============================] - 1s 9ms/step - loss: 0.3953 - mae: 0.3953 - mse: 0.3953 - val_loss: 0.4406 - val_mae: 0.4406 - val_mse: 0.4406\n",
      "Epoch 19/20\n",
      "80/80 [==============================] - 1s 7ms/step - loss: 0.3953 - mae: 0.3953 - mse: 0.3953 - val_loss: 0.4406 - val_mae: 0.4406 - val_mse: 0.4406\n",
      "Epoch 20/20\n",
      "80/80 [==============================] - 1s 9ms/step - loss: 0.3953 - mae: 0.3953 - mse: 0.3953 - val_loss: 0.4406 - val_mae: 0.4406 - val_mse: 0.4406\n",
      "25/25 [==============================] - 0s 3ms/step\n"
     ]
    },
    {
     "name": "stderr",
     "output_type": "stream",
     "text": [
      "WARNING:absl:Found untraced functions such as _update_step_xla while saving (showing 1 of 1). These functions will not be directly callable after loading.\n"
     ]
    },
    {
     "name": "stdout",
     "output_type": "stream",
     "text": [
      "INFO:tensorflow:Assets written to: ram://44c99d624c1d4e37b724cbe83258423c/assets\n"
     ]
    },
    {
     "name": "stderr",
     "output_type": "stream",
     "text": [
      "INFO:tensorflow:Assets written to: ram://44c99d624c1d4e37b724cbe83258423c/assets\n"
     ]
    },
    {
     "name": "stdout",
     "output_type": "stream",
     "text": [
      "Epoch 1/20\n"
     ]
    },
    {
     "name": "stderr",
     "output_type": "stream",
     "text": [
      "2023-12-17 16:00:45.133104: W tensorflow/core/util/tensor_slice_reader.cc:97] Could not open ram://e1bb1e1ad8e5414a9764e5cba30e4e64: INVALID_ARGUMENT: ram://e1bb1e1ad8e5414a9764e5cba30e4e64 is a directory.\n"
     ]
    },
    {
     "name": "stdout",
     "output_type": "stream",
     "text": [
      "75/80 [===========================>..] - ETA: 0s - loss: 0.4033 - mae: 0.4033 - mse: 0.4033WARNING:tensorflow:Detecting that an object or model or tf.train.Checkpoint is being deleted with unrestored values. See the following logs for the specific values in question. To silence these warnings, use `status.expect_partial()`. See https://www.tensorflow.org/api_docs/python/tf/train/Checkpoint#restorefor details about the status object returned by the restore function.\n"
     ]
    },
    {
     "name": "stderr",
     "output_type": "stream",
     "text": [
      "WARNING:tensorflow:Detecting that an object or model or tf.train.Checkpoint is being deleted with unrestored values. See the following logs for the specific values in question. To silence these warnings, use `status.expect_partial()`. See https://www.tensorflow.org/api_docs/python/tf/train/Checkpoint#restorefor details about the status object returned by the restore function.\n"
     ]
    },
    {
     "name": "stdout",
     "output_type": "stream",
     "text": [
      "WARNING:tensorflow:Value in checkpoint could not be found in the restored object: (root).keras_api.metrics.0.total\n"
     ]
    },
    {
     "name": "stderr",
     "output_type": "stream",
     "text": [
      "WARNING:tensorflow:Value in checkpoint could not be found in the restored object: (root).keras_api.metrics.0.total\n"
     ]
    },
    {
     "name": "stdout",
     "output_type": "stream",
     "text": [
      "WARNING:tensorflow:Value in checkpoint could not be found in the restored object: (root).keras_api.metrics.0.count\n"
     ]
    },
    {
     "name": "stderr",
     "output_type": "stream",
     "text": [
      "WARNING:tensorflow:Value in checkpoint could not be found in the restored object: (root).keras_api.metrics.0.count\n"
     ]
    },
    {
     "name": "stdout",
     "output_type": "stream",
     "text": [
      "WARNING:tensorflow:Value in checkpoint could not be found in the restored object: (root).keras_api.metrics.1.total\n"
     ]
    },
    {
     "name": "stderr",
     "output_type": "stream",
     "text": [
      "WARNING:tensorflow:Value in checkpoint could not be found in the restored object: (root).keras_api.metrics.1.total\n"
     ]
    },
    {
     "name": "stdout",
     "output_type": "stream",
     "text": [
      "WARNING:tensorflow:Value in checkpoint could not be found in the restored object: (root).keras_api.metrics.1.count\n"
     ]
    },
    {
     "name": "stderr",
     "output_type": "stream",
     "text": [
      "WARNING:tensorflow:Value in checkpoint could not be found in the restored object: (root).keras_api.metrics.1.count\n"
     ]
    },
    {
     "name": "stdout",
     "output_type": "stream",
     "text": [
      "WARNING:tensorflow:Value in checkpoint could not be found in the restored object: (root).keras_api.metrics.2.total\n"
     ]
    },
    {
     "name": "stderr",
     "output_type": "stream",
     "text": [
      "WARNING:tensorflow:Value in checkpoint could not be found in the restored object: (root).keras_api.metrics.2.total\n"
     ]
    },
    {
     "name": "stdout",
     "output_type": "stream",
     "text": [
      "WARNING:tensorflow:Value in checkpoint could not be found in the restored object: (root).keras_api.metrics.2.count\n"
     ]
    },
    {
     "name": "stderr",
     "output_type": "stream",
     "text": [
      "WARNING:tensorflow:Value in checkpoint could not be found in the restored object: (root).keras_api.metrics.2.count\n"
     ]
    },
    {
     "name": "stdout",
     "output_type": "stream",
     "text": [
      "WARNING:tensorflow:Detecting that an object or model or tf.train.Checkpoint is being deleted with unrestored values. See the following logs for the specific values in question. To silence these warnings, use `status.expect_partial()`. See https://www.tensorflow.org/api_docs/python/tf/train/Checkpoint#restorefor details about the status object returned by the restore function.\n"
     ]
    },
    {
     "name": "stderr",
     "output_type": "stream",
     "text": [
      "WARNING:tensorflow:Detecting that an object or model or tf.train.Checkpoint is being deleted with unrestored values. See the following logs for the specific values in question. To silence these warnings, use `status.expect_partial()`. See https://www.tensorflow.org/api_docs/python/tf/train/Checkpoint#restorefor details about the status object returned by the restore function.\n"
     ]
    },
    {
     "name": "stdout",
     "output_type": "stream",
     "text": [
      "WARNING:tensorflow:Value in checkpoint could not be found in the restored object: (root).keras_api.metrics.0.total\n"
     ]
    },
    {
     "name": "stderr",
     "output_type": "stream",
     "text": [
      "WARNING:tensorflow:Value in checkpoint could not be found in the restored object: (root).keras_api.metrics.0.total\n"
     ]
    },
    {
     "name": "stdout",
     "output_type": "stream",
     "text": [
      "WARNING:tensorflow:Value in checkpoint could not be found in the restored object: (root).keras_api.metrics.0.count\n"
     ]
    },
    {
     "name": "stderr",
     "output_type": "stream",
     "text": [
      "WARNING:tensorflow:Value in checkpoint could not be found in the restored object: (root).keras_api.metrics.0.count\n"
     ]
    },
    {
     "name": "stdout",
     "output_type": "stream",
     "text": [
      "WARNING:tensorflow:Value in checkpoint could not be found in the restored object: (root).keras_api.metrics.1.total\n"
     ]
    },
    {
     "name": "stderr",
     "output_type": "stream",
     "text": [
      "WARNING:tensorflow:Value in checkpoint could not be found in the restored object: (root).keras_api.metrics.1.total\n"
     ]
    },
    {
     "name": "stdout",
     "output_type": "stream",
     "text": [
      "WARNING:tensorflow:Value in checkpoint could not be found in the restored object: (root).keras_api.metrics.1.count\n"
     ]
    },
    {
     "name": "stderr",
     "output_type": "stream",
     "text": [
      "WARNING:tensorflow:Value in checkpoint could not be found in the restored object: (root).keras_api.metrics.1.count\n"
     ]
    },
    {
     "name": "stdout",
     "output_type": "stream",
     "text": [
      "WARNING:tensorflow:Value in checkpoint could not be found in the restored object: (root).keras_api.metrics.2.total\n"
     ]
    },
    {
     "name": "stderr",
     "output_type": "stream",
     "text": [
      "WARNING:tensorflow:Value in checkpoint could not be found in the restored object: (root).keras_api.metrics.2.total\n"
     ]
    },
    {
     "name": "stdout",
     "output_type": "stream",
     "text": [
      "WARNING:tensorflow:Value in checkpoint could not be found in the restored object: (root).keras_api.metrics.2.count\n"
     ]
    },
    {
     "name": "stderr",
     "output_type": "stream",
     "text": [
      "WARNING:tensorflow:Value in checkpoint could not be found in the restored object: (root).keras_api.metrics.2.count\n"
     ]
    },
    {
     "name": "stdout",
     "output_type": "stream",
     "text": [
      "WARNING:tensorflow:Detecting that an object or model or tf.train.Checkpoint is being deleted with unrestored values. See the following logs for the specific values in question. To silence these warnings, use `status.expect_partial()`. See https://www.tensorflow.org/api_docs/python/tf/train/Checkpoint#restorefor details about the status object returned by the restore function.\n"
     ]
    },
    {
     "name": "stderr",
     "output_type": "stream",
     "text": [
      "WARNING:tensorflow:Detecting that an object or model or tf.train.Checkpoint is being deleted with unrestored values. See the following logs for the specific values in question. To silence these warnings, use `status.expect_partial()`. See https://www.tensorflow.org/api_docs/python/tf/train/Checkpoint#restorefor details about the status object returned by the restore function.\n"
     ]
    },
    {
     "name": "stdout",
     "output_type": "stream",
     "text": [
      "WARNING:tensorflow:Value in checkpoint could not be found in the restored object: (root).keras_api.metrics.0.total\n"
     ]
    },
    {
     "name": "stderr",
     "output_type": "stream",
     "text": [
      "WARNING:tensorflow:Value in checkpoint could not be found in the restored object: (root).keras_api.metrics.0.total\n"
     ]
    },
    {
     "name": "stdout",
     "output_type": "stream",
     "text": [
      "WARNING:tensorflow:Value in checkpoint could not be found in the restored object: (root).keras_api.metrics.0.count\n"
     ]
    },
    {
     "name": "stderr",
     "output_type": "stream",
     "text": [
      "WARNING:tensorflow:Value in checkpoint could not be found in the restored object: (root).keras_api.metrics.0.count\n"
     ]
    },
    {
     "name": "stdout",
     "output_type": "stream",
     "text": [
      "WARNING:tensorflow:Value in checkpoint could not be found in the restored object: (root).keras_api.metrics.1.total\n"
     ]
    },
    {
     "name": "stderr",
     "output_type": "stream",
     "text": [
      "WARNING:tensorflow:Value in checkpoint could not be found in the restored object: (root).keras_api.metrics.1.total\n"
     ]
    },
    {
     "name": "stdout",
     "output_type": "stream",
     "text": [
      "WARNING:tensorflow:Value in checkpoint could not be found in the restored object: (root).keras_api.metrics.1.count\n"
     ]
    },
    {
     "name": "stderr",
     "output_type": "stream",
     "text": [
      "WARNING:tensorflow:Value in checkpoint could not be found in the restored object: (root).keras_api.metrics.1.count\n"
     ]
    },
    {
     "name": "stdout",
     "output_type": "stream",
     "text": [
      "WARNING:tensorflow:Value in checkpoint could not be found in the restored object: (root).keras_api.metrics.2.total\n"
     ]
    },
    {
     "name": "stderr",
     "output_type": "stream",
     "text": [
      "WARNING:tensorflow:Value in checkpoint could not be found in the restored object: (root).keras_api.metrics.2.total\n"
     ]
    },
    {
     "name": "stdout",
     "output_type": "stream",
     "text": [
      "WARNING:tensorflow:Value in checkpoint could not be found in the restored object: (root).keras_api.metrics.2.count\n"
     ]
    },
    {
     "name": "stderr",
     "output_type": "stream",
     "text": [
      "WARNING:tensorflow:Value in checkpoint could not be found in the restored object: (root).keras_api.metrics.2.count\n"
     ]
    },
    {
     "name": "stdout",
     "output_type": "stream",
     "text": [
      "80/80 [==============================] - 1s 12ms/step - loss: 0.4047 - mae: 0.4047 - mse: 0.4047 - val_loss: 0.3922 - val_mae: 0.3922 - val_mse: 0.3922\n",
      "Epoch 2/20\n",
      "80/80 [==============================] - 1s 9ms/step - loss: 0.4047 - mae: 0.4047 - mse: 0.4047 - val_loss: 0.3922 - val_mae: 0.3922 - val_mse: 0.3922\n",
      "Epoch 3/20\n",
      "80/80 [==============================] - 1s 9ms/step - loss: 0.4047 - mae: 0.4047 - mse: 0.4047 - val_loss: 0.3922 - val_mae: 0.3922 - val_mse: 0.3922\n",
      "Epoch 4/20\n",
      "80/80 [==============================] - 1s 9ms/step - loss: 0.4047 - mae: 0.4047 - mse: 0.4047 - val_loss: 0.3922 - val_mae: 0.3922 - val_mse: 0.3922\n",
      "Epoch 5/20\n",
      "80/80 [==============================] - 1s 8ms/step - loss: 0.4047 - mae: 0.4047 - mse: 0.4047 - val_loss: 0.3922 - val_mae: 0.3922 - val_mse: 0.3922\n",
      "Epoch 6/20\n",
      "80/80 [==============================] - 1s 7ms/step - loss: 0.4047 - mae: 0.4047 - mse: 0.4047 - val_loss: 0.3922 - val_mae: 0.3922 - val_mse: 0.3922\n",
      "Epoch 7/20\n",
      "80/80 [==============================] - 0s 6ms/step - loss: 0.4047 - mae: 0.4047 - mse: 0.4047 - val_loss: 0.3922 - val_mae: 0.3922 - val_mse: 0.3922\n",
      "Epoch 8/20\n",
      "80/80 [==============================] - 0s 5ms/step - loss: 0.4047 - mae: 0.4047 - mse: 0.4047 - val_loss: 0.3922 - val_mae: 0.3922 - val_mse: 0.3922\n",
      "Epoch 9/20\n",
      "80/80 [==============================] - 0s 5ms/step - loss: 0.4047 - mae: 0.4047 - mse: 0.4047 - val_loss: 0.3922 - val_mae: 0.3922 - val_mse: 0.3922\n",
      "Epoch 10/20\n",
      "80/80 [==============================] - 0s 4ms/step - loss: 0.4047 - mae: 0.4047 - mse: 0.4047 - val_loss: 0.3922 - val_mae: 0.3922 - val_mse: 0.3922\n",
      "Epoch 11/20\n",
      "80/80 [==============================] - 0s 5ms/step - loss: 0.4047 - mae: 0.4047 - mse: 0.4047 - val_loss: 0.3922 - val_mae: 0.3922 - val_mse: 0.3922\n",
      "Epoch 12/20\n",
      "80/80 [==============================] - 0s 5ms/step - loss: 0.4047 - mae: 0.4047 - mse: 0.4047 - val_loss: 0.3922 - val_mae: 0.3922 - val_mse: 0.3922\n",
      "Epoch 13/20\n",
      "80/80 [==============================] - 0s 5ms/step - loss: 0.4047 - mae: 0.4047 - mse: 0.4047 - val_loss: 0.3922 - val_mae: 0.3922 - val_mse: 0.3922\n",
      "Epoch 14/20\n",
      "80/80 [==============================] - 0s 5ms/step - loss: 0.4047 - mae: 0.4047 - mse: 0.4047 - val_loss: 0.3922 - val_mae: 0.3922 - val_mse: 0.3922\n",
      "Epoch 15/20\n",
      "80/80 [==============================] - 1s 7ms/step - loss: 0.4047 - mae: 0.4047 - mse: 0.4047 - val_loss: 0.3922 - val_mae: 0.3922 - val_mse: 0.3922\n",
      "Epoch 16/20\n",
      "80/80 [==============================] - 1s 7ms/step - loss: 0.4047 - mae: 0.4047 - mse: 0.4047 - val_loss: 0.3922 - val_mae: 0.3922 - val_mse: 0.3922\n",
      "Epoch 17/20\n",
      "80/80 [==============================] - 0s 5ms/step - loss: 0.4047 - mae: 0.4047 - mse: 0.4047 - val_loss: 0.3922 - val_mae: 0.3922 - val_mse: 0.3922\n",
      "Epoch 18/20\n",
      "80/80 [==============================] - 0s 5ms/step - loss: 0.4047 - mae: 0.4047 - mse: 0.4047 - val_loss: 0.3922 - val_mae: 0.3922 - val_mse: 0.3922\n",
      "Epoch 19/20\n",
      "80/80 [==============================] - 0s 5ms/step - loss: 0.4047 - mae: 0.4047 - mse: 0.4047 - val_loss: 0.3922 - val_mae: 0.3922 - val_mse: 0.3922\n",
      "Epoch 20/20\n",
      "80/80 [==============================] - 0s 5ms/step - loss: 0.4047 - mae: 0.4047 - mse: 0.4047 - val_loss: 0.3922 - val_mae: 0.3922 - val_mse: 0.3922\n",
      "25/25 [==============================] - 0s 3ms/step\n"
     ]
    },
    {
     "name": "stderr",
     "output_type": "stream",
     "text": [
      "WARNING:absl:Found untraced functions such as _update_step_xla while saving (showing 1 of 1). These functions will not be directly callable after loading.\n"
     ]
    },
    {
     "name": "stdout",
     "output_type": "stream",
     "text": [
      "INFO:tensorflow:Assets written to: ram://a27cdd89c6e94582accf4becdaebdd19/assets\n"
     ]
    },
    {
     "name": "stderr",
     "output_type": "stream",
     "text": [
      "INFO:tensorflow:Assets written to: ram://a27cdd89c6e94582accf4becdaebdd19/assets\n"
     ]
    },
    {
     "name": "stdout",
     "output_type": "stream",
     "text": [
      "Epoch 1/20\n"
     ]
    },
    {
     "name": "stderr",
     "output_type": "stream",
     "text": [
      "2023-12-17 16:01:07.065553: W tensorflow/core/util/tensor_slice_reader.cc:97] Could not open ram://3a9e6650181d4500a2d81b04b5e00b38: INVALID_ARGUMENT: ram://3a9e6650181d4500a2d81b04b5e00b38 is a directory.\n"
     ]
    },
    {
     "name": "stdout",
     "output_type": "stream",
     "text": [
      "80/80 [==============================] - 1s 7ms/step - loss: 0.4016 - mae: 0.4016 - mse: 0.4016 - val_loss: 0.4156 - val_mae: 0.4156 - val_mse: 0.4156\n",
      "Epoch 2/20\n",
      "80/80 [==============================] - 0s 6ms/step - loss: 0.4016 - mae: 0.4016 - mse: 0.4016 - val_loss: 0.4156 - val_mae: 0.4156 - val_mse: 0.4156\n",
      "Epoch 3/20\n",
      "80/80 [==============================] - 0s 6ms/step - loss: 0.4016 - mae: 0.4016 - mse: 0.4016 - val_loss: 0.4156 - val_mae: 0.4156 - val_mse: 0.4156\n",
      "Epoch 4/20\n",
      "80/80 [==============================] - 0s 5ms/step - loss: 0.4016 - mae: 0.4016 - mse: 0.4016 - val_loss: 0.4156 - val_mae: 0.4156 - val_mse: 0.4156\n",
      "Epoch 5/20\n",
      "80/80 [==============================] - 0s 6ms/step - loss: 0.4016 - mae: 0.4016 - mse: 0.4016 - val_loss: 0.4156 - val_mae: 0.4156 - val_mse: 0.4156\n",
      "Epoch 6/20\n",
      "80/80 [==============================] - 0s 6ms/step - loss: 0.4016 - mae: 0.4016 - mse: 0.4016 - val_loss: 0.4156 - val_mae: 0.4156 - val_mse: 0.4156\n",
      "Epoch 7/20\n",
      "80/80 [==============================] - 0s 5ms/step - loss: 0.4016 - mae: 0.4016 - mse: 0.4016 - val_loss: 0.4156 - val_mae: 0.4156 - val_mse: 0.4156\n",
      "Epoch 8/20\n",
      "80/80 [==============================] - 0s 6ms/step - loss: 0.4016 - mae: 0.4016 - mse: 0.4016 - val_loss: 0.4156 - val_mae: 0.4156 - val_mse: 0.4156\n",
      "Epoch 9/20\n",
      "80/80 [==============================] - 0s 4ms/step - loss: 0.4016 - mae: 0.4016 - mse: 0.4016 - val_loss: 0.4156 - val_mae: 0.4156 - val_mse: 0.4156\n",
      "Epoch 10/20\n",
      "80/80 [==============================] - 1s 6ms/step - loss: 0.4016 - mae: 0.4016 - mse: 0.4016 - val_loss: 0.4156 - val_mae: 0.4156 - val_mse: 0.4156\n",
      "Epoch 11/20\n",
      "80/80 [==============================] - 0s 6ms/step - loss: 0.4016 - mae: 0.4016 - mse: 0.4016 - val_loss: 0.4156 - val_mae: 0.4156 - val_mse: 0.4156\n",
      "Epoch 12/20\n",
      "80/80 [==============================] - 0s 6ms/step - loss: 0.4016 - mae: 0.4016 - mse: 0.4016 - val_loss: 0.4156 - val_mae: 0.4156 - val_mse: 0.4156\n",
      "Epoch 13/20\n",
      "80/80 [==============================] - 0s 5ms/step - loss: 0.4016 - mae: 0.4016 - mse: 0.4016 - val_loss: 0.4156 - val_mae: 0.4156 - val_mse: 0.4156\n",
      "Epoch 14/20\n",
      "80/80 [==============================] - 0s 5ms/step - loss: 0.4016 - mae: 0.4016 - mse: 0.4016 - val_loss: 0.4156 - val_mae: 0.4156 - val_mse: 0.4156\n",
      "Epoch 15/20\n",
      "80/80 [==============================] - 1s 7ms/step - loss: 0.4016 - mae: 0.4016 - mse: 0.4016 - val_loss: 0.4156 - val_mae: 0.4156 - val_mse: 0.4156\n",
      "Epoch 16/20\n",
      "80/80 [==============================] - 0s 6ms/step - loss: 0.4016 - mae: 0.4016 - mse: 0.4016 - val_loss: 0.4156 - val_mae: 0.4156 - val_mse: 0.4156\n",
      "Epoch 17/20\n",
      "80/80 [==============================] - 0s 6ms/step - loss: 0.4016 - mae: 0.4016 - mse: 0.4016 - val_loss: 0.4156 - val_mae: 0.4156 - val_mse: 0.4156\n",
      "Epoch 18/20\n",
      "80/80 [==============================] - 1s 8ms/step - loss: 0.4016 - mae: 0.4016 - mse: 0.4016 - val_loss: 0.4156 - val_mae: 0.4156 - val_mse: 0.4156\n",
      "Epoch 19/20\n",
      "80/80 [==============================] - 1s 7ms/step - loss: 0.4016 - mae: 0.4016 - mse: 0.4016 - val_loss: 0.4156 - val_mae: 0.4156 - val_mse: 0.4156\n",
      "Epoch 20/20\n",
      "80/80 [==============================] - 1s 8ms/step - loss: 0.4016 - mae: 0.4016 - mse: 0.4016 - val_loss: 0.4156 - val_mae: 0.4156 - val_mse: 0.4156\n",
      "25/25 [==============================] - 0s 4ms/step\n"
     ]
    },
    {
     "name": "stderr",
     "output_type": "stream",
     "text": [
      "WARNING:absl:Found untraced functions such as _update_step_xla while saving (showing 1 of 1). These functions will not be directly callable after loading.\n"
     ]
    },
    {
     "name": "stdout",
     "output_type": "stream",
     "text": [
      "INFO:tensorflow:Assets written to: ram://c28e3415b36041159dafa1b5a4ffb65b/assets\n"
     ]
    },
    {
     "name": "stderr",
     "output_type": "stream",
     "text": [
      "INFO:tensorflow:Assets written to: ram://c28e3415b36041159dafa1b5a4ffb65b/assets\n"
     ]
    },
    {
     "name": "stdout",
     "output_type": "stream",
     "text": [
      "Epoch 1/20\n"
     ]
    },
    {
     "name": "stderr",
     "output_type": "stream",
     "text": [
      "2023-12-17 16:01:18.425080: W tensorflow/core/util/tensor_slice_reader.cc:97] Could not open ram://5ddf082e2cd74b919e03609c810aa9a2: INVALID_ARGUMENT: ram://5ddf082e2cd74b919e03609c810aa9a2 is a directory.\n"
     ]
    },
    {
     "name": "stdout",
     "output_type": "stream",
     "text": [
      "80/80 [==============================] - 1s 10ms/step - loss: 0.4074 - mae: 0.4074 - mse: 0.4074 - val_loss: 0.4141 - val_mae: 0.4141 - val_mse: 0.4141\n",
      "Epoch 2/20\n",
      "80/80 [==============================] - 1s 11ms/step - loss: 0.4074 - mae: 0.4074 - mse: 0.4074 - val_loss: 0.4141 - val_mae: 0.4141 - val_mse: 0.4141\n",
      "Epoch 3/20\n",
      "80/80 [==============================] - 1s 7ms/step - loss: 0.4074 - mae: 0.4074 - mse: 0.4074 - val_loss: 0.4141 - val_mae: 0.4141 - val_mse: 0.4141\n",
      "Epoch 4/20\n",
      "80/80 [==============================] - 1s 7ms/step - loss: 0.4074 - mae: 0.4074 - mse: 0.4074 - val_loss: 0.4141 - val_mae: 0.4141 - val_mse: 0.4141\n",
      "Epoch 5/20\n",
      "80/80 [==============================] - 1s 7ms/step - loss: 0.4074 - mae: 0.4074 - mse: 0.4074 - val_loss: 0.4141 - val_mae: 0.4141 - val_mse: 0.4141\n",
      "Epoch 6/20\n",
      "80/80 [==============================] - 1s 9ms/step - loss: 0.4074 - mae: 0.4074 - mse: 0.4074 - val_loss: 0.4141 - val_mae: 0.4141 - val_mse: 0.4141\n",
      "Epoch 7/20\n",
      "80/80 [==============================] - 1s 9ms/step - loss: 0.4074 - mae: 0.4074 - mse: 0.4074 - val_loss: 0.4141 - val_mae: 0.4141 - val_mse: 0.4141\n",
      "Epoch 8/20\n",
      "80/80 [==============================] - 1s 8ms/step - loss: 0.4074 - mae: 0.4074 - mse: 0.4074 - val_loss: 0.4141 - val_mae: 0.4141 - val_mse: 0.4141\n",
      "Epoch 9/20\n",
      "80/80 [==============================] - 1s 9ms/step - loss: 0.4074 - mae: 0.4074 - mse: 0.4074 - val_loss: 0.4141 - val_mae: 0.4141 - val_mse: 0.4141\n",
      "Epoch 10/20\n",
      "80/80 [==============================] - 1s 9ms/step - loss: 0.4074 - mae: 0.4074 - mse: 0.4074 - val_loss: 0.4141 - val_mae: 0.4141 - val_mse: 0.4141\n",
      "Epoch 11/20\n",
      "80/80 [==============================] - 1s 10ms/step - loss: 0.4074 - mae: 0.4074 - mse: 0.4074 - val_loss: 0.4141 - val_mae: 0.4141 - val_mse: 0.4141\n",
      "Epoch 12/20\n",
      "80/80 [==============================] - 1s 8ms/step - loss: 0.4074 - mae: 0.4074 - mse: 0.4074 - val_loss: 0.4141 - val_mae: 0.4141 - val_mse: 0.4141\n",
      "Epoch 13/20\n",
      "80/80 [==============================] - 1s 7ms/step - loss: 0.4074 - mae: 0.4074 - mse: 0.4074 - val_loss: 0.4141 - val_mae: 0.4141 - val_mse: 0.4141\n",
      "Epoch 14/20\n",
      "80/80 [==============================] - 1s 8ms/step - loss: 0.4074 - mae: 0.4074 - mse: 0.4074 - val_loss: 0.4141 - val_mae: 0.4141 - val_mse: 0.4141\n",
      "Epoch 15/20\n",
      "80/80 [==============================] - 1s 7ms/step - loss: 0.4074 - mae: 0.4074 - mse: 0.4074 - val_loss: 0.4141 - val_mae: 0.4141 - val_mse: 0.4141\n",
      "Epoch 16/20\n",
      "80/80 [==============================] - 1s 8ms/step - loss: 0.4074 - mae: 0.4074 - mse: 0.4074 - val_loss: 0.4141 - val_mae: 0.4141 - val_mse: 0.4141\n",
      "Epoch 17/20\n",
      "80/80 [==============================] - 1s 9ms/step - loss: 0.4074 - mae: 0.4074 - mse: 0.4074 - val_loss: 0.4141 - val_mae: 0.4141 - val_mse: 0.4141\n",
      "Epoch 18/20\n",
      "80/80 [==============================] - 1s 11ms/step - loss: 0.4074 - mae: 0.4074 - mse: 0.4074 - val_loss: 0.4141 - val_mae: 0.4141 - val_mse: 0.4141\n",
      "Epoch 19/20\n",
      "80/80 [==============================] - 1s 7ms/step - loss: 0.4074 - mae: 0.4074 - mse: 0.4074 - val_loss: 0.4141 - val_mae: 0.4141 - val_mse: 0.4141\n",
      "Epoch 20/20\n",
      "80/80 [==============================] - 1s 7ms/step - loss: 0.4074 - mae: 0.4074 - mse: 0.4074 - val_loss: 0.4141 - val_mae: 0.4141 - val_mse: 0.4141\n",
      "25/25 [==============================] - 0s 4ms/step\n"
     ]
    },
    {
     "name": "stderr",
     "output_type": "stream",
     "text": [
      "WARNING:absl:Found untraced functions such as _update_step_xla while saving (showing 1 of 1). These functions will not be directly callable after loading.\n"
     ]
    },
    {
     "name": "stdout",
     "output_type": "stream",
     "text": [
      "INFO:tensorflow:Assets written to: ram://aa99dd71a6f0498d9f2d7cca8bb175dc/assets\n"
     ]
    },
    {
     "name": "stderr",
     "output_type": "stream",
     "text": [
      "INFO:tensorflow:Assets written to: ram://aa99dd71a6f0498d9f2d7cca8bb175dc/assets\n"
     ]
    },
    {
     "name": "stdout",
     "output_type": "stream",
     "text": [
      "Epoch 1/20\n"
     ]
    },
    {
     "name": "stderr",
     "output_type": "stream",
     "text": [
      "2023-12-17 16:01:33.473718: W tensorflow/core/util/tensor_slice_reader.cc:97] Could not open ram://b3c0913da15146029f2be0fb2850ad5f: INVALID_ARGUMENT: ram://b3c0913da15146029f2be0fb2850ad5f is a directory.\n"
     ]
    },
    {
     "name": "stdout",
     "output_type": "stream",
     "text": [
      "80/80 [==============================] - 1s 9ms/step - loss: 0.4020 - mae: 0.4020 - mse: 0.4020 - val_loss: 0.4187 - val_mae: 0.4187 - val_mse: 0.4187\n",
      "Epoch 2/20\n",
      "80/80 [==============================] - 0s 5ms/step - loss: 0.4020 - mae: 0.4020 - mse: 0.4020 - val_loss: 0.4187 - val_mae: 0.4187 - val_mse: 0.4187\n",
      "Epoch 3/20\n",
      "80/80 [==============================] - 1s 7ms/step - loss: 0.4020 - mae: 0.4020 - mse: 0.4020 - val_loss: 0.4187 - val_mae: 0.4187 - val_mse: 0.4187\n",
      "Epoch 4/20\n",
      "80/80 [==============================] - 1s 11ms/step - loss: 0.4020 - mae: 0.4020 - mse: 0.4020 - val_loss: 0.4187 - val_mae: 0.4187 - val_mse: 0.4187\n",
      "Epoch 5/20\n",
      "80/80 [==============================] - 0s 6ms/step - loss: 0.4020 - mae: 0.4020 - mse: 0.4020 - val_loss: 0.4187 - val_mae: 0.4187 - val_mse: 0.4187\n",
      "Epoch 6/20\n",
      "80/80 [==============================] - 1s 6ms/step - loss: 0.4020 - mae: 0.4020 - mse: 0.4020 - val_loss: 0.4187 - val_mae: 0.4187 - val_mse: 0.4187\n",
      "Epoch 7/20\n",
      "80/80 [==============================] - 0s 5ms/step - loss: 0.4020 - mae: 0.4020 - mse: 0.4020 - val_loss: 0.4187 - val_mae: 0.4187 - val_mse: 0.4187\n",
      "Epoch 8/20\n",
      "80/80 [==============================] - 1s 7ms/step - loss: 0.4020 - mae: 0.4020 - mse: 0.4020 - val_loss: 0.4187 - val_mae: 0.4187 - val_mse: 0.4187\n",
      "Epoch 9/20\n",
      "80/80 [==============================] - 1s 7ms/step - loss: 0.4020 - mae: 0.4020 - mse: 0.4020 - val_loss: 0.4187 - val_mae: 0.4187 - val_mse: 0.4187\n",
      "Epoch 10/20\n",
      "80/80 [==============================] - 1s 6ms/step - loss: 0.4020 - mae: 0.4020 - mse: 0.4020 - val_loss: 0.4187 - val_mae: 0.4187 - val_mse: 0.4187\n",
      "Epoch 11/20\n",
      "80/80 [==============================] - 1s 6ms/step - loss: 0.4020 - mae: 0.4020 - mse: 0.4020 - val_loss: 0.4187 - val_mae: 0.4187 - val_mse: 0.4187\n",
      "Epoch 12/20\n",
      "80/80 [==============================] - 1s 9ms/step - loss: 0.4020 - mae: 0.4020 - mse: 0.4020 - val_loss: 0.4187 - val_mae: 0.4187 - val_mse: 0.4187\n",
      "Epoch 13/20\n",
      "80/80 [==============================] - 1s 9ms/step - loss: 0.4020 - mae: 0.4020 - mse: 0.4020 - val_loss: 0.4187 - val_mae: 0.4187 - val_mse: 0.4187\n",
      "Epoch 14/20\n",
      "80/80 [==============================] - 1s 8ms/step - loss: 0.4020 - mae: 0.4020 - mse: 0.4020 - val_loss: 0.4187 - val_mae: 0.4187 - val_mse: 0.4187\n",
      "Epoch 15/20\n",
      "80/80 [==============================] - 1s 6ms/step - loss: 0.4020 - mae: 0.4020 - mse: 0.4020 - val_loss: 0.4187 - val_mae: 0.4187 - val_mse: 0.4187\n",
      "Epoch 16/20\n",
      "80/80 [==============================] - 1s 8ms/step - loss: 0.4020 - mae: 0.4020 - mse: 0.4020 - val_loss: 0.4187 - val_mae: 0.4187 - val_mse: 0.4187\n",
      "Epoch 17/20\n",
      "80/80 [==============================] - 0s 6ms/step - loss: 0.4020 - mae: 0.4020 - mse: 0.4020 - val_loss: 0.4187 - val_mae: 0.4187 - val_mse: 0.4187\n",
      "Epoch 18/20\n",
      "80/80 [==============================] - 0s 6ms/step - loss: 0.4020 - mae: 0.4020 - mse: 0.4020 - val_loss: 0.4187 - val_mae: 0.4187 - val_mse: 0.4187\n",
      "Epoch 19/20\n",
      "80/80 [==============================] - 0s 5ms/step - loss: 0.4020 - mae: 0.4020 - mse: 0.4020 - val_loss: 0.4187 - val_mae: 0.4187 - val_mse: 0.4187\n",
      "Epoch 20/20\n",
      "80/80 [==============================] - 0s 5ms/step - loss: 0.4020 - mae: 0.4020 - mse: 0.4020 - val_loss: 0.4187 - val_mae: 0.4187 - val_mse: 0.4187\n",
      "25/25 [==============================] - 0s 4ms/step\n"
     ]
    },
    {
     "name": "stderr",
     "output_type": "stream",
     "text": [
      "WARNING:absl:Found untraced functions such as _update_step_xla while saving (showing 1 of 1). These functions will not be directly callable after loading.\n"
     ]
    },
    {
     "name": "stdout",
     "output_type": "stream",
     "text": [
      "INFO:tensorflow:Assets written to: ram://aca680ba1c6e45e685632e21295910ad/assets\n"
     ]
    },
    {
     "name": "stderr",
     "output_type": "stream",
     "text": [
      "INFO:tensorflow:Assets written to: ram://aca680ba1c6e45e685632e21295910ad/assets\n"
     ]
    },
    {
     "name": "stdout",
     "output_type": "stream",
     "text": [
      "Epoch 1/20\n"
     ]
    },
    {
     "name": "stderr",
     "output_type": "stream",
     "text": [
      "2023-12-17 16:01:46.376020: W tensorflow/core/util/tensor_slice_reader.cc:97] Could not open ram://19fe8aba8fbc4806b977820c62cef375: INVALID_ARGUMENT: ram://19fe8aba8fbc4806b977820c62cef375 is a directory.\n"
     ]
    },
    {
     "name": "stdout",
     "output_type": "stream",
     "text": [
      "80/80 [==============================] - 1s 6ms/step - loss: 0.3953 - mae: 0.3953 - mse: 0.3953 - val_loss: 0.4406 - val_mae: 0.4406 - val_mse: 0.4406\n",
      "Epoch 2/20\n",
      "80/80 [==============================] - 0s 6ms/step - loss: 0.3953 - mae: 0.3953 - mse: 0.3953 - val_loss: 0.4406 - val_mae: 0.4406 - val_mse: 0.4406\n",
      "Epoch 3/20\n",
      "80/80 [==============================] - 0s 6ms/step - loss: 0.3953 - mae: 0.3953 - mse: 0.3953 - val_loss: 0.4406 - val_mae: 0.4406 - val_mse: 0.4406\n",
      "Epoch 4/20\n",
      "80/80 [==============================] - 0s 5ms/step - loss: 0.3953 - mae: 0.3953 - mse: 0.3953 - val_loss: 0.4406 - val_mae: 0.4406 - val_mse: 0.4406\n",
      "Epoch 5/20\n",
      "80/80 [==============================] - 1s 6ms/step - loss: 0.3953 - mae: 0.3953 - mse: 0.3953 - val_loss: 0.4406 - val_mae: 0.4406 - val_mse: 0.4406\n",
      "Epoch 6/20\n",
      "80/80 [==============================] - 1s 8ms/step - loss: 0.3953 - mae: 0.3953 - mse: 0.3953 - val_loss: 0.4406 - val_mae: 0.4406 - val_mse: 0.4406\n",
      "Epoch 7/20\n",
      "80/80 [==============================] - 0s 5ms/step - loss: 0.3953 - mae: 0.3953 - mse: 0.3953 - val_loss: 0.4406 - val_mae: 0.4406 - val_mse: 0.4406\n",
      "Epoch 8/20\n",
      "80/80 [==============================] - 1s 9ms/step - loss: 0.3953 - mae: 0.3953 - mse: 0.3953 - val_loss: 0.4406 - val_mae: 0.4406 - val_mse: 0.4406\n",
      "Epoch 9/20\n",
      "80/80 [==============================] - 1s 10ms/step - loss: 0.3953 - mae: 0.3953 - mse: 0.3953 - val_loss: 0.4406 - val_mae: 0.4406 - val_mse: 0.4406\n",
      "Epoch 10/20\n",
      "80/80 [==============================] - 1s 7ms/step - loss: 0.3953 - mae: 0.3953 - mse: 0.3953 - val_loss: 0.4406 - val_mae: 0.4406 - val_mse: 0.4406\n",
      "Epoch 11/20\n",
      "80/80 [==============================] - 1s 8ms/step - loss: 0.3953 - mae: 0.3953 - mse: 0.3953 - val_loss: 0.4406 - val_mae: 0.4406 - val_mse: 0.4406\n",
      "Epoch 12/20\n",
      "80/80 [==============================] - 0s 5ms/step - loss: 0.3953 - mae: 0.3953 - mse: 0.3953 - val_loss: 0.4406 - val_mae: 0.4406 - val_mse: 0.4406\n",
      "Epoch 13/20\n",
      "80/80 [==============================] - 0s 6ms/step - loss: 0.3953 - mae: 0.3953 - mse: 0.3953 - val_loss: 0.4406 - val_mae: 0.4406 - val_mse: 0.4406\n",
      "Epoch 14/20\n",
      "80/80 [==============================] - 0s 5ms/step - loss: 0.3953 - mae: 0.3953 - mse: 0.3953 - val_loss: 0.4406 - val_mae: 0.4406 - val_mse: 0.4406\n",
      "Epoch 15/20\n",
      "80/80 [==============================] - 1s 8ms/step - loss: 0.3953 - mae: 0.3953 - mse: 0.3953 - val_loss: 0.4406 - val_mae: 0.4406 - val_mse: 0.4406\n",
      "Epoch 16/20\n",
      "80/80 [==============================] - 1s 10ms/step - loss: 0.3953 - mae: 0.3953 - mse: 0.3953 - val_loss: 0.4406 - val_mae: 0.4406 - val_mse: 0.4406\n",
      "Epoch 17/20\n",
      "80/80 [==============================] - 1s 9ms/step - loss: 0.3953 - mae: 0.3953 - mse: 0.3953 - val_loss: 0.4406 - val_mae: 0.4406 - val_mse: 0.4406\n",
      "Epoch 18/20\n",
      "80/80 [==============================] - 1s 6ms/step - loss: 0.3953 - mae: 0.3953 - mse: 0.3953 - val_loss: 0.4406 - val_mae: 0.4406 - val_mse: 0.4406\n",
      "Epoch 19/20\n",
      "80/80 [==============================] - 0s 6ms/step - loss: 0.3953 - mae: 0.3953 - mse: 0.3953 - val_loss: 0.4406 - val_mae: 0.4406 - val_mse: 0.4406\n",
      "Epoch 20/20\n",
      "80/80 [==============================] - 1s 7ms/step - loss: 0.3953 - mae: 0.3953 - mse: 0.3953 - val_loss: 0.4406 - val_mae: 0.4406 - val_mse: 0.4406\n",
      "25/25 [==============================] - 0s 2ms/step\n"
     ]
    },
    {
     "name": "stderr",
     "output_type": "stream",
     "text": [
      "WARNING:absl:Found untraced functions such as _update_step_xla while saving (showing 1 of 1). These functions will not be directly callable after loading.\n"
     ]
    },
    {
     "name": "stdout",
     "output_type": "stream",
     "text": [
      "INFO:tensorflow:Assets written to: ram://362bbdef69f44aa98753e71625e08752/assets\n"
     ]
    },
    {
     "name": "stderr",
     "output_type": "stream",
     "text": [
      "INFO:tensorflow:Assets written to: ram://362bbdef69f44aa98753e71625e08752/assets\n"
     ]
    },
    {
     "name": "stdout",
     "output_type": "stream",
     "text": [
      "WARNING:tensorflow:Detecting that an object or model or tf.train.Checkpoint is being deleted with unrestored values. See the following logs for the specific values in question. To silence these warnings, use `status.expect_partial()`. See https://www.tensorflow.org/api_docs/python/tf/train/Checkpoint#restorefor details about the status object returned by the restore function.\n"
     ]
    },
    {
     "name": "stderr",
     "output_type": "stream",
     "text": [
      "WARNING:tensorflow:Detecting that an object or model or tf.train.Checkpoint is being deleted with unrestored values. See the following logs for the specific values in question. To silence these warnings, use `status.expect_partial()`. See https://www.tensorflow.org/api_docs/python/tf/train/Checkpoint#restorefor details about the status object returned by the restore function.\n"
     ]
    },
    {
     "name": "stdout",
     "output_type": "stream",
     "text": [
      "WARNING:tensorflow:Value in checkpoint could not be found in the restored object: (root).keras_api.metrics.0.total\n"
     ]
    },
    {
     "name": "stderr",
     "output_type": "stream",
     "text": [
      "WARNING:tensorflow:Value in checkpoint could not be found in the restored object: (root).keras_api.metrics.0.total\n"
     ]
    },
    {
     "name": "stdout",
     "output_type": "stream",
     "text": [
      "WARNING:tensorflow:Value in checkpoint could not be found in the restored object: (root).keras_api.metrics.0.count\n"
     ]
    },
    {
     "name": "stderr",
     "output_type": "stream",
     "text": [
      "WARNING:tensorflow:Value in checkpoint could not be found in the restored object: (root).keras_api.metrics.0.count\n"
     ]
    },
    {
     "name": "stdout",
     "output_type": "stream",
     "text": [
      "WARNING:tensorflow:Value in checkpoint could not be found in the restored object: (root).keras_api.metrics.1.total\n"
     ]
    },
    {
     "name": "stderr",
     "output_type": "stream",
     "text": [
      "WARNING:tensorflow:Value in checkpoint could not be found in the restored object: (root).keras_api.metrics.1.total\n"
     ]
    },
    {
     "name": "stdout",
     "output_type": "stream",
     "text": [
      "WARNING:tensorflow:Value in checkpoint could not be found in the restored object: (root).keras_api.metrics.1.count\n"
     ]
    },
    {
     "name": "stderr",
     "output_type": "stream",
     "text": [
      "WARNING:tensorflow:Value in checkpoint could not be found in the restored object: (root).keras_api.metrics.1.count\n"
     ]
    },
    {
     "name": "stdout",
     "output_type": "stream",
     "text": [
      "WARNING:tensorflow:Value in checkpoint could not be found in the restored object: (root).keras_api.metrics.2.total\n"
     ]
    },
    {
     "name": "stderr",
     "output_type": "stream",
     "text": [
      "WARNING:tensorflow:Value in checkpoint could not be found in the restored object: (root).keras_api.metrics.2.total\n"
     ]
    },
    {
     "name": "stdout",
     "output_type": "stream",
     "text": [
      "WARNING:tensorflow:Value in checkpoint could not be found in the restored object: (root).keras_api.metrics.2.count\n"
     ]
    },
    {
     "name": "stderr",
     "output_type": "stream",
     "text": [
      "WARNING:tensorflow:Value in checkpoint could not be found in the restored object: (root).keras_api.metrics.2.count\n"
     ]
    },
    {
     "name": "stdout",
     "output_type": "stream",
     "text": [
      "WARNING:tensorflow:Detecting that an object or model or tf.train.Checkpoint is being deleted with unrestored values. See the following logs for the specific values in question. To silence these warnings, use `status.expect_partial()`. See https://www.tensorflow.org/api_docs/python/tf/train/Checkpoint#restorefor details about the status object returned by the restore function.\n"
     ]
    },
    {
     "name": "stderr",
     "output_type": "stream",
     "text": [
      "WARNING:tensorflow:Detecting that an object or model or tf.train.Checkpoint is being deleted with unrestored values. See the following logs for the specific values in question. To silence these warnings, use `status.expect_partial()`. See https://www.tensorflow.org/api_docs/python/tf/train/Checkpoint#restorefor details about the status object returned by the restore function.\n"
     ]
    },
    {
     "name": "stdout",
     "output_type": "stream",
     "text": [
      "WARNING:tensorflow:Value in checkpoint could not be found in the restored object: (root).keras_api.metrics.0.total\n"
     ]
    },
    {
     "name": "stderr",
     "output_type": "stream",
     "text": [
      "WARNING:tensorflow:Value in checkpoint could not be found in the restored object: (root).keras_api.metrics.0.total\n"
     ]
    },
    {
     "name": "stdout",
     "output_type": "stream",
     "text": [
      "WARNING:tensorflow:Value in checkpoint could not be found in the restored object: (root).keras_api.metrics.0.count\n"
     ]
    },
    {
     "name": "stderr",
     "output_type": "stream",
     "text": [
      "WARNING:tensorflow:Value in checkpoint could not be found in the restored object: (root).keras_api.metrics.0.count\n"
     ]
    },
    {
     "name": "stdout",
     "output_type": "stream",
     "text": [
      "WARNING:tensorflow:Value in checkpoint could not be found in the restored object: (root).keras_api.metrics.1.total\n"
     ]
    },
    {
     "name": "stderr",
     "output_type": "stream",
     "text": [
      "WARNING:tensorflow:Value in checkpoint could not be found in the restored object: (root).keras_api.metrics.1.total\n"
     ]
    },
    {
     "name": "stdout",
     "output_type": "stream",
     "text": [
      "WARNING:tensorflow:Value in checkpoint could not be found in the restored object: (root).keras_api.metrics.1.count\n"
     ]
    },
    {
     "name": "stderr",
     "output_type": "stream",
     "text": [
      "WARNING:tensorflow:Value in checkpoint could not be found in the restored object: (root).keras_api.metrics.1.count\n"
     ]
    },
    {
     "name": "stdout",
     "output_type": "stream",
     "text": [
      "WARNING:tensorflow:Value in checkpoint could not be found in the restored object: (root).keras_api.metrics.2.total\n"
     ]
    },
    {
     "name": "stderr",
     "output_type": "stream",
     "text": [
      "WARNING:tensorflow:Value in checkpoint could not be found in the restored object: (root).keras_api.metrics.2.total\n"
     ]
    },
    {
     "name": "stdout",
     "output_type": "stream",
     "text": [
      "WARNING:tensorflow:Value in checkpoint could not be found in the restored object: (root).keras_api.metrics.2.count\n"
     ]
    },
    {
     "name": "stderr",
     "output_type": "stream",
     "text": [
      "WARNING:tensorflow:Value in checkpoint could not be found in the restored object: (root).keras_api.metrics.2.count\n"
     ]
    },
    {
     "name": "stdout",
     "output_type": "stream",
     "text": [
      "WARNING:tensorflow:Detecting that an object or model or tf.train.Checkpoint is being deleted with unrestored values. See the following logs for the specific values in question. To silence these warnings, use `status.expect_partial()`. See https://www.tensorflow.org/api_docs/python/tf/train/Checkpoint#restorefor details about the status object returned by the restore function.\n"
     ]
    },
    {
     "name": "stderr",
     "output_type": "stream",
     "text": [
      "WARNING:tensorflow:Detecting that an object or model or tf.train.Checkpoint is being deleted with unrestored values. See the following logs for the specific values in question. To silence these warnings, use `status.expect_partial()`. See https://www.tensorflow.org/api_docs/python/tf/train/Checkpoint#restorefor details about the status object returned by the restore function.\n"
     ]
    },
    {
     "name": "stdout",
     "output_type": "stream",
     "text": [
      "WARNING:tensorflow:Value in checkpoint could not be found in the restored object: (root).keras_api.metrics.0.total\n"
     ]
    },
    {
     "name": "stderr",
     "output_type": "stream",
     "text": [
      "WARNING:tensorflow:Value in checkpoint could not be found in the restored object: (root).keras_api.metrics.0.total\n"
     ]
    },
    {
     "name": "stdout",
     "output_type": "stream",
     "text": [
      "WARNING:tensorflow:Value in checkpoint could not be found in the restored object: (root).keras_api.metrics.0.count\n"
     ]
    },
    {
     "name": "stderr",
     "output_type": "stream",
     "text": [
      "WARNING:tensorflow:Value in checkpoint could not be found in the restored object: (root).keras_api.metrics.0.count\n"
     ]
    },
    {
     "name": "stdout",
     "output_type": "stream",
     "text": [
      "WARNING:tensorflow:Value in checkpoint could not be found in the restored object: (root).keras_api.metrics.1.total\n"
     ]
    },
    {
     "name": "stderr",
     "output_type": "stream",
     "text": [
      "WARNING:tensorflow:Value in checkpoint could not be found in the restored object: (root).keras_api.metrics.1.total\n"
     ]
    },
    {
     "name": "stdout",
     "output_type": "stream",
     "text": [
      "WARNING:tensorflow:Value in checkpoint could not be found in the restored object: (root).keras_api.metrics.1.count\n"
     ]
    },
    {
     "name": "stderr",
     "output_type": "stream",
     "text": [
      "WARNING:tensorflow:Value in checkpoint could not be found in the restored object: (root).keras_api.metrics.1.count\n"
     ]
    },
    {
     "name": "stdout",
     "output_type": "stream",
     "text": [
      "WARNING:tensorflow:Value in checkpoint could not be found in the restored object: (root).keras_api.metrics.2.total\n"
     ]
    },
    {
     "name": "stderr",
     "output_type": "stream",
     "text": [
      "WARNING:tensorflow:Value in checkpoint could not be found in the restored object: (root).keras_api.metrics.2.total\n"
     ]
    },
    {
     "name": "stdout",
     "output_type": "stream",
     "text": [
      "WARNING:tensorflow:Value in checkpoint could not be found in the restored object: (root).keras_api.metrics.2.count\n"
     ]
    },
    {
     "name": "stderr",
     "output_type": "stream",
     "text": [
      "WARNING:tensorflow:Value in checkpoint could not be found in the restored object: (root).keras_api.metrics.2.count\n"
     ]
    },
    {
     "name": "stdout",
     "output_type": "stream",
     "text": [
      "WARNING:tensorflow:Detecting that an object or model or tf.train.Checkpoint is being deleted with unrestored values. See the following logs for the specific values in question. To silence these warnings, use `status.expect_partial()`. See https://www.tensorflow.org/api_docs/python/tf/train/Checkpoint#restorefor details about the status object returned by the restore function.\n"
     ]
    },
    {
     "name": "stderr",
     "output_type": "stream",
     "text": [
      "WARNING:tensorflow:Detecting that an object or model or tf.train.Checkpoint is being deleted with unrestored values. See the following logs for the specific values in question. To silence these warnings, use `status.expect_partial()`. See https://www.tensorflow.org/api_docs/python/tf/train/Checkpoint#restorefor details about the status object returned by the restore function.\n"
     ]
    },
    {
     "name": "stdout",
     "output_type": "stream",
     "text": [
      "WARNING:tensorflow:Value in checkpoint could not be found in the restored object: (root).keras_api.metrics.0.total\n"
     ]
    },
    {
     "name": "stderr",
     "output_type": "stream",
     "text": [
      "WARNING:tensorflow:Value in checkpoint could not be found in the restored object: (root).keras_api.metrics.0.total\n"
     ]
    },
    {
     "name": "stdout",
     "output_type": "stream",
     "text": [
      "WARNING:tensorflow:Value in checkpoint could not be found in the restored object: (root).keras_api.metrics.0.count\n"
     ]
    },
    {
     "name": "stderr",
     "output_type": "stream",
     "text": [
      "WARNING:tensorflow:Value in checkpoint could not be found in the restored object: (root).keras_api.metrics.0.count\n"
     ]
    },
    {
     "name": "stdout",
     "output_type": "stream",
     "text": [
      "WARNING:tensorflow:Value in checkpoint could not be found in the restored object: (root).keras_api.metrics.1.total\n"
     ]
    },
    {
     "name": "stderr",
     "output_type": "stream",
     "text": [
      "WARNING:tensorflow:Value in checkpoint could not be found in the restored object: (root).keras_api.metrics.1.total\n"
     ]
    },
    {
     "name": "stdout",
     "output_type": "stream",
     "text": [
      "WARNING:tensorflow:Value in checkpoint could not be found in the restored object: (root).keras_api.metrics.1.count\n"
     ]
    },
    {
     "name": "stderr",
     "output_type": "stream",
     "text": [
      "WARNING:tensorflow:Value in checkpoint could not be found in the restored object: (root).keras_api.metrics.1.count\n"
     ]
    },
    {
     "name": "stdout",
     "output_type": "stream",
     "text": [
      "WARNING:tensorflow:Value in checkpoint could not be found in the restored object: (root).keras_api.metrics.2.total\n"
     ]
    },
    {
     "name": "stderr",
     "output_type": "stream",
     "text": [
      "WARNING:tensorflow:Value in checkpoint could not be found in the restored object: (root).keras_api.metrics.2.total\n"
     ]
    },
    {
     "name": "stdout",
     "output_type": "stream",
     "text": [
      "WARNING:tensorflow:Value in checkpoint could not be found in the restored object: (root).keras_api.metrics.2.count\n"
     ]
    },
    {
     "name": "stderr",
     "output_type": "stream",
     "text": [
      "WARNING:tensorflow:Value in checkpoint could not be found in the restored object: (root).keras_api.metrics.2.count\n",
      "2023-12-17 16:01:59.452501: W tensorflow/core/util/tensor_slice_reader.cc:97] Could not open ram://bb7bd0974d3b4e19b37a4c54e18d80af: INVALID_ARGUMENT: ram://bb7bd0974d3b4e19b37a4c54e18d80af is a directory.\n"
     ]
    },
    {
     "name": "stdout",
     "output_type": "stream",
     "text": [
      "Epoch 1/20\n",
      "80/80 [==============================] - 1s 8ms/step - loss: 0.4047 - mae: 0.4047 - mse: 0.4047 - val_loss: 0.3922 - val_mae: 0.3922 - val_mse: 0.3922\n",
      "Epoch 2/20\n",
      "80/80 [==============================] - 1s 9ms/step - loss: 0.4047 - mae: 0.4047 - mse: 0.4047 - val_loss: 0.3922 - val_mae: 0.3922 - val_mse: 0.3922\n",
      "Epoch 3/20\n",
      "80/80 [==============================] - 0s 5ms/step - loss: 0.4047 - mae: 0.4047 - mse: 0.4047 - val_loss: 0.3922 - val_mae: 0.3922 - val_mse: 0.3922\n",
      "Epoch 4/20\n",
      "80/80 [==============================] - 1s 8ms/step - loss: 0.4047 - mae: 0.4047 - mse: 0.4047 - val_loss: 0.3922 - val_mae: 0.3922 - val_mse: 0.3922\n",
      "Epoch 5/20\n",
      "80/80 [==============================] - 0s 5ms/step - loss: 0.4047 - mae: 0.4047 - mse: 0.4047 - val_loss: 0.3922 - val_mae: 0.3922 - val_mse: 0.3922\n",
      "Epoch 6/20\n",
      "80/80 [==============================] - 0s 5ms/step - loss: 0.4047 - mae: 0.4047 - mse: 0.4047 - val_loss: 0.3922 - val_mae: 0.3922 - val_mse: 0.3922\n",
      "Epoch 7/20\n",
      "80/80 [==============================] - 0s 5ms/step - loss: 0.4047 - mae: 0.4047 - mse: 0.4047 - val_loss: 0.3922 - val_mae: 0.3922 - val_mse: 0.3922\n",
      "Epoch 8/20\n",
      "80/80 [==============================] - 1s 6ms/step - loss: 0.4047 - mae: 0.4047 - mse: 0.4047 - val_loss: 0.3922 - val_mae: 0.3922 - val_mse: 0.3922\n",
      "Epoch 9/20\n",
      "80/80 [==============================] - 0s 4ms/step - loss: 0.4047 - mae: 0.4047 - mse: 0.4047 - val_loss: 0.3922 - val_mae: 0.3922 - val_mse: 0.3922\n",
      "Epoch 10/20\n",
      "80/80 [==============================] - 0s 4ms/step - loss: 0.4047 - mae: 0.4047 - mse: 0.4047 - val_loss: 0.3922 - val_mae: 0.3922 - val_mse: 0.3922\n",
      "Epoch 11/20\n",
      "80/80 [==============================] - 0s 6ms/step - loss: 0.4047 - mae: 0.4047 - mse: 0.4047 - val_loss: 0.3922 - val_mae: 0.3922 - val_mse: 0.3922\n",
      "Epoch 12/20\n",
      "80/80 [==============================] - 1s 8ms/step - loss: 0.4047 - mae: 0.4047 - mse: 0.4047 - val_loss: 0.3922 - val_mae: 0.3922 - val_mse: 0.3922\n",
      "Epoch 13/20\n",
      "80/80 [==============================] - 1s 10ms/step - loss: 0.4047 - mae: 0.4047 - mse: 0.4047 - val_loss: 0.3922 - val_mae: 0.3922 - val_mse: 0.3922\n",
      "Epoch 14/20\n",
      "80/80 [==============================] - 0s 6ms/step - loss: 0.4047 - mae: 0.4047 - mse: 0.4047 - val_loss: 0.3922 - val_mae: 0.3922 - val_mse: 0.3922\n",
      "Epoch 15/20\n",
      "80/80 [==============================] - 1s 8ms/step - loss: 0.4047 - mae: 0.4047 - mse: 0.4047 - val_loss: 0.3922 - val_mae: 0.3922 - val_mse: 0.3922\n",
      "Epoch 16/20\n",
      "80/80 [==============================] - 1s 7ms/step - loss: 0.4047 - mae: 0.4047 - mse: 0.4047 - val_loss: 0.3922 - val_mae: 0.3922 - val_mse: 0.3922\n",
      "Epoch 17/20\n",
      "80/80 [==============================] - 0s 6ms/step - loss: 0.4047 - mae: 0.4047 - mse: 0.4047 - val_loss: 0.3922 - val_mae: 0.3922 - val_mse: 0.3922\n",
      "Epoch 18/20\n",
      "80/80 [==============================] - 0s 6ms/step - loss: 0.4047 - mae: 0.4047 - mse: 0.4047 - val_loss: 0.3922 - val_mae: 0.3922 - val_mse: 0.3922\n",
      "Epoch 19/20\n",
      "80/80 [==============================] - 0s 6ms/step - loss: 0.4047 - mae: 0.4047 - mse: 0.4047 - val_loss: 0.3922 - val_mae: 0.3922 - val_mse: 0.3922\n",
      "Epoch 20/20\n",
      "80/80 [==============================] - 0s 5ms/step - loss: 0.4047 - mae: 0.4047 - mse: 0.4047 - val_loss: 0.3922 - val_mae: 0.3922 - val_mse: 0.3922\n",
      "25/25 [==============================] - 0s 3ms/step\n"
     ]
    },
    {
     "name": "stderr",
     "output_type": "stream",
     "text": [
      "WARNING:absl:Found untraced functions such as _update_step_xla while saving (showing 1 of 1). These functions will not be directly callable after loading.\n"
     ]
    },
    {
     "name": "stdout",
     "output_type": "stream",
     "text": [
      "INFO:tensorflow:Assets written to: ram://5eec2d72b24e4e28ab75621674a8f8b8/assets\n"
     ]
    },
    {
     "name": "stderr",
     "output_type": "stream",
     "text": [
      "INFO:tensorflow:Assets written to: ram://5eec2d72b24e4e28ab75621674a8f8b8/assets\n"
     ]
    },
    {
     "name": "stdout",
     "output_type": "stream",
     "text": [
      "Epoch 1/20\n"
     ]
    },
    {
     "name": "stderr",
     "output_type": "stream",
     "text": [
      "2023-12-17 16:02:21.272190: W tensorflow/core/util/tensor_slice_reader.cc:97] Could not open ram://c81c4ecd98144008b368ac1c035da608: INVALID_ARGUMENT: ram://c81c4ecd98144008b368ac1c035da608 is a directory.\n"
     ]
    },
    {
     "name": "stdout",
     "output_type": "stream",
     "text": [
      "80/80 [==============================] - 1s 8ms/step - loss: 0.4016 - mae: 0.4016 - mse: 0.4016 - val_loss: 0.4156 - val_mae: 0.4156 - val_mse: 0.4156\n",
      "Epoch 2/20\n",
      "80/80 [==============================] - 0s 5ms/step - loss: 0.4016 - mae: 0.4016 - mse: 0.4016 - val_loss: 0.4156 - val_mae: 0.4156 - val_mse: 0.4156\n",
      "Epoch 3/20\n",
      "80/80 [==============================] - 0s 6ms/step - loss: 0.4016 - mae: 0.4016 - mse: 0.4016 - val_loss: 0.4156 - val_mae: 0.4156 - val_mse: 0.4156\n",
      "Epoch 4/20\n",
      "80/80 [==============================] - 1s 7ms/step - loss: 0.4016 - mae: 0.4016 - mse: 0.4016 - val_loss: 0.4156 - val_mae: 0.4156 - val_mse: 0.4156\n",
      "Epoch 5/20\n",
      "80/80 [==============================] - 0s 6ms/step - loss: 0.4016 - mae: 0.4016 - mse: 0.4016 - val_loss: 0.4156 - val_mae: 0.4156 - val_mse: 0.4156\n",
      "Epoch 6/20\n",
      "80/80 [==============================] - 0s 5ms/step - loss: 0.4016 - mae: 0.4016 - mse: 0.4016 - val_loss: 0.4156 - val_mae: 0.4156 - val_mse: 0.4156\n",
      "Epoch 7/20\n",
      "80/80 [==============================] - 0s 5ms/step - loss: 0.4016 - mae: 0.4016 - mse: 0.4016 - val_loss: 0.4156 - val_mae: 0.4156 - val_mse: 0.4156\n",
      "Epoch 8/20\n",
      "80/80 [==============================] - 0s 4ms/step - loss: 0.4016 - mae: 0.4016 - mse: 0.4016 - val_loss: 0.4156 - val_mae: 0.4156 - val_mse: 0.4156\n",
      "Epoch 9/20\n",
      "80/80 [==============================] - 0s 5ms/step - loss: 0.4016 - mae: 0.4016 - mse: 0.4016 - val_loss: 0.4156 - val_mae: 0.4156 - val_mse: 0.4156\n",
      "Epoch 10/20\n",
      "80/80 [==============================] - 1s 7ms/step - loss: 0.4016 - mae: 0.4016 - mse: 0.4016 - val_loss: 0.4156 - val_mae: 0.4156 - val_mse: 0.4156\n",
      "Epoch 11/20\n",
      "80/80 [==============================] - 0s 5ms/step - loss: 0.4016 - mae: 0.4016 - mse: 0.4016 - val_loss: 0.4156 - val_mae: 0.4156 - val_mse: 0.4156\n",
      "Epoch 12/20\n",
      "80/80 [==============================] - 1s 8ms/step - loss: 0.4016 - mae: 0.4016 - mse: 0.4016 - val_loss: 0.4156 - val_mae: 0.4156 - val_mse: 0.4156\n",
      "Epoch 13/20\n",
      "80/80 [==============================] - 0s 4ms/step - loss: 0.4016 - mae: 0.4016 - mse: 0.4016 - val_loss: 0.4156 - val_mae: 0.4156 - val_mse: 0.4156\n",
      "Epoch 14/20\n",
      "80/80 [==============================] - 0s 5ms/step - loss: 0.4016 - mae: 0.4016 - mse: 0.4016 - val_loss: 0.4156 - val_mae: 0.4156 - val_mse: 0.4156\n",
      "Epoch 15/20\n",
      "80/80 [==============================] - 0s 5ms/step - loss: 0.4016 - mae: 0.4016 - mse: 0.4016 - val_loss: 0.4156 - val_mae: 0.4156 - val_mse: 0.4156\n",
      "Epoch 16/20\n",
      "80/80 [==============================] - 0s 4ms/step - loss: 0.4016 - mae: 0.4016 - mse: 0.4016 - val_loss: 0.4156 - val_mae: 0.4156 - val_mse: 0.4156\n",
      "Epoch 17/20\n",
      "80/80 [==============================] - 0s 5ms/step - loss: 0.4016 - mae: 0.4016 - mse: 0.4016 - val_loss: 0.4156 - val_mae: 0.4156 - val_mse: 0.4156\n",
      "Epoch 18/20\n",
      "80/80 [==============================] - 1s 8ms/step - loss: 0.4016 - mae: 0.4016 - mse: 0.4016 - val_loss: 0.4156 - val_mae: 0.4156 - val_mse: 0.4156\n",
      "Epoch 19/20\n",
      "80/80 [==============================] - 1s 7ms/step - loss: 0.4016 - mae: 0.4016 - mse: 0.4016 - val_loss: 0.4156 - val_mae: 0.4156 - val_mse: 0.4156\n",
      "Epoch 20/20\n",
      "80/80 [==============================] - 1s 7ms/step - loss: 0.4016 - mae: 0.4016 - mse: 0.4016 - val_loss: 0.4156 - val_mae: 0.4156 - val_mse: 0.4156\n",
      "25/25 [==============================] - 0s 7ms/step\n"
     ]
    },
    {
     "name": "stderr",
     "output_type": "stream",
     "text": [
      "WARNING:absl:Found untraced functions such as _update_step_xla while saving (showing 1 of 1). These functions will not be directly callable after loading.\n"
     ]
    },
    {
     "name": "stdout",
     "output_type": "stream",
     "text": [
      "INFO:tensorflow:Assets written to: ram://ba47e15f283e4ce1aec6cfd2c38e0735/assets\n"
     ]
    },
    {
     "name": "stderr",
     "output_type": "stream",
     "text": [
      "INFO:tensorflow:Assets written to: ram://ba47e15f283e4ce1aec6cfd2c38e0735/assets\n"
     ]
    },
    {
     "name": "stdout",
     "output_type": "stream",
     "text": [
      "Epoch 1/20\n"
     ]
    },
    {
     "name": "stderr",
     "output_type": "stream",
     "text": [
      "2023-12-17 16:02:32.977327: W tensorflow/core/util/tensor_slice_reader.cc:97] Could not open ram://79699b8ce7e44e93a0f306c5615724cb: INVALID_ARGUMENT: ram://79699b8ce7e44e93a0f306c5615724cb is a directory.\n"
     ]
    },
    {
     "name": "stdout",
     "output_type": "stream",
     "text": [
      "80/80 [==============================] - 1s 7ms/step - loss: 0.4074 - mae: 0.4074 - mse: 0.4074 - val_loss: 0.4141 - val_mae: 0.4141 - val_mse: 0.4141\n",
      "Epoch 2/20\n",
      "80/80 [==============================] - 0s 4ms/step - loss: 0.4074 - mae: 0.4074 - mse: 0.4074 - val_loss: 0.4141 - val_mae: 0.4141 - val_mse: 0.4141\n",
      "Epoch 3/20\n",
      "80/80 [==============================] - 0s 5ms/step - loss: 0.4074 - mae: 0.4074 - mse: 0.4074 - val_loss: 0.4141 - val_mae: 0.4141 - val_mse: 0.4141\n",
      "Epoch 4/20\n",
      "80/80 [==============================] - 1s 8ms/step - loss: 0.4074 - mae: 0.4074 - mse: 0.4074 - val_loss: 0.4141 - val_mae: 0.4141 - val_mse: 0.4141\n",
      "Epoch 5/20\n",
      "80/80 [==============================] - 1s 9ms/step - loss: 0.4074 - mae: 0.4074 - mse: 0.4074 - val_loss: 0.4141 - val_mae: 0.4141 - val_mse: 0.4141\n",
      "Epoch 6/20\n",
      "80/80 [==============================] - 1s 11ms/step - loss: 0.4074 - mae: 0.4074 - mse: 0.4074 - val_loss: 0.4141 - val_mae: 0.4141 - val_mse: 0.4141\n",
      "Epoch 7/20\n",
      "80/80 [==============================] - 1s 8ms/step - loss: 0.4074 - mae: 0.4074 - mse: 0.4074 - val_loss: 0.4141 - val_mae: 0.4141 - val_mse: 0.4141\n",
      "Epoch 8/20\n",
      "80/80 [==============================] - 1s 8ms/step - loss: 0.4074 - mae: 0.4074 - mse: 0.4074 - val_loss: 0.4141 - val_mae: 0.4141 - val_mse: 0.4141\n",
      "Epoch 9/20\n",
      "80/80 [==============================] - 0s 6ms/step - loss: 0.4074 - mae: 0.4074 - mse: 0.4074 - val_loss: 0.4141 - val_mae: 0.4141 - val_mse: 0.4141\n",
      "Epoch 10/20\n",
      "80/80 [==============================] - 0s 6ms/step - loss: 0.4074 - mae: 0.4074 - mse: 0.4074 - val_loss: 0.4141 - val_mae: 0.4141 - val_mse: 0.4141\n",
      "Epoch 11/20\n",
      "80/80 [==============================] - 1s 6ms/step - loss: 0.4074 - mae: 0.4074 - mse: 0.4074 - val_loss: 0.4141 - val_mae: 0.4141 - val_mse: 0.4141\n",
      "Epoch 12/20\n",
      "80/80 [==============================] - 0s 6ms/step - loss: 0.4074 - mae: 0.4074 - mse: 0.4074 - val_loss: 0.4141 - val_mae: 0.4141 - val_mse: 0.4141\n",
      "Epoch 13/20\n",
      "80/80 [==============================] - 0s 5ms/step - loss: 0.4074 - mae: 0.4074 - mse: 0.4074 - val_loss: 0.4141 - val_mae: 0.4141 - val_mse: 0.4141\n",
      "Epoch 14/20\n",
      "80/80 [==============================] - 1s 10ms/step - loss: 0.4074 - mae: 0.4074 - mse: 0.4074 - val_loss: 0.4141 - val_mae: 0.4141 - val_mse: 0.4141\n",
      "Epoch 15/20\n",
      "80/80 [==============================] - 1s 10ms/step - loss: 0.4074 - mae: 0.4074 - mse: 0.4074 - val_loss: 0.4141 - val_mae: 0.4141 - val_mse: 0.4141\n",
      "Epoch 16/20\n",
      "80/80 [==============================] - 1s 11ms/step - loss: 0.4074 - mae: 0.4074 - mse: 0.4074 - val_loss: 0.4141 - val_mae: 0.4141 - val_mse: 0.4141\n",
      "Epoch 17/20\n",
      "80/80 [==============================] - 1s 9ms/step - loss: 0.4074 - mae: 0.4074 - mse: 0.4074 - val_loss: 0.4141 - val_mae: 0.4141 - val_mse: 0.4141\n",
      "Epoch 18/20\n",
      "80/80 [==============================] - 1s 15ms/step - loss: 0.4074 - mae: 0.4074 - mse: 0.4074 - val_loss: 0.4141 - val_mae: 0.4141 - val_mse: 0.4141\n",
      "Epoch 19/20\n",
      "80/80 [==============================] - 1s 10ms/step - loss: 0.4074 - mae: 0.4074 - mse: 0.4074 - val_loss: 0.4141 - val_mae: 0.4141 - val_mse: 0.4141\n",
      "Epoch 20/20\n",
      "80/80 [==============================] - 1s 8ms/step - loss: 0.4074 - mae: 0.4074 - mse: 0.4074 - val_loss: 0.4141 - val_mae: 0.4141 - val_mse: 0.4141\n",
      "25/25 [==============================] - 0s 7ms/step\n"
     ]
    },
    {
     "name": "stderr",
     "output_type": "stream",
     "text": [
      "WARNING:absl:Found untraced functions such as _update_step_xla while saving (showing 1 of 1). These functions will not be directly callable after loading.\n"
     ]
    },
    {
     "name": "stdout",
     "output_type": "stream",
     "text": [
      "INFO:tensorflow:Assets written to: ram://503889bcd08b4506a0db9f8b98e777bd/assets\n"
     ]
    },
    {
     "name": "stderr",
     "output_type": "stream",
     "text": [
      "INFO:tensorflow:Assets written to: ram://503889bcd08b4506a0db9f8b98e777bd/assets\n"
     ]
    },
    {
     "name": "stdout",
     "output_type": "stream",
     "text": [
      "Epoch 1/20\n"
     ]
    },
    {
     "name": "stderr",
     "output_type": "stream",
     "text": [
      "2023-12-17 16:02:55.202362: W tensorflow/core/util/tensor_slice_reader.cc:97] Could not open ram://1a981c006c914070b9e816e7fbe56385: INVALID_ARGUMENT: ram://1a981c006c914070b9e816e7fbe56385 is a directory.\n"
     ]
    },
    {
     "name": "stdout",
     "output_type": "stream",
     "text": [
      "80/80 [==============================] - 1s 11ms/step - loss: 0.4020 - mae: 0.4020 - mse: 0.4020 - val_loss: 0.4187 - val_mae: 0.4187 - val_mse: 0.4187\n",
      "Epoch 2/20\n",
      "80/80 [==============================] - 1s 9ms/step - loss: 0.4020 - mae: 0.4020 - mse: 0.4020 - val_loss: 0.4187 - val_mae: 0.4187 - val_mse: 0.4187\n",
      "Epoch 3/20\n",
      "80/80 [==============================] - 1s 9ms/step - loss: 0.4020 - mae: 0.4020 - mse: 0.4020 - val_loss: 0.4187 - val_mae: 0.4187 - val_mse: 0.4187\n",
      "Epoch 4/20\n",
      "80/80 [==============================] - 1s 10ms/step - loss: 0.4020 - mae: 0.4020 - mse: 0.4020 - val_loss: 0.4187 - val_mae: 0.4187 - val_mse: 0.4187\n",
      "Epoch 5/20\n",
      "80/80 [==============================] - 1s 12ms/step - loss: 0.4020 - mae: 0.4020 - mse: 0.4020 - val_loss: 0.4187 - val_mae: 0.4187 - val_mse: 0.4187\n",
      "Epoch 6/20\n",
      "80/80 [==============================] - 1s 10ms/step - loss: 0.4020 - mae: 0.4020 - mse: 0.4020 - val_loss: 0.4187 - val_mae: 0.4187 - val_mse: 0.4187\n",
      "Epoch 7/20\n",
      "80/80 [==============================] - 1s 7ms/step - loss: 0.4020 - mae: 0.4020 - mse: 0.4020 - val_loss: 0.4187 - val_mae: 0.4187 - val_mse: 0.4187\n",
      "Epoch 8/20\n",
      "80/80 [==============================] - 1s 9ms/step - loss: 0.4020 - mae: 0.4020 - mse: 0.4020 - val_loss: 0.4187 - val_mae: 0.4187 - val_mse: 0.4187\n",
      "Epoch 9/20\n",
      "80/80 [==============================] - 1s 7ms/step - loss: 0.4020 - mae: 0.4020 - mse: 0.4020 - val_loss: 0.4187 - val_mae: 0.4187 - val_mse: 0.4187\n",
      "Epoch 10/20\n",
      "80/80 [==============================] - 1s 9ms/step - loss: 0.4020 - mae: 0.4020 - mse: 0.4020 - val_loss: 0.4187 - val_mae: 0.4187 - val_mse: 0.4187\n",
      "Epoch 11/20\n",
      "80/80 [==============================] - 0s 6ms/step - loss: 0.4020 - mae: 0.4020 - mse: 0.4020 - val_loss: 0.4187 - val_mae: 0.4187 - val_mse: 0.4187\n",
      "Epoch 12/20\n",
      "80/80 [==============================] - 0s 6ms/step - loss: 0.4020 - mae: 0.4020 - mse: 0.4020 - val_loss: 0.4187 - val_mae: 0.4187 - val_mse: 0.4187\n",
      "Epoch 13/20\n",
      "80/80 [==============================] - 0s 5ms/step - loss: 0.4020 - mae: 0.4020 - mse: 0.4020 - val_loss: 0.4187 - val_mae: 0.4187 - val_mse: 0.4187\n",
      "Epoch 14/20\n",
      "80/80 [==============================] - 0s 6ms/step - loss: 0.4020 - mae: 0.4020 - mse: 0.4020 - val_loss: 0.4187 - val_mae: 0.4187 - val_mse: 0.4187\n",
      "Epoch 15/20\n",
      "80/80 [==============================] - 0s 5ms/step - loss: 0.4020 - mae: 0.4020 - mse: 0.4020 - val_loss: 0.4187 - val_mae: 0.4187 - val_mse: 0.4187\n",
      "Epoch 16/20\n",
      "80/80 [==============================] - 0s 5ms/step - loss: 0.4020 - mae: 0.4020 - mse: 0.4020 - val_loss: 0.4187 - val_mae: 0.4187 - val_mse: 0.4187\n",
      "Epoch 17/20\n",
      "80/80 [==============================] - 0s 4ms/step - loss: 0.4020 - mae: 0.4020 - mse: 0.4020 - val_loss: 0.4187 - val_mae: 0.4187 - val_mse: 0.4187\n",
      "Epoch 18/20\n",
      "80/80 [==============================] - 1s 7ms/step - loss: 0.4020 - mae: 0.4020 - mse: 0.4020 - val_loss: 0.4187 - val_mae: 0.4187 - val_mse: 0.4187\n",
      "Epoch 19/20\n",
      "80/80 [==============================] - 1s 8ms/step - loss: 0.4020 - mae: 0.4020 - mse: 0.4020 - val_loss: 0.4187 - val_mae: 0.4187 - val_mse: 0.4187\n",
      "Epoch 20/20\n",
      "80/80 [==============================] - 0s 4ms/step - loss: 0.4020 - mae: 0.4020 - mse: 0.4020 - val_loss: 0.4187 - val_mae: 0.4187 - val_mse: 0.4187\n",
      "25/25 [==============================] - 0s 2ms/step\n"
     ]
    },
    {
     "name": "stderr",
     "output_type": "stream",
     "text": [
      "WARNING:absl:Found untraced functions such as _update_step_xla while saving (showing 1 of 1). These functions will not be directly callable after loading.\n"
     ]
    },
    {
     "name": "stdout",
     "output_type": "stream",
     "text": [
      "INFO:tensorflow:Assets written to: ram://b483c33bc79743bc88e05b1912bb83ea/assets\n"
     ]
    },
    {
     "name": "stderr",
     "output_type": "stream",
     "text": [
      "INFO:tensorflow:Assets written to: ram://b483c33bc79743bc88e05b1912bb83ea/assets\n"
     ]
    },
    {
     "name": "stdout",
     "output_type": "stream",
     "text": [
      "Epoch 1/20\n"
     ]
    },
    {
     "name": "stderr",
     "output_type": "stream",
     "text": [
      "2023-12-17 16:03:08.707803: W tensorflow/core/util/tensor_slice_reader.cc:97] Could not open ram://5867aba499e842c396a4f12a2364f8b1: INVALID_ARGUMENT: ram://5867aba499e842c396a4f12a2364f8b1 is a directory.\n"
     ]
    },
    {
     "name": "stdout",
     "output_type": "stream",
     "text": [
      "80/80 [==============================] - 1s 6ms/step - loss: 0.3953 - mae: 0.3953 - mse: 0.3953 - val_loss: 0.4406 - val_mae: 0.4406 - val_mse: 0.4406\n",
      "Epoch 2/20\n",
      "80/80 [==============================] - 0s 4ms/step - loss: 0.3953 - mae: 0.3953 - mse: 0.3953 - val_loss: 0.4406 - val_mae: 0.4406 - val_mse: 0.4406\n",
      "Epoch 3/20\n",
      "80/80 [==============================] - 0s 5ms/step - loss: 0.3953 - mae: 0.3953 - mse: 0.3953 - val_loss: 0.4406 - val_mae: 0.4406 - val_mse: 0.4406\n",
      "Epoch 4/20\n",
      "80/80 [==============================] - 0s 5ms/step - loss: 0.3953 - mae: 0.3953 - mse: 0.3953 - val_loss: 0.4406 - val_mae: 0.4406 - val_mse: 0.4406\n",
      "Epoch 5/20\n",
      "80/80 [==============================] - 0s 4ms/step - loss: 0.3953 - mae: 0.3953 - mse: 0.3953 - val_loss: 0.4406 - val_mae: 0.4406 - val_mse: 0.4406\n",
      "Epoch 6/20\n",
      "80/80 [==============================] - 1s 8ms/step - loss: 0.3953 - mae: 0.3953 - mse: 0.3953 - val_loss: 0.4406 - val_mae: 0.4406 - val_mse: 0.4406\n",
      "Epoch 7/20\n",
      "80/80 [==============================] - 1s 8ms/step - loss: 0.3953 - mae: 0.3953 - mse: 0.3953 - val_loss: 0.4406 - val_mae: 0.4406 - val_mse: 0.4406\n",
      "Epoch 8/20\n",
      "80/80 [==============================] - 1s 6ms/step - loss: 0.3953 - mae: 0.3953 - mse: 0.3953 - val_loss: 0.4406 - val_mae: 0.4406 - val_mse: 0.4406\n",
      "Epoch 9/20\n",
      "80/80 [==============================] - 0s 6ms/step - loss: 0.3953 - mae: 0.3953 - mse: 0.3953 - val_loss: 0.4406 - val_mae: 0.4406 - val_mse: 0.4406\n",
      "Epoch 10/20\n",
      "80/80 [==============================] - 0s 6ms/step - loss: 0.3953 - mae: 0.3953 - mse: 0.3953 - val_loss: 0.4406 - val_mae: 0.4406 - val_mse: 0.4406\n",
      "Epoch 11/20\n",
      "80/80 [==============================] - 1s 7ms/step - loss: 0.3953 - mae: 0.3953 - mse: 0.3953 - val_loss: 0.4406 - val_mae: 0.4406 - val_mse: 0.4406\n",
      "Epoch 12/20\n",
      "80/80 [==============================] - 0s 6ms/step - loss: 0.3953 - mae: 0.3953 - mse: 0.3953 - val_loss: 0.4406 - val_mae: 0.4406 - val_mse: 0.4406\n",
      "Epoch 13/20\n",
      "80/80 [==============================] - 0s 5ms/step - loss: 0.3953 - mae: 0.3953 - mse: 0.3953 - val_loss: 0.4406 - val_mae: 0.4406 - val_mse: 0.4406\n",
      "Epoch 14/20\n",
      "80/80 [==============================] - 0s 5ms/step - loss: 0.3953 - mae: 0.3953 - mse: 0.3953 - val_loss: 0.4406 - val_mae: 0.4406 - val_mse: 0.4406\n",
      "Epoch 15/20\n",
      "80/80 [==============================] - 0s 5ms/step - loss: 0.3953 - mae: 0.3953 - mse: 0.3953 - val_loss: 0.4406 - val_mae: 0.4406 - val_mse: 0.4406\n",
      "Epoch 16/20\n",
      "80/80 [==============================] - 0s 6ms/step - loss: 0.3953 - mae: 0.3953 - mse: 0.3953 - val_loss: 0.4406 - val_mae: 0.4406 - val_mse: 0.4406\n",
      "Epoch 17/20\n",
      "80/80 [==============================] - 1s 8ms/step - loss: 0.3953 - mae: 0.3953 - mse: 0.3953 - val_loss: 0.4406 - val_mae: 0.4406 - val_mse: 0.4406\n",
      "Epoch 18/20\n",
      "80/80 [==============================] - 1s 8ms/step - loss: 0.3953 - mae: 0.3953 - mse: 0.3953 - val_loss: 0.4406 - val_mae: 0.4406 - val_mse: 0.4406\n",
      "Epoch 19/20\n",
      "80/80 [==============================] - 0s 6ms/step - loss: 0.3953 - mae: 0.3953 - mse: 0.3953 - val_loss: 0.4406 - val_mae: 0.4406 - val_mse: 0.4406\n",
      "Epoch 20/20\n",
      "80/80 [==============================] - 0s 6ms/step - loss: 0.3953 - mae: 0.3953 - mse: 0.3953 - val_loss: 0.4406 - val_mae: 0.4406 - val_mse: 0.4406\n",
      "25/25 [==============================] - 0s 4ms/step\n"
     ]
    },
    {
     "name": "stderr",
     "output_type": "stream",
     "text": [
      "WARNING:absl:Found untraced functions such as _update_step_xla while saving (showing 1 of 1). These functions will not be directly callable after loading.\n"
     ]
    },
    {
     "name": "stdout",
     "output_type": "stream",
     "text": [
      "WARNING:tensorflow:Detecting that an object or model or tf.train.Checkpoint is being deleted with unrestored values. See the following logs for the specific values in question. To silence these warnings, use `status.expect_partial()`. See https://www.tensorflow.org/api_docs/python/tf/train/Checkpoint#restorefor details about the status object returned by the restore function.\n"
     ]
    },
    {
     "name": "stderr",
     "output_type": "stream",
     "text": [
      "WARNING:tensorflow:Detecting that an object or model or tf.train.Checkpoint is being deleted with unrestored values. See the following logs for the specific values in question. To silence these warnings, use `status.expect_partial()`. See https://www.tensorflow.org/api_docs/python/tf/train/Checkpoint#restorefor details about the status object returned by the restore function.\n"
     ]
    },
    {
     "name": "stdout",
     "output_type": "stream",
     "text": [
      "WARNING:tensorflow:Value in checkpoint could not be found in the restored object: (root).keras_api.metrics.0.total\n"
     ]
    },
    {
     "name": "stderr",
     "output_type": "stream",
     "text": [
      "WARNING:tensorflow:Value in checkpoint could not be found in the restored object: (root).keras_api.metrics.0.total\n"
     ]
    },
    {
     "name": "stdout",
     "output_type": "stream",
     "text": [
      "WARNING:tensorflow:Value in checkpoint could not be found in the restored object: (root).keras_api.metrics.0.count\n"
     ]
    },
    {
     "name": "stderr",
     "output_type": "stream",
     "text": [
      "WARNING:tensorflow:Value in checkpoint could not be found in the restored object: (root).keras_api.metrics.0.count\n"
     ]
    },
    {
     "name": "stdout",
     "output_type": "stream",
     "text": [
      "WARNING:tensorflow:Value in checkpoint could not be found in the restored object: (root).keras_api.metrics.1.total\n"
     ]
    },
    {
     "name": "stderr",
     "output_type": "stream",
     "text": [
      "WARNING:tensorflow:Value in checkpoint could not be found in the restored object: (root).keras_api.metrics.1.total\n"
     ]
    },
    {
     "name": "stdout",
     "output_type": "stream",
     "text": [
      "WARNING:tensorflow:Value in checkpoint could not be found in the restored object: (root).keras_api.metrics.1.count\n"
     ]
    },
    {
     "name": "stderr",
     "output_type": "stream",
     "text": [
      "WARNING:tensorflow:Value in checkpoint could not be found in the restored object: (root).keras_api.metrics.1.count\n"
     ]
    },
    {
     "name": "stdout",
     "output_type": "stream",
     "text": [
      "WARNING:tensorflow:Value in checkpoint could not be found in the restored object: (root).keras_api.metrics.2.total\n"
     ]
    },
    {
     "name": "stderr",
     "output_type": "stream",
     "text": [
      "WARNING:tensorflow:Value in checkpoint could not be found in the restored object: (root).keras_api.metrics.2.total\n"
     ]
    },
    {
     "name": "stdout",
     "output_type": "stream",
     "text": [
      "WARNING:tensorflow:Value in checkpoint could not be found in the restored object: (root).keras_api.metrics.2.count\n"
     ]
    },
    {
     "name": "stderr",
     "output_type": "stream",
     "text": [
      "WARNING:tensorflow:Value in checkpoint could not be found in the restored object: (root).keras_api.metrics.2.count\n"
     ]
    },
    {
     "name": "stdout",
     "output_type": "stream",
     "text": [
      "WARNING:tensorflow:Detecting that an object or model or tf.train.Checkpoint is being deleted with unrestored values. See the following logs for the specific values in question. To silence these warnings, use `status.expect_partial()`. See https://www.tensorflow.org/api_docs/python/tf/train/Checkpoint#restorefor details about the status object returned by the restore function.\n"
     ]
    },
    {
     "name": "stderr",
     "output_type": "stream",
     "text": [
      "WARNING:tensorflow:Detecting that an object or model or tf.train.Checkpoint is being deleted with unrestored values. See the following logs for the specific values in question. To silence these warnings, use `status.expect_partial()`. See https://www.tensorflow.org/api_docs/python/tf/train/Checkpoint#restorefor details about the status object returned by the restore function.\n"
     ]
    },
    {
     "name": "stdout",
     "output_type": "stream",
     "text": [
      "WARNING:tensorflow:Value in checkpoint could not be found in the restored object: (root).keras_api.metrics.0.total\n"
     ]
    },
    {
     "name": "stderr",
     "output_type": "stream",
     "text": [
      "WARNING:tensorflow:Value in checkpoint could not be found in the restored object: (root).keras_api.metrics.0.total\n"
     ]
    },
    {
     "name": "stdout",
     "output_type": "stream",
     "text": [
      "WARNING:tensorflow:Value in checkpoint could not be found in the restored object: (root).keras_api.metrics.0.count\n"
     ]
    },
    {
     "name": "stderr",
     "output_type": "stream",
     "text": [
      "WARNING:tensorflow:Value in checkpoint could not be found in the restored object: (root).keras_api.metrics.0.count\n"
     ]
    },
    {
     "name": "stdout",
     "output_type": "stream",
     "text": [
      "WARNING:tensorflow:Value in checkpoint could not be found in the restored object: (root).keras_api.metrics.1.total\n"
     ]
    },
    {
     "name": "stderr",
     "output_type": "stream",
     "text": [
      "WARNING:tensorflow:Value in checkpoint could not be found in the restored object: (root).keras_api.metrics.1.total\n"
     ]
    },
    {
     "name": "stdout",
     "output_type": "stream",
     "text": [
      "WARNING:tensorflow:Value in checkpoint could not be found in the restored object: (root).keras_api.metrics.1.count\n"
     ]
    },
    {
     "name": "stderr",
     "output_type": "stream",
     "text": [
      "WARNING:tensorflow:Value in checkpoint could not be found in the restored object: (root).keras_api.metrics.1.count\n"
     ]
    },
    {
     "name": "stdout",
     "output_type": "stream",
     "text": [
      "WARNING:tensorflow:Value in checkpoint could not be found in the restored object: (root).keras_api.metrics.2.total\n"
     ]
    },
    {
     "name": "stderr",
     "output_type": "stream",
     "text": [
      "WARNING:tensorflow:Value in checkpoint could not be found in the restored object: (root).keras_api.metrics.2.total\n"
     ]
    },
    {
     "name": "stdout",
     "output_type": "stream",
     "text": [
      "WARNING:tensorflow:Value in checkpoint could not be found in the restored object: (root).keras_api.metrics.2.count\n"
     ]
    },
    {
     "name": "stderr",
     "output_type": "stream",
     "text": [
      "WARNING:tensorflow:Value in checkpoint could not be found in the restored object: (root).keras_api.metrics.2.count\n"
     ]
    },
    {
     "name": "stdout",
     "output_type": "stream",
     "text": [
      "WARNING:tensorflow:Detecting that an object or model or tf.train.Checkpoint is being deleted with unrestored values. See the following logs for the specific values in question. To silence these warnings, use `status.expect_partial()`. See https://www.tensorflow.org/api_docs/python/tf/train/Checkpoint#restorefor details about the status object returned by the restore function.\n"
     ]
    },
    {
     "name": "stderr",
     "output_type": "stream",
     "text": [
      "WARNING:tensorflow:Detecting that an object or model or tf.train.Checkpoint is being deleted with unrestored values. See the following logs for the specific values in question. To silence these warnings, use `status.expect_partial()`. See https://www.tensorflow.org/api_docs/python/tf/train/Checkpoint#restorefor details about the status object returned by the restore function.\n"
     ]
    },
    {
     "name": "stdout",
     "output_type": "stream",
     "text": [
      "WARNING:tensorflow:Value in checkpoint could not be found in the restored object: (root).keras_api.metrics.0.total\n"
     ]
    },
    {
     "name": "stderr",
     "output_type": "stream",
     "text": [
      "WARNING:tensorflow:Value in checkpoint could not be found in the restored object: (root).keras_api.metrics.0.total\n"
     ]
    },
    {
     "name": "stdout",
     "output_type": "stream",
     "text": [
      "WARNING:tensorflow:Value in checkpoint could not be found in the restored object: (root).keras_api.metrics.0.count\n"
     ]
    },
    {
     "name": "stderr",
     "output_type": "stream",
     "text": [
      "WARNING:tensorflow:Value in checkpoint could not be found in the restored object: (root).keras_api.metrics.0.count\n"
     ]
    },
    {
     "name": "stdout",
     "output_type": "stream",
     "text": [
      "WARNING:tensorflow:Value in checkpoint could not be found in the restored object: (root).keras_api.metrics.1.total\n"
     ]
    },
    {
     "name": "stderr",
     "output_type": "stream",
     "text": [
      "WARNING:tensorflow:Value in checkpoint could not be found in the restored object: (root).keras_api.metrics.1.total\n"
     ]
    },
    {
     "name": "stdout",
     "output_type": "stream",
     "text": [
      "WARNING:tensorflow:Value in checkpoint could not be found in the restored object: (root).keras_api.metrics.1.count\n"
     ]
    },
    {
     "name": "stderr",
     "output_type": "stream",
     "text": [
      "WARNING:tensorflow:Value in checkpoint could not be found in the restored object: (root).keras_api.metrics.1.count\n"
     ]
    },
    {
     "name": "stdout",
     "output_type": "stream",
     "text": [
      "WARNING:tensorflow:Value in checkpoint could not be found in the restored object: (root).keras_api.metrics.2.total\n"
     ]
    },
    {
     "name": "stderr",
     "output_type": "stream",
     "text": [
      "WARNING:tensorflow:Value in checkpoint could not be found in the restored object: (root).keras_api.metrics.2.total\n"
     ]
    },
    {
     "name": "stdout",
     "output_type": "stream",
     "text": [
      "WARNING:tensorflow:Value in checkpoint could not be found in the restored object: (root).keras_api.metrics.2.count\n"
     ]
    },
    {
     "name": "stderr",
     "output_type": "stream",
     "text": [
      "WARNING:tensorflow:Value in checkpoint could not be found in the restored object: (root).keras_api.metrics.2.count\n"
     ]
    },
    {
     "name": "stdout",
     "output_type": "stream",
     "text": [
      "WARNING:tensorflow:Detecting that an object or model or tf.train.Checkpoint is being deleted with unrestored values. See the following logs for the specific values in question. To silence these warnings, use `status.expect_partial()`. See https://www.tensorflow.org/api_docs/python/tf/train/Checkpoint#restorefor details about the status object returned by the restore function.\n"
     ]
    },
    {
     "name": "stderr",
     "output_type": "stream",
     "text": [
      "WARNING:tensorflow:Detecting that an object or model or tf.train.Checkpoint is being deleted with unrestored values. See the following logs for the specific values in question. To silence these warnings, use `status.expect_partial()`. See https://www.tensorflow.org/api_docs/python/tf/train/Checkpoint#restorefor details about the status object returned by the restore function.\n"
     ]
    },
    {
     "name": "stdout",
     "output_type": "stream",
     "text": [
      "WARNING:tensorflow:Value in checkpoint could not be found in the restored object: (root).keras_api.metrics.0.total\n"
     ]
    },
    {
     "name": "stderr",
     "output_type": "stream",
     "text": [
      "WARNING:tensorflow:Value in checkpoint could not be found in the restored object: (root).keras_api.metrics.0.total\n"
     ]
    },
    {
     "name": "stdout",
     "output_type": "stream",
     "text": [
      "WARNING:tensorflow:Value in checkpoint could not be found in the restored object: (root).keras_api.metrics.0.count\n"
     ]
    },
    {
     "name": "stderr",
     "output_type": "stream",
     "text": [
      "WARNING:tensorflow:Value in checkpoint could not be found in the restored object: (root).keras_api.metrics.0.count\n"
     ]
    },
    {
     "name": "stdout",
     "output_type": "stream",
     "text": [
      "WARNING:tensorflow:Value in checkpoint could not be found in the restored object: (root).keras_api.metrics.1.total\n"
     ]
    },
    {
     "name": "stderr",
     "output_type": "stream",
     "text": [
      "WARNING:tensorflow:Value in checkpoint could not be found in the restored object: (root).keras_api.metrics.1.total\n"
     ]
    },
    {
     "name": "stdout",
     "output_type": "stream",
     "text": [
      "WARNING:tensorflow:Value in checkpoint could not be found in the restored object: (root).keras_api.metrics.1.count\n"
     ]
    },
    {
     "name": "stderr",
     "output_type": "stream",
     "text": [
      "WARNING:tensorflow:Value in checkpoint could not be found in the restored object: (root).keras_api.metrics.1.count\n"
     ]
    },
    {
     "name": "stdout",
     "output_type": "stream",
     "text": [
      "WARNING:tensorflow:Value in checkpoint could not be found in the restored object: (root).keras_api.metrics.2.total\n"
     ]
    },
    {
     "name": "stderr",
     "output_type": "stream",
     "text": [
      "WARNING:tensorflow:Value in checkpoint could not be found in the restored object: (root).keras_api.metrics.2.total\n"
     ]
    },
    {
     "name": "stdout",
     "output_type": "stream",
     "text": [
      "WARNING:tensorflow:Value in checkpoint could not be found in the restored object: (root).keras_api.metrics.2.count\n"
     ]
    },
    {
     "name": "stderr",
     "output_type": "stream",
     "text": [
      "WARNING:tensorflow:Value in checkpoint could not be found in the restored object: (root).keras_api.metrics.2.count\n"
     ]
    },
    {
     "name": "stdout",
     "output_type": "stream",
     "text": [
      "WARNING:tensorflow:Detecting that an object or model or tf.train.Checkpoint is being deleted with unrestored values. See the following logs for the specific values in question. To silence these warnings, use `status.expect_partial()`. See https://www.tensorflow.org/api_docs/python/tf/train/Checkpoint#restorefor details about the status object returned by the restore function.\n"
     ]
    },
    {
     "name": "stderr",
     "output_type": "stream",
     "text": [
      "WARNING:tensorflow:Detecting that an object or model or tf.train.Checkpoint is being deleted with unrestored values. See the following logs for the specific values in question. To silence these warnings, use `status.expect_partial()`. See https://www.tensorflow.org/api_docs/python/tf/train/Checkpoint#restorefor details about the status object returned by the restore function.\n"
     ]
    },
    {
     "name": "stdout",
     "output_type": "stream",
     "text": [
      "WARNING:tensorflow:Value in checkpoint could not be found in the restored object: (root).keras_api.metrics.0.total\n"
     ]
    },
    {
     "name": "stderr",
     "output_type": "stream",
     "text": [
      "WARNING:tensorflow:Value in checkpoint could not be found in the restored object: (root).keras_api.metrics.0.total\n"
     ]
    },
    {
     "name": "stdout",
     "output_type": "stream",
     "text": [
      "WARNING:tensorflow:Value in checkpoint could not be found in the restored object: (root).keras_api.metrics.0.count\n"
     ]
    },
    {
     "name": "stderr",
     "output_type": "stream",
     "text": [
      "WARNING:tensorflow:Value in checkpoint could not be found in the restored object: (root).keras_api.metrics.0.count\n"
     ]
    },
    {
     "name": "stdout",
     "output_type": "stream",
     "text": [
      "WARNING:tensorflow:Value in checkpoint could not be found in the restored object: (root).keras_api.metrics.1.total\n"
     ]
    },
    {
     "name": "stderr",
     "output_type": "stream",
     "text": [
      "WARNING:tensorflow:Value in checkpoint could not be found in the restored object: (root).keras_api.metrics.1.total\n"
     ]
    },
    {
     "name": "stdout",
     "output_type": "stream",
     "text": [
      "WARNING:tensorflow:Value in checkpoint could not be found in the restored object: (root).keras_api.metrics.1.count\n"
     ]
    },
    {
     "name": "stderr",
     "output_type": "stream",
     "text": [
      "WARNING:tensorflow:Value in checkpoint could not be found in the restored object: (root).keras_api.metrics.1.count\n"
     ]
    },
    {
     "name": "stdout",
     "output_type": "stream",
     "text": [
      "WARNING:tensorflow:Value in checkpoint could not be found in the restored object: (root).keras_api.metrics.2.total\n"
     ]
    },
    {
     "name": "stderr",
     "output_type": "stream",
     "text": [
      "WARNING:tensorflow:Value in checkpoint could not be found in the restored object: (root).keras_api.metrics.2.total\n"
     ]
    },
    {
     "name": "stdout",
     "output_type": "stream",
     "text": [
      "WARNING:tensorflow:Value in checkpoint could not be found in the restored object: (root).keras_api.metrics.2.count\n"
     ]
    },
    {
     "name": "stderr",
     "output_type": "stream",
     "text": [
      "WARNING:tensorflow:Value in checkpoint could not be found in the restored object: (root).keras_api.metrics.2.count\n"
     ]
    },
    {
     "name": "stdout",
     "output_type": "stream",
     "text": [
      "INFO:tensorflow:Assets written to: ram://3806541e854c488c9084be417949990a/assets\n"
     ]
    },
    {
     "name": "stderr",
     "output_type": "stream",
     "text": [
      "INFO:tensorflow:Assets written to: ram://3806541e854c488c9084be417949990a/assets\n"
     ]
    },
    {
     "name": "stdout",
     "output_type": "stream",
     "text": [
      "Epoch 1/20\n"
     ]
    },
    {
     "name": "stderr",
     "output_type": "stream",
     "text": [
      "2023-12-17 16:03:20.760712: W tensorflow/core/util/tensor_slice_reader.cc:97] Could not open ram://f7513ec098134fd485d44170b790abcc: INVALID_ARGUMENT: ram://f7513ec098134fd485d44170b790abcc is a directory.\n"
     ]
    },
    {
     "name": "stdout",
     "output_type": "stream",
     "text": [
      "80/80 [==============================] - 1s 7ms/step - loss: 0.4047 - mae: 0.4047 - mse: 0.4047 - val_loss: 0.3922 - val_mae: 0.3922 - val_mse: 0.3922\n",
      "Epoch 2/20\n",
      "80/80 [==============================] - 1s 8ms/step - loss: 0.4047 - mae: 0.4047 - mse: 0.4047 - val_loss: 0.3922 - val_mae: 0.3922 - val_mse: 0.3922\n",
      "Epoch 3/20\n",
      "80/80 [==============================] - 0s 5ms/step - loss: 0.4047 - mae: 0.4047 - mse: 0.4047 - val_loss: 0.3922 - val_mae: 0.3922 - val_mse: 0.3922\n",
      "Epoch 4/20\n",
      "80/80 [==============================] - 0s 5ms/step - loss: 0.4047 - mae: 0.4047 - mse: 0.4047 - val_loss: 0.3922 - val_mae: 0.3922 - val_mse: 0.3922\n",
      "Epoch 5/20\n",
      "80/80 [==============================] - 0s 5ms/step - loss: 0.4047 - mae: 0.4047 - mse: 0.4047 - val_loss: 0.3922 - val_mae: 0.3922 - val_mse: 0.3922\n",
      "Epoch 6/20\n",
      "80/80 [==============================] - 0s 5ms/step - loss: 0.4047 - mae: 0.4047 - mse: 0.4047 - val_loss: 0.3922 - val_mae: 0.3922 - val_mse: 0.3922\n",
      "Epoch 7/20\n",
      "80/80 [==============================] - 0s 4ms/step - loss: 0.4047 - mae: 0.4047 - mse: 0.4047 - val_loss: 0.3922 - val_mae: 0.3922 - val_mse: 0.3922\n",
      "Epoch 8/20\n",
      "80/80 [==============================] - 0s 5ms/step - loss: 0.4047 - mae: 0.4047 - mse: 0.4047 - val_loss: 0.3922 - val_mae: 0.3922 - val_mse: 0.3922\n",
      "Epoch 9/20\n",
      "80/80 [==============================] - 0s 5ms/step - loss: 0.4047 - mae: 0.4047 - mse: 0.4047 - val_loss: 0.3922 - val_mae: 0.3922 - val_mse: 0.3922\n",
      "Epoch 10/20\n",
      "80/80 [==============================] - 0s 6ms/step - loss: 0.4047 - mae: 0.4047 - mse: 0.4047 - val_loss: 0.3922 - val_mae: 0.3922 - val_mse: 0.3922\n",
      "Epoch 11/20\n",
      "80/80 [==============================] - 0s 5ms/step - loss: 0.4047 - mae: 0.4047 - mse: 0.4047 - val_loss: 0.3922 - val_mae: 0.3922 - val_mse: 0.3922\n",
      "Epoch 12/20\n",
      "80/80 [==============================] - 0s 4ms/step - loss: 0.4047 - mae: 0.4047 - mse: 0.4047 - val_loss: 0.3922 - val_mae: 0.3922 - val_mse: 0.3922\n",
      "Epoch 13/20\n",
      "80/80 [==============================] - 1s 9ms/step - loss: 0.4047 - mae: 0.4047 - mse: 0.4047 - val_loss: 0.3922 - val_mae: 0.3922 - val_mse: 0.3922\n",
      "Epoch 14/20\n",
      "80/80 [==============================] - 1s 7ms/step - loss: 0.4047 - mae: 0.4047 - mse: 0.4047 - val_loss: 0.3922 - val_mae: 0.3922 - val_mse: 0.3922\n",
      "Epoch 15/20\n",
      "80/80 [==============================] - 0s 6ms/step - loss: 0.4047 - mae: 0.4047 - mse: 0.4047 - val_loss: 0.3922 - val_mae: 0.3922 - val_mse: 0.3922\n",
      "Epoch 16/20\n",
      "80/80 [==============================] - 1s 6ms/step - loss: 0.4047 - mae: 0.4047 - mse: 0.4047 - val_loss: 0.3922 - val_mae: 0.3922 - val_mse: 0.3922\n",
      "Epoch 17/20\n",
      "80/80 [==============================] - 0s 5ms/step - loss: 0.4047 - mae: 0.4047 - mse: 0.4047 - val_loss: 0.3922 - val_mae: 0.3922 - val_mse: 0.3922\n",
      "Epoch 18/20\n",
      "80/80 [==============================] - 1s 7ms/step - loss: 0.4047 - mae: 0.4047 - mse: 0.4047 - val_loss: 0.3922 - val_mae: 0.3922 - val_mse: 0.3922\n",
      "Epoch 19/20\n",
      "80/80 [==============================] - 1s 9ms/step - loss: 0.4047 - mae: 0.4047 - mse: 0.4047 - val_loss: 0.3922 - val_mae: 0.3922 - val_mse: 0.3922\n",
      "Epoch 20/20\n",
      "80/80 [==============================] - 1s 8ms/step - loss: 0.4047 - mae: 0.4047 - mse: 0.4047 - val_loss: 0.3922 - val_mae: 0.3922 - val_mse: 0.3922\n",
      "25/25 [==============================] - 0s 4ms/step\n"
     ]
    },
    {
     "name": "stderr",
     "output_type": "stream",
     "text": [
      "WARNING:absl:Found untraced functions such as _update_step_xla while saving (showing 1 of 1). These functions will not be directly callable after loading.\n"
     ]
    },
    {
     "name": "stdout",
     "output_type": "stream",
     "text": [
      "INFO:tensorflow:Assets written to: ram://6f966bf339f64af0ab12e1eecccb0291/assets\n"
     ]
    },
    {
     "name": "stderr",
     "output_type": "stream",
     "text": [
      "INFO:tensorflow:Assets written to: ram://6f966bf339f64af0ab12e1eecccb0291/assets\n",
      "2023-12-17 16:03:32.477805: W tensorflow/core/util/tensor_slice_reader.cc:97] Could not open ram://04e14d59fc044f83acffc6997ebaaa2f: INVALID_ARGUMENT: ram://04e14d59fc044f83acffc6997ebaaa2f is a directory.\n",
      "WARNING:absl:Found untraced functions such as _update_step_xla while saving (showing 1 of 1). These functions will not be directly callable after loading.\n"
     ]
    },
    {
     "name": "stdout",
     "output_type": "stream",
     "text": [
      "INFO:tensorflow:Assets written to: ram://5918c88e3eb447dab57a169cd60bf384/assets\n"
     ]
    },
    {
     "name": "stderr",
     "output_type": "stream",
     "text": [
      "INFO:tensorflow:Assets written to: ram://5918c88e3eb447dab57a169cd60bf384/assets\n"
     ]
    },
    {
     "name": "stdout",
     "output_type": "stream",
     "text": [
      "Epoch 1/20\n"
     ]
    },
    {
     "name": "stderr",
     "output_type": "stream",
     "text": [
      "2023-12-17 16:03:33.178866: W tensorflow/core/util/tensor_slice_reader.cc:97] Could not open ram://9efc49766acf4343931bcc33e382d7a4: INVALID_ARGUMENT: ram://9efc49766acf4343931bcc33e382d7a4 is a directory.\n"
     ]
    },
    {
     "name": "stdout",
     "output_type": "stream",
     "text": [
      "100/100 [==============================] - 1s 10ms/step - loss: 0.4022 - mae: 0.4022 - mse: 0.4022 - val_loss: 0.4162 - val_mae: 0.4162 - val_mse: 0.4162\n",
      "Epoch 2/20\n",
      "100/100 [==============================] - 1s 6ms/step - loss: 0.4022 - mae: 0.4022 - mse: 0.4022 - val_loss: 0.4162 - val_mae: 0.4162 - val_mse: 0.4162\n",
      "Epoch 3/20\n",
      "100/100 [==============================] - 1s 7ms/step - loss: 0.4022 - mae: 0.4022 - mse: 0.4022 - val_loss: 0.4162 - val_mae: 0.4162 - val_mse: 0.4162\n",
      "Epoch 4/20\n",
      "100/100 [==============================] - 1s 7ms/step - loss: 0.4022 - mae: 0.4022 - mse: 0.4022 - val_loss: 0.4162 - val_mae: 0.4162 - val_mse: 0.4162\n",
      "Epoch 5/20\n",
      "100/100 [==============================] - 1s 6ms/step - loss: 0.4022 - mae: 0.4022 - mse: 0.4022 - val_loss: 0.4162 - val_mae: 0.4162 - val_mse: 0.4162\n",
      "Epoch 6/20\n",
      "100/100 [==============================] - 1s 5ms/step - loss: 0.4022 - mae: 0.4022 - mse: 0.4022 - val_loss: 0.4162 - val_mae: 0.4162 - val_mse: 0.4162\n",
      "Epoch 7/20\n",
      "100/100 [==============================] - 1s 6ms/step - loss: 0.4022 - mae: 0.4022 - mse: 0.4022 - val_loss: 0.4162 - val_mae: 0.4162 - val_mse: 0.4162\n",
      "Epoch 8/20\n",
      "100/100 [==============================] - 0s 4ms/step - loss: 0.4022 - mae: 0.4022 - mse: 0.4022 - val_loss: 0.4162 - val_mae: 0.4162 - val_mse: 0.4162\n",
      "Epoch 9/20\n",
      "100/100 [==============================] - 0s 4ms/step - loss: 0.4022 - mae: 0.4022 - mse: 0.4022 - val_loss: 0.4162 - val_mae: 0.4162 - val_mse: 0.4162\n",
      "Epoch 10/20\n",
      "100/100 [==============================] - 1s 6ms/step - loss: 0.4022 - mae: 0.4022 - mse: 0.4022 - val_loss: 0.4162 - val_mae: 0.4162 - val_mse: 0.4162\n",
      "Epoch 11/20\n",
      "100/100 [==============================] - 1s 6ms/step - loss: 0.4022 - mae: 0.4022 - mse: 0.4022 - val_loss: 0.4162 - val_mae: 0.4162 - val_mse: 0.4162\n",
      "Epoch 12/20\n",
      "100/100 [==============================] - 1s 8ms/step - loss: 0.4022 - mae: 0.4022 - mse: 0.4022 - val_loss: 0.4162 - val_mae: 0.4162 - val_mse: 0.4162\n",
      "Epoch 13/20\n",
      "100/100 [==============================] - 1s 5ms/step - loss: 0.4022 - mae: 0.4022 - mse: 0.4022 - val_loss: 0.4162 - val_mae: 0.4162 - val_mse: 0.4162\n",
      "Epoch 14/20\n",
      "100/100 [==============================] - 0s 4ms/step - loss: 0.4022 - mae: 0.4022 - mse: 0.4022 - val_loss: 0.4162 - val_mae: 0.4162 - val_mse: 0.4162\n",
      "Epoch 15/20\n",
      "100/100 [==============================] - 1s 5ms/step - loss: 0.4022 - mae: 0.4022 - mse: 0.4022 - val_loss: 0.4162 - val_mae: 0.4162 - val_mse: 0.4162\n",
      "Epoch 16/20\n",
      "100/100 [==============================] - 1s 6ms/step - loss: 0.4022 - mae: 0.4022 - mse: 0.4022 - val_loss: 0.4162 - val_mae: 0.4162 - val_mse: 0.4162\n",
      "Epoch 17/20\n",
      "100/100 [==============================] - 1s 6ms/step - loss: 0.4022 - mae: 0.4022 - mse: 0.4022 - val_loss: 0.4162 - val_mae: 0.4162 - val_mse: 0.4162\n",
      "Epoch 18/20\n",
      "100/100 [==============================] - 1s 6ms/step - loss: 0.4022 - mae: 0.4022 - mse: 0.4022 - val_loss: 0.4162 - val_mae: 0.4162 - val_mse: 0.4162\n",
      "Epoch 19/20\n",
      "100/100 [==============================] - 0s 5ms/step - loss: 0.4022 - mae: 0.4022 - mse: 0.4022 - val_loss: 0.4162 - val_mae: 0.4162 - val_mse: 0.4162\n",
      "Epoch 20/20\n",
      "100/100 [==============================] - 1s 9ms/step - loss: 0.4022 - mae: 0.4022 - mse: 0.4022 - val_loss: 0.4162 - val_mae: 0.4162 - val_mse: 0.4162\n"
     ]
    },
    {
     "data": {
      "text/html": [
       "<style>#sk-container-id-3 {color: black;}#sk-container-id-3 pre{padding: 0;}#sk-container-id-3 div.sk-toggleable {background-color: white;}#sk-container-id-3 label.sk-toggleable__label {cursor: pointer;display: block;width: 100%;margin-bottom: 0;padding: 0.3em;box-sizing: border-box;text-align: center;}#sk-container-id-3 label.sk-toggleable__label-arrow:before {content: \"▸\";float: left;margin-right: 0.25em;color: #696969;}#sk-container-id-3 label.sk-toggleable__label-arrow:hover:before {color: black;}#sk-container-id-3 div.sk-estimator:hover label.sk-toggleable__label-arrow:before {color: black;}#sk-container-id-3 div.sk-toggleable__content {max-height: 0;max-width: 0;overflow: hidden;text-align: left;background-color: #f0f8ff;}#sk-container-id-3 div.sk-toggleable__content pre {margin: 0.2em;color: black;border-radius: 0.25em;background-color: #f0f8ff;}#sk-container-id-3 input.sk-toggleable__control:checked~div.sk-toggleable__content {max-height: 200px;max-width: 100%;overflow: auto;}#sk-container-id-3 input.sk-toggleable__control:checked~label.sk-toggleable__label-arrow:before {content: \"▾\";}#sk-container-id-3 div.sk-estimator input.sk-toggleable__control:checked~label.sk-toggleable__label {background-color: #d4ebff;}#sk-container-id-3 div.sk-label input.sk-toggleable__control:checked~label.sk-toggleable__label {background-color: #d4ebff;}#sk-container-id-3 input.sk-hidden--visually {border: 0;clip: rect(1px 1px 1px 1px);clip: rect(1px, 1px, 1px, 1px);height: 1px;margin: -1px;overflow: hidden;padding: 0;position: absolute;width: 1px;}#sk-container-id-3 div.sk-estimator {font-family: monospace;background-color: #f0f8ff;border: 1px dotted black;border-radius: 0.25em;box-sizing: border-box;margin-bottom: 0.5em;}#sk-container-id-3 div.sk-estimator:hover {background-color: #d4ebff;}#sk-container-id-3 div.sk-parallel-item::after {content: \"\";width: 100%;border-bottom: 1px solid gray;flex-grow: 1;}#sk-container-id-3 div.sk-label:hover label.sk-toggleable__label {background-color: #d4ebff;}#sk-container-id-3 div.sk-serial::before {content: \"\";position: absolute;border-left: 1px solid gray;box-sizing: border-box;top: 0;bottom: 0;left: 50%;z-index: 0;}#sk-container-id-3 div.sk-serial {display: flex;flex-direction: column;align-items: center;background-color: white;padding-right: 0.2em;padding-left: 0.2em;position: relative;}#sk-container-id-3 div.sk-item {position: relative;z-index: 1;}#sk-container-id-3 div.sk-parallel {display: flex;align-items: stretch;justify-content: center;background-color: white;position: relative;}#sk-container-id-3 div.sk-item::before, #sk-container-id-3 div.sk-parallel-item::before {content: \"\";position: absolute;border-left: 1px solid gray;box-sizing: border-box;top: 0;bottom: 0;left: 50%;z-index: -1;}#sk-container-id-3 div.sk-parallel-item {display: flex;flex-direction: column;z-index: 1;position: relative;background-color: white;}#sk-container-id-3 div.sk-parallel-item:first-child::after {align-self: flex-end;width: 50%;}#sk-container-id-3 div.sk-parallel-item:last-child::after {align-self: flex-start;width: 50%;}#sk-container-id-3 div.sk-parallel-item:only-child::after {width: 0;}#sk-container-id-3 div.sk-dashed-wrapped {border: 1px dashed gray;margin: 0 0.4em 0.5em 0.4em;box-sizing: border-box;padding-bottom: 0.4em;background-color: white;}#sk-container-id-3 div.sk-label label {font-family: monospace;font-weight: bold;display: inline-block;line-height: 1.2em;}#sk-container-id-3 div.sk-label-container {text-align: center;}#sk-container-id-3 div.sk-container {/* jupyter's `normalize.less` sets `[hidden] { display: none; }` but bootstrap.min.css set `[hidden] { display: none !important; }` so we also need the `!important` here to be able to override the default hidden behavior on the sphinx rendered scikit-learn.org. See: https://github.com/scikit-learn/scikit-learn/issues/21755 */display: inline-block !important;position: relative;}#sk-container-id-3 div.sk-text-repr-fallback {display: none;}</style><div id=\"sk-container-id-3\" class=\"sk-top-container\"><div class=\"sk-text-repr-fallback\"><pre>GridSearchCV(cv=KFold(n_splits=5, random_state=2021, shuffle=True),\n",
       "             error_score=&#x27;raise&#x27;,\n",
       "             estimator=KerasRegressor(batch_size=32, epochs=20, model=&lt;keras.engine.sequential.Sequential object at 0x7f3f2c113fa0&gt;, validation_split=0.2),\n",
       "             param_grid={&#x27;optimizer&#x27;: [&#x27;SGD&#x27;, &#x27;RMSprop&#x27;, &#x27;Adagrad&#x27;]},\n",
       "             refit=&#x27;True&#x27;, scoring=&#x27;neg_mean_absolute_error&#x27;, verbose=1)</pre><b>In a Jupyter environment, please rerun this cell to show the HTML representation or trust the notebook. <br />On GitHub, the HTML representation is unable to render, please try loading this page with nbviewer.org.</b></div><div class=\"sk-container\" hidden><div class=\"sk-item sk-dashed-wrapped\"><div class=\"sk-label-container\"><div class=\"sk-label sk-toggleable\"><input class=\"sk-toggleable__control sk-hidden--visually\" id=\"sk-estimator-id-5\" type=\"checkbox\" ><label for=\"sk-estimator-id-5\" class=\"sk-toggleable__label sk-toggleable__label-arrow\">GridSearchCV</label><div class=\"sk-toggleable__content\"><pre>GridSearchCV(cv=KFold(n_splits=5, random_state=2021, shuffle=True),\n",
       "             error_score=&#x27;raise&#x27;,\n",
       "             estimator=KerasRegressor(batch_size=32, epochs=20, model=&lt;keras.engine.sequential.Sequential object at 0x7f3f2c113fa0&gt;, validation_split=0.2),\n",
       "             param_grid={&#x27;optimizer&#x27;: [&#x27;SGD&#x27;, &#x27;RMSprop&#x27;, &#x27;Adagrad&#x27;]},\n",
       "             refit=&#x27;True&#x27;, scoring=&#x27;neg_mean_absolute_error&#x27;, verbose=1)</pre></div></div></div><div class=\"sk-parallel\"><div class=\"sk-parallel-item\"><div class=\"sk-item\"><div class=\"sk-label-container\"><div class=\"sk-label sk-toggleable\"><input class=\"sk-toggleable__control sk-hidden--visually\" id=\"sk-estimator-id-6\" type=\"checkbox\" ><label for=\"sk-estimator-id-6\" class=\"sk-toggleable__label sk-toggleable__label-arrow\">estimator: KerasRegressor</label><div class=\"sk-toggleable__content\"><pre>KerasRegressor(\n",
       "\tmodel=&lt;keras.engine.sequential.Sequential object at 0x7f3f2c113fa0&gt;\n",
       "\tbuild_fn=None\n",
       "\twarm_start=False\n",
       "\trandom_state=None\n",
       "\toptimizer=rmsprop\n",
       "\tloss=None\n",
       "\tmetrics=None\n",
       "\tbatch_size=32\n",
       "\tvalidation_batch_size=None\n",
       "\tverbose=1\n",
       "\tcallbacks=None\n",
       "\tvalidation_split=0.2\n",
       "\tshuffle=True\n",
       "\trun_eagerly=False\n",
       "\tepochs=20\n",
       ")</pre></div></div></div><div class=\"sk-serial\"><div class=\"sk-item\"><div class=\"sk-estimator sk-toggleable\"><input class=\"sk-toggleable__control sk-hidden--visually\" id=\"sk-estimator-id-7\" type=\"checkbox\" ><label for=\"sk-estimator-id-7\" class=\"sk-toggleable__label sk-toggleable__label-arrow\">KerasRegressor</label><div class=\"sk-toggleable__content\"><pre>KerasRegressor(\n",
       "\tmodel=&lt;keras.engine.sequential.Sequential object at 0x7f3f2c113fa0&gt;\n",
       "\tbuild_fn=None\n",
       "\twarm_start=False\n",
       "\trandom_state=None\n",
       "\toptimizer=rmsprop\n",
       "\tloss=None\n",
       "\tmetrics=None\n",
       "\tbatch_size=32\n",
       "\tvalidation_batch_size=None\n",
       "\tverbose=1\n",
       "\tcallbacks=None\n",
       "\tvalidation_split=0.2\n",
       "\tshuffle=True\n",
       "\trun_eagerly=False\n",
       "\tepochs=20\n",
       ")</pre></div></div></div></div></div></div></div></div></div></div>"
      ],
      "text/plain": [
       "GridSearchCV(cv=KFold(n_splits=5, random_state=2021, shuffle=True),\n",
       "             error_score='raise',\n",
       "             estimator=KerasRegressor(batch_size=32, epochs=20, model=<keras.engine.sequential.Sequential object at 0x7f3f2c113fa0>, validation_split=0.2),\n",
       "             param_grid={'optimizer': ['SGD', 'RMSprop', 'Adagrad']},\n",
       "             refit='True', scoring='neg_mean_absolute_error', verbose=1)"
      ]
     },
     "execution_count": 59,
     "metadata": {},
     "output_type": "execute_result"
    }
   ],
   "source": [
    "grid_search = GridSearchCV(estimator = model, param_grid = param_grid, cv = kf, scoring = 'neg_mean_absolute_error',refit = 'True', verbose = 1,error_score='raise',)\n",
    "grid_search.fit(X_train,y_train)"
   ]
  },
  {
   "cell_type": "code",
   "execution_count": 65,
   "id": "6f612303",
   "metadata": {
    "tags": []
   },
   "outputs": [
    {
     "name": "stdout",
     "output_type": "stream",
     "text": [
      "Best: -0.405000 using {'optimizer': 'SGD'}\n"
     ]
    }
   ],
   "source": [
    "print(\"Best: %f using %s\" % (grid_search.best_score_,grid_search.best_params_))"
   ]
  },
  {
   "cell_type": "code",
   "execution_count": 66,
   "id": "c9890f14",
   "metadata": {
    "tags": []
   },
   "outputs": [],
   "source": [
    "means = grid_search.cv_results_['mean_test_score']\n",
    "stds = grid_search.cv_results_['std_test_score']\n",
    "params = grid_search.cv_results_['params']"
   ]
  },
  {
   "cell_type": "code",
   "execution_count": 67,
   "id": "3e853ad5",
   "metadata": {
    "tags": []
   },
   "outputs": [
    {
     "name": "stdout",
     "output_type": "stream",
     "text": [
      "-0.405000 (0.008551) with {'optimizer': 'SGD'}\n",
      "-0.405000 (0.008551) with {'optimizer': 'RMSprop'}\n",
      "-0.405000 (0.008551) with {'optimizer': 'Adagrad'}\n"
     ]
    }
   ],
   "source": [
    "for mean, stdev, param in zip(means, stds, params):\n",
    "    print(\"%f (%f) with %r\" %(mean, stdev,param))"
   ]
  },
  {
   "cell_type": "code",
   "execution_count": 68,
   "id": "8a34ec04",
   "metadata": {
    "tags": []
   },
   "outputs": [],
   "source": [
    "best_mlp_model = grid_search.best_estimator_"
   ]
  },
  {
   "cell_type": "code",
   "execution_count": 69,
   "id": "b4c71c56",
   "metadata": {
    "tags": []
   },
   "outputs": [
    {
     "name": "stdout",
     "output_type": "stream",
     "text": [
      "Epoch 1/20\n",
      "125/125 [==============================] - 1s 9ms/step - loss: 0.4050 - mae: 0.4050 - mse: 0.4050 - val_loss: 0.3910 - val_mae: 0.3910 - val_mse: 0.3910\n",
      "Epoch 2/20\n",
      "125/125 [==============================] - 1s 6ms/step - loss: 0.4050 - mae: 0.4050 - mse: 0.4050 - val_loss: 0.3910 - val_mae: 0.3910 - val_mse: 0.3910\n",
      "Epoch 3/20\n",
      "125/125 [==============================] - 1s 6ms/step - loss: 0.4050 - mae: 0.4050 - mse: 0.4050 - val_loss: 0.3910 - val_mae: 0.3910 - val_mse: 0.3910\n",
      "Epoch 4/20\n",
      "125/125 [==============================] - 1s 6ms/step - loss: 0.4050 - mae: 0.4050 - mse: 0.4050 - val_loss: 0.3910 - val_mae: 0.3910 - val_mse: 0.3910\n",
      "Epoch 5/20\n",
      "125/125 [==============================] - 1s 5ms/step - loss: 0.4050 - mae: 0.4050 - mse: 0.4050 - val_loss: 0.3910 - val_mae: 0.3910 - val_mse: 0.3910\n",
      "Epoch 6/20\n",
      "125/125 [==============================] - 1s 5ms/step - loss: 0.4050 - mae: 0.4050 - mse: 0.4050 - val_loss: 0.3910 - val_mae: 0.3910 - val_mse: 0.3910\n",
      "Epoch 7/20\n",
      "125/125 [==============================] - 1s 6ms/step - loss: 0.4050 - mae: 0.4050 - mse: 0.4050 - val_loss: 0.3910 - val_mae: 0.3910 - val_mse: 0.3910\n",
      "Epoch 8/20\n",
      "125/125 [==============================] - 1s 7ms/step - loss: 0.4050 - mae: 0.4050 - mse: 0.4050 - val_loss: 0.3910 - val_mae: 0.3910 - val_mse: 0.3910\n",
      "Epoch 9/20\n",
      "125/125 [==============================] - 1s 6ms/step - loss: 0.4050 - mae: 0.4050 - mse: 0.4050 - val_loss: 0.3910 - val_mae: 0.3910 - val_mse: 0.3910\n",
      "Epoch 10/20\n",
      "125/125 [==============================] - 1s 7ms/step - loss: 0.4050 - mae: 0.4050 - mse: 0.4050 - val_loss: 0.3910 - val_mae: 0.3910 - val_mse: 0.3910\n",
      "Epoch 11/20\n",
      "125/125 [==============================] - 1s 6ms/step - loss: 0.4050 - mae: 0.4050 - mse: 0.4050 - val_loss: 0.3910 - val_mae: 0.3910 - val_mse: 0.3910\n",
      "Epoch 12/20\n",
      "125/125 [==============================] - 1s 6ms/step - loss: 0.4050 - mae: 0.4050 - mse: 0.4050 - val_loss: 0.3910 - val_mae: 0.3910 - val_mse: 0.3910\n",
      "Epoch 13/20\n",
      "125/125 [==============================] - 1s 6ms/step - loss: 0.4050 - mae: 0.4050 - mse: 0.4050 - val_loss: 0.3910 - val_mae: 0.3910 - val_mse: 0.3910\n",
      "Epoch 14/20\n",
      "125/125 [==============================] - 1s 6ms/step - loss: 0.4050 - mae: 0.4050 - mse: 0.4050 - val_loss: 0.3910 - val_mae: 0.3910 - val_mse: 0.3910\n",
      "Epoch 15/20\n",
      "125/125 [==============================] - 1s 5ms/step - loss: 0.4050 - mae: 0.4050 - mse: 0.4050 - val_loss: 0.3910 - val_mae: 0.3910 - val_mse: 0.3910\n",
      "Epoch 16/20\n",
      "125/125 [==============================] - 1s 8ms/step - loss: 0.4050 - mae: 0.4050 - mse: 0.4050 - val_loss: 0.3910 - val_mae: 0.3910 - val_mse: 0.3910\n",
      "Epoch 17/20\n",
      "125/125 [==============================] - 1s 7ms/step - loss: 0.4050 - mae: 0.4050 - mse: 0.4050 - val_loss: 0.3910 - val_mae: 0.3910 - val_mse: 0.3910\n",
      "Epoch 18/20\n",
      "125/125 [==============================] - 1s 6ms/step - loss: 0.4050 - mae: 0.4050 - mse: 0.4050 - val_loss: 0.3910 - val_mae: 0.3910 - val_mse: 0.3910\n",
      "Epoch 19/20\n",
      "125/125 [==============================] - 1s 5ms/step - loss: 0.4050 - mae: 0.4050 - mse: 0.4050 - val_loss: 0.3910 - val_mae: 0.3910 - val_mse: 0.3910\n",
      "Epoch 20/20\n",
      "125/125 [==============================] - 0s 4ms/step - loss: 0.4050 - mae: 0.4050 - mse: 0.4050 - val_loss: 0.3910 - val_mae: 0.3910 - val_mse: 0.3910\n"
     ]
    },
    {
     "data": {
      "text/html": [
       "<style>#sk-container-id-4 {color: black;}#sk-container-id-4 pre{padding: 0;}#sk-container-id-4 div.sk-toggleable {background-color: white;}#sk-container-id-4 label.sk-toggleable__label {cursor: pointer;display: block;width: 100%;margin-bottom: 0;padding: 0.3em;box-sizing: border-box;text-align: center;}#sk-container-id-4 label.sk-toggleable__label-arrow:before {content: \"▸\";float: left;margin-right: 0.25em;color: #696969;}#sk-container-id-4 label.sk-toggleable__label-arrow:hover:before {color: black;}#sk-container-id-4 div.sk-estimator:hover label.sk-toggleable__label-arrow:before {color: black;}#sk-container-id-4 div.sk-toggleable__content {max-height: 0;max-width: 0;overflow: hidden;text-align: left;background-color: #f0f8ff;}#sk-container-id-4 div.sk-toggleable__content pre {margin: 0.2em;color: black;border-radius: 0.25em;background-color: #f0f8ff;}#sk-container-id-4 input.sk-toggleable__control:checked~div.sk-toggleable__content {max-height: 200px;max-width: 100%;overflow: auto;}#sk-container-id-4 input.sk-toggleable__control:checked~label.sk-toggleable__label-arrow:before {content: \"▾\";}#sk-container-id-4 div.sk-estimator input.sk-toggleable__control:checked~label.sk-toggleable__label {background-color: #d4ebff;}#sk-container-id-4 div.sk-label input.sk-toggleable__control:checked~label.sk-toggleable__label {background-color: #d4ebff;}#sk-container-id-4 input.sk-hidden--visually {border: 0;clip: rect(1px 1px 1px 1px);clip: rect(1px, 1px, 1px, 1px);height: 1px;margin: -1px;overflow: hidden;padding: 0;position: absolute;width: 1px;}#sk-container-id-4 div.sk-estimator {font-family: monospace;background-color: #f0f8ff;border: 1px dotted black;border-radius: 0.25em;box-sizing: border-box;margin-bottom: 0.5em;}#sk-container-id-4 div.sk-estimator:hover {background-color: #d4ebff;}#sk-container-id-4 div.sk-parallel-item::after {content: \"\";width: 100%;border-bottom: 1px solid gray;flex-grow: 1;}#sk-container-id-4 div.sk-label:hover label.sk-toggleable__label {background-color: #d4ebff;}#sk-container-id-4 div.sk-serial::before {content: \"\";position: absolute;border-left: 1px solid gray;box-sizing: border-box;top: 0;bottom: 0;left: 50%;z-index: 0;}#sk-container-id-4 div.sk-serial {display: flex;flex-direction: column;align-items: center;background-color: white;padding-right: 0.2em;padding-left: 0.2em;position: relative;}#sk-container-id-4 div.sk-item {position: relative;z-index: 1;}#sk-container-id-4 div.sk-parallel {display: flex;align-items: stretch;justify-content: center;background-color: white;position: relative;}#sk-container-id-4 div.sk-item::before, #sk-container-id-4 div.sk-parallel-item::before {content: \"\";position: absolute;border-left: 1px solid gray;box-sizing: border-box;top: 0;bottom: 0;left: 50%;z-index: -1;}#sk-container-id-4 div.sk-parallel-item {display: flex;flex-direction: column;z-index: 1;position: relative;background-color: white;}#sk-container-id-4 div.sk-parallel-item:first-child::after {align-self: flex-end;width: 50%;}#sk-container-id-4 div.sk-parallel-item:last-child::after {align-self: flex-start;width: 50%;}#sk-container-id-4 div.sk-parallel-item:only-child::after {width: 0;}#sk-container-id-4 div.sk-dashed-wrapped {border: 1px dashed gray;margin: 0 0.4em 0.5em 0.4em;box-sizing: border-box;padding-bottom: 0.4em;background-color: white;}#sk-container-id-4 div.sk-label label {font-family: monospace;font-weight: bold;display: inline-block;line-height: 1.2em;}#sk-container-id-4 div.sk-label-container {text-align: center;}#sk-container-id-4 div.sk-container {/* jupyter's `normalize.less` sets `[hidden] { display: none; }` but bootstrap.min.css set `[hidden] { display: none !important; }` so we also need the `!important` here to be able to override the default hidden behavior on the sphinx rendered scikit-learn.org. See: https://github.com/scikit-learn/scikit-learn/issues/21755 */display: inline-block !important;position: relative;}#sk-container-id-4 div.sk-text-repr-fallback {display: none;}</style><div id=\"sk-container-id-4\" class=\"sk-top-container\"><div class=\"sk-text-repr-fallback\"><pre>KerasRegressor(\n",
       "\tmodel=&lt;keras.engine.sequential.Sequential object at 0x7f3f146eecb0&gt;\n",
       "\tbuild_fn=None\n",
       "\twarm_start=False\n",
       "\trandom_state=None\n",
       "\toptimizer=SGD\n",
       "\tloss=None\n",
       "\tmetrics=None\n",
       "\tbatch_size=32\n",
       "\tvalidation_batch_size=None\n",
       "\tverbose=1\n",
       "\tcallbacks=None\n",
       "\tvalidation_split=0.2\n",
       "\tshuffle=True\n",
       "\trun_eagerly=False\n",
       "\tepochs=20\n",
       ")</pre><b>In a Jupyter environment, please rerun this cell to show the HTML representation or trust the notebook. <br />On GitHub, the HTML representation is unable to render, please try loading this page with nbviewer.org.</b></div><div class=\"sk-container\" hidden><div class=\"sk-item\"><div class=\"sk-estimator sk-toggleable\"><input class=\"sk-toggleable__control sk-hidden--visually\" id=\"sk-estimator-id-8\" type=\"checkbox\" checked><label for=\"sk-estimator-id-8\" class=\"sk-toggleable__label sk-toggleable__label-arrow\">KerasRegressor</label><div class=\"sk-toggleable__content\"><pre>KerasRegressor(\n",
       "\tmodel=&lt;keras.engine.sequential.Sequential object at 0x7f3f146eecb0&gt;\n",
       "\tbuild_fn=None\n",
       "\twarm_start=False\n",
       "\trandom_state=None\n",
       "\toptimizer=SGD\n",
       "\tloss=None\n",
       "\tmetrics=None\n",
       "\tbatch_size=32\n",
       "\tvalidation_batch_size=None\n",
       "\tverbose=1\n",
       "\tcallbacks=None\n",
       "\tvalidation_split=0.2\n",
       "\tshuffle=True\n",
       "\trun_eagerly=False\n",
       "\tepochs=20\n",
       ")</pre></div></div></div></div></div>"
      ],
      "text/plain": [
       "KerasRegressor(\n",
       "\tmodel=<keras.engine.sequential.Sequential object at 0x7f3f146eecb0>\n",
       "\tbuild_fn=None\n",
       "\twarm_start=False\n",
       "\trandom_state=None\n",
       "\toptimizer=SGD\n",
       "\tloss=None\n",
       "\tmetrics=None\n",
       "\tbatch_size=32\n",
       "\tvalidation_batch_size=None\n",
       "\tverbose=1\n",
       "\tcallbacks=None\n",
       "\tvalidation_split=0.2\n",
       "\tshuffle=True\n",
       "\trun_eagerly=False\n",
       "\tepochs=20\n",
       ")"
      ]
     },
     "execution_count": 69,
     "metadata": {},
     "output_type": "execute_result"
    }
   ],
   "source": [
    "best_mlp_model.fit(X_train, y_train, epochs =20, validation_data = (X_test, y_test), verbose =1)"
   ]
  },
  {
   "cell_type": "code",
   "execution_count": 70,
   "id": "604bcfc5",
   "metadata": {
    "tags": []
   },
   "outputs": [
    {
     "data": {
      "image/png": "[encoded data removed]",
      "text/plain": [
       "<Figure size 640x480 with 1 Axes>"
      ]
     },
     "metadata": {},
     "output_type": "display_data"
    }
   ],
   "source": [
    "plt.plot(best_mlp_model.history_['loss'])\n",
    "plt.plot(best_mlp_model.history_['val_loss'])\n",
    "plt.title('model performance')\n",
    "plt.ylabel('loss values')\n",
    "plt.xlabel('epoch')\n",
    "plt.legend(['train', 'val'], loc='upper left')\n",
    "plt.show()"
   ]
  },
  {
   "cell_type": "code",
   "execution_count": 72,
   "id": "5c79abd2",
   "metadata": {
    "tags": []
   },
   "outputs": [
    {
     "data": {
      "image/png": "[encoded data removed]",
      "text/plain": [
       "<Figure size 800x500 with 1 Axes>"
      ]
     },
     "metadata": {},
     "output_type": "display_data"
    }
   ],
   "source": [
    "pd.DataFrame(best_mlp_model.history_).plot(figsize=(8,5))\n",
    "plt.show()"
   ]
  },
  {
   "cell_type": "code",
   "execution_count": 73,
   "id": "4616ddc8",
   "metadata": {
    "tags": []
   },
   "outputs": [
    {
     "name": "stdout",
     "output_type": "stream",
     "text": [
      "32/32 [==============================] - 0s 4ms/step\n"
     ]
    }
   ],
   "source": [
    "prediction = best_mlp_model.predict(X_test)"
   ]
  },
  {
   "cell_type": "code",
   "execution_count": 74,
   "id": "8c8c0265",
   "metadata": {
    "tags": []
   },
   "outputs": [],
   "source": [
    "from sklearn import metrics"
   ]
  },
  {
   "cell_type": "code",
   "execution_count": 75,
   "id": "693b8027",
   "metadata": {
    "tags": []
   },
   "outputs": [
    {
     "name": "stdout",
     "output_type": "stream",
     "text": [
      "MAE:  0.391\n",
      "MSE:  0.391\n",
      "RMSE:  0.6252999280345393\n"
     ]
    }
   ],
   "source": [
    "print('MAE: ',metrics.mean_absolute_error(y_test,prediction))\n",
    "print('MSE: ',metrics.mean_squared_error(y_test,prediction))\n",
    "print('RMSE: ',np.sqrt(metrics.mean_squared_error(y_test,prediction)))"
   ]
  },
  {
   "cell_type": "code",
   "execution_count": 76,
   "id": "a23d0ea0",
   "metadata": {
    "tags": []
   },
   "outputs": [
    {
     "data": {
      "text/plain": [
       "<matplotlib.collections.PathCollection at 0x7f3f145a3430>"
      ]
     },
     "execution_count": 76,
     "metadata": {},
     "output_type": "execute_result"
    },
    {
     "data": {
      "image/png": "[encoded data removed]",
      "text/plain": [
       "<Figure size 640x480 with 1 Axes>"
      ]
     },
     "metadata": {},
     "output_type": "display_data"
    }
   ],
   "source": [
    "plt.scatter(y_test,prediction)"
   ]
  },
  {
   "cell_type": "code",
   "execution_count": 77,
   "id": "cb942872",
   "metadata": {
    "tags": []
   },
   "outputs": [],
   "source": [
    "def real_predicted_viz(limit):\n",
    "    plt.figure(figsize=(14,6))\n",
    "    plt.plot(y_test[:limit],color='green',label='Actual')\n",
    "    plt.plot(prediction[:limit],color='red',label='Predicted')\n",
    "    plt.grid(alpha=0.3)\n",
    "    \n",
    "    plt.title('Real x Predicted')\n",
    "    plt.legend()\n",
    "    plt.show()"
   ]
  },
  {
   "cell_type": "code",
   "execution_count": 78,
   "id": "fee731ae",
   "metadata": {
    "tags": []
   },
   "outputs": [
    {
     "data": {
      "image/png": "[encoded data removed]",
      "text/plain": [
       "<Figure size 1400x600 with 1 Axes>"
      ]
     },
     "metadata": {},
     "output_type": "display_data"
    }
   ],
   "source": [
    "real_predicted_viz(200)"
   ]
  }
 ],
 "metadata": {
  "kernelspec": {
   "display_name": "Python 3 (ipykernel)",
   "language": "python",
   "name": "python3"
  },
  "language_info": {
   "codemirror_mode": {
    "name": "ipython",
    "version": 3
   },
   "file_extension": ".py",
   "mimetype": "text/x-python",
   "name": "python",
   "nbconvert_exporter": "python",
   "pygments_lexer": "ipython3",
   "version": "3.10.0"
  }
 },
 "nbformat": 4,
 "nbformat_minor": 5
}
