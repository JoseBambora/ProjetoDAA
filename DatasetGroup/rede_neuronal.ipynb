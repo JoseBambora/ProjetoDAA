{
 "cells": [
  {
   "cell_type": "markdown",
   "id": "2e2010da",
   "metadata": {},
   "source": [
    "# Decision Tree for KickStarProject dataset\n",
    "\n",
    "Goal: predict state"
   ]
  },
  {
   "cell_type": "code",
   "execution_count": 1,
   "id": "7aeb164c",
   "metadata": {
    "tags": []
   },
   "outputs": [],
   "source": [
    "import pandas as pd\n",
    "import numpy as np\n",
    "import matplotlib.pyplot as plt\n",
    "import seaborn as sns\n",
    "%matplotlib inline"
   ]
  },
  {
   "cell_type": "code",
   "execution_count": 2,
   "id": "36975df2",
   "metadata": {
    "tags": []
   },
   "outputs": [],
   "source": [
    "%store -r data"
   ]
  },
  {
   "cell_type": "code",
   "execution_count": 3,
   "id": "5d67e3ed",
   "metadata": {
    "tags": []
   },
   "outputs": [
    {
     "name": "stdout",
     "output_type": "stream",
     "text": [
      "Index(['category', 'main_category', 'currency', 'deadline', 'goal', 'launched',\n",
      "       'pledged', 'state', 'backers', 'country', 'usd pledged',\n",
      "       'usd_pledged_real', 'usd_goal_real', 'continent', 'days_launched',\n",
      "       'launched_month'],\n",
      "      dtype='object')\n",
      "(5000, 16)\n",
      "<class 'pandas.core.frame.DataFrame'>\n",
      "Index: 5000 entries, 372978 to 378660\n",
      "Data columns (total 16 columns):\n",
      " #   Column            Non-Null Count  Dtype         \n",
      "---  ------            --------------  -----         \n",
      " 0   category          5000 non-null   object        \n",
      " 1   main_category     5000 non-null   object        \n",
      " 2   currency          5000 non-null   object        \n",
      " 3   deadline          5000 non-null   datetime64[ns]\n",
      " 4   goal              5000 non-null   float64       \n",
      " 5   launched          5000 non-null   datetime64[ns]\n",
      " 6   pledged           5000 non-null   float64       \n",
      " 7   state             5000 non-null   int64         \n",
      " 8   backers           5000 non-null   int64         \n",
      " 9   country           5000 non-null   object        \n",
      " 10  usd pledged       5000 non-null   float64       \n",
      " 11  usd_pledged_real  5000 non-null   float64       \n",
      " 12  usd_goal_real     5000 non-null   float64       \n",
      " 13  continent         5000 non-null   object        \n",
      " 14  days_launched     5000 non-null   int64         \n",
      " 15  launched_month    5000 non-null   int32         \n",
      "dtypes: datetime64[ns](2), float64(5), int32(1), int64(3), object(5)\n",
      "memory usage: 644.5+ KB\n",
      "None\n"
     ]
    }
   ],
   "source": [
    "print(data.columns)\n",
    "print(data.shape)\n",
    "print(data.info())"
   ]
  },
  {
   "cell_type": "code",
   "execution_count": 4,
   "id": "2863005b",
   "metadata": {
    "tags": []
   },
   "outputs": [
    {
     "name": "stdout",
     "output_type": "stream",
     "text": [
      "<class 'pandas.core.frame.DataFrame'>\n",
      "Index: 5000 entries, 372978 to 378660\n",
      "Data columns (total 5 columns):\n",
      " #   Column            Non-Null Count  Dtype  \n",
      "---  ------            --------------  -----  \n",
      " 0   pledged           5000 non-null   float64\n",
      " 1   state             5000 non-null   int64  \n",
      " 2   backers           5000 non-null   int64  \n",
      " 3   usd pledged       5000 non-null   float64\n",
      " 4   usd_pledged_real  5000 non-null   float64\n",
      "dtypes: float64(3), int64(2)\n",
      "memory usage: 234.4 KB\n"
     ]
    }
   ],
   "source": [
    "data_rn = data.copy()\n",
    "data_rn.drop(['category','main_category','currency','deadline','goal','launched','country','continent','usd_goal_real','days_launched','launched_month'] ,axis=1,inplace=True)\n",
    "data_rn.info()"
   ]
  },
  {
   "cell_type": "code",
   "execution_count": 5,
   "id": "63a37ee5",
   "metadata": {
    "tags": []
   },
   "outputs": [],
   "source": [
    "from sklearn.model_selection import train_test_split\n",
    "from sklearn.tree import DecisionTreeClassifier\n",
    "from sklearn.tree import DecisionTreeRegressor\n",
    "from sklearn.metrics import confusion_matrix\n",
    "from sklearn.metrics import recall_score\n",
    "from sklearn.metrics import accuracy_score\n",
    "from sklearn.metrics import precision_score\n",
    "from sklearn.metrics import roc_auc_score\n",
    "from sklearn.metrics import roc_curve\n",
    "from sklearn.metrics import f1_score\n",
    "from sklearn.metrics import fbeta_score\n",
    "from sklearn.metrics import mean_absolute_error\n",
    "from sklearn.metrics import mean_squared_error\n",
    "\n",
    "def grafico_barras(data,atr,title,xlabel,ylabel):\n",
    "    incidents_count = data[atr].value_counts()\n",
    "    sns.set(style='darkgrid')\n",
    "    sns.barplot(x=incidents_count.index, y=incidents_count.values)\n",
    "    plt.title(title)\n",
    "    plt.ylabel(ylabel)\n",
    "    plt.xlabel(xlabel)\n",
    "    plt.show()\n",
    "\n",
    "\n",
    "X = data_rn.drop(['state'],axis=1)\n",
    "y = data_rn['state'].to_frame()\n",
    "random = 2021\n",
    "X_train, X_test, y_train, y_test = train_test_split(X,y, test_size=0.3, random_state=random)"
   ]
  },
  {
   "cell_type": "code",
   "execution_count": 6,
   "id": "768029c1",
   "metadata": {
    "tags": []
   },
   "outputs": [
    {
     "name": "stdout",
     "output_type": "stream",
     "text": [
      "The shape of X (5000, 4). X_train has shape (3500, 4) while X_test has shape (1500, 4)\n",
      "The shape of y (5000, 1). y_train has shape (3500, 1) while y_test has shape (1500, 1)\n"
     ]
    }
   ],
   "source": [
    "print(\"The shape of X %s. X_train has shape %s while X_test has shape %s\" %(X.shape, X_train.shape, X_test.shape))\n",
    "print(\"The shape of y %s. y_train has shape %s while y_test has shape %s\" %(y.shape, y_train.shape, y_test.shape))"
   ]
  },
  {
   "cell_type": "code",
   "execution_count": 7,
   "id": "4467e705",
   "metadata": {
    "tags": []
   },
   "outputs": [
    {
     "name": "stderr",
     "output_type": "stream",
     "text": [
      "C:\\Users\\jmbar\\anaconda3\\Lib\\site-packages\\seaborn\\_oldcore.py:1498: FutureWarning: is_categorical_dtype is deprecated and will be removed in a future version. Use isinstance(dtype, CategoricalDtype) instead\n",
      "  if pd.api.types.is_categorical_dtype(vector):\n",
      "C:\\Users\\jmbar\\anaconda3\\Lib\\site-packages\\seaborn\\_oldcore.py:1498: FutureWarning: is_categorical_dtype is deprecated and will be removed in a future version. Use isinstance(dtype, CategoricalDtype) instead\n",
      "  if pd.api.types.is_categorical_dtype(vector):\n",
      "C:\\Users\\jmbar\\anaconda3\\Lib\\site-packages\\seaborn\\_oldcore.py:1498: FutureWarning: is_categorical_dtype is deprecated and will be removed in a future version. Use isinstance(dtype, CategoricalDtype) instead\n",
      "  if pd.api.types.is_categorical_dtype(vector):\n"
     ]
    },
    {
     "data": {
      "image/png": "[encoded data removed]",
      "text/plain": [
       "<Figure size 640x480 with 1 Axes>"
      ]
     },
     "metadata": {},
     "output_type": "display_data"
    },
    {
     "name": "stderr",
     "output_type": "stream",
     "text": [
      "C:\\Users\\jmbar\\anaconda3\\Lib\\site-packages\\seaborn\\_oldcore.py:1498: FutureWarning: is_categorical_dtype is deprecated and will be removed in a future version. Use isinstance(dtype, CategoricalDtype) instead\n",
      "  if pd.api.types.is_categorical_dtype(vector):\n",
      "C:\\Users\\jmbar\\anaconda3\\Lib\\site-packages\\seaborn\\_oldcore.py:1498: FutureWarning: is_categorical_dtype is deprecated and will be removed in a future version. Use isinstance(dtype, CategoricalDtype) instead\n",
      "  if pd.api.types.is_categorical_dtype(vector):\n",
      "C:\\Users\\jmbar\\anaconda3\\Lib\\site-packages\\seaborn\\_oldcore.py:1498: FutureWarning: is_categorical_dtype is deprecated and will be removed in a future version. Use isinstance(dtype, CategoricalDtype) instead\n",
      "  if pd.api.types.is_categorical_dtype(vector):\n"
     ]
    },
    {
     "data": {
      "image/png": "[encoded data removed]",
      "text/plain": [
       "<Figure size 640x480 with 1 Axes>"
      ]
     },
     "metadata": {},
     "output_type": "display_data"
    }
   ],
   "source": [
    "grafico_barras(y_train,'state','Dados treino','state','Ocorrências')\n",
    "grafico_barras(y_test,'state','Dados teste','state','Ocorrências')"
   ]
  },
  {
   "cell_type": "code",
   "execution_count": 8,
   "id": "684b0c79",
   "metadata": {
    "tags": []
   },
   "outputs": [],
   "source": [
    "from sklearn.model_selection import GridSearchCV, KFold, train_test_split"
   ]
  },
  {
   "cell_type": "code",
   "execution_count": 9,
   "id": "13fca954",
   "metadata": {
    "tags": []
   },
   "outputs": [],
   "source": [
    "import tensorflow as tf\n",
    "from tensorflow import keras\n",
    "from tensorflow.keras.models import Sequential\n",
    "from tensorflow.keras.layers import Dense, Dropout, BatchNormalization\n",
    "from scikeras.wrappers import KerasClassifier"
   ]
  },
  {
   "cell_type": "code",
   "execution_count": 10,
   "id": "eb93b4fe",
   "metadata": {
    "tags": []
   },
   "outputs": [
    {
     "name": "stdout",
     "output_type": "stream",
     "text": [
      "TensorFlow version: 2.12.1\n"
     ]
    }
   ],
   "source": [
    "print(\"TensorFlow version:\", tf.__version__)"
   ]
  },
  {
   "cell_type": "code",
   "execution_count": 11,
   "id": "93fada70",
   "metadata": {
    "tags": []
   },
   "outputs": [],
   "source": [
    "def build_model(activation='sigmoid', learning_rate=0.01):\n",
    "    model = Sequential()\n",
    "    model.add(Dense(16, input_dim=4, activation=activation))\n",
    "    model.add(Dense(12, activation=activation))\n",
    "    model.add(Dense(8, activation=activation))\n",
    "    model.add(Dense(1, activation='sigmoid'))  # Output layer\n",
    "\n",
    "    # Compile the model\n",
    "    model.compile(\n",
    "        loss='binary_crossentropy',\n",
    "        optimizer=tf.optimizers.Adam(learning_rate),\n",
    "        metrics=['accuracy', tf.keras.metrics.Precision(), tf.keras.metrics.Recall()]\n",
    "    )\n",
    "    return model"
   ]
  },
  {
   "cell_type": "code",
   "execution_count": 12,
   "id": "dba9664d-b1a5-49c5-b722-d5267fcf8184",
   "metadata": {
    "tags": []
   },
   "outputs": [],
   "source": [
    "from sklearn.preprocessing import MinMaxScaler\n",
    "\n",
    "scaler_x = MinMaxScaler(feature_range=(0,1)).fit(X)\n",
    "X_scaled = pd.DataFrame(scaler_x.transform(X[X.columns]), columns = X.columns)"
   ]
  },
  {
   "cell_type": "code",
   "execution_count": 13,
   "id": "ffe0d61a-334d-4226-8179-4d5f77ae8fa3",
   "metadata": {
    "tags": []
   },
   "outputs": [
    {
     "data": {
      "text/html": [
       "<div>\n",
       "<style scoped>\n",
       "    .dataframe tbody tr th:only-of-type {\n",
       "        vertical-align: middle;\n",
       "    }\n",
       "\n",
       "    .dataframe tbody tr th {\n",
       "        vertical-align: top;\n",
       "    }\n",
       "\n",
       "    .dataframe thead th {\n",
       "        text-align: right;\n",
       "    }\n",
       "</style>\n",
       "<table border=\"1\" class=\"dataframe\">\n",
       "  <thead>\n",
       "    <tr style=\"text-align: right;\">\n",
       "      <th></th>\n",
       "      <th>pledged</th>\n",
       "      <th>backers</th>\n",
       "      <th>usd pledged</th>\n",
       "      <th>usd_pledged_real</th>\n",
       "    </tr>\n",
       "  </thead>\n",
       "  <tbody>\n",
       "    <tr>\n",
       "      <th>372978</th>\n",
       "      <td>125.0</td>\n",
       "      <td>2</td>\n",
       "      <td>125.0</td>\n",
       "      <td>125.0</td>\n",
       "    </tr>\n",
       "    <tr>\n",
       "      <th>372979</th>\n",
       "      <td>120.0</td>\n",
       "      <td>3</td>\n",
       "      <td>120.0</td>\n",
       "      <td>120.0</td>\n",
       "    </tr>\n",
       "    <tr>\n",
       "      <th>372980</th>\n",
       "      <td>0.0</td>\n",
       "      <td>0</td>\n",
       "      <td>0.0</td>\n",
       "      <td>0.0</td>\n",
       "    </tr>\n",
       "    <tr>\n",
       "      <th>372981</th>\n",
       "      <td>1502.0</td>\n",
       "      <td>12</td>\n",
       "      <td>1502.0</td>\n",
       "      <td>1502.0</td>\n",
       "    </tr>\n",
       "    <tr>\n",
       "      <th>372983</th>\n",
       "      <td>25.0</td>\n",
       "      <td>1</td>\n",
       "      <td>25.0</td>\n",
       "      <td>25.0</td>\n",
       "    </tr>\n",
       "  </tbody>\n",
       "</table>\n",
       "</div>"
      ],
      "text/plain": [
       "        pledged  backers  usd pledged  usd_pledged_real\n",
       "372978    125.0        2        125.0             125.0\n",
       "372979    120.0        3        120.0             120.0\n",
       "372980      0.0        0          0.0               0.0\n",
       "372981   1502.0       12       1502.0            1502.0\n",
       "372983     25.0        1         25.0              25.0"
      ]
     },
     "execution_count": 13,
     "metadata": {},
     "output_type": "execute_result"
    }
   ],
   "source": [
    "X.head()"
   ]
  },
  {
   "cell_type": "code",
   "execution_count": 14,
   "id": "72e87179-a044-4a8d-ab57-e2d12bc138df",
   "metadata": {
    "tags": []
   },
   "outputs": [
    {
     "data": {
      "text/html": [
       "<div>\n",
       "<style scoped>\n",
       "    .dataframe tbody tr th:only-of-type {\n",
       "        vertical-align: middle;\n",
       "    }\n",
       "\n",
       "    .dataframe tbody tr th {\n",
       "        vertical-align: top;\n",
       "    }\n",
       "\n",
       "    .dataframe thead th {\n",
       "        text-align: right;\n",
       "    }\n",
       "</style>\n",
       "<table border=\"1\" class=\"dataframe\">\n",
       "  <thead>\n",
       "    <tr style=\"text-align: right;\">\n",
       "      <th></th>\n",
       "      <th>pledged</th>\n",
       "      <th>backers</th>\n",
       "      <th>usd pledged</th>\n",
       "      <th>usd_pledged_real</th>\n",
       "    </tr>\n",
       "  </thead>\n",
       "  <tbody>\n",
       "    <tr>\n",
       "      <th>0</th>\n",
       "      <td>0.000040</td>\n",
       "      <td>0.000082</td>\n",
       "      <td>0.000040</td>\n",
       "      <td>0.000040</td>\n",
       "    </tr>\n",
       "    <tr>\n",
       "      <th>1</th>\n",
       "      <td>0.000038</td>\n",
       "      <td>0.000123</td>\n",
       "      <td>0.000038</td>\n",
       "      <td>0.000038</td>\n",
       "    </tr>\n",
       "    <tr>\n",
       "      <th>2</th>\n",
       "      <td>0.000000</td>\n",
       "      <td>0.000000</td>\n",
       "      <td>0.000000</td>\n",
       "      <td>0.000000</td>\n",
       "    </tr>\n",
       "    <tr>\n",
       "      <th>3</th>\n",
       "      <td>0.000480</td>\n",
       "      <td>0.000493</td>\n",
       "      <td>0.000480</td>\n",
       "      <td>0.000480</td>\n",
       "    </tr>\n",
       "    <tr>\n",
       "      <th>4</th>\n",
       "      <td>0.000008</td>\n",
       "      <td>0.000041</td>\n",
       "      <td>0.000008</td>\n",
       "      <td>0.000008</td>\n",
       "    </tr>\n",
       "  </tbody>\n",
       "</table>\n",
       "</div>"
      ],
      "text/plain": [
       "    pledged   backers  usd pledged  usd_pledged_real\n",
       "0  0.000040  0.000082     0.000040          0.000040\n",
       "1  0.000038  0.000123     0.000038          0.000038\n",
       "2  0.000000  0.000000     0.000000          0.000000\n",
       "3  0.000480  0.000493     0.000480          0.000480\n",
       "4  0.000008  0.000041     0.000008          0.000008"
      ]
     },
     "execution_count": 14,
     "metadata": {},
     "output_type": "execute_result"
    }
   ],
   "source": [
    "X_scaled.head()"
   ]
  },
  {
   "cell_type": "code",
   "execution_count": 15,
   "id": "055e2c16-9211-452f-bcbb-ccda8f072c1b",
   "metadata": {
    "tags": []
   },
   "outputs": [],
   "source": [
    "X_train, X_test, y_train, y_test = train_test_split(X_scaled,y,test_size=0.2,random_state=2022)"
   ]
  },
  {
   "cell_type": "code",
   "execution_count": 16,
   "id": "a8942302",
   "metadata": {
    "tags": []
   },
   "outputs": [],
   "source": [
    "optimizer = ['SGD', 'RMSprop', 'Adagrad']\n",
    "param_grid = dict(optimizer = optimizer)"
   ]
  },
  {
   "cell_type": "code",
   "execution_count": 17,
   "id": "58624944",
   "metadata": {
    "tags": []
   },
   "outputs": [],
   "source": [
    "kf = KFold(n_splits = 5, shuffle = True, random_state = 2021)"
   ]
  },
  {
   "cell_type": "code",
   "execution_count": 18,
   "id": "44998f40",
   "metadata": {
    "tags": []
   },
   "outputs": [],
   "source": [
    "build_model = build_model()\n",
    "model = KerasClassifier(model = build_model, batch_size = 40, validation_split = 0.2, epochs = 60)"
   ]
  },
  {
   "cell_type": "code",
   "execution_count": 19,
   "id": "d5e17b07",
   "metadata": {
    "tags": []
   },
   "outputs": [
    {
     "name": "stderr",
     "output_type": "stream",
     "text": [
      "WARNING:absl:Found untraced functions such as _update_step_xla while saving (showing 1 of 1). These functions will not be directly callable after loading.\n"
     ]
    },
    {
     "name": "stdout",
     "output_type": "stream",
     "text": [
      "INFO:tensorflow:Assets written to: C:\\Users\\jmbar\\AppData\\Local\\Temp\\tmp1wha_u_c\\assets\n"
     ]
    },
    {
     "name": "stderr",
     "output_type": "stream",
     "text": [
      "INFO:tensorflow:Assets written to: C:\\Users\\jmbar\\AppData\\Local\\Temp\\tmp1wha_u_c\\assets\n"
     ]
    },
    {
     "name": "stdout",
     "output_type": "stream",
     "text": [
      "Fitting 5 folds for each of 3 candidates, totalling 15 fits\n"
     ]
    },
    {
     "name": "stderr",
     "output_type": "stream",
     "text": [
      "WARNING:absl:Found untraced functions such as _update_step_xla while saving (showing 1 of 1). These functions will not be directly callable after loading.\n"
     ]
    },
    {
     "name": "stdout",
     "output_type": "stream",
     "text": [
      "INFO:tensorflow:Assets written to: C:\\Users\\jmbar\\AppData\\Local\\Temp\\tmpb1hhqfb4\\assets\n"
     ]
    },
    {
     "name": "stderr",
     "output_type": "stream",
     "text": [
      "INFO:tensorflow:Assets written to: C:\\Users\\jmbar\\AppData\\Local\\Temp\\tmpb1hhqfb4\\assets\n"
     ]
    },
    {
     "name": "stdout",
     "output_type": "stream",
     "text": [
      "Epoch 1/60\n",
      "64/64 [==============================] - 2s 14ms/step - loss: 0.6750 - accuracy: 0.5984 - precision: 0.0000e+00 - recall: 0.0000e+00 - val_loss: 0.6804 - val_accuracy: 0.5844 - val_precision: 0.0000e+00 - val_recall: 0.0000e+00\n",
      "Epoch 2/60\n",
      "64/64 [==============================] - 0s 3ms/step - loss: 0.6753 - accuracy: 0.5984 - precision: 0.0000e+00 - recall: 0.0000e+00 - val_loss: 0.6793 - val_accuracy: 0.5844 - val_precision: 0.0000e+00 - val_recall: 0.0000e+00\n",
      "Epoch 3/60\n",
      "64/64 [==============================] - 0s 3ms/step - loss: 0.6743 - accuracy: 0.5984 - precision: 0.0000e+00 - recall: 0.0000e+00 - val_loss: 0.6810 - val_accuracy: 0.5844 - val_precision: 0.0000e+00 - val_recall: 0.0000e+00\n",
      "Epoch 4/60\n",
      "64/64 [==============================] - 0s 3ms/step - loss: 0.6745 - accuracy: 0.5984 - precision: 0.0000e+00 - recall: 0.0000e+00 - val_loss: 0.6809 - val_accuracy: 0.5844 - val_precision: 0.0000e+00 - val_recall: 0.0000e+00\n",
      "Epoch 5/60\n",
      "64/64 [==============================] - 0s 4ms/step - loss: 0.6748 - accuracy: 0.5984 - precision: 0.0000e+00 - recall: 0.0000e+00 - val_loss: 0.6777 - val_accuracy: 0.5844 - val_precision: 0.0000e+00 - val_recall: 0.0000e+00\n",
      "Epoch 6/60\n",
      "64/64 [==============================] - 0s 4ms/step - loss: 0.6735 - accuracy: 0.5984 - precision: 0.0000e+00 - recall: 0.0000e+00 - val_loss: 0.6783 - val_accuracy: 0.5844 - val_precision: 0.0000e+00 - val_recall: 0.0000e+00\n",
      "Epoch 7/60\n",
      "64/64 [==============================] - 0s 4ms/step - loss: 0.6704 - accuracy: 0.6004 - precision: 1.0000 - recall: 0.0049 - val_loss: 0.6744 - val_accuracy: 0.5859 - val_precision: 1.0000 - val_recall: 0.0038\n",
      "Epoch 8/60\n",
      "64/64 [==============================] - 0s 4ms/step - loss: 0.6650 - accuracy: 0.6074 - precision: 0.9600 - recall: 0.0233 - val_loss: 0.6655 - val_accuracy: 0.5969 - val_precision: 0.9000 - val_recall: 0.0338\n",
      "Epoch 9/60\n",
      "64/64 [==============================] - 0s 5ms/step - loss: 0.6469 - accuracy: 0.6355 - precision: 0.9703 - recall: 0.0953 - val_loss: 0.6411 - val_accuracy: 0.6203 - val_precision: 0.8966 - val_recall: 0.0977\n",
      "Epoch 10/60\n",
      "64/64 [==============================] - 0s 4ms/step - loss: 0.6043 - accuracy: 0.6973 - precision: 0.9094 - recall: 0.2733 - val_loss: 0.5831 - val_accuracy: 0.7109 - val_precision: 0.8785 - val_recall: 0.3534\n",
      "Epoch 11/60\n",
      "64/64 [==============================] - 0s 3ms/step - loss: 0.5440 - accuracy: 0.7461 - precision: 0.8905 - recall: 0.4193 - val_loss: 0.5391 - val_accuracy: 0.7156 - val_precision: 0.8684 - val_recall: 0.3722\n",
      "Epoch 12/60\n",
      "64/64 [==============================] - 0s 3ms/step - loss: 0.5163 - accuracy: 0.7605 - precision: 0.8511 - recall: 0.4893 - val_loss: 0.5085 - val_accuracy: 0.7609 - val_precision: 0.8599 - val_recall: 0.5075\n",
      "Epoch 13/60\n",
      "64/64 [==============================] - 0s 4ms/step - loss: 0.4755 - accuracy: 0.7848 - precision: 0.8664 - recall: 0.5486 - val_loss: 0.4960 - val_accuracy: 0.7922 - val_precision: 0.8152 - val_recall: 0.6466\n",
      "Epoch 14/60\n",
      "64/64 [==============================] - 0s 5ms/step - loss: 0.4621 - accuracy: 0.7977 - precision: 0.8522 - recall: 0.6002 - val_loss: 0.4765 - val_accuracy: 0.7875 - val_precision: 0.8218 - val_recall: 0.6241\n",
      "Epoch 15/60\n",
      "64/64 [==============================] - 0s 3ms/step - loss: 0.4450 - accuracy: 0.8016 - precision: 0.8533 - recall: 0.6109 - val_loss: 0.4675 - val_accuracy: 0.7812 - val_precision: 0.8316 - val_recall: 0.5940\n",
      "Epoch 16/60\n",
      "64/64 [==============================] - 0s 4ms/step - loss: 0.4536 - accuracy: 0.8094 - precision: 0.8470 - recall: 0.6411 - val_loss: 0.4614 - val_accuracy: 0.7812 - val_precision: 0.8247 - val_recall: 0.6015\n",
      "Epoch 17/60\n",
      "64/64 [==============================] - 0s 4ms/step - loss: 0.4356 - accuracy: 0.8098 - precision: 0.8394 - recall: 0.6508 - val_loss: 0.4553 - val_accuracy: 0.8016 - val_precision: 0.8174 - val_recall: 0.6729\n",
      "Epoch 18/60\n",
      "64/64 [==============================] - 0s 3ms/step - loss: 0.4383 - accuracy: 0.8137 - precision: 0.8422 - recall: 0.6595 - val_loss: 0.4591 - val_accuracy: 0.7812 - val_precision: 0.8316 - val_recall: 0.5940\n",
      "Epoch 19/60\n",
      "64/64 [==============================] - 0s 3ms/step - loss: 0.4237 - accuracy: 0.8148 - precision: 0.8354 - recall: 0.6712 - val_loss: 0.4719 - val_accuracy: 0.7781 - val_precision: 0.8407 - val_recall: 0.5752\n",
      "Epoch 20/60\n",
      "64/64 [==============================] - 0s 3ms/step - loss: 0.4216 - accuracy: 0.8180 - precision: 0.8361 - recall: 0.6800 - val_loss: 0.4453 - val_accuracy: 0.8203 - val_precision: 0.8186 - val_recall: 0.7293\n",
      "Epoch 21/60\n",
      "64/64 [==============================] - 0s 4ms/step - loss: 0.4171 - accuracy: 0.8195 - precision: 0.8337 - recall: 0.6877 - val_loss: 0.4663 - val_accuracy: 0.7812 - val_precision: 0.8351 - val_recall: 0.5902\n",
      "Epoch 22/60\n",
      "64/64 [==============================] - 0s 3ms/step - loss: 0.4153 - accuracy: 0.8203 - precision: 0.8333 - recall: 0.6907 - val_loss: 0.4504 - val_accuracy: 0.8250 - val_precision: 0.7873 - val_recall: 0.7932\n",
      "Epoch 23/60\n",
      "64/64 [==============================] - 0s 4ms/step - loss: 0.4116 - accuracy: 0.8273 - precision: 0.8300 - recall: 0.7169 - val_loss: 0.4319 - val_accuracy: 0.8156 - val_precision: 0.8190 - val_recall: 0.7143\n",
      "Epoch 24/60\n",
      "64/64 [==============================] - 0s 3ms/step - loss: 0.4027 - accuracy: 0.8227 - precision: 0.8225 - recall: 0.7121 - val_loss: 0.4309 - val_accuracy: 0.8000 - val_precision: 0.8165 - val_recall: 0.6692\n",
      "Epoch 25/60\n",
      "64/64 [==============================] - 0s 4ms/step - loss: 0.4127 - accuracy: 0.8262 - precision: 0.8272 - recall: 0.7169 - val_loss: 0.4282 - val_accuracy: 0.8203 - val_precision: 0.8133 - val_recall: 0.7368\n",
      "Epoch 26/60\n",
      "64/64 [==============================] - 0s 3ms/step - loss: 0.4009 - accuracy: 0.8258 - precision: 0.8226 - recall: 0.7218 - val_loss: 0.4330 - val_accuracy: 0.8297 - val_precision: 0.7962 - val_recall: 0.7932\n",
      "Epoch 27/60\n",
      "64/64 [==============================] - 0s 3ms/step - loss: 0.4005 - accuracy: 0.8281 - precision: 0.8245 - recall: 0.7267 - val_loss: 0.4222 - val_accuracy: 0.8188 - val_precision: 0.8178 - val_recall: 0.7256\n",
      "Epoch 28/60\n",
      "64/64 [==============================] - 0s 3ms/step - loss: 0.4011 - accuracy: 0.8219 - precision: 0.8164 - recall: 0.7179 - val_loss: 0.4235 - val_accuracy: 0.8281 - val_precision: 0.8047 - val_recall: 0.7744\n",
      "Epoch 29/60\n",
      "64/64 [==============================] - 0s 3ms/step - loss: 0.4057 - accuracy: 0.8273 - precision: 0.8164 - recall: 0.7354 - val_loss: 0.4365 - val_accuracy: 0.7937 - val_precision: 0.8190 - val_recall: 0.6466\n",
      "Epoch 30/60\n",
      "64/64 [==============================] - 0s 3ms/step - loss: 0.3991 - accuracy: 0.8258 - precision: 0.8156 - recall: 0.7315 - val_loss: 0.4201 - val_accuracy: 0.8094 - val_precision: 0.8158 - val_recall: 0.6992\n",
      "Epoch 31/60\n",
      "64/64 [==============================] - 0s 4ms/step - loss: 0.4013 - accuracy: 0.8293 - precision: 0.8215 - recall: 0.7344 - val_loss: 0.4396 - val_accuracy: 0.7937 - val_precision: 0.8190 - val_recall: 0.6466\n",
      "Epoch 32/60\n",
      "64/64 [==============================] - 0s 3ms/step - loss: 0.3912 - accuracy: 0.8320 - precision: 0.8215 - recall: 0.7432 - val_loss: 0.4139 - val_accuracy: 0.8281 - val_precision: 0.8071 - val_recall: 0.7707\n",
      "Epoch 33/60\n",
      "64/64 [==============================] - 0s 3ms/step - loss: 0.3882 - accuracy: 0.8285 - precision: 0.8156 - recall: 0.7403 - val_loss: 0.4133 - val_accuracy: 0.8297 - val_precision: 0.7962 - val_recall: 0.7932\n",
      "Epoch 34/60\n",
      "64/64 [==============================] - 0s 3ms/step - loss: 0.3909 - accuracy: 0.8324 - precision: 0.8149 - recall: 0.7539 - val_loss: 0.4108 - val_accuracy: 0.8266 - val_precision: 0.8039 - val_recall: 0.7707\n",
      "Epoch 35/60\n",
      "64/64 [==============================] - 0s 3ms/step - loss: 0.3855 - accuracy: 0.8359 - precision: 0.8193 - recall: 0.7588 - val_loss: 0.4092 - val_accuracy: 0.8281 - val_precision: 0.8120 - val_recall: 0.7632\n",
      "Epoch 36/60\n",
      "64/64 [==============================] - 0s 4ms/step - loss: 0.3905 - accuracy: 0.8320 - precision: 0.8108 - recall: 0.7588 - val_loss: 0.4093 - val_accuracy: 0.8281 - val_precision: 0.7932 - val_recall: 0.7932\n",
      "Epoch 37/60\n"
     ]
    },
    {
     "name": "stdout",
     "output_type": "stream",
     "text": [
      "64/64 [==============================] - 0s 4ms/step - loss: 0.3828 - accuracy: 0.8332 - precision: 0.8147 - recall: 0.7568 - val_loss: 0.4078 - val_accuracy: 0.8281 - val_precision: 0.7932 - val_recall: 0.7932\n",
      "Epoch 38/60\n",
      "64/64 [==============================] - 0s 5ms/step - loss: 0.3839 - accuracy: 0.8348 - precision: 0.8135 - recall: 0.7636 - val_loss: 0.4083 - val_accuracy: 0.8250 - val_precision: 0.7873 - val_recall: 0.7932\n",
      "Epoch 39/60\n",
      "64/64 [==============================] - 0s 3ms/step - loss: 0.3845 - accuracy: 0.8305 - precision: 0.8087 - recall: 0.7568 - val_loss: 0.4048 - val_accuracy: 0.8281 - val_precision: 0.8047 - val_recall: 0.7744\n",
      "Epoch 40/60\n",
      "64/64 [==============================] - 0s 2ms/step - loss: 0.3863 - accuracy: 0.8297 - precision: 0.8027 - recall: 0.7636 - val_loss: 0.4045 - val_accuracy: 0.8297 - val_precision: 0.8127 - val_recall: 0.7669\n",
      "Epoch 41/60\n",
      "64/64 [==============================] - 0s 3ms/step - loss: 0.3883 - accuracy: 0.8270 - precision: 0.8056 - recall: 0.7500 - val_loss: 0.4027 - val_accuracy: 0.8281 - val_precision: 0.8047 - val_recall: 0.7744\n",
      "Epoch 42/60\n",
      "64/64 [==============================] - 0s 6ms/step - loss: 0.3882 - accuracy: 0.8301 - precision: 0.8004 - recall: 0.7685 - val_loss: 0.4054 - val_accuracy: 0.8234 - val_precision: 0.8097 - val_recall: 0.7519\n",
      "Epoch 43/60\n",
      "64/64 [==============================] - 0s 5ms/step - loss: 0.3783 - accuracy: 0.8348 - precision: 0.8052 - recall: 0.7763 - val_loss: 0.4372 - val_accuracy: 0.8031 - val_precision: 0.8182 - val_recall: 0.6767\n",
      "Epoch 44/60\n",
      "64/64 [==============================] - 0s 3ms/step - loss: 0.3813 - accuracy: 0.8367 - precision: 0.8131 - recall: 0.7704 - val_loss: 0.4014 - val_accuracy: 0.8281 - val_precision: 0.8047 - val_recall: 0.7744\n",
      "Epoch 45/60\n",
      "64/64 [==============================] - 0s 4ms/step - loss: 0.3771 - accuracy: 0.8340 - precision: 0.8067 - recall: 0.7714 - val_loss: 0.4019 - val_accuracy: 0.8281 - val_precision: 0.8047 - val_recall: 0.7744\n",
      "Epoch 46/60\n",
      "64/64 [==============================] - 0s 3ms/step - loss: 0.3748 - accuracy: 0.8336 - precision: 0.8053 - recall: 0.7724 - val_loss: 0.3984 - val_accuracy: 0.8250 - val_precision: 0.7873 - val_recall: 0.7932\n",
      "Epoch 47/60\n",
      "64/64 [==============================] - 0s 4ms/step - loss: 0.3766 - accuracy: 0.8371 - precision: 0.8046 - recall: 0.7850 - val_loss: 0.4565 - val_accuracy: 0.8344 - val_precision: 0.7548 - val_recall: 0.8910\n",
      "Epoch 48/60\n",
      "64/64 [==============================] - 0s 6ms/step - loss: 0.3988 - accuracy: 0.8371 - precision: 0.8070 - recall: 0.7811 - val_loss: 0.4106 - val_accuracy: 0.8250 - val_precision: 0.8182 - val_recall: 0.7444\n",
      "Epoch 49/60\n",
      "64/64 [==============================] - 0s 4ms/step - loss: 0.3772 - accuracy: 0.8328 - precision: 0.8006 - recall: 0.7772 - val_loss: 0.3971 - val_accuracy: 0.8250 - val_precision: 0.7873 - val_recall: 0.7932\n",
      "Epoch 50/60\n",
      "64/64 [==============================] - 0s 3ms/step - loss: 0.3721 - accuracy: 0.8395 - precision: 0.8022 - recall: 0.7967 - val_loss: 0.3964 - val_accuracy: 0.8266 - val_precision: 0.7860 - val_recall: 0.8008\n",
      "Epoch 51/60\n",
      "64/64 [==============================] - 0s 3ms/step - loss: 0.3797 - accuracy: 0.8359 - precision: 0.8058 - recall: 0.7792 - val_loss: 0.4014 - val_accuracy: 0.8281 - val_precision: 0.7955 - val_recall: 0.7895\n",
      "Epoch 52/60\n",
      "64/64 [==============================] - 0s 4ms/step - loss: 0.3794 - accuracy: 0.8414 - precision: 0.8110 - recall: 0.7889 - val_loss: 0.3945 - val_accuracy: 0.8266 - val_precision: 0.7881 - val_recall: 0.7970\n",
      "Epoch 53/60\n",
      "64/64 [==============================] - 0s 4ms/step - loss: 0.3874 - accuracy: 0.8332 - precision: 0.7955 - recall: 0.7870 - val_loss: 0.3998 - val_accuracy: 0.8297 - val_precision: 0.8127 - val_recall: 0.7669\n",
      "Epoch 54/60\n",
      "64/64 [==============================] - 0s 3ms/step - loss: 0.3706 - accuracy: 0.8344 - precision: 0.7996 - recall: 0.7840 - val_loss: 0.3947 - val_accuracy: 0.8266 - val_precision: 0.7818 - val_recall: 0.8083\n",
      "Epoch 55/60\n",
      "64/64 [==============================] - 0s 4ms/step - loss: 0.3838 - accuracy: 0.8371 - precision: 0.8028 - recall: 0.7879 - val_loss: 0.4074 - val_accuracy: 0.8234 - val_precision: 0.8097 - val_recall: 0.7519\n",
      "Epoch 56/60\n",
      "64/64 [==============================] - 1s 8ms/step - loss: 0.3816 - accuracy: 0.8371 - precision: 0.7992 - recall: 0.7938 - val_loss: 0.3929 - val_accuracy: 0.8250 - val_precision: 0.7873 - val_recall: 0.7932\n",
      "Epoch 57/60\n",
      "64/64 [==============================] - 0s 6ms/step - loss: 0.3777 - accuracy: 0.8441 - precision: 0.8039 - recall: 0.8093 - val_loss: 0.4437 - val_accuracy: 0.8125 - val_precision: 0.8174 - val_recall: 0.7068\n",
      "Epoch 58/60\n",
      "64/64 [==============================] - 0s 5ms/step - loss: 0.3781 - accuracy: 0.8406 - precision: 0.8057 - recall: 0.7947 - val_loss: 0.4281 - val_accuracy: 0.8219 - val_precision: 0.8193 - val_recall: 0.7331\n",
      "Epoch 59/60\n",
      "64/64 [==============================] - 1s 8ms/step - loss: 0.3705 - accuracy: 0.8391 - precision: 0.8002 - recall: 0.7986 - val_loss: 0.4006 - val_accuracy: 0.8188 - val_precision: 0.7622 - val_recall: 0.8195\n",
      "Epoch 60/60\n",
      "64/64 [==============================] - 0s 7ms/step - loss: 0.3669 - accuracy: 0.8379 - precision: 0.7984 - recall: 0.7977 - val_loss: 0.3916 - val_accuracy: 0.8266 - val_precision: 0.7798 - val_recall: 0.8120\n",
      "20/20 [==============================] - 0s 2ms/step\n"
     ]
    },
    {
     "name": "stderr",
     "output_type": "stream",
     "text": [
      "WARNING:absl:Found untraced functions such as _update_step_xla while saving (showing 1 of 1). These functions will not be directly callable after loading.\n"
     ]
    },
    {
     "name": "stdout",
     "output_type": "stream",
     "text": [
      "INFO:tensorflow:Assets written to: C:\\Users\\jmbar\\AppData\\Local\\Temp\\tmp_jen0hnv\\assets\n"
     ]
    },
    {
     "name": "stderr",
     "output_type": "stream",
     "text": [
      "INFO:tensorflow:Assets written to: C:\\Users\\jmbar\\AppData\\Local\\Temp\\tmp_jen0hnv\\assets\n"
     ]
    },
    {
     "name": "stdout",
     "output_type": "stream",
     "text": [
      "Epoch 1/60\n",
      "64/64 [==============================] - 4s 29ms/step - loss: 0.6786 - accuracy: 0.5926 - precision: 0.0000e+00 - recall: 0.0000e+00 - val_loss: 0.6783 - val_accuracy: 0.5859 - val_precision: 0.0000e+00 - val_recall: 0.0000e+00\n",
      "Epoch 2/60\n",
      "64/64 [==============================] - 1s 11ms/step - loss: 0.6797 - accuracy: 0.5926 - precision: 0.0000e+00 - recall: 0.0000e+00 - val_loss: 0.6793 - val_accuracy: 0.5859 - val_precision: 0.0000e+00 - val_recall: 0.0000e+00\n",
      "Epoch 3/60\n",
      "64/64 [==============================] - 1s 11ms/step - loss: 0.6784 - accuracy: 0.5926 - precision: 0.0000e+00 - recall: 0.0000e+00 - val_loss: 0.6792 - val_accuracy: 0.5859 - val_precision: 0.0000e+00 - val_recall: 0.0000e+00\n",
      "Epoch 4/60\n",
      "64/64 [==============================] - 1s 11ms/step - loss: 0.6765 - accuracy: 0.5926 - precision: 0.0000e+00 - recall: 0.0000e+00 - val_loss: 0.6778 - val_accuracy: 0.5859 - val_precision: 0.0000e+00 - val_recall: 0.0000e+00\n",
      "Epoch 5/60\n",
      "64/64 [==============================] - 1s 12ms/step - loss: 0.6766 - accuracy: 0.5930 - precision: 1.0000 - recall: 9.5877e-04 - val_loss: 0.6817 - val_accuracy: 0.5875 - val_precision: 1.0000 - val_recall: 0.0038\n",
      "Epoch 6/60\n",
      "64/64 [==============================] - 1s 9ms/step - loss: 0.6752 - accuracy: 0.5930 - precision: 1.0000 - recall: 9.5877e-04 - val_loss: 0.6772 - val_accuracy: 0.5859 - val_precision: 0.0000e+00 - val_recall: 0.0000e+00\n",
      "Epoch 7/60\n",
      "64/64 [==============================] - 1s 10ms/step - loss: 0.6743 - accuracy: 0.5938 - precision: 1.0000 - recall: 0.0029 - val_loss: 0.6742 - val_accuracy: 0.5875 - val_precision: 1.0000 - val_recall: 0.0038\n",
      "Epoch 8/60\n",
      "64/64 [==============================] - 1s 11ms/step - loss: 0.6693 - accuracy: 0.6016 - precision: 0.9600 - recall: 0.0230 - val_loss: 0.6671 - val_accuracy: 0.6016 - val_precision: 0.9167 - val_recall: 0.0415\n",
      "Epoch 9/60\n",
      "64/64 [==============================] - 1s 8ms/step - loss: 0.6570 - accuracy: 0.6168 - precision: 0.9306 - recall: 0.0642 - val_loss: 0.6474 - val_accuracy: 0.6469 - val_precision: 0.9333 - val_recall: 0.1585\n",
      "Epoch 10/60\n",
      "64/64 [==============================] - 1s 9ms/step - loss: 0.6188 - accuracy: 0.6703 - precision: 0.9345 - recall: 0.2052 - val_loss: 0.5950 - val_accuracy: 0.6703 - val_precision: 0.8553 - val_recall: 0.2453\n",
      "Epoch 11/60\n",
      "64/64 [==============================] - 0s 7ms/step - loss: 0.5623 - accuracy: 0.7312 - precision: 0.8834 - recall: 0.3921 - val_loss: 0.5411 - val_accuracy: 0.7297 - val_precision: 0.8710 - val_recall: 0.4075\n",
      "Epoch 12/60\n",
      "64/64 [==============================] - 0s 7ms/step - loss: 0.5102 - accuracy: 0.7566 - precision: 0.8261 - recall: 0.5101 - val_loss: 0.5068 - val_accuracy: 0.7703 - val_precision: 0.8554 - val_recall: 0.5358\n",
      "Epoch 13/60\n",
      "64/64 [==============================] - 0s 7ms/step - loss: 0.4837 - accuracy: 0.7832 - precision: 0.8599 - recall: 0.5590 - val_loss: 0.5386 - val_accuracy: 0.7328 - val_precision: 0.8730 - val_recall: 0.4151\n",
      "Epoch 14/60\n",
      "64/64 [==============================] - 0s 7ms/step - loss: 0.4732 - accuracy: 0.7984 - precision: 0.8490 - recall: 0.6146 - val_loss: 0.4975 - val_accuracy: 0.8172 - val_precision: 0.8109 - val_recall: 0.7283\n",
      "Epoch 15/60\n",
      "64/64 [==============================] - 1s 12ms/step - loss: 0.4446 - accuracy: 0.8043 - precision: 0.8510 - recall: 0.6299 - val_loss: 0.4735 - val_accuracy: 0.7969 - val_precision: 0.8111 - val_recall: 0.6642\n",
      "Epoch 16/60\n",
      "64/64 [==============================] - 1s 10ms/step - loss: 0.4405 - accuracy: 0.8078 - precision: 0.8457 - recall: 0.6462 - val_loss: 0.4859 - val_accuracy: 0.7688 - val_precision: 0.8503 - val_recall: 0.5358\n",
      "Epoch 17/60\n",
      "64/64 [==============================] - 0s 6ms/step - loss: 0.4358 - accuracy: 0.8078 - precision: 0.8356 - recall: 0.6577 - val_loss: 0.4722 - val_accuracy: 0.7844 - val_precision: 0.8547 - val_recall: 0.5774\n",
      "Epoch 18/60\n",
      "64/64 [==============================] - 0s 5ms/step - loss: 0.4248 - accuracy: 0.8172 - precision: 0.8378 - recall: 0.6836 - val_loss: 0.4551 - val_accuracy: 0.7891 - val_precision: 0.8316 - val_recall: 0.6151\n",
      "Epoch 19/60\n",
      "64/64 [==============================] - 0s 6ms/step - loss: 0.4274 - accuracy: 0.8164 - precision: 0.8383 - recall: 0.6807 - val_loss: 0.4459 - val_accuracy: 0.7906 - val_precision: 0.8104 - val_recall: 0.6453\n",
      "Epoch 20/60\n",
      "64/64 [==============================] - 0s 5ms/step - loss: 0.4266 - accuracy: 0.8176 - precision: 0.8310 - recall: 0.6932 - val_loss: 0.4531 - val_accuracy: 0.7891 - val_precision: 0.8316 - val_recall: 0.6151\n",
      "Epoch 21/60\n",
      "64/64 [==============================] - 0s 8ms/step - loss: 0.4140 - accuracy: 0.8211 - precision: 0.8335 - recall: 0.7009 - val_loss: 0.4570 - val_accuracy: 0.7859 - val_precision: 0.8299 - val_recall: 0.6075\n",
      "Epoch 22/60\n",
      "64/64 [==============================] - 0s 5ms/step - loss: 0.4141 - accuracy: 0.8176 - precision: 0.8200 - recall: 0.7076 - val_loss: 0.4351 - val_accuracy: 0.7969 - val_precision: 0.8111 - val_recall: 0.6642\n",
      "Epoch 23/60\n",
      "64/64 [==============================] - 0s 4ms/step - loss: 0.4040 - accuracy: 0.8184 - precision: 0.8204 - recall: 0.7095 - val_loss: 0.4402 - val_accuracy: 0.8156 - val_precision: 0.7928 - val_recall: 0.7509\n",
      "Epoch 24/60\n",
      "64/64 [==============================] - 0s 7ms/step - loss: 0.4129 - accuracy: 0.8246 - precision: 0.8278 - recall: 0.7191 - val_loss: 0.4889 - val_accuracy: 0.8250 - val_precision: 0.7611 - val_recall: 0.8415\n",
      "Epoch 25/60\n",
      "64/64 [==============================] - 1s 11ms/step - loss: 0.4107 - accuracy: 0.8227 - precision: 0.8212 - recall: 0.7220 - val_loss: 0.4434 - val_accuracy: 0.8125 - val_precision: 0.7778 - val_recall: 0.7660\n",
      "Epoch 26/60\n",
      "64/64 [==============================] - 1s 9ms/step - loss: 0.4163 - accuracy: 0.8234 - precision: 0.8237 - recall: 0.7210 - val_loss: 0.4260 - val_accuracy: 0.8062 - val_precision: 0.8133 - val_recall: 0.6906\n",
      "Epoch 27/60\n",
      "64/64 [==============================] - 1s 8ms/step - loss: 0.4162 - accuracy: 0.8188 - precision: 0.8143 - recall: 0.7191 - val_loss: 0.4271 - val_accuracy: 0.7922 - val_precision: 0.8084 - val_recall: 0.6528\n",
      "Epoch 28/60\n",
      "64/64 [==============================] - 0s 8ms/step - loss: 0.4061 - accuracy: 0.8207 - precision: 0.8160 - recall: 0.7229 - val_loss: 0.4237 - val_accuracy: 0.8078 - val_precision: 0.8170 - val_recall: 0.6906\n",
      "Epoch 29/60\n",
      "64/64 [==============================] - 0s 6ms/step - loss: 0.3970 - accuracy: 0.8242 - precision: 0.8178 - recall: 0.7315 - val_loss: 0.4201 - val_accuracy: 0.8188 - val_precision: 0.8117 - val_recall: 0.7321\n",
      "Epoch 30/60\n",
      "64/64 [==============================] - 0s 8ms/step - loss: 0.3955 - accuracy: 0.8273 - precision: 0.8127 - recall: 0.7488 - val_loss: 0.4186 - val_accuracy: 0.8156 - val_precision: 0.8101 - val_recall: 0.7245\n",
      "Epoch 31/60\n",
      "64/64 [==============================] - 1s 10ms/step - loss: 0.3928 - accuracy: 0.8262 - precision: 0.8134 - recall: 0.7440 - val_loss: 0.4213 - val_accuracy: 0.8156 - val_precision: 0.7838 - val_recall: 0.7660\n",
      "Epoch 32/60\n",
      "64/64 [==============================] - 0s 6ms/step - loss: 0.3931 - accuracy: 0.8238 - precision: 0.8077 - recall: 0.7450 - val_loss: 0.4150 - val_accuracy: 0.8172 - val_precision: 0.8109 - val_recall: 0.7283\n",
      "Epoch 33/60\n",
      "64/64 [==============================] - 0s 4ms/step - loss: 0.3900 - accuracy: 0.8281 - precision: 0.8144 - recall: 0.7488 - val_loss: 0.4173 - val_accuracy: 0.8141 - val_precision: 0.8093 - val_recall: 0.7208\n",
      "Epoch 34/60\n",
      "64/64 [==============================] - 0s 4ms/step - loss: 0.3874 - accuracy: 0.8305 - precision: 0.8142 - recall: 0.7565 - val_loss: 0.4126 - val_accuracy: 0.8156 - val_precision: 0.7882 - val_recall: 0.7585\n",
      "Epoch 35/60\n",
      "64/64 [==============================] - 0s 4ms/step - loss: 0.3856 - accuracy: 0.8289 - precision: 0.8128 - recall: 0.7536 - val_loss: 0.4120 - val_accuracy: 0.8188 - val_precision: 0.8117 - val_recall: 0.7321\n",
      "Epoch 36/60\n",
      "64/64 [==============================] - 0s 5ms/step - loss: 0.3847 - accuracy: 0.8316 - precision: 0.8122 - recall: 0.7632 - val_loss: 0.4252 - val_accuracy: 0.8188 - val_precision: 0.7709 - val_recall: 0.8000\n",
      "Epoch 37/60\n"
     ]
    },
    {
     "name": "stdout",
     "output_type": "stream",
     "text": [
      "64/64 [==============================] - 0s 4ms/step - loss: 0.4152 - accuracy: 0.8320 - precision: 0.8118 - recall: 0.7651 - val_loss: 0.4097 - val_accuracy: 0.8172 - val_precision: 0.8109 - val_recall: 0.7283\n",
      "Epoch 38/60\n",
      "64/64 [==============================] - 0s 4ms/step - loss: 0.3867 - accuracy: 0.8313 - precision: 0.8114 - recall: 0.7632 - val_loss: 0.4417 - val_accuracy: 0.8234 - val_precision: 0.7621 - val_recall: 0.8340\n",
      "Epoch 39/60\n",
      "64/64 [==============================] - 0s 4ms/step - loss: 0.3834 - accuracy: 0.8352 - precision: 0.8146 - recall: 0.7709 - val_loss: 0.4087 - val_accuracy: 0.8125 - val_precision: 0.7778 - val_recall: 0.7660\n",
      "Epoch 40/60\n",
      "64/64 [==============================] - 0s 5ms/step - loss: 0.3965 - accuracy: 0.8332 - precision: 0.8111 - recall: 0.7699 - val_loss: 0.4046 - val_accuracy: 0.8156 - val_precision: 0.7905 - val_recall: 0.7547\n",
      "Epoch 41/60\n",
      "64/64 [==============================] - 0s 5ms/step - loss: 0.3989 - accuracy: 0.8340 - precision: 0.8121 - recall: 0.7709 - val_loss: 0.4306 - val_accuracy: 0.7953 - val_precision: 0.8102 - val_recall: 0.6604\n",
      "Epoch 42/60\n",
      "64/64 [==============================] - 0s 4ms/step - loss: 0.3871 - accuracy: 0.8313 - precision: 0.8064 - recall: 0.7709 - val_loss: 0.4032 - val_accuracy: 0.8156 - val_precision: 0.7838 - val_recall: 0.7660\n",
      "Epoch 43/60\n",
      "64/64 [==============================] - 0s 5ms/step - loss: 0.3837 - accuracy: 0.8371 - precision: 0.8099 - recall: 0.7843 - val_loss: 0.4101 - val_accuracy: 0.8172 - val_precision: 0.8109 - val_recall: 0.7283\n",
      "Epoch 44/60\n",
      "64/64 [==============================] - 0s 5ms/step - loss: 0.3806 - accuracy: 0.8383 - precision: 0.8123 - recall: 0.7843 - val_loss: 0.4301 - val_accuracy: 0.8078 - val_precision: 0.8142 - val_recall: 0.6943\n",
      "Epoch 45/60\n",
      "64/64 [==============================] - 0s 4ms/step - loss: 0.3751 - accuracy: 0.8363 - precision: 0.8035 - recall: 0.7919 - val_loss: 0.4023 - val_accuracy: 0.8172 - val_precision: 0.7984 - val_recall: 0.7472\n",
      "Epoch 46/60\n",
      "64/64 [==============================] - 0s 5ms/step - loss: 0.3797 - accuracy: 0.8355 - precision: 0.8025 - recall: 0.7910 - val_loss: 0.4721 - val_accuracy: 0.7906 - val_precision: 0.8227 - val_recall: 0.6302\n",
      "Epoch 47/60\n",
      "64/64 [==============================] - 0s 4ms/step - loss: 0.3879 - accuracy: 0.8348 - precision: 0.8088 - recall: 0.7785 - val_loss: 0.3992 - val_accuracy: 0.8156 - val_precision: 0.7838 - val_recall: 0.7660\n",
      "Epoch 48/60\n",
      "64/64 [==============================] - 0s 4ms/step - loss: 0.3765 - accuracy: 0.8352 - precision: 0.8000 - recall: 0.7939 - val_loss: 0.3984 - val_accuracy: 0.8125 - val_precision: 0.7778 - val_recall: 0.7660\n",
      "Epoch 49/60\n",
      "64/64 [==============================] - 0s 4ms/step - loss: 0.3817 - accuracy: 0.8352 - precision: 0.8041 - recall: 0.7872 - val_loss: 0.3972 - val_accuracy: 0.8156 - val_precision: 0.7838 - val_recall: 0.7660\n",
      "Epoch 50/60\n",
      "64/64 [==============================] - 0s 4ms/step - loss: 0.3814 - accuracy: 0.8363 - precision: 0.8041 - recall: 0.7910 - val_loss: 0.3980 - val_accuracy: 0.8156 - val_precision: 0.7838 - val_recall: 0.7660\n",
      "Epoch 51/60\n",
      "64/64 [==============================] - 0s 5ms/step - loss: 0.3777 - accuracy: 0.8379 - precision: 0.8066 - recall: 0.7919 - val_loss: 0.3963 - val_accuracy: 0.8156 - val_precision: 0.7774 - val_recall: 0.7774\n",
      "Epoch 52/60\n",
      "64/64 [==============================] - 0s 4ms/step - loss: 0.3835 - accuracy: 0.8371 - precision: 0.8004 - recall: 0.7996 - val_loss: 0.3957 - val_accuracy: 0.8156 - val_precision: 0.7838 - val_recall: 0.7660\n",
      "Epoch 53/60\n",
      "64/64 [==============================] - 0s 4ms/step - loss: 0.3762 - accuracy: 0.8367 - precision: 0.8014 - recall: 0.7967 - val_loss: 0.4058 - val_accuracy: 0.8188 - val_precision: 0.7633 - val_recall: 0.8151\n",
      "Epoch 54/60\n",
      "64/64 [==============================] - 0s 4ms/step - loss: 0.3876 - accuracy: 0.8336 - precision: 0.7975 - recall: 0.7929 - val_loss: 0.4321 - val_accuracy: 0.8078 - val_precision: 0.8087 - val_recall: 0.7019\n",
      "Epoch 55/60\n",
      "64/64 [==============================] - 0s 6ms/step - loss: 0.3743 - accuracy: 0.8375 - precision: 0.7983 - recall: 0.8044 - val_loss: 0.3978 - val_accuracy: 0.8156 - val_precision: 0.7838 - val_recall: 0.7660\n",
      "Epoch 56/60\n",
      "64/64 [==============================] - 0s 6ms/step - loss: 0.3952 - accuracy: 0.8328 - precision: 0.7965 - recall: 0.7919 - val_loss: 0.3990 - val_accuracy: 0.8172 - val_precision: 0.7891 - val_recall: 0.7623\n",
      "Epoch 57/60\n",
      "64/64 [==============================] - 0s 4ms/step - loss: 0.3705 - accuracy: 0.8359 - precision: 0.7964 - recall: 0.8025 - val_loss: 0.3976 - val_accuracy: 0.8156 - val_precision: 0.7860 - val_recall: 0.7623\n",
      "Epoch 58/60\n",
      "64/64 [==============================] - 1s 8ms/step - loss: 0.3724 - accuracy: 0.8352 - precision: 0.7983 - recall: 0.7967 - val_loss: 0.3920 - val_accuracy: 0.8172 - val_precision: 0.7782 - val_recall: 0.7811\n",
      "Epoch 59/60\n",
      "64/64 [==============================] - 0s 5ms/step - loss: 0.3747 - accuracy: 0.8355 - precision: 0.7979 - recall: 0.7987 - val_loss: 0.3993 - val_accuracy: 0.8156 - val_precision: 0.7838 - val_recall: 0.7660\n",
      "Epoch 60/60\n",
      "64/64 [==============================] - 0s 5ms/step - loss: 0.3668 - accuracy: 0.8395 - precision: 0.7992 - recall: 0.8092 - val_loss: 0.3919 - val_accuracy: 0.8125 - val_precision: 0.7778 - val_recall: 0.7660\n",
      "20/20 [==============================] - 0s 2ms/step\n"
     ]
    },
    {
     "name": "stderr",
     "output_type": "stream",
     "text": [
      "WARNING:absl:Found untraced functions such as _update_step_xla while saving (showing 1 of 1). These functions will not be directly callable after loading.\n"
     ]
    },
    {
     "name": "stdout",
     "output_type": "stream",
     "text": [
      "INFO:tensorflow:Assets written to: C:\\Users\\jmbar\\AppData\\Local\\Temp\\tmpe_l8e5hn\\assets\n"
     ]
    },
    {
     "name": "stderr",
     "output_type": "stream",
     "text": [
      "INFO:tensorflow:Assets written to: C:\\Users\\jmbar\\AppData\\Local\\Temp\\tmpe_l8e5hn\\assets\n"
     ]
    },
    {
     "name": "stdout",
     "output_type": "stream",
     "text": [
      "Epoch 1/60\n",
      "64/64 [==============================] - 2s 14ms/step - loss: 0.6761 - accuracy: 0.5980 - precision: 0.0000e+00 - recall: 0.0000e+00 - val_loss: 0.6798 - val_accuracy: 0.5813 - val_precision: 0.0000e+00 - val_recall: 0.0000e+00\n",
      "Epoch 2/60\n",
      "64/64 [==============================] - 0s 5ms/step - loss: 0.6749 - accuracy: 0.5980 - precision: 0.0000e+00 - recall: 0.0000e+00 - val_loss: 0.6797 - val_accuracy: 0.5813 - val_precision: 0.0000e+00 - val_recall: 0.0000e+00\n",
      "Epoch 3/60\n",
      "64/64 [==============================] - 0s 4ms/step - loss: 0.6751 - accuracy: 0.5980 - precision: 0.0000e+00 - recall: 0.0000e+00 - val_loss: 0.6810 - val_accuracy: 0.5813 - val_precision: 0.0000e+00 - val_recall: 0.0000e+00\n",
      "Epoch 4/60\n",
      "64/64 [==============================] - 0s 4ms/step - loss: 0.6738 - accuracy: 0.5980 - precision: 0.0000e+00 - recall: 0.0000e+00 - val_loss: 0.6796 - val_accuracy: 0.5813 - val_precision: 0.0000e+00 - val_recall: 0.0000e+00\n",
      "Epoch 5/60\n",
      "64/64 [==============================] - 0s 4ms/step - loss: 0.6731 - accuracy: 0.5980 - precision: 0.0000e+00 - recall: 0.0000e+00 - val_loss: 0.6789 - val_accuracy: 0.5813 - val_precision: 0.0000e+00 - val_recall: 0.0000e+00\n",
      "Epoch 6/60\n",
      "64/64 [==============================] - 0s 4ms/step - loss: 0.6724 - accuracy: 0.6000 - precision: 1.0000 - recall: 0.0049 - val_loss: 0.6759 - val_accuracy: 0.5828 - val_precision: 1.0000 - val_recall: 0.0037\n",
      "Epoch 7/60\n",
      "64/64 [==============================] - 0s 4ms/step - loss: 0.6644 - accuracy: 0.6090 - precision: 1.0000 - recall: 0.0272 - val_loss: 0.6674 - val_accuracy: 0.5969 - val_precision: 1.0000 - val_recall: 0.0373\n",
      "Epoch 8/60\n",
      "64/64 [==============================] - 0s 4ms/step - loss: 0.6463 - accuracy: 0.6422 - precision: 0.9248 - recall: 0.1195 - val_loss: 0.6571 - val_accuracy: 0.6078 - val_precision: 1.0000 - val_recall: 0.0634\n",
      "Epoch 9/60\n",
      "64/64 [==============================] - 0s 5ms/step - loss: 0.6185 - accuracy: 0.6691 - precision: 0.7407 - recall: 0.2721 - val_loss: 0.6057 - val_accuracy: 0.6969 - val_precision: 0.8936 - val_recall: 0.3134\n",
      "Epoch 10/60\n",
      "64/64 [==============================] - 0s 4ms/step - loss: 0.5760 - accuracy: 0.7195 - precision: 0.8180 - recall: 0.3887 - val_loss: 0.5666 - val_accuracy: 0.7656 - val_precision: 0.8471 - val_recall: 0.5373\n",
      "Epoch 11/60\n",
      "64/64 [==============================] - 0s 4ms/step - loss: 0.5248 - accuracy: 0.7566 - precision: 0.8874 - recall: 0.4519 - val_loss: 0.5264 - val_accuracy: 0.7203 - val_precision: 0.8678 - val_recall: 0.3918\n",
      "Epoch 12/60\n",
      "64/64 [==============================] - 0s 4ms/step - loss: 0.4838 - accuracy: 0.7832 - precision: 0.8798 - recall: 0.5335 - val_loss: 0.4939 - val_accuracy: 0.7750 - val_precision: 0.8523 - val_recall: 0.5597\n",
      "Epoch 13/60\n",
      "64/64 [==============================] - 0s 4ms/step - loss: 0.4678 - accuracy: 0.7969 - precision: 0.8683 - recall: 0.5831 - val_loss: 0.5215 - val_accuracy: 0.7297 - val_precision: 0.8626 - val_recall: 0.4216\n",
      "Epoch 14/60\n",
      "64/64 [==============================] - 0s 4ms/step - loss: 0.4646 - accuracy: 0.7988 - precision: 0.8501 - recall: 0.6064 - val_loss: 0.4992 - val_accuracy: 0.7516 - val_precision: 0.8658 - val_recall: 0.4813\n",
      "Epoch 15/60\n",
      "64/64 [==============================] - 0s 4ms/step - loss: 0.4510 - accuracy: 0.8043 - precision: 0.8548 - recall: 0.6181 - val_loss: 0.4729 - val_accuracy: 0.7766 - val_precision: 0.8531 - val_recall: 0.5634\n",
      "Epoch 16/60\n",
      "64/64 [==============================] - 0s 4ms/step - loss: 0.4280 - accuracy: 0.8113 - precision: 0.8491 - recall: 0.6453 - val_loss: 0.4642 - val_accuracy: 0.7703 - val_precision: 0.8201 - val_recall: 0.5784\n",
      "Epoch 17/60\n",
      "64/64 [==============================] - 0s 4ms/step - loss: 0.4444 - accuracy: 0.8113 - precision: 0.8456 - recall: 0.6492 - val_loss: 0.4811 - val_accuracy: 0.7641 - val_precision: 0.8462 - val_recall: 0.5336\n",
      "Epoch 18/60\n",
      "64/64 [==============================] - 0s 4ms/step - loss: 0.4341 - accuracy: 0.8121 - precision: 0.8350 - recall: 0.6638 - val_loss: 0.4708 - val_accuracy: 0.7781 - val_precision: 0.8500 - val_recall: 0.5709\n",
      "Epoch 19/60\n",
      "64/64 [==============================] - 0s 4ms/step - loss: 0.4417 - accuracy: 0.8066 - precision: 0.8329 - recall: 0.6492 - val_loss: 0.4489 - val_accuracy: 0.7797 - val_precision: 0.8068 - val_recall: 0.6231\n",
      "Epoch 20/60\n",
      "64/64 [==============================] - 0s 4ms/step - loss: 0.4238 - accuracy: 0.8141 - precision: 0.8335 - recall: 0.6715 - val_loss: 0.4828 - val_accuracy: 0.7719 - val_precision: 0.8506 - val_recall: 0.5522\n",
      "Epoch 21/60\n",
      "64/64 [==============================] - 0s 4ms/step - loss: 0.4110 - accuracy: 0.8191 - precision: 0.8385 - recall: 0.6812 - val_loss: 0.4656 - val_accuracy: 0.8188 - val_precision: 0.7857 - val_recall: 0.7799\n",
      "Epoch 22/60\n",
      "64/64 [==============================] - 0s 4ms/step - loss: 0.4117 - accuracy: 0.8184 - precision: 0.8318 - recall: 0.6871 - val_loss: 0.4682 - val_accuracy: 0.8219 - val_precision: 0.7810 - val_recall: 0.7985\n",
      "Epoch 23/60\n",
      "64/64 [==============================] - 0s 4ms/step - loss: 0.4103 - accuracy: 0.8242 - precision: 0.8324 - recall: 0.7046 - val_loss: 0.4372 - val_accuracy: 0.7984 - val_precision: 0.8089 - val_recall: 0.6791\n",
      "Epoch 24/60\n",
      "64/64 [==============================] - 0s 4ms/step - loss: 0.4092 - accuracy: 0.8203 - precision: 0.8237 - recall: 0.7036 - val_loss: 0.4399 - val_accuracy: 0.7812 - val_precision: 0.8077 - val_recall: 0.6269\n",
      "Epoch 25/60\n",
      "64/64 [==============================] - 0s 4ms/step - loss: 0.4093 - accuracy: 0.8234 - precision: 0.8282 - recall: 0.7075 - val_loss: 0.4440 - val_accuracy: 0.8125 - val_precision: 0.7846 - val_recall: 0.7612\n",
      "Epoch 26/60\n",
      "64/64 [==============================] - 0s 4ms/step - loss: 0.4051 - accuracy: 0.8230 - precision: 0.8221 - recall: 0.7143 - val_loss: 0.4411 - val_accuracy: 0.7812 - val_precision: 0.8137 - val_recall: 0.6194\n",
      "Epoch 27/60\n",
      "64/64 [==============================] - 0s 4ms/step - loss: 0.3988 - accuracy: 0.8273 - precision: 0.8265 - recall: 0.7221 - val_loss: 0.4296 - val_accuracy: 0.7984 - val_precision: 0.8089 - val_recall: 0.6791\n",
      "Epoch 28/60\n",
      "64/64 [==============================] - 0s 5ms/step - loss: 0.4026 - accuracy: 0.8211 - precision: 0.8134 - recall: 0.7201 - val_loss: 0.4383 - val_accuracy: 0.7812 - val_precision: 0.8077 - val_recall: 0.6269\n",
      "Epoch 29/60\n",
      "64/64 [==============================] - 0s 5ms/step - loss: 0.3956 - accuracy: 0.8273 - precision: 0.8229 - recall: 0.7269 - val_loss: 0.4329 - val_accuracy: 0.8125 - val_precision: 0.7846 - val_recall: 0.7612\n",
      "Epoch 30/60\n",
      "64/64 [==============================] - 0s 6ms/step - loss: 0.3987 - accuracy: 0.8246 - precision: 0.8180 - recall: 0.7250 - val_loss: 0.4235 - val_accuracy: 0.8094 - val_precision: 0.8147 - val_recall: 0.7052\n",
      "Epoch 31/60\n",
      "64/64 [==============================] - 0s 5ms/step - loss: 0.3927 - accuracy: 0.8285 - precision: 0.8221 - recall: 0.7318 - val_loss: 0.4397 - val_accuracy: 0.7797 - val_precision: 0.8068 - val_recall: 0.6231\n",
      "Epoch 32/60\n",
      "64/64 [==============================] - 0s 4ms/step - loss: 0.3925 - accuracy: 0.8301 - precision: 0.8200 - recall: 0.7396 - val_loss: 0.4342 - val_accuracy: 0.7844 - val_precision: 0.8095 - val_recall: 0.6343\n",
      "Epoch 33/60\n",
      "64/64 [==============================] - 1s 9ms/step - loss: 0.3891 - accuracy: 0.8285 - precision: 0.8145 - recall: 0.7425 - val_loss: 0.4294 - val_accuracy: 0.8203 - val_precision: 0.7865 - val_recall: 0.7836\n",
      "Epoch 34/60\n",
      "64/64 [==============================] - 0s 5ms/step - loss: 0.3839 - accuracy: 0.8332 - precision: 0.8244 - recall: 0.7434 - val_loss: 0.4281 - val_accuracy: 0.8219 - val_precision: 0.7873 - val_recall: 0.7873\n",
      "Epoch 35/60\n",
      "64/64 [==============================] - 0s 4ms/step - loss: 0.3899 - accuracy: 0.8336 - precision: 0.8150 - recall: 0.7580 - val_loss: 0.4214 - val_accuracy: 0.8062 - val_precision: 0.8130 - val_recall: 0.6978\n",
      "Epoch 36/60\n",
      "64/64 [==============================] - 0s 4ms/step - loss: 0.3843 - accuracy: 0.8320 - precision: 0.8210 - recall: 0.7444 - val_loss: 0.4149 - val_accuracy: 0.8156 - val_precision: 0.7907 - val_recall: 0.7612\n",
      "Epoch 37/60\n"
     ]
    },
    {
     "name": "stdout",
     "output_type": "stream",
     "text": [
      "64/64 [==============================] - 0s 4ms/step - loss: 0.3934 - accuracy: 0.8363 - precision: 0.8164 - recall: 0.7648 - val_loss: 0.4240 - val_accuracy: 0.7953 - val_precision: 0.8072 - val_recall: 0.6716\n",
      "Epoch 38/60\n",
      "64/64 [==============================] - 0s 4ms/step - loss: 0.3809 - accuracy: 0.8340 - precision: 0.8192 - recall: 0.7532 - val_loss: 0.4305 - val_accuracy: 0.7937 - val_precision: 0.8091 - val_recall: 0.6642\n",
      "Epoch 39/60\n",
      "64/64 [==============================] - 0s 3ms/step - loss: 0.3786 - accuracy: 0.8371 - precision: 0.8181 - recall: 0.7648 - val_loss: 0.4113 - val_accuracy: 0.8125 - val_precision: 0.7846 - val_recall: 0.7612\n",
      "Epoch 40/60\n",
      "64/64 [==============================] - 0s 4ms/step - loss: 0.3832 - accuracy: 0.8324 - precision: 0.8086 - recall: 0.7638 - val_loss: 0.4298 - val_accuracy: 0.7937 - val_precision: 0.8091 - val_recall: 0.6642\n",
      "Epoch 41/60\n",
      "64/64 [==============================] - 0s 3ms/step - loss: 0.3821 - accuracy: 0.8363 - precision: 0.8144 - recall: 0.7677 - val_loss: 0.4083 - val_accuracy: 0.8172 - val_precision: 0.7938 - val_recall: 0.7612\n",
      "Epoch 42/60\n",
      "64/64 [==============================] - 0s 4ms/step - loss: 0.3781 - accuracy: 0.8359 - precision: 0.8110 - recall: 0.7716 - val_loss: 0.4084 - val_accuracy: 0.8156 - val_precision: 0.7953 - val_recall: 0.7537\n",
      "Epoch 43/60\n",
      "64/64 [==============================] - 0s 4ms/step - loss: 0.3896 - accuracy: 0.8348 - precision: 0.8098 - recall: 0.7697 - val_loss: 0.4067 - val_accuracy: 0.8141 - val_precision: 0.7876 - val_recall: 0.7612\n",
      "Epoch 44/60\n",
      "64/64 [==============================] - 0s 4ms/step - loss: 0.3821 - accuracy: 0.8289 - precision: 0.8025 - recall: 0.7619 - val_loss: 0.4102 - val_accuracy: 0.8156 - val_precision: 0.8099 - val_recall: 0.7313\n",
      "Epoch 45/60\n",
      "64/64 [==============================] - 0s 3ms/step - loss: 0.3743 - accuracy: 0.8344 - precision: 0.8084 - recall: 0.7707 - val_loss: 0.4067 - val_accuracy: 0.8125 - val_precision: 0.7984 - val_recall: 0.7388\n",
      "Epoch 46/60\n",
      "64/64 [==============================] - 0s 4ms/step - loss: 0.3758 - accuracy: 0.8375 - precision: 0.8118 - recall: 0.7755 - val_loss: 0.4045 - val_accuracy: 0.8156 - val_precision: 0.7841 - val_recall: 0.7724\n",
      "Epoch 47/60\n",
      "64/64 [==============================] - 0s 4ms/step - loss: 0.3742 - accuracy: 0.8387 - precision: 0.8092 - recall: 0.7833 - val_loss: 0.4364 - val_accuracy: 0.7953 - val_precision: 0.8072 - val_recall: 0.6716\n",
      "Epoch 48/60\n",
      "64/64 [==============================] - 0s 4ms/step - loss: 0.3839 - accuracy: 0.8375 - precision: 0.8093 - recall: 0.7794 - val_loss: 0.4026 - val_accuracy: 0.8141 - val_precision: 0.7854 - val_recall: 0.7649\n",
      "Epoch 49/60\n",
      "64/64 [==============================] - 0s 4ms/step - loss: 0.3798 - accuracy: 0.8379 - precision: 0.8095 - recall: 0.7804 - val_loss: 0.4016 - val_accuracy: 0.8141 - val_precision: 0.7833 - val_recall: 0.7687\n",
      "Epoch 50/60\n",
      "64/64 [==============================] - 0s 4ms/step - loss: 0.3736 - accuracy: 0.8348 - precision: 0.8012 - recall: 0.7833 - val_loss: 0.4118 - val_accuracy: 0.8109 - val_precision: 0.8075 - val_recall: 0.7201\n",
      "Epoch 51/60\n",
      "64/64 [==============================] - 0s 4ms/step - loss: 0.3768 - accuracy: 0.8414 - precision: 0.8087 - recall: 0.7930 - val_loss: 0.4154 - val_accuracy: 0.8094 - val_precision: 0.8120 - val_recall: 0.7090\n",
      "Epoch 52/60\n",
      "64/64 [==============================] - 0s 4ms/step - loss: 0.3823 - accuracy: 0.8324 - precision: 0.7994 - recall: 0.7784 - val_loss: 0.4257 - val_accuracy: 0.8047 - val_precision: 0.8122 - val_recall: 0.6940\n",
      "Epoch 53/60\n",
      "64/64 [==============================] - 0s 4ms/step - loss: 0.3806 - accuracy: 0.8387 - precision: 0.8031 - recall: 0.7930 - val_loss: 0.4092 - val_accuracy: 0.8234 - val_precision: 0.7758 - val_recall: 0.8134\n",
      "Epoch 54/60\n",
      "64/64 [==============================] - 0s 4ms/step - loss: 0.3747 - accuracy: 0.8340 - precision: 0.8020 - recall: 0.7794 - val_loss: 0.4231 - val_accuracy: 0.8328 - val_precision: 0.7729 - val_recall: 0.8507\n",
      "Epoch 55/60\n",
      "64/64 [==============================] - 0s 4ms/step - loss: 0.3819 - accuracy: 0.8367 - precision: 0.8010 - recall: 0.7901 - val_loss: 0.4034 - val_accuracy: 0.8219 - val_precision: 0.7750 - val_recall: 0.8097\n",
      "Epoch 56/60\n",
      "64/64 [==============================] - 0s 4ms/step - loss: 0.3751 - accuracy: 0.8367 - precision: 0.7998 - recall: 0.7920 - val_loss: 0.4005 - val_accuracy: 0.8156 - val_precision: 0.7907 - val_recall: 0.7612\n",
      "Epoch 57/60\n",
      "64/64 [==============================] - 0s 4ms/step - loss: 0.3779 - accuracy: 0.8348 - precision: 0.7994 - recall: 0.7862 - val_loss: 0.4007 - val_accuracy: 0.8219 - val_precision: 0.7750 - val_recall: 0.8097\n",
      "Epoch 58/60\n",
      "64/64 [==============================] - 0s 4ms/step - loss: 0.3722 - accuracy: 0.8367 - precision: 0.7992 - recall: 0.7930 - val_loss: 0.3963 - val_accuracy: 0.8203 - val_precision: 0.7865 - val_recall: 0.7836\n",
      "Epoch 59/60\n",
      "64/64 [==============================] - 0s 4ms/step - loss: 0.3716 - accuracy: 0.8344 - precision: 0.7986 - recall: 0.7862 - val_loss: 0.3958 - val_accuracy: 0.8188 - val_precision: 0.7857 - val_recall: 0.7799\n",
      "Epoch 60/60\n",
      "64/64 [==============================] - 0s 4ms/step - loss: 0.3735 - accuracy: 0.8367 - precision: 0.8034 - recall: 0.7862 - val_loss: 0.4198 - val_accuracy: 0.8109 - val_precision: 0.8128 - val_recall: 0.7127\n",
      "20/20 [==============================] - 0s 2ms/step\n"
     ]
    },
    {
     "name": "stderr",
     "output_type": "stream",
     "text": [
      "WARNING:absl:Found untraced functions such as _update_step_xla while saving (showing 1 of 1). These functions will not be directly callable after loading.\n"
     ]
    },
    {
     "name": "stdout",
     "output_type": "stream",
     "text": [
      "INFO:tensorflow:Assets written to: C:\\Users\\jmbar\\AppData\\Local\\Temp\\tmp2ie89u1k\\assets\n"
     ]
    },
    {
     "name": "stderr",
     "output_type": "stream",
     "text": [
      "INFO:tensorflow:Assets written to: C:\\Users\\jmbar\\AppData\\Local\\Temp\\tmp2ie89u1k\\assets\n"
     ]
    },
    {
     "name": "stdout",
     "output_type": "stream",
     "text": [
      "Epoch 1/60\n",
      "64/64 [==============================] - 2s 10ms/step - loss: 0.6720 - accuracy: 0.6047 - precision: 0.0000e+00 - recall: 0.0000e+00 - val_loss: 0.6899 - val_accuracy: 0.5594 - val_precision: 0.0000e+00 - val_recall: 0.0000e+00\n",
      "Epoch 2/60\n",
      "64/64 [==============================] - 0s 4ms/step - loss: 0.6719 - accuracy: 0.6047 - precision: 0.0000e+00 - recall: 0.0000e+00 - val_loss: 0.6894 - val_accuracy: 0.5594 - val_precision: 0.0000e+00 - val_recall: 0.0000e+00\n",
      "Epoch 3/60\n",
      "64/64 [==============================] - 0s 4ms/step - loss: 0.6730 - accuracy: 0.6047 - precision: 0.0000e+00 - recall: 0.0000e+00 - val_loss: 0.6888 - val_accuracy: 0.5594 - val_precision: 0.0000e+00 - val_recall: 0.0000e+00\n",
      "Epoch 4/60\n",
      "64/64 [==============================] - 0s 4ms/step - loss: 0.6723 - accuracy: 0.6047 - precision: 0.0000e+00 - recall: 0.0000e+00 - val_loss: 0.6945 - val_accuracy: 0.5594 - val_precision: 0.0000e+00 - val_recall: 0.0000e+00\n",
      "Epoch 5/60\n",
      "64/64 [==============================] - 0s 4ms/step - loss: 0.6711 - accuracy: 0.6047 - precision: 0.0000e+00 - recall: 0.0000e+00 - val_loss: 0.6853 - val_accuracy: 0.5594 - val_precision: 0.0000e+00 - val_recall: 0.0000e+00\n",
      "Epoch 6/60\n",
      "64/64 [==============================] - 0s 4ms/step - loss: 0.6702 - accuracy: 0.6047 - precision: 0.0000e+00 - recall: 0.0000e+00 - val_loss: 0.6857 - val_accuracy: 0.5594 - val_precision: 0.0000e+00 - val_recall: 0.0000e+00\n",
      "Epoch 7/60\n",
      "64/64 [==============================] - 0s 4ms/step - loss: 0.6672 - accuracy: 0.6094 - precision: 1.0000 - recall: 0.0119 - val_loss: 0.6806 - val_accuracy: 0.5656 - val_precision: 1.0000 - val_recall: 0.0142\n",
      "Epoch 8/60\n",
      "64/64 [==============================] - 0s 4ms/step - loss: 0.6585 - accuracy: 0.6238 - precision: 0.9455 - recall: 0.0514 - val_loss: 0.6886 - val_accuracy: 0.5703 - val_precision: 1.0000 - val_recall: 0.0248\n",
      "Epoch 9/60\n",
      "64/64 [==============================] - 0s 4ms/step - loss: 0.6414 - accuracy: 0.6414 - precision: 0.9519 - recall: 0.0978 - val_loss: 0.6501 - val_accuracy: 0.5984 - val_precision: 0.9032 - val_recall: 0.0993\n",
      "Epoch 10/60\n",
      "64/64 [==============================] - 0s 4ms/step - loss: 0.6236 - accuracy: 0.6738 - precision: 0.7063 - recall: 0.2994 - val_loss: 0.6223 - val_accuracy: 0.6359 - val_precision: 0.8769 - val_recall: 0.2021\n",
      "Epoch 11/60\n",
      "64/64 [==============================] - 0s 4ms/step - loss: 0.5681 - accuracy: 0.7188 - precision: 0.8650 - recall: 0.3419 - val_loss: 0.6290 - val_accuracy: 0.4406 - val_precision: 0.4406 - val_recall: 1.0000\n",
      "Epoch 12/60\n",
      "64/64 [==============================] - 0s 4ms/step - loss: 0.5517 - accuracy: 0.7348 - precision: 0.7846 - recall: 0.4536 - val_loss: 0.5455 - val_accuracy: 0.7609 - val_precision: 0.8449 - val_recall: 0.5603\n",
      "Epoch 13/60\n",
      "64/64 [==============================] - 0s 4ms/step - loss: 0.4995 - accuracy: 0.7680 - precision: 0.8579 - recall: 0.4951 - val_loss: 0.5181 - val_accuracy: 0.7672 - val_precision: 0.8376 - val_recall: 0.5851\n",
      "Epoch 14/60\n",
      "64/64 [==============================] - 0s 4ms/step - loss: 0.4786 - accuracy: 0.7844 - precision: 0.8571 - recall: 0.5455 - val_loss: 0.5058 - val_accuracy: 0.7563 - val_precision: 0.8424 - val_recall: 0.5496\n",
      "Epoch 15/60\n",
      "64/64 [==============================] - 0s 4ms/step - loss: 0.4626 - accuracy: 0.7918 - precision: 0.8340 - recall: 0.5909 - val_loss: 0.5202 - val_accuracy: 0.7500 - val_precision: 0.8631 - val_recall: 0.5142\n",
      "Epoch 16/60\n",
      "64/64 [==============================] - 0s 6ms/step - loss: 0.4548 - accuracy: 0.8016 - precision: 0.8481 - recall: 0.6067 - val_loss: 0.4934 - val_accuracy: 0.7688 - val_precision: 0.8454 - val_recall: 0.5816\n",
      "Epoch 17/60\n",
      "64/64 [==============================] - 0s 4ms/step - loss: 0.4411 - accuracy: 0.8141 - precision: 0.8427 - recall: 0.6512 - val_loss: 0.4845 - val_accuracy: 0.7688 - val_precision: 0.8317 - val_recall: 0.5957\n",
      "Epoch 18/60\n",
      "64/64 [==============================] - 0s 4ms/step - loss: 0.4386 - accuracy: 0.8078 - precision: 0.8359 - recall: 0.6393 - val_loss: 0.4888 - val_accuracy: 0.7688 - val_precision: 0.8418 - val_recall: 0.5851\n",
      "Epoch 19/60\n",
      "64/64 [==============================] - 0s 4ms/step - loss: 0.4317 - accuracy: 0.8086 - precision: 0.8254 - recall: 0.6542 - val_loss: 0.4885 - val_accuracy: 0.7688 - val_precision: 0.8418 - val_recall: 0.5851\n",
      "Epoch 20/60\n",
      "64/64 [==============================] - 0s 4ms/step - loss: 0.4336 - accuracy: 0.8117 - precision: 0.8162 - recall: 0.6759 - val_loss: 0.5231 - val_accuracy: 0.7516 - val_precision: 0.8436 - val_recall: 0.5355\n",
      "Epoch 21/60\n",
      "64/64 [==============================] - 0s 4ms/step - loss: 0.4349 - accuracy: 0.8082 - precision: 0.8165 - recall: 0.6640 - val_loss: 0.4649 - val_accuracy: 0.8125 - val_precision: 0.8045 - val_recall: 0.7589\n",
      "Epoch 22/60\n",
      "64/64 [==============================] - 0s 4ms/step - loss: 0.4195 - accuracy: 0.8148 - precision: 0.8165 - recall: 0.6858 - val_loss: 0.4576 - val_accuracy: 0.7766 - val_precision: 0.8174 - val_recall: 0.6348\n",
      "Epoch 23/60\n",
      "64/64 [==============================] - 0s 4ms/step - loss: 0.4217 - accuracy: 0.8137 - precision: 0.8129 - recall: 0.6868 - val_loss: 0.5183 - val_accuracy: 0.7625 - val_precision: 0.8457 - val_recall: 0.5638\n",
      "Epoch 24/60\n",
      "64/64 [==============================] - 0s 4ms/step - loss: 0.4270 - accuracy: 0.8195 - precision: 0.8228 - recall: 0.6927 - val_loss: 0.4893 - val_accuracy: 0.7688 - val_precision: 0.8418 - val_recall: 0.5851\n",
      "Epoch 25/60\n",
      "64/64 [==============================] - 0s 4ms/step - loss: 0.4208 - accuracy: 0.8199 - precision: 0.8141 - recall: 0.7055 - val_loss: 0.5083 - val_accuracy: 0.7672 - val_precision: 0.8446 - val_recall: 0.5780\n",
      "Epoch 26/60\n",
      "64/64 [==============================] - 0s 4ms/step - loss: 0.4136 - accuracy: 0.8176 - precision: 0.8172 - recall: 0.6937 - val_loss: 0.4485 - val_accuracy: 0.7797 - val_precision: 0.8133 - val_recall: 0.6489\n",
      "Epoch 27/60\n",
      "64/64 [==============================] - 0s 4ms/step - loss: 0.4044 - accuracy: 0.8227 - precision: 0.8121 - recall: 0.7174 - val_loss: 0.4423 - val_accuracy: 0.7922 - val_precision: 0.8170 - val_recall: 0.6809\n",
      "Epoch 28/60\n",
      "64/64 [==============================] - 0s 4ms/step - loss: 0.3983 - accuracy: 0.8238 - precision: 0.8127 - recall: 0.7204 - val_loss: 0.4780 - val_accuracy: 0.7688 - val_precision: 0.8221 - val_recall: 0.6064\n",
      "Epoch 29/60\n",
      "64/64 [==============================] - 0s 4ms/step - loss: 0.4026 - accuracy: 0.8262 - precision: 0.8161 - recall: 0.7233 - val_loss: 0.4411 - val_accuracy: 0.7891 - val_precision: 0.8155 - val_recall: 0.6738\n",
      "Epoch 30/60\n",
      "64/64 [==============================] - 0s 4ms/step - loss: 0.3982 - accuracy: 0.8250 - precision: 0.8113 - recall: 0.7263 - val_loss: 0.4401 - val_accuracy: 0.7906 - val_precision: 0.8162 - val_recall: 0.6773\n",
      "Epoch 31/60\n",
      "64/64 [==============================] - 0s 4ms/step - loss: 0.4115 - accuracy: 0.8250 - precision: 0.8092 - recall: 0.7292 - val_loss: 0.5977 - val_accuracy: 0.7531 - val_precision: 0.8444 - val_recall: 0.5390\n",
      "Epoch 32/60\n",
      "64/64 [==============================] - 0s 4ms/step - loss: 0.4071 - accuracy: 0.8242 - precision: 0.8048 - recall: 0.7332 - val_loss: 0.4435 - val_accuracy: 0.7781 - val_precision: 0.8097 - val_recall: 0.6489\n",
      "Epoch 33/60\n",
      "64/64 [==============================] - 0s 4ms/step - loss: 0.3961 - accuracy: 0.8289 - precision: 0.8147 - recall: 0.7342 - val_loss: 0.4298 - val_accuracy: 0.8047 - val_precision: 0.8178 - val_recall: 0.7163\n",
      "Epoch 34/60\n",
      "64/64 [==============================] - 0s 4ms/step - loss: 0.3960 - accuracy: 0.8320 - precision: 0.8070 - recall: 0.7559 - val_loss: 0.4338 - val_accuracy: 0.7953 - val_precision: 0.8159 - val_recall: 0.6915\n",
      "Epoch 35/60\n",
      "64/64 [==============================] - 0s 4ms/step - loss: 0.3982 - accuracy: 0.8230 - precision: 0.7983 - recall: 0.7391 - val_loss: 0.5344 - val_accuracy: 0.7703 - val_precision: 0.8392 - val_recall: 0.5922\n",
      "Epoch 36/60\n",
      "64/64 [==============================] - 0s 4ms/step - loss: 0.4037 - accuracy: 0.8281 - precision: 0.8075 - recall: 0.7421 - val_loss: 0.4270 - val_accuracy: 0.8047 - val_precision: 0.8178 - val_recall: 0.7163\n",
      "Epoch 37/60\n"
     ]
    },
    {
     "name": "stdout",
     "output_type": "stream",
     "text": [
      "64/64 [==============================] - 0s 4ms/step - loss: 0.3887 - accuracy: 0.8305 - precision: 0.8042 - recall: 0.7549 - val_loss: 0.4222 - val_accuracy: 0.8125 - val_precision: 0.8189 - val_recall: 0.7376\n",
      "Epoch 38/60\n",
      "64/64 [==============================] - 0s 4ms/step - loss: 0.3918 - accuracy: 0.8328 - precision: 0.8029 - recall: 0.7648 - val_loss: 0.4183 - val_accuracy: 0.8172 - val_precision: 0.7978 - val_recall: 0.7837\n",
      "Epoch 39/60\n",
      "64/64 [==============================] - 0s 4ms/step - loss: 0.3903 - accuracy: 0.8344 - precision: 0.8050 - recall: 0.7668 - val_loss: 0.4745 - val_accuracy: 0.7750 - val_precision: 0.8165 - val_recall: 0.6312\n",
      "Epoch 40/60\n",
      "64/64 [==============================] - 0s 4ms/step - loss: 0.3905 - accuracy: 0.8309 - precision: 0.8025 - recall: 0.7589 - val_loss: 0.4230 - val_accuracy: 0.8109 - val_precision: 0.8207 - val_recall: 0.7305\n",
      "Epoch 41/60\n",
      "64/64 [==============================] - 0s 4ms/step - loss: 0.3852 - accuracy: 0.8309 - precision: 0.7994 - recall: 0.7638 - val_loss: 0.4198 - val_accuracy: 0.8125 - val_precision: 0.8189 - val_recall: 0.7376\n",
      "Epoch 42/60\n",
      "64/64 [==============================] - 0s 4ms/step - loss: 0.3990 - accuracy: 0.8270 - precision: 0.7948 - recall: 0.7579 - val_loss: 0.4135 - val_accuracy: 0.8172 - val_precision: 0.8044 - val_recall: 0.7730\n",
      "Epoch 43/60\n",
      "64/64 [==============================] - 0s 4ms/step - loss: 0.3855 - accuracy: 0.8305 - precision: 0.7986 - recall: 0.7638 - val_loss: 0.4119 - val_accuracy: 0.8188 - val_precision: 0.8007 - val_recall: 0.7837\n",
      "Epoch 44/60\n",
      "64/64 [==============================] - 0s 4ms/step - loss: 0.4048 - accuracy: 0.8277 - precision: 0.7893 - recall: 0.7698 - val_loss: 0.4726 - val_accuracy: 0.7750 - val_precision: 0.8165 - val_recall: 0.6312\n",
      "Epoch 45/60\n",
      "64/64 [==============================] - 0s 4ms/step - loss: 0.3968 - accuracy: 0.8270 - precision: 0.7936 - recall: 0.7599 - val_loss: 0.4760 - val_accuracy: 0.7797 - val_precision: 0.8161 - val_recall: 0.6454\n",
      "Epoch 46/60\n",
      "64/64 [==============================] - 0s 4ms/step - loss: 0.3888 - accuracy: 0.8332 - precision: 0.7952 - recall: 0.7787 - val_loss: 0.4090 - val_accuracy: 0.8172 - val_precision: 0.7915 - val_recall: 0.7943\n",
      "Epoch 47/60\n",
      "64/64 [==============================] - 0s 4ms/step - loss: 0.3846 - accuracy: 0.8305 - precision: 0.7902 - recall: 0.7777 - val_loss: 0.4191 - val_accuracy: 0.8141 - val_precision: 0.8221 - val_recall: 0.7376\n",
      "Epoch 48/60\n",
      "64/64 [==============================] - 0s 4ms/step - loss: 0.3867 - accuracy: 0.8332 - precision: 0.7952 - recall: 0.7787 - val_loss: 0.4212 - val_accuracy: 0.8125 - val_precision: 0.8189 - val_recall: 0.7376\n",
      "Epoch 49/60\n",
      "64/64 [==============================] - 0s 4ms/step - loss: 0.3878 - accuracy: 0.8363 - precision: 0.7998 - recall: 0.7816 - val_loss: 0.4125 - val_accuracy: 0.8203 - val_precision: 0.7831 - val_recall: 0.8191\n",
      "Epoch 50/60\n",
      "64/64 [==============================] - 0s 4ms/step - loss: 0.3979 - accuracy: 0.8332 - precision: 0.7893 - recall: 0.7885 - val_loss: 0.5812 - val_accuracy: 0.7703 - val_precision: 0.8325 - val_recall: 0.5993\n",
      "Epoch 51/60\n",
      "64/64 [==============================] - 0s 4ms/step - loss: 0.3823 - accuracy: 0.8348 - precision: 0.7990 - recall: 0.7777 - val_loss: 0.4059 - val_accuracy: 0.8203 - val_precision: 0.7889 - val_recall: 0.8085\n",
      "Epoch 52/60\n",
      "64/64 [==============================] - 0s 4ms/step - loss: 0.3748 - accuracy: 0.8336 - precision: 0.7913 - recall: 0.7866 - val_loss: 0.4108 - val_accuracy: 0.8172 - val_precision: 0.8044 - val_recall: 0.7730\n",
      "Epoch 53/60\n",
      "64/64 [==============================] - 0s 4ms/step - loss: 0.3784 - accuracy: 0.8363 - precision: 0.7939 - recall: 0.7915 - val_loss: 0.4031 - val_accuracy: 0.8156 - val_precision: 0.7929 - val_recall: 0.7872\n",
      "Epoch 54/60\n",
      "64/64 [==============================] - 0s 4ms/step - loss: 0.3777 - accuracy: 0.8379 - precision: 0.7947 - recall: 0.7955 - val_loss: 0.4104 - val_accuracy: 0.8172 - val_precision: 0.8044 - val_recall: 0.7730\n",
      "Epoch 55/60\n",
      "64/64 [==============================] - 0s 4ms/step - loss: 0.3744 - accuracy: 0.8383 - precision: 0.7949 - recall: 0.7964 - val_loss: 0.4035 - val_accuracy: 0.8141 - val_precision: 0.7921 - val_recall: 0.7837\n",
      "Epoch 56/60\n",
      "64/64 [==============================] - 0s 4ms/step - loss: 0.3746 - accuracy: 0.8387 - precision: 0.7951 - recall: 0.7974 - val_loss: 0.4163 - val_accuracy: 0.8156 - val_precision: 0.8130 - val_recall: 0.7553\n",
      "Epoch 57/60\n",
      "64/64 [==============================] - 0s 4ms/step - loss: 0.3884 - accuracy: 0.8270 - precision: 0.7765 - recall: 0.7895 - val_loss: 0.4048 - val_accuracy: 0.8203 - val_precision: 0.7793 - val_recall: 0.8262\n",
      "Epoch 58/60\n",
      "64/64 [==============================] - 0s 4ms/step - loss: 0.3725 - accuracy: 0.8332 - precision: 0.7893 - recall: 0.7885 - val_loss: 0.4009 - val_accuracy: 0.8172 - val_precision: 0.7915 - val_recall: 0.7943\n",
      "Epoch 59/60\n",
      "64/64 [==============================] - 0s 4ms/step - loss: 0.3761 - accuracy: 0.8383 - precision: 0.7886 - recall: 0.8073 - val_loss: 0.4203 - val_accuracy: 0.8156 - val_precision: 0.8130 - val_recall: 0.7553\n",
      "Epoch 60/60\n",
      "64/64 [==============================] - 0s 4ms/step - loss: 0.3845 - accuracy: 0.8352 - precision: 0.7881 - recall: 0.7974 - val_loss: 0.4139 - val_accuracy: 0.8297 - val_precision: 0.7799 - val_recall: 0.8546\n",
      "20/20 [==============================] - 0s 2ms/step\n"
     ]
    },
    {
     "name": "stderr",
     "output_type": "stream",
     "text": [
      "WARNING:absl:Found untraced functions such as _update_step_xla while saving (showing 1 of 1). These functions will not be directly callable after loading.\n"
     ]
    },
    {
     "name": "stdout",
     "output_type": "stream",
     "text": [
      "INFO:tensorflow:Assets written to: C:\\Users\\jmbar\\AppData\\Local\\Temp\\tmpnx8kglf1\\assets\n"
     ]
    },
    {
     "name": "stderr",
     "output_type": "stream",
     "text": [
      "INFO:tensorflow:Assets written to: C:\\Users\\jmbar\\AppData\\Local\\Temp\\tmpnx8kglf1\\assets\n"
     ]
    },
    {
     "name": "stdout",
     "output_type": "stream",
     "text": [
      "WARNING:tensorflow:Detecting that an object or model or tf.train.Checkpoint is being deleted with unrestored values. See the following logs for the specific values in question. To silence these warnings, use `status.expect_partial()`. See https://www.tensorflow.org/api_docs/python/tf/train/Checkpoint#restorefor details about the status object returned by the restore function.\n"
     ]
    },
    {
     "name": "stderr",
     "output_type": "stream",
     "text": [
      "WARNING:tensorflow:Detecting that an object or model or tf.train.Checkpoint is being deleted with unrestored values. See the following logs for the specific values in question. To silence these warnings, use `status.expect_partial()`. See https://www.tensorflow.org/api_docs/python/tf/train/Checkpoint#restorefor details about the status object returned by the restore function.\n"
     ]
    },
    {
     "name": "stdout",
     "output_type": "stream",
     "text": [
      "WARNING:tensorflow:Value in checkpoint could not be found in the restored object: (root).keras_api.metrics.0.total\n"
     ]
    },
    {
     "name": "stderr",
     "output_type": "stream",
     "text": [
      "WARNING:tensorflow:Value in checkpoint could not be found in the restored object: (root).keras_api.metrics.0.total\n"
     ]
    },
    {
     "name": "stdout",
     "output_type": "stream",
     "text": [
      "WARNING:tensorflow:Value in checkpoint could not be found in the restored object: (root).keras_api.metrics.0.count\n"
     ]
    },
    {
     "name": "stderr",
     "output_type": "stream",
     "text": [
      "WARNING:tensorflow:Value in checkpoint could not be found in the restored object: (root).keras_api.metrics.0.count\n"
     ]
    },
    {
     "name": "stdout",
     "output_type": "stream",
     "text": [
      "WARNING:tensorflow:Value in checkpoint could not be found in the restored object: (root).keras_api.metrics.1.total\n"
     ]
    },
    {
     "name": "stderr",
     "output_type": "stream",
     "text": [
      "WARNING:tensorflow:Value in checkpoint could not be found in the restored object: (root).keras_api.metrics.1.total\n"
     ]
    },
    {
     "name": "stdout",
     "output_type": "stream",
     "text": [
      "WARNING:tensorflow:Value in checkpoint could not be found in the restored object: (root).keras_api.metrics.1.count\n"
     ]
    },
    {
     "name": "stderr",
     "output_type": "stream",
     "text": [
      "WARNING:tensorflow:Value in checkpoint could not be found in the restored object: (root).keras_api.metrics.1.count\n"
     ]
    },
    {
     "name": "stdout",
     "output_type": "stream",
     "text": [
      "WARNING:tensorflow:Value in checkpoint could not be found in the restored object: (root).keras_api.metrics.2.true_positives\n"
     ]
    },
    {
     "name": "stderr",
     "output_type": "stream",
     "text": [
      "WARNING:tensorflow:Value in checkpoint could not be found in the restored object: (root).keras_api.metrics.2.true_positives\n"
     ]
    },
    {
     "name": "stdout",
     "output_type": "stream",
     "text": [
      "WARNING:tensorflow:Value in checkpoint could not be found in the restored object: (root).keras_api.metrics.2.false_positives\n"
     ]
    },
    {
     "name": "stderr",
     "output_type": "stream",
     "text": [
      "WARNING:tensorflow:Value in checkpoint could not be found in the restored object: (root).keras_api.metrics.2.false_positives\n"
     ]
    },
    {
     "name": "stdout",
     "output_type": "stream",
     "text": [
      "WARNING:tensorflow:Value in checkpoint could not be found in the restored object: (root).keras_api.metrics.3.true_positives\n"
     ]
    },
    {
     "name": "stderr",
     "output_type": "stream",
     "text": [
      "WARNING:tensorflow:Value in checkpoint could not be found in the restored object: (root).keras_api.metrics.3.true_positives\n"
     ]
    },
    {
     "name": "stdout",
     "output_type": "stream",
     "text": [
      "WARNING:tensorflow:Value in checkpoint could not be found in the restored object: (root).keras_api.metrics.3.false_negatives\n"
     ]
    },
    {
     "name": "stderr",
     "output_type": "stream",
     "text": [
      "WARNING:tensorflow:Value in checkpoint could not be found in the restored object: (root).keras_api.metrics.3.false_negatives\n"
     ]
    },
    {
     "name": "stdout",
     "output_type": "stream",
     "text": [
      "WARNING:tensorflow:Detecting that an object or model or tf.train.Checkpoint is being deleted with unrestored values. See the following logs for the specific values in question. To silence these warnings, use `status.expect_partial()`. See https://www.tensorflow.org/api_docs/python/tf/train/Checkpoint#restorefor details about the status object returned by the restore function.\n"
     ]
    },
    {
     "name": "stderr",
     "output_type": "stream",
     "text": [
      "WARNING:tensorflow:Detecting that an object or model or tf.train.Checkpoint is being deleted with unrestored values. See the following logs for the specific values in question. To silence these warnings, use `status.expect_partial()`. See https://www.tensorflow.org/api_docs/python/tf/train/Checkpoint#restorefor details about the status object returned by the restore function.\n"
     ]
    },
    {
     "name": "stdout",
     "output_type": "stream",
     "text": [
      "WARNING:tensorflow:Value in checkpoint could not be found in the restored object: (root).keras_api.metrics.0.total\n"
     ]
    },
    {
     "name": "stderr",
     "output_type": "stream",
     "text": [
      "WARNING:tensorflow:Value in checkpoint could not be found in the restored object: (root).keras_api.metrics.0.total\n"
     ]
    },
    {
     "name": "stdout",
     "output_type": "stream",
     "text": [
      "WARNING:tensorflow:Value in checkpoint could not be found in the restored object: (root).keras_api.metrics.0.count\n"
     ]
    },
    {
     "name": "stderr",
     "output_type": "stream",
     "text": [
      "WARNING:tensorflow:Value in checkpoint could not be found in the restored object: (root).keras_api.metrics.0.count\n"
     ]
    },
    {
     "name": "stdout",
     "output_type": "stream",
     "text": [
      "WARNING:tensorflow:Value in checkpoint could not be found in the restored object: (root).keras_api.metrics.1.total\n"
     ]
    },
    {
     "name": "stderr",
     "output_type": "stream",
     "text": [
      "WARNING:tensorflow:Value in checkpoint could not be found in the restored object: (root).keras_api.metrics.1.total\n"
     ]
    },
    {
     "name": "stdout",
     "output_type": "stream",
     "text": [
      "WARNING:tensorflow:Value in checkpoint could not be found in the restored object: (root).keras_api.metrics.1.count\n"
     ]
    },
    {
     "name": "stderr",
     "output_type": "stream",
     "text": [
      "WARNING:tensorflow:Value in checkpoint could not be found in the restored object: (root).keras_api.metrics.1.count\n"
     ]
    },
    {
     "name": "stdout",
     "output_type": "stream",
     "text": [
      "WARNING:tensorflow:Value in checkpoint could not be found in the restored object: (root).keras_api.metrics.2.true_positives\n"
     ]
    },
    {
     "name": "stderr",
     "output_type": "stream",
     "text": [
      "WARNING:tensorflow:Value in checkpoint could not be found in the restored object: (root).keras_api.metrics.2.true_positives\n"
     ]
    },
    {
     "name": "stdout",
     "output_type": "stream",
     "text": [
      "WARNING:tensorflow:Value in checkpoint could not be found in the restored object: (root).keras_api.metrics.2.false_positives\n"
     ]
    },
    {
     "name": "stderr",
     "output_type": "stream",
     "text": [
      "WARNING:tensorflow:Value in checkpoint could not be found in the restored object: (root).keras_api.metrics.2.false_positives\n"
     ]
    },
    {
     "name": "stdout",
     "output_type": "stream",
     "text": [
      "WARNING:tensorflow:Value in checkpoint could not be found in the restored object: (root).keras_api.metrics.3.true_positives\n"
     ]
    },
    {
     "name": "stderr",
     "output_type": "stream",
     "text": [
      "WARNING:tensorflow:Value in checkpoint could not be found in the restored object: (root).keras_api.metrics.3.true_positives\n"
     ]
    },
    {
     "name": "stdout",
     "output_type": "stream",
     "text": [
      "WARNING:tensorflow:Value in checkpoint could not be found in the restored object: (root).keras_api.metrics.3.false_negatives\n"
     ]
    },
    {
     "name": "stderr",
     "output_type": "stream",
     "text": [
      "WARNING:tensorflow:Value in checkpoint could not be found in the restored object: (root).keras_api.metrics.3.false_negatives\n"
     ]
    },
    {
     "name": "stdout",
     "output_type": "stream",
     "text": [
      "Epoch 1/60\n",
      "64/64 [==============================] - 2s 11ms/step - loss: 0.6767 - accuracy: 0.5953 - precision: 0.0000e+00 - recall: 0.0000e+00 - val_loss: 0.6702 - val_accuracy: 0.6078 - val_precision: 0.0000e+00 - val_recall: 0.0000e+00\n",
      "Epoch 2/60\n",
      "64/64 [==============================] - 0s 4ms/step - loss: 0.6757 - accuracy: 0.5953 - precision: 0.0000e+00 - recall: 0.0000e+00 - val_loss: 0.6783 - val_accuracy: 0.6078 - val_precision: 0.0000e+00 - val_recall: 0.0000e+00\n",
      "Epoch 3/60\n",
      "64/64 [==============================] - 0s 5ms/step - loss: 0.6756 - accuracy: 0.5953 - precision: 0.0000e+00 - recall: 0.0000e+00 - val_loss: 0.6712 - val_accuracy: 0.6078 - val_precision: 0.0000e+00 - val_recall: 0.0000e+00\n",
      "Epoch 4/60\n",
      "64/64 [==============================] - 0s 3ms/step - loss: 0.6763 - accuracy: 0.5953 - precision: 0.0000e+00 - recall: 0.0000e+00 - val_loss: 0.6692 - val_accuracy: 0.6078 - val_precision: 0.0000e+00 - val_recall: 0.0000e+00\n",
      "Epoch 5/60\n",
      "64/64 [==============================] - 0s 4ms/step - loss: 0.6760 - accuracy: 0.5953 - precision: 0.0000e+00 - recall: 0.0000e+00 - val_loss: 0.6689 - val_accuracy: 0.6078 - val_precision: 0.0000e+00 - val_recall: 0.0000e+00\n",
      "Epoch 6/60\n",
      "64/64 [==============================] - 0s 4ms/step - loss: 0.6739 - accuracy: 0.5953 - precision: 0.0000e+00 - recall: 0.0000e+00 - val_loss: 0.6687 - val_accuracy: 0.6078 - val_precision: 0.0000e+00 - val_recall: 0.0000e+00\n",
      "Epoch 7/60\n",
      "64/64 [==============================] - 0s 4ms/step - loss: 0.6719 - accuracy: 0.5977 - precision: 1.0000 - recall: 0.0058 - val_loss: 0.6653 - val_accuracy: 0.6094 - val_precision: 1.0000 - val_recall: 0.0040\n",
      "Epoch 8/60\n",
      "64/64 [==============================] - 0s 5ms/step - loss: 0.6669 - accuracy: 0.6066 - precision: 0.9677 - recall: 0.0290 - val_loss: 0.6611 - val_accuracy: 0.6203 - val_precision: 0.9000 - val_recall: 0.0359\n",
      "Epoch 9/60\n",
      "64/64 [==============================] - 0s 4ms/step - loss: 0.6483 - accuracy: 0.6387 - precision: 0.9587 - recall: 0.1120 - val_loss: 0.6329 - val_accuracy: 0.6438 - val_precision: 0.8966 - val_recall: 0.1036\n",
      "Epoch 10/60\n",
      "64/64 [==============================] - 0s 4ms/step - loss: 0.6038 - accuracy: 0.6949 - precision: 0.9322 - recall: 0.2654 - val_loss: 0.5804 - val_accuracy: 0.6922 - val_precision: 0.8462 - val_recall: 0.2629\n",
      "Epoch 11/60\n",
      "64/64 [==============================] - 0s 4ms/step - loss: 0.5374 - accuracy: 0.7504 - precision: 0.9144 - recall: 0.4228 - val_loss: 0.5646 - val_accuracy: 0.6953 - val_precision: 0.8500 - val_recall: 0.2709\n",
      "Epoch 12/60\n",
      "64/64 [==============================] - 0s 4ms/step - loss: 0.4922 - accuracy: 0.7785 - precision: 0.8740 - recall: 0.5290 - val_loss: 0.5013 - val_accuracy: 0.7719 - val_precision: 0.8477 - val_recall: 0.5100\n",
      "Epoch 13/60\n",
      "64/64 [==============================] - 0s 4ms/step - loss: 0.4635 - accuracy: 0.7957 - precision: 0.8659 - recall: 0.5859 - val_loss: 0.5388 - val_accuracy: 0.8156 - val_precision: 0.7509 - val_recall: 0.7928\n",
      "Epoch 14/60\n",
      "64/64 [==============================] - 0s 4ms/step - loss: 0.4611 - accuracy: 0.7992 - precision: 0.8471 - recall: 0.6149 - val_loss: 0.4975 - val_accuracy: 0.7703 - val_precision: 0.8467 - val_recall: 0.5060\n",
      "Epoch 15/60\n",
      "64/64 [==============================] - 0s 4ms/step - loss: 0.4355 - accuracy: 0.8105 - precision: 0.8601 - recall: 0.6351 - val_loss: 0.4913 - val_accuracy: 0.7750 - val_precision: 0.8408 - val_recall: 0.5259\n",
      "Epoch 16/60\n",
      "64/64 [==============================] - 0s 4ms/step - loss: 0.4331 - accuracy: 0.8105 - precision: 0.8405 - recall: 0.6564 - val_loss: 0.4697 - val_accuracy: 0.7906 - val_precision: 0.8305 - val_recall: 0.5857\n",
      "Epoch 17/60\n",
      "64/64 [==============================] - 0s 4ms/step - loss: 0.4359 - accuracy: 0.8109 - precision: 0.8399 - recall: 0.6583 - val_loss: 0.5098 - val_accuracy: 0.8109 - val_precision: 0.7390 - val_recall: 0.8008\n",
      "Epoch 18/60\n",
      "64/64 [==============================] - 0s 4ms/step - loss: 0.4285 - accuracy: 0.8129 - precision: 0.8376 - recall: 0.6670 - val_loss: 0.4606 - val_accuracy: 0.8047 - val_precision: 0.7917 - val_recall: 0.6813\n",
      "Epoch 19/60\n",
      "64/64 [==============================] - 0s 4ms/step - loss: 0.4162 - accuracy: 0.8258 - precision: 0.8479 - recall: 0.6940 - val_loss: 0.4530 - val_accuracy: 0.7844 - val_precision: 0.7958 - val_recall: 0.6056\n",
      "Epoch 20/60\n",
      "64/64 [==============================] - 0s 4ms/step - loss: 0.4086 - accuracy: 0.8172 - precision: 0.8357 - recall: 0.6824 - val_loss: 0.4521 - val_accuracy: 0.7844 - val_precision: 0.7958 - val_recall: 0.6056\n",
      "Epoch 21/60\n",
      "64/64 [==============================] - 0s 4ms/step - loss: 0.4125 - accuracy: 0.8176 - precision: 0.8289 - recall: 0.6921 - val_loss: 0.4953 - val_accuracy: 0.7812 - val_precision: 0.8364 - val_recall: 0.5498\n",
      "Epoch 22/60\n",
      "64/64 [==============================] - 0s 4ms/step - loss: 0.4100 - accuracy: 0.8219 - precision: 0.8311 - recall: 0.7027 - val_loss: 0.4441 - val_accuracy: 0.7906 - val_precision: 0.7970 - val_recall: 0.6255\n",
      "Epoch 23/60\n",
      "64/64 [==============================] - 0s 4ms/step - loss: 0.4070 - accuracy: 0.8215 - precision: 0.8347 - recall: 0.6969 - val_loss: 0.4392 - val_accuracy: 0.8062 - val_precision: 0.7981 - val_recall: 0.6773\n",
      "Epoch 24/60\n",
      "64/64 [==============================] - 0s 4ms/step - loss: 0.4052 - accuracy: 0.8293 - precision: 0.8377 - recall: 0.7172 - val_loss: 0.4374 - val_accuracy: 0.8016 - val_precision: 0.7952 - val_recall: 0.6653\n",
      "Epoch 25/60\n",
      "64/64 [==============================] - 0s 4ms/step - loss: 0.3969 - accuracy: 0.8301 - precision: 0.8306 - recall: 0.7288 - val_loss: 0.4362 - val_accuracy: 0.8156 - val_precision: 0.7930 - val_recall: 0.7171\n",
      "Epoch 26/60\n",
      "64/64 [==============================] - 0s 4ms/step - loss: 0.3914 - accuracy: 0.8297 - precision: 0.8304 - recall: 0.7278 - val_loss: 0.4348 - val_accuracy: 0.8203 - val_precision: 0.7957 - val_recall: 0.7291\n",
      "Epoch 27/60\n",
      "64/64 [==============================] - 0s 4ms/step - loss: 0.3962 - accuracy: 0.8289 - precision: 0.8271 - recall: 0.7297 - val_loss: 0.4382 - val_accuracy: 0.8188 - val_precision: 0.7711 - val_recall: 0.7649\n",
      "Epoch 28/60\n",
      "64/64 [==============================] - 0s 4ms/step - loss: 0.4038 - accuracy: 0.8258 - precision: 0.8200 - recall: 0.7297 - val_loss: 0.4345 - val_accuracy: 0.7953 - val_precision: 0.7941 - val_recall: 0.6454\n",
      "Epoch 29/60\n",
      "64/64 [==============================] - 0s 4ms/step - loss: 0.3943 - accuracy: 0.8285 - precision: 0.8262 - recall: 0.7297 - val_loss: 0.4270 - val_accuracy: 0.8109 - val_precision: 0.7928 - val_recall: 0.7012\n",
      "Epoch 30/60\n",
      "64/64 [==============================] - 0s 4ms/step - loss: 0.3920 - accuracy: 0.8285 - precision: 0.8248 - recall: 0.7317 - val_loss: 0.4261 - val_accuracy: 0.8188 - val_precision: 0.7897 - val_recall: 0.7331\n",
      "Epoch 31/60\n",
      "64/64 [==============================] - 0s 4ms/step - loss: 0.3897 - accuracy: 0.8313 - precision: 0.8240 - recall: 0.7413 - val_loss: 0.4470 - val_accuracy: 0.8141 - val_precision: 0.7500 - val_recall: 0.7888\n",
      "Epoch 32/60\n",
      "64/64 [==============================] - 0s 4ms/step - loss: 0.3831 - accuracy: 0.8320 - precision: 0.8230 - recall: 0.7452 - val_loss: 0.4611 - val_accuracy: 0.8125 - val_precision: 0.7348 - val_recall: 0.8167\n",
      "Epoch 33/60\n",
      "64/64 [==============================] - 0s 4ms/step - loss: 0.3847 - accuracy: 0.8320 - precision: 0.8189 - recall: 0.7510 - val_loss: 0.4235 - val_accuracy: 0.8062 - val_precision: 0.7900 - val_recall: 0.6892\n",
      "Epoch 34/60\n",
      "64/64 [==============================] - 0s 4ms/step - loss: 0.3853 - accuracy: 0.8336 - precision: 0.8177 - recall: 0.7577 - val_loss: 0.4294 - val_accuracy: 0.8000 - val_precision: 0.7943 - val_recall: 0.6614\n",
      "Epoch 35/60\n",
      "64/64 [==============================] - 0s 4ms/step - loss: 0.3928 - accuracy: 0.8332 - precision: 0.8149 - recall: 0.7606 - val_loss: 0.4182 - val_accuracy: 0.8172 - val_precision: 0.7815 - val_recall: 0.7410\n",
      "Epoch 36/60\n",
      "64/64 [==============================] - 0s 4ms/step - loss: 0.3913 - accuracy: 0.8309 - precision: 0.8157 - recall: 0.7519 - val_loss: 0.4337 - val_accuracy: 0.7969 - val_precision: 0.7923 - val_recall: 0.6534\n",
      "Epoch 37/60\n"
     ]
    },
    {
     "name": "stdout",
     "output_type": "stream",
     "text": [
      "64/64 [==============================] - 0s 4ms/step - loss: 0.3768 - accuracy: 0.8375 - precision: 0.8216 - recall: 0.7645 - val_loss: 0.4189 - val_accuracy: 0.8156 - val_precision: 0.7628 - val_recall: 0.7689\n",
      "Epoch 38/60\n",
      "64/64 [==============================] - 0s 4ms/step - loss: 0.3820 - accuracy: 0.8371 - precision: 0.8155 - recall: 0.7722 - val_loss: 0.4157 - val_accuracy: 0.8172 - val_precision: 0.7702 - val_recall: 0.7610\n",
      "Epoch 39/60\n",
      "64/64 [==============================] - 0s 4ms/step - loss: 0.3913 - accuracy: 0.8293 - precision: 0.8066 - recall: 0.7606 - val_loss: 0.4295 - val_accuracy: 0.8141 - val_precision: 0.7500 - val_recall: 0.7888\n",
      "Epoch 40/60\n",
      "64/64 [==============================] - 0s 4ms/step - loss: 0.3766 - accuracy: 0.8348 - precision: 0.8118 - recall: 0.7703 - val_loss: 0.4234 - val_accuracy: 0.8078 - val_precision: 0.7909 - val_recall: 0.6932\n",
      "Epoch 41/60\n",
      "64/64 [==============================] - 0s 4ms/step - loss: 0.3892 - accuracy: 0.8309 - precision: 0.8092 - recall: 0.7616 - val_loss: 0.4122 - val_accuracy: 0.8203 - val_precision: 0.7833 - val_recall: 0.7490\n",
      "Epoch 42/60\n",
      "64/64 [==============================] - 0s 4ms/step - loss: 0.3811 - accuracy: 0.8367 - precision: 0.8121 - recall: 0.7761 - val_loss: 0.4153 - val_accuracy: 0.8109 - val_precision: 0.7539 - val_recall: 0.7689\n",
      "Epoch 43/60\n",
      "64/64 [==============================] - 0s 4ms/step - loss: 0.3897 - accuracy: 0.8316 - precision: 0.8122 - recall: 0.7597 - val_loss: 0.4122 - val_accuracy: 0.8203 - val_precision: 0.7906 - val_recall: 0.7371\n",
      "Epoch 44/60\n",
      "64/64 [==============================] - 0s 4ms/step - loss: 0.3854 - accuracy: 0.8387 - precision: 0.8137 - recall: 0.7799 - val_loss: 0.4107 - val_accuracy: 0.8156 - val_precision: 0.7628 - val_recall: 0.7689\n",
      "Epoch 45/60\n",
      "64/64 [==============================] - 0s 4ms/step - loss: 0.3764 - accuracy: 0.8297 - precision: 0.8030 - recall: 0.7674 - val_loss: 0.4649 - val_accuracy: 0.8125 - val_precision: 0.7205 - val_recall: 0.8526\n",
      "Epoch 46/60\n",
      "64/64 [==============================] - 0s 4ms/step - loss: 0.3780 - accuracy: 0.8395 - precision: 0.8116 - recall: 0.7857 - val_loss: 0.4265 - val_accuracy: 0.8062 - val_precision: 0.7900 - val_recall: 0.6892\n",
      "Epoch 47/60\n",
      "64/64 [==============================] - 0s 4ms/step - loss: 0.3778 - accuracy: 0.8344 - precision: 0.8078 - recall: 0.7751 - val_loss: 0.4493 - val_accuracy: 0.8141 - val_precision: 0.7292 - val_recall: 0.8367\n",
      "Epoch 48/60\n",
      "64/64 [==============================] - 0s 4ms/step - loss: 0.3910 - accuracy: 0.8344 - precision: 0.8122 - recall: 0.7683 - val_loss: 0.4286 - val_accuracy: 0.8109 - val_precision: 0.7338 - val_recall: 0.8127\n",
      "Epoch 49/60\n",
      "64/64 [==============================] - 0s 4ms/step - loss: 0.3830 - accuracy: 0.8371 - precision: 0.8086 - recall: 0.7828 - val_loss: 0.4116 - val_accuracy: 0.8188 - val_precision: 0.7897 - val_recall: 0.7331\n",
      "Epoch 50/60\n",
      "64/64 [==============================] - 0s 4ms/step - loss: 0.3673 - accuracy: 0.8367 - precision: 0.8102 - recall: 0.7790 - val_loss: 0.4243 - val_accuracy: 0.8109 - val_precision: 0.7338 - val_recall: 0.8127\n",
      "Epoch 51/60\n",
      "64/64 [==============================] - 0s 4ms/step - loss: 0.3707 - accuracy: 0.8398 - precision: 0.8081 - recall: 0.7925 - val_loss: 0.4226 - val_accuracy: 0.8141 - val_precision: 0.7920 - val_recall: 0.7131\n",
      "Epoch 52/60\n",
      "64/64 [==============================] - 0s 4ms/step - loss: 0.3691 - accuracy: 0.8395 - precision: 0.8067 - recall: 0.7934 - val_loss: 0.4138 - val_accuracy: 0.8188 - val_precision: 0.7872 - val_recall: 0.7371\n",
      "Epoch 53/60\n",
      "64/64 [==============================] - 0s 4ms/step - loss: 0.3722 - accuracy: 0.8363 - precision: 0.8051 - recall: 0.7857 - val_loss: 0.4112 - val_accuracy: 0.8141 - val_precision: 0.7463 - val_recall: 0.7968\n",
      "Epoch 54/60\n",
      "64/64 [==============================] - 0s 4ms/step - loss: 0.3744 - accuracy: 0.8371 - precision: 0.8025 - recall: 0.7925 - val_loss: 0.4188 - val_accuracy: 0.8109 - val_precision: 0.7338 - val_recall: 0.8127\n",
      "Epoch 55/60\n",
      "64/64 [==============================] - 0s 4ms/step - loss: 0.3766 - accuracy: 0.8363 - precision: 0.8070 - recall: 0.7828 - val_loss: 0.4173 - val_accuracy: 0.8172 - val_precision: 0.7939 - val_recall: 0.7211\n",
      "Epoch 56/60\n",
      "64/64 [==============================] - 0s 4ms/step - loss: 0.3869 - accuracy: 0.8371 - precision: 0.8049 - recall: 0.7886 - val_loss: 0.4078 - val_accuracy: 0.8141 - val_precision: 0.7481 - val_recall: 0.7928\n",
      "Epoch 57/60\n",
      "64/64 [==============================] - 0s 4ms/step - loss: 0.3700 - accuracy: 0.8387 - precision: 0.8033 - recall: 0.7963 - val_loss: 0.4299 - val_accuracy: 0.8078 - val_precision: 0.7883 - val_recall: 0.6972\n",
      "Epoch 58/60\n",
      "64/64 [==============================] - 0s 4ms/step - loss: 0.3676 - accuracy: 0.8379 - precision: 0.8035 - recall: 0.7934 - val_loss: 0.4117 - val_accuracy: 0.8188 - val_precision: 0.7872 - val_recall: 0.7371\n",
      "Epoch 59/60\n",
      "64/64 [==============================] - 0s 4ms/step - loss: 0.3660 - accuracy: 0.8359 - precision: 0.7996 - recall: 0.7934 - val_loss: 0.4020 - val_accuracy: 0.8125 - val_precision: 0.7569 - val_recall: 0.7689\n",
      "Epoch 60/60\n",
      "64/64 [==============================] - 0s 4ms/step - loss: 0.3693 - accuracy: 0.8387 - precision: 0.8027 - recall: 0.7973 - val_loss: 0.4185 - val_accuracy: 0.8203 - val_precision: 0.7931 - val_recall: 0.7331\n",
      "20/20 [==============================] - 0s 2ms/step\n"
     ]
    },
    {
     "name": "stderr",
     "output_type": "stream",
     "text": [
      "WARNING:absl:Found untraced functions such as _update_step_xla while saving (showing 1 of 1). These functions will not be directly callable after loading.\n"
     ]
    },
    {
     "name": "stdout",
     "output_type": "stream",
     "text": [
      "INFO:tensorflow:Assets written to: C:\\Users\\jmbar\\AppData\\Local\\Temp\\tmpbbtej2gc\\assets\n"
     ]
    },
    {
     "name": "stderr",
     "output_type": "stream",
     "text": [
      "INFO:tensorflow:Assets written to: C:\\Users\\jmbar\\AppData\\Local\\Temp\\tmpbbtej2gc\\assets\n"
     ]
    },
    {
     "name": "stdout",
     "output_type": "stream",
     "text": [
      "Epoch 1/60\n",
      "64/64 [==============================] - 2s 11ms/step - loss: 0.6752 - accuracy: 0.5984 - precision: 0.0000e+00 - recall: 0.0000e+00 - val_loss: 0.6788 - val_accuracy: 0.5844 - val_precision: 0.0000e+00 - val_recall: 0.0000e+00\n",
      "Epoch 2/60\n",
      "64/64 [==============================] - 0s 4ms/step - loss: 0.6769 - accuracy: 0.5984 - precision: 0.0000e+00 - recall: 0.0000e+00 - val_loss: 0.6787 - val_accuracy: 0.5844 - val_precision: 0.0000e+00 - val_recall: 0.0000e+00\n",
      "Epoch 3/60\n",
      "64/64 [==============================] - 0s 4ms/step - loss: 0.6742 - accuracy: 0.5984 - precision: 0.0000e+00 - recall: 0.0000e+00 - val_loss: 0.6791 - val_accuracy: 0.5844 - val_precision: 0.0000e+00 - val_recall: 0.0000e+00\n",
      "Epoch 4/60\n",
      "64/64 [==============================] - 0s 4ms/step - loss: 0.6745 - accuracy: 0.5984 - precision: 0.0000e+00 - recall: 0.0000e+00 - val_loss: 0.6785 - val_accuracy: 0.5844 - val_precision: 0.0000e+00 - val_recall: 0.0000e+00\n",
      "Epoch 5/60\n",
      "64/64 [==============================] - 0s 4ms/step - loss: 0.6735 - accuracy: 0.5984 - precision: 0.0000e+00 - recall: 0.0000e+00 - val_loss: 0.6777 - val_accuracy: 0.5844 - val_precision: 0.0000e+00 - val_recall: 0.0000e+00\n",
      "Epoch 6/60\n",
      "64/64 [==============================] - 0s 3ms/step - loss: 0.6720 - accuracy: 0.5996 - precision: 1.0000 - recall: 0.0029 - val_loss: 0.6802 - val_accuracy: 0.5844 - val_precision: 0.0000e+00 - val_recall: 0.0000e+00\n",
      "Epoch 7/60\n",
      "64/64 [==============================] - 0s 3ms/step - loss: 0.6683 - accuracy: 0.6027 - precision: 1.0000 - recall: 0.0107 - val_loss: 0.6709 - val_accuracy: 0.5938 - val_precision: 1.0000 - val_recall: 0.0226\n",
      "Epoch 8/60\n",
      "64/64 [==============================] - 0s 3ms/step - loss: 0.6602 - accuracy: 0.6168 - precision: 0.9273 - recall: 0.0496 - val_loss: 0.6706 - val_accuracy: 0.5953 - val_precision: 0.8889 - val_recall: 0.0301\n",
      "Epoch 9/60\n",
      "64/64 [==============================] - 0s 3ms/step - loss: 0.6402 - accuracy: 0.6594 - precision: 0.9535 - recall: 0.1595 - val_loss: 0.6510 - val_accuracy: 0.6156 - val_precision: 0.9167 - val_recall: 0.0827\n",
      "Epoch 10/60\n",
      "64/64 [==============================] - 0s 4ms/step - loss: 0.5952 - accuracy: 0.7074 - precision: 0.9043 - recall: 0.3035 - val_loss: 0.5901 - val_accuracy: 0.7828 - val_precision: 0.8396 - val_recall: 0.5902\n",
      "Epoch 11/60\n",
      "64/64 [==============================] - 0s 4ms/step - loss: 0.5428 - accuracy: 0.7477 - precision: 0.8851 - recall: 0.4270 - val_loss: 0.5331 - val_accuracy: 0.7391 - val_precision: 0.8722 - val_recall: 0.4361\n",
      "Epoch 12/60\n",
      "64/64 [==============================] - 0s 4ms/step - loss: 0.5022 - accuracy: 0.7711 - precision: 0.8708 - recall: 0.5049 - val_loss: 0.5081 - val_accuracy: 0.7500 - val_precision: 0.8630 - val_recall: 0.4737\n",
      "Epoch 13/60\n",
      "64/64 [==============================] - 0s 4ms/step - loss: 0.4850 - accuracy: 0.7902 - precision: 0.8714 - recall: 0.5603 - val_loss: 0.4913 - val_accuracy: 0.7844 - val_precision: 0.8200 - val_recall: 0.6165\n",
      "Epoch 14/60\n",
      "64/64 [==============================] - 0s 4ms/step - loss: 0.4655 - accuracy: 0.8012 - precision: 0.8512 - recall: 0.6119 - val_loss: 0.4771 - val_accuracy: 0.7828 - val_precision: 0.8396 - val_recall: 0.5902\n",
      "Epoch 15/60\n",
      "64/64 [==============================] - 0s 3ms/step - loss: 0.4514 - accuracy: 0.8008 - precision: 0.8519 - recall: 0.6099 - val_loss: 0.4675 - val_accuracy: 0.7844 - val_precision: 0.8200 - val_recall: 0.6165\n",
      "Epoch 16/60\n",
      "64/64 [==============================] - 0s 3ms/step - loss: 0.4429 - accuracy: 0.8078 - precision: 0.8454 - recall: 0.6381 - val_loss: 0.4608 - val_accuracy: 0.7844 - val_precision: 0.8200 - val_recall: 0.6165\n",
      "Epoch 17/60\n",
      "64/64 [==============================] - 0s 4ms/step - loss: 0.4405 - accuracy: 0.8125 - precision: 0.8408 - recall: 0.6576 - val_loss: 0.5211 - val_accuracy: 0.8266 - val_precision: 0.7627 - val_recall: 0.8459\n",
      "Epoch 18/60\n",
      "64/64 [==============================] - 0s 4ms/step - loss: 0.4346 - accuracy: 0.8121 - precision: 0.8356 - recall: 0.6625 - val_loss: 0.4798 - val_accuracy: 0.7719 - val_precision: 0.8409 - val_recall: 0.5564\n",
      "Epoch 19/60\n",
      "64/64 [==============================] - 0s 4ms/step - loss: 0.4256 - accuracy: 0.8180 - precision: 0.8386 - recall: 0.6770 - val_loss: 0.4487 - val_accuracy: 0.7891 - val_precision: 0.8195 - val_recall: 0.6316\n",
      "Epoch 20/60\n",
      "64/64 [==============================] - 0s 5ms/step - loss: 0.4296 - accuracy: 0.8180 - precision: 0.8322 - recall: 0.6848 - val_loss: 0.4540 - val_accuracy: 0.7812 - val_precision: 0.8247 - val_recall: 0.6015\n",
      "Epoch 21/60\n",
      "64/64 [==============================] - 0s 4ms/step - loss: 0.4230 - accuracy: 0.8129 - precision: 0.8256 - recall: 0.6770 - val_loss: 0.4419 - val_accuracy: 0.8188 - val_precision: 0.8178 - val_recall: 0.7256\n",
      "Epoch 22/60\n",
      "64/64 [==============================] - 0s 4ms/step - loss: 0.4167 - accuracy: 0.8199 - precision: 0.8347 - recall: 0.6877 - val_loss: 0.4751 - val_accuracy: 0.8203 - val_precision: 0.7668 - val_recall: 0.8158\n",
      "Epoch 23/60\n",
      "64/64 [==============================] - 0s 4ms/step - loss: 0.4238 - accuracy: 0.8219 - precision: 0.8333 - recall: 0.6955 - val_loss: 0.4356 - val_accuracy: 0.7937 - val_precision: 0.8190 - val_recall: 0.6466\n",
      "Epoch 24/60\n",
      "64/64 [==============================] - 0s 4ms/step - loss: 0.4067 - accuracy: 0.8234 - precision: 0.8310 - recall: 0.7033 - val_loss: 0.4379 - val_accuracy: 0.7937 - val_precision: 0.8190 - val_recall: 0.6466\n",
      "Epoch 25/60\n",
      "64/64 [==============================] - 0s 4ms/step - loss: 0.4075 - accuracy: 0.8223 - precision: 0.8208 - recall: 0.7130 - val_loss: 0.4339 - val_accuracy: 0.7937 - val_precision: 0.8190 - val_recall: 0.6466\n",
      "Epoch 26/60\n",
      "64/64 [==============================] - 0s 4ms/step - loss: 0.4022 - accuracy: 0.8270 - precision: 0.8268 - recall: 0.7198 - val_loss: 0.4256 - val_accuracy: 0.8188 - val_precision: 0.8151 - val_recall: 0.7293\n",
      "Epoch 27/60\n",
      "64/64 [==============================] - 0s 4ms/step - loss: 0.4061 - accuracy: 0.8207 - precision: 0.8172 - recall: 0.7130 - val_loss: 0.4452 - val_accuracy: 0.7859 - val_precision: 0.8177 - val_recall: 0.6241\n",
      "Epoch 28/60\n",
      "64/64 [==============================] - 0s 4ms/step - loss: 0.3946 - accuracy: 0.8297 - precision: 0.8239 - recall: 0.7325 - val_loss: 0.4223 - val_accuracy: 0.8109 - val_precision: 0.8166 - val_recall: 0.7030\n",
      "Epoch 29/60\n",
      "64/64 [==============================] - 0s 5ms/step - loss: 0.4098 - accuracy: 0.8301 - precision: 0.8262 - recall: 0.7305 - val_loss: 0.4497 - val_accuracy: 0.8188 - val_precision: 0.7641 - val_recall: 0.8158\n",
      "Epoch 30/60\n",
      "64/64 [==============================] - 0s 4ms/step - loss: 0.3927 - accuracy: 0.8262 - precision: 0.8193 - recall: 0.7276 - val_loss: 0.4222 - val_accuracy: 0.8281 - val_precision: 0.7932 - val_recall: 0.7932\n",
      "Epoch 31/60\n",
      "64/64 [==============================] - 0s 4ms/step - loss: 0.3967 - accuracy: 0.8301 - precision: 0.8226 - recall: 0.7354 - val_loss: 0.4155 - val_accuracy: 0.8281 - val_precision: 0.8120 - val_recall: 0.7632\n",
      "Epoch 32/60\n",
      "64/64 [==============================] - 0s 4ms/step - loss: 0.4063 - accuracy: 0.8219 - precision: 0.8062 - recall: 0.7325 - val_loss: 0.4454 - val_accuracy: 0.7922 - val_precision: 0.8213 - val_recall: 0.6391\n",
      "Epoch 33/60\n",
      "64/64 [==============================] - 0s 4ms/step - loss: 0.3928 - accuracy: 0.8316 - precision: 0.8220 - recall: 0.7412 - val_loss: 0.4160 - val_accuracy: 0.8266 - val_precision: 0.7903 - val_recall: 0.7932\n",
      "Epoch 34/60\n",
      "64/64 [==============================] - 0s 4ms/step - loss: 0.4001 - accuracy: 0.8277 - precision: 0.8099 - recall: 0.7461 - val_loss: 0.4156 - val_accuracy: 0.8250 - val_precision: 0.7873 - val_recall: 0.7932\n",
      "Epoch 35/60\n",
      "64/64 [==============================] - 0s 5ms/step - loss: 0.3947 - accuracy: 0.8301 - precision: 0.8171 - recall: 0.7432 - val_loss: 0.4274 - val_accuracy: 0.8000 - val_precision: 0.8165 - val_recall: 0.6692\n",
      "Epoch 36/60\n",
      "64/64 [==============================] - 0s 4ms/step - loss: 0.3856 - accuracy: 0.8328 - precision: 0.8112 - recall: 0.7607 - val_loss: 0.4395 - val_accuracy: 0.7984 - val_precision: 0.8216 - val_recall: 0.6579\n",
      "Epoch 37/60\n"
     ]
    },
    {
     "name": "stdout",
     "output_type": "stream",
     "text": [
      "64/64 [==============================] - 0s 4ms/step - loss: 0.4013 - accuracy: 0.8387 - precision: 0.8227 - recall: 0.7626 - val_loss: 0.4076 - val_accuracy: 0.8266 - val_precision: 0.8039 - val_recall: 0.7707\n",
      "Epoch 38/60\n",
      "64/64 [==============================] - 0s 4ms/step - loss: 0.3863 - accuracy: 0.8328 - precision: 0.8106 - recall: 0.7617 - val_loss: 0.4097 - val_accuracy: 0.8234 - val_precision: 0.8201 - val_recall: 0.7368\n",
      "Epoch 39/60\n",
      "64/64 [==============================] - 0s 5ms/step - loss: 0.3827 - accuracy: 0.8344 - precision: 0.8166 - recall: 0.7578 - val_loss: 0.4086 - val_accuracy: 0.8266 - val_precision: 0.7881 - val_recall: 0.7970\n",
      "Epoch 40/60\n",
      "64/64 [==============================] - 0s 5ms/step - loss: 0.3848 - accuracy: 0.8383 - precision: 0.8152 - recall: 0.7724 - val_loss: 0.4048 - val_accuracy: 0.8281 - val_precision: 0.7932 - val_recall: 0.7932\n",
      "Epoch 41/60\n",
      "64/64 [==============================] - 0s 4ms/step - loss: 0.3807 - accuracy: 0.8344 - precision: 0.8082 - recall: 0.7704 - val_loss: 0.4033 - val_accuracy: 0.8281 - val_precision: 0.7932 - val_recall: 0.7932\n",
      "Epoch 42/60\n",
      "64/64 [==============================] - 0s 4ms/step - loss: 0.3818 - accuracy: 0.8367 - precision: 0.8119 - recall: 0.7724 - val_loss: 0.4030 - val_accuracy: 0.8250 - val_precision: 0.7873 - val_recall: 0.7932\n",
      "Epoch 43/60\n",
      "64/64 [==============================] - 0s 4ms/step - loss: 0.3904 - accuracy: 0.8285 - precision: 0.8008 - recall: 0.7626 - val_loss: 0.4080 - val_accuracy: 0.8234 - val_precision: 0.8201 - val_recall: 0.7368\n",
      "Epoch 44/60\n",
      "64/64 [==============================] - 0s 5ms/step - loss: 0.3861 - accuracy: 0.8305 - precision: 0.8062 - recall: 0.7607 - val_loss: 0.4009 - val_accuracy: 0.8250 - val_precision: 0.7873 - val_recall: 0.7932\n",
      "Epoch 45/60\n",
      "64/64 [==============================] - 0s 4ms/step - loss: 0.3784 - accuracy: 0.8344 - precision: 0.8069 - recall: 0.7724 - val_loss: 0.4178 - val_accuracy: 0.8188 - val_precision: 0.8178 - val_recall: 0.7256\n",
      "Epoch 46/60\n",
      "64/64 [==============================] - 0s 4ms/step - loss: 0.3812 - accuracy: 0.8344 - precision: 0.8008 - recall: 0.7821 - val_loss: 0.4058 - val_accuracy: 0.8234 - val_precision: 0.8097 - val_recall: 0.7519\n",
      "Epoch 47/60\n",
      "64/64 [==============================] - 0s 4ms/step - loss: 0.3867 - accuracy: 0.8359 - precision: 0.8077 - recall: 0.7763 - val_loss: 0.4244 - val_accuracy: 0.8234 - val_precision: 0.7611 - val_recall: 0.8383\n",
      "Epoch 48/60\n",
      "64/64 [==============================] - 0s 4ms/step - loss: 0.3783 - accuracy: 0.8344 - precision: 0.8057 - recall: 0.7743 - val_loss: 0.4274 - val_accuracy: 0.8266 - val_precision: 0.7627 - val_recall: 0.8459\n",
      "Epoch 49/60\n",
      "64/64 [==============================] - 0s 4ms/step - loss: 0.3833 - accuracy: 0.8387 - precision: 0.8060 - recall: 0.7879 - val_loss: 0.4077 - val_accuracy: 0.8234 - val_precision: 0.8122 - val_recall: 0.7481\n",
      "Epoch 50/60\n",
      "64/64 [==============================] - 0s 5ms/step - loss: 0.3761 - accuracy: 0.8340 - precision: 0.8024 - recall: 0.7782 - val_loss: 0.3967 - val_accuracy: 0.8250 - val_precision: 0.7852 - val_recall: 0.7970\n",
      "Epoch 51/60\n",
      "64/64 [==============================] - 0s 4ms/step - loss: 0.3833 - accuracy: 0.8340 - precision: 0.7982 - recall: 0.7850 - val_loss: 0.4115 - val_accuracy: 0.8250 - val_precision: 0.8182 - val_recall: 0.7444\n",
      "Epoch 52/60\n",
      "64/64 [==============================] - 0s 4ms/step - loss: 0.3747 - accuracy: 0.8391 - precision: 0.8062 - recall: 0.7889 - val_loss: 0.3960 - val_accuracy: 0.8250 - val_precision: 0.7873 - val_recall: 0.7932\n",
      "Epoch 53/60\n",
      "64/64 [==============================] - 0s 4ms/step - loss: 0.3791 - accuracy: 0.8359 - precision: 0.8010 - recall: 0.7870 - val_loss: 0.3952 - val_accuracy: 0.8266 - val_precision: 0.7839 - val_recall: 0.8045\n",
      "Epoch 54/60\n",
      "64/64 [==============================] - 0s 3ms/step - loss: 0.3682 - accuracy: 0.8375 - precision: 0.8030 - recall: 0.7889 - val_loss: 0.4077 - val_accuracy: 0.8234 - val_precision: 0.7647 - val_recall: 0.8308\n",
      "Epoch 55/60\n",
      "64/64 [==============================] - 0s 4ms/step - loss: 0.3817 - accuracy: 0.8355 - precision: 0.7961 - recall: 0.7938 - val_loss: 0.4025 - val_accuracy: 0.8266 - val_precision: 0.8039 - val_recall: 0.7707\n",
      "Epoch 56/60\n",
      "64/64 [==============================] - 0s 3ms/step - loss: 0.3949 - accuracy: 0.8367 - precision: 0.7996 - recall: 0.7918 - val_loss: 0.3934 - val_accuracy: 0.8266 - val_precision: 0.7860 - val_recall: 0.8008\n",
      "Epoch 57/60\n",
      "64/64 [==============================] - 0s 3ms/step - loss: 0.3768 - accuracy: 0.8344 - precision: 0.7967 - recall: 0.7889 - val_loss: 0.4030 - val_accuracy: 0.8297 - val_precision: 0.8127 - val_recall: 0.7669\n",
      "Epoch 58/60\n",
      "64/64 [==============================] - 0s 3ms/step - loss: 0.3717 - accuracy: 0.8375 - precision: 0.8012 - recall: 0.7918 - val_loss: 0.4032 - val_accuracy: 0.8219 - val_precision: 0.7639 - val_recall: 0.8271\n",
      "Epoch 59/60\n",
      "64/64 [==============================] - 0s 4ms/step - loss: 0.3748 - accuracy: 0.8371 - precision: 0.7963 - recall: 0.7986 - val_loss: 0.3980 - val_accuracy: 0.8281 - val_precision: 0.7955 - val_recall: 0.7895\n",
      "Epoch 60/60\n",
      "64/64 [==============================] - 0s 4ms/step - loss: 0.3784 - accuracy: 0.8363 - precision: 0.8006 - recall: 0.7889 - val_loss: 0.3996 - val_accuracy: 0.8203 - val_precision: 0.7631 - val_recall: 0.8233\n",
      "20/20 [==============================] - 0s 2ms/step\n"
     ]
    },
    {
     "name": "stderr",
     "output_type": "stream",
     "text": [
      "WARNING:absl:Found untraced functions such as _update_step_xla while saving (showing 1 of 1). These functions will not be directly callable after loading.\n"
     ]
    },
    {
     "name": "stdout",
     "output_type": "stream",
     "text": [
      "INFO:tensorflow:Assets written to: C:\\Users\\jmbar\\AppData\\Local\\Temp\\tmpyc0sr4_n\\assets\n"
     ]
    },
    {
     "name": "stderr",
     "output_type": "stream",
     "text": [
      "INFO:tensorflow:Assets written to: C:\\Users\\jmbar\\AppData\\Local\\Temp\\tmpyc0sr4_n\\assets\n"
     ]
    },
    {
     "name": "stdout",
     "output_type": "stream",
     "text": [
      "Epoch 1/60\n",
      "64/64 [==============================] - 2s 11ms/step - loss: 0.6768 - accuracy: 0.5926 - precision: 0.0000e+00 - recall: 0.0000e+00 - val_loss: 0.6823 - val_accuracy: 0.5859 - val_precision: 0.0000e+00 - val_recall: 0.0000e+00\n",
      "Epoch 2/60\n",
      "64/64 [==============================] - 0s 4ms/step - loss: 0.6772 - accuracy: 0.5926 - precision: 0.0000e+00 - recall: 0.0000e+00 - val_loss: 0.6782 - val_accuracy: 0.5859 - val_precision: 0.0000e+00 - val_recall: 0.0000e+00\n",
      "Epoch 3/60\n",
      "64/64 [==============================] - 0s 4ms/step - loss: 0.6766 - accuracy: 0.5926 - precision: 0.0000e+00 - recall: 0.0000e+00 - val_loss: 0.6784 - val_accuracy: 0.5859 - val_precision: 0.0000e+00 - val_recall: 0.0000e+00\n",
      "Epoch 4/60\n",
      "64/64 [==============================] - 0s 4ms/step - loss: 0.6787 - accuracy: 0.5926 - precision: 0.0000e+00 - recall: 0.0000e+00 - val_loss: 0.6785 - val_accuracy: 0.5859 - val_precision: 0.0000e+00 - val_recall: 0.0000e+00\n",
      "Epoch 5/60\n",
      "64/64 [==============================] - 0s 3ms/step - loss: 0.6767 - accuracy: 0.5926 - precision: 0.0000e+00 - recall: 0.0000e+00 - val_loss: 0.6775 - val_accuracy: 0.5859 - val_precision: 0.0000e+00 - val_recall: 0.0000e+00\n",
      "Epoch 6/60\n",
      "64/64 [==============================] - 0s 4ms/step - loss: 0.6761 - accuracy: 0.5926 - precision: 0.0000e+00 - recall: 0.0000e+00 - val_loss: 0.6779 - val_accuracy: 0.5875 - val_precision: 1.0000 - val_recall: 0.0038\n",
      "Epoch 7/60\n",
      "64/64 [==============================] - 0s 4ms/step - loss: 0.6726 - accuracy: 0.5957 - precision: 1.0000 - recall: 0.0077 - val_loss: 0.6764 - val_accuracy: 0.5969 - val_precision: 1.0000 - val_recall: 0.0264\n",
      "Epoch 8/60\n",
      "64/64 [==============================] - 0s 4ms/step - loss: 0.6696 - accuracy: 0.6012 - precision: 1.0000 - recall: 0.0211 - val_loss: 0.6660 - val_accuracy: 0.5984 - val_precision: 1.0000 - val_recall: 0.0302\n",
      "Epoch 9/60\n",
      "64/64 [==============================] - 0s 5ms/step - loss: 0.6499 - accuracy: 0.6238 - precision: 0.9348 - recall: 0.0825 - val_loss: 0.6414 - val_accuracy: 0.6234 - val_precision: 0.9286 - val_recall: 0.0981\n",
      "Epoch 10/60\n",
      "64/64 [==============================] - 0s 4ms/step - loss: 0.6133 - accuracy: 0.6773 - precision: 0.8298 - recall: 0.2617 - val_loss: 0.5877 - val_accuracy: 0.6750 - val_precision: 0.8608 - val_recall: 0.2566\n",
      "Epoch 11/60\n",
      "64/64 [==============================] - 0s 4ms/step - loss: 0.5509 - accuracy: 0.7367 - precision: 0.8820 - recall: 0.4084 - val_loss: 0.5358 - val_accuracy: 0.7563 - val_precision: 0.8759 - val_recall: 0.4792\n",
      "Epoch 12/60\n",
      "64/64 [==============================] - 0s 4ms/step - loss: 0.4987 - accuracy: 0.7754 - precision: 0.8811 - recall: 0.5187 - val_loss: 0.5524 - val_accuracy: 0.8172 - val_precision: 0.7662 - val_recall: 0.8038\n",
      "Epoch 13/60\n",
      "64/64 [==============================] - 0s 4ms/step - loss: 0.4772 - accuracy: 0.7926 - precision: 0.8636 - recall: 0.5829 - val_loss: 0.4954 - val_accuracy: 0.7703 - val_precision: 0.8734 - val_recall: 0.5208\n",
      "Epoch 14/60\n",
      "64/64 [==============================] - 0s 4ms/step - loss: 0.4654 - accuracy: 0.7945 - precision: 0.8424 - recall: 0.6098 - val_loss: 0.4769 - val_accuracy: 0.7906 - val_precision: 0.8227 - val_recall: 0.6302\n",
      "Epoch 15/60\n",
      "64/64 [==============================] - 0s 4ms/step - loss: 0.4612 - accuracy: 0.7949 - precision: 0.8364 - recall: 0.6174 - val_loss: 0.5143 - val_accuracy: 0.8156 - val_precision: 0.7673 - val_recall: 0.7962\n",
      "Epoch 16/60\n",
      "64/64 [==============================] - 0s 4ms/step - loss: 0.4512 - accuracy: 0.8043 - precision: 0.8448 - recall: 0.6366 - val_loss: 0.4782 - val_accuracy: 0.7719 - val_precision: 0.8521 - val_recall: 0.5434\n",
      "Epoch 17/60\n",
      "64/64 [==============================] - 0s 4ms/step - loss: 0.4312 - accuracy: 0.8141 - precision: 0.8412 - recall: 0.6702 - val_loss: 0.4554 - val_accuracy: 0.7891 - val_precision: 0.8125 - val_recall: 0.6377\n",
      "Epoch 18/60\n",
      "64/64 [==============================] - 0s 4ms/step - loss: 0.4273 - accuracy: 0.8121 - precision: 0.8314 - recall: 0.6759 - val_loss: 0.4630 - val_accuracy: 0.7906 - val_precision: 0.8541 - val_recall: 0.5962\n",
      "Epoch 19/60\n",
      "64/64 [==============================] - 0s 5ms/step - loss: 0.4270 - accuracy: 0.8098 - precision: 0.8333 - recall: 0.6663 - val_loss: 0.4484 - val_accuracy: 0.7875 - val_precision: 0.8209 - val_recall: 0.6226\n",
      "Epoch 20/60\n",
      "64/64 [==============================] - 0s 4ms/step - loss: 0.4268 - accuracy: 0.8180 - precision: 0.8267 - recall: 0.6999 - val_loss: 0.4638 - val_accuracy: 0.7906 - val_precision: 0.8541 - val_recall: 0.5962\n",
      "Epoch 21/60\n",
      "64/64 [==============================] - 0s 5ms/step - loss: 0.4123 - accuracy: 0.8203 - precision: 0.8362 - recall: 0.6951 - val_loss: 0.4400 - val_accuracy: 0.7906 - val_precision: 0.8164 - val_recall: 0.6377\n",
      "Epoch 22/60\n",
      "64/64 [==============================] - 0s 4ms/step - loss: 0.4168 - accuracy: 0.8195 - precision: 0.8290 - recall: 0.7018 - val_loss: 0.4376 - val_accuracy: 0.7906 - val_precision: 0.8164 - val_recall: 0.6377\n",
      "Epoch 23/60\n",
      "64/64 [==============================] - 0s 4ms/step - loss: 0.4077 - accuracy: 0.8215 - precision: 0.8227 - recall: 0.7162 - val_loss: 0.4467 - val_accuracy: 0.7875 - val_precision: 0.8274 - val_recall: 0.6151\n",
      "Epoch 24/60\n",
      "64/64 [==============================] - 0s 4ms/step - loss: 0.4073 - accuracy: 0.8188 - precision: 0.8235 - recall: 0.7066 - val_loss: 0.4458 - val_accuracy: 0.8125 - val_precision: 0.7778 - val_recall: 0.7660\n",
      "Epoch 25/60\n",
      "64/64 [==============================] - 0s 5ms/step - loss: 0.4017 - accuracy: 0.8238 - precision: 0.8203 - recall: 0.7267 - val_loss: 0.4509 - val_accuracy: 0.7875 - val_precision: 0.8274 - val_recall: 0.6151\n",
      "Epoch 26/60\n",
      "64/64 [==============================] - 0s 4ms/step - loss: 0.4070 - accuracy: 0.8234 - precision: 0.8202 - recall: 0.7258 - val_loss: 0.4306 - val_accuracy: 0.7906 - val_precision: 0.8104 - val_recall: 0.6453\n",
      "Epoch 27/60\n",
      "64/64 [==============================] - 0s 4ms/step - loss: 0.4074 - accuracy: 0.8293 - precision: 0.8293 - recall: 0.7315 - val_loss: 0.4670 - val_accuracy: 0.7875 - val_precision: 0.8342 - val_recall: 0.6075\n",
      "Epoch 28/60\n",
      "64/64 [==============================] - 0s 4ms/step - loss: 0.4008 - accuracy: 0.8242 - precision: 0.8198 - recall: 0.7287 - val_loss: 0.4260 - val_accuracy: 0.8156 - val_precision: 0.7860 - val_recall: 0.7623\n",
      "Epoch 29/60\n",
      "64/64 [==============================] - 0s 5ms/step - loss: 0.4018 - accuracy: 0.8270 - precision: 0.8151 - recall: 0.7440 - val_loss: 0.4264 - val_accuracy: 0.7953 - val_precision: 0.8102 - val_recall: 0.6604\n",
      "Epoch 30/60\n",
      "64/64 [==============================] - 0s 3ms/step - loss: 0.3968 - accuracy: 0.8277 - precision: 0.8162 - recall: 0.7450 - val_loss: 0.4365 - val_accuracy: 0.7906 - val_precision: 0.8164 - val_recall: 0.6377\n",
      "Epoch 31/60\n",
      "64/64 [==============================] - 0s 4ms/step - loss: 0.3964 - accuracy: 0.8309 - precision: 0.8204 - recall: 0.7488 - val_loss: 0.4184 - val_accuracy: 0.8156 - val_precision: 0.7882 - val_recall: 0.7585\n",
      "Epoch 32/60\n",
      "64/64 [==============================] - 0s 3ms/step - loss: 0.3989 - accuracy: 0.8234 - precision: 0.8069 - recall: 0.7450 - val_loss: 0.4158 - val_accuracy: 0.8094 - val_precision: 0.8095 - val_recall: 0.7057\n",
      "Epoch 33/60\n",
      "64/64 [==============================] - 0s 5ms/step - loss: 0.3891 - accuracy: 0.8328 - precision: 0.8167 - recall: 0.7603 - val_loss: 0.4152 - val_accuracy: 0.8141 - val_precision: 0.8093 - val_recall: 0.7208\n",
      "Epoch 34/60\n",
      "64/64 [==============================] - 0s 4ms/step - loss: 0.3982 - accuracy: 0.8285 - precision: 0.8159 - recall: 0.7478 - val_loss: 0.4140 - val_accuracy: 0.8156 - val_precision: 0.7838 - val_recall: 0.7660\n",
      "Epoch 35/60\n",
      "64/64 [==============================] - 0s 4ms/step - loss: 0.3974 - accuracy: 0.8273 - precision: 0.8095 - recall: 0.7536 - val_loss: 0.4098 - val_accuracy: 0.8156 - val_precision: 0.7952 - val_recall: 0.7472\n",
      "Epoch 36/60\n",
      "64/64 [==============================] - 0s 4ms/step - loss: 0.3855 - accuracy: 0.8316 - precision: 0.8148 - recall: 0.7593 - val_loss: 0.4092 - val_accuracy: 0.8156 - val_precision: 0.7928 - val_recall: 0.7509\n",
      "Epoch 37/60\n"
     ]
    },
    {
     "name": "stdout",
     "output_type": "stream",
     "text": [
      "64/64 [==============================] - 0s 4ms/step - loss: 0.3916 - accuracy: 0.8281 - precision: 0.8067 - recall: 0.7603 - val_loss: 0.4074 - val_accuracy: 0.8172 - val_precision: 0.8008 - val_recall: 0.7434\n",
      "Epoch 38/60\n",
      "64/64 [==============================] - 0s 4ms/step - loss: 0.3984 - accuracy: 0.8285 - precision: 0.8082 - recall: 0.7593 - val_loss: 0.4067 - val_accuracy: 0.8172 - val_precision: 0.7984 - val_recall: 0.7472\n",
      "Epoch 39/60\n",
      "64/64 [==============================] - 0s 4ms/step - loss: 0.3955 - accuracy: 0.8313 - precision: 0.8077 - recall: 0.7689 - val_loss: 0.4156 - val_accuracy: 0.8203 - val_precision: 0.7778 - val_recall: 0.7925\n",
      "Epoch 40/60\n",
      "64/64 [==============================] - 0s 4ms/step - loss: 0.3830 - accuracy: 0.8324 - precision: 0.8046 - recall: 0.7776 - val_loss: 0.4065 - val_accuracy: 0.8188 - val_precision: 0.8066 - val_recall: 0.7396\n",
      "Epoch 41/60\n",
      "64/64 [==============================] - 0s 4ms/step - loss: 0.3841 - accuracy: 0.8313 - precision: 0.8070 - recall: 0.7699 - val_loss: 0.4067 - val_accuracy: 0.8172 - val_precision: 0.7803 - val_recall: 0.7774\n",
      "Epoch 42/60\n",
      "64/64 [==============================] - 0s 4ms/step - loss: 0.3849 - accuracy: 0.8309 - precision: 0.8068 - recall: 0.7689 - val_loss: 0.4064 - val_accuracy: 0.8188 - val_precision: 0.7790 - val_recall: 0.7849\n",
      "Epoch 43/60\n",
      "64/64 [==============================] - 0s 4ms/step - loss: 0.3796 - accuracy: 0.8371 - precision: 0.8087 - recall: 0.7862 - val_loss: 0.4017 - val_accuracy: 0.8125 - val_precision: 0.7778 - val_recall: 0.7660\n",
      "Epoch 44/60\n",
      "64/64 [==============================] - 0s 4ms/step - loss: 0.3808 - accuracy: 0.8332 - precision: 0.8031 - recall: 0.7824 - val_loss: 0.4173 - val_accuracy: 0.8172 - val_precision: 0.7643 - val_recall: 0.8075\n",
      "Epoch 45/60\n",
      "64/64 [==============================] - 0s 4ms/step - loss: 0.3776 - accuracy: 0.8328 - precision: 0.8030 - recall: 0.7814 - val_loss: 0.4090 - val_accuracy: 0.8188 - val_precision: 0.8117 - val_recall: 0.7321\n",
      "Epoch 46/60\n",
      "64/64 [==============================] - 0s 4ms/step - loss: 0.3910 - accuracy: 0.8305 - precision: 0.7948 - recall: 0.7872 - val_loss: 0.3996 - val_accuracy: 0.8156 - val_precision: 0.7838 - val_recall: 0.7660\n",
      "Epoch 47/60\n",
      "64/64 [==============================] - 0s 3ms/step - loss: 0.3852 - accuracy: 0.8324 - precision: 0.8022 - recall: 0.7814 - val_loss: 0.4006 - val_accuracy: 0.8188 - val_precision: 0.7790 - val_recall: 0.7849\n",
      "Epoch 48/60\n",
      "64/64 [==============================] - 0s 3ms/step - loss: 0.3789 - accuracy: 0.8348 - precision: 0.7998 - recall: 0.7929 - val_loss: 0.4015 - val_accuracy: 0.8156 - val_precision: 0.7952 - val_recall: 0.7472\n",
      "Epoch 49/60\n",
      "64/64 [==============================] - 0s 4ms/step - loss: 0.3799 - accuracy: 0.8348 - precision: 0.8045 - recall: 0.7852 - val_loss: 0.3987 - val_accuracy: 0.8156 - val_precision: 0.7838 - val_recall: 0.7660\n",
      "Epoch 50/60\n",
      "64/64 [==============================] - 0s 4ms/step - loss: 0.3734 - accuracy: 0.8371 - precision: 0.8039 - recall: 0.7939 - val_loss: 0.4203 - val_accuracy: 0.8219 - val_precision: 0.7595 - val_recall: 0.8340\n",
      "Epoch 51/60\n",
      "64/64 [==============================] - 0s 3ms/step - loss: 0.3788 - accuracy: 0.8375 - precision: 0.8012 - recall: 0.7996 - val_loss: 0.3980 - val_accuracy: 0.8156 - val_precision: 0.7838 - val_recall: 0.7660\n",
      "Epoch 52/60\n",
      "64/64 [==============================] - 0s 3ms/step - loss: 0.3890 - accuracy: 0.8371 - precision: 0.8039 - recall: 0.7939 - val_loss: 0.3969 - val_accuracy: 0.8188 - val_precision: 0.7790 - val_recall: 0.7849\n",
      "Epoch 53/60\n",
      "64/64 [==============================] - 0s 4ms/step - loss: 0.3814 - accuracy: 0.8363 - precision: 0.8035 - recall: 0.7919 - val_loss: 0.4130 - val_accuracy: 0.8219 - val_precision: 0.7631 - val_recall: 0.8264\n",
      "Epoch 54/60\n",
      "64/64 [==============================] - 0s 4ms/step - loss: 0.3786 - accuracy: 0.8344 - precision: 0.7967 - recall: 0.7967 - val_loss: 0.4744 - val_accuracy: 0.7937 - val_precision: 0.8122 - val_recall: 0.6528\n",
      "Epoch 55/60\n",
      "64/64 [==============================] - 0s 4ms/step - loss: 0.3791 - accuracy: 0.8375 - precision: 0.8065 - recall: 0.7910 - val_loss: 0.4180 - val_accuracy: 0.8234 - val_precision: 0.7603 - val_recall: 0.8377\n",
      "Epoch 56/60\n",
      "64/64 [==============================] - 0s 4ms/step - loss: 0.3846 - accuracy: 0.8355 - precision: 0.7940 - recall: 0.8054 - val_loss: 0.3942 - val_accuracy: 0.8156 - val_precision: 0.7838 - val_recall: 0.7660\n",
      "Epoch 57/60\n",
      "64/64 [==============================] - 0s 4ms/step - loss: 0.3770 - accuracy: 0.8332 - precision: 0.7990 - recall: 0.7891 - val_loss: 0.3950 - val_accuracy: 0.8188 - val_precision: 0.7729 - val_recall: 0.7962\n",
      "Epoch 58/60\n",
      "64/64 [==============================] - 0s 4ms/step - loss: 0.3837 - accuracy: 0.8363 - precision: 0.7966 - recall: 0.8035 - val_loss: 0.4129 - val_accuracy: 0.8234 - val_precision: 0.7621 - val_recall: 0.8340\n",
      "Epoch 59/60\n",
      "64/64 [==============================] - 0s 4ms/step - loss: 0.3723 - accuracy: 0.8395 - precision: 0.8004 - recall: 0.8073 - val_loss: 0.3933 - val_accuracy: 0.8125 - val_precision: 0.7778 - val_recall: 0.7660\n",
      "Epoch 60/60\n",
      "64/64 [==============================] - 0s 4ms/step - loss: 0.3673 - accuracy: 0.8379 - precision: 0.7990 - recall: 0.8044 - val_loss: 0.4051 - val_accuracy: 0.8172 - val_precision: 0.7984 - val_recall: 0.7472\n",
      "20/20 [==============================] - 0s 2ms/step\n"
     ]
    },
    {
     "name": "stderr",
     "output_type": "stream",
     "text": [
      "WARNING:absl:Found untraced functions such as _update_step_xla while saving (showing 1 of 1). These functions will not be directly callable after loading.\n"
     ]
    },
    {
     "name": "stdout",
     "output_type": "stream",
     "text": [
      "INFO:tensorflow:Assets written to: C:\\Users\\jmbar\\AppData\\Local\\Temp\\tmp7pd4mucp\\assets\n"
     ]
    },
    {
     "name": "stderr",
     "output_type": "stream",
     "text": [
      "INFO:tensorflow:Assets written to: C:\\Users\\jmbar\\AppData\\Local\\Temp\\tmp7pd4mucp\\assets\n"
     ]
    },
    {
     "name": "stdout",
     "output_type": "stream",
     "text": [
      "Epoch 1/60\n",
      "64/64 [==============================] - 2s 11ms/step - loss: 0.6788 - accuracy: 0.5980 - precision: 0.0000e+00 - recall: 0.0000e+00 - val_loss: 0.6855 - val_accuracy: 0.5813 - val_precision: 0.0000e+00 - val_recall: 0.0000e+00\n",
      "Epoch 2/60\n",
      "64/64 [==============================] - 0s 4ms/step - loss: 0.6742 - accuracy: 0.5980 - precision: 0.0000e+00 - recall: 0.0000e+00 - val_loss: 0.6841 - val_accuracy: 0.5813 - val_precision: 0.0000e+00 - val_recall: 0.0000e+00\n",
      "Epoch 3/60\n",
      "64/64 [==============================] - 0s 4ms/step - loss: 0.6757 - accuracy: 0.5980 - precision: 0.0000e+00 - recall: 0.0000e+00 - val_loss: 0.6796 - val_accuracy: 0.5813 - val_precision: 0.0000e+00 - val_recall: 0.0000e+00\n",
      "Epoch 4/60\n",
      "64/64 [==============================] - 0s 4ms/step - loss: 0.6740 - accuracy: 0.5980 - precision: 0.0000e+00 - recall: 0.0000e+00 - val_loss: 0.6795 - val_accuracy: 0.5813 - val_precision: 0.0000e+00 - val_recall: 0.0000e+00\n",
      "Epoch 5/60\n",
      "64/64 [==============================] - 0s 4ms/step - loss: 0.6739 - accuracy: 0.5980 - precision: 0.0000e+00 - recall: 0.0000e+00 - val_loss: 0.6793 - val_accuracy: 0.5813 - val_precision: 0.0000e+00 - val_recall: 0.0000e+00\n",
      "Epoch 6/60\n",
      "64/64 [==============================] - 0s 6ms/step - loss: 0.6721 - accuracy: 0.5980 - precision: 0.0000e+00 - recall: 0.0000e+00 - val_loss: 0.6773 - val_accuracy: 0.5828 - val_precision: 1.0000 - val_recall: 0.0037\n",
      "Epoch 7/60\n",
      "64/64 [==============================] - 0s 5ms/step - loss: 0.6689 - accuracy: 0.6031 - precision: 1.0000 - recall: 0.0126 - val_loss: 0.6739 - val_accuracy: 0.5859 - val_precision: 1.0000 - val_recall: 0.0112\n",
      "Epoch 8/60\n",
      "64/64 [==============================] - 0s 5ms/step - loss: 0.6608 - accuracy: 0.6227 - precision: 0.7368 - recall: 0.0952 - val_loss: 0.6731 - val_accuracy: 0.5906 - val_precision: 1.0000 - val_recall: 0.0224\n",
      "Epoch 9/60\n",
      "64/64 [==============================] - 0s 5ms/step - loss: 0.6375 - accuracy: 0.6504 - precision: 0.9408 - recall: 0.1390 - val_loss: 0.6291 - val_accuracy: 0.6625 - val_precision: 0.9194 - val_recall: 0.2127\n",
      "Epoch 10/60\n",
      "64/64 [==============================] - 0s 5ms/step - loss: 0.5907 - accuracy: 0.7051 - precision: 0.9177 - recall: 0.2925 - val_loss: 0.5855 - val_accuracy: 0.6687 - val_precision: 0.9118 - val_recall: 0.2313\n",
      "Epoch 11/60\n",
      "64/64 [==============================] - 0s 5ms/step - loss: 0.5275 - accuracy: 0.7598 - precision: 0.9091 - recall: 0.4470 - val_loss: 0.5209 - val_accuracy: 0.7469 - val_precision: 0.8487 - val_recall: 0.4813\n",
      "Epoch 12/60\n",
      "64/64 [==============================] - 0s 5ms/step - loss: 0.5043 - accuracy: 0.7668 - precision: 0.8303 - recall: 0.5277 - val_loss: 0.5232 - val_accuracy: 0.7250 - val_precision: 0.8710 - val_recall: 0.4030\n",
      "Epoch 13/60\n",
      "64/64 [==============================] - 0s 4ms/step - loss: 0.4734 - accuracy: 0.7953 - precision: 0.8644 - recall: 0.5821 - val_loss: 0.4854 - val_accuracy: 0.7734 - val_precision: 0.8154 - val_recall: 0.5933\n",
      "Epoch 14/60\n",
      "64/64 [==============================] - 0s 4ms/step - loss: 0.4595 - accuracy: 0.8004 - precision: 0.8617 - recall: 0.5996 - val_loss: 0.4783 - val_accuracy: 0.7859 - val_precision: 0.8104 - val_recall: 0.6381\n",
      "Epoch 15/60\n",
      "64/64 [==============================] - 0s 4ms/step - loss: 0.4646 - accuracy: 0.8031 - precision: 0.8414 - recall: 0.6288 - val_loss: 0.5293 - val_accuracy: 0.7328 - val_precision: 0.8647 - val_recall: 0.4291\n",
      "Epoch 16/60\n",
      "64/64 [==============================] - 0s 4ms/step - loss: 0.4406 - accuracy: 0.8086 - precision: 0.8560 - recall: 0.6297 - val_loss: 0.4645 - val_accuracy: 0.7703 - val_precision: 0.8201 - val_recall: 0.5784\n",
      "Epoch 17/60\n",
      "64/64 [==============================] - 0s 5ms/step - loss: 0.4347 - accuracy: 0.8070 - precision: 0.8356 - recall: 0.6472 - val_loss: 0.6379 - val_accuracy: 0.6344 - val_precision: 0.5340 - val_recall: 0.9963\n",
      "Epoch 18/60\n",
      "64/64 [==============================] - 0s 4ms/step - loss: 0.4423 - accuracy: 0.8102 - precision: 0.8364 - recall: 0.6560 - val_loss: 0.4545 - val_accuracy: 0.7766 - val_precision: 0.8173 - val_recall: 0.6007\n",
      "Epoch 19/60\n",
      "64/64 [==============================] - 0s 4ms/step - loss: 0.4176 - accuracy: 0.8176 - precision: 0.8410 - recall: 0.6735 - val_loss: 0.4567 - val_accuracy: 0.8078 - val_precision: 0.8033 - val_recall: 0.7164\n",
      "Epoch 20/60\n",
      "64/64 [==============================] - 0s 4ms/step - loss: 0.4140 - accuracy: 0.8191 - precision: 0.8353 - recall: 0.6851 - val_loss: 0.4766 - val_accuracy: 0.7781 - val_precision: 0.8500 - val_recall: 0.5709\n",
      "Epoch 21/60\n",
      "64/64 [==============================] - 0s 4ms/step - loss: 0.4461 - accuracy: 0.8168 - precision: 0.8279 - recall: 0.6871 - val_loss: 0.4433 - val_accuracy: 0.7859 - val_precision: 0.8104 - val_recall: 0.6381\n",
      "Epoch 22/60\n",
      "64/64 [==============================] - 0s 4ms/step - loss: 0.4168 - accuracy: 0.8211 - precision: 0.8379 - recall: 0.6880 - val_loss: 0.4441 - val_accuracy: 0.7828 - val_precision: 0.8177 - val_recall: 0.6194\n",
      "Epoch 23/60\n",
      "64/64 [==============================] - 0s 3ms/step - loss: 0.4138 - accuracy: 0.8227 - precision: 0.8339 - recall: 0.6978 - val_loss: 0.4378 - val_accuracy: 0.7984 - val_precision: 0.8089 - val_recall: 0.6791\n",
      "Epoch 24/60\n",
      "64/64 [==============================] - 0s 4ms/step - loss: 0.4174 - accuracy: 0.8199 - precision: 0.8257 - recall: 0.6997 - val_loss: 0.4626 - val_accuracy: 0.8219 - val_precision: 0.7810 - val_recall: 0.7985\n",
      "Epoch 25/60\n",
      "64/64 [==============================] - 0s 3ms/step - loss: 0.4082 - accuracy: 0.8211 - precision: 0.8270 - recall: 0.7017 - val_loss: 0.4661 - val_accuracy: 0.7734 - val_precision: 0.8220 - val_recall: 0.5858\n",
      "Epoch 26/60\n",
      "64/64 [==============================] - 0s 4ms/step - loss: 0.4043 - accuracy: 0.8188 - precision: 0.8243 - recall: 0.6978 - val_loss: 0.4436 - val_accuracy: 0.7828 - val_precision: 0.8177 - val_recall: 0.6194\n",
      "Epoch 27/60\n",
      "64/64 [==============================] - 0s 4ms/step - loss: 0.4105 - accuracy: 0.8258 - precision: 0.8186 - recall: 0.7279 - val_loss: 0.4316 - val_accuracy: 0.8125 - val_precision: 0.8008 - val_recall: 0.7351\n",
      "Epoch 28/60\n",
      "64/64 [==============================] - 0s 3ms/step - loss: 0.4044 - accuracy: 0.8273 - precision: 0.8301 - recall: 0.7172 - val_loss: 0.4496 - val_accuracy: 0.7766 - val_precision: 0.8173 - val_recall: 0.6007\n",
      "Epoch 29/60\n",
      "64/64 [==============================] - 0s 3ms/step - loss: 0.4081 - accuracy: 0.8266 - precision: 0.8225 - recall: 0.7250 - val_loss: 0.4525 - val_accuracy: 0.8219 - val_precision: 0.7750 - val_recall: 0.8097\n",
      "Epoch 30/60\n",
      "64/64 [==============================] - 0s 3ms/step - loss: 0.3938 - accuracy: 0.8320 - precision: 0.8266 - recall: 0.7366 - val_loss: 0.4242 - val_accuracy: 0.8094 - val_precision: 0.8042 - val_recall: 0.7201\n",
      "Epoch 31/60\n",
      "64/64 [==============================] - 0s 4ms/step - loss: 0.3906 - accuracy: 0.8285 - precision: 0.8228 - recall: 0.7308 - val_loss: 0.4365 - val_accuracy: 0.7844 - val_precision: 0.8095 - val_recall: 0.6343\n",
      "Epoch 32/60\n",
      "64/64 [==============================] - 0s 4ms/step - loss: 0.3958 - accuracy: 0.8316 - precision: 0.8208 - recall: 0.7434 - val_loss: 0.4368 - val_accuracy: 0.7828 - val_precision: 0.8086 - val_recall: 0.6306\n",
      "Epoch 33/60\n",
      "64/64 [==============================] - 0s 3ms/step - loss: 0.3898 - accuracy: 0.8270 - precision: 0.8130 - recall: 0.7396 - val_loss: 0.4258 - val_accuracy: 0.8156 - val_precision: 0.7863 - val_recall: 0.7687\n",
      "Epoch 34/60\n",
      "64/64 [==============================] - 0s 4ms/step - loss: 0.3930 - accuracy: 0.8297 - precision: 0.8158 - recall: 0.7444 - val_loss: 0.4290 - val_accuracy: 0.7906 - val_precision: 0.8131 - val_recall: 0.6493\n",
      "Epoch 35/60\n",
      "64/64 [==============================] - 0s 4ms/step - loss: 0.3948 - accuracy: 0.8355 - precision: 0.8255 - recall: 0.7493 - val_loss: 0.4457 - val_accuracy: 0.7812 - val_precision: 0.8107 - val_recall: 0.6231\n",
      "Epoch 36/60\n",
      "64/64 [==============================] - 0s 4ms/step - loss: 0.3829 - accuracy: 0.8316 - precision: 0.8201 - recall: 0.7444 - val_loss: 0.4170 - val_accuracy: 0.8125 - val_precision: 0.7846 - val_recall: 0.7612\n",
      "Epoch 37/60\n"
     ]
    },
    {
     "name": "stdout",
     "output_type": "stream",
     "text": [
      "64/64 [==============================] - 0s 4ms/step - loss: 0.3852 - accuracy: 0.8328 - precision: 0.8127 - recall: 0.7590 - val_loss: 0.4441 - val_accuracy: 0.7812 - val_precision: 0.8077 - val_recall: 0.6269\n",
      "Epoch 38/60\n",
      "64/64 [==============================] - 0s 4ms/step - loss: 0.3891 - accuracy: 0.8281 - precision: 0.8065 - recall: 0.7532 - val_loss: 0.4472 - val_accuracy: 0.8281 - val_precision: 0.7705 - val_recall: 0.8396\n",
      "Epoch 39/60\n",
      "64/64 [==============================] - 0s 4ms/step - loss: 0.3868 - accuracy: 0.8348 - precision: 0.8189 - recall: 0.7561 - val_loss: 0.4305 - val_accuracy: 0.8234 - val_precision: 0.7739 - val_recall: 0.8172\n",
      "Epoch 40/60\n",
      "64/64 [==============================] - 0s 4ms/step - loss: 0.3802 - accuracy: 0.8391 - precision: 0.8158 - recall: 0.7745 - val_loss: 0.4362 - val_accuracy: 0.7906 - val_precision: 0.8131 - val_recall: 0.6493\n",
      "Epoch 41/60\n",
      "64/64 [==============================] - 0s 4ms/step - loss: 0.3797 - accuracy: 0.8355 - precision: 0.8173 - recall: 0.7609 - val_loss: 0.4240 - val_accuracy: 0.7984 - val_precision: 0.8089 - val_recall: 0.6791\n",
      "Epoch 42/60\n",
      "64/64 [==============================] - 0s 4ms/step - loss: 0.3903 - accuracy: 0.8348 - precision: 0.8067 - recall: 0.7745 - val_loss: 0.4111 - val_accuracy: 0.8172 - val_precision: 0.7849 - val_recall: 0.7761\n",
      "Epoch 43/60\n",
      "64/64 [==============================] - 0s 5ms/step - loss: 0.3835 - accuracy: 0.8289 - precision: 0.8037 - recall: 0.7600 - val_loss: 0.4078 - val_accuracy: 0.8125 - val_precision: 0.7984 - val_recall: 0.7388\n",
      "Epoch 44/60\n",
      "64/64 [==============================] - 0s 4ms/step - loss: 0.3811 - accuracy: 0.8387 - precision: 0.8169 - recall: 0.7716 - val_loss: 0.4243 - val_accuracy: 0.7969 - val_precision: 0.8080 - val_recall: 0.6754\n",
      "Epoch 45/60\n",
      "64/64 [==============================] - 0s 4ms/step - loss: 0.3765 - accuracy: 0.8359 - precision: 0.8117 - recall: 0.7707 - val_loss: 0.4098 - val_accuracy: 0.8219 - val_precision: 0.7831 - val_recall: 0.7948\n",
      "Epoch 46/60\n",
      "64/64 [==============================] - 0s 4ms/step - loss: 0.3833 - accuracy: 0.8332 - precision: 0.8022 - recall: 0.7765 - val_loss: 0.4094 - val_accuracy: 0.8219 - val_precision: 0.7852 - val_recall: 0.7910\n",
      "Epoch 47/60\n",
      "64/64 [==============================] - 0s 4ms/step - loss: 0.3973 - accuracy: 0.8293 - precision: 0.7984 - recall: 0.7697 - val_loss: 0.4172 - val_accuracy: 0.8062 - val_precision: 0.8130 - val_recall: 0.6978\n",
      "Epoch 48/60\n",
      "64/64 [==============================] - 0s 4ms/step - loss: 0.3732 - accuracy: 0.8387 - precision: 0.8156 - recall: 0.7736 - val_loss: 0.4060 - val_accuracy: 0.8234 - val_precision: 0.7860 - val_recall: 0.7948\n",
      "Epoch 49/60\n",
      "64/64 [==============================] - 0s 4ms/step - loss: 0.3811 - accuracy: 0.8387 - precision: 0.8080 - recall: 0.7852 - val_loss: 0.4302 - val_accuracy: 0.7953 - val_precision: 0.8072 - val_recall: 0.6716\n",
      "Epoch 50/60\n",
      "64/64 [==============================] - 0s 4ms/step - loss: 0.3847 - accuracy: 0.8359 - precision: 0.8079 - recall: 0.7765 - val_loss: 0.4008 - val_accuracy: 0.8125 - val_precision: 0.7846 - val_recall: 0.7612\n",
      "Epoch 51/60\n",
      "64/64 [==============================] - 0s 4ms/step - loss: 0.3717 - accuracy: 0.8383 - precision: 0.8097 - recall: 0.7813 - val_loss: 0.4002 - val_accuracy: 0.8156 - val_precision: 0.7841 - val_recall: 0.7724\n",
      "Epoch 52/60\n",
      "64/64 [==============================] - 0s 4ms/step - loss: 0.3859 - accuracy: 0.8328 - precision: 0.7984 - recall: 0.7813 - val_loss: 0.4121 - val_accuracy: 0.8109 - val_precision: 0.8128 - val_recall: 0.7127\n",
      "Epoch 53/60\n",
      "64/64 [==============================] - 0s 4ms/step - loss: 0.3736 - accuracy: 0.8371 - precision: 0.8060 - recall: 0.7833 - val_loss: 0.4155 - val_accuracy: 0.8094 - val_precision: 0.8120 - val_recall: 0.7090\n",
      "Epoch 54/60\n",
      "64/64 [==============================] - 0s 4ms/step - loss: 0.3686 - accuracy: 0.8355 - precision: 0.8004 - recall: 0.7872 - val_loss: 0.3982 - val_accuracy: 0.8188 - val_precision: 0.7857 - val_recall: 0.7799\n",
      "Epoch 55/60\n",
      "64/64 [==============================] - 0s 4ms/step - loss: 0.3763 - accuracy: 0.8348 - precision: 0.8042 - recall: 0.7784 - val_loss: 0.4178 - val_accuracy: 0.8094 - val_precision: 0.8120 - val_recall: 0.7090\n",
      "Epoch 56/60\n",
      "64/64 [==============================] - 0s 4ms/step - loss: 0.3758 - accuracy: 0.8363 - precision: 0.8038 - recall: 0.7843 - val_loss: 0.4100 - val_accuracy: 0.8156 - val_precision: 0.8099 - val_recall: 0.7313\n",
      "Epoch 57/60\n",
      "64/64 [==============================] - 0s 4ms/step - loss: 0.3749 - accuracy: 0.8359 - precision: 0.7965 - recall: 0.7949 - val_loss: 0.4463 - val_accuracy: 0.7953 - val_precision: 0.8100 - val_recall: 0.6679\n",
      "Epoch 58/60\n",
      "64/64 [==============================] - 0s 4ms/step - loss: 0.3861 - accuracy: 0.8355 - precision: 0.7998 - recall: 0.7881 - val_loss: 0.4256 - val_accuracy: 0.8047 - val_precision: 0.8122 - val_recall: 0.6940\n",
      "Epoch 59/60\n",
      "64/64 [==============================] - 0s 4ms/step - loss: 0.3790 - accuracy: 0.8359 - precision: 0.8030 - recall: 0.7843 - val_loss: 0.4055 - val_accuracy: 0.8250 - val_precision: 0.7746 - val_recall: 0.8209\n",
      "Epoch 60/60\n",
      "64/64 [==============================] - 0s 4ms/step - loss: 0.3729 - accuracy: 0.8340 - precision: 0.7967 - recall: 0.7881 - val_loss: 0.4184 - val_accuracy: 0.8328 - val_precision: 0.7729 - val_recall: 0.8507\n",
      "20/20 [==============================] - 0s 2ms/step\n"
     ]
    },
    {
     "name": "stderr",
     "output_type": "stream",
     "text": [
      "WARNING:absl:Found untraced functions such as _update_step_xla while saving (showing 1 of 1). These functions will not be directly callable after loading.\n"
     ]
    },
    {
     "name": "stdout",
     "output_type": "stream",
     "text": [
      "INFO:tensorflow:Assets written to: C:\\Users\\jmbar\\AppData\\Local\\Temp\\tmpbi_ni65o\\assets\n"
     ]
    },
    {
     "name": "stderr",
     "output_type": "stream",
     "text": [
      "INFO:tensorflow:Assets written to: C:\\Users\\jmbar\\AppData\\Local\\Temp\\tmpbi_ni65o\\assets\n"
     ]
    },
    {
     "name": "stdout",
     "output_type": "stream",
     "text": [
      "Epoch 1/60\n",
      "64/64 [==============================] - 2s 11ms/step - loss: 0.6732 - accuracy: 0.6047 - precision: 0.0000e+00 - recall: 0.0000e+00 - val_loss: 0.6953 - val_accuracy: 0.5594 - val_precision: 0.0000e+00 - val_recall: 0.0000e+00\n",
      "Epoch 2/60\n",
      "64/64 [==============================] - 0s 4ms/step - loss: 0.6741 - accuracy: 0.6047 - precision: 0.0000e+00 - recall: 0.0000e+00 - val_loss: 0.6874 - val_accuracy: 0.5594 - val_precision: 0.0000e+00 - val_recall: 0.0000e+00\n",
      "Epoch 3/60\n",
      "64/64 [==============================] - 0s 4ms/step - loss: 0.6722 - accuracy: 0.6047 - precision: 0.0000e+00 - recall: 0.0000e+00 - val_loss: 0.6906 - val_accuracy: 0.5594 - val_precision: 0.0000e+00 - val_recall: 0.0000e+00\n",
      "Epoch 4/60\n",
      "64/64 [==============================] - 0s 4ms/step - loss: 0.6711 - accuracy: 0.6047 - precision: 0.0000e+00 - recall: 0.0000e+00 - val_loss: 0.6982 - val_accuracy: 0.5594 - val_precision: 0.0000e+00 - val_recall: 0.0000e+00\n",
      "Epoch 5/60\n",
      "64/64 [==============================] - 0s 5ms/step - loss: 0.6712 - accuracy: 0.6047 - precision: 0.0000e+00 - recall: 0.0000e+00 - val_loss: 0.6883 - val_accuracy: 0.5594 - val_precision: 0.0000e+00 - val_recall: 0.0000e+00\n",
      "Epoch 6/60\n",
      "64/64 [==============================] - 0s 4ms/step - loss: 0.6697 - accuracy: 0.6047 - precision: 0.0000e+00 - recall: 0.0000e+00 - val_loss: 0.6872 - val_accuracy: 0.5594 - val_precision: 0.0000e+00 - val_recall: 0.0000e+00\n",
      "Epoch 7/60\n",
      "64/64 [==============================] - 0s 4ms/step - loss: 0.6681 - accuracy: 0.6059 - precision: 1.0000 - recall: 0.0030 - val_loss: 0.6837 - val_accuracy: 0.5625 - val_precision: 1.0000 - val_recall: 0.0071\n",
      "Epoch 8/60\n",
      "64/64 [==============================] - 0s 4ms/step - loss: 0.6618 - accuracy: 0.6160 - precision: 1.0000 - recall: 0.0287 - val_loss: 0.6756 - val_accuracy: 0.5719 - val_precision: 0.9000 - val_recall: 0.0319\n",
      "Epoch 9/60\n",
      "64/64 [==============================] - 0s 4ms/step - loss: 0.6419 - accuracy: 0.6457 - precision: 0.9339 - recall: 0.1117 - val_loss: 0.6479 - val_accuracy: 0.6016 - val_precision: 0.9091 - val_recall: 0.1064\n",
      "Epoch 10/60\n",
      "64/64 [==============================] - 0s 4ms/step - loss: 0.6244 - accuracy: 0.6730 - precision: 0.7182 - recall: 0.2846 - val_loss: 0.6235 - val_accuracy: 0.6375 - val_precision: 0.8788 - val_recall: 0.2057\n",
      "Epoch 11/60\n",
      "64/64 [==============================] - 0s 4ms/step - loss: 0.5699 - accuracy: 0.7285 - precision: 0.9013 - recall: 0.3518 - val_loss: 0.5733 - val_accuracy: 0.6875 - val_precision: 0.8661 - val_recall: 0.3440\n",
      "Epoch 12/60\n",
      "64/64 [==============================] - 0s 4ms/step - loss: 0.5326 - accuracy: 0.7543 - precision: 0.8620 - recall: 0.4506 - val_loss: 0.6521 - val_accuracy: 0.6500 - val_precision: 0.8537 - val_recall: 0.2482\n",
      "Epoch 13/60\n",
      "64/64 [==============================] - 0s 4ms/step - loss: 0.5084 - accuracy: 0.7688 - precision: 0.8477 - recall: 0.5059 - val_loss: 0.5509 - val_accuracy: 0.7063 - val_precision: 0.8507 - val_recall: 0.4043\n",
      "Epoch 14/60\n",
      "64/64 [==============================] - 0s 4ms/step - loss: 0.4717 - accuracy: 0.7844 - precision: 0.8464 - recall: 0.5553 - val_loss: 0.5004 - val_accuracy: 0.7672 - val_precision: 0.8276 - val_recall: 0.5957\n",
      "Epoch 15/60\n",
      "64/64 [==============================] - 0s 4ms/step - loss: 0.4743 - accuracy: 0.7906 - precision: 0.8343 - recall: 0.5870 - val_loss: 0.5411 - val_accuracy: 0.7281 - val_precision: 0.8506 - val_recall: 0.4645\n",
      "Epoch 16/60\n",
      "64/64 [==============================] - 0s 4ms/step - loss: 0.4501 - accuracy: 0.7980 - precision: 0.8404 - recall: 0.6038 - val_loss: 0.4832 - val_accuracy: 0.7688 - val_precision: 0.8190 - val_recall: 0.6099\n",
      "Epoch 17/60\n",
      "64/64 [==============================] - 0s 4ms/step - loss: 0.4481 - accuracy: 0.8086 - precision: 0.8321 - recall: 0.6462 - val_loss: 0.4778 - val_accuracy: 0.7906 - val_precision: 0.8162 - val_recall: 0.6773\n",
      "Epoch 18/60\n",
      "64/64 [==============================] - 0s 4ms/step - loss: 0.4470 - accuracy: 0.8016 - precision: 0.8239 - recall: 0.6334 - val_loss: 0.4806 - val_accuracy: 0.7688 - val_precision: 0.8317 - val_recall: 0.5957\n",
      "Epoch 19/60\n",
      "64/64 [==============================] - 0s 5ms/step - loss: 0.4368 - accuracy: 0.8086 - precision: 0.8254 - recall: 0.6542 - val_loss: 0.4663 - val_accuracy: 0.7828 - val_precision: 0.8122 - val_recall: 0.6596\n",
      "Epoch 20/60\n",
      "64/64 [==============================] - 0s 5ms/step - loss: 0.4302 - accuracy: 0.8086 - precision: 0.8206 - recall: 0.6601 - val_loss: 0.4700 - val_accuracy: 0.7672 - val_precision: 0.8182 - val_recall: 0.6064\n",
      "Epoch 21/60\n",
      "64/64 [==============================] - 0s 4ms/step - loss: 0.4207 - accuracy: 0.8172 - precision: 0.8301 - recall: 0.6759 - val_loss: 0.4659 - val_accuracy: 0.7672 - val_precision: 0.8152 - val_recall: 0.6099\n",
      "Epoch 22/60\n",
      "64/64 [==============================] - 0s 4ms/step - loss: 0.4154 - accuracy: 0.8172 - precision: 0.8230 - recall: 0.6848 - val_loss: 0.4651 - val_accuracy: 0.7688 - val_precision: 0.8190 - val_recall: 0.6099\n",
      "Epoch 23/60\n",
      "64/64 [==============================] - 0s 4ms/step - loss: 0.4187 - accuracy: 0.8199 - precision: 0.8230 - recall: 0.6937 - val_loss: 0.4783 - val_accuracy: 0.7672 - val_precision: 0.8276 - val_recall: 0.5957\n",
      "Epoch 24/60\n",
      "64/64 [==============================] - 0s 4ms/step - loss: 0.4155 - accuracy: 0.8188 - precision: 0.8201 - recall: 0.6937 - val_loss: 0.4468 - val_accuracy: 0.8078 - val_precision: 0.8193 - val_recall: 0.7234\n",
      "Epoch 25/60\n",
      "64/64 [==============================] - 0s 4ms/step - loss: 0.4126 - accuracy: 0.8184 - precision: 0.8162 - recall: 0.6976 - val_loss: 0.4438 - val_accuracy: 0.8000 - val_precision: 0.8182 - val_recall: 0.7021\n",
      "Epoch 26/60\n",
      "64/64 [==============================] - 0s 4ms/step - loss: 0.4136 - accuracy: 0.8191 - precision: 0.8137 - recall: 0.7036 - val_loss: 0.4747 - val_accuracy: 0.7703 - val_precision: 0.8261 - val_recall: 0.6064\n",
      "Epoch 27/60\n",
      "64/64 [==============================] - 0s 4ms/step - loss: 0.4152 - accuracy: 0.8199 - precision: 0.8099 - recall: 0.7115 - val_loss: 0.4402 - val_accuracy: 0.7922 - val_precision: 0.8170 - val_recall: 0.6809\n",
      "Epoch 28/60\n",
      "64/64 [==============================] - 0s 4ms/step - loss: 0.4065 - accuracy: 0.8195 - precision: 0.8118 - recall: 0.7075 - val_loss: 0.4515 - val_accuracy: 0.8203 - val_precision: 0.7889 - val_recall: 0.8085\n",
      "Epoch 29/60\n",
      "64/64 [==============================] - 0s 4ms/step - loss: 0.4040 - accuracy: 0.8266 - precision: 0.8128 - recall: 0.7292 - val_loss: 0.4341 - val_accuracy: 0.8109 - val_precision: 0.8038 - val_recall: 0.7553\n",
      "Epoch 30/60\n",
      "64/64 [==============================] - 0s 4ms/step - loss: 0.4147 - accuracy: 0.8270 - precision: 0.8151 - recall: 0.7273 - val_loss: 0.4331 - val_accuracy: 0.8047 - val_precision: 0.8178 - val_recall: 0.7163\n",
      "Epoch 31/60\n",
      "64/64 [==============================] - 0s 4ms/step - loss: 0.4071 - accuracy: 0.8203 - precision: 0.8053 - recall: 0.7194 - val_loss: 0.4433 - val_accuracy: 0.7812 - val_precision: 0.8114 - val_recall: 0.6560\n",
      "Epoch 32/60\n",
      "64/64 [==============================] - 0s 4ms/step - loss: 0.4014 - accuracy: 0.8293 - precision: 0.8115 - recall: 0.7401 - val_loss: 0.4332 - val_accuracy: 0.8141 - val_precision: 0.7921 - val_recall: 0.7837\n",
      "Epoch 33/60\n",
      "64/64 [==============================] - 0s 4ms/step - loss: 0.3908 - accuracy: 0.8297 - precision: 0.8070 - recall: 0.7480 - val_loss: 0.4401 - val_accuracy: 0.8203 - val_precision: 0.7831 - val_recall: 0.8191\n",
      "Epoch 34/60\n",
      "64/64 [==============================] - 0s 4ms/step - loss: 0.3975 - accuracy: 0.8270 - precision: 0.8011 - recall: 0.7480 - val_loss: 0.4324 - val_accuracy: 0.7984 - val_precision: 0.8174 - val_recall: 0.6986\n",
      "Epoch 35/60\n",
      "64/64 [==============================] - 0s 4ms/step - loss: 0.3923 - accuracy: 0.8309 - precision: 0.8103 - recall: 0.7470 - val_loss: 0.4328 - val_accuracy: 0.8000 - val_precision: 0.8156 - val_recall: 0.7057\n",
      "Epoch 36/60\n",
      "64/64 [==============================] - 0s 4ms/step - loss: 0.3933 - accuracy: 0.8301 - precision: 0.8072 - recall: 0.7490 - val_loss: 0.4216 - val_accuracy: 0.8141 - val_precision: 0.8123 - val_recall: 0.7518\n",
      "Epoch 37/60\n"
     ]
    },
    {
     "name": "stdout",
     "output_type": "stream",
     "text": [
      "64/64 [==============================] - 0s 4ms/step - loss: 0.3993 - accuracy: 0.8305 - precision: 0.8055 - recall: 0.7530 - val_loss: 0.4326 - val_accuracy: 0.7953 - val_precision: 0.8159 - val_recall: 0.6915\n",
      "Epoch 38/60\n",
      "64/64 [==============================] - 0s 4ms/step - loss: 0.3904 - accuracy: 0.8305 - precision: 0.8068 - recall: 0.7510 - val_loss: 0.4422 - val_accuracy: 0.7891 - val_precision: 0.8155 - val_recall: 0.6738\n",
      "Epoch 39/60\n",
      "64/64 [==============================] - 0s 4ms/step - loss: 0.3894 - accuracy: 0.8293 - precision: 0.7998 - recall: 0.7579 - val_loss: 0.4552 - val_accuracy: 0.7781 - val_precision: 0.8097 - val_recall: 0.6489\n",
      "Epoch 40/60\n",
      "64/64 [==============================] - 0s 4ms/step - loss: 0.3965 - accuracy: 0.8273 - precision: 0.8019 - recall: 0.7480 - val_loss: 0.4178 - val_accuracy: 0.8141 - val_precision: 0.8099 - val_recall: 0.7553\n",
      "Epoch 41/60\n",
      "64/64 [==============================] - 0s 4ms/step - loss: 0.3888 - accuracy: 0.8379 - precision: 0.8068 - recall: 0.7757 - val_loss: 0.4184 - val_accuracy: 0.8125 - val_precision: 0.8140 - val_recall: 0.7447\n",
      "Epoch 42/60\n",
      "64/64 [==============================] - 0s 4ms/step - loss: 0.3809 - accuracy: 0.8328 - precision: 0.7992 - recall: 0.7708 - val_loss: 0.4403 - val_accuracy: 0.7953 - val_precision: 0.8186 - val_recall: 0.6879\n",
      "Epoch 43/60\n",
      "64/64 [==============================] - 0s 4ms/step - loss: 0.3908 - accuracy: 0.8352 - precision: 0.8016 - recall: 0.7747 - val_loss: 0.4163 - val_accuracy: 0.8109 - val_precision: 0.8108 - val_recall: 0.7447\n",
      "Epoch 44/60\n",
      "64/64 [==============================] - 0s 4ms/step - loss: 0.3808 - accuracy: 0.8355 - precision: 0.8012 - recall: 0.7767 - val_loss: 0.4155 - val_accuracy: 0.8203 - val_precision: 0.7831 - val_recall: 0.8191\n",
      "Epoch 45/60\n",
      "64/64 [==============================] - 0s 4ms/step - loss: 0.3825 - accuracy: 0.8332 - precision: 0.7982 - recall: 0.7737 - val_loss: 0.4127 - val_accuracy: 0.8203 - val_precision: 0.7909 - val_recall: 0.8050\n",
      "Epoch 46/60\n",
      "64/64 [==============================] - 0s 4ms/step - loss: 0.3945 - accuracy: 0.8324 - precision: 0.7965 - recall: 0.7737 - val_loss: 0.4249 - val_accuracy: 0.8062 - val_precision: 0.8185 - val_recall: 0.7199\n",
      "Epoch 47/60\n",
      "64/64 [==============================] - 0s 4ms/step - loss: 0.3835 - accuracy: 0.8344 - precision: 0.8000 - recall: 0.7747 - val_loss: 0.4121 - val_accuracy: 0.8141 - val_precision: 0.8052 - val_recall: 0.7624\n",
      "Epoch 48/60\n",
      "64/64 [==============================] - 0s 4ms/step - loss: 0.3811 - accuracy: 0.8371 - precision: 0.8033 - recall: 0.7787 - val_loss: 0.4266 - val_accuracy: 0.8109 - val_precision: 0.8207 - val_recall: 0.7305\n",
      "Epoch 49/60\n",
      "64/64 [==============================] - 0s 4ms/step - loss: 0.3770 - accuracy: 0.8344 - precision: 0.7952 - recall: 0.7826 - val_loss: 0.4306 - val_accuracy: 0.8078 - val_precision: 0.8193 - val_recall: 0.7234\n",
      "Epoch 50/60\n",
      "64/64 [==============================] - 0s 4ms/step - loss: 0.3795 - accuracy: 0.8371 - precision: 0.8002 - recall: 0.7836 - val_loss: 0.4048 - val_accuracy: 0.8156 - val_precision: 0.7929 - val_recall: 0.7872\n",
      "Epoch 51/60\n",
      "64/64 [==============================] - 0s 4ms/step - loss: 0.3787 - accuracy: 0.8375 - precision: 0.7968 - recall: 0.7905 - val_loss: 0.4197 - val_accuracy: 0.8156 - val_precision: 0.8130 - val_recall: 0.7553\n",
      "Epoch 52/60\n",
      "64/64 [==============================] - 0s 4ms/step - loss: 0.3824 - accuracy: 0.8344 - precision: 0.7958 - recall: 0.7816 - val_loss: 0.4095 - val_accuracy: 0.8219 - val_precision: 0.7781 - val_recall: 0.8333\n",
      "Epoch 53/60\n",
      "64/64 [==============================] - 0s 4ms/step - loss: 0.3860 - accuracy: 0.8363 - precision: 0.7904 - recall: 0.7974 - val_loss: 0.4063 - val_accuracy: 0.8203 - val_precision: 0.8036 - val_recall: 0.7837\n",
      "Epoch 54/60\n",
      "64/64 [==============================] - 0s 4ms/step - loss: 0.3843 - accuracy: 0.8363 - precision: 0.7944 - recall: 0.7905 - val_loss: 0.4055 - val_accuracy: 0.8188 - val_precision: 0.8007 - val_recall: 0.7837\n",
      "Epoch 55/60\n",
      "64/64 [==============================] - 0s 4ms/step - loss: 0.3801 - accuracy: 0.8379 - precision: 0.7958 - recall: 0.7935 - val_loss: 0.4116 - val_accuracy: 0.8156 - val_precision: 0.8083 - val_recall: 0.7624\n",
      "Epoch 56/60\n",
      "64/64 [==============================] - 0s 4ms/step - loss: 0.3836 - accuracy: 0.8320 - precision: 0.7859 - recall: 0.7905 - val_loss: 0.4041 - val_accuracy: 0.8156 - val_precision: 0.7950 - val_recall: 0.7837\n",
      "Epoch 57/60\n",
      "64/64 [==============================] - 0s 4ms/step - loss: 0.3783 - accuracy: 0.8355 - precision: 0.7900 - recall: 0.7955 - val_loss: 0.3999 - val_accuracy: 0.8188 - val_precision: 0.7902 - val_recall: 0.8014\n",
      "Epoch 58/60\n",
      "64/64 [==============================] - 0s 4ms/step - loss: 0.3750 - accuracy: 0.8363 - precision: 0.7893 - recall: 0.7994 - val_loss: 0.4057 - val_accuracy: 0.8188 - val_precision: 0.8007 - val_recall: 0.7837\n",
      "Epoch 59/60\n",
      "64/64 [==============================] - 0s 4ms/step - loss: 0.3826 - accuracy: 0.8352 - precision: 0.7898 - recall: 0.7945 - val_loss: 0.4013 - val_accuracy: 0.8141 - val_precision: 0.7921 - val_recall: 0.7837\n",
      "Epoch 60/60\n",
      "64/64 [==============================] - 0s 4ms/step - loss: 0.3777 - accuracy: 0.8383 - precision: 0.7903 - recall: 0.8043 - val_loss: 0.4010 - val_accuracy: 0.8203 - val_precision: 0.7793 - val_recall: 0.8262\n",
      "20/20 [==============================] - 0s 3ms/step\n",
      "WARNING:tensorflow:Detecting that an object or model or tf.train.Checkpoint is being deleted with unrestored values. See the following logs for the specific values in question. To silence these warnings, use `status.expect_partial()`. See https://www.tensorflow.org/api_docs/python/tf/train/Checkpoint#restorefor details about the status object returned by the restore function.\n"
     ]
    },
    {
     "name": "stderr",
     "output_type": "stream",
     "text": [
      "WARNING:tensorflow:Detecting that an object or model or tf.train.Checkpoint is being deleted with unrestored values. See the following logs for the specific values in question. To silence these warnings, use `status.expect_partial()`. See https://www.tensorflow.org/api_docs/python/tf/train/Checkpoint#restorefor details about the status object returned by the restore function.\n"
     ]
    },
    {
     "name": "stdout",
     "output_type": "stream",
     "text": [
      "WARNING:tensorflow:Value in checkpoint could not be found in the restored object: (root).keras_api.metrics.0.total\n"
     ]
    },
    {
     "name": "stderr",
     "output_type": "stream",
     "text": [
      "WARNING:tensorflow:Value in checkpoint could not be found in the restored object: (root).keras_api.metrics.0.total\n"
     ]
    },
    {
     "name": "stdout",
     "output_type": "stream",
     "text": [
      "WARNING:tensorflow:Value in checkpoint could not be found in the restored object: (root).keras_api.metrics.0.count\n"
     ]
    },
    {
     "name": "stderr",
     "output_type": "stream",
     "text": [
      "WARNING:tensorflow:Value in checkpoint could not be found in the restored object: (root).keras_api.metrics.0.count\n"
     ]
    },
    {
     "name": "stdout",
     "output_type": "stream",
     "text": [
      "WARNING:tensorflow:Value in checkpoint could not be found in the restored object: (root).keras_api.metrics.1.total\n"
     ]
    },
    {
     "name": "stderr",
     "output_type": "stream",
     "text": [
      "WARNING:tensorflow:Value in checkpoint could not be found in the restored object: (root).keras_api.metrics.1.total\n"
     ]
    },
    {
     "name": "stdout",
     "output_type": "stream",
     "text": [
      "WARNING:tensorflow:Value in checkpoint could not be found in the restored object: (root).keras_api.metrics.1.count\n"
     ]
    },
    {
     "name": "stderr",
     "output_type": "stream",
     "text": [
      "WARNING:tensorflow:Value in checkpoint could not be found in the restored object: (root).keras_api.metrics.1.count\n"
     ]
    },
    {
     "name": "stdout",
     "output_type": "stream",
     "text": [
      "WARNING:tensorflow:Value in checkpoint could not be found in the restored object: (root).keras_api.metrics.2.true_positives\n"
     ]
    },
    {
     "name": "stderr",
     "output_type": "stream",
     "text": [
      "WARNING:tensorflow:Value in checkpoint could not be found in the restored object: (root).keras_api.metrics.2.true_positives\n"
     ]
    },
    {
     "name": "stdout",
     "output_type": "stream",
     "text": [
      "WARNING:tensorflow:Value in checkpoint could not be found in the restored object: (root).keras_api.metrics.2.false_positives\n"
     ]
    },
    {
     "name": "stderr",
     "output_type": "stream",
     "text": [
      "WARNING:tensorflow:Value in checkpoint could not be found in the restored object: (root).keras_api.metrics.2.false_positives\n"
     ]
    },
    {
     "name": "stdout",
     "output_type": "stream",
     "text": [
      "WARNING:tensorflow:Value in checkpoint could not be found in the restored object: (root).keras_api.metrics.3.true_positives\n"
     ]
    },
    {
     "name": "stderr",
     "output_type": "stream",
     "text": [
      "WARNING:tensorflow:Value in checkpoint could not be found in the restored object: (root).keras_api.metrics.3.true_positives\n"
     ]
    },
    {
     "name": "stdout",
     "output_type": "stream",
     "text": [
      "WARNING:tensorflow:Value in checkpoint could not be found in the restored object: (root).keras_api.metrics.3.false_negatives\n"
     ]
    },
    {
     "name": "stderr",
     "output_type": "stream",
     "text": [
      "WARNING:tensorflow:Value in checkpoint could not be found in the restored object: (root).keras_api.metrics.3.false_negatives\n"
     ]
    },
    {
     "name": "stdout",
     "output_type": "stream",
     "text": [
      "WARNING:tensorflow:Detecting that an object or model or tf.train.Checkpoint is being deleted with unrestored values. See the following logs for the specific values in question. To silence these warnings, use `status.expect_partial()`. See https://www.tensorflow.org/api_docs/python/tf/train/Checkpoint#restorefor details about the status object returned by the restore function.\n"
     ]
    },
    {
     "name": "stderr",
     "output_type": "stream",
     "text": [
      "WARNING:tensorflow:Detecting that an object or model or tf.train.Checkpoint is being deleted with unrestored values. See the following logs for the specific values in question. To silence these warnings, use `status.expect_partial()`. See https://www.tensorflow.org/api_docs/python/tf/train/Checkpoint#restorefor details about the status object returned by the restore function.\n"
     ]
    },
    {
     "name": "stdout",
     "output_type": "stream",
     "text": [
      "WARNING:tensorflow:Value in checkpoint could not be found in the restored object: (root).keras_api.metrics.0.total\n"
     ]
    },
    {
     "name": "stderr",
     "output_type": "stream",
     "text": [
      "WARNING:tensorflow:Value in checkpoint could not be found in the restored object: (root).keras_api.metrics.0.total\n"
     ]
    },
    {
     "name": "stdout",
     "output_type": "stream",
     "text": [
      "WARNING:tensorflow:Value in checkpoint could not be found in the restored object: (root).keras_api.metrics.0.count\n"
     ]
    },
    {
     "name": "stderr",
     "output_type": "stream",
     "text": [
      "WARNING:tensorflow:Value in checkpoint could not be found in the restored object: (root).keras_api.metrics.0.count\n"
     ]
    },
    {
     "name": "stdout",
     "output_type": "stream",
     "text": [
      "WARNING:tensorflow:Value in checkpoint could not be found in the restored object: (root).keras_api.metrics.1.total\n"
     ]
    },
    {
     "name": "stderr",
     "output_type": "stream",
     "text": [
      "WARNING:tensorflow:Value in checkpoint could not be found in the restored object: (root).keras_api.metrics.1.total\n"
     ]
    },
    {
     "name": "stdout",
     "output_type": "stream",
     "text": [
      "WARNING:tensorflow:Value in checkpoint could not be found in the restored object: (root).keras_api.metrics.1.count\n"
     ]
    },
    {
     "name": "stderr",
     "output_type": "stream",
     "text": [
      "WARNING:tensorflow:Value in checkpoint could not be found in the restored object: (root).keras_api.metrics.1.count\n"
     ]
    },
    {
     "name": "stdout",
     "output_type": "stream",
     "text": [
      "WARNING:tensorflow:Value in checkpoint could not be found in the restored object: (root).keras_api.metrics.2.true_positives\n"
     ]
    },
    {
     "name": "stderr",
     "output_type": "stream",
     "text": [
      "WARNING:tensorflow:Value in checkpoint could not be found in the restored object: (root).keras_api.metrics.2.true_positives\n"
     ]
    },
    {
     "name": "stdout",
     "output_type": "stream",
     "text": [
      "WARNING:tensorflow:Value in checkpoint could not be found in the restored object: (root).keras_api.metrics.2.false_positives\n"
     ]
    },
    {
     "name": "stderr",
     "output_type": "stream",
     "text": [
      "WARNING:tensorflow:Value in checkpoint could not be found in the restored object: (root).keras_api.metrics.2.false_positives\n"
     ]
    },
    {
     "name": "stdout",
     "output_type": "stream",
     "text": [
      "WARNING:tensorflow:Value in checkpoint could not be found in the restored object: (root).keras_api.metrics.3.true_positives\n"
     ]
    },
    {
     "name": "stderr",
     "output_type": "stream",
     "text": [
      "WARNING:tensorflow:Value in checkpoint could not be found in the restored object: (root).keras_api.metrics.3.true_positives\n"
     ]
    },
    {
     "name": "stdout",
     "output_type": "stream",
     "text": [
      "WARNING:tensorflow:Value in checkpoint could not be found in the restored object: (root).keras_api.metrics.3.false_negatives\n"
     ]
    },
    {
     "name": "stderr",
     "output_type": "stream",
     "text": [
      "WARNING:tensorflow:Value in checkpoint could not be found in the restored object: (root).keras_api.metrics.3.false_negatives\n"
     ]
    },
    {
     "name": "stdout",
     "output_type": "stream",
     "text": [
      "WARNING:tensorflow:Detecting that an object or model or tf.train.Checkpoint is being deleted with unrestored values. See the following logs for the specific values in question. To silence these warnings, use `status.expect_partial()`. See https://www.tensorflow.org/api_docs/python/tf/train/Checkpoint#restorefor details about the status object returned by the restore function.\n"
     ]
    },
    {
     "name": "stderr",
     "output_type": "stream",
     "text": [
      "WARNING:tensorflow:Detecting that an object or model or tf.train.Checkpoint is being deleted with unrestored values. See the following logs for the specific values in question. To silence these warnings, use `status.expect_partial()`. See https://www.tensorflow.org/api_docs/python/tf/train/Checkpoint#restorefor details about the status object returned by the restore function.\n"
     ]
    },
    {
     "name": "stdout",
     "output_type": "stream",
     "text": [
      "WARNING:tensorflow:Value in checkpoint could not be found in the restored object: (root).keras_api.metrics.0.total\n"
     ]
    },
    {
     "name": "stderr",
     "output_type": "stream",
     "text": [
      "WARNING:tensorflow:Value in checkpoint could not be found in the restored object: (root).keras_api.metrics.0.total\n"
     ]
    },
    {
     "name": "stdout",
     "output_type": "stream",
     "text": [
      "WARNING:tensorflow:Value in checkpoint could not be found in the restored object: (root).keras_api.metrics.0.count\n"
     ]
    },
    {
     "name": "stderr",
     "output_type": "stream",
     "text": [
      "WARNING:tensorflow:Value in checkpoint could not be found in the restored object: (root).keras_api.metrics.0.count\n"
     ]
    },
    {
     "name": "stdout",
     "output_type": "stream",
     "text": [
      "WARNING:tensorflow:Value in checkpoint could not be found in the restored object: (root).keras_api.metrics.1.total\n"
     ]
    },
    {
     "name": "stderr",
     "output_type": "stream",
     "text": [
      "WARNING:tensorflow:Value in checkpoint could not be found in the restored object: (root).keras_api.metrics.1.total\n"
     ]
    },
    {
     "name": "stdout",
     "output_type": "stream",
     "text": [
      "WARNING:tensorflow:Value in checkpoint could not be found in the restored object: (root).keras_api.metrics.1.count\n"
     ]
    },
    {
     "name": "stderr",
     "output_type": "stream",
     "text": [
      "WARNING:tensorflow:Value in checkpoint could not be found in the restored object: (root).keras_api.metrics.1.count\n"
     ]
    },
    {
     "name": "stdout",
     "output_type": "stream",
     "text": [
      "WARNING:tensorflow:Value in checkpoint could not be found in the restored object: (root).keras_api.metrics.2.true_positives\n"
     ]
    },
    {
     "name": "stderr",
     "output_type": "stream",
     "text": [
      "WARNING:tensorflow:Value in checkpoint could not be found in the restored object: (root).keras_api.metrics.2.true_positives\n"
     ]
    },
    {
     "name": "stdout",
     "output_type": "stream",
     "text": [
      "WARNING:tensorflow:Value in checkpoint could not be found in the restored object: (root).keras_api.metrics.2.false_positives\n"
     ]
    },
    {
     "name": "stderr",
     "output_type": "stream",
     "text": [
      "WARNING:tensorflow:Value in checkpoint could not be found in the restored object: (root).keras_api.metrics.2.false_positives\n"
     ]
    },
    {
     "name": "stdout",
     "output_type": "stream",
     "text": [
      "WARNING:tensorflow:Value in checkpoint could not be found in the restored object: (root).keras_api.metrics.3.true_positives\n"
     ]
    },
    {
     "name": "stderr",
     "output_type": "stream",
     "text": [
      "WARNING:tensorflow:Value in checkpoint could not be found in the restored object: (root).keras_api.metrics.3.true_positives\n"
     ]
    },
    {
     "name": "stdout",
     "output_type": "stream",
     "text": [
      "WARNING:tensorflow:Value in checkpoint could not be found in the restored object: (root).keras_api.metrics.3.false_negatives\n"
     ]
    },
    {
     "name": "stderr",
     "output_type": "stream",
     "text": [
      "WARNING:tensorflow:Value in checkpoint could not be found in the restored object: (root).keras_api.metrics.3.false_negatives\n"
     ]
    },
    {
     "name": "stdout",
     "output_type": "stream",
     "text": [
      "WARNING:tensorflow:Detecting that an object or model or tf.train.Checkpoint is being deleted with unrestored values. See the following logs for the specific values in question. To silence these warnings, use `status.expect_partial()`. See https://www.tensorflow.org/api_docs/python/tf/train/Checkpoint#restorefor details about the status object returned by the restore function.\n"
     ]
    },
    {
     "name": "stderr",
     "output_type": "stream",
     "text": [
      "WARNING:tensorflow:Detecting that an object or model or tf.train.Checkpoint is being deleted with unrestored values. See the following logs for the specific values in question. To silence these warnings, use `status.expect_partial()`. See https://www.tensorflow.org/api_docs/python/tf/train/Checkpoint#restorefor details about the status object returned by the restore function.\n"
     ]
    },
    {
     "name": "stdout",
     "output_type": "stream",
     "text": [
      "WARNING:tensorflow:Value in checkpoint could not be found in the restored object: (root).keras_api.metrics.0.total\n"
     ]
    },
    {
     "name": "stderr",
     "output_type": "stream",
     "text": [
      "WARNING:tensorflow:Value in checkpoint could not be found in the restored object: (root).keras_api.metrics.0.total\n"
     ]
    },
    {
     "name": "stdout",
     "output_type": "stream",
     "text": [
      "WARNING:tensorflow:Value in checkpoint could not be found in the restored object: (root).keras_api.metrics.0.count\n"
     ]
    },
    {
     "name": "stderr",
     "output_type": "stream",
     "text": [
      "WARNING:tensorflow:Value in checkpoint could not be found in the restored object: (root).keras_api.metrics.0.count\n"
     ]
    },
    {
     "name": "stdout",
     "output_type": "stream",
     "text": [
      "WARNING:tensorflow:Value in checkpoint could not be found in the restored object: (root).keras_api.metrics.1.total\n"
     ]
    },
    {
     "name": "stderr",
     "output_type": "stream",
     "text": [
      "WARNING:tensorflow:Value in checkpoint could not be found in the restored object: (root).keras_api.metrics.1.total\n"
     ]
    },
    {
     "name": "stdout",
     "output_type": "stream",
     "text": [
      "WARNING:tensorflow:Value in checkpoint could not be found in the restored object: (root).keras_api.metrics.1.count\n"
     ]
    },
    {
     "name": "stderr",
     "output_type": "stream",
     "text": [
      "WARNING:tensorflow:Value in checkpoint could not be found in the restored object: (root).keras_api.metrics.1.count\n"
     ]
    },
    {
     "name": "stdout",
     "output_type": "stream",
     "text": [
      "WARNING:tensorflow:Value in checkpoint could not be found in the restored object: (root).keras_api.metrics.2.true_positives\n"
     ]
    },
    {
     "name": "stderr",
     "output_type": "stream",
     "text": [
      "WARNING:tensorflow:Value in checkpoint could not be found in the restored object: (root).keras_api.metrics.2.true_positives\n"
     ]
    },
    {
     "name": "stdout",
     "output_type": "stream",
     "text": [
      "WARNING:tensorflow:Value in checkpoint could not be found in the restored object: (root).keras_api.metrics.2.false_positives\n"
     ]
    },
    {
     "name": "stderr",
     "output_type": "stream",
     "text": [
      "WARNING:tensorflow:Value in checkpoint could not be found in the restored object: (root).keras_api.metrics.2.false_positives\n"
     ]
    },
    {
     "name": "stdout",
     "output_type": "stream",
     "text": [
      "WARNING:tensorflow:Value in checkpoint could not be found in the restored object: (root).keras_api.metrics.3.true_positives\n"
     ]
    },
    {
     "name": "stderr",
     "output_type": "stream",
     "text": [
      "WARNING:tensorflow:Value in checkpoint could not be found in the restored object: (root).keras_api.metrics.3.true_positives\n"
     ]
    },
    {
     "name": "stdout",
     "output_type": "stream",
     "text": [
      "WARNING:tensorflow:Value in checkpoint could not be found in the restored object: (root).keras_api.metrics.3.false_negatives\n"
     ]
    },
    {
     "name": "stderr",
     "output_type": "stream",
     "text": [
      "WARNING:tensorflow:Value in checkpoint could not be found in the restored object: (root).keras_api.metrics.3.false_negatives\n"
     ]
    },
    {
     "name": "stdout",
     "output_type": "stream",
     "text": [
      "WARNING:tensorflow:Detecting that an object or model or tf.train.Checkpoint is being deleted with unrestored values. See the following logs for the specific values in question. To silence these warnings, use `status.expect_partial()`. See https://www.tensorflow.org/api_docs/python/tf/train/Checkpoint#restorefor details about the status object returned by the restore function.\n"
     ]
    },
    {
     "name": "stderr",
     "output_type": "stream",
     "text": [
      "WARNING:tensorflow:Detecting that an object or model or tf.train.Checkpoint is being deleted with unrestored values. See the following logs for the specific values in question. To silence these warnings, use `status.expect_partial()`. See https://www.tensorflow.org/api_docs/python/tf/train/Checkpoint#restorefor details about the status object returned by the restore function.\n"
     ]
    },
    {
     "name": "stdout",
     "output_type": "stream",
     "text": [
      "WARNING:tensorflow:Value in checkpoint could not be found in the restored object: (root).keras_api.metrics.0.total\n"
     ]
    },
    {
     "name": "stderr",
     "output_type": "stream",
     "text": [
      "WARNING:tensorflow:Value in checkpoint could not be found in the restored object: (root).keras_api.metrics.0.total\n"
     ]
    },
    {
     "name": "stdout",
     "output_type": "stream",
     "text": [
      "WARNING:tensorflow:Value in checkpoint could not be found in the restored object: (root).keras_api.metrics.0.count\n"
     ]
    },
    {
     "name": "stderr",
     "output_type": "stream",
     "text": [
      "WARNING:tensorflow:Value in checkpoint could not be found in the restored object: (root).keras_api.metrics.0.count\n"
     ]
    },
    {
     "name": "stdout",
     "output_type": "stream",
     "text": [
      "WARNING:tensorflow:Value in checkpoint could not be found in the restored object: (root).keras_api.metrics.1.total\n"
     ]
    },
    {
     "name": "stderr",
     "output_type": "stream",
     "text": [
      "WARNING:tensorflow:Value in checkpoint could not be found in the restored object: (root).keras_api.metrics.1.total\n"
     ]
    },
    {
     "name": "stdout",
     "output_type": "stream",
     "text": [
      "WARNING:tensorflow:Value in checkpoint could not be found in the restored object: (root).keras_api.metrics.1.count\n"
     ]
    },
    {
     "name": "stderr",
     "output_type": "stream",
     "text": [
      "WARNING:tensorflow:Value in checkpoint could not be found in the restored object: (root).keras_api.metrics.1.count\n"
     ]
    },
    {
     "name": "stdout",
     "output_type": "stream",
     "text": [
      "WARNING:tensorflow:Value in checkpoint could not be found in the restored object: (root).keras_api.metrics.2.true_positives\n"
     ]
    },
    {
     "name": "stderr",
     "output_type": "stream",
     "text": [
      "WARNING:tensorflow:Value in checkpoint could not be found in the restored object: (root).keras_api.metrics.2.true_positives\n"
     ]
    },
    {
     "name": "stdout",
     "output_type": "stream",
     "text": [
      "WARNING:tensorflow:Value in checkpoint could not be found in the restored object: (root).keras_api.metrics.2.false_positives\n"
     ]
    },
    {
     "name": "stderr",
     "output_type": "stream",
     "text": [
      "WARNING:tensorflow:Value in checkpoint could not be found in the restored object: (root).keras_api.metrics.2.false_positives\n"
     ]
    },
    {
     "name": "stdout",
     "output_type": "stream",
     "text": [
      "WARNING:tensorflow:Value in checkpoint could not be found in the restored object: (root).keras_api.metrics.3.true_positives\n"
     ]
    },
    {
     "name": "stderr",
     "output_type": "stream",
     "text": [
      "WARNING:tensorflow:Value in checkpoint could not be found in the restored object: (root).keras_api.metrics.3.true_positives\n"
     ]
    },
    {
     "name": "stdout",
     "output_type": "stream",
     "text": [
      "WARNING:tensorflow:Value in checkpoint could not be found in the restored object: (root).keras_api.metrics.3.false_negatives\n"
     ]
    },
    {
     "name": "stderr",
     "output_type": "stream",
     "text": [
      "WARNING:tensorflow:Value in checkpoint could not be found in the restored object: (root).keras_api.metrics.3.false_negatives\n",
      "WARNING:absl:Found untraced functions such as _update_step_xla while saving (showing 1 of 1). These functions will not be directly callable after loading.\n"
     ]
    },
    {
     "name": "stdout",
     "output_type": "stream",
     "text": [
      "INFO:tensorflow:Assets written to: C:\\Users\\jmbar\\AppData\\Local\\Temp\\tmpt43_b4mx\\assets\n"
     ]
    },
    {
     "name": "stderr",
     "output_type": "stream",
     "text": [
      "INFO:tensorflow:Assets written to: C:\\Users\\jmbar\\AppData\\Local\\Temp\\tmpt43_b4mx\\assets\n"
     ]
    },
    {
     "name": "stdout",
     "output_type": "stream",
     "text": [
      "Epoch 1/60\n",
      "64/64 [==============================] - 2s 10ms/step - loss: 0.6786 - accuracy: 0.5953 - precision: 0.0000e+00 - recall: 0.0000e+00 - val_loss: 0.6738 - val_accuracy: 0.6078 - val_precision: 0.0000e+00 - val_recall: 0.0000e+00\n",
      "Epoch 2/60\n",
      "64/64 [==============================] - 0s 4ms/step - loss: 0.6767 - accuracy: 0.5953 - precision: 0.0000e+00 - recall: 0.0000e+00 - val_loss: 0.6705 - val_accuracy: 0.6078 - val_precision: 0.0000e+00 - val_recall: 0.0000e+00\n",
      "Epoch 3/60\n",
      "64/64 [==============================] - 0s 4ms/step - loss: 0.6761 - accuracy: 0.5953 - precision: 0.0000e+00 - recall: 0.0000e+00 - val_loss: 0.6730 - val_accuracy: 0.6078 - val_precision: 0.0000e+00 - val_recall: 0.0000e+00\n",
      "Epoch 4/60\n",
      "64/64 [==============================] - 0s 4ms/step - loss: 0.6749 - accuracy: 0.5953 - precision: 0.0000e+00 - recall: 0.0000e+00 - val_loss: 0.6723 - val_accuracy: 0.6078 - val_precision: 0.0000e+00 - val_recall: 0.0000e+00\n",
      "Epoch 5/60\n",
      "64/64 [==============================] - 0s 4ms/step - loss: 0.6751 - accuracy: 0.5953 - precision: 0.0000e+00 - recall: 0.0000e+00 - val_loss: 0.6732 - val_accuracy: 0.6078 - val_precision: 0.0000e+00 - val_recall: 0.0000e+00\n",
      "Epoch 6/60\n",
      "64/64 [==============================] - 0s 4ms/step - loss: 0.6751 - accuracy: 0.5953 - precision: 0.0000e+00 - recall: 0.0000e+00 - val_loss: 0.6677 - val_accuracy: 0.6078 - val_precision: 0.0000e+00 - val_recall: 0.0000e+00\n",
      "Epoch 7/60\n",
      "64/64 [==============================] - 0s 4ms/step - loss: 0.6708 - accuracy: 0.5965 - precision: 1.0000 - recall: 0.0029 - val_loss: 0.6649 - val_accuracy: 0.6125 - val_precision: 1.0000 - val_recall: 0.0120\n",
      "Epoch 8/60\n",
      "64/64 [==============================] - 0s 4ms/step - loss: 0.6641 - accuracy: 0.6090 - precision: 0.9730 - recall: 0.0347 - val_loss: 0.6589 - val_accuracy: 0.6156 - val_precision: 1.0000 - val_recall: 0.0199\n",
      "Epoch 9/60\n",
      "64/64 [==============================] - 0s 4ms/step - loss: 0.6500 - accuracy: 0.6363 - precision: 0.7838 - recall: 0.1400 - val_loss: 0.6312 - val_accuracy: 0.6516 - val_precision: 0.9118 - val_recall: 0.1235\n",
      "Epoch 10/60\n",
      "64/64 [==============================] - 0s 4ms/step - loss: 0.6004 - accuracy: 0.6844 - precision: 0.9351 - recall: 0.2365 - val_loss: 0.5793 - val_accuracy: 0.7234 - val_precision: 0.8700 - val_recall: 0.3466\n",
      "Epoch 11/60\n",
      "64/64 [==============================] - 0s 4ms/step - loss: 0.5340 - accuracy: 0.7535 - precision: 0.9091 - recall: 0.4344 - val_loss: 0.5587 - val_accuracy: 0.8125 - val_precision: 0.7937 - val_recall: 0.7052\n",
      "Epoch 12/60\n",
      "64/64 [==============================] - 0s 4ms/step - loss: 0.4943 - accuracy: 0.7836 - precision: 0.8766 - recall: 0.5415 - val_loss: 0.5057 - val_accuracy: 0.7844 - val_precision: 0.8122 - val_recall: 0.5857\n",
      "Epoch 13/60\n",
      "64/64 [==============================] - 0s 4ms/step - loss: 0.4553 - accuracy: 0.8008 - precision: 0.8683 - recall: 0.5985 - val_loss: 0.4860 - val_accuracy: 0.7797 - val_precision: 0.8354 - val_recall: 0.5458\n",
      "Epoch 14/60\n",
      "64/64 [==============================] - 0s 4ms/step - loss: 0.4621 - accuracy: 0.7988 - precision: 0.8497 - recall: 0.6110 - val_loss: 0.4866 - val_accuracy: 0.7953 - val_precision: 0.7941 - val_recall: 0.6454\n",
      "Epoch 15/60\n",
      "64/64 [==============================] - 0s 4ms/step - loss: 0.4331 - accuracy: 0.8070 - precision: 0.8519 - recall: 0.6332 - val_loss: 0.5347 - val_accuracy: 0.7516 - val_precision: 0.8433 - val_recall: 0.4502\n",
      "Epoch 16/60\n",
      "64/64 [==============================] - 0s 4ms/step - loss: 0.4469 - accuracy: 0.8086 - precision: 0.8473 - recall: 0.6429 - val_loss: 0.4695 - val_accuracy: 0.7875 - val_precision: 0.8286 - val_recall: 0.5777\n",
      "Epoch 17/60\n",
      "64/64 [==============================] - 0s 4ms/step - loss: 0.4356 - accuracy: 0.8141 - precision: 0.8382 - recall: 0.6699 - val_loss: 0.4948 - val_accuracy: 0.7766 - val_precision: 0.8418 - val_recall: 0.5299\n",
      "Epoch 18/60\n",
      "64/64 [==============================] - 0s 4ms/step - loss: 0.4323 - accuracy: 0.8105 - precision: 0.8414 - recall: 0.6554 - val_loss: 0.5312 - val_accuracy: 0.7656 - val_precision: 0.8483 - val_recall: 0.4900\n",
      "Epoch 19/60\n",
      "64/64 [==============================] - 0s 4ms/step - loss: 0.4196 - accuracy: 0.8184 - precision: 0.8494 - recall: 0.6699 - val_loss: 0.4789 - val_accuracy: 0.8141 - val_precision: 0.7598 - val_recall: 0.7689\n",
      "Epoch 20/60\n",
      "64/64 [==============================] - 0s 4ms/step - loss: 0.4148 - accuracy: 0.8211 - precision: 0.8329 - recall: 0.6979 - val_loss: 0.4920 - val_accuracy: 0.7781 - val_precision: 0.8344 - val_recall: 0.5418\n",
      "Epoch 21/60\n",
      "64/64 [==============================] - 0s 4ms/step - loss: 0.4247 - accuracy: 0.8180 - precision: 0.8345 - recall: 0.6863 - val_loss: 0.4457 - val_accuracy: 0.7906 - val_precision: 0.7940 - val_recall: 0.6295\n",
      "Epoch 22/60\n",
      "64/64 [==============================] - 0s 4ms/step - loss: 0.4045 - accuracy: 0.8254 - precision: 0.8405 - recall: 0.7017 - val_loss: 0.4493 - val_accuracy: 0.7844 - val_precision: 0.7958 - val_recall: 0.6056\n",
      "Epoch 23/60\n",
      "64/64 [==============================] - 0s 4ms/step - loss: 0.4124 - accuracy: 0.8223 - precision: 0.8320 - recall: 0.7027 - val_loss: 0.4597 - val_accuracy: 0.7828 - val_precision: 0.8043 - val_recall: 0.5896\n",
      "Epoch 24/60\n",
      "64/64 [==============================] - 0s 4ms/step - loss: 0.4194 - accuracy: 0.8109 - precision: 0.8247 - recall: 0.6766 - val_loss: 0.4412 - val_accuracy: 0.8156 - val_precision: 0.7930 - val_recall: 0.7171\n",
      "Epoch 25/60\n",
      "64/64 [==============================] - 0s 4ms/step - loss: 0.4014 - accuracy: 0.8199 - precision: 0.8263 - recall: 0.7027 - val_loss: 0.4535 - val_accuracy: 0.7859 - val_precision: 0.8032 - val_recall: 0.6016\n",
      "Epoch 26/60\n",
      "64/64 [==============================] - 0s 4ms/step - loss: 0.3971 - accuracy: 0.8309 - precision: 0.8361 - recall: 0.7239 - val_loss: 0.4614 - val_accuracy: 0.8141 - val_precision: 0.7519 - val_recall: 0.7849\n",
      "Epoch 27/60\n",
      "64/64 [==============================] - 0s 4ms/step - loss: 0.3993 - accuracy: 0.8238 - precision: 0.8246 - recall: 0.7172 - val_loss: 0.4373 - val_accuracy: 0.7906 - val_precision: 0.7940 - val_recall: 0.6295\n",
      "Epoch 28/60\n",
      "64/64 [==============================] - 0s 4ms/step - loss: 0.3911 - accuracy: 0.8313 - precision: 0.8275 - recall: 0.7365 - val_loss: 0.4385 - val_accuracy: 0.7906 - val_precision: 0.7940 - val_recall: 0.6295\n",
      "Epoch 29/60\n",
      "64/64 [==============================] - 0s 4ms/step - loss: 0.4056 - accuracy: 0.8238 - precision: 0.8197 - recall: 0.7239 - val_loss: 0.4289 - val_accuracy: 0.8203 - val_precision: 0.7957 - val_recall: 0.7291\n",
      "Epoch 30/60\n",
      "64/64 [==============================] - 0s 4ms/step - loss: 0.3930 - accuracy: 0.8309 - precision: 0.8232 - recall: 0.7413 - val_loss: 0.4316 - val_accuracy: 0.7969 - val_precision: 0.7923 - val_recall: 0.6534\n",
      "Epoch 31/60\n",
      "64/64 [==============================] - 0s 4ms/step - loss: 0.3930 - accuracy: 0.8277 - precision: 0.8223 - recall: 0.7326 - val_loss: 0.4289 - val_accuracy: 0.8172 - val_precision: 0.7746 - val_recall: 0.7530\n",
      "Epoch 32/60\n",
      "64/64 [==============================] - 0s 4ms/step - loss: 0.4145 - accuracy: 0.8238 - precision: 0.8155 - recall: 0.7297 - val_loss: 0.4613 - val_accuracy: 0.8094 - val_precision: 0.7329 - val_recall: 0.8088\n",
      "Epoch 33/60\n",
      "64/64 [==============================] - 0s 4ms/step - loss: 0.3972 - accuracy: 0.8301 - precision: 0.8235 - recall: 0.7384 - val_loss: 0.4226 - val_accuracy: 0.8156 - val_precision: 0.7930 - val_recall: 0.7171\n",
      "Epoch 34/60\n",
      "64/64 [==============================] - 0s 4ms/step - loss: 0.3939 - accuracy: 0.8313 - precision: 0.8220 - recall: 0.7442 - val_loss: 0.4319 - val_accuracy: 0.8109 - val_precision: 0.7539 - val_recall: 0.7689\n",
      "Epoch 35/60\n",
      "64/64 [==============================] - 0s 4ms/step - loss: 0.3950 - accuracy: 0.8270 - precision: 0.8158 - recall: 0.7394 - val_loss: 0.4241 - val_accuracy: 0.8078 - val_precision: 0.7936 - val_recall: 0.6892\n",
      "Epoch 36/60\n",
      "64/64 [==============================] - 0s 4ms/step - loss: 0.3928 - accuracy: 0.8340 - precision: 0.8212 - recall: 0.7539 - val_loss: 0.4191 - val_accuracy: 0.8156 - val_precision: 0.7930 - val_recall: 0.7171\n",
      "Epoch 37/60\n"
     ]
    },
    {
     "name": "stdout",
     "output_type": "stream",
     "text": [
      "64/64 [==============================] - 0s 4ms/step - loss: 0.3898 - accuracy: 0.8340 - precision: 0.8199 - recall: 0.7558 - val_loss: 0.4335 - val_accuracy: 0.8141 - val_precision: 0.7519 - val_recall: 0.7849\n",
      "Epoch 38/60\n",
      "64/64 [==============================] - 0s 4ms/step - loss: 0.3856 - accuracy: 0.8324 - precision: 0.8139 - recall: 0.7597 - val_loss: 0.4173 - val_accuracy: 0.8203 - val_precision: 0.7957 - val_recall: 0.7291\n",
      "Epoch 39/60\n",
      "64/64 [==============================] - 0s 4ms/step - loss: 0.3787 - accuracy: 0.8379 - precision: 0.8231 - recall: 0.7635 - val_loss: 0.4161 - val_accuracy: 0.8203 - val_precision: 0.7810 - val_recall: 0.7530\n",
      "Epoch 40/60\n",
      "64/64 [==============================] - 0s 4ms/step - loss: 0.3866 - accuracy: 0.8336 - precision: 0.8184 - recall: 0.7568 - val_loss: 0.4183 - val_accuracy: 0.8156 - val_precision: 0.7628 - val_recall: 0.7689\n",
      "Epoch 41/60\n",
      "64/64 [==============================] - 0s 4ms/step - loss: 0.3800 - accuracy: 0.8344 - precision: 0.8155 - recall: 0.7635 - val_loss: 0.4487 - val_accuracy: 0.8125 - val_precision: 0.7331 - val_recall: 0.8207\n",
      "Epoch 42/60\n",
      "64/64 [==============================] - 0s 4ms/step - loss: 0.3891 - accuracy: 0.8336 - precision: 0.8112 - recall: 0.7674 - val_loss: 0.4133 - val_accuracy: 0.8188 - val_precision: 0.7778 - val_recall: 0.7530\n",
      "Epoch 43/60\n",
      "64/64 [==============================] - 0s 4ms/step - loss: 0.3845 - accuracy: 0.8305 - precision: 0.8065 - recall: 0.7645 - val_loss: 0.4129 - val_accuracy: 0.8172 - val_precision: 0.7659 - val_recall: 0.7689\n",
      "Epoch 44/60\n",
      "64/64 [==============================] - 0s 4ms/step - loss: 0.3752 - accuracy: 0.8348 - precision: 0.8105 - recall: 0.7722 - val_loss: 0.4124 - val_accuracy: 0.8219 - val_precision: 0.7842 - val_recall: 0.7530\n",
      "Epoch 45/60\n",
      "64/64 [==============================] - 0s 4ms/step - loss: 0.3717 - accuracy: 0.8367 - precision: 0.8147 - recall: 0.7722 - val_loss: 0.4175 - val_accuracy: 0.8141 - val_precision: 0.7519 - val_recall: 0.7849\n",
      "Epoch 46/60\n",
      "64/64 [==============================] - 0s 4ms/step - loss: 0.3726 - accuracy: 0.8375 - precision: 0.8119 - recall: 0.7790 - val_loss: 0.4147 - val_accuracy: 0.8203 - val_precision: 0.7957 - val_recall: 0.7291\n",
      "Epoch 47/60\n",
      "64/64 [==============================] - 0s 4ms/step - loss: 0.3755 - accuracy: 0.8367 - precision: 0.8102 - recall: 0.7790 - val_loss: 0.4088 - val_accuracy: 0.8141 - val_precision: 0.7640 - val_recall: 0.7610\n",
      "Epoch 48/60\n",
      "64/64 [==============================] - 0s 4ms/step - loss: 0.3746 - accuracy: 0.8371 - precision: 0.8136 - recall: 0.7751 - val_loss: 0.4192 - val_accuracy: 0.8141 - val_precision: 0.7920 - val_recall: 0.7131\n",
      "Epoch 49/60\n",
      "64/64 [==============================] - 0s 4ms/step - loss: 0.3827 - accuracy: 0.8367 - precision: 0.8090 - recall: 0.7809 - val_loss: 0.4071 - val_accuracy: 0.8172 - val_precision: 0.7659 - val_recall: 0.7689\n",
      "Epoch 50/60\n",
      "64/64 [==============================] - 0s 4ms/step - loss: 0.3790 - accuracy: 0.8379 - precision: 0.8102 - recall: 0.7828 - val_loss: 0.4304 - val_accuracy: 0.8078 - val_precision: 0.7936 - val_recall: 0.6892\n",
      "Epoch 51/60\n",
      "64/64 [==============================] - 0s 4ms/step - loss: 0.3788 - accuracy: 0.8383 - precision: 0.8073 - recall: 0.7886 - val_loss: 0.4056 - val_accuracy: 0.8156 - val_precision: 0.7628 - val_recall: 0.7689\n",
      "Epoch 52/60\n",
      "64/64 [==============================] - 0s 4ms/step - loss: 0.3734 - accuracy: 0.8402 - precision: 0.8101 - recall: 0.7905 - val_loss: 0.4071 - val_accuracy: 0.8219 - val_precision: 0.7819 - val_recall: 0.7570\n",
      "Epoch 53/60\n",
      "64/64 [==============================] - 0s 4ms/step - loss: 0.3710 - accuracy: 0.8359 - precision: 0.8050 - recall: 0.7847 - val_loss: 0.4061 - val_accuracy: 0.8188 - val_precision: 0.7733 - val_recall: 0.7610\n",
      "Epoch 54/60\n",
      "64/64 [==============================] - 0s 4ms/step - loss: 0.3710 - accuracy: 0.8355 - precision: 0.8048 - recall: 0.7838 - val_loss: 0.4045 - val_accuracy: 0.8125 - val_precision: 0.7549 - val_recall: 0.7729\n",
      "Epoch 55/60\n",
      "64/64 [==============================] - 0s 4ms/step - loss: 0.3710 - accuracy: 0.8391 - precision: 0.8041 - recall: 0.7963 - val_loss: 0.4355 - val_accuracy: 0.8109 - val_precision: 0.7273 - val_recall: 0.8287\n",
      "Epoch 56/60\n",
      "64/64 [==============================] - 0s 4ms/step - loss: 0.3826 - accuracy: 0.8391 - precision: 0.8047 - recall: 0.7954 - val_loss: 0.4072 - val_accuracy: 0.8141 - val_precision: 0.7519 - val_recall: 0.7849\n",
      "Epoch 57/60\n",
      "64/64 [==============================] - 0s 4ms/step - loss: 0.3677 - accuracy: 0.8383 - precision: 0.8019 - recall: 0.7973 - val_loss: 0.4036 - val_accuracy: 0.8156 - val_precision: 0.7628 - val_recall: 0.7689\n",
      "Epoch 58/60\n",
      "64/64 [==============================] - 0s 4ms/step - loss: 0.3708 - accuracy: 0.8398 - precision: 0.8021 - recall: 0.8021 - val_loss: 0.4021 - val_accuracy: 0.8141 - val_precision: 0.7538 - val_recall: 0.7809\n",
      "Epoch 59/60\n",
      "64/64 [==============================] - 0s 4ms/step - loss: 0.3785 - accuracy: 0.8410 - precision: 0.8045 - recall: 0.8021 - val_loss: 0.4103 - val_accuracy: 0.8203 - val_precision: 0.7881 - val_recall: 0.7410\n",
      "Epoch 60/60\n",
      "64/64 [==============================] - 0s 4ms/step - loss: 0.3690 - accuracy: 0.8367 - precision: 0.8012 - recall: 0.7934 - val_loss: 0.4006 - val_accuracy: 0.8109 - val_precision: 0.7539 - val_recall: 0.7689\n",
      "20/20 [==============================] - 0s 2ms/step\n"
     ]
    },
    {
     "name": "stderr",
     "output_type": "stream",
     "text": [
      "WARNING:absl:Found untraced functions such as _update_step_xla while saving (showing 1 of 1). These functions will not be directly callable after loading.\n"
     ]
    },
    {
     "name": "stdout",
     "output_type": "stream",
     "text": [
      "INFO:tensorflow:Assets written to: C:\\Users\\jmbar\\AppData\\Local\\Temp\\tmpvqi8gfky\\assets\n"
     ]
    },
    {
     "name": "stderr",
     "output_type": "stream",
     "text": [
      "INFO:tensorflow:Assets written to: C:\\Users\\jmbar\\AppData\\Local\\Temp\\tmpvqi8gfky\\assets\n"
     ]
    },
    {
     "name": "stdout",
     "output_type": "stream",
     "text": [
      "Epoch 1/60\n",
      "64/64 [==============================] - 2s 10ms/step - loss: 0.6743 - accuracy: 0.5984 - precision: 0.0000e+00 - recall: 0.0000e+00 - val_loss: 0.6803 - val_accuracy: 0.5844 - val_precision: 0.0000e+00 - val_recall: 0.0000e+00\n",
      "Epoch 2/60\n",
      "64/64 [==============================] - 0s 4ms/step - loss: 0.6742 - accuracy: 0.5984 - precision: 0.0000e+00 - recall: 0.0000e+00 - val_loss: 0.6862 - val_accuracy: 0.5844 - val_precision: 0.0000e+00 - val_recall: 0.0000e+00\n",
      "Epoch 3/60\n",
      "64/64 [==============================] - 0s 4ms/step - loss: 0.6753 - accuracy: 0.5984 - precision: 0.0000e+00 - recall: 0.0000e+00 - val_loss: 0.6786 - val_accuracy: 0.5844 - val_precision: 0.0000e+00 - val_recall: 0.0000e+00\n",
      "Epoch 4/60\n",
      "64/64 [==============================] - 0s 4ms/step - loss: 0.6763 - accuracy: 0.5984 - precision: 0.0000e+00 - recall: 0.0000e+00 - val_loss: 0.6814 - val_accuracy: 0.5844 - val_precision: 0.0000e+00 - val_recall: 0.0000e+00\n",
      "Epoch 5/60\n",
      "64/64 [==============================] - 0s 4ms/step - loss: 0.6730 - accuracy: 0.5984 - precision: 0.0000e+00 - recall: 0.0000e+00 - val_loss: 0.6821 - val_accuracy: 0.5844 - val_precision: 0.0000e+00 - val_recall: 0.0000e+00\n",
      "Epoch 6/60\n",
      "64/64 [==============================] - 0s 4ms/step - loss: 0.6737 - accuracy: 0.5988 - precision: 1.0000 - recall: 9.7276e-04 - val_loss: 0.6763 - val_accuracy: 0.5859 - val_precision: 1.0000 - val_recall: 0.0038\n",
      "Epoch 7/60\n",
      "64/64 [==============================] - 0s 4ms/step - loss: 0.6702 - accuracy: 0.6023 - precision: 1.0000 - recall: 0.0097 - val_loss: 0.6751 - val_accuracy: 0.5859 - val_precision: 1.0000 - val_recall: 0.0038\n",
      "Epoch 8/60\n",
      "64/64 [==============================] - 0s 5ms/step - loss: 0.6622 - accuracy: 0.6129 - precision: 0.9744 - recall: 0.0370 - val_loss: 0.6638 - val_accuracy: 0.5969 - val_precision: 0.9000 - val_recall: 0.0338\n",
      "Epoch 9/60\n",
      "64/64 [==============================] - 0s 4ms/step - loss: 0.6445 - accuracy: 0.6352 - precision: 0.6588 - recall: 0.1897 - val_loss: 0.6354 - val_accuracy: 0.6344 - val_precision: 0.9211 - val_recall: 0.1316\n",
      "Epoch 10/60\n",
      "64/64 [==============================] - 0s 4ms/step - loss: 0.6009 - accuracy: 0.6891 - precision: 0.9056 - recall: 0.2519 - val_loss: 0.5995 - val_accuracy: 0.7812 - val_precision: 0.8281 - val_recall: 0.5977\n",
      "Epoch 11/60\n",
      "64/64 [==============================] - 0s 4ms/step - loss: 0.5383 - accuracy: 0.7496 - precision: 0.8802 - recall: 0.4358 - val_loss: 0.5441 - val_accuracy: 0.7109 - val_precision: 0.8716 - val_recall: 0.3571\n",
      "Epoch 12/60\n",
      "64/64 [==============================] - 0s 4ms/step - loss: 0.5050 - accuracy: 0.7691 - precision: 0.8636 - recall: 0.5049 - val_loss: 0.5251 - val_accuracy: 0.8172 - val_precision: 0.8170 - val_recall: 0.7218\n",
      "Epoch 13/60\n",
      "64/64 [==============================] - 0s 4ms/step - loss: 0.4883 - accuracy: 0.7867 - precision: 0.8503 - recall: 0.5691 - val_loss: 0.4887 - val_accuracy: 0.7734 - val_precision: 0.8457 - val_recall: 0.5564\n",
      "Epoch 14/60\n",
      "64/64 [==============================] - 0s 4ms/step - loss: 0.4599 - accuracy: 0.8031 - precision: 0.8690 - recall: 0.6002 - val_loss: 0.5008 - val_accuracy: 0.7609 - val_precision: 0.8645 - val_recall: 0.5038\n",
      "Epoch 15/60\n",
      "64/64 [==============================] - 0s 4ms/step - loss: 0.4622 - accuracy: 0.8086 - precision: 0.8466 - recall: 0.6391 - val_loss: 0.6801 - val_accuracy: 0.7109 - val_precision: 0.8785 - val_recall: 0.3534\n",
      "Epoch 16/60\n",
      "64/64 [==============================] - 0s 6ms/step - loss: 0.4575 - accuracy: 0.8039 - precision: 0.8389 - recall: 0.6333 - val_loss: 0.4657 - val_accuracy: 0.7828 - val_precision: 0.8396 - val_recall: 0.5902\n",
      "Epoch 17/60\n",
      "64/64 [==============================] - 0s 5ms/step - loss: 0.4375 - accuracy: 0.8098 - precision: 0.8490 - recall: 0.6401 - val_loss: 0.5040 - val_accuracy: 0.8203 - val_precision: 0.7668 - val_recall: 0.8158\n",
      "Epoch 18/60\n",
      "64/64 [==============================] - 0s 6ms/step - loss: 0.4239 - accuracy: 0.8141 - precision: 0.8399 - recall: 0.6634 - val_loss: 0.4514 - val_accuracy: 0.7984 - val_precision: 0.8186 - val_recall: 0.6617\n",
      "Epoch 19/60\n",
      "64/64 [==============================] - 0s 5ms/step - loss: 0.4301 - accuracy: 0.8160 - precision: 0.8312 - recall: 0.6800 - val_loss: 0.4573 - val_accuracy: 0.7812 - val_precision: 0.8247 - val_recall: 0.6015\n",
      "Epoch 20/60\n",
      "64/64 [==============================] - 0s 5ms/step - loss: 0.4300 - accuracy: 0.8164 - precision: 0.8402 - recall: 0.6702 - val_loss: 0.4662 - val_accuracy: 0.7828 - val_precision: 0.8396 - val_recall: 0.5902\n",
      "Epoch 21/60\n",
      "64/64 [==============================] - 0s 5ms/step - loss: 0.4191 - accuracy: 0.8152 - precision: 0.8308 - recall: 0.6780 - val_loss: 0.4439 - val_accuracy: 0.8188 - val_precision: 0.8151 - val_recall: 0.7293\n",
      "Epoch 22/60\n",
      "64/64 [==============================] - 0s 5ms/step - loss: 0.4191 - accuracy: 0.8199 - precision: 0.8324 - recall: 0.6907 - val_loss: 0.4443 - val_accuracy: 0.8281 - val_precision: 0.8071 - val_recall: 0.7707\n",
      "Epoch 23/60\n",
      "64/64 [==============================] - 0s 4ms/step - loss: 0.4240 - accuracy: 0.8234 - precision: 0.8333 - recall: 0.7004 - val_loss: 0.4334 - val_accuracy: 0.8000 - val_precision: 0.8194 - val_recall: 0.6654\n",
      "Epoch 24/60\n",
      "64/64 [==============================] - 0s 4ms/step - loss: 0.4042 - accuracy: 0.8242 - precision: 0.8284 - recall: 0.7091 - val_loss: 0.4544 - val_accuracy: 0.7859 - val_precision: 0.8241 - val_recall: 0.6165\n",
      "Epoch 25/60\n",
      "64/64 [==============================] - 0s 4ms/step - loss: 0.4031 - accuracy: 0.8289 - precision: 0.8292 - recall: 0.7228 - val_loss: 0.4279 - val_accuracy: 0.8203 - val_precision: 0.8186 - val_recall: 0.7293\n",
      "Epoch 26/60\n",
      "64/64 [==============================] - 0s 4ms/step - loss: 0.4108 - accuracy: 0.8246 - precision: 0.8271 - recall: 0.7121 - val_loss: 0.4674 - val_accuracy: 0.8203 - val_precision: 0.7612 - val_recall: 0.8271\n",
      "Epoch 27/60\n",
      "64/64 [==============================] - 0s 6ms/step - loss: 0.4059 - accuracy: 0.8289 - precision: 0.8214 - recall: 0.7335 - val_loss: 0.4343 - val_accuracy: 0.8250 - val_precision: 0.7873 - val_recall: 0.7932\n",
      "Epoch 28/60\n",
      "64/64 [==============================] - 0s 4ms/step - loss: 0.4017 - accuracy: 0.8289 - precision: 0.8256 - recall: 0.7276 - val_loss: 0.4308 - val_accuracy: 0.7953 - val_precision: 0.8169 - val_recall: 0.6541\n",
      "Epoch 29/60\n",
      "64/64 [==============================] - 0s 4ms/step - loss: 0.4047 - accuracy: 0.8195 - precision: 0.8124 - recall: 0.7160 - val_loss: 0.4200 - val_accuracy: 0.8250 - val_precision: 0.8105 - val_recall: 0.7556\n",
      "Epoch 30/60\n",
      "64/64 [==============================] - 0s 4ms/step - loss: 0.3956 - accuracy: 0.8289 - precision: 0.8186 - recall: 0.7374 - val_loss: 0.4202 - val_accuracy: 0.8109 - val_precision: 0.8166 - val_recall: 0.7030\n",
      "Epoch 31/60\n",
      "64/64 [==============================] - 0s 4ms/step - loss: 0.3924 - accuracy: 0.8281 - precision: 0.8155 - recall: 0.7393 - val_loss: 0.4154 - val_accuracy: 0.8250 - val_precision: 0.8156 - val_recall: 0.7481\n",
      "Epoch 32/60\n",
      "64/64 [==============================] - 0s 4ms/step - loss: 0.4228 - accuracy: 0.8250 - precision: 0.8092 - recall: 0.7383 - val_loss: 0.4143 - val_accuracy: 0.8203 - val_precision: 0.8186 - val_recall: 0.7293\n",
      "Epoch 33/60\n",
      "64/64 [==============================] - 0s 4ms/step - loss: 0.3919 - accuracy: 0.8293 - precision: 0.8160 - recall: 0.7422 - val_loss: 0.4237 - val_accuracy: 0.8078 - val_precision: 0.8206 - val_recall: 0.6880\n",
      "Epoch 34/60\n",
      "64/64 [==============================] - 0s 5ms/step - loss: 0.3900 - accuracy: 0.8301 - precision: 0.8144 - recall: 0.7471 - val_loss: 0.4120 - val_accuracy: 0.8203 - val_precision: 0.8186 - val_recall: 0.7293\n",
      "Epoch 35/60\n",
      "64/64 [==============================] - 0s 4ms/step - loss: 0.3976 - accuracy: 0.8297 - precision: 0.8129 - recall: 0.7481 - val_loss: 0.4112 - val_accuracy: 0.8281 - val_precision: 0.7932 - val_recall: 0.7932\n",
      "Epoch 36/60\n",
      "64/64 [==============================] - 0s 4ms/step - loss: 0.3923 - accuracy: 0.8289 - precision: 0.8105 - recall: 0.7490 - val_loss: 0.4105 - val_accuracy: 0.8250 - val_precision: 0.7873 - val_recall: 0.7932\n",
      "Epoch 37/60\n"
     ]
    },
    {
     "name": "stdout",
     "output_type": "stream",
     "text": [
      "64/64 [==============================] - 0s 4ms/step - loss: 0.3987 - accuracy: 0.8305 - precision: 0.8043 - recall: 0.7636 - val_loss: 0.4290 - val_accuracy: 0.8188 - val_precision: 0.7641 - val_recall: 0.8158\n",
      "Epoch 38/60\n",
      "64/64 [==============================] - 0s 4ms/step - loss: 0.4010 - accuracy: 0.8277 - precision: 0.8067 - recall: 0.7510 - val_loss: 0.4256 - val_accuracy: 0.8031 - val_precision: 0.8182 - val_recall: 0.6767\n",
      "Epoch 39/60\n",
      "64/64 [==============================] - 0s 4ms/step - loss: 0.3921 - accuracy: 0.8324 - precision: 0.8117 - recall: 0.7588 - val_loss: 0.4338 - val_accuracy: 0.8000 - val_precision: 0.8165 - val_recall: 0.6692\n",
      "Epoch 40/60\n",
      "64/64 [==============================] - 0s 4ms/step - loss: 0.3856 - accuracy: 0.8379 - precision: 0.8150 - recall: 0.7714 - val_loss: 0.4157 - val_accuracy: 0.8141 - val_precision: 0.8182 - val_recall: 0.7105\n",
      "Epoch 41/60\n",
      "64/64 [==============================] - 0s 4ms/step - loss: 0.3849 - accuracy: 0.8324 - precision: 0.8072 - recall: 0.7656 - val_loss: 0.4222 - val_accuracy: 0.8125 - val_precision: 0.8230 - val_recall: 0.6992\n",
      "Epoch 42/60\n",
      "64/64 [==============================] - 0s 4ms/step - loss: 0.3870 - accuracy: 0.8359 - precision: 0.8115 - recall: 0.7704 - val_loss: 0.4021 - val_accuracy: 0.8281 - val_precision: 0.7932 - val_recall: 0.7932\n",
      "Epoch 43/60\n",
      "64/64 [==============================] - 0s 4ms/step - loss: 0.3797 - accuracy: 0.8332 - precision: 0.8076 - recall: 0.7675 - val_loss: 0.4011 - val_accuracy: 0.8281 - val_precision: 0.7932 - val_recall: 0.7932\n",
      "Epoch 44/60\n",
      "64/64 [==============================] - 0s 4ms/step - loss: 0.3803 - accuracy: 0.8328 - precision: 0.8036 - recall: 0.7724 - val_loss: 0.4356 - val_accuracy: 0.8125 - val_precision: 0.8230 - val_recall: 0.6992\n",
      "Epoch 45/60\n",
      "64/64 [==============================] - 0s 4ms/step - loss: 0.3811 - accuracy: 0.8316 - precision: 0.8043 - recall: 0.7675 - val_loss: 0.4111 - val_accuracy: 0.8188 - val_precision: 0.7641 - val_recall: 0.8158\n",
      "Epoch 46/60\n",
      "64/64 [==============================] - 0s 4ms/step - loss: 0.3886 - accuracy: 0.8336 - precision: 0.8022 - recall: 0.7772 - val_loss: 0.4074 - val_accuracy: 0.8234 - val_precision: 0.8148 - val_recall: 0.7444\n",
      "Epoch 47/60\n",
      "64/64 [==============================] - 0s 4ms/step - loss: 0.3859 - accuracy: 0.8406 - precision: 0.8131 - recall: 0.7831 - val_loss: 0.3985 - val_accuracy: 0.8297 - val_precision: 0.7962 - val_recall: 0.7932\n",
      "Epoch 48/60\n",
      "64/64 [==============================] - 0s 4ms/step - loss: 0.3739 - accuracy: 0.8387 - precision: 0.8060 - recall: 0.7879 - val_loss: 0.4018 - val_accuracy: 0.8266 - val_precision: 0.7798 - val_recall: 0.8120\n",
      "Epoch 49/60\n",
      "64/64 [==============================] - 0s 4ms/step - loss: 0.3785 - accuracy: 0.8375 - precision: 0.8085 - recall: 0.7802 - val_loss: 0.3982 - val_accuracy: 0.8266 - val_precision: 0.7839 - val_recall: 0.8045\n",
      "Epoch 50/60\n",
      "64/64 [==============================] - 0s 4ms/step - loss: 0.3735 - accuracy: 0.8410 - precision: 0.8108 - recall: 0.7879 - val_loss: 0.3971 - val_accuracy: 0.8297 - val_precision: 0.7962 - val_recall: 0.7932\n",
      "Epoch 51/60\n",
      "64/64 [==============================] - 0s 5ms/step - loss: 0.3789 - accuracy: 0.8359 - precision: 0.8028 - recall: 0.7840 - val_loss: 0.3950 - val_accuracy: 0.8250 - val_precision: 0.7873 - val_recall: 0.7932\n",
      "Epoch 52/60\n",
      "64/64 [==============================] - 0s 4ms/step - loss: 0.3926 - accuracy: 0.8355 - precision: 0.8026 - recall: 0.7831 - val_loss: 0.4536 - val_accuracy: 0.8328 - val_precision: 0.7492 - val_recall: 0.8985\n",
      "Epoch 53/60\n",
      "64/64 [==============================] - 0s 4ms/step - loss: 0.3842 - accuracy: 0.8316 - precision: 0.7941 - recall: 0.7840 - val_loss: 0.4066 - val_accuracy: 0.8188 - val_precision: 0.7622 - val_recall: 0.8195\n",
      "Epoch 54/60\n",
      "64/64 [==============================] - 0s 4ms/step - loss: 0.3700 - accuracy: 0.8383 - precision: 0.8022 - recall: 0.7928 - val_loss: 0.4074 - val_accuracy: 0.8297 - val_precision: 0.8127 - val_recall: 0.7669\n",
      "Epoch 55/60\n",
      "64/64 [==============================] - 0s 4ms/step - loss: 0.3770 - accuracy: 0.8387 - precision: 0.8006 - recall: 0.7967 - val_loss: 0.3987 - val_accuracy: 0.8188 - val_precision: 0.7641 - val_recall: 0.8158\n",
      "Epoch 56/60\n",
      "64/64 [==============================] - 0s 4ms/step - loss: 0.3810 - accuracy: 0.8344 - precision: 0.7996 - recall: 0.7840 - val_loss: 0.3943 - val_accuracy: 0.8250 - val_precision: 0.7790 - val_recall: 0.8083\n",
      "Epoch 57/60\n",
      "64/64 [==============================] - 0s 4ms/step - loss: 0.3894 - accuracy: 0.8363 - precision: 0.7965 - recall: 0.7957 - val_loss: 0.4010 - val_accuracy: 0.8188 - val_precision: 0.7641 - val_recall: 0.8158\n",
      "Epoch 58/60\n",
      "64/64 [==============================] - 0s 4ms/step - loss: 0.3735 - accuracy: 0.8363 - precision: 0.8000 - recall: 0.7899 - val_loss: 0.4259 - val_accuracy: 0.8203 - val_precision: 0.8186 - val_recall: 0.7293\n",
      "Epoch 59/60\n",
      "64/64 [==============================] - 0s 6ms/step - loss: 0.3686 - accuracy: 0.8418 - precision: 0.8051 - recall: 0.7996 - val_loss: 0.3970 - val_accuracy: 0.8188 - val_precision: 0.7641 - val_recall: 0.8158\n",
      "Epoch 60/60\n",
      "64/64 [==============================] - 0s 5ms/step - loss: 0.3719 - accuracy: 0.8422 - precision: 0.8017 - recall: 0.8064 - val_loss: 0.4046 - val_accuracy: 0.8297 - val_precision: 0.8103 - val_recall: 0.7707\n",
      "20/20 [==============================] - 0s 2ms/step\n"
     ]
    },
    {
     "name": "stderr",
     "output_type": "stream",
     "text": [
      "WARNING:absl:Found untraced functions such as _update_step_xla while saving (showing 1 of 1). These functions will not be directly callable after loading.\n"
     ]
    },
    {
     "name": "stdout",
     "output_type": "stream",
     "text": [
      "INFO:tensorflow:Assets written to: C:\\Users\\jmbar\\AppData\\Local\\Temp\\tmpa6_gnkvh\\assets\n"
     ]
    },
    {
     "name": "stderr",
     "output_type": "stream",
     "text": [
      "INFO:tensorflow:Assets written to: C:\\Users\\jmbar\\AppData\\Local\\Temp\\tmpa6_gnkvh\\assets\n"
     ]
    },
    {
     "name": "stdout",
     "output_type": "stream",
     "text": [
      "Epoch 1/60\n",
      "64/64 [==============================] - 2s 11ms/step - loss: 0.6791 - accuracy: 0.5926 - precision: 0.0000e+00 - recall: 0.0000e+00 - val_loss: 0.6792 - val_accuracy: 0.5859 - val_precision: 0.0000e+00 - val_recall: 0.0000e+00\n",
      "Epoch 2/60\n",
      "64/64 [==============================] - 0s 4ms/step - loss: 0.6782 - accuracy: 0.5926 - precision: 0.0000e+00 - recall: 0.0000e+00 - val_loss: 0.6781 - val_accuracy: 0.5859 - val_precision: 0.0000e+00 - val_recall: 0.0000e+00\n",
      "Epoch 3/60\n",
      "64/64 [==============================] - 0s 4ms/step - loss: 0.6765 - accuracy: 0.5926 - precision: 0.0000e+00 - recall: 0.0000e+00 - val_loss: 0.6800 - val_accuracy: 0.5859 - val_precision: 0.0000e+00 - val_recall: 0.0000e+00\n",
      "Epoch 4/60\n",
      "64/64 [==============================] - 0s 4ms/step - loss: 0.6763 - accuracy: 0.5926 - precision: 0.0000e+00 - recall: 0.0000e+00 - val_loss: 0.6782 - val_accuracy: 0.5859 - val_precision: 0.0000e+00 - val_recall: 0.0000e+00\n",
      "Epoch 5/60\n",
      "64/64 [==============================] - 0s 4ms/step - loss: 0.6760 - accuracy: 0.5926 - precision: 0.0000e+00 - recall: 0.0000e+00 - val_loss: 0.6775 - val_accuracy: 0.5859 - val_precision: 0.0000e+00 - val_recall: 0.0000e+00\n",
      "Epoch 6/60\n",
      "64/64 [==============================] - 0s 4ms/step - loss: 0.6746 - accuracy: 0.5945 - precision: 1.0000 - recall: 0.0048 - val_loss: 0.6759 - val_accuracy: 0.5875 - val_precision: 1.0000 - val_recall: 0.0038\n",
      "Epoch 7/60\n",
      "64/64 [==============================] - 0s 4ms/step - loss: 0.6703 - accuracy: 0.5969 - precision: 1.0000 - recall: 0.0105 - val_loss: 0.6739 - val_accuracy: 0.5875 - val_precision: 1.0000 - val_recall: 0.0038\n",
      "Epoch 8/60\n",
      "64/64 [==============================] - 0s 4ms/step - loss: 0.6664 - accuracy: 0.6195 - precision: 0.8485 - recall: 0.0805 - val_loss: 0.6616 - val_accuracy: 0.6062 - val_precision: 0.9333 - val_recall: 0.0528\n",
      "Epoch 9/60\n",
      "64/64 [==============================] - 0s 4ms/step - loss: 0.6528 - accuracy: 0.6375 - precision: 0.9259 - recall: 0.1198 - val_loss: 0.6471 - val_accuracy: 0.6172 - val_precision: 0.9545 - val_recall: 0.0792\n",
      "Epoch 10/60\n",
      "64/64 [==============================] - 0s 4ms/step - loss: 0.6165 - accuracy: 0.6703 - precision: 0.8062 - recall: 0.2512 - val_loss: 0.6400 - val_accuracy: 0.6406 - val_precision: 0.9268 - val_recall: 0.1434\n",
      "Epoch 11/60\n",
      "64/64 [==============================] - 0s 4ms/step - loss: 0.5881 - accuracy: 0.7063 - precision: 0.7650 - recall: 0.4027 - val_loss: 0.5742 - val_accuracy: 0.7875 - val_precision: 0.8377 - val_recall: 0.6038\n",
      "Epoch 12/60\n",
      "64/64 [==============================] - 0s 4ms/step - loss: 0.5256 - accuracy: 0.7559 - precision: 0.8870 - recall: 0.4593 - val_loss: 0.5161 - val_accuracy: 0.7656 - val_precision: 0.8710 - val_recall: 0.5094\n",
      "Epoch 13/60\n",
      "64/64 [==============================] - 0s 4ms/step - loss: 0.4847 - accuracy: 0.7773 - precision: 0.8556 - recall: 0.5455 - val_loss: 0.4921 - val_accuracy: 0.7688 - val_precision: 0.8503 - val_recall: 0.5358\n",
      "Epoch 14/60\n",
      "64/64 [==============================] - 0s 4ms/step - loss: 0.4625 - accuracy: 0.7980 - precision: 0.8554 - recall: 0.6069 - val_loss: 0.4776 - val_accuracy: 0.7891 - val_precision: 0.8495 - val_recall: 0.5962\n",
      "Epoch 15/60\n",
      "64/64 [==============================] - 0s 4ms/step - loss: 0.4483 - accuracy: 0.8066 - precision: 0.8522 - recall: 0.6357 - val_loss: 0.4673 - val_accuracy: 0.7875 - val_precision: 0.8274 - val_recall: 0.6151\n",
      "Epoch 16/60\n",
      "64/64 [==============================] - 0s 4ms/step - loss: 0.4541 - accuracy: 0.8062 - precision: 0.8323 - recall: 0.6568 - val_loss: 0.4615 - val_accuracy: 0.7875 - val_precision: 0.8274 - val_recall: 0.6151\n",
      "Epoch 17/60\n",
      "64/64 [==============================] - 0s 5ms/step - loss: 0.4496 - accuracy: 0.8086 - precision: 0.8376 - recall: 0.6577 - val_loss: 0.5401 - val_accuracy: 0.7563 - val_precision: 0.8759 - val_recall: 0.4792\n",
      "Epoch 18/60\n",
      "64/64 [==============================] - 0s 4ms/step - loss: 0.4372 - accuracy: 0.8125 - precision: 0.8363 - recall: 0.6711 - val_loss: 0.4561 - val_accuracy: 0.7891 - val_precision: 0.8316 - val_recall: 0.6151\n",
      "Epoch 19/60\n",
      "64/64 [==============================] - 0s 4ms/step - loss: 0.4255 - accuracy: 0.8152 - precision: 0.8322 - recall: 0.6846 - val_loss: 0.4487 - val_accuracy: 0.7875 - val_precision: 0.8209 - val_recall: 0.6226\n",
      "Epoch 20/60\n",
      "64/64 [==============================] - 0s 4ms/step - loss: 0.4144 - accuracy: 0.8160 - precision: 0.8295 - recall: 0.6903 - val_loss: 0.4437 - val_accuracy: 0.7906 - val_precision: 0.8195 - val_recall: 0.6340\n",
      "Epoch 21/60\n",
      "64/64 [==============================] - 0s 4ms/step - loss: 0.4090 - accuracy: 0.8242 - precision: 0.8328 - recall: 0.7114 - val_loss: 0.4414 - val_accuracy: 0.8156 - val_precision: 0.8101 - val_recall: 0.7245\n",
      "Epoch 22/60\n",
      "64/64 [==============================] - 0s 4ms/step - loss: 0.4133 - accuracy: 0.8172 - precision: 0.8234 - recall: 0.7018 - val_loss: 0.4822 - val_accuracy: 0.7875 - val_precision: 0.8564 - val_recall: 0.5849\n",
      "Epoch 23/60\n",
      "64/64 [==============================] - 0s 5ms/step - loss: 0.4157 - accuracy: 0.8164 - precision: 0.8180 - recall: 0.7066 - val_loss: 0.4530 - val_accuracy: 0.7891 - val_precision: 0.8316 - val_recall: 0.6151\n",
      "Epoch 24/60\n",
      "64/64 [==============================] - 0s 5ms/step - loss: 0.4093 - accuracy: 0.8184 - precision: 0.8211 - recall: 0.7085 - val_loss: 0.4587 - val_accuracy: 0.7875 - val_precision: 0.8308 - val_recall: 0.6113\n",
      "Epoch 25/60\n",
      "64/64 [==============================] - 0s 4ms/step - loss: 0.3999 - accuracy: 0.8270 - precision: 0.8282 - recall: 0.7258 - val_loss: 0.4433 - val_accuracy: 0.7906 - val_precision: 0.8227 - val_recall: 0.6302\n",
      "Epoch 26/60\n",
      "64/64 [==============================] - 0s 4ms/step - loss: 0.4037 - accuracy: 0.8250 - precision: 0.8216 - recall: 0.7287 - val_loss: 0.4247 - val_accuracy: 0.8141 - val_precision: 0.8093 - val_recall: 0.7208\n",
      "Epoch 27/60\n",
      "64/64 [==============================] - 0s 4ms/step - loss: 0.4033 - accuracy: 0.8262 - precision: 0.8188 - recall: 0.7363 - val_loss: 0.4257 - val_accuracy: 0.8172 - val_precision: 0.7960 - val_recall: 0.7509\n",
      "Epoch 28/60\n",
      "64/64 [==============================] - 0s 4ms/step - loss: 0.3951 - accuracy: 0.8277 - precision: 0.8237 - recall: 0.7344 - val_loss: 0.4206 - val_accuracy: 0.8156 - val_precision: 0.8101 - val_recall: 0.7245\n",
      "Epoch 29/60\n",
      "64/64 [==============================] - 0s 4ms/step - loss: 0.3942 - accuracy: 0.8254 - precision: 0.8177 - recall: 0.7354 - val_loss: 0.4231 - val_accuracy: 0.8156 - val_precision: 0.7838 - val_recall: 0.7660\n",
      "Epoch 30/60\n",
      "64/64 [==============================] - 0s 4ms/step - loss: 0.4024 - accuracy: 0.8270 - precision: 0.8165 - recall: 0.7421 - val_loss: 0.4233 - val_accuracy: 0.8125 - val_precision: 0.7778 - val_recall: 0.7660\n",
      "Epoch 31/60\n",
      "64/64 [==============================] - 0s 4ms/step - loss: 0.3993 - accuracy: 0.8289 - precision: 0.8181 - recall: 0.7459 - val_loss: 0.4206 - val_accuracy: 0.8141 - val_precision: 0.7808 - val_recall: 0.7660\n",
      "Epoch 32/60\n",
      "64/64 [==============================] - 0s 4ms/step - loss: 0.3879 - accuracy: 0.8289 - precision: 0.8154 - recall: 0.7498 - val_loss: 0.4211 - val_accuracy: 0.8125 - val_precision: 0.7778 - val_recall: 0.7660\n",
      "Epoch 33/60\n",
      "64/64 [==============================] - 0s 4ms/step - loss: 0.3945 - accuracy: 0.8266 - precision: 0.8110 - recall: 0.7488 - val_loss: 0.4412 - val_accuracy: 0.8188 - val_precision: 0.7633 - val_recall: 0.8151\n",
      "Epoch 34/60\n",
      "64/64 [==============================] - 0s 4ms/step - loss: 0.3873 - accuracy: 0.8277 - precision: 0.8103 - recall: 0.7536 - val_loss: 0.4170 - val_accuracy: 0.8094 - val_precision: 0.8095 - val_recall: 0.7057\n",
      "Epoch 35/60\n",
      "64/64 [==============================] - 0s 4ms/step - loss: 0.3872 - accuracy: 0.8305 - precision: 0.8104 - recall: 0.7622 - val_loss: 0.4097 - val_accuracy: 0.8156 - val_precision: 0.7838 - val_recall: 0.7660\n",
      "Epoch 36/60\n",
      "64/64 [==============================] - 0s 4ms/step - loss: 0.3968 - accuracy: 0.8391 - precision: 0.8184 - recall: 0.7776 - val_loss: 0.4594 - val_accuracy: 0.7891 - val_precision: 0.8218 - val_recall: 0.6264\n",
      "Epoch 37/60\n"
     ]
    },
    {
     "name": "stdout",
     "output_type": "stream",
     "text": [
      "64/64 [==============================] - 0s 4ms/step - loss: 0.3841 - accuracy: 0.8305 - precision: 0.8085 - recall: 0.7651 - val_loss: 0.4071 - val_accuracy: 0.8156 - val_precision: 0.7882 - val_recall: 0.7585\n",
      "Epoch 38/60\n",
      "64/64 [==============================] - 0s 4ms/step - loss: 0.3871 - accuracy: 0.8336 - precision: 0.8113 - recall: 0.7709 - val_loss: 0.4135 - val_accuracy: 0.8188 - val_precision: 0.7790 - val_recall: 0.7849\n",
      "Epoch 39/60\n",
      "64/64 [==============================] - 0s 4ms/step - loss: 0.3949 - accuracy: 0.8277 - precision: 0.8004 - recall: 0.7689 - val_loss: 0.4443 - val_accuracy: 0.8234 - val_precision: 0.7603 - val_recall: 0.8377\n",
      "Epoch 40/60\n",
      "64/64 [==============================] - 0s 4ms/step - loss: 0.3847 - accuracy: 0.8320 - precision: 0.8056 - recall: 0.7747 - val_loss: 0.4371 - val_accuracy: 0.8000 - val_precision: 0.8128 - val_recall: 0.6717\n",
      "Epoch 41/60\n",
      "64/64 [==============================] - 0s 4ms/step - loss: 0.3795 - accuracy: 0.8332 - precision: 0.8068 - recall: 0.7766 - val_loss: 0.4055 - val_accuracy: 0.8172 - val_precision: 0.8008 - val_recall: 0.7434\n",
      "Epoch 42/60\n",
      "64/64 [==============================] - 0s 4ms/step - loss: 0.3807 - accuracy: 0.8352 - precision: 0.8096 - recall: 0.7785 - val_loss: 0.4049 - val_accuracy: 0.8172 - val_precision: 0.7984 - val_recall: 0.7472\n",
      "Epoch 43/60\n",
      "64/64 [==============================] - 0s 5ms/step - loss: 0.3804 - accuracy: 0.8336 - precision: 0.8051 - recall: 0.7804 - val_loss: 0.4066 - val_accuracy: 0.8172 - val_precision: 0.8033 - val_recall: 0.7396\n",
      "Epoch 44/60\n",
      "64/64 [==============================] - 0s 4ms/step - loss: 0.3779 - accuracy: 0.8320 - precision: 0.8026 - recall: 0.7795 - val_loss: 0.4012 - val_accuracy: 0.8125 - val_precision: 0.7778 - val_recall: 0.7660\n",
      "Epoch 45/60\n",
      "64/64 [==============================] - 0s 4ms/step - loss: 0.3793 - accuracy: 0.8387 - precision: 0.8058 - recall: 0.7958 - val_loss: 0.4171 - val_accuracy: 0.8094 - val_precision: 0.8069 - val_recall: 0.7094\n",
      "Epoch 46/60\n",
      "64/64 [==============================] - 0s 4ms/step - loss: 0.3753 - accuracy: 0.8375 - precision: 0.8107 - recall: 0.7843 - val_loss: 0.3989 - val_accuracy: 0.8156 - val_precision: 0.7838 - val_recall: 0.7660\n",
      "Epoch 47/60\n",
      "64/64 [==============================] - 0s 4ms/step - loss: 0.3792 - accuracy: 0.8383 - precision: 0.8062 - recall: 0.7939 - val_loss: 0.3980 - val_accuracy: 0.8125 - val_precision: 0.7778 - val_recall: 0.7660\n",
      "Epoch 48/60\n",
      "64/64 [==============================] - 0s 4ms/step - loss: 0.3753 - accuracy: 0.8320 - precision: 0.7967 - recall: 0.7891 - val_loss: 0.3999 - val_accuracy: 0.8188 - val_precision: 0.7770 - val_recall: 0.7887\n",
      "Epoch 49/60\n",
      "64/64 [==============================] - 0s 4ms/step - loss: 0.3881 - accuracy: 0.8313 - precision: 0.7980 - recall: 0.7843 - val_loss: 0.4078 - val_accuracy: 0.8172 - val_precision: 0.7643 - val_recall: 0.8075\n",
      "Epoch 50/60\n",
      "64/64 [==============================] - 0s 4ms/step - loss: 0.3774 - accuracy: 0.8383 - precision: 0.8033 - recall: 0.7987 - val_loss: 0.3962 - val_accuracy: 0.8156 - val_precision: 0.7838 - val_recall: 0.7660\n",
      "Epoch 51/60\n",
      "64/64 [==============================] - 0s 4ms/step - loss: 0.3723 - accuracy: 0.8391 - precision: 0.8025 - recall: 0.8025 - val_loss: 0.4230 - val_accuracy: 0.8156 - val_precision: 0.8101 - val_recall: 0.7245\n",
      "Epoch 52/60\n",
      "64/64 [==============================] - 0s 4ms/step - loss: 0.3876 - accuracy: 0.8281 - precision: 0.7941 - recall: 0.7804 - val_loss: 0.4221 - val_accuracy: 0.8266 - val_precision: 0.7619 - val_recall: 0.8453\n",
      "Epoch 53/60\n",
      "64/64 [==============================] - 0s 4ms/step - loss: 0.3738 - accuracy: 0.8355 - precision: 0.7962 - recall: 0.8015 - val_loss: 0.4053 - val_accuracy: 0.8188 - val_precision: 0.8016 - val_recall: 0.7472\n",
      "Epoch 54/60\n",
      "64/64 [==============================] - 0s 4ms/step - loss: 0.3745 - accuracy: 0.8363 - precision: 0.7994 - recall: 0.7987 - val_loss: 0.3964 - val_accuracy: 0.8156 - val_precision: 0.7838 - val_recall: 0.7660\n",
      "Epoch 55/60\n",
      "64/64 [==============================] - 0s 4ms/step - loss: 0.3770 - accuracy: 0.8379 - precision: 0.8031 - recall: 0.7977 - val_loss: 0.4317 - val_accuracy: 0.8266 - val_precision: 0.7516 - val_recall: 0.8679\n",
      "Epoch 56/60\n",
      "64/64 [==============================] - 0s 4ms/step - loss: 0.3743 - accuracy: 0.8398 - precision: 0.8011 - recall: 0.8073 - val_loss: 0.4067 - val_accuracy: 0.8172 - val_precision: 0.7984 - val_recall: 0.7472\n",
      "Epoch 57/60\n",
      "64/64 [==============================] - 0s 4ms/step - loss: 0.3690 - accuracy: 0.8398 - precision: 0.8023 - recall: 0.8054 - val_loss: 0.3972 - val_accuracy: 0.8156 - val_precision: 0.7838 - val_recall: 0.7660\n",
      "Epoch 58/60\n",
      "64/64 [==============================] - 0s 4ms/step - loss: 0.3709 - accuracy: 0.8371 - precision: 0.7987 - recall: 0.8025 - val_loss: 0.4012 - val_accuracy: 0.8156 - val_precision: 0.7838 - val_recall: 0.7660\n",
      "Epoch 59/60\n",
      "64/64 [==============================] - 0s 4ms/step - loss: 0.3680 - accuracy: 0.8375 - precision: 0.7989 - recall: 0.8035 - val_loss: 0.3944 - val_accuracy: 0.8156 - val_precision: 0.7838 - val_recall: 0.7660\n",
      "Epoch 60/60\n",
      "64/64 [==============================] - 0s 4ms/step - loss: 0.3710 - accuracy: 0.8426 - precision: 0.8008 - recall: 0.8169 - val_loss: 0.4014 - val_accuracy: 0.8156 - val_precision: 0.7860 - val_recall: 0.7623\n",
      "20/20 [==============================] - 0s 2ms/step\n"
     ]
    },
    {
     "name": "stderr",
     "output_type": "stream",
     "text": [
      "WARNING:absl:Found untraced functions such as _update_step_xla while saving (showing 1 of 1). These functions will not be directly callable after loading.\n"
     ]
    },
    {
     "name": "stdout",
     "output_type": "stream",
     "text": [
      "INFO:tensorflow:Assets written to: C:\\Users\\jmbar\\AppData\\Local\\Temp\\tmpu9ksxa7l\\assets\n"
     ]
    },
    {
     "name": "stderr",
     "output_type": "stream",
     "text": [
      "INFO:tensorflow:Assets written to: C:\\Users\\jmbar\\AppData\\Local\\Temp\\tmpu9ksxa7l\\assets\n"
     ]
    },
    {
     "name": "stdout",
     "output_type": "stream",
     "text": [
      "Epoch 1/60\n",
      "64/64 [==============================] - 2s 12ms/step - loss: 0.6760 - accuracy: 0.5980 - precision: 0.0000e+00 - recall: 0.0000e+00 - val_loss: 0.6819 - val_accuracy: 0.5813 - val_precision: 0.0000e+00 - val_recall: 0.0000e+00\n",
      "Epoch 2/60\n",
      "64/64 [==============================] - 0s 4ms/step - loss: 0.6745 - accuracy: 0.5980 - precision: 0.0000e+00 - recall: 0.0000e+00 - val_loss: 0.6804 - val_accuracy: 0.5813 - val_precision: 0.0000e+00 - val_recall: 0.0000e+00\n",
      "Epoch 3/60\n",
      "64/64 [==============================] - 0s 4ms/step - loss: 0.6751 - accuracy: 0.5980 - precision: 0.0000e+00 - recall: 0.0000e+00 - val_loss: 0.6798 - val_accuracy: 0.5813 - val_precision: 0.0000e+00 - val_recall: 0.0000e+00\n",
      "Epoch 4/60\n",
      "64/64 [==============================] - 0s 4ms/step - loss: 0.6742 - accuracy: 0.5980 - precision: 0.0000e+00 - recall: 0.0000e+00 - val_loss: 0.6807 - val_accuracy: 0.5813 - val_precision: 0.0000e+00 - val_recall: 0.0000e+00\n",
      "Epoch 5/60\n",
      "64/64 [==============================] - 0s 4ms/step - loss: 0.6740 - accuracy: 0.5980 - precision: 0.0000e+00 - recall: 0.0000e+00 - val_loss: 0.6841 - val_accuracy: 0.5813 - val_precision: 0.0000e+00 - val_recall: 0.0000e+00\n",
      "Epoch 6/60\n",
      "64/64 [==============================] - 0s 4ms/step - loss: 0.6715 - accuracy: 0.5992 - precision: 1.0000 - recall: 0.0029 - val_loss: 0.6776 - val_accuracy: 0.5828 - val_precision: 1.0000 - val_recall: 0.0037\n",
      "Epoch 7/60\n",
      "64/64 [==============================] - 0s 4ms/step - loss: 0.6691 - accuracy: 0.6051 - precision: 1.0000 - recall: 0.0175 - val_loss: 0.6729 - val_accuracy: 0.5859 - val_precision: 1.0000 - val_recall: 0.0112\n",
      "Epoch 8/60\n",
      "64/64 [==============================] - 0s 4ms/step - loss: 0.6575 - accuracy: 0.6207 - precision: 0.9677 - recall: 0.0583 - val_loss: 0.6680 - val_accuracy: 0.5938 - val_precision: 1.0000 - val_recall: 0.0299\n",
      "Epoch 9/60\n",
      "64/64 [==============================] - 0s 4ms/step - loss: 0.6329 - accuracy: 0.6555 - precision: 0.7712 - recall: 0.2031 - val_loss: 0.6362 - val_accuracy: 0.6234 - val_precision: 1.0000 - val_recall: 0.1007\n",
      "Epoch 10/60\n",
      "64/64 [==============================] - 0s 4ms/step - loss: 0.5933 - accuracy: 0.7043 - precision: 0.8077 - recall: 0.3469 - val_loss: 0.5932 - val_accuracy: 0.7797 - val_precision: 0.8068 - val_recall: 0.6231\n",
      "Epoch 11/60\n",
      "64/64 [==============================] - 0s 4ms/step - loss: 0.5419 - accuracy: 0.7355 - precision: 0.8235 - recall: 0.4354 - val_loss: 0.5325 - val_accuracy: 0.7344 - val_precision: 0.8657 - val_recall: 0.4328\n",
      "Epoch 12/60\n",
      "64/64 [==============================] - 0s 4ms/step - loss: 0.4951 - accuracy: 0.7781 - precision: 0.8785 - recall: 0.5199 - val_loss: 0.4986 - val_accuracy: 0.7781 - val_precision: 0.8500 - val_recall: 0.5709\n",
      "Epoch 13/60\n",
      "64/64 [==============================] - 0s 4ms/step - loss: 0.4725 - accuracy: 0.7887 - precision: 0.8599 - recall: 0.5666 - val_loss: 0.4914 - val_accuracy: 0.7859 - val_precision: 0.8104 - val_recall: 0.6381\n",
      "Epoch 14/60\n",
      "64/64 [==============================] - 0s 4ms/step - loss: 0.4560 - accuracy: 0.7988 - precision: 0.8560 - recall: 0.6006 - val_loss: 0.4741 - val_accuracy: 0.7781 - val_precision: 0.8500 - val_recall: 0.5709\n",
      "Epoch 15/60\n",
      "64/64 [==============================] - 0s 4ms/step - loss: 0.4464 - accuracy: 0.8000 - precision: 0.8433 - recall: 0.6171 - val_loss: 0.4754 - val_accuracy: 0.8047 - val_precision: 0.8122 - val_recall: 0.6940\n",
      "Epoch 16/60\n",
      "64/64 [==============================] - 0s 4ms/step - loss: 0.4375 - accuracy: 0.8117 - precision: 0.8511 - recall: 0.6443 - val_loss: 0.4655 - val_accuracy: 0.7719 - val_precision: 0.8245 - val_recall: 0.5784\n",
      "Epoch 17/60\n",
      "64/64 [==============================] - 0s 4ms/step - loss: 0.4251 - accuracy: 0.8074 - precision: 0.8384 - recall: 0.6453 - val_loss: 0.4557 - val_accuracy: 0.7766 - val_precision: 0.8173 - val_recall: 0.6007\n",
      "Epoch 18/60\n",
      "64/64 [==============================] - 0s 4ms/step - loss: 0.4185 - accuracy: 0.8168 - precision: 0.8398 - recall: 0.6725 - val_loss: 0.4563 - val_accuracy: 0.7734 - val_precision: 0.8154 - val_recall: 0.5933\n",
      "Epoch 19/60\n",
      "64/64 [==============================] - 0s 4ms/step - loss: 0.4332 - accuracy: 0.8137 - precision: 0.8294 - recall: 0.6754 - val_loss: 0.4672 - val_accuracy: 0.7766 - val_precision: 0.8415 - val_recall: 0.5746\n",
      "Epoch 20/60\n",
      "64/64 [==============================] - 0s 4ms/step - loss: 0.4278 - accuracy: 0.8242 - precision: 0.8426 - recall: 0.6919 - val_loss: 0.4436 - val_accuracy: 0.7906 - val_precision: 0.8131 - val_recall: 0.6493\n",
      "Epoch 21/60\n",
      "64/64 [==============================] - 0s 4ms/step - loss: 0.4300 - accuracy: 0.8188 - precision: 0.8375 - recall: 0.6812 - val_loss: 0.4541 - val_accuracy: 0.8172 - val_precision: 0.7938 - val_recall: 0.7612\n",
      "Epoch 22/60\n",
      "64/64 [==============================] - 0s 4ms/step - loss: 0.4086 - accuracy: 0.8211 - precision: 0.8301 - recall: 0.6978 - val_loss: 0.4396 - val_accuracy: 0.7859 - val_precision: 0.8104 - val_recall: 0.6381\n",
      "Epoch 23/60\n",
      "64/64 [==============================] - 0s 4ms/step - loss: 0.4008 - accuracy: 0.8238 - precision: 0.8322 - recall: 0.7036 - val_loss: 0.4438 - val_accuracy: 0.7828 - val_precision: 0.8177 - val_recall: 0.6194\n",
      "Epoch 24/60\n",
      "64/64 [==============================] - 0s 4ms/step - loss: 0.4022 - accuracy: 0.8219 - precision: 0.8304 - recall: 0.6997 - val_loss: 0.4397 - val_accuracy: 0.7812 - val_precision: 0.8077 - val_recall: 0.6269\n",
      "Epoch 25/60\n",
      "64/64 [==============================] - 0s 4ms/step - loss: 0.4067 - accuracy: 0.8219 - precision: 0.8267 - recall: 0.7046 - val_loss: 0.4448 - val_accuracy: 0.7812 - val_precision: 0.8168 - val_recall: 0.6157\n",
      "Epoch 26/60\n",
      "64/64 [==============================] - 0s 4ms/step - loss: 0.4105 - accuracy: 0.8223 - precision: 0.8299 - recall: 0.7017 - val_loss: 0.4670 - val_accuracy: 0.7766 - val_precision: 0.8238 - val_recall: 0.5933\n",
      "Epoch 27/60\n",
      "64/64 [==============================] - 0s 5ms/step - loss: 0.4013 - accuracy: 0.8250 - precision: 0.8231 - recall: 0.7191 - val_loss: 0.4612 - val_accuracy: 0.7734 - val_precision: 0.8154 - val_recall: 0.5933\n",
      "Epoch 28/60\n",
      "64/64 [==============================] - 0s 4ms/step - loss: 0.4036 - accuracy: 0.8277 - precision: 0.8274 - recall: 0.7221 - val_loss: 0.4313 - val_accuracy: 0.8125 - val_precision: 0.7846 - val_recall: 0.7612\n",
      "Epoch 29/60\n",
      "64/64 [==============================] - 0s 4ms/step - loss: 0.4038 - accuracy: 0.8273 - precision: 0.8215 - recall: 0.7289 - val_loss: 0.4238 - val_accuracy: 0.8078 - val_precision: 0.8139 - val_recall: 0.7015\n",
      "Epoch 30/60\n",
      "64/64 [==============================] - 0s 4ms/step - loss: 0.3900 - accuracy: 0.8277 - precision: 0.8203 - recall: 0.7318 - val_loss: 0.4299 - val_accuracy: 0.8141 - val_precision: 0.7854 - val_recall: 0.7649\n",
      "Epoch 31/60\n",
      "64/64 [==============================] - 0s 5ms/step - loss: 0.3941 - accuracy: 0.8316 - precision: 0.8257 - recall: 0.7366 - val_loss: 0.4260 - val_accuracy: 0.8125 - val_precision: 0.7846 - val_recall: 0.7612\n",
      "Epoch 32/60\n",
      "64/64 [==============================] - 0s 4ms/step - loss: 0.3992 - accuracy: 0.8262 - precision: 0.8074 - recall: 0.7454 - val_loss: 0.4776 - val_accuracy: 0.7750 - val_precision: 0.8196 - val_recall: 0.5933\n",
      "Epoch 33/60\n",
      "64/64 [==============================] - 0s 5ms/step - loss: 0.3907 - accuracy: 0.8305 - precision: 0.8182 - recall: 0.7434 - val_loss: 0.4212 - val_accuracy: 0.8047 - val_precision: 0.8122 - val_recall: 0.6940\n",
      "Epoch 34/60\n",
      "64/64 [==============================] - 0s 5ms/step - loss: 0.3998 - accuracy: 0.8277 - precision: 0.8155 - recall: 0.7386 - val_loss: 0.4476 - val_accuracy: 0.7797 - val_precision: 0.8098 - val_recall: 0.6194\n",
      "Epoch 35/60\n",
      "64/64 [==============================] - 0s 5ms/step - loss: 0.3950 - accuracy: 0.8336 - precision: 0.8204 - recall: 0.7502 - val_loss: 0.4526 - val_accuracy: 0.7812 - val_precision: 0.8137 - val_recall: 0.6194\n",
      "Epoch 36/60\n",
      "64/64 [==============================] - 1s 8ms/step - loss: 0.3936 - accuracy: 0.8301 - precision: 0.8153 - recall: 0.7464 - val_loss: 0.4681 - val_accuracy: 0.7750 - val_precision: 0.8163 - val_recall: 0.5970\n",
      "Epoch 37/60\n"
     ]
    },
    {
     "name": "stdout",
     "output_type": "stream",
     "text": [
      "64/64 [==============================] - 1s 8ms/step - loss: 0.3883 - accuracy: 0.8348 - precision: 0.8217 - recall: 0.7522 - val_loss: 0.4310 - val_accuracy: 0.7953 - val_precision: 0.8157 - val_recall: 0.6604\n",
      "Epoch 38/60\n",
      "64/64 [==============================] - 1s 9ms/step - loss: 0.3791 - accuracy: 0.8371 - precision: 0.8221 - recall: 0.7590 - val_loss: 0.4126 - val_accuracy: 0.8125 - val_precision: 0.7846 - val_recall: 0.7612\n",
      "Epoch 39/60\n",
      "64/64 [==============================] - 1s 12ms/step - loss: 0.3864 - accuracy: 0.8324 - precision: 0.8049 - recall: 0.7697 - val_loss: 0.4164 - val_accuracy: 0.8094 - val_precision: 0.8147 - val_recall: 0.7052\n",
      "Epoch 40/60\n",
      "64/64 [==============================] - 0s 7ms/step - loss: 0.3847 - accuracy: 0.8336 - precision: 0.8164 - recall: 0.7561 - val_loss: 0.4285 - val_accuracy: 0.7953 - val_precision: 0.8100 - val_recall: 0.6679\n",
      "Epoch 41/60\n",
      "64/64 [==============================] - 1s 10ms/step - loss: 0.3834 - accuracy: 0.8309 - precision: 0.8047 - recall: 0.7648 - val_loss: 0.4104 - val_accuracy: 0.8156 - val_precision: 0.8099 - val_recall: 0.7313\n",
      "Epoch 42/60\n",
      "64/64 [==============================] - 0s 7ms/step - loss: 0.3842 - accuracy: 0.8359 - precision: 0.8149 - recall: 0.7658 - val_loss: 0.4547 - val_accuracy: 0.7812 - val_precision: 0.8107 - val_recall: 0.6231\n",
      "Epoch 43/60\n",
      "64/64 [==============================] - 0s 4ms/step - loss: 0.3877 - accuracy: 0.8367 - precision: 0.8114 - recall: 0.7736 - val_loss: 0.4147 - val_accuracy: 0.8109 - val_precision: 0.8155 - val_recall: 0.7090\n",
      "Epoch 44/60\n",
      "64/64 [==============================] - 0s 6ms/step - loss: 0.3829 - accuracy: 0.8383 - precision: 0.8141 - recall: 0.7745 - val_loss: 0.4102 - val_accuracy: 0.8109 - val_precision: 0.8075 - val_recall: 0.7201\n",
      "Epoch 45/60\n",
      "64/64 [==============================] - 0s 5ms/step - loss: 0.3777 - accuracy: 0.8340 - precision: 0.8063 - recall: 0.7726 - val_loss: 0.4406 - val_accuracy: 0.8328 - val_precision: 0.7729 - val_recall: 0.8507\n",
      "Epoch 46/60\n",
      "64/64 [==============================] - 0s 5ms/step - loss: 0.3880 - accuracy: 0.8301 - precision: 0.8006 - recall: 0.7687 - val_loss: 0.4214 - val_accuracy: 0.7984 - val_precision: 0.8089 - val_recall: 0.6791\n",
      "Epoch 47/60\n",
      "64/64 [==============================] - 0s 5ms/step - loss: 0.3855 - accuracy: 0.8340 - precision: 0.8051 - recall: 0.7745 - val_loss: 0.4590 - val_accuracy: 0.7844 - val_precision: 0.8125 - val_recall: 0.6306\n",
      "Epoch 48/60\n",
      "64/64 [==============================] - 0s 5ms/step - loss: 0.3798 - accuracy: 0.8371 - precision: 0.8097 - recall: 0.7775 - val_loss: 0.4052 - val_accuracy: 0.8125 - val_precision: 0.7984 - val_recall: 0.7388\n",
      "Epoch 49/60\n",
      "64/64 [==============================] - 0s 5ms/step - loss: 0.3723 - accuracy: 0.8395 - precision: 0.8160 - recall: 0.7755 - val_loss: 0.4019 - val_accuracy: 0.8125 - val_precision: 0.7824 - val_recall: 0.7649\n",
      "Epoch 50/60\n",
      "64/64 [==============================] - 1s 8ms/step - loss: 0.3790 - accuracy: 0.8336 - precision: 0.8018 - recall: 0.7784 - val_loss: 0.4130 - val_accuracy: 0.8234 - val_precision: 0.7739 - val_recall: 0.8172\n",
      "Epoch 51/60\n",
      "64/64 [==============================] - 0s 6ms/step - loss: 0.3735 - accuracy: 0.8434 - precision: 0.8153 - recall: 0.7891 - val_loss: 0.4155 - val_accuracy: 0.8281 - val_precision: 0.7762 - val_recall: 0.8284\n",
      "Epoch 52/60\n",
      "64/64 [==============================] - 0s 6ms/step - loss: 0.3732 - accuracy: 0.8348 - precision: 0.7988 - recall: 0.7872 - val_loss: 0.4047 - val_accuracy: 0.8250 - val_precision: 0.7806 - val_recall: 0.8097\n",
      "Epoch 53/60\n",
      "64/64 [==============================] - 0s 6ms/step - loss: 0.3707 - accuracy: 0.8395 - precision: 0.8065 - recall: 0.7901 - val_loss: 0.4695 - val_accuracy: 0.7859 - val_precision: 0.8104 - val_recall: 0.6381\n",
      "Epoch 54/60\n",
      "64/64 [==============================] - 0s 4ms/step - loss: 0.3765 - accuracy: 0.8371 - precision: 0.8072 - recall: 0.7813 - val_loss: 0.4076 - val_accuracy: 0.8234 - val_precision: 0.7739 - val_recall: 0.8172\n",
      "Epoch 55/60\n",
      "64/64 [==============================] - 0s 5ms/step - loss: 0.3820 - accuracy: 0.8379 - precision: 0.8016 - recall: 0.7930 - val_loss: 0.4991 - val_accuracy: 0.7812 - val_precision: 0.8107 - val_recall: 0.6231\n",
      "Epoch 56/60\n",
      "64/64 [==============================] - 1s 8ms/step - loss: 0.3734 - accuracy: 0.8352 - precision: 0.8032 - recall: 0.7813 - val_loss: 0.4020 - val_accuracy: 0.8219 - val_precision: 0.7750 - val_recall: 0.8097\n",
      "Epoch 57/60\n",
      "64/64 [==============================] - 0s 4ms/step - loss: 0.3713 - accuracy: 0.8363 - precision: 0.7984 - recall: 0.7930 - val_loss: 0.4150 - val_accuracy: 0.8109 - val_precision: 0.8128 - val_recall: 0.7127\n",
      "Epoch 58/60\n",
      "64/64 [==============================] - 0s 4ms/step - loss: 0.3784 - accuracy: 0.8367 - precision: 0.7992 - recall: 0.7930 - val_loss: 0.4724 - val_accuracy: 0.7891 - val_precision: 0.8122 - val_recall: 0.6455\n",
      "Epoch 59/60\n",
      "64/64 [==============================] - 0s 4ms/step - loss: 0.3737 - accuracy: 0.8363 - precision: 0.8026 - recall: 0.7862 - val_loss: 0.4052 - val_accuracy: 0.8141 - val_precision: 0.7945 - val_recall: 0.7500\n",
      "Epoch 60/60\n",
      "64/64 [==============================] - 0s 6ms/step - loss: 0.3788 - accuracy: 0.8379 - precision: 0.7992 - recall: 0.7969 - val_loss: 0.4110 - val_accuracy: 0.8172 - val_precision: 0.8107 - val_recall: 0.7351\n",
      "20/20 [==============================] - 0s 2ms/step\n"
     ]
    },
    {
     "name": "stderr",
     "output_type": "stream",
     "text": [
      "WARNING:absl:Found untraced functions such as _update_step_xla while saving (showing 1 of 1). These functions will not be directly callable after loading.\n"
     ]
    },
    {
     "name": "stdout",
     "output_type": "stream",
     "text": [
      "WARNING:tensorflow:Detecting that an object or model or tf.train.Checkpoint is being deleted with unrestored values. See the following logs for the specific values in question. To silence these warnings, use `status.expect_partial()`. See https://www.tensorflow.org/api_docs/python/tf/train/Checkpoint#restorefor details about the status object returned by the restore function.\n"
     ]
    },
    {
     "name": "stderr",
     "output_type": "stream",
     "text": [
      "WARNING:tensorflow:Detecting that an object or model or tf.train.Checkpoint is being deleted with unrestored values. See the following logs for the specific values in question. To silence these warnings, use `status.expect_partial()`. See https://www.tensorflow.org/api_docs/python/tf/train/Checkpoint#restorefor details about the status object returned by the restore function.\n"
     ]
    },
    {
     "name": "stdout",
     "output_type": "stream",
     "text": [
      "WARNING:tensorflow:Value in checkpoint could not be found in the restored object: (root).keras_api.metrics.0.total\n"
     ]
    },
    {
     "name": "stderr",
     "output_type": "stream",
     "text": [
      "WARNING:tensorflow:Value in checkpoint could not be found in the restored object: (root).keras_api.metrics.0.total\n"
     ]
    },
    {
     "name": "stdout",
     "output_type": "stream",
     "text": [
      "WARNING:tensorflow:Value in checkpoint could not be found in the restored object: (root).keras_api.metrics.0.count\n"
     ]
    },
    {
     "name": "stderr",
     "output_type": "stream",
     "text": [
      "WARNING:tensorflow:Value in checkpoint could not be found in the restored object: (root).keras_api.metrics.0.count\n"
     ]
    },
    {
     "name": "stdout",
     "output_type": "stream",
     "text": [
      "WARNING:tensorflow:Value in checkpoint could not be found in the restored object: (root).keras_api.metrics.1.total\n"
     ]
    },
    {
     "name": "stderr",
     "output_type": "stream",
     "text": [
      "WARNING:tensorflow:Value in checkpoint could not be found in the restored object: (root).keras_api.metrics.1.total\n"
     ]
    },
    {
     "name": "stdout",
     "output_type": "stream",
     "text": [
      "WARNING:tensorflow:Value in checkpoint could not be found in the restored object: (root).keras_api.metrics.1.count\n"
     ]
    },
    {
     "name": "stderr",
     "output_type": "stream",
     "text": [
      "WARNING:tensorflow:Value in checkpoint could not be found in the restored object: (root).keras_api.metrics.1.count\n"
     ]
    },
    {
     "name": "stdout",
     "output_type": "stream",
     "text": [
      "WARNING:tensorflow:Value in checkpoint could not be found in the restored object: (root).keras_api.metrics.2.true_positives\n"
     ]
    },
    {
     "name": "stderr",
     "output_type": "stream",
     "text": [
      "WARNING:tensorflow:Value in checkpoint could not be found in the restored object: (root).keras_api.metrics.2.true_positives\n"
     ]
    },
    {
     "name": "stdout",
     "output_type": "stream",
     "text": [
      "WARNING:tensorflow:Value in checkpoint could not be found in the restored object: (root).keras_api.metrics.2.false_positives\n"
     ]
    },
    {
     "name": "stderr",
     "output_type": "stream",
     "text": [
      "WARNING:tensorflow:Value in checkpoint could not be found in the restored object: (root).keras_api.metrics.2.false_positives\n"
     ]
    },
    {
     "name": "stdout",
     "output_type": "stream",
     "text": [
      "WARNING:tensorflow:Value in checkpoint could not be found in the restored object: (root).keras_api.metrics.3.true_positives\n"
     ]
    },
    {
     "name": "stderr",
     "output_type": "stream",
     "text": [
      "WARNING:tensorflow:Value in checkpoint could not be found in the restored object: (root).keras_api.metrics.3.true_positives\n"
     ]
    },
    {
     "name": "stdout",
     "output_type": "stream",
     "text": [
      "WARNING:tensorflow:Value in checkpoint could not be found in the restored object: (root).keras_api.metrics.3.false_negatives\n"
     ]
    },
    {
     "name": "stderr",
     "output_type": "stream",
     "text": [
      "WARNING:tensorflow:Value in checkpoint could not be found in the restored object: (root).keras_api.metrics.3.false_negatives\n"
     ]
    },
    {
     "name": "stdout",
     "output_type": "stream",
     "text": [
      "WARNING:tensorflow:Detecting that an object or model or tf.train.Checkpoint is being deleted with unrestored values. See the following logs for the specific values in question. To silence these warnings, use `status.expect_partial()`. See https://www.tensorflow.org/api_docs/python/tf/train/Checkpoint#restorefor details about the status object returned by the restore function.\n"
     ]
    },
    {
     "name": "stderr",
     "output_type": "stream",
     "text": [
      "WARNING:tensorflow:Detecting that an object or model or tf.train.Checkpoint is being deleted with unrestored values. See the following logs for the specific values in question. To silence these warnings, use `status.expect_partial()`. See https://www.tensorflow.org/api_docs/python/tf/train/Checkpoint#restorefor details about the status object returned by the restore function.\n"
     ]
    },
    {
     "name": "stdout",
     "output_type": "stream",
     "text": [
      "WARNING:tensorflow:Value in checkpoint could not be found in the restored object: (root).keras_api.metrics.0.total\n"
     ]
    },
    {
     "name": "stderr",
     "output_type": "stream",
     "text": [
      "WARNING:tensorflow:Value in checkpoint could not be found in the restored object: (root).keras_api.metrics.0.total\n"
     ]
    },
    {
     "name": "stdout",
     "output_type": "stream",
     "text": [
      "WARNING:tensorflow:Value in checkpoint could not be found in the restored object: (root).keras_api.metrics.0.count\n"
     ]
    },
    {
     "name": "stderr",
     "output_type": "stream",
     "text": [
      "WARNING:tensorflow:Value in checkpoint could not be found in the restored object: (root).keras_api.metrics.0.count\n"
     ]
    },
    {
     "name": "stdout",
     "output_type": "stream",
     "text": [
      "WARNING:tensorflow:Value in checkpoint could not be found in the restored object: (root).keras_api.metrics.1.total\n"
     ]
    },
    {
     "name": "stderr",
     "output_type": "stream",
     "text": [
      "WARNING:tensorflow:Value in checkpoint could not be found in the restored object: (root).keras_api.metrics.1.total\n"
     ]
    },
    {
     "name": "stdout",
     "output_type": "stream",
     "text": [
      "WARNING:tensorflow:Value in checkpoint could not be found in the restored object: (root).keras_api.metrics.1.count\n"
     ]
    },
    {
     "name": "stderr",
     "output_type": "stream",
     "text": [
      "WARNING:tensorflow:Value in checkpoint could not be found in the restored object: (root).keras_api.metrics.1.count\n"
     ]
    },
    {
     "name": "stdout",
     "output_type": "stream",
     "text": [
      "WARNING:tensorflow:Value in checkpoint could not be found in the restored object: (root).keras_api.metrics.2.true_positives\n"
     ]
    },
    {
     "name": "stderr",
     "output_type": "stream",
     "text": [
      "WARNING:tensorflow:Value in checkpoint could not be found in the restored object: (root).keras_api.metrics.2.true_positives\n"
     ]
    },
    {
     "name": "stdout",
     "output_type": "stream",
     "text": [
      "WARNING:tensorflow:Value in checkpoint could not be found in the restored object: (root).keras_api.metrics.2.false_positives\n"
     ]
    },
    {
     "name": "stderr",
     "output_type": "stream",
     "text": [
      "WARNING:tensorflow:Value in checkpoint could not be found in the restored object: (root).keras_api.metrics.2.false_positives\n"
     ]
    },
    {
     "name": "stdout",
     "output_type": "stream",
     "text": [
      "WARNING:tensorflow:Value in checkpoint could not be found in the restored object: (root).keras_api.metrics.3.true_positives\n"
     ]
    },
    {
     "name": "stderr",
     "output_type": "stream",
     "text": [
      "WARNING:tensorflow:Value in checkpoint could not be found in the restored object: (root).keras_api.metrics.3.true_positives\n"
     ]
    },
    {
     "name": "stdout",
     "output_type": "stream",
     "text": [
      "WARNING:tensorflow:Value in checkpoint could not be found in the restored object: (root).keras_api.metrics.3.false_negatives\n"
     ]
    },
    {
     "name": "stderr",
     "output_type": "stream",
     "text": [
      "WARNING:tensorflow:Value in checkpoint could not be found in the restored object: (root).keras_api.metrics.3.false_negatives\n"
     ]
    },
    {
     "name": "stdout",
     "output_type": "stream",
     "text": [
      "WARNING:tensorflow:Detecting that an object or model or tf.train.Checkpoint is being deleted with unrestored values. See the following logs for the specific values in question. To silence these warnings, use `status.expect_partial()`. See https://www.tensorflow.org/api_docs/python/tf/train/Checkpoint#restorefor details about the status object returned by the restore function.\n"
     ]
    },
    {
     "name": "stderr",
     "output_type": "stream",
     "text": [
      "WARNING:tensorflow:Detecting that an object or model or tf.train.Checkpoint is being deleted with unrestored values. See the following logs for the specific values in question. To silence these warnings, use `status.expect_partial()`. See https://www.tensorflow.org/api_docs/python/tf/train/Checkpoint#restorefor details about the status object returned by the restore function.\n"
     ]
    },
    {
     "name": "stdout",
     "output_type": "stream",
     "text": [
      "WARNING:tensorflow:Value in checkpoint could not be found in the restored object: (root).keras_api.metrics.0.total\n"
     ]
    },
    {
     "name": "stderr",
     "output_type": "stream",
     "text": [
      "WARNING:tensorflow:Value in checkpoint could not be found in the restored object: (root).keras_api.metrics.0.total\n"
     ]
    },
    {
     "name": "stdout",
     "output_type": "stream",
     "text": [
      "WARNING:tensorflow:Value in checkpoint could not be found in the restored object: (root).keras_api.metrics.0.count\n"
     ]
    },
    {
     "name": "stderr",
     "output_type": "stream",
     "text": [
      "WARNING:tensorflow:Value in checkpoint could not be found in the restored object: (root).keras_api.metrics.0.count\n"
     ]
    },
    {
     "name": "stdout",
     "output_type": "stream",
     "text": [
      "WARNING:tensorflow:Value in checkpoint could not be found in the restored object: (root).keras_api.metrics.1.total\n"
     ]
    },
    {
     "name": "stderr",
     "output_type": "stream",
     "text": [
      "WARNING:tensorflow:Value in checkpoint could not be found in the restored object: (root).keras_api.metrics.1.total\n"
     ]
    },
    {
     "name": "stdout",
     "output_type": "stream",
     "text": [
      "WARNING:tensorflow:Value in checkpoint could not be found in the restored object: (root).keras_api.metrics.1.count\n"
     ]
    },
    {
     "name": "stderr",
     "output_type": "stream",
     "text": [
      "WARNING:tensorflow:Value in checkpoint could not be found in the restored object: (root).keras_api.metrics.1.count\n"
     ]
    },
    {
     "name": "stdout",
     "output_type": "stream",
     "text": [
      "WARNING:tensorflow:Value in checkpoint could not be found in the restored object: (root).keras_api.metrics.2.true_positives\n"
     ]
    },
    {
     "name": "stderr",
     "output_type": "stream",
     "text": [
      "WARNING:tensorflow:Value in checkpoint could not be found in the restored object: (root).keras_api.metrics.2.true_positives\n"
     ]
    },
    {
     "name": "stdout",
     "output_type": "stream",
     "text": [
      "WARNING:tensorflow:Value in checkpoint could not be found in the restored object: (root).keras_api.metrics.2.false_positives\n"
     ]
    },
    {
     "name": "stderr",
     "output_type": "stream",
     "text": [
      "WARNING:tensorflow:Value in checkpoint could not be found in the restored object: (root).keras_api.metrics.2.false_positives\n"
     ]
    },
    {
     "name": "stdout",
     "output_type": "stream",
     "text": [
      "WARNING:tensorflow:Value in checkpoint could not be found in the restored object: (root).keras_api.metrics.3.true_positives\n"
     ]
    },
    {
     "name": "stderr",
     "output_type": "stream",
     "text": [
      "WARNING:tensorflow:Value in checkpoint could not be found in the restored object: (root).keras_api.metrics.3.true_positives\n"
     ]
    },
    {
     "name": "stdout",
     "output_type": "stream",
     "text": [
      "WARNING:tensorflow:Value in checkpoint could not be found in the restored object: (root).keras_api.metrics.3.false_negatives\n"
     ]
    },
    {
     "name": "stderr",
     "output_type": "stream",
     "text": [
      "WARNING:tensorflow:Value in checkpoint could not be found in the restored object: (root).keras_api.metrics.3.false_negatives\n"
     ]
    },
    {
     "name": "stdout",
     "output_type": "stream",
     "text": [
      "WARNING:tensorflow:Detecting that an object or model or tf.train.Checkpoint is being deleted with unrestored values. See the following logs for the specific values in question. To silence these warnings, use `status.expect_partial()`. See https://www.tensorflow.org/api_docs/python/tf/train/Checkpoint#restorefor details about the status object returned by the restore function.\n"
     ]
    },
    {
     "name": "stderr",
     "output_type": "stream",
     "text": [
      "WARNING:tensorflow:Detecting that an object or model or tf.train.Checkpoint is being deleted with unrestored values. See the following logs for the specific values in question. To silence these warnings, use `status.expect_partial()`. See https://www.tensorflow.org/api_docs/python/tf/train/Checkpoint#restorefor details about the status object returned by the restore function.\n"
     ]
    },
    {
     "name": "stdout",
     "output_type": "stream",
     "text": [
      "WARNING:tensorflow:Value in checkpoint could not be found in the restored object: (root).keras_api.metrics.0.total\n"
     ]
    },
    {
     "name": "stderr",
     "output_type": "stream",
     "text": [
      "WARNING:tensorflow:Value in checkpoint could not be found in the restored object: (root).keras_api.metrics.0.total\n"
     ]
    },
    {
     "name": "stdout",
     "output_type": "stream",
     "text": [
      "WARNING:tensorflow:Value in checkpoint could not be found in the restored object: (root).keras_api.metrics.0.count\n"
     ]
    },
    {
     "name": "stderr",
     "output_type": "stream",
     "text": [
      "WARNING:tensorflow:Value in checkpoint could not be found in the restored object: (root).keras_api.metrics.0.count\n"
     ]
    },
    {
     "name": "stdout",
     "output_type": "stream",
     "text": [
      "WARNING:tensorflow:Value in checkpoint could not be found in the restored object: (root).keras_api.metrics.1.total\n"
     ]
    },
    {
     "name": "stderr",
     "output_type": "stream",
     "text": [
      "WARNING:tensorflow:Value in checkpoint could not be found in the restored object: (root).keras_api.metrics.1.total\n"
     ]
    },
    {
     "name": "stdout",
     "output_type": "stream",
     "text": [
      "WARNING:tensorflow:Value in checkpoint could not be found in the restored object: (root).keras_api.metrics.1.count\n"
     ]
    },
    {
     "name": "stderr",
     "output_type": "stream",
     "text": [
      "WARNING:tensorflow:Value in checkpoint could not be found in the restored object: (root).keras_api.metrics.1.count\n"
     ]
    },
    {
     "name": "stdout",
     "output_type": "stream",
     "text": [
      "WARNING:tensorflow:Value in checkpoint could not be found in the restored object: (root).keras_api.metrics.2.true_positives\n"
     ]
    },
    {
     "name": "stderr",
     "output_type": "stream",
     "text": [
      "WARNING:tensorflow:Value in checkpoint could not be found in the restored object: (root).keras_api.metrics.2.true_positives\n"
     ]
    },
    {
     "name": "stdout",
     "output_type": "stream",
     "text": [
      "WARNING:tensorflow:Value in checkpoint could not be found in the restored object: (root).keras_api.metrics.2.false_positives\n"
     ]
    },
    {
     "name": "stderr",
     "output_type": "stream",
     "text": [
      "WARNING:tensorflow:Value in checkpoint could not be found in the restored object: (root).keras_api.metrics.2.false_positives\n"
     ]
    },
    {
     "name": "stdout",
     "output_type": "stream",
     "text": [
      "WARNING:tensorflow:Value in checkpoint could not be found in the restored object: (root).keras_api.metrics.3.true_positives\n"
     ]
    },
    {
     "name": "stderr",
     "output_type": "stream",
     "text": [
      "WARNING:tensorflow:Value in checkpoint could not be found in the restored object: (root).keras_api.metrics.3.true_positives\n"
     ]
    },
    {
     "name": "stdout",
     "output_type": "stream",
     "text": [
      "WARNING:tensorflow:Value in checkpoint could not be found in the restored object: (root).keras_api.metrics.3.false_negatives\n"
     ]
    },
    {
     "name": "stderr",
     "output_type": "stream",
     "text": [
      "WARNING:tensorflow:Value in checkpoint could not be found in the restored object: (root).keras_api.metrics.3.false_negatives\n"
     ]
    },
    {
     "name": "stdout",
     "output_type": "stream",
     "text": [
      "INFO:tensorflow:Assets written to: C:\\Users\\jmbar\\AppData\\Local\\Temp\\tmpw38_h2r4\\assets\n"
     ]
    },
    {
     "name": "stderr",
     "output_type": "stream",
     "text": [
      "INFO:tensorflow:Assets written to: C:\\Users\\jmbar\\AppData\\Local\\Temp\\tmpw38_h2r4\\assets\n"
     ]
    },
    {
     "name": "stdout",
     "output_type": "stream",
     "text": [
      "Epoch 1/60\n",
      "64/64 [==============================] - 4s 32ms/step - loss: 0.6711 - accuracy: 0.6047 - precision: 0.0000e+00 - recall: 0.0000e+00 - val_loss: 0.6880 - val_accuracy: 0.5594 - val_precision: 0.0000e+00 - val_recall: 0.0000e+00\n",
      "Epoch 2/60\n",
      "64/64 [==============================] - 1s 11ms/step - loss: 0.6736 - accuracy: 0.6047 - precision: 0.0000e+00 - recall: 0.0000e+00 - val_loss: 0.6948 - val_accuracy: 0.5594 - val_precision: 0.0000e+00 - val_recall: 0.0000e+00\n",
      "Epoch 3/60\n",
      "64/64 [==============================] - 1s 10ms/step - loss: 0.6726 - accuracy: 0.6047 - precision: 0.0000e+00 - recall: 0.0000e+00 - val_loss: 0.6873 - val_accuracy: 0.5594 - val_precision: 0.0000e+00 - val_recall: 0.0000e+00\n",
      "Epoch 4/60\n",
      "64/64 [==============================] - 0s 5ms/step - loss: 0.6705 - accuracy: 0.6047 - precision: 0.0000e+00 - recall: 0.0000e+00 - val_loss: 0.7055 - val_accuracy: 0.5594 - val_precision: 0.0000e+00 - val_recall: 0.0000e+00\n",
      "Epoch 5/60\n",
      "64/64 [==============================] - 0s 4ms/step - loss: 0.6715 - accuracy: 0.6047 - precision: 0.0000e+00 - recall: 0.0000e+00 - val_loss: 0.6888 - val_accuracy: 0.5594 - val_precision: 0.0000e+00 - val_recall: 0.0000e+00\n",
      "Epoch 6/60\n",
      "64/64 [==============================] - 1s 8ms/step - loss: 0.6711 - accuracy: 0.6059 - precision: 1.0000 - recall: 0.0030 - val_loss: 0.6852 - val_accuracy: 0.5594 - val_precision: 0.0000e+00 - val_recall: 0.0000e+00\n",
      "Epoch 7/60\n",
      "64/64 [==============================] - 0s 3ms/step - loss: 0.6691 - accuracy: 0.6070 - precision: 1.0000 - recall: 0.0059 - val_loss: 0.6815 - val_accuracy: 0.5656 - val_precision: 1.0000 - val_recall: 0.0142\n",
      "Epoch 8/60\n",
      "64/64 [==============================] - 0s 4ms/step - loss: 0.6632 - accuracy: 0.6141 - precision: 0.9286 - recall: 0.0257 - val_loss: 0.6794 - val_accuracy: 0.5688 - val_precision: 1.0000 - val_recall: 0.0213\n",
      "Epoch 9/60\n",
      "64/64 [==============================] - 0s 4ms/step - loss: 0.6506 - accuracy: 0.6336 - precision: 0.9625 - recall: 0.0761 - val_loss: 0.6714 - val_accuracy: 0.5797 - val_precision: 0.9333 - val_recall: 0.0496\n",
      "Epoch 10/60\n",
      "64/64 [==============================] - 0s 4ms/step - loss: 0.6141 - accuracy: 0.6711 - precision: 0.9009 - recall: 0.1887 - val_loss: 0.6066 - val_accuracy: 0.6859 - val_precision: 0.8649 - val_recall: 0.3404\n",
      "Epoch 11/60\n",
      "64/64 [==============================] - 0s 3ms/step - loss: 0.5608 - accuracy: 0.7242 - precision: 0.8806 - recall: 0.3498 - val_loss: 0.5549 - val_accuracy: 0.7437 - val_precision: 0.8598 - val_recall: 0.5000\n",
      "Epoch 12/60\n",
      "64/64 [==============================] - 0s 3ms/step - loss: 0.5152 - accuracy: 0.7691 - precision: 0.8648 - recall: 0.4931 - val_loss: 0.5424 - val_accuracy: 0.7156 - val_precision: 0.8571 - val_recall: 0.4255\n",
      "Epoch 13/60\n",
      "64/64 [==============================] - 0s 4ms/step - loss: 0.4780 - accuracy: 0.7844 - precision: 0.8571 - recall: 0.5455 - val_loss: 0.5053 - val_accuracy: 0.7594 - val_precision: 0.8441 - val_recall: 0.5567\n",
      "Epoch 14/60\n",
      "64/64 [==============================] - 0s 4ms/step - loss: 0.4739 - accuracy: 0.7895 - precision: 0.8364 - recall: 0.5810 - val_loss: 0.4923 - val_accuracy: 0.7703 - val_precision: 0.8261 - val_recall: 0.6064\n",
      "Epoch 15/60\n",
      "64/64 [==============================] - 0s 5ms/step - loss: 0.4480 - accuracy: 0.8031 - precision: 0.8405 - recall: 0.6196 - val_loss: 0.4885 - val_accuracy: 0.7672 - val_precision: 0.8376 - val_recall: 0.5851\n",
      "Epoch 16/60\n",
      "64/64 [==============================] - 0s 3ms/step - loss: 0.4454 - accuracy: 0.8062 - precision: 0.8386 - recall: 0.6314 - val_loss: 0.4912 - val_accuracy: 0.7688 - val_precision: 0.8454 - val_recall: 0.5816\n",
      "Epoch 17/60\n",
      "64/64 [==============================] - 0s 3ms/step - loss: 0.4432 - accuracy: 0.8078 - precision: 0.8266 - recall: 0.6502 - val_loss: 0.4883 - val_accuracy: 0.7688 - val_precision: 0.8418 - val_recall: 0.5851\n",
      "Epoch 18/60\n",
      "64/64 [==============================] - 0s 3ms/step - loss: 0.4407 - accuracy: 0.8105 - precision: 0.8257 - recall: 0.6601 - val_loss: 0.5256 - val_accuracy: 0.7531 - val_precision: 0.8523 - val_recall: 0.5319\n",
      "Epoch 19/60\n",
      "64/64 [==============================] - 0s 3ms/step - loss: 0.4294 - accuracy: 0.8133 - precision: 0.8240 - recall: 0.6709 - val_loss: 0.4617 - val_accuracy: 0.7734 - val_precision: 0.8100 - val_recall: 0.6348\n",
      "Epoch 20/60\n",
      "64/64 [==============================] - 0s 5ms/step - loss: 0.4240 - accuracy: 0.8160 - precision: 0.8271 - recall: 0.6759 - val_loss: 0.4831 - val_accuracy: 0.7672 - val_precision: 0.8342 - val_recall: 0.5887\n",
      "Epoch 21/60\n",
      "64/64 [==============================] - 0s 7ms/step - loss: 0.4178 - accuracy: 0.8160 - precision: 0.8194 - recall: 0.6858 - val_loss: 0.4619 - val_accuracy: 0.7703 - val_precision: 0.8169 - val_recall: 0.6170\n",
      "Epoch 22/60\n",
      "64/64 [==============================] - 0s 3ms/step - loss: 0.4106 - accuracy: 0.8184 - precision: 0.8155 - recall: 0.6986 - val_loss: 0.4520 - val_accuracy: 0.7812 - val_precision: 0.8114 - val_recall: 0.6560\n",
      "Epoch 23/60\n",
      "64/64 [==============================] - 0s 3ms/step - loss: 0.4078 - accuracy: 0.8188 - precision: 0.8179 - recall: 0.6966 - val_loss: 0.4451 - val_accuracy: 0.8000 - val_precision: 0.8182 - val_recall: 0.7021\n",
      "Epoch 24/60\n",
      "64/64 [==============================] - 0s 3ms/step - loss: 0.4186 - accuracy: 0.8219 - precision: 0.8174 - recall: 0.7075 - val_loss: 0.4427 - val_accuracy: 0.8094 - val_precision: 0.8175 - val_recall: 0.7305\n",
      "Epoch 25/60\n",
      "64/64 [==============================] - 0s 3ms/step - loss: 0.4064 - accuracy: 0.8273 - precision: 0.8202 - recall: 0.7213 - val_loss: 0.4400 - val_accuracy: 0.8000 - val_precision: 0.8182 - val_recall: 0.7021\n",
      "Epoch 26/60\n",
      "64/64 [==============================] - 0s 4ms/step - loss: 0.4070 - accuracy: 0.8223 - precision: 0.8126 - recall: 0.7154 - val_loss: 0.5853 - val_accuracy: 0.7531 - val_precision: 0.8444 - val_recall: 0.5390\n",
      "Epoch 27/60\n",
      "64/64 [==============================] - 0s 5ms/step - loss: 0.4385 - accuracy: 0.8160 - precision: 0.7937 - recall: 0.7223 - val_loss: 0.4390 - val_accuracy: 0.7859 - val_precision: 0.8139 - val_recall: 0.6667\n",
      "Epoch 28/60\n",
      "64/64 [==============================] - 0s 4ms/step - loss: 0.4018 - accuracy: 0.8234 - precision: 0.8160 - recall: 0.7144 - val_loss: 0.4764 - val_accuracy: 0.7703 - val_precision: 0.8230 - val_recall: 0.6099\n",
      "Epoch 29/60\n",
      "64/64 [==============================] - 0s 4ms/step - loss: 0.4061 - accuracy: 0.8246 - precision: 0.8077 - recall: 0.7302 - val_loss: 0.4406 - val_accuracy: 0.8188 - val_precision: 0.7902 - val_recall: 0.8014\n",
      "Epoch 30/60\n",
      "64/64 [==============================] - 0s 3ms/step - loss: 0.3989 - accuracy: 0.8273 - precision: 0.8132 - recall: 0.7312 - val_loss: 0.4292 - val_accuracy: 0.8188 - val_precision: 0.8029 - val_recall: 0.7801\n",
      "Epoch 31/60\n",
      "64/64 [==============================] - 0s 3ms/step - loss: 0.3998 - accuracy: 0.8301 - precision: 0.8086 - recall: 0.7470 - val_loss: 0.4282 - val_accuracy: 0.8109 - val_precision: 0.8207 - val_recall: 0.7305\n",
      "Epoch 32/60\n",
      "64/64 [==============================] - 0s 4ms/step - loss: 0.3924 - accuracy: 0.8297 - precision: 0.8057 - recall: 0.7500 - val_loss: 0.4354 - val_accuracy: 0.7953 - val_precision: 0.8186 - val_recall: 0.6879\n",
      "Epoch 33/60\n",
      "64/64 [==============================] - 0s 4ms/step - loss: 0.3966 - accuracy: 0.8250 - precision: 0.8059 - recall: 0.7342 - val_loss: 0.4330 - val_accuracy: 0.7953 - val_precision: 0.8159 - val_recall: 0.6915\n",
      "Epoch 34/60\n",
      "64/64 [==============================] - 0s 4ms/step - loss: 0.3884 - accuracy: 0.8320 - precision: 0.8083 - recall: 0.7540 - val_loss: 0.4342 - val_accuracy: 0.8188 - val_precision: 0.7785 - val_recall: 0.8227\n",
      "Epoch 35/60\n",
      "64/64 [==============================] - 0s 4ms/step - loss: 0.4029 - accuracy: 0.8242 - precision: 0.7970 - recall: 0.7451 - val_loss: 0.4230 - val_accuracy: 0.8125 - val_precision: 0.8214 - val_recall: 0.7340\n",
      "Epoch 36/60\n",
      "64/64 [==============================] - 0s 3ms/step - loss: 0.4066 - accuracy: 0.8289 - precision: 0.8093 - recall: 0.7421 - val_loss: 0.4211 - val_accuracy: 0.8125 - val_precision: 0.8189 - val_recall: 0.7376\n",
      "Epoch 37/60\n"
     ]
    },
    {
     "name": "stdout",
     "output_type": "stream",
     "text": [
      "64/64 [==============================] - 0s 4ms/step - loss: 0.3893 - accuracy: 0.8320 - precision: 0.8038 - recall: 0.7609 - val_loss: 0.4167 - val_accuracy: 0.8203 - val_precision: 0.8036 - val_recall: 0.7837\n",
      "Epoch 38/60\n",
      "64/64 [==============================] - 0s 4ms/step - loss: 0.3950 - accuracy: 0.8293 - precision: 0.7961 - recall: 0.7638 - val_loss: 0.4173 - val_accuracy: 0.8172 - val_precision: 0.7915 - val_recall: 0.7943\n",
      "Epoch 39/60\n",
      "64/64 [==============================] - 0s 4ms/step - loss: 0.4011 - accuracy: 0.8340 - precision: 0.8035 - recall: 0.7678 - val_loss: 0.4171 - val_accuracy: 0.8188 - val_precision: 0.7923 - val_recall: 0.7979\n",
      "Epoch 40/60\n",
      "64/64 [==============================] - 0s 4ms/step - loss: 0.3867 - accuracy: 0.8328 - precision: 0.8010 - recall: 0.7678 - val_loss: 0.4238 - val_accuracy: 0.8094 - val_precision: 0.8200 - val_recall: 0.7270\n",
      "Epoch 41/60\n",
      "64/64 [==============================] - 0s 4ms/step - loss: 0.3823 - accuracy: 0.8340 - precision: 0.8041 - recall: 0.7668 - val_loss: 0.4118 - val_accuracy: 0.8156 - val_precision: 0.7929 - val_recall: 0.7872\n",
      "Epoch 42/60\n",
      "64/64 [==============================] - 0s 4ms/step - loss: 0.3845 - accuracy: 0.8379 - precision: 0.8043 - recall: 0.7796 - val_loss: 0.4348 - val_accuracy: 0.7969 - val_precision: 0.8167 - val_recall: 0.6950\n",
      "Epoch 43/60\n",
      "64/64 [==============================] - 0s 3ms/step - loss: 0.3810 - accuracy: 0.8316 - precision: 0.7955 - recall: 0.7727 - val_loss: 0.4236 - val_accuracy: 0.8266 - val_precision: 0.7803 - val_recall: 0.8440\n",
      "Epoch 44/60\n",
      "64/64 [==============================] - 0s 3ms/step - loss: 0.3857 - accuracy: 0.8367 - precision: 0.8012 - recall: 0.7806 - val_loss: 0.4093 - val_accuracy: 0.8203 - val_precision: 0.8036 - val_recall: 0.7837\n",
      "Epoch 45/60\n",
      "64/64 [==============================] - 0s 5ms/step - loss: 0.3785 - accuracy: 0.8359 - precision: 0.7954 - recall: 0.7875 - val_loss: 0.4068 - val_accuracy: 0.8156 - val_precision: 0.7929 - val_recall: 0.7872\n",
      "Epoch 46/60\n",
      "64/64 [==============================] - 0s 4ms/step - loss: 0.3789 - accuracy: 0.8348 - precision: 0.7960 - recall: 0.7826 - val_loss: 0.4063 - val_accuracy: 0.8141 - val_precision: 0.7921 - val_recall: 0.7837\n",
      "Epoch 47/60\n",
      "64/64 [==============================] - 0s 4ms/step - loss: 0.3856 - accuracy: 0.8340 - precision: 0.7932 - recall: 0.7846 - val_loss: 0.4054 - val_accuracy: 0.8188 - val_precision: 0.7902 - val_recall: 0.8014\n",
      "Epoch 48/60\n",
      "64/64 [==============================] - 0s 3ms/step - loss: 0.3811 - accuracy: 0.8383 - precision: 0.7990 - recall: 0.7895 - val_loss: 0.4063 - val_accuracy: 0.8188 - val_precision: 0.8007 - val_recall: 0.7837\n",
      "Epoch 49/60\n",
      "64/64 [==============================] - 0s 6ms/step - loss: 0.3743 - accuracy: 0.8355 - precision: 0.7946 - recall: 0.7875 - val_loss: 0.4033 - val_accuracy: 0.8188 - val_precision: 0.7923 - val_recall: 0.7979\n",
      "Epoch 50/60\n",
      "64/64 [==============================] - 0s 4ms/step - loss: 0.3813 - accuracy: 0.8348 - precision: 0.7913 - recall: 0.7905 - val_loss: 0.4302 - val_accuracy: 0.8062 - val_precision: 0.8185 - val_recall: 0.7199\n",
      "Epoch 51/60\n",
      "64/64 [==============================] - 0s 6ms/step - loss: 0.3860 - accuracy: 0.8375 - precision: 0.7910 - recall: 0.8004 - val_loss: 0.4127 - val_accuracy: 0.8234 - val_precision: 0.7789 - val_recall: 0.8369\n",
      "Epoch 52/60\n",
      "64/64 [==============================] - 0s 6ms/step - loss: 0.3800 - accuracy: 0.8348 - precision: 0.7930 - recall: 0.7875 - val_loss: 0.4124 - val_accuracy: 0.8141 - val_precision: 0.8052 - val_recall: 0.7624\n",
      "Epoch 53/60\n",
      "64/64 [==============================] - 0s 5ms/step - loss: 0.3834 - accuracy: 0.8352 - precision: 0.7915 - recall: 0.7915 - val_loss: 0.4022 - val_accuracy: 0.8203 - val_precision: 0.7831 - val_recall: 0.8191\n",
      "Epoch 54/60\n",
      "64/64 [==============================] - 0s 5ms/step - loss: 0.3724 - accuracy: 0.8359 - precision: 0.7902 - recall: 0.7964 - val_loss: 0.4063 - val_accuracy: 0.8188 - val_precision: 0.8007 - val_recall: 0.7837\n",
      "Epoch 55/60\n",
      "64/64 [==============================] - 0s 4ms/step - loss: 0.3742 - accuracy: 0.8367 - precision: 0.7895 - recall: 0.8004 - val_loss: 0.4035 - val_accuracy: 0.8188 - val_precision: 0.8007 - val_recall: 0.7837\n",
      "Epoch 56/60\n",
      "64/64 [==============================] - 0s 4ms/step - loss: 0.3893 - accuracy: 0.8379 - precision: 0.7907 - recall: 0.8024 - val_loss: 0.4114 - val_accuracy: 0.8297 - val_precision: 0.7799 - val_recall: 0.8546\n",
      "Epoch 57/60\n",
      "64/64 [==============================] - 0s 4ms/step - loss: 0.3972 - accuracy: 0.8289 - precision: 0.7876 - recall: 0.7767 - val_loss: 0.3995 - val_accuracy: 0.8172 - val_precision: 0.7915 - val_recall: 0.7943\n",
      "Epoch 58/60\n",
      "64/64 [==============================] - 0s 4ms/step - loss: 0.3792 - accuracy: 0.8348 - precision: 0.7840 - recall: 0.8034 - val_loss: 0.4072 - val_accuracy: 0.8188 - val_precision: 0.8007 - val_recall: 0.7837\n",
      "Epoch 59/60\n",
      "64/64 [==============================] - 0s 4ms/step - loss: 0.3734 - accuracy: 0.8379 - precision: 0.7890 - recall: 0.8053 - val_loss: 0.4040 - val_accuracy: 0.8188 - val_precision: 0.8007 - val_recall: 0.7837\n",
      "Epoch 60/60\n",
      "64/64 [==============================] - 0s 4ms/step - loss: 0.3708 - accuracy: 0.8387 - precision: 0.7899 - recall: 0.8063 - val_loss: 0.4654 - val_accuracy: 0.7953 - val_precision: 0.8159 - val_recall: 0.6915\n",
      "20/20 [==============================] - 0s 2ms/step\n"
     ]
    },
    {
     "name": "stderr",
     "output_type": "stream",
     "text": [
      "WARNING:absl:Found untraced functions such as _update_step_xla while saving (showing 1 of 1). These functions will not be directly callable after loading.\n"
     ]
    },
    {
     "name": "stdout",
     "output_type": "stream",
     "text": [
      "INFO:tensorflow:Assets written to: C:\\Users\\jmbar\\AppData\\Local\\Temp\\tmph7c5hmw5\\assets\n"
     ]
    },
    {
     "name": "stderr",
     "output_type": "stream",
     "text": [
      "INFO:tensorflow:Assets written to: C:\\Users\\jmbar\\AppData\\Local\\Temp\\tmph7c5hmw5\\assets\n"
     ]
    },
    {
     "name": "stdout",
     "output_type": "stream",
     "text": [
      "Epoch 1/60\n",
      "64/64 [==============================] - 2s 11ms/step - loss: 0.6779 - accuracy: 0.5953 - precision: 0.0000e+00 - recall: 0.0000e+00 - val_loss: 0.6698 - val_accuracy: 0.6078 - val_precision: 0.0000e+00 - val_recall: 0.0000e+00\n",
      "Epoch 2/60\n",
      "64/64 [==============================] - 0s 4ms/step - loss: 0.6754 - accuracy: 0.5953 - precision: 0.0000e+00 - recall: 0.0000e+00 - val_loss: 0.6715 - val_accuracy: 0.6078 - val_precision: 0.0000e+00 - val_recall: 0.0000e+00\n",
      "Epoch 3/60\n",
      "64/64 [==============================] - 0s 4ms/step - loss: 0.6754 - accuracy: 0.5953 - precision: 0.0000e+00 - recall: 0.0000e+00 - val_loss: 0.6694 - val_accuracy: 0.6078 - val_precision: 0.0000e+00 - val_recall: 0.0000e+00\n",
      "Epoch 4/60\n",
      "64/64 [==============================] - 0s 4ms/step - loss: 0.6758 - accuracy: 0.5953 - precision: 0.0000e+00 - recall: 0.0000e+00 - val_loss: 0.6704 - val_accuracy: 0.6078 - val_precision: 0.0000e+00 - val_recall: 0.0000e+00\n",
      "Epoch 5/60\n",
      "64/64 [==============================] - 0s 5ms/step - loss: 0.6740 - accuracy: 0.5953 - precision: 0.0000e+00 - recall: 0.0000e+00 - val_loss: 0.6714 - val_accuracy: 0.6078 - val_precision: 0.0000e+00 - val_recall: 0.0000e+00\n",
      "Epoch 6/60\n",
      "64/64 [==============================] - 0s 4ms/step - loss: 0.6733 - accuracy: 0.5957 - precision: 1.0000 - recall: 9.6525e-04 - val_loss: 0.6676 - val_accuracy: 0.6078 - val_precision: 0.0000e+00 - val_recall: 0.0000e+00\n",
      "Epoch 7/60\n",
      "64/64 [==============================] - 0s 4ms/step - loss: 0.6695 - accuracy: 0.6012 - precision: 1.0000 - recall: 0.0145 - val_loss: 0.6617 - val_accuracy: 0.6141 - val_precision: 1.0000 - val_recall: 0.0159\n",
      "Epoch 8/60\n",
      "64/64 [==============================] - 0s 5ms/step - loss: 0.6572 - accuracy: 0.6215 - precision: 0.9589 - recall: 0.0676 - val_loss: 0.6507 - val_accuracy: 0.6203 - val_precision: 0.9000 - val_recall: 0.0359\n",
      "Epoch 9/60\n",
      "64/64 [==============================] - 0s 4ms/step - loss: 0.6246 - accuracy: 0.6637 - precision: 0.9268 - recall: 0.1834 - val_loss: 0.6152 - val_accuracy: 0.7281 - val_precision: 0.8738 - val_recall: 0.3586\n",
      "Epoch 10/60\n",
      "64/64 [==============================] - 0s 4ms/step - loss: 0.5620 - accuracy: 0.7348 - precision: 0.9142 - recall: 0.3803 - val_loss: 0.5518 - val_accuracy: 0.7516 - val_precision: 0.8433 - val_recall: 0.4502\n",
      "Epoch 11/60\n",
      "64/64 [==============================] - 0s 4ms/step - loss: 0.5095 - accuracy: 0.7703 - precision: 0.8889 - recall: 0.4942 - val_loss: 0.5478 - val_accuracy: 0.7188 - val_precision: 0.8660 - val_recall: 0.3347\n",
      "Epoch 12/60\n",
      "64/64 [==============================] - 0s 4ms/step - loss: 0.4791 - accuracy: 0.7844 - precision: 0.8656 - recall: 0.5531 - val_loss: 0.5114 - val_accuracy: 0.7484 - val_precision: 0.8462 - val_recall: 0.4382\n",
      "Epoch 13/60\n",
      "64/64 [==============================] - 0s 4ms/step - loss: 0.4692 - accuracy: 0.7906 - precision: 0.8551 - recall: 0.5811 - val_loss: 0.5060 - val_accuracy: 0.8125 - val_precision: 0.7937 - val_recall: 0.7052\n",
      "Epoch 14/60\n",
      "64/64 [==============================] - 0s 4ms/step - loss: 0.4550 - accuracy: 0.8016 - precision: 0.8483 - recall: 0.6207 - val_loss: 0.4770 - val_accuracy: 0.7875 - val_precision: 0.8075 - val_recall: 0.6016\n",
      "Epoch 15/60\n",
      "64/64 [==============================] - 0s 4ms/step - loss: 0.4387 - accuracy: 0.8090 - precision: 0.8557 - recall: 0.6351 - val_loss: 0.4858 - val_accuracy: 0.8141 - val_precision: 0.7920 - val_recall: 0.7131\n",
      "Epoch 16/60\n",
      "64/64 [==============================] - 0s 4ms/step - loss: 0.4329 - accuracy: 0.8105 - precision: 0.8405 - recall: 0.6564 - val_loss: 0.5031 - val_accuracy: 0.7719 - val_precision: 0.8477 - val_recall: 0.5100\n",
      "Epoch 17/60\n",
      "64/64 [==============================] - 0s 4ms/step - loss: 0.4310 - accuracy: 0.8113 - precision: 0.8461 - recall: 0.6525 - val_loss: 0.4636 - val_accuracy: 0.7984 - val_precision: 0.7933 - val_recall: 0.6574\n",
      "Epoch 18/60\n",
      "64/64 [==============================] - 0s 4ms/step - loss: 0.4197 - accuracy: 0.8176 - precision: 0.8474 - recall: 0.6699 - val_loss: 0.4625 - val_accuracy: 0.7828 - val_precision: 0.8043 - val_recall: 0.5896\n",
      "Epoch 19/60\n",
      "64/64 [==============================] - 0s 3ms/step - loss: 0.4173 - accuracy: 0.8199 - precision: 0.8443 - recall: 0.6805 - val_loss: 0.4664 - val_accuracy: 0.7891 - val_precision: 0.8258 - val_recall: 0.5857\n",
      "Epoch 20/60\n",
      "64/64 [==============================] - 0s 4ms/step - loss: 0.4186 - accuracy: 0.8180 - precision: 0.8377 - recall: 0.6824 - val_loss: 0.4492 - val_accuracy: 0.7969 - val_precision: 0.7951 - val_recall: 0.6494\n",
      "Epoch 21/60\n",
      "64/64 [==============================] - 0s 4ms/step - loss: 0.4279 - accuracy: 0.8121 - precision: 0.8164 - recall: 0.6911 - val_loss: 0.4468 - val_accuracy: 0.7984 - val_precision: 0.7933 - val_recall: 0.6574\n",
      "Epoch 22/60\n",
      "64/64 [==============================] - 0s 3ms/step - loss: 0.4106 - accuracy: 0.8148 - precision: 0.8290 - recall: 0.6834 - val_loss: 0.4479 - val_accuracy: 0.7844 - val_precision: 0.7958 - val_recall: 0.6056\n",
      "Epoch 23/60\n",
      "64/64 [==============================] - 0s 4ms/step - loss: 0.4016 - accuracy: 0.8246 - precision: 0.8370 - recall: 0.7037 - val_loss: 0.4501 - val_accuracy: 0.8172 - val_precision: 0.7815 - val_recall: 0.7410\n",
      "Epoch 24/60\n",
      "64/64 [==============================] - 0s 4ms/step - loss: 0.4009 - accuracy: 0.8215 - precision: 0.8286 - recall: 0.7046 - val_loss: 0.4466 - val_accuracy: 0.7844 - val_precision: 0.7927 - val_recall: 0.6096\n",
      "Epoch 25/60\n",
      "64/64 [==============================] - 0s 4ms/step - loss: 0.3956 - accuracy: 0.8219 - precision: 0.8311 - recall: 0.7027 - val_loss: 0.4892 - val_accuracy: 0.8125 - val_precision: 0.7331 - val_recall: 0.8207\n",
      "Epoch 26/60\n",
      "64/64 [==============================] - 0s 4ms/step - loss: 0.4190 - accuracy: 0.8168 - precision: 0.8182 - recall: 0.7037 - val_loss: 0.4469 - val_accuracy: 0.7859 - val_precision: 0.8000 - val_recall: 0.6056\n",
      "Epoch 27/60\n",
      "64/64 [==============================] - 0s 4ms/step - loss: 0.3938 - accuracy: 0.8270 - precision: 0.8320 - recall: 0.7172 - val_loss: 0.4341 - val_accuracy: 0.7969 - val_precision: 0.7923 - val_recall: 0.6534\n",
      "Epoch 28/60\n",
      "64/64 [==============================] - 0s 4ms/step - loss: 0.3907 - accuracy: 0.8301 - precision: 0.8313 - recall: 0.7278 - val_loss: 0.4526 - val_accuracy: 0.8125 - val_precision: 0.7510 - val_recall: 0.7809\n",
      "Epoch 29/60\n",
      "64/64 [==============================] - 0s 4ms/step - loss: 0.4039 - accuracy: 0.8289 - precision: 0.8250 - recall: 0.7326 - val_loss: 0.4287 - val_accuracy: 0.8094 - val_precision: 0.7919 - val_recall: 0.6972\n",
      "Epoch 30/60\n",
      "64/64 [==============================] - 0s 4ms/step - loss: 0.3923 - accuracy: 0.8246 - precision: 0.8180 - recall: 0.7288 - val_loss: 0.4315 - val_accuracy: 0.8188 - val_precision: 0.7778 - val_recall: 0.7530\n",
      "Epoch 31/60\n",
      "64/64 [==============================] - 0s 4ms/step - loss: 0.3961 - accuracy: 0.8281 - precision: 0.8191 - recall: 0.7384 - val_loss: 0.4535 - val_accuracy: 0.7859 - val_precision: 0.8000 - val_recall: 0.6056\n",
      "Epoch 32/60\n",
      "64/64 [==============================] - 0s 4ms/step - loss: 0.3866 - accuracy: 0.8324 - precision: 0.8253 - recall: 0.7432 - val_loss: 0.4261 - val_accuracy: 0.8078 - val_precision: 0.7936 - val_recall: 0.6892\n",
      "Epoch 33/60\n",
      "64/64 [==============================] - 0s 4ms/step - loss: 0.3885 - accuracy: 0.8273 - precision: 0.8133 - recall: 0.7442 - val_loss: 0.4591 - val_accuracy: 0.7844 - val_precision: 0.7989 - val_recall: 0.6016\n",
      "Epoch 34/60\n",
      "64/64 [==============================] - 0s 4ms/step - loss: 0.3975 - accuracy: 0.8305 - precision: 0.8202 - recall: 0.7442 - val_loss: 0.4310 - val_accuracy: 0.8109 - val_precision: 0.7539 - val_recall: 0.7689\n",
      "Epoch 35/60\n",
      "64/64 [==============================] - 0s 4ms/step - loss: 0.3897 - accuracy: 0.8293 - precision: 0.8217 - recall: 0.7384 - val_loss: 0.4203 - val_accuracy: 0.8172 - val_precision: 0.7939 - val_recall: 0.7211\n",
      "Epoch 36/60\n",
      "64/64 [==============================] - 0s 4ms/step - loss: 0.4073 - accuracy: 0.8328 - precision: 0.8262 - recall: 0.7432 - val_loss: 0.4248 - val_accuracy: 0.8062 - val_precision: 0.7981 - val_recall: 0.6773\n",
      "Epoch 37/60\n"
     ]
    },
    {
     "name": "stdout",
     "output_type": "stream",
     "text": [
      "64/64 [==============================] - 0s 4ms/step - loss: 0.3825 - accuracy: 0.8324 - precision: 0.8185 - recall: 0.7529 - val_loss: 0.4203 - val_accuracy: 0.8109 - val_precision: 0.7902 - val_recall: 0.7052\n",
      "Epoch 38/60\n",
      "64/64 [==============================] - 0s 4ms/step - loss: 0.3787 - accuracy: 0.8348 - precision: 0.8163 - recall: 0.7635 - val_loss: 0.4211 - val_accuracy: 0.8141 - val_precision: 0.7920 - val_recall: 0.7131\n",
      "Epoch 39/60\n",
      "64/64 [==============================] - 0s 4ms/step - loss: 0.3819 - accuracy: 0.8301 - precision: 0.8076 - recall: 0.7616 - val_loss: 0.4263 - val_accuracy: 0.8078 - val_precision: 0.7991 - val_recall: 0.6813\n",
      "Epoch 40/60\n",
      "64/64 [==============================] - 0s 4ms/step - loss: 0.3851 - accuracy: 0.8336 - precision: 0.8170 - recall: 0.7587 - val_loss: 0.4418 - val_accuracy: 0.8094 - val_precision: 0.7329 - val_recall: 0.8088\n",
      "Epoch 41/60\n",
      "64/64 [==============================] - 0s 4ms/step - loss: 0.3797 - accuracy: 0.8328 - precision: 0.8089 - recall: 0.7683 - val_loss: 0.4246 - val_accuracy: 0.8141 - val_precision: 0.7519 - val_recall: 0.7849\n",
      "Epoch 42/60\n",
      "64/64 [==============================] - 0s 4ms/step - loss: 0.3769 - accuracy: 0.8375 - precision: 0.8183 - recall: 0.7693 - val_loss: 0.4250 - val_accuracy: 0.8141 - val_precision: 0.7519 - val_recall: 0.7849\n",
      "Epoch 43/60\n",
      "64/64 [==============================] - 0s 4ms/step - loss: 0.3849 - accuracy: 0.8352 - precision: 0.8126 - recall: 0.7703 - val_loss: 0.4134 - val_accuracy: 0.8172 - val_precision: 0.7659 - val_recall: 0.7689\n",
      "Epoch 44/60\n",
      "64/64 [==============================] - 0s 4ms/step - loss: 0.3896 - accuracy: 0.8324 - precision: 0.8087 - recall: 0.7674 - val_loss: 0.4119 - val_accuracy: 0.8203 - val_precision: 0.7787 - val_recall: 0.7570\n",
      "Epoch 45/60\n",
      "64/64 [==============================] - 0s 4ms/step - loss: 0.3800 - accuracy: 0.8336 - precision: 0.8106 - recall: 0.7683 - val_loss: 0.4162 - val_accuracy: 0.8141 - val_precision: 0.7538 - val_recall: 0.7809\n",
      "Epoch 46/60\n",
      "64/64 [==============================] - 0s 4ms/step - loss: 0.3725 - accuracy: 0.8324 - precision: 0.8113 - recall: 0.7635 - val_loss: 0.4296 - val_accuracy: 0.8094 - val_precision: 0.7329 - val_recall: 0.8088\n",
      "Epoch 47/60\n",
      "64/64 [==============================] - 0s 4ms/step - loss: 0.3829 - accuracy: 0.8387 - precision: 0.8112 - recall: 0.7838 - val_loss: 0.4096 - val_accuracy: 0.8203 - val_precision: 0.7764 - val_recall: 0.7610\n",
      "Epoch 48/60\n",
      "64/64 [==============================] - 0s 4ms/step - loss: 0.3744 - accuracy: 0.8363 - precision: 0.8101 - recall: 0.7780 - val_loss: 0.4220 - val_accuracy: 0.8141 - val_precision: 0.7426 - val_recall: 0.8048\n",
      "Epoch 49/60\n",
      "64/64 [==============================] - 0s 4ms/step - loss: 0.3721 - accuracy: 0.8402 - precision: 0.8144 - recall: 0.7838 - val_loss: 0.4104 - val_accuracy: 0.8219 - val_precision: 0.7842 - val_recall: 0.7530\n",
      "Epoch 50/60\n",
      "64/64 [==============================] - 0s 4ms/step - loss: 0.3747 - accuracy: 0.8383 - precision: 0.8085 - recall: 0.7867 - val_loss: 0.4284 - val_accuracy: 0.8078 - val_precision: 0.7936 - val_recall: 0.6892\n",
      "Epoch 51/60\n",
      "64/64 [==============================] - 0s 4ms/step - loss: 0.3773 - accuracy: 0.8324 - precision: 0.8056 - recall: 0.7722 - val_loss: 0.4166 - val_accuracy: 0.8219 - val_precision: 0.7965 - val_recall: 0.7331\n",
      "Epoch 52/60\n",
      "64/64 [==============================] - 0s 4ms/step - loss: 0.3794 - accuracy: 0.8383 - precision: 0.8129 - recall: 0.7799 - val_loss: 0.4528 - val_accuracy: 0.8109 - val_precision: 0.7226 - val_recall: 0.8406\n",
      "Epoch 53/60\n",
      "64/64 [==============================] - 0s 4ms/step - loss: 0.3736 - accuracy: 0.8340 - precision: 0.7998 - recall: 0.7867 - val_loss: 0.4093 - val_accuracy: 0.8141 - val_precision: 0.7519 - val_recall: 0.7849\n",
      "Epoch 54/60\n",
      "64/64 [==============================] - 0s 4ms/step - loss: 0.3696 - accuracy: 0.8395 - precision: 0.8049 - recall: 0.7963 - val_loss: 0.4044 - val_accuracy: 0.8156 - val_precision: 0.7628 - val_recall: 0.7689\n",
      "Epoch 55/60\n",
      "64/64 [==============================] - 0s 4ms/step - loss: 0.3686 - accuracy: 0.8395 - precision: 0.8097 - recall: 0.7886 - val_loss: 0.4101 - val_accuracy: 0.8219 - val_precision: 0.7842 - val_recall: 0.7530\n",
      "Epoch 56/60\n",
      "64/64 [==============================] - 0s 4ms/step - loss: 0.3695 - accuracy: 0.8387 - precision: 0.8045 - recall: 0.7944 - val_loss: 0.4057 - val_accuracy: 0.8125 - val_precision: 0.7510 - val_recall: 0.7809\n",
      "Epoch 57/60\n",
      "64/64 [==============================] - 0s 4ms/step - loss: 0.3710 - accuracy: 0.8328 - precision: 0.7986 - recall: 0.7847 - val_loss: 0.4032 - val_accuracy: 0.8109 - val_precision: 0.7539 - val_recall: 0.7689\n",
      "Epoch 58/60\n",
      "64/64 [==============================] - 0s 4ms/step - loss: 0.3820 - accuracy: 0.8367 - precision: 0.8065 - recall: 0.7847 - val_loss: 0.4058 - val_accuracy: 0.8188 - val_precision: 0.7733 - val_recall: 0.7610\n",
      "Epoch 59/60\n",
      "64/64 [==============================] - 0s 4ms/step - loss: 0.3702 - accuracy: 0.8363 - precision: 0.7981 - recall: 0.7973 - val_loss: 0.4023 - val_accuracy: 0.8125 - val_precision: 0.7529 - val_recall: 0.7769\n",
      "Epoch 60/60\n",
      "64/64 [==============================] - 0s 4ms/step - loss: 0.3895 - accuracy: 0.8395 - precision: 0.8002 - recall: 0.8041 - val_loss: 0.4134 - val_accuracy: 0.8125 - val_precision: 0.7453 - val_recall: 0.7928\n",
      "20/20 [==============================] - 0s 2ms/step\n"
     ]
    },
    {
     "name": "stderr",
     "output_type": "stream",
     "text": [
      "WARNING:absl:Found untraced functions such as _update_step_xla while saving (showing 1 of 1). These functions will not be directly callable after loading.\n"
     ]
    },
    {
     "name": "stdout",
     "output_type": "stream",
     "text": [
      "INFO:tensorflow:Assets written to: C:\\Users\\jmbar\\AppData\\Local\\Temp\\tmp9o1fc6nb\\assets\n"
     ]
    },
    {
     "name": "stderr",
     "output_type": "stream",
     "text": [
      "INFO:tensorflow:Assets written to: C:\\Users\\jmbar\\AppData\\Local\\Temp\\tmp9o1fc6nb\\assets\n",
      "WARNING:absl:Found untraced functions such as _update_step_xla while saving (showing 1 of 1). These functions will not be directly callable after loading.\n"
     ]
    },
    {
     "name": "stdout",
     "output_type": "stream",
     "text": [
      "INFO:tensorflow:Assets written to: C:\\Users\\jmbar\\AppData\\Local\\Temp\\tmp9l28u76m\\assets\n"
     ]
    },
    {
     "name": "stderr",
     "output_type": "stream",
     "text": [
      "INFO:tensorflow:Assets written to: C:\\Users\\jmbar\\AppData\\Local\\Temp\\tmp9l28u76m\\assets\n"
     ]
    },
    {
     "name": "stdout",
     "output_type": "stream",
     "text": [
      "Epoch 1/60\n",
      "80/80 [==============================] - 2s 9ms/step - loss: 0.6767 - accuracy: 0.5978 - precision: 0.0000e+00 - recall: 0.0000e+00 - val_loss: 0.6802 - val_accuracy: 0.5838 - val_precision: 0.0000e+00 - val_recall: 0.0000e+00\n",
      "Epoch 2/60\n",
      "80/80 [==============================] - 0s 4ms/step - loss: 0.6749 - accuracy: 0.5978 - precision: 0.0000e+00 - recall: 0.0000e+00 - val_loss: 0.6788 - val_accuracy: 0.5838 - val_precision: 0.0000e+00 - val_recall: 0.0000e+00\n",
      "Epoch 3/60\n",
      "80/80 [==============================] - 0s 4ms/step - loss: 0.6745 - accuracy: 0.5978 - precision: 0.0000e+00 - recall: 0.0000e+00 - val_loss: 0.6788 - val_accuracy: 0.5838 - val_precision: 0.0000e+00 - val_recall: 0.0000e+00\n",
      "Epoch 4/60\n",
      "80/80 [==============================] - 0s 4ms/step - loss: 0.6738 - accuracy: 0.5978 - precision: 0.0000e+00 - recall: 0.0000e+00 - val_loss: 0.6777 - val_accuracy: 0.5838 - val_precision: 0.0000e+00 - val_recall: 0.0000e+00\n",
      "Epoch 5/60\n",
      "80/80 [==============================] - 0s 4ms/step - loss: 0.6732 - accuracy: 0.5981 - precision: 1.0000 - recall: 7.7700e-04 - val_loss: 0.6764 - val_accuracy: 0.5850 - val_precision: 1.0000 - val_recall: 0.0030\n",
      "Epoch 6/60\n",
      "80/80 [==============================] - 0s 4ms/step - loss: 0.6697 - accuracy: 0.6041 - precision: 0.9545 - recall: 0.0163 - val_loss: 0.6694 - val_accuracy: 0.5925 - val_precision: 1.0000 - val_recall: 0.0210\n",
      "Epoch 7/60\n",
      "80/80 [==============================] - 0s 4ms/step - loss: 0.6509 - accuracy: 0.6266 - precision: 0.9600 - recall: 0.0746 - val_loss: 0.6437 - val_accuracy: 0.6650 - val_precision: 0.8736 - val_recall: 0.2282\n",
      "Epoch 8/60\n",
      "80/80 [==============================] - 0s 4ms/step - loss: 0.5968 - accuracy: 0.6891 - precision: 0.8120 - recall: 0.2953 - val_loss: 0.5791 - val_accuracy: 0.6725 - val_precision: 0.8586 - val_recall: 0.2553\n",
      "Epoch 9/60\n",
      "80/80 [==============================] - 0s 4ms/step - loss: 0.5314 - accuracy: 0.7441 - precision: 0.8259 - recall: 0.4608 - val_loss: 0.5240 - val_accuracy: 0.7362 - val_precision: 0.8675 - val_recall: 0.4324\n",
      "Epoch 10/60\n",
      "80/80 [==============================] - 0s 4ms/step - loss: 0.4905 - accuracy: 0.7800 - precision: 0.8533 - recall: 0.5470 - val_loss: 0.4959 - val_accuracy: 0.7663 - val_precision: 0.8443 - val_recall: 0.5375\n",
      "Epoch 11/60\n",
      "80/80 [==============================] - 0s 4ms/step - loss: 0.4772 - accuracy: 0.7959 - precision: 0.8562 - recall: 0.5921 - val_loss: 0.4838 - val_accuracy: 0.7800 - val_precision: 0.8285 - val_recall: 0.5946\n",
      "Epoch 12/60\n",
      "80/80 [==============================] - 0s 4ms/step - loss: 0.4592 - accuracy: 0.7972 - precision: 0.8430 - recall: 0.6092 - val_loss: 0.4802 - val_accuracy: 0.7750 - val_precision: 0.8462 - val_recall: 0.5616\n",
      "Epoch 13/60\n",
      "80/80 [==============================] - 0s 4ms/step - loss: 0.4360 - accuracy: 0.8072 - precision: 0.8461 - recall: 0.6364 - val_loss: 0.4741 - val_accuracy: 0.7800 - val_precision: 0.8428 - val_recall: 0.5796\n",
      "Epoch 14/60\n",
      "80/80 [==============================] - 0s 4ms/step - loss: 0.4359 - accuracy: 0.8041 - precision: 0.8340 - recall: 0.6402 - val_loss: 0.4710 - val_accuracy: 0.7825 - val_precision: 0.8442 - val_recall: 0.5856\n",
      "Epoch 15/60\n",
      "80/80 [==============================] - 0s 4ms/step - loss: 0.4268 - accuracy: 0.8172 - precision: 0.8408 - recall: 0.6729 - val_loss: 0.4535 - val_accuracy: 0.7837 - val_precision: 0.8053 - val_recall: 0.6336\n",
      "Epoch 16/60\n",
      "80/80 [==============================] - 0s 4ms/step - loss: 0.4296 - accuracy: 0.8122 - precision: 0.8311 - recall: 0.6690 - val_loss: 0.5534 - val_accuracy: 0.7575 - val_precision: 0.8601 - val_recall: 0.4985\n",
      "Epoch 17/60\n",
      "80/80 [==============================] - 0s 4ms/step - loss: 0.4210 - accuracy: 0.8134 - precision: 0.8255 - recall: 0.6799 - val_loss: 0.4493 - val_accuracy: 0.8138 - val_precision: 0.8087 - val_recall: 0.7237\n",
      "Epoch 18/60\n",
      "80/80 [==============================] - 0s 4ms/step - loss: 0.4282 - accuracy: 0.8188 - precision: 0.8332 - recall: 0.6869 - val_loss: 0.4963 - val_accuracy: 0.8238 - val_precision: 0.7623 - val_recall: 0.8378\n",
      "Epoch 19/60\n",
      "80/80 [==============================] - 0s 4ms/step - loss: 0.4167 - accuracy: 0.8150 - precision: 0.8233 - recall: 0.6876 - val_loss: 0.4501 - val_accuracy: 0.8200 - val_precision: 0.7890 - val_recall: 0.7748\n",
      "Epoch 20/60\n",
      "80/80 [==============================] - 0s 4ms/step - loss: 0.4022 - accuracy: 0.8241 - precision: 0.8215 - recall: 0.7187 - val_loss: 0.4463 - val_accuracy: 0.7825 - val_precision: 0.8142 - val_recall: 0.6186\n",
      "Epoch 21/60\n",
      "80/80 [==============================] - 0s 4ms/step - loss: 0.4089 - accuracy: 0.8259 - precision: 0.8282 - recall: 0.7156 - val_loss: 0.4556 - val_accuracy: 0.7812 - val_precision: 0.8211 - val_recall: 0.6066\n",
      "Epoch 22/60\n",
      "80/80 [==============================] - 0s 4ms/step - loss: 0.4055 - accuracy: 0.8259 - precision: 0.8306 - recall: 0.7125 - val_loss: 0.4441 - val_accuracy: 0.7862 - val_precision: 0.8164 - val_recall: 0.6276\n",
      "Epoch 23/60\n",
      "80/80 [==============================] - 0s 4ms/step - loss: 0.3972 - accuracy: 0.8297 - precision: 0.8260 - recall: 0.7304 - val_loss: 0.4562 - val_accuracy: 0.7812 - val_precision: 0.8185 - val_recall: 0.6096\n",
      "Epoch 24/60\n",
      "80/80 [==============================] - 0s 4ms/step - loss: 0.4104 - accuracy: 0.8281 - precision: 0.8224 - recall: 0.7304 - val_loss: 0.4619 - val_accuracy: 0.8225 - val_precision: 0.7645 - val_recall: 0.8288\n",
      "Epoch 25/60\n",
      "80/80 [==============================] - 0s 4ms/step - loss: 0.3972 - accuracy: 0.8263 - precision: 0.8165 - recall: 0.7327 - val_loss: 0.4525 - val_accuracy: 0.7825 - val_precision: 0.8142 - val_recall: 0.6186\n",
      "Epoch 26/60\n",
      "80/80 [==============================] - 0s 4ms/step - loss: 0.4007 - accuracy: 0.8222 - precision: 0.8090 - recall: 0.7304 - val_loss: 0.4473 - val_accuracy: 0.7875 - val_precision: 0.8171 - val_recall: 0.6306\n",
      "Epoch 27/60\n",
      "80/80 [==============================] - 0s 4ms/step - loss: 0.3910 - accuracy: 0.8294 - precision: 0.8180 - recall: 0.7405 - val_loss: 0.4177 - val_accuracy: 0.8163 - val_precision: 0.7962 - val_recall: 0.7508\n",
      "Epoch 28/60\n",
      "80/80 [==============================] - 0s 4ms/step - loss: 0.3922 - accuracy: 0.8288 - precision: 0.8097 - recall: 0.7506 - val_loss: 0.4240 - val_accuracy: 0.8188 - val_precision: 0.7798 - val_recall: 0.7868\n",
      "Epoch 29/60\n",
      "80/80 [==============================] - 0s 4ms/step - loss: 0.3872 - accuracy: 0.8347 - precision: 0.8174 - recall: 0.7584 - val_loss: 0.4298 - val_accuracy: 0.7975 - val_precision: 0.8109 - val_recall: 0.6697\n",
      "Epoch 30/60\n",
      "80/80 [==============================] - 0s 4ms/step - loss: 0.3828 - accuracy: 0.8303 - precision: 0.8079 - recall: 0.7584 - val_loss: 0.4147 - val_accuracy: 0.8163 - val_precision: 0.8121 - val_recall: 0.7267\n",
      "Epoch 31/60\n",
      "80/80 [==============================] - 0s 4ms/step - loss: 0.3928 - accuracy: 0.8303 - precision: 0.8069 - recall: 0.7599 - val_loss: 0.4747 - val_accuracy: 0.7812 - val_precision: 0.8135 - val_recall: 0.6156\n",
      "Epoch 32/60\n",
      "80/80 [==============================] - 0s 4ms/step - loss: 0.3984 - accuracy: 0.8319 - precision: 0.8077 - recall: 0.7638 - val_loss: 0.4383 - val_accuracy: 0.7912 - val_precision: 0.8074 - val_recall: 0.6547\n",
      "Epoch 33/60\n",
      "80/80 [==============================] - 0s 4ms/step - loss: 0.3827 - accuracy: 0.8319 - precision: 0.8067 - recall: 0.7653 - val_loss: 0.4152 - val_accuracy: 0.8188 - val_precision: 0.7765 - val_recall: 0.7928\n",
      "Epoch 34/60\n",
      "80/80 [==============================] - 0s 4ms/step - loss: 0.3902 - accuracy: 0.8316 - precision: 0.8031 - recall: 0.7700 - val_loss: 0.5001 - val_accuracy: 0.7812 - val_precision: 0.8185 - val_recall: 0.6096\n",
      "Epoch 35/60\n",
      "80/80 [==============================] - 0s 4ms/step - loss: 0.3891 - accuracy: 0.8341 - precision: 0.8083 - recall: 0.7700 - val_loss: 0.4108 - val_accuracy: 0.8175 - val_precision: 0.8106 - val_recall: 0.7327\n",
      "Epoch 36/60\n",
      "80/80 [==============================] - 0s 4ms/step - loss: 0.3974 - accuracy: 0.8297 - precision: 0.8026 - recall: 0.7646 - val_loss: 0.4210 - val_accuracy: 0.8175 - val_precision: 0.7634 - val_recall: 0.8138\n",
      "Epoch 37/60\n"
     ]
    },
    {
     "name": "stdout",
     "output_type": "stream",
     "text": [
      "80/80 [==============================] - 0s 4ms/step - loss: 0.3784 - accuracy: 0.8353 - precision: 0.8069 - recall: 0.7762 - val_loss: 0.4124 - val_accuracy: 0.8163 - val_precision: 0.8079 - val_recall: 0.7327\n",
      "Epoch 38/60\n",
      "80/80 [==============================] - 0s 4ms/step - loss: 0.3814 - accuracy: 0.8384 - precision: 0.8100 - recall: 0.7817 - val_loss: 0.4103 - val_accuracy: 0.8200 - val_precision: 0.7708 - val_recall: 0.8078\n",
      "Epoch 39/60\n",
      "80/80 [==============================] - 0s 4ms/step - loss: 0.3868 - accuracy: 0.8372 - precision: 0.8006 - recall: 0.7925 - val_loss: 0.4466 - val_accuracy: 0.7912 - val_precision: 0.8074 - val_recall: 0.6547\n",
      "Epoch 40/60\n",
      "80/80 [==============================] - 0s 4ms/step - loss: 0.3780 - accuracy: 0.8353 - precision: 0.8035 - recall: 0.7817 - val_loss: 0.4010 - val_accuracy: 0.8188 - val_precision: 0.7866 - val_recall: 0.7748\n",
      "Epoch 41/60\n",
      "80/80 [==============================] - 0s 4ms/step - loss: 0.3740 - accuracy: 0.8388 - precision: 0.8072 - recall: 0.7871 - val_loss: 0.4079 - val_accuracy: 0.8175 - val_precision: 0.7634 - val_recall: 0.8138\n",
      "Epoch 42/60\n",
      "80/80 [==============================] - 0s 4ms/step - loss: 0.3738 - accuracy: 0.8381 - precision: 0.8020 - recall: 0.7933 - val_loss: 0.4032 - val_accuracy: 0.8213 - val_precision: 0.7746 - val_recall: 0.8048\n",
      "Epoch 43/60\n",
      "80/80 [==============================] - 0s 4ms/step - loss: 0.3738 - accuracy: 0.8353 - precision: 0.8021 - recall: 0.7840 - val_loss: 0.4144 - val_accuracy: 0.8163 - val_precision: 0.8079 - val_recall: 0.7327\n",
      "Epoch 44/60\n",
      "80/80 [==============================] - 0s 4ms/step - loss: 0.3757 - accuracy: 0.8350 - precision: 0.8005 - recall: 0.7855 - val_loss: 0.4048 - val_accuracy: 0.8163 - val_precision: 0.7906 - val_recall: 0.7598\n",
      "Epoch 45/60\n",
      "80/80 [==============================] - 0s 4ms/step - loss: 0.3699 - accuracy: 0.8375 - precision: 0.8017 - recall: 0.7918 - val_loss: 0.3973 - val_accuracy: 0.8150 - val_precision: 0.7795 - val_recall: 0.7748\n",
      "Epoch 46/60\n",
      "80/80 [==============================] - 0s 4ms/step - loss: 0.3763 - accuracy: 0.8403 - precision: 0.8027 - recall: 0.7995 - val_loss: 0.4044 - val_accuracy: 0.8163 - val_precision: 0.7906 - val_recall: 0.7598\n",
      "Epoch 47/60\n",
      "80/80 [==============================] - 0s 4ms/step - loss: 0.3692 - accuracy: 0.8384 - precision: 0.7998 - recall: 0.7980 - val_loss: 0.3963 - val_accuracy: 0.8200 - val_precision: 0.7788 - val_recall: 0.7928\n",
      "Epoch 48/60\n",
      "80/80 [==============================] - 0s 4ms/step - loss: 0.3735 - accuracy: 0.8388 - precision: 0.7945 - recall: 0.8081 - val_loss: 0.4484 - val_accuracy: 0.8037 - val_precision: 0.8099 - val_recall: 0.6907\n",
      "Epoch 49/60\n",
      "80/80 [==============================] - 0s 4ms/step - loss: 0.3757 - accuracy: 0.8413 - precision: 0.8017 - recall: 0.8042 - val_loss: 0.4234 - val_accuracy: 0.8125 - val_precision: 0.8102 - val_recall: 0.7177\n",
      "Epoch 50/60\n",
      "80/80 [==============================] - 0s 4ms/step - loss: 0.3788 - accuracy: 0.8413 - precision: 0.8060 - recall: 0.7972 - val_loss: 0.4007 - val_accuracy: 0.8188 - val_precision: 0.7626 - val_recall: 0.8198\n",
      "Epoch 51/60\n",
      "80/80 [==============================] - 0s 4ms/step - loss: 0.3719 - accuracy: 0.8353 - precision: 0.7923 - recall: 0.8003 - val_loss: 0.4106 - val_accuracy: 0.8238 - val_precision: 0.7609 - val_recall: 0.8408\n",
      "Epoch 52/60\n",
      "80/80 [==============================] - 0s 4ms/step - loss: 0.3784 - accuracy: 0.8419 - precision: 0.7997 - recall: 0.8096 - val_loss: 0.3996 - val_accuracy: 0.8188 - val_precision: 0.7883 - val_recall: 0.7718\n",
      "Epoch 53/60\n",
      "80/80 [==============================] - 0s 4ms/step - loss: 0.3703 - accuracy: 0.8341 - precision: 0.7908 - recall: 0.7988 - val_loss: 0.4174 - val_accuracy: 0.8175 - val_precision: 0.8026 - val_recall: 0.7447\n",
      "Epoch 54/60\n",
      "80/80 [==============================] - 0s 4ms/step - loss: 0.3691 - accuracy: 0.8338 - precision: 0.7893 - recall: 0.8003 - val_loss: 0.3950 - val_accuracy: 0.8163 - val_precision: 0.7818 - val_recall: 0.7748\n",
      "Epoch 55/60\n",
      "80/80 [==============================] - 0s 4ms/step - loss: 0.3738 - accuracy: 0.8363 - precision: 0.7923 - recall: 0.8034 - val_loss: 0.3931 - val_accuracy: 0.8200 - val_precision: 0.7677 - val_recall: 0.8138\n",
      "Epoch 56/60\n",
      "80/80 [==============================] - 0s 6ms/step - loss: 0.3742 - accuracy: 0.8363 - precision: 0.7919 - recall: 0.8042 - val_loss: 0.3915 - val_accuracy: 0.8163 - val_precision: 0.7768 - val_recall: 0.7838\n",
      "Epoch 57/60\n",
      "80/80 [==============================] - 0s 5ms/step - loss: 0.3675 - accuracy: 0.8388 - precision: 0.7927 - recall: 0.8112 - val_loss: 0.3896 - val_accuracy: 0.8213 - val_precision: 0.7794 - val_recall: 0.7958\n",
      "Epoch 58/60\n",
      "80/80 [==============================] - 0s 5ms/step - loss: 0.3763 - accuracy: 0.8359 - precision: 0.7926 - recall: 0.8019 - val_loss: 0.3938 - val_accuracy: 0.8188 - val_precision: 0.7626 - val_recall: 0.8198\n",
      "Epoch 59/60\n",
      "80/80 [==============================] - 0s 5ms/step - loss: 0.3634 - accuracy: 0.8388 - precision: 0.7918 - recall: 0.8127 - val_loss: 0.3938 - val_accuracy: 0.8163 - val_precision: 0.7818 - val_recall: 0.7748\n",
      "Epoch 60/60\n",
      "80/80 [==============================] - 0s 5ms/step - loss: 0.3675 - accuracy: 0.8369 - precision: 0.7882 - recall: 0.8127 - val_loss: 0.4190 - val_accuracy: 0.8163 - val_precision: 0.8059 - val_recall: 0.7357\n"
     ]
    },
    {
     "data": {
      "text/html": [
       "<style>#sk-container-id-1 {color: black;}#sk-container-id-1 pre{padding: 0;}#sk-container-id-1 div.sk-toggleable {background-color: white;}#sk-container-id-1 label.sk-toggleable__label {cursor: pointer;display: block;width: 100%;margin-bottom: 0;padding: 0.3em;box-sizing: border-box;text-align: center;}#sk-container-id-1 label.sk-toggleable__label-arrow:before {content: \"▸\";float: left;margin-right: 0.25em;color: #696969;}#sk-container-id-1 label.sk-toggleable__label-arrow:hover:before {color: black;}#sk-container-id-1 div.sk-estimator:hover label.sk-toggleable__label-arrow:before {color: black;}#sk-container-id-1 div.sk-toggleable__content {max-height: 0;max-width: 0;overflow: hidden;text-align: left;background-color: #f0f8ff;}#sk-container-id-1 div.sk-toggleable__content pre {margin: 0.2em;color: black;border-radius: 0.25em;background-color: #f0f8ff;}#sk-container-id-1 input.sk-toggleable__control:checked~div.sk-toggleable__content {max-height: 200px;max-width: 100%;overflow: auto;}#sk-container-id-1 input.sk-toggleable__control:checked~label.sk-toggleable__label-arrow:before {content: \"▾\";}#sk-container-id-1 div.sk-estimator input.sk-toggleable__control:checked~label.sk-toggleable__label {background-color: #d4ebff;}#sk-container-id-1 div.sk-label input.sk-toggleable__control:checked~label.sk-toggleable__label {background-color: #d4ebff;}#sk-container-id-1 input.sk-hidden--visually {border: 0;clip: rect(1px 1px 1px 1px);clip: rect(1px, 1px, 1px, 1px);height: 1px;margin: -1px;overflow: hidden;padding: 0;position: absolute;width: 1px;}#sk-container-id-1 div.sk-estimator {font-family: monospace;background-color: #f0f8ff;border: 1px dotted black;border-radius: 0.25em;box-sizing: border-box;margin-bottom: 0.5em;}#sk-container-id-1 div.sk-estimator:hover {background-color: #d4ebff;}#sk-container-id-1 div.sk-parallel-item::after {content: \"\";width: 100%;border-bottom: 1px solid gray;flex-grow: 1;}#sk-container-id-1 div.sk-label:hover label.sk-toggleable__label {background-color: #d4ebff;}#sk-container-id-1 div.sk-serial::before {content: \"\";position: absolute;border-left: 1px solid gray;box-sizing: border-box;top: 0;bottom: 0;left: 50%;z-index: 0;}#sk-container-id-1 div.sk-serial {display: flex;flex-direction: column;align-items: center;background-color: white;padding-right: 0.2em;padding-left: 0.2em;position: relative;}#sk-container-id-1 div.sk-item {position: relative;z-index: 1;}#sk-container-id-1 div.sk-parallel {display: flex;align-items: stretch;justify-content: center;background-color: white;position: relative;}#sk-container-id-1 div.sk-item::before, #sk-container-id-1 div.sk-parallel-item::before {content: \"\";position: absolute;border-left: 1px solid gray;box-sizing: border-box;top: 0;bottom: 0;left: 50%;z-index: -1;}#sk-container-id-1 div.sk-parallel-item {display: flex;flex-direction: column;z-index: 1;position: relative;background-color: white;}#sk-container-id-1 div.sk-parallel-item:first-child::after {align-self: flex-end;width: 50%;}#sk-container-id-1 div.sk-parallel-item:last-child::after {align-self: flex-start;width: 50%;}#sk-container-id-1 div.sk-parallel-item:only-child::after {width: 0;}#sk-container-id-1 div.sk-dashed-wrapped {border: 1px dashed gray;margin: 0 0.4em 0.5em 0.4em;box-sizing: border-box;padding-bottom: 0.4em;background-color: white;}#sk-container-id-1 div.sk-label label {font-family: monospace;font-weight: bold;display: inline-block;line-height: 1.2em;}#sk-container-id-1 div.sk-label-container {text-align: center;}#sk-container-id-1 div.sk-container {/* jupyter's `normalize.less` sets `[hidden] { display: none; }` but bootstrap.min.css set `[hidden] { display: none !important; }` so we also need the `!important` here to be able to override the default hidden behavior on the sphinx rendered scikit-learn.org. See: https://github.com/scikit-learn/scikit-learn/issues/21755 */display: inline-block !important;position: relative;}#sk-container-id-1 div.sk-text-repr-fallback {display: none;}</style><div id=\"sk-container-id-1\" class=\"sk-top-container\"><div class=\"sk-text-repr-fallback\"><pre>GridSearchCV(cv=KFold(n_splits=5, random_state=2021, shuffle=True),\n",
       "             error_score=&#x27;raise&#x27;,\n",
       "             estimator=KerasClassifier(batch_size=40, epochs=60, model=&lt;keras.engine.sequential.Sequential object at 0x000001DE6249A310&gt;, validation_split=0.2),\n",
       "             param_grid={&#x27;optimizer&#x27;: [&#x27;SGD&#x27;, &#x27;RMSprop&#x27;, &#x27;Adagrad&#x27;]},\n",
       "             refit=&#x27;True&#x27;, scoring=&#x27;accuracy&#x27;, verbose=1)</pre><b>In a Jupyter environment, please rerun this cell to show the HTML representation or trust the notebook. <br />On GitHub, the HTML representation is unable to render, please try loading this page with nbviewer.org.</b></div><div class=\"sk-container\" hidden><div class=\"sk-item sk-dashed-wrapped\"><div class=\"sk-label-container\"><div class=\"sk-label sk-toggleable\"><input class=\"sk-toggleable__control sk-hidden--visually\" id=\"sk-estimator-id-1\" type=\"checkbox\" ><label for=\"sk-estimator-id-1\" class=\"sk-toggleable__label sk-toggleable__label-arrow\">GridSearchCV</label><div class=\"sk-toggleable__content\"><pre>GridSearchCV(cv=KFold(n_splits=5, random_state=2021, shuffle=True),\n",
       "             error_score=&#x27;raise&#x27;,\n",
       "             estimator=KerasClassifier(batch_size=40, epochs=60, model=&lt;keras.engine.sequential.Sequential object at 0x000001DE6249A310&gt;, validation_split=0.2),\n",
       "             param_grid={&#x27;optimizer&#x27;: [&#x27;SGD&#x27;, &#x27;RMSprop&#x27;, &#x27;Adagrad&#x27;]},\n",
       "             refit=&#x27;True&#x27;, scoring=&#x27;accuracy&#x27;, verbose=1)</pre></div></div></div><div class=\"sk-parallel\"><div class=\"sk-parallel-item\"><div class=\"sk-item\"><div class=\"sk-label-container\"><div class=\"sk-label sk-toggleable\"><input class=\"sk-toggleable__control sk-hidden--visually\" id=\"sk-estimator-id-2\" type=\"checkbox\" ><label for=\"sk-estimator-id-2\" class=\"sk-toggleable__label sk-toggleable__label-arrow\">estimator: KerasClassifier</label><div class=\"sk-toggleable__content\"><pre>KerasClassifier(\n",
       "\tmodel=&lt;keras.engine.sequential.Sequential object at 0x000001DE6249A310&gt;\n",
       "\tbuild_fn=None\n",
       "\twarm_start=False\n",
       "\trandom_state=None\n",
       "\toptimizer=rmsprop\n",
       "\tloss=None\n",
       "\tmetrics=None\n",
       "\tbatch_size=40\n",
       "\tvalidation_batch_size=None\n",
       "\tverbose=1\n",
       "\tcallbacks=None\n",
       "\tvalidation_split=0.2\n",
       "\tshuffle=True\n",
       "\trun_eagerly=False\n",
       "\tepochs=60\n",
       "\tclass_weight=None\n",
       ")</pre></div></div></div><div class=\"sk-serial\"><div class=\"sk-item\"><div class=\"sk-estimator sk-toggleable\"><input class=\"sk-toggleable__control sk-hidden--visually\" id=\"sk-estimator-id-3\" type=\"checkbox\" ><label for=\"sk-estimator-id-3\" class=\"sk-toggleable__label sk-toggleable__label-arrow\">KerasClassifier</label><div class=\"sk-toggleable__content\"><pre>KerasClassifier(\n",
       "\tmodel=&lt;keras.engine.sequential.Sequential object at 0x000001DE6249A310&gt;\n",
       "\tbuild_fn=None\n",
       "\twarm_start=False\n",
       "\trandom_state=None\n",
       "\toptimizer=rmsprop\n",
       "\tloss=None\n",
       "\tmetrics=None\n",
       "\tbatch_size=40\n",
       "\tvalidation_batch_size=None\n",
       "\tverbose=1\n",
       "\tcallbacks=None\n",
       "\tvalidation_split=0.2\n",
       "\tshuffle=True\n",
       "\trun_eagerly=False\n",
       "\tepochs=60\n",
       "\tclass_weight=None\n",
       ")</pre></div></div></div></div></div></div></div></div></div></div>"
      ],
      "text/plain": [
       "GridSearchCV(cv=KFold(n_splits=5, random_state=2021, shuffle=True),\n",
       "             error_score='raise',\n",
       "             estimator=KerasClassifier(batch_size=40, epochs=60, model=<keras.engine.sequential.Sequential object at 0x000001DE6249A310>, validation_split=0.2),\n",
       "             param_grid={'optimizer': ['SGD', 'RMSprop', 'Adagrad']},\n",
       "             refit='True', scoring='accuracy', verbose=1)"
      ]
     },
     "execution_count": 19,
     "metadata": {},
     "output_type": "execute_result"
    }
   ],
   "source": [
    "grid_search = GridSearchCV(estimator = model, param_grid = param_grid, cv = kf, scoring = 'accuracy',refit = 'True', verbose = 1,error_score='raise',)\n",
    "grid_search.fit(X_train,y_train)"
   ]
  },
  {
   "cell_type": "code",
   "execution_count": 20,
   "id": "6f612303",
   "metadata": {
    "tags": []
   },
   "outputs": [
    {
     "name": "stdout",
     "output_type": "stream",
     "text": [
      "Best: 0.836500 using {'optimizer': 'RMSprop'}\n"
     ]
    }
   ],
   "source": [
    "print(\"Best: %f using %s\" % (grid_search.best_score_,grid_search.best_params_))"
   ]
  },
  {
   "cell_type": "code",
   "execution_count": 21,
   "id": "c9890f14",
   "metadata": {
    "tags": []
   },
   "outputs": [],
   "source": [
    "means = grid_search.cv_results_['mean_test_score']\n",
    "stds = grid_search.cv_results_['std_test_score']\n",
    "params = grid_search.cv_results_['params']"
   ]
  },
  {
   "cell_type": "code",
   "execution_count": 22,
   "id": "3e853ad5",
   "metadata": {
    "tags": []
   },
   "outputs": [
    {
     "name": "stdout",
     "output_type": "stream",
     "text": [
      "0.833250 (0.008426) with {'optimizer': 'SGD'}\n",
      "0.836500 (0.004430) with {'optimizer': 'RMSprop'}\n",
      "0.836000 (0.004430) with {'optimizer': 'Adagrad'}\n"
     ]
    }
   ],
   "source": [
    "for mean, stdev, param in zip(means, stds, params):\n",
    "    print(\"%f (%f) with %r\" %(mean, stdev,param))"
   ]
  },
  {
   "cell_type": "code",
   "execution_count": 23,
   "id": "8a34ec04",
   "metadata": {
    "tags": []
   },
   "outputs": [],
   "source": [
    "best_mlp_model = grid_search.best_estimator_"
   ]
  },
  {
   "cell_type": "code",
   "execution_count": 24,
   "id": "b4c71c56",
   "metadata": {
    "tags": []
   },
   "outputs": [
    {
     "name": "stdout",
     "output_type": "stream",
     "text": [
      "Epoch 1/100\n",
      "100/100 [==============================] - 1s 9ms/step - loss: 0.3744 - accuracy: 0.8315 - precision: 0.7843 - recall: 0.8056 - val_loss: 0.3782 - val_accuracy: 0.8360 - val_precision: 0.7963 - val_recall: 0.7801\n",
      "Epoch 2/100\n",
      "100/100 [==============================] - 0s 4ms/step - loss: 0.3728 - accuracy: 0.8363 - precision: 0.7901 - recall: 0.8111 - val_loss: 0.4386 - val_accuracy: 0.8290 - val_precision: 0.7236 - val_recall: 0.9105\n",
      "Epoch 3/100\n",
      "100/100 [==============================] - 0s 4ms/step - loss: 0.3733 - accuracy: 0.8370 - precision: 0.7861 - recall: 0.8210 - val_loss: 0.4039 - val_accuracy: 0.8290 - val_precision: 0.7391 - val_recall: 0.8696\n",
      "Epoch 4/100\n",
      "100/100 [==============================] - 0s 4ms/step - loss: 0.3663 - accuracy: 0.8363 - precision: 0.7840 - recall: 0.8222 - val_loss: 0.3728 - val_accuracy: 0.8330 - val_precision: 0.7828 - val_recall: 0.7928\n",
      "Epoch 5/100\n",
      "100/100 [==============================] - 0s 3ms/step - loss: 0.3822 - accuracy: 0.8320 - precision: 0.7801 - recall: 0.8148 - val_loss: 0.3709 - val_accuracy: 0.8340 - val_precision: 0.7792 - val_recall: 0.8031\n",
      "Epoch 6/100\n",
      "100/100 [==============================] - 0s 4ms/step - loss: 0.3696 - accuracy: 0.8338 - precision: 0.7810 - recall: 0.8191 - val_loss: 0.3939 - val_accuracy: 0.8330 - val_precision: 0.8011 - val_recall: 0.7621\n",
      "Epoch 7/100\n",
      "100/100 [==============================] - 0s 4ms/step - loss: 0.3663 - accuracy: 0.8380 - precision: 0.7835 - recall: 0.8290 - val_loss: 0.3688 - val_accuracy: 0.8320 - val_precision: 0.7700 - val_recall: 0.8133\n",
      "Epoch 8/100\n",
      "100/100 [==============================] - 0s 4ms/step - loss: 0.3690 - accuracy: 0.8363 - precision: 0.7853 - recall: 0.8198 - val_loss: 0.3813 - val_accuracy: 0.8340 - val_precision: 0.7907 - val_recall: 0.7826\n",
      "Epoch 9/100\n",
      "100/100 [==============================] - 0s 4ms/step - loss: 0.3686 - accuracy: 0.8345 - precision: 0.7808 - recall: 0.8222 - val_loss: 0.3704 - val_accuracy: 0.8330 - val_precision: 0.7679 - val_recall: 0.8210\n",
      "Epoch 10/100\n",
      "100/100 [==============================] - 0s 4ms/step - loss: 0.3740 - accuracy: 0.8367 - precision: 0.7823 - recall: 0.8272 - val_loss: 0.3678 - val_accuracy: 0.8320 - val_precision: 0.7700 - val_recall: 0.8133\n",
      "Epoch 11/100\n",
      "100/100 [==============================] - 0s 4ms/step - loss: 0.3689 - accuracy: 0.8375 - precision: 0.7813 - recall: 0.8315 - val_loss: 0.3958 - val_accuracy: 0.8300 - val_precision: 0.7418 - val_recall: 0.8670\n",
      "Epoch 12/100\n",
      "100/100 [==============================] - 0s 4ms/step - loss: 0.3686 - accuracy: 0.8372 - precision: 0.7815 - recall: 0.8302 - val_loss: 0.3709 - val_accuracy: 0.8300 - val_precision: 0.7588 - val_recall: 0.8286\n",
      "Epoch 13/100\n",
      "100/100 [==============================] - 0s 4ms/step - loss: 0.3662 - accuracy: 0.8372 - precision: 0.7805 - recall: 0.8321 - val_loss: 0.3665 - val_accuracy: 0.8320 - val_precision: 0.7700 - val_recall: 0.8133\n",
      "Epoch 14/100\n",
      "100/100 [==============================] - 0s 4ms/step - loss: 0.3653 - accuracy: 0.8345 - precision: 0.7778 - recall: 0.8278 - val_loss: 0.3689 - val_accuracy: 0.8350 - val_precision: 0.7783 - val_recall: 0.8082\n",
      "Epoch 15/100\n",
      "100/100 [==============================] - 0s 4ms/step - loss: 0.3738 - accuracy: 0.8338 - precision: 0.7778 - recall: 0.8253 - val_loss: 0.3707 - val_accuracy: 0.8280 - val_precision: 0.7517 - val_recall: 0.8363\n",
      "Epoch 16/100\n",
      "100/100 [==============================] - 0s 4ms/step - loss: 0.3761 - accuracy: 0.8363 - precision: 0.7771 - recall: 0.8352 - val_loss: 0.3769 - val_accuracy: 0.8330 - val_precision: 0.7857 - val_recall: 0.7877\n",
      "Epoch 17/100\n",
      "100/100 [==============================] - 0s 4ms/step - loss: 0.3703 - accuracy: 0.8325 - precision: 0.7755 - recall: 0.8253 - val_loss: 0.3698 - val_accuracy: 0.8290 - val_precision: 0.7535 - val_recall: 0.8363\n",
      "Epoch 18/100\n",
      "100/100 [==============================] - 0s 4ms/step - loss: 0.3635 - accuracy: 0.8390 - precision: 0.7818 - recall: 0.8358 - val_loss: 0.4116 - val_accuracy: 0.8350 - val_precision: 0.8021 - val_recall: 0.7673\n",
      "Epoch 19/100\n",
      "100/100 [==============================] - 0s 3ms/step - loss: 0.3627 - accuracy: 0.8347 - precision: 0.7745 - recall: 0.8352 - val_loss: 0.3682 - val_accuracy: 0.8340 - val_precision: 0.7737 - val_recall: 0.8133\n",
      "Epoch 20/100\n",
      "100/100 [==============================] - 0s 4ms/step - loss: 0.3638 - accuracy: 0.8390 - precision: 0.7792 - recall: 0.8407 - val_loss: 0.3853 - val_accuracy: 0.8340 - val_precision: 0.7848 - val_recall: 0.7928\n",
      "Epoch 21/100\n",
      "100/100 [==============================] - 0s 3ms/step - loss: 0.3650 - accuracy: 0.8375 - precision: 0.7768 - recall: 0.8401 - val_loss: 0.3696 - val_accuracy: 0.8340 - val_precision: 0.7792 - val_recall: 0.8031\n",
      "Epoch 22/100\n",
      "100/100 [==============================] - 0s 4ms/step - loss: 0.3696 - accuracy: 0.8365 - precision: 0.7779 - recall: 0.8346 - val_loss: 0.3666 - val_accuracy: 0.8290 - val_precision: 0.7535 - val_recall: 0.8363\n",
      "Epoch 23/100\n",
      "100/100 [==============================] - 0s 4ms/step - loss: 0.3641 - accuracy: 0.8372 - precision: 0.7780 - recall: 0.8370 - val_loss: 0.3843 - val_accuracy: 0.8280 - val_precision: 0.7375 - val_recall: 0.8696\n",
      "Epoch 24/100\n",
      "100/100 [==============================] - 0s 4ms/step - loss: 0.3671 - accuracy: 0.8375 - precision: 0.7781 - recall: 0.8377 - val_loss: 0.4367 - val_accuracy: 0.8190 - val_precision: 0.7059 - val_recall: 0.9207\n",
      "Epoch 25/100\n",
      "100/100 [==============================] - 0s 3ms/step - loss: 0.3742 - accuracy: 0.8375 - precision: 0.7753 - recall: 0.8432 - val_loss: 0.3820 - val_accuracy: 0.8290 - val_precision: 0.7402 - val_recall: 0.8670\n",
      "Epoch 26/100\n",
      "100/100 [==============================] - 0s 3ms/step - loss: 0.3669 - accuracy: 0.8422 - precision: 0.7831 - recall: 0.8444 - val_loss: 0.3741 - val_accuracy: 0.8330 - val_precision: 0.7843 - val_recall: 0.7903\n",
      "Epoch 27/100\n",
      "100/100 [==============================] - 0s 3ms/step - loss: 0.3674 - accuracy: 0.8385 - precision: 0.7780 - recall: 0.8414 - val_loss: 0.3799 - val_accuracy: 0.8350 - val_precision: 0.7897 - val_recall: 0.7877\n",
      "Epoch 28/100\n",
      "100/100 [==============================] - 0s 4ms/step - loss: 0.3751 - accuracy: 0.8393 - precision: 0.7790 - recall: 0.8420 - val_loss: 0.3642 - val_accuracy: 0.8320 - val_precision: 0.7700 - val_recall: 0.8133\n",
      "Epoch 29/100\n",
      "100/100 [==============================] - 0s 4ms/step - loss: 0.3689 - accuracy: 0.8355 - precision: 0.7745 - recall: 0.8377 - val_loss: 0.3684 - val_accuracy: 0.8350 - val_precision: 0.7797 - val_recall: 0.8056\n",
      "Epoch 30/100\n",
      "100/100 [==============================] - 0s 4ms/step - loss: 0.3627 - accuracy: 0.8397 - precision: 0.7777 - recall: 0.8463 - val_loss: 0.3690 - val_accuracy: 0.8280 - val_precision: 0.7506 - val_recall: 0.8389\n",
      "Epoch 31/100\n",
      "100/100 [==============================] - 0s 4ms/step - loss: 0.3642 - accuracy: 0.8372 - precision: 0.7742 - recall: 0.8444 - val_loss: 0.3622 - val_accuracy: 0.8320 - val_precision: 0.7624 - val_recall: 0.8286\n",
      "Epoch 32/100\n",
      "100/100 [==============================] - 0s 4ms/step - loss: 0.3591 - accuracy: 0.8410 - precision: 0.7789 - recall: 0.8481 - val_loss: 0.3657 - val_accuracy: 0.8280 - val_precision: 0.7506 - val_recall: 0.8389\n",
      "Epoch 33/100\n",
      "100/100 [==============================] - 0s 4ms/step - loss: 0.3613 - accuracy: 0.8380 - precision: 0.7749 - recall: 0.8457 - val_loss: 0.3943 - val_accuracy: 0.8250 - val_precision: 0.7278 - val_recall: 0.8824\n",
      "Epoch 34/100\n",
      "100/100 [==============================] - 0s 4ms/step - loss: 0.3632 - accuracy: 0.8375 - precision: 0.7719 - recall: 0.8500 - val_loss: 0.3617 - val_accuracy: 0.8360 - val_precision: 0.7696 - val_recall: 0.8286\n",
      "Epoch 35/100\n",
      "100/100 [==============================] - 0s 4ms/step - loss: 0.3615 - accuracy: 0.8375 - precision: 0.7753 - recall: 0.8432 - val_loss: 0.3613 - val_accuracy: 0.8320 - val_precision: 0.7624 - val_recall: 0.8286\n",
      "Epoch 36/100\n",
      "100/100 [==============================] - 0s 4ms/step - loss: 0.3661 - accuracy: 0.8390 - precision: 0.7729 - recall: 0.8531 - val_loss: 0.3624 - val_accuracy: 0.8320 - val_precision: 0.7687 - val_recall: 0.8159\n",
      "Epoch 37/100\n"
     ]
    },
    {
     "name": "stdout",
     "output_type": "stream",
     "text": [
      "100/100 [==============================] - 0s 4ms/step - loss: 0.3661 - accuracy: 0.8388 - precision: 0.7794 - recall: 0.8395 - val_loss: 0.3796 - val_accuracy: 0.8270 - val_precision: 0.7339 - val_recall: 0.8747\n",
      "Epoch 38/100\n",
      "100/100 [==============================] - 0s 4ms/step - loss: 0.3704 - accuracy: 0.8375 - precision: 0.7737 - recall: 0.8463 - val_loss: 0.3608 - val_accuracy: 0.8360 - val_precision: 0.7696 - val_recall: 0.8286\n",
      "Epoch 39/100\n",
      "100/100 [==============================] - 0s 4ms/step - loss: 0.3585 - accuracy: 0.8380 - precision: 0.7733 - recall: 0.8488 - val_loss: 0.3663 - val_accuracy: 0.8360 - val_precision: 0.7696 - val_recall: 0.8286\n",
      "Epoch 40/100\n",
      "100/100 [==============================] - 0s 4ms/step - loss: 0.3647 - accuracy: 0.8410 - precision: 0.7780 - recall: 0.8500 - val_loss: 0.3612 - val_accuracy: 0.8270 - val_precision: 0.7500 - val_recall: 0.8363\n",
      "Epoch 41/100\n",
      "100/100 [==============================] - 0s 4ms/step - loss: 0.3597 - accuracy: 0.8393 - precision: 0.7743 - recall: 0.8512 - val_loss: 0.3603 - val_accuracy: 0.8350 - val_precision: 0.7678 - val_recall: 0.8286\n",
      "Epoch 42/100\n",
      "100/100 [==============================] - 0s 4ms/step - loss: 0.3612 - accuracy: 0.8390 - precision: 0.7742 - recall: 0.8506 - val_loss: 0.3628 - val_accuracy: 0.8310 - val_precision: 0.7681 - val_recall: 0.8133\n",
      "Epoch 43/100\n",
      "100/100 [==============================] - 0s 4ms/step - loss: 0.3583 - accuracy: 0.8418 - precision: 0.7743 - recall: 0.8599 - val_loss: 0.3622 - val_accuracy: 0.8270 - val_precision: 0.7500 - val_recall: 0.8363\n",
      "Epoch 44/100\n",
      "100/100 [==============================] - 0s 4ms/step - loss: 0.3595 - accuracy: 0.8420 - precision: 0.7763 - recall: 0.8568 - val_loss: 0.3609 - val_accuracy: 0.8290 - val_precision: 0.7535 - val_recall: 0.8363\n",
      "Epoch 45/100\n",
      "100/100 [==============================] - 0s 4ms/step - loss: 0.3582 - accuracy: 0.8397 - precision: 0.7739 - recall: 0.8537 - val_loss: 0.3666 - val_accuracy: 0.8340 - val_precision: 0.7698 - val_recall: 0.8210\n",
      "Epoch 46/100\n",
      "100/100 [==============================] - 0s 4ms/step - loss: 0.3624 - accuracy: 0.8407 - precision: 0.7744 - recall: 0.8562 - val_loss: 0.3716 - val_accuracy: 0.8280 - val_precision: 0.7365 - val_recall: 0.8721\n",
      "Epoch 47/100\n",
      "100/100 [==============================] - 0s 4ms/step - loss: 0.3585 - accuracy: 0.8400 - precision: 0.7722 - recall: 0.8580 - val_loss: 0.3640 - val_accuracy: 0.8310 - val_precision: 0.7681 - val_recall: 0.8133\n",
      "Epoch 48/100\n",
      "100/100 [==============================] - 0s 4ms/step - loss: 0.3574 - accuracy: 0.8403 - precision: 0.7739 - recall: 0.8556 - val_loss: 0.3603 - val_accuracy: 0.8320 - val_precision: 0.7624 - val_recall: 0.8286\n",
      "Epoch 49/100\n",
      "100/100 [==============================] - 0s 4ms/step - loss: 0.3800 - accuracy: 0.8345 - precision: 0.7700 - recall: 0.8432 - val_loss: 0.3759 - val_accuracy: 0.8300 - val_precision: 0.7429 - val_recall: 0.8645\n",
      "Epoch 50/100\n",
      "100/100 [==============================] - 0s 4ms/step - loss: 0.3587 - accuracy: 0.8397 - precision: 0.7764 - recall: 0.8488 - val_loss: 0.3605 - val_accuracy: 0.8320 - val_precision: 0.7599 - val_recall: 0.8338\n",
      "Epoch 51/100\n",
      "100/100 [==============================] - 0s 4ms/step - loss: 0.3649 - accuracy: 0.8393 - precision: 0.7715 - recall: 0.8568 - val_loss: 0.3732 - val_accuracy: 0.8340 - val_precision: 0.7792 - val_recall: 0.8031\n",
      "Epoch 52/100\n",
      "100/100 [==============================] - 0s 4ms/step - loss: 0.3591 - accuracy: 0.8425 - precision: 0.7775 - recall: 0.8562 - val_loss: 0.3590 - val_accuracy: 0.8290 - val_precision: 0.7535 - val_recall: 0.8363\n",
      "Epoch 53/100\n",
      "100/100 [==============================] - 0s 4ms/step - loss: 0.3592 - accuracy: 0.8415 - precision: 0.7727 - recall: 0.8623 - val_loss: 0.3585 - val_accuracy: 0.8330 - val_precision: 0.7642 - val_recall: 0.8286\n",
      "Epoch 54/100\n",
      "100/100 [==============================] - 0s 4ms/step - loss: 0.3584 - accuracy: 0.8367 - precision: 0.7697 - recall: 0.8519 - val_loss: 0.3758 - val_accuracy: 0.8260 - val_precision: 0.7294 - val_recall: 0.8824\n",
      "Epoch 55/100\n",
      "100/100 [==============================] - 0s 4ms/step - loss: 0.3613 - accuracy: 0.8372 - precision: 0.7705 - recall: 0.8519 - val_loss: 0.3585 - val_accuracy: 0.8330 - val_precision: 0.7642 - val_recall: 0.8286\n",
      "Epoch 56/100\n",
      "100/100 [==============================] - 0s 4ms/step - loss: 0.3564 - accuracy: 0.8438 - precision: 0.7797 - recall: 0.8562 - val_loss: 0.3603 - val_accuracy: 0.8290 - val_precision: 0.7444 - val_recall: 0.8568\n",
      "Epoch 57/100\n",
      "100/100 [==============================] - 0s 4ms/step - loss: 0.3597 - accuracy: 0.8357 - precision: 0.7665 - recall: 0.8549 - val_loss: 0.4186 - val_accuracy: 0.8190 - val_precision: 0.7067 - val_recall: 0.9182\n",
      "Epoch 58/100\n",
      "100/100 [==============================] - 0s 4ms/step - loss: 0.3713 - accuracy: 0.8367 - precision: 0.7697 - recall: 0.8519 - val_loss: 0.3717 - val_accuracy: 0.8270 - val_precision: 0.7359 - val_recall: 0.8696\n",
      "Epoch 59/100\n",
      "100/100 [==============================] - 0s 4ms/step - loss: 0.3683 - accuracy: 0.8375 - precision: 0.7706 - recall: 0.8525 - val_loss: 0.3620 - val_accuracy: 0.8310 - val_precision: 0.7681 - val_recall: 0.8133\n",
      "Epoch 60/100\n",
      "100/100 [==============================] - 0s 5ms/step - loss: 0.3579 - accuracy: 0.8418 - precision: 0.7755 - recall: 0.8574 - val_loss: 0.3655 - val_accuracy: 0.8290 - val_precision: 0.7391 - val_recall: 0.8696\n",
      "Epoch 61/100\n",
      "100/100 [==============================] - 0s 4ms/step - loss: 0.3571 - accuracy: 0.8400 - precision: 0.7683 - recall: 0.8660 - val_loss: 0.3643 - val_accuracy: 0.8360 - val_precision: 0.7709 - val_recall: 0.8261\n",
      "Epoch 62/100\n",
      "100/100 [==============================] - 0s 4ms/step - loss: 0.3583 - accuracy: 0.8367 - precision: 0.7700 - recall: 0.8512 - val_loss: 0.3845 - val_accuracy: 0.8280 - val_precision: 0.7230 - val_recall: 0.9079\n",
      "Epoch 63/100\n",
      "100/100 [==============================] - 0s 4ms/step - loss: 0.3625 - accuracy: 0.8393 - precision: 0.7686 - recall: 0.8630 - val_loss: 0.3745 - val_accuracy: 0.8360 - val_precision: 0.7789 - val_recall: 0.8107\n",
      "Epoch 64/100\n",
      "100/100 [==============================] - 0s 5ms/step - loss: 0.3712 - accuracy: 0.8413 - precision: 0.7756 - recall: 0.8556 - val_loss: 0.3694 - val_accuracy: 0.8330 - val_precision: 0.7718 - val_recall: 0.8133\n",
      "Epoch 65/100\n",
      "100/100 [==============================] - 0s 4ms/step - loss: 0.3623 - accuracy: 0.8415 - precision: 0.7751 - recall: 0.8574 - val_loss: 0.3610 - val_accuracy: 0.8320 - val_precision: 0.7517 - val_recall: 0.8517\n",
      "Epoch 66/100\n",
      "100/100 [==============================] - 0s 4ms/step - loss: 0.3623 - accuracy: 0.8390 - precision: 0.7717 - recall: 0.8556 - val_loss: 0.3873 - val_accuracy: 0.8290 - val_precision: 0.7361 - val_recall: 0.8772\n",
      "Epoch 67/100\n",
      "100/100 [==============================] - 0s 4ms/step - loss: 0.3620 - accuracy: 0.8407 - precision: 0.7729 - recall: 0.8593 - val_loss: 0.3752 - val_accuracy: 0.8360 - val_precision: 0.7789 - val_recall: 0.8107\n",
      "Epoch 68/100\n",
      "100/100 [==============================] - 0s 4ms/step - loss: 0.3646 - accuracy: 0.8382 - precision: 0.7701 - recall: 0.8562 - val_loss: 0.3601 - val_accuracy: 0.8320 - val_precision: 0.7461 - val_recall: 0.8645\n",
      "Epoch 69/100\n",
      "100/100 [==============================] - 0s 4ms/step - loss: 0.3577 - accuracy: 0.8405 - precision: 0.7698 - recall: 0.8648 - val_loss: 0.3571 - val_accuracy: 0.8330 - val_precision: 0.7642 - val_recall: 0.8286\n",
      "Epoch 70/100\n",
      "100/100 [==============================] - 0s 4ms/step - loss: 0.3669 - accuracy: 0.8390 - precision: 0.7714 - recall: 0.8562 - val_loss: 0.3771 - val_accuracy: 0.8270 - val_precision: 0.7380 - val_recall: 0.8645\n",
      "Epoch 71/100\n",
      "100/100 [==============================] - 0s 4ms/step - loss: 0.3623 - accuracy: 0.8357 - precision: 0.7707 - recall: 0.8463 - val_loss: 0.3738 - val_accuracy: 0.8290 - val_precision: 0.7361 - val_recall: 0.8772\n",
      "Epoch 72/100\n",
      "100/100 [==============================] - 0s 3ms/step - loss: 0.3748 - accuracy: 0.8380 - precision: 0.7727 - recall: 0.8500 - val_loss: 0.3614 - val_accuracy: 0.8350 - val_precision: 0.7756 - val_recall: 0.8133\n",
      "Epoch 73/100\n"
     ]
    },
    {
     "name": "stdout",
     "output_type": "stream",
     "text": [
      "100/100 [==============================] - 0s 4ms/step - loss: 0.3614 - accuracy: 0.8407 - precision: 0.7744 - recall: 0.8562 - val_loss: 0.3591 - val_accuracy: 0.8300 - val_precision: 0.7517 - val_recall: 0.8440\n",
      "Epoch 74/100\n",
      "100/100 [==============================] - 0s 4ms/step - loss: 0.3572 - accuracy: 0.8382 - precision: 0.7701 - recall: 0.8562 - val_loss: 0.3682 - val_accuracy: 0.8350 - val_precision: 0.7703 - val_recall: 0.8235\n",
      "Epoch 75/100\n",
      "100/100 [==============================] - 0s 5ms/step - loss: 0.3614 - accuracy: 0.8367 - precision: 0.7715 - recall: 0.8481 - val_loss: 0.3626 - val_accuracy: 0.8300 - val_precision: 0.7429 - val_recall: 0.8645\n",
      "Epoch 76/100\n",
      "100/100 [==============================] - 0s 4ms/step - loss: 0.3606 - accuracy: 0.8403 - precision: 0.7673 - recall: 0.8691 - val_loss: 0.3571 - val_accuracy: 0.8310 - val_precision: 0.7593 - val_recall: 0.8312\n",
      "Epoch 77/100\n",
      "100/100 [==============================] - 0s 4ms/step - loss: 0.3600 - accuracy: 0.8397 - precision: 0.7730 - recall: 0.8556 - val_loss: 0.3582 - val_accuracy: 0.8290 - val_precision: 0.7455 - val_recall: 0.8542\n",
      "Epoch 78/100\n",
      "100/100 [==============================] - 0s 4ms/step - loss: 0.3605 - accuracy: 0.8435 - precision: 0.7743 - recall: 0.8660 - val_loss: 0.3587 - val_accuracy: 0.8330 - val_precision: 0.7642 - val_recall: 0.8286\n",
      "Epoch 79/100\n",
      "100/100 [==============================] - 0s 4ms/step - loss: 0.3590 - accuracy: 0.8405 - precision: 0.7743 - recall: 0.8556 - val_loss: 0.3579 - val_accuracy: 0.8320 - val_precision: 0.7528 - val_recall: 0.8491\n",
      "Epoch 80/100\n",
      "100/100 [==============================] - 0s 4ms/step - loss: 0.3558 - accuracy: 0.8415 - precision: 0.7700 - recall: 0.8679 - val_loss: 0.3606 - val_accuracy: 0.8300 - val_precision: 0.7429 - val_recall: 0.8645\n",
      "Epoch 81/100\n",
      "100/100 [==============================] - 0s 4ms/step - loss: 0.3637 - accuracy: 0.8355 - precision: 0.7657 - recall: 0.8556 - val_loss: 0.3674 - val_accuracy: 0.8310 - val_precision: 0.7445 - val_recall: 0.8645\n",
      "Epoch 82/100\n",
      "100/100 [==============================] - 0s 4ms/step - loss: 0.3594 - accuracy: 0.8430 - precision: 0.7756 - recall: 0.8617 - val_loss: 0.3582 - val_accuracy: 0.8290 - val_precision: 0.7535 - val_recall: 0.8363\n",
      "Epoch 83/100\n",
      "100/100 [==============================] - 0s 4ms/step - loss: 0.3562 - accuracy: 0.8413 - precision: 0.7719 - recall: 0.8630 - val_loss: 0.3685 - val_accuracy: 0.8340 - val_precision: 0.7737 - val_recall: 0.8133\n",
      "Epoch 84/100\n",
      "100/100 [==============================] - 0s 4ms/step - loss: 0.3563 - accuracy: 0.8428 - precision: 0.7709 - recall: 0.8704 - val_loss: 0.3580 - val_accuracy: 0.8310 - val_precision: 0.7445 - val_recall: 0.8645\n",
      "Epoch 85/100\n",
      "100/100 [==============================] - 0s 4ms/step - loss: 0.3530 - accuracy: 0.8438 - precision: 0.7717 - recall: 0.8722 - val_loss: 0.3819 - val_accuracy: 0.8280 - val_precision: 0.7365 - val_recall: 0.8721\n",
      "Epoch 86/100\n",
      "100/100 [==============================] - 0s 4ms/step - loss: 0.3637 - accuracy: 0.8363 - precision: 0.7658 - recall: 0.8580 - val_loss: 0.3571 - val_accuracy: 0.8330 - val_precision: 0.7642 - val_recall: 0.8286\n",
      "Epoch 87/100\n",
      "100/100 [==============================] - 0s 4ms/step - loss: 0.3608 - accuracy: 0.8405 - precision: 0.7710 - recall: 0.8623 - val_loss: 0.3764 - val_accuracy: 0.8280 - val_precision: 0.7248 - val_recall: 0.9028\n",
      "Epoch 88/100\n",
      "100/100 [==============================] - 0s 4ms/step - loss: 0.3623 - accuracy: 0.8397 - precision: 0.7727 - recall: 0.8562 - val_loss: 0.3587 - val_accuracy: 0.8320 - val_precision: 0.7611 - val_recall: 0.8312\n",
      "Epoch 89/100\n",
      "100/100 [==============================] - 0s 4ms/step - loss: 0.3561 - accuracy: 0.8405 - precision: 0.7695 - recall: 0.8654 - val_loss: 0.3567 - val_accuracy: 0.8290 - val_precision: 0.7511 - val_recall: 0.8414\n",
      "Epoch 90/100\n",
      "100/100 [==============================] - 0s 4ms/step - loss: 0.3589 - accuracy: 0.8407 - precision: 0.7678 - recall: 0.8698 - val_loss: 0.3608 - val_accuracy: 0.8310 - val_precision: 0.7500 - val_recall: 0.8517\n",
      "Epoch 91/100\n",
      "100/100 [==============================] - 0s 4ms/step - loss: 0.3612 - accuracy: 0.8405 - precision: 0.7704 - recall: 0.8636 - val_loss: 0.3562 - val_accuracy: 0.8290 - val_precision: 0.7523 - val_recall: 0.8389\n",
      "Epoch 92/100\n",
      "100/100 [==============================] - 0s 4ms/step - loss: 0.3576 - accuracy: 0.8393 - precision: 0.7697 - recall: 0.8605 - val_loss: 0.4145 - val_accuracy: 0.8170 - val_precision: 0.6992 - val_recall: 0.9335\n",
      "Epoch 93/100\n",
      "100/100 [==============================] - 0s 4ms/step - loss: 0.3595 - accuracy: 0.8400 - precision: 0.7683 - recall: 0.8660 - val_loss: 0.3662 - val_accuracy: 0.8280 - val_precision: 0.7355 - val_recall: 0.8747\n",
      "Epoch 94/100\n",
      "100/100 [==============================] - 0s 4ms/step - loss: 0.3587 - accuracy: 0.8420 - precision: 0.7702 - recall: 0.8691 - val_loss: 0.3686 - val_accuracy: 0.8320 - val_precision: 0.7823 - val_recall: 0.7903\n",
      "Epoch 95/100\n",
      "100/100 [==============================] - 0s 4ms/step - loss: 0.3625 - accuracy: 0.8360 - precision: 0.7687 - recall: 0.8512 - val_loss: 0.3819 - val_accuracy: 0.8350 - val_precision: 0.7797 - val_recall: 0.8056\n",
      "Epoch 96/100\n",
      "100/100 [==============================] - 0s 4ms/step - loss: 0.3637 - accuracy: 0.8378 - precision: 0.7696 - recall: 0.8556 - val_loss: 0.3568 - val_accuracy: 0.8290 - val_precision: 0.7511 - val_recall: 0.8414\n",
      "Epoch 97/100\n",
      "100/100 [==============================] - 0s 4ms/step - loss: 0.3656 - accuracy: 0.8380 - precision: 0.7712 - recall: 0.8531 - val_loss: 0.3588 - val_accuracy: 0.8300 - val_precision: 0.7461 - val_recall: 0.8568\n",
      "Epoch 98/100\n",
      "100/100 [==============================] - 0s 4ms/step - loss: 0.3574 - accuracy: 0.8390 - precision: 0.7723 - recall: 0.8543 - val_loss: 0.3598 - val_accuracy: 0.8270 - val_precision: 0.7380 - val_recall: 0.8645\n",
      "Epoch 99/100\n",
      "100/100 [==============================] - 0s 4ms/step - loss: 0.3600 - accuracy: 0.8410 - precision: 0.7686 - recall: 0.8691 - val_loss: 0.4001 - val_accuracy: 0.8200 - val_precision: 0.7081 - val_recall: 0.9182\n",
      "Epoch 100/100\n",
      "100/100 [==============================] - 0s 4ms/step - loss: 0.3622 - accuracy: 0.8425 - precision: 0.7714 - recall: 0.8685 - val_loss: 0.3575 - val_accuracy: 0.8310 - val_precision: 0.7467 - val_recall: 0.8593\n"
     ]
    },
    {
     "data": {
      "text/html": [
       "<style>#sk-container-id-2 {color: black;}#sk-container-id-2 pre{padding: 0;}#sk-container-id-2 div.sk-toggleable {background-color: white;}#sk-container-id-2 label.sk-toggleable__label {cursor: pointer;display: block;width: 100%;margin-bottom: 0;padding: 0.3em;box-sizing: border-box;text-align: center;}#sk-container-id-2 label.sk-toggleable__label-arrow:before {content: \"▸\";float: left;margin-right: 0.25em;color: #696969;}#sk-container-id-2 label.sk-toggleable__label-arrow:hover:before {color: black;}#sk-container-id-2 div.sk-estimator:hover label.sk-toggleable__label-arrow:before {color: black;}#sk-container-id-2 div.sk-toggleable__content {max-height: 0;max-width: 0;overflow: hidden;text-align: left;background-color: #f0f8ff;}#sk-container-id-2 div.sk-toggleable__content pre {margin: 0.2em;color: black;border-radius: 0.25em;background-color: #f0f8ff;}#sk-container-id-2 input.sk-toggleable__control:checked~div.sk-toggleable__content {max-height: 200px;max-width: 100%;overflow: auto;}#sk-container-id-2 input.sk-toggleable__control:checked~label.sk-toggleable__label-arrow:before {content: \"▾\";}#sk-container-id-2 div.sk-estimator input.sk-toggleable__control:checked~label.sk-toggleable__label {background-color: #d4ebff;}#sk-container-id-2 div.sk-label input.sk-toggleable__control:checked~label.sk-toggleable__label {background-color: #d4ebff;}#sk-container-id-2 input.sk-hidden--visually {border: 0;clip: rect(1px 1px 1px 1px);clip: rect(1px, 1px, 1px, 1px);height: 1px;margin: -1px;overflow: hidden;padding: 0;position: absolute;width: 1px;}#sk-container-id-2 div.sk-estimator {font-family: monospace;background-color: #f0f8ff;border: 1px dotted black;border-radius: 0.25em;box-sizing: border-box;margin-bottom: 0.5em;}#sk-container-id-2 div.sk-estimator:hover {background-color: #d4ebff;}#sk-container-id-2 div.sk-parallel-item::after {content: \"\";width: 100%;border-bottom: 1px solid gray;flex-grow: 1;}#sk-container-id-2 div.sk-label:hover label.sk-toggleable__label {background-color: #d4ebff;}#sk-container-id-2 div.sk-serial::before {content: \"\";position: absolute;border-left: 1px solid gray;box-sizing: border-box;top: 0;bottom: 0;left: 50%;z-index: 0;}#sk-container-id-2 div.sk-serial {display: flex;flex-direction: column;align-items: center;background-color: white;padding-right: 0.2em;padding-left: 0.2em;position: relative;}#sk-container-id-2 div.sk-item {position: relative;z-index: 1;}#sk-container-id-2 div.sk-parallel {display: flex;align-items: stretch;justify-content: center;background-color: white;position: relative;}#sk-container-id-2 div.sk-item::before, #sk-container-id-2 div.sk-parallel-item::before {content: \"\";position: absolute;border-left: 1px solid gray;box-sizing: border-box;top: 0;bottom: 0;left: 50%;z-index: -1;}#sk-container-id-2 div.sk-parallel-item {display: flex;flex-direction: column;z-index: 1;position: relative;background-color: white;}#sk-container-id-2 div.sk-parallel-item:first-child::after {align-self: flex-end;width: 50%;}#sk-container-id-2 div.sk-parallel-item:last-child::after {align-self: flex-start;width: 50%;}#sk-container-id-2 div.sk-parallel-item:only-child::after {width: 0;}#sk-container-id-2 div.sk-dashed-wrapped {border: 1px dashed gray;margin: 0 0.4em 0.5em 0.4em;box-sizing: border-box;padding-bottom: 0.4em;background-color: white;}#sk-container-id-2 div.sk-label label {font-family: monospace;font-weight: bold;display: inline-block;line-height: 1.2em;}#sk-container-id-2 div.sk-label-container {text-align: center;}#sk-container-id-2 div.sk-container {/* jupyter's `normalize.less` sets `[hidden] { display: none; }` but bootstrap.min.css set `[hidden] { display: none !important; }` so we also need the `!important` here to be able to override the default hidden behavior on the sphinx rendered scikit-learn.org. See: https://github.com/scikit-learn/scikit-learn/issues/21755 */display: inline-block !important;position: relative;}#sk-container-id-2 div.sk-text-repr-fallback {display: none;}</style><div id=\"sk-container-id-2\" class=\"sk-top-container\"><div class=\"sk-text-repr-fallback\"><pre>KerasClassifier(\n",
       "\tmodel=&lt;keras.engine.sequential.Sequential object at 0x000001DE70E5FFD0&gt;\n",
       "\tbuild_fn=None\n",
       "\twarm_start=False\n",
       "\trandom_state=None\n",
       "\toptimizer=RMSprop\n",
       "\tloss=None\n",
       "\tmetrics=None\n",
       "\tbatch_size=40\n",
       "\tvalidation_batch_size=None\n",
       "\tverbose=1\n",
       "\tcallbacks=None\n",
       "\tvalidation_split=0.2\n",
       "\tshuffle=True\n",
       "\trun_eagerly=False\n",
       "\tepochs=60\n",
       "\tclass_weight=None\n",
       ")</pre><b>In a Jupyter environment, please rerun this cell to show the HTML representation or trust the notebook. <br />On GitHub, the HTML representation is unable to render, please try loading this page with nbviewer.org.</b></div><div class=\"sk-container\" hidden><div class=\"sk-item\"><div class=\"sk-estimator sk-toggleable\"><input class=\"sk-toggleable__control sk-hidden--visually\" id=\"sk-estimator-id-4\" type=\"checkbox\" checked><label for=\"sk-estimator-id-4\" class=\"sk-toggleable__label sk-toggleable__label-arrow\">KerasClassifier</label><div class=\"sk-toggleable__content\"><pre>KerasClassifier(\n",
       "\tmodel=&lt;keras.engine.sequential.Sequential object at 0x000001DE70E5FFD0&gt;\n",
       "\tbuild_fn=None\n",
       "\twarm_start=False\n",
       "\trandom_state=None\n",
       "\toptimizer=RMSprop\n",
       "\tloss=None\n",
       "\tmetrics=None\n",
       "\tbatch_size=40\n",
       "\tvalidation_batch_size=None\n",
       "\tverbose=1\n",
       "\tcallbacks=None\n",
       "\tvalidation_split=0.2\n",
       "\tshuffle=True\n",
       "\trun_eagerly=False\n",
       "\tepochs=60\n",
       "\tclass_weight=None\n",
       ")</pre></div></div></div></div></div>"
      ],
      "text/plain": [
       "KerasClassifier(\n",
       "\tmodel=<keras.engine.sequential.Sequential object at 0x000001DE70E5FFD0>\n",
       "\tbuild_fn=None\n",
       "\twarm_start=False\n",
       "\trandom_state=None\n",
       "\toptimizer=RMSprop\n",
       "\tloss=None\n",
       "\tmetrics=None\n",
       "\tbatch_size=40\n",
       "\tvalidation_batch_size=None\n",
       "\tverbose=1\n",
       "\tcallbacks=None\n",
       "\tvalidation_split=0.2\n",
       "\tshuffle=True\n",
       "\trun_eagerly=False\n",
       "\tepochs=60\n",
       "\tclass_weight=None\n",
       ")"
      ]
     },
     "execution_count": 24,
     "metadata": {},
     "output_type": "execute_result"
    }
   ],
   "source": [
    "best_mlp_model.fit(X_train, y_train, epochs =100, validation_data = (X_test, y_test), verbose =1)"
   ]
  },
  {
   "cell_type": "code",
   "execution_count": 25,
   "id": "604bcfc5",
   "metadata": {
    "tags": []
   },
   "outputs": [
    {
     "data": {
      "image/png": "[encoded data removed]",
      "text/plain": [
       "<Figure size 640x480 with 1 Axes>"
      ]
     },
     "metadata": {},
     "output_type": "display_data"
    }
   ],
   "source": [
    "plt.plot(best_mlp_model.history_['loss'])\n",
    "plt.plot(best_mlp_model.history_['val_loss'])\n",
    "plt.title('model performance')\n",
    "plt.ylabel('loss values')\n",
    "plt.xlabel('epoch')\n",
    "plt.legend(['train', 'val'], loc='upper left')\n",
    "plt.show()"
   ]
  },
  {
   "cell_type": "code",
   "execution_count": 26,
   "id": "5c79abd2",
   "metadata": {
    "tags": []
   },
   "outputs": [
    {
     "data": {
      "image/png": "[encoded data removed]",
      "text/plain": [
       "<Figure size 800x500 with 1 Axes>"
      ]
     },
     "metadata": {},
     "output_type": "display_data"
    }
   ],
   "source": [
    "pd.DataFrame(best_mlp_model.history_).plot(figsize=(8,5))\n",
    "plt.show()"
   ]
  },
  {
   "cell_type": "code",
   "execution_count": 27,
   "id": "4616ddc8",
   "metadata": {
    "tags": []
   },
   "outputs": [
    {
     "name": "stdout",
     "output_type": "stream",
     "text": [
      "25/25 [==============================] - 0s 2ms/step\n"
     ]
    }
   ],
   "source": [
    "prediction = best_mlp_model.predict(X_test)"
   ]
  },
  {
   "cell_type": "code",
   "execution_count": 28,
   "id": "8c8c0265",
   "metadata": {
    "tags": []
   },
   "outputs": [],
   "source": [
    "from sklearn import metrics"
   ]
  },
  {
   "cell_type": "code",
   "execution_count": 29,
   "id": "693b8027",
   "metadata": {
    "tags": []
   },
   "outputs": [
    {
     "name": "stdout",
     "output_type": "stream",
     "text": [
      "Accuracy:  0.831\n",
      "Precision:  0.7466666666666667\n",
      "Recall:  0.8593350383631714\n"
     ]
    }
   ],
   "source": [
    "accuracy = metrics.accuracy_score(y_test, prediction)\n",
    "precision = metrics.precision_score(y_test, prediction)\n",
    "recall = metrics.recall_score(y_test, prediction)\n",
    "\n",
    "print('Accuracy: ', accuracy)\n",
    "print('Precision: ', precision)\n",
    "print('Recall: ', recall)"
   ]
  },
  {
   "cell_type": "code",
   "execution_count": 30,
   "id": "a23d0ea0",
   "metadata": {
    "tags": []
   },
   "outputs": [
    {
     "data": {
      "text/plain": [
       "<matplotlib.collections.PathCollection at 0x1de7295f310>"
      ]
     },
     "execution_count": 30,
     "metadata": {},
     "output_type": "execute_result"
    },
    {
     "data": {
      "image/png": "[encoded data removed]",
      "text/plain": [
       "<Figure size 640x480 with 1 Axes>"
      ]
     },
     "metadata": {},
     "output_type": "display_data"
    }
   ],
   "source": [
    "plt.scatter(y_test,prediction)"
   ]
  },
  {
   "cell_type": "code",
   "execution_count": 31,
   "id": "cb942872",
   "metadata": {
    "tags": []
   },
   "outputs": [],
   "source": [
    "def real_predicted_viz(limit):\n",
    "    plt.figure(figsize=(14,6))\n",
    "    plt.plot(y_test[:limit],color='green',label='Actual')\n",
    "    plt.plot(prediction[:limit],color='red',label='Predicted')\n",
    "    plt.grid(alpha=0.3)\n",
    "    \n",
    "    plt.title('Real x Predicted')\n",
    "    plt.legend()\n",
    "    plt.show()"
   ]
  },
  {
   "cell_type": "code",
   "execution_count": 32,
   "id": "fee731ae",
   "metadata": {
    "tags": []
   },
   "outputs": [
    {
     "data": {
      "image/png": "[encoded data removed]",
      "text/plain": [
       "<Figure size 1400x600 with 1 Axes>"
      ]
     },
     "metadata": {},
     "output_type": "display_data"
    }
   ],
   "source": [
    "real_predicted_viz(200)"
   ]
  },
  {
   "cell_type": "code",
   "execution_count": 33,
   "id": "8f9c0ca3",
   "metadata": {},
   "outputs": [
    {
     "data": {
      "image/png": "[encoded data removed]",
      "text/plain": [
       "<Figure size 640x480 with 2 Axes>"
      ]
     },
     "metadata": {},
     "output_type": "display_data"
    }
   ],
   "source": [
    "from sklearn.metrics import confusion_matrix, ConfusionMatrixDisplay\n",
    "ConfusionMatrixDisplay.from_predictions(y_test,prediction)\n",
    "\n",
    "plt.show()"
   ]
  },
  {
   "cell_type": "code",
   "execution_count": 34,
   "id": "bf8b9b1b",
   "metadata": {},
   "outputs": [
    {
     "name": "stdout",
     "output_type": "stream",
     "text": [
      "              precision    recall  f1-score   support\n",
      "\n",
      "           0       0.90      0.81      0.85       609\n",
      "           1       0.75      0.86      0.80       391\n",
      "\n",
      "    accuracy                           0.83      1000\n",
      "   macro avg       0.82      0.84      0.83      1000\n",
      "weighted avg       0.84      0.83      0.83      1000\n",
      "\n"
     ]
    }
   ],
   "source": [
    "from sklearn.metrics import classification_report\n",
    "print(classification_report(y_test,prediction))"
   ]
  }
 ],
 "metadata": {
  "kernelspec": {
   "display_name": "Python 3 (ipykernel)",
   "language": "python",
   "name": "python3"
  },
  "language_info": {
   "codemirror_mode": {
    "name": "ipython",
    "version": 3
   },
   "file_extension": ".py",
   "mimetype": "text/x-python",
   "name": "python",
   "nbconvert_exporter": "python",
   "pygments_lexer": "ipython3",
   "version": "3.11.5"
  }
 },
 "nbformat": 4,
 "nbformat_minor": 5
}
