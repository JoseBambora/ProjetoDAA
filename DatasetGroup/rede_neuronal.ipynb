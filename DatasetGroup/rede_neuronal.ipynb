{
 "cells": [
  {
   "cell_type": "markdown",
   "id": "2e2010da",
   "metadata": {},
   "source": [
    "# Decision Tree for KickStarProject dataset\n",
    "\n",
    "Goal: predict state"
   ]
  },
  {
   "cell_type": "code",
   "execution_count": 1,
   "id": "7aeb164c",
   "metadata": {
    "tags": []
   },
   "outputs": [],
   "source": [
    "import pandas as pd\n",
    "import numpy as np\n",
    "import matplotlib.pyplot as plt\n",
    "import seaborn as sns\n",
    "%matplotlib inline"
   ]
  },
  {
   "cell_type": "code",
   "execution_count": 2,
   "id": "36975df2",
   "metadata": {
    "tags": []
   },
   "outputs": [],
   "source": [
    "%store -r data"
   ]
  },
  {
   "cell_type": "code",
   "execution_count": 3,
   "id": "5d67e3ed",
   "metadata": {
    "tags": []
   },
   "outputs": [
    {
     "name": "stdout",
     "output_type": "stream",
     "text": [
      "Index(['category', 'main_category', 'currency', 'deadline', 'goal', 'launched',\n",
      "       'pledged', 'state', 'backers', 'country', 'usd pledged',\n",
      "       'usd_pledged_real', 'usd_goal_real', 'continent', 'days_launched',\n",
      "       'launched_month'],\n",
      "      dtype='object')\n",
      "(5000, 16)\n",
      "<class 'pandas.core.frame.DataFrame'>\n",
      "Index: 5000 entries, 372978 to 378660\n",
      "Data columns (total 16 columns):\n",
      " #   Column            Non-Null Count  Dtype         \n",
      "---  ------            --------------  -----         \n",
      " 0   category          5000 non-null   object        \n",
      " 1   main_category     5000 non-null   object        \n",
      " 2   currency          5000 non-null   object        \n",
      " 3   deadline          5000 non-null   datetime64[ns]\n",
      " 4   goal              5000 non-null   float64       \n",
      " 5   launched          5000 non-null   datetime64[ns]\n",
      " 6   pledged           5000 non-null   float64       \n",
      " 7   state             5000 non-null   int64         \n",
      " 8   backers           5000 non-null   int64         \n",
      " 9   country           5000 non-null   object        \n",
      " 10  usd pledged       5000 non-null   float64       \n",
      " 11  usd_pledged_real  5000 non-null   float64       \n",
      " 12  usd_goal_real     5000 non-null   float64       \n",
      " 13  continent         5000 non-null   object        \n",
      " 14  days_launched     5000 non-null   int64         \n",
      " 15  launched_month    5000 non-null   int32         \n",
      "dtypes: datetime64[ns](2), float64(5), int32(1), int64(3), object(5)\n",
      "memory usage: 644.5+ KB\n",
      "None\n"
     ]
    }
   ],
   "source": [
    "print(data.columns)\n",
    "print(data.shape)\n",
    "print(data.info())"
   ]
  },
  {
   "cell_type": "code",
   "execution_count": 4,
   "id": "2863005b",
   "metadata": {
    "tags": []
   },
   "outputs": [
    {
     "name": "stdout",
     "output_type": "stream",
     "text": [
      "<class 'pandas.core.frame.DataFrame'>\n",
      "Index: 5000 entries, 372978 to 378660\n",
      "Data columns (total 5 columns):\n",
      " #   Column            Non-Null Count  Dtype  \n",
      "---  ------            --------------  -----  \n",
      " 0   pledged           5000 non-null   float64\n",
      " 1   state             5000 non-null   int64  \n",
      " 2   backers           5000 non-null   int64  \n",
      " 3   usd pledged       5000 non-null   float64\n",
      " 4   usd_pledged_real  5000 non-null   float64\n",
      "dtypes: float64(3), int64(2)\n",
      "memory usage: 234.4 KB\n"
     ]
    }
   ],
   "source": [
    "data_rn = data.copy()\n",
    "data_rn.drop(['category','main_category','currency','deadline','goal','launched','country','continent','usd_goal_real','days_launched','launched_month'] ,axis=1,inplace=True)\n",
    "data_rn.info()"
   ]
  },
  {
   "cell_type": "code",
   "execution_count": 5,
   "id": "63a37ee5",
   "metadata": {
    "tags": []
   },
   "outputs": [],
   "source": [
    "from sklearn.model_selection import train_test_split\n",
    "from sklearn.tree import DecisionTreeClassifier\n",
    "from sklearn.tree import DecisionTreeRegressor\n",
    "from sklearn.metrics import confusion_matrix\n",
    "from sklearn.metrics import recall_score\n",
    "from sklearn.metrics import accuracy_score\n",
    "from sklearn.metrics import precision_score\n",
    "from sklearn.metrics import roc_auc_score\n",
    "from sklearn.metrics import roc_curve\n",
    "from sklearn.metrics import f1_score\n",
    "from sklearn.metrics import fbeta_score\n",
    "from sklearn.metrics import mean_absolute_error\n",
    "from sklearn.metrics import mean_squared_error\n",
    "\n",
    "def grafico_barras(data,atr,title,xlabel,ylabel):\n",
    "    incidents_count = data[atr].value_counts()\n",
    "    sns.set(style='darkgrid')\n",
    "    sns.barplot(x=incidents_count.index, y=incidents_count.values)\n",
    "    plt.title(title)\n",
    "    plt.ylabel(ylabel)\n",
    "    plt.xlabel(xlabel)\n",
    "    plt.show()\n",
    "\n",
    "\n",
    "X = data_rn.drop(['state'],axis=1)\n",
    "y = data_rn['state'].to_frame()\n",
    "random = 2021\n",
    "X_train, X_test, y_train, y_test = train_test_split(X,y, test_size=0.3, random_state=random)"
   ]
  },
  {
   "cell_type": "code",
   "execution_count": 6,
   "id": "768029c1",
   "metadata": {
    "tags": []
   },
   "outputs": [
    {
     "name": "stdout",
     "output_type": "stream",
     "text": [
      "The shape of X (5000, 4). X_train has shape (3500, 4) while X_test has shape (1500, 4)\n",
      "The shape of y (5000, 1). y_train has shape (3500, 1) while y_test has shape (1500, 1)\n"
     ]
    }
   ],
   "source": [
    "print(\"The shape of X %s. X_train has shape %s while X_test has shape %s\" %(X.shape, X_train.shape, X_test.shape))\n",
    "print(\"The shape of y %s. y_train has shape %s while y_test has shape %s\" %(y.shape, y_train.shape, y_test.shape))"
   ]
  },
  {
   "cell_type": "code",
   "execution_count": 7,
   "id": "4467e705",
   "metadata": {
    "tags": []
   },
   "outputs": [
    {
     "name": "stderr",
     "output_type": "stream",
     "text": [
      "C:\\Users\\jmbar\\anaconda3\\Lib\\site-packages\\seaborn\\_oldcore.py:1498: FutureWarning: is_categorical_dtype is deprecated and will be removed in a future version. Use isinstance(dtype, CategoricalDtype) instead\n",
      "  if pd.api.types.is_categorical_dtype(vector):\n",
      "C:\\Users\\jmbar\\anaconda3\\Lib\\site-packages\\seaborn\\_oldcore.py:1498: FutureWarning: is_categorical_dtype is deprecated and will be removed in a future version. Use isinstance(dtype, CategoricalDtype) instead\n",
      "  if pd.api.types.is_categorical_dtype(vector):\n",
      "C:\\Users\\jmbar\\anaconda3\\Lib\\site-packages\\seaborn\\_oldcore.py:1498: FutureWarning: is_categorical_dtype is deprecated and will be removed in a future version. Use isinstance(dtype, CategoricalDtype) instead\n",
      "  if pd.api.types.is_categorical_dtype(vector):\n"
     ]
    },
    {
     "data": {
      "image/png": "[encoded data removed]",
      "text/plain": [
       "<Figure size 640x480 with 1 Axes>"
      ]
     },
     "metadata": {},
     "output_type": "display_data"
    },
    {
     "name": "stderr",
     "output_type": "stream",
     "text": [
      "C:\\Users\\jmbar\\anaconda3\\Lib\\site-packages\\seaborn\\_oldcore.py:1498: FutureWarning: is_categorical_dtype is deprecated and will be removed in a future version. Use isinstance(dtype, CategoricalDtype) instead\n",
      "  if pd.api.types.is_categorical_dtype(vector):\n",
      "C:\\Users\\jmbar\\anaconda3\\Lib\\site-packages\\seaborn\\_oldcore.py:1498: FutureWarning: is_categorical_dtype is deprecated and will be removed in a future version. Use isinstance(dtype, CategoricalDtype) instead\n",
      "  if pd.api.types.is_categorical_dtype(vector):\n",
      "C:\\Users\\jmbar\\anaconda3\\Lib\\site-packages\\seaborn\\_oldcore.py:1498: FutureWarning: is_categorical_dtype is deprecated and will be removed in a future version. Use isinstance(dtype, CategoricalDtype) instead\n",
      "  if pd.api.types.is_categorical_dtype(vector):\n"
     ]
    },
    {
     "data": {
      "image/png": "[encoded data removed]",
      "text/plain": [
       "<Figure size 640x480 with 1 Axes>"
      ]
     },
     "metadata": {},
     "output_type": "display_data"
    }
   ],
   "source": [
    "grafico_barras(y_train,'state','Dados treino','state','Ocorrências')\n",
    "grafico_barras(y_test,'state','Dados teste','state','Ocorrências')"
   ]
  },
  {
   "cell_type": "code",
   "execution_count": 8,
   "id": "684b0c79",
   "metadata": {
    "tags": []
   },
   "outputs": [],
   "source": [
    "from sklearn.model_selection import GridSearchCV, KFold, train_test_split"
   ]
  },
  {
   "cell_type": "code",
   "execution_count": 9,
   "id": "13fca954",
   "metadata": {
    "tags": []
   },
   "outputs": [],
   "source": [
    "import tensorflow as tf\n",
    "from tensorflow import keras\n",
    "from tensorflow.keras.models import Sequential\n",
    "from tensorflow.keras.layers import Dense, Dropout, BatchNormalization\n",
    "from scikeras.wrappers import KerasClassifier"
   ]
  },
  {
   "cell_type": "code",
   "execution_count": 10,
   "id": "eb93b4fe",
   "metadata": {
    "tags": []
   },
   "outputs": [
    {
     "name": "stdout",
     "output_type": "stream",
     "text": [
      "TensorFlow version: 2.12.1\n"
     ]
    }
   ],
   "source": [
    "print(\"TensorFlow version:\", tf.__version__)"
   ]
  },
  {
   "cell_type": "code",
   "execution_count": 11,
   "id": "93fada70",
   "metadata": {
    "tags": []
   },
   "outputs": [],
   "source": [
    "def build_model(activation='sigmoid', learning_rate=0.01):\n",
    "    model = Sequential()\n",
    "    model.add(Dense(16, input_dim=4, activation=activation))\n",
    "    model.add(Dense(12, activation=activation))\n",
    "    model.add(Dense(8, activation=activation))\n",
    "    model.add(Dense(1, activation='sigmoid'))  # Output layer\n",
    "\n",
    "    # Compile the model\n",
    "    model.compile(\n",
    "        loss='binary_crossentropy',\n",
    "        optimizer=tf.optimizers.Adam(learning_rate),\n",
    "        metrics=['accuracy', tf.keras.metrics.Precision(), tf.keras.metrics.Recall()]\n",
    "    )\n",
    "    return model"
   ]
  },
  {
   "cell_type": "code",
   "execution_count": 12,
   "id": "dba9664d-b1a5-49c5-b722-d5267fcf8184",
   "metadata": {
    "tags": []
   },
   "outputs": [],
   "source": [
    "from sklearn.preprocessing import MinMaxScaler\n",
    "\n",
    "scaler_x = MinMaxScaler(feature_range=(0,1)).fit(X)\n",
    "X_scaled = pd.DataFrame(scaler_x.transform(X[X.columns]), columns = X.columns)"
   ]
  },
  {
   "cell_type": "code",
   "execution_count": 13,
   "id": "ffe0d61a-334d-4226-8179-4d5f77ae8fa3",
   "metadata": {
    "tags": []
   },
   "outputs": [
    {
     "data": {
      "text/html": [
       "<div>\n",
       "<style scoped>\n",
       "    .dataframe tbody tr th:only-of-type {\n",
       "        vertical-align: middle;\n",
       "    }\n",
       "\n",
       "    .dataframe tbody tr th {\n",
       "        vertical-align: top;\n",
       "    }\n",
       "\n",
       "    .dataframe thead th {\n",
       "        text-align: right;\n",
       "    }\n",
       "</style>\n",
       "<table border=\"1\" class=\"dataframe\">\n",
       "  <thead>\n",
       "    <tr style=\"text-align: right;\">\n",
       "      <th></th>\n",
       "      <th>pledged</th>\n",
       "      <th>backers</th>\n",
       "      <th>usd pledged</th>\n",
       "      <th>usd_pledged_real</th>\n",
       "    </tr>\n",
       "  </thead>\n",
       "  <tbody>\n",
       "    <tr>\n",
       "      <th>372978</th>\n",
       "      <td>125.0</td>\n",
       "      <td>2</td>\n",
       "      <td>125.0</td>\n",
       "      <td>125.0</td>\n",
       "    </tr>\n",
       "    <tr>\n",
       "      <th>372979</th>\n",
       "      <td>120.0</td>\n",
       "      <td>3</td>\n",
       "      <td>120.0</td>\n",
       "      <td>120.0</td>\n",
       "    </tr>\n",
       "    <tr>\n",
       "      <th>372980</th>\n",
       "      <td>0.0</td>\n",
       "      <td>0</td>\n",
       "      <td>0.0</td>\n",
       "      <td>0.0</td>\n",
       "    </tr>\n",
       "    <tr>\n",
       "      <th>372981</th>\n",
       "      <td>1502.0</td>\n",
       "      <td>12</td>\n",
       "      <td>1502.0</td>\n",
       "      <td>1502.0</td>\n",
       "    </tr>\n",
       "    <tr>\n",
       "      <th>372983</th>\n",
       "      <td>25.0</td>\n",
       "      <td>1</td>\n",
       "      <td>25.0</td>\n",
       "      <td>25.0</td>\n",
       "    </tr>\n",
       "  </tbody>\n",
       "</table>\n",
       "</div>"
      ],
      "text/plain": [
       "        pledged  backers  usd pledged  usd_pledged_real\n",
       "372978    125.0        2        125.0             125.0\n",
       "372979    120.0        3        120.0             120.0\n",
       "372980      0.0        0          0.0               0.0\n",
       "372981   1502.0       12       1502.0            1502.0\n",
       "372983     25.0        1         25.0              25.0"
      ]
     },
     "execution_count": 13,
     "metadata": {},
     "output_type": "execute_result"
    }
   ],
   "source": [
    "X.head()"
   ]
  },
  {
   "cell_type": "code",
   "execution_count": 14,
   "id": "72e87179-a044-4a8d-ab57-e2d12bc138df",
   "metadata": {
    "tags": []
   },
   "outputs": [
    {
     "data": {
      "text/html": [
       "<div>\n",
       "<style scoped>\n",
       "    .dataframe tbody tr th:only-of-type {\n",
       "        vertical-align: middle;\n",
       "    }\n",
       "\n",
       "    .dataframe tbody tr th {\n",
       "        vertical-align: top;\n",
       "    }\n",
       "\n",
       "    .dataframe thead th {\n",
       "        text-align: right;\n",
       "    }\n",
       "</style>\n",
       "<table border=\"1\" class=\"dataframe\">\n",
       "  <thead>\n",
       "    <tr style=\"text-align: right;\">\n",
       "      <th></th>\n",
       "      <th>pledged</th>\n",
       "      <th>backers</th>\n",
       "      <th>usd pledged</th>\n",
       "      <th>usd_pledged_real</th>\n",
       "    </tr>\n",
       "  </thead>\n",
       "  <tbody>\n",
       "    <tr>\n",
       "      <th>0</th>\n",
       "      <td>0.000040</td>\n",
       "      <td>0.000082</td>\n",
       "      <td>0.000040</td>\n",
       "      <td>0.000040</td>\n",
       "    </tr>\n",
       "    <tr>\n",
       "      <th>1</th>\n",
       "      <td>0.000038</td>\n",
       "      <td>0.000123</td>\n",
       "      <td>0.000038</td>\n",
       "      <td>0.000038</td>\n",
       "    </tr>\n",
       "    <tr>\n",
       "      <th>2</th>\n",
       "      <td>0.000000</td>\n",
       "      <td>0.000000</td>\n",
       "      <td>0.000000</td>\n",
       "      <td>0.000000</td>\n",
       "    </tr>\n",
       "    <tr>\n",
       "      <th>3</th>\n",
       "      <td>0.000480</td>\n",
       "      <td>0.000493</td>\n",
       "      <td>0.000480</td>\n",
       "      <td>0.000480</td>\n",
       "    </tr>\n",
       "    <tr>\n",
       "      <th>4</th>\n",
       "      <td>0.000008</td>\n",
       "      <td>0.000041</td>\n",
       "      <td>0.000008</td>\n",
       "      <td>0.000008</td>\n",
       "    </tr>\n",
       "  </tbody>\n",
       "</table>\n",
       "</div>"
      ],
      "text/plain": [
       "    pledged   backers  usd pledged  usd_pledged_real\n",
       "0  0.000040  0.000082     0.000040          0.000040\n",
       "1  0.000038  0.000123     0.000038          0.000038\n",
       "2  0.000000  0.000000     0.000000          0.000000\n",
       "3  0.000480  0.000493     0.000480          0.000480\n",
       "4  0.000008  0.000041     0.000008          0.000008"
      ]
     },
     "execution_count": 14,
     "metadata": {},
     "output_type": "execute_result"
    }
   ],
   "source": [
    "X_scaled.head()"
   ]
  },
  {
   "cell_type": "code",
   "execution_count": 15,
   "id": "055e2c16-9211-452f-bcbb-ccda8f072c1b",
   "metadata": {
    "tags": []
   },
   "outputs": [],
   "source": [
    "X_train, X_test, y_train, y_test = train_test_split(X_scaled,y,test_size=0.2,random_state=2022)"
   ]
  },
  {
   "cell_type": "code",
   "execution_count": 16,
   "id": "a8942302",
   "metadata": {
    "tags": []
   },
   "outputs": [],
   "source": [
    "optimizer = ['SGD', 'RMSprop', 'Adagrad']\n",
    "param_grid = dict(optimizer = optimizer)"
   ]
  },
  {
   "cell_type": "code",
   "execution_count": 17,
   "id": "58624944",
   "metadata": {
    "tags": []
   },
   "outputs": [],
   "source": [
    "kf = KFold(n_splits = 5, shuffle = True, random_state = 2021)"
   ]
  },
  {
   "cell_type": "code",
   "execution_count": 18,
   "id": "44998f40",
   "metadata": {
    "tags": []
   },
   "outputs": [],
   "source": [
    "build_model = build_model()\n",
    "model = KerasClassifier(model = build_model, batch_size = 40, validation_split = 0.2, epochs = 60)"
   ]
  },
  {
   "cell_type": "code",
   "execution_count": 19,
   "id": "d5e17b07",
   "metadata": {
    "tags": []
   },
   "outputs": [
    {
     "name": "stderr",
     "output_type": "stream",
     "text": [
      "WARNING:absl:Found untraced functions such as _update_step_xla while saving (showing 1 of 1). These functions will not be directly callable after loading.\n"
     ]
    },
    {
     "name": "stdout",
     "output_type": "stream",
     "text": [
      "INFO:tensorflow:Assets written to: C:\\Users\\jmbar\\AppData\\Local\\Temp\\tmphkzfh5tf\\assets\n"
     ]
    },
    {
     "name": "stderr",
     "output_type": "stream",
     "text": [
      "INFO:tensorflow:Assets written to: C:\\Users\\jmbar\\AppData\\Local\\Temp\\tmphkzfh5tf\\assets\n"
     ]
    },
    {
     "name": "stdout",
     "output_type": "stream",
     "text": [
      "Fitting 5 folds for each of 3 candidates, totalling 15 fits\n"
     ]
    },
    {
     "name": "stderr",
     "output_type": "stream",
     "text": [
      "WARNING:absl:Found untraced functions such as _update_step_xla while saving (showing 1 of 1). These functions will not be directly callable after loading.\n"
     ]
    },
    {
     "name": "stdout",
     "output_type": "stream",
     "text": [
      "INFO:tensorflow:Assets written to: C:\\Users\\jmbar\\AppData\\Local\\Temp\\tmpydme59ds\\assets\n"
     ]
    },
    {
     "name": "stderr",
     "output_type": "stream",
     "text": [
      "INFO:tensorflow:Assets written to: C:\\Users\\jmbar\\AppData\\Local\\Temp\\tmpydme59ds\\assets\n"
     ]
    },
    {
     "name": "stdout",
     "output_type": "stream",
     "text": [
      "Epoch 1/60\n",
      "64/64 [==============================] - 1s 7ms/step - loss: 0.6764 - accuracy: 0.5984 - precision: 0.0000e+00 - recall: 0.0000e+00 - val_loss: 0.6793 - val_accuracy: 0.5844 - val_precision: 0.0000e+00 - val_recall: 0.0000e+00\n",
      "Epoch 2/60\n",
      "64/64 [==============================] - 0s 2ms/step - loss: 0.6763 - accuracy: 0.5984 - precision: 0.0000e+00 - recall: 0.0000e+00 - val_loss: 0.6800 - val_accuracy: 0.5844 - val_precision: 0.0000e+00 - val_recall: 0.0000e+00\n",
      "Epoch 3/60\n",
      "64/64 [==============================] - 0s 2ms/step - loss: 0.6752 - accuracy: 0.5984 - precision: 0.0000e+00 - recall: 0.0000e+00 - val_loss: 0.6815 - val_accuracy: 0.5844 - val_precision: 0.0000e+00 - val_recall: 0.0000e+00\n",
      "Epoch 4/60\n",
      "64/64 [==============================] - 0s 3ms/step - loss: 0.6763 - accuracy: 0.5984 - precision: 0.0000e+00 - recall: 0.0000e+00 - val_loss: 0.6784 - val_accuracy: 0.5844 - val_precision: 0.0000e+00 - val_recall: 0.0000e+00\n",
      "Epoch 5/60\n",
      "64/64 [==============================] - 0s 2ms/step - loss: 0.6735 - accuracy: 0.5984 - precision: 0.0000e+00 - recall: 0.0000e+00 - val_loss: 0.6782 - val_accuracy: 0.5844 - val_precision: 0.0000e+00 - val_recall: 0.0000e+00\n",
      "Epoch 6/60\n",
      "64/64 [==============================] - 0s 2ms/step - loss: 0.6727 - accuracy: 0.5984 - precision: 0.0000e+00 - recall: 0.0000e+00 - val_loss: 0.6782 - val_accuracy: 0.5844 - val_precision: 0.0000e+00 - val_recall: 0.0000e+00\n",
      "Epoch 7/60\n",
      "64/64 [==============================] - 0s 3ms/step - loss: 0.6709 - accuracy: 0.5988 - precision: 1.0000 - recall: 9.7276e-04 - val_loss: 0.6799 - val_accuracy: 0.5844 - val_precision: 0.0000e+00 - val_recall: 0.0000e+00\n",
      "Epoch 8/60\n",
      "64/64 [==============================] - 0s 3ms/step - loss: 0.6653 - accuracy: 0.6062 - precision: 1.0000 - recall: 0.0195 - val_loss: 0.6701 - val_accuracy: 0.5969 - val_precision: 0.9000 - val_recall: 0.0338\n",
      "Epoch 9/60\n",
      "64/64 [==============================] - 0s 2ms/step - loss: 0.6550 - accuracy: 0.6219 - precision: 0.9412 - recall: 0.0623 - val_loss: 0.6552 - val_accuracy: 0.6016 - val_precision: 0.9231 - val_recall: 0.0451\n",
      "Epoch 10/60\n",
      "64/64 [==============================] - 0s 3ms/step - loss: 0.6211 - accuracy: 0.6598 - precision: 0.9435 - recall: 0.1625 - val_loss: 0.6120 - val_accuracy: 0.6469 - val_precision: 0.9000 - val_recall: 0.1692\n",
      "Epoch 11/60\n",
      "64/64 [==============================] - 0s 3ms/step - loss: 0.5713 - accuracy: 0.7121 - precision: 0.8880 - recall: 0.3239 - val_loss: 0.5554 - val_accuracy: 0.7109 - val_precision: 0.8785 - val_recall: 0.3534\n",
      "Epoch 12/60\n",
      "64/64 [==============================] - 0s 2ms/step - loss: 0.5226 - accuracy: 0.7621 - precision: 0.8656 - recall: 0.4825 - val_loss: 0.5155 - val_accuracy: 0.7750 - val_precision: 0.8389 - val_recall: 0.5677\n",
      "Epoch 13/60\n",
      "64/64 [==============================] - 0s 2ms/step - loss: 0.4835 - accuracy: 0.7863 - precision: 0.8740 - recall: 0.5467 - val_loss: 0.5818 - val_accuracy: 0.7125 - val_precision: 0.8727 - val_recall: 0.3609\n",
      "Epoch 14/60\n",
      "64/64 [==============================] - 0s 2ms/step - loss: 0.4652 - accuracy: 0.7949 - precision: 0.8578 - recall: 0.5866 - val_loss: 0.4915 - val_accuracy: 0.8266 - val_precision: 0.8063 - val_recall: 0.7669\n",
      "Epoch 15/60\n",
      "64/64 [==============================] - 0s 2ms/step - loss: 0.4561 - accuracy: 0.8043 - precision: 0.8391 - recall: 0.6342 - val_loss: 0.4575 - val_accuracy: 0.7859 - val_precision: 0.8177 - val_recall: 0.6241\n",
      "Epoch 16/60\n",
      "64/64 [==============================] - 0s 2ms/step - loss: 0.4397 - accuracy: 0.8066 - precision: 0.8395 - recall: 0.6411 - val_loss: 0.4556 - val_accuracy: 0.7828 - val_precision: 0.8325 - val_recall: 0.5977\n",
      "Epoch 17/60\n",
      "64/64 [==============================] - 0s 2ms/step - loss: 0.4333 - accuracy: 0.8117 - precision: 0.8337 - recall: 0.6634 - val_loss: 0.4465 - val_accuracy: 0.7844 - val_precision: 0.8200 - val_recall: 0.6165\n",
      "Epoch 18/60\n",
      "64/64 [==============================] - 0s 3ms/step - loss: 0.4214 - accuracy: 0.8191 - precision: 0.8359 - recall: 0.6839 - val_loss: 0.4500 - val_accuracy: 0.7875 - val_precision: 0.8283 - val_recall: 0.6165\n",
      "Epoch 19/60\n",
      "64/64 [==============================] - 0s 3ms/step - loss: 0.4102 - accuracy: 0.8219 - precision: 0.8318 - recall: 0.6975 - val_loss: 0.4529 - val_accuracy: 0.7875 - val_precision: 0.8283 - val_recall: 0.6165\n",
      "Epoch 20/60\n",
      "64/64 [==============================] - 0s 2ms/step - loss: 0.4153 - accuracy: 0.8203 - precision: 0.8272 - recall: 0.6984 - val_loss: 0.4309 - val_accuracy: 0.8078 - val_precision: 0.8206 - val_recall: 0.6880\n",
      "Epoch 21/60\n",
      "64/64 [==============================] - 0s 3ms/step - loss: 0.4043 - accuracy: 0.8293 - precision: 0.8302 - recall: 0.7228 - val_loss: 0.4287 - val_accuracy: 0.8031 - val_precision: 0.8182 - val_recall: 0.6767\n",
      "Epoch 22/60\n",
      "64/64 [==============================] - 0s 3ms/step - loss: 0.4079 - accuracy: 0.8238 - precision: 0.8188 - recall: 0.7208 - val_loss: 0.4247 - val_accuracy: 0.8172 - val_precision: 0.8170 - val_recall: 0.7218\n",
      "Epoch 23/60\n",
      "64/64 [==============================] - 0s 3ms/step - loss: 0.4301 - accuracy: 0.8277 - precision: 0.8287 - recall: 0.7198 - val_loss: 0.4252 - val_accuracy: 0.8250 - val_precision: 0.8105 - val_recall: 0.7556\n",
      "Epoch 24/60\n",
      "64/64 [==============================] - 0s 3ms/step - loss: 0.3972 - accuracy: 0.8285 - precision: 0.8269 - recall: 0.7247 - val_loss: 0.4292 - val_accuracy: 0.7984 - val_precision: 0.8186 - val_recall: 0.6617\n",
      "Epoch 25/60\n",
      "64/64 [==============================] - 0s 3ms/step - loss: 0.3981 - accuracy: 0.8242 - precision: 0.8108 - recall: 0.7335 - val_loss: 0.4239 - val_accuracy: 0.8281 - val_precision: 0.7932 - val_recall: 0.7932\n",
      "Epoch 26/60\n",
      "64/64 [==============================] - 0s 3ms/step - loss: 0.4188 - accuracy: 0.8227 - precision: 0.8106 - recall: 0.7286 - val_loss: 0.4167 - val_accuracy: 0.8203 - val_precision: 0.8186 - val_recall: 0.7293\n",
      "Epoch 27/60\n",
      "64/64 [==============================] - 0s 2ms/step - loss: 0.4085 - accuracy: 0.8316 - precision: 0.8220 - recall: 0.7412 - val_loss: 0.4162 - val_accuracy: 0.8281 - val_precision: 0.8120 - val_recall: 0.7632\n",
      "Epoch 28/60\n",
      "64/64 [==============================] - 0s 3ms/step - loss: 0.4041 - accuracy: 0.8254 - precision: 0.8154 - recall: 0.7305 - val_loss: 0.4164 - val_accuracy: 0.8141 - val_precision: 0.8182 - val_recall: 0.7105\n",
      "Epoch 29/60\n",
      "64/64 [==============================] - 0s 2ms/step - loss: 0.3939 - accuracy: 0.8266 - precision: 0.8067 - recall: 0.7471 - val_loss: 0.4232 - val_accuracy: 0.8078 - val_precision: 0.8206 - val_recall: 0.6880\n",
      "Epoch 30/60\n",
      "64/64 [==============================] - 0s 2ms/step - loss: 0.3875 - accuracy: 0.8277 - precision: 0.8159 - recall: 0.7374 - val_loss: 0.4339 - val_accuracy: 0.8000 - val_precision: 0.8194 - val_recall: 0.6654\n",
      "Epoch 31/60\n",
      "64/64 [==============================] - 0s 2ms/step - loss: 0.3876 - accuracy: 0.8289 - precision: 0.8132 - recall: 0.7451 - val_loss: 0.4091 - val_accuracy: 0.8281 - val_precision: 0.8071 - val_recall: 0.7707\n",
      "Epoch 32/60\n",
      "64/64 [==============================] - 0s 2ms/step - loss: 0.4092 - accuracy: 0.8320 - precision: 0.8095 - recall: 0.7607 - val_loss: 0.4428 - val_accuracy: 0.7937 - val_precision: 0.8190 - val_recall: 0.6466\n",
      "Epoch 33/60\n",
      "64/64 [==============================] - 0s 3ms/step - loss: 0.3836 - accuracy: 0.8297 - precision: 0.8090 - recall: 0.7539 - val_loss: 0.4072 - val_accuracy: 0.8297 - val_precision: 0.7985 - val_recall: 0.7895\n",
      "Epoch 34/60\n",
      "64/64 [==============================] - 0s 3ms/step - loss: 0.3901 - accuracy: 0.8297 - precision: 0.8077 - recall: 0.7558 - val_loss: 0.4246 - val_accuracy: 0.8094 - val_precision: 0.8214 - val_recall: 0.6917\n",
      "Epoch 35/60\n",
      "64/64 [==============================] - 0s 3ms/step - loss: 0.3837 - accuracy: 0.8355 - precision: 0.8158 - recall: 0.7626 - val_loss: 0.4340 - val_accuracy: 0.8234 - val_precision: 0.7629 - val_recall: 0.8346\n",
      "Epoch 36/60\n",
      "64/64 [==============================] - 0s 3ms/step - loss: 0.3794 - accuracy: 0.8344 - precision: 0.8107 - recall: 0.7665 - val_loss: 0.4110 - val_accuracy: 0.8203 - val_precision: 0.8186 - val_recall: 0.7293\n",
      "Epoch 37/60\n"
     ]
    },
    {
     "name": "stdout",
     "output_type": "stream",
     "text": [
      "64/64 [==============================] - 0s 3ms/step - loss: 0.3814 - accuracy: 0.8316 - precision: 0.8055 - recall: 0.7656 - val_loss: 0.4029 - val_accuracy: 0.8313 - val_precision: 0.8015 - val_recall: 0.7895\n",
      "Epoch 38/60\n",
      "64/64 [==============================] - 0s 3ms/step - loss: 0.3756 - accuracy: 0.8363 - precision: 0.8129 - recall: 0.7695 - val_loss: 0.4851 - val_accuracy: 0.7922 - val_precision: 0.8213 - val_recall: 0.6391\n",
      "Epoch 39/60\n",
      "64/64 [==============================] - 0s 3ms/step - loss: 0.3827 - accuracy: 0.8367 - precision: 0.8093 - recall: 0.7763 - val_loss: 0.4104 - val_accuracy: 0.8234 - val_precision: 0.8201 - val_recall: 0.7368\n",
      "Epoch 40/60\n",
      "64/64 [==============================] - 0s 3ms/step - loss: 0.3813 - accuracy: 0.8383 - precision: 0.8082 - recall: 0.7831 - val_loss: 0.4054 - val_accuracy: 0.8250 - val_precision: 0.8105 - val_recall: 0.7556\n",
      "Epoch 41/60\n",
      "64/64 [==============================] - 0s 3ms/step - loss: 0.3824 - accuracy: 0.8359 - precision: 0.8034 - recall: 0.7831 - val_loss: 0.3991 - val_accuracy: 0.8250 - val_precision: 0.7873 - val_recall: 0.7932\n",
      "Epoch 42/60\n",
      "64/64 [==============================] - 0s 3ms/step - loss: 0.3769 - accuracy: 0.8313 - precision: 0.8016 - recall: 0.7704 - val_loss: 0.4149 - val_accuracy: 0.8219 - val_precision: 0.7639 - val_recall: 0.8271\n",
      "Epoch 43/60\n",
      "64/64 [==============================] - 0s 2ms/step - loss: 0.3823 - accuracy: 0.8355 - precision: 0.8020 - recall: 0.7840 - val_loss: 0.3982 - val_accuracy: 0.8281 - val_precision: 0.7932 - val_recall: 0.7932\n",
      "Epoch 44/60\n",
      "64/64 [==============================] - 0s 2ms/step - loss: 0.3792 - accuracy: 0.8359 - precision: 0.8028 - recall: 0.7840 - val_loss: 0.4369 - val_accuracy: 0.8109 - val_precision: 0.8166 - val_recall: 0.7030\n",
      "Epoch 45/60\n",
      "64/64 [==============================] - 0s 2ms/step - loss: 0.3770 - accuracy: 0.8363 - precision: 0.8012 - recall: 0.7879 - val_loss: 0.3968 - val_accuracy: 0.8250 - val_precision: 0.7873 - val_recall: 0.7932\n",
      "Epoch 46/60\n",
      "64/64 [==============================] - 0s 2ms/step - loss: 0.3779 - accuracy: 0.8375 - precision: 0.8054 - recall: 0.7850 - val_loss: 0.4045 - val_accuracy: 0.8188 - val_precision: 0.7641 - val_recall: 0.8158\n",
      "Epoch 47/60\n",
      "64/64 [==============================] - 0s 3ms/step - loss: 0.3729 - accuracy: 0.8383 - precision: 0.8040 - recall: 0.7899 - val_loss: 0.3954 - val_accuracy: 0.8250 - val_precision: 0.7831 - val_recall: 0.8008\n",
      "Epoch 48/60\n",
      "64/64 [==============================] - 0s 3ms/step - loss: 0.3919 - accuracy: 0.8332 - precision: 0.7915 - recall: 0.7938 - val_loss: 0.4167 - val_accuracy: 0.8219 - val_precision: 0.8193 - val_recall: 0.7331\n",
      "Epoch 49/60\n",
      "64/64 [==============================] - 0s 3ms/step - loss: 0.3765 - accuracy: 0.8402 - precision: 0.8067 - recall: 0.7918 - val_loss: 0.4012 - val_accuracy: 0.8188 - val_precision: 0.7641 - val_recall: 0.8158\n",
      "Epoch 50/60\n",
      "64/64 [==============================] - 0s 2ms/step - loss: 0.3706 - accuracy: 0.8352 - precision: 0.7988 - recall: 0.7879 - val_loss: 0.3965 - val_accuracy: 0.8250 - val_precision: 0.7750 - val_recall: 0.8158\n",
      "Epoch 51/60\n",
      "64/64 [==============================] - 0s 2ms/step - loss: 0.3788 - accuracy: 0.8375 - precision: 0.7982 - recall: 0.7967 - val_loss: 0.4280 - val_accuracy: 0.8203 - val_precision: 0.8186 - val_recall: 0.7293\n",
      "Epoch 52/60\n",
      "64/64 [==============================] - 0s 3ms/step - loss: 0.3751 - accuracy: 0.8355 - precision: 0.7955 - recall: 0.7947 - val_loss: 0.3947 - val_accuracy: 0.8250 - val_precision: 0.7873 - val_recall: 0.7932\n",
      "Epoch 53/60\n",
      "64/64 [==============================] - 0s 2ms/step - loss: 0.3791 - accuracy: 0.8398 - precision: 0.7977 - recall: 0.8054 - val_loss: 0.4005 - val_accuracy: 0.8281 - val_precision: 0.7955 - val_recall: 0.7895\n",
      "Epoch 54/60\n",
      "64/64 [==============================] - 0s 2ms/step - loss: 0.3809 - accuracy: 0.8406 - precision: 0.8027 - recall: 0.7996 - val_loss: 0.4083 - val_accuracy: 0.8234 - val_precision: 0.7611 - val_recall: 0.8383\n",
      "Epoch 55/60\n",
      "64/64 [==============================] - 0s 3ms/step - loss: 0.3894 - accuracy: 0.8363 - precision: 0.7942 - recall: 0.7996 - val_loss: 0.3921 - val_accuracy: 0.8250 - val_precision: 0.7852 - val_recall: 0.7970\n",
      "Epoch 56/60\n",
      "64/64 [==============================] - 0s 2ms/step - loss: 0.3696 - accuracy: 0.8418 - precision: 0.8027 - recall: 0.8035 - val_loss: 0.3919 - val_accuracy: 0.8266 - val_precision: 0.7798 - val_recall: 0.8120\n",
      "Epoch 57/60\n",
      "64/64 [==============================] - 0s 2ms/step - loss: 0.3750 - accuracy: 0.8406 - precision: 0.7969 - recall: 0.8093 - val_loss: 0.4323 - val_accuracy: 0.8219 - val_precision: 0.8193 - val_recall: 0.7331\n",
      "Epoch 58/60\n",
      "64/64 [==============================] - 0s 3ms/step - loss: 0.3756 - accuracy: 0.8430 - precision: 0.8027 - recall: 0.8074 - val_loss: 0.3996 - val_accuracy: 0.8234 - val_precision: 0.7647 - val_recall: 0.8308\n",
      "Epoch 59/60\n",
      "64/64 [==============================] - 0s 3ms/step - loss: 0.3785 - accuracy: 0.8422 - precision: 0.7994 - recall: 0.8103 - val_loss: 0.3903 - val_accuracy: 0.8266 - val_precision: 0.7839 - val_recall: 0.8045\n",
      "Epoch 60/60\n",
      "64/64 [==============================] - 0s 2ms/step - loss: 0.3737 - accuracy: 0.8418 - precision: 0.8004 - recall: 0.8074 - val_loss: 0.4445 - val_accuracy: 0.8188 - val_precision: 0.8178 - val_recall: 0.7256\n",
      "20/20 [==============================] - 0s 1ms/step\n"
     ]
    },
    {
     "name": "stderr",
     "output_type": "stream",
     "text": [
      "WARNING:absl:Found untraced functions such as _update_step_xla while saving (showing 1 of 1). These functions will not be directly callable after loading.\n"
     ]
    },
    {
     "name": "stdout",
     "output_type": "stream",
     "text": [
      "INFO:tensorflow:Assets written to: C:\\Users\\jmbar\\AppData\\Local\\Temp\\tmp2be7l3if\\assets\n"
     ]
    },
    {
     "name": "stderr",
     "output_type": "stream",
     "text": [
      "INFO:tensorflow:Assets written to: C:\\Users\\jmbar\\AppData\\Local\\Temp\\tmp2be7l3if\\assets\n"
     ]
    },
    {
     "name": "stdout",
     "output_type": "stream",
     "text": [
      "Epoch 1/60\n",
      "64/64 [==============================] - 1s 7ms/step - loss: 0.6775 - accuracy: 0.5926 - precision: 0.0000e+00 - recall: 0.0000e+00 - val_loss: 0.6833 - val_accuracy: 0.5859 - val_precision: 0.0000e+00 - val_recall: 0.0000e+00\n",
      "Epoch 2/60\n",
      "64/64 [==============================] - 0s 2ms/step - loss: 0.6778 - accuracy: 0.5926 - precision: 0.0000e+00 - recall: 0.0000e+00 - val_loss: 0.6783 - val_accuracy: 0.5859 - val_precision: 0.0000e+00 - val_recall: 0.0000e+00\n",
      "Epoch 3/60\n",
      "64/64 [==============================] - 0s 3ms/step - loss: 0.6764 - accuracy: 0.5926 - precision: 0.0000e+00 - recall: 0.0000e+00 - val_loss: 0.6781 - val_accuracy: 0.5859 - val_precision: 0.0000e+00 - val_recall: 0.0000e+00\n",
      "Epoch 4/60\n",
      "64/64 [==============================] - 0s 2ms/step - loss: 0.6772 - accuracy: 0.5926 - precision: 0.0000e+00 - recall: 0.0000e+00 - val_loss: 0.6777 - val_accuracy: 0.5859 - val_precision: 0.0000e+00 - val_recall: 0.0000e+00\n",
      "Epoch 5/60\n",
      "64/64 [==============================] - 0s 2ms/step - loss: 0.6772 - accuracy: 0.5926 - precision: 0.0000e+00 - recall: 0.0000e+00 - val_loss: 0.6783 - val_accuracy: 0.5859 - val_precision: 0.0000e+00 - val_recall: 0.0000e+00\n",
      "Epoch 6/60\n",
      "64/64 [==============================] - 0s 2ms/step - loss: 0.6772 - accuracy: 0.5930 - precision: 1.0000 - recall: 9.5877e-04 - val_loss: 0.6757 - val_accuracy: 0.5859 - val_precision: 0.0000e+00 - val_recall: 0.0000e+00\n",
      "Epoch 7/60\n",
      "64/64 [==============================] - 0s 2ms/step - loss: 0.6723 - accuracy: 0.5934 - precision: 1.0000 - recall: 0.0019 - val_loss: 0.6727 - val_accuracy: 0.5875 - val_precision: 1.0000 - val_recall: 0.0038\n",
      "Epoch 8/60\n",
      "64/64 [==============================] - 0s 2ms/step - loss: 0.6685 - accuracy: 0.6004 - precision: 1.0000 - recall: 0.0192 - val_loss: 0.6654 - val_accuracy: 0.6000 - val_precision: 0.9091 - val_recall: 0.0377\n",
      "Epoch 9/60\n",
      "64/64 [==============================] - 0s 2ms/step - loss: 0.6590 - accuracy: 0.6230 - precision: 0.9432 - recall: 0.0796 - val_loss: 0.6517 - val_accuracy: 0.6172 - val_precision: 0.9545 - val_recall: 0.0792\n",
      "Epoch 10/60\n",
      "64/64 [==============================] - 0s 2ms/step - loss: 0.6390 - accuracy: 0.6687 - precision: 0.9114 - recall: 0.2071 - val_loss: 0.6682 - val_accuracy: 0.6172 - val_precision: 0.9545 - val_recall: 0.0792\n",
      "Epoch 11/60\n",
      "64/64 [==============================] - 0s 2ms/step - loss: 0.6072 - accuracy: 0.6945 - precision: 0.9143 - recall: 0.2761 - val_loss: 0.5885 - val_accuracy: 0.6703 - val_precision: 0.8553 - val_recall: 0.2453\n",
      "Epoch 12/60\n",
      "64/64 [==============================] - 0s 2ms/step - loss: 0.5553 - accuracy: 0.7473 - precision: 0.8779 - recall: 0.4410 - val_loss: 0.5466 - val_accuracy: 0.7063 - val_precision: 0.8738 - val_recall: 0.3396\n",
      "Epoch 13/60\n",
      "64/64 [==============================] - 0s 2ms/step - loss: 0.5062 - accuracy: 0.7707 - precision: 0.8725 - recall: 0.5120 - val_loss: 0.5344 - val_accuracy: 0.7250 - val_precision: 0.8803 - val_recall: 0.3887\n",
      "Epoch 14/60\n",
      "64/64 [==============================] - 0s 3ms/step - loss: 0.4733 - accuracy: 0.7875 - precision: 0.8580 - recall: 0.5733 - val_loss: 0.4733 - val_accuracy: 0.7859 - val_precision: 0.8299 - val_recall: 0.6075\n",
      "Epoch 15/60\n",
      "64/64 [==============================] - 0s 3ms/step - loss: 0.4606 - accuracy: 0.7980 - precision: 0.8329 - recall: 0.6309 - val_loss: 0.4808 - val_accuracy: 0.7672 - val_precision: 0.8537 - val_recall: 0.5283\n",
      "Epoch 16/60\n",
      "64/64 [==============================] - 0s 2ms/step - loss: 0.4401 - accuracy: 0.8086 - precision: 0.8368 - recall: 0.6587 - val_loss: 0.4613 - val_accuracy: 0.8141 - val_precision: 0.8093 - val_recall: 0.7208\n",
      "Epoch 17/60\n",
      "64/64 [==============================] - 0s 3ms/step - loss: 0.4240 - accuracy: 0.8121 - precision: 0.8329 - recall: 0.6740 - val_loss: 0.4450 - val_accuracy: 0.7906 - val_precision: 0.8227 - val_recall: 0.6302\n",
      "Epoch 18/60\n",
      "64/64 [==============================] - 0s 3ms/step - loss: 0.4193 - accuracy: 0.8145 - precision: 0.8341 - recall: 0.6798 - val_loss: 0.4552 - val_accuracy: 0.7859 - val_precision: 0.8299 - val_recall: 0.6075\n",
      "Epoch 19/60\n",
      "64/64 [==============================] - 0s 2ms/step - loss: 0.4129 - accuracy: 0.8168 - precision: 0.8284 - recall: 0.6942 - val_loss: 0.4651 - val_accuracy: 0.8203 - val_precision: 0.7757 - val_recall: 0.7962\n",
      "Epoch 20/60\n",
      "64/64 [==============================] - 0s 2ms/step - loss: 0.4114 - accuracy: 0.8195 - precision: 0.8189 - recall: 0.7152 - val_loss: 0.4398 - val_accuracy: 0.7906 - val_precision: 0.8227 - val_recall: 0.6302\n",
      "Epoch 21/60\n",
      "64/64 [==============================] - 0s 2ms/step - loss: 0.4131 - accuracy: 0.8227 - precision: 0.8233 - recall: 0.7191 - val_loss: 0.4282 - val_accuracy: 0.8062 - val_precision: 0.8133 - val_recall: 0.6906\n",
      "Epoch 22/60\n",
      "64/64 [==============================] - 0s 3ms/step - loss: 0.4202 - accuracy: 0.8238 - precision: 0.8246 - recall: 0.7210 - val_loss: 0.4791 - val_accuracy: 0.8250 - val_precision: 0.7629 - val_recall: 0.8377\n",
      "Epoch 23/60\n",
      "64/64 [==============================] - 0s 3ms/step - loss: 0.4054 - accuracy: 0.8219 - precision: 0.8132 - recall: 0.7306 - val_loss: 0.4325 - val_accuracy: 0.7906 - val_precision: 0.8164 - val_recall: 0.6377\n",
      "Epoch 24/60\n",
      "64/64 [==============================] - 0s 2ms/step - loss: 0.4061 - accuracy: 0.8281 - precision: 0.8225 - recall: 0.7373 - val_loss: 0.4395 - val_accuracy: 0.7906 - val_precision: 0.8227 - val_recall: 0.6302\n",
      "Epoch 25/60\n",
      "64/64 [==============================] - 0s 2ms/step - loss: 0.3961 - accuracy: 0.8273 - precision: 0.8193 - recall: 0.7392 - val_loss: 0.4331 - val_accuracy: 0.7875 - val_precision: 0.8086 - val_recall: 0.6377\n",
      "Epoch 26/60\n",
      "64/64 [==============================] - 0s 3ms/step - loss: 0.4006 - accuracy: 0.8254 - precision: 0.8157 - recall: 0.7383 - val_loss: 0.4604 - val_accuracy: 0.7859 - val_precision: 0.8232 - val_recall: 0.6151\n",
      "Epoch 27/60\n",
      "64/64 [==============================] - 0s 3ms/step - loss: 0.3907 - accuracy: 0.8305 - precision: 0.8155 - recall: 0.7546 - val_loss: 0.4147 - val_accuracy: 0.8156 - val_precision: 0.8000 - val_recall: 0.7396\n",
      "Epoch 28/60\n",
      "64/64 [==============================] - 0s 3ms/step - loss: 0.3946 - accuracy: 0.8324 - precision: 0.8165 - recall: 0.7593 - val_loss: 0.4216 - val_accuracy: 0.8078 - val_precision: 0.8170 - val_recall: 0.6906\n",
      "Epoch 29/60\n",
      "64/64 [==============================] - 0s 2ms/step - loss: 0.3981 - accuracy: 0.8301 - precision: 0.8140 - recall: 0.7555 - val_loss: 0.4348 - val_accuracy: 0.7937 - val_precision: 0.8122 - val_recall: 0.6528\n",
      "Epoch 30/60\n",
      "64/64 [==============================] - 0s 2ms/step - loss: 0.3956 - accuracy: 0.8309 - precision: 0.8125 - recall: 0.7603 - val_loss: 0.4976 - val_accuracy: 0.7875 - val_precision: 0.8308 - val_recall: 0.6113\n",
      "Epoch 31/60\n",
      "64/64 [==============================] - 0s 3ms/step - loss: 0.3857 - accuracy: 0.8293 - precision: 0.8092 - recall: 0.7603 - val_loss: 0.4109 - val_accuracy: 0.8188 - val_precision: 0.8117 - val_recall: 0.7321\n",
      "Epoch 32/60\n",
      "64/64 [==============================] - 0s 2ms/step - loss: 0.3896 - accuracy: 0.8285 - precision: 0.8075 - recall: 0.7603 - val_loss: 0.4089 - val_accuracy: 0.8156 - val_precision: 0.7838 - val_recall: 0.7660\n",
      "Epoch 33/60\n",
      "64/64 [==============================] - 0s 2ms/step - loss: 0.3932 - accuracy: 0.8313 - precision: 0.8077 - recall: 0.7689 - val_loss: 0.4373 - val_accuracy: 0.7922 - val_precision: 0.8084 - val_recall: 0.6528\n",
      "Epoch 34/60\n",
      "64/64 [==============================] - 0s 2ms/step - loss: 0.3942 - accuracy: 0.8297 - precision: 0.8026 - recall: 0.7718 - val_loss: 0.4266 - val_accuracy: 0.8172 - val_precision: 0.7643 - val_recall: 0.8075\n",
      "Epoch 35/60\n",
      "64/64 [==============================] - 0s 2ms/step - loss: 0.3860 - accuracy: 0.8285 - precision: 0.8063 - recall: 0.7622 - val_loss: 0.4046 - val_accuracy: 0.8156 - val_precision: 0.7860 - val_recall: 0.7623\n",
      "Epoch 36/60\n",
      "64/64 [==============================] - 0s 2ms/step - loss: 0.3928 - accuracy: 0.8305 - precision: 0.8024 - recall: 0.7747 - val_loss: 0.4037 - val_accuracy: 0.8156 - val_precision: 0.7882 - val_recall: 0.7585\n",
      "Epoch 37/60\n"
     ]
    },
    {
     "name": "stdout",
     "output_type": "stream",
     "text": [
      "64/64 [==============================] - 0s 2ms/step - loss: 0.3855 - accuracy: 0.8367 - precision: 0.8085 - recall: 0.7852 - val_loss: 0.4029 - val_accuracy: 0.8156 - val_precision: 0.7838 - val_recall: 0.7660\n",
      "Epoch 38/60\n",
      "64/64 [==============================] - 0s 2ms/step - loss: 0.3771 - accuracy: 0.8340 - precision: 0.8065 - recall: 0.7795 - val_loss: 0.4218 - val_accuracy: 0.8094 - val_precision: 0.8095 - val_recall: 0.7057\n",
      "Epoch 39/60\n",
      "64/64 [==============================] - 0s 3ms/step - loss: 0.3871 - accuracy: 0.8305 - precision: 0.8000 - recall: 0.7785 - val_loss: 0.4045 - val_accuracy: 0.8188 - val_precision: 0.7790 - val_recall: 0.7849\n",
      "Epoch 40/60\n",
      "64/64 [==============================] - 0s 2ms/step - loss: 0.3825 - accuracy: 0.8371 - precision: 0.8105 - recall: 0.7833 - val_loss: 0.4023 - val_accuracy: 0.8156 - val_precision: 0.7928 - val_recall: 0.7509\n",
      "Epoch 41/60\n",
      "64/64 [==============================] - 0s 2ms/step - loss: 0.3843 - accuracy: 0.8344 - precision: 0.8031 - recall: 0.7862 - val_loss: 0.4003 - val_accuracy: 0.8125 - val_precision: 0.7778 - val_recall: 0.7660\n",
      "Epoch 42/60\n",
      "64/64 [==============================] - 0s 2ms/step - loss: 0.3799 - accuracy: 0.8348 - precision: 0.8016 - recall: 0.7900 - val_loss: 0.3988 - val_accuracy: 0.8125 - val_precision: 0.7778 - val_recall: 0.7660\n",
      "Epoch 43/60\n",
      "64/64 [==============================] - 0s 3ms/step - loss: 0.3915 - accuracy: 0.8371 - precision: 0.8051 - recall: 0.7919 - val_loss: 0.4106 - val_accuracy: 0.8188 - val_precision: 0.8091 - val_recall: 0.7358\n",
      "Epoch 44/60\n",
      "64/64 [==============================] - 0s 3ms/step - loss: 0.4208 - accuracy: 0.8250 - precision: 0.7831 - recall: 0.7891 - val_loss: 0.4350 - val_accuracy: 0.8016 - val_precision: 0.8136 - val_recall: 0.6755\n",
      "Epoch 45/60\n",
      "64/64 [==============================] - 0s 3ms/step - loss: 0.3967 - accuracy: 0.8305 - precision: 0.7994 - recall: 0.7795 - val_loss: 0.4371 - val_accuracy: 0.8047 - val_precision: 0.8153 - val_recall: 0.6830\n",
      "Epoch 46/60\n",
      "64/64 [==============================] - 0s 3ms/step - loss: 0.3784 - accuracy: 0.8340 - precision: 0.7994 - recall: 0.7910 - val_loss: 0.3987 - val_accuracy: 0.8188 - val_precision: 0.7790 - val_recall: 0.7849\n",
      "Epoch 47/60\n",
      "64/64 [==============================] - 0s 3ms/step - loss: 0.3723 - accuracy: 0.8348 - precision: 0.8010 - recall: 0.7910 - val_loss: 0.4017 - val_accuracy: 0.8203 - val_precision: 0.7717 - val_recall: 0.8038\n",
      "Epoch 48/60\n",
      "64/64 [==============================] - 0s 3ms/step - loss: 0.3732 - accuracy: 0.8379 - precision: 0.8013 - recall: 0.8006 - val_loss: 0.4005 - val_accuracy: 0.8172 - val_precision: 0.7891 - val_recall: 0.7623\n",
      "Epoch 49/60\n",
      "64/64 [==============================] - 0s 3ms/step - loss: 0.3726 - accuracy: 0.8402 - precision: 0.8054 - recall: 0.8015 - val_loss: 0.3998 - val_accuracy: 0.8172 - val_precision: 0.7662 - val_recall: 0.8038\n",
      "Epoch 50/60\n",
      "64/64 [==============================] - 0s 2ms/step - loss: 0.3843 - accuracy: 0.8320 - precision: 0.7950 - recall: 0.7919 - val_loss: 0.3953 - val_accuracy: 0.8188 - val_precision: 0.7790 - val_recall: 0.7849\n",
      "Epoch 51/60\n",
      "64/64 [==============================] - 0s 2ms/step - loss: 0.3696 - accuracy: 0.8355 - precision: 0.7985 - recall: 0.7977 - val_loss: 0.4484 - val_accuracy: 0.8078 - val_precision: 0.8114 - val_recall: 0.6981\n",
      "Epoch 52/60\n",
      "64/64 [==============================] - 0s 2ms/step - loss: 0.3804 - accuracy: 0.8383 - precision: 0.8004 - recall: 0.8035 - val_loss: 0.3981 - val_accuracy: 0.8172 - val_precision: 0.7643 - val_recall: 0.8075\n",
      "Epoch 53/60\n",
      "64/64 [==============================] - 0s 2ms/step - loss: 0.3762 - accuracy: 0.8324 - precision: 0.7935 - recall: 0.7958 - val_loss: 0.3978 - val_accuracy: 0.8172 - val_precision: 0.7643 - val_recall: 0.8075\n",
      "Epoch 54/60\n",
      "64/64 [==============================] - 0s 2ms/step - loss: 0.3790 - accuracy: 0.8398 - precision: 0.7989 - recall: 0.8111 - val_loss: 0.4305 - val_accuracy: 0.8156 - val_precision: 0.8101 - val_recall: 0.7245\n",
      "Epoch 55/60\n",
      "64/64 [==============================] - 0s 2ms/step - loss: 0.3722 - accuracy: 0.8391 - precision: 0.8008 - recall: 0.8054 - val_loss: 0.3932 - val_accuracy: 0.8156 - val_precision: 0.7795 - val_recall: 0.7736\n",
      "Epoch 56/60\n",
      "64/64 [==============================] - 0s 2ms/step - loss: 0.3734 - accuracy: 0.8375 - precision: 0.7955 - recall: 0.8092 - val_loss: 0.3957 - val_accuracy: 0.8125 - val_precision: 0.7778 - val_recall: 0.7660\n",
      "Epoch 57/60\n",
      "64/64 [==============================] - 0s 4ms/step - loss: 0.3772 - accuracy: 0.8402 - precision: 0.7968 - recall: 0.8159 - val_loss: 0.3990 - val_accuracy: 0.8156 - val_precision: 0.7838 - val_recall: 0.7660\n",
      "Epoch 58/60\n",
      "64/64 [==============================] - 0s 3ms/step - loss: 0.3718 - accuracy: 0.8395 - precision: 0.7992 - recall: 0.8092 - val_loss: 0.3910 - val_accuracy: 0.8188 - val_precision: 0.7770 - val_recall: 0.7887\n",
      "Epoch 59/60\n",
      "64/64 [==============================] - 0s 2ms/step - loss: 0.3828 - accuracy: 0.8414 - precision: 0.7957 - recall: 0.8217 - val_loss: 0.4114 - val_accuracy: 0.8188 - val_precision: 0.8016 - val_recall: 0.7472\n",
      "Epoch 60/60\n",
      "64/64 [==============================] - 0s 2ms/step - loss: 0.3775 - accuracy: 0.8375 - precision: 0.7955 - recall: 0.8092 - val_loss: 0.3908 - val_accuracy: 0.8156 - val_precision: 0.7774 - val_recall: 0.7774\n",
      "20/20 [==============================] - 0s 2ms/step\n"
     ]
    },
    {
     "name": "stderr",
     "output_type": "stream",
     "text": [
      "WARNING:absl:Found untraced functions such as _update_step_xla while saving (showing 1 of 1). These functions will not be directly callable after loading.\n"
     ]
    },
    {
     "name": "stdout",
     "output_type": "stream",
     "text": [
      "INFO:tensorflow:Assets written to: C:\\Users\\jmbar\\AppData\\Local\\Temp\\tmph8ewre0j\\assets\n"
     ]
    },
    {
     "name": "stderr",
     "output_type": "stream",
     "text": [
      "INFO:tensorflow:Assets written to: C:\\Users\\jmbar\\AppData\\Local\\Temp\\tmph8ewre0j\\assets\n"
     ]
    },
    {
     "name": "stdout",
     "output_type": "stream",
     "text": [
      "Epoch 1/60\n",
      "64/64 [==============================] - 1s 7ms/step - loss: 0.6760 - accuracy: 0.5980 - precision: 0.0000e+00 - recall: 0.0000e+00 - val_loss: 0.6810 - val_accuracy: 0.5813 - val_precision: 0.0000e+00 - val_recall: 0.0000e+00\n",
      "Epoch 2/60\n",
      "64/64 [==============================] - 0s 2ms/step - loss: 0.6766 - accuracy: 0.5980 - precision: 0.0000e+00 - recall: 0.0000e+00 - val_loss: 0.6804 - val_accuracy: 0.5813 - val_precision: 0.0000e+00 - val_recall: 0.0000e+00\n",
      "Epoch 3/60\n",
      "64/64 [==============================] - 0s 3ms/step - loss: 0.6744 - accuracy: 0.5980 - precision: 0.0000e+00 - recall: 0.0000e+00 - val_loss: 0.6795 - val_accuracy: 0.5813 - val_precision: 0.0000e+00 - val_recall: 0.0000e+00\n",
      "Epoch 4/60\n",
      "64/64 [==============================] - 0s 3ms/step - loss: 0.6741 - accuracy: 0.5980 - precision: 0.0000e+00 - recall: 0.0000e+00 - val_loss: 0.6821 - val_accuracy: 0.5813 - val_precision: 0.0000e+00 - val_recall: 0.0000e+00\n",
      "Epoch 5/60\n",
      "64/64 [==============================] - 0s 3ms/step - loss: 0.6731 - accuracy: 0.5980 - precision: 0.0000e+00 - recall: 0.0000e+00 - val_loss: 0.6787 - val_accuracy: 0.5813 - val_precision: 0.0000e+00 - val_recall: 0.0000e+00\n",
      "Epoch 6/60\n",
      "64/64 [==============================] - 0s 3ms/step - loss: 0.6718 - accuracy: 0.5980 - precision: 0.0000e+00 - recall: 0.0000e+00 - val_loss: 0.6772 - val_accuracy: 0.5813 - val_precision: 0.0000e+00 - val_recall: 0.0000e+00\n",
      "Epoch 7/60\n",
      "64/64 [==============================] - 0s 2ms/step - loss: 0.6672 - accuracy: 0.6027 - precision: 1.0000 - recall: 0.0117 - val_loss: 0.6729 - val_accuracy: 0.5875 - val_precision: 1.0000 - val_recall: 0.0149\n",
      "Epoch 8/60\n",
      "64/64 [==============================] - 0s 2ms/step - loss: 0.6583 - accuracy: 0.6199 - precision: 0.9828 - recall: 0.0554 - val_loss: 0.6598 - val_accuracy: 0.5953 - val_precision: 1.0000 - val_recall: 0.0336\n",
      "Epoch 9/60\n",
      "64/64 [==============================] - 0s 2ms/step - loss: 0.6379 - accuracy: 0.6566 - precision: 0.9573 - recall: 0.1526 - val_loss: 0.6544 - val_accuracy: 0.6125 - val_precision: 1.0000 - val_recall: 0.0746\n",
      "Epoch 10/60\n",
      "64/64 [==============================] - 0s 2ms/step - loss: 0.5965 - accuracy: 0.6746 - precision: 0.7344 - recall: 0.2983 - val_loss: 0.5857 - val_accuracy: 0.7141 - val_precision: 0.8696 - val_recall: 0.3731\n",
      "Epoch 11/60\n",
      "64/64 [==============================] - 0s 2ms/step - loss: 0.5456 - accuracy: 0.7359 - precision: 0.8454 - recall: 0.4198 - val_loss: 0.5455 - val_accuracy: 0.7703 - val_precision: 0.8201 - val_recall: 0.5784\n",
      "Epoch 12/60\n",
      "64/64 [==============================] - 0s 2ms/step - loss: 0.4949 - accuracy: 0.7727 - precision: 0.8821 - recall: 0.5015 - val_loss: 0.5458 - val_accuracy: 0.8219 - val_precision: 0.7770 - val_recall: 0.8060\n",
      "Epoch 13/60\n",
      "64/64 [==============================] - 0s 2ms/step - loss: 0.4630 - accuracy: 0.7969 - precision: 0.8726 - recall: 0.5792 - val_loss: 0.4778 - val_accuracy: 0.7641 - val_precision: 0.8462 - val_recall: 0.5336\n",
      "Epoch 14/60\n",
      "64/64 [==============================] - 0s 3ms/step - loss: 0.4391 - accuracy: 0.8078 - precision: 0.8556 - recall: 0.6278 - val_loss: 0.4689 - val_accuracy: 0.7750 - val_precision: 0.8523 - val_recall: 0.5597\n",
      "Epoch 15/60\n",
      "64/64 [==============================] - 0s 3ms/step - loss: 0.4238 - accuracy: 0.8156 - precision: 0.8512 - recall: 0.6560 - val_loss: 0.4546 - val_accuracy: 0.7734 - val_precision: 0.8154 - val_recall: 0.5933\n",
      "Epoch 16/60\n",
      "64/64 [==============================] - 0s 4ms/step - loss: 0.4247 - accuracy: 0.8203 - precision: 0.8499 - recall: 0.6715 - val_loss: 0.4562 - val_accuracy: 0.8109 - val_precision: 0.7976 - val_recall: 0.7351\n",
      "Epoch 17/60\n",
      "64/64 [==============================] - 0s 3ms/step - loss: 0.4186 - accuracy: 0.8164 - precision: 0.8300 - recall: 0.6832 - val_loss: 0.4640 - val_accuracy: 0.7703 - val_precision: 0.8201 - val_recall: 0.5784\n",
      "Epoch 18/60\n",
      "64/64 [==============================] - 0s 3ms/step - loss: 0.4101 - accuracy: 0.8230 - precision: 0.8341 - recall: 0.6987 - val_loss: 0.4907 - val_accuracy: 0.8297 - val_precision: 0.7732 - val_recall: 0.8396\n",
      "Epoch 19/60\n",
      "64/64 [==============================] - 0s 3ms/step - loss: 0.4109 - accuracy: 0.8230 - precision: 0.8295 - recall: 0.7046 - val_loss: 0.4423 - val_accuracy: 0.7812 - val_precision: 0.8137 - val_recall: 0.6194\n",
      "Epoch 20/60\n",
      "64/64 [==============================] - 0s 2ms/step - loss: 0.4133 - accuracy: 0.8230 - precision: 0.8214 - recall: 0.7153 - val_loss: 0.5016 - val_accuracy: 0.8328 - val_precision: 0.7622 - val_recall: 0.8731\n",
      "Epoch 21/60\n",
      "64/64 [==============================] - 0s 2ms/step - loss: 0.4168 - accuracy: 0.8207 - precision: 0.8153 - recall: 0.7162 - val_loss: 0.4339 - val_accuracy: 0.7859 - val_precision: 0.8104 - val_recall: 0.6381\n",
      "Epoch 22/60\n",
      "64/64 [==============================] - 0s 2ms/step - loss: 0.3975 - accuracy: 0.8246 - precision: 0.8244 - recall: 0.7162 - val_loss: 0.4302 - val_accuracy: 0.7922 - val_precision: 0.8054 - val_recall: 0.6642\n",
      "Epoch 23/60\n",
      "64/64 [==============================] - 0s 2ms/step - loss: 0.3956 - accuracy: 0.8273 - precision: 0.8265 - recall: 0.7221 - val_loss: 0.4344 - val_accuracy: 0.8125 - val_precision: 0.7846 - val_recall: 0.7612\n",
      "Epoch 24/60\n",
      "64/64 [==============================] - 0s 3ms/step - loss: 0.3923 - accuracy: 0.8281 - precision: 0.8240 - recall: 0.7279 - val_loss: 0.4249 - val_accuracy: 0.8062 - val_precision: 0.8130 - val_recall: 0.6978\n",
      "Epoch 25/60\n",
      "64/64 [==============================] - 0s 2ms/step - loss: 0.3880 - accuracy: 0.8301 - precision: 0.8235 - recall: 0.7347 - val_loss: 0.4218 - val_accuracy: 0.8125 - val_precision: 0.8058 - val_recall: 0.7276\n",
      "Epoch 26/60\n",
      "64/64 [==============================] - 0s 3ms/step - loss: 0.3977 - accuracy: 0.8285 - precision: 0.8186 - recall: 0.7366 - val_loss: 0.4403 - val_accuracy: 0.7812 - val_precision: 0.8077 - val_recall: 0.6269\n",
      "Epoch 27/60\n",
      "64/64 [==============================] - 0s 3ms/step - loss: 0.4102 - accuracy: 0.8309 - precision: 0.8177 - recall: 0.7454 - val_loss: 0.4384 - val_accuracy: 0.7812 - val_precision: 0.8077 - val_recall: 0.6269\n",
      "Epoch 28/60\n",
      "64/64 [==============================] - 0s 3ms/step - loss: 0.3873 - accuracy: 0.8316 - precision: 0.8167 - recall: 0.7493 - val_loss: 0.4776 - val_accuracy: 0.7734 - val_precision: 0.8154 - val_recall: 0.5933\n",
      "Epoch 29/60\n",
      "64/64 [==============================] - 0s 3ms/step - loss: 0.3898 - accuracy: 0.8340 - precision: 0.8186 - recall: 0.7541 - val_loss: 0.4171 - val_accuracy: 0.8156 - val_precision: 0.7907 - val_recall: 0.7612\n",
      "Epoch 30/60\n",
      "64/64 [==============================] - 0s 2ms/step - loss: 0.3904 - accuracy: 0.8324 - precision: 0.8145 - recall: 0.7551 - val_loss: 0.4145 - val_accuracy: 0.8172 - val_precision: 0.8008 - val_recall: 0.7500\n",
      "Epoch 31/60\n",
      "64/64 [==============================] - 0s 3ms/step - loss: 0.3873 - accuracy: 0.8328 - precision: 0.8127 - recall: 0.7590 - val_loss: 0.4175 - val_accuracy: 0.8078 - val_precision: 0.8139 - val_recall: 0.7015\n",
      "Epoch 32/60\n",
      "64/64 [==============================] - 0s 3ms/step - loss: 0.3895 - accuracy: 0.8359 - precision: 0.8195 - recall: 0.7590 - val_loss: 0.4287 - val_accuracy: 0.7937 - val_precision: 0.8091 - val_recall: 0.6642\n",
      "Epoch 33/60\n",
      "64/64 [==============================] - 0s 2ms/step - loss: 0.3876 - accuracy: 0.8332 - precision: 0.8135 - recall: 0.7590 - val_loss: 0.4215 - val_accuracy: 0.8047 - val_precision: 0.8122 - val_recall: 0.6940\n",
      "Epoch 34/60\n",
      "64/64 [==============================] - 0s 2ms/step - loss: 0.3806 - accuracy: 0.8313 - precision: 0.8113 - recall: 0.7561 - val_loss: 0.4160 - val_accuracy: 0.8094 - val_precision: 0.8147 - val_recall: 0.7052\n",
      "Epoch 35/60\n",
      "64/64 [==============================] - 0s 3ms/step - loss: 0.3851 - accuracy: 0.8324 - precision: 0.8080 - recall: 0.7648 - val_loss: 0.4118 - val_accuracy: 0.8094 - val_precision: 0.8067 - val_recall: 0.7164\n",
      "Epoch 36/60\n",
      "64/64 [==============================] - 0s 3ms/step - loss: 0.3789 - accuracy: 0.8355 - precision: 0.8108 - recall: 0.7707 - val_loss: 0.4171 - val_accuracy: 0.8250 - val_precision: 0.7826 - val_recall: 0.8060\n",
      "Epoch 37/60\n"
     ]
    },
    {
     "name": "stdout",
     "output_type": "stream",
     "text": [
      "64/64 [==============================] - 0s 3ms/step - loss: 0.3865 - accuracy: 0.8375 - precision: 0.8144 - recall: 0.7716 - val_loss: 0.4105 - val_accuracy: 0.8141 - val_precision: 0.8091 - val_recall: 0.7276\n",
      "Epoch 38/60\n",
      "64/64 [==============================] - 0s 2ms/step - loss: 0.3812 - accuracy: 0.8309 - precision: 0.8028 - recall: 0.7677 - val_loss: 0.4676 - val_accuracy: 0.7812 - val_precision: 0.8107 - val_recall: 0.6231\n",
      "Epoch 39/60\n",
      "64/64 [==============================] - 0s 3ms/step - loss: 0.3790 - accuracy: 0.8363 - precision: 0.8100 - recall: 0.7745 - val_loss: 0.4059 - val_accuracy: 0.8156 - val_precision: 0.7953 - val_recall: 0.7537\n",
      "Epoch 40/60\n",
      "64/64 [==============================] - 0s 3ms/step - loss: 0.3823 - accuracy: 0.8336 - precision: 0.8105 - recall: 0.7648 - val_loss: 0.4097 - val_accuracy: 0.8234 - val_precision: 0.7818 - val_recall: 0.8022\n",
      "Epoch 41/60\n",
      "64/64 [==============================] - 0s 3ms/step - loss: 0.3785 - accuracy: 0.8379 - precision: 0.8070 - recall: 0.7843 - val_loss: 0.4547 - val_accuracy: 0.7859 - val_precision: 0.8104 - val_recall: 0.6381\n",
      "Epoch 42/60\n",
      "64/64 [==============================] - 0s 3ms/step - loss: 0.3874 - accuracy: 0.8316 - precision: 0.8008 - recall: 0.7736 - val_loss: 0.4033 - val_accuracy: 0.8172 - val_precision: 0.7849 - val_recall: 0.7761\n",
      "Epoch 43/60\n",
      "64/64 [==============================] - 0s 2ms/step - loss: 0.3850 - accuracy: 0.8414 - precision: 0.8106 - recall: 0.7901 - val_loss: 0.4019 - val_accuracy: 0.8141 - val_precision: 0.7876 - val_recall: 0.7612\n",
      "Epoch 44/60\n",
      "64/64 [==============================] - 0s 3ms/step - loss: 0.3783 - accuracy: 0.8340 - precision: 0.7996 - recall: 0.7833 - val_loss: 0.4097 - val_accuracy: 0.8219 - val_precision: 0.7750 - val_recall: 0.8097\n",
      "Epoch 45/60\n",
      "64/64 [==============================] - 0s 3ms/step - loss: 0.3713 - accuracy: 0.8383 - precision: 0.8030 - recall: 0.7920 - val_loss: 0.4459 - val_accuracy: 0.7953 - val_precision: 0.8100 - val_recall: 0.6679\n",
      "Epoch 46/60\n",
      "64/64 [==============================] - 0s 2ms/step - loss: 0.3794 - accuracy: 0.8363 - precision: 0.8014 - recall: 0.7881 - val_loss: 0.4033 - val_accuracy: 0.8234 - val_precision: 0.7818 - val_recall: 0.8022\n",
      "Epoch 47/60\n",
      "64/64 [==============================] - 0s 3ms/step - loss: 0.3803 - accuracy: 0.8332 - precision: 0.8016 - recall: 0.7775 - val_loss: 0.4125 - val_accuracy: 0.8109 - val_precision: 0.8075 - val_recall: 0.7201\n",
      "Epoch 48/60\n",
      "64/64 [==============================] - 0s 3ms/step - loss: 0.3759 - accuracy: 0.8402 - precision: 0.8057 - recall: 0.7940 - val_loss: 0.4118 - val_accuracy: 0.8156 - val_precision: 0.8099 - val_recall: 0.7313\n",
      "Epoch 49/60\n",
      "64/64 [==============================] - 0s 2ms/step - loss: 0.3751 - accuracy: 0.8383 - precision: 0.8042 - recall: 0.7901 - val_loss: 0.3977 - val_accuracy: 0.8141 - val_precision: 0.7833 - val_recall: 0.7687\n",
      "Epoch 50/60\n",
      "64/64 [==============================] - 0s 3ms/step - loss: 0.3869 - accuracy: 0.8367 - precision: 0.7957 - recall: 0.7988 - val_loss: 0.4000 - val_accuracy: 0.8156 - val_precision: 0.7907 - val_recall: 0.7612\n",
      "Epoch 51/60\n",
      "64/64 [==============================] - 0s 3ms/step - loss: 0.3934 - accuracy: 0.8359 - precision: 0.8000 - recall: 0.7891 - val_loss: 0.4107 - val_accuracy: 0.8125 - val_precision: 0.8083 - val_recall: 0.7239\n",
      "Epoch 52/60\n",
      "64/64 [==============================] - 0s 4ms/step - loss: 0.3739 - accuracy: 0.8406 - precision: 0.8083 - recall: 0.7911 - val_loss: 0.4094 - val_accuracy: 0.8172 - val_precision: 0.8107 - val_recall: 0.7351\n",
      "Epoch 53/60\n",
      "64/64 [==============================] - 0s 3ms/step - loss: 0.3705 - accuracy: 0.8395 - precision: 0.8000 - recall: 0.8008 - val_loss: 0.3974 - val_accuracy: 0.8125 - val_precision: 0.7846 - val_recall: 0.7612\n",
      "Epoch 54/60\n",
      "64/64 [==============================] - 0s 2ms/step - loss: 0.3680 - accuracy: 0.8383 - precision: 0.7983 - recall: 0.7998 - val_loss: 0.4383 - val_accuracy: 0.8062 - val_precision: 0.8130 - val_recall: 0.6978\n",
      "Epoch 55/60\n",
      "64/64 [==============================] - 0s 3ms/step - loss: 0.3800 - accuracy: 0.8410 - precision: 0.8067 - recall: 0.7949 - val_loss: 0.3959 - val_accuracy: 0.8234 - val_precision: 0.7839 - val_recall: 0.7985\n",
      "Epoch 56/60\n",
      "64/64 [==============================] - 0s 3ms/step - loss: 0.3689 - accuracy: 0.8371 - precision: 0.7971 - recall: 0.7979 - val_loss: 0.3981 - val_accuracy: 0.8141 - val_precision: 0.7876 - val_recall: 0.7612\n",
      "Epoch 57/60\n",
      "64/64 [==============================] - 0s 3ms/step - loss: 0.3765 - accuracy: 0.8406 - precision: 0.8012 - recall: 0.8027 - val_loss: 0.3940 - val_accuracy: 0.8188 - val_precision: 0.7857 - val_recall: 0.7799\n",
      "Epoch 58/60\n",
      "64/64 [==============================] - 0s 2ms/step - loss: 0.3672 - accuracy: 0.8371 - precision: 0.7942 - recall: 0.8027 - val_loss: 0.3975 - val_accuracy: 0.8141 - val_precision: 0.7876 - val_recall: 0.7612\n",
      "Epoch 59/60\n",
      "64/64 [==============================] - 0s 2ms/step - loss: 0.3698 - accuracy: 0.8387 - precision: 0.7967 - recall: 0.8037 - val_loss: 0.4277 - val_accuracy: 0.8094 - val_precision: 0.8120 - val_recall: 0.7090\n",
      "Epoch 60/60\n",
      "64/64 [==============================] - 0s 2ms/step - loss: 0.3723 - accuracy: 0.8406 - precision: 0.7977 - recall: 0.8086 - val_loss: 0.3985 - val_accuracy: 0.8156 - val_precision: 0.7907 - val_recall: 0.7612\n",
      "20/20 [==============================] - 0s 1ms/step\n"
     ]
    },
    {
     "name": "stderr",
     "output_type": "stream",
     "text": [
      "WARNING:absl:Found untraced functions such as _update_step_xla while saving (showing 1 of 1). These functions will not be directly callable after loading.\n"
     ]
    },
    {
     "name": "stdout",
     "output_type": "stream",
     "text": [
      "INFO:tensorflow:Assets written to: C:\\Users\\jmbar\\AppData\\Local\\Temp\\tmpy1j1tq85\\assets\n"
     ]
    },
    {
     "name": "stderr",
     "output_type": "stream",
     "text": [
      "INFO:tensorflow:Assets written to: C:\\Users\\jmbar\\AppData\\Local\\Temp\\tmpy1j1tq85\\assets\n"
     ]
    },
    {
     "name": "stdout",
     "output_type": "stream",
     "text": [
      "Epoch 1/60\n",
      "64/64 [==============================] - 1s 6ms/step - loss: 0.6729 - accuracy: 0.6047 - precision: 0.0000e+00 - recall: 0.0000e+00 - val_loss: 0.6879 - val_accuracy: 0.5594 - val_precision: 0.0000e+00 - val_recall: 0.0000e+00\n",
      "Epoch 2/60\n",
      "64/64 [==============================] - 0s 2ms/step - loss: 0.6737 - accuracy: 0.6047 - precision: 0.0000e+00 - recall: 0.0000e+00 - val_loss: 0.6893 - val_accuracy: 0.5594 - val_precision: 0.0000e+00 - val_recall: 0.0000e+00\n",
      "Epoch 3/60\n",
      "64/64 [==============================] - 0s 2ms/step - loss: 0.6742 - accuracy: 0.6047 - precision: 0.0000e+00 - recall: 0.0000e+00 - val_loss: 0.6889 - val_accuracy: 0.5594 - val_precision: 0.0000e+00 - val_recall: 0.0000e+00\n",
      "Epoch 4/60\n",
      "64/64 [==============================] - 0s 2ms/step - loss: 0.6715 - accuracy: 0.6047 - precision: 0.0000e+00 - recall: 0.0000e+00 - val_loss: 0.6923 - val_accuracy: 0.5594 - val_precision: 0.0000e+00 - val_recall: 0.0000e+00\n",
      "Epoch 5/60\n",
      "64/64 [==============================] - 0s 2ms/step - loss: 0.6733 - accuracy: 0.6047 - precision: 0.0000e+00 - recall: 0.0000e+00 - val_loss: 0.6980 - val_accuracy: 0.5594 - val_precision: 0.0000e+00 - val_recall: 0.0000e+00\n",
      "Epoch 6/60\n",
      "64/64 [==============================] - 0s 2ms/step - loss: 0.6702 - accuracy: 0.6047 - precision: 0.0000e+00 - recall: 0.0000e+00 - val_loss: 0.6858 - val_accuracy: 0.5594 - val_precision: 0.0000e+00 - val_recall: 0.0000e+00\n",
      "Epoch 7/60\n",
      "64/64 [==============================] - 0s 2ms/step - loss: 0.6689 - accuracy: 0.6047 - precision: 0.0000e+00 - recall: 0.0000e+00 - val_loss: 0.6904 - val_accuracy: 0.5594 - val_precision: 0.0000e+00 - val_recall: 0.0000e+00\n",
      "Epoch 8/60\n",
      "64/64 [==============================] - 0s 2ms/step - loss: 0.6661 - accuracy: 0.6066 - precision: 1.0000 - recall: 0.0049 - val_loss: 0.6865 - val_accuracy: 0.5594 - val_precision: 0.0000e+00 - val_recall: 0.0000e+00\n",
      "Epoch 9/60\n",
      "64/64 [==============================] - 0s 2ms/step - loss: 0.6562 - accuracy: 0.6215 - precision: 0.9778 - recall: 0.0435 - val_loss: 0.6782 - val_accuracy: 0.5719 - val_precision: 0.9000 - val_recall: 0.0319\n",
      "Epoch 10/60\n",
      "64/64 [==============================] - 0s 2ms/step - loss: 0.6388 - accuracy: 0.6520 - precision: 0.9353 - recall: 0.1285 - val_loss: 0.6436 - val_accuracy: 0.6094 - val_precision: 0.9000 - val_recall: 0.1277\n",
      "Epoch 11/60\n",
      "64/64 [==============================] - 0s 2ms/step - loss: 0.6065 - accuracy: 0.6848 - precision: 0.9289 - recall: 0.2194 - val_loss: 0.6040 - val_accuracy: 0.6906 - val_precision: 0.8684 - val_recall: 0.3511\n",
      "Epoch 12/60\n",
      "64/64 [==============================] - 0s 2ms/step - loss: 0.5486 - accuracy: 0.7324 - precision: 0.8847 - recall: 0.3715 - val_loss: 0.5574 - val_accuracy: 0.6984 - val_precision: 0.8618 - val_recall: 0.3759\n",
      "Epoch 13/60\n",
      "64/64 [==============================] - 0s 2ms/step - loss: 0.5075 - accuracy: 0.7629 - precision: 0.8571 - recall: 0.4802 - val_loss: 0.5226 - val_accuracy: 0.7281 - val_precision: 0.8506 - val_recall: 0.4645\n",
      "Epoch 14/60\n",
      "64/64 [==============================] - 0s 2ms/step - loss: 0.4758 - accuracy: 0.7805 - precision: 0.8462 - recall: 0.5435 - val_loss: 0.5033 - val_accuracy: 0.8062 - val_precision: 0.8160 - val_recall: 0.7234\n",
      "Epoch 15/60\n",
      "64/64 [==============================] - 0s 2ms/step - loss: 0.4568 - accuracy: 0.7977 - precision: 0.8329 - recall: 0.6107 - val_loss: 0.4761 - val_accuracy: 0.7656 - val_precision: 0.8267 - val_recall: 0.5922\n",
      "Epoch 16/60\n",
      "64/64 [==============================] - 0s 2ms/step - loss: 0.4337 - accuracy: 0.8102 - precision: 0.8363 - recall: 0.6462 - val_loss: 0.4612 - val_accuracy: 0.7875 - val_precision: 0.8147 - val_recall: 0.6702\n",
      "Epoch 17/60\n",
      "64/64 [==============================] - 0s 2ms/step - loss: 0.4216 - accuracy: 0.8070 - precision: 0.8159 - recall: 0.6611 - val_loss: 0.4666 - val_accuracy: 0.7703 - val_precision: 0.8261 - val_recall: 0.6064\n",
      "Epoch 18/60\n",
      "64/64 [==============================] - 0s 2ms/step - loss: 0.4278 - accuracy: 0.8160 - precision: 0.8247 - recall: 0.6789 - val_loss: 0.4647 - val_accuracy: 0.8188 - val_precision: 0.7923 - val_recall: 0.7979\n",
      "Epoch 19/60\n",
      "64/64 [==============================] - 0s 2ms/step - loss: 0.4188 - accuracy: 0.8203 - precision: 0.8187 - recall: 0.7006 - val_loss: 0.4517 - val_accuracy: 0.7766 - val_precision: 0.8174 - val_recall: 0.6348\n",
      "Epoch 20/60\n",
      "64/64 [==============================] - 0s 2ms/step - loss: 0.4165 - accuracy: 0.8254 - precision: 0.8281 - recall: 0.7045 - val_loss: 0.4407 - val_accuracy: 0.7984 - val_precision: 0.8174 - val_recall: 0.6986\n",
      "Epoch 21/60\n",
      "64/64 [==============================] - 0s 2ms/step - loss: 0.4038 - accuracy: 0.8254 - precision: 0.8171 - recall: 0.7194 - val_loss: 0.4375 - val_accuracy: 0.8000 - val_precision: 0.8182 - val_recall: 0.7021\n",
      "Epoch 22/60\n",
      "64/64 [==============================] - 0s 2ms/step - loss: 0.4049 - accuracy: 0.8238 - precision: 0.8106 - recall: 0.7233 - val_loss: 0.4379 - val_accuracy: 0.8141 - val_precision: 0.7921 - val_recall: 0.7837\n",
      "Epoch 23/60\n",
      "64/64 [==============================] - 0s 2ms/step - loss: 0.4058 - accuracy: 0.8332 - precision: 0.8190 - recall: 0.7421 - val_loss: 0.5589 - val_accuracy: 0.7641 - val_precision: 0.8429 - val_recall: 0.5709\n",
      "Epoch 24/60\n",
      "64/64 [==============================] - 0s 2ms/step - loss: 0.4225 - accuracy: 0.8246 - precision: 0.8090 - recall: 0.7283 - val_loss: 0.4554 - val_accuracy: 0.7766 - val_precision: 0.8174 - val_recall: 0.6348\n",
      "Epoch 25/60\n",
      "64/64 [==============================] - 0s 2ms/step - loss: 0.4052 - accuracy: 0.8297 - precision: 0.8090 - recall: 0.7451 - val_loss: 0.4413 - val_accuracy: 0.7844 - val_precision: 0.8130 - val_recall: 0.6631\n",
      "Epoch 26/60\n",
      "64/64 [==============================] - 0s 2ms/step - loss: 0.3941 - accuracy: 0.8301 - precision: 0.8119 - recall: 0.7421 - val_loss: 0.4287 - val_accuracy: 0.8047 - val_precision: 0.8178 - val_recall: 0.7163\n",
      "Epoch 27/60\n",
      "64/64 [==============================] - 0s 2ms/step - loss: 0.3946 - accuracy: 0.8309 - precision: 0.8103 - recall: 0.7470 - val_loss: 0.4229 - val_accuracy: 0.8188 - val_precision: 0.8029 - val_recall: 0.7801\n",
      "Epoch 28/60\n",
      "64/64 [==============================] - 0s 2ms/step - loss: 0.3978 - accuracy: 0.8297 - precision: 0.8044 - recall: 0.7520 - val_loss: 0.4797 - val_accuracy: 0.7703 - val_precision: 0.8169 - val_recall: 0.6170\n",
      "Epoch 29/60\n",
      "64/64 [==============================] - 0s 2ms/step - loss: 0.4017 - accuracy: 0.8266 - precision: 0.7983 - recall: 0.7510 - val_loss: 0.4393 - val_accuracy: 0.7922 - val_precision: 0.8170 - val_recall: 0.6809\n",
      "Epoch 30/60\n",
      "64/64 [==============================] - 0s 2ms/step - loss: 0.3973 - accuracy: 0.8363 - precision: 0.8171 - recall: 0.7549 - val_loss: 0.4184 - val_accuracy: 0.8141 - val_precision: 0.8052 - val_recall: 0.7624\n",
      "Epoch 31/60\n",
      "64/64 [==============================] - 0s 2ms/step - loss: 0.3993 - accuracy: 0.8301 - precision: 0.7941 - recall: 0.7698 - val_loss: 0.4219 - val_accuracy: 0.8094 - val_precision: 0.8175 - val_recall: 0.7305\n",
      "Epoch 32/60\n",
      "64/64 [==============================] - 0s 2ms/step - loss: 0.3893 - accuracy: 0.8313 - precision: 0.7996 - recall: 0.7648 - val_loss: 0.4268 - val_accuracy: 0.8188 - val_precision: 0.7785 - val_recall: 0.8227\n",
      "Epoch 33/60\n",
      "64/64 [==============================] - 0s 2ms/step - loss: 0.3858 - accuracy: 0.8352 - precision: 0.8023 - recall: 0.7737 - val_loss: 0.4143 - val_accuracy: 0.8203 - val_precision: 0.8036 - val_recall: 0.7837\n",
      "Epoch 34/60\n",
      "64/64 [==============================] - 0s 2ms/step - loss: 0.3878 - accuracy: 0.8340 - precision: 0.7998 - recall: 0.7737 - val_loss: 0.4217 - val_accuracy: 0.8203 - val_precision: 0.7811 - val_recall: 0.8227\n",
      "Epoch 35/60\n",
      "64/64 [==============================] - 0s 2ms/step - loss: 0.3912 - accuracy: 0.8406 - precision: 0.8088 - recall: 0.7816 - val_loss: 0.4278 - val_accuracy: 0.8062 - val_precision: 0.8185 - val_recall: 0.7199\n",
      "Epoch 36/60\n",
      "64/64 [==============================] - 0s 2ms/step - loss: 0.3836 - accuracy: 0.8316 - precision: 0.7992 - recall: 0.7668 - val_loss: 0.4140 - val_accuracy: 0.8203 - val_precision: 0.7889 - val_recall: 0.8085\n",
      "Epoch 37/60\n"
     ]
    },
    {
     "name": "stdout",
     "output_type": "stream",
     "text": [
      "64/64 [==============================] - 0s 2ms/step - loss: 0.3828 - accuracy: 0.8359 - precision: 0.8027 - recall: 0.7757 - val_loss: 0.4105 - val_accuracy: 0.8188 - val_precision: 0.7902 - val_recall: 0.8014\n",
      "Epoch 38/60\n",
      "64/64 [==============================] - 0s 2ms/step - loss: 0.3913 - accuracy: 0.8328 - precision: 0.7967 - recall: 0.7747 - val_loss: 0.4562 - val_accuracy: 0.7906 - val_precision: 0.8162 - val_recall: 0.6773\n",
      "Epoch 39/60\n",
      "64/64 [==============================] - 0s 2ms/step - loss: 0.4079 - accuracy: 0.8313 - precision: 0.7918 - recall: 0.7777 - val_loss: 0.4086 - val_accuracy: 0.8156 - val_precision: 0.7929 - val_recall: 0.7872\n",
      "Epoch 40/60\n",
      "64/64 [==============================] - 0s 2ms/step - loss: 0.3990 - accuracy: 0.8320 - precision: 0.7945 - recall: 0.7757 - val_loss: 0.4115 - val_accuracy: 0.8141 - val_precision: 0.8052 - val_recall: 0.7624\n",
      "Epoch 41/60\n",
      "64/64 [==============================] - 0s 2ms/step - loss: 0.3803 - accuracy: 0.8383 - precision: 0.7996 - recall: 0.7885 - val_loss: 0.4172 - val_accuracy: 0.8109 - val_precision: 0.8108 - val_recall: 0.7447\n",
      "Epoch 42/60\n",
      "64/64 [==============================] - 0s 2ms/step - loss: 0.3836 - accuracy: 0.8340 - precision: 0.7892 - recall: 0.7915 - val_loss: 0.4078 - val_accuracy: 0.8188 - val_precision: 0.8007 - val_recall: 0.7837\n",
      "Epoch 43/60\n",
      "64/64 [==============================] - 0s 2ms/step - loss: 0.3765 - accuracy: 0.8363 - precision: 0.7974 - recall: 0.7856 - val_loss: 0.4047 - val_accuracy: 0.8172 - val_precision: 0.7936 - val_recall: 0.7908\n",
      "Epoch 44/60\n",
      "64/64 [==============================] - 0s 2ms/step - loss: 0.4011 - accuracy: 0.8297 - precision: 0.7846 - recall: 0.7846 - val_loss: 0.4133 - val_accuracy: 0.8125 - val_precision: 0.8068 - val_recall: 0.7553\n",
      "Epoch 45/60\n",
      "64/64 [==============================] - 0s 2ms/step - loss: 0.3870 - accuracy: 0.8336 - precision: 0.7884 - recall: 0.7915 - val_loss: 0.4255 - val_accuracy: 0.8297 - val_precision: 0.7799 - val_recall: 0.8546\n",
      "Epoch 46/60\n",
      "64/64 [==============================] - 0s 2ms/step - loss: 0.3816 - accuracy: 0.8387 - precision: 0.7968 - recall: 0.7945 - val_loss: 0.4205 - val_accuracy: 0.8125 - val_precision: 0.8140 - val_recall: 0.7447\n",
      "Epoch 47/60\n",
      "64/64 [==============================] - 0s 2ms/step - loss: 0.3875 - accuracy: 0.8359 - precision: 0.7925 - recall: 0.7925 - val_loss: 0.4466 - val_accuracy: 0.8359 - val_precision: 0.7723 - val_recall: 0.8901\n",
      "Epoch 48/60\n",
      "64/64 [==============================] - 0s 2ms/step - loss: 0.3936 - accuracy: 0.8414 - precision: 0.8018 - recall: 0.7955 - val_loss: 0.4025 - val_accuracy: 0.8172 - val_precision: 0.7895 - val_recall: 0.7979\n",
      "Epoch 49/60\n",
      "64/64 [==============================] - 0s 2ms/step - loss: 0.3767 - accuracy: 0.8387 - precision: 0.7945 - recall: 0.7984 - val_loss: 0.4305 - val_accuracy: 0.8141 - val_precision: 0.8221 - val_recall: 0.7376\n",
      "Epoch 50/60\n",
      "64/64 [==============================] - 0s 2ms/step - loss: 0.3794 - accuracy: 0.8355 - precision: 0.7883 - recall: 0.7984 - val_loss: 0.4811 - val_accuracy: 0.7828 - val_precision: 0.8122 - val_recall: 0.6596\n",
      "Epoch 51/60\n",
      "64/64 [==============================] - 0s 2ms/step - loss: 0.3766 - accuracy: 0.8387 - precision: 0.7962 - recall: 0.7955 - val_loss: 0.4013 - val_accuracy: 0.8203 - val_precision: 0.7831 - val_recall: 0.8191\n",
      "Epoch 52/60\n",
      "64/64 [==============================] - 0s 2ms/step - loss: 0.3735 - accuracy: 0.8371 - precision: 0.7920 - recall: 0.7974 - val_loss: 0.4066 - val_accuracy: 0.8266 - val_precision: 0.7803 - val_recall: 0.8440\n",
      "Epoch 53/60\n",
      "64/64 [==============================] - 0s 2ms/step - loss: 0.3770 - accuracy: 0.8395 - precision: 0.7920 - recall: 0.8053 - val_loss: 0.3994 - val_accuracy: 0.8219 - val_precision: 0.7857 - val_recall: 0.8191\n",
      "Epoch 54/60\n",
      "64/64 [==============================] - 0s 2ms/step - loss: 0.3740 - accuracy: 0.8375 - precision: 0.7860 - recall: 0.8093 - val_loss: 0.4054 - val_accuracy: 0.8188 - val_precision: 0.8007 - val_recall: 0.7837\n",
      "Epoch 55/60\n",
      "64/64 [==============================] - 0s 2ms/step - loss: 0.3748 - accuracy: 0.8371 - precision: 0.7886 - recall: 0.8034 - val_loss: 0.3978 - val_accuracy: 0.8203 - val_precision: 0.7869 - val_recall: 0.8121\n",
      "Epoch 56/60\n",
      "64/64 [==============================] - 0s 2ms/step - loss: 0.3754 - accuracy: 0.8398 - precision: 0.7922 - recall: 0.8063 - val_loss: 0.4522 - val_accuracy: 0.8062 - val_precision: 0.8185 - val_recall: 0.7199\n",
      "Epoch 57/60\n",
      "64/64 [==============================] - 0s 2ms/step - loss: 0.3791 - accuracy: 0.8344 - precision: 0.7877 - recall: 0.7955 - val_loss: 0.4082 - val_accuracy: 0.8188 - val_precision: 0.8007 - val_recall: 0.7837\n",
      "Epoch 58/60\n",
      "64/64 [==============================] - 0s 2ms/step - loss: 0.3838 - accuracy: 0.8363 - precision: 0.7854 - recall: 0.8063 - val_loss: 0.4127 - val_accuracy: 0.8188 - val_precision: 0.8051 - val_recall: 0.7766\n",
      "Epoch 59/60\n",
      "64/64 [==============================] - 0s 2ms/step - loss: 0.3780 - accuracy: 0.8371 - precision: 0.7897 - recall: 0.8014 - val_loss: 0.4019 - val_accuracy: 0.8141 - val_precision: 0.7921 - val_recall: 0.7837\n",
      "Epoch 60/60\n",
      "64/64 [==============================] - 0s 2ms/step - loss: 0.3820 - accuracy: 0.8332 - precision: 0.7843 - recall: 0.7974 - val_loss: 0.3984 - val_accuracy: 0.8219 - val_precision: 0.7781 - val_recall: 0.8333\n",
      "20/20 [==============================] - 0s 1ms/step\n"
     ]
    },
    {
     "name": "stderr",
     "output_type": "stream",
     "text": [
      "WARNING:absl:Found untraced functions such as _update_step_xla while saving (showing 1 of 1). These functions will not be directly callable after loading.\n"
     ]
    },
    {
     "name": "stdout",
     "output_type": "stream",
     "text": [
      "INFO:tensorflow:Assets written to: C:\\Users\\jmbar\\AppData\\Local\\Temp\\tmp_2h_h4gv\\assets\n"
     ]
    },
    {
     "name": "stderr",
     "output_type": "stream",
     "text": [
      "INFO:tensorflow:Assets written to: C:\\Users\\jmbar\\AppData\\Local\\Temp\\tmp_2h_h4gv\\assets\n"
     ]
    },
    {
     "name": "stdout",
     "output_type": "stream",
     "text": [
      "WARNING:tensorflow:Detecting that an object or model or tf.train.Checkpoint is being deleted with unrestored values. See the following logs for the specific values in question. To silence these warnings, use `status.expect_partial()`. See https://www.tensorflow.org/api_docs/python/tf/train/Checkpoint#restorefor details about the status object returned by the restore function.\n"
     ]
    },
    {
     "name": "stderr",
     "output_type": "stream",
     "text": [
      "WARNING:tensorflow:Detecting that an object or model or tf.train.Checkpoint is being deleted with unrestored values. See the following logs for the specific values in question. To silence these warnings, use `status.expect_partial()`. See https://www.tensorflow.org/api_docs/python/tf/train/Checkpoint#restorefor details about the status object returned by the restore function.\n"
     ]
    },
    {
     "name": "stdout",
     "output_type": "stream",
     "text": [
      "WARNING:tensorflow:Value in checkpoint could not be found in the restored object: (root).keras_api.metrics.0.total\n"
     ]
    },
    {
     "name": "stderr",
     "output_type": "stream",
     "text": [
      "WARNING:tensorflow:Value in checkpoint could not be found in the restored object: (root).keras_api.metrics.0.total\n"
     ]
    },
    {
     "name": "stdout",
     "output_type": "stream",
     "text": [
      "WARNING:tensorflow:Value in checkpoint could not be found in the restored object: (root).keras_api.metrics.0.count\n"
     ]
    },
    {
     "name": "stderr",
     "output_type": "stream",
     "text": [
      "WARNING:tensorflow:Value in checkpoint could not be found in the restored object: (root).keras_api.metrics.0.count\n"
     ]
    },
    {
     "name": "stdout",
     "output_type": "stream",
     "text": [
      "WARNING:tensorflow:Value in checkpoint could not be found in the restored object: (root).keras_api.metrics.1.total\n"
     ]
    },
    {
     "name": "stderr",
     "output_type": "stream",
     "text": [
      "WARNING:tensorflow:Value in checkpoint could not be found in the restored object: (root).keras_api.metrics.1.total\n"
     ]
    },
    {
     "name": "stdout",
     "output_type": "stream",
     "text": [
      "WARNING:tensorflow:Value in checkpoint could not be found in the restored object: (root).keras_api.metrics.1.count\n"
     ]
    },
    {
     "name": "stderr",
     "output_type": "stream",
     "text": [
      "WARNING:tensorflow:Value in checkpoint could not be found in the restored object: (root).keras_api.metrics.1.count\n"
     ]
    },
    {
     "name": "stdout",
     "output_type": "stream",
     "text": [
      "WARNING:tensorflow:Value in checkpoint could not be found in the restored object: (root).keras_api.metrics.2.true_positives\n"
     ]
    },
    {
     "name": "stderr",
     "output_type": "stream",
     "text": [
      "WARNING:tensorflow:Value in checkpoint could not be found in the restored object: (root).keras_api.metrics.2.true_positives\n"
     ]
    },
    {
     "name": "stdout",
     "output_type": "stream",
     "text": [
      "WARNING:tensorflow:Value in checkpoint could not be found in the restored object: (root).keras_api.metrics.2.false_positives\n"
     ]
    },
    {
     "name": "stderr",
     "output_type": "stream",
     "text": [
      "WARNING:tensorflow:Value in checkpoint could not be found in the restored object: (root).keras_api.metrics.2.false_positives\n"
     ]
    },
    {
     "name": "stdout",
     "output_type": "stream",
     "text": [
      "WARNING:tensorflow:Value in checkpoint could not be found in the restored object: (root).keras_api.metrics.3.true_positives\n"
     ]
    },
    {
     "name": "stderr",
     "output_type": "stream",
     "text": [
      "WARNING:tensorflow:Value in checkpoint could not be found in the restored object: (root).keras_api.metrics.3.true_positives\n"
     ]
    },
    {
     "name": "stdout",
     "output_type": "stream",
     "text": [
      "WARNING:tensorflow:Value in checkpoint could not be found in the restored object: (root).keras_api.metrics.3.false_negatives\n"
     ]
    },
    {
     "name": "stderr",
     "output_type": "stream",
     "text": [
      "WARNING:tensorflow:Value in checkpoint could not be found in the restored object: (root).keras_api.metrics.3.false_negatives\n"
     ]
    },
    {
     "name": "stdout",
     "output_type": "stream",
     "text": [
      "WARNING:tensorflow:Detecting that an object or model or tf.train.Checkpoint is being deleted with unrestored values. See the following logs for the specific values in question. To silence these warnings, use `status.expect_partial()`. See https://www.tensorflow.org/api_docs/python/tf/train/Checkpoint#restorefor details about the status object returned by the restore function.\n"
     ]
    },
    {
     "name": "stderr",
     "output_type": "stream",
     "text": [
      "WARNING:tensorflow:Detecting that an object or model or tf.train.Checkpoint is being deleted with unrestored values. See the following logs for the specific values in question. To silence these warnings, use `status.expect_partial()`. See https://www.tensorflow.org/api_docs/python/tf/train/Checkpoint#restorefor details about the status object returned by the restore function.\n"
     ]
    },
    {
     "name": "stdout",
     "output_type": "stream",
     "text": [
      "WARNING:tensorflow:Value in checkpoint could not be found in the restored object: (root).keras_api.metrics.0.total\n"
     ]
    },
    {
     "name": "stderr",
     "output_type": "stream",
     "text": [
      "WARNING:tensorflow:Value in checkpoint could not be found in the restored object: (root).keras_api.metrics.0.total\n"
     ]
    },
    {
     "name": "stdout",
     "output_type": "stream",
     "text": [
      "WARNING:tensorflow:Value in checkpoint could not be found in the restored object: (root).keras_api.metrics.0.count\n"
     ]
    },
    {
     "name": "stderr",
     "output_type": "stream",
     "text": [
      "WARNING:tensorflow:Value in checkpoint could not be found in the restored object: (root).keras_api.metrics.0.count\n"
     ]
    },
    {
     "name": "stdout",
     "output_type": "stream",
     "text": [
      "WARNING:tensorflow:Value in checkpoint could not be found in the restored object: (root).keras_api.metrics.1.total\n"
     ]
    },
    {
     "name": "stderr",
     "output_type": "stream",
     "text": [
      "WARNING:tensorflow:Value in checkpoint could not be found in the restored object: (root).keras_api.metrics.1.total\n"
     ]
    },
    {
     "name": "stdout",
     "output_type": "stream",
     "text": [
      "WARNING:tensorflow:Value in checkpoint could not be found in the restored object: (root).keras_api.metrics.1.count\n"
     ]
    },
    {
     "name": "stderr",
     "output_type": "stream",
     "text": [
      "WARNING:tensorflow:Value in checkpoint could not be found in the restored object: (root).keras_api.metrics.1.count\n"
     ]
    },
    {
     "name": "stdout",
     "output_type": "stream",
     "text": [
      "WARNING:tensorflow:Value in checkpoint could not be found in the restored object: (root).keras_api.metrics.2.true_positives\n"
     ]
    },
    {
     "name": "stderr",
     "output_type": "stream",
     "text": [
      "WARNING:tensorflow:Value in checkpoint could not be found in the restored object: (root).keras_api.metrics.2.true_positives\n"
     ]
    },
    {
     "name": "stdout",
     "output_type": "stream",
     "text": [
      "WARNING:tensorflow:Value in checkpoint could not be found in the restored object: (root).keras_api.metrics.2.false_positives\n"
     ]
    },
    {
     "name": "stderr",
     "output_type": "stream",
     "text": [
      "WARNING:tensorflow:Value in checkpoint could not be found in the restored object: (root).keras_api.metrics.2.false_positives\n"
     ]
    },
    {
     "name": "stdout",
     "output_type": "stream",
     "text": [
      "WARNING:tensorflow:Value in checkpoint could not be found in the restored object: (root).keras_api.metrics.3.true_positives\n"
     ]
    },
    {
     "name": "stderr",
     "output_type": "stream",
     "text": [
      "WARNING:tensorflow:Value in checkpoint could not be found in the restored object: (root).keras_api.metrics.3.true_positives\n"
     ]
    },
    {
     "name": "stdout",
     "output_type": "stream",
     "text": [
      "WARNING:tensorflow:Value in checkpoint could not be found in the restored object: (root).keras_api.metrics.3.false_negatives\n"
     ]
    },
    {
     "name": "stderr",
     "output_type": "stream",
     "text": [
      "WARNING:tensorflow:Value in checkpoint could not be found in the restored object: (root).keras_api.metrics.3.false_negatives\n"
     ]
    },
    {
     "name": "stdout",
     "output_type": "stream",
     "text": [
      "Epoch 1/60\n",
      "64/64 [==============================] - 1s 6ms/step - loss: 0.6798 - accuracy: 0.5953 - precision: 0.0000e+00 - recall: 0.0000e+00 - val_loss: 0.6723 - val_accuracy: 0.6078 - val_precision: 0.0000e+00 - val_recall: 0.0000e+00\n",
      "Epoch 2/60\n",
      "64/64 [==============================] - 0s 3ms/step - loss: 0.6770 - accuracy: 0.5953 - precision: 0.0000e+00 - recall: 0.0000e+00 - val_loss: 0.6707 - val_accuracy: 0.6078 - val_precision: 0.0000e+00 - val_recall: 0.0000e+00\n",
      "Epoch 3/60\n",
      "64/64 [==============================] - 0s 2ms/step - loss: 0.6753 - accuracy: 0.5953 - precision: 0.0000e+00 - recall: 0.0000e+00 - val_loss: 0.6695 - val_accuracy: 0.6078 - val_precision: 0.0000e+00 - val_recall: 0.0000e+00\n",
      "Epoch 4/60\n",
      "64/64 [==============================] - 0s 2ms/step - loss: 0.6748 - accuracy: 0.5953 - precision: 0.0000e+00 - recall: 0.0000e+00 - val_loss: 0.6695 - val_accuracy: 0.6078 - val_precision: 0.0000e+00 - val_recall: 0.0000e+00\n",
      "Epoch 5/60\n",
      "64/64 [==============================] - 0s 2ms/step - loss: 0.6765 - accuracy: 0.5953 - precision: 0.0000e+00 - recall: 0.0000e+00 - val_loss: 0.6684 - val_accuracy: 0.6078 - val_precision: 0.0000e+00 - val_recall: 0.0000e+00\n",
      "Epoch 6/60\n",
      "64/64 [==============================] - 0s 2ms/step - loss: 0.6736 - accuracy: 0.5953 - precision: 0.0000e+00 - recall: 0.0000e+00 - val_loss: 0.6668 - val_accuracy: 0.6078 - val_precision: 0.0000e+00 - val_recall: 0.0000e+00\n",
      "Epoch 7/60\n",
      "64/64 [==============================] - 0s 2ms/step - loss: 0.6693 - accuracy: 0.5980 - precision: 1.0000 - recall: 0.0068 - val_loss: 0.6615 - val_accuracy: 0.6125 - val_precision: 1.0000 - val_recall: 0.0120\n",
      "Epoch 8/60\n",
      "64/64 [==============================] - 0s 3ms/step - loss: 0.6617 - accuracy: 0.6234 - precision: 0.9286 - recall: 0.0753 - val_loss: 0.6506 - val_accuracy: 0.6203 - val_precision: 0.9000 - val_recall: 0.0359\n",
      "Epoch 9/60\n",
      "64/64 [==============================] - 0s 2ms/step - loss: 0.6413 - accuracy: 0.6508 - precision: 0.9551 - recall: 0.1438 - val_loss: 0.6276 - val_accuracy: 0.6547 - val_precision: 0.8947 - val_recall: 0.1355\n",
      "Epoch 10/60\n",
      "64/64 [==============================] - 0s 2ms/step - loss: 0.5985 - accuracy: 0.6840 - precision: 0.9283 - recall: 0.2375 - val_loss: 0.5799 - val_accuracy: 0.6828 - val_precision: 0.8529 - val_recall: 0.2311\n",
      "Epoch 11/60\n",
      "64/64 [==============================] - 0s 2ms/step - loss: 0.5416 - accuracy: 0.7500 - precision: 0.8708 - recall: 0.4488 - val_loss: 0.5361 - val_accuracy: 0.7203 - val_precision: 0.8673 - val_recall: 0.3386\n",
      "Epoch 12/60\n",
      "64/64 [==============================] - 0s 2ms/step - loss: 0.5071 - accuracy: 0.7598 - precision: 0.8243 - recall: 0.5164 - val_loss: 0.6123 - val_accuracy: 0.7844 - val_precision: 0.6507 - val_recall: 0.9721\n",
      "Epoch 13/60\n",
      "64/64 [==============================] - 0s 2ms/step - loss: 0.4864 - accuracy: 0.7832 - precision: 0.8460 - recall: 0.5676 - val_loss: 0.4910 - val_accuracy: 0.7844 - val_precision: 0.7927 - val_recall: 0.6096\n",
      "Epoch 14/60\n",
      "64/64 [==============================] - 0s 2ms/step - loss: 0.4423 - accuracy: 0.8016 - precision: 0.8607 - recall: 0.6081 - val_loss: 0.4674 - val_accuracy: 0.7906 - val_precision: 0.8305 - val_recall: 0.5857\n",
      "Epoch 15/60\n",
      "64/64 [==============================] - 0s 3ms/step - loss: 0.4262 - accuracy: 0.8133 - precision: 0.8595 - recall: 0.6438 - val_loss: 0.4675 - val_accuracy: 0.7875 - val_precision: 0.8324 - val_recall: 0.5737\n",
      "Epoch 16/60\n",
      "64/64 [==============================] - 0s 2ms/step - loss: 0.4306 - accuracy: 0.8094 - precision: 0.8350 - recall: 0.6593 - val_loss: 0.4521 - val_accuracy: 0.7859 - val_precision: 0.7938 - val_recall: 0.6135\n",
      "Epoch 17/60\n",
      "64/64 [==============================] - 0s 2ms/step - loss: 0.4132 - accuracy: 0.8219 - precision: 0.8461 - recall: 0.6844 - val_loss: 0.4676 - val_accuracy: 0.7875 - val_precision: 0.8286 - val_recall: 0.5777\n",
      "Epoch 18/60\n",
      "64/64 [==============================] - 0s 2ms/step - loss: 0.4093 - accuracy: 0.8188 - precision: 0.8326 - recall: 0.6911 - val_loss: 0.4468 - val_accuracy: 0.7859 - val_precision: 0.7938 - val_recall: 0.6135\n",
      "Epoch 19/60\n",
      "64/64 [==============================] - 0s 2ms/step - loss: 0.4101 - accuracy: 0.8191 - precision: 0.8230 - recall: 0.7046 - val_loss: 0.4422 - val_accuracy: 0.7906 - val_precision: 0.7940 - val_recall: 0.6295\n",
      "Epoch 20/60\n",
      "64/64 [==============================] - 0s 2ms/step - loss: 0.4109 - accuracy: 0.8199 - precision: 0.8263 - recall: 0.7027 - val_loss: 0.4404 - val_accuracy: 0.8156 - val_precision: 0.7930 - val_recall: 0.7171\n",
      "Epoch 21/60\n",
      "64/64 [==============================] - 0s 2ms/step - loss: 0.4134 - accuracy: 0.8211 - precision: 0.8240 - recall: 0.7095 - val_loss: 0.4372 - val_accuracy: 0.8156 - val_precision: 0.7930 - val_recall: 0.7171\n",
      "Epoch 22/60\n",
      "64/64 [==============================] - 0s 2ms/step - loss: 0.3970 - accuracy: 0.8293 - precision: 0.8309 - recall: 0.7259 - val_loss: 0.4505 - val_accuracy: 0.7844 - val_precision: 0.7958 - val_recall: 0.6056\n",
      "Epoch 23/60\n",
      "64/64 [==============================] - 0s 2ms/step - loss: 0.3914 - accuracy: 0.8242 - precision: 0.8199 - recall: 0.7249 - val_loss: 0.4312 - val_accuracy: 0.8109 - val_precision: 0.7928 - val_recall: 0.7012\n",
      "Epoch 24/60\n",
      "64/64 [==============================] - 0s 2ms/step - loss: 0.3919 - accuracy: 0.8289 - precision: 0.8257 - recall: 0.7317 - val_loss: 0.4507 - val_accuracy: 0.7859 - val_precision: 0.7969 - val_recall: 0.6096\n",
      "Epoch 25/60\n",
      "64/64 [==============================] - 0s 2ms/step - loss: 0.3955 - accuracy: 0.8266 - precision: 0.8217 - recall: 0.7297 - val_loss: 0.4631 - val_accuracy: 0.8094 - val_precision: 0.7329 - val_recall: 0.8088\n",
      "Epoch 26/60\n",
      "64/64 [==============================] - 0s 2ms/step - loss: 0.3902 - accuracy: 0.8313 - precision: 0.8233 - recall: 0.7423 - val_loss: 0.4382 - val_accuracy: 0.8109 - val_precision: 0.7539 - val_recall: 0.7689\n",
      "Epoch 27/60\n",
      "64/64 [==============================] - 0s 2ms/step - loss: 0.3978 - accuracy: 0.8273 - precision: 0.8200 - recall: 0.7346 - val_loss: 0.4466 - val_accuracy: 0.8156 - val_precision: 0.7509 - val_recall: 0.7928\n",
      "Epoch 28/60\n",
      "64/64 [==============================] - 0s 2ms/step - loss: 0.3956 - accuracy: 0.8277 - precision: 0.8189 - recall: 0.7375 - val_loss: 0.4419 - val_accuracy: 0.8141 - val_precision: 0.7500 - val_recall: 0.7888\n",
      "Epoch 29/60\n",
      "64/64 [==============================] - 0s 2ms/step - loss: 0.3975 - accuracy: 0.8328 - precision: 0.8187 - recall: 0.7539 - val_loss: 0.4236 - val_accuracy: 0.8172 - val_precision: 0.7680 - val_recall: 0.7649\n",
      "Epoch 30/60\n",
      "64/64 [==============================] - 0s 2ms/step - loss: 0.3884 - accuracy: 0.8297 - precision: 0.8158 - recall: 0.7481 - val_loss: 0.4272 - val_accuracy: 0.8047 - val_precision: 0.7972 - val_recall: 0.6733\n",
      "Epoch 31/60\n",
      "64/64 [==============================] - 0s 2ms/step - loss: 0.3921 - accuracy: 0.8340 - precision: 0.8212 - recall: 0.7539 - val_loss: 0.4178 - val_accuracy: 0.8172 - val_precision: 0.7888 - val_recall: 0.7291\n",
      "Epoch 32/60\n",
      "64/64 [==============================] - 0s 2ms/step - loss: 0.3882 - accuracy: 0.8371 - precision: 0.8181 - recall: 0.7683 - val_loss: 0.4232 - val_accuracy: 0.8109 - val_precision: 0.7539 - val_recall: 0.7689\n",
      "Epoch 33/60\n",
      "64/64 [==============================] - 0s 2ms/step - loss: 0.3957 - accuracy: 0.8289 - precision: 0.8115 - recall: 0.7519 - val_loss: 0.4630 - val_accuracy: 0.8109 - val_precision: 0.7273 - val_recall: 0.8287\n",
      "Epoch 34/60\n",
      "64/64 [==============================] - 0s 2ms/step - loss: 0.3840 - accuracy: 0.8328 - precision: 0.8115 - recall: 0.7645 - val_loss: 0.4391 - val_accuracy: 0.7953 - val_precision: 0.7941 - val_recall: 0.6454\n",
      "Epoch 35/60\n",
      "64/64 [==============================] - 0s 2ms/step - loss: 0.3830 - accuracy: 0.8328 - precision: 0.8134 - recall: 0.7616 - val_loss: 0.4331 - val_accuracy: 0.8141 - val_precision: 0.7426 - val_recall: 0.8048\n",
      "Epoch 36/60\n",
      "64/64 [==============================] - 0s 2ms/step - loss: 0.3863 - accuracy: 0.8328 - precision: 0.8115 - recall: 0.7645 - val_loss: 0.4130 - val_accuracy: 0.8188 - val_precision: 0.7778 - val_recall: 0.7530\n",
      "Epoch 37/60\n"
     ]
    },
    {
     "name": "stdout",
     "output_type": "stream",
     "text": [
      "64/64 [==============================] - 0s 2ms/step - loss: 0.3759 - accuracy: 0.8352 - precision: 0.8126 - recall: 0.7703 - val_loss: 0.4125 - val_accuracy: 0.8172 - val_precision: 0.7702 - val_recall: 0.7610\n",
      "Epoch 38/60\n",
      "64/64 [==============================] - 0s 2ms/step - loss: 0.3848 - accuracy: 0.8355 - precision: 0.8122 - recall: 0.7722 - val_loss: 0.4391 - val_accuracy: 0.8125 - val_precision: 0.7348 - val_recall: 0.8167\n",
      "Epoch 39/60\n",
      "64/64 [==============================] - 0s 2ms/step - loss: 0.3846 - accuracy: 0.8355 - precision: 0.8103 - recall: 0.7751 - val_loss: 0.4138 - val_accuracy: 0.8109 - val_precision: 0.7539 - val_recall: 0.7689\n",
      "Epoch 40/60\n",
      "64/64 [==============================] - 0s 2ms/step - loss: 0.3728 - accuracy: 0.8402 - precision: 0.8132 - recall: 0.7857 - val_loss: 0.4108 - val_accuracy: 0.8203 - val_precision: 0.7810 - val_recall: 0.7530\n",
      "Epoch 41/60\n",
      "64/64 [==============================] - 0s 2ms/step - loss: 0.3763 - accuracy: 0.8367 - precision: 0.8096 - recall: 0.7799 - val_loss: 0.4216 - val_accuracy: 0.8141 - val_precision: 0.7426 - val_recall: 0.8048\n",
      "Epoch 42/60\n",
      "64/64 [==============================] - 0s 3ms/step - loss: 0.3824 - accuracy: 0.8355 - precision: 0.8103 - recall: 0.7751 - val_loss: 0.4099 - val_accuracy: 0.8109 - val_precision: 0.7539 - val_recall: 0.7689\n",
      "Epoch 43/60\n",
      "64/64 [==============================] - 0s 2ms/step - loss: 0.3728 - accuracy: 0.8352 - precision: 0.8058 - recall: 0.7809 - val_loss: 0.4081 - val_accuracy: 0.8156 - val_precision: 0.7628 - val_recall: 0.7689\n",
      "Epoch 44/60\n",
      "64/64 [==============================] - 0s 2ms/step - loss: 0.3800 - accuracy: 0.8348 - precision: 0.8038 - recall: 0.7828 - val_loss: 0.4070 - val_accuracy: 0.8156 - val_precision: 0.7628 - val_recall: 0.7689\n",
      "Epoch 45/60\n",
      "64/64 [==============================] - 0s 2ms/step - loss: 0.3792 - accuracy: 0.8379 - precision: 0.8047 - recall: 0.7915 - val_loss: 0.4187 - val_accuracy: 0.8156 - val_precision: 0.7930 - val_recall: 0.7171\n",
      "Epoch 46/60\n",
      "64/64 [==============================] - 0s 2ms/step - loss: 0.3724 - accuracy: 0.8355 - precision: 0.8060 - recall: 0.7819 - val_loss: 0.4064 - val_accuracy: 0.8156 - val_precision: 0.7649 - val_recall: 0.7649\n",
      "Epoch 47/60\n",
      "64/64 [==============================] - 0s 2ms/step - loss: 0.3727 - accuracy: 0.8371 - precision: 0.8049 - recall: 0.7886 - val_loss: 0.4380 - val_accuracy: 0.8078 - val_precision: 0.7936 - val_recall: 0.6892\n",
      "Epoch 48/60\n",
      "64/64 [==============================] - 0s 2ms/step - loss: 0.3760 - accuracy: 0.8383 - precision: 0.8067 - recall: 0.7896 - val_loss: 0.4345 - val_accuracy: 0.8094 - val_precision: 0.7263 - val_recall: 0.8247\n",
      "Epoch 49/60\n",
      "64/64 [==============================] - 0s 2ms/step - loss: 0.3773 - accuracy: 0.8367 - precision: 0.8041 - recall: 0.7886 - val_loss: 0.4085 - val_accuracy: 0.8219 - val_precision: 0.7842 - val_recall: 0.7530\n",
      "Epoch 50/60\n",
      "64/64 [==============================] - 0s 2ms/step - loss: 0.3773 - accuracy: 0.8375 - precision: 0.8021 - recall: 0.7944 - val_loss: 0.4348 - val_accuracy: 0.8109 - val_precision: 0.7273 - val_recall: 0.8287\n",
      "Epoch 51/60\n",
      "64/64 [==============================] - 0s 2ms/step - loss: 0.3740 - accuracy: 0.8348 - precision: 0.7973 - recall: 0.7934 - val_loss: 0.4048 - val_accuracy: 0.8172 - val_precision: 0.7659 - val_recall: 0.7689\n",
      "Epoch 52/60\n",
      "64/64 [==============================] - 0s 2ms/step - loss: 0.3704 - accuracy: 0.8363 - precision: 0.8016 - recall: 0.7915 - val_loss: 0.4490 - val_accuracy: 0.8062 - val_precision: 0.7926 - val_recall: 0.6853\n",
      "Epoch 53/60\n",
      "64/64 [==============================] - 0s 2ms/step - loss: 0.3774 - accuracy: 0.8375 - precision: 0.7992 - recall: 0.7992 - val_loss: 0.4040 - val_accuracy: 0.8141 - val_precision: 0.7519 - val_recall: 0.7849\n",
      "Epoch 54/60\n",
      "64/64 [==============================] - 0s 2ms/step - loss: 0.3685 - accuracy: 0.8379 - precision: 0.7994 - recall: 0.8002 - val_loss: 0.4302 - val_accuracy: 0.8141 - val_precision: 0.7920 - val_recall: 0.7131\n",
      "Epoch 55/60\n",
      "64/64 [==============================] - 0s 2ms/step - loss: 0.3865 - accuracy: 0.8352 - precision: 0.7975 - recall: 0.7944 - val_loss: 0.4020 - val_accuracy: 0.8156 - val_precision: 0.7628 - val_recall: 0.7689\n",
      "Epoch 56/60\n",
      "64/64 [==============================] - 0s 2ms/step - loss: 0.3736 - accuracy: 0.8363 - precision: 0.7963 - recall: 0.8002 - val_loss: 0.4447 - val_accuracy: 0.8078 - val_precision: 0.7936 - val_recall: 0.6892\n",
      "Epoch 57/60\n",
      "64/64 [==============================] - 0s 2ms/step - loss: 0.3766 - accuracy: 0.8414 - precision: 0.8035 - recall: 0.8050 - val_loss: 0.4139 - val_accuracy: 0.8203 - val_precision: 0.7833 - val_recall: 0.7490\n",
      "Epoch 58/60\n",
      "64/64 [==============================] - 0s 2ms/step - loss: 0.3667 - accuracy: 0.8426 - precision: 0.8035 - recall: 0.8089 - val_loss: 0.4092 - val_accuracy: 0.8219 - val_precision: 0.7796 - val_recall: 0.7610\n",
      "Epoch 59/60\n",
      "64/64 [==============================] - 0s 2ms/step - loss: 0.3729 - accuracy: 0.8383 - precision: 0.7985 - recall: 0.8031 - val_loss: 0.4061 - val_accuracy: 0.8156 - val_precision: 0.7649 - val_recall: 0.7649\n",
      "Epoch 60/60\n",
      "64/64 [==============================] - 0s 2ms/step - loss: 0.3690 - accuracy: 0.8371 - precision: 0.7996 - recall: 0.7973 - val_loss: 0.4000 - val_accuracy: 0.8125 - val_precision: 0.7510 - val_recall: 0.7809\n",
      "20/20 [==============================] - 0s 1ms/step\n"
     ]
    },
    {
     "name": "stderr",
     "output_type": "stream",
     "text": [
      "WARNING:absl:Found untraced functions such as _update_step_xla while saving (showing 1 of 1). These functions will not be directly callable after loading.\n"
     ]
    },
    {
     "name": "stdout",
     "output_type": "stream",
     "text": [
      "INFO:tensorflow:Assets written to: C:\\Users\\jmbar\\AppData\\Local\\Temp\\tmpngx4phm7\\assets\n"
     ]
    },
    {
     "name": "stderr",
     "output_type": "stream",
     "text": [
      "INFO:tensorflow:Assets written to: C:\\Users\\jmbar\\AppData\\Local\\Temp\\tmpngx4phm7\\assets\n"
     ]
    },
    {
     "name": "stdout",
     "output_type": "stream",
     "text": [
      "Epoch 1/60\n",
      "64/64 [==============================] - 1s 6ms/step - loss: 0.6787 - accuracy: 0.5984 - precision: 0.0000e+00 - recall: 0.0000e+00 - val_loss: 0.6790 - val_accuracy: 0.5844 - val_precision: 0.0000e+00 - val_recall: 0.0000e+00\n",
      "Epoch 2/60\n",
      "64/64 [==============================] - 0s 2ms/step - loss: 0.6746 - accuracy: 0.5984 - precision: 0.0000e+00 - recall: 0.0000e+00 - val_loss: 0.6787 - val_accuracy: 0.5844 - val_precision: 0.0000e+00 - val_recall: 0.0000e+00\n",
      "Epoch 3/60\n",
      "64/64 [==============================] - 0s 2ms/step - loss: 0.6764 - accuracy: 0.5984 - precision: 0.0000e+00 - recall: 0.0000e+00 - val_loss: 0.6786 - val_accuracy: 0.5844 - val_precision: 0.0000e+00 - val_recall: 0.0000e+00\n",
      "Epoch 4/60\n",
      "64/64 [==============================] - 0s 2ms/step - loss: 0.6740 - accuracy: 0.5984 - precision: 0.0000e+00 - recall: 0.0000e+00 - val_loss: 0.6788 - val_accuracy: 0.5844 - val_precision: 0.0000e+00 - val_recall: 0.0000e+00\n",
      "Epoch 5/60\n",
      "64/64 [==============================] - 0s 2ms/step - loss: 0.6747 - accuracy: 0.5984 - precision: 0.0000e+00 - recall: 0.0000e+00 - val_loss: 0.6826 - val_accuracy: 0.5844 - val_precision: 0.0000e+00 - val_recall: 0.0000e+00\n",
      "Epoch 6/60\n",
      "64/64 [==============================] - 0s 2ms/step - loss: 0.6744 - accuracy: 0.5984 - precision: 0.0000e+00 - recall: 0.0000e+00 - val_loss: 0.6769 - val_accuracy: 0.5844 - val_precision: 0.0000e+00 - val_recall: 0.0000e+00\n",
      "Epoch 7/60\n",
      "64/64 [==============================] - 0s 2ms/step - loss: 0.6709 - accuracy: 0.5984 - precision: 0.0000e+00 - recall: 0.0000e+00 - val_loss: 0.6781 - val_accuracy: 0.5844 - val_precision: 0.0000e+00 - val_recall: 0.0000e+00\n",
      "Epoch 8/60\n",
      "64/64 [==============================] - 0s 2ms/step - loss: 0.6675 - accuracy: 0.6047 - precision: 1.0000 - recall: 0.0156 - val_loss: 0.6697 - val_accuracy: 0.5938 - val_precision: 1.0000 - val_recall: 0.0226\n",
      "Epoch 9/60\n",
      "64/64 [==============================] - 0s 2ms/step - loss: 0.6502 - accuracy: 0.6227 - precision: 0.9559 - recall: 0.0632 - val_loss: 0.6622 - val_accuracy: 0.6000 - val_precision: 0.9167 - val_recall: 0.0414\n",
      "Epoch 10/60\n",
      "64/64 [==============================] - 0s 2ms/step - loss: 0.6205 - accuracy: 0.6707 - precision: 0.9343 - recall: 0.1936 - val_loss: 0.6123 - val_accuracy: 0.6781 - val_precision: 0.8659 - val_recall: 0.2669\n",
      "Epoch 11/60\n",
      "64/64 [==============================] - 0s 2ms/step - loss: 0.5749 - accuracy: 0.7066 - precision: 0.9014 - recall: 0.3025 - val_loss: 0.5614 - val_accuracy: 0.7391 - val_precision: 0.8722 - val_recall: 0.4361\n",
      "Epoch 12/60\n",
      "64/64 [==============================] - 0s 2ms/step - loss: 0.5265 - accuracy: 0.7590 - precision: 0.8914 - recall: 0.4553 - val_loss: 0.5143 - val_accuracy: 0.7672 - val_precision: 0.8589 - val_recall: 0.5263\n",
      "Epoch 13/60\n",
      "64/64 [==============================] - 0s 2ms/step - loss: 0.4872 - accuracy: 0.7816 - precision: 0.8705 - recall: 0.5360 - val_loss: 0.4880 - val_accuracy: 0.7641 - val_precision: 0.8485 - val_recall: 0.5263\n",
      "Epoch 14/60\n",
      "64/64 [==============================] - 0s 2ms/step - loss: 0.4634 - accuracy: 0.7930 - precision: 0.8547 - recall: 0.5837 - val_loss: 0.4683 - val_accuracy: 0.7875 - val_precision: 0.8283 - val_recall: 0.6165\n",
      "Epoch 15/60\n",
      "64/64 [==============================] - 0s 2ms/step - loss: 0.4386 - accuracy: 0.8039 - precision: 0.8525 - recall: 0.6187 - val_loss: 0.4551 - val_accuracy: 0.7937 - val_precision: 0.8221 - val_recall: 0.6429\n",
      "Epoch 16/60\n",
      "64/64 [==============================] - 0s 2ms/step - loss: 0.4271 - accuracy: 0.8109 - precision: 0.8350 - recall: 0.6595 - val_loss: 0.4460 - val_accuracy: 0.7937 - val_precision: 0.8221 - val_recall: 0.6429\n",
      "Epoch 17/60\n",
      "64/64 [==============================] - 0s 2ms/step - loss: 0.4193 - accuracy: 0.8172 - precision: 0.8333 - recall: 0.6809 - val_loss: 0.4420 - val_accuracy: 0.8109 - val_precision: 0.8166 - val_recall: 0.7030\n",
      "Epoch 18/60\n",
      "64/64 [==============================] - 0s 2ms/step - loss: 0.4168 - accuracy: 0.8176 - precision: 0.8312 - recall: 0.6848 - val_loss: 0.4444 - val_accuracy: 0.8281 - val_precision: 0.8071 - val_recall: 0.7707\n",
      "Epoch 19/60\n",
      "64/64 [==============================] - 0s 2ms/step - loss: 0.4246 - accuracy: 0.8172 - precision: 0.8233 - recall: 0.6936 - val_loss: 0.4324 - val_accuracy: 0.8156 - val_precision: 0.8190 - val_recall: 0.7143\n",
      "Epoch 20/60\n",
      "64/64 [==============================] - 0s 2ms/step - loss: 0.4071 - accuracy: 0.8234 - precision: 0.8288 - recall: 0.7062 - val_loss: 0.4297 - val_accuracy: 0.8016 - val_precision: 0.8174 - val_recall: 0.6729\n",
      "Epoch 21/60\n",
      "64/64 [==============================] - 0s 2ms/step - loss: 0.4104 - accuracy: 0.8191 - precision: 0.8178 - recall: 0.7072 - val_loss: 0.4312 - val_accuracy: 0.7969 - val_precision: 0.8178 - val_recall: 0.6579\n",
      "Epoch 22/60\n",
      "64/64 [==============================] - 0s 2ms/step - loss: 0.3986 - accuracy: 0.8254 - precision: 0.8239 - recall: 0.7189 - val_loss: 0.4231 - val_accuracy: 0.8141 - val_precision: 0.8182 - val_recall: 0.7105\n",
      "Epoch 23/60\n",
      "64/64 [==============================] - 0s 2ms/step - loss: 0.4039 - accuracy: 0.8270 - precision: 0.8197 - recall: 0.7296 - val_loss: 0.4407 - val_accuracy: 0.7937 - val_precision: 0.8221 - val_recall: 0.6429\n",
      "Epoch 24/60\n",
      "64/64 [==============================] - 0s 2ms/step - loss: 0.4032 - accuracy: 0.8301 - precision: 0.8255 - recall: 0.7315 - val_loss: 0.4189 - val_accuracy: 0.8234 - val_precision: 0.8148 - val_recall: 0.7444\n",
      "Epoch 25/60\n",
      "64/64 [==============================] - 0s 2ms/step - loss: 0.4057 - accuracy: 0.8254 - precision: 0.8161 - recall: 0.7296 - val_loss: 0.4180 - val_accuracy: 0.8141 - val_precision: 0.8182 - val_recall: 0.7105\n",
      "Epoch 26/60\n",
      "64/64 [==============================] - 0s 2ms/step - loss: 0.3941 - accuracy: 0.8281 - precision: 0.8203 - recall: 0.7325 - val_loss: 0.4633 - val_accuracy: 0.7844 - val_precision: 0.8200 - val_recall: 0.6165\n",
      "Epoch 27/60\n",
      "64/64 [==============================] - 0s 2ms/step - loss: 0.4020 - accuracy: 0.8285 - precision: 0.8130 - recall: 0.7442 - val_loss: 0.4614 - val_accuracy: 0.7859 - val_precision: 0.8209 - val_recall: 0.6203\n",
      "Epoch 28/60\n",
      "64/64 [==============================] - 0s 2ms/step - loss: 0.3957 - accuracy: 0.8324 - precision: 0.8217 - recall: 0.7442 - val_loss: 0.4201 - val_accuracy: 0.8281 - val_precision: 0.7889 - val_recall: 0.8008\n",
      "Epoch 29/60\n",
      "64/64 [==============================] - 0s 2ms/step - loss: 0.3925 - accuracy: 0.8336 - precision: 0.8155 - recall: 0.7568 - val_loss: 0.4104 - val_accuracy: 0.8281 - val_precision: 0.8071 - val_recall: 0.7707\n",
      "Epoch 30/60\n",
      "64/64 [==============================] - 0s 2ms/step - loss: 0.3931 - accuracy: 0.8266 - precision: 0.8042 - recall: 0.7510 - val_loss: 0.4610 - val_accuracy: 0.7891 - val_precision: 0.8195 - val_recall: 0.6316\n",
      "Epoch 31/60\n",
      "64/64 [==============================] - 0s 2ms/step - loss: 0.3984 - accuracy: 0.8297 - precision: 0.8071 - recall: 0.7568 - val_loss: 0.4078 - val_accuracy: 0.8266 - val_precision: 0.8063 - val_recall: 0.7669\n",
      "Epoch 32/60\n",
      "64/64 [==============================] - 0s 2ms/step - loss: 0.3920 - accuracy: 0.8293 - precision: 0.8120 - recall: 0.7481 - val_loss: 0.4249 - val_accuracy: 0.8203 - val_precision: 0.7668 - val_recall: 0.8158\n",
      "Epoch 33/60\n",
      "64/64 [==============================] - 0s 3ms/step - loss: 0.3821 - accuracy: 0.8359 - precision: 0.8115 - recall: 0.7704 - val_loss: 0.4055 - val_accuracy: 0.8281 - val_precision: 0.7955 - val_recall: 0.7895\n",
      "Epoch 34/60\n",
      "64/64 [==============================] - 0s 2ms/step - loss: 0.3942 - accuracy: 0.8355 - precision: 0.8132 - recall: 0.7665 - val_loss: 0.5046 - val_accuracy: 0.7859 - val_precision: 0.8241 - val_recall: 0.6165\n",
      "Epoch 35/60\n",
      "64/64 [==============================] - 0s 2ms/step - loss: 0.3961 - accuracy: 0.8313 - precision: 0.8066 - recall: 0.7626 - val_loss: 0.4038 - val_accuracy: 0.8266 - val_precision: 0.8039 - val_recall: 0.7707\n",
      "Epoch 36/60\n",
      "64/64 [==============================] - 0s 2ms/step - loss: 0.3848 - accuracy: 0.8336 - precision: 0.8129 - recall: 0.7607 - val_loss: 0.4078 - val_accuracy: 0.8266 - val_precision: 0.7839 - val_recall: 0.8045\n",
      "Epoch 37/60\n"
     ]
    },
    {
     "name": "stdout",
     "output_type": "stream",
     "text": [
      "64/64 [==============================] - 0s 2ms/step - loss: 0.3823 - accuracy: 0.8375 - precision: 0.8103 - recall: 0.7772 - val_loss: 0.4084 - val_accuracy: 0.8266 - val_precision: 0.7818 - val_recall: 0.8083\n",
      "Epoch 38/60\n",
      "64/64 [==============================] - 0s 2ms/step - loss: 0.3923 - accuracy: 0.8309 - precision: 0.8045 - recall: 0.7646 - val_loss: 0.4081 - val_accuracy: 0.8234 - val_precision: 0.8174 - val_recall: 0.7406\n",
      "Epoch 39/60\n",
      "64/64 [==============================] - 0s 2ms/step - loss: 0.3807 - accuracy: 0.8383 - precision: 0.8107 - recall: 0.7792 - val_loss: 0.4508 - val_accuracy: 0.8313 - val_precision: 0.7582 - val_recall: 0.8722\n",
      "Epoch 40/60\n",
      "64/64 [==============================] - 0s 2ms/step - loss: 0.4174 - accuracy: 0.8305 - precision: 0.7988 - recall: 0.7724 - val_loss: 0.4252 - val_accuracy: 0.8109 - val_precision: 0.8194 - val_recall: 0.6992\n",
      "Epoch 41/60\n",
      "64/64 [==============================] - 0s 2ms/step - loss: 0.3761 - accuracy: 0.8383 - precision: 0.8126 - recall: 0.7763 - val_loss: 0.4408 - val_accuracy: 0.8031 - val_precision: 0.8182 - val_recall: 0.6767\n",
      "Epoch 42/60\n",
      "64/64 [==============================] - 0s 2ms/step - loss: 0.3835 - accuracy: 0.8355 - precision: 0.8075 - recall: 0.7753 - val_loss: 0.4017 - val_accuracy: 0.8266 - val_precision: 0.8063 - val_recall: 0.7669\n",
      "Epoch 43/60\n",
      "64/64 [==============================] - 0s 2ms/step - loss: 0.3820 - accuracy: 0.8414 - precision: 0.8129 - recall: 0.7860 - val_loss: 0.3989 - val_accuracy: 0.8266 - val_precision: 0.7860 - val_recall: 0.8008\n",
      "Epoch 44/60\n",
      "64/64 [==============================] - 0s 2ms/step - loss: 0.3763 - accuracy: 0.8355 - precision: 0.8020 - recall: 0.7840 - val_loss: 0.4113 - val_accuracy: 0.8250 - val_precision: 0.8182 - val_recall: 0.7444\n",
      "Epoch 45/60\n",
      "64/64 [==============================] - 0s 2ms/step - loss: 0.3779 - accuracy: 0.8336 - precision: 0.7986 - recall: 0.7831 - val_loss: 0.3974 - val_accuracy: 0.8281 - val_precision: 0.7932 - val_recall: 0.7932\n",
      "Epoch 46/60\n",
      "64/64 [==============================] - 0s 2ms/step - loss: 0.3814 - accuracy: 0.8375 - precision: 0.8030 - recall: 0.7889 - val_loss: 0.3965 - val_accuracy: 0.8250 - val_precision: 0.7873 - val_recall: 0.7932\n",
      "Epoch 47/60\n",
      "64/64 [==============================] - 0s 2ms/step - loss: 0.3798 - accuracy: 0.8391 - precision: 0.8031 - recall: 0.7938 - val_loss: 0.4081 - val_accuracy: 0.8234 - val_precision: 0.8097 - val_recall: 0.7519\n",
      "Epoch 48/60\n",
      "64/64 [==============================] - 0s 2ms/step - loss: 0.3755 - accuracy: 0.8375 - precision: 0.8030 - recall: 0.7889 - val_loss: 0.3999 - val_accuracy: 0.8281 - val_precision: 0.7977 - val_recall: 0.7857\n",
      "Epoch 49/60\n",
      "64/64 [==============================] - 0s 2ms/step - loss: 0.3785 - accuracy: 0.8344 - precision: 0.7961 - recall: 0.7899 - val_loss: 0.4023 - val_accuracy: 0.8266 - val_precision: 0.8039 - val_recall: 0.7707\n",
      "Epoch 50/60\n",
      "64/64 [==============================] - 0s 2ms/step - loss: 0.3742 - accuracy: 0.8363 - precision: 0.8012 - recall: 0.7879 - val_loss: 0.3962 - val_accuracy: 0.8281 - val_precision: 0.7932 - val_recall: 0.7932\n",
      "Epoch 51/60\n",
      "64/64 [==============================] - 0s 2ms/step - loss: 0.3722 - accuracy: 0.8363 - precision: 0.7959 - recall: 0.7967 - val_loss: 0.4281 - val_accuracy: 0.8203 - val_precision: 0.8186 - val_recall: 0.7293\n",
      "Epoch 52/60\n",
      "64/64 [==============================] - 0s 2ms/step - loss: 0.3771 - accuracy: 0.8375 - precision: 0.7971 - recall: 0.7986 - val_loss: 0.4119 - val_accuracy: 0.8234 - val_precision: 0.8097 - val_recall: 0.7519\n",
      "Epoch 53/60\n",
      "64/64 [==============================] - 0s 2ms/step - loss: 0.3773 - accuracy: 0.8383 - precision: 0.8022 - recall: 0.7928 - val_loss: 0.3930 - val_accuracy: 0.8266 - val_precision: 0.7839 - val_recall: 0.8045\n",
      "Epoch 54/60\n",
      "64/64 [==============================] - 0s 2ms/step - loss: 0.3693 - accuracy: 0.8379 - precision: 0.7956 - recall: 0.8025 - val_loss: 0.4033 - val_accuracy: 0.8234 - val_precision: 0.7647 - val_recall: 0.8308\n",
      "Epoch 55/60\n",
      "64/64 [==============================] - 0s 2ms/step - loss: 0.3790 - accuracy: 0.8336 - precision: 0.7934 - recall: 0.7918 - val_loss: 0.3917 - val_accuracy: 0.8266 - val_precision: 0.7860 - val_recall: 0.8008\n",
      "Epoch 56/60\n",
      "64/64 [==============================] - 0s 2ms/step - loss: 0.3738 - accuracy: 0.8410 - precision: 0.8023 - recall: 0.8016 - val_loss: 0.3947 - val_accuracy: 0.8250 - val_precision: 0.7873 - val_recall: 0.7932\n",
      "Epoch 57/60\n",
      "64/64 [==============================] - 0s 2ms/step - loss: 0.3747 - accuracy: 0.8398 - precision: 0.7983 - recall: 0.8045 - val_loss: 0.4183 - val_accuracy: 0.8250 - val_precision: 0.8130 - val_recall: 0.7519\n",
      "Epoch 58/60\n",
      "64/64 [==============================] - 0s 2ms/step - loss: 0.3726 - accuracy: 0.8379 - precision: 0.7973 - recall: 0.7996 - val_loss: 0.4331 - val_accuracy: 0.8234 - val_precision: 0.8201 - val_recall: 0.7368\n",
      "Epoch 59/60\n",
      "64/64 [==============================] - 0s 2ms/step - loss: 0.3754 - accuracy: 0.8355 - precision: 0.7990 - recall: 0.7889 - val_loss: 0.3902 - val_accuracy: 0.8250 - val_precision: 0.7790 - val_recall: 0.8083\n",
      "Epoch 60/60\n",
      "64/64 [==============================] - 0s 2ms/step - loss: 0.3912 - accuracy: 0.8316 - precision: 0.7829 - recall: 0.8035 - val_loss: 0.3916 - val_accuracy: 0.8219 - val_precision: 0.7695 - val_recall: 0.8158\n",
      "20/20 [==============================] - 0s 1ms/step\n"
     ]
    },
    {
     "name": "stderr",
     "output_type": "stream",
     "text": [
      "WARNING:absl:Found untraced functions such as _update_step_xla while saving (showing 1 of 1). These functions will not be directly callable after loading.\n"
     ]
    },
    {
     "name": "stdout",
     "output_type": "stream",
     "text": [
      "INFO:tensorflow:Assets written to: C:\\Users\\jmbar\\AppData\\Local\\Temp\\tmp66m41h2y\\assets\n"
     ]
    },
    {
     "name": "stderr",
     "output_type": "stream",
     "text": [
      "INFO:tensorflow:Assets written to: C:\\Users\\jmbar\\AppData\\Local\\Temp\\tmp66m41h2y\\assets\n"
     ]
    },
    {
     "name": "stdout",
     "output_type": "stream",
     "text": [
      "Epoch 1/60\n",
      "64/64 [==============================] - 1s 6ms/step - loss: 0.6795 - accuracy: 0.5926 - precision: 0.0000e+00 - recall: 0.0000e+00 - val_loss: 0.6783 - val_accuracy: 0.5859 - val_precision: 0.0000e+00 - val_recall: 0.0000e+00\n",
      "Epoch 2/60\n",
      "64/64 [==============================] - 0s 2ms/step - loss: 0.6766 - accuracy: 0.5926 - precision: 0.0000e+00 - recall: 0.0000e+00 - val_loss: 0.6781 - val_accuracy: 0.5859 - val_precision: 0.0000e+00 - val_recall: 0.0000e+00\n",
      "Epoch 3/60\n",
      "64/64 [==============================] - 0s 2ms/step - loss: 0.6768 - accuracy: 0.5926 - precision: 0.0000e+00 - recall: 0.0000e+00 - val_loss: 0.6790 - val_accuracy: 0.5859 - val_precision: 0.0000e+00 - val_recall: 0.0000e+00\n",
      "Epoch 4/60\n",
      "64/64 [==============================] - 0s 2ms/step - loss: 0.6780 - accuracy: 0.5926 - precision: 0.0000e+00 - recall: 0.0000e+00 - val_loss: 0.6813 - val_accuracy: 0.5859 - val_precision: 0.0000e+00 - val_recall: 0.0000e+00\n",
      "Epoch 5/60\n",
      "64/64 [==============================] - 0s 2ms/step - loss: 0.6782 - accuracy: 0.5926 - precision: 0.0000e+00 - recall: 0.0000e+00 - val_loss: 0.6773 - val_accuracy: 0.5859 - val_precision: 0.0000e+00 - val_recall: 0.0000e+00\n",
      "Epoch 6/60\n",
      "64/64 [==============================] - 0s 2ms/step - loss: 0.6763 - accuracy: 0.5926 - precision: 0.0000e+00 - recall: 0.0000e+00 - val_loss: 0.6765 - val_accuracy: 0.5859 - val_precision: 0.0000e+00 - val_recall: 0.0000e+00\n",
      "Epoch 7/60\n",
      "64/64 [==============================] - 0s 2ms/step - loss: 0.6727 - accuracy: 0.5938 - precision: 1.0000 - recall: 0.0029 - val_loss: 0.6795 - val_accuracy: 0.5938 - val_precision: 1.0000 - val_recall: 0.0189\n",
      "Epoch 8/60\n",
      "64/64 [==============================] - 0s 2ms/step - loss: 0.6723 - accuracy: 0.5973 - precision: 0.9286 - recall: 0.0125 - val_loss: 0.6736 - val_accuracy: 0.6047 - val_precision: 0.9286 - val_recall: 0.0491\n",
      "Epoch 9/60\n",
      "64/64 [==============================] - 0s 2ms/step - loss: 0.6581 - accuracy: 0.6176 - precision: 0.9848 - recall: 0.0623 - val_loss: 0.6532 - val_accuracy: 0.6062 - val_precision: 0.9333 - val_recall: 0.0528\n",
      "Epoch 10/60\n",
      "64/64 [==============================] - 0s 2ms/step - loss: 0.6313 - accuracy: 0.6434 - precision: 0.9392 - recall: 0.1333 - val_loss: 0.6370 - val_accuracy: 0.7656 - val_precision: 0.8710 - val_recall: 0.5094\n",
      "Epoch 11/60\n",
      "64/64 [==============================] - 0s 2ms/step - loss: 0.6042 - accuracy: 0.7125 - precision: 0.8847 - recall: 0.3384 - val_loss: 0.6079 - val_accuracy: 0.7906 - val_precision: 0.8227 - val_recall: 0.6302\n",
      "Epoch 12/60\n",
      "64/64 [==============================] - 0s 2ms/step - loss: 0.5529 - accuracy: 0.7309 - precision: 0.8865 - recall: 0.3893 - val_loss: 0.5510 - val_accuracy: 0.7063 - val_precision: 0.8812 - val_recall: 0.3358\n",
      "Epoch 13/60\n",
      "64/64 [==============================] - 0s 2ms/step - loss: 0.5104 - accuracy: 0.7633 - precision: 0.8530 - recall: 0.5062 - val_loss: 0.5306 - val_accuracy: 0.7266 - val_precision: 0.8814 - val_recall: 0.3925\n",
      "Epoch 14/60\n",
      "64/64 [==============================] - 0s 2ms/step - loss: 0.4806 - accuracy: 0.7879 - precision: 0.8501 - recall: 0.5820 - val_loss: 0.4798 - val_accuracy: 0.7891 - val_precision: 0.8218 - val_recall: 0.6264\n",
      "Epoch 15/60\n",
      "64/64 [==============================] - 0s 2ms/step - loss: 0.4490 - accuracy: 0.8008 - precision: 0.8549 - recall: 0.6155 - val_loss: 0.4583 - val_accuracy: 0.7859 - val_precision: 0.8299 - val_recall: 0.6075\n",
      "Epoch 16/60\n",
      "64/64 [==============================] - 0s 2ms/step - loss: 0.4309 - accuracy: 0.8141 - precision: 0.8462 - recall: 0.6644 - val_loss: 0.4482 - val_accuracy: 0.7891 - val_precision: 0.8316 - val_recall: 0.6151\n",
      "Epoch 17/60\n",
      "64/64 [==============================] - 0s 2ms/step - loss: 0.4340 - accuracy: 0.8172 - precision: 0.8386 - recall: 0.6826 - val_loss: 0.4412 - val_accuracy: 0.8047 - val_precision: 0.8097 - val_recall: 0.6906\n",
      "Epoch 18/60\n",
      "64/64 [==============================] - 0s 2ms/step - loss: 0.4126 - accuracy: 0.8242 - precision: 0.8358 - recall: 0.7076 - val_loss: 0.4352 - val_accuracy: 0.8141 - val_precision: 0.8093 - val_recall: 0.7208\n",
      "Epoch 19/60\n",
      "64/64 [==============================] - 0s 2ms/step - loss: 0.4164 - accuracy: 0.8168 - precision: 0.8247 - recall: 0.6989 - val_loss: 0.4384 - val_accuracy: 0.7906 - val_precision: 0.8227 - val_recall: 0.6302\n",
      "Epoch 20/60\n",
      "64/64 [==============================] - 0s 2ms/step - loss: 0.4113 - accuracy: 0.8258 - precision: 0.8262 - recall: 0.7248 - val_loss: 0.4494 - val_accuracy: 0.7875 - val_precision: 0.8274 - val_recall: 0.6151\n",
      "Epoch 21/60\n",
      "64/64 [==============================] - 0s 2ms/step - loss: 0.4120 - accuracy: 0.8238 - precision: 0.8217 - recall: 0.7248 - val_loss: 0.4259 - val_accuracy: 0.8000 - val_precision: 0.8128 - val_recall: 0.6717\n",
      "Epoch 22/60\n",
      "64/64 [==============================] - 0s 2ms/step - loss: 0.4041 - accuracy: 0.8262 - precision: 0.8208 - recall: 0.7335 - val_loss: 0.4289 - val_accuracy: 0.7937 - val_precision: 0.8122 - val_recall: 0.6528\n",
      "Epoch 23/60\n",
      "64/64 [==============================] - 0s 2ms/step - loss: 0.3969 - accuracy: 0.8199 - precision: 0.8136 - recall: 0.7239 - val_loss: 0.4242 - val_accuracy: 0.8156 - val_precision: 0.7838 - val_recall: 0.7660\n",
      "Epoch 24/60\n",
      "64/64 [==============================] - 0s 2ms/step - loss: 0.3929 - accuracy: 0.8297 - precision: 0.8152 - recall: 0.7526 - val_loss: 0.4199 - val_accuracy: 0.8094 - val_precision: 0.8095 - val_recall: 0.7057\n",
      "Epoch 25/60\n",
      "64/64 [==============================] - 0s 2ms/step - loss: 0.3925 - accuracy: 0.8277 - precision: 0.8149 - recall: 0.7469 - val_loss: 0.4253 - val_accuracy: 0.8000 - val_precision: 0.8128 - val_recall: 0.6717\n",
      "Epoch 26/60\n",
      "64/64 [==============================] - 0s 2ms/step - loss: 0.3974 - accuracy: 0.8273 - precision: 0.8120 - recall: 0.7498 - val_loss: 0.4173 - val_accuracy: 0.8125 - val_precision: 0.7778 - val_recall: 0.7660\n",
      "Epoch 27/60\n",
      "64/64 [==============================] - 0s 2ms/step - loss: 0.3942 - accuracy: 0.8273 - precision: 0.8101 - recall: 0.7526 - val_loss: 0.4116 - val_accuracy: 0.8156 - val_precision: 0.8000 - val_recall: 0.7396\n",
      "Epoch 28/60\n",
      "64/64 [==============================] - 0s 2ms/step - loss: 0.3909 - accuracy: 0.8324 - precision: 0.8126 - recall: 0.7651 - val_loss: 0.4118 - val_accuracy: 0.8172 - val_precision: 0.8109 - val_recall: 0.7283\n",
      "Epoch 29/60\n",
      "64/64 [==============================] - 0s 2ms/step - loss: 0.3960 - accuracy: 0.8316 - precision: 0.8078 - recall: 0.7699 - val_loss: 0.4090 - val_accuracy: 0.8172 - val_precision: 0.7984 - val_recall: 0.7472\n",
      "Epoch 30/60\n",
      "64/64 [==============================] - 0s 2ms/step - loss: 0.4101 - accuracy: 0.8258 - precision: 0.8006 - recall: 0.7622 - val_loss: 0.4393 - val_accuracy: 0.7906 - val_precision: 0.8104 - val_recall: 0.6453\n",
      "Epoch 31/60\n",
      "64/64 [==============================] - 0s 2ms/step - loss: 0.3851 - accuracy: 0.8352 - precision: 0.8165 - recall: 0.7680 - val_loss: 0.4142 - val_accuracy: 0.8141 - val_precision: 0.8093 - val_recall: 0.7208\n",
      "Epoch 32/60\n",
      "64/64 [==============================] - 0s 2ms/step - loss: 0.3837 - accuracy: 0.8332 - precision: 0.8105 - recall: 0.7709 - val_loss: 0.4372 - val_accuracy: 0.7953 - val_precision: 0.8102 - val_recall: 0.6604\n",
      "Epoch 33/60\n",
      "64/64 [==============================] - 0s 2ms/step - loss: 0.3879 - accuracy: 0.8305 - precision: 0.8042 - recall: 0.7718 - val_loss: 0.4119 - val_accuracy: 0.8172 - val_precision: 0.7761 - val_recall: 0.7849\n",
      "Epoch 34/60\n",
      "64/64 [==============================] - 0s 2ms/step - loss: 0.3849 - accuracy: 0.8371 - precision: 0.8111 - recall: 0.7824 - val_loss: 0.4038 - val_accuracy: 0.8156 - val_precision: 0.7838 - val_recall: 0.7660\n",
      "Epoch 35/60\n",
      "64/64 [==============================] - 0s 2ms/step - loss: 0.3811 - accuracy: 0.8367 - precision: 0.8103 - recall: 0.7824 - val_loss: 0.4062 - val_accuracy: 0.8156 - val_precision: 0.8000 - val_recall: 0.7396\n",
      "Epoch 36/60\n",
      "64/64 [==============================] - 0s 2ms/step - loss: 0.3794 - accuracy: 0.8344 - precision: 0.8123 - recall: 0.7718 - val_loss: 0.4190 - val_accuracy: 0.8156 - val_precision: 0.7616 - val_recall: 0.8075\n",
      "Epoch 37/60\n"
     ]
    },
    {
     "name": "stdout",
     "output_type": "stream",
     "text": [
      "64/64 [==============================] - 0s 2ms/step - loss: 0.4094 - accuracy: 0.8316 - precision: 0.7971 - recall: 0.7872 - val_loss: 0.4247 - val_accuracy: 0.8062 - val_precision: 0.8079 - val_recall: 0.6981\n",
      "Epoch 38/60\n",
      "64/64 [==============================] - 0s 2ms/step - loss: 0.3840 - accuracy: 0.8324 - precision: 0.8004 - recall: 0.7843 - val_loss: 0.4031 - val_accuracy: 0.8172 - val_precision: 0.7803 - val_recall: 0.7774\n",
      "Epoch 39/60\n",
      "64/64 [==============================] - 0s 2ms/step - loss: 0.3834 - accuracy: 0.8348 - precision: 0.8094 - recall: 0.7776 - val_loss: 0.4012 - val_accuracy: 0.8172 - val_precision: 0.7937 - val_recall: 0.7547\n",
      "Epoch 40/60\n",
      "64/64 [==============================] - 0s 2ms/step - loss: 0.3873 - accuracy: 0.8355 - precision: 0.8019 - recall: 0.7919 - val_loss: 0.4007 - val_accuracy: 0.8172 - val_precision: 0.7803 - val_recall: 0.7774\n",
      "Epoch 41/60\n",
      "64/64 [==============================] - 0s 2ms/step - loss: 0.3762 - accuracy: 0.8371 - precision: 0.8057 - recall: 0.7910 - val_loss: 0.3985 - val_accuracy: 0.8125 - val_precision: 0.7778 - val_recall: 0.7660\n",
      "Epoch 42/60\n",
      "64/64 [==============================] - 0s 2ms/step - loss: 0.3781 - accuracy: 0.8359 - precision: 0.8010 - recall: 0.7948 - val_loss: 0.4427 - val_accuracy: 0.8094 - val_precision: 0.8178 - val_recall: 0.6943\n",
      "Epoch 43/60\n",
      "64/64 [==============================] - 0s 2ms/step - loss: 0.3842 - accuracy: 0.8340 - precision: 0.8012 - recall: 0.7881 - val_loss: 0.3984 - val_accuracy: 0.8156 - val_precision: 0.7838 - val_recall: 0.7660\n",
      "Epoch 44/60\n",
      "64/64 [==============================] - 0s 2ms/step - loss: 0.3846 - accuracy: 0.8371 - precision: 0.8027 - recall: 0.7958 - val_loss: 0.3968 - val_accuracy: 0.8125 - val_precision: 0.7778 - val_recall: 0.7660\n",
      "Epoch 45/60\n",
      "64/64 [==============================] - 0s 2ms/step - loss: 0.3875 - accuracy: 0.8332 - precision: 0.7922 - recall: 0.8006 - val_loss: 0.3973 - val_accuracy: 0.8156 - val_precision: 0.7838 - val_recall: 0.7660\n",
      "Epoch 46/60\n",
      "64/64 [==============================] - 0s 2ms/step - loss: 0.3895 - accuracy: 0.8363 - precision: 0.8023 - recall: 0.7939 - val_loss: 0.3958 - val_accuracy: 0.8141 - val_precision: 0.7786 - val_recall: 0.7698\n",
      "Epoch 47/60\n",
      "64/64 [==============================] - 0s 2ms/step - loss: 0.3724 - accuracy: 0.8391 - precision: 0.8048 - recall: 0.7987 - val_loss: 0.4122 - val_accuracy: 0.8188 - val_precision: 0.8066 - val_recall: 0.7396\n",
      "Epoch 48/60\n",
      "64/64 [==============================] - 0s 2ms/step - loss: 0.3762 - accuracy: 0.8398 - precision: 0.8082 - recall: 0.7958 - val_loss: 0.4002 - val_accuracy: 0.8172 - val_precision: 0.7643 - val_recall: 0.8075\n",
      "Epoch 49/60\n",
      "64/64 [==============================] - 0s 2ms/step - loss: 0.3779 - accuracy: 0.8363 - precision: 0.7983 - recall: 0.8006 - val_loss: 0.4020 - val_accuracy: 0.8172 - val_precision: 0.7643 - val_recall: 0.8075\n",
      "Epoch 50/60\n",
      "64/64 [==============================] - 0s 2ms/step - loss: 0.3828 - accuracy: 0.8309 - precision: 0.7867 - recall: 0.8025 - val_loss: 0.3954 - val_accuracy: 0.8188 - val_precision: 0.7749 - val_recall: 0.7925\n",
      "Epoch 51/60\n",
      "64/64 [==============================] - 0s 2ms/step - loss: 0.3755 - accuracy: 0.8383 - precision: 0.7992 - recall: 0.8054 - val_loss: 0.4164 - val_accuracy: 0.8203 - val_precision: 0.8099 - val_recall: 0.7396\n",
      "Epoch 52/60\n",
      "64/64 [==============================] - 0s 2ms/step - loss: 0.3692 - accuracy: 0.8379 - precision: 0.8031 - recall: 0.7977 - val_loss: 0.4058 - val_accuracy: 0.8250 - val_precision: 0.7647 - val_recall: 0.8340\n",
      "Epoch 53/60\n",
      "64/64 [==============================] - 0s 2ms/step - loss: 0.3813 - accuracy: 0.8383 - precision: 0.7970 - recall: 0.8092 - val_loss: 0.3961 - val_accuracy: 0.8172 - val_precision: 0.7643 - val_recall: 0.8075\n",
      "Epoch 54/60\n",
      "64/64 [==============================] - 0s 2ms/step - loss: 0.3708 - accuracy: 0.8387 - precision: 0.7955 - recall: 0.8130 - val_loss: 0.3923 - val_accuracy: 0.8203 - val_precision: 0.7778 - val_recall: 0.7925\n",
      "Epoch 55/60\n",
      "64/64 [==============================] - 0s 2ms/step - loss: 0.3742 - accuracy: 0.8422 - precision: 0.8011 - recall: 0.8150 - val_loss: 0.4408 - val_accuracy: 0.8297 - val_precision: 0.7484 - val_recall: 0.8868\n",
      "Epoch 56/60\n",
      "64/64 [==============================] - 0s 2ms/step - loss: 0.3907 - accuracy: 0.8355 - precision: 0.7923 - recall: 0.8082 - val_loss: 0.3927 - val_accuracy: 0.8188 - val_precision: 0.7709 - val_recall: 0.8000\n",
      "Epoch 57/60\n",
      "64/64 [==============================] - 0s 2ms/step - loss: 0.3804 - accuracy: 0.8371 - precision: 0.7970 - recall: 0.8054 - val_loss: 0.3982 - val_accuracy: 0.8156 - val_precision: 0.7838 - val_recall: 0.7660\n",
      "Epoch 58/60\n",
      "64/64 [==============================] - 0s 2ms/step - loss: 0.3728 - accuracy: 0.8391 - precision: 0.7940 - recall: 0.8169 - val_loss: 0.3908 - val_accuracy: 0.8188 - val_precision: 0.7790 - val_recall: 0.7849\n",
      "Epoch 59/60\n",
      "64/64 [==============================] - 0s 2ms/step - loss: 0.3661 - accuracy: 0.8395 - precision: 0.7976 - recall: 0.8121 - val_loss: 0.4325 - val_accuracy: 0.8219 - val_precision: 0.8133 - val_recall: 0.7396\n",
      "Epoch 60/60\n",
      "64/64 [==============================] - 0s 2ms/step - loss: 0.3770 - accuracy: 0.8383 - precision: 0.7942 - recall: 0.8140 - val_loss: 0.3920 - val_accuracy: 0.8172 - val_precision: 0.7643 - val_recall: 0.8075\n",
      "20/20 [==============================] - 0s 1ms/step\n"
     ]
    },
    {
     "name": "stderr",
     "output_type": "stream",
     "text": [
      "WARNING:absl:Found untraced functions such as _update_step_xla while saving (showing 1 of 1). These functions will not be directly callable after loading.\n"
     ]
    },
    {
     "name": "stdout",
     "output_type": "stream",
     "text": [
      "INFO:tensorflow:Assets written to: C:\\Users\\jmbar\\AppData\\Local\\Temp\\tmp_wey2o0v\\assets\n"
     ]
    },
    {
     "name": "stderr",
     "output_type": "stream",
     "text": [
      "INFO:tensorflow:Assets written to: C:\\Users\\jmbar\\AppData\\Local\\Temp\\tmp_wey2o0v\\assets\n"
     ]
    },
    {
     "name": "stdout",
     "output_type": "stream",
     "text": [
      "Epoch 1/60\n",
      "64/64 [==============================] - 1s 6ms/step - loss: 0.6770 - accuracy: 0.5980 - precision: 0.0000e+00 - recall: 0.0000e+00 - val_loss: 0.6825 - val_accuracy: 0.5813 - val_precision: 0.0000e+00 - val_recall: 0.0000e+00\n",
      "Epoch 2/60\n",
      "64/64 [==============================] - 0s 2ms/step - loss: 0.6753 - accuracy: 0.5980 - precision: 0.0000e+00 - recall: 0.0000e+00 - val_loss: 0.6825 - val_accuracy: 0.5813 - val_precision: 0.0000e+00 - val_recall: 0.0000e+00\n",
      "Epoch 3/60\n",
      "64/64 [==============================] - 0s 2ms/step - loss: 0.6746 - accuracy: 0.5980 - precision: 0.0000e+00 - recall: 0.0000e+00 - val_loss: 0.6809 - val_accuracy: 0.5813 - val_precision: 0.0000e+00 - val_recall: 0.0000e+00\n",
      "Epoch 4/60\n",
      "64/64 [==============================] - 0s 2ms/step - loss: 0.6743 - accuracy: 0.5980 - precision: 0.0000e+00 - recall: 0.0000e+00 - val_loss: 0.6790 - val_accuracy: 0.5813 - val_precision: 0.0000e+00 - val_recall: 0.0000e+00\n",
      "Epoch 5/60\n",
      "64/64 [==============================] - 0s 2ms/step - loss: 0.6747 - accuracy: 0.5988 - precision: 1.0000 - recall: 0.0019 - val_loss: 0.6788 - val_accuracy: 0.5813 - val_precision: 0.0000e+00 - val_recall: 0.0000e+00\n",
      "Epoch 6/60\n",
      "64/64 [==============================] - 0s 2ms/step - loss: 0.6725 - accuracy: 0.5980 - precision: 0.0000e+00 - recall: 0.0000e+00 - val_loss: 0.6770 - val_accuracy: 0.5813 - val_precision: 0.0000e+00 - val_recall: 0.0000e+00\n",
      "Epoch 7/60\n",
      "64/64 [==============================] - 0s 2ms/step - loss: 0.6692 - accuracy: 0.6016 - precision: 1.0000 - recall: 0.0087 - val_loss: 0.6740 - val_accuracy: 0.5859 - val_precision: 1.0000 - val_recall: 0.0112\n",
      "Epoch 8/60\n",
      "64/64 [==============================] - 0s 2ms/step - loss: 0.6575 - accuracy: 0.6195 - precision: 0.9825 - recall: 0.0544 - val_loss: 0.6678 - val_accuracy: 0.5938 - val_precision: 1.0000 - val_recall: 0.0299\n",
      "Epoch 9/60\n",
      "64/64 [==============================] - 0s 2ms/step - loss: 0.6353 - accuracy: 0.6508 - precision: 0.7647 - recall: 0.1895 - val_loss: 0.6316 - val_accuracy: 0.6359 - val_precision: 0.9730 - val_recall: 0.1343\n",
      "Epoch 10/60\n",
      "64/64 [==============================] - 0s 2ms/step - loss: 0.5955 - accuracy: 0.7129 - precision: 0.8868 - recall: 0.3275 - val_loss: 0.6040 - val_accuracy: 0.7797 - val_precision: 0.8191 - val_recall: 0.6082\n",
      "Epoch 11/60\n",
      "64/64 [==============================] - 0s 2ms/step - loss: 0.5430 - accuracy: 0.7434 - precision: 0.8765 - recall: 0.4208 - val_loss: 0.5363 - val_accuracy: 0.7125 - val_precision: 0.8750 - val_recall: 0.3657\n",
      "Epoch 12/60\n",
      "64/64 [==============================] - 0s 2ms/step - loss: 0.4960 - accuracy: 0.7766 - precision: 0.8777 - recall: 0.5160 - val_loss: 0.5534 - val_accuracy: 0.7125 - val_precision: 0.8889 - val_recall: 0.3582\n",
      "Epoch 13/60\n",
      "64/64 [==============================] - 0s 2ms/step - loss: 0.4638 - accuracy: 0.7906 - precision: 0.8578 - recall: 0.5743 - val_loss: 0.4900 - val_accuracy: 0.7484 - val_precision: 0.8543 - val_recall: 0.4813\n",
      "Epoch 14/60\n",
      "64/64 [==============================] - 0s 2ms/step - loss: 0.4373 - accuracy: 0.8109 - precision: 0.8677 - recall: 0.6249 - val_loss: 0.4939 - val_accuracy: 0.7516 - val_precision: 0.8471 - val_recall: 0.4963\n",
      "Epoch 15/60\n",
      "64/64 [==============================] - 0s 2ms/step - loss: 0.4356 - accuracy: 0.8086 - precision: 0.8442 - recall: 0.6424 - val_loss: 0.4633 - val_accuracy: 0.8078 - val_precision: 0.8008 - val_recall: 0.7201\n",
      "Epoch 16/60\n",
      "64/64 [==============================] - 0s 2ms/step - loss: 0.4209 - accuracy: 0.8172 - precision: 0.8442 - recall: 0.6686 - val_loss: 0.4534 - val_accuracy: 0.8062 - val_precision: 0.8025 - val_recall: 0.7127\n",
      "Epoch 17/60\n",
      "64/64 [==============================] - 0s 2ms/step - loss: 0.4334 - accuracy: 0.8184 - precision: 0.8414 - recall: 0.6754 - val_loss: 0.4893 - val_accuracy: 0.8266 - val_precision: 0.7735 - val_recall: 0.8284\n",
      "Epoch 18/60\n",
      "64/64 [==============================] - 0s 2ms/step - loss: 0.4203 - accuracy: 0.8223 - precision: 0.8276 - recall: 0.7046 - val_loss: 0.4421 - val_accuracy: 0.8078 - val_precision: 0.8112 - val_recall: 0.7052\n",
      "Epoch 19/60\n",
      "64/64 [==============================] - 0s 2ms/step - loss: 0.4052 - accuracy: 0.8223 - precision: 0.8306 - recall: 0.7007 - val_loss: 0.4426 - val_accuracy: 0.7812 - val_precision: 0.8137 - val_recall: 0.6194\n",
      "Epoch 20/60\n",
      "64/64 [==============================] - 0s 2ms/step - loss: 0.4281 - accuracy: 0.8164 - precision: 0.8137 - recall: 0.7046 - val_loss: 0.4647 - val_accuracy: 0.7734 - val_precision: 0.8220 - val_recall: 0.5858\n",
      "Epoch 21/60\n",
      "64/64 [==============================] - 0s 2ms/step - loss: 0.4107 - accuracy: 0.8238 - precision: 0.8269 - recall: 0.7104 - val_loss: 0.4314 - val_accuracy: 0.8047 - val_precision: 0.8122 - val_recall: 0.6940\n",
      "Epoch 22/60\n",
      "64/64 [==============================] - 0s 2ms/step - loss: 0.4040 - accuracy: 0.8262 - precision: 0.8288 - recall: 0.7153 - val_loss: 0.4375 - val_accuracy: 0.8125 - val_precision: 0.7846 - val_recall: 0.7612\n",
      "Epoch 23/60\n",
      "64/64 [==============================] - 0s 2ms/step - loss: 0.3965 - accuracy: 0.8320 - precision: 0.8295 - recall: 0.7328 - val_loss: 0.4294 - val_accuracy: 0.7937 - val_precision: 0.8091 - val_recall: 0.6642\n",
      "Epoch 24/60\n",
      "64/64 [==============================] - 0s 2ms/step - loss: 0.3973 - accuracy: 0.8250 - precision: 0.8175 - recall: 0.7269 - val_loss: 0.4757 - val_accuracy: 0.7750 - val_precision: 0.8196 - val_recall: 0.5933\n",
      "Epoch 25/60\n",
      "64/64 [==============================] - 0s 2ms/step - loss: 0.4040 - accuracy: 0.8285 - precision: 0.8214 - recall: 0.7328 - val_loss: 0.4270 - val_accuracy: 0.7937 - val_precision: 0.8063 - val_recall: 0.6679\n",
      "Epoch 26/60\n",
      "64/64 [==============================] - 0s 2ms/step - loss: 0.3904 - accuracy: 0.8285 - precision: 0.8193 - recall: 0.7357 - val_loss: 0.4635 - val_accuracy: 0.7750 - val_precision: 0.8163 - val_recall: 0.5970\n",
      "Epoch 27/60\n",
      "64/64 [==============================] - 0s 2ms/step - loss: 0.3922 - accuracy: 0.8301 - precision: 0.8173 - recall: 0.7434 - val_loss: 0.4214 - val_accuracy: 0.8062 - val_precision: 0.8130 - val_recall: 0.6978\n",
      "Epoch 28/60\n",
      "64/64 [==============================] - 0s 2ms/step - loss: 0.3957 - accuracy: 0.8336 - precision: 0.8225 - recall: 0.7473 - val_loss: 0.4339 - val_accuracy: 0.8219 - val_precision: 0.7810 - val_recall: 0.7985\n",
      "Epoch 29/60\n",
      "64/64 [==============================] - 0s 2ms/step - loss: 0.3907 - accuracy: 0.8336 - precision: 0.8157 - recall: 0.7570 - val_loss: 0.4475 - val_accuracy: 0.7812 - val_precision: 0.8107 - val_recall: 0.6231\n",
      "Epoch 30/60\n",
      "64/64 [==============================] - 0s 2ms/step - loss: 0.3859 - accuracy: 0.8336 - precision: 0.8204 - recall: 0.7502 - val_loss: 0.4231 - val_accuracy: 0.7984 - val_precision: 0.8089 - val_recall: 0.6791\n",
      "Epoch 31/60\n",
      "64/64 [==============================] - 0s 2ms/step - loss: 0.3867 - accuracy: 0.8328 - precision: 0.8120 - recall: 0.7600 - val_loss: 0.4138 - val_accuracy: 0.8109 - val_precision: 0.8000 - val_recall: 0.7313\n",
      "Epoch 32/60\n",
      "64/64 [==============================] - 0s 2ms/step - loss: 0.3903 - accuracy: 0.8313 - precision: 0.8119 - recall: 0.7551 - val_loss: 0.4232 - val_accuracy: 0.8234 - val_precision: 0.7839 - val_recall: 0.7985\n",
      "Epoch 33/60\n",
      "64/64 [==============================] - 0s 2ms/step - loss: 0.3920 - accuracy: 0.8313 - precision: 0.8113 - recall: 0.7561 - val_loss: 0.4164 - val_accuracy: 0.8094 - val_precision: 0.8147 - val_recall: 0.7052\n",
      "Epoch 34/60\n",
      "64/64 [==============================] - 0s 2ms/step - loss: 0.4015 - accuracy: 0.8309 - precision: 0.8111 - recall: 0.7551 - val_loss: 0.4386 - val_accuracy: 0.8266 - val_precision: 0.7735 - val_recall: 0.8284\n",
      "Epoch 35/60\n",
      "64/64 [==============================] - 0s 2ms/step - loss: 0.3842 - accuracy: 0.8355 - precision: 0.8140 - recall: 0.7658 - val_loss: 0.4131 - val_accuracy: 0.8094 - val_precision: 0.8093 - val_recall: 0.7127\n",
      "Epoch 36/60\n",
      "64/64 [==============================] - 0s 2ms/step - loss: 0.3880 - accuracy: 0.8332 - precision: 0.8155 - recall: 0.7561 - val_loss: 0.4099 - val_accuracy: 0.8141 - val_precision: 0.7854 - val_recall: 0.7649\n",
      "Epoch 37/60\n"
     ]
    },
    {
     "name": "stdout",
     "output_type": "stream",
     "text": [
      "64/64 [==============================] - 0s 2ms/step - loss: 0.3886 - accuracy: 0.8324 - precision: 0.8043 - recall: 0.7707 - val_loss: 0.4481 - val_accuracy: 0.7844 - val_precision: 0.8095 - val_recall: 0.6343\n",
      "Epoch 38/60\n",
      "64/64 [==============================] - 0s 2ms/step - loss: 0.3786 - accuracy: 0.8352 - precision: 0.8126 - recall: 0.7668 - val_loss: 0.4094 - val_accuracy: 0.8203 - val_precision: 0.7865 - val_recall: 0.7836\n",
      "Epoch 39/60\n",
      "64/64 [==============================] - 0s 2ms/step - loss: 0.3812 - accuracy: 0.8340 - precision: 0.8101 - recall: 0.7668 - val_loss: 0.4074 - val_accuracy: 0.8188 - val_precision: 0.7857 - val_recall: 0.7799\n",
      "Epoch 40/60\n",
      "64/64 [==============================] - 0s 2ms/step - loss: 0.3886 - accuracy: 0.8352 - precision: 0.8069 - recall: 0.7755 - val_loss: 0.4098 - val_accuracy: 0.8219 - val_precision: 0.7852 - val_recall: 0.7910\n",
      "Epoch 41/60\n",
      "64/64 [==============================] - 0s 2ms/step - loss: 0.3880 - accuracy: 0.8359 - precision: 0.8085 - recall: 0.7755 - val_loss: 0.4041 - val_accuracy: 0.8125 - val_precision: 0.7846 - val_recall: 0.7612\n",
      "Epoch 42/60\n",
      "64/64 [==============================] - 0s 2ms/step - loss: 0.3759 - accuracy: 0.8336 - precision: 0.8030 - recall: 0.7765 - val_loss: 0.4031 - val_accuracy: 0.8141 - val_precision: 0.7854 - val_recall: 0.7649\n",
      "Epoch 43/60\n",
      "64/64 [==============================] - 0s 2ms/step - loss: 0.3793 - accuracy: 0.8313 - precision: 0.8012 - recall: 0.7716 - val_loss: 0.4273 - val_accuracy: 0.8031 - val_precision: 0.8114 - val_recall: 0.6903\n",
      "Epoch 44/60\n",
      "64/64 [==============================] - 0s 2ms/step - loss: 0.3790 - accuracy: 0.8320 - precision: 0.7992 - recall: 0.7775 - val_loss: 0.4023 - val_accuracy: 0.8156 - val_precision: 0.7907 - val_recall: 0.7612\n",
      "Epoch 45/60\n",
      "64/64 [==============================] - 0s 2ms/step - loss: 0.3878 - accuracy: 0.8332 - precision: 0.7992 - recall: 0.7813 - val_loss: 0.4026 - val_accuracy: 0.8203 - val_precision: 0.7865 - val_recall: 0.7836\n",
      "Epoch 46/60\n",
      "64/64 [==============================] - 0s 2ms/step - loss: 0.3766 - accuracy: 0.8383 - precision: 0.8116 - recall: 0.7784 - val_loss: 0.4053 - val_accuracy: 0.8250 - val_precision: 0.7826 - val_recall: 0.8060\n",
      "Epoch 47/60\n",
      "64/64 [==============================] - 0s 2ms/step - loss: 0.3786 - accuracy: 0.8406 - precision: 0.8083 - recall: 0.7911 - val_loss: 0.4006 - val_accuracy: 0.8141 - val_precision: 0.7876 - val_recall: 0.7612\n",
      "Epoch 48/60\n",
      "64/64 [==============================] - 0s 2ms/step - loss: 0.3774 - accuracy: 0.8395 - precision: 0.8065 - recall: 0.7901 - val_loss: 0.4004 - val_accuracy: 0.8156 - val_precision: 0.7907 - val_recall: 0.7612\n",
      "Epoch 49/60\n",
      "64/64 [==============================] - 0s 2ms/step - loss: 0.3744 - accuracy: 0.8387 - precision: 0.8056 - recall: 0.7891 - val_loss: 0.4138 - val_accuracy: 0.8109 - val_precision: 0.8075 - val_recall: 0.7201\n",
      "Epoch 50/60\n",
      "64/64 [==============================] - 0s 2ms/step - loss: 0.3756 - accuracy: 0.8426 - precision: 0.8081 - recall: 0.7979 - val_loss: 0.4244 - val_accuracy: 0.8328 - val_precision: 0.7729 - val_recall: 0.8507\n",
      "Epoch 51/60\n",
      "64/64 [==============================] - 0s 2ms/step - loss: 0.3928 - accuracy: 0.8359 - precision: 0.7988 - recall: 0.7911 - val_loss: 0.3984 - val_accuracy: 0.8203 - val_precision: 0.7865 - val_recall: 0.7836\n",
      "Epoch 52/60\n",
      "64/64 [==============================] - 0s 2ms/step - loss: 0.3809 - accuracy: 0.8355 - precision: 0.7975 - recall: 0.7920 - val_loss: 0.3980 - val_accuracy: 0.8125 - val_precision: 0.7846 - val_recall: 0.7612\n",
      "Epoch 53/60\n",
      "64/64 [==============================] - 0s 2ms/step - loss: 0.3719 - accuracy: 0.8363 - precision: 0.8014 - recall: 0.7881 - val_loss: 0.4052 - val_accuracy: 0.8250 - val_precision: 0.7746 - val_recall: 0.8209\n",
      "Epoch 54/60\n",
      "64/64 [==============================] - 0s 2ms/step - loss: 0.3738 - accuracy: 0.8367 - precision: 0.7986 - recall: 0.7940 - val_loss: 0.4146 - val_accuracy: 0.8156 - val_precision: 0.8099 - val_recall: 0.7313\n",
      "Epoch 55/60\n",
      "64/64 [==============================] - 0s 2ms/step - loss: 0.3835 - accuracy: 0.8359 - precision: 0.7977 - recall: 0.7930 - val_loss: 0.3985 - val_accuracy: 0.8234 - val_precision: 0.7778 - val_recall: 0.8097\n",
      "Epoch 56/60\n",
      "64/64 [==============================] - 0s 2ms/step - loss: 0.3742 - accuracy: 0.8371 - precision: 0.7994 - recall: 0.7940 - val_loss: 0.4141 - val_accuracy: 0.8297 - val_precision: 0.7713 - val_recall: 0.8433\n",
      "Epoch 57/60\n",
      "64/64 [==============================] - 0s 2ms/step - loss: 0.3687 - accuracy: 0.8383 - precision: 0.7977 - recall: 0.8008 - val_loss: 0.3947 - val_accuracy: 0.8188 - val_precision: 0.7857 - val_recall: 0.7799\n",
      "Epoch 58/60\n",
      "64/64 [==============================] - 0s 2ms/step - loss: 0.3761 - accuracy: 0.8391 - precision: 0.8004 - recall: 0.7988 - val_loss: 0.4409 - val_accuracy: 0.8047 - val_precision: 0.8122 - val_recall: 0.6940\n",
      "Epoch 59/60\n",
      "64/64 [==============================] - 0s 2ms/step - loss: 0.3865 - accuracy: 0.8375 - precision: 0.7939 - recall: 0.8047 - val_loss: 0.4739 - val_accuracy: 0.7922 - val_precision: 0.8111 - val_recall: 0.6567\n",
      "Epoch 60/60\n",
      "64/64 [==============================] - 0s 2ms/step - loss: 0.3865 - accuracy: 0.8352 - precision: 0.7961 - recall: 0.7930 - val_loss: 0.3957 - val_accuracy: 0.8250 - val_precision: 0.7826 - val_recall: 0.8060\n",
      "20/20 [==============================] - 0s 1ms/step\n"
     ]
    },
    {
     "name": "stderr",
     "output_type": "stream",
     "text": [
      "WARNING:absl:Found untraced functions such as _update_step_xla while saving (showing 1 of 1). These functions will not be directly callable after loading.\n"
     ]
    },
    {
     "name": "stdout",
     "output_type": "stream",
     "text": [
      "INFO:tensorflow:Assets written to: C:\\Users\\jmbar\\AppData\\Local\\Temp\\tmpiyh3wvyo\\assets\n"
     ]
    },
    {
     "name": "stderr",
     "output_type": "stream",
     "text": [
      "INFO:tensorflow:Assets written to: C:\\Users\\jmbar\\AppData\\Local\\Temp\\tmpiyh3wvyo\\assets\n"
     ]
    },
    {
     "name": "stdout",
     "output_type": "stream",
     "text": [
      "Epoch 1/60\n",
      "64/64 [==============================] - 1s 6ms/step - loss: 0.6751 - accuracy: 0.6047 - precision: 0.0000e+00 - recall: 0.0000e+00 - val_loss: 0.6903 - val_accuracy: 0.5594 - val_precision: 0.0000e+00 - val_recall: 0.0000e+00\n",
      "Epoch 2/60\n",
      "64/64 [==============================] - 0s 3ms/step - loss: 0.6718 - accuracy: 0.6047 - precision: 0.0000e+00 - recall: 0.0000e+00 - val_loss: 0.6900 - val_accuracy: 0.5594 - val_precision: 0.0000e+00 - val_recall: 0.0000e+00\n",
      "Epoch 3/60\n",
      "64/64 [==============================] - 0s 3ms/step - loss: 0.6709 - accuracy: 0.6047 - precision: 0.0000e+00 - recall: 0.0000e+00 - val_loss: 0.6860 - val_accuracy: 0.5594 - val_precision: 0.0000e+00 - val_recall: 0.0000e+00\n",
      "Epoch 4/60\n",
      "64/64 [==============================] - 0s 3ms/step - loss: 0.6719 - accuracy: 0.6047 - precision: 0.0000e+00 - recall: 0.0000e+00 - val_loss: 0.6909 - val_accuracy: 0.5594 - val_precision: 0.0000e+00 - val_recall: 0.0000e+00\n",
      "Epoch 5/60\n",
      "64/64 [==============================] - 0s 2ms/step - loss: 0.6711 - accuracy: 0.6047 - precision: 0.0000e+00 - recall: 0.0000e+00 - val_loss: 0.6856 - val_accuracy: 0.5594 - val_precision: 0.0000e+00 - val_recall: 0.0000e+00\n",
      "Epoch 6/60\n",
      "64/64 [==============================] - 0s 2ms/step - loss: 0.6707 - accuracy: 0.6047 - precision: 0.0000e+00 - recall: 0.0000e+00 - val_loss: 0.6888 - val_accuracy: 0.5594 - val_precision: 0.0000e+00 - val_recall: 0.0000e+00\n",
      "Epoch 7/60\n",
      "64/64 [==============================] - 0s 3ms/step - loss: 0.6664 - accuracy: 0.6059 - precision: 1.0000 - recall: 0.0030 - val_loss: 0.6837 - val_accuracy: 0.5625 - val_precision: 1.0000 - val_recall: 0.0071\n",
      "Epoch 8/60\n",
      "64/64 [==============================] - 0s 3ms/step - loss: 0.6594 - accuracy: 0.6172 - precision: 1.0000 - recall: 0.0316 - val_loss: 0.6699 - val_accuracy: 0.5766 - val_precision: 0.9231 - val_recall: 0.0426\n",
      "Epoch 9/60\n",
      "64/64 [==============================] - 0s 2ms/step - loss: 0.6355 - accuracy: 0.6496 - precision: 0.9323 - recall: 0.1225 - val_loss: 0.6385 - val_accuracy: 0.6250 - val_precision: 0.8889 - val_recall: 0.1702\n",
      "Epoch 10/60\n",
      "64/64 [==============================] - 0s 3ms/step - loss: 0.5952 - accuracy: 0.6934 - precision: 0.9188 - recall: 0.2460 - val_loss: 0.5893 - val_accuracy: 0.7172 - val_precision: 0.8582 - val_recall: 0.4291\n",
      "Epoch 11/60\n",
      "64/64 [==============================] - 0s 2ms/step - loss: 0.5488 - accuracy: 0.7430 - precision: 0.8540 - recall: 0.4219 - val_loss: 0.5772 - val_accuracy: 0.6766 - val_precision: 0.8641 - val_recall: 0.3156\n",
      "Epoch 12/60\n",
      "64/64 [==============================] - 0s 3ms/step - loss: 0.4970 - accuracy: 0.7672 - precision: 0.8714 - recall: 0.4822 - val_loss: 0.5105 - val_accuracy: 0.7516 - val_precision: 0.8436 - val_recall: 0.5355\n",
      "Epoch 13/60\n",
      "64/64 [==============================] - 0s 3ms/step - loss: 0.4724 - accuracy: 0.7937 - precision: 0.8487 - recall: 0.5820 - val_loss: 0.5251 - val_accuracy: 0.7297 - val_precision: 0.8516 - val_recall: 0.4681\n",
      "Epoch 14/60\n",
      "64/64 [==============================] - 0s 3ms/step - loss: 0.4490 - accuracy: 0.7992 - precision: 0.8430 - recall: 0.6047 - val_loss: 0.5238 - val_accuracy: 0.8281 - val_precision: 0.7810 - val_recall: 0.8475\n",
      "Epoch 15/60\n",
      "64/64 [==============================] - 0s 2ms/step - loss: 0.4630 - accuracy: 0.8031 - precision: 0.8256 - recall: 0.6364 - val_loss: 0.5889 - val_accuracy: 0.7250 - val_precision: 0.8487 - val_recall: 0.4574\n",
      "Epoch 16/60\n",
      "64/64 [==============================] - 0s 3ms/step - loss: 0.4396 - accuracy: 0.8082 - precision: 0.8302 - recall: 0.6472 - val_loss: 0.5094 - val_accuracy: 0.7531 - val_precision: 0.8444 - val_recall: 0.5390\n",
      "Epoch 17/60\n",
      "64/64 [==============================] - 0s 3ms/step - loss: 0.4286 - accuracy: 0.8082 - precision: 0.8181 - recall: 0.6621 - val_loss: 0.4590 - val_accuracy: 0.8031 - val_precision: 0.8171 - val_recall: 0.7128\n",
      "Epoch 18/60\n",
      "64/64 [==============================] - 0s 3ms/step - loss: 0.4441 - accuracy: 0.8160 - precision: 0.8271 - recall: 0.6759 - val_loss: 0.4933 - val_accuracy: 0.7688 - val_precision: 0.8454 - val_recall: 0.5816\n",
      "Epoch 19/60\n",
      "64/64 [==============================] - 0s 4ms/step - loss: 0.4156 - accuracy: 0.8156 - precision: 0.8176 - recall: 0.6868 - val_loss: 0.4830 - val_accuracy: 0.7688 - val_precision: 0.8317 - val_recall: 0.5957\n",
      "Epoch 20/60\n",
      "64/64 [==============================] - 0s 2ms/step - loss: 0.4159 - accuracy: 0.8195 - precision: 0.8213 - recall: 0.6947 - val_loss: 0.4461 - val_accuracy: 0.8000 - val_precision: 0.8182 - val_recall: 0.7021\n",
      "Epoch 21/60\n",
      "64/64 [==============================] - 0s 3ms/step - loss: 0.4049 - accuracy: 0.8199 - precision: 0.8120 - recall: 0.7085 - val_loss: 0.4431 - val_accuracy: 0.8000 - val_precision: 0.8182 - val_recall: 0.7021\n",
      "Epoch 22/60\n",
      "64/64 [==============================] - 0s 3ms/step - loss: 0.4011 - accuracy: 0.8285 - precision: 0.8208 - recall: 0.7243 - val_loss: 0.4599 - val_accuracy: 0.8172 - val_precision: 0.7797 - val_recall: 0.8156\n",
      "Epoch 23/60\n",
      "64/64 [==============================] - 0s 3ms/step - loss: 0.4133 - accuracy: 0.8285 - precision: 0.8118 - recall: 0.7372 - val_loss: 0.4571 - val_accuracy: 0.8188 - val_precision: 0.7804 - val_recall: 0.8191\n",
      "Epoch 24/60\n",
      "64/64 [==============================] - 0s 3ms/step - loss: 0.4145 - accuracy: 0.8160 - precision: 0.7969 - recall: 0.7174 - val_loss: 0.4537 - val_accuracy: 0.7766 - val_precision: 0.8174 - val_recall: 0.6348\n",
      "Epoch 25/60\n",
      "64/64 [==============================] - 0s 2ms/step - loss: 0.4219 - accuracy: 0.8199 - precision: 0.8092 - recall: 0.7125 - val_loss: 0.4534 - val_accuracy: 0.7766 - val_precision: 0.8174 - val_recall: 0.6348\n",
      "Epoch 26/60\n",
      "64/64 [==============================] - 0s 2ms/step - loss: 0.4025 - accuracy: 0.8246 - precision: 0.8104 - recall: 0.7263 - val_loss: 0.4319 - val_accuracy: 0.8031 - val_precision: 0.8171 - val_recall: 0.7128\n",
      "Epoch 27/60\n",
      "64/64 [==============================] - 0s 2ms/step - loss: 0.3985 - accuracy: 0.8270 - precision: 0.8130 - recall: 0.7302 - val_loss: 0.4290 - val_accuracy: 0.8062 - val_precision: 0.8185 - val_recall: 0.7199\n",
      "Epoch 28/60\n",
      "64/64 [==============================] - 0s 2ms/step - loss: 0.3913 - accuracy: 0.8289 - precision: 0.8099 - recall: 0.7411 - val_loss: 0.4445 - val_accuracy: 0.7828 - val_precision: 0.8122 - val_recall: 0.6596\n",
      "Epoch 29/60\n",
      "64/64 [==============================] - 0s 2ms/step - loss: 0.3948 - accuracy: 0.8266 - precision: 0.8041 - recall: 0.7421 - val_loss: 0.4262 - val_accuracy: 0.8141 - val_precision: 0.7921 - val_recall: 0.7837\n",
      "Epoch 30/60\n",
      "64/64 [==============================] - 0s 2ms/step - loss: 0.4006 - accuracy: 0.8289 - precision: 0.8060 - recall: 0.7470 - val_loss: 0.4227 - val_accuracy: 0.8141 - val_precision: 0.7921 - val_recall: 0.7837\n",
      "Epoch 31/60\n",
      "64/64 [==============================] - 0s 2ms/step - loss: 0.3938 - accuracy: 0.8285 - precision: 0.8045 - recall: 0.7480 - val_loss: 0.4235 - val_accuracy: 0.8188 - val_precision: 0.7943 - val_recall: 0.7943\n",
      "Epoch 32/60\n",
      "64/64 [==============================] - 0s 2ms/step - loss: 0.3911 - accuracy: 0.8250 - precision: 0.7962 - recall: 0.7490 - val_loss: 0.4277 - val_accuracy: 0.8047 - val_precision: 0.8178 - val_recall: 0.7163\n",
      "Epoch 33/60\n",
      "64/64 [==============================] - 0s 2ms/step - loss: 0.3955 - accuracy: 0.8293 - precision: 0.8030 - recall: 0.7530 - val_loss: 0.4234 - val_accuracy: 0.8078 - val_precision: 0.8193 - val_recall: 0.7234\n",
      "Epoch 34/60\n",
      "64/64 [==============================] - 0s 2ms/step - loss: 0.3909 - accuracy: 0.8332 - precision: 0.8012 - recall: 0.7688 - val_loss: 0.4228 - val_accuracy: 0.8094 - val_precision: 0.8200 - val_recall: 0.7270\n",
      "Epoch 35/60\n",
      "64/64 [==============================] - 0s 2ms/step - loss: 0.3863 - accuracy: 0.8379 - precision: 0.8119 - recall: 0.7678 - val_loss: 0.4209 - val_accuracy: 0.8203 - val_precision: 0.7869 - val_recall: 0.8121\n",
      "Epoch 36/60\n",
      "64/64 [==============================] - 0s 2ms/step - loss: 0.3809 - accuracy: 0.8324 - precision: 0.8040 - recall: 0.7619 - val_loss: 0.4151 - val_accuracy: 0.8188 - val_precision: 0.7902 - val_recall: 0.8014\n",
      "Epoch 37/60\n"
     ]
    },
    {
     "name": "stdout",
     "output_type": "stream",
     "text": [
      "64/64 [==============================] - 0s 2ms/step - loss: 0.3897 - accuracy: 0.8297 - precision: 0.7957 - recall: 0.7658 - val_loss: 0.4233 - val_accuracy: 0.8203 - val_precision: 0.7793 - val_recall: 0.8262\n",
      "Epoch 38/60\n",
      "64/64 [==============================] - 0s 2ms/step - loss: 0.3885 - accuracy: 0.8316 - precision: 0.7949 - recall: 0.7737 - val_loss: 0.4652 - val_accuracy: 0.7812 - val_precision: 0.8114 - val_recall: 0.6560\n",
      "Epoch 39/60\n",
      "64/64 [==============================] - 0s 2ms/step - loss: 0.4095 - accuracy: 0.8285 - precision: 0.7897 - recall: 0.7717 - val_loss: 0.4487 - val_accuracy: 0.8297 - val_precision: 0.7746 - val_recall: 0.8652\n",
      "Epoch 40/60\n",
      "64/64 [==============================] - 0s 2ms/step - loss: 0.3902 - accuracy: 0.8336 - precision: 0.7972 - recall: 0.7767 - val_loss: 0.4535 - val_accuracy: 0.7859 - val_precision: 0.8139 - val_recall: 0.6667\n",
      "Epoch 41/60\n",
      "64/64 [==============================] - 0s 3ms/step - loss: 0.3868 - accuracy: 0.8324 - precision: 0.7984 - recall: 0.7708 - val_loss: 0.4260 - val_accuracy: 0.8062 - val_precision: 0.8185 - val_recall: 0.7199\n",
      "Epoch 42/60\n",
      "64/64 [==============================] - 0s 3ms/step - loss: 0.3845 - accuracy: 0.8367 - precision: 0.8018 - recall: 0.7796 - val_loss: 0.4236 - val_accuracy: 0.8109 - val_precision: 0.8207 - val_recall: 0.7305\n",
      "Epoch 43/60\n",
      "64/64 [==============================] - 0s 3ms/step - loss: 0.3876 - accuracy: 0.8355 - precision: 0.8000 - recall: 0.7787 - val_loss: 0.4111 - val_accuracy: 0.8203 - val_precision: 0.7831 - val_recall: 0.8191\n",
      "Epoch 44/60\n",
      "64/64 [==============================] - 0s 3ms/step - loss: 0.3771 - accuracy: 0.8383 - precision: 0.7966 - recall: 0.7935 - val_loss: 0.4240 - val_accuracy: 0.8141 - val_precision: 0.8221 - val_recall: 0.7376\n",
      "Epoch 45/60\n",
      "64/64 [==============================] - 0s 3ms/step - loss: 0.3854 - accuracy: 0.8359 - precision: 0.7960 - recall: 0.7866 - val_loss: 0.4083 - val_accuracy: 0.8203 - val_precision: 0.8036 - val_recall: 0.7837\n",
      "Epoch 46/60\n",
      "64/64 [==============================] - 0s 3ms/step - loss: 0.3848 - accuracy: 0.8344 - precision: 0.7934 - recall: 0.7856 - val_loss: 0.4196 - val_accuracy: 0.8313 - val_precision: 0.7825 - val_recall: 0.8546\n",
      "Epoch 47/60\n",
      "64/64 [==============================] - 0s 2ms/step - loss: 0.3849 - accuracy: 0.8316 - precision: 0.7829 - recall: 0.7945 - val_loss: 0.4291 - val_accuracy: 0.8094 - val_precision: 0.8200 - val_recall: 0.7270\n",
      "Epoch 48/60\n",
      "64/64 [==============================] - 0s 2ms/step - loss: 0.3885 - accuracy: 0.8328 - precision: 0.7926 - recall: 0.7816 - val_loss: 0.4048 - val_accuracy: 0.8234 - val_precision: 0.7884 - val_recall: 0.8191\n",
      "Epoch 49/60\n",
      "64/64 [==============================] - 0s 3ms/step - loss: 0.3824 - accuracy: 0.8332 - precision: 0.7893 - recall: 0.7885 - val_loss: 0.4193 - val_accuracy: 0.8109 - val_precision: 0.8108 - val_recall: 0.7447\n",
      "Epoch 50/60\n",
      "64/64 [==============================] - 0s 2ms/step - loss: 0.3787 - accuracy: 0.8344 - precision: 0.7894 - recall: 0.7925 - val_loss: 0.4016 - val_accuracy: 0.8172 - val_precision: 0.7895 - val_recall: 0.7979\n",
      "Epoch 51/60\n",
      "64/64 [==============================] - 0s 3ms/step - loss: 0.3756 - accuracy: 0.8359 - precision: 0.7902 - recall: 0.7964 - val_loss: 0.4010 - val_accuracy: 0.8172 - val_precision: 0.7895 - val_recall: 0.7979\n",
      "Epoch 52/60\n",
      "64/64 [==============================] - 0s 3ms/step - loss: 0.3840 - accuracy: 0.8344 - precision: 0.7877 - recall: 0.7955 - val_loss: 0.4121 - val_accuracy: 0.8313 - val_precision: 0.7825 - val_recall: 0.8546\n",
      "Epoch 53/60\n",
      "64/64 [==============================] - 0s 2ms/step - loss: 0.3864 - accuracy: 0.8336 - precision: 0.7890 - recall: 0.7905 - val_loss: 0.4053 - val_accuracy: 0.8188 - val_precision: 0.8007 - val_recall: 0.7837\n",
      "Epoch 54/60\n",
      "64/64 [==============================] - 0s 3ms/step - loss: 0.3776 - accuracy: 0.8383 - precision: 0.7931 - recall: 0.7994 - val_loss: 0.3992 - val_accuracy: 0.8203 - val_precision: 0.7909 - val_recall: 0.8050\n",
      "Epoch 55/60\n",
      "64/64 [==============================] - 0s 3ms/step - loss: 0.3747 - accuracy: 0.8418 - precision: 0.7955 - recall: 0.8073 - val_loss: 0.4198 - val_accuracy: 0.8156 - val_precision: 0.8130 - val_recall: 0.7553\n",
      "Epoch 56/60\n",
      "64/64 [==============================] - 0s 2ms/step - loss: 0.3844 - accuracy: 0.8355 - precision: 0.7883 - recall: 0.7984 - val_loss: 0.4082 - val_accuracy: 0.8313 - val_precision: 0.7825 - val_recall: 0.8546\n",
      "Epoch 57/60\n",
      "64/64 [==============================] - 0s 2ms/step - loss: 0.3840 - accuracy: 0.8336 - precision: 0.7828 - recall: 0.8014 - val_loss: 0.4040 - val_accuracy: 0.8172 - val_precision: 0.7978 - val_recall: 0.7837\n",
      "Epoch 58/60\n",
      "64/64 [==============================] - 0s 2ms/step - loss: 0.3739 - accuracy: 0.8363 - precision: 0.7876 - recall: 0.8024 - val_loss: 0.3971 - val_accuracy: 0.8203 - val_precision: 0.7889 - val_recall: 0.8085\n",
      "Epoch 59/60\n",
      "64/64 [==============================] - 0s 2ms/step - loss: 0.3843 - accuracy: 0.8344 - precision: 0.7843 - recall: 0.8014 - val_loss: 0.3970 - val_accuracy: 0.8203 - val_precision: 0.7909 - val_recall: 0.8050\n",
      "Epoch 60/60\n",
      "64/64 [==============================] - 0s 2ms/step - loss: 0.3812 - accuracy: 0.8371 - precision: 0.7863 - recall: 0.8073 - val_loss: 0.3983 - val_accuracy: 0.8203 - val_precision: 0.7793 - val_recall: 0.8262\n",
      "20/20 [==============================] - 0s 1ms/step\n",
      "WARNING:tensorflow:Detecting that an object or model or tf.train.Checkpoint is being deleted with unrestored values. See the following logs for the specific values in question. To silence these warnings, use `status.expect_partial()`. See https://www.tensorflow.org/api_docs/python/tf/train/Checkpoint#restorefor details about the status object returned by the restore function.\n"
     ]
    },
    {
     "name": "stderr",
     "output_type": "stream",
     "text": [
      "WARNING:tensorflow:Detecting that an object or model or tf.train.Checkpoint is being deleted with unrestored values. See the following logs for the specific values in question. To silence these warnings, use `status.expect_partial()`. See https://www.tensorflow.org/api_docs/python/tf/train/Checkpoint#restorefor details about the status object returned by the restore function.\n"
     ]
    },
    {
     "name": "stdout",
     "output_type": "stream",
     "text": [
      "WARNING:tensorflow:Value in checkpoint could not be found in the restored object: (root).keras_api.metrics.0.total\n"
     ]
    },
    {
     "name": "stderr",
     "output_type": "stream",
     "text": [
      "WARNING:tensorflow:Value in checkpoint could not be found in the restored object: (root).keras_api.metrics.0.total\n"
     ]
    },
    {
     "name": "stdout",
     "output_type": "stream",
     "text": [
      "WARNING:tensorflow:Value in checkpoint could not be found in the restored object: (root).keras_api.metrics.0.count\n"
     ]
    },
    {
     "name": "stderr",
     "output_type": "stream",
     "text": [
      "WARNING:tensorflow:Value in checkpoint could not be found in the restored object: (root).keras_api.metrics.0.count\n"
     ]
    },
    {
     "name": "stdout",
     "output_type": "stream",
     "text": [
      "WARNING:tensorflow:Value in checkpoint could not be found in the restored object: (root).keras_api.metrics.1.total\n"
     ]
    },
    {
     "name": "stderr",
     "output_type": "stream",
     "text": [
      "WARNING:tensorflow:Value in checkpoint could not be found in the restored object: (root).keras_api.metrics.1.total\n"
     ]
    },
    {
     "name": "stdout",
     "output_type": "stream",
     "text": [
      "WARNING:tensorflow:Value in checkpoint could not be found in the restored object: (root).keras_api.metrics.1.count\n"
     ]
    },
    {
     "name": "stderr",
     "output_type": "stream",
     "text": [
      "WARNING:tensorflow:Value in checkpoint could not be found in the restored object: (root).keras_api.metrics.1.count\n"
     ]
    },
    {
     "name": "stdout",
     "output_type": "stream",
     "text": [
      "WARNING:tensorflow:Value in checkpoint could not be found in the restored object: (root).keras_api.metrics.2.true_positives\n"
     ]
    },
    {
     "name": "stderr",
     "output_type": "stream",
     "text": [
      "WARNING:tensorflow:Value in checkpoint could not be found in the restored object: (root).keras_api.metrics.2.true_positives\n"
     ]
    },
    {
     "name": "stdout",
     "output_type": "stream",
     "text": [
      "WARNING:tensorflow:Value in checkpoint could not be found in the restored object: (root).keras_api.metrics.2.false_positives\n"
     ]
    },
    {
     "name": "stderr",
     "output_type": "stream",
     "text": [
      "WARNING:tensorflow:Value in checkpoint could not be found in the restored object: (root).keras_api.metrics.2.false_positives\n"
     ]
    },
    {
     "name": "stdout",
     "output_type": "stream",
     "text": [
      "WARNING:tensorflow:Value in checkpoint could not be found in the restored object: (root).keras_api.metrics.3.true_positives\n"
     ]
    },
    {
     "name": "stderr",
     "output_type": "stream",
     "text": [
      "WARNING:tensorflow:Value in checkpoint could not be found in the restored object: (root).keras_api.metrics.3.true_positives\n"
     ]
    },
    {
     "name": "stdout",
     "output_type": "stream",
     "text": [
      "WARNING:tensorflow:Value in checkpoint could not be found in the restored object: (root).keras_api.metrics.3.false_negatives\n"
     ]
    },
    {
     "name": "stderr",
     "output_type": "stream",
     "text": [
      "WARNING:tensorflow:Value in checkpoint could not be found in the restored object: (root).keras_api.metrics.3.false_negatives\n"
     ]
    },
    {
     "name": "stdout",
     "output_type": "stream",
     "text": [
      "WARNING:tensorflow:Detecting that an object or model or tf.train.Checkpoint is being deleted with unrestored values. See the following logs for the specific values in question. To silence these warnings, use `status.expect_partial()`. See https://www.tensorflow.org/api_docs/python/tf/train/Checkpoint#restorefor details about the status object returned by the restore function.\n"
     ]
    },
    {
     "name": "stderr",
     "output_type": "stream",
     "text": [
      "WARNING:tensorflow:Detecting that an object or model or tf.train.Checkpoint is being deleted with unrestored values. See the following logs for the specific values in question. To silence these warnings, use `status.expect_partial()`. See https://www.tensorflow.org/api_docs/python/tf/train/Checkpoint#restorefor details about the status object returned by the restore function.\n"
     ]
    },
    {
     "name": "stdout",
     "output_type": "stream",
     "text": [
      "WARNING:tensorflow:Value in checkpoint could not be found in the restored object: (root).keras_api.metrics.0.total\n"
     ]
    },
    {
     "name": "stderr",
     "output_type": "stream",
     "text": [
      "WARNING:tensorflow:Value in checkpoint could not be found in the restored object: (root).keras_api.metrics.0.total\n"
     ]
    },
    {
     "name": "stdout",
     "output_type": "stream",
     "text": [
      "WARNING:tensorflow:Value in checkpoint could not be found in the restored object: (root).keras_api.metrics.0.count\n"
     ]
    },
    {
     "name": "stderr",
     "output_type": "stream",
     "text": [
      "WARNING:tensorflow:Value in checkpoint could not be found in the restored object: (root).keras_api.metrics.0.count\n"
     ]
    },
    {
     "name": "stdout",
     "output_type": "stream",
     "text": [
      "WARNING:tensorflow:Value in checkpoint could not be found in the restored object: (root).keras_api.metrics.1.total\n"
     ]
    },
    {
     "name": "stderr",
     "output_type": "stream",
     "text": [
      "WARNING:tensorflow:Value in checkpoint could not be found in the restored object: (root).keras_api.metrics.1.total\n"
     ]
    },
    {
     "name": "stdout",
     "output_type": "stream",
     "text": [
      "WARNING:tensorflow:Value in checkpoint could not be found in the restored object: (root).keras_api.metrics.1.count\n"
     ]
    },
    {
     "name": "stderr",
     "output_type": "stream",
     "text": [
      "WARNING:tensorflow:Value in checkpoint could not be found in the restored object: (root).keras_api.metrics.1.count\n"
     ]
    },
    {
     "name": "stdout",
     "output_type": "stream",
     "text": [
      "WARNING:tensorflow:Value in checkpoint could not be found in the restored object: (root).keras_api.metrics.2.true_positives\n"
     ]
    },
    {
     "name": "stderr",
     "output_type": "stream",
     "text": [
      "WARNING:tensorflow:Value in checkpoint could not be found in the restored object: (root).keras_api.metrics.2.true_positives\n"
     ]
    },
    {
     "name": "stdout",
     "output_type": "stream",
     "text": [
      "WARNING:tensorflow:Value in checkpoint could not be found in the restored object: (root).keras_api.metrics.2.false_positives\n"
     ]
    },
    {
     "name": "stderr",
     "output_type": "stream",
     "text": [
      "WARNING:tensorflow:Value in checkpoint could not be found in the restored object: (root).keras_api.metrics.2.false_positives\n"
     ]
    },
    {
     "name": "stdout",
     "output_type": "stream",
     "text": [
      "WARNING:tensorflow:Value in checkpoint could not be found in the restored object: (root).keras_api.metrics.3.true_positives\n"
     ]
    },
    {
     "name": "stderr",
     "output_type": "stream",
     "text": [
      "WARNING:tensorflow:Value in checkpoint could not be found in the restored object: (root).keras_api.metrics.3.true_positives\n"
     ]
    },
    {
     "name": "stdout",
     "output_type": "stream",
     "text": [
      "WARNING:tensorflow:Value in checkpoint could not be found in the restored object: (root).keras_api.metrics.3.false_negatives\n"
     ]
    },
    {
     "name": "stderr",
     "output_type": "stream",
     "text": [
      "WARNING:tensorflow:Value in checkpoint could not be found in the restored object: (root).keras_api.metrics.3.false_negatives\n"
     ]
    },
    {
     "name": "stdout",
     "output_type": "stream",
     "text": [
      "WARNING:tensorflow:Detecting that an object or model or tf.train.Checkpoint is being deleted with unrestored values. See the following logs for the specific values in question. To silence these warnings, use `status.expect_partial()`. See https://www.tensorflow.org/api_docs/python/tf/train/Checkpoint#restorefor details about the status object returned by the restore function.\n"
     ]
    },
    {
     "name": "stderr",
     "output_type": "stream",
     "text": [
      "WARNING:tensorflow:Detecting that an object or model or tf.train.Checkpoint is being deleted with unrestored values. See the following logs for the specific values in question. To silence these warnings, use `status.expect_partial()`. See https://www.tensorflow.org/api_docs/python/tf/train/Checkpoint#restorefor details about the status object returned by the restore function.\n"
     ]
    },
    {
     "name": "stdout",
     "output_type": "stream",
     "text": [
      "WARNING:tensorflow:Value in checkpoint could not be found in the restored object: (root).keras_api.metrics.0.total\n"
     ]
    },
    {
     "name": "stderr",
     "output_type": "stream",
     "text": [
      "WARNING:tensorflow:Value in checkpoint could not be found in the restored object: (root).keras_api.metrics.0.total\n"
     ]
    },
    {
     "name": "stdout",
     "output_type": "stream",
     "text": [
      "WARNING:tensorflow:Value in checkpoint could not be found in the restored object: (root).keras_api.metrics.0.count\n"
     ]
    },
    {
     "name": "stderr",
     "output_type": "stream",
     "text": [
      "WARNING:tensorflow:Value in checkpoint could not be found in the restored object: (root).keras_api.metrics.0.count\n"
     ]
    },
    {
     "name": "stdout",
     "output_type": "stream",
     "text": [
      "WARNING:tensorflow:Value in checkpoint could not be found in the restored object: (root).keras_api.metrics.1.total\n"
     ]
    },
    {
     "name": "stderr",
     "output_type": "stream",
     "text": [
      "WARNING:tensorflow:Value in checkpoint could not be found in the restored object: (root).keras_api.metrics.1.total\n"
     ]
    },
    {
     "name": "stdout",
     "output_type": "stream",
     "text": [
      "WARNING:tensorflow:Value in checkpoint could not be found in the restored object: (root).keras_api.metrics.1.count\n"
     ]
    },
    {
     "name": "stderr",
     "output_type": "stream",
     "text": [
      "WARNING:tensorflow:Value in checkpoint could not be found in the restored object: (root).keras_api.metrics.1.count\n"
     ]
    },
    {
     "name": "stdout",
     "output_type": "stream",
     "text": [
      "WARNING:tensorflow:Value in checkpoint could not be found in the restored object: (root).keras_api.metrics.2.true_positives\n"
     ]
    },
    {
     "name": "stderr",
     "output_type": "stream",
     "text": [
      "WARNING:tensorflow:Value in checkpoint could not be found in the restored object: (root).keras_api.metrics.2.true_positives\n"
     ]
    },
    {
     "name": "stdout",
     "output_type": "stream",
     "text": [
      "WARNING:tensorflow:Value in checkpoint could not be found in the restored object: (root).keras_api.metrics.2.false_positives\n"
     ]
    },
    {
     "name": "stderr",
     "output_type": "stream",
     "text": [
      "WARNING:tensorflow:Value in checkpoint could not be found in the restored object: (root).keras_api.metrics.2.false_positives\n"
     ]
    },
    {
     "name": "stdout",
     "output_type": "stream",
     "text": [
      "WARNING:tensorflow:Value in checkpoint could not be found in the restored object: (root).keras_api.metrics.3.true_positives\n"
     ]
    },
    {
     "name": "stderr",
     "output_type": "stream",
     "text": [
      "WARNING:tensorflow:Value in checkpoint could not be found in the restored object: (root).keras_api.metrics.3.true_positives\n"
     ]
    },
    {
     "name": "stdout",
     "output_type": "stream",
     "text": [
      "WARNING:tensorflow:Value in checkpoint could not be found in the restored object: (root).keras_api.metrics.3.false_negatives\n"
     ]
    },
    {
     "name": "stderr",
     "output_type": "stream",
     "text": [
      "WARNING:tensorflow:Value in checkpoint could not be found in the restored object: (root).keras_api.metrics.3.false_negatives\n"
     ]
    },
    {
     "name": "stdout",
     "output_type": "stream",
     "text": [
      "WARNING:tensorflow:Detecting that an object or model or tf.train.Checkpoint is being deleted with unrestored values. See the following logs for the specific values in question. To silence these warnings, use `status.expect_partial()`. See https://www.tensorflow.org/api_docs/python/tf/train/Checkpoint#restorefor details about the status object returned by the restore function.\n"
     ]
    },
    {
     "name": "stderr",
     "output_type": "stream",
     "text": [
      "WARNING:tensorflow:Detecting that an object or model or tf.train.Checkpoint is being deleted with unrestored values. See the following logs for the specific values in question. To silence these warnings, use `status.expect_partial()`. See https://www.tensorflow.org/api_docs/python/tf/train/Checkpoint#restorefor details about the status object returned by the restore function.\n"
     ]
    },
    {
     "name": "stdout",
     "output_type": "stream",
     "text": [
      "WARNING:tensorflow:Value in checkpoint could not be found in the restored object: (root).keras_api.metrics.0.total\n"
     ]
    },
    {
     "name": "stderr",
     "output_type": "stream",
     "text": [
      "WARNING:tensorflow:Value in checkpoint could not be found in the restored object: (root).keras_api.metrics.0.total\n"
     ]
    },
    {
     "name": "stdout",
     "output_type": "stream",
     "text": [
      "WARNING:tensorflow:Value in checkpoint could not be found in the restored object: (root).keras_api.metrics.0.count\n"
     ]
    },
    {
     "name": "stderr",
     "output_type": "stream",
     "text": [
      "WARNING:tensorflow:Value in checkpoint could not be found in the restored object: (root).keras_api.metrics.0.count\n"
     ]
    },
    {
     "name": "stdout",
     "output_type": "stream",
     "text": [
      "WARNING:tensorflow:Value in checkpoint could not be found in the restored object: (root).keras_api.metrics.1.total\n"
     ]
    },
    {
     "name": "stderr",
     "output_type": "stream",
     "text": [
      "WARNING:tensorflow:Value in checkpoint could not be found in the restored object: (root).keras_api.metrics.1.total\n"
     ]
    },
    {
     "name": "stdout",
     "output_type": "stream",
     "text": [
      "WARNING:tensorflow:Value in checkpoint could not be found in the restored object: (root).keras_api.metrics.1.count\n"
     ]
    },
    {
     "name": "stderr",
     "output_type": "stream",
     "text": [
      "WARNING:tensorflow:Value in checkpoint could not be found in the restored object: (root).keras_api.metrics.1.count\n"
     ]
    },
    {
     "name": "stdout",
     "output_type": "stream",
     "text": [
      "WARNING:tensorflow:Value in checkpoint could not be found in the restored object: (root).keras_api.metrics.2.true_positives\n"
     ]
    },
    {
     "name": "stderr",
     "output_type": "stream",
     "text": [
      "WARNING:tensorflow:Value in checkpoint could not be found in the restored object: (root).keras_api.metrics.2.true_positives\n"
     ]
    },
    {
     "name": "stdout",
     "output_type": "stream",
     "text": [
      "WARNING:tensorflow:Value in checkpoint could not be found in the restored object: (root).keras_api.metrics.2.false_positives\n"
     ]
    },
    {
     "name": "stderr",
     "output_type": "stream",
     "text": [
      "WARNING:tensorflow:Value in checkpoint could not be found in the restored object: (root).keras_api.metrics.2.false_positives\n"
     ]
    },
    {
     "name": "stdout",
     "output_type": "stream",
     "text": [
      "WARNING:tensorflow:Value in checkpoint could not be found in the restored object: (root).keras_api.metrics.3.true_positives\n"
     ]
    },
    {
     "name": "stderr",
     "output_type": "stream",
     "text": [
      "WARNING:tensorflow:Value in checkpoint could not be found in the restored object: (root).keras_api.metrics.3.true_positives\n"
     ]
    },
    {
     "name": "stdout",
     "output_type": "stream",
     "text": [
      "WARNING:tensorflow:Value in checkpoint could not be found in the restored object: (root).keras_api.metrics.3.false_negatives\n"
     ]
    },
    {
     "name": "stderr",
     "output_type": "stream",
     "text": [
      "WARNING:tensorflow:Value in checkpoint could not be found in the restored object: (root).keras_api.metrics.3.false_negatives\n"
     ]
    },
    {
     "name": "stdout",
     "output_type": "stream",
     "text": [
      "WARNING:tensorflow:Detecting that an object or model or tf.train.Checkpoint is being deleted with unrestored values. See the following logs for the specific values in question. To silence these warnings, use `status.expect_partial()`. See https://www.tensorflow.org/api_docs/python/tf/train/Checkpoint#restorefor details about the status object returned by the restore function.\n"
     ]
    },
    {
     "name": "stderr",
     "output_type": "stream",
     "text": [
      "WARNING:tensorflow:Detecting that an object or model or tf.train.Checkpoint is being deleted with unrestored values. See the following logs for the specific values in question. To silence these warnings, use `status.expect_partial()`. See https://www.tensorflow.org/api_docs/python/tf/train/Checkpoint#restorefor details about the status object returned by the restore function.\n"
     ]
    },
    {
     "name": "stdout",
     "output_type": "stream",
     "text": [
      "WARNING:tensorflow:Value in checkpoint could not be found in the restored object: (root).keras_api.metrics.0.total\n"
     ]
    },
    {
     "name": "stderr",
     "output_type": "stream",
     "text": [
      "WARNING:tensorflow:Value in checkpoint could not be found in the restored object: (root).keras_api.metrics.0.total\n"
     ]
    },
    {
     "name": "stdout",
     "output_type": "stream",
     "text": [
      "WARNING:tensorflow:Value in checkpoint could not be found in the restored object: (root).keras_api.metrics.0.count\n"
     ]
    },
    {
     "name": "stderr",
     "output_type": "stream",
     "text": [
      "WARNING:tensorflow:Value in checkpoint could not be found in the restored object: (root).keras_api.metrics.0.count\n"
     ]
    },
    {
     "name": "stdout",
     "output_type": "stream",
     "text": [
      "WARNING:tensorflow:Value in checkpoint could not be found in the restored object: (root).keras_api.metrics.1.total\n"
     ]
    },
    {
     "name": "stderr",
     "output_type": "stream",
     "text": [
      "WARNING:tensorflow:Value in checkpoint could not be found in the restored object: (root).keras_api.metrics.1.total\n"
     ]
    },
    {
     "name": "stdout",
     "output_type": "stream",
     "text": [
      "WARNING:tensorflow:Value in checkpoint could not be found in the restored object: (root).keras_api.metrics.1.count\n"
     ]
    },
    {
     "name": "stderr",
     "output_type": "stream",
     "text": [
      "WARNING:tensorflow:Value in checkpoint could not be found in the restored object: (root).keras_api.metrics.1.count\n"
     ]
    },
    {
     "name": "stdout",
     "output_type": "stream",
     "text": [
      "WARNING:tensorflow:Value in checkpoint could not be found in the restored object: (root).keras_api.metrics.2.true_positives\n"
     ]
    },
    {
     "name": "stderr",
     "output_type": "stream",
     "text": [
      "WARNING:tensorflow:Value in checkpoint could not be found in the restored object: (root).keras_api.metrics.2.true_positives\n"
     ]
    },
    {
     "name": "stdout",
     "output_type": "stream",
     "text": [
      "WARNING:tensorflow:Value in checkpoint could not be found in the restored object: (root).keras_api.metrics.2.false_positives\n"
     ]
    },
    {
     "name": "stderr",
     "output_type": "stream",
     "text": [
      "WARNING:tensorflow:Value in checkpoint could not be found in the restored object: (root).keras_api.metrics.2.false_positives\n"
     ]
    },
    {
     "name": "stdout",
     "output_type": "stream",
     "text": [
      "WARNING:tensorflow:Value in checkpoint could not be found in the restored object: (root).keras_api.metrics.3.true_positives\n"
     ]
    },
    {
     "name": "stderr",
     "output_type": "stream",
     "text": [
      "WARNING:tensorflow:Value in checkpoint could not be found in the restored object: (root).keras_api.metrics.3.true_positives\n"
     ]
    },
    {
     "name": "stdout",
     "output_type": "stream",
     "text": [
      "WARNING:tensorflow:Value in checkpoint could not be found in the restored object: (root).keras_api.metrics.3.false_negatives\n"
     ]
    },
    {
     "name": "stderr",
     "output_type": "stream",
     "text": [
      "WARNING:tensorflow:Value in checkpoint could not be found in the restored object: (root).keras_api.metrics.3.false_negatives\n",
      "WARNING:absl:Found untraced functions such as _update_step_xla while saving (showing 1 of 1). These functions will not be directly callable after loading.\n"
     ]
    },
    {
     "name": "stdout",
     "output_type": "stream",
     "text": [
      "INFO:tensorflow:Assets written to: C:\\Users\\jmbar\\AppData\\Local\\Temp\\tmpft4k08xn\\assets\n"
     ]
    },
    {
     "name": "stderr",
     "output_type": "stream",
     "text": [
      "INFO:tensorflow:Assets written to: C:\\Users\\jmbar\\AppData\\Local\\Temp\\tmpft4k08xn\\assets\n"
     ]
    },
    {
     "name": "stdout",
     "output_type": "stream",
     "text": [
      "Epoch 1/60\n",
      "64/64 [==============================] - 1s 6ms/step - loss: 0.6776 - accuracy: 0.5953 - precision: 0.0000e+00 - recall: 0.0000e+00 - val_loss: 0.6696 - val_accuracy: 0.6078 - val_precision: 0.0000e+00 - val_recall: 0.0000e+00\n",
      "Epoch 2/60\n",
      "64/64 [==============================] - 0s 2ms/step - loss: 0.6771 - accuracy: 0.5953 - precision: 0.0000e+00 - recall: 0.0000e+00 - val_loss: 0.6716 - val_accuracy: 0.6078 - val_precision: 0.0000e+00 - val_recall: 0.0000e+00\n",
      "Epoch 3/60\n",
      "64/64 [==============================] - 0s 2ms/step - loss: 0.6753 - accuracy: 0.5953 - precision: 0.0000e+00 - recall: 0.0000e+00 - val_loss: 0.6717 - val_accuracy: 0.6078 - val_precision: 0.0000e+00 - val_recall: 0.0000e+00\n",
      "Epoch 4/60\n",
      "64/64 [==============================] - 0s 2ms/step - loss: 0.6747 - accuracy: 0.5953 - precision: 0.0000e+00 - recall: 0.0000e+00 - val_loss: 0.6703 - val_accuracy: 0.6078 - val_precision: 0.0000e+00 - val_recall: 0.0000e+00\n",
      "Epoch 5/60\n",
      "64/64 [==============================] - 0s 2ms/step - loss: 0.6791 - accuracy: 0.5953 - precision: 0.0000e+00 - recall: 0.0000e+00 - val_loss: 0.6689 - val_accuracy: 0.6078 - val_precision: 0.0000e+00 - val_recall: 0.0000e+00\n",
      "Epoch 6/60\n",
      "64/64 [==============================] - 0s 2ms/step - loss: 0.6740 - accuracy: 0.5953 - precision: 0.0000e+00 - recall: 0.0000e+00 - val_loss: 0.6675 - val_accuracy: 0.6078 - val_precision: 0.0000e+00 - val_recall: 0.0000e+00\n",
      "Epoch 7/60\n",
      "64/64 [==============================] - 0s 2ms/step - loss: 0.6713 - accuracy: 0.5957 - precision: 1.0000 - recall: 9.6525e-04 - val_loss: 0.6667 - val_accuracy: 0.6125 - val_precision: 1.0000 - val_recall: 0.0120\n",
      "Epoch 8/60\n",
      "64/64 [==============================] - 0s 2ms/step - loss: 0.6657 - accuracy: 0.6160 - precision: 0.9818 - recall: 0.0521 - val_loss: 0.6598 - val_accuracy: 0.6141 - val_precision: 1.0000 - val_recall: 0.0159\n",
      "Epoch 9/60\n",
      "64/64 [==============================] - 0s 3ms/step - loss: 0.6504 - accuracy: 0.6344 - precision: 0.9630 - recall: 0.1004 - val_loss: 0.6430 - val_accuracy: 0.6547 - val_precision: 0.9167 - val_recall: 0.1315\n",
      "Epoch 10/60\n",
      "64/64 [==============================] - 0s 2ms/step - loss: 0.6191 - accuracy: 0.6699 - precision: 0.9442 - recall: 0.1959 - val_loss: 0.6347 - val_accuracy: 0.6453 - val_precision: 0.9000 - val_recall: 0.1076\n",
      "Epoch 11/60\n",
      "64/64 [==============================] - 0s 2ms/step - loss: 0.5737 - accuracy: 0.7285 - precision: 0.9189 - recall: 0.3610 - val_loss: 0.5501 - val_accuracy: 0.7172 - val_precision: 0.8646 - val_recall: 0.3307\n",
      "Epoch 12/60\n",
      "64/64 [==============================] - 0s 2ms/step - loss: 0.5048 - accuracy: 0.7641 - precision: 0.8956 - recall: 0.4720 - val_loss: 0.5131 - val_accuracy: 0.7828 - val_precision: 0.8043 - val_recall: 0.5896\n",
      "Epoch 13/60\n",
      "64/64 [==============================] - 0s 2ms/step - loss: 0.4628 - accuracy: 0.7895 - precision: 0.8692 - recall: 0.5647 - val_loss: 0.4827 - val_accuracy: 0.7906 - val_precision: 0.7970 - val_recall: 0.6255\n",
      "Epoch 14/60\n",
      "64/64 [==============================] - 0s 2ms/step - loss: 0.4454 - accuracy: 0.8020 - precision: 0.8458 - recall: 0.6245 - val_loss: 0.4619 - val_accuracy: 0.7828 - val_precision: 0.7947 - val_recall: 0.6016\n",
      "Epoch 15/60\n",
      "64/64 [==============================] - 0s 2ms/step - loss: 0.4247 - accuracy: 0.8168 - precision: 0.8531 - recall: 0.6612 - val_loss: 0.4531 - val_accuracy: 0.7828 - val_precision: 0.7947 - val_recall: 0.6016\n",
      "Epoch 16/60\n",
      "64/64 [==============================] - 0s 3ms/step - loss: 0.4352 - accuracy: 0.8129 - precision: 0.8376 - recall: 0.6670 - val_loss: 0.4520 - val_accuracy: 0.8031 - val_precision: 0.7962 - val_recall: 0.6693\n",
      "Epoch 17/60\n",
      "64/64 [==============================] - 0s 3ms/step - loss: 0.4215 - accuracy: 0.8270 - precision: 0.8420 - recall: 0.7046 - val_loss: 0.4713 - val_accuracy: 0.8109 - val_precision: 0.7539 - val_recall: 0.7689\n",
      "Epoch 18/60\n",
      "64/64 [==============================] - 0s 3ms/step - loss: 0.4168 - accuracy: 0.8129 - precision: 0.8250 - recall: 0.6824 - val_loss: 0.4424 - val_accuracy: 0.7906 - val_precision: 0.7940 - val_recall: 0.6295\n",
      "Epoch 19/60\n",
      "64/64 [==============================] - 0s 3ms/step - loss: 0.4047 - accuracy: 0.8199 - precision: 0.8308 - recall: 0.6969 - val_loss: 0.4383 - val_accuracy: 0.8016 - val_precision: 0.7952 - val_recall: 0.6653\n",
      "Epoch 20/60\n",
      "64/64 [==============================] - 0s 3ms/step - loss: 0.4005 - accuracy: 0.8223 - precision: 0.8290 - recall: 0.7066 - val_loss: 0.4361 - val_accuracy: 0.8062 - val_precision: 0.7981 - val_recall: 0.6773\n",
      "Epoch 21/60\n",
      "64/64 [==============================] - 0s 2ms/step - loss: 0.4024 - accuracy: 0.8238 - precision: 0.8261 - recall: 0.7153 - val_loss: 0.4400 - val_accuracy: 0.7922 - val_precision: 0.7980 - val_recall: 0.6295\n",
      "Epoch 22/60\n",
      "64/64 [==============================] - 0s 3ms/step - loss: 0.4071 - accuracy: 0.8258 - precision: 0.8242 - recall: 0.7239 - val_loss: 0.4429 - val_accuracy: 0.7906 - val_precision: 0.7970 - val_recall: 0.6255\n",
      "Epoch 23/60\n",
      "64/64 [==============================] - 0s 2ms/step - loss: 0.3932 - accuracy: 0.8270 - precision: 0.8240 - recall: 0.7278 - val_loss: 0.4310 - val_accuracy: 0.7984 - val_precision: 0.7933 - val_recall: 0.6574\n",
      "Epoch 24/60\n",
      "64/64 [==============================] - 0s 2ms/step - loss: 0.3923 - accuracy: 0.8262 - precision: 0.8174 - recall: 0.7346 - val_loss: 0.4273 - val_accuracy: 0.8188 - val_precision: 0.7922 - val_recall: 0.7291\n",
      "Epoch 25/60\n",
      "64/64 [==============================] - 0s 2ms/step - loss: 0.3952 - accuracy: 0.8305 - precision: 0.8230 - recall: 0.7403 - val_loss: 0.4456 - val_accuracy: 0.8141 - val_precision: 0.7519 - val_recall: 0.7849\n",
      "Epoch 26/60\n",
      "64/64 [==============================] - 0s 2ms/step - loss: 0.3947 - accuracy: 0.8289 - precision: 0.8167 - recall: 0.7442 - val_loss: 0.4329 - val_accuracy: 0.7969 - val_precision: 0.7951 - val_recall: 0.6494\n",
      "Epoch 27/60\n",
      "64/64 [==============================] - 0s 2ms/step - loss: 0.3859 - accuracy: 0.8316 - precision: 0.8194 - recall: 0.7490 - val_loss: 0.4215 - val_accuracy: 0.8188 - val_precision: 0.7948 - val_recall: 0.7251\n",
      "Epoch 28/60\n",
      "64/64 [==============================] - 0s 2ms/step - loss: 0.3978 - accuracy: 0.8355 - precision: 0.8180 - recall: 0.7635 - val_loss: 0.4252 - val_accuracy: 0.8156 - val_precision: 0.7628 - val_recall: 0.7689\n",
      "Epoch 29/60\n",
      "64/64 [==============================] - 0s 2ms/step - loss: 0.3941 - accuracy: 0.8313 - precision: 0.8159 - recall: 0.7529 - val_loss: 0.5076 - val_accuracy: 0.7859 - val_precision: 0.8167 - val_recall: 0.5857\n",
      "Epoch 30/60\n",
      "64/64 [==============================] - 0s 2ms/step - loss: 0.3923 - accuracy: 0.8316 - precision: 0.8201 - recall: 0.7481 - val_loss: 0.4351 - val_accuracy: 0.7969 - val_precision: 0.7951 - val_recall: 0.6494\n",
      "Epoch 31/60\n",
      "64/64 [==============================] - 0s 2ms/step - loss: 0.3864 - accuracy: 0.8336 - precision: 0.8184 - recall: 0.7568 - val_loss: 0.4166 - val_accuracy: 0.8188 - val_precision: 0.7778 - val_recall: 0.7530\n",
      "Epoch 32/60\n",
      "64/64 [==============================] - 0s 2ms/step - loss: 0.3813 - accuracy: 0.8340 - precision: 0.8206 - recall: 0.7548 - val_loss: 0.4382 - val_accuracy: 0.7953 - val_precision: 0.7913 - val_recall: 0.6494\n",
      "Epoch 33/60\n",
      "64/64 [==============================] - 0s 2ms/step - loss: 0.3812 - accuracy: 0.8348 - precision: 0.8163 - recall: 0.7635 - val_loss: 0.4156 - val_accuracy: 0.8172 - val_precision: 0.7659 - val_recall: 0.7689\n",
      "Epoch 34/60\n",
      "64/64 [==============================] - 0s 2ms/step - loss: 0.3865 - accuracy: 0.8344 - precision: 0.8110 - recall: 0.7703 - val_loss: 0.4882 - val_accuracy: 0.8219 - val_precision: 0.7231 - val_recall: 0.8845\n",
      "Epoch 35/60\n",
      "64/64 [==============================] - 0s 3ms/step - loss: 0.3919 - accuracy: 0.8316 - precision: 0.8077 - recall: 0.7664 - val_loss: 0.4164 - val_accuracy: 0.8109 - val_precision: 0.7539 - val_recall: 0.7689\n",
      "Epoch 36/60\n",
      "64/64 [==============================] - 0s 3ms/step - loss: 0.3773 - accuracy: 0.8371 - precision: 0.8174 - recall: 0.7693 - val_loss: 0.4131 - val_accuracy: 0.8172 - val_precision: 0.7863 - val_recall: 0.7331\n",
      "Epoch 37/60\n"
     ]
    },
    {
     "name": "stdout",
     "output_type": "stream",
     "text": [
      "64/64 [==============================] - 0s 3ms/step - loss: 0.3771 - accuracy: 0.8344 - precision: 0.8091 - recall: 0.7732 - val_loss: 0.4306 - val_accuracy: 0.8094 - val_precision: 0.7329 - val_recall: 0.8088\n",
      "Epoch 38/60\n",
      "64/64 [==============================] - 0s 3ms/step - loss: 0.3818 - accuracy: 0.8355 - precision: 0.8109 - recall: 0.7741 - val_loss: 0.4222 - val_accuracy: 0.8109 - val_precision: 0.7902 - val_recall: 0.7052\n",
      "Epoch 39/60\n",
      "64/64 [==============================] - 0s 3ms/step - loss: 0.3898 - accuracy: 0.8352 - precision: 0.8052 - recall: 0.7819 - val_loss: 0.4112 - val_accuracy: 0.8219 - val_precision: 0.7842 - val_recall: 0.7530\n",
      "Epoch 40/60\n",
      "64/64 [==============================] - 0s 2ms/step - loss: 0.3827 - accuracy: 0.8316 - precision: 0.8028 - recall: 0.7741 - val_loss: 0.4343 - val_accuracy: 0.8078 - val_precision: 0.7991 - val_recall: 0.6813\n",
      "Epoch 41/60\n",
      "64/64 [==============================] - 0s 2ms/step - loss: 0.3769 - accuracy: 0.8375 - precision: 0.8088 - recall: 0.7838 - val_loss: 0.4080 - val_accuracy: 0.8156 - val_precision: 0.7628 - val_recall: 0.7689\n",
      "Epoch 42/60\n",
      "64/64 [==============================] - 0s 2ms/step - loss: 0.3765 - accuracy: 0.8352 - precision: 0.8040 - recall: 0.7838 - val_loss: 0.4126 - val_accuracy: 0.8188 - val_precision: 0.7872 - val_recall: 0.7371\n",
      "Epoch 43/60\n",
      "64/64 [==============================] - 0s 3ms/step - loss: 0.3773 - accuracy: 0.8383 - precision: 0.8085 - recall: 0.7867 - val_loss: 0.4624 - val_accuracy: 0.8156 - val_precision: 0.7209 - val_recall: 0.8645\n",
      "Epoch 44/60\n",
      "64/64 [==============================] - 0s 2ms/step - loss: 0.3764 - accuracy: 0.8387 - precision: 0.8063 - recall: 0.7915 - val_loss: 0.4068 - val_accuracy: 0.8156 - val_precision: 0.7649 - val_recall: 0.7649\n",
      "Epoch 45/60\n",
      "64/64 [==============================] - 0s 2ms/step - loss: 0.3741 - accuracy: 0.8355 - precision: 0.8066 - recall: 0.7809 - val_loss: 0.4106 - val_accuracy: 0.8219 - val_precision: 0.7842 - val_recall: 0.7530\n",
      "Epoch 46/60\n",
      "64/64 [==============================] - 0s 2ms/step - loss: 0.3738 - accuracy: 0.8402 - precision: 0.8071 - recall: 0.7954 - val_loss: 0.4125 - val_accuracy: 0.8188 - val_precision: 0.7824 - val_recall: 0.7450\n",
      "Epoch 47/60\n",
      "64/64 [==============================] - 0s 3ms/step - loss: 0.3814 - accuracy: 0.8359 - precision: 0.8014 - recall: 0.7905 - val_loss: 0.4058 - val_accuracy: 0.8125 - val_precision: 0.7510 - val_recall: 0.7809\n",
      "Epoch 48/60\n",
      "64/64 [==============================] - 0s 2ms/step - loss: 0.3772 - accuracy: 0.8348 - precision: 0.7996 - recall: 0.7896 - val_loss: 0.4038 - val_accuracy: 0.8109 - val_precision: 0.7539 - val_recall: 0.7689\n",
      "Epoch 49/60\n",
      "64/64 [==============================] - 0s 3ms/step - loss: 0.3761 - accuracy: 0.8391 - precision: 0.8017 - recall: 0.8002 - val_loss: 0.4191 - val_accuracy: 0.8219 - val_precision: 0.7965 - val_recall: 0.7331\n",
      "Epoch 50/60\n",
      "64/64 [==============================] - 0s 3ms/step - loss: 0.3961 - accuracy: 0.8344 - precision: 0.7942 - recall: 0.7973 - val_loss: 0.5109 - val_accuracy: 0.8156 - val_precision: 0.6997 - val_recall: 0.9283\n",
      "Epoch 51/60\n",
      "64/64 [==============================] - 0s 2ms/step - loss: 0.3840 - accuracy: 0.8340 - precision: 0.7963 - recall: 0.7925 - val_loss: 0.4164 - val_accuracy: 0.8109 - val_precision: 0.7338 - val_recall: 0.8127\n",
      "Epoch 52/60\n",
      "64/64 [==============================] - 0s 2ms/step - loss: 0.3682 - accuracy: 0.8402 - precision: 0.8012 - recall: 0.8050 - val_loss: 0.4025 - val_accuracy: 0.8125 - val_precision: 0.7549 - val_recall: 0.7729\n",
      "Epoch 53/60\n",
      "64/64 [==============================] - 0s 2ms/step - loss: 0.3726 - accuracy: 0.8402 - precision: 0.8029 - recall: 0.8021 - val_loss: 0.4026 - val_accuracy: 0.8125 - val_precision: 0.7569 - val_recall: 0.7689\n",
      "Epoch 54/60\n",
      "64/64 [==============================] - 0s 2ms/step - loss: 0.3707 - accuracy: 0.8375 - precision: 0.7975 - recall: 0.8021 - val_loss: 0.4065 - val_accuracy: 0.8156 - val_precision: 0.7671 - val_recall: 0.7610\n",
      "Epoch 55/60\n",
      "64/64 [==============================] - 0s 2ms/step - loss: 0.3932 - accuracy: 0.8375 - precision: 0.7992 - recall: 0.7992 - val_loss: 0.4009 - val_accuracy: 0.8125 - val_precision: 0.7569 - val_recall: 0.7689\n",
      "Epoch 56/60\n",
      "64/64 [==============================] - 0s 2ms/step - loss: 0.3759 - accuracy: 0.8430 - precision: 0.8036 - recall: 0.8098 - val_loss: 0.4078 - val_accuracy: 0.8234 - val_precision: 0.7851 - val_recall: 0.7570\n",
      "Epoch 57/60\n",
      "64/64 [==============================] - 0s 2ms/step - loss: 0.3651 - accuracy: 0.8379 - precision: 0.8000 - recall: 0.7992 - val_loss: 0.4060 - val_accuracy: 0.8156 - val_precision: 0.7649 - val_recall: 0.7649\n",
      "Epoch 58/60\n",
      "64/64 [==============================] - 0s 2ms/step - loss: 0.3769 - accuracy: 0.8426 - precision: 0.8046 - recall: 0.8069 - val_loss: 0.4000 - val_accuracy: 0.8125 - val_precision: 0.7529 - val_recall: 0.7769\n",
      "Epoch 59/60\n",
      "64/64 [==============================] - 0s 2ms/step - loss: 0.3685 - accuracy: 0.8402 - precision: 0.8041 - recall: 0.8002 - val_loss: 0.4092 - val_accuracy: 0.8172 - val_precision: 0.7702 - val_recall: 0.7610\n",
      "Epoch 60/60\n",
      "64/64 [==============================] - 0s 2ms/step - loss: 0.3661 - accuracy: 0.8434 - precision: 0.8044 - recall: 0.8098 - val_loss: 0.4017 - val_accuracy: 0.8125 - val_precision: 0.7453 - val_recall: 0.7928\n",
      "20/20 [==============================] - 0s 1ms/step\n"
     ]
    },
    {
     "name": "stderr",
     "output_type": "stream",
     "text": [
      "WARNING:absl:Found untraced functions such as _update_step_xla while saving (showing 1 of 1). These functions will not be directly callable after loading.\n"
     ]
    },
    {
     "name": "stdout",
     "output_type": "stream",
     "text": [
      "INFO:tensorflow:Assets written to: C:\\Users\\jmbar\\AppData\\Local\\Temp\\tmpy9e2txq4\\assets\n"
     ]
    },
    {
     "name": "stderr",
     "output_type": "stream",
     "text": [
      "INFO:tensorflow:Assets written to: C:\\Users\\jmbar\\AppData\\Local\\Temp\\tmpy9e2txq4\\assets\n"
     ]
    },
    {
     "name": "stdout",
     "output_type": "stream",
     "text": [
      "Epoch 1/60\n",
      "64/64 [==============================] - 1s 6ms/step - loss: 0.6758 - accuracy: 0.5875 - precision: 0.3250 - recall: 0.0253 - val_loss: 0.6794 - val_accuracy: 0.5844 - val_precision: 0.0000e+00 - val_recall: 0.0000e+00\n",
      "Epoch 2/60\n",
      "64/64 [==============================] - 0s 2ms/step - loss: 0.6744 - accuracy: 0.5984 - precision: 0.0000e+00 - recall: 0.0000e+00 - val_loss: 0.6789 - val_accuracy: 0.5844 - val_precision: 0.0000e+00 - val_recall: 0.0000e+00\n",
      "Epoch 3/60\n",
      "64/64 [==============================] - 0s 2ms/step - loss: 0.6743 - accuracy: 0.5984 - precision: 0.0000e+00 - recall: 0.0000e+00 - val_loss: 0.6790 - val_accuracy: 0.5844 - val_precision: 0.0000e+00 - val_recall: 0.0000e+00\n",
      "Epoch 4/60\n",
      "64/64 [==============================] - 0s 2ms/step - loss: 0.6740 - accuracy: 0.5984 - precision: 0.0000e+00 - recall: 0.0000e+00 - val_loss: 0.6828 - val_accuracy: 0.5844 - val_precision: 0.0000e+00 - val_recall: 0.0000e+00\n",
      "Epoch 5/60\n",
      "64/64 [==============================] - 0s 2ms/step - loss: 0.6750 - accuracy: 0.5984 - precision: 0.0000e+00 - recall: 0.0000e+00 - val_loss: 0.6776 - val_accuracy: 0.5844 - val_precision: 0.0000e+00 - val_recall: 0.0000e+00\n",
      "Epoch 6/60\n",
      "64/64 [==============================] - 0s 2ms/step - loss: 0.6726 - accuracy: 0.5984 - precision: 0.0000e+00 - recall: 0.0000e+00 - val_loss: 0.6835 - val_accuracy: 0.5922 - val_precision: 1.0000 - val_recall: 0.0188\n",
      "Epoch 7/60\n",
      "64/64 [==============================] - 0s 2ms/step - loss: 0.6714 - accuracy: 0.5992 - precision: 1.0000 - recall: 0.0019 - val_loss: 0.6744 - val_accuracy: 0.5859 - val_precision: 1.0000 - val_recall: 0.0038\n",
      "Epoch 8/60\n",
      "64/64 [==============================] - 0s 2ms/step - loss: 0.6651 - accuracy: 0.6066 - precision: 1.0000 - recall: 0.0204 - val_loss: 0.6756 - val_accuracy: 0.5922 - val_precision: 1.0000 - val_recall: 0.0188\n",
      "Epoch 9/60\n",
      "64/64 [==============================] - 0s 2ms/step - loss: 0.6493 - accuracy: 0.6297 - precision: 0.9545 - recall: 0.0817 - val_loss: 0.6463 - val_accuracy: 0.6156 - val_precision: 0.9167 - val_recall: 0.0827\n",
      "Epoch 10/60\n",
      "64/64 [==============================] - 0s 2ms/step - loss: 0.6181 - accuracy: 0.6723 - precision: 0.9522 - recall: 0.1936 - val_loss: 0.6149 - val_accuracy: 0.6438 - val_precision: 0.8958 - val_recall: 0.1617\n",
      "Epoch 11/60\n",
      "64/64 [==============================] - 0s 2ms/step - loss: 0.5724 - accuracy: 0.7109 - precision: 0.8144 - recall: 0.3628 - val_loss: 0.6266 - val_accuracy: 0.5469 - val_precision: 0.4784 - val_recall: 1.0000\n",
      "Epoch 12/60\n",
      "64/64 [==============================] - 0s 2ms/step - loss: 0.5399 - accuracy: 0.7391 - precision: 0.7951 - recall: 0.4718 - val_loss: 0.5599 - val_accuracy: 0.8281 - val_precision: 0.8000 - val_recall: 0.7820\n",
      "Epoch 13/60\n",
      "64/64 [==============================] - 0s 2ms/step - loss: 0.4967 - accuracy: 0.7812 - precision: 0.8703 - recall: 0.5350 - val_loss: 0.5022 - val_accuracy: 0.7484 - val_precision: 0.8621 - val_recall: 0.4699\n",
      "Epoch 14/60\n",
      "64/64 [==============================] - 0s 2ms/step - loss: 0.4688 - accuracy: 0.7902 - precision: 0.8648 - recall: 0.5661 - val_loss: 0.4753 - val_accuracy: 0.7719 - val_precision: 0.8409 - val_recall: 0.5564\n",
      "Epoch 15/60\n",
      "64/64 [==============================] - 0s 2ms/step - loss: 0.4440 - accuracy: 0.8012 - precision: 0.8493 - recall: 0.6138 - val_loss: 0.4740 - val_accuracy: 0.7719 - val_precision: 0.8448 - val_recall: 0.5526\n",
      "Epoch 16/60\n",
      "64/64 [==============================] - 0s 2ms/step - loss: 0.4337 - accuracy: 0.8082 - precision: 0.8352 - recall: 0.6508 - val_loss: 0.5852 - val_accuracy: 0.7453 - val_precision: 0.8705 - val_recall: 0.4549\n",
      "Epoch 17/60\n",
      "64/64 [==============================] - 0s 2ms/step - loss: 0.4446 - accuracy: 0.8098 - precision: 0.8247 - recall: 0.6683 - val_loss: 0.4487 - val_accuracy: 0.7844 - val_precision: 0.8200 - val_recall: 0.6165\n",
      "Epoch 18/60\n",
      "64/64 [==============================] - 0s 2ms/step - loss: 0.4301 - accuracy: 0.8176 - precision: 0.8343 - recall: 0.6809 - val_loss: 0.5685 - val_accuracy: 0.7531 - val_precision: 0.8600 - val_recall: 0.4850\n",
      "Epoch 19/60\n",
      "64/64 [==============================] - 0s 2ms/step - loss: 0.4257 - accuracy: 0.8141 - precision: 0.8278 - recall: 0.6780 - val_loss: 0.4368 - val_accuracy: 0.8094 - val_precision: 0.8158 - val_recall: 0.6992\n",
      "Epoch 20/60\n",
      "64/64 [==============================] - 0s 2ms/step - loss: 0.4057 - accuracy: 0.8227 - precision: 0.8314 - recall: 0.7004 - val_loss: 0.4545 - val_accuracy: 0.8281 - val_precision: 0.7889 - val_recall: 0.8008\n",
      "Epoch 21/60\n",
      "64/64 [==============================] - 0s 2ms/step - loss: 0.4157 - accuracy: 0.8230 - precision: 0.8278 - recall: 0.7062 - val_loss: 0.4316 - val_accuracy: 0.7984 - val_precision: 0.8186 - val_recall: 0.6617\n",
      "Epoch 22/60\n",
      "64/64 [==============================] - 0s 2ms/step - loss: 0.4009 - accuracy: 0.8250 - precision: 0.8273 - recall: 0.7130 - val_loss: 0.4333 - val_accuracy: 0.7922 - val_precision: 0.8152 - val_recall: 0.6466\n",
      "Epoch 23/60\n",
      "64/64 [==============================] - 0s 2ms/step - loss: 0.4120 - accuracy: 0.8266 - precision: 0.8216 - recall: 0.7257 - val_loss: 0.4310 - val_accuracy: 0.7969 - val_precision: 0.8178 - val_recall: 0.6579\n",
      "Epoch 24/60\n",
      "64/64 [==============================] - 0s 2ms/step - loss: 0.3998 - accuracy: 0.8242 - precision: 0.8197 - recall: 0.7208 - val_loss: 0.4520 - val_accuracy: 0.7859 - val_precision: 0.8209 - val_recall: 0.6203\n",
      "Epoch 25/60\n",
      "64/64 [==============================] - 0s 2ms/step - loss: 0.3933 - accuracy: 0.8293 - precision: 0.8195 - recall: 0.7374 - val_loss: 0.4290 - val_accuracy: 0.8000 - val_precision: 0.8194 - val_recall: 0.6654\n",
      "Epoch 26/60\n",
      "64/64 [==============================] - 0s 2ms/step - loss: 0.3961 - accuracy: 0.8281 - precision: 0.8196 - recall: 0.7335 - val_loss: 0.4165 - val_accuracy: 0.8250 - val_precision: 0.8156 - val_recall: 0.7481\n",
      "Epoch 27/60\n",
      "64/64 [==============================] - 0s 2ms/step - loss: 0.3966 - accuracy: 0.8289 - precision: 0.8112 - recall: 0.7481 - val_loss: 0.4408 - val_accuracy: 0.7937 - val_precision: 0.8190 - val_recall: 0.6466\n",
      "Epoch 28/60\n",
      "64/64 [==============================] - 0s 2ms/step - loss: 0.4175 - accuracy: 0.8230 - precision: 0.8055 - recall: 0.7374 - val_loss: 0.5470 - val_accuracy: 0.7781 - val_precision: 0.8407 - val_recall: 0.5752\n",
      "Epoch 29/60\n",
      "64/64 [==============================] - 0s 2ms/step - loss: 0.4257 - accuracy: 0.8234 - precision: 0.8103 - recall: 0.7315 - val_loss: 0.4139 - val_accuracy: 0.8172 - val_precision: 0.8170 - val_recall: 0.7218\n",
      "Epoch 30/60\n",
      "64/64 [==============================] - 0s 2ms/step - loss: 0.3894 - accuracy: 0.8297 - precision: 0.8142 - recall: 0.7461 - val_loss: 0.4109 - val_accuracy: 0.8266 - val_precision: 0.8063 - val_recall: 0.7669\n",
      "Epoch 31/60\n",
      "64/64 [==============================] - 0s 2ms/step - loss: 0.3901 - accuracy: 0.8285 - precision: 0.8136 - recall: 0.7432 - val_loss: 0.4109 - val_accuracy: 0.8297 - val_precision: 0.7962 - val_recall: 0.7932\n",
      "Epoch 32/60\n",
      "64/64 [==============================] - 0s 2ms/step - loss: 0.4081 - accuracy: 0.8270 - precision: 0.8089 - recall: 0.7451 - val_loss: 0.4410 - val_accuracy: 0.8219 - val_precision: 0.7621 - val_recall: 0.8308\n",
      "Epoch 33/60\n",
      "64/64 [==============================] - 0s 2ms/step - loss: 0.3858 - accuracy: 0.8301 - precision: 0.8060 - recall: 0.7597 - val_loss: 0.4343 - val_accuracy: 0.7984 - val_precision: 0.8157 - val_recall: 0.6654\n",
      "Epoch 34/60\n",
      "64/64 [==============================] - 0s 2ms/step - loss: 0.3909 - accuracy: 0.8320 - precision: 0.8167 - recall: 0.7500 - val_loss: 0.4519 - val_accuracy: 0.8266 - val_precision: 0.7609 - val_recall: 0.8496\n",
      "Epoch 35/60\n",
      "64/64 [==============================] - 0s 2ms/step - loss: 0.3915 - accuracy: 0.8340 - precision: 0.8067 - recall: 0.7714 - val_loss: 0.4187 - val_accuracy: 0.8125 - val_precision: 0.8174 - val_recall: 0.7068\n",
      "Epoch 36/60\n",
      "64/64 [==============================] - 0s 2ms/step - loss: 0.3846 - accuracy: 0.8320 - precision: 0.8128 - recall: 0.7558 - val_loss: 0.4188 - val_accuracy: 0.8141 - val_precision: 0.8182 - val_recall: 0.7105\n",
      "Epoch 37/60\n"
     ]
    },
    {
     "name": "stdout",
     "output_type": "stream",
     "text": [
      "64/64 [==============================] - 0s 2ms/step - loss: 0.3821 - accuracy: 0.8328 - precision: 0.8086 - recall: 0.7646 - val_loss: 0.4115 - val_accuracy: 0.8203 - val_precision: 0.8186 - val_recall: 0.7293\n",
      "Epoch 38/60\n",
      "64/64 [==============================] - 0s 2ms/step - loss: 0.3830 - accuracy: 0.8324 - precision: 0.8072 - recall: 0.7656 - val_loss: 0.4054 - val_accuracy: 0.8281 - val_precision: 0.8120 - val_recall: 0.7632\n",
      "Epoch 39/60\n",
      "64/64 [==============================] - 0s 2ms/step - loss: 0.3788 - accuracy: 0.8344 - precision: 0.8063 - recall: 0.7733 - val_loss: 0.4014 - val_accuracy: 0.8281 - val_precision: 0.7932 - val_recall: 0.7932\n",
      "Epoch 40/60\n",
      "64/64 [==============================] - 0s 2ms/step - loss: 0.3889 - accuracy: 0.8316 - precision: 0.8068 - recall: 0.7636 - val_loss: 0.4005 - val_accuracy: 0.8281 - val_precision: 0.7932 - val_recall: 0.7932\n",
      "Epoch 41/60\n",
      "64/64 [==============================] - 0s 2ms/step - loss: 0.4014 - accuracy: 0.8324 - precision: 0.8022 - recall: 0.7733 - val_loss: 0.4238 - val_accuracy: 0.8219 - val_precision: 0.7621 - val_recall: 0.8308\n",
      "Epoch 42/60\n",
      "64/64 [==============================] - 0s 2ms/step - loss: 0.3893 - accuracy: 0.8316 - precision: 0.8018 - recall: 0.7714 - val_loss: 0.4061 - val_accuracy: 0.8250 - val_precision: 0.7770 - val_recall: 0.8120\n",
      "Epoch 43/60\n",
      "64/64 [==============================] - 0s 2ms/step - loss: 0.3808 - accuracy: 0.8418 - precision: 0.8124 - recall: 0.7879 - val_loss: 0.4215 - val_accuracy: 0.8172 - val_precision: 0.8170 - val_recall: 0.7218\n",
      "Epoch 44/60\n",
      "64/64 [==============================] - 0s 2ms/step - loss: 0.3756 - accuracy: 0.8371 - precision: 0.8083 - recall: 0.7792 - val_loss: 0.4004 - val_accuracy: 0.8297 - val_precision: 0.8008 - val_recall: 0.7857\n",
      "Epoch 45/60\n",
      "64/64 [==============================] - 0s 2ms/step - loss: 0.3823 - accuracy: 0.8340 - precision: 0.8018 - recall: 0.7792 - val_loss: 0.4308 - val_accuracy: 0.8125 - val_precision: 0.8174 - val_recall: 0.7068\n",
      "Epoch 46/60\n",
      "64/64 [==============================] - 0s 2ms/step - loss: 0.3797 - accuracy: 0.8363 - precision: 0.8030 - recall: 0.7850 - val_loss: 0.3983 - val_accuracy: 0.8297 - val_precision: 0.7962 - val_recall: 0.7932\n",
      "Epoch 47/60\n",
      "64/64 [==============================] - 0s 2ms/step - loss: 0.3796 - accuracy: 0.8348 - precision: 0.7998 - recall: 0.7850 - val_loss: 0.3959 - val_accuracy: 0.8250 - val_precision: 0.7873 - val_recall: 0.7932\n",
      "Epoch 48/60\n",
      "64/64 [==============================] - 0s 2ms/step - loss: 0.3758 - accuracy: 0.8352 - precision: 0.7994 - recall: 0.7870 - val_loss: 0.3956 - val_accuracy: 0.8250 - val_precision: 0.7873 - val_recall: 0.7932\n",
      "Epoch 49/60\n",
      "64/64 [==============================] - 0s 2ms/step - loss: 0.3763 - accuracy: 0.8391 - precision: 0.8026 - recall: 0.7947 - val_loss: 0.4156 - val_accuracy: 0.8250 - val_precision: 0.8182 - val_recall: 0.7444\n",
      "Epoch 50/60\n",
      "64/64 [==============================] - 0s 2ms/step - loss: 0.3794 - accuracy: 0.8348 - precision: 0.7998 - recall: 0.7850 - val_loss: 0.3989 - val_accuracy: 0.8297 - val_precision: 0.7962 - val_recall: 0.7932\n",
      "Epoch 51/60\n",
      "64/64 [==============================] - 0s 2ms/step - loss: 0.3742 - accuracy: 0.8367 - precision: 0.8020 - recall: 0.7879 - val_loss: 0.3938 - val_accuracy: 0.8250 - val_precision: 0.7852 - val_recall: 0.7970\n",
      "Epoch 52/60\n",
      "64/64 [==============================] - 0s 2ms/step - loss: 0.3864 - accuracy: 0.8410 - precision: 0.8017 - recall: 0.8025 - val_loss: 0.4880 - val_accuracy: 0.8266 - val_precision: 0.7259 - val_recall: 0.9361\n",
      "Epoch 53/60\n",
      "64/64 [==============================] - 0s 2ms/step - loss: 0.4174 - accuracy: 0.8316 - precision: 0.7918 - recall: 0.7879 - val_loss: 0.4253 - val_accuracy: 0.8172 - val_precision: 0.8170 - val_recall: 0.7218\n",
      "Epoch 54/60\n",
      "64/64 [==============================] - 0s 2ms/step - loss: 0.3843 - accuracy: 0.8391 - precision: 0.8026 - recall: 0.7947 - val_loss: 0.3962 - val_accuracy: 0.8234 - val_precision: 0.7742 - val_recall: 0.8120\n",
      "Epoch 55/60\n",
      "64/64 [==============================] - 0s 2ms/step - loss: 0.3720 - accuracy: 0.8398 - precision: 0.8035 - recall: 0.7957 - val_loss: 0.4107 - val_accuracy: 0.8234 - val_precision: 0.7611 - val_recall: 0.8383\n",
      "Epoch 56/60\n",
      "64/64 [==============================] - 0s 2ms/step - loss: 0.3726 - accuracy: 0.8383 - precision: 0.7975 - recall: 0.8006 - val_loss: 0.3944 - val_accuracy: 0.8250 - val_precision: 0.7750 - val_recall: 0.8158\n",
      "Epoch 57/60\n",
      "64/64 [==============================] - 0s 2ms/step - loss: 0.3722 - accuracy: 0.8395 - precision: 0.8027 - recall: 0.7957 - val_loss: 0.4067 - val_accuracy: 0.8297 - val_precision: 0.8103 - val_recall: 0.7707\n",
      "Epoch 58/60\n",
      "64/64 [==============================] - 0s 2ms/step - loss: 0.3708 - accuracy: 0.8387 - precision: 0.7971 - recall: 0.8025 - val_loss: 0.4222 - val_accuracy: 0.8234 - val_precision: 0.8148 - val_recall: 0.7444\n",
      "Epoch 59/60\n",
      "64/64 [==============================] - 0s 2ms/step - loss: 0.3781 - accuracy: 0.8355 - precision: 0.7899 - recall: 0.8045 - val_loss: 0.3921 - val_accuracy: 0.8250 - val_precision: 0.7852 - val_recall: 0.7970\n",
      "Epoch 60/60\n",
      "64/64 [==============================] - 0s 2ms/step - loss: 0.3755 - accuracy: 0.8340 - precision: 0.7941 - recall: 0.7918 - val_loss: 0.3929 - val_accuracy: 0.8203 - val_precision: 0.7668 - val_recall: 0.8158\n",
      "20/20 [==============================] - 0s 1ms/step\n"
     ]
    },
    {
     "name": "stderr",
     "output_type": "stream",
     "text": [
      "WARNING:absl:Found untraced functions such as _update_step_xla while saving (showing 1 of 1). These functions will not be directly callable after loading.\n"
     ]
    },
    {
     "name": "stdout",
     "output_type": "stream",
     "text": [
      "INFO:tensorflow:Assets written to: C:\\Users\\jmbar\\AppData\\Local\\Temp\\tmpw2yzpy8v\\assets\n"
     ]
    },
    {
     "name": "stderr",
     "output_type": "stream",
     "text": [
      "INFO:tensorflow:Assets written to: C:\\Users\\jmbar\\AppData\\Local\\Temp\\tmpw2yzpy8v\\assets\n"
     ]
    },
    {
     "name": "stdout",
     "output_type": "stream",
     "text": [
      "Epoch 1/60\n",
      "64/64 [==============================] - 1s 6ms/step - loss: 0.6813 - accuracy: 0.5926 - precision: 0.0000e+00 - recall: 0.0000e+00 - val_loss: 0.6797 - val_accuracy: 0.5859 - val_precision: 0.0000e+00 - val_recall: 0.0000e+00\n",
      "Epoch 2/60\n",
      "64/64 [==============================] - 0s 2ms/step - loss: 0.6766 - accuracy: 0.5926 - precision: 0.0000e+00 - recall: 0.0000e+00 - val_loss: 0.6787 - val_accuracy: 0.5859 - val_precision: 0.0000e+00 - val_recall: 0.0000e+00\n",
      "Epoch 3/60\n",
      "64/64 [==============================] - 0s 2ms/step - loss: 0.6769 - accuracy: 0.5926 - precision: 0.0000e+00 - recall: 0.0000e+00 - val_loss: 0.6778 - val_accuracy: 0.5859 - val_precision: 0.0000e+00 - val_recall: 0.0000e+00\n",
      "Epoch 4/60\n",
      "64/64 [==============================] - 0s 2ms/step - loss: 0.6766 - accuracy: 0.5926 - precision: 0.0000e+00 - recall: 0.0000e+00 - val_loss: 0.6825 - val_accuracy: 0.5859 - val_precision: 0.0000e+00 - val_recall: 0.0000e+00\n",
      "Epoch 5/60\n",
      "64/64 [==============================] - 0s 2ms/step - loss: 0.6767 - accuracy: 0.5926 - precision: 0.0000e+00 - recall: 0.0000e+00 - val_loss: 0.6799 - val_accuracy: 0.5859 - val_precision: 0.0000e+00 - val_recall: 0.0000e+00\n",
      "Epoch 6/60\n",
      "64/64 [==============================] - 0s 2ms/step - loss: 0.6749 - accuracy: 0.5926 - precision: 0.0000e+00 - recall: 0.0000e+00 - val_loss: 0.6751 - val_accuracy: 0.5859 - val_precision: 0.0000e+00 - val_recall: 0.0000e+00\n",
      "Epoch 7/60\n",
      "64/64 [==============================] - 0s 2ms/step - loss: 0.6699 - accuracy: 0.5961 - precision: 1.0000 - recall: 0.0086 - val_loss: 0.6739 - val_accuracy: 0.5906 - val_precision: 1.0000 - val_recall: 0.0113\n",
      "Epoch 8/60\n",
      "64/64 [==============================] - 0s 2ms/step - loss: 0.6614 - accuracy: 0.6125 - precision: 1.0000 - recall: 0.0489 - val_loss: 0.6547 - val_accuracy: 0.6062 - val_precision: 0.9333 - val_recall: 0.0528\n",
      "Epoch 9/60\n",
      "64/64 [==============================] - 0s 2ms/step - loss: 0.6423 - accuracy: 0.6410 - precision: 0.9306 - recall: 0.1285 - val_loss: 0.6335 - val_accuracy: 0.6281 - val_precision: 0.9091 - val_recall: 0.1132\n",
      "Epoch 10/60\n",
      "64/64 [==============================] - 0s 2ms/step - loss: 0.6036 - accuracy: 0.6879 - precision: 0.9296 - recall: 0.2531 - val_loss: 0.5972 - val_accuracy: 0.6625 - val_precision: 0.8889 - val_recall: 0.2113\n",
      "Epoch 11/60\n",
      "64/64 [==============================] - 0s 2ms/step - loss: 0.5440 - accuracy: 0.7379 - precision: 0.8991 - recall: 0.4017 - val_loss: 0.5316 - val_accuracy: 0.7688 - val_precision: 0.8503 - val_recall: 0.5358\n",
      "Epoch 12/60\n",
      "64/64 [==============================] - 0s 2ms/step - loss: 0.4898 - accuracy: 0.7750 - precision: 0.8736 - recall: 0.5235 - val_loss: 0.4873 - val_accuracy: 0.7688 - val_precision: 0.8503 - val_recall: 0.5358\n",
      "Epoch 13/60\n",
      "64/64 [==============================] - 0s 2ms/step - loss: 0.4652 - accuracy: 0.7902 - precision: 0.8635 - recall: 0.5762 - val_loss: 0.4702 - val_accuracy: 0.7828 - val_precision: 0.8539 - val_recall: 0.5736\n",
      "Epoch 14/60\n",
      "64/64 [==============================] - 0s 2ms/step - loss: 0.4426 - accuracy: 0.8078 - precision: 0.8492 - recall: 0.6424 - val_loss: 0.4596 - val_accuracy: 0.7875 - val_precision: 0.8413 - val_recall: 0.6000\n",
      "Epoch 15/60\n",
      "64/64 [==============================] - 0s 2ms/step - loss: 0.4413 - accuracy: 0.8078 - precision: 0.8405 - recall: 0.6520 - val_loss: 0.4565 - val_accuracy: 0.8109 - val_precision: 0.8103 - val_recall: 0.7094\n",
      "Epoch 16/60\n",
      "64/64 [==============================] - 0s 2ms/step - loss: 0.4372 - accuracy: 0.8137 - precision: 0.8361 - recall: 0.6750 - val_loss: 0.4509 - val_accuracy: 0.7891 - val_precision: 0.8316 - val_recall: 0.6151\n",
      "Epoch 17/60\n",
      "64/64 [==============================] - 0s 2ms/step - loss: 0.4143 - accuracy: 0.8105 - precision: 0.8222 - recall: 0.6826 - val_loss: 0.4496 - val_accuracy: 0.7875 - val_precision: 0.8274 - val_recall: 0.6151\n",
      "Epoch 18/60\n",
      "64/64 [==============================] - 0s 2ms/step - loss: 0.4075 - accuracy: 0.8223 - precision: 0.8341 - recall: 0.7037 - val_loss: 0.4367 - val_accuracy: 0.8109 - val_precision: 0.8103 - val_recall: 0.7094\n",
      "Epoch 19/60\n",
      "64/64 [==============================] - 0s 2ms/step - loss: 0.4101 - accuracy: 0.8238 - precision: 0.8260 - recall: 0.7191 - val_loss: 0.4573 - val_accuracy: 0.7891 - val_precision: 0.8316 - val_recall: 0.6151\n",
      "Epoch 20/60\n",
      "64/64 [==============================] - 0s 2ms/step - loss: 0.4171 - accuracy: 0.8199 - precision: 0.8212 - recall: 0.7133 - val_loss: 0.4395 - val_accuracy: 0.8156 - val_precision: 0.7860 - val_recall: 0.7623\n",
      "Epoch 21/60\n",
      "64/64 [==============================] - 0s 2ms/step - loss: 0.4054 - accuracy: 0.8250 - precision: 0.8287 - recall: 0.7191 - val_loss: 0.4428 - val_accuracy: 0.7906 - val_precision: 0.8227 - val_recall: 0.6302\n",
      "Epoch 22/60\n",
      "64/64 [==============================] - 0s 2ms/step - loss: 0.4109 - accuracy: 0.8234 - precision: 0.8195 - recall: 0.7267 - val_loss: 0.4792 - val_accuracy: 0.7875 - val_precision: 0.8413 - val_recall: 0.6000\n",
      "Epoch 23/60\n",
      "64/64 [==============================] - 0s 2ms/step - loss: 0.4248 - accuracy: 0.8246 - precision: 0.8180 - recall: 0.7325 - val_loss: 0.4360 - val_accuracy: 0.7906 - val_precision: 0.8227 - val_recall: 0.6302\n",
      "Epoch 24/60\n",
      "64/64 [==============================] - 0s 2ms/step - loss: 0.4024 - accuracy: 0.8277 - precision: 0.8230 - recall: 0.7354 - val_loss: 0.4260 - val_accuracy: 0.8141 - val_precision: 0.7852 - val_recall: 0.7585\n",
      "Epoch 25/60\n",
      "64/64 [==============================] - 0s 2ms/step - loss: 0.3955 - accuracy: 0.8332 - precision: 0.8215 - recall: 0.7546 - val_loss: 0.4219 - val_accuracy: 0.8062 - val_precision: 0.8133 - val_recall: 0.6906\n",
      "Epoch 26/60\n",
      "64/64 [==============================] - 0s 2ms/step - loss: 0.3898 - accuracy: 0.8277 - precision: 0.8175 - recall: 0.7430 - val_loss: 0.4213 - val_accuracy: 0.8047 - val_precision: 0.8097 - val_recall: 0.6906\n",
      "Epoch 27/60\n",
      "64/64 [==============================] - 0s 2ms/step - loss: 0.4013 - accuracy: 0.8258 - precision: 0.8106 - recall: 0.7469 - val_loss: 0.5256 - val_accuracy: 0.7891 - val_precision: 0.8571 - val_recall: 0.5887\n",
      "Epoch 28/60\n",
      "64/64 [==============================] - 0s 2ms/step - loss: 0.4130 - accuracy: 0.8203 - precision: 0.8091 - recall: 0.7315 - val_loss: 0.4137 - val_accuracy: 0.8172 - val_precision: 0.8109 - val_recall: 0.7283\n",
      "Epoch 29/60\n",
      "64/64 [==============================] - 0s 2ms/step - loss: 0.3893 - accuracy: 0.8328 - precision: 0.8160 - recall: 0.7613 - val_loss: 0.4123 - val_accuracy: 0.8156 - val_precision: 0.7952 - val_recall: 0.7472\n",
      "Epoch 30/60\n",
      "64/64 [==============================] - 0s 2ms/step - loss: 0.3896 - accuracy: 0.8289 - precision: 0.8128 - recall: 0.7536 - val_loss: 0.4170 - val_accuracy: 0.8125 - val_precision: 0.7778 - val_recall: 0.7660\n",
      "Epoch 31/60\n",
      "64/64 [==============================] - 0s 3ms/step - loss: 0.3968 - accuracy: 0.8309 - precision: 0.8100 - recall: 0.7641 - val_loss: 0.4095 - val_accuracy: 0.8156 - val_precision: 0.7952 - val_recall: 0.7472\n",
      "Epoch 32/60\n",
      "64/64 [==============================] - 0s 2ms/step - loss: 0.3974 - accuracy: 0.8262 - precision: 0.8102 - recall: 0.7488 - val_loss: 0.4083 - val_accuracy: 0.8156 - val_precision: 0.7952 - val_recall: 0.7472\n",
      "Epoch 33/60\n",
      "64/64 [==============================] - 0s 2ms/step - loss: 0.3865 - accuracy: 0.8313 - precision: 0.8108 - recall: 0.7641 - val_loss: 0.4178 - val_accuracy: 0.8094 - val_precision: 0.8095 - val_recall: 0.7057\n",
      "Epoch 34/60\n",
      "64/64 [==============================] - 0s 2ms/step - loss: 0.3936 - accuracy: 0.8316 - precision: 0.8097 - recall: 0.7670 - val_loss: 0.4076 - val_accuracy: 0.8125 - val_precision: 0.7778 - val_recall: 0.7660\n",
      "Epoch 35/60\n",
      "64/64 [==============================] - 0s 2ms/step - loss: 0.4021 - accuracy: 0.8309 - precision: 0.8038 - recall: 0.7737 - val_loss: 0.4122 - val_accuracy: 0.8141 - val_precision: 0.8093 - val_recall: 0.7208\n",
      "Epoch 36/60\n",
      "64/64 [==============================] - 0s 2ms/step - loss: 0.3900 - accuracy: 0.8336 - precision: 0.8107 - recall: 0.7718 - val_loss: 0.4046 - val_accuracy: 0.8156 - val_precision: 0.7928 - val_recall: 0.7509\n",
      "Epoch 37/60\n"
     ]
    },
    {
     "name": "stdout",
     "output_type": "stream",
     "text": [
      "64/64 [==============================] - 0s 3ms/step - loss: 0.3840 - accuracy: 0.8324 - precision: 0.8052 - recall: 0.7766 - val_loss: 0.4063 - val_accuracy: 0.8172 - val_precision: 0.8033 - val_recall: 0.7396\n",
      "Epoch 38/60\n",
      "64/64 [==============================] - 0s 2ms/step - loss: 0.3830 - accuracy: 0.8328 - precision: 0.8066 - recall: 0.7756 - val_loss: 0.4054 - val_accuracy: 0.8156 - val_precision: 0.7795 - val_recall: 0.7736\n",
      "Epoch 39/60\n",
      "64/64 [==============================] - 0s 2ms/step - loss: 0.3813 - accuracy: 0.8336 - precision: 0.8057 - recall: 0.7795 - val_loss: 0.4128 - val_accuracy: 0.8156 - val_precision: 0.8101 - val_recall: 0.7245\n",
      "Epoch 40/60\n",
      "64/64 [==============================] - 0s 2ms/step - loss: 0.3886 - accuracy: 0.8320 - precision: 0.8038 - recall: 0.7776 - val_loss: 0.4166 - val_accuracy: 0.8172 - val_precision: 0.7643 - val_recall: 0.8075\n",
      "Epoch 41/60\n",
      "64/64 [==============================] - 0s 2ms/step - loss: 0.3790 - accuracy: 0.8367 - precision: 0.8061 - recall: 0.7891 - val_loss: 0.4021 - val_accuracy: 0.8172 - val_precision: 0.7803 - val_recall: 0.7774\n",
      "Epoch 42/60\n",
      "64/64 [==============================] - 0s 2ms/step - loss: 0.3848 - accuracy: 0.8320 - precision: 0.7996 - recall: 0.7843 - val_loss: 0.3997 - val_accuracy: 0.8156 - val_precision: 0.7838 - val_recall: 0.7660\n",
      "Epoch 43/60\n",
      "64/64 [==============================] - 0s 2ms/step - loss: 0.3955 - accuracy: 0.8379 - precision: 0.8037 - recall: 0.7967 - val_loss: 0.4058 - val_accuracy: 0.8188 - val_precision: 0.8066 - val_recall: 0.7396\n",
      "Epoch 44/60\n",
      "64/64 [==============================] - 0s 2ms/step - loss: 0.3883 - accuracy: 0.8395 - precision: 0.8062 - recall: 0.7977 - val_loss: 0.4075 - val_accuracy: 0.8172 - val_precision: 0.7662 - val_recall: 0.8038\n",
      "Epoch 45/60\n",
      "64/64 [==============================] - 0s 2ms/step - loss: 0.4023 - accuracy: 0.8270 - precision: 0.7947 - recall: 0.7756 - val_loss: 0.4009 - val_accuracy: 0.8156 - val_precision: 0.7952 - val_recall: 0.7472\n",
      "Epoch 46/60\n",
      "64/64 [==============================] - 0s 2ms/step - loss: 0.3785 - accuracy: 0.8352 - precision: 0.8047 - recall: 0.7862 - val_loss: 0.4060 - val_accuracy: 0.8188 - val_precision: 0.7670 - val_recall: 0.8075\n",
      "Epoch 47/60\n",
      "64/64 [==============================] - 0s 2ms/step - loss: 0.3813 - accuracy: 0.8375 - precision: 0.8035 - recall: 0.7958 - val_loss: 0.3972 - val_accuracy: 0.8172 - val_precision: 0.7803 - val_recall: 0.7774\n",
      "Epoch 48/60\n",
      "64/64 [==============================] - 0s 2ms/step - loss: 0.3751 - accuracy: 0.8371 - precision: 0.8015 - recall: 0.7977 - val_loss: 0.4514 - val_accuracy: 0.8078 - val_precision: 0.8170 - val_recall: 0.6906\n",
      "Epoch 49/60\n",
      "64/64 [==============================] - 0s 2ms/step - loss: 0.3750 - accuracy: 0.8320 - precision: 0.7979 - recall: 0.7872 - val_loss: 0.4167 - val_accuracy: 0.8188 - val_precision: 0.8117 - val_recall: 0.7321\n",
      "Epoch 50/60\n",
      "64/64 [==============================] - 0s 2ms/step - loss: 0.3805 - accuracy: 0.8371 - precision: 0.7987 - recall: 0.8025 - val_loss: 0.3955 - val_accuracy: 0.8125 - val_precision: 0.7778 - val_recall: 0.7660\n",
      "Epoch 51/60\n",
      "64/64 [==============================] - 0s 2ms/step - loss: 0.4076 - accuracy: 0.8324 - precision: 0.7907 - recall: 0.8006 - val_loss: 0.3978 - val_accuracy: 0.8141 - val_precision: 0.7829 - val_recall: 0.7623\n",
      "Epoch 52/60\n",
      "64/64 [==============================] - 0s 2ms/step - loss: 0.3819 - accuracy: 0.8375 - precision: 0.8006 - recall: 0.8006 - val_loss: 0.4051 - val_accuracy: 0.8156 - val_precision: 0.7616 - val_recall: 0.8075\n",
      "Epoch 53/60\n",
      "64/64 [==============================] - 0s 2ms/step - loss: 0.3720 - accuracy: 0.8371 - precision: 0.8004 - recall: 0.7996 - val_loss: 0.4092 - val_accuracy: 0.8188 - val_precision: 0.8016 - val_recall: 0.7472\n",
      "Epoch 54/60\n",
      "64/64 [==============================] - 0s 2ms/step - loss: 0.3742 - accuracy: 0.8375 - precision: 0.8012 - recall: 0.7996 - val_loss: 0.4170 - val_accuracy: 0.8188 - val_precision: 0.8066 - val_recall: 0.7396\n",
      "Epoch 55/60\n",
      "64/64 [==============================] - 0s 2ms/step - loss: 0.3751 - accuracy: 0.8348 - precision: 0.7964 - recall: 0.7987 - val_loss: 0.4187 - val_accuracy: 0.8266 - val_precision: 0.7601 - val_recall: 0.8491\n",
      "Epoch 56/60\n",
      "64/64 [==============================] - 0s 2ms/step - loss: 0.3735 - accuracy: 0.8402 - precision: 0.8002 - recall: 0.8102 - val_loss: 0.3928 - val_accuracy: 0.8188 - val_precision: 0.7790 - val_recall: 0.7849\n",
      "Epoch 57/60\n",
      "64/64 [==============================] - 0s 2ms/step - loss: 0.3773 - accuracy: 0.8410 - precision: 0.8011 - recall: 0.8111 - val_loss: 0.4114 - val_accuracy: 0.8188 - val_precision: 0.8016 - val_recall: 0.7472\n",
      "Epoch 58/60\n",
      "64/64 [==============================] - 0s 2ms/step - loss: 0.3738 - accuracy: 0.8414 - precision: 0.8008 - recall: 0.8130 - val_loss: 0.3992 - val_accuracy: 0.8156 - val_precision: 0.7838 - val_recall: 0.7660\n",
      "Epoch 59/60\n",
      "64/64 [==============================] - 0s 2ms/step - loss: 0.3779 - accuracy: 0.8383 - precision: 0.7942 - recall: 0.8140 - val_loss: 0.4044 - val_accuracy: 0.8250 - val_precision: 0.7647 - val_recall: 0.8340\n",
      "Epoch 60/60\n",
      "64/64 [==============================] - 0s 2ms/step - loss: 0.3752 - accuracy: 0.8383 - precision: 0.7992 - recall: 0.8054 - val_loss: 0.3923 - val_accuracy: 0.8203 - val_precision: 0.7717 - val_recall: 0.8038\n",
      "20/20 [==============================] - 0s 1ms/step\n"
     ]
    },
    {
     "name": "stderr",
     "output_type": "stream",
     "text": [
      "WARNING:absl:Found untraced functions such as _update_step_xla while saving (showing 1 of 1). These functions will not be directly callable after loading.\n"
     ]
    },
    {
     "name": "stdout",
     "output_type": "stream",
     "text": [
      "INFO:tensorflow:Assets written to: C:\\Users\\jmbar\\AppData\\Local\\Temp\\tmp4su8krnq\\assets\n"
     ]
    },
    {
     "name": "stderr",
     "output_type": "stream",
     "text": [
      "INFO:tensorflow:Assets written to: C:\\Users\\jmbar\\AppData\\Local\\Temp\\tmp4su8krnq\\assets\n"
     ]
    },
    {
     "name": "stdout",
     "output_type": "stream",
     "text": [
      "Epoch 1/60\n",
      "64/64 [==============================] - 1s 6ms/step - loss: 0.6778 - accuracy: 0.5980 - precision: 0.0000e+00 - recall: 0.0000e+00 - val_loss: 0.6798 - val_accuracy: 0.5813 - val_precision: 0.0000e+00 - val_recall: 0.0000e+00\n",
      "Epoch 2/60\n",
      "64/64 [==============================] - 0s 2ms/step - loss: 0.6751 - accuracy: 0.5980 - precision: 0.0000e+00 - recall: 0.0000e+00 - val_loss: 0.6889 - val_accuracy: 0.5813 - val_precision: 0.0000e+00 - val_recall: 0.0000e+00\n",
      "Epoch 3/60\n",
      "64/64 [==============================] - 0s 2ms/step - loss: 0.6758 - accuracy: 0.5980 - precision: 0.0000e+00 - recall: 0.0000e+00 - val_loss: 0.6853 - val_accuracy: 0.5813 - val_precision: 0.0000e+00 - val_recall: 0.0000e+00\n",
      "Epoch 4/60\n",
      "64/64 [==============================] - 0s 2ms/step - loss: 0.6743 - accuracy: 0.5980 - precision: 0.0000e+00 - recall: 0.0000e+00 - val_loss: 0.6826 - val_accuracy: 0.5813 - val_precision: 0.0000e+00 - val_recall: 0.0000e+00\n",
      "Epoch 5/60\n",
      "64/64 [==============================] - 0s 2ms/step - loss: 0.6743 - accuracy: 0.5980 - precision: 0.0000e+00 - recall: 0.0000e+00 - val_loss: 0.6817 - val_accuracy: 0.5813 - val_precision: 0.0000e+00 - val_recall: 0.0000e+00\n",
      "Epoch 6/60\n",
      "64/64 [==============================] - 0s 2ms/step - loss: 0.6739 - accuracy: 0.5988 - precision: 1.0000 - recall: 0.0019 - val_loss: 0.6775 - val_accuracy: 0.5813 - val_precision: 0.0000e+00 - val_recall: 0.0000e+00\n",
      "Epoch 7/60\n",
      "64/64 [==============================] - 0s 3ms/step - loss: 0.6708 - accuracy: 0.5996 - precision: 1.0000 - recall: 0.0039 - val_loss: 0.6749 - val_accuracy: 0.5828 - val_precision: 1.0000 - val_recall: 0.0037\n",
      "Epoch 8/60\n",
      "64/64 [==============================] - 0s 3ms/step - loss: 0.6639 - accuracy: 0.6109 - precision: 1.0000 - recall: 0.0321 - val_loss: 0.6658 - val_accuracy: 0.5922 - val_precision: 1.0000 - val_recall: 0.0261\n",
      "Epoch 9/60\n",
      "64/64 [==============================] - 0s 3ms/step - loss: 0.6456 - accuracy: 0.6348 - precision: 0.9519 - recall: 0.0962 - val_loss: 0.6423 - val_accuracy: 0.6203 - val_precision: 1.0000 - val_recall: 0.0933\n",
      "Epoch 10/60\n",
      "64/64 [==============================] - 0s 2ms/step - loss: 0.6084 - accuracy: 0.6746 - precision: 0.9336 - recall: 0.2051 - val_loss: 0.6068 - val_accuracy: 0.7125 - val_precision: 0.8750 - val_recall: 0.3657\n",
      "Epoch 11/60\n",
      "64/64 [==============================] - 0s 3ms/step - loss: 0.5705 - accuracy: 0.7336 - precision: 0.8934 - recall: 0.3829 - val_loss: 0.5578 - val_accuracy: 0.7063 - val_precision: 0.9000 - val_recall: 0.3358\n",
      "Epoch 12/60\n",
      "64/64 [==============================] - 0s 2ms/step - loss: 0.5105 - accuracy: 0.7680 - precision: 0.8976 - recall: 0.4772 - val_loss: 0.5056 - val_accuracy: 0.7547 - val_precision: 0.8447 - val_recall: 0.5075\n",
      "Epoch 13/60\n",
      "64/64 [==============================] - 0s 3ms/step - loss: 0.4926 - accuracy: 0.7875 - precision: 0.8509 - recall: 0.5714 - val_loss: 0.5058 - val_accuracy: 0.8031 - val_precision: 0.8114 - val_recall: 0.6903\n",
      "Epoch 14/60\n",
      "64/64 [==============================] - 0s 3ms/step - loss: 0.4513 - accuracy: 0.8016 - precision: 0.8706 - recall: 0.5948 - val_loss: 0.4709 - val_accuracy: 0.7750 - val_precision: 0.8483 - val_recall: 0.5634\n",
      "Epoch 15/60\n",
      "64/64 [==============================] - 0s 3ms/step - loss: 0.4359 - accuracy: 0.8059 - precision: 0.8566 - recall: 0.6210 - val_loss: 0.4627 - val_accuracy: 0.8016 - val_precision: 0.8106 - val_recall: 0.6866\n",
      "Epoch 16/60\n",
      "64/64 [==============================] - 0s 2ms/step - loss: 0.4333 - accuracy: 0.8113 - precision: 0.8329 - recall: 0.6638 - val_loss: 0.4499 - val_accuracy: 0.7875 - val_precision: 0.8113 - val_recall: 0.6418\n",
      "Epoch 17/60\n",
      "64/64 [==============================] - 0s 3ms/step - loss: 0.4164 - accuracy: 0.8160 - precision: 0.8329 - recall: 0.6783 - val_loss: 0.6032 - val_accuracy: 0.7344 - val_precision: 0.8657 - val_recall: 0.4328\n",
      "Epoch 18/60\n",
      "64/64 [==============================] - 0s 2ms/step - loss: 0.4299 - accuracy: 0.8199 - precision: 0.8318 - recall: 0.6919 - val_loss: 0.4455 - val_accuracy: 0.8078 - val_precision: 0.8085 - val_recall: 0.7090\n",
      "Epoch 19/60\n",
      "64/64 [==============================] - 0s 3ms/step - loss: 0.4216 - accuracy: 0.8219 - precision: 0.8312 - recall: 0.6987 - val_loss: 0.4424 - val_accuracy: 0.8094 - val_precision: 0.8042 - val_recall: 0.7201\n",
      "Epoch 20/60\n",
      "64/64 [==============================] - 0s 3ms/step - loss: 0.4020 - accuracy: 0.8258 - precision: 0.8362 - recall: 0.7046 - val_loss: 0.4347 - val_accuracy: 0.8000 - val_precision: 0.8097 - val_recall: 0.6828\n",
      "Epoch 21/60\n",
      "64/64 [==============================] - 0s 2ms/step - loss: 0.4053 - accuracy: 0.8242 - precision: 0.8256 - recall: 0.7133 - val_loss: 0.4489 - val_accuracy: 0.8188 - val_precision: 0.7857 - val_recall: 0.7799\n",
      "Epoch 22/60\n",
      "64/64 [==============================] - 0s 3ms/step - loss: 0.4161 - accuracy: 0.8238 - precision: 0.8211 - recall: 0.7182 - val_loss: 0.4483 - val_accuracy: 0.7812 - val_precision: 0.8200 - val_recall: 0.6119\n",
      "Epoch 23/60\n",
      "64/64 [==============================] - 0s 2ms/step - loss: 0.3960 - accuracy: 0.8250 - precision: 0.8231 - recall: 0.7191 - val_loss: 0.4406 - val_accuracy: 0.7781 - val_precision: 0.8058 - val_recall: 0.6194\n",
      "Epoch 24/60\n",
      "64/64 [==============================] - 0s 2ms/step - loss: 0.4053 - accuracy: 0.8301 - precision: 0.8242 - recall: 0.7337 - val_loss: 0.4569 - val_accuracy: 0.8234 - val_precision: 0.7739 - val_recall: 0.8172\n",
      "Epoch 25/60\n",
      "64/64 [==============================] - 0s 2ms/step - loss: 0.4052 - accuracy: 0.8262 - precision: 0.8140 - recall: 0.7357 - val_loss: 0.4846 - val_accuracy: 0.7734 - val_precision: 0.8220 - val_recall: 0.5858\n",
      "Epoch 26/60\n",
      "64/64 [==============================] - 0s 2ms/step - loss: 0.3927 - accuracy: 0.8277 - precision: 0.8155 - recall: 0.7386 - val_loss: 0.4293 - val_accuracy: 0.8156 - val_precision: 0.7863 - val_recall: 0.7687\n",
      "Epoch 27/60\n",
      "64/64 [==============================] - 0s 2ms/step - loss: 0.3986 - accuracy: 0.8313 - precision: 0.8172 - recall: 0.7473 - val_loss: 0.4207 - val_accuracy: 0.8078 - val_precision: 0.8139 - val_recall: 0.7015\n",
      "Epoch 28/60\n",
      "64/64 [==============================] - 0s 2ms/step - loss: 0.4080 - accuracy: 0.8262 - precision: 0.8100 - recall: 0.7415 - val_loss: 0.4539 - val_accuracy: 0.7812 - val_precision: 0.8200 - val_recall: 0.6119\n",
      "Epoch 29/60\n",
      "64/64 [==============================] - 0s 2ms/step - loss: 0.3951 - accuracy: 0.8316 - precision: 0.8188 - recall: 0.7464 - val_loss: 0.4189 - val_accuracy: 0.8156 - val_precision: 0.7907 - val_recall: 0.7612\n",
      "Epoch 30/60\n",
      "64/64 [==============================] - 0s 2ms/step - loss: 0.3921 - accuracy: 0.8301 - precision: 0.8126 - recall: 0.7502 - val_loss: 0.4169 - val_accuracy: 0.8156 - val_precision: 0.7907 - val_recall: 0.7612\n",
      "Epoch 31/60\n",
      "64/64 [==============================] - 0s 2ms/step - loss: 0.3907 - accuracy: 0.8367 - precision: 0.8240 - recall: 0.7551 - val_loss: 0.4192 - val_accuracy: 0.8062 - val_precision: 0.8130 - val_recall: 0.6978\n",
      "Epoch 32/60\n",
      "64/64 [==============================] - 0s 2ms/step - loss: 0.3803 - accuracy: 0.8313 - precision: 0.8126 - recall: 0.7541 - val_loss: 0.4191 - val_accuracy: 0.8062 - val_precision: 0.8130 - val_recall: 0.6978\n",
      "Epoch 33/60\n",
      "64/64 [==============================] - 0s 2ms/step - loss: 0.3812 - accuracy: 0.8324 - precision: 0.8119 - recall: 0.7590 - val_loss: 0.4150 - val_accuracy: 0.8094 - val_precision: 0.8093 - val_recall: 0.7127\n",
      "Epoch 34/60\n",
      "64/64 [==============================] - 0s 2ms/step - loss: 0.3801 - accuracy: 0.8352 - precision: 0.8139 - recall: 0.7648 - val_loss: 0.5158 - val_accuracy: 0.7750 - val_precision: 0.8196 - val_recall: 0.5933\n",
      "Epoch 35/60\n",
      "64/64 [==============================] - 0s 2ms/step - loss: 0.3979 - accuracy: 0.8309 - precision: 0.8047 - recall: 0.7648 - val_loss: 0.4545 - val_accuracy: 0.7812 - val_precision: 0.8107 - val_recall: 0.6231\n",
      "Epoch 36/60\n",
      "64/64 [==============================] - 0s 2ms/step - loss: 0.3851 - accuracy: 0.8313 - precision: 0.8113 - recall: 0.7561 - val_loss: 0.4132 - val_accuracy: 0.8094 - val_precision: 0.8093 - val_recall: 0.7127\n",
      "Epoch 37/60\n"
     ]
    },
    {
     "name": "stdout",
     "output_type": "stream",
     "text": [
      "64/64 [==============================] - 0s 2ms/step - loss: 0.3837 - accuracy: 0.8348 - precision: 0.8086 - recall: 0.7716 - val_loss: 0.4230 - val_accuracy: 0.8203 - val_precision: 0.7722 - val_recall: 0.8097\n",
      "Epoch 38/60\n",
      "64/64 [==============================] - 0s 2ms/step - loss: 0.3829 - accuracy: 0.8355 - precision: 0.8108 - recall: 0.7707 - val_loss: 0.4219 - val_accuracy: 0.8062 - val_precision: 0.8130 - val_recall: 0.6978\n",
      "Epoch 39/60\n",
      "64/64 [==============================] - 0s 2ms/step - loss: 0.3827 - accuracy: 0.8359 - precision: 0.8073 - recall: 0.7775 - val_loss: 0.4086 - val_accuracy: 0.8203 - val_precision: 0.7865 - val_recall: 0.7836\n",
      "Epoch 40/60\n",
      "64/64 [==============================] - 0s 2ms/step - loss: 0.3858 - accuracy: 0.8355 - precision: 0.8071 - recall: 0.7765 - val_loss: 0.4415 - val_accuracy: 0.7953 - val_precision: 0.8157 - val_recall: 0.6604\n",
      "Epoch 41/60\n",
      "64/64 [==============================] - 0s 2ms/step - loss: 0.3966 - accuracy: 0.8266 - precision: 0.7976 - recall: 0.7619 - val_loss: 0.4058 - val_accuracy: 0.8188 - val_precision: 0.7857 - val_recall: 0.7799\n",
      "Epoch 42/60\n",
      "64/64 [==============================] - 0s 2ms/step - loss: 0.3768 - accuracy: 0.8355 - precision: 0.8058 - recall: 0.7784 - val_loss: 0.4242 - val_accuracy: 0.8062 - val_precision: 0.8130 - val_recall: 0.6978\n",
      "Epoch 43/60\n",
      "64/64 [==============================] - 0s 2ms/step - loss: 0.3747 - accuracy: 0.8363 - precision: 0.8050 - recall: 0.7823 - val_loss: 0.4293 - val_accuracy: 0.8031 - val_precision: 0.8114 - val_recall: 0.6903\n",
      "Epoch 44/60\n",
      "64/64 [==============================] - 0s 2ms/step - loss: 0.3872 - accuracy: 0.8391 - precision: 0.8113 - recall: 0.7813 - val_loss: 0.4360 - val_accuracy: 0.8313 - val_precision: 0.7703 - val_recall: 0.8507\n",
      "Epoch 45/60\n",
      "64/64 [==============================] - 0s 2ms/step - loss: 0.3873 - accuracy: 0.8449 - precision: 0.8147 - recall: 0.7949 - val_loss: 0.4080 - val_accuracy: 0.8250 - val_precision: 0.7826 - val_recall: 0.8060\n",
      "Epoch 46/60\n",
      "64/64 [==============================] - 0s 2ms/step - loss: 0.3824 - accuracy: 0.8375 - precision: 0.8020 - recall: 0.7911 - val_loss: 0.4076 - val_accuracy: 0.8219 - val_precision: 0.7750 - val_recall: 0.8097\n",
      "Epoch 47/60\n",
      "64/64 [==============================] - 0s 2ms/step - loss: 0.3834 - accuracy: 0.8387 - precision: 0.8050 - recall: 0.7901 - val_loss: 0.4114 - val_accuracy: 0.8234 - val_precision: 0.7739 - val_recall: 0.8172\n",
      "Epoch 48/60\n",
      "64/64 [==============================] - 0s 2ms/step - loss: 0.4088 - accuracy: 0.8285 - precision: 0.7932 - recall: 0.7755 - val_loss: 0.4888 - val_accuracy: 0.7812 - val_precision: 0.8107 - val_recall: 0.6231\n",
      "Epoch 49/60\n",
      "64/64 [==============================] - 0s 2ms/step - loss: 0.3726 - accuracy: 0.8375 - precision: 0.8080 - recall: 0.7813 - val_loss: 0.4015 - val_accuracy: 0.8219 - val_precision: 0.7873 - val_recall: 0.7873\n",
      "Epoch 50/60\n",
      "64/64 [==============================] - 0s 2ms/step - loss: 0.3744 - accuracy: 0.8336 - precision: 0.7965 - recall: 0.7872 - val_loss: 0.4192 - val_accuracy: 0.8094 - val_precision: 0.8120 - val_recall: 0.7090\n",
      "Epoch 51/60\n",
      "64/64 [==============================] - 0s 2ms/step - loss: 0.3823 - accuracy: 0.8383 - precision: 0.8078 - recall: 0.7843 - val_loss: 0.4128 - val_accuracy: 0.8141 - val_precision: 0.8091 - val_recall: 0.7276\n",
      "Epoch 52/60\n",
      "64/64 [==============================] - 0s 2ms/step - loss: 0.3774 - accuracy: 0.8363 - precision: 0.7990 - recall: 0.7920 - val_loss: 0.4001 - val_accuracy: 0.8156 - val_precision: 0.7907 - val_recall: 0.7612\n",
      "Epoch 53/60\n",
      "64/64 [==============================] - 0s 2ms/step - loss: 0.3758 - accuracy: 0.8410 - precision: 0.8079 - recall: 0.7930 - val_loss: 0.4121 - val_accuracy: 0.8156 - val_precision: 0.8099 - val_recall: 0.7313\n",
      "Epoch 54/60\n",
      "64/64 [==============================] - 0s 2ms/step - loss: 0.3759 - accuracy: 0.8352 - precision: 0.8002 - recall: 0.7862 - val_loss: 0.4245 - val_accuracy: 0.8297 - val_precision: 0.7677 - val_recall: 0.8507\n",
      "Epoch 55/60\n",
      "64/64 [==============================] - 0s 2ms/step - loss: 0.3726 - accuracy: 0.8379 - precision: 0.7935 - recall: 0.8066 - val_loss: 0.4027 - val_accuracy: 0.8172 - val_precision: 0.7938 - val_recall: 0.7612\n",
      "Epoch 56/60\n",
      "64/64 [==============================] - 0s 2ms/step - loss: 0.3719 - accuracy: 0.8379 - precision: 0.7998 - recall: 0.7959 - val_loss: 0.3982 - val_accuracy: 0.8141 - val_precision: 0.7876 - val_recall: 0.7612\n",
      "Epoch 57/60\n",
      "64/64 [==============================] - 0s 2ms/step - loss: 0.3786 - accuracy: 0.8418 - precision: 0.8000 - recall: 0.8086 - val_loss: 0.3991 - val_accuracy: 0.8156 - val_precision: 0.7907 - val_recall: 0.7612\n",
      "Epoch 58/60\n",
      "64/64 [==============================] - 0s 2ms/step - loss: 0.3777 - accuracy: 0.8398 - precision: 0.8061 - recall: 0.7920 - val_loss: 0.3949 - val_accuracy: 0.8156 - val_precision: 0.7841 - val_recall: 0.7724\n",
      "Epoch 59/60\n",
      "64/64 [==============================] - 0s 2ms/step - loss: 0.3766 - accuracy: 0.8363 - precision: 0.7955 - recall: 0.7979 - val_loss: 0.4180 - val_accuracy: 0.8328 - val_precision: 0.7729 - val_recall: 0.8507\n",
      "Epoch 60/60\n",
      "64/64 [==============================] - 0s 2ms/step - loss: 0.3774 - accuracy: 0.8406 - precision: 0.8035 - recall: 0.7988 - val_loss: 0.4076 - val_accuracy: 0.8109 - val_precision: 0.7928 - val_recall: 0.7425\n",
      "20/20 [==============================] - 0s 1ms/step\n"
     ]
    },
    {
     "name": "stderr",
     "output_type": "stream",
     "text": [
      "WARNING:absl:Found untraced functions such as _update_step_xla while saving (showing 1 of 1). These functions will not be directly callable after loading.\n"
     ]
    },
    {
     "name": "stdout",
     "output_type": "stream",
     "text": [
      "WARNING:tensorflow:Detecting that an object or model or tf.train.Checkpoint is being deleted with unrestored values. See the following logs for the specific values in question. To silence these warnings, use `status.expect_partial()`. See https://www.tensorflow.org/api_docs/python/tf/train/Checkpoint#restorefor details about the status object returned by the restore function.\n"
     ]
    },
    {
     "name": "stderr",
     "output_type": "stream",
     "text": [
      "WARNING:tensorflow:Detecting that an object or model or tf.train.Checkpoint is being deleted with unrestored values. See the following logs for the specific values in question. To silence these warnings, use `status.expect_partial()`. See https://www.tensorflow.org/api_docs/python/tf/train/Checkpoint#restorefor details about the status object returned by the restore function.\n"
     ]
    },
    {
     "name": "stdout",
     "output_type": "stream",
     "text": [
      "WARNING:tensorflow:Value in checkpoint could not be found in the restored object: (root).keras_api.metrics.0.total\n"
     ]
    },
    {
     "name": "stderr",
     "output_type": "stream",
     "text": [
      "WARNING:tensorflow:Value in checkpoint could not be found in the restored object: (root).keras_api.metrics.0.total\n"
     ]
    },
    {
     "name": "stdout",
     "output_type": "stream",
     "text": [
      "WARNING:tensorflow:Value in checkpoint could not be found in the restored object: (root).keras_api.metrics.0.count\n"
     ]
    },
    {
     "name": "stderr",
     "output_type": "stream",
     "text": [
      "WARNING:tensorflow:Value in checkpoint could not be found in the restored object: (root).keras_api.metrics.0.count\n"
     ]
    },
    {
     "name": "stdout",
     "output_type": "stream",
     "text": [
      "WARNING:tensorflow:Value in checkpoint could not be found in the restored object: (root).keras_api.metrics.1.total\n"
     ]
    },
    {
     "name": "stderr",
     "output_type": "stream",
     "text": [
      "WARNING:tensorflow:Value in checkpoint could not be found in the restored object: (root).keras_api.metrics.1.total\n"
     ]
    },
    {
     "name": "stdout",
     "output_type": "stream",
     "text": [
      "WARNING:tensorflow:Value in checkpoint could not be found in the restored object: (root).keras_api.metrics.1.count\n"
     ]
    },
    {
     "name": "stderr",
     "output_type": "stream",
     "text": [
      "WARNING:tensorflow:Value in checkpoint could not be found in the restored object: (root).keras_api.metrics.1.count\n"
     ]
    },
    {
     "name": "stdout",
     "output_type": "stream",
     "text": [
      "WARNING:tensorflow:Value in checkpoint could not be found in the restored object: (root).keras_api.metrics.2.true_positives\n"
     ]
    },
    {
     "name": "stderr",
     "output_type": "stream",
     "text": [
      "WARNING:tensorflow:Value in checkpoint could not be found in the restored object: (root).keras_api.metrics.2.true_positives\n"
     ]
    },
    {
     "name": "stdout",
     "output_type": "stream",
     "text": [
      "WARNING:tensorflow:Value in checkpoint could not be found in the restored object: (root).keras_api.metrics.2.false_positives\n"
     ]
    },
    {
     "name": "stderr",
     "output_type": "stream",
     "text": [
      "WARNING:tensorflow:Value in checkpoint could not be found in the restored object: (root).keras_api.metrics.2.false_positives\n"
     ]
    },
    {
     "name": "stdout",
     "output_type": "stream",
     "text": [
      "WARNING:tensorflow:Value in checkpoint could not be found in the restored object: (root).keras_api.metrics.3.true_positives\n"
     ]
    },
    {
     "name": "stderr",
     "output_type": "stream",
     "text": [
      "WARNING:tensorflow:Value in checkpoint could not be found in the restored object: (root).keras_api.metrics.3.true_positives\n"
     ]
    },
    {
     "name": "stdout",
     "output_type": "stream",
     "text": [
      "WARNING:tensorflow:Value in checkpoint could not be found in the restored object: (root).keras_api.metrics.3.false_negatives\n"
     ]
    },
    {
     "name": "stderr",
     "output_type": "stream",
     "text": [
      "WARNING:tensorflow:Value in checkpoint could not be found in the restored object: (root).keras_api.metrics.3.false_negatives\n"
     ]
    },
    {
     "name": "stdout",
     "output_type": "stream",
     "text": [
      "WARNING:tensorflow:Detecting that an object or model or tf.train.Checkpoint is being deleted with unrestored values. See the following logs for the specific values in question. To silence these warnings, use `status.expect_partial()`. See https://www.tensorflow.org/api_docs/python/tf/train/Checkpoint#restorefor details about the status object returned by the restore function.\n"
     ]
    },
    {
     "name": "stderr",
     "output_type": "stream",
     "text": [
      "WARNING:tensorflow:Detecting that an object or model or tf.train.Checkpoint is being deleted with unrestored values. See the following logs for the specific values in question. To silence these warnings, use `status.expect_partial()`. See https://www.tensorflow.org/api_docs/python/tf/train/Checkpoint#restorefor details about the status object returned by the restore function.\n"
     ]
    },
    {
     "name": "stdout",
     "output_type": "stream",
     "text": [
      "WARNING:tensorflow:Value in checkpoint could not be found in the restored object: (root).keras_api.metrics.0.total\n"
     ]
    },
    {
     "name": "stderr",
     "output_type": "stream",
     "text": [
      "WARNING:tensorflow:Value in checkpoint could not be found in the restored object: (root).keras_api.metrics.0.total\n"
     ]
    },
    {
     "name": "stdout",
     "output_type": "stream",
     "text": [
      "WARNING:tensorflow:Value in checkpoint could not be found in the restored object: (root).keras_api.metrics.0.count\n"
     ]
    },
    {
     "name": "stderr",
     "output_type": "stream",
     "text": [
      "WARNING:tensorflow:Value in checkpoint could not be found in the restored object: (root).keras_api.metrics.0.count\n"
     ]
    },
    {
     "name": "stdout",
     "output_type": "stream",
     "text": [
      "WARNING:tensorflow:Value in checkpoint could not be found in the restored object: (root).keras_api.metrics.1.total\n"
     ]
    },
    {
     "name": "stderr",
     "output_type": "stream",
     "text": [
      "WARNING:tensorflow:Value in checkpoint could not be found in the restored object: (root).keras_api.metrics.1.total\n"
     ]
    },
    {
     "name": "stdout",
     "output_type": "stream",
     "text": [
      "WARNING:tensorflow:Value in checkpoint could not be found in the restored object: (root).keras_api.metrics.1.count\n"
     ]
    },
    {
     "name": "stderr",
     "output_type": "stream",
     "text": [
      "WARNING:tensorflow:Value in checkpoint could not be found in the restored object: (root).keras_api.metrics.1.count\n"
     ]
    },
    {
     "name": "stdout",
     "output_type": "stream",
     "text": [
      "WARNING:tensorflow:Value in checkpoint could not be found in the restored object: (root).keras_api.metrics.2.true_positives\n"
     ]
    },
    {
     "name": "stderr",
     "output_type": "stream",
     "text": [
      "WARNING:tensorflow:Value in checkpoint could not be found in the restored object: (root).keras_api.metrics.2.true_positives\n"
     ]
    },
    {
     "name": "stdout",
     "output_type": "stream",
     "text": [
      "WARNING:tensorflow:Value in checkpoint could not be found in the restored object: (root).keras_api.metrics.2.false_positives\n"
     ]
    },
    {
     "name": "stderr",
     "output_type": "stream",
     "text": [
      "WARNING:tensorflow:Value in checkpoint could not be found in the restored object: (root).keras_api.metrics.2.false_positives\n"
     ]
    },
    {
     "name": "stdout",
     "output_type": "stream",
     "text": [
      "WARNING:tensorflow:Value in checkpoint could not be found in the restored object: (root).keras_api.metrics.3.true_positives\n"
     ]
    },
    {
     "name": "stderr",
     "output_type": "stream",
     "text": [
      "WARNING:tensorflow:Value in checkpoint could not be found in the restored object: (root).keras_api.metrics.3.true_positives\n"
     ]
    },
    {
     "name": "stdout",
     "output_type": "stream",
     "text": [
      "WARNING:tensorflow:Value in checkpoint could not be found in the restored object: (root).keras_api.metrics.3.false_negatives\n"
     ]
    },
    {
     "name": "stderr",
     "output_type": "stream",
     "text": [
      "WARNING:tensorflow:Value in checkpoint could not be found in the restored object: (root).keras_api.metrics.3.false_negatives\n"
     ]
    },
    {
     "name": "stdout",
     "output_type": "stream",
     "text": [
      "WARNING:tensorflow:Detecting that an object or model or tf.train.Checkpoint is being deleted with unrestored values. See the following logs for the specific values in question. To silence these warnings, use `status.expect_partial()`. See https://www.tensorflow.org/api_docs/python/tf/train/Checkpoint#restorefor details about the status object returned by the restore function.\n"
     ]
    },
    {
     "name": "stderr",
     "output_type": "stream",
     "text": [
      "WARNING:tensorflow:Detecting that an object or model or tf.train.Checkpoint is being deleted with unrestored values. See the following logs for the specific values in question. To silence these warnings, use `status.expect_partial()`. See https://www.tensorflow.org/api_docs/python/tf/train/Checkpoint#restorefor details about the status object returned by the restore function.\n"
     ]
    },
    {
     "name": "stdout",
     "output_type": "stream",
     "text": [
      "WARNING:tensorflow:Value in checkpoint could not be found in the restored object: (root).keras_api.metrics.0.total\n"
     ]
    },
    {
     "name": "stderr",
     "output_type": "stream",
     "text": [
      "WARNING:tensorflow:Value in checkpoint could not be found in the restored object: (root).keras_api.metrics.0.total\n"
     ]
    },
    {
     "name": "stdout",
     "output_type": "stream",
     "text": [
      "WARNING:tensorflow:Value in checkpoint could not be found in the restored object: (root).keras_api.metrics.0.count\n"
     ]
    },
    {
     "name": "stderr",
     "output_type": "stream",
     "text": [
      "WARNING:tensorflow:Value in checkpoint could not be found in the restored object: (root).keras_api.metrics.0.count\n"
     ]
    },
    {
     "name": "stdout",
     "output_type": "stream",
     "text": [
      "WARNING:tensorflow:Value in checkpoint could not be found in the restored object: (root).keras_api.metrics.1.total\n"
     ]
    },
    {
     "name": "stderr",
     "output_type": "stream",
     "text": [
      "WARNING:tensorflow:Value in checkpoint could not be found in the restored object: (root).keras_api.metrics.1.total\n"
     ]
    },
    {
     "name": "stdout",
     "output_type": "stream",
     "text": [
      "WARNING:tensorflow:Value in checkpoint could not be found in the restored object: (root).keras_api.metrics.1.count\n"
     ]
    },
    {
     "name": "stderr",
     "output_type": "stream",
     "text": [
      "WARNING:tensorflow:Value in checkpoint could not be found in the restored object: (root).keras_api.metrics.1.count\n"
     ]
    },
    {
     "name": "stdout",
     "output_type": "stream",
     "text": [
      "WARNING:tensorflow:Value in checkpoint could not be found in the restored object: (root).keras_api.metrics.2.true_positives\n"
     ]
    },
    {
     "name": "stderr",
     "output_type": "stream",
     "text": [
      "WARNING:tensorflow:Value in checkpoint could not be found in the restored object: (root).keras_api.metrics.2.true_positives\n"
     ]
    },
    {
     "name": "stdout",
     "output_type": "stream",
     "text": [
      "WARNING:tensorflow:Value in checkpoint could not be found in the restored object: (root).keras_api.metrics.2.false_positives\n"
     ]
    },
    {
     "name": "stderr",
     "output_type": "stream",
     "text": [
      "WARNING:tensorflow:Value in checkpoint could not be found in the restored object: (root).keras_api.metrics.2.false_positives\n"
     ]
    },
    {
     "name": "stdout",
     "output_type": "stream",
     "text": [
      "WARNING:tensorflow:Value in checkpoint could not be found in the restored object: (root).keras_api.metrics.3.true_positives\n"
     ]
    },
    {
     "name": "stderr",
     "output_type": "stream",
     "text": [
      "WARNING:tensorflow:Value in checkpoint could not be found in the restored object: (root).keras_api.metrics.3.true_positives\n"
     ]
    },
    {
     "name": "stdout",
     "output_type": "stream",
     "text": [
      "WARNING:tensorflow:Value in checkpoint could not be found in the restored object: (root).keras_api.metrics.3.false_negatives\n"
     ]
    },
    {
     "name": "stderr",
     "output_type": "stream",
     "text": [
      "WARNING:tensorflow:Value in checkpoint could not be found in the restored object: (root).keras_api.metrics.3.false_negatives\n"
     ]
    },
    {
     "name": "stdout",
     "output_type": "stream",
     "text": [
      "WARNING:tensorflow:Detecting that an object or model or tf.train.Checkpoint is being deleted with unrestored values. See the following logs for the specific values in question. To silence these warnings, use `status.expect_partial()`. See https://www.tensorflow.org/api_docs/python/tf/train/Checkpoint#restorefor details about the status object returned by the restore function.\n"
     ]
    },
    {
     "name": "stderr",
     "output_type": "stream",
     "text": [
      "WARNING:tensorflow:Detecting that an object or model or tf.train.Checkpoint is being deleted with unrestored values. See the following logs for the specific values in question. To silence these warnings, use `status.expect_partial()`. See https://www.tensorflow.org/api_docs/python/tf/train/Checkpoint#restorefor details about the status object returned by the restore function.\n"
     ]
    },
    {
     "name": "stdout",
     "output_type": "stream",
     "text": [
      "WARNING:tensorflow:Value in checkpoint could not be found in the restored object: (root).keras_api.metrics.0.total\n"
     ]
    },
    {
     "name": "stderr",
     "output_type": "stream",
     "text": [
      "WARNING:tensorflow:Value in checkpoint could not be found in the restored object: (root).keras_api.metrics.0.total\n"
     ]
    },
    {
     "name": "stdout",
     "output_type": "stream",
     "text": [
      "WARNING:tensorflow:Value in checkpoint could not be found in the restored object: (root).keras_api.metrics.0.count\n"
     ]
    },
    {
     "name": "stderr",
     "output_type": "stream",
     "text": [
      "WARNING:tensorflow:Value in checkpoint could not be found in the restored object: (root).keras_api.metrics.0.count\n"
     ]
    },
    {
     "name": "stdout",
     "output_type": "stream",
     "text": [
      "WARNING:tensorflow:Value in checkpoint could not be found in the restored object: (root).keras_api.metrics.1.total\n"
     ]
    },
    {
     "name": "stderr",
     "output_type": "stream",
     "text": [
      "WARNING:tensorflow:Value in checkpoint could not be found in the restored object: (root).keras_api.metrics.1.total\n"
     ]
    },
    {
     "name": "stdout",
     "output_type": "stream",
     "text": [
      "WARNING:tensorflow:Value in checkpoint could not be found in the restored object: (root).keras_api.metrics.1.count\n"
     ]
    },
    {
     "name": "stderr",
     "output_type": "stream",
     "text": [
      "WARNING:tensorflow:Value in checkpoint could not be found in the restored object: (root).keras_api.metrics.1.count\n"
     ]
    },
    {
     "name": "stdout",
     "output_type": "stream",
     "text": [
      "WARNING:tensorflow:Value in checkpoint could not be found in the restored object: (root).keras_api.metrics.2.true_positives\n"
     ]
    },
    {
     "name": "stderr",
     "output_type": "stream",
     "text": [
      "WARNING:tensorflow:Value in checkpoint could not be found in the restored object: (root).keras_api.metrics.2.true_positives\n"
     ]
    },
    {
     "name": "stdout",
     "output_type": "stream",
     "text": [
      "WARNING:tensorflow:Value in checkpoint could not be found in the restored object: (root).keras_api.metrics.2.false_positives\n"
     ]
    },
    {
     "name": "stderr",
     "output_type": "stream",
     "text": [
      "WARNING:tensorflow:Value in checkpoint could not be found in the restored object: (root).keras_api.metrics.2.false_positives\n"
     ]
    },
    {
     "name": "stdout",
     "output_type": "stream",
     "text": [
      "WARNING:tensorflow:Value in checkpoint could not be found in the restored object: (root).keras_api.metrics.3.true_positives\n"
     ]
    },
    {
     "name": "stderr",
     "output_type": "stream",
     "text": [
      "WARNING:tensorflow:Value in checkpoint could not be found in the restored object: (root).keras_api.metrics.3.true_positives\n"
     ]
    },
    {
     "name": "stdout",
     "output_type": "stream",
     "text": [
      "WARNING:tensorflow:Value in checkpoint could not be found in the restored object: (root).keras_api.metrics.3.false_negatives\n"
     ]
    },
    {
     "name": "stderr",
     "output_type": "stream",
     "text": [
      "WARNING:tensorflow:Value in checkpoint could not be found in the restored object: (root).keras_api.metrics.3.false_negatives\n"
     ]
    },
    {
     "name": "stdout",
     "output_type": "stream",
     "text": [
      "INFO:tensorflow:Assets written to: C:\\Users\\jmbar\\AppData\\Local\\Temp\\tmp636_8g4l\\assets\n"
     ]
    },
    {
     "name": "stderr",
     "output_type": "stream",
     "text": [
      "INFO:tensorflow:Assets written to: C:\\Users\\jmbar\\AppData\\Local\\Temp\\tmp636_8g4l\\assets\n"
     ]
    },
    {
     "name": "stdout",
     "output_type": "stream",
     "text": [
      "Epoch 1/60\n",
      "64/64 [==============================] - 1s 6ms/step - loss: 0.6747 - accuracy: 0.6047 - precision: 0.0000e+00 - recall: 0.0000e+00 - val_loss: 0.6908 - val_accuracy: 0.5594 - val_precision: 0.0000e+00 - val_recall: 0.0000e+00\n",
      "Epoch 2/60\n",
      "64/64 [==============================] - 0s 2ms/step - loss: 0.6732 - accuracy: 0.6047 - precision: 0.0000e+00 - recall: 0.0000e+00 - val_loss: 0.7031 - val_accuracy: 0.5594 - val_precision: 0.0000e+00 - val_recall: 0.0000e+00\n",
      "Epoch 3/60\n",
      "64/64 [==============================] - 0s 2ms/step - loss: 0.6736 - accuracy: 0.6047 - precision: 0.0000e+00 - recall: 0.0000e+00 - val_loss: 0.6912 - val_accuracy: 0.5594 - val_precision: 0.0000e+00 - val_recall: 0.0000e+00\n",
      "Epoch 4/60\n",
      "64/64 [==============================] - 0s 2ms/step - loss: 0.6711 - accuracy: 0.6047 - precision: 0.0000e+00 - recall: 0.0000e+00 - val_loss: 0.6952 - val_accuracy: 0.5594 - val_precision: 0.0000e+00 - val_recall: 0.0000e+00\n",
      "Epoch 5/60\n",
      "64/64 [==============================] - 0s 2ms/step - loss: 0.6717 - accuracy: 0.6047 - precision: 0.0000e+00 - recall: 0.0000e+00 - val_loss: 0.6881 - val_accuracy: 0.5594 - val_precision: 0.0000e+00 - val_recall: 0.0000e+00\n",
      "Epoch 6/60\n",
      "64/64 [==============================] - 0s 2ms/step - loss: 0.6688 - accuracy: 0.6047 - precision: 0.0000e+00 - recall: 0.0000e+00 - val_loss: 0.6852 - val_accuracy: 0.5594 - val_precision: 0.0000e+00 - val_recall: 0.0000e+00\n",
      "Epoch 7/60\n",
      "64/64 [==============================] - 0s 2ms/step - loss: 0.6663 - accuracy: 0.6078 - precision: 1.0000 - recall: 0.0079 - val_loss: 0.6906 - val_accuracy: 0.5594 - val_precision: 0.0000e+00 - val_recall: 0.0000e+00\n",
      "Epoch 8/60\n",
      "64/64 [==============================] - 0s 2ms/step - loss: 0.6589 - accuracy: 0.6180 - precision: 0.9048 - recall: 0.0375 - val_loss: 0.6768 - val_accuracy: 0.5719 - val_precision: 0.9000 - val_recall: 0.0319\n",
      "Epoch 9/60\n",
      "64/64 [==============================] - 0s 2ms/step - loss: 0.6398 - accuracy: 0.6414 - precision: 0.9434 - recall: 0.0988 - val_loss: 0.6569 - val_accuracy: 0.5891 - val_precision: 0.8800 - val_recall: 0.0780\n",
      "Epoch 10/60\n",
      "64/64 [==============================] - 0s 2ms/step - loss: 0.6054 - accuracy: 0.6941 - precision: 0.9104 - recall: 0.2510 - val_loss: 0.6073 - val_accuracy: 0.7094 - val_precision: 0.8529 - val_recall: 0.4113\n",
      "Epoch 11/60\n",
      "64/64 [==============================] - 0s 2ms/step - loss: 0.5665 - accuracy: 0.7316 - precision: 0.8753 - recall: 0.3745 - val_loss: 0.5637 - val_accuracy: 0.7437 - val_precision: 0.8598 - val_recall: 0.5000\n",
      "Epoch 12/60\n",
      "64/64 [==============================] - 0s 3ms/step - loss: 0.5194 - accuracy: 0.7617 - precision: 0.8695 - recall: 0.4674 - val_loss: 0.5325 - val_accuracy: 0.7250 - val_precision: 0.8581 - val_recall: 0.4504\n",
      "Epoch 13/60\n",
      "64/64 [==============================] - 0s 3ms/step - loss: 0.4889 - accuracy: 0.7883 - precision: 0.8561 - recall: 0.5583 - val_loss: 0.5180 - val_accuracy: 0.7312 - val_precision: 0.8526 - val_recall: 0.4716\n",
      "Epoch 14/60\n",
      "64/64 [==============================] - 0s 2ms/step - loss: 0.4844 - accuracy: 0.7922 - precision: 0.8478 - recall: 0.5781 - val_loss: 0.4893 - val_accuracy: 0.7672 - val_precision: 0.8182 - val_recall: 0.6064\n",
      "Epoch 15/60\n",
      "64/64 [==============================] - 0s 2ms/step - loss: 0.4505 - accuracy: 0.8020 - precision: 0.8380 - recall: 0.6186 - val_loss: 0.4994 - val_accuracy: 0.7516 - val_precision: 0.8436 - val_recall: 0.5355\n",
      "Epoch 16/60\n",
      "64/64 [==============================] - 0s 2ms/step - loss: 0.4453 - accuracy: 0.8043 - precision: 0.8331 - recall: 0.6314 - val_loss: 0.4895 - val_accuracy: 0.7641 - val_precision: 0.8429 - val_recall: 0.5709\n",
      "Epoch 17/60\n",
      "64/64 [==============================] - 0s 2ms/step - loss: 0.4441 - accuracy: 0.8109 - precision: 0.8333 - recall: 0.6522 - val_loss: 0.4861 - val_accuracy: 0.8203 - val_precision: 0.7951 - val_recall: 0.7979\n",
      "Epoch 18/60\n",
      "64/64 [==============================] - 0s 2ms/step - loss: 0.4395 - accuracy: 0.8102 - precision: 0.8215 - recall: 0.6640 - val_loss: 0.4855 - val_accuracy: 0.7688 - val_precision: 0.8418 - val_recall: 0.5851\n",
      "Epoch 19/60\n",
      "64/64 [==============================] - 0s 2ms/step - loss: 0.4206 - accuracy: 0.8184 - precision: 0.8291 - recall: 0.6808 - val_loss: 0.4604 - val_accuracy: 0.7750 - val_precision: 0.8194 - val_recall: 0.6277\n",
      "Epoch 20/60\n",
      "64/64 [==============================] - 0s 2ms/step - loss: 0.4114 - accuracy: 0.8188 - precision: 0.8239 - recall: 0.6887 - val_loss: 0.4648 - val_accuracy: 0.8203 - val_precision: 0.7951 - val_recall: 0.7979\n",
      "Epoch 21/60\n",
      "64/64 [==============================] - 0s 2ms/step - loss: 0.4192 - accuracy: 0.8180 - precision: 0.8182 - recall: 0.6937 - val_loss: 0.4464 - val_accuracy: 0.8078 - val_precision: 0.8167 - val_recall: 0.7270\n",
      "Epoch 22/60\n",
      "64/64 [==============================] - 0s 2ms/step - loss: 0.4110 - accuracy: 0.8230 - precision: 0.8209 - recall: 0.7065 - val_loss: 0.4557 - val_accuracy: 0.7766 - val_precision: 0.8174 - val_recall: 0.6348\n",
      "Epoch 23/60\n",
      "64/64 [==============================] - 0s 2ms/step - loss: 0.4105 - accuracy: 0.8223 - precision: 0.8140 - recall: 0.7134 - val_loss: 0.4459 - val_accuracy: 0.8141 - val_precision: 0.7921 - val_recall: 0.7837\n",
      "Epoch 24/60\n",
      "64/64 [==============================] - 0s 2ms/step - loss: 0.4040 - accuracy: 0.8258 - precision: 0.8137 - recall: 0.7253 - val_loss: 0.4363 - val_accuracy: 0.8062 - val_precision: 0.8160 - val_recall: 0.7234\n",
      "Epoch 25/60\n",
      "64/64 [==============================] - 0s 2ms/step - loss: 0.4002 - accuracy: 0.8250 - precision: 0.8140 - recall: 0.7223 - val_loss: 0.4522 - val_accuracy: 0.8188 - val_precision: 0.7804 - val_recall: 0.8191\n",
      "Epoch 26/60\n",
      "64/64 [==============================] - 0s 3ms/step - loss: 0.4215 - accuracy: 0.8266 - precision: 0.8060 - recall: 0.7391 - val_loss: 0.4468 - val_accuracy: 0.7797 - val_precision: 0.8133 - val_recall: 0.6489\n",
      "Epoch 27/60\n",
      "64/64 [==============================] - 0s 2ms/step - loss: 0.4006 - accuracy: 0.8242 - precision: 0.8115 - recall: 0.7233 - val_loss: 0.4413 - val_accuracy: 0.8203 - val_precision: 0.7889 - val_recall: 0.8085\n",
      "Epoch 28/60\n",
      "64/64 [==============================] - 0s 2ms/step - loss: 0.3982 - accuracy: 0.8285 - precision: 0.8118 - recall: 0.7372 - val_loss: 0.4566 - val_accuracy: 0.7766 - val_precision: 0.8174 - val_recall: 0.6348\n",
      "Epoch 29/60\n",
      "64/64 [==============================] - 0s 2ms/step - loss: 0.4010 - accuracy: 0.8266 - precision: 0.8067 - recall: 0.7381 - val_loss: 0.4452 - val_accuracy: 0.7828 - val_precision: 0.8122 - val_recall: 0.6596\n",
      "Epoch 30/60\n",
      "64/64 [==============================] - 0s 3ms/step - loss: 0.4002 - accuracy: 0.8305 - precision: 0.8061 - recall: 0.7520 - val_loss: 0.4263 - val_accuracy: 0.8062 - val_precision: 0.8185 - val_recall: 0.7199\n",
      "Epoch 31/60\n",
      "64/64 [==============================] - 0s 2ms/step - loss: 0.3940 - accuracy: 0.8293 - precision: 0.8068 - recall: 0.7470 - val_loss: 0.4300 - val_accuracy: 0.8016 - val_precision: 0.8189 - val_recall: 0.7057\n",
      "Epoch 32/60\n",
      "64/64 [==============================] - 0s 2ms/step - loss: 0.4045 - accuracy: 0.8309 - precision: 0.8057 - recall: 0.7540 - val_loss: 0.4269 - val_accuracy: 0.8047 - val_precision: 0.8178 - val_recall: 0.7163\n",
      "Epoch 33/60\n",
      "64/64 [==============================] - 0s 2ms/step - loss: 0.3883 - accuracy: 0.8297 - precision: 0.8038 - recall: 0.7530 - val_loss: 0.4736 - val_accuracy: 0.7750 - val_precision: 0.8165 - val_recall: 0.6312\n",
      "Epoch 34/60\n",
      "64/64 [==============================] - 0s 3ms/step - loss: 0.3927 - accuracy: 0.8309 - precision: 0.8012 - recall: 0.7609 - val_loss: 0.4372 - val_accuracy: 0.7953 - val_precision: 0.8159 - val_recall: 0.6915\n",
      "Epoch 35/60\n",
      "64/64 [==============================] - 0s 3ms/step - loss: 0.3879 - accuracy: 0.8336 - precision: 0.8078 - recall: 0.7599 - val_loss: 0.4208 - val_accuracy: 0.8203 - val_precision: 0.7909 - val_recall: 0.8050\n",
      "Epoch 36/60\n",
      "64/64 [==============================] - 0s 3ms/step - loss: 0.3877 - accuracy: 0.8359 - precision: 0.8052 - recall: 0.7717 - val_loss: 0.4227 - val_accuracy: 0.8109 - val_precision: 0.8207 - val_recall: 0.7305\n",
      "Epoch 37/60\n"
     ]
    },
    {
     "name": "stdout",
     "output_type": "stream",
     "text": [
      "64/64 [==============================] - 0s 4ms/step - loss: 0.3946 - accuracy: 0.8332 - precision: 0.8025 - recall: 0.7668 - val_loss: 0.4414 - val_accuracy: 0.7953 - val_precision: 0.8186 - val_recall: 0.6879\n",
      "Epoch 38/60\n",
      "64/64 [==============================] - 0s 3ms/step - loss: 0.3927 - accuracy: 0.8336 - precision: 0.7996 - recall: 0.7727 - val_loss: 0.4135 - val_accuracy: 0.8172 - val_precision: 0.7936 - val_recall: 0.7908\n",
      "Epoch 39/60\n",
      "64/64 [==============================] - 0s 3ms/step - loss: 0.3872 - accuracy: 0.8266 - precision: 0.7977 - recall: 0.7520 - val_loss: 0.4282 - val_accuracy: 0.8047 - val_precision: 0.8178 - val_recall: 0.7163\n",
      "Epoch 40/60\n",
      "64/64 [==============================] - 0s 3ms/step - loss: 0.3780 - accuracy: 0.8383 - precision: 0.8032 - recall: 0.7826 - val_loss: 0.4346 - val_accuracy: 0.8016 - val_precision: 0.8163 - val_recall: 0.7092\n",
      "Epoch 41/60\n",
      "64/64 [==============================] - 0s 3ms/step - loss: 0.3841 - accuracy: 0.8379 - precision: 0.8000 - recall: 0.7866 - val_loss: 0.4259 - val_accuracy: 0.8094 - val_precision: 0.8200 - val_recall: 0.7270\n",
      "Epoch 42/60\n",
      "64/64 [==============================] - 0s 3ms/step - loss: 0.3849 - accuracy: 0.8359 - precision: 0.7954 - recall: 0.7875 - val_loss: 0.4603 - val_accuracy: 0.7828 - val_precision: 0.8122 - val_recall: 0.6596\n",
      "Epoch 43/60\n",
      "64/64 [==============================] - 0s 3ms/step - loss: 0.3916 - accuracy: 0.8348 - precision: 0.7978 - recall: 0.7796 - val_loss: 0.4445 - val_accuracy: 0.7969 - val_precision: 0.8193 - val_recall: 0.6915\n",
      "Epoch 44/60\n",
      "64/64 [==============================] - 0s 3ms/step - loss: 0.3877 - accuracy: 0.8352 - precision: 0.7974 - recall: 0.7816 - val_loss: 0.4080 - val_accuracy: 0.8203 - val_precision: 0.7909 - val_recall: 0.8050\n",
      "Epoch 45/60\n",
      "64/64 [==============================] - 0s 3ms/step - loss: 0.3821 - accuracy: 0.8375 - precision: 0.8004 - recall: 0.7846 - val_loss: 0.4736 - val_accuracy: 0.7812 - val_precision: 0.8114 - val_recall: 0.6560\n",
      "Epoch 46/60\n",
      "64/64 [==============================] - 0s 4ms/step - loss: 0.3799 - accuracy: 0.8352 - precision: 0.7992 - recall: 0.7787 - val_loss: 0.4106 - val_accuracy: 0.8172 - val_precision: 0.8044 - val_recall: 0.7730\n",
      "Epoch 47/60\n",
      "64/64 [==============================] - 0s 3ms/step - loss: 0.3967 - accuracy: 0.8352 - precision: 0.7927 - recall: 0.7895 - val_loss: 0.5398 - val_accuracy: 0.7688 - val_precision: 0.8160 - val_recall: 0.6135\n",
      "Epoch 48/60\n",
      "64/64 [==============================] - 0s 3ms/step - loss: 0.3905 - accuracy: 0.8309 - precision: 0.7933 - recall: 0.7737 - val_loss: 0.4067 - val_accuracy: 0.8188 - val_precision: 0.8007 - val_recall: 0.7837\n",
      "Epoch 49/60\n",
      "64/64 [==============================] - 0s 3ms/step - loss: 0.3851 - accuracy: 0.8402 - precision: 0.8012 - recall: 0.7925 - val_loss: 0.4591 - val_accuracy: 0.8344 - val_precision: 0.7635 - val_recall: 0.9043\n",
      "Epoch 50/60\n",
      "64/64 [==============================] - 0s 3ms/step - loss: 0.3870 - accuracy: 0.8336 - precision: 0.7913 - recall: 0.7866 - val_loss: 0.4206 - val_accuracy: 0.8109 - val_precision: 0.8108 - val_recall: 0.7447\n",
      "Epoch 51/60\n",
      "64/64 [==============================] - 0s 3ms/step - loss: 0.3805 - accuracy: 0.8363 - precision: 0.7927 - recall: 0.7935 - val_loss: 0.4017 - val_accuracy: 0.8172 - val_precision: 0.7895 - val_recall: 0.7979\n",
      "Epoch 52/60\n",
      "64/64 [==============================] - 0s 3ms/step - loss: 0.3772 - accuracy: 0.8387 - precision: 0.7933 - recall: 0.8004 - val_loss: 0.4255 - val_accuracy: 0.8141 - val_precision: 0.8196 - val_recall: 0.7411\n",
      "Epoch 53/60\n",
      "64/64 [==============================] - 0s 2ms/step - loss: 0.3926 - accuracy: 0.8355 - precision: 0.7917 - recall: 0.7925 - val_loss: 0.4353 - val_accuracy: 0.8062 - val_precision: 0.8185 - val_recall: 0.7199\n",
      "Epoch 54/60\n",
      "64/64 [==============================] - 0s 3ms/step - loss: 0.3893 - accuracy: 0.8344 - precision: 0.7905 - recall: 0.7905 - val_loss: 0.4170 - val_accuracy: 0.8156 - val_precision: 0.8130 - val_recall: 0.7553\n",
      "Epoch 55/60\n",
      "64/64 [==============================] - 0s 3ms/step - loss: 0.4090 - accuracy: 0.8309 - precision: 0.7864 - recall: 0.7856 - val_loss: 0.4399 - val_accuracy: 0.8375 - val_precision: 0.7764 - val_recall: 0.8865\n",
      "Epoch 56/60\n",
      "64/64 [==============================] - 0s 2ms/step - loss: 0.3823 - accuracy: 0.8336 - precision: 0.7861 - recall: 0.7955 - val_loss: 0.4872 - val_accuracy: 0.7844 - val_precision: 0.8130 - val_recall: 0.6631\n",
      "Epoch 57/60\n",
      "64/64 [==============================] - 0s 2ms/step - loss: 0.3899 - accuracy: 0.8320 - precision: 0.7870 - recall: 0.7885 - val_loss: 0.4188 - val_accuracy: 0.8156 - val_precision: 0.8130 - val_recall: 0.7553\n",
      "Epoch 58/60\n",
      "64/64 [==============================] - 0s 2ms/step - loss: 0.3737 - accuracy: 0.8387 - precision: 0.7933 - recall: 0.8004 - val_loss: 0.4006 - val_accuracy: 0.8203 - val_precision: 0.7793 - val_recall: 0.8262\n",
      "Epoch 59/60\n",
      "64/64 [==============================] - 0s 3ms/step - loss: 0.3824 - accuracy: 0.8340 - precision: 0.7841 - recall: 0.8004 - val_loss: 0.4017 - val_accuracy: 0.8219 - val_precision: 0.7781 - val_recall: 0.8333\n",
      "Epoch 60/60\n",
      "64/64 [==============================] - 0s 3ms/step - loss: 0.3739 - accuracy: 0.8383 - precision: 0.7886 - recall: 0.8073 - val_loss: 0.4037 - val_accuracy: 0.8266 - val_precision: 0.7803 - val_recall: 0.8440\n",
      "20/20 [==============================] - 0s 1ms/step\n"
     ]
    },
    {
     "name": "stderr",
     "output_type": "stream",
     "text": [
      "WARNING:absl:Found untraced functions such as _update_step_xla while saving (showing 1 of 1). These functions will not be directly callable after loading.\n"
     ]
    },
    {
     "name": "stdout",
     "output_type": "stream",
     "text": [
      "INFO:tensorflow:Assets written to: C:\\Users\\jmbar\\AppData\\Local\\Temp\\tmpzsvwhrix\\assets\n"
     ]
    },
    {
     "name": "stderr",
     "output_type": "stream",
     "text": [
      "INFO:tensorflow:Assets written to: C:\\Users\\jmbar\\AppData\\Local\\Temp\\tmpzsvwhrix\\assets\n"
     ]
    },
    {
     "name": "stdout",
     "output_type": "stream",
     "text": [
      "Epoch 1/60\n",
      "64/64 [==============================] - 1s 7ms/step - loss: 0.6779 - accuracy: 0.5953 - precision: 0.0000e+00 - recall: 0.0000e+00 - val_loss: 0.6732 - val_accuracy: 0.6078 - val_precision: 0.0000e+00 - val_recall: 0.0000e+00\n",
      "Epoch 2/60\n",
      "64/64 [==============================] - 0s 3ms/step - loss: 0.6752 - accuracy: 0.5953 - precision: 0.0000e+00 - recall: 0.0000e+00 - val_loss: 0.6763 - val_accuracy: 0.6078 - val_precision: 0.0000e+00 - val_recall: 0.0000e+00\n",
      "Epoch 3/60\n",
      "64/64 [==============================] - 0s 2ms/step - loss: 0.6786 - accuracy: 0.5953 - precision: 0.0000e+00 - recall: 0.0000e+00 - val_loss: 0.6703 - val_accuracy: 0.6078 - val_precision: 0.0000e+00 - val_recall: 0.0000e+00\n",
      "Epoch 4/60\n",
      "64/64 [==============================] - 0s 3ms/step - loss: 0.6749 - accuracy: 0.5953 - precision: 0.0000e+00 - recall: 0.0000e+00 - val_loss: 0.6694 - val_accuracy: 0.6078 - val_precision: 0.0000e+00 - val_recall: 0.0000e+00\n",
      "Epoch 5/60\n",
      "64/64 [==============================] - 0s 3ms/step - loss: 0.6752 - accuracy: 0.5953 - precision: 0.0000e+00 - recall: 0.0000e+00 - val_loss: 0.6694 - val_accuracy: 0.6078 - val_precision: 0.0000e+00 - val_recall: 0.0000e+00\n",
      "Epoch 6/60\n",
      "64/64 [==============================] - 0s 3ms/step - loss: 0.6748 - accuracy: 0.5957 - precision: 1.0000 - recall: 9.6525e-04 - val_loss: 0.6696 - val_accuracy: 0.6078 - val_precision: 0.0000e+00 - val_recall: 0.0000e+00\n",
      "Epoch 7/60\n",
      "64/64 [==============================] - 0s 3ms/step - loss: 0.6724 - accuracy: 0.5965 - precision: 1.0000 - recall: 0.0029 - val_loss: 0.6665 - val_accuracy: 0.6125 - val_precision: 1.0000 - val_recall: 0.0120\n",
      "Epoch 8/60\n",
      "64/64 [==============================] - 0s 3ms/step - loss: 0.6643 - accuracy: 0.6047 - precision: 0.9615 - recall: 0.0241 - val_loss: 0.6591 - val_accuracy: 0.6234 - val_precision: 0.9167 - val_recall: 0.0438\n",
      "Epoch 9/60\n",
      "64/64 [==============================] - 0s 3ms/step - loss: 0.6512 - accuracy: 0.6371 - precision: 0.9496 - recall: 0.1091 - val_loss: 0.6406 - val_accuracy: 0.6594 - val_precision: 0.9024 - val_recall: 0.1474\n",
      "Epoch 10/60\n",
      "64/64 [==============================] - 0s 3ms/step - loss: 0.6161 - accuracy: 0.6684 - precision: 0.9269 - recall: 0.1959 - val_loss: 0.6040 - val_accuracy: 0.6625 - val_precision: 0.9070 - val_recall: 0.1554\n",
      "Epoch 11/60\n",
      "64/64 [==============================] - 0s 3ms/step - loss: 0.5669 - accuracy: 0.7211 - precision: 0.9215 - recall: 0.3398 - val_loss: 0.5490 - val_accuracy: 0.7266 - val_precision: 0.8654 - val_recall: 0.3586\n",
      "Epoch 12/60\n",
      "64/64 [==============================] - 0s 3ms/step - loss: 0.5144 - accuracy: 0.7676 - precision: 0.8756 - recall: 0.4961 - val_loss: 0.5218 - val_accuracy: 0.7266 - val_precision: 0.8519 - val_recall: 0.3665\n",
      "Epoch 13/60\n",
      "64/64 [==============================] - 0s 2ms/step - loss: 0.4716 - accuracy: 0.7977 - precision: 0.8901 - recall: 0.5705 - val_loss: 0.4847 - val_accuracy: 0.7859 - val_precision: 0.8132 - val_recall: 0.5896\n",
      "Epoch 14/60\n",
      "64/64 [==============================] - 0s 4ms/step - loss: 0.4446 - accuracy: 0.8012 - precision: 0.8634 - recall: 0.6042 - val_loss: 0.4648 - val_accuracy: 0.7844 - val_precision: 0.8087 - val_recall: 0.5896\n",
      "Epoch 15/60\n",
      "64/64 [==============================] - 0s 4ms/step - loss: 0.4515 - accuracy: 0.8043 - precision: 0.8307 - recall: 0.6486 - val_loss: 0.4969 - val_accuracy: 0.7703 - val_precision: 0.8467 - val_recall: 0.5060\n",
      "Epoch 16/60\n",
      "64/64 [==============================] - 0s 3ms/step - loss: 0.4200 - accuracy: 0.8113 - precision: 0.8452 - recall: 0.6535 - val_loss: 0.4523 - val_accuracy: 0.7844 - val_precision: 0.7958 - val_recall: 0.6056\n",
      "Epoch 17/60\n",
      "64/64 [==============================] - 0s 4ms/step - loss: 0.4277 - accuracy: 0.8180 - precision: 0.8353 - recall: 0.6853 - val_loss: 0.4479 - val_accuracy: 0.7906 - val_precision: 0.7970 - val_recall: 0.6255\n",
      "Epoch 18/60\n",
      "64/64 [==============================] - 0s 3ms/step - loss: 0.4151 - accuracy: 0.8133 - precision: 0.8321 - recall: 0.6747 - val_loss: 0.4684 - val_accuracy: 0.7906 - val_precision: 0.8305 - val_recall: 0.5857\n",
      "Epoch 19/60\n",
      "64/64 [==============================] - 0s 2ms/step - loss: 0.4098 - accuracy: 0.8211 - precision: 0.8262 - recall: 0.7066 - val_loss: 0.4561 - val_accuracy: 0.7828 - val_precision: 0.8043 - val_recall: 0.5896\n",
      "Epoch 20/60\n",
      "64/64 [==============================] - 0s 3ms/step - loss: 0.4016 - accuracy: 0.8215 - precision: 0.8309 - recall: 0.7017 - val_loss: 0.4377 - val_accuracy: 0.8062 - val_precision: 0.7981 - val_recall: 0.6773\n",
      "Epoch 21/60\n",
      "64/64 [==============================] - 0s 3ms/step - loss: 0.4037 - accuracy: 0.8230 - precision: 0.8316 - recall: 0.7056 - val_loss: 0.4898 - val_accuracy: 0.8109 - val_precision: 0.7305 - val_recall: 0.8207\n",
      "Epoch 22/60\n",
      "64/64 [==============================] - 0s 2ms/step - loss: 0.4010 - accuracy: 0.8258 - precision: 0.8242 - recall: 0.7239 - val_loss: 0.4343 - val_accuracy: 0.8172 - val_precision: 0.7939 - val_recall: 0.7211\n",
      "Epoch 23/60\n",
      "64/64 [==============================] - 0s 3ms/step - loss: 0.4046 - accuracy: 0.8238 - precision: 0.8261 - recall: 0.7153 - val_loss: 0.4303 - val_accuracy: 0.8156 - val_precision: 0.7930 - val_recall: 0.7171\n",
      "Epoch 24/60\n",
      "64/64 [==============================] - 0s 3ms/step - loss: 0.4046 - accuracy: 0.8273 - precision: 0.8235 - recall: 0.7297 - val_loss: 0.4386 - val_accuracy: 0.7922 - val_precision: 0.7980 - val_recall: 0.6295\n",
      "Epoch 25/60\n",
      "64/64 [==============================] - 0s 3ms/step - loss: 0.3884 - accuracy: 0.8297 - precision: 0.8289 - recall: 0.7297 - val_loss: 0.4271 - val_accuracy: 0.8188 - val_precision: 0.7922 - val_recall: 0.7291\n",
      "Epoch 26/60\n",
      "64/64 [==============================] - 0s 2ms/step - loss: 0.4019 - accuracy: 0.8332 - precision: 0.8243 - recall: 0.7471 - val_loss: 0.4255 - val_accuracy: 0.8172 - val_precision: 0.7888 - val_recall: 0.7291\n",
      "Epoch 27/60\n",
      "64/64 [==============================] - 0s 3ms/step - loss: 0.3954 - accuracy: 0.8320 - precision: 0.8272 - recall: 0.7394 - val_loss: 0.4603 - val_accuracy: 0.7859 - val_precision: 0.8000 - val_recall: 0.6056\n",
      "Epoch 28/60\n",
      "64/64 [==============================] - 0s 3ms/step - loss: 0.3984 - accuracy: 0.8332 - precision: 0.8257 - recall: 0.7452 - val_loss: 0.4216 - val_accuracy: 0.8156 - val_precision: 0.7930 - val_recall: 0.7171\n",
      "Epoch 29/60\n",
      "64/64 [==============================] - 0s 3ms/step - loss: 0.3836 - accuracy: 0.8348 - precision: 0.8250 - recall: 0.7510 - val_loss: 0.4240 - val_accuracy: 0.8188 - val_precision: 0.7689 - val_recall: 0.7689\n",
      "Epoch 30/60\n",
      "64/64 [==============================] - 0s 3ms/step - loss: 0.3938 - accuracy: 0.8309 - precision: 0.8157 - recall: 0.7519 - val_loss: 0.4252 - val_accuracy: 0.8109 - val_precision: 0.7539 - val_recall: 0.7689\n",
      "Epoch 31/60\n",
      "64/64 [==============================] - 0s 4ms/step - loss: 0.3918 - accuracy: 0.8316 - precision: 0.8154 - recall: 0.7548 - val_loss: 0.4183 - val_accuracy: 0.8203 - val_precision: 0.7957 - val_recall: 0.7291\n",
      "Epoch 32/60\n",
      "64/64 [==============================] - 0s 3ms/step - loss: 0.3811 - accuracy: 0.8328 - precision: 0.8140 - recall: 0.7606 - val_loss: 0.4207 - val_accuracy: 0.8156 - val_precision: 0.7628 - val_recall: 0.7689\n",
      "Epoch 33/60\n",
      "64/64 [==============================] - 0s 3ms/step - loss: 0.3805 - accuracy: 0.8398 - precision: 0.8227 - recall: 0.7703 - val_loss: 0.4193 - val_accuracy: 0.8156 - val_precision: 0.7628 - val_recall: 0.7689\n",
      "Epoch 34/60\n",
      "64/64 [==============================] - 0s 3ms/step - loss: 0.3788 - accuracy: 0.8359 - precision: 0.8182 - recall: 0.7645 - val_loss: 0.4190 - val_accuracy: 0.8156 - val_precision: 0.7930 - val_recall: 0.7171\n",
      "Epoch 35/60\n",
      "64/64 [==============================] - 0s 3ms/step - loss: 0.3810 - accuracy: 0.8395 - precision: 0.8199 - recall: 0.7732 - val_loss: 0.4442 - val_accuracy: 0.7953 - val_precision: 0.7941 - val_recall: 0.6454\n",
      "Epoch 36/60\n",
      "64/64 [==============================] - 0s 3ms/step - loss: 0.3998 - accuracy: 0.8293 - precision: 0.8091 - recall: 0.7568 - val_loss: 0.4356 - val_accuracy: 0.8094 - val_precision: 0.7329 - val_recall: 0.8088\n",
      "Epoch 37/60\n"
     ]
    },
    {
     "name": "stdout",
     "output_type": "stream",
     "text": [
      "64/64 [==============================] - 0s 3ms/step - loss: 0.4021 - accuracy: 0.8340 - precision: 0.8089 - recall: 0.7722 - val_loss: 0.4136 - val_accuracy: 0.8203 - val_precision: 0.7957 - val_recall: 0.7291\n",
      "Epoch 38/60\n",
      "64/64 [==============================] - 0s 3ms/step - loss: 0.3749 - accuracy: 0.8355 - precision: 0.8147 - recall: 0.7683 - val_loss: 0.4128 - val_accuracy: 0.8188 - val_precision: 0.7897 - val_recall: 0.7331\n",
      "Epoch 39/60\n",
      "64/64 [==============================] - 0s 3ms/step - loss: 0.3853 - accuracy: 0.8328 - precision: 0.8046 - recall: 0.7751 - val_loss: 0.4107 - val_accuracy: 0.8172 - val_precision: 0.7680 - val_recall: 0.7649\n",
      "Epoch 40/60\n",
      "64/64 [==============================] - 0s 3ms/step - loss: 0.3824 - accuracy: 0.8363 - precision: 0.8138 - recall: 0.7722 - val_loss: 0.4372 - val_accuracy: 0.8000 - val_precision: 0.7943 - val_recall: 0.6614\n",
      "Epoch 41/60\n",
      "64/64 [==============================] - 0s 3ms/step - loss: 0.3788 - accuracy: 0.8324 - precision: 0.8063 - recall: 0.7712 - val_loss: 0.4095 - val_accuracy: 0.8172 - val_precision: 0.7659 - val_recall: 0.7689\n",
      "Epoch 42/60\n",
      "64/64 [==============================] - 0s 3ms/step - loss: 0.3884 - accuracy: 0.8332 - precision: 0.8036 - recall: 0.7780 - val_loss: 0.4153 - val_accuracy: 0.8141 - val_precision: 0.7519 - val_recall: 0.7849\n",
      "Epoch 43/60\n",
      "64/64 [==============================] - 0s 2ms/step - loss: 0.3744 - accuracy: 0.8359 - precision: 0.8086 - recall: 0.7790 - val_loss: 0.4082 - val_accuracy: 0.8172 - val_precision: 0.7659 - val_recall: 0.7689\n",
      "Epoch 44/60\n",
      "64/64 [==============================] - 0s 3ms/step - loss: 0.3776 - accuracy: 0.8359 - precision: 0.8092 - recall: 0.7780 - val_loss: 0.4077 - val_accuracy: 0.8156 - val_precision: 0.7671 - val_recall: 0.7610\n",
      "Epoch 45/60\n",
      "64/64 [==============================] - 0s 3ms/step - loss: 0.3775 - accuracy: 0.8406 - precision: 0.8091 - recall: 0.7934 - val_loss: 0.4118 - val_accuracy: 0.8141 - val_precision: 0.7519 - val_recall: 0.7849\n",
      "Epoch 46/60\n",
      "64/64 [==============================] - 0s 3ms/step - loss: 0.3774 - accuracy: 0.8340 - precision: 0.7998 - recall: 0.7867 - val_loss: 0.4059 - val_accuracy: 0.8125 - val_precision: 0.7569 - val_recall: 0.7689\n",
      "Epoch 47/60\n",
      "64/64 [==============================] - 0s 2ms/step - loss: 0.3725 - accuracy: 0.8363 - precision: 0.8088 - recall: 0.7799 - val_loss: 0.4076 - val_accuracy: 0.8172 - val_precision: 0.7702 - val_recall: 0.7610\n",
      "Epoch 48/60\n",
      "64/64 [==============================] - 0s 3ms/step - loss: 0.3719 - accuracy: 0.8414 - precision: 0.8076 - recall: 0.7983 - val_loss: 0.4073 - val_accuracy: 0.8188 - val_precision: 0.7733 - val_recall: 0.7610\n",
      "Epoch 49/60\n",
      "64/64 [==============================] - 0s 3ms/step - loss: 0.3724 - accuracy: 0.8398 - precision: 0.8081 - recall: 0.7925 - val_loss: 0.4067 - val_accuracy: 0.8156 - val_precision: 0.7671 - val_recall: 0.7610\n",
      "Epoch 50/60\n",
      "64/64 [==============================] - 0s 3ms/step - loss: 0.3849 - accuracy: 0.8387 - precision: 0.8045 - recall: 0.7944 - val_loss: 0.4044 - val_accuracy: 0.8109 - val_precision: 0.7519 - val_recall: 0.7729\n",
      "Epoch 51/60\n",
      "64/64 [==============================] - 0s 3ms/step - loss: 0.3783 - accuracy: 0.8383 - precision: 0.8031 - recall: 0.7954 - val_loss: 0.4044 - val_accuracy: 0.8172 - val_precision: 0.7659 - val_recall: 0.7689\n",
      "Epoch 52/60\n",
      "64/64 [==============================] - 0s 3ms/step - loss: 0.3711 - accuracy: 0.8426 - precision: 0.8112 - recall: 0.7963 - val_loss: 0.4200 - val_accuracy: 0.8125 - val_precision: 0.7348 - val_recall: 0.8167\n",
      "Epoch 53/60\n",
      "64/64 [==============================] - 0s 3ms/step - loss: 0.3696 - accuracy: 0.8406 - precision: 0.8031 - recall: 0.8031 - val_loss: 0.4276 - val_accuracy: 0.8172 - val_precision: 0.7939 - val_recall: 0.7211\n",
      "Epoch 54/60\n",
      "64/64 [==============================] - 0s 3ms/step - loss: 0.3725 - accuracy: 0.8398 - precision: 0.8027 - recall: 0.8012 - val_loss: 0.4130 - val_accuracy: 0.8203 - val_precision: 0.7833 - val_recall: 0.7490\n",
      "Epoch 55/60\n",
      "64/64 [==============================] - 0s 3ms/step - loss: 0.3788 - accuracy: 0.8406 - precision: 0.8031 - recall: 0.8031 - val_loss: 0.4090 - val_accuracy: 0.8109 - val_precision: 0.7355 - val_recall: 0.8088\n",
      "Epoch 56/60\n",
      "64/64 [==============================] - 0s 3ms/step - loss: 0.3712 - accuracy: 0.8402 - precision: 0.8029 - recall: 0.8021 - val_loss: 0.4637 - val_accuracy: 0.8219 - val_precision: 0.7203 - val_recall: 0.8924\n",
      "Epoch 57/60\n",
      "64/64 [==============================] - 0s 3ms/step - loss: 0.3823 - accuracy: 0.8375 - precision: 0.7975 - recall: 0.8021 - val_loss: 0.4600 - val_accuracy: 0.8219 - val_precision: 0.7231 - val_recall: 0.8845\n",
      "Epoch 58/60\n",
      "64/64 [==============================] - 0s 2ms/step - loss: 0.3693 - accuracy: 0.8379 - precision: 0.8029 - recall: 0.7944 - val_loss: 0.4011 - val_accuracy: 0.8109 - val_precision: 0.7539 - val_recall: 0.7689\n",
      "Epoch 59/60\n",
      "64/64 [==============================] - 0s 3ms/step - loss: 0.3726 - accuracy: 0.8391 - precision: 0.8000 - recall: 0.8031 - val_loss: 0.4044 - val_accuracy: 0.8141 - val_precision: 0.7426 - val_recall: 0.8048\n",
      "Epoch 60/60\n",
      "64/64 [==============================] - 0s 2ms/step - loss: 0.3702 - accuracy: 0.8406 - precision: 0.8054 - recall: 0.7992 - val_loss: 0.4014 - val_accuracy: 0.8125 - val_precision: 0.7569 - val_recall: 0.7689\n",
      "20/20 [==============================] - 0s 1ms/step\n"
     ]
    },
    {
     "name": "stderr",
     "output_type": "stream",
     "text": [
      "WARNING:absl:Found untraced functions such as _update_step_xla while saving (showing 1 of 1). These functions will not be directly callable after loading.\n"
     ]
    },
    {
     "name": "stdout",
     "output_type": "stream",
     "text": [
      "INFO:tensorflow:Assets written to: C:\\Users\\jmbar\\AppData\\Local\\Temp\\tmp_pick3du\\assets\n"
     ]
    },
    {
     "name": "stderr",
     "output_type": "stream",
     "text": [
      "INFO:tensorflow:Assets written to: C:\\Users\\jmbar\\AppData\\Local\\Temp\\tmp_pick3du\\assets\n",
      "WARNING:absl:Found untraced functions such as _update_step_xla while saving (showing 1 of 1). These functions will not be directly callable after loading.\n"
     ]
    },
    {
     "name": "stdout",
     "output_type": "stream",
     "text": [
      "INFO:tensorflow:Assets written to: C:\\Users\\jmbar\\AppData\\Local\\Temp\\tmpq9exv6x5\\assets\n"
     ]
    },
    {
     "name": "stderr",
     "output_type": "stream",
     "text": [
      "INFO:tensorflow:Assets written to: C:\\Users\\jmbar\\AppData\\Local\\Temp\\tmpq9exv6x5\\assets\n"
     ]
    },
    {
     "name": "stdout",
     "output_type": "stream",
     "text": [
      "Epoch 1/60\n",
      "80/80 [==============================] - 1s 7ms/step - loss: 0.6782 - accuracy: 0.5978 - precision: 0.0000e+00 - recall: 0.0000e+00 - val_loss: 0.6826 - val_accuracy: 0.5838 - val_precision: 0.0000e+00 - val_recall: 0.0000e+00\n",
      "Epoch 2/60\n",
      "80/80 [==============================] - 0s 3ms/step - loss: 0.6746 - accuracy: 0.5978 - precision: 0.0000e+00 - recall: 0.0000e+00 - val_loss: 0.6799 - val_accuracy: 0.5838 - val_precision: 0.0000e+00 - val_recall: 0.0000e+00\n",
      "Epoch 3/60\n",
      "80/80 [==============================] - 0s 3ms/step - loss: 0.6745 - accuracy: 0.5978 - precision: 0.0000e+00 - recall: 0.0000e+00 - val_loss: 0.6793 - val_accuracy: 0.5838 - val_precision: 0.0000e+00 - val_recall: 0.0000e+00\n",
      "Epoch 4/60\n",
      "80/80 [==============================] - 0s 3ms/step - loss: 0.6737 - accuracy: 0.5978 - precision: 0.0000e+00 - recall: 0.0000e+00 - val_loss: 0.6823 - val_accuracy: 0.5838 - val_precision: 0.0000e+00 - val_recall: 0.0000e+00\n",
      "Epoch 5/60\n",
      "80/80 [==============================] - 0s 3ms/step - loss: 0.6739 - accuracy: 0.5984 - precision: 1.0000 - recall: 0.0016 - val_loss: 0.6844 - val_accuracy: 0.5838 - val_precision: 0.0000e+00 - val_recall: 0.0000e+00\n",
      "Epoch 6/60\n",
      "80/80 [==============================] - 0s 2ms/step - loss: 0.6666 - accuracy: 0.6044 - precision: 1.0000 - recall: 0.0163 - val_loss: 0.6716 - val_accuracy: 0.5925 - val_precision: 1.0000 - val_recall: 0.0210\n",
      "Epoch 7/60\n",
      "80/80 [==============================] - 0s 3ms/step - loss: 0.6472 - accuracy: 0.6356 - precision: 0.9549 - recall: 0.0987 - val_loss: 0.6386 - val_accuracy: 0.6313 - val_precision: 0.9318 - val_recall: 0.1231\n",
      "Epoch 8/60\n",
      "80/80 [==============================] - 0s 2ms/step - loss: 0.6130 - accuracy: 0.6709 - precision: 0.7511 - recall: 0.2720 - val_loss: 0.5965 - val_accuracy: 0.6650 - val_precision: 0.8736 - val_recall: 0.2282\n",
      "Epoch 9/60\n",
      "80/80 [==============================] - 0s 3ms/step - loss: 0.5463 - accuracy: 0.7422 - precision: 0.8837 - recall: 0.4134 - val_loss: 0.5443 - val_accuracy: 0.7812 - val_precision: 0.8160 - val_recall: 0.6126\n",
      "Epoch 10/60\n",
      "80/80 [==============================] - 0s 2ms/step - loss: 0.4824 - accuracy: 0.7788 - precision: 0.8755 - recall: 0.5245 - val_loss: 0.4915 - val_accuracy: 0.7625 - val_precision: 0.8629 - val_recall: 0.5105\n",
      "Epoch 11/60\n",
      "80/80 [==============================] - 0s 3ms/step - loss: 0.4521 - accuracy: 0.8025 - precision: 0.8556 - recall: 0.6123 - val_loss: 0.4696 - val_accuracy: 0.7912 - val_precision: 0.8097 - val_recall: 0.6517\n",
      "Epoch 12/60\n",
      "80/80 [==============================] - 0s 2ms/step - loss: 0.4314 - accuracy: 0.8100 - precision: 0.8433 - recall: 0.6480 - val_loss: 0.4613 - val_accuracy: 0.7800 - val_precision: 0.8285 - val_recall: 0.5946\n",
      "Epoch 13/60\n",
      "80/80 [==============================] - 0s 3ms/step - loss: 0.4395 - accuracy: 0.8103 - precision: 0.8263 - recall: 0.6690 - val_loss: 0.4849 - val_accuracy: 0.7713 - val_precision: 0.8440 - val_recall: 0.5526\n",
      "Epoch 14/60\n",
      "80/80 [==============================] - 0s 2ms/step - loss: 0.4258 - accuracy: 0.8163 - precision: 0.8383 - recall: 0.6729 - val_loss: 0.4474 - val_accuracy: 0.8112 - val_precision: 0.8074 - val_recall: 0.7177\n",
      "Epoch 15/60\n",
      "80/80 [==============================] - 0s 3ms/step - loss: 0.4213 - accuracy: 0.8166 - precision: 0.8235 - recall: 0.6923 - val_loss: 0.4414 - val_accuracy: 0.7850 - val_precision: 0.8061 - val_recall: 0.6366\n",
      "Epoch 16/60\n",
      "80/80 [==============================] - 0s 2ms/step - loss: 0.4024 - accuracy: 0.8225 - precision: 0.8283 - recall: 0.7047 - val_loss: 0.4357 - val_accuracy: 0.8000 - val_precision: 0.8123 - val_recall: 0.6757\n",
      "Epoch 17/60\n",
      "80/80 [==============================] - 0s 3ms/step - loss: 0.4092 - accuracy: 0.8244 - precision: 0.8257 - recall: 0.7141 - val_loss: 0.4441 - val_accuracy: 0.8150 - val_precision: 0.7795 - val_recall: 0.7748\n",
      "Epoch 18/60\n",
      "80/80 [==============================] - 0s 2ms/step - loss: 0.4023 - accuracy: 0.8231 - precision: 0.8176 - recall: 0.7211 - val_loss: 0.4398 - val_accuracy: 0.7837 - val_precision: 0.8053 - val_recall: 0.6336\n",
      "Epoch 19/60\n",
      "80/80 [==============================] - 0s 2ms/step - loss: 0.4017 - accuracy: 0.8269 - precision: 0.8223 - recall: 0.7265 - val_loss: 0.4334 - val_accuracy: 0.7925 - val_precision: 0.8081 - val_recall: 0.6577\n",
      "Epoch 20/60\n",
      "80/80 [==============================] - 0s 2ms/step - loss: 0.4025 - accuracy: 0.8250 - precision: 0.8147 - recall: 0.7312 - val_loss: 0.4235 - val_accuracy: 0.8125 - val_precision: 0.8102 - val_recall: 0.7177\n",
      "Epoch 21/60\n",
      "80/80 [==============================] - 0s 2ms/step - loss: 0.4078 - accuracy: 0.8238 - precision: 0.8061 - recall: 0.7397 - val_loss: 0.4971 - val_accuracy: 0.7788 - val_precision: 0.8250 - val_recall: 0.5946\n",
      "Epoch 22/60\n",
      "80/80 [==============================] - 0s 2ms/step - loss: 0.3908 - accuracy: 0.8291 - precision: 0.8179 - recall: 0.7397 - val_loss: 0.4189 - val_accuracy: 0.8150 - val_precision: 0.8073 - val_recall: 0.7297\n",
      "Epoch 23/60\n",
      "80/80 [==============================] - 0s 3ms/step - loss: 0.3964 - accuracy: 0.8303 - precision: 0.8147 - recall: 0.7483 - val_loss: 0.4422 - val_accuracy: 0.8175 - val_precision: 0.7634 - val_recall: 0.8138\n",
      "Epoch 24/60\n",
      "80/80 [==============================] - 0s 3ms/step - loss: 0.3908 - accuracy: 0.8334 - precision: 0.8179 - recall: 0.7537 - val_loss: 0.4208 - val_accuracy: 0.8163 - val_precision: 0.7801 - val_recall: 0.7778\n",
      "Epoch 25/60\n",
      "80/80 [==============================] - 0s 2ms/step - loss: 0.3859 - accuracy: 0.8338 - precision: 0.8159 - recall: 0.7576 - val_loss: 0.4282 - val_accuracy: 0.8025 - val_precision: 0.8136 - val_recall: 0.6817\n",
      "Epoch 26/60\n",
      "80/80 [==============================] - 0s 3ms/step - loss: 0.3939 - accuracy: 0.8316 - precision: 0.8127 - recall: 0.7552 - val_loss: 0.4262 - val_accuracy: 0.8025 - val_precision: 0.8092 - val_recall: 0.6877\n",
      "Epoch 27/60\n",
      "80/80 [==============================] - 0s 2ms/step - loss: 0.3879 - accuracy: 0.8328 - precision: 0.8102 - recall: 0.7630 - val_loss: 0.4308 - val_accuracy: 0.8175 - val_precision: 0.7634 - val_recall: 0.8138\n",
      "Epoch 28/60\n",
      "80/80 [==============================] - 0s 2ms/step - loss: 0.3881 - accuracy: 0.8356 - precision: 0.8121 - recall: 0.7692 - val_loss: 0.4119 - val_accuracy: 0.8163 - val_precision: 0.8059 - val_recall: 0.7357\n",
      "Epoch 29/60\n",
      "80/80 [==============================] - 0s 2ms/step - loss: 0.3875 - accuracy: 0.8306 - precision: 0.8081 - recall: 0.7591 - val_loss: 0.4083 - val_accuracy: 0.8188 - val_precision: 0.7866 - val_recall: 0.7748\n",
      "Epoch 30/60\n",
      "80/80 [==============================] - 0s 2ms/step - loss: 0.3827 - accuracy: 0.8341 - precision: 0.8083 - recall: 0.7700 - val_loss: 0.4082 - val_accuracy: 0.8163 - val_precision: 0.7943 - val_recall: 0.7538\n",
      "Epoch 31/60\n",
      "80/80 [==============================] - 0s 2ms/step - loss: 0.3778 - accuracy: 0.8359 - precision: 0.8098 - recall: 0.7739 - val_loss: 0.4213 - val_accuracy: 0.8125 - val_precision: 0.8102 - val_recall: 0.7177\n",
      "Epoch 32/60\n",
      "80/80 [==============================] - 0s 2ms/step - loss: 0.3820 - accuracy: 0.8347 - precision: 0.8032 - recall: 0.7801 - val_loss: 0.4060 - val_accuracy: 0.8175 - val_precision: 0.7913 - val_recall: 0.7628\n",
      "Epoch 33/60\n",
      "80/80 [==============================] - 0s 2ms/step - loss: 0.3777 - accuracy: 0.8372 - precision: 0.8059 - recall: 0.7840 - val_loss: 0.4144 - val_accuracy: 0.8175 - val_precision: 0.8106 - val_recall: 0.7327\n",
      "Epoch 34/60\n",
      "80/80 [==============================] - 0s 2ms/step - loss: 0.3786 - accuracy: 0.8341 - precision: 0.8010 - recall: 0.7817 - val_loss: 0.4032 - val_accuracy: 0.8188 - val_precision: 0.7866 - val_recall: 0.7748\n",
      "Epoch 35/60\n",
      "80/80 [==============================] - 0s 3ms/step - loss: 0.3835 - accuracy: 0.8322 - precision: 0.7976 - recall: 0.7809 - val_loss: 0.4018 - val_accuracy: 0.8150 - val_precision: 0.7795 - val_recall: 0.7748\n",
      "Epoch 36/60\n",
      "80/80 [==============================] - 0s 2ms/step - loss: 0.3764 - accuracy: 0.8338 - precision: 0.7998 - recall: 0.7824 - val_loss: 0.4192 - val_accuracy: 0.8225 - val_precision: 0.7631 - val_recall: 0.8318\n",
      "Epoch 37/60\n"
     ]
    },
    {
     "name": "stdout",
     "output_type": "stream",
     "text": [
      "80/80 [==============================] - 0s 3ms/step - loss: 0.3922 - accuracy: 0.8353 - precision: 0.7969 - recall: 0.7925 - val_loss: 0.4169 - val_accuracy: 0.8150 - val_precision: 0.8114 - val_recall: 0.7237\n",
      "Epoch 38/60\n",
      "80/80 [==============================] - 0s 2ms/step - loss: 0.3730 - accuracy: 0.8372 - precision: 0.8069 - recall: 0.7824 - val_loss: 0.4417 - val_accuracy: 0.8275 - val_precision: 0.7546 - val_recall: 0.8679\n",
      "Epoch 39/60\n",
      "80/80 [==============================] - 0s 2ms/step - loss: 0.3932 - accuracy: 0.8338 - precision: 0.7938 - recall: 0.7925 - val_loss: 0.4378 - val_accuracy: 0.8250 - val_precision: 0.7546 - val_recall: 0.8589\n",
      "Epoch 40/60\n",
      "80/80 [==============================] - 0s 3ms/step - loss: 0.3788 - accuracy: 0.8369 - precision: 0.7981 - recall: 0.7956 - val_loss: 0.4017 - val_accuracy: 0.8200 - val_precision: 0.7708 - val_recall: 0.8078\n",
      "Epoch 41/60\n",
      "80/80 [==============================] - 0s 2ms/step - loss: 0.3764 - accuracy: 0.8388 - precision: 0.8028 - recall: 0.7941 - val_loss: 0.3978 - val_accuracy: 0.8175 - val_precision: 0.7791 - val_recall: 0.7838\n",
      "Epoch 42/60\n",
      "80/80 [==============================] - 0s 2ms/step - loss: 0.3771 - accuracy: 0.8384 - precision: 0.7984 - recall: 0.8003 - val_loss: 0.4111 - val_accuracy: 0.8200 - val_precision: 0.8039 - val_recall: 0.7508\n",
      "Epoch 43/60\n",
      "80/80 [==============================] - 0s 3ms/step - loss: 0.3818 - accuracy: 0.8350 - precision: 0.8000 - recall: 0.7863 - val_loss: 0.4037 - val_accuracy: 0.8188 - val_precision: 0.7901 - val_recall: 0.7688\n",
      "Epoch 44/60\n",
      "80/80 [==============================] - 0s 2ms/step - loss: 0.3730 - accuracy: 0.8391 - precision: 0.8002 - recall: 0.7995 - val_loss: 0.3976 - val_accuracy: 0.8200 - val_precision: 0.7708 - val_recall: 0.8078\n",
      "Epoch 45/60\n",
      "80/80 [==============================] - 0s 3ms/step - loss: 0.3743 - accuracy: 0.8406 - precision: 0.8014 - recall: 0.8026 - val_loss: 0.4024 - val_accuracy: 0.8188 - val_precision: 0.7626 - val_recall: 0.8198\n",
      "Epoch 46/60\n",
      "80/80 [==============================] - 0s 3ms/step - loss: 0.3713 - accuracy: 0.8363 - precision: 0.7928 - recall: 0.8026 - val_loss: 0.3949 - val_accuracy: 0.8200 - val_precision: 0.7788 - val_recall: 0.7928\n",
      "Epoch 47/60\n",
      "80/80 [==============================] - 0s 3ms/step - loss: 0.3805 - accuracy: 0.8384 - precision: 0.7971 - recall: 0.8026 - val_loss: 0.4025 - val_accuracy: 0.8188 - val_precision: 0.7883 - val_recall: 0.7718\n",
      "Epoch 48/60\n",
      "80/80 [==============================] - 0s 3ms/step - loss: 0.3801 - accuracy: 0.8375 - precision: 0.7975 - recall: 0.7988 - val_loss: 0.3992 - val_accuracy: 0.8188 - val_precision: 0.7866 - val_recall: 0.7748\n",
      "Epoch 49/60\n",
      "80/80 [==============================] - 0s 3ms/step - loss: 0.3684 - accuracy: 0.8366 - precision: 0.7912 - recall: 0.8065 - val_loss: 0.3947 - val_accuracy: 0.8213 - val_precision: 0.7699 - val_recall: 0.8138\n",
      "Epoch 50/60\n",
      "80/80 [==============================] - 0s 3ms/step - loss: 0.3757 - accuracy: 0.8403 - precision: 0.7957 - recall: 0.8112 - val_loss: 0.4228 - val_accuracy: 0.8188 - val_precision: 0.8072 - val_recall: 0.7417\n",
      "Epoch 51/60\n",
      "80/80 [==============================] - 0s 3ms/step - loss: 0.3733 - accuracy: 0.8372 - precision: 0.7933 - recall: 0.8050 - val_loss: 0.3932 - val_accuracy: 0.8213 - val_precision: 0.7714 - val_recall: 0.8108\n",
      "Epoch 52/60\n",
      "80/80 [==============================] - 0s 3ms/step - loss: 0.3829 - accuracy: 0.8403 - precision: 0.7953 - recall: 0.8120 - val_loss: 0.3929 - val_accuracy: 0.8188 - val_precision: 0.7781 - val_recall: 0.7898\n",
      "Epoch 53/60\n",
      "80/80 [==============================] - 0s 2ms/step - loss: 0.3784 - accuracy: 0.8384 - precision: 0.7943 - recall: 0.8073 - val_loss: 0.3930 - val_accuracy: 0.8188 - val_precision: 0.7781 - val_recall: 0.7898\n",
      "Epoch 54/60\n",
      "80/80 [==============================] - 0s 2ms/step - loss: 0.3761 - accuracy: 0.8359 - precision: 0.7891 - recall: 0.8081 - val_loss: 0.4081 - val_accuracy: 0.8163 - val_precision: 0.7870 - val_recall: 0.7658\n",
      "Epoch 55/60\n",
      "80/80 [==============================] - 0s 2ms/step - loss: 0.3696 - accuracy: 0.8375 - precision: 0.7916 - recall: 0.8089 - val_loss: 0.3917 - val_accuracy: 0.8213 - val_precision: 0.7794 - val_recall: 0.7958\n",
      "Epoch 56/60\n",
      "80/80 [==============================] - 0s 2ms/step - loss: 0.3673 - accuracy: 0.8425 - precision: 0.7955 - recall: 0.8190 - val_loss: 0.3991 - val_accuracy: 0.8163 - val_precision: 0.7818 - val_recall: 0.7748\n",
      "Epoch 57/60\n",
      "80/80 [==============================] - 0s 3ms/step - loss: 0.3701 - accuracy: 0.8353 - precision: 0.7883 - recall: 0.8073 - val_loss: 0.4521 - val_accuracy: 0.8338 - val_precision: 0.7415 - val_recall: 0.9219\n",
      "Epoch 58/60\n",
      "80/80 [==============================] - 0s 3ms/step - loss: 0.3748 - accuracy: 0.8325 - precision: 0.7847 - recall: 0.8042 - val_loss: 0.4002 - val_accuracy: 0.8225 - val_precision: 0.7602 - val_recall: 0.8378\n",
      "Epoch 59/60\n",
      "80/80 [==============================] - 0s 2ms/step - loss: 0.3689 - accuracy: 0.8425 - precision: 0.7937 - recall: 0.8221 - val_loss: 0.3913 - val_accuracy: 0.8188 - val_precision: 0.7781 - val_recall: 0.7898\n",
      "Epoch 60/60\n",
      "80/80 [==============================] - 0s 3ms/step - loss: 0.3771 - accuracy: 0.8363 - precision: 0.7875 - recall: 0.8120 - val_loss: 0.3912 - val_accuracy: 0.8188 - val_precision: 0.7781 - val_recall: 0.7898\n"
     ]
    },
    {
     "data": {
      "text/html": [
       "<style>#sk-container-id-1 {color: black;}#sk-container-id-1 pre{padding: 0;}#sk-container-id-1 div.sk-toggleable {background-color: white;}#sk-container-id-1 label.sk-toggleable__label {cursor: pointer;display: block;width: 100%;margin-bottom: 0;padding: 0.3em;box-sizing: border-box;text-align: center;}#sk-container-id-1 label.sk-toggleable__label-arrow:before {content: \"▸\";float: left;margin-right: 0.25em;color: #696969;}#sk-container-id-1 label.sk-toggleable__label-arrow:hover:before {color: black;}#sk-container-id-1 div.sk-estimator:hover label.sk-toggleable__label-arrow:before {color: black;}#sk-container-id-1 div.sk-toggleable__content {max-height: 0;max-width: 0;overflow: hidden;text-align: left;background-color: #f0f8ff;}#sk-container-id-1 div.sk-toggleable__content pre {margin: 0.2em;color: black;border-radius: 0.25em;background-color: #f0f8ff;}#sk-container-id-1 input.sk-toggleable__control:checked~div.sk-toggleable__content {max-height: 200px;max-width: 100%;overflow: auto;}#sk-container-id-1 input.sk-toggleable__control:checked~label.sk-toggleable__label-arrow:before {content: \"▾\";}#sk-container-id-1 div.sk-estimator input.sk-toggleable__control:checked~label.sk-toggleable__label {background-color: #d4ebff;}#sk-container-id-1 div.sk-label input.sk-toggleable__control:checked~label.sk-toggleable__label {background-color: #d4ebff;}#sk-container-id-1 input.sk-hidden--visually {border: 0;clip: rect(1px 1px 1px 1px);clip: rect(1px, 1px, 1px, 1px);height: 1px;margin: -1px;overflow: hidden;padding: 0;position: absolute;width: 1px;}#sk-container-id-1 div.sk-estimator {font-family: monospace;background-color: #f0f8ff;border: 1px dotted black;border-radius: 0.25em;box-sizing: border-box;margin-bottom: 0.5em;}#sk-container-id-1 div.sk-estimator:hover {background-color: #d4ebff;}#sk-container-id-1 div.sk-parallel-item::after {content: \"\";width: 100%;border-bottom: 1px solid gray;flex-grow: 1;}#sk-container-id-1 div.sk-label:hover label.sk-toggleable__label {background-color: #d4ebff;}#sk-container-id-1 div.sk-serial::before {content: \"\";position: absolute;border-left: 1px solid gray;box-sizing: border-box;top: 0;bottom: 0;left: 50%;z-index: 0;}#sk-container-id-1 div.sk-serial {display: flex;flex-direction: column;align-items: center;background-color: white;padding-right: 0.2em;padding-left: 0.2em;position: relative;}#sk-container-id-1 div.sk-item {position: relative;z-index: 1;}#sk-container-id-1 div.sk-parallel {display: flex;align-items: stretch;justify-content: center;background-color: white;position: relative;}#sk-container-id-1 div.sk-item::before, #sk-container-id-1 div.sk-parallel-item::before {content: \"\";position: absolute;border-left: 1px solid gray;box-sizing: border-box;top: 0;bottom: 0;left: 50%;z-index: -1;}#sk-container-id-1 div.sk-parallel-item {display: flex;flex-direction: column;z-index: 1;position: relative;background-color: white;}#sk-container-id-1 div.sk-parallel-item:first-child::after {align-self: flex-end;width: 50%;}#sk-container-id-1 div.sk-parallel-item:last-child::after {align-self: flex-start;width: 50%;}#sk-container-id-1 div.sk-parallel-item:only-child::after {width: 0;}#sk-container-id-1 div.sk-dashed-wrapped {border: 1px dashed gray;margin: 0 0.4em 0.5em 0.4em;box-sizing: border-box;padding-bottom: 0.4em;background-color: white;}#sk-container-id-1 div.sk-label label {font-family: monospace;font-weight: bold;display: inline-block;line-height: 1.2em;}#sk-container-id-1 div.sk-label-container {text-align: center;}#sk-container-id-1 div.sk-container {/* jupyter's `normalize.less` sets `[hidden] { display: none; }` but bootstrap.min.css set `[hidden] { display: none !important; }` so we also need the `!important` here to be able to override the default hidden behavior on the sphinx rendered scikit-learn.org. See: https://github.com/scikit-learn/scikit-learn/issues/21755 */display: inline-block !important;position: relative;}#sk-container-id-1 div.sk-text-repr-fallback {display: none;}</style><div id=\"sk-container-id-1\" class=\"sk-top-container\"><div class=\"sk-text-repr-fallback\"><pre>GridSearchCV(cv=KFold(n_splits=5, random_state=2021, shuffle=True),\n",
       "             error_score=&#x27;raise&#x27;,\n",
       "             estimator=KerasClassifier(batch_size=40, epochs=60, model=&lt;keras.engine.sequential.Sequential object at 0x0000023283E3E410&gt;, validation_split=0.2),\n",
       "             param_grid={&#x27;optimizer&#x27;: [&#x27;SGD&#x27;, &#x27;RMSprop&#x27;, &#x27;Adagrad&#x27;]},\n",
       "             refit=&#x27;True&#x27;, scoring=&#x27;accuracy&#x27;, verbose=1)</pre><b>In a Jupyter environment, please rerun this cell to show the HTML representation or trust the notebook. <br />On GitHub, the HTML representation is unable to render, please try loading this page with nbviewer.org.</b></div><div class=\"sk-container\" hidden><div class=\"sk-item sk-dashed-wrapped\"><div class=\"sk-label-container\"><div class=\"sk-label sk-toggleable\"><input class=\"sk-toggleable__control sk-hidden--visually\" id=\"sk-estimator-id-1\" type=\"checkbox\" ><label for=\"sk-estimator-id-1\" class=\"sk-toggleable__label sk-toggleable__label-arrow\">GridSearchCV</label><div class=\"sk-toggleable__content\"><pre>GridSearchCV(cv=KFold(n_splits=5, random_state=2021, shuffle=True),\n",
       "             error_score=&#x27;raise&#x27;,\n",
       "             estimator=KerasClassifier(batch_size=40, epochs=60, model=&lt;keras.engine.sequential.Sequential object at 0x0000023283E3E410&gt;, validation_split=0.2),\n",
       "             param_grid={&#x27;optimizer&#x27;: [&#x27;SGD&#x27;, &#x27;RMSprop&#x27;, &#x27;Adagrad&#x27;]},\n",
       "             refit=&#x27;True&#x27;, scoring=&#x27;accuracy&#x27;, verbose=1)</pre></div></div></div><div class=\"sk-parallel\"><div class=\"sk-parallel-item\"><div class=\"sk-item\"><div class=\"sk-label-container\"><div class=\"sk-label sk-toggleable\"><input class=\"sk-toggleable__control sk-hidden--visually\" id=\"sk-estimator-id-2\" type=\"checkbox\" ><label for=\"sk-estimator-id-2\" class=\"sk-toggleable__label sk-toggleable__label-arrow\">estimator: KerasClassifier</label><div class=\"sk-toggleable__content\"><pre>KerasClassifier(\n",
       "\tmodel=&lt;keras.engine.sequential.Sequential object at 0x0000023283E3E410&gt;\n",
       "\tbuild_fn=None\n",
       "\twarm_start=False\n",
       "\trandom_state=None\n",
       "\toptimizer=rmsprop\n",
       "\tloss=None\n",
       "\tmetrics=None\n",
       "\tbatch_size=40\n",
       "\tvalidation_batch_size=None\n",
       "\tverbose=1\n",
       "\tcallbacks=None\n",
       "\tvalidation_split=0.2\n",
       "\tshuffle=True\n",
       "\trun_eagerly=False\n",
       "\tepochs=60\n",
       "\tclass_weight=None\n",
       ")</pre></div></div></div><div class=\"sk-serial\"><div class=\"sk-item\"><div class=\"sk-estimator sk-toggleable\"><input class=\"sk-toggleable__control sk-hidden--visually\" id=\"sk-estimator-id-3\" type=\"checkbox\" ><label for=\"sk-estimator-id-3\" class=\"sk-toggleable__label sk-toggleable__label-arrow\">KerasClassifier</label><div class=\"sk-toggleable__content\"><pre>KerasClassifier(\n",
       "\tmodel=&lt;keras.engine.sequential.Sequential object at 0x0000023283E3E410&gt;\n",
       "\tbuild_fn=None\n",
       "\twarm_start=False\n",
       "\trandom_state=None\n",
       "\toptimizer=rmsprop\n",
       "\tloss=None\n",
       "\tmetrics=None\n",
       "\tbatch_size=40\n",
       "\tvalidation_batch_size=None\n",
       "\tverbose=1\n",
       "\tcallbacks=None\n",
       "\tvalidation_split=0.2\n",
       "\tshuffle=True\n",
       "\trun_eagerly=False\n",
       "\tepochs=60\n",
       "\tclass_weight=None\n",
       ")</pre></div></div></div></div></div></div></div></div></div></div>"
      ],
      "text/plain": [
       "GridSearchCV(cv=KFold(n_splits=5, random_state=2021, shuffle=True),\n",
       "             error_score='raise',\n",
       "             estimator=KerasClassifier(batch_size=40, epochs=60, model=<keras.engine.sequential.Sequential object at 0x0000023283E3E410>, validation_split=0.2),\n",
       "             param_grid={'optimizer': ['SGD', 'RMSprop', 'Adagrad']},\n",
       "             refit='True', scoring='accuracy', verbose=1)"
      ]
     },
     "execution_count": 19,
     "metadata": {},
     "output_type": "execute_result"
    }
   ],
   "source": [
    "grid_search = GridSearchCV(estimator = model, param_grid = param_grid, cv = kf, scoring = 'accuracy',refit = 'True', verbose = 1,error_score='raise',)\n",
    "grid_search.fit(X_train,y_train)"
   ]
  },
  {
   "cell_type": "code",
   "execution_count": 20,
   "id": "6f612303",
   "metadata": {
    "tags": []
   },
   "outputs": [
    {
     "name": "stdout",
     "output_type": "stream",
     "text": [
      "Best: 0.837000 using {'optimizer': 'RMSprop'}\n"
     ]
    }
   ],
   "source": [
    "print(\"Best: %f using %s\" % (grid_search.best_score_,grid_search.best_params_))"
   ]
  },
  {
   "cell_type": "code",
   "execution_count": 21,
   "id": "c9890f14",
   "metadata": {
    "tags": []
   },
   "outputs": [],
   "source": [
    "means = grid_search.cv_results_['mean_test_score']\n",
    "stds = grid_search.cv_results_['std_test_score']\n",
    "params = grid_search.cv_results_['params']"
   ]
  },
  {
   "cell_type": "code",
   "execution_count": 22,
   "id": "3e853ad5",
   "metadata": {
    "tags": []
   },
   "outputs": [
    {
     "name": "stdout",
     "output_type": "stream",
     "text": [
      "0.835750 (0.007141) with {'optimizer': 'SGD'}\n",
      "0.837000 (0.006000) with {'optimizer': 'RMSprop'}\n",
      "0.835500 (0.007141) with {'optimizer': 'Adagrad'}\n"
     ]
    }
   ],
   "source": [
    "for mean, stdev, param in zip(means, stds, params):\n",
    "    print(\"%f (%f) with %r\" %(mean, stdev,param))"
   ]
  },
  {
   "cell_type": "code",
   "execution_count": 23,
   "id": "8a34ec04",
   "metadata": {
    "tags": []
   },
   "outputs": [],
   "source": [
    "best_mlp_model = grid_search.best_estimator_"
   ]
  },
  {
   "cell_type": "code",
   "execution_count": 24,
   "id": "b4c71c56",
   "metadata": {
    "tags": []
   },
   "outputs": [
    {
     "name": "stdout",
     "output_type": "stream",
     "text": [
      "Epoch 1/100\n",
      "100/100 [==============================] - 0s 5ms/step - loss: 0.3750 - accuracy: 0.8372 - precision: 0.7869 - recall: 0.8204 - val_loss: 0.3852 - val_accuracy: 0.8290 - val_precision: 0.7535 - val_recall: 0.8363\n",
      "Epoch 2/100\n",
      "100/100 [==============================] - 0s 3ms/step - loss: 0.3781 - accuracy: 0.8385 - precision: 0.7892 - recall: 0.8204 - val_loss: 0.3732 - val_accuracy: 0.8350 - val_precision: 0.7783 - val_recall: 0.8082\n",
      "Epoch 3/100\n",
      "100/100 [==============================] - 0s 2ms/step - loss: 0.3752 - accuracy: 0.8367 - precision: 0.7869 - recall: 0.8185 - val_loss: 0.3727 - val_accuracy: 0.8330 - val_precision: 0.7732 - val_recall: 0.8107\n",
      "Epoch 4/100\n",
      "100/100 [==============================] - 0s 2ms/step - loss: 0.3802 - accuracy: 0.8345 - precision: 0.7831 - recall: 0.8179 - val_loss: 0.3724 - val_accuracy: 0.8350 - val_precision: 0.7770 - val_recall: 0.8107\n",
      "Epoch 5/100\n",
      "100/100 [==============================] - 0s 2ms/step - loss: 0.3728 - accuracy: 0.8355 - precision: 0.7839 - recall: 0.8198 - val_loss: 0.3738 - val_accuracy: 0.8320 - val_precision: 0.7794 - val_recall: 0.7954\n",
      "Epoch 6/100\n",
      "100/100 [==============================] - 0s 2ms/step - loss: 0.3728 - accuracy: 0.8355 - precision: 0.7829 - recall: 0.8216 - val_loss: 0.3797 - val_accuracy: 0.8330 - val_precision: 0.7887 - val_recall: 0.7826\n",
      "Epoch 7/100\n",
      "100/100 [==============================] - 0s 2ms/step - loss: 0.3720 - accuracy: 0.8363 - precision: 0.7860 - recall: 0.8185 - val_loss: 0.3818 - val_accuracy: 0.8280 - val_precision: 0.7517 - val_recall: 0.8363\n",
      "Epoch 8/100\n",
      "100/100 [==============================] - 0s 3ms/step - loss: 0.3857 - accuracy: 0.8335 - precision: 0.7809 - recall: 0.8185 - val_loss: 0.3757 - val_accuracy: 0.8330 - val_precision: 0.7642 - val_recall: 0.8286\n",
      "Epoch 9/100\n",
      "100/100 [==============================] - 0s 3ms/step - loss: 0.3722 - accuracy: 0.8355 - precision: 0.7813 - recall: 0.8247 - val_loss: 0.3751 - val_accuracy: 0.8310 - val_precision: 0.7606 - val_recall: 0.8286\n",
      "Epoch 10/100\n",
      "100/100 [==============================] - 0s 3ms/step - loss: 0.3732 - accuracy: 0.8393 - precision: 0.7848 - recall: 0.8309 - val_loss: 0.3772 - val_accuracy: 0.8280 - val_precision: 0.7529 - val_recall: 0.8338\n",
      "Epoch 11/100\n",
      "100/100 [==============================] - 0s 2ms/step - loss: 0.3833 - accuracy: 0.8367 - precision: 0.7826 - recall: 0.8265 - val_loss: 0.3708 - val_accuracy: 0.8360 - val_precision: 0.7789 - val_recall: 0.8107\n",
      "Epoch 12/100\n",
      "100/100 [==============================] - 0s 3ms/step - loss: 0.3697 - accuracy: 0.8353 - precision: 0.7812 - recall: 0.8241 - val_loss: 0.3718 - val_accuracy: 0.8350 - val_precision: 0.7678 - val_recall: 0.8286\n",
      "Epoch 13/100\n",
      "100/100 [==============================] - 0s 2ms/step - loss: 0.3775 - accuracy: 0.8388 - precision: 0.7836 - recall: 0.8315 - val_loss: 0.3818 - val_accuracy: 0.8340 - val_precision: 0.7907 - val_recall: 0.7826\n",
      "Epoch 14/100\n",
      "100/100 [==============================] - 0s 2ms/step - loss: 0.3761 - accuracy: 0.8380 - precision: 0.7829 - recall: 0.8302 - val_loss: 0.3711 - val_accuracy: 0.8360 - val_precision: 0.7696 - val_recall: 0.8286\n",
      "Epoch 15/100\n",
      "100/100 [==============================] - 0s 3ms/step - loss: 0.3712 - accuracy: 0.8378 - precision: 0.7828 - recall: 0.8296 - val_loss: 0.3697 - val_accuracy: 0.8320 - val_precision: 0.7700 - val_recall: 0.8133\n",
      "Epoch 16/100\n",
      "100/100 [==============================] - 0s 3ms/step - loss: 0.3704 - accuracy: 0.8415 - precision: 0.7837 - recall: 0.8407 - val_loss: 0.3697 - val_accuracy: 0.8320 - val_precision: 0.7700 - val_recall: 0.8133\n",
      "Epoch 17/100\n",
      "100/100 [==============================] - 0s 3ms/step - loss: 0.3866 - accuracy: 0.8330 - precision: 0.7745 - recall: 0.8290 - val_loss: 0.3713 - val_accuracy: 0.8350 - val_precision: 0.7783 - val_recall: 0.8082\n",
      "Epoch 18/100\n",
      "100/100 [==============================] - 0s 2ms/step - loss: 0.3733 - accuracy: 0.8375 - precision: 0.7813 - recall: 0.8315 - val_loss: 0.3735 - val_accuracy: 0.8290 - val_precision: 0.7546 - val_recall: 0.8338\n",
      "Epoch 19/100\n",
      "100/100 [==============================] - 0s 3ms/step - loss: 0.3712 - accuracy: 0.8378 - precision: 0.7808 - recall: 0.8333 - val_loss: 0.3693 - val_accuracy: 0.8330 - val_precision: 0.7718 - val_recall: 0.8133\n",
      "Epoch 20/100\n",
      "100/100 [==============================] - 0s 2ms/step - loss: 0.3781 - accuracy: 0.8357 - precision: 0.7811 - recall: 0.8259 - val_loss: 0.3769 - val_accuracy: 0.8330 - val_precision: 0.7828 - val_recall: 0.7928\n",
      "Epoch 21/100\n",
      "100/100 [==============================] - 0s 2ms/step - loss: 0.3810 - accuracy: 0.8382 - precision: 0.7804 - recall: 0.8358 - val_loss: 0.3695 - val_accuracy: 0.8350 - val_precision: 0.7703 - val_recall: 0.8235\n",
      "Epoch 22/100\n",
      "100/100 [==============================] - 0s 2ms/step - loss: 0.3734 - accuracy: 0.8357 - precision: 0.7798 - recall: 0.8284 - val_loss: 0.3794 - val_accuracy: 0.8330 - val_precision: 0.7828 - val_recall: 0.7928\n",
      "Epoch 23/100\n",
      "100/100 [==============================] - 0s 2ms/step - loss: 0.3698 - accuracy: 0.8395 - precision: 0.7843 - recall: 0.8327 - val_loss: 0.3687 - val_accuracy: 0.8360 - val_precision: 0.7696 - val_recall: 0.8286\n",
      "Epoch 24/100\n",
      "100/100 [==============================] - 0s 2ms/step - loss: 0.3828 - accuracy: 0.8397 - precision: 0.7831 - recall: 0.8358 - val_loss: 0.3700 - val_accuracy: 0.8340 - val_precision: 0.7660 - val_recall: 0.8286\n",
      "Epoch 25/100\n",
      "100/100 [==============================] - 0s 3ms/step - loss: 0.3736 - accuracy: 0.8355 - precision: 0.7758 - recall: 0.8352 - val_loss: 0.3787 - val_accuracy: 0.8330 - val_precision: 0.7843 - val_recall: 0.7903\n",
      "Epoch 26/100\n",
      "100/100 [==============================] - 0s 2ms/step - loss: 0.3786 - accuracy: 0.8355 - precision: 0.7787 - recall: 0.8296 - val_loss: 0.3701 - val_accuracy: 0.8360 - val_precision: 0.7789 - val_recall: 0.8107\n",
      "Epoch 27/100\n",
      "100/100 [==============================] - 0s 2ms/step - loss: 0.3707 - accuracy: 0.8407 - precision: 0.7849 - recall: 0.8358 - val_loss: 0.3841 - val_accuracy: 0.8300 - val_precision: 0.7450 - val_recall: 0.8593\n",
      "Epoch 28/100\n",
      "100/100 [==============================] - 0s 2ms/step - loss: 0.3834 - accuracy: 0.8367 - precision: 0.7819 - recall: 0.8278 - val_loss: 0.3905 - val_accuracy: 0.8300 - val_precision: 0.7429 - val_recall: 0.8645\n",
      "Epoch 29/100\n",
      "100/100 [==============================] - 0s 3ms/step - loss: 0.3695 - accuracy: 0.8385 - precision: 0.7825 - recall: 0.8327 - val_loss: 0.3684 - val_accuracy: 0.8310 - val_precision: 0.7681 - val_recall: 0.8133\n",
      "Epoch 30/100\n",
      "100/100 [==============================] - 0s 2ms/step - loss: 0.3675 - accuracy: 0.8367 - precision: 0.7793 - recall: 0.8327 - val_loss: 0.3873 - val_accuracy: 0.8300 - val_precision: 0.7429 - val_recall: 0.8645\n",
      "Epoch 31/100\n",
      "100/100 [==============================] - 0s 2ms/step - loss: 0.3672 - accuracy: 0.8390 - precision: 0.7814 - recall: 0.8364 - val_loss: 0.3678 - val_accuracy: 0.8310 - val_precision: 0.7681 - val_recall: 0.8133\n",
      "Epoch 32/100\n",
      "100/100 [==============================] - 0s 2ms/step - loss: 0.3704 - accuracy: 0.8370 - precision: 0.7827 - recall: 0.8272 - val_loss: 0.3685 - val_accuracy: 0.8350 - val_precision: 0.7703 - val_recall: 0.8235\n",
      "Epoch 33/100\n",
      "100/100 [==============================] - 0s 2ms/step - loss: 0.3794 - accuracy: 0.8360 - precision: 0.7776 - recall: 0.8333 - val_loss: 0.3860 - val_accuracy: 0.8370 - val_precision: 0.8000 - val_recall: 0.7775\n",
      "Epoch 34/100\n",
      "100/100 [==============================] - 0s 2ms/step - loss: 0.3693 - accuracy: 0.8393 - precision: 0.7848 - recall: 0.8309 - val_loss: 0.3756 - val_accuracy: 0.8280 - val_precision: 0.7506 - val_recall: 0.8389\n",
      "Epoch 35/100\n",
      "100/100 [==============================] - 0s 2ms/step - loss: 0.3688 - accuracy: 0.8355 - precision: 0.7790 - recall: 0.8290 - val_loss: 0.3704 - val_accuracy: 0.8330 - val_precision: 0.7828 - val_recall: 0.7928\n",
      "Epoch 36/100\n",
      "100/100 [==============================] - 0s 2ms/step - loss: 0.3657 - accuracy: 0.8370 - precision: 0.7817 - recall: 0.8290 - val_loss: 0.3805 - val_accuracy: 0.8300 - val_precision: 0.7472 - val_recall: 0.8542\n",
      "Epoch 37/100\n"
     ]
    },
    {
     "name": "stdout",
     "output_type": "stream",
     "text": [
      "100/100 [==============================] - 0s 2ms/step - loss: 0.3672 - accuracy: 0.8360 - precision: 0.7802 - recall: 0.8284 - val_loss: 0.3902 - val_accuracy: 0.8380 - val_precision: 0.8021 - val_recall: 0.7775\n",
      "Epoch 38/100\n",
      "100/100 [==============================] - 0s 2ms/step - loss: 0.3667 - accuracy: 0.8360 - precision: 0.7815 - recall: 0.8259 - val_loss: 0.3664 - val_accuracy: 0.8360 - val_precision: 0.7802 - val_recall: 0.8082\n",
      "Epoch 39/100\n",
      "100/100 [==============================] - 0s 3ms/step - loss: 0.3666 - accuracy: 0.8357 - precision: 0.7798 - recall: 0.8284 - val_loss: 0.3818 - val_accuracy: 0.8370 - val_precision: 0.7953 - val_recall: 0.7852\n",
      "Epoch 40/100\n",
      "100/100 [==============================] - 0s 3ms/step - loss: 0.3814 - accuracy: 0.8338 - precision: 0.7781 - recall: 0.8247 - val_loss: 0.3747 - val_accuracy: 0.8350 - val_precision: 0.7883 - val_recall: 0.7903\n",
      "Epoch 41/100\n",
      "100/100 [==============================] - 0s 2ms/step - loss: 0.3638 - accuracy: 0.8382 - precision: 0.7794 - recall: 0.8377 - val_loss: 0.3629 - val_accuracy: 0.8350 - val_precision: 0.7756 - val_recall: 0.8133\n",
      "Epoch 42/100\n",
      "100/100 [==============================] - 0s 2ms/step - loss: 0.3656 - accuracy: 0.8370 - precision: 0.7791 - recall: 0.8340 - val_loss: 0.3914 - val_accuracy: 0.8280 - val_precision: 0.7365 - val_recall: 0.8721\n",
      "Epoch 43/100\n",
      "100/100 [==============================] - 0s 3ms/step - loss: 0.3678 - accuracy: 0.8415 - precision: 0.7820 - recall: 0.8438 - val_loss: 0.3626 - val_accuracy: 0.8340 - val_precision: 0.7660 - val_recall: 0.8286\n",
      "Epoch 44/100\n",
      "100/100 [==============================] - 0s 3ms/step - loss: 0.3719 - accuracy: 0.8330 - precision: 0.7726 - recall: 0.8327 - val_loss: 0.3628 - val_accuracy: 0.8340 - val_precision: 0.7751 - val_recall: 0.8107\n",
      "Epoch 45/100\n",
      "100/100 [==============================] - 0s 3ms/step - loss: 0.3799 - accuracy: 0.8365 - precision: 0.7795 - recall: 0.8315 - val_loss: 0.3652 - val_accuracy: 0.8350 - val_precision: 0.7811 - val_recall: 0.8031\n",
      "Epoch 46/100\n",
      "100/100 [==============================] - 0s 2ms/step - loss: 0.3640 - accuracy: 0.8375 - precision: 0.7797 - recall: 0.8346 - val_loss: 0.3663 - val_accuracy: 0.8370 - val_precision: 0.7808 - val_recall: 0.8107\n",
      "Epoch 47/100\n",
      "100/100 [==============================] - 0s 2ms/step - loss: 0.3640 - accuracy: 0.8382 - precision: 0.7811 - recall: 0.8346 - val_loss: 0.3667 - val_accuracy: 0.8360 - val_precision: 0.7789 - val_recall: 0.8107\n",
      "Epoch 48/100\n",
      "100/100 [==============================] - 0s 3ms/step - loss: 0.3671 - accuracy: 0.8347 - precision: 0.7751 - recall: 0.8340 - val_loss: 0.3637 - val_accuracy: 0.8290 - val_precision: 0.7535 - val_recall: 0.8363\n",
      "Epoch 49/100\n",
      "100/100 [==============================] - 0s 3ms/step - loss: 0.3639 - accuracy: 0.8388 - precision: 0.7775 - recall: 0.8432 - val_loss: 0.3703 - val_accuracy: 0.8350 - val_precision: 0.7811 - val_recall: 0.8031\n",
      "Epoch 50/100\n",
      "100/100 [==============================] - 0s 2ms/step - loss: 0.3608 - accuracy: 0.8400 - precision: 0.7787 - recall: 0.8451 - val_loss: 0.3607 - val_accuracy: 0.8360 - val_precision: 0.7709 - val_recall: 0.8261\n",
      "Epoch 51/100\n",
      "100/100 [==============================] - 0s 2ms/step - loss: 0.3614 - accuracy: 0.8388 - precision: 0.7775 - recall: 0.8432 - val_loss: 0.3647 - val_accuracy: 0.8360 - val_precision: 0.7735 - val_recall: 0.8210\n",
      "Epoch 52/100\n",
      "100/100 [==============================] - 0s 2ms/step - loss: 0.3621 - accuracy: 0.8415 - precision: 0.7792 - recall: 0.8494 - val_loss: 0.3598 - val_accuracy: 0.8330 - val_precision: 0.7642 - val_recall: 0.8286\n",
      "Epoch 53/100\n",
      "100/100 [==============================] - 0s 3ms/step - loss: 0.3633 - accuracy: 0.8385 - precision: 0.7742 - recall: 0.8488 - val_loss: 0.3827 - val_accuracy: 0.8290 - val_precision: 0.7361 - val_recall: 0.8772\n",
      "Epoch 54/100\n",
      "100/100 [==============================] - 0s 2ms/step - loss: 0.3639 - accuracy: 0.8380 - precision: 0.7733 - recall: 0.8488 - val_loss: 0.3604 - val_accuracy: 0.8310 - val_precision: 0.7569 - val_recall: 0.8363\n",
      "Epoch 55/100\n",
      "100/100 [==============================] - 0s 3ms/step - loss: 0.3574 - accuracy: 0.8390 - precision: 0.7754 - recall: 0.8481 - val_loss: 0.3597 - val_accuracy: 0.8320 - val_precision: 0.7587 - val_recall: 0.8363\n",
      "Epoch 56/100\n",
      "100/100 [==============================] - 0s 3ms/step - loss: 0.3639 - accuracy: 0.8397 - precision: 0.7727 - recall: 0.8562 - val_loss: 0.3604 - val_accuracy: 0.8290 - val_precision: 0.7535 - val_recall: 0.8363\n",
      "Epoch 57/100\n",
      "100/100 [==============================] - 0s 2ms/step - loss: 0.3628 - accuracy: 0.8385 - precision: 0.7730 - recall: 0.8512 - val_loss: 0.3748 - val_accuracy: 0.8350 - val_precision: 0.7797 - val_recall: 0.8056\n",
      "Epoch 58/100\n",
      "100/100 [==============================] - 0s 2ms/step - loss: 0.3655 - accuracy: 0.8355 - precision: 0.7724 - recall: 0.8420 - val_loss: 0.3604 - val_accuracy: 0.8290 - val_precision: 0.7535 - val_recall: 0.8363\n",
      "Epoch 59/100\n",
      "100/100 [==============================] - 0s 2ms/step - loss: 0.3654 - accuracy: 0.8370 - precision: 0.7692 - recall: 0.8537 - val_loss: 0.3596 - val_accuracy: 0.8350 - val_precision: 0.7690 - val_recall: 0.8261\n",
      "Epoch 60/100\n",
      "100/100 [==============================] - 0s 2ms/step - loss: 0.3586 - accuracy: 0.8385 - precision: 0.7773 - recall: 0.8426 - val_loss: 0.3631 - val_accuracy: 0.8310 - val_precision: 0.7511 - val_recall: 0.8491\n",
      "Epoch 61/100\n",
      "100/100 [==============================] - 0s 2ms/step - loss: 0.3630 - accuracy: 0.8378 - precision: 0.7729 - recall: 0.8488 - val_loss: 0.3590 - val_accuracy: 0.8300 - val_precision: 0.7552 - val_recall: 0.8363\n",
      "Epoch 62/100\n",
      "100/100 [==============================] - 0s 2ms/step - loss: 0.3570 - accuracy: 0.8393 - precision: 0.7731 - recall: 0.8537 - val_loss: 0.3606 - val_accuracy: 0.8330 - val_precision: 0.7642 - val_recall: 0.8286\n",
      "Epoch 63/100\n",
      "100/100 [==============================] - 0s 2ms/step - loss: 0.3764 - accuracy: 0.8355 - precision: 0.7711 - recall: 0.8444 - val_loss: 0.3583 - val_accuracy: 0.8330 - val_precision: 0.7642 - val_recall: 0.8286\n",
      "Epoch 64/100\n",
      "100/100 [==============================] - 0s 2ms/step - loss: 0.3572 - accuracy: 0.8410 - precision: 0.7742 - recall: 0.8574 - val_loss: 0.3655 - val_accuracy: 0.8310 - val_precision: 0.7445 - val_recall: 0.8645\n",
      "Epoch 65/100\n",
      "100/100 [==============================] - 0s 3ms/step - loss: 0.3618 - accuracy: 0.8397 - precision: 0.7724 - recall: 0.8568 - val_loss: 0.3630 - val_accuracy: 0.8360 - val_precision: 0.7735 - val_recall: 0.8210\n",
      "Epoch 66/100\n",
      "100/100 [==============================] - 0s 2ms/step - loss: 0.3645 - accuracy: 0.8355 - precision: 0.7690 - recall: 0.8488 - val_loss: 0.3660 - val_accuracy: 0.8340 - val_precision: 0.7737 - val_recall: 0.8133\n",
      "Epoch 67/100\n",
      "100/100 [==============================] - 0s 2ms/step - loss: 0.3597 - accuracy: 0.8403 - precision: 0.7742 - recall: 0.8549 - val_loss: 0.3589 - val_accuracy: 0.8330 - val_precision: 0.7642 - val_recall: 0.8286\n",
      "Epoch 68/100\n",
      "100/100 [==============================] - 0s 2ms/step - loss: 0.3732 - accuracy: 0.8382 - precision: 0.7701 - recall: 0.8562 - val_loss: 0.3589 - val_accuracy: 0.8320 - val_precision: 0.7599 - val_recall: 0.8338\n",
      "Epoch 69/100\n",
      "100/100 [==============================] - 0s 2ms/step - loss: 0.3652 - accuracy: 0.8397 - precision: 0.7764 - recall: 0.8488 - val_loss: 0.3710 - val_accuracy: 0.8280 - val_precision: 0.7396 - val_recall: 0.8645\n",
      "Epoch 70/100\n",
      "100/100 [==============================] - 0s 2ms/step - loss: 0.3632 - accuracy: 0.8372 - precision: 0.7699 - recall: 0.8531 - val_loss: 0.3587 - val_accuracy: 0.8300 - val_precision: 0.7540 - val_recall: 0.8389\n",
      "Epoch 71/100\n",
      "100/100 [==============================] - 0s 2ms/step - loss: 0.3629 - accuracy: 0.8378 - precision: 0.7714 - recall: 0.8519 - val_loss: 0.3653 - val_accuracy: 0.8320 - val_precision: 0.7461 - val_recall: 0.8645\n",
      "Epoch 72/100\n",
      "100/100 [==============================] - 0s 2ms/step - loss: 0.3550 - accuracy: 0.8397 - precision: 0.7739 - recall: 0.8537 - val_loss: 0.3692 - val_accuracy: 0.8260 - val_precision: 0.7364 - val_recall: 0.8645\n",
      "Epoch 73/100\n"
     ]
    },
    {
     "name": "stdout",
     "output_type": "stream",
     "text": [
      "100/100 [==============================] - 0s 2ms/step - loss: 0.3561 - accuracy: 0.8372 - precision: 0.7690 - recall: 0.8549 - val_loss: 0.3580 - val_accuracy: 0.8290 - val_precision: 0.7535 - val_recall: 0.8363\n",
      "Epoch 74/100\n",
      "100/100 [==============================] - 0s 3ms/step - loss: 0.3592 - accuracy: 0.8388 - precision: 0.7707 - recall: 0.8568 - val_loss: 0.3571 - val_accuracy: 0.8300 - val_precision: 0.7552 - val_recall: 0.8363\n",
      "Epoch 75/100\n",
      "100/100 [==============================] - 0s 2ms/step - loss: 0.3617 - accuracy: 0.8418 - precision: 0.7740 - recall: 0.8605 - val_loss: 0.3573 - val_accuracy: 0.8300 - val_precision: 0.7552 - val_recall: 0.8363\n",
      "Epoch 76/100\n",
      "100/100 [==============================] - 0s 2ms/step - loss: 0.3592 - accuracy: 0.8397 - precision: 0.7758 - recall: 0.8500 - val_loss: 0.3602 - val_accuracy: 0.8360 - val_precision: 0.7709 - val_recall: 0.8261\n",
      "Epoch 77/100\n",
      "100/100 [==============================] - 0s 2ms/step - loss: 0.3739 - accuracy: 0.8410 - precision: 0.7739 - recall: 0.8580 - val_loss: 0.3575 - val_accuracy: 0.8340 - val_precision: 0.7660 - val_recall: 0.8286\n",
      "Epoch 78/100\n",
      "100/100 [==============================] - 0s 2ms/step - loss: 0.3617 - accuracy: 0.8390 - precision: 0.7754 - recall: 0.8481 - val_loss: 0.3591 - val_accuracy: 0.8370 - val_precision: 0.7740 - val_recall: 0.8235\n",
      "Epoch 79/100\n",
      "100/100 [==============================] - 0s 2ms/step - loss: 0.3725 - accuracy: 0.8365 - precision: 0.7729 - recall: 0.8444 - val_loss: 0.3644 - val_accuracy: 0.8340 - val_precision: 0.7751 - val_recall: 0.8107\n",
      "Epoch 80/100\n",
      "100/100 [==============================] - 0s 2ms/step - loss: 0.3642 - accuracy: 0.8350 - precision: 0.7721 - recall: 0.8407 - val_loss: 0.3614 - val_accuracy: 0.8360 - val_precision: 0.7735 - val_recall: 0.8210\n",
      "Epoch 81/100\n",
      "100/100 [==============================] - 0s 3ms/step - loss: 0.3598 - accuracy: 0.8380 - precision: 0.7724 - recall: 0.8506 - val_loss: 0.3617 - val_accuracy: 0.8370 - val_precision: 0.7740 - val_recall: 0.8235\n",
      "Epoch 82/100\n",
      "100/100 [==============================] - 0s 2ms/step - loss: 0.3648 - accuracy: 0.8413 - precision: 0.7732 - recall: 0.8605 - val_loss: 0.3574 - val_accuracy: 0.8330 - val_precision: 0.7642 - val_recall: 0.8286\n",
      "Epoch 83/100\n",
      "100/100 [==============================] - 0s 2ms/step - loss: 0.3597 - accuracy: 0.8413 - precision: 0.7753 - recall: 0.8562 - val_loss: 0.3670 - val_accuracy: 0.8280 - val_precision: 0.7396 - val_recall: 0.8645\n",
      "Epoch 84/100\n",
      "100/100 [==============================] - 0s 2ms/step - loss: 0.3590 - accuracy: 0.8425 - precision: 0.7775 - recall: 0.8562 - val_loss: 0.3579 - val_accuracy: 0.8310 - val_precision: 0.7534 - val_recall: 0.8440\n",
      "Epoch 85/100\n",
      "100/100 [==============================] - 0s 3ms/step - loss: 0.3604 - accuracy: 0.8400 - precision: 0.7731 - recall: 0.8562 - val_loss: 0.3569 - val_accuracy: 0.8310 - val_precision: 0.7581 - val_recall: 0.8338\n",
      "Epoch 86/100\n",
      "100/100 [==============================] - 0s 2ms/step - loss: 0.3609 - accuracy: 0.8388 - precision: 0.7740 - recall: 0.8500 - val_loss: 0.3665 - val_accuracy: 0.8280 - val_precision: 0.7396 - val_recall: 0.8645\n",
      "Epoch 87/100\n",
      "100/100 [==============================] - 0s 3ms/step - loss: 0.3571 - accuracy: 0.8400 - precision: 0.7692 - recall: 0.8642 - val_loss: 0.4032 - val_accuracy: 0.8370 - val_precision: 0.7923 - val_recall: 0.7903\n",
      "Epoch 88/100\n",
      "100/100 [==============================] - 0s 2ms/step - loss: 0.3655 - accuracy: 0.8400 - precision: 0.7762 - recall: 0.8500 - val_loss: 0.3887 - val_accuracy: 0.8280 - val_precision: 0.7267 - val_recall: 0.8977\n",
      "Epoch 89/100\n",
      "100/100 [==============================] - 0s 2ms/step - loss: 0.3651 - accuracy: 0.8382 - precision: 0.7695 - recall: 0.8574 - val_loss: 0.3678 - val_accuracy: 0.8290 - val_precision: 0.7412 - val_recall: 0.8645\n",
      "Epoch 90/100\n",
      "100/100 [==============================] - 0s 2ms/step - loss: 0.3531 - accuracy: 0.8390 - precision: 0.7738 - recall: 0.8512 - val_loss: 0.3569 - val_accuracy: 0.8300 - val_precision: 0.7552 - val_recall: 0.8363\n",
      "Epoch 91/100\n",
      "100/100 [==============================] - 0s 2ms/step - loss: 0.3595 - accuracy: 0.8415 - precision: 0.7721 - recall: 0.8636 - val_loss: 0.3585 - val_accuracy: 0.8310 - val_precision: 0.7523 - val_recall: 0.8465\n",
      "Epoch 92/100\n",
      "100/100 [==============================] - 0s 2ms/step - loss: 0.3603 - accuracy: 0.8405 - precision: 0.7743 - recall: 0.8556 - val_loss: 0.3712 - val_accuracy: 0.8330 - val_precision: 0.7732 - val_recall: 0.8107\n",
      "Epoch 93/100\n",
      "100/100 [==============================] - 0s 2ms/step - loss: 0.3565 - accuracy: 0.8422 - precision: 0.7734 - recall: 0.8636 - val_loss: 0.3581 - val_accuracy: 0.8320 - val_precision: 0.7587 - val_recall: 0.8363\n",
      "Epoch 94/100\n",
      "100/100 [==============================] - 0s 3ms/step - loss: 0.3672 - accuracy: 0.8388 - precision: 0.7695 - recall: 0.8593 - val_loss: 0.3594 - val_accuracy: 0.8310 - val_precision: 0.7500 - val_recall: 0.8517\n",
      "Epoch 95/100\n",
      "100/100 [==============================] - 0s 2ms/step - loss: 0.3575 - accuracy: 0.8425 - precision: 0.7744 - recall: 0.8623 - val_loss: 0.3629 - val_accuracy: 0.8300 - val_precision: 0.7429 - val_recall: 0.8645\n",
      "Epoch 96/100\n",
      "100/100 [==============================] - 0s 2ms/step - loss: 0.3637 - accuracy: 0.8380 - precision: 0.7697 - recall: 0.8562 - val_loss: 0.3568 - val_accuracy: 0.8300 - val_precision: 0.7529 - val_recall: 0.8414\n",
      "Epoch 97/100\n",
      "100/100 [==============================] - 0s 3ms/step - loss: 0.3629 - accuracy: 0.8395 - precision: 0.7708 - recall: 0.8593 - val_loss: 0.3583 - val_accuracy: 0.8300 - val_precision: 0.7506 - val_recall: 0.8465\n",
      "Epoch 98/100\n",
      "100/100 [==============================] - 0s 2ms/step - loss: 0.3554 - accuracy: 0.8418 - precision: 0.7734 - recall: 0.8617 - val_loss: 0.3678 - val_accuracy: 0.8360 - val_precision: 0.7748 - val_recall: 0.8184\n",
      "Epoch 99/100\n",
      "100/100 [==============================] - 0s 2ms/step - loss: 0.3572 - accuracy: 0.8382 - precision: 0.7701 - recall: 0.8562 - val_loss: 0.3595 - val_accuracy: 0.8360 - val_precision: 0.7709 - val_recall: 0.8261\n",
      "Epoch 100/100\n",
      "100/100 [==============================] - 0s 3ms/step - loss: 0.3561 - accuracy: 0.8413 - precision: 0.7732 - recall: 0.8605 - val_loss: 0.3595 - val_accuracy: 0.8360 - val_precision: 0.7709 - val_recall: 0.8261\n"
     ]
    },
    {
     "data": {
      "text/html": [
       "<style>#sk-container-id-2 {color: black;}#sk-container-id-2 pre{padding: 0;}#sk-container-id-2 div.sk-toggleable {background-color: white;}#sk-container-id-2 label.sk-toggleable__label {cursor: pointer;display: block;width: 100%;margin-bottom: 0;padding: 0.3em;box-sizing: border-box;text-align: center;}#sk-container-id-2 label.sk-toggleable__label-arrow:before {content: \"▸\";float: left;margin-right: 0.25em;color: #696969;}#sk-container-id-2 label.sk-toggleable__label-arrow:hover:before {color: black;}#sk-container-id-2 div.sk-estimator:hover label.sk-toggleable__label-arrow:before {color: black;}#sk-container-id-2 div.sk-toggleable__content {max-height: 0;max-width: 0;overflow: hidden;text-align: left;background-color: #f0f8ff;}#sk-container-id-2 div.sk-toggleable__content pre {margin: 0.2em;color: black;border-radius: 0.25em;background-color: #f0f8ff;}#sk-container-id-2 input.sk-toggleable__control:checked~div.sk-toggleable__content {max-height: 200px;max-width: 100%;overflow: auto;}#sk-container-id-2 input.sk-toggleable__control:checked~label.sk-toggleable__label-arrow:before {content: \"▾\";}#sk-container-id-2 div.sk-estimator input.sk-toggleable__control:checked~label.sk-toggleable__label {background-color: #d4ebff;}#sk-container-id-2 div.sk-label input.sk-toggleable__control:checked~label.sk-toggleable__label {background-color: #d4ebff;}#sk-container-id-2 input.sk-hidden--visually {border: 0;clip: rect(1px 1px 1px 1px);clip: rect(1px, 1px, 1px, 1px);height: 1px;margin: -1px;overflow: hidden;padding: 0;position: absolute;width: 1px;}#sk-container-id-2 div.sk-estimator {font-family: monospace;background-color: #f0f8ff;border: 1px dotted black;border-radius: 0.25em;box-sizing: border-box;margin-bottom: 0.5em;}#sk-container-id-2 div.sk-estimator:hover {background-color: #d4ebff;}#sk-container-id-2 div.sk-parallel-item::after {content: \"\";width: 100%;border-bottom: 1px solid gray;flex-grow: 1;}#sk-container-id-2 div.sk-label:hover label.sk-toggleable__label {background-color: #d4ebff;}#sk-container-id-2 div.sk-serial::before {content: \"\";position: absolute;border-left: 1px solid gray;box-sizing: border-box;top: 0;bottom: 0;left: 50%;z-index: 0;}#sk-container-id-2 div.sk-serial {display: flex;flex-direction: column;align-items: center;background-color: white;padding-right: 0.2em;padding-left: 0.2em;position: relative;}#sk-container-id-2 div.sk-item {position: relative;z-index: 1;}#sk-container-id-2 div.sk-parallel {display: flex;align-items: stretch;justify-content: center;background-color: white;position: relative;}#sk-container-id-2 div.sk-item::before, #sk-container-id-2 div.sk-parallel-item::before {content: \"\";position: absolute;border-left: 1px solid gray;box-sizing: border-box;top: 0;bottom: 0;left: 50%;z-index: -1;}#sk-container-id-2 div.sk-parallel-item {display: flex;flex-direction: column;z-index: 1;position: relative;background-color: white;}#sk-container-id-2 div.sk-parallel-item:first-child::after {align-self: flex-end;width: 50%;}#sk-container-id-2 div.sk-parallel-item:last-child::after {align-self: flex-start;width: 50%;}#sk-container-id-2 div.sk-parallel-item:only-child::after {width: 0;}#sk-container-id-2 div.sk-dashed-wrapped {border: 1px dashed gray;margin: 0 0.4em 0.5em 0.4em;box-sizing: border-box;padding-bottom: 0.4em;background-color: white;}#sk-container-id-2 div.sk-label label {font-family: monospace;font-weight: bold;display: inline-block;line-height: 1.2em;}#sk-container-id-2 div.sk-label-container {text-align: center;}#sk-container-id-2 div.sk-container {/* jupyter's `normalize.less` sets `[hidden] { display: none; }` but bootstrap.min.css set `[hidden] { display: none !important; }` so we also need the `!important` here to be able to override the default hidden behavior on the sphinx rendered scikit-learn.org. See: https://github.com/scikit-learn/scikit-learn/issues/21755 */display: inline-block !important;position: relative;}#sk-container-id-2 div.sk-text-repr-fallback {display: none;}</style><div id=\"sk-container-id-2\" class=\"sk-top-container\"><div class=\"sk-text-repr-fallback\"><pre>KerasClassifier(\n",
       "\tmodel=&lt;keras.engine.sequential.Sequential object at 0x0000023284FE3650&gt;\n",
       "\tbuild_fn=None\n",
       "\twarm_start=False\n",
       "\trandom_state=None\n",
       "\toptimizer=RMSprop\n",
       "\tloss=None\n",
       "\tmetrics=None\n",
       "\tbatch_size=40\n",
       "\tvalidation_batch_size=None\n",
       "\tverbose=1\n",
       "\tcallbacks=None\n",
       "\tvalidation_split=0.2\n",
       "\tshuffle=True\n",
       "\trun_eagerly=False\n",
       "\tepochs=60\n",
       "\tclass_weight=None\n",
       ")</pre><b>In a Jupyter environment, please rerun this cell to show the HTML representation or trust the notebook. <br />On GitHub, the HTML representation is unable to render, please try loading this page with nbviewer.org.</b></div><div class=\"sk-container\" hidden><div class=\"sk-item\"><div class=\"sk-estimator sk-toggleable\"><input class=\"sk-toggleable__control sk-hidden--visually\" id=\"sk-estimator-id-4\" type=\"checkbox\" checked><label for=\"sk-estimator-id-4\" class=\"sk-toggleable__label sk-toggleable__label-arrow\">KerasClassifier</label><div class=\"sk-toggleable__content\"><pre>KerasClassifier(\n",
       "\tmodel=&lt;keras.engine.sequential.Sequential object at 0x0000023284FE3650&gt;\n",
       "\tbuild_fn=None\n",
       "\twarm_start=False\n",
       "\trandom_state=None\n",
       "\toptimizer=RMSprop\n",
       "\tloss=None\n",
       "\tmetrics=None\n",
       "\tbatch_size=40\n",
       "\tvalidation_batch_size=None\n",
       "\tverbose=1\n",
       "\tcallbacks=None\n",
       "\tvalidation_split=0.2\n",
       "\tshuffle=True\n",
       "\trun_eagerly=False\n",
       "\tepochs=60\n",
       "\tclass_weight=None\n",
       ")</pre></div></div></div></div></div>"
      ],
      "text/plain": [
       "KerasClassifier(\n",
       "\tmodel=<keras.engine.sequential.Sequential object at 0x0000023284FE3650>\n",
       "\tbuild_fn=None\n",
       "\twarm_start=False\n",
       "\trandom_state=None\n",
       "\toptimizer=RMSprop\n",
       "\tloss=None\n",
       "\tmetrics=None\n",
       "\tbatch_size=40\n",
       "\tvalidation_batch_size=None\n",
       "\tverbose=1\n",
       "\tcallbacks=None\n",
       "\tvalidation_split=0.2\n",
       "\tshuffle=True\n",
       "\trun_eagerly=False\n",
       "\tepochs=60\n",
       "\tclass_weight=None\n",
       ")"
      ]
     },
     "execution_count": 24,
     "metadata": {},
     "output_type": "execute_result"
    }
   ],
   "source": [
    "best_mlp_model.fit(X_train, y_train, epochs =100, validation_data = (X_test, y_test), verbose =1)"
   ]
  },
  {
   "cell_type": "code",
   "execution_count": 25,
   "id": "604bcfc5",
   "metadata": {
    "tags": []
   },
   "outputs": [
    {
     "data": {
      "image/png": "[encoded data removed]",
      "text/plain": [
       "<Figure size 640x480 with 1 Axes>"
      ]
     },
     "metadata": {},
     "output_type": "display_data"
    }
   ],
   "source": [
    "plt.plot(best_mlp_model.history_['loss'])\n",
    "plt.plot(best_mlp_model.history_['val_loss'])\n",
    "plt.title('model performance')\n",
    "plt.ylabel('loss values')\n",
    "plt.xlabel('epoch')\n",
    "plt.legend(['train', 'val'], loc='upper left')\n",
    "plt.show()"
   ]
  },
  {
   "cell_type": "code",
   "execution_count": 26,
   "id": "5c79abd2",
   "metadata": {
    "tags": []
   },
   "outputs": [
    {
     "data": {
      "image/png": "[encoded data removed]",
      "text/plain": [
       "<Figure size 800x500 with 1 Axes>"
      ]
     },
     "metadata": {},
     "output_type": "display_data"
    }
   ],
   "source": [
    "pd.DataFrame(best_mlp_model.history_).plot(figsize=(8,5))\n",
    "plt.show()"
   ]
  },
  {
   "cell_type": "code",
   "execution_count": 27,
   "id": "4616ddc8",
   "metadata": {
    "tags": []
   },
   "outputs": [
    {
     "name": "stdout",
     "output_type": "stream",
     "text": [
      "25/25 [==============================] - 0s 1ms/step\n"
     ]
    }
   ],
   "source": [
    "prediction = best_mlp_model.predict(X_test)"
   ]
  },
  {
   "cell_type": "code",
   "execution_count": 28,
   "id": "8c8c0265",
   "metadata": {
    "tags": []
   },
   "outputs": [],
   "source": [
    "from sklearn import metrics"
   ]
  },
  {
   "cell_type": "code",
   "execution_count": 29,
   "id": "693b8027",
   "metadata": {
    "tags": []
   },
   "outputs": [
    {
     "name": "stdout",
     "output_type": "stream",
     "text": [
      "Accuracy:  0.836\n",
      "Precision:  0.7708830548926014\n",
      "Recall:  0.8260869565217391\n"
     ]
    }
   ],
   "source": [
    "accuracy = metrics.accuracy_score(y_test, prediction)\n",
    "precision = metrics.precision_score(y_test, prediction)\n",
    "recall = metrics.recall_score(y_test, prediction)\n",
    "\n",
    "print('Accuracy: ', accuracy)\n",
    "print('Precision: ', precision)\n",
    "print('Recall: ', recall)"
   ]
  },
  {
   "cell_type": "code",
   "execution_count": 30,
   "id": "a23d0ea0",
   "metadata": {
    "tags": []
   },
   "outputs": [
    {
     "data": {
      "text/plain": [
       "<matplotlib.collections.PathCollection at 0x2328a64fb10>"
      ]
     },
     "execution_count": 30,
     "metadata": {},
     "output_type": "execute_result"
    },
    {
     "data": {
      "image/png": "[encoded data removed]",
      "text/plain": [
       "<Figure size 640x480 with 1 Axes>"
      ]
     },
     "metadata": {},
     "output_type": "display_data"
    }
   ],
   "source": [
    "plt.scatter(y_test,prediction)"
   ]
  },
  {
   "cell_type": "code",
   "execution_count": 31,
   "id": "cb942872",
   "metadata": {
    "tags": []
   },
   "outputs": [],
   "source": [
    "def real_predicted_viz(limit):\n",
    "    plt.figure(figsize=(14,6))\n",
    "    plt.plot(y_test[:limit],color='green',label='Actual')\n",
    "    plt.plot(prediction[:limit],color='red',label='Predicted')\n",
    "    plt.grid(alpha=0.3)\n",
    "    \n",
    "    plt.title('Real x Predicted')\n",
    "    plt.legend()\n",
    "    plt.show()"
   ]
  },
  {
   "cell_type": "code",
   "execution_count": 32,
   "id": "fee731ae",
   "metadata": {
    "tags": []
   },
   "outputs": [
    {
     "data": {
      "image/png": "[encoded data removed]",
      "text/plain": [
       "<Figure size 1400x600 with 1 Axes>"
      ]
     },
     "metadata": {},
     "output_type": "display_data"
    }
   ],
   "source": [
    "real_predicted_viz(200)"
   ]
  },
  {
   "cell_type": "code",
   "execution_count": null,
   "id": "8f9c0ca3",
   "metadata": {},
   "outputs": [],
   "source": []
  }
 ],
 "metadata": {
  "kernelspec": {
   "display_name": "Python 3 (ipykernel)",
   "language": "python",
   "name": "python3"
  },
  "language_info": {
   "codemirror_mode": {
    "name": "ipython",
    "version": 3
   },
   "file_extension": ".py",
   "mimetype": "text/x-python",
   "name": "python",
   "nbconvert_exporter": "python",
   "pygments_lexer": "ipython3",
   "version": "3.11.5"
  }
 },
 "nbformat": 4,
 "nbformat_minor": 5
}
