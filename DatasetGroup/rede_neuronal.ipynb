{
 "cells": [
  {
   "cell_type": "markdown",
   "id": "2e2010da",
   "metadata": {},
   "source": [
    "# Decision Tree for KickStarProject dataset\n",
    "\n",
    "Goal: predict state"
   ]
  },
  {
   "cell_type": "code",
   "execution_count": 1,
   "id": "7aeb164c",
   "metadata": {
    "tags": []
   },
   "outputs": [],
   "source": [
    "import pandas as pd\n",
    "import numpy as np\n",
    "import matplotlib.pyplot as plt\n",
    "import seaborn as sns\n",
    "%matplotlib inline"
   ]
  },
  {
   "cell_type": "code",
   "execution_count": 2,
   "id": "36975df2",
   "metadata": {
    "tags": []
   },
   "outputs": [],
   "source": [
    "%store -r data"
   ]
  },
  {
   "cell_type": "code",
   "execution_count": 3,
   "id": "5d67e3ed",
   "metadata": {
    "tags": []
   },
   "outputs": [
    {
     "name": "stdout",
     "output_type": "stream",
     "text": [
      "Index(['category', 'main_category', 'currency', 'deadline', 'goal', 'launched',\n",
      "       'pledged', 'state', 'backers', 'country', 'usd pledged',\n",
      "       'usd_pledged_real', 'usd_goal_real', 'continent', 'days_launched',\n",
      "       'launched_month'],\n",
      "      dtype='object')\n",
      "(5000, 16)\n",
      "<class 'pandas.core.frame.DataFrame'>\n",
      "Index: 5000 entries, 372978 to 378660\n",
      "Data columns (total 16 columns):\n",
      " #   Column            Non-Null Count  Dtype         \n",
      "---  ------            --------------  -----         \n",
      " 0   category          5000 non-null   object        \n",
      " 1   main_category     5000 non-null   object        \n",
      " 2   currency          5000 non-null   object        \n",
      " 3   deadline          5000 non-null   datetime64[ns]\n",
      " 4   goal              5000 non-null   float64       \n",
      " 5   launched          5000 non-null   datetime64[ns]\n",
      " 6   pledged           5000 non-null   float64       \n",
      " 7   state             5000 non-null   int64         \n",
      " 8   backers           5000 non-null   int64         \n",
      " 9   country           5000 non-null   object        \n",
      " 10  usd pledged       5000 non-null   float64       \n",
      " 11  usd_pledged_real  5000 non-null   float64       \n",
      " 12  usd_goal_real     5000 non-null   float64       \n",
      " 13  continent         5000 non-null   object        \n",
      " 14  days_launched     5000 non-null   int64         \n",
      " 15  launched_month    5000 non-null   int32         \n",
      "dtypes: datetime64[ns](2), float64(5), int32(1), int64(3), object(5)\n",
      "memory usage: 644.5+ KB\n",
      "None\n"
     ]
    }
   ],
   "source": [
    "print(data.columns)\n",
    "print(data.shape)\n",
    "print(data.info())"
   ]
  },
  {
   "cell_type": "code",
   "execution_count": 4,
   "id": "2863005b",
   "metadata": {
    "tags": []
   },
   "outputs": [
    {
     "name": "stdout",
     "output_type": "stream",
     "text": [
      "<class 'pandas.core.frame.DataFrame'>\n",
      "Index: 5000 entries, 372978 to 378660\n",
      "Data columns (total 5 columns):\n",
      " #   Column            Non-Null Count  Dtype  \n",
      "---  ------            --------------  -----  \n",
      " 0   pledged           5000 non-null   float64\n",
      " 1   state             5000 non-null   int64  \n",
      " 2   backers           5000 non-null   int64  \n",
      " 3   usd pledged       5000 non-null   float64\n",
      " 4   usd_pledged_real  5000 non-null   float64\n",
      "dtypes: float64(3), int64(2)\n",
      "memory usage: 234.4 KB\n"
     ]
    }
   ],
   "source": [
    "data_rn = data.copy()\n",
    "data_rn.drop(['category','main_category','currency','deadline','goal','launched','country','continent','usd_goal_real','days_launched','launched_month'] ,axis=1,inplace=True)\n",
    "data_rn.info()"
   ]
  },
  {
   "cell_type": "code",
   "execution_count": 5,
   "id": "63a37ee5",
   "metadata": {
    "tags": []
   },
   "outputs": [],
   "source": [
    "from sklearn.model_selection import train_test_split\n",
    "from sklearn.tree import DecisionTreeClassifier\n",
    "from sklearn.tree import DecisionTreeRegressor\n",
    "from sklearn.metrics import confusion_matrix\n",
    "from sklearn.metrics import recall_score\n",
    "from sklearn.metrics import accuracy_score\n",
    "from sklearn.metrics import precision_score\n",
    "from sklearn.metrics import roc_auc_score\n",
    "from sklearn.metrics import roc_curve\n",
    "from sklearn.metrics import f1_score\n",
    "from sklearn.metrics import fbeta_score\n",
    "from sklearn.metrics import mean_absolute_error\n",
    "from sklearn.metrics import mean_squared_error\n",
    "\n",
    "def grafico_barras(data,atr,title,xlabel,ylabel):\n",
    "    incidents_count = data[atr].value_counts()\n",
    "    sns.set(style='darkgrid')\n",
    "    sns.barplot(x=incidents_count.index, y=incidents_count.values)\n",
    "    plt.title(title)\n",
    "    plt.ylabel(ylabel)\n",
    "    plt.xlabel(xlabel)\n",
    "    plt.show()\n",
    "\n",
    "\n",
    "X = data_rn.drop(['state'],axis=1)\n",
    "y = data_rn['state'].to_frame()\n",
    "random = 2021\n",
    "X_train, X_test, y_train, y_test = train_test_split(X,y, test_size=0.3, random_state=random)"
   ]
  },
  {
   "cell_type": "code",
   "execution_count": 6,
   "id": "768029c1",
   "metadata": {
    "tags": []
   },
   "outputs": [
    {
     "name": "stdout",
     "output_type": "stream",
     "text": [
      "The shape of X (5000, 4). X_train has shape (3500, 4) while X_test has shape (1500, 4)\n",
      "The shape of y (5000, 1). y_train has shape (3500, 1) while y_test has shape (1500, 1)\n"
     ]
    }
   ],
   "source": [
    "print(\"The shape of X %s. X_train has shape %s while X_test has shape %s\" %(X.shape, X_train.shape, X_test.shape))\n",
    "print(\"The shape of y %s. y_train has shape %s while y_test has shape %s\" %(y.shape, y_train.shape, y_test.shape))"
   ]
  },
  {
   "cell_type": "code",
   "execution_count": 7,
   "id": "4467e705",
   "metadata": {
    "tags": []
   },
   "outputs": [
    {
     "name": "stderr",
     "output_type": "stream",
     "text": [
      "C:\\Users\\jmbar\\anaconda3\\Lib\\site-packages\\seaborn\\_oldcore.py:1498: FutureWarning: is_categorical_dtype is deprecated and will be removed in a future version. Use isinstance(dtype, CategoricalDtype) instead\n",
      "  if pd.api.types.is_categorical_dtype(vector):\n",
      "C:\\Users\\jmbar\\anaconda3\\Lib\\site-packages\\seaborn\\_oldcore.py:1498: FutureWarning: is_categorical_dtype is deprecated and will be removed in a future version. Use isinstance(dtype, CategoricalDtype) instead\n",
      "  if pd.api.types.is_categorical_dtype(vector):\n",
      "C:\\Users\\jmbar\\anaconda3\\Lib\\site-packages\\seaborn\\_oldcore.py:1498: FutureWarning: is_categorical_dtype is deprecated and will be removed in a future version. Use isinstance(dtype, CategoricalDtype) instead\n",
      "  if pd.api.types.is_categorical_dtype(vector):\n"
     ]
    },
    {
     "data": {
      "image/png": "[encoded data removed]",
      "text/plain": [
       "<Figure size 640x480 with 1 Axes>"
      ]
     },
     "metadata": {},
     "output_type": "display_data"
    },
    {
     "name": "stderr",
     "output_type": "stream",
     "text": [
      "C:\\Users\\jmbar\\anaconda3\\Lib\\site-packages\\seaborn\\_oldcore.py:1498: FutureWarning: is_categorical_dtype is deprecated and will be removed in a future version. Use isinstance(dtype, CategoricalDtype) instead\n",
      "  if pd.api.types.is_categorical_dtype(vector):\n",
      "C:\\Users\\jmbar\\anaconda3\\Lib\\site-packages\\seaborn\\_oldcore.py:1498: FutureWarning: is_categorical_dtype is deprecated and will be removed in a future version. Use isinstance(dtype, CategoricalDtype) instead\n",
      "  if pd.api.types.is_categorical_dtype(vector):\n",
      "C:\\Users\\jmbar\\anaconda3\\Lib\\site-packages\\seaborn\\_oldcore.py:1498: FutureWarning: is_categorical_dtype is deprecated and will be removed in a future version. Use isinstance(dtype, CategoricalDtype) instead\n",
      "  if pd.api.types.is_categorical_dtype(vector):\n"
     ]
    },
    {
     "data": {
      "image/png": "[encoded data removed]",
      "text/plain": [
       "<Figure size 640x480 with 1 Axes>"
      ]
     },
     "metadata": {},
     "output_type": "display_data"
    }
   ],
   "source": [
    "grafico_barras(y_train,'state','Dados treino','state','Ocorrências')\n",
    "grafico_barras(y_test,'state','Dados teste','state','Ocorrências')"
   ]
  },
  {
   "cell_type": "code",
   "execution_count": 8,
   "id": "684b0c79",
   "metadata": {
    "tags": []
   },
   "outputs": [],
   "source": [
    "from sklearn.model_selection import GridSearchCV, KFold, train_test_split"
   ]
  },
  {
   "cell_type": "code",
   "execution_count": 9,
   "id": "13fca954",
   "metadata": {
    "tags": []
   },
   "outputs": [],
   "source": [
    "import tensorflow as tf\n",
    "from tensorflow import keras\n",
    "from tensorflow.keras.models import Sequential\n",
    "from tensorflow.keras.layers import Dense, Dropout, BatchNormalization\n",
    "from scikeras.wrappers import KerasClassifier"
   ]
  },
  {
   "cell_type": "code",
   "execution_count": 10,
   "id": "eb93b4fe",
   "metadata": {
    "tags": []
   },
   "outputs": [
    {
     "name": "stdout",
     "output_type": "stream",
     "text": [
      "TensorFlow version: 2.12.1\n"
     ]
    }
   ],
   "source": [
    "print(\"TensorFlow version:\", tf.__version__)"
   ]
  },
  {
   "cell_type": "code",
   "execution_count": 11,
   "id": "93fada70",
   "metadata": {
    "tags": []
   },
   "outputs": [],
   "source": [
    "def build_model(activation='sigmoid', learning_rate=0.01):\n",
    "    model = Sequential()\n",
    "    model.add(Dense(16, input_dim=4, activation=activation))\n",
    "    model.add(Dense(12, activation=activation))\n",
    "    model.add(Dense(8, activation=activation))\n",
    "    model.add(Dense(1, activation='sigmoid'))  # Output layer\n",
    "\n",
    "    # Compile the model\n",
    "    model.compile(\n",
    "        loss='binary_crossentropy',\n",
    "        optimizer=tf.optimizers.Adam(learning_rate),\n",
    "        metrics=['accuracy', tf.keras.metrics.Precision(), tf.keras.metrics.Recall()]\n",
    "    )\n",
    "    return model"
   ]
  },
  {
   "cell_type": "code",
   "execution_count": 12,
   "id": "dba9664d-b1a5-49c5-b722-d5267fcf8184",
   "metadata": {
    "tags": []
   },
   "outputs": [],
   "source": [
    "from sklearn.preprocessing import MinMaxScaler\n",
    "\n",
    "scaler_x = MinMaxScaler(feature_range=(0,1)).fit(X)\n",
    "X_scaled = pd.DataFrame(scaler_x.transform(X[X.columns]), columns = X.columns)"
   ]
  },
  {
   "cell_type": "code",
   "execution_count": 13,
   "id": "ffe0d61a-334d-4226-8179-4d5f77ae8fa3",
   "metadata": {
    "tags": []
   },
   "outputs": [
    {
     "data": {
      "text/html": [
       "<div>\n",
       "<style scoped>\n",
       "    .dataframe tbody tr th:only-of-type {\n",
       "        vertical-align: middle;\n",
       "    }\n",
       "\n",
       "    .dataframe tbody tr th {\n",
       "        vertical-align: top;\n",
       "    }\n",
       "\n",
       "    .dataframe thead th {\n",
       "        text-align: right;\n",
       "    }\n",
       "</style>\n",
       "<table border=\"1\" class=\"dataframe\">\n",
       "  <thead>\n",
       "    <tr style=\"text-align: right;\">\n",
       "      <th></th>\n",
       "      <th>pledged</th>\n",
       "      <th>backers</th>\n",
       "      <th>usd pledged</th>\n",
       "      <th>usd_pledged_real</th>\n",
       "    </tr>\n",
       "  </thead>\n",
       "  <tbody>\n",
       "    <tr>\n",
       "      <th>372978</th>\n",
       "      <td>125.0</td>\n",
       "      <td>2</td>\n",
       "      <td>125.0</td>\n",
       "      <td>125.0</td>\n",
       "    </tr>\n",
       "    <tr>\n",
       "      <th>372979</th>\n",
       "      <td>120.0</td>\n",
       "      <td>3</td>\n",
       "      <td>120.0</td>\n",
       "      <td>120.0</td>\n",
       "    </tr>\n",
       "    <tr>\n",
       "      <th>372980</th>\n",
       "      <td>0.0</td>\n",
       "      <td>0</td>\n",
       "      <td>0.0</td>\n",
       "      <td>0.0</td>\n",
       "    </tr>\n",
       "    <tr>\n",
       "      <th>372981</th>\n",
       "      <td>1502.0</td>\n",
       "      <td>12</td>\n",
       "      <td>1502.0</td>\n",
       "      <td>1502.0</td>\n",
       "    </tr>\n",
       "    <tr>\n",
       "      <th>372983</th>\n",
       "      <td>25.0</td>\n",
       "      <td>1</td>\n",
       "      <td>25.0</td>\n",
       "      <td>25.0</td>\n",
       "    </tr>\n",
       "  </tbody>\n",
       "</table>\n",
       "</div>"
      ],
      "text/plain": [
       "        pledged  backers  usd pledged  usd_pledged_real\n",
       "372978    125.0        2        125.0             125.0\n",
       "372979    120.0        3        120.0             120.0\n",
       "372980      0.0        0          0.0               0.0\n",
       "372981   1502.0       12       1502.0            1502.0\n",
       "372983     25.0        1         25.0              25.0"
      ]
     },
     "execution_count": 13,
     "metadata": {},
     "output_type": "execute_result"
    }
   ],
   "source": [
    "X.head()"
   ]
  },
  {
   "cell_type": "code",
   "execution_count": 14,
   "id": "72e87179-a044-4a8d-ab57-e2d12bc138df",
   "metadata": {
    "tags": []
   },
   "outputs": [
    {
     "data": {
      "text/html": [
       "<div>\n",
       "<style scoped>\n",
       "    .dataframe tbody tr th:only-of-type {\n",
       "        vertical-align: middle;\n",
       "    }\n",
       "\n",
       "    .dataframe tbody tr th {\n",
       "        vertical-align: top;\n",
       "    }\n",
       "\n",
       "    .dataframe thead th {\n",
       "        text-align: right;\n",
       "    }\n",
       "</style>\n",
       "<table border=\"1\" class=\"dataframe\">\n",
       "  <thead>\n",
       "    <tr style=\"text-align: right;\">\n",
       "      <th></th>\n",
       "      <th>pledged</th>\n",
       "      <th>backers</th>\n",
       "      <th>usd pledged</th>\n",
       "      <th>usd_pledged_real</th>\n",
       "    </tr>\n",
       "  </thead>\n",
       "  <tbody>\n",
       "    <tr>\n",
       "      <th>0</th>\n",
       "      <td>0.000040</td>\n",
       "      <td>0.000082</td>\n",
       "      <td>0.000040</td>\n",
       "      <td>0.000040</td>\n",
       "    </tr>\n",
       "    <tr>\n",
       "      <th>1</th>\n",
       "      <td>0.000038</td>\n",
       "      <td>0.000123</td>\n",
       "      <td>0.000038</td>\n",
       "      <td>0.000038</td>\n",
       "    </tr>\n",
       "    <tr>\n",
       "      <th>2</th>\n",
       "      <td>0.000000</td>\n",
       "      <td>0.000000</td>\n",
       "      <td>0.000000</td>\n",
       "      <td>0.000000</td>\n",
       "    </tr>\n",
       "    <tr>\n",
       "      <th>3</th>\n",
       "      <td>0.000480</td>\n",
       "      <td>0.000493</td>\n",
       "      <td>0.000480</td>\n",
       "      <td>0.000480</td>\n",
       "    </tr>\n",
       "    <tr>\n",
       "      <th>4</th>\n",
       "      <td>0.000008</td>\n",
       "      <td>0.000041</td>\n",
       "      <td>0.000008</td>\n",
       "      <td>0.000008</td>\n",
       "    </tr>\n",
       "  </tbody>\n",
       "</table>\n",
       "</div>"
      ],
      "text/plain": [
       "    pledged   backers  usd pledged  usd_pledged_real\n",
       "0  0.000040  0.000082     0.000040          0.000040\n",
       "1  0.000038  0.000123     0.000038          0.000038\n",
       "2  0.000000  0.000000     0.000000          0.000000\n",
       "3  0.000480  0.000493     0.000480          0.000480\n",
       "4  0.000008  0.000041     0.000008          0.000008"
      ]
     },
     "execution_count": 14,
     "metadata": {},
     "output_type": "execute_result"
    }
   ],
   "source": [
    "X_scaled.head()"
   ]
  },
  {
   "cell_type": "code",
   "execution_count": 15,
   "id": "055e2c16-9211-452f-bcbb-ccda8f072c1b",
   "metadata": {
    "tags": []
   },
   "outputs": [],
   "source": [
    "X_train, X_test, y_train, y_test = train_test_split(X_scaled,y,test_size=0.2,random_state=2022)"
   ]
  },
  {
   "cell_type": "code",
   "execution_count": 16,
   "id": "a8942302",
   "metadata": {
    "tags": []
   },
   "outputs": [],
   "source": [
    "optimizer = ['SGD', 'RMSprop', 'Adagrad']\n",
    "param_grid = dict(optimizer = optimizer)"
   ]
  },
  {
   "cell_type": "code",
   "execution_count": 17,
   "id": "58624944",
   "metadata": {
    "tags": []
   },
   "outputs": [],
   "source": [
    "kf = KFold(n_splits = 5, shuffle = True, random_state = 2021)"
   ]
  },
  {
   "cell_type": "code",
   "execution_count": 18,
   "id": "44998f40",
   "metadata": {
    "tags": []
   },
   "outputs": [],
   "source": [
    "build_model = build_model()\n",
    "model = KerasClassifier(model = build_model, batch_size = 40, validation_split = 0.2, epochs = 60)"
   ]
  },
  {
   "cell_type": "code",
   "execution_count": 19,
   "id": "d5e17b07",
   "metadata": {
    "tags": []
   },
   "outputs": [
    {
     "name": "stderr",
     "output_type": "stream",
     "text": [
      "WARNING:absl:Found untraced functions such as _update_step_xla while saving (showing 1 of 1). These functions will not be directly callable after loading.\n"
     ]
    },
    {
     "name": "stdout",
     "output_type": "stream",
     "text": [
      "INFO:tensorflow:Assets written to: C:\\Users\\jmbar\\AppData\\Local\\Temp\\tmp5ibh5xpk\\assets\n"
     ]
    },
    {
     "name": "stderr",
     "output_type": "stream",
     "text": [
      "INFO:tensorflow:Assets written to: C:\\Users\\jmbar\\AppData\\Local\\Temp\\tmp5ibh5xpk\\assets\n"
     ]
    },
    {
     "name": "stdout",
     "output_type": "stream",
     "text": [
      "Fitting 5 folds for each of 3 candidates, totalling 15 fits\n"
     ]
    },
    {
     "name": "stderr",
     "output_type": "stream",
     "text": [
      "WARNING:absl:Found untraced functions such as _update_step_xla while saving (showing 1 of 1). These functions will not be directly callable after loading.\n"
     ]
    },
    {
     "name": "stdout",
     "output_type": "stream",
     "text": [
      "INFO:tensorflow:Assets written to: C:\\Users\\jmbar\\AppData\\Local\\Temp\\tmpu7oxwgar\\assets\n"
     ]
    },
    {
     "name": "stderr",
     "output_type": "stream",
     "text": [
      "INFO:tensorflow:Assets written to: C:\\Users\\jmbar\\AppData\\Local\\Temp\\tmpu7oxwgar\\assets\n"
     ]
    },
    {
     "name": "stdout",
     "output_type": "stream",
     "text": [
      "Epoch 1/60\n",
      "64/64 [==============================] - 1s 7ms/step - loss: 0.6776 - accuracy: 0.5984 - precision: 0.0000e+00 - recall: 0.0000e+00 - val_loss: 0.6787 - val_accuracy: 0.5844 - val_precision: 0.0000e+00 - val_recall: 0.0000e+00\n",
      "Epoch 2/60\n",
      "64/64 [==============================] - 0s 3ms/step - loss: 0.6759 - accuracy: 0.5984 - precision: 0.0000e+00 - recall: 0.0000e+00 - val_loss: 0.6784 - val_accuracy: 0.5844 - val_precision: 0.0000e+00 - val_recall: 0.0000e+00\n",
      "Epoch 3/60\n",
      "64/64 [==============================] - 0s 2ms/step - loss: 0.6735 - accuracy: 0.5984 - precision: 0.0000e+00 - recall: 0.0000e+00 - val_loss: 0.6788 - val_accuracy: 0.5844 - val_precision: 0.0000e+00 - val_recall: 0.0000e+00\n",
      "Epoch 4/60\n",
      "64/64 [==============================] - 0s 2ms/step - loss: 0.6740 - accuracy: 0.5984 - precision: 0.0000e+00 - recall: 0.0000e+00 - val_loss: 0.6831 - val_accuracy: 0.5844 - val_precision: 0.0000e+00 - val_recall: 0.0000e+00\n",
      "Epoch 5/60\n",
      "64/64 [==============================] - 0s 2ms/step - loss: 0.6723 - accuracy: 0.6004 - precision: 1.0000 - recall: 0.0049 - val_loss: 0.6783 - val_accuracy: 0.5844 - val_precision: 0.0000e+00 - val_recall: 0.0000e+00\n",
      "Epoch 6/60\n",
      "64/64 [==============================] - 0s 3ms/step - loss: 0.6676 - accuracy: 0.6035 - precision: 1.0000 - recall: 0.0126 - val_loss: 0.6716 - val_accuracy: 0.5922 - val_precision: 1.0000 - val_recall: 0.0188\n",
      "Epoch 7/60\n",
      "64/64 [==============================] - 0s 3ms/step - loss: 0.6609 - accuracy: 0.6223 - precision: 0.9692 - recall: 0.0613 - val_loss: 0.6585 - val_accuracy: 0.6156 - val_precision: 0.9167 - val_recall: 0.0827\n",
      "Epoch 8/60\n",
      "64/64 [==============================] - 0s 3ms/step - loss: 0.6385 - accuracy: 0.6469 - precision: 0.9697 - recall: 0.1245 - val_loss: 0.6389 - val_accuracy: 0.6156 - val_precision: 0.8846 - val_recall: 0.0865\n",
      "Epoch 9/60\n",
      "64/64 [==============================] - 0s 3ms/step - loss: 0.6028 - accuracy: 0.6871 - precision: 0.9219 - recall: 0.2412 - val_loss: 0.5919 - val_accuracy: 0.6687 - val_precision: 0.8649 - val_recall: 0.2406\n",
      "Epoch 10/60\n",
      "64/64 [==============================] - 0s 3ms/step - loss: 0.5605 - accuracy: 0.7340 - precision: 0.8847 - recall: 0.3881 - val_loss: 0.5706 - val_accuracy: 0.6750 - val_precision: 0.8625 - val_recall: 0.2594\n",
      "Epoch 11/60\n",
      "64/64 [==============================] - 0s 3ms/step - loss: 0.5184 - accuracy: 0.7594 - precision: 0.8815 - recall: 0.4630 - val_loss: 0.5312 - val_accuracy: 0.7203 - val_precision: 0.8718 - val_recall: 0.3835\n",
      "Epoch 12/60\n",
      "64/64 [==============================] - 0s 3ms/step - loss: 0.4900 - accuracy: 0.7754 - precision: 0.8707 - recall: 0.5175 - val_loss: 0.5042 - val_accuracy: 0.7922 - val_precision: 0.8152 - val_recall: 0.6466\n",
      "Epoch 13/60\n",
      "64/64 [==============================] - 0s 4ms/step - loss: 0.4865 - accuracy: 0.7902 - precision: 0.8482 - recall: 0.5817 - val_loss: 0.5376 - val_accuracy: 0.7281 - val_precision: 0.8651 - val_recall: 0.4098\n",
      "Epoch 14/60\n",
      "64/64 [==============================] - 0s 3ms/step - loss: 0.4604 - accuracy: 0.7969 - precision: 0.8557 - recall: 0.5944 - val_loss: 0.5227 - val_accuracy: 0.8219 - val_precision: 0.7714 - val_recall: 0.8120\n",
      "Epoch 15/60\n",
      "64/64 [==============================] - 0s 3ms/step - loss: 0.4406 - accuracy: 0.8043 - precision: 0.8546 - recall: 0.6177 - val_loss: 0.4675 - val_accuracy: 0.7812 - val_precision: 0.8387 - val_recall: 0.5865\n",
      "Epoch 16/60\n",
      "64/64 [==============================] - 0s 2ms/step - loss: 0.4390 - accuracy: 0.8066 - precision: 0.8361 - recall: 0.6449 - val_loss: 0.4694 - val_accuracy: 0.8203 - val_precision: 0.8133 - val_recall: 0.7368\n",
      "Epoch 17/60\n",
      "64/64 [==============================] - 0s 3ms/step - loss: 0.4307 - accuracy: 0.8117 - precision: 0.8297 - recall: 0.6683 - val_loss: 0.4872 - val_accuracy: 0.7719 - val_precision: 0.8448 - val_recall: 0.5526\n",
      "Epoch 18/60\n",
      "64/64 [==============================] - 0s 3ms/step - loss: 0.4221 - accuracy: 0.8160 - precision: 0.8359 - recall: 0.6741 - val_loss: 0.4468 - val_accuracy: 0.7922 - val_precision: 0.8213 - val_recall: 0.6391\n",
      "Epoch 19/60\n",
      "64/64 [==============================] - 0s 3ms/step - loss: 0.4208 - accuracy: 0.8176 - precision: 0.8351 - recall: 0.6800 - val_loss: 0.4500 - val_accuracy: 0.7844 - val_precision: 0.8200 - val_recall: 0.6165\n",
      "Epoch 20/60\n",
      "64/64 [==============================] - 0s 3ms/step - loss: 0.4170 - accuracy: 0.8172 - precision: 0.8310 - recall: 0.6839 - val_loss: 0.4408 - val_accuracy: 0.7937 - val_precision: 0.8221 - val_recall: 0.6429\n",
      "Epoch 21/60\n",
      "64/64 [==============================] - 0s 3ms/step - loss: 0.4130 - accuracy: 0.8227 - precision: 0.8322 - recall: 0.6994 - val_loss: 0.4584 - val_accuracy: 0.8266 - val_precision: 0.7860 - val_recall: 0.8008\n",
      "Epoch 22/60\n",
      "64/64 [==============================] - 0s 3ms/step - loss: 0.4102 - accuracy: 0.8215 - precision: 0.8211 - recall: 0.7101 - val_loss: 0.4320 - val_accuracy: 0.8000 - val_precision: 0.8165 - val_recall: 0.6692\n",
      "Epoch 23/60\n",
      "64/64 [==============================] - 0s 3ms/step - loss: 0.4176 - accuracy: 0.8156 - precision: 0.8138 - recall: 0.7014 - val_loss: 0.4374 - val_accuracy: 0.7937 - val_precision: 0.8221 - val_recall: 0.6429\n",
      "Epoch 24/60\n",
      "64/64 [==============================] - 0s 3ms/step - loss: 0.4147 - accuracy: 0.8270 - precision: 0.8254 - recall: 0.7218 - val_loss: 0.4252 - val_accuracy: 0.8172 - val_precision: 0.8170 - val_recall: 0.7218\n",
      "Epoch 25/60\n",
      "64/64 [==============================] - 0s 3ms/step - loss: 0.4049 - accuracy: 0.8223 - precision: 0.8173 - recall: 0.7179 - val_loss: 0.4404 - val_accuracy: 0.7922 - val_precision: 0.8213 - val_recall: 0.6391\n",
      "Epoch 26/60\n",
      "64/64 [==============================] - 0s 3ms/step - loss: 0.3993 - accuracy: 0.8250 - precision: 0.8194 - recall: 0.7237 - val_loss: 0.4489 - val_accuracy: 0.7859 - val_precision: 0.8209 - val_recall: 0.6203\n",
      "Epoch 27/60\n",
      "64/64 [==============================] - 0s 3ms/step - loss: 0.4108 - accuracy: 0.8238 - precision: 0.8188 - recall: 0.7208 - val_loss: 0.4252 - val_accuracy: 0.8000 - val_precision: 0.8165 - val_recall: 0.6692\n",
      "Epoch 28/60\n",
      "64/64 [==============================] - 0s 3ms/step - loss: 0.3949 - accuracy: 0.8258 - precision: 0.8184 - recall: 0.7276 - val_loss: 0.4172 - val_accuracy: 0.8234 - val_precision: 0.8148 - val_recall: 0.7444\n",
      "Epoch 29/60\n",
      "64/64 [==============================] - 0s 3ms/step - loss: 0.3949 - accuracy: 0.8273 - precision: 0.8151 - recall: 0.7374 - val_loss: 0.4155 - val_accuracy: 0.8250 - val_precision: 0.8156 - val_recall: 0.7481\n",
      "Epoch 30/60\n",
      "64/64 [==============================] - 0s 3ms/step - loss: 0.3937 - accuracy: 0.8293 - precision: 0.8167 - recall: 0.7412 - val_loss: 0.4441 - val_accuracy: 0.8188 - val_precision: 0.7622 - val_recall: 0.8195\n",
      "Epoch 31/60\n",
      "64/64 [==============================] - 0s 3ms/step - loss: 0.4021 - accuracy: 0.8285 - precision: 0.8184 - recall: 0.7364 - val_loss: 0.4527 - val_accuracy: 0.8234 - val_precision: 0.7611 - val_recall: 0.8383\n",
      "Epoch 32/60\n",
      "64/64 [==============================] - 0s 4ms/step - loss: 0.3896 - accuracy: 0.8328 - precision: 0.8171 - recall: 0.7519 - val_loss: 0.4138 - val_accuracy: 0.8188 - val_precision: 0.8178 - val_recall: 0.7256\n",
      "Epoch 33/60\n",
      "64/64 [==============================] - 0s 2ms/step - loss: 0.3921 - accuracy: 0.8313 - precision: 0.8137 - recall: 0.7519 - val_loss: 0.4133 - val_accuracy: 0.8250 - val_precision: 0.7873 - val_recall: 0.7932\n",
      "Epoch 34/60\n",
      "64/64 [==============================] - 0s 3ms/step - loss: 0.3906 - accuracy: 0.8301 - precision: 0.8124 - recall: 0.7500 - val_loss: 0.4331 - val_accuracy: 0.7984 - val_precision: 0.8157 - val_recall: 0.6654\n",
      "Epoch 35/60\n",
      "64/64 [==============================] - 0s 3ms/step - loss: 0.4034 - accuracy: 0.8211 - precision: 0.8013 - recall: 0.7374 - val_loss: 0.4256 - val_accuracy: 0.8234 - val_precision: 0.7722 - val_recall: 0.8158\n",
      "Epoch 36/60\n",
      "64/64 [==============================] - 0s 3ms/step - loss: 0.3895 - accuracy: 0.8320 - precision: 0.8102 - recall: 0.7597 - val_loss: 0.4233 - val_accuracy: 0.8203 - val_precision: 0.7668 - val_recall: 0.8158\n",
      "Epoch 37/60\n"
     ]
    },
    {
     "name": "stdout",
     "output_type": "stream",
     "text": [
      "64/64 [==============================] - 0s 3ms/step - loss: 0.3857 - accuracy: 0.8316 - precision: 0.8074 - recall: 0.7626 - val_loss: 0.4049 - val_accuracy: 0.8297 - val_precision: 0.7962 - val_recall: 0.7932\n",
      "Epoch 38/60\n",
      "64/64 [==============================] - 0s 3ms/step - loss: 0.3836 - accuracy: 0.8313 - precision: 0.8085 - recall: 0.7597 - val_loss: 0.4042 - val_accuracy: 0.8266 - val_precision: 0.8063 - val_recall: 0.7669\n",
      "Epoch 39/60\n",
      "64/64 [==============================] - 0s 5ms/step - loss: 0.3833 - accuracy: 0.8316 - precision: 0.8087 - recall: 0.7607 - val_loss: 0.4069 - val_accuracy: 0.8250 - val_precision: 0.7831 - val_recall: 0.8008\n",
      "Epoch 40/60\n",
      "64/64 [==============================] - 0s 3ms/step - loss: 0.3863 - accuracy: 0.8363 - precision: 0.8079 - recall: 0.7772 - val_loss: 0.4037 - val_accuracy: 0.8297 - val_precision: 0.8127 - val_recall: 0.7669\n",
      "Epoch 41/60\n",
      "64/64 [==============================] - 0s 2ms/step - loss: 0.3861 - accuracy: 0.8410 - precision: 0.8178 - recall: 0.7772 - val_loss: 0.4125 - val_accuracy: 0.8234 - val_precision: 0.7722 - val_recall: 0.8158\n",
      "Epoch 42/60\n",
      "64/64 [==============================] - 0s 3ms/step - loss: 0.3837 - accuracy: 0.8340 - precision: 0.8042 - recall: 0.7753 - val_loss: 0.4063 - val_accuracy: 0.8266 - val_precision: 0.7818 - val_recall: 0.8083\n",
      "Epoch 43/60\n",
      "64/64 [==============================] - 0s 3ms/step - loss: 0.3909 - accuracy: 0.8328 - precision: 0.8061 - recall: 0.7685 - val_loss: 0.4015 - val_accuracy: 0.8266 - val_precision: 0.7860 - val_recall: 0.8008\n",
      "Epoch 44/60\n",
      "64/64 [==============================] - 0s 3ms/step - loss: 0.3797 - accuracy: 0.8328 - precision: 0.8049 - recall: 0.7704 - val_loss: 0.4003 - val_accuracy: 0.8266 - val_precision: 0.7860 - val_recall: 0.8008\n",
      "Epoch 45/60\n",
      "64/64 [==============================] - 0s 3ms/step - loss: 0.3765 - accuracy: 0.8352 - precision: 0.8024 - recall: 0.7821 - val_loss: 0.4472 - val_accuracy: 0.8031 - val_precision: 0.8182 - val_recall: 0.6767\n",
      "Epoch 46/60\n",
      "64/64 [==============================] - 0s 2ms/step - loss: 0.3812 - accuracy: 0.8359 - precision: 0.8046 - recall: 0.7811 - val_loss: 0.4299 - val_accuracy: 0.8266 - val_precision: 0.7609 - val_recall: 0.8496\n",
      "Epoch 47/60\n",
      "64/64 [==============================] - 0s 4ms/step - loss: 0.3816 - accuracy: 0.8371 - precision: 0.8052 - recall: 0.7840 - val_loss: 0.4026 - val_accuracy: 0.8234 - val_precision: 0.7742 - val_recall: 0.8120\n",
      "Epoch 48/60\n",
      "64/64 [==============================] - 0s 2ms/step - loss: 0.3752 - accuracy: 0.8402 - precision: 0.8061 - recall: 0.7928 - val_loss: 0.3975 - val_accuracy: 0.8281 - val_precision: 0.7932 - val_recall: 0.7932\n",
      "Epoch 49/60\n",
      "64/64 [==============================] - 0s 3ms/step - loss: 0.3769 - accuracy: 0.8336 - precision: 0.7986 - recall: 0.7831 - val_loss: 0.4158 - val_accuracy: 0.8234 - val_precision: 0.8201 - val_recall: 0.7368\n",
      "Epoch 50/60\n",
      "64/64 [==============================] - 0s 3ms/step - loss: 0.3832 - accuracy: 0.8375 - precision: 0.8054 - recall: 0.7850 - val_loss: 0.3965 - val_accuracy: 0.8266 - val_precision: 0.7839 - val_recall: 0.8045\n",
      "Epoch 51/60\n",
      "64/64 [==============================] - 0s 2ms/step - loss: 0.3742 - accuracy: 0.8387 - precision: 0.8060 - recall: 0.7879 - val_loss: 0.3952 - val_accuracy: 0.8250 - val_precision: 0.7873 - val_recall: 0.7932\n",
      "Epoch 52/60\n",
      "64/64 [==============================] - 0s 3ms/step - loss: 0.3902 - accuracy: 0.8383 - precision: 0.8010 - recall: 0.7947 - val_loss: 0.3986 - val_accuracy: 0.8266 - val_precision: 0.7969 - val_recall: 0.7820\n",
      "Epoch 53/60\n",
      "64/64 [==============================] - 0s 3ms/step - loss: 0.3689 - accuracy: 0.8391 - precision: 0.8043 - recall: 0.7918 - val_loss: 0.3969 - val_accuracy: 0.8281 - val_precision: 0.7932 - val_recall: 0.7932\n",
      "Epoch 54/60\n",
      "64/64 [==============================] - 0s 3ms/step - loss: 0.3794 - accuracy: 0.8391 - precision: 0.7984 - recall: 0.8016 - val_loss: 0.4033 - val_accuracy: 0.8297 - val_precision: 0.8127 - val_recall: 0.7669\n",
      "Epoch 55/60\n",
      "64/64 [==============================] - 0s 2ms/step - loss: 0.3753 - accuracy: 0.8344 - precision: 0.7955 - recall: 0.7909 - val_loss: 0.3973 - val_accuracy: 0.8188 - val_precision: 0.7641 - val_recall: 0.8158\n",
      "Epoch 56/60\n",
      "64/64 [==============================] - 0s 2ms/step - loss: 0.3726 - accuracy: 0.8383 - precision: 0.7975 - recall: 0.8006 - val_loss: 0.3939 - val_accuracy: 0.8250 - val_precision: 0.7873 - val_recall: 0.7932\n",
      "Epoch 57/60\n",
      "64/64 [==============================] - 0s 2ms/step - loss: 0.3856 - accuracy: 0.8430 - precision: 0.8075 - recall: 0.7996 - val_loss: 0.3934 - val_accuracy: 0.8250 - val_precision: 0.7873 - val_recall: 0.7932\n",
      "Epoch 58/60\n",
      "64/64 [==============================] - 0s 3ms/step - loss: 0.3723 - accuracy: 0.8371 - precision: 0.7957 - recall: 0.7996 - val_loss: 0.3963 - val_accuracy: 0.8203 - val_precision: 0.7649 - val_recall: 0.8195\n",
      "Epoch 59/60\n",
      "64/64 [==============================] - 0s 3ms/step - loss: 0.3741 - accuracy: 0.8391 - precision: 0.7967 - recall: 0.8045 - val_loss: 0.4114 - val_accuracy: 0.8297 - val_precision: 0.8127 - val_recall: 0.7669\n",
      "Epoch 60/60\n",
      "64/64 [==============================] - 0s 3ms/step - loss: 0.3794 - accuracy: 0.8367 - precision: 0.7967 - recall: 0.7967 - val_loss: 0.4890 - val_accuracy: 0.8016 - val_precision: 0.8174 - val_recall: 0.6729\n",
      "20/20 [==============================] - 0s 1ms/step\n"
     ]
    },
    {
     "name": "stderr",
     "output_type": "stream",
     "text": [
      "WARNING:absl:Found untraced functions such as _update_step_xla while saving (showing 1 of 1). These functions will not be directly callable after loading.\n"
     ]
    },
    {
     "name": "stdout",
     "output_type": "stream",
     "text": [
      "INFO:tensorflow:Assets written to: C:\\Users\\jmbar\\AppData\\Local\\Temp\\tmpoj8v8wkq\\assets\n"
     ]
    },
    {
     "name": "stderr",
     "output_type": "stream",
     "text": [
      "INFO:tensorflow:Assets written to: C:\\Users\\jmbar\\AppData\\Local\\Temp\\tmpoj8v8wkq\\assets\n"
     ]
    },
    {
     "name": "stdout",
     "output_type": "stream",
     "text": [
      "Epoch 1/60\n",
      "64/64 [==============================] - 1s 8ms/step - loss: 0.6815 - accuracy: 0.5895 - precision: 0.4750 - recall: 0.0729 - val_loss: 0.6782 - val_accuracy: 0.5859 - val_precision: 0.0000e+00 - val_recall: 0.0000e+00\n",
      "Epoch 2/60\n",
      "64/64 [==============================] - 0s 2ms/step - loss: 0.6773 - accuracy: 0.5926 - precision: 0.0000e+00 - recall: 0.0000e+00 - val_loss: 0.6797 - val_accuracy: 0.5859 - val_precision: 0.0000e+00 - val_recall: 0.0000e+00\n",
      "Epoch 3/60\n",
      "64/64 [==============================] - 0s 3ms/step - loss: 0.6792 - accuracy: 0.5926 - precision: 0.0000e+00 - recall: 0.0000e+00 - val_loss: 0.6779 - val_accuracy: 0.5859 - val_precision: 0.0000e+00 - val_recall: 0.0000e+00\n",
      "Epoch 4/60\n",
      "64/64 [==============================] - 0s 3ms/step - loss: 0.6760 - accuracy: 0.5926 - precision: 0.0000e+00 - recall: 0.0000e+00 - val_loss: 0.6807 - val_accuracy: 0.5859 - val_precision: 0.0000e+00 - val_recall: 0.0000e+00\n",
      "Epoch 5/60\n",
      "64/64 [==============================] - 0s 4ms/step - loss: 0.6782 - accuracy: 0.5930 - precision: 1.0000 - recall: 9.5877e-04 - val_loss: 0.6776 - val_accuracy: 0.5859 - val_precision: 0.0000e+00 - val_recall: 0.0000e+00\n",
      "Epoch 6/60\n",
      "64/64 [==============================] - 0s 2ms/step - loss: 0.6742 - accuracy: 0.5938 - precision: 1.0000 - recall: 0.0029 - val_loss: 0.6754 - val_accuracy: 0.5875 - val_precision: 1.0000 - val_recall: 0.0038\n",
      "Epoch 7/60\n",
      "64/64 [==============================] - 0s 3ms/step - loss: 0.6703 - accuracy: 0.5980 - precision: 1.0000 - recall: 0.0134 - val_loss: 0.6694 - val_accuracy: 0.5938 - val_precision: 1.0000 - val_recall: 0.0189\n",
      "Epoch 8/60\n",
      "64/64 [==============================] - 0s 3ms/step - loss: 0.6608 - accuracy: 0.6254 - precision: 0.7800 - recall: 0.1122 - val_loss: 0.6559 - val_accuracy: 0.6062 - val_precision: 0.9333 - val_recall: 0.0528\n",
      "Epoch 9/60\n",
      "64/64 [==============================] - 0s 3ms/step - loss: 0.6501 - accuracy: 0.6344 - precision: 0.6826 - recall: 0.1918 - val_loss: 0.6377 - val_accuracy: 0.6328 - val_precision: 0.9167 - val_recall: 0.1245\n",
      "Epoch 10/60\n",
      "64/64 [==============================] - 0s 4ms/step - loss: 0.6117 - accuracy: 0.6711 - precision: 0.9427 - recall: 0.2052 - val_loss: 0.5949 - val_accuracy: 0.6938 - val_precision: 0.8710 - val_recall: 0.3057\n",
      "Epoch 11/60\n",
      "64/64 [==============================] - 0s 2ms/step - loss: 0.5683 - accuracy: 0.7281 - precision: 0.8668 - recall: 0.3931 - val_loss: 0.5568 - val_accuracy: 0.7703 - val_precision: 0.8734 - val_recall: 0.5208\n",
      "Epoch 12/60\n",
      "64/64 [==============================] - 0s 2ms/step - loss: 0.5259 - accuracy: 0.7598 - precision: 0.8664 - recall: 0.4851 - val_loss: 0.5185 - val_accuracy: 0.7688 - val_precision: 0.8634 - val_recall: 0.5245\n",
      "Epoch 13/60\n",
      "64/64 [==============================] - 0s 3ms/step - loss: 0.4874 - accuracy: 0.7777 - precision: 0.8669 - recall: 0.5369 - val_loss: 0.4986 - val_accuracy: 0.7891 - val_precision: 0.8316 - val_recall: 0.6151\n",
      "Epoch 14/60\n",
      "64/64 [==============================] - 0s 3ms/step - loss: 0.4701 - accuracy: 0.7934 - precision: 0.8589 - recall: 0.5896 - val_loss: 0.4797 - val_accuracy: 0.7812 - val_precision: 0.8531 - val_recall: 0.5698\n",
      "Epoch 15/60\n",
      "64/64 [==============================] - 0s 2ms/step - loss: 0.4634 - accuracy: 0.7973 - precision: 0.8522 - recall: 0.6079 - val_loss: 0.4853 - val_accuracy: 0.7672 - val_precision: 0.8580 - val_recall: 0.5245\n",
      "Epoch 16/60\n",
      "64/64 [==============================] - 0s 2ms/step - loss: 0.4606 - accuracy: 0.8004 - precision: 0.8384 - recall: 0.6318 - val_loss: 0.4960 - val_accuracy: 0.7703 - val_precision: 0.8734 - val_recall: 0.5208\n",
      "Epoch 17/60\n",
      "64/64 [==============================] - 0s 2ms/step - loss: 0.4415 - accuracy: 0.8078 - precision: 0.8422 - recall: 0.6500 - val_loss: 0.4695 - val_accuracy: 0.8156 - val_precision: 0.8101 - val_recall: 0.7245\n",
      "Epoch 18/60\n",
      "64/64 [==============================] - 0s 2ms/step - loss: 0.4306 - accuracy: 0.8082 - precision: 0.8382 - recall: 0.6558 - val_loss: 0.4642 - val_accuracy: 0.7922 - val_precision: 0.8587 - val_recall: 0.5962\n",
      "Epoch 19/60\n",
      "64/64 [==============================] - 0s 2ms/step - loss: 0.4359 - accuracy: 0.8180 - precision: 0.8430 - recall: 0.6798 - val_loss: 0.4520 - val_accuracy: 0.7875 - val_precision: 0.8274 - val_recall: 0.6151\n",
      "Epoch 20/60\n",
      "64/64 [==============================] - 0s 4ms/step - loss: 0.4170 - accuracy: 0.8180 - precision: 0.8312 - recall: 0.6942 - val_loss: 0.4960 - val_accuracy: 0.7703 - val_precision: 0.8512 - val_recall: 0.5396\n",
      "Epoch 21/60\n",
      "64/64 [==============================] - 0s 3ms/step - loss: 0.4223 - accuracy: 0.8188 - precision: 0.8362 - recall: 0.6903 - val_loss: 0.4452 - val_accuracy: 0.8172 - val_precision: 0.8109 - val_recall: 0.7283\n",
      "Epoch 22/60\n",
      "64/64 [==============================] - 0s 2ms/step - loss: 0.4160 - accuracy: 0.8176 - precision: 0.8200 - recall: 0.7076 - val_loss: 0.4739 - val_accuracy: 0.7922 - val_precision: 0.8587 - val_recall: 0.5962\n",
      "Epoch 23/60\n",
      "64/64 [==============================] - 0s 2ms/step - loss: 0.4249 - accuracy: 0.8188 - precision: 0.8309 - recall: 0.6970 - val_loss: 0.4559 - val_accuracy: 0.8125 - val_precision: 0.7778 - val_recall: 0.7660\n",
      "Epoch 24/60\n",
      "64/64 [==============================] - 0s 2ms/step - loss: 0.4085 - accuracy: 0.8270 - precision: 0.8311 - recall: 0.7220 - val_loss: 0.4350 - val_accuracy: 0.7906 - val_precision: 0.8164 - val_recall: 0.6377\n",
      "Epoch 25/60\n",
      "64/64 [==============================] - 0s 2ms/step - loss: 0.4155 - accuracy: 0.8176 - precision: 0.8221 - recall: 0.7047 - val_loss: 0.4584 - val_accuracy: 0.8203 - val_precision: 0.7757 - val_recall: 0.7962\n",
      "Epoch 26/60\n",
      "64/64 [==============================] - 0s 2ms/step - loss: 0.4059 - accuracy: 0.8281 - precision: 0.8302 - recall: 0.7267 - val_loss: 0.4299 - val_accuracy: 0.8172 - val_precision: 0.7984 - val_recall: 0.7472\n",
      "Epoch 27/60\n",
      "64/64 [==============================] - 0s 2ms/step - loss: 0.4042 - accuracy: 0.8270 - precision: 0.8240 - recall: 0.7315 - val_loss: 0.4255 - val_accuracy: 0.8062 - val_precision: 0.8161 - val_recall: 0.6868\n",
      "Epoch 28/60\n",
      "64/64 [==============================] - 0s 2ms/step - loss: 0.3983 - accuracy: 0.8281 - precision: 0.8225 - recall: 0.7373 - val_loss: 0.4355 - val_accuracy: 0.8125 - val_precision: 0.7778 - val_recall: 0.7660\n",
      "Epoch 29/60\n",
      "64/64 [==============================] - 0s 2ms/step - loss: 0.3919 - accuracy: 0.8289 - precision: 0.8215 - recall: 0.7411 - val_loss: 0.4234 - val_accuracy: 0.8062 - val_precision: 0.8133 - val_recall: 0.6906\n",
      "Epoch 30/60\n",
      "64/64 [==============================] - 0s 2ms/step - loss: 0.3989 - accuracy: 0.8285 - precision: 0.8206 - recall: 0.7411 - val_loss: 0.4401 - val_accuracy: 0.7922 - val_precision: 0.8235 - val_recall: 0.6340\n",
      "Epoch 31/60\n",
      "64/64 [==============================] - 0s 2ms/step - loss: 0.3941 - accuracy: 0.8223 - precision: 0.8108 - recall: 0.7354 - val_loss: 0.4260 - val_accuracy: 0.8125 - val_precision: 0.7778 - val_recall: 0.7660\n",
      "Epoch 32/60\n",
      "64/64 [==============================] - 0s 2ms/step - loss: 0.3884 - accuracy: 0.8316 - precision: 0.8168 - recall: 0.7565 - val_loss: 0.4152 - val_accuracy: 0.8172 - val_precision: 0.7984 - val_recall: 0.7472\n",
      "Epoch 33/60\n",
      "64/64 [==============================] - 0s 2ms/step - loss: 0.3867 - accuracy: 0.8320 - precision: 0.8176 - recall: 0.7565 - val_loss: 0.4230 - val_accuracy: 0.8062 - val_precision: 0.8161 - val_recall: 0.6868\n",
      "Epoch 34/60\n",
      "64/64 [==============================] - 0s 2ms/step - loss: 0.3861 - accuracy: 0.8332 - precision: 0.8182 - recall: 0.7593 - val_loss: 0.4282 - val_accuracy: 0.7969 - val_precision: 0.8111 - val_recall: 0.6642\n",
      "Epoch 35/60\n",
      "64/64 [==============================] - 0s 2ms/step - loss: 0.3872 - accuracy: 0.8352 - precision: 0.8178 - recall: 0.7661 - val_loss: 0.4338 - val_accuracy: 0.7922 - val_precision: 0.8084 - val_recall: 0.6528\n",
      "Epoch 36/60\n",
      "64/64 [==============================] - 0s 2ms/step - loss: 0.3896 - accuracy: 0.8273 - precision: 0.8095 - recall: 0.7536 - val_loss: 0.4261 - val_accuracy: 0.8188 - val_precision: 0.7709 - val_recall: 0.8000\n",
      "Epoch 37/60\n"
     ]
    },
    {
     "name": "stdout",
     "output_type": "stream",
     "text": [
      "64/64 [==============================] - 0s 2ms/step - loss: 0.3852 - accuracy: 0.8297 - precision: 0.8056 - recall: 0.7670 - val_loss: 0.4306 - val_accuracy: 0.8172 - val_precision: 0.7643 - val_recall: 0.8075\n",
      "Epoch 38/60\n",
      "64/64 [==============================] - 0s 2ms/step - loss: 0.4103 - accuracy: 0.8293 - precision: 0.8030 - recall: 0.7699 - val_loss: 0.4076 - val_accuracy: 0.8172 - val_precision: 0.8033 - val_recall: 0.7396\n",
      "Epoch 39/60\n",
      "64/64 [==============================] - 0s 2ms/step - loss: 0.3880 - accuracy: 0.8285 - precision: 0.8063 - recall: 0.7622 - val_loss: 0.4102 - val_accuracy: 0.8125 - val_precision: 0.7778 - val_recall: 0.7660\n",
      "Epoch 40/60\n",
      "64/64 [==============================] - 0s 2ms/step - loss: 0.3830 - accuracy: 0.8316 - precision: 0.8091 - recall: 0.7680 - val_loss: 0.4050 - val_accuracy: 0.8172 - val_precision: 0.7937 - val_recall: 0.7547\n",
      "Epoch 41/60\n",
      "64/64 [==============================] - 0s 2ms/step - loss: 0.3831 - accuracy: 0.8313 - precision: 0.8058 - recall: 0.7718 - val_loss: 0.4088 - val_accuracy: 0.8172 - val_precision: 0.7803 - val_recall: 0.7774\n",
      "Epoch 42/60\n",
      "64/64 [==============================] - 0s 2ms/step - loss: 0.3914 - accuracy: 0.8320 - precision: 0.8068 - recall: 0.7728 - val_loss: 0.4079 - val_accuracy: 0.8156 - val_precision: 0.7774 - val_recall: 0.7774\n",
      "Epoch 43/60\n",
      "64/64 [==============================] - 0s 2ms/step - loss: 0.3855 - accuracy: 0.8340 - precision: 0.8072 - recall: 0.7785 - val_loss: 0.4022 - val_accuracy: 0.8156 - val_precision: 0.7838 - val_recall: 0.7660\n",
      "Epoch 44/60\n",
      "64/64 [==============================] - 0s 2ms/step - loss: 0.3987 - accuracy: 0.8340 - precision: 0.8065 - recall: 0.7795 - val_loss: 0.4165 - val_accuracy: 0.8094 - val_precision: 0.8095 - val_recall: 0.7057\n",
      "Epoch 45/60\n",
      "64/64 [==============================] - 0s 2ms/step - loss: 0.3835 - accuracy: 0.8348 - precision: 0.8082 - recall: 0.7795 - val_loss: 0.4027 - val_accuracy: 0.8125 - val_precision: 0.7778 - val_recall: 0.7660\n",
      "Epoch 46/60\n",
      "64/64 [==============================] - 0s 2ms/step - loss: 0.3846 - accuracy: 0.8344 - precision: 0.8049 - recall: 0.7833 - val_loss: 0.4004 - val_accuracy: 0.8156 - val_precision: 0.7838 - val_recall: 0.7660\n",
      "Epoch 47/60\n",
      "64/64 [==============================] - 0s 2ms/step - loss: 0.3899 - accuracy: 0.8262 - precision: 0.7943 - recall: 0.7737 - val_loss: 0.4290 - val_accuracy: 0.8234 - val_precision: 0.7621 - val_recall: 0.8340\n",
      "Epoch 48/60\n",
      "64/64 [==============================] - 0s 2ms/step - loss: 0.3816 - accuracy: 0.8363 - precision: 0.8053 - recall: 0.7891 - val_loss: 0.4249 - val_accuracy: 0.8094 - val_precision: 0.8095 - val_recall: 0.7057\n",
      "Epoch 49/60\n",
      "64/64 [==============================] - 0s 2ms/step - loss: 0.3759 - accuracy: 0.8344 - precision: 0.8020 - recall: 0.7881 - val_loss: 0.3988 - val_accuracy: 0.8125 - val_precision: 0.7778 - val_recall: 0.7660\n",
      "Epoch 50/60\n",
      "64/64 [==============================] - 0s 2ms/step - loss: 0.3768 - accuracy: 0.8359 - precision: 0.8051 - recall: 0.7881 - val_loss: 0.4335 - val_accuracy: 0.8078 - val_precision: 0.8114 - val_recall: 0.6981\n",
      "Epoch 51/60\n",
      "64/64 [==============================] - 0s 2ms/step - loss: 0.3836 - accuracy: 0.8379 - precision: 0.8060 - recall: 0.7929 - val_loss: 0.4357 - val_accuracy: 0.8266 - val_precision: 0.7584 - val_recall: 0.8528\n",
      "Epoch 52/60\n",
      "64/64 [==============================] - 0s 2ms/step - loss: 0.3884 - accuracy: 0.8344 - precision: 0.7985 - recall: 0.7939 - val_loss: 0.4425 - val_accuracy: 0.8266 - val_precision: 0.7516 - val_recall: 0.8679\n",
      "Epoch 53/60\n",
      "64/64 [==============================] - 0s 2ms/step - loss: 0.3755 - accuracy: 0.8375 - precision: 0.8065 - recall: 0.7910 - val_loss: 0.4280 - val_accuracy: 0.8125 - val_precision: 0.8085 - val_recall: 0.7170\n",
      "Epoch 54/60\n",
      "64/64 [==============================] - 0s 2ms/step - loss: 0.3782 - accuracy: 0.8363 - precision: 0.8006 - recall: 0.7967 - val_loss: 0.3992 - val_accuracy: 0.8156 - val_precision: 0.7838 - val_recall: 0.7660\n",
      "Epoch 55/60\n",
      "64/64 [==============================] - 0s 2ms/step - loss: 0.3824 - accuracy: 0.8328 - precision: 0.7937 - recall: 0.7967 - val_loss: 0.3957 - val_accuracy: 0.8156 - val_precision: 0.7838 - val_recall: 0.7660\n",
      "Epoch 56/60\n",
      "64/64 [==============================] - 0s 3ms/step - loss: 0.3820 - accuracy: 0.8387 - precision: 0.8064 - recall: 0.7948 - val_loss: 0.4569 - val_accuracy: 0.8313 - val_precision: 0.7461 - val_recall: 0.8981\n",
      "Epoch 57/60\n",
      "64/64 [==============================] - 0s 2ms/step - loss: 0.3830 - accuracy: 0.8352 - precision: 0.7966 - recall: 0.7996 - val_loss: 0.3958 - val_accuracy: 0.8156 - val_precision: 0.7838 - val_recall: 0.7660\n",
      "Epoch 58/60\n",
      "64/64 [==============================] - 0s 2ms/step - loss: 0.3759 - accuracy: 0.8418 - precision: 0.8032 - recall: 0.8102 - val_loss: 0.4082 - val_accuracy: 0.8172 - val_precision: 0.8008 - val_recall: 0.7434\n",
      "Epoch 59/60\n",
      "64/64 [==============================] - 0s 2ms/step - loss: 0.3745 - accuracy: 0.8340 - precision: 0.7954 - recall: 0.7977 - val_loss: 0.4091 - val_accuracy: 0.8172 - val_precision: 0.8033 - val_recall: 0.7396\n",
      "Epoch 60/60\n",
      "64/64 [==============================] - 0s 2ms/step - loss: 0.3730 - accuracy: 0.8422 - precision: 0.8046 - recall: 0.8092 - val_loss: 0.3927 - val_accuracy: 0.8156 - val_precision: 0.7774 - val_recall: 0.7774\n",
      "20/20 [==============================] - 0s 946us/step\n"
     ]
    },
    {
     "name": "stderr",
     "output_type": "stream",
     "text": [
      "WARNING:absl:Found untraced functions such as _update_step_xla while saving (showing 1 of 1). These functions will not be directly callable after loading.\n"
     ]
    },
    {
     "name": "stdout",
     "output_type": "stream",
     "text": [
      "INFO:tensorflow:Assets written to: C:\\Users\\jmbar\\AppData\\Local\\Temp\\tmp2sihfrmm\\assets\n"
     ]
    },
    {
     "name": "stderr",
     "output_type": "stream",
     "text": [
      "INFO:tensorflow:Assets written to: C:\\Users\\jmbar\\AppData\\Local\\Temp\\tmp2sihfrmm\\assets\n"
     ]
    },
    {
     "name": "stdout",
     "output_type": "stream",
     "text": [
      "Epoch 1/60\n",
      "64/64 [==============================] - 1s 6ms/step - loss: 0.6783 - accuracy: 0.5895 - precision: 0.3625 - recall: 0.0282 - val_loss: 0.6798 - val_accuracy: 0.5813 - val_precision: 0.0000e+00 - val_recall: 0.0000e+00\n",
      "Epoch 2/60\n",
      "64/64 [==============================] - 0s 2ms/step - loss: 0.6760 - accuracy: 0.5980 - precision: 0.0000e+00 - recall: 0.0000e+00 - val_loss: 0.6812 - val_accuracy: 0.5813 - val_precision: 0.0000e+00 - val_recall: 0.0000e+00\n",
      "Epoch 3/60\n",
      "64/64 [==============================] - 0s 2ms/step - loss: 0.6761 - accuracy: 0.5980 - precision: 0.0000e+00 - recall: 0.0000e+00 - val_loss: 0.6802 - val_accuracy: 0.5813 - val_precision: 0.0000e+00 - val_recall: 0.0000e+00\n",
      "Epoch 4/60\n",
      "64/64 [==============================] - 0s 2ms/step - loss: 0.6756 - accuracy: 0.5980 - precision: 0.0000e+00 - recall: 0.0000e+00 - val_loss: 0.6789 - val_accuracy: 0.5813 - val_precision: 0.0000e+00 - val_recall: 0.0000e+00\n",
      "Epoch 5/60\n",
      "64/64 [==============================] - 0s 2ms/step - loss: 0.6719 - accuracy: 0.5980 - precision: 0.0000e+00 - recall: 0.0000e+00 - val_loss: 0.6815 - val_accuracy: 0.5813 - val_precision: 0.0000e+00 - val_recall: 0.0000e+00\n",
      "Epoch 6/60\n",
      "64/64 [==============================] - 0s 2ms/step - loss: 0.6700 - accuracy: 0.6020 - precision: 1.0000 - recall: 0.0097 - val_loss: 0.6741 - val_accuracy: 0.5859 - val_precision: 1.0000 - val_recall: 0.0112\n",
      "Epoch 7/60\n",
      "64/64 [==============================] - 0s 2ms/step - loss: 0.6640 - accuracy: 0.6133 - precision: 0.9333 - recall: 0.0408 - val_loss: 0.6717 - val_accuracy: 0.5875 - val_precision: 1.0000 - val_recall: 0.0149\n",
      "Epoch 8/60\n",
      "64/64 [==============================] - 0s 2ms/step - loss: 0.6500 - accuracy: 0.6371 - precision: 0.9464 - recall: 0.1030 - val_loss: 0.6462 - val_accuracy: 0.6281 - val_precision: 1.0000 - val_recall: 0.1119\n",
      "Epoch 9/60\n",
      "64/64 [==============================] - 0s 2ms/step - loss: 0.6161 - accuracy: 0.6687 - precision: 0.8577 - recall: 0.2109 - val_loss: 0.6446 - val_accuracy: 0.7672 - val_precision: 0.6448 - val_recall: 0.9888\n",
      "Epoch 10/60\n",
      "64/64 [==============================] - 0s 2ms/step - loss: 0.5871 - accuracy: 0.7078 - precision: 0.8061 - recall: 0.3596 - val_loss: 0.5764 - val_accuracy: 0.7297 - val_precision: 0.8626 - val_recall: 0.4216\n",
      "Epoch 11/60\n",
      "64/64 [==============================] - 0s 2ms/step - loss: 0.5446 - accuracy: 0.7543 - precision: 0.8636 - recall: 0.4616 - val_loss: 0.5375 - val_accuracy: 0.7312 - val_precision: 0.8636 - val_recall: 0.4254\n",
      "Epoch 12/60\n",
      "64/64 [==============================] - 0s 2ms/step - loss: 0.5046 - accuracy: 0.7664 - precision: 0.8814 - recall: 0.4840 - val_loss: 0.5133 - val_accuracy: 0.7750 - val_precision: 0.8196 - val_recall: 0.5933\n",
      "Epoch 13/60\n",
      "64/64 [==============================] - 0s 2ms/step - loss: 0.4813 - accuracy: 0.7930 - precision: 0.8718 - recall: 0.5685 - val_loss: 0.4956 - val_accuracy: 0.7812 - val_precision: 0.8137 - val_recall: 0.6194\n",
      "Epoch 14/60\n",
      "64/64 [==============================] - 0s 2ms/step - loss: 0.4690 - accuracy: 0.7934 - precision: 0.8521 - recall: 0.5879 - val_loss: 0.4800 - val_accuracy: 0.7594 - val_precision: 0.8434 - val_recall: 0.5224\n",
      "Epoch 15/60\n",
      "64/64 [==============================] - 0s 2ms/step - loss: 0.4472 - accuracy: 0.8051 - precision: 0.8571 - recall: 0.6181 - val_loss: 0.4678 - val_accuracy: 0.7812 - val_precision: 0.8200 - val_recall: 0.6119\n",
      "Epoch 16/60\n",
      "64/64 [==============================] - 0s 2ms/step - loss: 0.4297 - accuracy: 0.8055 - precision: 0.8462 - recall: 0.6307 - val_loss: 0.4691 - val_accuracy: 0.7781 - val_precision: 0.8500 - val_recall: 0.5709\n",
      "Epoch 17/60\n",
      "64/64 [==============================] - 0s 2ms/step - loss: 0.4250 - accuracy: 0.8188 - precision: 0.8466 - recall: 0.6706 - val_loss: 0.4536 - val_accuracy: 0.7797 - val_precision: 0.8098 - val_recall: 0.6194\n",
      "Epoch 18/60\n",
      "64/64 [==============================] - 0s 2ms/step - loss: 0.4245 - accuracy: 0.8113 - precision: 0.8354 - recall: 0.6608 - val_loss: 0.4510 - val_accuracy: 0.7812 - val_precision: 0.8200 - val_recall: 0.6119\n",
      "Epoch 19/60\n",
      "64/64 [==============================] - 0s 2ms/step - loss: 0.4213 - accuracy: 0.8172 - precision: 0.8351 - recall: 0.6793 - val_loss: 0.4483 - val_accuracy: 0.8047 - val_precision: 0.8122 - val_recall: 0.6940\n",
      "Epoch 20/60\n",
      "64/64 [==============================] - 0s 2ms/step - loss: 0.4197 - accuracy: 0.8176 - precision: 0.8353 - recall: 0.6803 - val_loss: 0.4985 - val_accuracy: 0.7656 - val_precision: 0.8471 - val_recall: 0.5373\n",
      "Epoch 21/60\n",
      "64/64 [==============================] - 0s 2ms/step - loss: 0.4212 - accuracy: 0.8156 - precision: 0.8265 - recall: 0.6851 - val_loss: 0.4469 - val_accuracy: 0.7781 - val_precision: 0.8182 - val_recall: 0.6045\n",
      "Epoch 22/60\n",
      "64/64 [==============================] - 0s 2ms/step - loss: 0.4129 - accuracy: 0.8227 - precision: 0.8363 - recall: 0.6948 - val_loss: 0.4371 - val_accuracy: 0.7922 - val_precision: 0.8054 - val_recall: 0.6642\n",
      "Epoch 23/60\n",
      "64/64 [==============================] - 0s 2ms/step - loss: 0.4053 - accuracy: 0.8254 - precision: 0.8360 - recall: 0.7036 - val_loss: 0.4347 - val_accuracy: 0.7937 - val_precision: 0.8119 - val_recall: 0.6604\n",
      "Epoch 24/60\n",
      "64/64 [==============================] - 0s 2ms/step - loss: 0.4071 - accuracy: 0.8219 - precision: 0.8245 - recall: 0.7075 - val_loss: 0.5497 - val_accuracy: 0.7563 - val_precision: 0.8457 - val_recall: 0.5112\n",
      "Epoch 25/60\n",
      "64/64 [==============================] - 0s 2ms/step - loss: 0.4037 - accuracy: 0.8211 - precision: 0.8204 - recall: 0.7104 - val_loss: 0.5028 - val_accuracy: 0.7781 - val_precision: 0.8500 - val_recall: 0.5709\n",
      "Epoch 26/60\n",
      "64/64 [==============================] - 0s 2ms/step - loss: 0.4011 - accuracy: 0.8266 - precision: 0.8366 - recall: 0.7065 - val_loss: 0.4400 - val_accuracy: 0.8156 - val_precision: 0.7863 - val_recall: 0.7687\n",
      "Epoch 27/60\n",
      "64/64 [==============================] - 0s 2ms/step - loss: 0.3994 - accuracy: 0.8324 - precision: 0.8289 - recall: 0.7347 - val_loss: 0.4710 - val_accuracy: 0.7766 - val_precision: 0.8238 - val_recall: 0.5933\n",
      "Epoch 28/60\n",
      "64/64 [==============================] - 0s 2ms/step - loss: 0.3953 - accuracy: 0.8309 - precision: 0.8239 - recall: 0.7366 - val_loss: 0.4464 - val_accuracy: 0.8234 - val_precision: 0.7818 - val_recall: 0.8022\n",
      "Epoch 29/60\n",
      "64/64 [==============================] - 0s 2ms/step - loss: 0.4059 - accuracy: 0.8227 - precision: 0.8122 - recall: 0.7269 - val_loss: 0.4617 - val_accuracy: 0.7734 - val_precision: 0.8154 - val_recall: 0.5933\n",
      "Epoch 30/60\n",
      "64/64 [==============================] - 0s 2ms/step - loss: 0.3907 - accuracy: 0.8262 - precision: 0.8202 - recall: 0.7269 - val_loss: 0.4211 - val_accuracy: 0.8109 - val_precision: 0.8000 - val_recall: 0.7313\n",
      "Epoch 31/60\n",
      "64/64 [==============================] - 0s 2ms/step - loss: 0.3916 - accuracy: 0.8289 - precision: 0.8195 - recall: 0.7366 - val_loss: 0.4521 - val_accuracy: 0.7812 - val_precision: 0.8168 - val_recall: 0.6157\n",
      "Epoch 32/60\n",
      "64/64 [==============================] - 0s 2ms/step - loss: 0.3885 - accuracy: 0.8297 - precision: 0.8164 - recall: 0.7434 - val_loss: 0.4319 - val_accuracy: 0.7875 - val_precision: 0.8113 - val_recall: 0.6418\n",
      "Epoch 33/60\n",
      "64/64 [==============================] - 0s 2ms/step - loss: 0.3861 - accuracy: 0.8316 - precision: 0.8134 - recall: 0.7541 - val_loss: 0.4365 - val_accuracy: 0.7844 - val_precision: 0.8095 - val_recall: 0.6343\n",
      "Epoch 34/60\n",
      "64/64 [==============================] - 0s 2ms/step - loss: 0.3858 - accuracy: 0.8352 - precision: 0.8212 - recall: 0.7541 - val_loss: 0.4256 - val_accuracy: 0.7937 - val_precision: 0.8063 - val_recall: 0.6679\n",
      "Epoch 35/60\n",
      "64/64 [==============================] - 0s 2ms/step - loss: 0.3870 - accuracy: 0.8316 - precision: 0.8167 - recall: 0.7493 - val_loss: 0.4150 - val_accuracy: 0.8078 - val_precision: 0.8085 - val_recall: 0.7090\n",
      "Epoch 36/60\n",
      "64/64 [==============================] - 0s 2ms/step - loss: 0.4103 - accuracy: 0.8375 - precision: 0.8189 - recall: 0.7648 - val_loss: 0.4130 - val_accuracy: 0.8109 - val_precision: 0.7976 - val_recall: 0.7351\n",
      "Epoch 37/60\n"
     ]
    },
    {
     "name": "stdout",
     "output_type": "stream",
     "text": [
      "64/64 [==============================] - 0s 2ms/step - loss: 0.3923 - accuracy: 0.8301 - precision: 0.8126 - recall: 0.7502 - val_loss: 0.4129 - val_accuracy: 0.8109 - val_precision: 0.8075 - val_recall: 0.7201\n",
      "Epoch 38/60\n",
      "64/64 [==============================] - 0s 2ms/step - loss: 0.3869 - accuracy: 0.8316 - precision: 0.8141 - recall: 0.7532 - val_loss: 0.4435 - val_accuracy: 0.7828 - val_precision: 0.8086 - val_recall: 0.6306\n",
      "Epoch 39/60\n",
      "64/64 [==============================] - 0s 2ms/step - loss: 0.3920 - accuracy: 0.8344 - precision: 0.8168 - recall: 0.7580 - val_loss: 0.4148 - val_accuracy: 0.8203 - val_precision: 0.7865 - val_recall: 0.7836\n",
      "Epoch 40/60\n",
      "64/64 [==============================] - 0s 2ms/step - loss: 0.3932 - accuracy: 0.8324 - precision: 0.8067 - recall: 0.7668 - val_loss: 0.4099 - val_accuracy: 0.8125 - val_precision: 0.7846 - val_recall: 0.7612\n",
      "Epoch 41/60\n",
      "64/64 [==============================] - 0s 2ms/step - loss: 0.3814 - accuracy: 0.8332 - precision: 0.8116 - recall: 0.7619 - val_loss: 0.4096 - val_accuracy: 0.8156 - val_precision: 0.8099 - val_recall: 0.7313\n",
      "Epoch 42/60\n",
      "64/64 [==============================] - 0s 2ms/step - loss: 0.3770 - accuracy: 0.8344 - precision: 0.8115 - recall: 0.7658 - val_loss: 0.4123 - val_accuracy: 0.8109 - val_precision: 0.8101 - val_recall: 0.7164\n",
      "Epoch 43/60\n",
      "64/64 [==============================] - 0s 2ms/step - loss: 0.3768 - accuracy: 0.8363 - precision: 0.8131 - recall: 0.7697 - val_loss: 0.4057 - val_accuracy: 0.8156 - val_precision: 0.7907 - val_recall: 0.7612\n",
      "Epoch 44/60\n",
      "64/64 [==============================] - 0s 2ms/step - loss: 0.3853 - accuracy: 0.8301 - precision: 0.7994 - recall: 0.7707 - val_loss: 0.4232 - val_accuracy: 0.8266 - val_precision: 0.7754 - val_recall: 0.8246\n",
      "Epoch 45/60\n",
      "64/64 [==============================] - 0s 2ms/step - loss: 0.3841 - accuracy: 0.8367 - precision: 0.8089 - recall: 0.7775 - val_loss: 0.4265 - val_accuracy: 0.7953 - val_precision: 0.8072 - val_recall: 0.6716\n",
      "Epoch 46/60\n",
      "64/64 [==============================] - 0s 2ms/step - loss: 0.3848 - accuracy: 0.8371 - precision: 0.8129 - recall: 0.7726 - val_loss: 0.4034 - val_accuracy: 0.8156 - val_precision: 0.7907 - val_recall: 0.7612\n",
      "Epoch 47/60\n",
      "64/64 [==============================] - 0s 2ms/step - loss: 0.3932 - accuracy: 0.8316 - precision: 0.7990 - recall: 0.7765 - val_loss: 0.4339 - val_accuracy: 0.8313 - val_precision: 0.7721 - val_recall: 0.8470\n",
      "Epoch 48/60\n",
      "64/64 [==============================] - 0s 2ms/step - loss: 0.3832 - accuracy: 0.8309 - precision: 0.8028 - recall: 0.7677 - val_loss: 0.4295 - val_accuracy: 0.8281 - val_precision: 0.7705 - val_recall: 0.8396\n",
      "Epoch 49/60\n",
      "64/64 [==============================] - 0s 2ms/step - loss: 0.3745 - accuracy: 0.8348 - precision: 0.8030 - recall: 0.7804 - val_loss: 0.4057 - val_accuracy: 0.8141 - val_precision: 0.8016 - val_recall: 0.7388\n",
      "Epoch 50/60\n",
      "64/64 [==============================] - 0s 2ms/step - loss: 0.3951 - accuracy: 0.8336 - precision: 0.8024 - recall: 0.7775 - val_loss: 0.4437 - val_accuracy: 0.7953 - val_precision: 0.8128 - val_recall: 0.6642\n",
      "Epoch 51/60\n",
      "64/64 [==============================] - 0s 2ms/step - loss: 0.3759 - accuracy: 0.8355 - precision: 0.8077 - recall: 0.7755 - val_loss: 0.4004 - val_accuracy: 0.8125 - val_precision: 0.7846 - val_recall: 0.7612\n",
      "Epoch 52/60\n",
      "64/64 [==============================] - 0s 2ms/step - loss: 0.3773 - accuracy: 0.8359 - precision: 0.8030 - recall: 0.7843 - val_loss: 0.4452 - val_accuracy: 0.8375 - val_precision: 0.7662 - val_recall: 0.8806\n",
      "Epoch 53/60\n",
      "64/64 [==============================] - 0s 2ms/step - loss: 0.3943 - accuracy: 0.8355 - precision: 0.8016 - recall: 0.7852 - val_loss: 0.4019 - val_accuracy: 0.8234 - val_precision: 0.7881 - val_recall: 0.7910\n",
      "Epoch 54/60\n",
      "64/64 [==============================] - 0s 2ms/step - loss: 0.3711 - accuracy: 0.8383 - precision: 0.8042 - recall: 0.7901 - val_loss: 0.4028 - val_accuracy: 0.8250 - val_precision: 0.7826 - val_recall: 0.8060\n",
      "Epoch 55/60\n",
      "64/64 [==============================] - 0s 2ms/step - loss: 0.3713 - accuracy: 0.8344 - precision: 0.7998 - recall: 0.7843 - val_loss: 0.4119 - val_accuracy: 0.8297 - val_precision: 0.7770 - val_recall: 0.8321\n",
      "Epoch 56/60\n",
      "64/64 [==============================] - 0s 2ms/step - loss: 0.3821 - accuracy: 0.8387 - precision: 0.8062 - recall: 0.7881 - val_loss: 0.4126 - val_accuracy: 0.8141 - val_precision: 0.8143 - val_recall: 0.7201\n",
      "Epoch 57/60\n",
      "64/64 [==============================] - 0s 2ms/step - loss: 0.3755 - accuracy: 0.8355 - precision: 0.7992 - recall: 0.7891 - val_loss: 0.4017 - val_accuracy: 0.8219 - val_precision: 0.7750 - val_recall: 0.8097\n",
      "Epoch 58/60\n",
      "64/64 [==============================] - 0s 2ms/step - loss: 0.3765 - accuracy: 0.8348 - precision: 0.7994 - recall: 0.7862 - val_loss: 0.4017 - val_accuracy: 0.8234 - val_precision: 0.7758 - val_recall: 0.8134\n",
      "Epoch 59/60\n",
      "64/64 [==============================] - 0s 3ms/step - loss: 0.3771 - accuracy: 0.8379 - precision: 0.8004 - recall: 0.7949 - val_loss: 0.4039 - val_accuracy: 0.8141 - val_precision: 0.7945 - val_recall: 0.7500\n",
      "Epoch 60/60\n",
      "64/64 [==============================] - 0s 3ms/step - loss: 0.3699 - accuracy: 0.8383 - precision: 0.8024 - recall: 0.7930 - val_loss: 0.3997 - val_accuracy: 0.8156 - val_precision: 0.7907 - val_recall: 0.7612\n",
      "20/20 [==============================] - 0s 1ms/step\n"
     ]
    },
    {
     "name": "stderr",
     "output_type": "stream",
     "text": [
      "WARNING:absl:Found untraced functions such as _update_step_xla while saving (showing 1 of 1). These functions will not be directly callable after loading.\n"
     ]
    },
    {
     "name": "stdout",
     "output_type": "stream",
     "text": [
      "INFO:tensorflow:Assets written to: C:\\Users\\jmbar\\AppData\\Local\\Temp\\tmpjmla18zs\\assets\n"
     ]
    },
    {
     "name": "stderr",
     "output_type": "stream",
     "text": [
      "INFO:tensorflow:Assets written to: C:\\Users\\jmbar\\AppData\\Local\\Temp\\tmpjmla18zs\\assets\n"
     ]
    },
    {
     "name": "stdout",
     "output_type": "stream",
     "text": [
      "Epoch 1/60\n",
      "64/64 [==============================] - 1s 6ms/step - loss: 0.6725 - accuracy: 0.6047 - precision: 0.0000e+00 - recall: 0.0000e+00 - val_loss: 0.6893 - val_accuracy: 0.5594 - val_precision: 0.0000e+00 - val_recall: 0.0000e+00\n",
      "Epoch 2/60\n",
      "64/64 [==============================] - 0s 2ms/step - loss: 0.6736 - accuracy: 0.6047 - precision: 0.0000e+00 - recall: 0.0000e+00 - val_loss: 0.6884 - val_accuracy: 0.5594 - val_precision: 0.0000e+00 - val_recall: 0.0000e+00\n",
      "Epoch 3/60\n",
      "64/64 [==============================] - 0s 2ms/step - loss: 0.6730 - accuracy: 0.6047 - precision: 0.0000e+00 - recall: 0.0000e+00 - val_loss: 0.6891 - val_accuracy: 0.5594 - val_precision: 0.0000e+00 - val_recall: 0.0000e+00\n",
      "Epoch 4/60\n",
      "64/64 [==============================] - 0s 2ms/step - loss: 0.6724 - accuracy: 0.6051 - precision: 1.0000 - recall: 9.8814e-04 - val_loss: 0.6904 - val_accuracy: 0.5594 - val_precision: 0.0000e+00 - val_recall: 0.0000e+00\n",
      "Epoch 5/60\n",
      "64/64 [==============================] - 0s 2ms/step - loss: 0.6703 - accuracy: 0.6047 - precision: 0.0000e+00 - recall: 0.0000e+00 - val_loss: 0.6903 - val_accuracy: 0.5594 - val_precision: 0.0000e+00 - val_recall: 0.0000e+00\n",
      "Epoch 6/60\n",
      "64/64 [==============================] - 0s 2ms/step - loss: 0.6692 - accuracy: 0.6062 - precision: 1.0000 - recall: 0.0040 - val_loss: 0.6839 - val_accuracy: 0.5594 - val_precision: 0.0000e+00 - val_recall: 0.0000e+00\n",
      "Epoch 7/60\n",
      "64/64 [==============================] - 0s 2ms/step - loss: 0.6647 - accuracy: 0.6141 - precision: 1.0000 - recall: 0.0237 - val_loss: 0.6833 - val_accuracy: 0.5672 - val_precision: 1.0000 - val_recall: 0.0177\n",
      "Epoch 8/60\n",
      "64/64 [==============================] - 0s 2ms/step - loss: 0.6501 - accuracy: 0.6309 - precision: 0.9589 - recall: 0.0692 - val_loss: 0.6570 - val_accuracy: 0.6047 - val_precision: 0.9143 - val_recall: 0.1135\n",
      "Epoch 9/60\n",
      "64/64 [==============================] - 0s 2ms/step - loss: 0.6233 - accuracy: 0.6660 - precision: 0.9290 - recall: 0.1680 - val_loss: 0.6328 - val_accuracy: 0.6187 - val_precision: 0.8958 - val_recall: 0.1525\n",
      "Epoch 10/60\n",
      "64/64 [==============================] - 0s 2ms/step - loss: 0.5964 - accuracy: 0.7078 - precision: 0.8882 - recall: 0.2984 - val_loss: 0.6034 - val_accuracy: 0.7672 - val_precision: 0.8276 - val_recall: 0.5957\n",
      "Epoch 11/60\n",
      "64/64 [==============================] - 0s 2ms/step - loss: 0.5487 - accuracy: 0.7359 - precision: 0.8818 - recall: 0.3834 - val_loss: 0.5535 - val_accuracy: 0.7141 - val_precision: 0.8561 - val_recall: 0.4220\n",
      "Epoch 12/60\n",
      "64/64 [==============================] - 0s 2ms/step - loss: 0.5179 - accuracy: 0.7609 - precision: 0.8690 - recall: 0.4654 - val_loss: 0.5271 - val_accuracy: 0.7391 - val_precision: 0.8571 - val_recall: 0.4894\n",
      "Epoch 13/60\n",
      "64/64 [==============================] - 0s 2ms/step - loss: 0.4843 - accuracy: 0.7855 - precision: 0.8669 - recall: 0.5405 - val_loss: 0.5092 - val_accuracy: 0.7750 - val_precision: 0.8194 - val_recall: 0.6277\n",
      "Epoch 14/60\n",
      "64/64 [==============================] - 0s 2ms/step - loss: 0.4665 - accuracy: 0.7906 - precision: 0.8521 - recall: 0.5692 - val_loss: 0.5145 - val_accuracy: 0.8156 - val_precision: 0.8015 - val_recall: 0.7730\n",
      "Epoch 15/60\n",
      "64/64 [==============================] - 0s 2ms/step - loss: 0.4522 - accuracy: 0.8031 - precision: 0.8432 - recall: 0.6166 - val_loss: 0.4832 - val_accuracy: 0.7688 - val_precision: 0.8190 - val_recall: 0.6099\n",
      "Epoch 16/60\n",
      "64/64 [==============================] - 0s 2ms/step - loss: 0.4401 - accuracy: 0.8082 - precision: 0.8441 - recall: 0.6314 - val_loss: 0.4996 - val_accuracy: 0.7594 - val_precision: 0.8441 - val_recall: 0.5567\n",
      "Epoch 17/60\n",
      "64/64 [==============================] - 0s 2ms/step - loss: 0.4425 - accuracy: 0.8109 - precision: 0.8275 - recall: 0.6591 - val_loss: 0.4881 - val_accuracy: 0.7688 - val_precision: 0.8418 - val_recall: 0.5851\n",
      "Epoch 18/60\n",
      "64/64 [==============================] - 0s 2ms/step - loss: 0.4312 - accuracy: 0.8129 - precision: 0.8311 - recall: 0.6611 - val_loss: 0.4934 - val_accuracy: 0.7688 - val_precision: 0.8454 - val_recall: 0.5816\n",
      "Epoch 19/60\n",
      "64/64 [==============================] - 0s 3ms/step - loss: 0.4297 - accuracy: 0.8129 - precision: 0.8270 - recall: 0.6660 - val_loss: 0.4712 - val_accuracy: 0.7703 - val_precision: 0.8261 - val_recall: 0.6064\n",
      "Epoch 20/60\n",
      "64/64 [==============================] - 0s 3ms/step - loss: 0.4190 - accuracy: 0.8176 - precision: 0.8287 - recall: 0.6789 - val_loss: 0.4562 - val_accuracy: 0.7906 - val_precision: 0.8162 - val_recall: 0.6773\n",
      "Epoch 21/60\n",
      "64/64 [==============================] - 0s 2ms/step - loss: 0.4185 - accuracy: 0.8188 - precision: 0.8224 - recall: 0.6907 - val_loss: 0.4826 - val_accuracy: 0.8203 - val_precision: 0.7793 - val_recall: 0.8262\n",
      "Epoch 22/60\n",
      "64/64 [==============================] - 0s 2ms/step - loss: 0.4193 - accuracy: 0.8211 - precision: 0.8244 - recall: 0.6957 - val_loss: 0.4488 - val_accuracy: 0.8031 - val_precision: 0.8171 - val_recall: 0.7128\n",
      "Epoch 23/60\n",
      "64/64 [==============================] - 0s 2ms/step - loss: 0.4229 - accuracy: 0.8188 - precision: 0.8208 - recall: 0.6927 - val_loss: 0.4455 - val_accuracy: 0.8000 - val_precision: 0.8182 - val_recall: 0.7021\n",
      "Epoch 24/60\n",
      "64/64 [==============================] - 0s 2ms/step - loss: 0.4158 - accuracy: 0.8219 - precision: 0.8166 - recall: 0.7085 - val_loss: 0.4726 - val_accuracy: 0.7703 - val_precision: 0.8261 - val_recall: 0.6064\n",
      "Epoch 25/60\n",
      "64/64 [==============================] - 0s 2ms/step - loss: 0.4085 - accuracy: 0.8234 - precision: 0.8196 - recall: 0.7095 - val_loss: 0.4510 - val_accuracy: 0.7734 - val_precision: 0.8100 - val_recall: 0.6348\n",
      "Epoch 26/60\n",
      "64/64 [==============================] - 0s 2ms/step - loss: 0.4161 - accuracy: 0.8227 - precision: 0.8178 - recall: 0.7095 - val_loss: 0.4455 - val_accuracy: 0.8141 - val_precision: 0.7921 - val_recall: 0.7837\n",
      "Epoch 27/60\n",
      "64/64 [==============================] - 0s 2ms/step - loss: 0.4095 - accuracy: 0.8207 - precision: 0.8117 - recall: 0.7115 - val_loss: 0.4395 - val_accuracy: 0.7906 - val_precision: 0.8162 - val_recall: 0.6773\n",
      "Epoch 28/60\n",
      "64/64 [==============================] - 0s 2ms/step - loss: 0.4006 - accuracy: 0.8250 - precision: 0.8140 - recall: 0.7223 - val_loss: 0.4341 - val_accuracy: 0.8156 - val_precision: 0.8060 - val_recall: 0.7660\n",
      "Epoch 29/60\n",
      "64/64 [==============================] - 0s 2ms/step - loss: 0.4052 - accuracy: 0.8230 - precision: 0.8061 - recall: 0.7273 - val_loss: 0.4376 - val_accuracy: 0.7922 - val_precision: 0.8170 - val_recall: 0.6809\n",
      "Epoch 30/60\n",
      "64/64 [==============================] - 0s 2ms/step - loss: 0.4016 - accuracy: 0.8223 - precision: 0.8064 - recall: 0.7243 - val_loss: 0.4297 - val_accuracy: 0.8172 - val_precision: 0.8022 - val_recall: 0.7766\n",
      "Epoch 31/60\n",
      "64/64 [==============================] - 0s 2ms/step - loss: 0.4004 - accuracy: 0.8262 - precision: 0.8052 - recall: 0.7391 - val_loss: 0.4700 - val_accuracy: 0.7750 - val_precision: 0.8194 - val_recall: 0.6277\n",
      "Epoch 32/60\n",
      "64/64 [==============================] - 0s 2ms/step - loss: 0.3951 - accuracy: 0.8258 - precision: 0.8036 - recall: 0.7401 - val_loss: 0.4396 - val_accuracy: 0.7875 - val_precision: 0.8147 - val_recall: 0.6702\n",
      "Epoch 33/60\n",
      "64/64 [==============================] - 0s 2ms/step - loss: 0.4024 - accuracy: 0.8277 - precision: 0.8073 - recall: 0.7411 - val_loss: 0.4510 - val_accuracy: 0.7781 - val_precision: 0.8153 - val_recall: 0.6418\n",
      "Epoch 34/60\n",
      "64/64 [==============================] - 0s 2ms/step - loss: 0.4014 - accuracy: 0.8289 - precision: 0.8106 - recall: 0.7401 - val_loss: 0.4312 - val_accuracy: 0.7984 - val_precision: 0.8174 - val_recall: 0.6986\n",
      "Epoch 35/60\n",
      "64/64 [==============================] - 0s 2ms/step - loss: 0.3892 - accuracy: 0.8340 - precision: 0.8093 - recall: 0.7589 - val_loss: 0.4460 - val_accuracy: 0.7812 - val_precision: 0.8114 - val_recall: 0.6560\n",
      "Epoch 36/60\n",
      "64/64 [==============================] - 0s 2ms/step - loss: 0.3882 - accuracy: 0.8297 - precision: 0.8038 - recall: 0.7530 - val_loss: 0.4226 - val_accuracy: 0.8109 - val_precision: 0.8182 - val_recall: 0.7340\n",
      "Epoch 37/60\n"
     ]
    },
    {
     "name": "stdout",
     "output_type": "stream",
     "text": [
      "64/64 [==============================] - 0s 2ms/step - loss: 0.3846 - accuracy: 0.8344 - precision: 0.8088 - recall: 0.7609 - val_loss: 0.4351 - val_accuracy: 0.7984 - val_precision: 0.8174 - val_recall: 0.6986\n",
      "Epoch 38/60\n",
      "64/64 [==============================] - 0s 2ms/step - loss: 0.3865 - accuracy: 0.8344 - precision: 0.8043 - recall: 0.7678 - val_loss: 0.4183 - val_accuracy: 0.8141 - val_precision: 0.8099 - val_recall: 0.7553\n",
      "Epoch 39/60\n",
      "64/64 [==============================] - 0s 2ms/step - loss: 0.3902 - accuracy: 0.8340 - precision: 0.8035 - recall: 0.7678 - val_loss: 0.4503 - val_accuracy: 0.7812 - val_precision: 0.8114 - val_recall: 0.6560\n",
      "Epoch 40/60\n",
      "64/64 [==============================] - 0s 2ms/step - loss: 0.3921 - accuracy: 0.8371 - precision: 0.8051 - recall: 0.7757 - val_loss: 0.4144 - val_accuracy: 0.8141 - val_precision: 0.7921 - val_recall: 0.7837\n",
      "Epoch 41/60\n",
      "64/64 [==============================] - 0s 2ms/step - loss: 0.3925 - accuracy: 0.8301 - precision: 0.7959 - recall: 0.7668 - val_loss: 0.4127 - val_accuracy: 0.8203 - val_precision: 0.8036 - val_recall: 0.7837\n",
      "Epoch 42/60\n",
      "64/64 [==============================] - 0s 2ms/step - loss: 0.3847 - accuracy: 0.8320 - precision: 0.8012 - recall: 0.7648 - val_loss: 0.4179 - val_accuracy: 0.8109 - val_precision: 0.8108 - val_recall: 0.7447\n",
      "Epoch 43/60\n",
      "64/64 [==============================] - 0s 2ms/step - loss: 0.3865 - accuracy: 0.8328 - precision: 0.7986 - recall: 0.7717 - val_loss: 0.4312 - val_accuracy: 0.8047 - val_precision: 0.8178 - val_recall: 0.7163\n",
      "Epoch 44/60\n",
      "64/64 [==============================] - 0s 2ms/step - loss: 0.3941 - accuracy: 0.8355 - precision: 0.8025 - recall: 0.7747 - val_loss: 0.4114 - val_accuracy: 0.8156 - val_precision: 0.8037 - val_recall: 0.7695\n",
      "Epoch 45/60\n",
      "64/64 [==============================] - 0s 2ms/step - loss: 0.3839 - accuracy: 0.8344 - precision: 0.8012 - recall: 0.7727 - val_loss: 0.4108 - val_accuracy: 0.8203 - val_precision: 0.8036 - val_recall: 0.7837\n",
      "Epoch 46/60\n",
      "64/64 [==============================] - 0s 2ms/step - loss: 0.3793 - accuracy: 0.8359 - precision: 0.8002 - recall: 0.7796 - val_loss: 0.4295 - val_accuracy: 0.8062 - val_precision: 0.8185 - val_recall: 0.7199\n",
      "Epoch 47/60\n",
      "64/64 [==============================] - 0s 2ms/step - loss: 0.3752 - accuracy: 0.8352 - precision: 0.7974 - recall: 0.7816 - val_loss: 0.4160 - val_accuracy: 0.8219 - val_precision: 0.7781 - val_recall: 0.8333\n",
      "Epoch 48/60\n",
      "64/64 [==============================] - 0s 2ms/step - loss: 0.3821 - accuracy: 0.8348 - precision: 0.7954 - recall: 0.7836 - val_loss: 0.4081 - val_accuracy: 0.8188 - val_precision: 0.7862 - val_recall: 0.8085\n",
      "Epoch 49/60\n",
      "64/64 [==============================] - 0s 2ms/step - loss: 0.3913 - accuracy: 0.8332 - precision: 0.7899 - recall: 0.7875 - val_loss: 0.5132 - val_accuracy: 0.7734 - val_precision: 0.8157 - val_recall: 0.6277\n",
      "Epoch 50/60\n",
      "64/64 [==============================] - 0s 2ms/step - loss: 0.3802 - accuracy: 0.8332 - precision: 0.7952 - recall: 0.7787 - val_loss: 0.4300 - val_accuracy: 0.8062 - val_precision: 0.8185 - val_recall: 0.7199\n",
      "Epoch 51/60\n",
      "64/64 [==============================] - 0s 2ms/step - loss: 0.3805 - accuracy: 0.8371 - precision: 0.7960 - recall: 0.7905 - val_loss: 0.4097 - val_accuracy: 0.8203 - val_precision: 0.7793 - val_recall: 0.8262\n",
      "Epoch 52/60\n",
      "64/64 [==============================] - 0s 2ms/step - loss: 0.3892 - accuracy: 0.8313 - precision: 0.7854 - recall: 0.7885 - val_loss: 0.4035 - val_accuracy: 0.8203 - val_precision: 0.7909 - val_recall: 0.8050\n",
      "Epoch 53/60\n",
      "64/64 [==============================] - 0s 2ms/step - loss: 0.3796 - accuracy: 0.8383 - precision: 0.7960 - recall: 0.7945 - val_loss: 0.4030 - val_accuracy: 0.8156 - val_precision: 0.7929 - val_recall: 0.7872\n",
      "Epoch 54/60\n",
      "64/64 [==============================] - 0s 2ms/step - loss: 0.3761 - accuracy: 0.8387 - precision: 0.7992 - recall: 0.7905 - val_loss: 0.4040 - val_accuracy: 0.8219 - val_precision: 0.7838 - val_recall: 0.8227\n",
      "Epoch 55/60\n",
      "64/64 [==============================] - 0s 2ms/step - loss: 0.3832 - accuracy: 0.8387 - precision: 0.7928 - recall: 0.8014 - val_loss: 0.4639 - val_accuracy: 0.7953 - val_precision: 0.8186 - val_recall: 0.6879\n",
      "Epoch 56/60\n",
      "64/64 [==============================] - 0s 2ms/step - loss: 0.3773 - accuracy: 0.8371 - precision: 0.7891 - recall: 0.8024 - val_loss: 0.4006 - val_accuracy: 0.8172 - val_precision: 0.7895 - val_recall: 0.7979\n",
      "Epoch 57/60\n",
      "64/64 [==============================] - 0s 2ms/step - loss: 0.3865 - accuracy: 0.8383 - precision: 0.7931 - recall: 0.7994 - val_loss: 0.4102 - val_accuracy: 0.8125 - val_precision: 0.8022 - val_recall: 0.7624\n",
      "Epoch 58/60\n",
      "64/64 [==============================] - 0s 2ms/step - loss: 0.3723 - accuracy: 0.8391 - precision: 0.7935 - recall: 0.8014 - val_loss: 0.4002 - val_accuracy: 0.8172 - val_precision: 0.7915 - val_recall: 0.7943\n",
      "Epoch 59/60\n",
      "64/64 [==============================] - 0s 2ms/step - loss: 0.3757 - accuracy: 0.8371 - precision: 0.7920 - recall: 0.7974 - val_loss: 0.4003 - val_accuracy: 0.8219 - val_precision: 0.7819 - val_recall: 0.8262\n",
      "Epoch 60/60\n",
      "64/64 [==============================] - 0s 2ms/step - loss: 0.3810 - accuracy: 0.8359 - precision: 0.7879 - recall: 0.8004 - val_loss: 0.4223 - val_accuracy: 0.8125 - val_precision: 0.8115 - val_recall: 0.7482\n",
      "20/20 [==============================] - 0s 1ms/step\n"
     ]
    },
    {
     "name": "stderr",
     "output_type": "stream",
     "text": [
      "WARNING:absl:Found untraced functions such as _update_step_xla while saving (showing 1 of 1). These functions will not be directly callable after loading.\n"
     ]
    },
    {
     "name": "stdout",
     "output_type": "stream",
     "text": [
      "INFO:tensorflow:Assets written to: C:\\Users\\jmbar\\AppData\\Local\\Temp\\tmp4o6i2d1g\\assets\n"
     ]
    },
    {
     "name": "stderr",
     "output_type": "stream",
     "text": [
      "INFO:tensorflow:Assets written to: C:\\Users\\jmbar\\AppData\\Local\\Temp\\tmp4o6i2d1g\\assets\n"
     ]
    },
    {
     "name": "stdout",
     "output_type": "stream",
     "text": [
      "WARNING:tensorflow:Detecting that an object or model or tf.train.Checkpoint is being deleted with unrestored values. See the following logs for the specific values in question. To silence these warnings, use `status.expect_partial()`. See https://www.tensorflow.org/api_docs/python/tf/train/Checkpoint#restorefor details about the status object returned by the restore function.\n"
     ]
    },
    {
     "name": "stderr",
     "output_type": "stream",
     "text": [
      "WARNING:tensorflow:Detecting that an object or model or tf.train.Checkpoint is being deleted with unrestored values. See the following logs for the specific values in question. To silence these warnings, use `status.expect_partial()`. See https://www.tensorflow.org/api_docs/python/tf/train/Checkpoint#restorefor details about the status object returned by the restore function.\n"
     ]
    },
    {
     "name": "stdout",
     "output_type": "stream",
     "text": [
      "WARNING:tensorflow:Value in checkpoint could not be found in the restored object: (root).keras_api.metrics.0.total\n"
     ]
    },
    {
     "name": "stderr",
     "output_type": "stream",
     "text": [
      "WARNING:tensorflow:Value in checkpoint could not be found in the restored object: (root).keras_api.metrics.0.total\n"
     ]
    },
    {
     "name": "stdout",
     "output_type": "stream",
     "text": [
      "WARNING:tensorflow:Value in checkpoint could not be found in the restored object: (root).keras_api.metrics.0.count\n"
     ]
    },
    {
     "name": "stderr",
     "output_type": "stream",
     "text": [
      "WARNING:tensorflow:Value in checkpoint could not be found in the restored object: (root).keras_api.metrics.0.count\n"
     ]
    },
    {
     "name": "stdout",
     "output_type": "stream",
     "text": [
      "WARNING:tensorflow:Value in checkpoint could not be found in the restored object: (root).keras_api.metrics.1.total\n"
     ]
    },
    {
     "name": "stderr",
     "output_type": "stream",
     "text": [
      "WARNING:tensorflow:Value in checkpoint could not be found in the restored object: (root).keras_api.metrics.1.total\n"
     ]
    },
    {
     "name": "stdout",
     "output_type": "stream",
     "text": [
      "WARNING:tensorflow:Value in checkpoint could not be found in the restored object: (root).keras_api.metrics.1.count\n"
     ]
    },
    {
     "name": "stderr",
     "output_type": "stream",
     "text": [
      "WARNING:tensorflow:Value in checkpoint could not be found in the restored object: (root).keras_api.metrics.1.count\n"
     ]
    },
    {
     "name": "stdout",
     "output_type": "stream",
     "text": [
      "WARNING:tensorflow:Value in checkpoint could not be found in the restored object: (root).keras_api.metrics.2.true_positives\n"
     ]
    },
    {
     "name": "stderr",
     "output_type": "stream",
     "text": [
      "WARNING:tensorflow:Value in checkpoint could not be found in the restored object: (root).keras_api.metrics.2.true_positives\n"
     ]
    },
    {
     "name": "stdout",
     "output_type": "stream",
     "text": [
      "WARNING:tensorflow:Value in checkpoint could not be found in the restored object: (root).keras_api.metrics.2.false_positives\n"
     ]
    },
    {
     "name": "stderr",
     "output_type": "stream",
     "text": [
      "WARNING:tensorflow:Value in checkpoint could not be found in the restored object: (root).keras_api.metrics.2.false_positives\n"
     ]
    },
    {
     "name": "stdout",
     "output_type": "stream",
     "text": [
      "WARNING:tensorflow:Value in checkpoint could not be found in the restored object: (root).keras_api.metrics.3.true_positives\n"
     ]
    },
    {
     "name": "stderr",
     "output_type": "stream",
     "text": [
      "WARNING:tensorflow:Value in checkpoint could not be found in the restored object: (root).keras_api.metrics.3.true_positives\n"
     ]
    },
    {
     "name": "stdout",
     "output_type": "stream",
     "text": [
      "WARNING:tensorflow:Value in checkpoint could not be found in the restored object: (root).keras_api.metrics.3.false_negatives\n"
     ]
    },
    {
     "name": "stderr",
     "output_type": "stream",
     "text": [
      "WARNING:tensorflow:Value in checkpoint could not be found in the restored object: (root).keras_api.metrics.3.false_negatives\n"
     ]
    },
    {
     "name": "stdout",
     "output_type": "stream",
     "text": [
      "WARNING:tensorflow:Detecting that an object or model or tf.train.Checkpoint is being deleted with unrestored values. See the following logs for the specific values in question. To silence these warnings, use `status.expect_partial()`. See https://www.tensorflow.org/api_docs/python/tf/train/Checkpoint#restorefor details about the status object returned by the restore function.\n"
     ]
    },
    {
     "name": "stderr",
     "output_type": "stream",
     "text": [
      "WARNING:tensorflow:Detecting that an object or model or tf.train.Checkpoint is being deleted with unrestored values. See the following logs for the specific values in question. To silence these warnings, use `status.expect_partial()`. See https://www.tensorflow.org/api_docs/python/tf/train/Checkpoint#restorefor details about the status object returned by the restore function.\n"
     ]
    },
    {
     "name": "stdout",
     "output_type": "stream",
     "text": [
      "WARNING:tensorflow:Value in checkpoint could not be found in the restored object: (root).keras_api.metrics.0.total\n"
     ]
    },
    {
     "name": "stderr",
     "output_type": "stream",
     "text": [
      "WARNING:tensorflow:Value in checkpoint could not be found in the restored object: (root).keras_api.metrics.0.total\n"
     ]
    },
    {
     "name": "stdout",
     "output_type": "stream",
     "text": [
      "WARNING:tensorflow:Value in checkpoint could not be found in the restored object: (root).keras_api.metrics.0.count\n"
     ]
    },
    {
     "name": "stderr",
     "output_type": "stream",
     "text": [
      "WARNING:tensorflow:Value in checkpoint could not be found in the restored object: (root).keras_api.metrics.0.count\n"
     ]
    },
    {
     "name": "stdout",
     "output_type": "stream",
     "text": [
      "WARNING:tensorflow:Value in checkpoint could not be found in the restored object: (root).keras_api.metrics.1.total\n"
     ]
    },
    {
     "name": "stderr",
     "output_type": "stream",
     "text": [
      "WARNING:tensorflow:Value in checkpoint could not be found in the restored object: (root).keras_api.metrics.1.total\n"
     ]
    },
    {
     "name": "stdout",
     "output_type": "stream",
     "text": [
      "WARNING:tensorflow:Value in checkpoint could not be found in the restored object: (root).keras_api.metrics.1.count\n"
     ]
    },
    {
     "name": "stderr",
     "output_type": "stream",
     "text": [
      "WARNING:tensorflow:Value in checkpoint could not be found in the restored object: (root).keras_api.metrics.1.count\n"
     ]
    },
    {
     "name": "stdout",
     "output_type": "stream",
     "text": [
      "WARNING:tensorflow:Value in checkpoint could not be found in the restored object: (root).keras_api.metrics.2.true_positives\n"
     ]
    },
    {
     "name": "stderr",
     "output_type": "stream",
     "text": [
      "WARNING:tensorflow:Value in checkpoint could not be found in the restored object: (root).keras_api.metrics.2.true_positives\n"
     ]
    },
    {
     "name": "stdout",
     "output_type": "stream",
     "text": [
      "WARNING:tensorflow:Value in checkpoint could not be found in the restored object: (root).keras_api.metrics.2.false_positives\n"
     ]
    },
    {
     "name": "stderr",
     "output_type": "stream",
     "text": [
      "WARNING:tensorflow:Value in checkpoint could not be found in the restored object: (root).keras_api.metrics.2.false_positives\n"
     ]
    },
    {
     "name": "stdout",
     "output_type": "stream",
     "text": [
      "WARNING:tensorflow:Value in checkpoint could not be found in the restored object: (root).keras_api.metrics.3.true_positives\n"
     ]
    },
    {
     "name": "stderr",
     "output_type": "stream",
     "text": [
      "WARNING:tensorflow:Value in checkpoint could not be found in the restored object: (root).keras_api.metrics.3.true_positives\n"
     ]
    },
    {
     "name": "stdout",
     "output_type": "stream",
     "text": [
      "WARNING:tensorflow:Value in checkpoint could not be found in the restored object: (root).keras_api.metrics.3.false_negatives\n"
     ]
    },
    {
     "name": "stderr",
     "output_type": "stream",
     "text": [
      "WARNING:tensorflow:Value in checkpoint could not be found in the restored object: (root).keras_api.metrics.3.false_negatives\n"
     ]
    },
    {
     "name": "stdout",
     "output_type": "stream",
     "text": [
      "Epoch 1/60\n",
      "64/64 [==============================] - 1s 6ms/step - loss: 0.6769 - accuracy: 0.5953 - precision: 0.0000e+00 - recall: 0.0000e+00 - val_loss: 0.6696 - val_accuracy: 0.6078 - val_precision: 0.0000e+00 - val_recall: 0.0000e+00\n",
      "Epoch 2/60\n",
      "64/64 [==============================] - 0s 2ms/step - loss: 0.6765 - accuracy: 0.5957 - precision: 1.0000 - recall: 9.6525e-04 - val_loss: 0.6796 - val_accuracy: 0.6078 - val_precision: 0.0000e+00 - val_recall: 0.0000e+00\n",
      "Epoch 3/60\n",
      "64/64 [==============================] - 0s 2ms/step - loss: 0.6770 - accuracy: 0.5953 - precision: 0.0000e+00 - recall: 0.0000e+00 - val_loss: 0.6728 - val_accuracy: 0.6078 - val_precision: 0.0000e+00 - val_recall: 0.0000e+00\n",
      "Epoch 4/60\n",
      "64/64 [==============================] - 0s 2ms/step - loss: 0.6766 - accuracy: 0.5957 - precision: 1.0000 - recall: 9.6525e-04 - val_loss: 0.6695 - val_accuracy: 0.6078 - val_precision: 0.0000e+00 - val_recall: 0.0000e+00\n",
      "Epoch 5/60\n",
      "64/64 [==============================] - 0s 2ms/step - loss: 0.6751 - accuracy: 0.5957 - precision: 1.0000 - recall: 9.6525e-04 - val_loss: 0.6733 - val_accuracy: 0.6094 - val_precision: 1.0000 - val_recall: 0.0040\n",
      "Epoch 6/60\n",
      "64/64 [==============================] - 0s 2ms/step - loss: 0.6736 - accuracy: 0.5980 - precision: 1.0000 - recall: 0.0068 - val_loss: 0.6654 - val_accuracy: 0.6094 - val_precision: 1.0000 - val_recall: 0.0040\n",
      "Epoch 7/60\n",
      "64/64 [==============================] - 0s 2ms/step - loss: 0.6658 - accuracy: 0.6055 - precision: 0.9643 - recall: 0.0261 - val_loss: 0.6608 - val_accuracy: 0.6203 - val_precision: 0.9000 - val_recall: 0.0359\n",
      "Epoch 8/60\n",
      "64/64 [==============================] - 0s 2ms/step - loss: 0.6555 - accuracy: 0.6387 - precision: 0.9370 - recall: 0.1149 - val_loss: 0.6465 - val_accuracy: 0.6219 - val_precision: 0.9091 - val_recall: 0.0398\n",
      "Epoch 9/60\n",
      "64/64 [==============================] - 0s 2ms/step - loss: 0.6244 - accuracy: 0.6637 - precision: 0.9353 - recall: 0.1815 - val_loss: 0.6088 - val_accuracy: 0.6797 - val_precision: 0.8594 - val_recall: 0.2191\n",
      "Epoch 10/60\n",
      "64/64 [==============================] - 0s 2ms/step - loss: 0.5892 - accuracy: 0.7070 - precision: 0.8004 - recall: 0.3678 - val_loss: 0.5746 - val_accuracy: 0.7281 - val_precision: 0.8738 - val_recall: 0.3586\n",
      "Epoch 11/60\n",
      "64/64 [==============================] - 0s 2ms/step - loss: 0.5402 - accuracy: 0.7559 - precision: 0.8899 - recall: 0.4527 - val_loss: 0.5581 - val_accuracy: 0.7891 - val_precision: 0.7959 - val_recall: 0.6215\n",
      "Epoch 12/60\n",
      "64/64 [==============================] - 0s 2ms/step - loss: 0.5002 - accuracy: 0.7766 - precision: 0.8919 - recall: 0.5097 - val_loss: 0.6334 - val_accuracy: 0.6078 - val_precision: 0.5000 - val_recall: 0.9920\n",
      "Epoch 13/60\n",
      "64/64 [==============================] - 0s 2ms/step - loss: 0.4833 - accuracy: 0.7758 - precision: 0.8105 - recall: 0.5820 - val_loss: 0.4912 - val_accuracy: 0.7906 - val_precision: 0.8305 - val_recall: 0.5857\n",
      "Epoch 14/60\n",
      "64/64 [==============================] - 0s 2ms/step - loss: 0.4509 - accuracy: 0.8016 - precision: 0.8657 - recall: 0.6033 - val_loss: 0.5386 - val_accuracy: 0.7422 - val_precision: 0.8525 - val_recall: 0.4143\n",
      "Epoch 15/60\n",
      "64/64 [==============================] - 0s 2ms/step - loss: 0.4491 - accuracy: 0.7949 - precision: 0.8393 - recall: 0.6100 - val_loss: 0.4685 - val_accuracy: 0.7875 - val_precision: 0.8075 - val_recall: 0.6016\n",
      "Epoch 16/60\n",
      "64/64 [==============================] - 0s 2ms/step - loss: 0.4311 - accuracy: 0.8203 - precision: 0.8547 - recall: 0.6699 - val_loss: 0.4811 - val_accuracy: 0.7750 - val_precision: 0.8323 - val_recall: 0.5339\n",
      "Epoch 17/60\n",
      "64/64 [==============================] - 0s 2ms/step - loss: 0.4310 - accuracy: 0.8156 - precision: 0.8439 - recall: 0.6680 - val_loss: 0.4592 - val_accuracy: 0.7922 - val_precision: 0.7980 - val_recall: 0.6295\n",
      "Epoch 18/60\n",
      "64/64 [==============================] - 0s 2ms/step - loss: 0.4145 - accuracy: 0.8145 - precision: 0.8433 - recall: 0.6651 - val_loss: 0.4644 - val_accuracy: 0.8156 - val_precision: 0.7930 - val_recall: 0.7171\n",
      "Epoch 19/60\n",
      "64/64 [==============================] - 0s 2ms/step - loss: 0.4262 - accuracy: 0.8133 - precision: 0.8282 - recall: 0.6795 - val_loss: 0.4530 - val_accuracy: 0.7844 - val_precision: 0.7958 - val_recall: 0.6056\n",
      "Epoch 20/60\n",
      "64/64 [==============================] - 0s 2ms/step - loss: 0.4110 - accuracy: 0.8207 - precision: 0.8422 - recall: 0.6853 - val_loss: 0.4475 - val_accuracy: 0.7906 - val_precision: 0.7970 - val_recall: 0.6255\n",
      "Epoch 21/60\n",
      "64/64 [==============================] - 0s 2ms/step - loss: 0.4067 - accuracy: 0.8242 - precision: 0.8376 - recall: 0.7017 - val_loss: 0.4466 - val_accuracy: 0.7906 - val_precision: 0.7970 - val_recall: 0.6255\n",
      "Epoch 22/60\n",
      "64/64 [==============================] - 0s 2ms/step - loss: 0.4096 - accuracy: 0.8211 - precision: 0.8277 - recall: 0.7046 - val_loss: 0.4516 - val_accuracy: 0.7859 - val_precision: 0.8032 - val_recall: 0.6016\n",
      "Epoch 23/60\n",
      "64/64 [==============================] - 0s 2ms/step - loss: 0.4017 - accuracy: 0.8266 - precision: 0.8348 - recall: 0.7124 - val_loss: 0.4860 - val_accuracy: 0.7891 - val_precision: 0.8333 - val_recall: 0.5777\n",
      "Epoch 24/60\n",
      "64/64 [==============================] - 0s 2ms/step - loss: 0.3957 - accuracy: 0.8266 - precision: 0.8326 - recall: 0.7153 - val_loss: 0.4365 - val_accuracy: 0.7984 - val_precision: 0.7933 - val_recall: 0.6574\n",
      "Epoch 25/60\n",
      "64/64 [==============================] - 0s 2ms/step - loss: 0.3952 - accuracy: 0.8270 - precision: 0.8255 - recall: 0.7259 - val_loss: 0.4479 - val_accuracy: 0.7844 - val_precision: 0.7958 - val_recall: 0.6056\n",
      "Epoch 26/60\n",
      "64/64 [==============================] - 0s 2ms/step - loss: 0.3957 - accuracy: 0.8242 - precision: 0.8192 - recall: 0.7259 - val_loss: 0.4337 - val_accuracy: 0.7969 - val_precision: 0.7923 - val_recall: 0.6534\n",
      "Epoch 27/60\n",
      "64/64 [==============================] - 0s 2ms/step - loss: 0.3941 - accuracy: 0.8266 - precision: 0.8210 - recall: 0.7307 - val_loss: 0.4717 - val_accuracy: 0.7828 - val_precision: 0.8043 - val_recall: 0.5896\n",
      "Epoch 28/60\n",
      "64/64 [==============================] - 0s 2ms/step - loss: 0.4050 - accuracy: 0.8266 - precision: 0.8217 - recall: 0.7297 - val_loss: 0.4352 - val_accuracy: 0.8172 - val_precision: 0.7659 - val_recall: 0.7689\n",
      "Epoch 29/60\n",
      "64/64 [==============================] - 0s 2ms/step - loss: 0.3910 - accuracy: 0.8305 - precision: 0.8223 - recall: 0.7413 - val_loss: 0.4355 - val_accuracy: 0.7937 - val_precision: 0.7931 - val_recall: 0.6414\n",
      "Epoch 30/60\n",
      "64/64 [==============================] - 0s 2ms/step - loss: 0.3866 - accuracy: 0.8301 - precision: 0.8228 - recall: 0.7394 - val_loss: 0.4248 - val_accuracy: 0.8109 - val_precision: 0.7902 - val_recall: 0.7052\n",
      "Epoch 31/60\n",
      "64/64 [==============================] - 0s 2ms/step - loss: 0.3919 - accuracy: 0.8238 - precision: 0.8162 - recall: 0.7288 - val_loss: 0.4254 - val_accuracy: 0.8078 - val_precision: 0.7936 - val_recall: 0.6892\n",
      "Epoch 32/60\n",
      "64/64 [==============================] - 0s 2ms/step - loss: 0.3911 - accuracy: 0.8293 - precision: 0.8169 - recall: 0.7452 - val_loss: 0.4235 - val_accuracy: 0.8188 - val_precision: 0.7755 - val_recall: 0.7570\n",
      "Epoch 33/60\n",
      "64/64 [==============================] - 0s 2ms/step - loss: 0.3953 - accuracy: 0.8258 - precision: 0.8086 - recall: 0.7461 - val_loss: 0.4231 - val_accuracy: 0.8078 - val_precision: 0.7936 - val_recall: 0.6892\n",
      "Epoch 34/60\n",
      "64/64 [==============================] - 0s 2ms/step - loss: 0.3867 - accuracy: 0.8355 - precision: 0.8247 - recall: 0.7539 - val_loss: 0.4193 - val_accuracy: 0.8156 - val_precision: 0.7930 - val_recall: 0.7171\n",
      "Epoch 35/60\n",
      "64/64 [==============================] - 0s 2ms/step - loss: 0.3806 - accuracy: 0.8320 - precision: 0.8150 - recall: 0.7568 - val_loss: 0.4175 - val_accuracy: 0.8172 - val_precision: 0.7815 - val_recall: 0.7410\n",
      "Epoch 36/60\n",
      "64/64 [==============================] - 0s 2ms/step - loss: 0.3860 - accuracy: 0.8324 - precision: 0.8100 - recall: 0.7654 - val_loss: 0.4188 - val_accuracy: 0.8156 - val_precision: 0.7930 - val_recall: 0.7171\n",
      "Epoch 37/60\n"
     ]
    },
    {
     "name": "stdout",
     "output_type": "stream",
     "text": [
      "64/64 [==============================] - 0s 2ms/step - loss: 0.4100 - accuracy: 0.8262 - precision: 0.8062 - recall: 0.7510 - val_loss: 0.4237 - val_accuracy: 0.8125 - val_precision: 0.7549 - val_recall: 0.7729\n",
      "Epoch 38/60\n",
      "64/64 [==============================] - 0s 2ms/step - loss: 0.3945 - accuracy: 0.8285 - precision: 0.8126 - recall: 0.7490 - val_loss: 0.4373 - val_accuracy: 0.7953 - val_precision: 0.7941 - val_recall: 0.6454\n",
      "Epoch 39/60\n",
      "64/64 [==============================] - 0s 2ms/step - loss: 0.3912 - accuracy: 0.8305 - precision: 0.8162 - recall: 0.7500 - val_loss: 0.4368 - val_accuracy: 0.7969 - val_precision: 0.7923 - val_recall: 0.6534\n",
      "Epoch 40/60\n",
      "64/64 [==============================] - 0s 2ms/step - loss: 0.3754 - accuracy: 0.8359 - precision: 0.8105 - recall: 0.7761 - val_loss: 0.4136 - val_accuracy: 0.8188 - val_precision: 0.7848 - val_recall: 0.7410\n",
      "Epoch 41/60\n",
      "64/64 [==============================] - 0s 2ms/step - loss: 0.3749 - accuracy: 0.8348 - precision: 0.8137 - recall: 0.7674 - val_loss: 0.4194 - val_accuracy: 0.8125 - val_precision: 0.7510 - val_recall: 0.7809\n",
      "Epoch 42/60\n",
      "64/64 [==============================] - 0s 2ms/step - loss: 0.3742 - accuracy: 0.8375 - precision: 0.8163 - recall: 0.7722 - val_loss: 0.4263 - val_accuracy: 0.8062 - val_precision: 0.7900 - val_recall: 0.6892\n",
      "Epoch 43/60\n",
      "64/64 [==============================] - 0s 2ms/step - loss: 0.3769 - accuracy: 0.8328 - precision: 0.8077 - recall: 0.7703 - val_loss: 0.4105 - val_accuracy: 0.8172 - val_precision: 0.7659 - val_recall: 0.7689\n",
      "Epoch 44/60\n",
      "64/64 [==============================] - 0s 2ms/step - loss: 0.3783 - accuracy: 0.8375 - precision: 0.8106 - recall: 0.7809 - val_loss: 0.4243 - val_accuracy: 0.8141 - val_precision: 0.7426 - val_recall: 0.8048\n",
      "Epoch 45/60\n",
      "64/64 [==============================] - 0s 2ms/step - loss: 0.3727 - accuracy: 0.8340 - precision: 0.8058 - recall: 0.7770 - val_loss: 0.4354 - val_accuracy: 0.8125 - val_precision: 0.7331 - val_recall: 0.8207\n",
      "Epoch 46/60\n",
      "64/64 [==============================] - 0s 2ms/step - loss: 0.3874 - accuracy: 0.8340 - precision: 0.8070 - recall: 0.7751 - val_loss: 0.4092 - val_accuracy: 0.8219 - val_precision: 0.7842 - val_recall: 0.7530\n",
      "Epoch 47/60\n",
      "64/64 [==============================] - 0s 2ms/step - loss: 0.3777 - accuracy: 0.8379 - precision: 0.8090 - recall: 0.7847 - val_loss: 0.4223 - val_accuracy: 0.8125 - val_precision: 0.7911 - val_recall: 0.7092\n",
      "Epoch 48/60\n",
      "64/64 [==============================] - 0s 2ms/step - loss: 0.3860 - accuracy: 0.8367 - precision: 0.8090 - recall: 0.7809 - val_loss: 0.4067 - val_accuracy: 0.8203 - val_precision: 0.7764 - val_recall: 0.7610\n",
      "Epoch 49/60\n",
      "64/64 [==============================] - 0s 2ms/step - loss: 0.3790 - accuracy: 0.8395 - precision: 0.8079 - recall: 0.7915 - val_loss: 0.4060 - val_accuracy: 0.8156 - val_precision: 0.7649 - val_recall: 0.7649\n",
      "Epoch 50/60\n",
      "64/64 [==============================] - 0s 2ms/step - loss: 0.3721 - accuracy: 0.8387 - precision: 0.8100 - recall: 0.7857 - val_loss: 0.4059 - val_accuracy: 0.8109 - val_precision: 0.7539 - val_recall: 0.7689\n",
      "Epoch 51/60\n",
      "64/64 [==============================] - 0s 2ms/step - loss: 0.3712 - accuracy: 0.8340 - precision: 0.7992 - recall: 0.7876 - val_loss: 0.4058 - val_accuracy: 0.8125 - val_precision: 0.7549 - val_recall: 0.7729\n",
      "Epoch 52/60\n",
      "64/64 [==============================] - 0s 2ms/step - loss: 0.3748 - accuracy: 0.8348 - precision: 0.8002 - recall: 0.7886 - val_loss: 0.4129 - val_accuracy: 0.8141 - val_precision: 0.7426 - val_recall: 0.8048\n",
      "Epoch 53/60\n",
      "64/64 [==============================] - 0s 2ms/step - loss: 0.3823 - accuracy: 0.8426 - precision: 0.8094 - recall: 0.7992 - val_loss: 0.4076 - val_accuracy: 0.8141 - val_precision: 0.7519 - val_recall: 0.7849\n",
      "Epoch 54/60\n",
      "64/64 [==============================] - 0s 2ms/step - loss: 0.3866 - accuracy: 0.8375 - precision: 0.8069 - recall: 0.7867 - val_loss: 0.4030 - val_accuracy: 0.8156 - val_precision: 0.7628 - val_recall: 0.7689\n",
      "Epoch 55/60\n",
      "64/64 [==============================] - 0s 2ms/step - loss: 0.3968 - accuracy: 0.8410 - precision: 0.8056 - recall: 0.8002 - val_loss: 0.4045 - val_accuracy: 0.8141 - val_precision: 0.7538 - val_recall: 0.7809\n",
      "Epoch 56/60\n",
      "64/64 [==============================] - 0s 2ms/step - loss: 0.3713 - accuracy: 0.8387 - precision: 0.8033 - recall: 0.7963 - val_loss: 0.4029 - val_accuracy: 0.8156 - val_precision: 0.7628 - val_recall: 0.7689\n",
      "Epoch 57/60\n",
      "64/64 [==============================] - 0s 2ms/step - loss: 0.3719 - accuracy: 0.8363 - precision: 0.7998 - recall: 0.7944 - val_loss: 0.4028 - val_accuracy: 0.8156 - val_precision: 0.7628 - val_recall: 0.7689\n",
      "Epoch 58/60\n",
      "64/64 [==============================] - 0s 2ms/step - loss: 0.3783 - accuracy: 0.8344 - precision: 0.8012 - recall: 0.7857 - val_loss: 0.4057 - val_accuracy: 0.8172 - val_precision: 0.7702 - val_recall: 0.7610\n",
      "Epoch 59/60\n",
      "64/64 [==============================] - 0s 2ms/step - loss: 0.3675 - accuracy: 0.8402 - precision: 0.8023 - recall: 0.8031 - val_loss: 0.4368 - val_accuracy: 0.8094 - val_precision: 0.7919 - val_recall: 0.6972\n",
      "Epoch 60/60\n",
      "64/64 [==============================] - 0s 2ms/step - loss: 0.3680 - accuracy: 0.8422 - precision: 0.8080 - recall: 0.8002 - val_loss: 0.4051 - val_accuracy: 0.8141 - val_precision: 0.7640 - val_recall: 0.7610\n",
      "20/20 [==============================] - 0s 1ms/step\n"
     ]
    },
    {
     "name": "stderr",
     "output_type": "stream",
     "text": [
      "WARNING:absl:Found untraced functions such as _update_step_xla while saving (showing 1 of 1). These functions will not be directly callable after loading.\n"
     ]
    },
    {
     "name": "stdout",
     "output_type": "stream",
     "text": [
      "INFO:tensorflow:Assets written to: C:\\Users\\jmbar\\AppData\\Local\\Temp\\tmptuvtbh3f\\assets\n"
     ]
    },
    {
     "name": "stderr",
     "output_type": "stream",
     "text": [
      "INFO:tensorflow:Assets written to: C:\\Users\\jmbar\\AppData\\Local\\Temp\\tmptuvtbh3f\\assets\n"
     ]
    },
    {
     "name": "stdout",
     "output_type": "stream",
     "text": [
      "Epoch 1/60\n",
      "64/64 [==============================] - 1s 6ms/step - loss: 0.6760 - accuracy: 0.5945 - precision: 0.4375 - recall: 0.0340 - val_loss: 0.6805 - val_accuracy: 0.5844 - val_precision: 0.0000e+00 - val_recall: 0.0000e+00\n",
      "Epoch 2/60\n",
      "64/64 [==============================] - 0s 2ms/step - loss: 0.6765 - accuracy: 0.5984 - precision: 0.0000e+00 - recall: 0.0000e+00 - val_loss: 0.6790 - val_accuracy: 0.5844 - val_precision: 0.0000e+00 - val_recall: 0.0000e+00\n",
      "Epoch 3/60\n",
      "64/64 [==============================] - 0s 2ms/step - loss: 0.6756 - accuracy: 0.5984 - precision: 0.0000e+00 - recall: 0.0000e+00 - val_loss: 0.6812 - val_accuracy: 0.5844 - val_precision: 0.0000e+00 - val_recall: 0.0000e+00\n",
      "Epoch 4/60\n",
      "64/64 [==============================] - 0s 2ms/step - loss: 0.6761 - accuracy: 0.5984 - precision: 0.0000e+00 - recall: 0.0000e+00 - val_loss: 0.6798 - val_accuracy: 0.5859 - val_precision: 1.0000 - val_recall: 0.0038\n",
      "Epoch 5/60\n",
      "64/64 [==============================] - 0s 2ms/step - loss: 0.6741 - accuracy: 0.5984 - precision: 0.0000e+00 - recall: 0.0000e+00 - val_loss: 0.6779 - val_accuracy: 0.5859 - val_precision: 1.0000 - val_recall: 0.0038\n",
      "Epoch 6/60\n",
      "64/64 [==============================] - 0s 2ms/step - loss: 0.6699 - accuracy: 0.5992 - precision: 1.0000 - recall: 0.0019 - val_loss: 0.6759 - val_accuracy: 0.5922 - val_precision: 1.0000 - val_recall: 0.0188\n",
      "Epoch 7/60\n",
      "64/64 [==============================] - 0s 2ms/step - loss: 0.6693 - accuracy: 0.6059 - precision: 1.0000 - recall: 0.0185 - val_loss: 0.6697 - val_accuracy: 0.5953 - val_precision: 0.8889 - val_recall: 0.0301\n",
      "Epoch 8/60\n",
      "64/64 [==============================] - 0s 2ms/step - loss: 0.6595 - accuracy: 0.6199 - precision: 0.9508 - recall: 0.0564 - val_loss: 0.6566 - val_accuracy: 0.6141 - val_precision: 0.9130 - val_recall: 0.0789\n",
      "Epoch 9/60\n",
      "64/64 [==============================] - 0s 2ms/step - loss: 0.6339 - accuracy: 0.6441 - precision: 0.9535 - recall: 0.1196 - val_loss: 0.6319 - val_accuracy: 0.6266 - val_precision: 0.9091 - val_recall: 0.1128\n",
      "Epoch 10/60\n",
      "64/64 [==============================] - 0s 2ms/step - loss: 0.6001 - accuracy: 0.6777 - precision: 0.7446 - recall: 0.3006 - val_loss: 0.6137 - val_accuracy: 0.8078 - val_precision: 0.8178 - val_recall: 0.6917\n",
      "Epoch 11/60\n",
      "64/64 [==============================] - 0s 2ms/step - loss: 0.5580 - accuracy: 0.7328 - precision: 0.8963 - recall: 0.3784 - val_loss: 0.5495 - val_accuracy: 0.7188 - val_precision: 0.8644 - val_recall: 0.3835\n",
      "Epoch 12/60\n",
      "64/64 [==============================] - 0s 2ms/step - loss: 0.5066 - accuracy: 0.7586 - precision: 0.8883 - recall: 0.4562 - val_loss: 0.5264 - val_accuracy: 0.7203 - val_precision: 0.8655 - val_recall: 0.3872\n",
      "Epoch 13/60\n",
      "64/64 [==============================] - 0s 2ms/step - loss: 0.4807 - accuracy: 0.7828 - precision: 0.8711 - recall: 0.5389 - val_loss: 0.4869 - val_accuracy: 0.7812 - val_precision: 0.8316 - val_recall: 0.5940\n",
      "Epoch 14/60\n",
      "64/64 [==============================] - 0s 2ms/step - loss: 0.4601 - accuracy: 0.7961 - precision: 0.8594 - recall: 0.5885 - val_loss: 0.4721 - val_accuracy: 0.7844 - val_precision: 0.8265 - val_recall: 0.6090\n",
      "Epoch 15/60\n",
      "64/64 [==============================] - 0s 2ms/step - loss: 0.4414 - accuracy: 0.8062 - precision: 0.8528 - recall: 0.6255 - val_loss: 0.4634 - val_accuracy: 0.7922 - val_precision: 0.8152 - val_recall: 0.6466\n",
      "Epoch 16/60\n",
      "64/64 [==============================] - 0s 2ms/step - loss: 0.4451 - accuracy: 0.8105 - precision: 0.8390 - recall: 0.6537 - val_loss: 0.5241 - val_accuracy: 0.7563 - val_precision: 0.8618 - val_recall: 0.4925\n",
      "Epoch 17/60\n",
      "64/64 [==============================] - 0s 2ms/step - loss: 0.4351 - accuracy: 0.8125 - precision: 0.8416 - recall: 0.6566 - val_loss: 0.4792 - val_accuracy: 0.7719 - val_precision: 0.8409 - val_recall: 0.5564\n",
      "Epoch 18/60\n",
      "64/64 [==============================] - 0s 2ms/step - loss: 0.4273 - accuracy: 0.8176 - precision: 0.8392 - recall: 0.6751 - val_loss: 0.4610 - val_accuracy: 0.8281 - val_precision: 0.8047 - val_recall: 0.7744\n",
      "Epoch 19/60\n",
      "64/64 [==============================] - 0s 2ms/step - loss: 0.4308 - accuracy: 0.8156 - precision: 0.8333 - recall: 0.6761 - val_loss: 0.4607 - val_accuracy: 0.7812 - val_precision: 0.8316 - val_recall: 0.5940\n",
      "Epoch 20/60\n",
      "64/64 [==============================] - 0s 2ms/step - loss: 0.4239 - accuracy: 0.8211 - precision: 0.8353 - recall: 0.6907 - val_loss: 0.4495 - val_accuracy: 0.7859 - val_precision: 0.8241 - val_recall: 0.6165\n",
      "Epoch 21/60\n",
      "64/64 [==============================] - 0s 2ms/step - loss: 0.4165 - accuracy: 0.8207 - precision: 0.8327 - recall: 0.6926 - val_loss: 0.4360 - val_accuracy: 0.7969 - val_precision: 0.8178 - val_recall: 0.6579\n",
      "Epoch 22/60\n",
      "64/64 [==============================] - 0s 2ms/step - loss: 0.4142 - accuracy: 0.8270 - precision: 0.8328 - recall: 0.7121 - val_loss: 0.4390 - val_accuracy: 0.8281 - val_precision: 0.8071 - val_recall: 0.7707\n",
      "Epoch 23/60\n",
      "64/64 [==============================] - 0s 2ms/step - loss: 0.4059 - accuracy: 0.8230 - precision: 0.8263 - recall: 0.7082 - val_loss: 0.4328 - val_accuracy: 0.7969 - val_precision: 0.8178 - val_recall: 0.6579\n",
      "Epoch 24/60\n",
      "64/64 [==============================] - 0s 2ms/step - loss: 0.4202 - accuracy: 0.8180 - precision: 0.8222 - recall: 0.6975 - val_loss: 0.4263 - val_accuracy: 0.8141 - val_precision: 0.8182 - val_recall: 0.7105\n",
      "Epoch 25/60\n",
      "64/64 [==============================] - 0s 2ms/step - loss: 0.4016 - accuracy: 0.8277 - precision: 0.8250 - recall: 0.7247 - val_loss: 0.4256 - val_accuracy: 0.8078 - val_precision: 0.8206 - val_recall: 0.6880\n",
      "Epoch 26/60\n",
      "64/64 [==============================] - 0s 2ms/step - loss: 0.4001 - accuracy: 0.8242 - precision: 0.8211 - recall: 0.7189 - val_loss: 0.4219 - val_accuracy: 0.8172 - val_precision: 0.8170 - val_recall: 0.7218\n",
      "Epoch 27/60\n",
      "64/64 [==============================] - 0s 3ms/step - loss: 0.4125 - accuracy: 0.8234 - precision: 0.8137 - recall: 0.7267 - val_loss: 0.4509 - val_accuracy: 0.7859 - val_precision: 0.8209 - val_recall: 0.6203\n",
      "Epoch 28/60\n",
      "64/64 [==============================] - 0s 3ms/step - loss: 0.4048 - accuracy: 0.8289 - precision: 0.8242 - recall: 0.7296 - val_loss: 0.4488 - val_accuracy: 0.8203 - val_precision: 0.7668 - val_recall: 0.8158\n",
      "Epoch 29/60\n",
      "64/64 [==============================] - 0s 4ms/step - loss: 0.4015 - accuracy: 0.8254 - precision: 0.8147 - recall: 0.7315 - val_loss: 0.4175 - val_accuracy: 0.8156 - val_precision: 0.8190 - val_recall: 0.7143\n",
      "Epoch 30/60\n",
      "64/64 [==============================] - 0s 3ms/step - loss: 0.3915 - accuracy: 0.8320 - precision: 0.8250 - recall: 0.7383 - val_loss: 0.4364 - val_accuracy: 0.7937 - val_precision: 0.8190 - val_recall: 0.6466\n",
      "Epoch 31/60\n",
      "64/64 [==============================] - 0s 3ms/step - loss: 0.3895 - accuracy: 0.8316 - precision: 0.8227 - recall: 0.7403 - val_loss: 0.4213 - val_accuracy: 0.8266 - val_precision: 0.7881 - val_recall: 0.7970\n",
      "Epoch 32/60\n",
      "64/64 [==============================] - 0s 3ms/step - loss: 0.3936 - accuracy: 0.8320 - precision: 0.8134 - recall: 0.7549 - val_loss: 0.4286 - val_accuracy: 0.8000 - val_precision: 0.8165 - val_recall: 0.6692\n",
      "Epoch 33/60\n",
      "64/64 [==============================] - 0s 4ms/step - loss: 0.3956 - accuracy: 0.8355 - precision: 0.8239 - recall: 0.7510 - val_loss: 0.4187 - val_accuracy: 0.8125 - val_precision: 0.8174 - val_recall: 0.7068\n",
      "Epoch 34/60\n",
      "64/64 [==============================] - 0s 3ms/step - loss: 0.3941 - accuracy: 0.8305 - precision: 0.8087 - recall: 0.7568 - val_loss: 0.4556 - val_accuracy: 0.7922 - val_precision: 0.8213 - val_recall: 0.6391\n",
      "Epoch 35/60\n",
      "64/64 [==============================] - 0s 3ms/step - loss: 0.3919 - accuracy: 0.8324 - precision: 0.8143 - recall: 0.7549 - val_loss: 0.4132 - val_accuracy: 0.8266 - val_precision: 0.7881 - val_recall: 0.7970\n",
      "Epoch 36/60\n",
      "64/64 [==============================] - 0s 3ms/step - loss: 0.3831 - accuracy: 0.8305 - precision: 0.8120 - recall: 0.7519 - val_loss: 0.4130 - val_accuracy: 0.8188 - val_precision: 0.8178 - val_recall: 0.7256\n",
      "Epoch 37/60\n"
     ]
    },
    {
     "name": "stdout",
     "output_type": "stream",
     "text": [
      "64/64 [==============================] - 0s 3ms/step - loss: 0.3889 - accuracy: 0.8301 - precision: 0.8047 - recall: 0.7617 - val_loss: 0.4078 - val_accuracy: 0.8250 - val_precision: 0.7873 - val_recall: 0.7932\n",
      "Epoch 38/60\n",
      "64/64 [==============================] - 0s 2ms/step - loss: 0.3914 - accuracy: 0.8293 - precision: 0.8094 - recall: 0.7519 - val_loss: 0.4121 - val_accuracy: 0.8188 - val_precision: 0.8178 - val_recall: 0.7256\n",
      "Epoch 39/60\n",
      "64/64 [==============================] - 0s 2ms/step - loss: 0.3821 - accuracy: 0.8313 - precision: 0.8117 - recall: 0.7549 - val_loss: 0.4065 - val_accuracy: 0.8266 - val_precision: 0.7881 - val_recall: 0.7970\n",
      "Epoch 40/60\n",
      "64/64 [==============================] - 0s 2ms/step - loss: 0.3810 - accuracy: 0.8324 - precision: 0.8066 - recall: 0.7665 - val_loss: 0.4029 - val_accuracy: 0.8281 - val_precision: 0.7955 - val_recall: 0.7895\n",
      "Epoch 41/60\n",
      "64/64 [==============================] - 0s 2ms/step - loss: 0.3770 - accuracy: 0.8340 - precision: 0.8073 - recall: 0.7704 - val_loss: 0.4044 - val_accuracy: 0.8297 - val_precision: 0.8127 - val_recall: 0.7669\n",
      "Epoch 42/60\n",
      "64/64 [==============================] - 0s 5ms/step - loss: 0.3774 - accuracy: 0.8336 - precision: 0.8116 - recall: 0.7626 - val_loss: 0.4241 - val_accuracy: 0.8219 - val_precision: 0.7621 - val_recall: 0.8308\n",
      "Epoch 43/60\n",
      "64/64 [==============================] - 0s 3ms/step - loss: 0.3810 - accuracy: 0.8336 - precision: 0.8028 - recall: 0.7763 - val_loss: 0.4157 - val_accuracy: 0.8203 - val_precision: 0.8186 - val_recall: 0.7293\n",
      "Epoch 44/60\n",
      "64/64 [==============================] - 0s 3ms/step - loss: 0.3796 - accuracy: 0.8359 - precision: 0.8102 - recall: 0.7724 - val_loss: 0.4223 - val_accuracy: 0.8234 - val_precision: 0.7629 - val_recall: 0.8346\n",
      "Epoch 45/60\n",
      "64/64 [==============================] - 0s 4ms/step - loss: 0.3860 - accuracy: 0.8332 - precision: 0.8014 - recall: 0.7772 - val_loss: 0.4029 - val_accuracy: 0.8297 - val_precision: 0.8127 - val_recall: 0.7669\n",
      "Epoch 46/60\n",
      "64/64 [==============================] - 0s 3ms/step - loss: 0.3897 - accuracy: 0.8383 - precision: 0.8070 - recall: 0.7850 - val_loss: 0.4168 - val_accuracy: 0.8234 - val_precision: 0.7647 - val_recall: 0.8308\n",
      "Epoch 47/60\n",
      "64/64 [==============================] - 0s 2ms/step - loss: 0.3813 - accuracy: 0.8336 - precision: 0.8040 - recall: 0.7743 - val_loss: 0.4092 - val_accuracy: 0.8266 - val_precision: 0.8216 - val_recall: 0.7444\n",
      "Epoch 48/60\n",
      "64/64 [==============================] - 0s 3ms/step - loss: 0.3814 - accuracy: 0.8375 - precision: 0.8030 - recall: 0.7889 - val_loss: 0.3968 - val_accuracy: 0.8266 - val_precision: 0.7881 - val_recall: 0.7970\n",
      "Epoch 49/60\n",
      "64/64 [==============================] - 0s 3ms/step - loss: 0.3804 - accuracy: 0.8375 - precision: 0.8018 - recall: 0.7909 - val_loss: 0.3991 - val_accuracy: 0.8266 - val_precision: 0.7818 - val_recall: 0.8083\n",
      "Epoch 50/60\n",
      "64/64 [==============================] - 0s 2ms/step - loss: 0.3767 - accuracy: 0.8445 - precision: 0.8107 - recall: 0.7996 - val_loss: 0.4076 - val_accuracy: 0.8188 - val_precision: 0.7622 - val_recall: 0.8195\n",
      "Epoch 51/60\n",
      "64/64 [==============================] - 0s 2ms/step - loss: 0.3735 - accuracy: 0.8367 - precision: 0.8032 - recall: 0.7860 - val_loss: 0.4005 - val_accuracy: 0.8234 - val_precision: 0.7722 - val_recall: 0.8158\n",
      "Epoch 52/60\n",
      "64/64 [==============================] - 0s 4ms/step - loss: 0.3771 - accuracy: 0.8434 - precision: 0.8101 - recall: 0.7967 - val_loss: 0.4073 - val_accuracy: 0.8297 - val_precision: 0.8127 - val_recall: 0.7669\n",
      "Epoch 53/60\n",
      "64/64 [==============================] - 0s 3ms/step - loss: 0.3721 - accuracy: 0.8348 - precision: 0.7998 - recall: 0.7850 - val_loss: 0.4240 - val_accuracy: 0.8266 - val_precision: 0.7609 - val_recall: 0.8496\n",
      "Epoch 54/60\n",
      "64/64 [==============================] - 0s 3ms/step - loss: 0.3775 - accuracy: 0.8395 - precision: 0.8022 - recall: 0.7967 - val_loss: 0.3990 - val_accuracy: 0.8281 - val_precision: 0.7977 - val_recall: 0.7857\n",
      "Epoch 55/60\n",
      "64/64 [==============================] - 0s 2ms/step - loss: 0.3746 - accuracy: 0.8406 - precision: 0.8039 - recall: 0.7977 - val_loss: 0.3928 - val_accuracy: 0.8250 - val_precision: 0.7831 - val_recall: 0.8008\n",
      "Epoch 56/60\n",
      "64/64 [==============================] - 0s 2ms/step - loss: 0.3708 - accuracy: 0.8355 - precision: 0.7996 - recall: 0.7879 - val_loss: 0.4154 - val_accuracy: 0.8234 - val_precision: 0.8122 - val_recall: 0.7481\n",
      "Epoch 57/60\n",
      "64/64 [==============================] - 0s 3ms/step - loss: 0.3739 - accuracy: 0.8391 - precision: 0.7967 - recall: 0.8045 - val_loss: 0.4083 - val_accuracy: 0.8250 - val_precision: 0.7637 - val_recall: 0.8383\n",
      "Epoch 58/60\n",
      "64/64 [==============================] - 0s 3ms/step - loss: 0.3751 - accuracy: 0.8371 - precision: 0.7986 - recall: 0.7947 - val_loss: 0.3986 - val_accuracy: 0.8188 - val_precision: 0.7622 - val_recall: 0.8195\n",
      "Epoch 59/60\n",
      "64/64 [==============================] - 0s 3ms/step - loss: 0.3675 - accuracy: 0.8371 - precision: 0.7980 - recall: 0.7957 - val_loss: 0.3921 - val_accuracy: 0.8250 - val_precision: 0.7852 - val_recall: 0.7970\n",
      "Epoch 60/60\n",
      "64/64 [==============================] - 0s 3ms/step - loss: 0.3762 - accuracy: 0.8395 - precision: 0.7992 - recall: 0.8016 - val_loss: 0.3912 - val_accuracy: 0.8250 - val_precision: 0.7790 - val_recall: 0.8083\n",
      "20/20 [==============================] - 0s 1ms/step\n"
     ]
    },
    {
     "name": "stderr",
     "output_type": "stream",
     "text": [
      "WARNING:absl:Found untraced functions such as _update_step_xla while saving (showing 1 of 1). These functions will not be directly callable after loading.\n"
     ]
    },
    {
     "name": "stdout",
     "output_type": "stream",
     "text": [
      "INFO:tensorflow:Assets written to: C:\\Users\\jmbar\\AppData\\Local\\Temp\\tmp4n94jb91\\assets\n"
     ]
    },
    {
     "name": "stderr",
     "output_type": "stream",
     "text": [
      "INFO:tensorflow:Assets written to: C:\\Users\\jmbar\\AppData\\Local\\Temp\\tmp4n94jb91\\assets\n"
     ]
    },
    {
     "name": "stdout",
     "output_type": "stream",
     "text": [
      "Epoch 1/60\n",
      "64/64 [==============================] - 1s 7ms/step - loss: 0.6795 - accuracy: 0.5926 - precision: 0.0000e+00 - recall: 0.0000e+00 - val_loss: 0.6859 - val_accuracy: 0.5859 - val_precision: 0.0000e+00 - val_recall: 0.0000e+00\n",
      "Epoch 2/60\n",
      "64/64 [==============================] - 0s 2ms/step - loss: 0.6814 - accuracy: 0.5926 - precision: 0.0000e+00 - recall: 0.0000e+00 - val_loss: 0.6790 - val_accuracy: 0.5859 - val_precision: 0.0000e+00 - val_recall: 0.0000e+00\n",
      "Epoch 3/60\n",
      "64/64 [==============================] - 0s 3ms/step - loss: 0.6774 - accuracy: 0.5926 - precision: 0.0000e+00 - recall: 0.0000e+00 - val_loss: 0.6788 - val_accuracy: 0.5859 - val_precision: 0.0000e+00 - val_recall: 0.0000e+00\n",
      "Epoch 4/60\n",
      "64/64 [==============================] - 0s 3ms/step - loss: 0.6759 - accuracy: 0.5926 - precision: 0.0000e+00 - recall: 0.0000e+00 - val_loss: 0.6775 - val_accuracy: 0.5859 - val_precision: 0.0000e+00 - val_recall: 0.0000e+00\n",
      "Epoch 5/60\n",
      "64/64 [==============================] - 0s 3ms/step - loss: 0.6756 - accuracy: 0.5930 - precision: 1.0000 - recall: 9.5877e-04 - val_loss: 0.6761 - val_accuracy: 0.5859 - val_precision: 0.0000e+00 - val_recall: 0.0000e+00\n",
      "Epoch 6/60\n",
      "64/64 [==============================] - 0s 3ms/step - loss: 0.6736 - accuracy: 0.5945 - precision: 1.0000 - recall: 0.0048 - val_loss: 0.6737 - val_accuracy: 0.5938 - val_precision: 1.0000 - val_recall: 0.0189\n",
      "Epoch 7/60\n",
      "64/64 [==============================] - 0s 3ms/step - loss: 0.6684 - accuracy: 0.6035 - precision: 0.9667 - recall: 0.0278 - val_loss: 0.6660 - val_accuracy: 0.5969 - val_precision: 1.0000 - val_recall: 0.0264\n",
      "Epoch 8/60\n",
      "64/64 [==============================] - 0s 3ms/step - loss: 0.6508 - accuracy: 0.6230 - precision: 0.9643 - recall: 0.0777 - val_loss: 0.6442 - val_accuracy: 0.6219 - val_precision: 0.9259 - val_recall: 0.0943\n",
      "Epoch 9/60\n",
      "64/64 [==============================] - 0s 3ms/step - loss: 0.6243 - accuracy: 0.6691 - precision: 0.9118 - recall: 0.2081 - val_loss: 0.6085 - val_accuracy: 0.6609 - val_precision: 0.8871 - val_recall: 0.2075\n",
      "Epoch 10/60\n",
      "64/64 [==============================] - 0s 3ms/step - loss: 0.5872 - accuracy: 0.7051 - precision: 0.8288 - recall: 0.3480 - val_loss: 0.6056 - val_accuracy: 0.6609 - val_precision: 0.9000 - val_recall: 0.2038\n",
      "Epoch 11/60\n",
      "64/64 [==============================] - 0s 3ms/step - loss: 0.5402 - accuracy: 0.7395 - precision: 0.8821 - recall: 0.4161 - val_loss: 0.5737 - val_accuracy: 0.6844 - val_precision: 0.8621 - val_recall: 0.2830\n",
      "Epoch 12/60\n",
      "64/64 [==============================] - 0s 2ms/step - loss: 0.5143 - accuracy: 0.7695 - precision: 0.8612 - recall: 0.5177 - val_loss: 0.5097 - val_accuracy: 0.7797 - val_precision: 0.8563 - val_recall: 0.5623\n",
      "Epoch 13/60\n",
      "64/64 [==============================] - 0s 3ms/step - loss: 0.4800 - accuracy: 0.7805 - precision: 0.8706 - recall: 0.5417 - val_loss: 0.4950 - val_accuracy: 0.7906 - val_precision: 0.8227 - val_recall: 0.6302\n",
      "Epoch 14/60\n",
      "64/64 [==============================] - 0s 3ms/step - loss: 0.4619 - accuracy: 0.7965 - precision: 0.8489 - recall: 0.6088 - val_loss: 0.4862 - val_accuracy: 0.7688 - val_precision: 0.8634 - val_recall: 0.5245\n",
      "Epoch 15/60\n",
      "64/64 [==============================] - 0s 3ms/step - loss: 0.4401 - accuracy: 0.8012 - precision: 0.8486 - recall: 0.6232 - val_loss: 0.5140 - val_accuracy: 0.8156 - val_precision: 0.7673 - val_recall: 0.7962\n",
      "Epoch 16/60\n",
      "64/64 [==============================] - 0s 3ms/step - loss: 0.4451 - accuracy: 0.8098 - precision: 0.8466 - recall: 0.6510 - val_loss: 0.4693 - val_accuracy: 0.7875 - val_precision: 0.8564 - val_recall: 0.5849\n",
      "Epoch 17/60\n",
      "64/64 [==============================] - 0s 3ms/step - loss: 0.4291 - accuracy: 0.8148 - precision: 0.8424 - recall: 0.6711 - val_loss: 0.4543 - val_accuracy: 0.7906 - val_precision: 0.8227 - val_recall: 0.6302\n",
      "Epoch 18/60\n",
      "64/64 [==============================] - 0s 2ms/step - loss: 0.4386 - accuracy: 0.8160 - precision: 0.8287 - recall: 0.6913 - val_loss: 0.4671 - val_accuracy: 0.8172 - val_precision: 0.7937 - val_recall: 0.7547\n",
      "Epoch 19/60\n",
      "64/64 [==============================] - 0s 2ms/step - loss: 0.4295 - accuracy: 0.8172 - precision: 0.8363 - recall: 0.6855 - val_loss: 0.4464 - val_accuracy: 0.7984 - val_precision: 0.8119 - val_recall: 0.6679\n",
      "Epoch 20/60\n",
      "64/64 [==============================] - 0s 2ms/step - loss: 0.4160 - accuracy: 0.8195 - precision: 0.8305 - recall: 0.6999 - val_loss: 0.4421 - val_accuracy: 0.7984 - val_precision: 0.8119 - val_recall: 0.6679\n",
      "Epoch 21/60\n",
      "64/64 [==============================] - 0s 2ms/step - loss: 0.4270 - accuracy: 0.8164 - precision: 0.8297 - recall: 0.6913 - val_loss: 0.4446 - val_accuracy: 0.7891 - val_precision: 0.8250 - val_recall: 0.6226\n",
      "Epoch 22/60\n",
      "64/64 [==============================] - 0s 2ms/step - loss: 0.4300 - accuracy: 0.8152 - precision: 0.8239 - recall: 0.6951 - val_loss: 0.4414 - val_accuracy: 0.8172 - val_precision: 0.8083 - val_recall: 0.7321\n",
      "Epoch 23/60\n",
      "64/64 [==============================] - 0s 2ms/step - loss: 0.4094 - accuracy: 0.8172 - precision: 0.8271 - recall: 0.6970 - val_loss: 0.4739 - val_accuracy: 0.7922 - val_precision: 0.8587 - val_recall: 0.5962\n",
      "Epoch 24/60\n",
      "64/64 [==============================] - 0s 2ms/step - loss: 0.4062 - accuracy: 0.8203 - precision: 0.8235 - recall: 0.7114 - val_loss: 0.4309 - val_accuracy: 0.8016 - val_precision: 0.8136 - val_recall: 0.6755\n",
      "Epoch 25/60\n",
      "64/64 [==============================] - 0s 2ms/step - loss: 0.4010 - accuracy: 0.8270 - precision: 0.8275 - recall: 0.7267 - val_loss: 0.4851 - val_accuracy: 0.7922 - val_precision: 0.8587 - val_recall: 0.5962\n",
      "Epoch 26/60\n",
      "64/64 [==============================] - 0s 2ms/step - loss: 0.3993 - accuracy: 0.8254 - precision: 0.8232 - recall: 0.7277 - val_loss: 0.4259 - val_accuracy: 0.8094 - val_precision: 0.8095 - val_recall: 0.7057\n",
      "Epoch 27/60\n",
      "64/64 [==============================] - 0s 2ms/step - loss: 0.4021 - accuracy: 0.8238 - precision: 0.8210 - recall: 0.7258 - val_loss: 0.4261 - val_accuracy: 0.8000 - val_precision: 0.8128 - val_recall: 0.6717\n",
      "Epoch 28/60\n",
      "64/64 [==============================] - 0s 2ms/step - loss: 0.4050 - accuracy: 0.8246 - precision: 0.8200 - recall: 0.7296 - val_loss: 0.4361 - val_accuracy: 0.7906 - val_precision: 0.8195 - val_recall: 0.6340\n",
      "Epoch 29/60\n",
      "64/64 [==============================] - 0s 3ms/step - loss: 0.4234 - accuracy: 0.8227 - precision: 0.8130 - recall: 0.7335 - val_loss: 0.4206 - val_accuracy: 0.8062 - val_precision: 0.8079 - val_recall: 0.6981\n",
      "Epoch 30/60\n",
      "64/64 [==============================] - 0s 2ms/step - loss: 0.3902 - accuracy: 0.8293 - precision: 0.8196 - recall: 0.7450 - val_loss: 0.4211 - val_accuracy: 0.8078 - val_precision: 0.8142 - val_recall: 0.6943\n",
      "Epoch 31/60\n",
      "64/64 [==============================] - 0s 2ms/step - loss: 0.3901 - accuracy: 0.8277 - precision: 0.8155 - recall: 0.7459 - val_loss: 0.4167 - val_accuracy: 0.8156 - val_precision: 0.8101 - val_recall: 0.7245\n",
      "Epoch 32/60\n",
      "64/64 [==============================] - 0s 2ms/step - loss: 0.3926 - accuracy: 0.8320 - precision: 0.8189 - recall: 0.7546 - val_loss: 0.4158 - val_accuracy: 0.8172 - val_precision: 0.7960 - val_recall: 0.7509\n",
      "Epoch 33/60\n",
      "64/64 [==============================] - 0s 2ms/step - loss: 0.3925 - accuracy: 0.8266 - precision: 0.8097 - recall: 0.7507 - val_loss: 0.4408 - val_accuracy: 0.7922 - val_precision: 0.8204 - val_recall: 0.6377\n",
      "Epoch 34/60\n",
      "64/64 [==============================] - 0s 2ms/step - loss: 0.3988 - accuracy: 0.8301 - precision: 0.8180 - recall: 0.7498 - val_loss: 0.4194 - val_accuracy: 0.8078 - val_precision: 0.8142 - val_recall: 0.6943\n",
      "Epoch 35/60\n",
      "64/64 [==============================] - 0s 2ms/step - loss: 0.3861 - accuracy: 0.8324 - precision: 0.8152 - recall: 0.7613 - val_loss: 0.4163 - val_accuracy: 0.8125 - val_precision: 0.7778 - val_recall: 0.7660\n",
      "Epoch 36/60\n",
      "64/64 [==============================] - 0s 2ms/step - loss: 0.3904 - accuracy: 0.8309 - precision: 0.8125 - recall: 0.7603 - val_loss: 0.4098 - val_accuracy: 0.8188 - val_precision: 0.8066 - val_recall: 0.7396\n",
      "Epoch 37/60\n"
     ]
    },
    {
     "name": "stdout",
     "output_type": "stream",
     "text": [
      "64/64 [==============================] - 0s 2ms/step - loss: 0.3837 - accuracy: 0.8332 - precision: 0.8124 - recall: 0.7680 - val_loss: 0.4170 - val_accuracy: 0.8094 - val_precision: 0.8095 - val_recall: 0.7057\n",
      "Epoch 38/60\n",
      "64/64 [==============================] - 0s 2ms/step - loss: 0.3883 - accuracy: 0.8316 - precision: 0.8085 - recall: 0.7689 - val_loss: 0.4146 - val_accuracy: 0.8172 - val_precision: 0.7782 - val_recall: 0.7811\n",
      "Epoch 39/60\n",
      "64/64 [==============================] - 0s 2ms/step - loss: 0.3891 - accuracy: 0.8313 - precision: 0.8083 - recall: 0.7680 - val_loss: 0.4075 - val_accuracy: 0.8188 - val_precision: 0.8066 - val_recall: 0.7396\n",
      "Epoch 40/60\n",
      "64/64 [==============================] - 0s 2ms/step - loss: 0.3834 - accuracy: 0.8316 - precision: 0.8097 - recall: 0.7670 - val_loss: 0.4151 - val_accuracy: 0.8203 - val_precision: 0.7778 - val_recall: 0.7925\n",
      "Epoch 41/60\n",
      "64/64 [==============================] - 0s 2ms/step - loss: 0.3831 - accuracy: 0.8305 - precision: 0.8085 - recall: 0.7651 - val_loss: 0.4117 - val_accuracy: 0.8156 - val_precision: 0.8101 - val_recall: 0.7245\n",
      "Epoch 42/60\n",
      "64/64 [==============================] - 0s 2ms/step - loss: 0.3846 - accuracy: 0.8332 - precision: 0.8086 - recall: 0.7737 - val_loss: 0.4032 - val_accuracy: 0.8156 - val_precision: 0.7838 - val_recall: 0.7660\n",
      "Epoch 43/60\n",
      "64/64 [==============================] - 0s 2ms/step - loss: 0.3785 - accuracy: 0.8340 - precision: 0.8084 - recall: 0.7766 - val_loss: 0.4423 - val_accuracy: 0.7953 - val_precision: 0.8102 - val_recall: 0.6604\n",
      "Epoch 44/60\n",
      "64/64 [==============================] - 0s 2ms/step - loss: 0.3814 - accuracy: 0.8355 - precision: 0.8110 - recall: 0.7776 - val_loss: 0.4013 - val_accuracy: 0.8156 - val_precision: 0.7838 - val_recall: 0.7660\n",
      "Epoch 45/60\n",
      "64/64 [==============================] - 0s 2ms/step - loss: 0.3843 - accuracy: 0.8363 - precision: 0.8101 - recall: 0.7814 - val_loss: 0.4083 - val_accuracy: 0.8188 - val_precision: 0.7749 - val_recall: 0.7925\n",
      "Epoch 46/60\n",
      "64/64 [==============================] - 0s 2ms/step - loss: 0.3819 - accuracy: 0.8340 - precision: 0.8047 - recall: 0.7824 - val_loss: 0.4000 - val_accuracy: 0.8156 - val_precision: 0.7838 - val_recall: 0.7660\n",
      "Epoch 47/60\n",
      "64/64 [==============================] - 0s 2ms/step - loss: 0.3796 - accuracy: 0.8316 - precision: 0.7994 - recall: 0.7833 - val_loss: 0.4060 - val_accuracy: 0.8188 - val_precision: 0.7729 - val_recall: 0.7962\n",
      "Epoch 48/60\n",
      "64/64 [==============================] - 0s 2ms/step - loss: 0.3883 - accuracy: 0.8355 - precision: 0.8085 - recall: 0.7814 - val_loss: 0.4019 - val_accuracy: 0.8172 - val_precision: 0.7984 - val_recall: 0.7472\n",
      "Epoch 49/60\n",
      "64/64 [==============================] - 0s 2ms/step - loss: 0.3809 - accuracy: 0.8348 - precision: 0.8010 - recall: 0.7910 - val_loss: 0.4260 - val_accuracy: 0.8094 - val_precision: 0.8095 - val_recall: 0.7057\n",
      "Epoch 50/60\n",
      "64/64 [==============================] - 0s 2ms/step - loss: 0.3746 - accuracy: 0.8367 - precision: 0.8043 - recall: 0.7919 - val_loss: 0.4085 - val_accuracy: 0.8203 - val_precision: 0.8099 - val_recall: 0.7396\n",
      "Epoch 51/60\n",
      "64/64 [==============================] - 0s 2ms/step - loss: 0.3724 - accuracy: 0.8398 - precision: 0.8100 - recall: 0.7929 - val_loss: 0.3969 - val_accuracy: 0.8125 - val_precision: 0.7778 - val_recall: 0.7660\n",
      "Epoch 52/60\n",
      "64/64 [==============================] - 0s 2ms/step - loss: 0.3762 - accuracy: 0.8359 - precision: 0.7987 - recall: 0.7987 - val_loss: 0.3971 - val_accuracy: 0.8125 - val_precision: 0.7778 - val_recall: 0.7660\n",
      "Epoch 53/60\n",
      "64/64 [==============================] - 0s 2ms/step - loss: 0.3758 - accuracy: 0.8387 - precision: 0.8017 - recall: 0.8025 - val_loss: 0.4216 - val_accuracy: 0.8234 - val_precision: 0.7603 - val_recall: 0.8377\n",
      "Epoch 54/60\n",
      "64/64 [==============================] - 0s 2ms/step - loss: 0.3868 - accuracy: 0.8426 - precision: 0.8119 - recall: 0.7987 - val_loss: 0.4004 - val_accuracy: 0.8172 - val_precision: 0.7984 - val_recall: 0.7472\n",
      "Epoch 55/60\n",
      "64/64 [==============================] - 0s 2ms/step - loss: 0.3702 - accuracy: 0.8375 - precision: 0.8035 - recall: 0.7958 - val_loss: 0.3961 - val_accuracy: 0.8125 - val_precision: 0.7778 - val_recall: 0.7660\n",
      "Epoch 56/60\n",
      "64/64 [==============================] - 0s 2ms/step - loss: 0.3727 - accuracy: 0.8383 - precision: 0.7987 - recall: 0.8063 - val_loss: 0.4173 - val_accuracy: 0.8219 - val_precision: 0.8133 - val_recall: 0.7396\n",
      "Epoch 57/60\n",
      "64/64 [==============================] - 0s 2ms/step - loss: 0.3736 - accuracy: 0.8406 - precision: 0.8027 - recall: 0.8073 - val_loss: 0.3989 - val_accuracy: 0.8156 - val_precision: 0.7838 - val_recall: 0.7660\n",
      "Epoch 58/60\n",
      "64/64 [==============================] - 0s 2ms/step - loss: 0.3802 - accuracy: 0.8375 - precision: 0.7994 - recall: 0.8025 - val_loss: 0.4209 - val_accuracy: 0.8156 - val_precision: 0.8101 - val_recall: 0.7245\n",
      "Epoch 59/60\n",
      "64/64 [==============================] - 0s 2ms/step - loss: 0.3849 - accuracy: 0.8348 - precision: 0.7969 - recall: 0.7977 - val_loss: 0.3953 - val_accuracy: 0.8156 - val_precision: 0.7838 - val_recall: 0.7660\n",
      "Epoch 60/60\n",
      "64/64 [==============================] - 0s 2ms/step - loss: 0.3712 - accuracy: 0.8379 - precision: 0.7996 - recall: 0.8035 - val_loss: 0.4542 - val_accuracy: 0.8078 - val_precision: 0.8114 - val_recall: 0.6981\n",
      "20/20 [==============================] - 0s 1ms/step\n"
     ]
    },
    {
     "name": "stderr",
     "output_type": "stream",
     "text": [
      "WARNING:absl:Found untraced functions such as _update_step_xla while saving (showing 1 of 1). These functions will not be directly callable after loading.\n"
     ]
    },
    {
     "name": "stdout",
     "output_type": "stream",
     "text": [
      "INFO:tensorflow:Assets written to: C:\\Users\\jmbar\\AppData\\Local\\Temp\\tmp3jyv3wf2\\assets\n"
     ]
    },
    {
     "name": "stderr",
     "output_type": "stream",
     "text": [
      "INFO:tensorflow:Assets written to: C:\\Users\\jmbar\\AppData\\Local\\Temp\\tmp3jyv3wf2\\assets\n"
     ]
    },
    {
     "name": "stdout",
     "output_type": "stream",
     "text": [
      "Epoch 1/60\n",
      "64/64 [==============================] - 1s 6ms/step - loss: 0.6760 - accuracy: 0.5980 - precision: 0.0000e+00 - recall: 0.0000e+00 - val_loss: 0.6804 - val_accuracy: 0.5813 - val_precision: 0.0000e+00 - val_recall: 0.0000e+00\n",
      "Epoch 2/60\n",
      "64/64 [==============================] - 0s 2ms/step - loss: 0.6767 - accuracy: 0.5980 - precision: 0.0000e+00 - recall: 0.0000e+00 - val_loss: 0.6812 - val_accuracy: 0.5813 - val_precision: 0.0000e+00 - val_recall: 0.0000e+00\n",
      "Epoch 3/60\n",
      "64/64 [==============================] - 0s 2ms/step - loss: 0.6735 - accuracy: 0.5980 - precision: 0.0000e+00 - recall: 0.0000e+00 - val_loss: 0.6865 - val_accuracy: 0.5813 - val_precision: 0.0000e+00 - val_recall: 0.0000e+00\n",
      "Epoch 4/60\n",
      "64/64 [==============================] - 0s 2ms/step - loss: 0.6739 - accuracy: 0.5980 - precision: 0.0000e+00 - recall: 0.0000e+00 - val_loss: 0.6796 - val_accuracy: 0.5813 - val_precision: 0.0000e+00 - val_recall: 0.0000e+00\n",
      "Epoch 5/60\n",
      "64/64 [==============================] - 0s 2ms/step - loss: 0.6737 - accuracy: 0.5980 - precision: 0.0000e+00 - recall: 0.0000e+00 - val_loss: 0.6802 - val_accuracy: 0.5813 - val_precision: 0.0000e+00 - val_recall: 0.0000e+00\n",
      "Epoch 6/60\n",
      "64/64 [==============================] - 0s 2ms/step - loss: 0.6720 - accuracy: 0.6020 - precision: 1.0000 - recall: 0.0097 - val_loss: 0.6767 - val_accuracy: 0.5828 - val_precision: 1.0000 - val_recall: 0.0037\n",
      "Epoch 7/60\n",
      "64/64 [==============================] - 0s 2ms/step - loss: 0.6679 - accuracy: 0.6105 - precision: 0.9706 - recall: 0.0321 - val_loss: 0.6707 - val_accuracy: 0.5891 - val_precision: 1.0000 - val_recall: 0.0187\n",
      "Epoch 8/60\n",
      "64/64 [==============================] - 0s 2ms/step - loss: 0.6556 - accuracy: 0.6266 - precision: 0.9867 - recall: 0.0719 - val_loss: 0.6550 - val_accuracy: 0.6125 - val_precision: 1.0000 - val_recall: 0.0746\n",
      "Epoch 9/60\n",
      "64/64 [==============================] - 0s 2ms/step - loss: 0.6265 - accuracy: 0.6598 - precision: 0.9438 - recall: 0.1633 - val_loss: 0.6215 - val_accuracy: 0.6703 - val_precision: 0.9130 - val_recall: 0.2351\n",
      "Epoch 10/60\n",
      "64/64 [==============================] - 0s 2ms/step - loss: 0.5814 - accuracy: 0.7145 - precision: 0.9162 - recall: 0.3188 - val_loss: 0.5805 - val_accuracy: 0.6703 - val_precision: 0.9130 - val_recall: 0.2351\n",
      "Epoch 11/60\n",
      "64/64 [==============================] - 0s 2ms/step - loss: 0.5235 - accuracy: 0.7512 - precision: 0.9050 - recall: 0.4257 - val_loss: 0.5271 - val_accuracy: 0.7156 - val_precision: 0.8644 - val_recall: 0.3806\n",
      "Epoch 12/60\n",
      "64/64 [==============================] - 0s 2ms/step - loss: 0.4911 - accuracy: 0.7789 - precision: 0.8740 - recall: 0.5258 - val_loss: 0.5424 - val_accuracy: 0.7125 - val_precision: 0.8750 - val_recall: 0.3657\n",
      "Epoch 13/60\n",
      "64/64 [==============================] - 0s 2ms/step - loss: 0.4663 - accuracy: 0.7945 - precision: 0.8672 - recall: 0.5773 - val_loss: 0.5091 - val_accuracy: 0.7344 - val_precision: 0.8657 - val_recall: 0.4328\n",
      "Epoch 14/60\n",
      "64/64 [==============================] - 0s 2ms/step - loss: 0.4508 - accuracy: 0.7941 - precision: 0.8467 - recall: 0.5957 - val_loss: 0.4682 - val_accuracy: 0.7797 - val_precision: 0.8098 - val_recall: 0.6194\n",
      "Epoch 15/60\n",
      "64/64 [==============================] - 0s 2ms/step - loss: 0.4399 - accuracy: 0.8141 - precision: 0.8531 - recall: 0.6492 - val_loss: 0.4826 - val_accuracy: 0.7609 - val_precision: 0.8485 - val_recall: 0.5224\n",
      "Epoch 16/60\n",
      "64/64 [==============================] - 0s 2ms/step - loss: 0.4326 - accuracy: 0.8078 - precision: 0.8386 - recall: 0.6463 - val_loss: 0.4554 - val_accuracy: 0.7891 - val_precision: 0.8122 - val_recall: 0.6455\n",
      "Epoch 17/60\n",
      "64/64 [==============================] - 0s 2ms/step - loss: 0.4287 - accuracy: 0.8195 - precision: 0.8387 - recall: 0.6822 - val_loss: 0.4696 - val_accuracy: 0.8125 - val_precision: 0.7846 - val_recall: 0.7612\n",
      "Epoch 18/60\n",
      "64/64 [==============================] - 0s 2ms/step - loss: 0.4277 - accuracy: 0.8137 - precision: 0.8366 - recall: 0.6667 - val_loss: 0.5100 - val_accuracy: 0.8313 - val_precision: 0.7685 - val_recall: 0.8545\n",
      "Epoch 19/60\n",
      "64/64 [==============================] - 0s 2ms/step - loss: 0.4221 - accuracy: 0.8191 - precision: 0.8337 - recall: 0.6871 - val_loss: 0.4485 - val_accuracy: 0.7766 - val_precision: 0.8173 - val_recall: 0.6007\n",
      "Epoch 20/60\n",
      "64/64 [==============================] - 0s 2ms/step - loss: 0.4097 - accuracy: 0.8234 - precision: 0.8359 - recall: 0.6978 - val_loss: 0.4622 - val_accuracy: 0.7734 - val_precision: 0.8220 - val_recall: 0.5858\n",
      "Epoch 21/60\n",
      "64/64 [==============================] - 0s 2ms/step - loss: 0.4135 - accuracy: 0.8246 - precision: 0.8318 - recall: 0.7065 - val_loss: 0.4445 - val_accuracy: 0.8172 - val_precision: 0.8008 - val_recall: 0.7500\n",
      "Epoch 22/60\n",
      "64/64 [==============================] - 0s 2ms/step - loss: 0.4207 - accuracy: 0.8188 - precision: 0.8281 - recall: 0.6929 - val_loss: 0.4746 - val_accuracy: 0.8250 - val_precision: 0.7746 - val_recall: 0.8209\n",
      "Epoch 23/60\n",
      "64/64 [==============================] - 0s 2ms/step - loss: 0.4154 - accuracy: 0.8246 - precision: 0.8258 - recall: 0.7143 - val_loss: 0.4482 - val_accuracy: 0.7766 - val_precision: 0.8173 - val_recall: 0.6007\n",
      "Epoch 24/60\n",
      "64/64 [==============================] - 0s 2ms/step - loss: 0.3980 - accuracy: 0.8266 - precision: 0.8283 - recall: 0.7172 - val_loss: 0.4306 - val_accuracy: 0.8062 - val_precision: 0.8130 - val_recall: 0.6978\n",
      "Epoch 25/60\n",
      "64/64 [==============================] - 0s 2ms/step - loss: 0.3922 - accuracy: 0.8266 - precision: 0.8283 - recall: 0.7172 - val_loss: 0.4339 - val_accuracy: 0.8156 - val_precision: 0.7907 - val_recall: 0.7612\n",
      "Epoch 26/60\n",
      "64/64 [==============================] - 0s 2ms/step - loss: 0.4029 - accuracy: 0.8277 - precision: 0.8267 - recall: 0.7230 - val_loss: 0.4266 - val_accuracy: 0.8031 - val_precision: 0.8114 - val_recall: 0.6903\n",
      "Epoch 27/60\n",
      "64/64 [==============================] - 0s 2ms/step - loss: 0.3922 - accuracy: 0.8270 - precision: 0.8227 - recall: 0.7259 - val_loss: 0.4485 - val_accuracy: 0.7812 - val_precision: 0.8168 - val_recall: 0.6157\n",
      "Epoch 28/60\n",
      "64/64 [==============================] - 0s 2ms/step - loss: 0.3925 - accuracy: 0.8316 - precision: 0.8229 - recall: 0.7405 - val_loss: 0.4345 - val_accuracy: 0.7844 - val_precision: 0.8095 - val_recall: 0.6343\n",
      "Epoch 29/60\n",
      "64/64 [==============================] - 0s 2ms/step - loss: 0.3967 - accuracy: 0.8301 - precision: 0.8242 - recall: 0.7337 - val_loss: 0.4527 - val_accuracy: 0.7812 - val_precision: 0.8200 - val_recall: 0.6119\n",
      "Epoch 30/60\n",
      "64/64 [==============================] - 0s 2ms/step - loss: 0.4003 - accuracy: 0.8316 - precision: 0.8236 - recall: 0.7396 - val_loss: 0.4355 - val_accuracy: 0.8219 - val_precision: 0.7810 - val_recall: 0.7985\n",
      "Epoch 31/60\n",
      "64/64 [==============================] - 0s 2ms/step - loss: 0.3878 - accuracy: 0.8301 - precision: 0.8173 - recall: 0.7434 - val_loss: 0.4469 - val_accuracy: 0.7797 - val_precision: 0.8098 - val_recall: 0.6194\n",
      "Epoch 32/60\n",
      "64/64 [==============================] - 0s 2ms/step - loss: 0.3991 - accuracy: 0.8379 - precision: 0.8273 - recall: 0.7541 - val_loss: 0.4426 - val_accuracy: 0.7812 - val_precision: 0.8107 - val_recall: 0.6231\n",
      "Epoch 33/60\n",
      "64/64 [==============================] - 0s 2ms/step - loss: 0.3973 - accuracy: 0.8293 - precision: 0.8129 - recall: 0.7473 - val_loss: 0.4638 - val_accuracy: 0.7781 - val_precision: 0.8182 - val_recall: 0.6045\n",
      "Epoch 34/60\n",
      "64/64 [==============================] - 0s 2ms/step - loss: 0.3814 - accuracy: 0.8336 - precision: 0.8204 - recall: 0.7502 - val_loss: 0.4134 - val_accuracy: 0.8125 - val_precision: 0.8033 - val_recall: 0.7313\n",
      "Epoch 35/60\n",
      "64/64 [==============================] - 0s 2ms/step - loss: 0.3824 - accuracy: 0.8328 - precision: 0.8140 - recall: 0.7570 - val_loss: 0.4140 - val_accuracy: 0.8125 - val_precision: 0.7846 - val_recall: 0.7612\n",
      "Epoch 36/60\n",
      "64/64 [==============================] - 0s 2ms/step - loss: 0.3968 - accuracy: 0.8313 - precision: 0.8087 - recall: 0.7600 - val_loss: 0.4146 - val_accuracy: 0.8156 - val_precision: 0.7863 - val_recall: 0.7687\n",
      "Epoch 37/60\n"
     ]
    },
    {
     "name": "stdout",
     "output_type": "stream",
     "text": [
      "64/64 [==============================] - 0s 2ms/step - loss: 0.3875 - accuracy: 0.8336 - precision: 0.8124 - recall: 0.7619 - val_loss: 0.4745 - val_accuracy: 0.7781 - val_precision: 0.8182 - val_recall: 0.6045\n",
      "Epoch 38/60\n",
      "64/64 [==============================] - 0s 2ms/step - loss: 0.3790 - accuracy: 0.8336 - precision: 0.8105 - recall: 0.7648 - val_loss: 0.4163 - val_accuracy: 0.8234 - val_precision: 0.7881 - val_recall: 0.7910\n",
      "Epoch 39/60\n",
      "64/64 [==============================] - 0s 2ms/step - loss: 0.3758 - accuracy: 0.8348 - precision: 0.8098 - recall: 0.7697 - val_loss: 0.4102 - val_accuracy: 0.8156 - val_precision: 0.8099 - val_recall: 0.7313\n",
      "Epoch 40/60\n",
      "64/64 [==============================] - 0s 2ms/step - loss: 0.3908 - accuracy: 0.8363 - precision: 0.8157 - recall: 0.7658 - val_loss: 0.4259 - val_accuracy: 0.8266 - val_precision: 0.7754 - val_recall: 0.8246\n",
      "Epoch 41/60\n",
      "64/64 [==============================] - 0s 2ms/step - loss: 0.3816 - accuracy: 0.8324 - precision: 0.8049 - recall: 0.7697 - val_loss: 0.4110 - val_accuracy: 0.8219 - val_precision: 0.7873 - val_recall: 0.7873\n",
      "Epoch 42/60\n",
      "64/64 [==============================] - 0s 2ms/step - loss: 0.3824 - accuracy: 0.8316 - precision: 0.8115 - recall: 0.7570 - val_loss: 0.4092 - val_accuracy: 0.8156 - val_precision: 0.8099 - val_recall: 0.7313\n",
      "Epoch 43/60\n",
      "64/64 [==============================] - 0s 2ms/step - loss: 0.3740 - accuracy: 0.8359 - precision: 0.8079 - recall: 0.7765 - val_loss: 0.4118 - val_accuracy: 0.8109 - val_precision: 0.8101 - val_recall: 0.7164\n",
      "Epoch 44/60\n",
      "64/64 [==============================] - 0s 2ms/step - loss: 0.3766 - accuracy: 0.8344 - precision: 0.8084 - recall: 0.7707 - val_loss: 0.4046 - val_accuracy: 0.8203 - val_precision: 0.7865 - val_recall: 0.7836\n",
      "Epoch 45/60\n",
      "64/64 [==============================] - 0s 2ms/step - loss: 0.3820 - accuracy: 0.8316 - precision: 0.7984 - recall: 0.7775 - val_loss: 0.4062 - val_accuracy: 0.8141 - val_precision: 0.8041 - val_recall: 0.7351\n",
      "Epoch 46/60\n",
      "64/64 [==============================] - 0s 2ms/step - loss: 0.3864 - accuracy: 0.8340 - precision: 0.8026 - recall: 0.7784 - val_loss: 0.4022 - val_accuracy: 0.8156 - val_precision: 0.7907 - val_recall: 0.7612\n",
      "Epoch 47/60\n",
      "64/64 [==============================] - 0s 2ms/step - loss: 0.3933 - accuracy: 0.8340 - precision: 0.8069 - recall: 0.7716 - val_loss: 0.4020 - val_accuracy: 0.8156 - val_precision: 0.7841 - val_recall: 0.7724\n",
      "Epoch 48/60\n",
      "64/64 [==============================] - 0s 2ms/step - loss: 0.3764 - accuracy: 0.8383 - precision: 0.8048 - recall: 0.7891 - val_loss: 0.4010 - val_accuracy: 0.8156 - val_precision: 0.7907 - val_recall: 0.7612\n",
      "Epoch 49/60\n",
      "64/64 [==============================] - 0s 2ms/step - loss: 0.3745 - accuracy: 0.8379 - precision: 0.8089 - recall: 0.7813 - val_loss: 0.4129 - val_accuracy: 0.8266 - val_precision: 0.7754 - val_recall: 0.8246\n",
      "Epoch 50/60\n",
      "64/64 [==============================] - 0s 2ms/step - loss: 0.3804 - accuracy: 0.8402 - precision: 0.8063 - recall: 0.7930 - val_loss: 0.4000 - val_accuracy: 0.8141 - val_precision: 0.7876 - val_recall: 0.7612\n",
      "Epoch 51/60\n",
      "64/64 [==============================] - 0s 2ms/step - loss: 0.3792 - accuracy: 0.8375 - precision: 0.8080 - recall: 0.7813 - val_loss: 0.4095 - val_accuracy: 0.8156 - val_precision: 0.8099 - val_recall: 0.7313\n",
      "Epoch 52/60\n",
      "64/64 [==============================] - 0s 2ms/step - loss: 0.3860 - accuracy: 0.8383 - precision: 0.8042 - recall: 0.7901 - val_loss: 0.4114 - val_accuracy: 0.8125 - val_precision: 0.8083 - val_recall: 0.7239\n",
      "Epoch 53/60\n",
      "64/64 [==============================] - 0s 2ms/step - loss: 0.3782 - accuracy: 0.8383 - precision: 0.8030 - recall: 0.7920 - val_loss: 0.4276 - val_accuracy: 0.8047 - val_precision: 0.8122 - val_recall: 0.6940\n",
      "Epoch 54/60\n",
      "64/64 [==============================] - 0s 2ms/step - loss: 0.3822 - accuracy: 0.8383 - precision: 0.8030 - recall: 0.7920 - val_loss: 0.4170 - val_accuracy: 0.8266 - val_precision: 0.7698 - val_recall: 0.8358\n",
      "Epoch 55/60\n",
      "64/64 [==============================] - 0s 2ms/step - loss: 0.3794 - accuracy: 0.8371 - precision: 0.8018 - recall: 0.7901 - val_loss: 0.3972 - val_accuracy: 0.8203 - val_precision: 0.7865 - val_recall: 0.7836\n",
      "Epoch 56/60\n",
      "64/64 [==============================] - 0s 2ms/step - loss: 0.3710 - accuracy: 0.8398 - precision: 0.8014 - recall: 0.7998 - val_loss: 0.4115 - val_accuracy: 0.8156 - val_precision: 0.8099 - val_recall: 0.7313\n",
      "Epoch 57/60\n",
      "64/64 [==============================] - 0s 2ms/step - loss: 0.3743 - accuracy: 0.8340 - precision: 0.7949 - recall: 0.7911 - val_loss: 0.3960 - val_accuracy: 0.8125 - val_precision: 0.7824 - val_recall: 0.7649\n",
      "Epoch 58/60\n",
      "64/64 [==============================] - 0s 2ms/step - loss: 0.3682 - accuracy: 0.8391 - precision: 0.8004 - recall: 0.7988 - val_loss: 0.4042 - val_accuracy: 0.8250 - val_precision: 0.7746 - val_recall: 0.8209\n",
      "Epoch 59/60\n",
      "64/64 [==============================] - 0s 2ms/step - loss: 0.3731 - accuracy: 0.8367 - precision: 0.8010 - recall: 0.7901 - val_loss: 0.3989 - val_accuracy: 0.8234 - val_precision: 0.7758 - val_recall: 0.8134\n",
      "Epoch 60/60\n",
      "64/64 [==============================] - 0s 2ms/step - loss: 0.3760 - accuracy: 0.8395 - precision: 0.8023 - recall: 0.7969 - val_loss: 0.4030 - val_accuracy: 0.8250 - val_precision: 0.7746 - val_recall: 0.8209\n",
      "20/20 [==============================] - 0s 1ms/step\n"
     ]
    },
    {
     "name": "stderr",
     "output_type": "stream",
     "text": [
      "WARNING:absl:Found untraced functions such as _update_step_xla while saving (showing 1 of 1). These functions will not be directly callable after loading.\n"
     ]
    },
    {
     "name": "stdout",
     "output_type": "stream",
     "text": [
      "INFO:tensorflow:Assets written to: C:\\Users\\jmbar\\AppData\\Local\\Temp\\tmpk23y8naf\\assets\n"
     ]
    },
    {
     "name": "stderr",
     "output_type": "stream",
     "text": [
      "INFO:tensorflow:Assets written to: C:\\Users\\jmbar\\AppData\\Local\\Temp\\tmpk23y8naf\\assets\n"
     ]
    },
    {
     "name": "stdout",
     "output_type": "stream",
     "text": [
      "Epoch 1/60\n",
      "64/64 [==============================] - 1s 6ms/step - loss: 0.6742 - accuracy: 0.6047 - precision: 0.0000e+00 - recall: 0.0000e+00 - val_loss: 0.6875 - val_accuracy: 0.5594 - val_precision: 0.0000e+00 - val_recall: 0.0000e+00\n",
      "Epoch 2/60\n",
      "64/64 [==============================] - 0s 2ms/step - loss: 0.6722 - accuracy: 0.6047 - precision: 0.0000e+00 - recall: 0.0000e+00 - val_loss: 0.6885 - val_accuracy: 0.5594 - val_precision: 0.0000e+00 - val_recall: 0.0000e+00\n",
      "Epoch 3/60\n",
      "64/64 [==============================] - 0s 2ms/step - loss: 0.6714 - accuracy: 0.6047 - precision: 0.0000e+00 - recall: 0.0000e+00 - val_loss: 0.6894 - val_accuracy: 0.5594 - val_precision: 0.0000e+00 - val_recall: 0.0000e+00\n",
      "Epoch 4/60\n",
      "64/64 [==============================] - 0s 2ms/step - loss: 0.6716 - accuracy: 0.6047 - precision: 0.0000e+00 - recall: 0.0000e+00 - val_loss: 0.6851 - val_accuracy: 0.5594 - val_precision: 0.0000e+00 - val_recall: 0.0000e+00\n",
      "Epoch 5/60\n",
      "64/64 [==============================] - 0s 2ms/step - loss: 0.6710 - accuracy: 0.6059 - precision: 1.0000 - recall: 0.0030 - val_loss: 0.6834 - val_accuracy: 0.5594 - val_precision: 0.0000e+00 - val_recall: 0.0000e+00\n",
      "Epoch 6/60\n",
      "64/64 [==============================] - 0s 2ms/step - loss: 0.6668 - accuracy: 0.6094 - precision: 1.0000 - recall: 0.0119 - val_loss: 0.6860 - val_accuracy: 0.5625 - val_precision: 1.0000 - val_recall: 0.0071\n",
      "Epoch 7/60\n",
      "64/64 [==============================] - 0s 2ms/step - loss: 0.6609 - accuracy: 0.6172 - precision: 0.9706 - recall: 0.0326 - val_loss: 0.6794 - val_accuracy: 0.5703 - val_precision: 1.0000 - val_recall: 0.0248\n",
      "Epoch 8/60\n",
      "64/64 [==============================] - 0s 2ms/step - loss: 0.6506 - accuracy: 0.6391 - precision: 0.9314 - recall: 0.0939 - val_loss: 0.6590 - val_accuracy: 0.5906 - val_precision: 0.9167 - val_recall: 0.0780\n",
      "Epoch 9/60\n",
      "64/64 [==============================] - 0s 2ms/step - loss: 0.6192 - accuracy: 0.6652 - precision: 0.9480 - recall: 0.1621 - val_loss: 0.6267 - val_accuracy: 0.6313 - val_precision: 0.8966 - val_recall: 0.1844\n",
      "Epoch 10/60\n",
      "64/64 [==============================] - 0s 2ms/step - loss: 0.5894 - accuracy: 0.6996 - precision: 0.7845 - recall: 0.3310 - val_loss: 0.5895 - val_accuracy: 0.7500 - val_precision: 0.8631 - val_recall: 0.5142\n",
      "Epoch 11/60\n",
      "64/64 [==============================] - 0s 2ms/step - loss: 0.5423 - accuracy: 0.7383 - precision: 0.8904 - recall: 0.3854 - val_loss: 0.5572 - val_accuracy: 0.6984 - val_precision: 0.8618 - val_recall: 0.3759\n",
      "Epoch 12/60\n",
      "64/64 [==============================] - 0s 2ms/step - loss: 0.5097 - accuracy: 0.7699 - precision: 0.8743 - recall: 0.4881 - val_loss: 0.5272 - val_accuracy: 0.7266 - val_precision: 0.8497 - val_recall: 0.4610\n",
      "Epoch 13/60\n",
      "64/64 [==============================] - 0s 2ms/step - loss: 0.4784 - accuracy: 0.7828 - precision: 0.8519 - recall: 0.5455 - val_loss: 0.5107 - val_accuracy: 0.7484 - val_precision: 0.8538 - val_recall: 0.5177\n",
      "Epoch 14/60\n",
      "64/64 [==============================] - 0s 2ms/step - loss: 0.4685 - accuracy: 0.7910 - precision: 0.8442 - recall: 0.5781 - val_loss: 0.5105 - val_accuracy: 0.8141 - val_precision: 0.8052 - val_recall: 0.7624\n",
      "Epoch 15/60\n",
      "64/64 [==============================] - 0s 2ms/step - loss: 0.4559 - accuracy: 0.7988 - precision: 0.8428 - recall: 0.6038 - val_loss: 0.4835 - val_accuracy: 0.7688 - val_precision: 0.8190 - val_recall: 0.6099\n",
      "Epoch 16/60\n",
      "64/64 [==============================] - 0s 2ms/step - loss: 0.4467 - accuracy: 0.7973 - precision: 0.8239 - recall: 0.6196 - val_loss: 0.4780 - val_accuracy: 0.7688 - val_precision: 0.8221 - val_recall: 0.6064\n",
      "Epoch 17/60\n",
      "64/64 [==============================] - 0s 2ms/step - loss: 0.4329 - accuracy: 0.8086 - precision: 0.8338 - recall: 0.6443 - val_loss: 0.4714 - val_accuracy: 0.7750 - val_precision: 0.8194 - val_recall: 0.6277\n",
      "Epoch 18/60\n",
      "64/64 [==============================] - 0s 2ms/step - loss: 0.4338 - accuracy: 0.8086 - precision: 0.8254 - recall: 0.6542 - val_loss: 0.4651 - val_accuracy: 0.7906 - val_precision: 0.8162 - val_recall: 0.6773\n",
      "Epoch 19/60\n",
      "64/64 [==============================] - 0s 2ms/step - loss: 0.4216 - accuracy: 0.8199 - precision: 0.8307 - recall: 0.6838 - val_loss: 0.4820 - val_accuracy: 0.8188 - val_precision: 0.7902 - val_recall: 0.8014\n",
      "Epoch 20/60\n",
      "64/64 [==============================] - 0s 2ms/step - loss: 0.4339 - accuracy: 0.8125 - precision: 0.8129 - recall: 0.6828 - val_loss: 0.4845 - val_accuracy: 0.8172 - val_precision: 0.7797 - val_recall: 0.8156\n",
      "Epoch 21/60\n",
      "64/64 [==============================] - 0s 2ms/step - loss: 0.4260 - accuracy: 0.8191 - precision: 0.8256 - recall: 0.6877 - val_loss: 0.4689 - val_accuracy: 0.8188 - val_precision: 0.7943 - val_recall: 0.7943\n",
      "Epoch 22/60\n",
      "64/64 [==============================] - 0s 2ms/step - loss: 0.4190 - accuracy: 0.8137 - precision: 0.8188 - recall: 0.6789 - val_loss: 0.4677 - val_accuracy: 0.8203 - val_precision: 0.7909 - val_recall: 0.8050\n",
      "Epoch 23/60\n",
      "64/64 [==============================] - 0s 2ms/step - loss: 0.4094 - accuracy: 0.8230 - precision: 0.8209 - recall: 0.7065 - val_loss: 0.4503 - val_accuracy: 0.7797 - val_precision: 0.8133 - val_recall: 0.6489\n",
      "Epoch 24/60\n",
      "64/64 [==============================] - 0s 2ms/step - loss: 0.4068 - accuracy: 0.8227 - precision: 0.8200 - recall: 0.7065 - val_loss: 0.4421 - val_accuracy: 0.8000 - val_precision: 0.8182 - val_recall: 0.7021\n",
      "Epoch 25/60\n",
      "64/64 [==============================] - 0s 2ms/step - loss: 0.4277 - accuracy: 0.8156 - precision: 0.8096 - recall: 0.6976 - val_loss: 0.4725 - val_accuracy: 0.7703 - val_precision: 0.8261 - val_recall: 0.6064\n",
      "Epoch 26/60\n",
      "64/64 [==============================] - 0s 3ms/step - loss: 0.4077 - accuracy: 0.8262 - precision: 0.8140 - recall: 0.7263 - val_loss: 0.4397 - val_accuracy: 0.7922 - val_precision: 0.8170 - val_recall: 0.6809\n",
      "Epoch 27/60\n",
      "64/64 [==============================] - 0s 2ms/step - loss: 0.4046 - accuracy: 0.8230 - precision: 0.8151 - recall: 0.7144 - val_loss: 0.4911 - val_accuracy: 0.7688 - val_precision: 0.8284 - val_recall: 0.5993\n",
      "Epoch 28/60\n",
      "64/64 [==============================] - 0s 2ms/step - loss: 0.4041 - accuracy: 0.8297 - precision: 0.8200 - recall: 0.7292 - val_loss: 0.4321 - val_accuracy: 0.8125 - val_precision: 0.8092 - val_recall: 0.7518\n",
      "Epoch 29/60\n",
      "64/64 [==============================] - 0s 2ms/step - loss: 0.4024 - accuracy: 0.8242 - precision: 0.8088 - recall: 0.7273 - val_loss: 0.4299 - val_accuracy: 0.8109 - val_precision: 0.8038 - val_recall: 0.7553\n",
      "Epoch 30/60\n",
      "64/64 [==============================] - 0s 2ms/step - loss: 0.3998 - accuracy: 0.8266 - precision: 0.8107 - recall: 0.7322 - val_loss: 0.4354 - val_accuracy: 0.8172 - val_precision: 0.7915 - val_recall: 0.7943\n",
      "Epoch 31/60\n",
      "64/64 [==============================] - 0s 2ms/step - loss: 0.3996 - accuracy: 0.8277 - precision: 0.8100 - recall: 0.7372 - val_loss: 0.4285 - val_accuracy: 0.8062 - val_precision: 0.8185 - val_recall: 0.7199\n",
      "Epoch 32/60\n",
      "64/64 [==============================] - 0s 2ms/step - loss: 0.4096 - accuracy: 0.8266 - precision: 0.8008 - recall: 0.7470 - val_loss: 0.4849 - val_accuracy: 0.7703 - val_precision: 0.8230 - val_recall: 0.6099\n",
      "Epoch 33/60\n",
      "64/64 [==============================] - 0s 2ms/step - loss: 0.3935 - accuracy: 0.8281 - precision: 0.8109 - recall: 0.7372 - val_loss: 0.4249 - val_accuracy: 0.8141 - val_precision: 0.7921 - val_recall: 0.7837\n",
      "Epoch 34/60\n",
      "64/64 [==============================] - 0s 2ms/step - loss: 0.3953 - accuracy: 0.8293 - precision: 0.8055 - recall: 0.7490 - val_loss: 0.4243 - val_accuracy: 0.8094 - val_precision: 0.8200 - val_recall: 0.7270\n",
      "Epoch 35/60\n",
      "64/64 [==============================] - 0s 2ms/step - loss: 0.3877 - accuracy: 0.8336 - precision: 0.8104 - recall: 0.7559 - val_loss: 0.4298 - val_accuracy: 0.8016 - val_precision: 0.8163 - val_recall: 0.7092\n",
      "Epoch 36/60\n",
      "64/64 [==============================] - 0s 2ms/step - loss: 0.3921 - accuracy: 0.8297 - precision: 0.8013 - recall: 0.7569 - val_loss: 0.4450 - val_accuracy: 0.7859 - val_precision: 0.8139 - val_recall: 0.6667\n",
      "Epoch 37/60\n"
     ]
    },
    {
     "name": "stdout",
     "output_type": "stream",
     "text": [
      "64/64 [==============================] - 0s 2ms/step - loss: 0.3887 - accuracy: 0.8305 - precision: 0.8036 - recall: 0.7559 - val_loss: 0.4361 - val_accuracy: 0.7969 - val_precision: 0.8193 - val_recall: 0.6915\n",
      "Epoch 38/60\n",
      "64/64 [==============================] - 0s 2ms/step - loss: 0.3841 - accuracy: 0.8332 - precision: 0.8037 - recall: 0.7648 - val_loss: 0.4172 - val_accuracy: 0.8141 - val_precision: 0.8099 - val_recall: 0.7553\n",
      "Epoch 39/60\n",
      "64/64 [==============================] - 0s 2ms/step - loss: 0.4124 - accuracy: 0.8285 - precision: 0.7963 - recall: 0.7609 - val_loss: 0.4429 - val_accuracy: 0.7844 - val_precision: 0.8130 - val_recall: 0.6631\n",
      "Epoch 40/60\n",
      "64/64 [==============================] - 0s 2ms/step - loss: 0.3826 - accuracy: 0.8352 - precision: 0.8079 - recall: 0.7648 - val_loss: 0.4271 - val_accuracy: 0.8047 - val_precision: 0.8178 - val_recall: 0.7163\n",
      "Epoch 41/60\n",
      "64/64 [==============================] - 0s 2ms/step - loss: 0.3804 - accuracy: 0.8359 - precision: 0.8027 - recall: 0.7757 - val_loss: 0.4174 - val_accuracy: 0.8125 - val_precision: 0.8115 - val_recall: 0.7482\n",
      "Epoch 42/60\n",
      "64/64 [==============================] - 0s 2ms/step - loss: 0.3809 - accuracy: 0.8336 - precision: 0.7996 - recall: 0.7727 - val_loss: 0.4106 - val_accuracy: 0.8141 - val_precision: 0.7921 - val_recall: 0.7837\n",
      "Epoch 43/60\n",
      "64/64 [==============================] - 0s 2ms/step - loss: 0.3993 - accuracy: 0.8324 - precision: 0.7965 - recall: 0.7737 - val_loss: 0.4646 - val_accuracy: 0.7781 - val_precision: 0.8097 - val_recall: 0.6489\n",
      "Epoch 44/60\n",
      "64/64 [==============================] - 0s 2ms/step - loss: 0.3981 - accuracy: 0.8324 - precision: 0.7965 - recall: 0.7737 - val_loss: 0.4142 - val_accuracy: 0.8156 - val_precision: 0.8130 - val_recall: 0.7553\n",
      "Epoch 45/60\n",
      "64/64 [==============================] - 0s 2ms/step - loss: 0.3844 - accuracy: 0.8375 - precision: 0.8016 - recall: 0.7826 - val_loss: 0.4136 - val_accuracy: 0.8219 - val_precision: 0.7838 - val_recall: 0.8227\n",
      "Epoch 46/60\n",
      "64/64 [==============================] - 0s 2ms/step - loss: 0.3856 - accuracy: 0.8336 - precision: 0.7978 - recall: 0.7757 - val_loss: 0.4357 - val_accuracy: 0.8047 - val_precision: 0.8178 - val_recall: 0.7163\n",
      "Epoch 47/60\n",
      "64/64 [==============================] - 0s 2ms/step - loss: 0.3838 - accuracy: 0.8328 - precision: 0.7967 - recall: 0.7747 - val_loss: 0.4147 - val_accuracy: 0.8156 - val_precision: 0.8130 - val_recall: 0.7553\n",
      "Epoch 48/60\n",
      "64/64 [==============================] - 0s 2ms/step - loss: 0.3947 - accuracy: 0.8363 - precision: 0.7968 - recall: 0.7866 - val_loss: 0.4381 - val_accuracy: 0.8016 - val_precision: 0.8189 - val_recall: 0.7057\n",
      "Epoch 49/60\n",
      "64/64 [==============================] - 0s 2ms/step - loss: 0.3795 - accuracy: 0.8371 - precision: 0.7948 - recall: 0.7925 - val_loss: 0.4096 - val_accuracy: 0.8219 - val_precision: 0.7819 - val_recall: 0.8262\n",
      "Epoch 50/60\n",
      "64/64 [==============================] - 0s 2ms/step - loss: 0.3980 - accuracy: 0.8305 - precision: 0.7878 - recall: 0.7816 - val_loss: 0.4047 - val_accuracy: 0.8156 - val_precision: 0.7929 - val_recall: 0.7872\n",
      "Epoch 51/60\n",
      "64/64 [==============================] - 0s 2ms/step - loss: 0.3876 - accuracy: 0.8332 - precision: 0.7893 - recall: 0.7885 - val_loss: 0.4727 - val_accuracy: 0.7828 - val_precision: 0.8122 - val_recall: 0.6596\n",
      "Epoch 52/60\n",
      "64/64 [==============================] - 0s 2ms/step - loss: 0.3838 - accuracy: 0.8332 - precision: 0.7934 - recall: 0.7816 - val_loss: 0.4046 - val_accuracy: 0.8141 - val_precision: 0.7921 - val_recall: 0.7837\n",
      "Epoch 53/60\n",
      "64/64 [==============================] - 0s 2ms/step - loss: 0.3826 - accuracy: 0.8363 - precision: 0.7881 - recall: 0.8014 - val_loss: 0.4418 - val_accuracy: 0.8047 - val_precision: 0.8178 - val_recall: 0.7163\n",
      "Epoch 54/60\n",
      "64/64 [==============================] - 0s 2ms/step - loss: 0.4074 - accuracy: 0.8305 - precision: 0.7867 - recall: 0.7836 - val_loss: 0.4153 - val_accuracy: 0.8234 - val_precision: 0.7789 - val_recall: 0.8369\n",
      "Epoch 55/60\n",
      "64/64 [==============================] - 0s 2ms/step - loss: 0.3818 - accuracy: 0.8348 - precision: 0.7907 - recall: 0.7915 - val_loss: 0.4016 - val_accuracy: 0.8203 - val_precision: 0.7909 - val_recall: 0.8050\n",
      "Epoch 56/60\n",
      "64/64 [==============================] - 0s 2ms/step - loss: 0.3808 - accuracy: 0.8383 - precision: 0.7926 - recall: 0.8004 - val_loss: 0.4940 - val_accuracy: 0.7828 - val_precision: 0.8122 - val_recall: 0.6596\n",
      "Epoch 57/60\n",
      "64/64 [==============================] - 0s 2ms/step - loss: 0.3777 - accuracy: 0.8363 - precision: 0.7904 - recall: 0.7974 - val_loss: 0.4080 - val_accuracy: 0.8266 - val_precision: 0.7803 - val_recall: 0.8440\n",
      "Epoch 58/60\n",
      "64/64 [==============================] - 0s 2ms/step - loss: 0.3978 - accuracy: 0.8309 - precision: 0.7830 - recall: 0.7915 - val_loss: 0.4015 - val_accuracy: 0.8156 - val_precision: 0.7929 - val_recall: 0.7872\n",
      "Epoch 59/60\n",
      "64/64 [==============================] - 0s 2ms/step - loss: 0.3760 - accuracy: 0.8395 - precision: 0.7972 - recall: 0.7964 - val_loss: 0.4092 - val_accuracy: 0.8297 - val_precision: 0.7818 - val_recall: 0.8511\n",
      "Epoch 60/60\n",
      "64/64 [==============================] - 0s 2ms/step - loss: 0.3792 - accuracy: 0.8336 - precision: 0.7895 - recall: 0.7895 - val_loss: 0.3992 - val_accuracy: 0.8219 - val_precision: 0.7857 - val_recall: 0.8191\n",
      "20/20 [==============================] - 0s 1ms/step\n",
      "WARNING:tensorflow:Detecting that an object or model or tf.train.Checkpoint is being deleted with unrestored values. See the following logs for the specific values in question. To silence these warnings, use `status.expect_partial()`. See https://www.tensorflow.org/api_docs/python/tf/train/Checkpoint#restorefor details about the status object returned by the restore function.\n"
     ]
    },
    {
     "name": "stderr",
     "output_type": "stream",
     "text": [
      "WARNING:tensorflow:Detecting that an object or model or tf.train.Checkpoint is being deleted with unrestored values. See the following logs for the specific values in question. To silence these warnings, use `status.expect_partial()`. See https://www.tensorflow.org/api_docs/python/tf/train/Checkpoint#restorefor details about the status object returned by the restore function.\n"
     ]
    },
    {
     "name": "stdout",
     "output_type": "stream",
     "text": [
      "WARNING:tensorflow:Value in checkpoint could not be found in the restored object: (root).keras_api.metrics.0.total\n"
     ]
    },
    {
     "name": "stderr",
     "output_type": "stream",
     "text": [
      "WARNING:tensorflow:Value in checkpoint could not be found in the restored object: (root).keras_api.metrics.0.total\n"
     ]
    },
    {
     "name": "stdout",
     "output_type": "stream",
     "text": [
      "WARNING:tensorflow:Value in checkpoint could not be found in the restored object: (root).keras_api.metrics.0.count\n"
     ]
    },
    {
     "name": "stderr",
     "output_type": "stream",
     "text": [
      "WARNING:tensorflow:Value in checkpoint could not be found in the restored object: (root).keras_api.metrics.0.count\n"
     ]
    },
    {
     "name": "stdout",
     "output_type": "stream",
     "text": [
      "WARNING:tensorflow:Value in checkpoint could not be found in the restored object: (root).keras_api.metrics.1.total\n"
     ]
    },
    {
     "name": "stderr",
     "output_type": "stream",
     "text": [
      "WARNING:tensorflow:Value in checkpoint could not be found in the restored object: (root).keras_api.metrics.1.total\n"
     ]
    },
    {
     "name": "stdout",
     "output_type": "stream",
     "text": [
      "WARNING:tensorflow:Value in checkpoint could not be found in the restored object: (root).keras_api.metrics.1.count\n"
     ]
    },
    {
     "name": "stderr",
     "output_type": "stream",
     "text": [
      "WARNING:tensorflow:Value in checkpoint could not be found in the restored object: (root).keras_api.metrics.1.count\n"
     ]
    },
    {
     "name": "stdout",
     "output_type": "stream",
     "text": [
      "WARNING:tensorflow:Value in checkpoint could not be found in the restored object: (root).keras_api.metrics.2.true_positives\n"
     ]
    },
    {
     "name": "stderr",
     "output_type": "stream",
     "text": [
      "WARNING:tensorflow:Value in checkpoint could not be found in the restored object: (root).keras_api.metrics.2.true_positives\n"
     ]
    },
    {
     "name": "stdout",
     "output_type": "stream",
     "text": [
      "WARNING:tensorflow:Value in checkpoint could not be found in the restored object: (root).keras_api.metrics.2.false_positives\n"
     ]
    },
    {
     "name": "stderr",
     "output_type": "stream",
     "text": [
      "WARNING:tensorflow:Value in checkpoint could not be found in the restored object: (root).keras_api.metrics.2.false_positives\n"
     ]
    },
    {
     "name": "stdout",
     "output_type": "stream",
     "text": [
      "WARNING:tensorflow:Value in checkpoint could not be found in the restored object: (root).keras_api.metrics.3.true_positives\n"
     ]
    },
    {
     "name": "stderr",
     "output_type": "stream",
     "text": [
      "WARNING:tensorflow:Value in checkpoint could not be found in the restored object: (root).keras_api.metrics.3.true_positives\n"
     ]
    },
    {
     "name": "stdout",
     "output_type": "stream",
     "text": [
      "WARNING:tensorflow:Value in checkpoint could not be found in the restored object: (root).keras_api.metrics.3.false_negatives\n"
     ]
    },
    {
     "name": "stderr",
     "output_type": "stream",
     "text": [
      "WARNING:tensorflow:Value in checkpoint could not be found in the restored object: (root).keras_api.metrics.3.false_negatives\n"
     ]
    },
    {
     "name": "stdout",
     "output_type": "stream",
     "text": [
      "WARNING:tensorflow:Detecting that an object or model or tf.train.Checkpoint is being deleted with unrestored values. See the following logs for the specific values in question. To silence these warnings, use `status.expect_partial()`. See https://www.tensorflow.org/api_docs/python/tf/train/Checkpoint#restorefor details about the status object returned by the restore function.\n"
     ]
    },
    {
     "name": "stderr",
     "output_type": "stream",
     "text": [
      "WARNING:tensorflow:Detecting that an object or model or tf.train.Checkpoint is being deleted with unrestored values. See the following logs for the specific values in question. To silence these warnings, use `status.expect_partial()`. See https://www.tensorflow.org/api_docs/python/tf/train/Checkpoint#restorefor details about the status object returned by the restore function.\n"
     ]
    },
    {
     "name": "stdout",
     "output_type": "stream",
     "text": [
      "WARNING:tensorflow:Value in checkpoint could not be found in the restored object: (root).keras_api.metrics.0.total\n"
     ]
    },
    {
     "name": "stderr",
     "output_type": "stream",
     "text": [
      "WARNING:tensorflow:Value in checkpoint could not be found in the restored object: (root).keras_api.metrics.0.total\n"
     ]
    },
    {
     "name": "stdout",
     "output_type": "stream",
     "text": [
      "WARNING:tensorflow:Value in checkpoint could not be found in the restored object: (root).keras_api.metrics.0.count\n"
     ]
    },
    {
     "name": "stderr",
     "output_type": "stream",
     "text": [
      "WARNING:tensorflow:Value in checkpoint could not be found in the restored object: (root).keras_api.metrics.0.count\n"
     ]
    },
    {
     "name": "stdout",
     "output_type": "stream",
     "text": [
      "WARNING:tensorflow:Value in checkpoint could not be found in the restored object: (root).keras_api.metrics.1.total\n"
     ]
    },
    {
     "name": "stderr",
     "output_type": "stream",
     "text": [
      "WARNING:tensorflow:Value in checkpoint could not be found in the restored object: (root).keras_api.metrics.1.total\n"
     ]
    },
    {
     "name": "stdout",
     "output_type": "stream",
     "text": [
      "WARNING:tensorflow:Value in checkpoint could not be found in the restored object: (root).keras_api.metrics.1.count\n"
     ]
    },
    {
     "name": "stderr",
     "output_type": "stream",
     "text": [
      "WARNING:tensorflow:Value in checkpoint could not be found in the restored object: (root).keras_api.metrics.1.count\n"
     ]
    },
    {
     "name": "stdout",
     "output_type": "stream",
     "text": [
      "WARNING:tensorflow:Value in checkpoint could not be found in the restored object: (root).keras_api.metrics.2.true_positives\n"
     ]
    },
    {
     "name": "stderr",
     "output_type": "stream",
     "text": [
      "WARNING:tensorflow:Value in checkpoint could not be found in the restored object: (root).keras_api.metrics.2.true_positives\n"
     ]
    },
    {
     "name": "stdout",
     "output_type": "stream",
     "text": [
      "WARNING:tensorflow:Value in checkpoint could not be found in the restored object: (root).keras_api.metrics.2.false_positives\n"
     ]
    },
    {
     "name": "stderr",
     "output_type": "stream",
     "text": [
      "WARNING:tensorflow:Value in checkpoint could not be found in the restored object: (root).keras_api.metrics.2.false_positives\n"
     ]
    },
    {
     "name": "stdout",
     "output_type": "stream",
     "text": [
      "WARNING:tensorflow:Value in checkpoint could not be found in the restored object: (root).keras_api.metrics.3.true_positives\n"
     ]
    },
    {
     "name": "stderr",
     "output_type": "stream",
     "text": [
      "WARNING:tensorflow:Value in checkpoint could not be found in the restored object: (root).keras_api.metrics.3.true_positives\n"
     ]
    },
    {
     "name": "stdout",
     "output_type": "stream",
     "text": [
      "WARNING:tensorflow:Value in checkpoint could not be found in the restored object: (root).keras_api.metrics.3.false_negatives\n"
     ]
    },
    {
     "name": "stderr",
     "output_type": "stream",
     "text": [
      "WARNING:tensorflow:Value in checkpoint could not be found in the restored object: (root).keras_api.metrics.3.false_negatives\n"
     ]
    },
    {
     "name": "stdout",
     "output_type": "stream",
     "text": [
      "WARNING:tensorflow:Detecting that an object or model or tf.train.Checkpoint is being deleted with unrestored values. See the following logs for the specific values in question. To silence these warnings, use `status.expect_partial()`. See https://www.tensorflow.org/api_docs/python/tf/train/Checkpoint#restorefor details about the status object returned by the restore function.\n"
     ]
    },
    {
     "name": "stderr",
     "output_type": "stream",
     "text": [
      "WARNING:tensorflow:Detecting that an object or model or tf.train.Checkpoint is being deleted with unrestored values. See the following logs for the specific values in question. To silence these warnings, use `status.expect_partial()`. See https://www.tensorflow.org/api_docs/python/tf/train/Checkpoint#restorefor details about the status object returned by the restore function.\n"
     ]
    },
    {
     "name": "stdout",
     "output_type": "stream",
     "text": [
      "WARNING:tensorflow:Value in checkpoint could not be found in the restored object: (root).keras_api.metrics.0.total\n"
     ]
    },
    {
     "name": "stderr",
     "output_type": "stream",
     "text": [
      "WARNING:tensorflow:Value in checkpoint could not be found in the restored object: (root).keras_api.metrics.0.total\n"
     ]
    },
    {
     "name": "stdout",
     "output_type": "stream",
     "text": [
      "WARNING:tensorflow:Value in checkpoint could not be found in the restored object: (root).keras_api.metrics.0.count\n"
     ]
    },
    {
     "name": "stderr",
     "output_type": "stream",
     "text": [
      "WARNING:tensorflow:Value in checkpoint could not be found in the restored object: (root).keras_api.metrics.0.count\n"
     ]
    },
    {
     "name": "stdout",
     "output_type": "stream",
     "text": [
      "WARNING:tensorflow:Value in checkpoint could not be found in the restored object: (root).keras_api.metrics.1.total\n"
     ]
    },
    {
     "name": "stderr",
     "output_type": "stream",
     "text": [
      "WARNING:tensorflow:Value in checkpoint could not be found in the restored object: (root).keras_api.metrics.1.total\n"
     ]
    },
    {
     "name": "stdout",
     "output_type": "stream",
     "text": [
      "WARNING:tensorflow:Value in checkpoint could not be found in the restored object: (root).keras_api.metrics.1.count\n"
     ]
    },
    {
     "name": "stderr",
     "output_type": "stream",
     "text": [
      "WARNING:tensorflow:Value in checkpoint could not be found in the restored object: (root).keras_api.metrics.1.count\n"
     ]
    },
    {
     "name": "stdout",
     "output_type": "stream",
     "text": [
      "WARNING:tensorflow:Value in checkpoint could not be found in the restored object: (root).keras_api.metrics.2.true_positives\n"
     ]
    },
    {
     "name": "stderr",
     "output_type": "stream",
     "text": [
      "WARNING:tensorflow:Value in checkpoint could not be found in the restored object: (root).keras_api.metrics.2.true_positives\n"
     ]
    },
    {
     "name": "stdout",
     "output_type": "stream",
     "text": [
      "WARNING:tensorflow:Value in checkpoint could not be found in the restored object: (root).keras_api.metrics.2.false_positives\n"
     ]
    },
    {
     "name": "stderr",
     "output_type": "stream",
     "text": [
      "WARNING:tensorflow:Value in checkpoint could not be found in the restored object: (root).keras_api.metrics.2.false_positives\n"
     ]
    },
    {
     "name": "stdout",
     "output_type": "stream",
     "text": [
      "WARNING:tensorflow:Value in checkpoint could not be found in the restored object: (root).keras_api.metrics.3.true_positives\n"
     ]
    },
    {
     "name": "stderr",
     "output_type": "stream",
     "text": [
      "WARNING:tensorflow:Value in checkpoint could not be found in the restored object: (root).keras_api.metrics.3.true_positives\n"
     ]
    },
    {
     "name": "stdout",
     "output_type": "stream",
     "text": [
      "WARNING:tensorflow:Value in checkpoint could not be found in the restored object: (root).keras_api.metrics.3.false_negatives\n"
     ]
    },
    {
     "name": "stderr",
     "output_type": "stream",
     "text": [
      "WARNING:tensorflow:Value in checkpoint could not be found in the restored object: (root).keras_api.metrics.3.false_negatives\n"
     ]
    },
    {
     "name": "stdout",
     "output_type": "stream",
     "text": [
      "WARNING:tensorflow:Detecting that an object or model or tf.train.Checkpoint is being deleted with unrestored values. See the following logs for the specific values in question. To silence these warnings, use `status.expect_partial()`. See https://www.tensorflow.org/api_docs/python/tf/train/Checkpoint#restorefor details about the status object returned by the restore function.\n"
     ]
    },
    {
     "name": "stderr",
     "output_type": "stream",
     "text": [
      "WARNING:tensorflow:Detecting that an object or model or tf.train.Checkpoint is being deleted with unrestored values. See the following logs for the specific values in question. To silence these warnings, use `status.expect_partial()`. See https://www.tensorflow.org/api_docs/python/tf/train/Checkpoint#restorefor details about the status object returned by the restore function.\n"
     ]
    },
    {
     "name": "stdout",
     "output_type": "stream",
     "text": [
      "WARNING:tensorflow:Value in checkpoint could not be found in the restored object: (root).keras_api.metrics.0.total\n"
     ]
    },
    {
     "name": "stderr",
     "output_type": "stream",
     "text": [
      "WARNING:tensorflow:Value in checkpoint could not be found in the restored object: (root).keras_api.metrics.0.total\n"
     ]
    },
    {
     "name": "stdout",
     "output_type": "stream",
     "text": [
      "WARNING:tensorflow:Value in checkpoint could not be found in the restored object: (root).keras_api.metrics.0.count\n"
     ]
    },
    {
     "name": "stderr",
     "output_type": "stream",
     "text": [
      "WARNING:tensorflow:Value in checkpoint could not be found in the restored object: (root).keras_api.metrics.0.count\n"
     ]
    },
    {
     "name": "stdout",
     "output_type": "stream",
     "text": [
      "WARNING:tensorflow:Value in checkpoint could not be found in the restored object: (root).keras_api.metrics.1.total\n"
     ]
    },
    {
     "name": "stderr",
     "output_type": "stream",
     "text": [
      "WARNING:tensorflow:Value in checkpoint could not be found in the restored object: (root).keras_api.metrics.1.total\n"
     ]
    },
    {
     "name": "stdout",
     "output_type": "stream",
     "text": [
      "WARNING:tensorflow:Value in checkpoint could not be found in the restored object: (root).keras_api.metrics.1.count\n"
     ]
    },
    {
     "name": "stderr",
     "output_type": "stream",
     "text": [
      "WARNING:tensorflow:Value in checkpoint could not be found in the restored object: (root).keras_api.metrics.1.count\n"
     ]
    },
    {
     "name": "stdout",
     "output_type": "stream",
     "text": [
      "WARNING:tensorflow:Value in checkpoint could not be found in the restored object: (root).keras_api.metrics.2.true_positives\n"
     ]
    },
    {
     "name": "stderr",
     "output_type": "stream",
     "text": [
      "WARNING:tensorflow:Value in checkpoint could not be found in the restored object: (root).keras_api.metrics.2.true_positives\n"
     ]
    },
    {
     "name": "stdout",
     "output_type": "stream",
     "text": [
      "WARNING:tensorflow:Value in checkpoint could not be found in the restored object: (root).keras_api.metrics.2.false_positives\n"
     ]
    },
    {
     "name": "stderr",
     "output_type": "stream",
     "text": [
      "WARNING:tensorflow:Value in checkpoint could not be found in the restored object: (root).keras_api.metrics.2.false_positives\n"
     ]
    },
    {
     "name": "stdout",
     "output_type": "stream",
     "text": [
      "WARNING:tensorflow:Value in checkpoint could not be found in the restored object: (root).keras_api.metrics.3.true_positives\n"
     ]
    },
    {
     "name": "stderr",
     "output_type": "stream",
     "text": [
      "WARNING:tensorflow:Value in checkpoint could not be found in the restored object: (root).keras_api.metrics.3.true_positives\n"
     ]
    },
    {
     "name": "stdout",
     "output_type": "stream",
     "text": [
      "WARNING:tensorflow:Value in checkpoint could not be found in the restored object: (root).keras_api.metrics.3.false_negatives\n"
     ]
    },
    {
     "name": "stderr",
     "output_type": "stream",
     "text": [
      "WARNING:tensorflow:Value in checkpoint could not be found in the restored object: (root).keras_api.metrics.3.false_negatives\n"
     ]
    },
    {
     "name": "stdout",
     "output_type": "stream",
     "text": [
      "WARNING:tensorflow:Detecting that an object or model or tf.train.Checkpoint is being deleted with unrestored values. See the following logs for the specific values in question. To silence these warnings, use `status.expect_partial()`. See https://www.tensorflow.org/api_docs/python/tf/train/Checkpoint#restorefor details about the status object returned by the restore function.\n"
     ]
    },
    {
     "name": "stderr",
     "output_type": "stream",
     "text": [
      "WARNING:tensorflow:Detecting that an object or model or tf.train.Checkpoint is being deleted with unrestored values. See the following logs for the specific values in question. To silence these warnings, use `status.expect_partial()`. See https://www.tensorflow.org/api_docs/python/tf/train/Checkpoint#restorefor details about the status object returned by the restore function.\n"
     ]
    },
    {
     "name": "stdout",
     "output_type": "stream",
     "text": [
      "WARNING:tensorflow:Value in checkpoint could not be found in the restored object: (root).keras_api.metrics.0.total\n"
     ]
    },
    {
     "name": "stderr",
     "output_type": "stream",
     "text": [
      "WARNING:tensorflow:Value in checkpoint could not be found in the restored object: (root).keras_api.metrics.0.total\n"
     ]
    },
    {
     "name": "stdout",
     "output_type": "stream",
     "text": [
      "WARNING:tensorflow:Value in checkpoint could not be found in the restored object: (root).keras_api.metrics.0.count\n"
     ]
    },
    {
     "name": "stderr",
     "output_type": "stream",
     "text": [
      "WARNING:tensorflow:Value in checkpoint could not be found in the restored object: (root).keras_api.metrics.0.count\n"
     ]
    },
    {
     "name": "stdout",
     "output_type": "stream",
     "text": [
      "WARNING:tensorflow:Value in checkpoint could not be found in the restored object: (root).keras_api.metrics.1.total\n"
     ]
    },
    {
     "name": "stderr",
     "output_type": "stream",
     "text": [
      "WARNING:tensorflow:Value in checkpoint could not be found in the restored object: (root).keras_api.metrics.1.total\n"
     ]
    },
    {
     "name": "stdout",
     "output_type": "stream",
     "text": [
      "WARNING:tensorflow:Value in checkpoint could not be found in the restored object: (root).keras_api.metrics.1.count\n"
     ]
    },
    {
     "name": "stderr",
     "output_type": "stream",
     "text": [
      "WARNING:tensorflow:Value in checkpoint could not be found in the restored object: (root).keras_api.metrics.1.count\n"
     ]
    },
    {
     "name": "stdout",
     "output_type": "stream",
     "text": [
      "WARNING:tensorflow:Value in checkpoint could not be found in the restored object: (root).keras_api.metrics.2.true_positives\n"
     ]
    },
    {
     "name": "stderr",
     "output_type": "stream",
     "text": [
      "WARNING:tensorflow:Value in checkpoint could not be found in the restored object: (root).keras_api.metrics.2.true_positives\n"
     ]
    },
    {
     "name": "stdout",
     "output_type": "stream",
     "text": [
      "WARNING:tensorflow:Value in checkpoint could not be found in the restored object: (root).keras_api.metrics.2.false_positives\n"
     ]
    },
    {
     "name": "stderr",
     "output_type": "stream",
     "text": [
      "WARNING:tensorflow:Value in checkpoint could not be found in the restored object: (root).keras_api.metrics.2.false_positives\n"
     ]
    },
    {
     "name": "stdout",
     "output_type": "stream",
     "text": [
      "WARNING:tensorflow:Value in checkpoint could not be found in the restored object: (root).keras_api.metrics.3.true_positives\n"
     ]
    },
    {
     "name": "stderr",
     "output_type": "stream",
     "text": [
      "WARNING:tensorflow:Value in checkpoint could not be found in the restored object: (root).keras_api.metrics.3.true_positives\n"
     ]
    },
    {
     "name": "stdout",
     "output_type": "stream",
     "text": [
      "WARNING:tensorflow:Value in checkpoint could not be found in the restored object: (root).keras_api.metrics.3.false_negatives\n"
     ]
    },
    {
     "name": "stderr",
     "output_type": "stream",
     "text": [
      "WARNING:tensorflow:Value in checkpoint could not be found in the restored object: (root).keras_api.metrics.3.false_negatives\n",
      "WARNING:absl:Found untraced functions such as _update_step_xla while saving (showing 1 of 1). These functions will not be directly callable after loading.\n"
     ]
    },
    {
     "name": "stdout",
     "output_type": "stream",
     "text": [
      "INFO:tensorflow:Assets written to: C:\\Users\\jmbar\\AppData\\Local\\Temp\\tmpk9ci6mhi\\assets\n"
     ]
    },
    {
     "name": "stderr",
     "output_type": "stream",
     "text": [
      "INFO:tensorflow:Assets written to: C:\\Users\\jmbar\\AppData\\Local\\Temp\\tmpk9ci6mhi\\assets\n"
     ]
    },
    {
     "name": "stdout",
     "output_type": "stream",
     "text": [
      "Epoch 1/60\n",
      "64/64 [==============================] - 1s 6ms/step - loss: 0.6789 - accuracy: 0.5867 - precision: 0.3625 - recall: 0.0280 - val_loss: 0.6729 - val_accuracy: 0.6078 - val_precision: 0.0000e+00 - val_recall: 0.0000e+00\n",
      "Epoch 2/60\n",
      "64/64 [==============================] - 0s 2ms/step - loss: 0.6763 - accuracy: 0.5953 - precision: 0.0000e+00 - recall: 0.0000e+00 - val_loss: 0.6701 - val_accuracy: 0.6078 - val_precision: 0.0000e+00 - val_recall: 0.0000e+00\n",
      "Epoch 3/60\n",
      "64/64 [==============================] - 0s 2ms/step - loss: 0.6750 - accuracy: 0.5953 - precision: 0.0000e+00 - recall: 0.0000e+00 - val_loss: 0.6717 - val_accuracy: 0.6078 - val_precision: 0.0000e+00 - val_recall: 0.0000e+00\n",
      "Epoch 4/60\n",
      "64/64 [==============================] - 0s 2ms/step - loss: 0.6786 - accuracy: 0.5965 - precision: 1.0000 - recall: 0.0029 - val_loss: 0.6694 - val_accuracy: 0.6078 - val_precision: 0.0000e+00 - val_recall: 0.0000e+00\n",
      "Epoch 5/60\n",
      "64/64 [==============================] - 0s 2ms/step - loss: 0.6766 - accuracy: 0.5961 - precision: 1.0000 - recall: 0.0019 - val_loss: 0.6682 - val_accuracy: 0.6078 - val_precision: 0.0000e+00 - val_recall: 0.0000e+00\n",
      "Epoch 6/60\n",
      "64/64 [==============================] - 0s 2ms/step - loss: 0.6741 - accuracy: 0.5992 - precision: 1.0000 - recall: 0.0097 - val_loss: 0.6681 - val_accuracy: 0.6094 - val_precision: 1.0000 - val_recall: 0.0040\n",
      "Epoch 7/60\n",
      "64/64 [==============================] - 0s 2ms/step - loss: 0.6697 - accuracy: 0.6016 - precision: 1.0000 - recall: 0.0154 - val_loss: 0.6625 - val_accuracy: 0.6156 - val_precision: 1.0000 - val_recall: 0.0199\n",
      "Epoch 8/60\n",
      "64/64 [==============================] - 0s 2ms/step - loss: 0.6579 - accuracy: 0.6176 - precision: 0.9672 - recall: 0.0569 - val_loss: 0.6608 - val_accuracy: 0.6750 - val_precision: 0.9057 - val_recall: 0.1912\n",
      "Epoch 9/60\n",
      "64/64 [==============================] - 0s 2ms/step - loss: 0.6380 - accuracy: 0.6496 - precision: 0.9427 - recall: 0.1429 - val_loss: 0.6218 - val_accuracy: 0.6516 - val_precision: 0.9118 - val_recall: 0.1235\n",
      "Epoch 10/60\n",
      "64/64 [==============================] - 0s 2ms/step - loss: 0.6007 - accuracy: 0.6984 - precision: 0.9314 - recall: 0.2751 - val_loss: 0.5890 - val_accuracy: 0.7266 - val_precision: 0.8654 - val_recall: 0.3586\n",
      "Epoch 11/60\n",
      "64/64 [==============================] - 0s 2ms/step - loss: 0.5427 - accuracy: 0.7434 - precision: 0.9111 - recall: 0.4054 - val_loss: 0.5363 - val_accuracy: 0.7500 - val_precision: 0.8421 - val_recall: 0.4462\n",
      "Epoch 12/60\n",
      "64/64 [==============================] - 0s 2ms/step - loss: 0.5263 - accuracy: 0.7641 - precision: 0.8130 - recall: 0.5415 - val_loss: 0.5153 - val_accuracy: 0.7516 - val_precision: 0.8433 - val_recall: 0.4502\n",
      "Epoch 13/60\n",
      "64/64 [==============================] - 0s 2ms/step - loss: 0.4775 - accuracy: 0.7867 - precision: 0.8840 - recall: 0.5444 - val_loss: 0.5133 - val_accuracy: 0.7422 - val_precision: 0.8525 - val_recall: 0.4143\n",
      "Epoch 14/60\n",
      "64/64 [==============================] - 0s 2ms/step - loss: 0.4597 - accuracy: 0.7961 - precision: 0.8589 - recall: 0.5936 - val_loss: 0.5450 - val_accuracy: 0.8094 - val_precision: 0.7329 - val_recall: 0.8088\n",
      "Epoch 15/60\n",
      "64/64 [==============================] - 0s 2ms/step - loss: 0.4487 - accuracy: 0.7973 - precision: 0.8433 - recall: 0.6129 - val_loss: 0.4817 - val_accuracy: 0.8000 - val_precision: 0.7943 - val_recall: 0.6614\n",
      "Epoch 16/60\n",
      "64/64 [==============================] - 0s 2ms/step - loss: 0.4287 - accuracy: 0.8082 - precision: 0.8516 - recall: 0.6371 - val_loss: 0.4718 - val_accuracy: 0.8016 - val_precision: 0.7952 - val_recall: 0.6653\n",
      "Epoch 17/60\n",
      "64/64 [==============================] - 0s 2ms/step - loss: 0.4203 - accuracy: 0.8145 - precision: 0.8459 - recall: 0.6622 - val_loss: 0.4705 - val_accuracy: 0.7891 - val_precision: 0.8333 - val_recall: 0.5777\n",
      "Epoch 18/60\n",
      "64/64 [==============================] - 0s 2ms/step - loss: 0.4201 - accuracy: 0.8137 - precision: 0.8380 - recall: 0.6689 - val_loss: 0.4732 - val_accuracy: 0.8188 - val_precision: 0.7778 - val_recall: 0.7530\n",
      "Epoch 19/60\n",
      "64/64 [==============================] - 0s 2ms/step - loss: 0.4168 - accuracy: 0.8215 - precision: 0.8339 - recall: 0.6979 - val_loss: 0.4709 - val_accuracy: 0.7891 - val_precision: 0.8295 - val_recall: 0.5817\n",
      "Epoch 20/60\n",
      "64/64 [==============================] - 0s 3ms/step - loss: 0.4137 - accuracy: 0.8180 - precision: 0.8369 - recall: 0.6834 - val_loss: 0.4517 - val_accuracy: 0.8141 - val_precision: 0.7920 - val_recall: 0.7131\n",
      "Epoch 21/60\n",
      "64/64 [==============================] - 0s 2ms/step - loss: 0.4038 - accuracy: 0.8211 - precision: 0.8277 - recall: 0.7046 - val_loss: 0.4470 - val_accuracy: 0.8156 - val_precision: 0.7930 - val_recall: 0.7171\n",
      "Epoch 22/60\n",
      "64/64 [==============================] - 0s 2ms/step - loss: 0.4062 - accuracy: 0.8277 - precision: 0.8346 - recall: 0.7162 - val_loss: 0.4684 - val_accuracy: 0.7859 - val_precision: 0.8167 - val_recall: 0.5857\n",
      "Epoch 23/60\n",
      "64/64 [==============================] - 0s 2ms/step - loss: 0.4002 - accuracy: 0.8230 - precision: 0.8279 - recall: 0.7104 - val_loss: 0.4480 - val_accuracy: 0.7844 - val_precision: 0.7958 - val_recall: 0.6056\n",
      "Epoch 24/60\n",
      "64/64 [==============================] - 0s 2ms/step - loss: 0.4033 - accuracy: 0.8277 - precision: 0.8280 - recall: 0.7249 - val_loss: 0.4447 - val_accuracy: 0.7859 - val_precision: 0.7938 - val_recall: 0.6135\n",
      "Epoch 25/60\n",
      "64/64 [==============================] - 0s 2ms/step - loss: 0.4038 - accuracy: 0.8223 - precision: 0.8217 - recall: 0.7162 - val_loss: 0.4434 - val_accuracy: 0.7859 - val_precision: 0.7938 - val_recall: 0.6135\n",
      "Epoch 26/60\n",
      "64/64 [==============================] - 0s 2ms/step - loss: 0.3981 - accuracy: 0.8254 - precision: 0.8233 - recall: 0.7239 - val_loss: 0.4310 - val_accuracy: 0.8047 - val_precision: 0.7972 - val_recall: 0.6733\n",
      "Epoch 27/60\n",
      "64/64 [==============================] - 0s 2ms/step - loss: 0.4060 - accuracy: 0.8246 - precision: 0.8257 - recall: 0.7181 - val_loss: 0.4281 - val_accuracy: 0.8109 - val_precision: 0.7928 - val_recall: 0.7012\n",
      "Epoch 28/60\n",
      "64/64 [==============================] - 0s 3ms/step - loss: 0.3938 - accuracy: 0.8297 - precision: 0.8282 - recall: 0.7307 - val_loss: 0.4404 - val_accuracy: 0.8109 - val_precision: 0.7539 - val_recall: 0.7689\n",
      "Epoch 29/60\n",
      "64/64 [==============================] - 0s 2ms/step - loss: 0.3881 - accuracy: 0.8309 - precision: 0.8267 - recall: 0.7365 - val_loss: 0.4257 - val_accuracy: 0.8109 - val_precision: 0.7902 - val_recall: 0.7052\n",
      "Epoch 30/60\n",
      "64/64 [==============================] - 0s 2ms/step - loss: 0.3933 - accuracy: 0.8309 - precision: 0.8197 - recall: 0.7461 - val_loss: 0.4241 - val_accuracy: 0.8156 - val_precision: 0.7930 - val_recall: 0.7171\n",
      "Epoch 31/60\n",
      "64/64 [==============================] - 0s 2ms/step - loss: 0.3883 - accuracy: 0.8332 - precision: 0.8257 - recall: 0.7452 - val_loss: 0.4301 - val_accuracy: 0.7969 - val_precision: 0.7923 - val_recall: 0.6534\n",
      "Epoch 32/60\n",
      "64/64 [==============================] - 0s 2ms/step - loss: 0.3903 - accuracy: 0.8281 - precision: 0.8124 - recall: 0.7481 - val_loss: 0.4220 - val_accuracy: 0.8219 - val_precision: 0.7842 - val_recall: 0.7530\n",
      "Epoch 33/60\n",
      "64/64 [==============================] - 0s 2ms/step - loss: 0.3914 - accuracy: 0.8352 - precision: 0.8315 - recall: 0.7432 - val_loss: 0.4378 - val_accuracy: 0.8141 - val_precision: 0.7519 - val_recall: 0.7849\n",
      "Epoch 34/60\n",
      "64/64 [==============================] - 0s 2ms/step - loss: 0.3849 - accuracy: 0.8348 - precision: 0.8144 - recall: 0.7664 - val_loss: 0.4650 - val_accuracy: 0.7859 - val_precision: 0.8000 - val_recall: 0.6056\n",
      "Epoch 35/60\n",
      "64/64 [==============================] - 0s 2ms/step - loss: 0.3872 - accuracy: 0.8355 - precision: 0.8240 - recall: 0.7548 - val_loss: 0.4301 - val_accuracy: 0.8125 - val_precision: 0.7510 - val_recall: 0.7809\n",
      "Epoch 36/60\n",
      "64/64 [==============================] - 0s 2ms/step - loss: 0.3842 - accuracy: 0.8320 - precision: 0.8163 - recall: 0.7548 - val_loss: 0.4170 - val_accuracy: 0.8203 - val_precision: 0.7764 - val_recall: 0.7610\n",
      "Epoch 37/60\n"
     ]
    },
    {
     "name": "stdout",
     "output_type": "stream",
     "text": [
      "64/64 [==============================] - 0s 2ms/step - loss: 0.3850 - accuracy: 0.8309 - precision: 0.8099 - recall: 0.7606 - val_loss: 0.4974 - val_accuracy: 0.7859 - val_precision: 0.8065 - val_recall: 0.5976\n",
      "Epoch 38/60\n",
      "64/64 [==============================] - 0s 2ms/step - loss: 0.3900 - accuracy: 0.8320 - precision: 0.8124 - recall: 0.7606 - val_loss: 0.4328 - val_accuracy: 0.7969 - val_precision: 0.7923 - val_recall: 0.6534\n",
      "Epoch 39/60\n",
      "64/64 [==============================] - 0s 2ms/step - loss: 0.3863 - accuracy: 0.8336 - precision: 0.8125 - recall: 0.7654 - val_loss: 0.4138 - val_accuracy: 0.8172 - val_precision: 0.7839 - val_recall: 0.7371\n",
      "Epoch 40/60\n",
      "64/64 [==============================] - 0s 2ms/step - loss: 0.3776 - accuracy: 0.8348 - precision: 0.8131 - recall: 0.7683 - val_loss: 0.4147 - val_accuracy: 0.8156 - val_precision: 0.7628 - val_recall: 0.7689\n",
      "Epoch 41/60\n",
      "64/64 [==============================] - 0s 2ms/step - loss: 0.3835 - accuracy: 0.8336 - precision: 0.8100 - recall: 0.7693 - val_loss: 0.4297 - val_accuracy: 0.8078 - val_precision: 0.7991 - val_recall: 0.6813\n",
      "Epoch 42/60\n",
      "64/64 [==============================] - 0s 2ms/step - loss: 0.3858 - accuracy: 0.8332 - precision: 0.8104 - recall: 0.7674 - val_loss: 0.4368 - val_accuracy: 0.8109 - val_precision: 0.7338 - val_recall: 0.8127\n",
      "Epoch 43/60\n",
      "64/64 [==============================] - 0s 2ms/step - loss: 0.3780 - accuracy: 0.8344 - precision: 0.8091 - recall: 0.7732 - val_loss: 0.4110 - val_accuracy: 0.8156 - val_precision: 0.7628 - val_recall: 0.7689\n",
      "Epoch 44/60\n",
      "64/64 [==============================] - 0s 2ms/step - loss: 0.3811 - accuracy: 0.8332 - precision: 0.8066 - recall: 0.7732 - val_loss: 0.4365 - val_accuracy: 0.8047 - val_precision: 0.7972 - val_recall: 0.6733\n",
      "Epoch 45/60\n",
      "64/64 [==============================] - 0s 2ms/step - loss: 0.3751 - accuracy: 0.8359 - precision: 0.8124 - recall: 0.7732 - val_loss: 0.4333 - val_accuracy: 0.8125 - val_precision: 0.7348 - val_recall: 0.8167\n",
      "Epoch 46/60\n",
      "64/64 [==============================] - 0s 2ms/step - loss: 0.3886 - accuracy: 0.8320 - precision: 0.8036 - recall: 0.7741 - val_loss: 0.4485 - val_accuracy: 0.7937 - val_precision: 0.7902 - val_recall: 0.6454\n",
      "Epoch 47/60\n",
      "64/64 [==============================] - 0s 2ms/step - loss: 0.3786 - accuracy: 0.8398 - precision: 0.8118 - recall: 0.7867 - val_loss: 0.4076 - val_accuracy: 0.8156 - val_precision: 0.7628 - val_recall: 0.7689\n",
      "Epoch 48/60\n",
      "64/64 [==============================] - 0s 2ms/step - loss: 0.3738 - accuracy: 0.8391 - precision: 0.8095 - recall: 0.7876 - val_loss: 0.4227 - val_accuracy: 0.8141 - val_precision: 0.7920 - val_recall: 0.7131\n",
      "Epoch 49/60\n",
      "64/64 [==============================] - 0s 2ms/step - loss: 0.3827 - accuracy: 0.8375 - precision: 0.8088 - recall: 0.7838 - val_loss: 0.4069 - val_accuracy: 0.8109 - val_precision: 0.7539 - val_recall: 0.7689\n",
      "Epoch 50/60\n",
      "64/64 [==============================] - 0s 2ms/step - loss: 0.3694 - accuracy: 0.8379 - precision: 0.8102 - recall: 0.7828 - val_loss: 0.4064 - val_accuracy: 0.8156 - val_precision: 0.7628 - val_recall: 0.7689\n",
      "Epoch 51/60\n",
      "64/64 [==============================] - 0s 2ms/step - loss: 0.3880 - accuracy: 0.8359 - precision: 0.8056 - recall: 0.7838 - val_loss: 0.4198 - val_accuracy: 0.8094 - val_precision: 0.7329 - val_recall: 0.8088\n",
      "Epoch 52/60\n",
      "64/64 [==============================] - 0s 2ms/step - loss: 0.3735 - accuracy: 0.8383 - precision: 0.8049 - recall: 0.7925 - val_loss: 0.4054 - val_accuracy: 0.8109 - val_precision: 0.7539 - val_recall: 0.7689\n",
      "Epoch 53/60\n",
      "64/64 [==============================] - 0s 2ms/step - loss: 0.3850 - accuracy: 0.8336 - precision: 0.8008 - recall: 0.7838 - val_loss: 0.4085 - val_accuracy: 0.8219 - val_precision: 0.7842 - val_recall: 0.7530\n",
      "Epoch 54/60\n",
      "64/64 [==============================] - 0s 2ms/step - loss: 0.3705 - accuracy: 0.8395 - precision: 0.8049 - recall: 0.7963 - val_loss: 0.4098 - val_accuracy: 0.8125 - val_precision: 0.7453 - val_recall: 0.7928\n",
      "Epoch 55/60\n",
      "64/64 [==============================] - 0s 2ms/step - loss: 0.3782 - accuracy: 0.8359 - precision: 0.8031 - recall: 0.7876 - val_loss: 0.4041 - val_accuracy: 0.8141 - val_precision: 0.7640 - val_recall: 0.7610\n",
      "Epoch 56/60\n",
      "64/64 [==============================] - 0s 2ms/step - loss: 0.3684 - accuracy: 0.8340 - precision: 0.8004 - recall: 0.7857 - val_loss: 0.4045 - val_accuracy: 0.8156 - val_precision: 0.7649 - val_recall: 0.7649\n",
      "Epoch 57/60\n",
      "64/64 [==============================] - 0s 2ms/step - loss: 0.3650 - accuracy: 0.8363 - precision: 0.7981 - recall: 0.7973 - val_loss: 0.4126 - val_accuracy: 0.8219 - val_precision: 0.7866 - val_recall: 0.7490\n",
      "Epoch 58/60\n",
      "64/64 [==============================] - 0s 2ms/step - loss: 0.3753 - accuracy: 0.8387 - precision: 0.8027 - recall: 0.7973 - val_loss: 0.4019 - val_accuracy: 0.8125 - val_precision: 0.7529 - val_recall: 0.7769\n",
      "Epoch 59/60\n",
      "64/64 [==============================] - 0s 2ms/step - loss: 0.3681 - accuracy: 0.8375 - precision: 0.8021 - recall: 0.7944 - val_loss: 0.4031 - val_accuracy: 0.8125 - val_precision: 0.7510 - val_recall: 0.7809\n",
      "Epoch 60/60\n",
      "64/64 [==============================] - 0s 2ms/step - loss: 0.3649 - accuracy: 0.8371 - precision: 0.8031 - recall: 0.7915 - val_loss: 0.4016 - val_accuracy: 0.8141 - val_precision: 0.7538 - val_recall: 0.7809\n",
      "20/20 [==============================] - 0s 1ms/step\n"
     ]
    },
    {
     "name": "stderr",
     "output_type": "stream",
     "text": [
      "WARNING:absl:Found untraced functions such as _update_step_xla while saving (showing 1 of 1). These functions will not be directly callable after loading.\n"
     ]
    },
    {
     "name": "stdout",
     "output_type": "stream",
     "text": [
      "INFO:tensorflow:Assets written to: C:\\Users\\jmbar\\AppData\\Local\\Temp\\tmpqggyr3xr\\assets\n"
     ]
    },
    {
     "name": "stderr",
     "output_type": "stream",
     "text": [
      "INFO:tensorflow:Assets written to: C:\\Users\\jmbar\\AppData\\Local\\Temp\\tmpqggyr3xr\\assets\n"
     ]
    },
    {
     "name": "stdout",
     "output_type": "stream",
     "text": [
      "Epoch 1/60\n",
      "64/64 [==============================] - 1s 6ms/step - loss: 0.6759 - accuracy: 0.5984 - precision: 0.0000e+00 - recall: 0.0000e+00 - val_loss: 0.6818 - val_accuracy: 0.5844 - val_precision: 0.0000e+00 - val_recall: 0.0000e+00\n",
      "Epoch 2/60\n",
      "64/64 [==============================] - 0s 2ms/step - loss: 0.6753 - accuracy: 0.5984 - precision: 0.0000e+00 - recall: 0.0000e+00 - val_loss: 0.6807 - val_accuracy: 0.5844 - val_precision: 0.0000e+00 - val_recall: 0.0000e+00\n",
      "Epoch 3/60\n",
      "64/64 [==============================] - 0s 2ms/step - loss: 0.6744 - accuracy: 0.5984 - precision: 0.0000e+00 - recall: 0.0000e+00 - val_loss: 0.6790 - val_accuracy: 0.5844 - val_precision: 0.0000e+00 - val_recall: 0.0000e+00\n",
      "Epoch 4/60\n",
      "64/64 [==============================] - 0s 2ms/step - loss: 0.6735 - accuracy: 0.5984 - precision: 0.0000e+00 - recall: 0.0000e+00 - val_loss: 0.6780 - val_accuracy: 0.5844 - val_precision: 0.0000e+00 - val_recall: 0.0000e+00\n",
      "Epoch 5/60\n",
      "64/64 [==============================] - 0s 2ms/step - loss: 0.6731 - accuracy: 0.5984 - precision: 0.0000e+00 - recall: 0.0000e+00 - val_loss: 0.6821 - val_accuracy: 0.5844 - val_precision: 0.0000e+00 - val_recall: 0.0000e+00\n",
      "Epoch 6/60\n",
      "64/64 [==============================] - 0s 2ms/step - loss: 0.6724 - accuracy: 0.6027 - precision: 1.0000 - recall: 0.0107 - val_loss: 0.6801 - val_accuracy: 0.5859 - val_precision: 1.0000 - val_recall: 0.0038\n",
      "Epoch 7/60\n",
      "64/64 [==============================] - 0s 2ms/step - loss: 0.6627 - accuracy: 0.6117 - precision: 0.9722 - recall: 0.0340 - val_loss: 0.6633 - val_accuracy: 0.5969 - val_precision: 0.9000 - val_recall: 0.0338\n",
      "Epoch 8/60\n",
      "64/64 [==============================] - 0s 3ms/step - loss: 0.6415 - accuracy: 0.6379 - precision: 0.9550 - recall: 0.1031 - val_loss: 0.6389 - val_accuracy: 0.6266 - val_precision: 0.9091 - val_recall: 0.1128\n",
      "Epoch 9/60\n",
      "64/64 [==============================] - 0s 3ms/step - loss: 0.6071 - accuracy: 0.6809 - precision: 0.9203 - recall: 0.2247 - val_loss: 0.6011 - val_accuracy: 0.6609 - val_precision: 0.8769 - val_recall: 0.2143\n",
      "Epoch 10/60\n",
      "64/64 [==============================] - 0s 2ms/step - loss: 0.5651 - accuracy: 0.7219 - precision: 0.8970 - recall: 0.3473 - val_loss: 0.5599 - val_accuracy: 0.6969 - val_precision: 0.8750 - val_recall: 0.3158\n",
      "Epoch 11/60\n",
      "64/64 [==============================] - 0s 2ms/step - loss: 0.5283 - accuracy: 0.7527 - precision: 0.8546 - recall: 0.4630 - val_loss: 0.5291 - val_accuracy: 0.7828 - val_precision: 0.8396 - val_recall: 0.5902\n",
      "Epoch 12/60\n",
      "64/64 [==============================] - 0s 2ms/step - loss: 0.4969 - accuracy: 0.7746 - precision: 0.8608 - recall: 0.5233 - val_loss: 0.5280 - val_accuracy: 0.7203 - val_precision: 0.8655 - val_recall: 0.3872\n",
      "Epoch 13/60\n",
      "64/64 [==============================] - 0s 3ms/step - loss: 0.4759 - accuracy: 0.7852 - precision: 0.8578 - recall: 0.5574 - val_loss: 0.5035 - val_accuracy: 0.8156 - val_precision: 0.8190 - val_recall: 0.7143\n",
      "Epoch 14/60\n",
      "64/64 [==============================] - 0s 2ms/step - loss: 0.4586 - accuracy: 0.7949 - precision: 0.8537 - recall: 0.5905 - val_loss: 0.4810 - val_accuracy: 0.7719 - val_precision: 0.8488 - val_recall: 0.5489\n",
      "Epoch 15/60\n",
      "64/64 [==============================] - 0s 2ms/step - loss: 0.4603 - accuracy: 0.8031 - precision: 0.8466 - recall: 0.6226 - val_loss: 0.4700 - val_accuracy: 0.7797 - val_precision: 0.8415 - val_recall: 0.5789\n",
      "Epoch 16/60\n",
      "64/64 [==============================] - 0s 2ms/step - loss: 0.4356 - accuracy: 0.8098 - precision: 0.8455 - recall: 0.6440 - val_loss: 0.4713 - val_accuracy: 0.7750 - val_precision: 0.8389 - val_recall: 0.5677\n",
      "Epoch 17/60\n",
      "64/64 [==============================] - 0s 2ms/step - loss: 0.4354 - accuracy: 0.8105 - precision: 0.8424 - recall: 0.6498 - val_loss: 0.4717 - val_accuracy: 0.8313 - val_precision: 0.8062 - val_recall: 0.7820\n",
      "Epoch 18/60\n",
      "64/64 [==============================] - 0s 2ms/step - loss: 0.4289 - accuracy: 0.8141 - precision: 0.8399 - recall: 0.6634 - val_loss: 0.4661 - val_accuracy: 0.8266 - val_precision: 0.7969 - val_recall: 0.7820\n",
      "Epoch 19/60\n",
      "64/64 [==============================] - 0s 2ms/step - loss: 0.4200 - accuracy: 0.8164 - precision: 0.8329 - recall: 0.6790 - val_loss: 0.4482 - val_accuracy: 0.7859 - val_precision: 0.8209 - val_recall: 0.6203\n",
      "Epoch 20/60\n",
      "64/64 [==============================] - 0s 2ms/step - loss: 0.4236 - accuracy: 0.8133 - precision: 0.8251 - recall: 0.6790 - val_loss: 0.4434 - val_accuracy: 0.7891 - val_precision: 0.8195 - val_recall: 0.6316\n",
      "Epoch 21/60\n",
      "64/64 [==============================] - 0s 2ms/step - loss: 0.4222 - accuracy: 0.8203 - precision: 0.8249 - recall: 0.7014 - val_loss: 0.4454 - val_accuracy: 0.7844 - val_precision: 0.8200 - val_recall: 0.6165\n",
      "Epoch 22/60\n",
      "64/64 [==============================] - 0s 2ms/step - loss: 0.4115 - accuracy: 0.8246 - precision: 0.8331 - recall: 0.7043 - val_loss: 0.4656 - val_accuracy: 0.7812 - val_precision: 0.8316 - val_recall: 0.5940\n",
      "Epoch 23/60\n",
      "64/64 [==============================] - 0s 2ms/step - loss: 0.4087 - accuracy: 0.8234 - precision: 0.8258 - recall: 0.7101 - val_loss: 0.4301 - val_accuracy: 0.8156 - val_precision: 0.8190 - val_recall: 0.7143\n",
      "Epoch 24/60\n",
      "64/64 [==============================] - 0s 2ms/step - loss: 0.4061 - accuracy: 0.8191 - precision: 0.8192 - recall: 0.7053 - val_loss: 0.4365 - val_accuracy: 0.7953 - val_precision: 0.8230 - val_recall: 0.6466\n",
      "Epoch 25/60\n",
      "64/64 [==============================] - 0s 2ms/step - loss: 0.4092 - accuracy: 0.8234 - precision: 0.8193 - recall: 0.7189 - val_loss: 0.4366 - val_accuracy: 0.7937 - val_precision: 0.8221 - val_recall: 0.6429\n",
      "Epoch 26/60\n",
      "64/64 [==============================] - 0s 2ms/step - loss: 0.4246 - accuracy: 0.8219 - precision: 0.8206 - recall: 0.7121 - val_loss: 0.4334 - val_accuracy: 0.7937 - val_precision: 0.8190 - val_recall: 0.6466\n",
      "Epoch 27/60\n",
      "64/64 [==============================] - 0s 2ms/step - loss: 0.3997 - accuracy: 0.8277 - precision: 0.8250 - recall: 0.7247 - val_loss: 0.4218 - val_accuracy: 0.8109 - val_precision: 0.8166 - val_recall: 0.7030\n",
      "Epoch 28/60\n",
      "64/64 [==============================] - 0s 2ms/step - loss: 0.3943 - accuracy: 0.8336 - precision: 0.8308 - recall: 0.7354 - val_loss: 0.4384 - val_accuracy: 0.7937 - val_precision: 0.8190 - val_recall: 0.6466\n",
      "Epoch 29/60\n",
      "64/64 [==============================] - 0s 2ms/step - loss: 0.4032 - accuracy: 0.8234 - precision: 0.8097 - recall: 0.7325 - val_loss: 0.4174 - val_accuracy: 0.8188 - val_precision: 0.8178 - val_recall: 0.7256\n",
      "Epoch 30/60\n",
      "64/64 [==============================] - 0s 2ms/step - loss: 0.4274 - accuracy: 0.8211 - precision: 0.8032 - recall: 0.7344 - val_loss: 0.4182 - val_accuracy: 0.8266 - val_precision: 0.8063 - val_recall: 0.7669\n",
      "Epoch 31/60\n",
      "64/64 [==============================] - 0s 2ms/step - loss: 0.3944 - accuracy: 0.8270 - precision: 0.8204 - recall: 0.7286 - val_loss: 0.4192 - val_accuracy: 0.8109 - val_precision: 0.8194 - val_recall: 0.6992\n",
      "Epoch 32/60\n",
      "64/64 [==============================] - 0s 2ms/step - loss: 0.3880 - accuracy: 0.8313 - precision: 0.8177 - recall: 0.7461 - val_loss: 0.4134 - val_accuracy: 0.8203 - val_precision: 0.8186 - val_recall: 0.7293\n",
      "Epoch 33/60\n",
      "64/64 [==============================] - 0s 2ms/step - loss: 0.3862 - accuracy: 0.8332 - precision: 0.8187 - recall: 0.7510 - val_loss: 0.4113 - val_accuracy: 0.8281 - val_precision: 0.8071 - val_recall: 0.7707\n",
      "Epoch 34/60\n",
      "64/64 [==============================] - 0s 2ms/step - loss: 0.3852 - accuracy: 0.8301 - precision: 0.8105 - recall: 0.7529 - val_loss: 0.4100 - val_accuracy: 0.8266 - val_precision: 0.8039 - val_recall: 0.7707\n",
      "Epoch 35/60\n",
      "64/64 [==============================] - 0s 2ms/step - loss: 0.3873 - accuracy: 0.8367 - precision: 0.8238 - recall: 0.7549 - val_loss: 0.4230 - val_accuracy: 0.8109 - val_precision: 0.8194 - val_recall: 0.6992\n",
      "Epoch 36/60\n",
      "64/64 [==============================] - 0s 2ms/step - loss: 0.3981 - accuracy: 0.8305 - precision: 0.8094 - recall: 0.7558 - val_loss: 0.4135 - val_accuracy: 0.8266 - val_precision: 0.7881 - val_recall: 0.7970\n",
      "Epoch 37/60\n"
     ]
    },
    {
     "name": "stdout",
     "output_type": "stream",
     "text": [
      "64/64 [==============================] - 0s 2ms/step - loss: 0.3846 - accuracy: 0.8359 - precision: 0.8180 - recall: 0.7607 - val_loss: 0.4072 - val_accuracy: 0.8250 - val_precision: 0.8105 - val_recall: 0.7556\n",
      "Epoch 38/60\n",
      "64/64 [==============================] - 0s 2ms/step - loss: 0.3869 - accuracy: 0.8359 - precision: 0.8108 - recall: 0.7714 - val_loss: 0.4302 - val_accuracy: 0.8031 - val_precision: 0.8182 - val_recall: 0.6767\n",
      "Epoch 39/60\n",
      "64/64 [==============================] - 0s 2ms/step - loss: 0.3798 - accuracy: 0.8328 - precision: 0.8112 - recall: 0.7607 - val_loss: 0.4080 - val_accuracy: 0.8266 - val_precision: 0.7860 - val_recall: 0.8008\n",
      "Epoch 40/60\n",
      "64/64 [==============================] - 0s 2ms/step - loss: 0.3820 - accuracy: 0.8336 - precision: 0.8078 - recall: 0.7685 - val_loss: 0.4079 - val_accuracy: 0.8250 - val_precision: 0.7831 - val_recall: 0.8008\n",
      "Epoch 41/60\n",
      "64/64 [==============================] - 0s 2ms/step - loss: 0.3860 - accuracy: 0.8336 - precision: 0.8071 - recall: 0.7695 - val_loss: 0.4035 - val_accuracy: 0.8250 - val_precision: 0.8031 - val_recall: 0.7669\n",
      "Epoch 42/60\n",
      "64/64 [==============================] - 0s 2ms/step - loss: 0.3808 - accuracy: 0.8328 - precision: 0.8055 - recall: 0.7695 - val_loss: 0.4277 - val_accuracy: 0.8109 - val_precision: 0.8166 - val_recall: 0.7030\n",
      "Epoch 43/60\n",
      "64/64 [==============================] - 0s 2ms/step - loss: 0.3764 - accuracy: 0.8348 - precision: 0.8077 - recall: 0.7724 - val_loss: 0.4676 - val_accuracy: 0.7953 - val_precision: 0.8199 - val_recall: 0.6504\n",
      "Epoch 44/60\n",
      "64/64 [==============================] - 0s 2ms/step - loss: 0.3965 - accuracy: 0.8336 - precision: 0.8034 - recall: 0.7753 - val_loss: 0.3998 - val_accuracy: 0.8297 - val_precision: 0.7962 - val_recall: 0.7932\n",
      "Epoch 45/60\n",
      "64/64 [==============================] - 0s 3ms/step - loss: 0.3782 - accuracy: 0.8316 - precision: 0.8055 - recall: 0.7656 - val_loss: 0.4005 - val_accuracy: 0.8281 - val_precision: 0.8047 - val_recall: 0.7744\n",
      "Epoch 46/60\n",
      "64/64 [==============================] - 0s 2ms/step - loss: 0.3812 - accuracy: 0.8379 - precision: 0.8093 - recall: 0.7802 - val_loss: 0.4001 - val_accuracy: 0.8250 - val_precision: 0.7831 - val_recall: 0.8008\n",
      "Epoch 47/60\n",
      "64/64 [==============================] - 0s 2ms/step - loss: 0.3901 - accuracy: 0.8352 - precision: 0.8048 - recall: 0.7782 - val_loss: 0.4076 - val_accuracy: 0.8188 - val_precision: 0.7641 - val_recall: 0.8158\n",
      "Epoch 48/60\n",
      "64/64 [==============================] - 0s 2ms/step - loss: 0.4041 - accuracy: 0.8336 - precision: 0.8022 - recall: 0.7772 - val_loss: 0.3972 - val_accuracy: 0.8281 - val_precision: 0.7932 - val_recall: 0.7932\n",
      "Epoch 49/60\n",
      "64/64 [==============================] - 0s 2ms/step - loss: 0.3779 - accuracy: 0.8352 - precision: 0.8000 - recall: 0.7860 - val_loss: 0.4207 - val_accuracy: 0.8250 - val_precision: 0.7637 - val_recall: 0.8383\n",
      "Epoch 50/60\n",
      "64/64 [==============================] - 0s 2ms/step - loss: 0.3804 - accuracy: 0.8383 - precision: 0.8028 - recall: 0.7918 - val_loss: 0.4079 - val_accuracy: 0.8234 - val_precision: 0.8148 - val_recall: 0.7444\n",
      "Epoch 51/60\n",
      "64/64 [==============================] - 0s 2ms/step - loss: 0.3738 - accuracy: 0.8352 - precision: 0.8036 - recall: 0.7802 - val_loss: 0.3974 - val_accuracy: 0.8266 - val_precision: 0.7839 - val_recall: 0.8045\n",
      "Epoch 52/60\n",
      "64/64 [==============================] - 0s 2ms/step - loss: 0.3788 - accuracy: 0.8359 - precision: 0.8034 - recall: 0.7831 - val_loss: 0.4021 - val_accuracy: 0.8188 - val_precision: 0.7641 - val_recall: 0.8158\n",
      "Epoch 53/60\n",
      "64/64 [==============================] - 0s 2ms/step - loss: 0.3874 - accuracy: 0.8398 - precision: 0.8047 - recall: 0.7938 - val_loss: 0.4041 - val_accuracy: 0.8297 - val_precision: 0.8127 - val_recall: 0.7669\n",
      "Epoch 54/60\n",
      "64/64 [==============================] - 0s 2ms/step - loss: 0.3719 - accuracy: 0.8359 - precision: 0.8004 - recall: 0.7879 - val_loss: 0.4133 - val_accuracy: 0.8250 - val_precision: 0.8182 - val_recall: 0.7444\n",
      "Epoch 55/60\n",
      "64/64 [==============================] - 0s 2ms/step - loss: 0.3778 - accuracy: 0.8340 - precision: 0.7976 - recall: 0.7860 - val_loss: 0.3937 - val_accuracy: 0.8266 - val_precision: 0.7839 - val_recall: 0.8045\n",
      "Epoch 56/60\n",
      "64/64 [==============================] - 0s 2ms/step - loss: 0.3892 - accuracy: 0.8371 - precision: 0.7986 - recall: 0.7947 - val_loss: 0.3937 - val_accuracy: 0.8250 - val_precision: 0.7873 - val_recall: 0.7932\n",
      "Epoch 57/60\n",
      "64/64 [==============================] - 0s 2ms/step - loss: 0.3738 - accuracy: 0.8383 - precision: 0.7986 - recall: 0.7986 - val_loss: 0.4048 - val_accuracy: 0.8297 - val_precision: 0.8127 - val_recall: 0.7669\n",
      "Epoch 58/60\n",
      "64/64 [==============================] - 0s 2ms/step - loss: 0.3737 - accuracy: 0.8387 - precision: 0.8012 - recall: 0.7957 - val_loss: 0.4063 - val_accuracy: 0.8297 - val_precision: 0.8127 - val_recall: 0.7669\n",
      "Epoch 59/60\n",
      "64/64 [==============================] - 0s 2ms/step - loss: 0.3736 - accuracy: 0.8379 - precision: 0.7984 - recall: 0.7977 - val_loss: 0.3975 - val_accuracy: 0.8281 - val_precision: 0.7932 - val_recall: 0.7932\n",
      "Epoch 60/60\n",
      "64/64 [==============================] - 0s 2ms/step - loss: 0.3705 - accuracy: 0.8367 - precision: 0.7944 - recall: 0.8006 - val_loss: 0.3960 - val_accuracy: 0.8281 - val_precision: 0.7932 - val_recall: 0.7932\n",
      "20/20 [==============================] - 0s 1ms/step\n"
     ]
    },
    {
     "name": "stderr",
     "output_type": "stream",
     "text": [
      "WARNING:absl:Found untraced functions such as _update_step_xla while saving (showing 1 of 1). These functions will not be directly callable after loading.\n"
     ]
    },
    {
     "name": "stdout",
     "output_type": "stream",
     "text": [
      "INFO:tensorflow:Assets written to: C:\\Users\\jmbar\\AppData\\Local\\Temp\\tmpbaw_tj23\\assets\n"
     ]
    },
    {
     "name": "stderr",
     "output_type": "stream",
     "text": [
      "INFO:tensorflow:Assets written to: C:\\Users\\jmbar\\AppData\\Local\\Temp\\tmpbaw_tj23\\assets\n"
     ]
    },
    {
     "name": "stdout",
     "output_type": "stream",
     "text": [
      "Epoch 1/60\n",
      "64/64 [==============================] - 1s 6ms/step - loss: 0.6774 - accuracy: 0.5801 - precision: 0.3000 - recall: 0.0230 - val_loss: 0.6789 - val_accuracy: 0.5859 - val_precision: 0.0000e+00 - val_recall: 0.0000e+00\n",
      "Epoch 2/60\n",
      "64/64 [==============================] - 0s 2ms/step - loss: 0.6773 - accuracy: 0.5926 - precision: 0.0000e+00 - recall: 0.0000e+00 - val_loss: 0.6801 - val_accuracy: 0.5859 - val_precision: 0.0000e+00 - val_recall: 0.0000e+00\n",
      "Epoch 3/60\n",
      "64/64 [==============================] - 0s 2ms/step - loss: 0.6801 - accuracy: 0.5820 - precision: 0.4335 - recall: 0.0844 - val_loss: 0.6781 - val_accuracy: 0.5859 - val_precision: 0.0000e+00 - val_recall: 0.0000e+00\n",
      "Epoch 4/60\n",
      "64/64 [==============================] - 0s 2ms/step - loss: 0.6764 - accuracy: 0.5926 - precision: 0.0000e+00 - recall: 0.0000e+00 - val_loss: 0.6772 - val_accuracy: 0.5859 - val_precision: 0.0000e+00 - val_recall: 0.0000e+00\n",
      "Epoch 5/60\n",
      "64/64 [==============================] - 0s 2ms/step - loss: 0.6757 - accuracy: 0.5926 - precision: 0.0000e+00 - recall: 0.0000e+00 - val_loss: 0.6760 - val_accuracy: 0.5859 - val_precision: 0.0000e+00 - val_recall: 0.0000e+00\n",
      "Epoch 6/60\n",
      "64/64 [==============================] - 0s 2ms/step - loss: 0.6736 - accuracy: 0.5953 - precision: 1.0000 - recall: 0.0067 - val_loss: 0.6750 - val_accuracy: 0.5875 - val_precision: 1.0000 - val_recall: 0.0038\n",
      "Epoch 7/60\n",
      "64/64 [==============================] - 0s 2ms/step - loss: 0.6686 - accuracy: 0.6012 - precision: 0.9583 - recall: 0.0221 - val_loss: 0.6676 - val_accuracy: 0.5969 - val_precision: 1.0000 - val_recall: 0.0264\n",
      "Epoch 8/60\n",
      "64/64 [==============================] - 0s 2ms/step - loss: 0.6604 - accuracy: 0.6039 - precision: 0.5523 - recall: 0.1467 - val_loss: 0.6674 - val_accuracy: 0.6000 - val_precision: 0.9091 - val_recall: 0.0377\n",
      "Epoch 9/60\n",
      "64/64 [==============================] - 0s 2ms/step - loss: 0.6430 - accuracy: 0.6477 - precision: 0.9075 - recall: 0.1505 - val_loss: 0.6322 - val_accuracy: 0.6422 - val_precision: 0.9286 - val_recall: 0.1472\n",
      "Epoch 10/60\n",
      "64/64 [==============================] - 0s 2ms/step - loss: 0.6076 - accuracy: 0.6711 - precision: 0.7965 - recall: 0.2589 - val_loss: 0.5874 - val_accuracy: 0.6750 - val_precision: 0.8608 - val_recall: 0.2566\n",
      "Epoch 11/60\n",
      "64/64 [==============================] - 0s 2ms/step - loss: 0.5779 - accuracy: 0.7090 - precision: 0.7992 - recall: 0.3816 - val_loss: 0.5743 - val_accuracy: 0.6750 - val_precision: 0.8608 - val_recall: 0.2566\n",
      "Epoch 12/60\n",
      "64/64 [==============================] - 0s 2ms/step - loss: 0.5285 - accuracy: 0.7578 - precision: 0.8909 - recall: 0.4621 - val_loss: 0.5186 - val_accuracy: 0.7656 - val_precision: 0.8758 - val_recall: 0.5057\n",
      "Epoch 13/60\n",
      "64/64 [==============================] - 0s 2ms/step - loss: 0.5050 - accuracy: 0.7699 - precision: 0.8439 - recall: 0.5340 - val_loss: 0.4996 - val_accuracy: 0.7688 - val_precision: 0.8634 - val_recall: 0.5245\n",
      "Epoch 14/60\n",
      "64/64 [==============================] - 0s 2ms/step - loss: 0.4839 - accuracy: 0.7848 - precision: 0.8426 - recall: 0.5801 - val_loss: 0.4920 - val_accuracy: 0.7703 - val_precision: 0.8734 - val_recall: 0.5208\n",
      "Epoch 15/60\n",
      "64/64 [==============================] - 0s 2ms/step - loss: 0.4552 - accuracy: 0.7930 - precision: 0.8577 - recall: 0.5896 - val_loss: 0.4767 - val_accuracy: 0.7922 - val_precision: 0.8204 - val_recall: 0.6377\n",
      "Epoch 16/60\n",
      "64/64 [==============================] - 0s 2ms/step - loss: 0.4482 - accuracy: 0.8066 - precision: 0.8495 - recall: 0.6385 - val_loss: 0.4753 - val_accuracy: 0.7766 - val_precision: 0.8547 - val_recall: 0.5547\n",
      "Epoch 17/60\n",
      "64/64 [==============================] - 0s 2ms/step - loss: 0.4473 - accuracy: 0.8090 - precision: 0.8403 - recall: 0.6558 - val_loss: 0.4744 - val_accuracy: 0.8156 - val_precision: 0.8050 - val_recall: 0.7321\n",
      "Epoch 18/60\n",
      "64/64 [==============================] - 0s 2ms/step - loss: 0.4359 - accuracy: 0.8078 - precision: 0.8356 - recall: 0.6577 - val_loss: 0.4577 - val_accuracy: 0.8078 - val_precision: 0.8170 - val_recall: 0.6906\n",
      "Epoch 19/60\n",
      "64/64 [==============================] - 0s 2ms/step - loss: 0.4213 - accuracy: 0.8145 - precision: 0.8373 - recall: 0.6759 - val_loss: 0.4532 - val_accuracy: 0.7875 - val_precision: 0.8274 - val_recall: 0.6151\n",
      "Epoch 20/60\n",
      "64/64 [==============================] - 0s 2ms/step - loss: 0.4201 - accuracy: 0.8156 - precision: 0.8316 - recall: 0.6865 - val_loss: 0.4479 - val_accuracy: 0.7875 - val_precision: 0.8209 - val_recall: 0.6226\n",
      "Epoch 21/60\n",
      "64/64 [==============================] - 0s 2ms/step - loss: 0.4338 - accuracy: 0.8227 - precision: 0.8313 - recall: 0.7085 - val_loss: 0.4415 - val_accuracy: 0.7969 - val_precision: 0.8111 - val_recall: 0.6642\n",
      "Epoch 22/60\n",
      "64/64 [==============================] - 0s 2ms/step - loss: 0.4124 - accuracy: 0.8203 - precision: 0.8279 - recall: 0.7057 - val_loss: 0.4383 - val_accuracy: 0.8031 - val_precision: 0.8145 - val_recall: 0.6792\n",
      "Epoch 23/60\n",
      "64/64 [==============================] - 0s 2ms/step - loss: 0.4091 - accuracy: 0.8199 - precision: 0.8307 - recall: 0.7009 - val_loss: 0.4462 - val_accuracy: 0.7875 - val_precision: 0.8241 - val_recall: 0.6189\n",
      "Epoch 24/60\n",
      "64/64 [==============================] - 0s 2ms/step - loss: 0.4072 - accuracy: 0.8219 - precision: 0.8287 - recall: 0.7095 - val_loss: 0.4374 - val_accuracy: 0.8172 - val_precision: 0.7984 - val_recall: 0.7472\n",
      "Epoch 25/60\n",
      "64/64 [==============================] - 0s 2ms/step - loss: 0.3993 - accuracy: 0.8242 - precision: 0.8212 - recall: 0.7267 - val_loss: 0.4298 - val_accuracy: 0.8141 - val_precision: 0.8093 - val_recall: 0.7208\n",
      "Epoch 26/60\n",
      "64/64 [==============================] - 0s 2ms/step - loss: 0.4003 - accuracy: 0.8234 - precision: 0.8202 - recall: 0.7258 - val_loss: 0.4526 - val_accuracy: 0.7891 - val_precision: 0.8316 - val_recall: 0.6151\n",
      "Epoch 27/60\n",
      "64/64 [==============================] - 0s 2ms/step - loss: 0.3971 - accuracy: 0.8254 - precision: 0.8225 - recall: 0.7287 - val_loss: 0.4362 - val_accuracy: 0.8125 - val_precision: 0.7778 - val_recall: 0.7660\n",
      "Epoch 28/60\n",
      "64/64 [==============================] - 0s 2ms/step - loss: 0.4049 - accuracy: 0.8266 - precision: 0.8176 - recall: 0.7392 - val_loss: 0.4220 - val_accuracy: 0.8172 - val_precision: 0.8109 - val_recall: 0.7283\n",
      "Epoch 29/60\n",
      "64/64 [==============================] - 0s 2ms/step - loss: 0.4003 - accuracy: 0.8277 - precision: 0.8182 - recall: 0.7421 - val_loss: 0.4288 - val_accuracy: 0.7937 - val_precision: 0.8122 - val_recall: 0.6528\n",
      "Epoch 30/60\n",
      "64/64 [==============================] - 0s 2ms/step - loss: 0.3967 - accuracy: 0.8313 - precision: 0.8219 - recall: 0.7478 - val_loss: 0.4290 - val_accuracy: 0.8125 - val_precision: 0.7778 - val_recall: 0.7660\n",
      "Epoch 31/60\n",
      "64/64 [==============================] - 0s 2ms/step - loss: 0.3968 - accuracy: 0.8262 - precision: 0.8128 - recall: 0.7450 - val_loss: 0.4172 - val_accuracy: 0.8141 - val_precision: 0.8093 - val_recall: 0.7208\n",
      "Epoch 32/60\n",
      "64/64 [==============================] - 0s 2ms/step - loss: 0.3895 - accuracy: 0.8262 - precision: 0.8154 - recall: 0.7411 - val_loss: 0.4200 - val_accuracy: 0.8047 - val_precision: 0.8070 - val_recall: 0.6943\n",
      "Epoch 33/60\n",
      "64/64 [==============================] - 0s 2ms/step - loss: 0.3963 - accuracy: 0.8344 - precision: 0.8181 - recall: 0.7632 - val_loss: 0.5098 - val_accuracy: 0.7922 - val_precision: 0.8548 - val_recall: 0.6000\n",
      "Epoch 34/60\n",
      "64/64 [==============================] - 0s 2ms/step - loss: 0.4051 - accuracy: 0.8262 - precision: 0.8147 - recall: 0.7421 - val_loss: 0.4120 - val_accuracy: 0.8203 - val_precision: 0.8099 - val_recall: 0.7396\n",
      "Epoch 35/60\n",
      "64/64 [==============================] - 0s 2ms/step - loss: 0.3898 - accuracy: 0.8320 - precision: 0.8112 - recall: 0.7661 - val_loss: 0.4110 - val_accuracy: 0.8156 - val_precision: 0.7952 - val_recall: 0.7472\n",
      "Epoch 36/60\n",
      "64/64 [==============================] - 0s 2ms/step - loss: 0.3886 - accuracy: 0.8336 - precision: 0.8217 - recall: 0.7555 - val_loss: 0.4127 - val_accuracy: 0.8125 - val_precision: 0.7778 - val_recall: 0.7660\n",
      "Epoch 37/60\n"
     ]
    },
    {
     "name": "stdout",
     "output_type": "stream",
     "text": [
      "64/64 [==============================] - 0s 2ms/step - loss: 0.3935 - accuracy: 0.8344 - precision: 0.8142 - recall: 0.7689 - val_loss: 0.4134 - val_accuracy: 0.8125 - val_precision: 0.7778 - val_recall: 0.7660\n",
      "Epoch 38/60\n",
      "64/64 [==============================] - 0s 2ms/step - loss: 0.3865 - accuracy: 0.8305 - precision: 0.8104 - recall: 0.7622 - val_loss: 0.4205 - val_accuracy: 0.8062 - val_precision: 0.8079 - val_recall: 0.6981\n",
      "Epoch 39/60\n",
      "64/64 [==============================] - 0s 2ms/step - loss: 0.3888 - accuracy: 0.8336 - precision: 0.8101 - recall: 0.7728 - val_loss: 0.4071 - val_accuracy: 0.8156 - val_precision: 0.7838 - val_recall: 0.7660\n",
      "Epoch 40/60\n",
      "64/64 [==============================] - 0s 2ms/step - loss: 0.3905 - accuracy: 0.8309 - precision: 0.8112 - recall: 0.7622 - val_loss: 0.4075 - val_accuracy: 0.8188 - val_precision: 0.8091 - val_recall: 0.7358\n",
      "Epoch 41/60\n",
      "64/64 [==============================] - 0s 2ms/step - loss: 0.3791 - accuracy: 0.8375 - precision: 0.8126 - recall: 0.7814 - val_loss: 0.4094 - val_accuracy: 0.8172 - val_precision: 0.8109 - val_recall: 0.7283\n",
      "Epoch 42/60\n",
      "64/64 [==============================] - 0s 2ms/step - loss: 0.3817 - accuracy: 0.8328 - precision: 0.8084 - recall: 0.7728 - val_loss: 0.4190 - val_accuracy: 0.8094 - val_precision: 0.8095 - val_recall: 0.7057\n",
      "Epoch 43/60\n",
      "64/64 [==============================] - 0s 2ms/step - loss: 0.3769 - accuracy: 0.8359 - precision: 0.8093 - recall: 0.7814 - val_loss: 0.4024 - val_accuracy: 0.8156 - val_precision: 0.7838 - val_recall: 0.7660\n",
      "Epoch 44/60\n",
      "64/64 [==============================] - 0s 2ms/step - loss: 0.3857 - accuracy: 0.8355 - precision: 0.8061 - recall: 0.7852 - val_loss: 0.4168 - val_accuracy: 0.8172 - val_precision: 0.7643 - val_recall: 0.8075\n",
      "Epoch 45/60\n",
      "64/64 [==============================] - 0s 2ms/step - loss: 0.3798 - accuracy: 0.8305 - precision: 0.8000 - recall: 0.7785 - val_loss: 0.4041 - val_accuracy: 0.8188 - val_precision: 0.7790 - val_recall: 0.7849\n",
      "Epoch 46/60\n",
      "64/64 [==============================] - 0s 3ms/step - loss: 0.3786 - accuracy: 0.8328 - precision: 0.8036 - recall: 0.7804 - val_loss: 0.4109 - val_accuracy: 0.8188 - val_precision: 0.8117 - val_recall: 0.7321\n",
      "Epoch 47/60\n",
      "64/64 [==============================] - 0s 2ms/step - loss: 0.3941 - accuracy: 0.8324 - precision: 0.8022 - recall: 0.7814 - val_loss: 0.4154 - val_accuracy: 0.8172 - val_precision: 0.7643 - val_recall: 0.8075\n",
      "Epoch 48/60\n",
      "64/64 [==============================] - 0s 2ms/step - loss: 0.3800 - accuracy: 0.8332 - precision: 0.8008 - recall: 0.7862 - val_loss: 0.4189 - val_accuracy: 0.8219 - val_precision: 0.7649 - val_recall: 0.8226\n",
      "Epoch 49/60\n",
      "64/64 [==============================] - 0s 2ms/step - loss: 0.3869 - accuracy: 0.8398 - precision: 0.8070 - recall: 0.7977 - val_loss: 0.4048 - val_accuracy: 0.8188 - val_precision: 0.7709 - val_recall: 0.8000\n",
      "Epoch 50/60\n",
      "64/64 [==============================] - 0s 2ms/step - loss: 0.3757 - accuracy: 0.8344 - precision: 0.8037 - recall: 0.7852 - val_loss: 0.3987 - val_accuracy: 0.8156 - val_precision: 0.7838 - val_recall: 0.7660\n",
      "Epoch 51/60\n",
      "64/64 [==============================] - 0s 2ms/step - loss: 0.3827 - accuracy: 0.8355 - precision: 0.8043 - recall: 0.7881 - val_loss: 0.4203 - val_accuracy: 0.8125 - val_precision: 0.8085 - val_recall: 0.7170\n",
      "Epoch 52/60\n",
      "64/64 [==============================] - 0s 2ms/step - loss: 0.3786 - accuracy: 0.8395 - precision: 0.8080 - recall: 0.7948 - val_loss: 0.3962 - val_accuracy: 0.8125 - val_precision: 0.7778 - val_recall: 0.7660\n",
      "Epoch 53/60\n",
      "64/64 [==============================] - 0s 2ms/step - loss: 0.3777 - accuracy: 0.8367 - precision: 0.8008 - recall: 0.7977 - val_loss: 0.4095 - val_accuracy: 0.8203 - val_precision: 0.7641 - val_recall: 0.8189\n",
      "Epoch 54/60\n",
      "64/64 [==============================] - 0s 2ms/step - loss: 0.3732 - accuracy: 0.8391 - precision: 0.7996 - recall: 0.8073 - val_loss: 0.3951 - val_accuracy: 0.8156 - val_precision: 0.7795 - val_recall: 0.7736\n",
      "Epoch 55/60\n",
      "64/64 [==============================] - 0s 2ms/step - loss: 0.3729 - accuracy: 0.8391 - precision: 0.8042 - recall: 0.7996 - val_loss: 0.4024 - val_accuracy: 0.8172 - val_precision: 0.7643 - val_recall: 0.8075\n",
      "Epoch 56/60\n",
      "64/64 [==============================] - 0s 2ms/step - loss: 0.3756 - accuracy: 0.8379 - precision: 0.7996 - recall: 0.8035 - val_loss: 0.3978 - val_accuracy: 0.8188 - val_precision: 0.7709 - val_recall: 0.8000\n",
      "Epoch 57/60\n",
      "64/64 [==============================] - 0s 2ms/step - loss: 0.3736 - accuracy: 0.8363 - precision: 0.7994 - recall: 0.7987 - val_loss: 0.4106 - val_accuracy: 0.8172 - val_precision: 0.8033 - val_recall: 0.7396\n",
      "Epoch 58/60\n",
      "64/64 [==============================] - 0s 2ms/step - loss: 0.3698 - accuracy: 0.8391 - precision: 0.8019 - recall: 0.8035 - val_loss: 0.4291 - val_accuracy: 0.8250 - val_precision: 0.7508 - val_recall: 0.8642\n",
      "Epoch 59/60\n",
      "64/64 [==============================] - 0s 3ms/step - loss: 0.3727 - accuracy: 0.8379 - precision: 0.7996 - recall: 0.8035 - val_loss: 0.4383 - val_accuracy: 0.8313 - val_precision: 0.7540 - val_recall: 0.8792\n",
      "Epoch 60/60\n",
      "64/64 [==============================] - 0s 3ms/step - loss: 0.4017 - accuracy: 0.8293 - precision: 0.7858 - recall: 0.7987 - val_loss: 0.4329 - val_accuracy: 0.8109 - val_precision: 0.8077 - val_recall: 0.7132\n",
      "20/20 [==============================] - 0s 1ms/step\n"
     ]
    },
    {
     "name": "stderr",
     "output_type": "stream",
     "text": [
      "WARNING:absl:Found untraced functions such as _update_step_xla while saving (showing 1 of 1). These functions will not be directly callable after loading.\n"
     ]
    },
    {
     "name": "stdout",
     "output_type": "stream",
     "text": [
      "INFO:tensorflow:Assets written to: C:\\Users\\jmbar\\AppData\\Local\\Temp\\tmpydc1moca\\assets\n"
     ]
    },
    {
     "name": "stderr",
     "output_type": "stream",
     "text": [
      "INFO:tensorflow:Assets written to: C:\\Users\\jmbar\\AppData\\Local\\Temp\\tmpydc1moca\\assets\n"
     ]
    },
    {
     "name": "stdout",
     "output_type": "stream",
     "text": [
      "Epoch 1/60\n",
      "64/64 [==============================] - 1s 6ms/step - loss: 0.6779 - accuracy: 0.5980 - precision: 0.0000e+00 - recall: 0.0000e+00 - val_loss: 0.6806 - val_accuracy: 0.5813 - val_precision: 0.0000e+00 - val_recall: 0.0000e+00\n",
      "Epoch 2/60\n",
      "64/64 [==============================] - 0s 2ms/step - loss: 0.6743 - accuracy: 0.5980 - precision: 0.0000e+00 - recall: 0.0000e+00 - val_loss: 0.6796 - val_accuracy: 0.5813 - val_precision: 0.0000e+00 - val_recall: 0.0000e+00\n",
      "Epoch 3/60\n",
      "64/64 [==============================] - 0s 3ms/step - loss: 0.6749 - accuracy: 0.5980 - precision: 0.0000e+00 - recall: 0.0000e+00 - val_loss: 0.6836 - val_accuracy: 0.5813 - val_precision: 0.0000e+00 - val_recall: 0.0000e+00\n",
      "Epoch 4/60\n",
      "64/64 [==============================] - 0s 2ms/step - loss: 0.6746 - accuracy: 0.5980 - precision: 0.0000e+00 - recall: 0.0000e+00 - val_loss: 0.6798 - val_accuracy: 0.5813 - val_precision: 0.0000e+00 - val_recall: 0.0000e+00\n",
      "Epoch 5/60\n",
      "64/64 [==============================] - 0s 2ms/step - loss: 0.6740 - accuracy: 0.6000 - precision: 1.0000 - recall: 0.0049 - val_loss: 0.6816 - val_accuracy: 0.5813 - val_precision: 0.0000e+00 - val_recall: 0.0000e+00\n",
      "Epoch 6/60\n",
      "64/64 [==============================] - 0s 2ms/step - loss: 0.6702 - accuracy: 0.6027 - precision: 1.0000 - recall: 0.0117 - val_loss: 0.6835 - val_accuracy: 0.5828 - val_precision: 1.0000 - val_recall: 0.0037\n",
      "Epoch 7/60\n",
      "64/64 [==============================] - 0s 2ms/step - loss: 0.6651 - accuracy: 0.6105 - precision: 0.9706 - recall: 0.0321 - val_loss: 0.6680 - val_accuracy: 0.5891 - val_precision: 1.0000 - val_recall: 0.0187\n",
      "Epoch 8/60\n",
      "64/64 [==============================] - 0s 3ms/step - loss: 0.6445 - accuracy: 0.6324 - precision: 0.9681 - recall: 0.0884 - val_loss: 0.6439 - val_accuracy: 0.6203 - val_precision: 1.0000 - val_recall: 0.0933\n",
      "Epoch 9/60\n",
      "64/64 [==============================] - 0s 2ms/step - loss: 0.6119 - accuracy: 0.6797 - precision: 0.9098 - recall: 0.2255 - val_loss: 0.6340 - val_accuracy: 0.6297 - val_precision: 1.0000 - val_recall: 0.1157\n",
      "Epoch 10/60\n",
      "64/64 [==============================] - 0s 2ms/step - loss: 0.5694 - accuracy: 0.7191 - precision: 0.9212 - recall: 0.3294 - val_loss: 0.5608 - val_accuracy: 0.7031 - val_precision: 0.8980 - val_recall: 0.3284\n",
      "Epoch 11/60\n",
      "64/64 [==============================] - 0s 3ms/step - loss: 0.5161 - accuracy: 0.7566 - precision: 0.9012 - recall: 0.4431 - val_loss: 0.5494 - val_accuracy: 0.7078 - val_precision: 0.9010 - val_recall: 0.3396\n",
      "Epoch 12/60\n",
      "64/64 [==============================] - 0s 2ms/step - loss: 0.4941 - accuracy: 0.7641 - precision: 0.8167 - recall: 0.5326 - val_loss: 0.5028 - val_accuracy: 0.7797 - val_precision: 0.8191 - val_recall: 0.6082\n",
      "Epoch 13/60\n",
      "64/64 [==============================] - 0s 2ms/step - loss: 0.4726 - accuracy: 0.7984 - precision: 0.8712 - recall: 0.5850 - val_loss: 0.4967 - val_accuracy: 0.7437 - val_precision: 0.8611 - val_recall: 0.4627\n",
      "Epoch 14/60\n",
      "64/64 [==============================] - 0s 2ms/step - loss: 0.4554 - accuracy: 0.8020 - precision: 0.8645 - recall: 0.6016 - val_loss: 0.5476 - val_accuracy: 0.8344 - val_precision: 0.7580 - val_recall: 0.8881\n",
      "Epoch 15/60\n",
      "64/64 [==============================] - 0s 2ms/step - loss: 0.4640 - accuracy: 0.8113 - precision: 0.8500 - recall: 0.6443 - val_loss: 0.4675 - val_accuracy: 0.7734 - val_precision: 0.8361 - val_recall: 0.5709\n",
      "Epoch 16/60\n",
      "64/64 [==============================] - 0s 2ms/step - loss: 0.4292 - accuracy: 0.8113 - precision: 0.8564 - recall: 0.6375 - val_loss: 0.4585 - val_accuracy: 0.7750 - val_precision: 0.8163 - val_recall: 0.5970\n",
      "Epoch 17/60\n",
      "64/64 [==============================] - 0s 2ms/step - loss: 0.4244 - accuracy: 0.8121 - precision: 0.8425 - recall: 0.6550 - val_loss: 0.4556 - val_accuracy: 0.7937 - val_precision: 0.8063 - val_recall: 0.6679\n",
      "Epoch 18/60\n",
      "64/64 [==============================] - 0s 2ms/step - loss: 0.4384 - accuracy: 0.8129 - precision: 0.8337 - recall: 0.6676 - val_loss: 0.4672 - val_accuracy: 0.8141 - val_precision: 0.7876 - val_recall: 0.7612\n",
      "Epoch 19/60\n",
      "64/64 [==============================] - 0s 2ms/step - loss: 0.4183 - accuracy: 0.8188 - precision: 0.8367 - recall: 0.6822 - val_loss: 0.4475 - val_accuracy: 0.7828 - val_precision: 0.8177 - val_recall: 0.6194\n",
      "Epoch 20/60\n",
      "64/64 [==============================] - 0s 2ms/step - loss: 0.4236 - accuracy: 0.8152 - precision: 0.8203 - recall: 0.6919 - val_loss: 0.4438 - val_accuracy: 0.7797 - val_precision: 0.8068 - val_recall: 0.6231\n",
      "Epoch 21/60\n",
      "64/64 [==============================] - 0s 2ms/step - loss: 0.4091 - accuracy: 0.8227 - precision: 0.8386 - recall: 0.6919 - val_loss: 0.4411 - val_accuracy: 0.8047 - val_precision: 0.8122 - val_recall: 0.6940\n",
      "Epoch 22/60\n",
      "64/64 [==============================] - 0s 2ms/step - loss: 0.4067 - accuracy: 0.8195 - precision: 0.8300 - recall: 0.6929 - val_loss: 0.4370 - val_accuracy: 0.7984 - val_precision: 0.8089 - val_recall: 0.6791\n",
      "Epoch 23/60\n",
      "64/64 [==============================] - 0s 2ms/step - loss: 0.4105 - accuracy: 0.8223 - precision: 0.8269 - recall: 0.7055 - val_loss: 0.4483 - val_accuracy: 0.7766 - val_precision: 0.8173 - val_recall: 0.6007\n",
      "Epoch 24/60\n",
      "64/64 [==============================] - 0s 2ms/step - loss: 0.4164 - accuracy: 0.8305 - precision: 0.8362 - recall: 0.7191 - val_loss: 0.4461 - val_accuracy: 0.7812 - val_precision: 0.8200 - val_recall: 0.6119\n",
      "Epoch 25/60\n",
      "64/64 [==============================] - 0s 2ms/step - loss: 0.3999 - accuracy: 0.8270 - precision: 0.8285 - recall: 0.7182 - val_loss: 0.4500 - val_accuracy: 0.7766 - val_precision: 0.8173 - val_recall: 0.6007\n",
      "Epoch 26/60\n",
      "64/64 [==============================] - 0s 2ms/step - loss: 0.4015 - accuracy: 0.8266 - precision: 0.8254 - recall: 0.7211 - val_loss: 0.4281 - val_accuracy: 0.8047 - val_precision: 0.8122 - val_recall: 0.6940\n",
      "Epoch 27/60\n",
      "64/64 [==============================] - 0s 2ms/step - loss: 0.4007 - accuracy: 0.8316 - precision: 0.8293 - recall: 0.7318 - val_loss: 0.4260 - val_accuracy: 0.8078 - val_precision: 0.8112 - val_recall: 0.7052\n",
      "Epoch 28/60\n",
      "64/64 [==============================] - 0s 2ms/step - loss: 0.3922 - accuracy: 0.8328 - precision: 0.8277 - recall: 0.7376 - val_loss: 0.4387 - val_accuracy: 0.7812 - val_precision: 0.8077 - val_recall: 0.6269\n",
      "Epoch 29/60\n",
      "64/64 [==============================] - 0s 2ms/step - loss: 0.4006 - accuracy: 0.8266 - precision: 0.8204 - recall: 0.7279 - val_loss: 0.4669 - val_accuracy: 0.7734 - val_precision: 0.8154 - val_recall: 0.5933\n",
      "Epoch 30/60\n",
      "64/64 [==============================] - 0s 2ms/step - loss: 0.3971 - accuracy: 0.8305 - precision: 0.8266 - recall: 0.7318 - val_loss: 0.4209 - val_accuracy: 0.8094 - val_precision: 0.8067 - val_recall: 0.7164\n",
      "Epoch 31/60\n",
      "64/64 [==============================] - 0s 2ms/step - loss: 0.3929 - accuracy: 0.8313 - precision: 0.8206 - recall: 0.7425 - val_loss: 0.4222 - val_accuracy: 0.8156 - val_precision: 0.7907 - val_recall: 0.7612\n",
      "Epoch 32/60\n",
      "64/64 [==============================] - 0s 2ms/step - loss: 0.3901 - accuracy: 0.8316 - precision: 0.8161 - recall: 0.7502 - val_loss: 0.4513 - val_accuracy: 0.7828 - val_precision: 0.8177 - val_recall: 0.6194\n",
      "Epoch 33/60\n",
      "64/64 [==============================] - 0s 2ms/step - loss: 0.4012 - accuracy: 0.8313 - precision: 0.8179 - recall: 0.7464 - val_loss: 0.4257 - val_accuracy: 0.8188 - val_precision: 0.7857 - val_recall: 0.7799\n",
      "Epoch 34/60\n",
      "64/64 [==============================] - 0s 2ms/step - loss: 0.3897 - accuracy: 0.8316 - precision: 0.8194 - recall: 0.7454 - val_loss: 0.4731 - val_accuracy: 0.7734 - val_precision: 0.8154 - val_recall: 0.5933\n",
      "Epoch 35/60\n",
      "64/64 [==============================] - 0s 2ms/step - loss: 0.3982 - accuracy: 0.8266 - precision: 0.8142 - recall: 0.7366 - val_loss: 0.4293 - val_accuracy: 0.8234 - val_precision: 0.7818 - val_recall: 0.8022\n",
      "Epoch 36/60\n",
      "64/64 [==============================] - 0s 2ms/step - loss: 0.3865 - accuracy: 0.8340 - precision: 0.8152 - recall: 0.7590 - val_loss: 0.4130 - val_accuracy: 0.8109 - val_precision: 0.7976 - val_recall: 0.7351\n",
      "Epoch 37/60\n"
     ]
    },
    {
     "name": "stdout",
     "output_type": "stream",
     "text": [
      "64/64 [==============================] - 0s 2ms/step - loss: 0.3841 - accuracy: 0.8297 - precision: 0.8092 - recall: 0.7541 - val_loss: 0.4919 - val_accuracy: 0.7734 - val_precision: 0.8154 - val_recall: 0.5933\n",
      "Epoch 38/60\n",
      "64/64 [==============================] - 0s 2ms/step - loss: 0.3890 - accuracy: 0.8316 - precision: 0.8128 - recall: 0.7551 - val_loss: 0.4551 - val_accuracy: 0.7812 - val_precision: 0.8107 - val_recall: 0.6231\n",
      "Epoch 39/60\n",
      "64/64 [==============================] - 0s 2ms/step - loss: 0.3855 - accuracy: 0.8297 - precision: 0.8060 - recall: 0.7590 - val_loss: 0.4149 - val_accuracy: 0.8109 - val_precision: 0.8155 - val_recall: 0.7090\n",
      "Epoch 40/60\n",
      "64/64 [==============================] - 0s 2ms/step - loss: 0.3785 - accuracy: 0.8348 - precision: 0.8124 - recall: 0.7658 - val_loss: 0.4091 - val_accuracy: 0.8141 - val_precision: 0.7992 - val_recall: 0.7425\n",
      "Epoch 41/60\n",
      "64/64 [==============================] - 0s 2ms/step - loss: 0.3969 - accuracy: 0.8375 - precision: 0.8176 - recall: 0.7668 - val_loss: 0.4086 - val_accuracy: 0.8125 - val_precision: 0.7846 - val_recall: 0.7612\n",
      "Epoch 42/60\n",
      "64/64 [==============================] - 0s 2ms/step - loss: 0.3877 - accuracy: 0.8328 - precision: 0.8120 - recall: 0.7600 - val_loss: 0.4368 - val_accuracy: 0.8266 - val_precision: 0.7698 - val_recall: 0.8358\n",
      "Epoch 43/60\n",
      "64/64 [==============================] - 0s 2ms/step - loss: 0.3895 - accuracy: 0.8328 - precision: 0.8095 - recall: 0.7638 - val_loss: 0.4070 - val_accuracy: 0.8141 - val_precision: 0.7854 - val_recall: 0.7649\n",
      "Epoch 44/60\n",
      "64/64 [==============================] - 0s 3ms/step - loss: 0.3875 - accuracy: 0.8328 - precision: 0.8101 - recall: 0.7629 - val_loss: 0.4139 - val_accuracy: 0.8234 - val_precision: 0.7818 - val_recall: 0.8022\n",
      "Epoch 45/60\n",
      "64/64 [==============================] - 0s 2ms/step - loss: 0.3843 - accuracy: 0.8328 - precision: 0.8032 - recall: 0.7736 - val_loss: 0.4135 - val_accuracy: 0.8094 - val_precision: 0.8120 - val_recall: 0.7090\n",
      "Epoch 46/60\n",
      "64/64 [==============================] - 0s 2ms/step - loss: 0.3770 - accuracy: 0.8402 - precision: 0.8170 - recall: 0.7765 - val_loss: 0.4073 - val_accuracy: 0.8125 - val_precision: 0.8033 - val_recall: 0.7313\n",
      "Epoch 47/60\n",
      "64/64 [==============================] - 0s 2ms/step - loss: 0.3739 - accuracy: 0.8336 - precision: 0.8030 - recall: 0.7765 - val_loss: 0.4441 - val_accuracy: 0.7937 - val_precision: 0.8091 - val_recall: 0.6642\n",
      "Epoch 48/60\n",
      "64/64 [==============================] - 0s 2ms/step - loss: 0.3719 - accuracy: 0.8359 - precision: 0.8079 - recall: 0.7765 - val_loss: 0.4023 - val_accuracy: 0.8156 - val_precision: 0.7907 - val_recall: 0.7612\n",
      "Epoch 49/60\n",
      "64/64 [==============================] - 0s 2ms/step - loss: 0.3739 - accuracy: 0.8363 - precision: 0.8020 - recall: 0.7872 - val_loss: 0.4517 - val_accuracy: 0.7953 - val_precision: 0.8157 - val_recall: 0.6604\n",
      "Epoch 50/60\n",
      "64/64 [==============================] - 0s 3ms/step - loss: 0.3834 - accuracy: 0.8324 - precision: 0.7953 - recall: 0.7852 - val_loss: 0.4009 - val_accuracy: 0.8172 - val_precision: 0.7849 - val_recall: 0.7761\n",
      "Epoch 51/60\n",
      "64/64 [==============================] - 0s 2ms/step - loss: 0.3840 - accuracy: 0.8336 - precision: 0.8049 - recall: 0.7736 - val_loss: 0.4003 - val_accuracy: 0.8172 - val_precision: 0.7849 - val_recall: 0.7761\n",
      "Epoch 52/60\n",
      "64/64 [==============================] - 0s 2ms/step - loss: 0.3771 - accuracy: 0.8395 - precision: 0.8072 - recall: 0.7891 - val_loss: 0.4006 - val_accuracy: 0.8203 - val_precision: 0.7865 - val_recall: 0.7836\n",
      "Epoch 53/60\n",
      "64/64 [==============================] - 0s 2ms/step - loss: 0.3718 - accuracy: 0.8383 - precision: 0.8042 - recall: 0.7901 - val_loss: 0.4006 - val_accuracy: 0.8156 - val_precision: 0.7907 - val_recall: 0.7612\n",
      "Epoch 54/60\n",
      "64/64 [==============================] - 0s 2ms/step - loss: 0.3741 - accuracy: 0.8352 - precision: 0.8002 - recall: 0.7862 - val_loss: 0.3984 - val_accuracy: 0.8125 - val_precision: 0.7846 - val_recall: 0.7612\n",
      "Epoch 55/60\n",
      "64/64 [==============================] - 0s 2ms/step - loss: 0.3728 - accuracy: 0.8406 - precision: 0.8071 - recall: 0.7930 - val_loss: 0.3995 - val_accuracy: 0.8156 - val_precision: 0.7907 - val_recall: 0.7612\n",
      "Epoch 56/60\n",
      "64/64 [==============================] - 0s 2ms/step - loss: 0.3738 - accuracy: 0.8375 - precision: 0.8044 - recall: 0.7872 - val_loss: 0.4005 - val_accuracy: 0.8156 - val_precision: 0.7907 - val_recall: 0.7612\n",
      "Epoch 57/60\n",
      "64/64 [==============================] - 0s 2ms/step - loss: 0.3692 - accuracy: 0.8402 - precision: 0.8010 - recall: 0.8017 - val_loss: 0.4074 - val_accuracy: 0.8266 - val_precision: 0.7754 - val_recall: 0.8246\n",
      "Epoch 58/60\n",
      "64/64 [==============================] - 0s 2ms/step - loss: 0.3813 - accuracy: 0.8344 - precision: 0.7957 - recall: 0.7911 - val_loss: 0.4341 - val_accuracy: 0.8328 - val_precision: 0.7639 - val_recall: 0.8694\n",
      "Epoch 59/60\n",
      "64/64 [==============================] - 0s 3ms/step - loss: 0.3745 - accuracy: 0.8375 - precision: 0.7973 - recall: 0.7988 - val_loss: 0.3953 - val_accuracy: 0.8203 - val_precision: 0.7865 - val_recall: 0.7836\n",
      "Epoch 60/60\n",
      "64/64 [==============================] - 0s 2ms/step - loss: 0.3788 - accuracy: 0.8363 - precision: 0.7944 - recall: 0.7998 - val_loss: 0.4090 - val_accuracy: 0.8156 - val_precision: 0.8099 - val_recall: 0.7313\n",
      "20/20 [==============================] - 0s 1ms/step\n"
     ]
    },
    {
     "name": "stderr",
     "output_type": "stream",
     "text": [
      "WARNING:absl:Found untraced functions such as _update_step_xla while saving (showing 1 of 1). These functions will not be directly callable after loading.\n"
     ]
    },
    {
     "name": "stdout",
     "output_type": "stream",
     "text": [
      "WARNING:tensorflow:Detecting that an object or model or tf.train.Checkpoint is being deleted with unrestored values. See the following logs for the specific values in question. To silence these warnings, use `status.expect_partial()`. See https://www.tensorflow.org/api_docs/python/tf/train/Checkpoint#restorefor details about the status object returned by the restore function.\n"
     ]
    },
    {
     "name": "stderr",
     "output_type": "stream",
     "text": [
      "WARNING:tensorflow:Detecting that an object or model or tf.train.Checkpoint is being deleted with unrestored values. See the following logs for the specific values in question. To silence these warnings, use `status.expect_partial()`. See https://www.tensorflow.org/api_docs/python/tf/train/Checkpoint#restorefor details about the status object returned by the restore function.\n"
     ]
    },
    {
     "name": "stdout",
     "output_type": "stream",
     "text": [
      "WARNING:tensorflow:Value in checkpoint could not be found in the restored object: (root).keras_api.metrics.0.total\n"
     ]
    },
    {
     "name": "stderr",
     "output_type": "stream",
     "text": [
      "WARNING:tensorflow:Value in checkpoint could not be found in the restored object: (root).keras_api.metrics.0.total\n"
     ]
    },
    {
     "name": "stdout",
     "output_type": "stream",
     "text": [
      "WARNING:tensorflow:Value in checkpoint could not be found in the restored object: (root).keras_api.metrics.0.count\n"
     ]
    },
    {
     "name": "stderr",
     "output_type": "stream",
     "text": [
      "WARNING:tensorflow:Value in checkpoint could not be found in the restored object: (root).keras_api.metrics.0.count\n"
     ]
    },
    {
     "name": "stdout",
     "output_type": "stream",
     "text": [
      "WARNING:tensorflow:Value in checkpoint could not be found in the restored object: (root).keras_api.metrics.1.total\n"
     ]
    },
    {
     "name": "stderr",
     "output_type": "stream",
     "text": [
      "WARNING:tensorflow:Value in checkpoint could not be found in the restored object: (root).keras_api.metrics.1.total\n"
     ]
    },
    {
     "name": "stdout",
     "output_type": "stream",
     "text": [
      "WARNING:tensorflow:Value in checkpoint could not be found in the restored object: (root).keras_api.metrics.1.count\n"
     ]
    },
    {
     "name": "stderr",
     "output_type": "stream",
     "text": [
      "WARNING:tensorflow:Value in checkpoint could not be found in the restored object: (root).keras_api.metrics.1.count\n"
     ]
    },
    {
     "name": "stdout",
     "output_type": "stream",
     "text": [
      "WARNING:tensorflow:Value in checkpoint could not be found in the restored object: (root).keras_api.metrics.2.true_positives\n"
     ]
    },
    {
     "name": "stderr",
     "output_type": "stream",
     "text": [
      "WARNING:tensorflow:Value in checkpoint could not be found in the restored object: (root).keras_api.metrics.2.true_positives\n"
     ]
    },
    {
     "name": "stdout",
     "output_type": "stream",
     "text": [
      "WARNING:tensorflow:Value in checkpoint could not be found in the restored object: (root).keras_api.metrics.2.false_positives\n"
     ]
    },
    {
     "name": "stderr",
     "output_type": "stream",
     "text": [
      "WARNING:tensorflow:Value in checkpoint could not be found in the restored object: (root).keras_api.metrics.2.false_positives\n"
     ]
    },
    {
     "name": "stdout",
     "output_type": "stream",
     "text": [
      "WARNING:tensorflow:Value in checkpoint could not be found in the restored object: (root).keras_api.metrics.3.true_positives\n"
     ]
    },
    {
     "name": "stderr",
     "output_type": "stream",
     "text": [
      "WARNING:tensorflow:Value in checkpoint could not be found in the restored object: (root).keras_api.metrics.3.true_positives\n"
     ]
    },
    {
     "name": "stdout",
     "output_type": "stream",
     "text": [
      "WARNING:tensorflow:Value in checkpoint could not be found in the restored object: (root).keras_api.metrics.3.false_negatives\n"
     ]
    },
    {
     "name": "stderr",
     "output_type": "stream",
     "text": [
      "WARNING:tensorflow:Value in checkpoint could not be found in the restored object: (root).keras_api.metrics.3.false_negatives\n"
     ]
    },
    {
     "name": "stdout",
     "output_type": "stream",
     "text": [
      "WARNING:tensorflow:Detecting that an object or model or tf.train.Checkpoint is being deleted with unrestored values. See the following logs for the specific values in question. To silence these warnings, use `status.expect_partial()`. See https://www.tensorflow.org/api_docs/python/tf/train/Checkpoint#restorefor details about the status object returned by the restore function.\n"
     ]
    },
    {
     "name": "stderr",
     "output_type": "stream",
     "text": [
      "WARNING:tensorflow:Detecting that an object or model or tf.train.Checkpoint is being deleted with unrestored values. See the following logs for the specific values in question. To silence these warnings, use `status.expect_partial()`. See https://www.tensorflow.org/api_docs/python/tf/train/Checkpoint#restorefor details about the status object returned by the restore function.\n"
     ]
    },
    {
     "name": "stdout",
     "output_type": "stream",
     "text": [
      "WARNING:tensorflow:Value in checkpoint could not be found in the restored object: (root).keras_api.metrics.0.total\n"
     ]
    },
    {
     "name": "stderr",
     "output_type": "stream",
     "text": [
      "WARNING:tensorflow:Value in checkpoint could not be found in the restored object: (root).keras_api.metrics.0.total\n"
     ]
    },
    {
     "name": "stdout",
     "output_type": "stream",
     "text": [
      "WARNING:tensorflow:Value in checkpoint could not be found in the restored object: (root).keras_api.metrics.0.count\n"
     ]
    },
    {
     "name": "stderr",
     "output_type": "stream",
     "text": [
      "WARNING:tensorflow:Value in checkpoint could not be found in the restored object: (root).keras_api.metrics.0.count\n"
     ]
    },
    {
     "name": "stdout",
     "output_type": "stream",
     "text": [
      "WARNING:tensorflow:Value in checkpoint could not be found in the restored object: (root).keras_api.metrics.1.total\n"
     ]
    },
    {
     "name": "stderr",
     "output_type": "stream",
     "text": [
      "WARNING:tensorflow:Value in checkpoint could not be found in the restored object: (root).keras_api.metrics.1.total\n"
     ]
    },
    {
     "name": "stdout",
     "output_type": "stream",
     "text": [
      "WARNING:tensorflow:Value in checkpoint could not be found in the restored object: (root).keras_api.metrics.1.count\n"
     ]
    },
    {
     "name": "stderr",
     "output_type": "stream",
     "text": [
      "WARNING:tensorflow:Value in checkpoint could not be found in the restored object: (root).keras_api.metrics.1.count\n"
     ]
    },
    {
     "name": "stdout",
     "output_type": "stream",
     "text": [
      "WARNING:tensorflow:Value in checkpoint could not be found in the restored object: (root).keras_api.metrics.2.true_positives\n"
     ]
    },
    {
     "name": "stderr",
     "output_type": "stream",
     "text": [
      "WARNING:tensorflow:Value in checkpoint could not be found in the restored object: (root).keras_api.metrics.2.true_positives\n"
     ]
    },
    {
     "name": "stdout",
     "output_type": "stream",
     "text": [
      "WARNING:tensorflow:Value in checkpoint could not be found in the restored object: (root).keras_api.metrics.2.false_positives\n"
     ]
    },
    {
     "name": "stderr",
     "output_type": "stream",
     "text": [
      "WARNING:tensorflow:Value in checkpoint could not be found in the restored object: (root).keras_api.metrics.2.false_positives\n"
     ]
    },
    {
     "name": "stdout",
     "output_type": "stream",
     "text": [
      "WARNING:tensorflow:Value in checkpoint could not be found in the restored object: (root).keras_api.metrics.3.true_positives\n"
     ]
    },
    {
     "name": "stderr",
     "output_type": "stream",
     "text": [
      "WARNING:tensorflow:Value in checkpoint could not be found in the restored object: (root).keras_api.metrics.3.true_positives\n"
     ]
    },
    {
     "name": "stdout",
     "output_type": "stream",
     "text": [
      "WARNING:tensorflow:Value in checkpoint could not be found in the restored object: (root).keras_api.metrics.3.false_negatives\n"
     ]
    },
    {
     "name": "stderr",
     "output_type": "stream",
     "text": [
      "WARNING:tensorflow:Value in checkpoint could not be found in the restored object: (root).keras_api.metrics.3.false_negatives\n"
     ]
    },
    {
     "name": "stdout",
     "output_type": "stream",
     "text": [
      "WARNING:tensorflow:Detecting that an object or model or tf.train.Checkpoint is being deleted with unrestored values. See the following logs for the specific values in question. To silence these warnings, use `status.expect_partial()`. See https://www.tensorflow.org/api_docs/python/tf/train/Checkpoint#restorefor details about the status object returned by the restore function.\n"
     ]
    },
    {
     "name": "stderr",
     "output_type": "stream",
     "text": [
      "WARNING:tensorflow:Detecting that an object or model or tf.train.Checkpoint is being deleted with unrestored values. See the following logs for the specific values in question. To silence these warnings, use `status.expect_partial()`. See https://www.tensorflow.org/api_docs/python/tf/train/Checkpoint#restorefor details about the status object returned by the restore function.\n"
     ]
    },
    {
     "name": "stdout",
     "output_type": "stream",
     "text": [
      "WARNING:tensorflow:Value in checkpoint could not be found in the restored object: (root).keras_api.metrics.0.total\n"
     ]
    },
    {
     "name": "stderr",
     "output_type": "stream",
     "text": [
      "WARNING:tensorflow:Value in checkpoint could not be found in the restored object: (root).keras_api.metrics.0.total\n"
     ]
    },
    {
     "name": "stdout",
     "output_type": "stream",
     "text": [
      "WARNING:tensorflow:Value in checkpoint could not be found in the restored object: (root).keras_api.metrics.0.count\n"
     ]
    },
    {
     "name": "stderr",
     "output_type": "stream",
     "text": [
      "WARNING:tensorflow:Value in checkpoint could not be found in the restored object: (root).keras_api.metrics.0.count\n"
     ]
    },
    {
     "name": "stdout",
     "output_type": "stream",
     "text": [
      "WARNING:tensorflow:Value in checkpoint could not be found in the restored object: (root).keras_api.metrics.1.total\n"
     ]
    },
    {
     "name": "stderr",
     "output_type": "stream",
     "text": [
      "WARNING:tensorflow:Value in checkpoint could not be found in the restored object: (root).keras_api.metrics.1.total\n"
     ]
    },
    {
     "name": "stdout",
     "output_type": "stream",
     "text": [
      "WARNING:tensorflow:Value in checkpoint could not be found in the restored object: (root).keras_api.metrics.1.count\n"
     ]
    },
    {
     "name": "stderr",
     "output_type": "stream",
     "text": [
      "WARNING:tensorflow:Value in checkpoint could not be found in the restored object: (root).keras_api.metrics.1.count\n"
     ]
    },
    {
     "name": "stdout",
     "output_type": "stream",
     "text": [
      "WARNING:tensorflow:Value in checkpoint could not be found in the restored object: (root).keras_api.metrics.2.true_positives\n"
     ]
    },
    {
     "name": "stderr",
     "output_type": "stream",
     "text": [
      "WARNING:tensorflow:Value in checkpoint could not be found in the restored object: (root).keras_api.metrics.2.true_positives\n"
     ]
    },
    {
     "name": "stdout",
     "output_type": "stream",
     "text": [
      "WARNING:tensorflow:Value in checkpoint could not be found in the restored object: (root).keras_api.metrics.2.false_positives\n"
     ]
    },
    {
     "name": "stderr",
     "output_type": "stream",
     "text": [
      "WARNING:tensorflow:Value in checkpoint could not be found in the restored object: (root).keras_api.metrics.2.false_positives\n"
     ]
    },
    {
     "name": "stdout",
     "output_type": "stream",
     "text": [
      "WARNING:tensorflow:Value in checkpoint could not be found in the restored object: (root).keras_api.metrics.3.true_positives\n"
     ]
    },
    {
     "name": "stderr",
     "output_type": "stream",
     "text": [
      "WARNING:tensorflow:Value in checkpoint could not be found in the restored object: (root).keras_api.metrics.3.true_positives\n"
     ]
    },
    {
     "name": "stdout",
     "output_type": "stream",
     "text": [
      "WARNING:tensorflow:Value in checkpoint could not be found in the restored object: (root).keras_api.metrics.3.false_negatives\n"
     ]
    },
    {
     "name": "stderr",
     "output_type": "stream",
     "text": [
      "WARNING:tensorflow:Value in checkpoint could not be found in the restored object: (root).keras_api.metrics.3.false_negatives\n"
     ]
    },
    {
     "name": "stdout",
     "output_type": "stream",
     "text": [
      "WARNING:tensorflow:Detecting that an object or model or tf.train.Checkpoint is being deleted with unrestored values. See the following logs for the specific values in question. To silence these warnings, use `status.expect_partial()`. See https://www.tensorflow.org/api_docs/python/tf/train/Checkpoint#restorefor details about the status object returned by the restore function.\n"
     ]
    },
    {
     "name": "stderr",
     "output_type": "stream",
     "text": [
      "WARNING:tensorflow:Detecting that an object or model or tf.train.Checkpoint is being deleted with unrestored values. See the following logs for the specific values in question. To silence these warnings, use `status.expect_partial()`. See https://www.tensorflow.org/api_docs/python/tf/train/Checkpoint#restorefor details about the status object returned by the restore function.\n"
     ]
    },
    {
     "name": "stdout",
     "output_type": "stream",
     "text": [
      "WARNING:tensorflow:Value in checkpoint could not be found in the restored object: (root).keras_api.metrics.0.total\n"
     ]
    },
    {
     "name": "stderr",
     "output_type": "stream",
     "text": [
      "WARNING:tensorflow:Value in checkpoint could not be found in the restored object: (root).keras_api.metrics.0.total\n"
     ]
    },
    {
     "name": "stdout",
     "output_type": "stream",
     "text": [
      "WARNING:tensorflow:Value in checkpoint could not be found in the restored object: (root).keras_api.metrics.0.count\n"
     ]
    },
    {
     "name": "stderr",
     "output_type": "stream",
     "text": [
      "WARNING:tensorflow:Value in checkpoint could not be found in the restored object: (root).keras_api.metrics.0.count\n"
     ]
    },
    {
     "name": "stdout",
     "output_type": "stream",
     "text": [
      "WARNING:tensorflow:Value in checkpoint could not be found in the restored object: (root).keras_api.metrics.1.total\n"
     ]
    },
    {
     "name": "stderr",
     "output_type": "stream",
     "text": [
      "WARNING:tensorflow:Value in checkpoint could not be found in the restored object: (root).keras_api.metrics.1.total\n"
     ]
    },
    {
     "name": "stdout",
     "output_type": "stream",
     "text": [
      "WARNING:tensorflow:Value in checkpoint could not be found in the restored object: (root).keras_api.metrics.1.count\n"
     ]
    },
    {
     "name": "stderr",
     "output_type": "stream",
     "text": [
      "WARNING:tensorflow:Value in checkpoint could not be found in the restored object: (root).keras_api.metrics.1.count\n"
     ]
    },
    {
     "name": "stdout",
     "output_type": "stream",
     "text": [
      "WARNING:tensorflow:Value in checkpoint could not be found in the restored object: (root).keras_api.metrics.2.true_positives\n"
     ]
    },
    {
     "name": "stderr",
     "output_type": "stream",
     "text": [
      "WARNING:tensorflow:Value in checkpoint could not be found in the restored object: (root).keras_api.metrics.2.true_positives\n"
     ]
    },
    {
     "name": "stdout",
     "output_type": "stream",
     "text": [
      "WARNING:tensorflow:Value in checkpoint could not be found in the restored object: (root).keras_api.metrics.2.false_positives\n"
     ]
    },
    {
     "name": "stderr",
     "output_type": "stream",
     "text": [
      "WARNING:tensorflow:Value in checkpoint could not be found in the restored object: (root).keras_api.metrics.2.false_positives\n"
     ]
    },
    {
     "name": "stdout",
     "output_type": "stream",
     "text": [
      "WARNING:tensorflow:Value in checkpoint could not be found in the restored object: (root).keras_api.metrics.3.true_positives\n"
     ]
    },
    {
     "name": "stderr",
     "output_type": "stream",
     "text": [
      "WARNING:tensorflow:Value in checkpoint could not be found in the restored object: (root).keras_api.metrics.3.true_positives\n"
     ]
    },
    {
     "name": "stdout",
     "output_type": "stream",
     "text": [
      "WARNING:tensorflow:Value in checkpoint could not be found in the restored object: (root).keras_api.metrics.3.false_negatives\n"
     ]
    },
    {
     "name": "stderr",
     "output_type": "stream",
     "text": [
      "WARNING:tensorflow:Value in checkpoint could not be found in the restored object: (root).keras_api.metrics.3.false_negatives\n"
     ]
    },
    {
     "name": "stdout",
     "output_type": "stream",
     "text": [
      "INFO:tensorflow:Assets written to: C:\\Users\\jmbar\\AppData\\Local\\Temp\\tmpgw1upgsk\\assets\n"
     ]
    },
    {
     "name": "stderr",
     "output_type": "stream",
     "text": [
      "INFO:tensorflow:Assets written to: C:\\Users\\jmbar\\AppData\\Local\\Temp\\tmpgw1upgsk\\assets\n"
     ]
    },
    {
     "name": "stdout",
     "output_type": "stream",
     "text": [
      "Epoch 1/60\n",
      "64/64 [==============================] - 1s 6ms/step - loss: 0.6745 - accuracy: 0.5953 - precision: 0.3500 - recall: 0.0277 - val_loss: 0.6969 - val_accuracy: 0.5594 - val_precision: 0.0000e+00 - val_recall: 0.0000e+00\n",
      "Epoch 2/60\n",
      "64/64 [==============================] - 0s 2ms/step - loss: 0.6724 - accuracy: 0.6047 - precision: 0.0000e+00 - recall: 0.0000e+00 - val_loss: 0.6892 - val_accuracy: 0.5594 - val_precision: 0.0000e+00 - val_recall: 0.0000e+00\n",
      "Epoch 3/60\n",
      "64/64 [==============================] - 0s 2ms/step - loss: 0.6719 - accuracy: 0.6047 - precision: 0.0000e+00 - recall: 0.0000e+00 - val_loss: 0.6990 - val_accuracy: 0.5594 - val_precision: 0.0000e+00 - val_recall: 0.0000e+00\n",
      "Epoch 4/60\n",
      "64/64 [==============================] - 0s 2ms/step - loss: 0.6708 - accuracy: 0.6047 - precision: 0.0000e+00 - recall: 0.0000e+00 - val_loss: 0.6886 - val_accuracy: 0.5594 - val_precision: 0.0000e+00 - val_recall: 0.0000e+00\n",
      "Epoch 5/60\n",
      "64/64 [==============================] - 0s 3ms/step - loss: 0.6699 - accuracy: 0.6047 - precision: 0.0000e+00 - recall: 0.0000e+00 - val_loss: 0.6880 - val_accuracy: 0.5594 - val_precision: 0.0000e+00 - val_recall: 0.0000e+00\n",
      "Epoch 6/60\n",
      "64/64 [==============================] - 0s 4ms/step - loss: 0.6670 - accuracy: 0.6078 - precision: 1.0000 - recall: 0.0079 - val_loss: 0.6844 - val_accuracy: 0.5641 - val_precision: 1.0000 - val_recall: 0.0106\n",
      "Epoch 7/60\n",
      "64/64 [==============================] - 0s 3ms/step - loss: 0.6629 - accuracy: 0.6176 - precision: 0.9459 - recall: 0.0346 - val_loss: 0.6714 - val_accuracy: 0.5797 - val_precision: 0.9333 - val_recall: 0.0496\n",
      "Epoch 8/60\n",
      "64/64 [==============================] - 0s 2ms/step - loss: 0.6479 - accuracy: 0.6359 - precision: 0.9255 - recall: 0.0860 - val_loss: 0.6562 - val_accuracy: 0.5891 - val_precision: 0.8800 - val_recall: 0.0780\n",
      "Epoch 9/60\n",
      "64/64 [==============================] - 0s 2ms/step - loss: 0.6296 - accuracy: 0.6809 - precision: 0.8625 - recall: 0.2292 - val_loss: 0.6761 - val_accuracy: 0.5891 - val_precision: 0.8800 - val_recall: 0.0780\n",
      "Epoch 10/60\n",
      "64/64 [==============================] - 0s 2ms/step - loss: 0.5901 - accuracy: 0.6957 - precision: 0.8976 - recall: 0.2599 - val_loss: 0.6306 - val_accuracy: 0.6328 - val_precision: 0.8983 - val_recall: 0.1879\n",
      "Epoch 11/60\n",
      "64/64 [==============================] - 0s 2ms/step - loss: 0.5556 - accuracy: 0.7254 - precision: 0.8072 - recall: 0.4012 - val_loss: 0.6201 - val_accuracy: 0.6500 - val_precision: 0.8537 - val_recall: 0.2482\n",
      "Epoch 12/60\n",
      "64/64 [==============================] - 0s 2ms/step - loss: 0.5173 - accuracy: 0.7586 - precision: 0.8420 - recall: 0.4792 - val_loss: 0.6006 - val_accuracy: 0.6750 - val_precision: 0.8627 - val_recall: 0.3121\n",
      "Epoch 13/60\n",
      "64/64 [==============================] - 0s 2ms/step - loss: 0.4870 - accuracy: 0.7781 - precision: 0.8558 - recall: 0.5277 - val_loss: 0.5115 - val_accuracy: 0.7531 - val_precision: 0.8563 - val_recall: 0.5284\n",
      "Epoch 14/60\n",
      "64/64 [==============================] - 0s 2ms/step - loss: 0.4723 - accuracy: 0.7879 - precision: 0.8454 - recall: 0.5672 - val_loss: 0.5035 - val_accuracy: 0.7516 - val_precision: 0.8436 - val_recall: 0.5355\n",
      "Epoch 15/60\n",
      "64/64 [==============================] - 0s 2ms/step - loss: 0.4679 - accuracy: 0.7945 - precision: 0.8375 - recall: 0.5958 - val_loss: 0.5778 - val_accuracy: 0.7234 - val_precision: 0.8571 - val_recall: 0.4468\n",
      "Epoch 16/60\n",
      "64/64 [==============================] - 0s 2ms/step - loss: 0.4513 - accuracy: 0.8047 - precision: 0.8386 - recall: 0.6265 - val_loss: 0.4786 - val_accuracy: 0.7688 - val_precision: 0.8190 - val_recall: 0.6099\n",
      "Epoch 17/60\n",
      "64/64 [==============================] - 0s 2ms/step - loss: 0.4440 - accuracy: 0.8035 - precision: 0.8267 - recall: 0.6364 - val_loss: 0.4777 - val_accuracy: 0.7703 - val_precision: 0.8293 - val_recall: 0.6028\n",
      "Epoch 18/60\n",
      "64/64 [==============================] - 0s 2ms/step - loss: 0.4405 - accuracy: 0.8113 - precision: 0.8344 - recall: 0.6522 - val_loss: 0.4780 - val_accuracy: 0.7672 - val_precision: 0.8276 - val_recall: 0.5957\n",
      "Epoch 19/60\n",
      "64/64 [==============================] - 0s 2ms/step - loss: 0.4363 - accuracy: 0.8113 - precision: 0.8278 - recall: 0.6601 - val_loss: 0.4622 - val_accuracy: 0.7797 - val_precision: 0.8133 - val_recall: 0.6489\n",
      "Epoch 20/60\n",
      "64/64 [==============================] - 0s 2ms/step - loss: 0.4285 - accuracy: 0.8105 - precision: 0.8126 - recall: 0.6769 - val_loss: 0.4578 - val_accuracy: 0.7906 - val_precision: 0.8136 - val_recall: 0.6809\n",
      "Epoch 21/60\n",
      "64/64 [==============================] - 0s 2ms/step - loss: 0.4250 - accuracy: 0.8176 - precision: 0.8240 - recall: 0.6848 - val_loss: 0.4556 - val_accuracy: 0.7797 - val_precision: 0.8133 - val_recall: 0.6489\n",
      "Epoch 22/60\n",
      "64/64 [==============================] - 0s 2ms/step - loss: 0.4213 - accuracy: 0.8176 - precision: 0.8225 - recall: 0.6868 - val_loss: 0.4517 - val_accuracy: 0.8094 - val_precision: 0.8175 - val_recall: 0.7305\n",
      "Epoch 23/60\n",
      "64/64 [==============================] - 0s 2ms/step - loss: 0.4156 - accuracy: 0.8188 - precision: 0.8239 - recall: 0.6887 - val_loss: 0.4464 - val_accuracy: 0.8000 - val_precision: 0.8182 - val_recall: 0.7021\n",
      "Epoch 24/60\n",
      "64/64 [==============================] - 0s 2ms/step - loss: 0.4110 - accuracy: 0.8195 - precision: 0.8161 - recall: 0.7016 - val_loss: 0.4694 - val_accuracy: 0.7672 - val_precision: 0.8182 - val_recall: 0.6064\n",
      "Epoch 25/60\n",
      "64/64 [==============================] - 0s 2ms/step - loss: 0.4147 - accuracy: 0.8199 - precision: 0.8163 - recall: 0.7026 - val_loss: 0.4506 - val_accuracy: 0.8156 - val_precision: 0.7929 - val_recall: 0.7872\n",
      "Epoch 26/60\n",
      "64/64 [==============================] - 0s 2ms/step - loss: 0.4031 - accuracy: 0.8238 - precision: 0.8184 - recall: 0.7125 - val_loss: 0.4515 - val_accuracy: 0.7734 - val_precision: 0.8100 - val_recall: 0.6348\n",
      "Epoch 27/60\n",
      "64/64 [==============================] - 0s 2ms/step - loss: 0.4028 - accuracy: 0.8258 - precision: 0.8158 - recall: 0.7223 - val_loss: 0.4359 - val_accuracy: 0.8031 - val_precision: 0.8171 - val_recall: 0.7128\n",
      "Epoch 28/60\n",
      "64/64 [==============================] - 0s 2ms/step - loss: 0.4129 - accuracy: 0.8266 - precision: 0.8121 - recall: 0.7302 - val_loss: 0.4413 - val_accuracy: 0.7844 - val_precision: 0.8130 - val_recall: 0.6631\n",
      "Epoch 29/60\n",
      "64/64 [==============================] - 0s 2ms/step - loss: 0.3957 - accuracy: 0.8320 - precision: 0.8163 - recall: 0.7421 - val_loss: 0.4298 - val_accuracy: 0.8109 - val_precision: 0.8108 - val_recall: 0.7447\n",
      "Epoch 30/60\n",
      "64/64 [==============================] - 0s 2ms/step - loss: 0.3981 - accuracy: 0.8273 - precision: 0.8105 - recall: 0.7352 - val_loss: 0.4276 - val_accuracy: 0.8141 - val_precision: 0.8196 - val_recall: 0.7411\n",
      "Epoch 31/60\n",
      "64/64 [==============================] - 0s 2ms/step - loss: 0.3928 - accuracy: 0.8320 - precision: 0.8076 - recall: 0.7549 - val_loss: 0.4550 - val_accuracy: 0.7781 - val_precision: 0.8153 - val_recall: 0.6418\n",
      "Epoch 32/60\n",
      "64/64 [==============================] - 0s 2ms/step - loss: 0.4054 - accuracy: 0.8246 - precision: 0.8024 - recall: 0.7381 - val_loss: 0.4582 - val_accuracy: 0.7766 - val_precision: 0.8174 - val_recall: 0.6348\n",
      "Epoch 33/60\n",
      "64/64 [==============================] - 0s 2ms/step - loss: 0.3986 - accuracy: 0.8277 - precision: 0.8047 - recall: 0.7451 - val_loss: 0.4219 - val_accuracy: 0.8156 - val_precision: 0.8060 - val_recall: 0.7660\n",
      "Epoch 34/60\n",
      "64/64 [==============================] - 0s 2ms/step - loss: 0.3886 - accuracy: 0.8313 - precision: 0.8098 - recall: 0.7490 - val_loss: 0.4201 - val_accuracy: 0.8172 - val_precision: 0.8044 - val_recall: 0.7730\n",
      "Epoch 35/60\n",
      "64/64 [==============================] - 0s 2ms/step - loss: 0.3909 - accuracy: 0.8324 - precision: 0.8065 - recall: 0.7579 - val_loss: 0.4199 - val_accuracy: 0.8141 - val_precision: 0.7921 - val_recall: 0.7837\n",
      "Epoch 36/60\n",
      "64/64 [==============================] - 0s 2ms/step - loss: 0.3905 - accuracy: 0.8316 - precision: 0.8042 - recall: 0.7589 - val_loss: 0.4204 - val_accuracy: 0.8141 - val_precision: 0.8196 - val_recall: 0.7411\n",
      "Epoch 37/60\n"
     ]
    },
    {
     "name": "stdout",
     "output_type": "stream",
     "text": [
      "64/64 [==============================] - 0s 2ms/step - loss: 0.3927 - accuracy: 0.8332 - precision: 0.8025 - recall: 0.7668 - val_loss: 0.4157 - val_accuracy: 0.8141 - val_precision: 0.7921 - val_recall: 0.7837\n",
      "Epoch 38/60\n",
      "64/64 [==============================] - 0s 2ms/step - loss: 0.3961 - accuracy: 0.8320 - precision: 0.8019 - recall: 0.7638 - val_loss: 0.4249 - val_accuracy: 0.8203 - val_precision: 0.7811 - val_recall: 0.8227\n",
      "Epoch 39/60\n",
      "64/64 [==============================] - 0s 2ms/step - loss: 0.3857 - accuracy: 0.8273 - precision: 0.7938 - recall: 0.7609 - val_loss: 0.4403 - val_accuracy: 0.7953 - val_precision: 0.8186 - val_recall: 0.6879\n",
      "Epoch 40/60\n",
      "64/64 [==============================] - 0s 2ms/step - loss: 0.3948 - accuracy: 0.8352 - precision: 0.7980 - recall: 0.7806 - val_loss: 0.4731 - val_accuracy: 0.7781 - val_precision: 0.8153 - val_recall: 0.6418\n",
      "Epoch 41/60\n",
      "64/64 [==============================] - 0s 2ms/step - loss: 0.3990 - accuracy: 0.8270 - precision: 0.7936 - recall: 0.7599 - val_loss: 0.4389 - val_accuracy: 0.8297 - val_precision: 0.7799 - val_recall: 0.8546\n",
      "Epoch 42/60\n",
      "64/64 [==============================] - 0s 2ms/step - loss: 0.3898 - accuracy: 0.8332 - precision: 0.8000 - recall: 0.7708 - val_loss: 0.4159 - val_accuracy: 0.8203 - val_precision: 0.7869 - val_recall: 0.8121\n",
      "Epoch 43/60\n",
      "64/64 [==============================] - 0s 2ms/step - loss: 0.3804 - accuracy: 0.8398 - precision: 0.8040 - recall: 0.7866 - val_loss: 0.4484 - val_accuracy: 0.7953 - val_precision: 0.8186 - val_recall: 0.6879\n",
      "Epoch 44/60\n",
      "64/64 [==============================] - 0s 2ms/step - loss: 0.3799 - accuracy: 0.8352 - precision: 0.7974 - recall: 0.7816 - val_loss: 0.4475 - val_accuracy: 0.7953 - val_precision: 0.8159 - val_recall: 0.6915\n",
      "Epoch 45/60\n",
      "64/64 [==============================] - 0s 2ms/step - loss: 0.3834 - accuracy: 0.8355 - precision: 0.7970 - recall: 0.7836 - val_loss: 0.4113 - val_accuracy: 0.8141 - val_precision: 0.8030 - val_recall: 0.7660\n",
      "Epoch 46/60\n",
      "64/64 [==============================] - 0s 2ms/step - loss: 0.3815 - accuracy: 0.8348 - precision: 0.7942 - recall: 0.7856 - val_loss: 0.4177 - val_accuracy: 0.8109 - val_precision: 0.8108 - val_recall: 0.7447\n",
      "Epoch 47/60\n",
      "64/64 [==============================] - 0s 2ms/step - loss: 0.3987 - accuracy: 0.8328 - precision: 0.7908 - recall: 0.7846 - val_loss: 0.4454 - val_accuracy: 0.7969 - val_precision: 0.8193 - val_recall: 0.6915\n",
      "Epoch 48/60\n",
      "64/64 [==============================] - 0s 2ms/step - loss: 0.3829 - accuracy: 0.8375 - precision: 0.8010 - recall: 0.7836 - val_loss: 0.4046 - val_accuracy: 0.8156 - val_precision: 0.7908 - val_recall: 0.7908\n",
      "Epoch 49/60\n",
      "64/64 [==============================] - 0s 2ms/step - loss: 0.3881 - accuracy: 0.8340 - precision: 0.7938 - recall: 0.7836 - val_loss: 0.4126 - val_accuracy: 0.8109 - val_precision: 0.8038 - val_recall: 0.7553\n",
      "Epoch 50/60\n",
      "64/64 [==============================] - 0s 2ms/step - loss: 0.3786 - accuracy: 0.8371 - precision: 0.7966 - recall: 0.7895 - val_loss: 0.4115 - val_accuracy: 0.8141 - val_precision: 0.8030 - val_recall: 0.7660\n",
      "Epoch 51/60\n",
      "64/64 [==============================] - 0s 2ms/step - loss: 0.3794 - accuracy: 0.8359 - precision: 0.7931 - recall: 0.7915 - val_loss: 0.4078 - val_accuracy: 0.8203 - val_precision: 0.8036 - val_recall: 0.7837\n",
      "Epoch 52/60\n",
      "64/64 [==============================] - 0s 2ms/step - loss: 0.3971 - accuracy: 0.8406 - precision: 0.7967 - recall: 0.8014 - val_loss: 0.4029 - val_accuracy: 0.8203 - val_precision: 0.7909 - val_recall: 0.8050\n",
      "Epoch 53/60\n",
      "64/64 [==============================] - 0s 2ms/step - loss: 0.3841 - accuracy: 0.8359 - precision: 0.7919 - recall: 0.7935 - val_loss: 0.4057 - val_accuracy: 0.8188 - val_precision: 0.8007 - val_recall: 0.7837\n",
      "Epoch 54/60\n",
      "64/64 [==============================] - 0s 2ms/step - loss: 0.3767 - accuracy: 0.8359 - precision: 0.7960 - recall: 0.7866 - val_loss: 0.4012 - val_accuracy: 0.8172 - val_precision: 0.7915 - val_recall: 0.7943\n",
      "Epoch 55/60\n",
      "64/64 [==============================] - 0s 2ms/step - loss: 0.3859 - accuracy: 0.8336 - precision: 0.7873 - recall: 0.7935 - val_loss: 0.4338 - val_accuracy: 0.8109 - val_precision: 0.8207 - val_recall: 0.7305\n",
      "Epoch 56/60\n",
      "64/64 [==============================] - 0s 2ms/step - loss: 0.3796 - accuracy: 0.8363 - precision: 0.7933 - recall: 0.7925 - val_loss: 0.4160 - val_accuracy: 0.8141 - val_precision: 0.8075 - val_recall: 0.7589\n",
      "Epoch 57/60\n",
      "64/64 [==============================] - 0s 2ms/step - loss: 0.3832 - accuracy: 0.8398 - precision: 0.7917 - recall: 0.8073 - val_loss: 0.4055 - val_accuracy: 0.8219 - val_precision: 0.7781 - val_recall: 0.8333\n",
      "Epoch 58/60\n",
      "64/64 [==============================] - 0s 2ms/step - loss: 0.3770 - accuracy: 0.8359 - precision: 0.7891 - recall: 0.7984 - val_loss: 0.3989 - val_accuracy: 0.8188 - val_precision: 0.7902 - val_recall: 0.8014\n",
      "Epoch 59/60\n",
      "64/64 [==============================] - 0s 2ms/step - loss: 0.3781 - accuracy: 0.8379 - precision: 0.7912 - recall: 0.8014 - val_loss: 0.4431 - val_accuracy: 0.8062 - val_precision: 0.8185 - val_recall: 0.7199\n",
      "Epoch 60/60\n",
      "64/64 [==============================] - 0s 2ms/step - loss: 0.3736 - accuracy: 0.8395 - precision: 0.7926 - recall: 0.8043 - val_loss: 0.4149 - val_accuracy: 0.8141 - val_precision: 0.8030 - val_recall: 0.7660\n",
      "20/20 [==============================] - 0s 1ms/step\n"
     ]
    },
    {
     "name": "stderr",
     "output_type": "stream",
     "text": [
      "WARNING:absl:Found untraced functions such as _update_step_xla while saving (showing 1 of 1). These functions will not be directly callable after loading.\n"
     ]
    },
    {
     "name": "stdout",
     "output_type": "stream",
     "text": [
      "INFO:tensorflow:Assets written to: C:\\Users\\jmbar\\AppData\\Local\\Temp\\tmpgeikh7z6\\assets\n"
     ]
    },
    {
     "name": "stderr",
     "output_type": "stream",
     "text": [
      "INFO:tensorflow:Assets written to: C:\\Users\\jmbar\\AppData\\Local\\Temp\\tmpgeikh7z6\\assets\n"
     ]
    },
    {
     "name": "stdout",
     "output_type": "stream",
     "text": [
      "Epoch 1/60\n",
      "64/64 [==============================] - 1s 6ms/step - loss: 0.6765 - accuracy: 0.5953 - precision: 0.0000e+00 - recall: 0.0000e+00 - val_loss: 0.6695 - val_accuracy: 0.6078 - val_precision: 0.0000e+00 - val_recall: 0.0000e+00\n",
      "Epoch 2/60\n",
      "64/64 [==============================] - 0s 2ms/step - loss: 0.6762 - accuracy: 0.5953 - precision: 0.0000e+00 - recall: 0.0000e+00 - val_loss: 0.6795 - val_accuracy: 0.6078 - val_precision: 0.0000e+00 - val_recall: 0.0000e+00\n",
      "Epoch 3/60\n",
      "64/64 [==============================] - 0s 2ms/step - loss: 0.6765 - accuracy: 0.5957 - precision: 1.0000 - recall: 9.6525e-04 - val_loss: 0.6690 - val_accuracy: 0.6078 - val_precision: 0.0000e+00 - val_recall: 0.0000e+00\n",
      "Epoch 4/60\n",
      "64/64 [==============================] - 0s 2ms/step - loss: 0.6755 - accuracy: 0.5953 - precision: 0.0000e+00 - recall: 0.0000e+00 - val_loss: 0.6695 - val_accuracy: 0.6078 - val_precision: 0.0000e+00 - val_recall: 0.0000e+00\n",
      "Epoch 5/60\n",
      "64/64 [==============================] - 0s 2ms/step - loss: 0.6745 - accuracy: 0.5965 - precision: 1.0000 - recall: 0.0029 - val_loss: 0.6684 - val_accuracy: 0.6094 - val_precision: 1.0000 - val_recall: 0.0040\n",
      "Epoch 6/60\n",
      "64/64 [==============================] - 0s 2ms/step - loss: 0.6724 - accuracy: 0.5984 - precision: 1.0000 - recall: 0.0077 - val_loss: 0.6653 - val_accuracy: 0.6125 - val_precision: 1.0000 - val_recall: 0.0120\n",
      "Epoch 7/60\n",
      "64/64 [==============================] - 0s 2ms/step - loss: 0.6669 - accuracy: 0.6066 - precision: 1.0000 - recall: 0.0280 - val_loss: 0.6662 - val_accuracy: 0.6234 - val_precision: 0.9167 - val_recall: 0.0438\n",
      "Epoch 8/60\n",
      "64/64 [==============================] - 0s 2ms/step - loss: 0.6527 - accuracy: 0.6250 - precision: 0.9419 - recall: 0.0782 - val_loss: 0.6469 - val_accuracy: 0.6219 - val_precision: 0.9091 - val_recall: 0.0398\n",
      "Epoch 9/60\n",
      "64/64 [==============================] - 0s 2ms/step - loss: 0.6311 - accuracy: 0.6750 - precision: 0.9215 - recall: 0.2153 - val_loss: 0.6149 - val_accuracy: 0.6625 - val_precision: 0.9070 - val_recall: 0.1554\n",
      "Epoch 10/60\n",
      "64/64 [==============================] - 0s 2ms/step - loss: 0.5954 - accuracy: 0.7109 - precision: 0.8915 - recall: 0.3253 - val_loss: 0.5801 - val_accuracy: 0.7031 - val_precision: 0.8506 - val_recall: 0.2948\n",
      "Epoch 11/60\n",
      "64/64 [==============================] - 0s 2ms/step - loss: 0.5552 - accuracy: 0.7437 - precision: 0.8893 - recall: 0.4189 - val_loss: 0.5402 - val_accuracy: 0.7375 - val_precision: 0.8487 - val_recall: 0.4024\n",
      "Epoch 12/60\n",
      "64/64 [==============================] - 0s 2ms/step - loss: 0.4985 - accuracy: 0.7750 - precision: 0.9035 - recall: 0.4971 - val_loss: 0.5125 - val_accuracy: 0.7891 - val_precision: 0.8258 - val_recall: 0.5857\n",
      "Epoch 13/60\n",
      "64/64 [==============================] - 0s 2ms/step - loss: 0.4659 - accuracy: 0.7898 - precision: 0.8705 - recall: 0.5647 - val_loss: 0.4841 - val_accuracy: 0.7781 - val_precision: 0.8303 - val_recall: 0.5458\n",
      "Epoch 14/60\n",
      "64/64 [==============================] - 0s 2ms/step - loss: 0.4440 - accuracy: 0.7980 - precision: 0.8502 - recall: 0.6081 - val_loss: 0.4741 - val_accuracy: 0.7891 - val_precision: 0.8333 - val_recall: 0.5777\n",
      "Epoch 15/60\n",
      "64/64 [==============================] - 0s 2ms/step - loss: 0.4390 - accuracy: 0.8074 - precision: 0.8459 - recall: 0.6409 - val_loss: 0.5233 - val_accuracy: 0.7578 - val_precision: 0.8478 - val_recall: 0.4661\n",
      "Epoch 16/60\n",
      "64/64 [==============================] - 0s 2ms/step - loss: 0.4306 - accuracy: 0.8055 - precision: 0.8422 - recall: 0.6390 - val_loss: 0.4676 - val_accuracy: 0.7906 - val_precision: 0.8305 - val_recall: 0.5857\n",
      "Epoch 17/60\n",
      "64/64 [==============================] - 0s 2ms/step - loss: 0.4332 - accuracy: 0.8059 - precision: 0.8299 - recall: 0.6544 - val_loss: 0.4647 - val_accuracy: 0.8141 - val_precision: 0.7920 - val_recall: 0.7131\n",
      "Epoch 18/60\n",
      "64/64 [==============================] - 0s 2ms/step - loss: 0.4316 - accuracy: 0.8121 - precision: 0.8261 - recall: 0.6786 - val_loss: 0.4976 - val_accuracy: 0.7750 - val_precision: 0.8365 - val_recall: 0.5299\n",
      "Epoch 19/60\n",
      "64/64 [==============================] - 0s 2ms/step - loss: 0.4096 - accuracy: 0.8215 - precision: 0.8386 - recall: 0.6921 - val_loss: 0.4599 - val_accuracy: 0.7828 - val_precision: 0.8043 - val_recall: 0.5896\n",
      "Epoch 20/60\n",
      "64/64 [==============================] - 0s 2ms/step - loss: 0.4084 - accuracy: 0.8156 - precision: 0.8302 - recall: 0.6844 - val_loss: 0.4489 - val_accuracy: 0.8141 - val_precision: 0.7920 - val_recall: 0.7131\n",
      "Epoch 21/60\n",
      "64/64 [==============================] - 0s 2ms/step - loss: 0.4178 - accuracy: 0.8133 - precision: 0.8200 - recall: 0.6902 - val_loss: 0.4469 - val_accuracy: 0.8172 - val_precision: 0.7939 - val_recall: 0.7211\n",
      "Epoch 22/60\n",
      "64/64 [==============================] - 0s 2ms/step - loss: 0.4065 - accuracy: 0.8309 - precision: 0.8384 - recall: 0.7210 - val_loss: 0.4409 - val_accuracy: 0.8141 - val_precision: 0.7920 - val_recall: 0.7131\n",
      "Epoch 23/60\n",
      "64/64 [==============================] - 0s 2ms/step - loss: 0.4029 - accuracy: 0.8258 - precision: 0.8278 - recall: 0.7191 - val_loss: 0.4411 - val_accuracy: 0.7906 - val_precision: 0.7970 - val_recall: 0.6255\n",
      "Epoch 24/60\n",
      "64/64 [==============================] - 0s 2ms/step - loss: 0.3955 - accuracy: 0.8289 - precision: 0.8300 - recall: 0.7259 - val_loss: 0.4582 - val_accuracy: 0.7875 - val_precision: 0.8075 - val_recall: 0.6016\n",
      "Epoch 25/60\n",
      "64/64 [==============================] - 0s 2ms/step - loss: 0.3989 - accuracy: 0.8227 - precision: 0.8248 - recall: 0.7133 - val_loss: 0.4325 - val_accuracy: 0.8062 - val_precision: 0.7953 - val_recall: 0.6813\n",
      "Epoch 26/60\n",
      "64/64 [==============================] - 0s 2ms/step - loss: 0.4207 - accuracy: 0.8242 - precision: 0.8241 - recall: 0.7191 - val_loss: 0.4768 - val_accuracy: 0.8109 - val_precision: 0.7338 - val_recall: 0.8127\n",
      "Epoch 27/60\n",
      "64/64 [==============================] - 0s 2ms/step - loss: 0.3968 - accuracy: 0.8277 - precision: 0.8273 - recall: 0.7259 - val_loss: 0.4287 - val_accuracy: 0.8156 - val_precision: 0.7930 - val_recall: 0.7171\n",
      "Epoch 28/60\n",
      "64/64 [==============================] - 0s 2ms/step - loss: 0.3897 - accuracy: 0.8309 - precision: 0.8259 - recall: 0.7375 - val_loss: 0.4356 - val_accuracy: 0.8156 - val_precision: 0.7628 - val_recall: 0.7689\n",
      "Epoch 29/60\n",
      "64/64 [==============================] - 0s 2ms/step - loss: 0.3871 - accuracy: 0.8328 - precision: 0.8262 - recall: 0.7432 - val_loss: 0.4328 - val_accuracy: 0.7953 - val_precision: 0.7913 - val_recall: 0.6494\n",
      "Epoch 30/60\n",
      "64/64 [==============================] - 0s 2ms/step - loss: 0.3963 - accuracy: 0.8285 - precision: 0.8213 - recall: 0.7365 - val_loss: 0.4278 - val_accuracy: 0.8172 - val_precision: 0.7680 - val_recall: 0.7649\n",
      "Epoch 31/60\n",
      "64/64 [==============================] - 0s 2ms/step - loss: 0.3940 - accuracy: 0.8324 - precision: 0.8253 - recall: 0.7432 - val_loss: 0.4217 - val_accuracy: 0.8156 - val_precision: 0.7930 - val_recall: 0.7171\n",
      "Epoch 32/60\n",
      "64/64 [==============================] - 0s 2ms/step - loss: 0.3850 - accuracy: 0.8297 - precision: 0.8226 - recall: 0.7384 - val_loss: 0.4519 - val_accuracy: 0.8094 - val_precision: 0.7329 - val_recall: 0.8088\n",
      "Epoch 33/60\n",
      "64/64 [==============================] - 0s 2ms/step - loss: 0.3959 - accuracy: 0.8262 - precision: 0.8075 - recall: 0.7490 - val_loss: 0.4284 - val_accuracy: 0.8016 - val_precision: 0.7952 - val_recall: 0.6653\n",
      "Epoch 34/60\n",
      "64/64 [==============================] - 0s 2ms/step - loss: 0.4098 - accuracy: 0.8227 - precision: 0.8050 - recall: 0.7413 - val_loss: 0.4258 - val_accuracy: 0.7969 - val_precision: 0.7923 - val_recall: 0.6534\n",
      "Epoch 35/60\n",
      "64/64 [==============================] - 0s 2ms/step - loss: 0.3864 - accuracy: 0.8285 - precision: 0.8159 - recall: 0.7442 - val_loss: 0.4191 - val_accuracy: 0.8156 - val_precision: 0.7649 - val_recall: 0.7649\n",
      "Epoch 36/60\n",
      "64/64 [==============================] - 0s 2ms/step - loss: 0.3803 - accuracy: 0.8316 - precision: 0.8128 - recall: 0.7587 - val_loss: 0.4202 - val_accuracy: 0.8156 - val_precision: 0.7628 - val_recall: 0.7689\n",
      "Epoch 37/60\n"
     ]
    },
    {
     "name": "stdout",
     "output_type": "stream",
     "text": [
      "64/64 [==============================] - 0s 2ms/step - loss: 0.3840 - accuracy: 0.8289 - precision: 0.8108 - recall: 0.7529 - val_loss: 0.4164 - val_accuracy: 0.8203 - val_precision: 0.7957 - val_recall: 0.7291\n",
      "Epoch 38/60\n",
      "64/64 [==============================] - 0s 2ms/step - loss: 0.3846 - accuracy: 0.8309 - precision: 0.8144 - recall: 0.7539 - val_loss: 0.4276 - val_accuracy: 0.8078 - val_precision: 0.7936 - val_recall: 0.6892\n",
      "Epoch 39/60\n",
      "64/64 [==============================] - 0s 2ms/step - loss: 0.4058 - accuracy: 0.8289 - precision: 0.8095 - recall: 0.7548 - val_loss: 0.4246 - val_accuracy: 0.8141 - val_precision: 0.7519 - val_recall: 0.7849\n",
      "Epoch 40/60\n",
      "64/64 [==============================] - 0s 2ms/step - loss: 0.3781 - accuracy: 0.8391 - precision: 0.8177 - recall: 0.7751 - val_loss: 0.4125 - val_accuracy: 0.8203 - val_precision: 0.7764 - val_recall: 0.7610\n",
      "Epoch 41/60\n",
      "64/64 [==============================] - 0s 2ms/step - loss: 0.3766 - accuracy: 0.8320 - precision: 0.8079 - recall: 0.7674 - val_loss: 0.4227 - val_accuracy: 0.8094 - val_precision: 0.7919 - val_recall: 0.6972\n",
      "Epoch 42/60\n",
      "64/64 [==============================] - 0s 2ms/step - loss: 0.4000 - accuracy: 0.8309 - precision: 0.8000 - recall: 0.7761 - val_loss: 0.4307 - val_accuracy: 0.8000 - val_precision: 0.7943 - val_recall: 0.6614\n",
      "Epoch 43/60\n",
      "64/64 [==============================] - 0s 2ms/step - loss: 0.3769 - accuracy: 0.8348 - precision: 0.8124 - recall: 0.7693 - val_loss: 0.4102 - val_accuracy: 0.8172 - val_precision: 0.7659 - val_recall: 0.7689\n",
      "Epoch 44/60\n",
      "64/64 [==============================] - 0s 2ms/step - loss: 0.3778 - accuracy: 0.8324 - precision: 0.8069 - recall: 0.7703 - val_loss: 0.4094 - val_accuracy: 0.8156 - val_precision: 0.7671 - val_recall: 0.7610\n",
      "Epoch 45/60\n",
      "64/64 [==============================] - 0s 2ms/step - loss: 0.3728 - accuracy: 0.8340 - precision: 0.8052 - recall: 0.7780 - val_loss: 0.4094 - val_accuracy: 0.8125 - val_precision: 0.7569 - val_recall: 0.7689\n",
      "Epoch 46/60\n",
      "64/64 [==============================] - 0s 2ms/step - loss: 0.3711 - accuracy: 0.8387 - precision: 0.8137 - recall: 0.7799 - val_loss: 0.4091 - val_accuracy: 0.8109 - val_precision: 0.7539 - val_recall: 0.7689\n",
      "Epoch 47/60\n",
      "64/64 [==============================] - 0s 2ms/step - loss: 0.3779 - accuracy: 0.8367 - precision: 0.8053 - recall: 0.7867 - val_loss: 0.4087 - val_accuracy: 0.8125 - val_precision: 0.7549 - val_recall: 0.7729\n",
      "Epoch 48/60\n",
      "64/64 [==============================] - 0s 2ms/step - loss: 0.3789 - accuracy: 0.8352 - precision: 0.8040 - recall: 0.7838 - val_loss: 0.4185 - val_accuracy: 0.8172 - val_precision: 0.7939 - val_recall: 0.7211\n",
      "Epoch 49/60\n",
      "64/64 [==============================] - 0s 2ms/step - loss: 0.3697 - accuracy: 0.8371 - precision: 0.8086 - recall: 0.7828 - val_loss: 0.4233 - val_accuracy: 0.8141 - val_precision: 0.7920 - val_recall: 0.7131\n",
      "Epoch 50/60\n",
      "64/64 [==============================] - 0s 2ms/step - loss: 0.3704 - accuracy: 0.8336 - precision: 0.8002 - recall: 0.7847 - val_loss: 0.4464 - val_accuracy: 0.8062 - val_precision: 0.7981 - val_recall: 0.6773\n",
      "Epoch 51/60\n",
      "64/64 [==============================] - 0s 2ms/step - loss: 0.3719 - accuracy: 0.8359 - precision: 0.8002 - recall: 0.7925 - val_loss: 0.4596 - val_accuracy: 0.8000 - val_precision: 0.7943 - val_recall: 0.6614\n",
      "Epoch 52/60\n",
      "64/64 [==============================] - 0s 2ms/step - loss: 0.3754 - accuracy: 0.8344 - precision: 0.8018 - recall: 0.7847 - val_loss: 0.4299 - val_accuracy: 0.8094 - val_precision: 0.7892 - val_recall: 0.7012\n",
      "Epoch 53/60\n",
      "64/64 [==============================] - 0s 2ms/step - loss: 0.3776 - accuracy: 0.8359 - precision: 0.8014 - recall: 0.7905 - val_loss: 0.4038 - val_accuracy: 0.8109 - val_precision: 0.7519 - val_recall: 0.7729\n",
      "Epoch 54/60\n",
      "64/64 [==============================] - 0s 2ms/step - loss: 0.3719 - accuracy: 0.8367 - precision: 0.8035 - recall: 0.7896 - val_loss: 0.4061 - val_accuracy: 0.8141 - val_precision: 0.7640 - val_recall: 0.7610\n",
      "Epoch 55/60\n",
      "64/64 [==============================] - 0s 2ms/step - loss: 0.3728 - accuracy: 0.8371 - precision: 0.8020 - recall: 0.7934 - val_loss: 0.4028 - val_accuracy: 0.8109 - val_precision: 0.7519 - val_recall: 0.7729\n",
      "Epoch 56/60\n",
      "64/64 [==============================] - 0s 2ms/step - loss: 0.3826 - accuracy: 0.8359 - precision: 0.8002 - recall: 0.7925 - val_loss: 0.4173 - val_accuracy: 0.8219 - val_precision: 0.7965 - val_recall: 0.7331\n",
      "Epoch 57/60\n",
      "64/64 [==============================] - 0s 2ms/step - loss: 0.3734 - accuracy: 0.8391 - precision: 0.8035 - recall: 0.7973 - val_loss: 0.4162 - val_accuracy: 0.8109 - val_precision: 0.7338 - val_recall: 0.8127\n",
      "Epoch 58/60\n",
      "64/64 [==============================] - 0s 2ms/step - loss: 0.3755 - accuracy: 0.8336 - precision: 0.7967 - recall: 0.7905 - val_loss: 0.4345 - val_accuracy: 0.8109 - val_precision: 0.7902 - val_recall: 0.7052\n",
      "Epoch 59/60\n",
      "64/64 [==============================] - 0s 2ms/step - loss: 0.3757 - accuracy: 0.8348 - precision: 0.7984 - recall: 0.7915 - val_loss: 0.4110 - val_accuracy: 0.8109 - val_precision: 0.7338 - val_recall: 0.8127\n",
      "Epoch 60/60\n",
      "64/64 [==============================] - 0s 2ms/step - loss: 0.3736 - accuracy: 0.8367 - precision: 0.7965 - recall: 0.8012 - val_loss: 0.4198 - val_accuracy: 0.8188 - val_precision: 0.7872 - val_recall: 0.7371\n",
      "20/20 [==============================] - 0s 1ms/step\n"
     ]
    },
    {
     "name": "stderr",
     "output_type": "stream",
     "text": [
      "WARNING:absl:Found untraced functions such as _update_step_xla while saving (showing 1 of 1). These functions will not be directly callable after loading.\n"
     ]
    },
    {
     "name": "stdout",
     "output_type": "stream",
     "text": [
      "INFO:tensorflow:Assets written to: C:\\Users\\jmbar\\AppData\\Local\\Temp\\tmp1a2zupt0\\assets\n"
     ]
    },
    {
     "name": "stderr",
     "output_type": "stream",
     "text": [
      "INFO:tensorflow:Assets written to: C:\\Users\\jmbar\\AppData\\Local\\Temp\\tmp1a2zupt0\\assets\n",
      "WARNING:absl:Found untraced functions such as _update_step_xla while saving (showing 1 of 1). These functions will not be directly callable after loading.\n"
     ]
    },
    {
     "name": "stdout",
     "output_type": "stream",
     "text": [
      "INFO:tensorflow:Assets written to: C:\\Users\\jmbar\\AppData\\Local\\Temp\\tmpclz97t9d\\assets\n"
     ]
    },
    {
     "name": "stderr",
     "output_type": "stream",
     "text": [
      "INFO:tensorflow:Assets written to: C:\\Users\\jmbar\\AppData\\Local\\Temp\\tmpclz97t9d\\assets\n"
     ]
    },
    {
     "name": "stdout",
     "output_type": "stream",
     "text": [
      "Epoch 1/60\n",
      "80/80 [==============================] - 1s 5ms/step - loss: 0.6769 - accuracy: 0.5981 - precision: 1.0000 - recall: 7.7700e-04 - val_loss: 0.6815 - val_accuracy: 0.5838 - val_precision: 0.0000e+00 - val_recall: 0.0000e+00\n",
      "Epoch 2/60\n",
      "80/80 [==============================] - 0s 2ms/step - loss: 0.6752 - accuracy: 0.5978 - precision: 0.0000e+00 - recall: 0.0000e+00 - val_loss: 0.6791 - val_accuracy: 0.5838 - val_precision: 0.0000e+00 - val_recall: 0.0000e+00\n",
      "Epoch 3/60\n",
      "80/80 [==============================] - 0s 2ms/step - loss: 0.6765 - accuracy: 0.5978 - precision: 0.0000e+00 - recall: 0.0000e+00 - val_loss: 0.6801 - val_accuracy: 0.5838 - val_precision: 0.0000e+00 - val_recall: 0.0000e+00\n",
      "Epoch 4/60\n",
      "80/80 [==============================] - 0s 2ms/step - loss: 0.6734 - accuracy: 0.5984 - precision: 1.0000 - recall: 0.0016 - val_loss: 0.6775 - val_accuracy: 0.5838 - val_precision: 0.0000e+00 - val_recall: 0.0000e+00\n",
      "Epoch 5/60\n",
      "80/80 [==============================] - 0s 2ms/step - loss: 0.6727 - accuracy: 0.5991 - precision: 1.0000 - recall: 0.0031 - val_loss: 0.6764 - val_accuracy: 0.5900 - val_precision: 1.0000 - val_recall: 0.0150\n",
      "Epoch 6/60\n",
      "80/80 [==============================] - 0s 2ms/step - loss: 0.6637 - accuracy: 0.6094 - precision: 0.9302 - recall: 0.0311 - val_loss: 0.6652 - val_accuracy: 0.5950 - val_precision: 0.9091 - val_recall: 0.0300\n",
      "Epoch 7/60\n",
      "80/80 [==============================] - 0s 2ms/step - loss: 0.6426 - accuracy: 0.6400 - precision: 0.9592 - recall: 0.1096 - val_loss: 0.6393 - val_accuracy: 0.6950 - val_precision: 0.8739 - val_recall: 0.3123\n",
      "Epoch 8/60\n",
      "80/80 [==============================] - 0s 2ms/step - loss: 0.6094 - accuracy: 0.6853 - precision: 0.8043 - recall: 0.2875 - val_loss: 0.6177 - val_accuracy: 0.6450 - val_precision: 0.9016 - val_recall: 0.1652\n",
      "Epoch 9/60\n",
      "80/80 [==============================] - 0s 2ms/step - loss: 0.5484 - accuracy: 0.7359 - precision: 0.8961 - recall: 0.3885 - val_loss: 0.5487 - val_accuracy: 0.7088 - val_precision: 0.8788 - val_recall: 0.3483\n",
      "Epoch 10/60\n",
      "80/80 [==============================] - 0s 2ms/step - loss: 0.5039 - accuracy: 0.7703 - precision: 0.8660 - recall: 0.5074 - val_loss: 0.5039 - val_accuracy: 0.7600 - val_precision: 0.8507 - val_recall: 0.5135\n",
      "Epoch 11/60\n",
      "80/80 [==============================] - 0s 2ms/step - loss: 0.4701 - accuracy: 0.7953 - precision: 0.8649 - recall: 0.5820 - val_loss: 0.4822 - val_accuracy: 0.7812 - val_precision: 0.8465 - val_recall: 0.5796\n",
      "Epoch 12/60\n",
      "80/80 [==============================] - 0s 2ms/step - loss: 0.4600 - accuracy: 0.7987 - precision: 0.8431 - recall: 0.6138 - val_loss: 0.4719 - val_accuracy: 0.7788 - val_precision: 0.8305 - val_recall: 0.5886\n",
      "Epoch 13/60\n",
      "80/80 [==============================] - 0s 2ms/step - loss: 0.4528 - accuracy: 0.8044 - precision: 0.8404 - recall: 0.6340 - val_loss: 0.4962 - val_accuracy: 0.8150 - val_precision: 0.7795 - val_recall: 0.7748\n",
      "Epoch 14/60\n",
      "80/80 [==============================] - 0s 2ms/step - loss: 0.4314 - accuracy: 0.8138 - precision: 0.8445 - recall: 0.6581 - val_loss: 0.4825 - val_accuracy: 0.7713 - val_precision: 0.8440 - val_recall: 0.5526\n",
      "Epoch 15/60\n",
      "80/80 [==============================] - 0s 2ms/step - loss: 0.4278 - accuracy: 0.8125 - precision: 0.8312 - recall: 0.6698 - val_loss: 0.4522 - val_accuracy: 0.7862 - val_precision: 0.8140 - val_recall: 0.6306\n",
      "Epoch 16/60\n",
      "80/80 [==============================] - 0s 2ms/step - loss: 0.4306 - accuracy: 0.8131 - precision: 0.8290 - recall: 0.6744 - val_loss: 0.4840 - val_accuracy: 0.7763 - val_precision: 0.8438 - val_recall: 0.5676\n",
      "Epoch 17/60\n",
      "80/80 [==============================] - 0s 2ms/step - loss: 0.4165 - accuracy: 0.8178 - precision: 0.8259 - recall: 0.6931 - val_loss: 0.4517 - val_accuracy: 0.7800 - val_precision: 0.8153 - val_recall: 0.6096\n",
      "Epoch 18/60\n",
      "80/80 [==============================] - 0s 2ms/step - loss: 0.4265 - accuracy: 0.8219 - precision: 0.8316 - recall: 0.6985 - val_loss: 0.4444 - val_accuracy: 0.8138 - val_precision: 0.8067 - val_recall: 0.7267\n",
      "Epoch 19/60\n",
      "80/80 [==============================] - 0s 2ms/step - loss: 0.4140 - accuracy: 0.8150 - precision: 0.8197 - recall: 0.6923 - val_loss: 0.4368 - val_accuracy: 0.7925 - val_precision: 0.8081 - val_recall: 0.6577\n",
      "Epoch 20/60\n",
      "80/80 [==============================] - 0s 2ms/step - loss: 0.4084 - accuracy: 0.8250 - precision: 0.8248 - recall: 0.7172 - val_loss: 0.5194 - val_accuracy: 0.7725 - val_precision: 0.8447 - val_recall: 0.5556\n",
      "Epoch 21/60\n",
      "80/80 [==============================] - 0s 2ms/step - loss: 0.4226 - accuracy: 0.8225 - precision: 0.8248 - recall: 0.7094 - val_loss: 0.4497 - val_accuracy: 0.8200 - val_precision: 0.7804 - val_recall: 0.7898\n",
      "Epoch 22/60\n",
      "80/80 [==============================] - 0s 2ms/step - loss: 0.4060 - accuracy: 0.8266 - precision: 0.8233 - recall: 0.7242 - val_loss: 0.4489 - val_accuracy: 0.7812 - val_precision: 0.8160 - val_recall: 0.6126\n",
      "Epoch 23/60\n",
      "80/80 [==============================] - 0s 2ms/step - loss: 0.3989 - accuracy: 0.8297 - precision: 0.8283 - recall: 0.7273 - val_loss: 0.4398 - val_accuracy: 0.7862 - val_precision: 0.8115 - val_recall: 0.6336\n",
      "Epoch 24/60\n",
      "80/80 [==============================] - 0s 2ms/step - loss: 0.3920 - accuracy: 0.8263 - precision: 0.8181 - recall: 0.7304 - val_loss: 0.4243 - val_accuracy: 0.8100 - val_precision: 0.8089 - val_recall: 0.7117\n",
      "Epoch 25/60\n",
      "80/80 [==============================] - 0s 2ms/step - loss: 0.4000 - accuracy: 0.8259 - precision: 0.8109 - recall: 0.7397 - val_loss: 0.4301 - val_accuracy: 0.8150 - val_precision: 0.7795 - val_recall: 0.7748\n",
      "Epoch 26/60\n",
      "80/80 [==============================] - 0s 2ms/step - loss: 0.3933 - accuracy: 0.8263 - precision: 0.8121 - recall: 0.7389 - val_loss: 0.4257 - val_accuracy: 0.8150 - val_precision: 0.7795 - val_recall: 0.7748\n",
      "Epoch 27/60\n",
      "80/80 [==============================] - 0s 2ms/step - loss: 0.3914 - accuracy: 0.8319 - precision: 0.8193 - recall: 0.7467 - val_loss: 0.4195 - val_accuracy: 0.8200 - val_precision: 0.7890 - val_recall: 0.7748\n",
      "Epoch 28/60\n",
      "80/80 [==============================] - 0s 2ms/step - loss: 0.3931 - accuracy: 0.8353 - precision: 0.8161 - recall: 0.7622 - val_loss: 0.4259 - val_accuracy: 0.8012 - val_precision: 0.8085 - val_recall: 0.6847\n",
      "Epoch 29/60\n",
      "80/80 [==============================] - 0s 2ms/step - loss: 0.3906 - accuracy: 0.8316 - precision: 0.8219 - recall: 0.7420 - val_loss: 0.4160 - val_accuracy: 0.8150 - val_precision: 0.8114 - val_recall: 0.7237\n",
      "Epoch 30/60\n",
      "80/80 [==============================] - 0s 2ms/step - loss: 0.3892 - accuracy: 0.8297 - precision: 0.8087 - recall: 0.7552 - val_loss: 0.4129 - val_accuracy: 0.8188 - val_precision: 0.8032 - val_recall: 0.7477\n",
      "Epoch 31/60\n",
      "80/80 [==============================] - 0s 2ms/step - loss: 0.3861 - accuracy: 0.8334 - precision: 0.8111 - recall: 0.7638 - val_loss: 0.4388 - val_accuracy: 0.7912 - val_precision: 0.8074 - val_recall: 0.6547\n",
      "Epoch 32/60\n",
      "80/80 [==============================] - 0s 2ms/step - loss: 0.3834 - accuracy: 0.8375 - precision: 0.8141 - recall: 0.7723 - val_loss: 0.4180 - val_accuracy: 0.8200 - val_precision: 0.7771 - val_recall: 0.7958\n",
      "Epoch 33/60\n",
      "80/80 [==============================] - 0s 2ms/step - loss: 0.3903 - accuracy: 0.8309 - precision: 0.8088 - recall: 0.7591 - val_loss: 0.4194 - val_accuracy: 0.8075 - val_precision: 0.8076 - val_recall: 0.7057\n",
      "Epoch 34/60\n",
      "80/80 [==============================] - 0s 2ms/step - loss: 0.3824 - accuracy: 0.8325 - precision: 0.8060 - recall: 0.7685 - val_loss: 0.4105 - val_accuracy: 0.8163 - val_precision: 0.8039 - val_recall: 0.7387\n",
      "Epoch 35/60\n",
      "80/80 [==============================] - 0s 2ms/step - loss: 0.3812 - accuracy: 0.8341 - precision: 0.8063 - recall: 0.7731 - val_loss: 0.4061 - val_accuracy: 0.8188 - val_precision: 0.7866 - val_recall: 0.7748\n",
      "Epoch 36/60\n",
      "80/80 [==============================] - 0s 2ms/step - loss: 0.3820 - accuracy: 0.8384 - precision: 0.8100 - recall: 0.7817 - val_loss: 0.4075 - val_accuracy: 0.8175 - val_precision: 0.7774 - val_recall: 0.7868\n",
      "Epoch 37/60\n"
     ]
    },
    {
     "name": "stdout",
     "output_type": "stream",
     "text": [
      "80/80 [==============================] - 0s 2ms/step - loss: 0.3962 - accuracy: 0.8338 - precision: 0.8022 - recall: 0.7786 - val_loss: 0.4063 - val_accuracy: 0.8188 - val_precision: 0.8013 - val_recall: 0.7508\n",
      "Epoch 38/60\n",
      "80/80 [==============================] - 0s 2ms/step - loss: 0.3803 - accuracy: 0.8359 - precision: 0.8073 - recall: 0.7778 - val_loss: 0.4388 - val_accuracy: 0.8025 - val_precision: 0.8114 - val_recall: 0.6847\n",
      "Epoch 39/60\n",
      "80/80 [==============================] - 0s 2ms/step - loss: 0.3849 - accuracy: 0.8331 - precision: 0.7981 - recall: 0.7832 - val_loss: 0.4132 - val_accuracy: 0.8188 - val_precision: 0.8133 - val_recall: 0.7327\n",
      "Epoch 40/60\n",
      "80/80 [==============================] - 0s 2ms/step - loss: 0.3814 - accuracy: 0.8331 - precision: 0.8014 - recall: 0.7778 - val_loss: 0.4034 - val_accuracy: 0.8188 - val_precision: 0.7781 - val_recall: 0.7898\n",
      "Epoch 41/60\n",
      "80/80 [==============================] - 0s 2ms/step - loss: 0.3761 - accuracy: 0.8381 - precision: 0.8040 - recall: 0.7902 - val_loss: 0.4054 - val_accuracy: 0.8188 - val_precision: 0.7994 - val_recall: 0.7538\n",
      "Epoch 42/60\n",
      "80/80 [==============================] - 0s 2ms/step - loss: 0.3780 - accuracy: 0.8344 - precision: 0.7997 - recall: 0.7848 - val_loss: 0.4364 - val_accuracy: 0.8263 - val_precision: 0.7594 - val_recall: 0.8529\n",
      "Epoch 43/60\n",
      "80/80 [==============================] - 0s 2ms/step - loss: 0.3818 - accuracy: 0.8425 - precision: 0.8100 - recall: 0.7949 - val_loss: 0.4358 - val_accuracy: 0.8037 - val_precision: 0.8077 - val_recall: 0.6937\n",
      "Epoch 44/60\n",
      "80/80 [==============================] - 0s 2ms/step - loss: 0.3748 - accuracy: 0.8369 - precision: 0.8019 - recall: 0.7894 - val_loss: 0.3988 - val_accuracy: 0.8150 - val_precision: 0.7795 - val_recall: 0.7748\n",
      "Epoch 45/60\n",
      "80/80 [==============================] - 0s 2ms/step - loss: 0.3772 - accuracy: 0.8409 - precision: 0.8053 - recall: 0.7972 - val_loss: 0.3996 - val_accuracy: 0.8188 - val_precision: 0.7866 - val_recall: 0.7748\n",
      "Epoch 46/60\n",
      "80/80 [==============================] - 0s 2ms/step - loss: 0.3706 - accuracy: 0.8384 - precision: 0.8003 - recall: 0.7972 - val_loss: 0.4020 - val_accuracy: 0.8175 - val_precision: 0.7877 - val_recall: 0.7688\n",
      "Epoch 47/60\n",
      "80/80 [==============================] - 0s 2ms/step - loss: 0.3717 - accuracy: 0.8394 - precision: 0.7998 - recall: 0.8011 - val_loss: 0.3974 - val_accuracy: 0.8213 - val_precision: 0.7794 - val_recall: 0.7958\n",
      "Epoch 48/60\n",
      "80/80 [==============================] - 0s 2ms/step - loss: 0.3706 - accuracy: 0.8359 - precision: 0.7963 - recall: 0.7956 - val_loss: 0.4053 - val_accuracy: 0.8200 - val_precision: 0.7632 - val_recall: 0.8228\n",
      "Epoch 49/60\n",
      "80/80 [==============================] - 0s 2ms/step - loss: 0.3752 - accuracy: 0.8441 - precision: 0.8050 - recall: 0.8081 - val_loss: 0.3967 - val_accuracy: 0.8150 - val_precision: 0.7795 - val_recall: 0.7748\n",
      "Epoch 50/60\n",
      "80/80 [==============================] - 0s 2ms/step - loss: 0.3749 - accuracy: 0.8384 - precision: 0.7952 - recall: 0.8057 - val_loss: 0.3962 - val_accuracy: 0.8213 - val_precision: 0.7714 - val_recall: 0.8108\n",
      "Epoch 51/60\n",
      "80/80 [==============================] - 0s 2ms/step - loss: 0.3718 - accuracy: 0.8366 - precision: 0.7961 - recall: 0.7980 - val_loss: 0.4343 - val_accuracy: 0.8188 - val_precision: 0.8133 - val_recall: 0.7327\n",
      "Epoch 52/60\n",
      "80/80 [==============================] - 0s 2ms/step - loss: 0.3754 - accuracy: 0.8369 - precision: 0.7949 - recall: 0.8011 - val_loss: 0.4112 - val_accuracy: 0.8213 - val_precision: 0.8045 - val_recall: 0.7538\n",
      "Epoch 53/60\n",
      "80/80 [==============================] - 0s 2ms/step - loss: 0.3771 - accuracy: 0.8394 - precision: 0.7966 - recall: 0.8065 - val_loss: 0.3935 - val_accuracy: 0.8188 - val_precision: 0.7781 - val_recall: 0.7898\n",
      "Epoch 54/60\n",
      "80/80 [==============================] - 0s 2ms/step - loss: 0.3741 - accuracy: 0.8366 - precision: 0.7912 - recall: 0.8065 - val_loss: 0.3969 - val_accuracy: 0.8163 - val_precision: 0.7818 - val_recall: 0.7748\n",
      "Epoch 55/60\n",
      "80/80 [==============================] - 0s 2ms/step - loss: 0.3676 - accuracy: 0.8394 - precision: 0.7971 - recall: 0.8057 - val_loss: 0.4405 - val_accuracy: 0.8175 - val_precision: 0.8127 - val_recall: 0.7297\n",
      "Epoch 56/60\n",
      "80/80 [==============================] - 0s 2ms/step - loss: 0.3810 - accuracy: 0.8378 - precision: 0.7940 - recall: 0.8057 - val_loss: 0.3970 - val_accuracy: 0.8188 - val_precision: 0.7626 - val_recall: 0.8198\n",
      "Epoch 57/60\n",
      "80/80 [==============================] - 0s 2ms/step - loss: 0.3742 - accuracy: 0.8397 - precision: 0.7945 - recall: 0.8112 - val_loss: 0.3959 - val_accuracy: 0.8188 - val_precision: 0.7626 - val_recall: 0.8198\n",
      "Epoch 58/60\n",
      "80/80 [==============================] - 0s 2ms/step - loss: 0.3687 - accuracy: 0.8400 - precision: 0.7969 - recall: 0.8081 - val_loss: 0.3918 - val_accuracy: 0.8213 - val_precision: 0.7794 - val_recall: 0.7958\n",
      "Epoch 59/60\n",
      "80/80 [==============================] - 0s 2ms/step - loss: 0.3680 - accuracy: 0.8400 - precision: 0.7925 - recall: 0.8159 - val_loss: 0.3918 - val_accuracy: 0.8188 - val_precision: 0.7781 - val_recall: 0.7898\n",
      "Epoch 60/60\n",
      "80/80 [==============================] - 0s 2ms/step - loss: 0.3694 - accuracy: 0.8356 - precision: 0.7880 - recall: 0.8089 - val_loss: 0.3906 - val_accuracy: 0.8188 - val_precision: 0.7733 - val_recall: 0.7988\n"
     ]
    },
    {
     "data": {
      "text/html": [
       "<style>#sk-container-id-1 {color: black;}#sk-container-id-1 pre{padding: 0;}#sk-container-id-1 div.sk-toggleable {background-color: white;}#sk-container-id-1 label.sk-toggleable__label {cursor: pointer;display: block;width: 100%;margin-bottom: 0;padding: 0.3em;box-sizing: border-box;text-align: center;}#sk-container-id-1 label.sk-toggleable__label-arrow:before {content: \"▸\";float: left;margin-right: 0.25em;color: #696969;}#sk-container-id-1 label.sk-toggleable__label-arrow:hover:before {color: black;}#sk-container-id-1 div.sk-estimator:hover label.sk-toggleable__label-arrow:before {color: black;}#sk-container-id-1 div.sk-toggleable__content {max-height: 0;max-width: 0;overflow: hidden;text-align: left;background-color: #f0f8ff;}#sk-container-id-1 div.sk-toggleable__content pre {margin: 0.2em;color: black;border-radius: 0.25em;background-color: #f0f8ff;}#sk-container-id-1 input.sk-toggleable__control:checked~div.sk-toggleable__content {max-height: 200px;max-width: 100%;overflow: auto;}#sk-container-id-1 input.sk-toggleable__control:checked~label.sk-toggleable__label-arrow:before {content: \"▾\";}#sk-container-id-1 div.sk-estimator input.sk-toggleable__control:checked~label.sk-toggleable__label {background-color: #d4ebff;}#sk-container-id-1 div.sk-label input.sk-toggleable__control:checked~label.sk-toggleable__label {background-color: #d4ebff;}#sk-container-id-1 input.sk-hidden--visually {border: 0;clip: rect(1px 1px 1px 1px);clip: rect(1px, 1px, 1px, 1px);height: 1px;margin: -1px;overflow: hidden;padding: 0;position: absolute;width: 1px;}#sk-container-id-1 div.sk-estimator {font-family: monospace;background-color: #f0f8ff;border: 1px dotted black;border-radius: 0.25em;box-sizing: border-box;margin-bottom: 0.5em;}#sk-container-id-1 div.sk-estimator:hover {background-color: #d4ebff;}#sk-container-id-1 div.sk-parallel-item::after {content: \"\";width: 100%;border-bottom: 1px solid gray;flex-grow: 1;}#sk-container-id-1 div.sk-label:hover label.sk-toggleable__label {background-color: #d4ebff;}#sk-container-id-1 div.sk-serial::before {content: \"\";position: absolute;border-left: 1px solid gray;box-sizing: border-box;top: 0;bottom: 0;left: 50%;z-index: 0;}#sk-container-id-1 div.sk-serial {display: flex;flex-direction: column;align-items: center;background-color: white;padding-right: 0.2em;padding-left: 0.2em;position: relative;}#sk-container-id-1 div.sk-item {position: relative;z-index: 1;}#sk-container-id-1 div.sk-parallel {display: flex;align-items: stretch;justify-content: center;background-color: white;position: relative;}#sk-container-id-1 div.sk-item::before, #sk-container-id-1 div.sk-parallel-item::before {content: \"\";position: absolute;border-left: 1px solid gray;box-sizing: border-box;top: 0;bottom: 0;left: 50%;z-index: -1;}#sk-container-id-1 div.sk-parallel-item {display: flex;flex-direction: column;z-index: 1;position: relative;background-color: white;}#sk-container-id-1 div.sk-parallel-item:first-child::after {align-self: flex-end;width: 50%;}#sk-container-id-1 div.sk-parallel-item:last-child::after {align-self: flex-start;width: 50%;}#sk-container-id-1 div.sk-parallel-item:only-child::after {width: 0;}#sk-container-id-1 div.sk-dashed-wrapped {border: 1px dashed gray;margin: 0 0.4em 0.5em 0.4em;box-sizing: border-box;padding-bottom: 0.4em;background-color: white;}#sk-container-id-1 div.sk-label label {font-family: monospace;font-weight: bold;display: inline-block;line-height: 1.2em;}#sk-container-id-1 div.sk-label-container {text-align: center;}#sk-container-id-1 div.sk-container {/* jupyter's `normalize.less` sets `[hidden] { display: none; }` but bootstrap.min.css set `[hidden] { display: none !important; }` so we also need the `!important` here to be able to override the default hidden behavior on the sphinx rendered scikit-learn.org. See: https://github.com/scikit-learn/scikit-learn/issues/21755 */display: inline-block !important;position: relative;}#sk-container-id-1 div.sk-text-repr-fallback {display: none;}</style><div id=\"sk-container-id-1\" class=\"sk-top-container\"><div class=\"sk-text-repr-fallback\"><pre>GridSearchCV(cv=KFold(n_splits=5, random_state=2021, shuffle=True),\n",
       "             error_score=&#x27;raise&#x27;,\n",
       "             estimator=KerasClassifier(batch_size=40, epochs=60, model=&lt;keras.engine.sequential.Sequential object at 0x000001D5C9A93F50&gt;, validation_split=0.2),\n",
       "             param_grid={&#x27;optimizer&#x27;: [&#x27;SGD&#x27;, &#x27;RMSprop&#x27;, &#x27;Adagrad&#x27;]},\n",
       "             refit=&#x27;True&#x27;, scoring=&#x27;accuracy&#x27;, verbose=1)</pre><b>In a Jupyter environment, please rerun this cell to show the HTML representation or trust the notebook. <br />On GitHub, the HTML representation is unable to render, please try loading this page with nbviewer.org.</b></div><div class=\"sk-container\" hidden><div class=\"sk-item sk-dashed-wrapped\"><div class=\"sk-label-container\"><div class=\"sk-label sk-toggleable\"><input class=\"sk-toggleable__control sk-hidden--visually\" id=\"sk-estimator-id-1\" type=\"checkbox\" ><label for=\"sk-estimator-id-1\" class=\"sk-toggleable__label sk-toggleable__label-arrow\">GridSearchCV</label><div class=\"sk-toggleable__content\"><pre>GridSearchCV(cv=KFold(n_splits=5, random_state=2021, shuffle=True),\n",
       "             error_score=&#x27;raise&#x27;,\n",
       "             estimator=KerasClassifier(batch_size=40, epochs=60, model=&lt;keras.engine.sequential.Sequential object at 0x000001D5C9A93F50&gt;, validation_split=0.2),\n",
       "             param_grid={&#x27;optimizer&#x27;: [&#x27;SGD&#x27;, &#x27;RMSprop&#x27;, &#x27;Adagrad&#x27;]},\n",
       "             refit=&#x27;True&#x27;, scoring=&#x27;accuracy&#x27;, verbose=1)</pre></div></div></div><div class=\"sk-parallel\"><div class=\"sk-parallel-item\"><div class=\"sk-item\"><div class=\"sk-label-container\"><div class=\"sk-label sk-toggleable\"><input class=\"sk-toggleable__control sk-hidden--visually\" id=\"sk-estimator-id-2\" type=\"checkbox\" ><label for=\"sk-estimator-id-2\" class=\"sk-toggleable__label sk-toggleable__label-arrow\">estimator: KerasClassifier</label><div class=\"sk-toggleable__content\"><pre>KerasClassifier(\n",
       "\tmodel=&lt;keras.engine.sequential.Sequential object at 0x000001D5C9A93F50&gt;\n",
       "\tbuild_fn=None\n",
       "\twarm_start=False\n",
       "\trandom_state=None\n",
       "\toptimizer=rmsprop\n",
       "\tloss=None\n",
       "\tmetrics=None\n",
       "\tbatch_size=40\n",
       "\tvalidation_batch_size=None\n",
       "\tverbose=1\n",
       "\tcallbacks=None\n",
       "\tvalidation_split=0.2\n",
       "\tshuffle=True\n",
       "\trun_eagerly=False\n",
       "\tepochs=60\n",
       "\tclass_weight=None\n",
       ")</pre></div></div></div><div class=\"sk-serial\"><div class=\"sk-item\"><div class=\"sk-estimator sk-toggleable\"><input class=\"sk-toggleable__control sk-hidden--visually\" id=\"sk-estimator-id-3\" type=\"checkbox\" ><label for=\"sk-estimator-id-3\" class=\"sk-toggleable__label sk-toggleable__label-arrow\">KerasClassifier</label><div class=\"sk-toggleable__content\"><pre>KerasClassifier(\n",
       "\tmodel=&lt;keras.engine.sequential.Sequential object at 0x000001D5C9A93F50&gt;\n",
       "\tbuild_fn=None\n",
       "\twarm_start=False\n",
       "\trandom_state=None\n",
       "\toptimizer=rmsprop\n",
       "\tloss=None\n",
       "\tmetrics=None\n",
       "\tbatch_size=40\n",
       "\tvalidation_batch_size=None\n",
       "\tverbose=1\n",
       "\tcallbacks=None\n",
       "\tvalidation_split=0.2\n",
       "\tshuffle=True\n",
       "\trun_eagerly=False\n",
       "\tepochs=60\n",
       "\tclass_weight=None\n",
       ")</pre></div></div></div></div></div></div></div></div></div></div>"
      ],
      "text/plain": [
       "GridSearchCV(cv=KFold(n_splits=5, random_state=2021, shuffle=True),\n",
       "             error_score='raise',\n",
       "             estimator=KerasClassifier(batch_size=40, epochs=60, model=<keras.engine.sequential.Sequential object at 0x000001D5C9A93F50>, validation_split=0.2),\n",
       "             param_grid={'optimizer': ['SGD', 'RMSprop', 'Adagrad']},\n",
       "             refit='True', scoring='accuracy', verbose=1)"
      ]
     },
     "execution_count": 19,
     "metadata": {},
     "output_type": "execute_result"
    }
   ],
   "source": [
    "grid_search = GridSearchCV(estimator = model, param_grid = param_grid, cv = kf, scoring = 'accuracy',refit = 'True', verbose = 1,error_score='raise',)\n",
    "grid_search.fit(X_train,y_train)"
   ]
  },
  {
   "cell_type": "code",
   "execution_count": 20,
   "id": "6f612303",
   "metadata": {
    "tags": []
   },
   "outputs": [
    {
     "name": "stdout",
     "output_type": "stream",
     "text": [
      "Best: 0.833500 using {'optimizer': 'RMSprop'}\n"
     ]
    }
   ],
   "source": [
    "print(\"Best: %f using %s\" % (grid_search.best_score_,grid_search.best_params_))"
   ]
  },
  {
   "cell_type": "code",
   "execution_count": 21,
   "id": "c9890f14",
   "metadata": {
    "tags": []
   },
   "outputs": [],
   "source": [
    "means = grid_search.cv_results_['mean_test_score']\n",
    "stds = grid_search.cv_results_['std_test_score']\n",
    "params = grid_search.cv_results_['params']"
   ]
  },
  {
   "cell_type": "code",
   "execution_count": 22,
   "id": "3e853ad5",
   "metadata": {
    "tags": []
   },
   "outputs": [
    {
     "name": "stdout",
     "output_type": "stream",
     "text": [
      "0.829750 (0.009918) with {'optimizer': 'SGD'}\n",
      "0.833500 (0.005327) with {'optimizer': 'RMSprop'}\n",
      "0.829250 (0.003588) with {'optimizer': 'Adagrad'}\n"
     ]
    }
   ],
   "source": [
    "for mean, stdev, param in zip(means, stds, params):\n",
    "    print(\"%f (%f) with %r\" %(mean, stdev,param))"
   ]
  },
  {
   "cell_type": "code",
   "execution_count": 23,
   "id": "8a34ec04",
   "metadata": {
    "tags": []
   },
   "outputs": [],
   "source": [
    "best_mlp_model = grid_search.best_estimator_"
   ]
  },
  {
   "cell_type": "code",
   "execution_count": 24,
   "id": "b4c71c56",
   "metadata": {
    "tags": []
   },
   "outputs": [
    {
     "name": "stdout",
     "output_type": "stream",
     "text": [
      "Epoch 1/100\n",
      "100/100 [==============================] - 0s 4ms/step - loss: 0.3779 - accuracy: 0.8355 - precision: 0.7894 - recall: 0.8099 - val_loss: 0.4064 - val_accuracy: 0.8290 - val_precision: 0.7423 - val_recall: 0.8619\n",
      "Epoch 2/100\n",
      "100/100 [==============================] - 0s 2ms/step - loss: 0.3798 - accuracy: 0.8360 - precision: 0.7876 - recall: 0.8148 - val_loss: 0.4013 - val_accuracy: 0.8330 - val_precision: 0.8060 - val_recall: 0.7545\n",
      "Epoch 3/100\n",
      "100/100 [==============================] - 0s 2ms/step - loss: 0.3736 - accuracy: 0.8360 - precision: 0.7886 - recall: 0.8130 - val_loss: 0.3753 - val_accuracy: 0.8340 - val_precision: 0.7863 - val_recall: 0.7903\n",
      "Epoch 4/100\n",
      "100/100 [==============================] - 0s 2ms/step - loss: 0.3757 - accuracy: 0.8325 - precision: 0.7834 - recall: 0.8105 - val_loss: 0.3815 - val_accuracy: 0.8300 - val_precision: 0.7588 - val_recall: 0.8286\n",
      "Epoch 5/100\n",
      "100/100 [==============================] - 0s 2ms/step - loss: 0.3739 - accuracy: 0.8322 - precision: 0.7833 - recall: 0.8099 - val_loss: 0.3755 - val_accuracy: 0.8350 - val_precision: 0.7868 - val_recall: 0.7928\n",
      "Epoch 6/100\n",
      "100/100 [==============================] - 0s 2ms/step - loss: 0.3690 - accuracy: 0.8355 - precision: 0.7839 - recall: 0.8198 - val_loss: 0.3721 - val_accuracy: 0.8340 - val_precision: 0.7737 - val_recall: 0.8133\n",
      "Epoch 7/100\n",
      "100/100 [==============================] - 0s 2ms/step - loss: 0.3809 - accuracy: 0.8380 - precision: 0.7869 - recall: 0.8228 - val_loss: 0.4023 - val_accuracy: 0.8330 - val_precision: 0.8060 - val_recall: 0.7545\n",
      "Epoch 8/100\n",
      "100/100 [==============================] - 0s 2ms/step - loss: 0.3783 - accuracy: 0.8378 - precision: 0.7871 - recall: 0.8216 - val_loss: 0.3930 - val_accuracy: 0.8340 - val_precision: 0.8032 - val_recall: 0.7621\n",
      "Epoch 9/100\n",
      "100/100 [==============================] - 0s 2ms/step - loss: 0.3841 - accuracy: 0.8353 - precision: 0.7858 - recall: 0.8154 - val_loss: 0.3723 - val_accuracy: 0.8320 - val_precision: 0.7674 - val_recall: 0.8184\n",
      "Epoch 10/100\n",
      "100/100 [==============================] - 0s 2ms/step - loss: 0.3763 - accuracy: 0.8367 - precision: 0.7873 - recall: 0.8179 - val_loss: 0.3714 - val_accuracy: 0.8320 - val_precision: 0.7794 - val_recall: 0.7954\n",
      "Epoch 11/100\n",
      "100/100 [==============================] - 0s 2ms/step - loss: 0.3737 - accuracy: 0.8340 - precision: 0.7808 - recall: 0.8204 - val_loss: 0.3968 - val_accuracy: 0.8300 - val_precision: 0.7439 - val_recall: 0.8619\n",
      "Epoch 12/100\n",
      "100/100 [==============================] - 0s 2ms/step - loss: 0.3725 - accuracy: 0.8330 - precision: 0.7810 - recall: 0.8167 - val_loss: 0.3831 - val_accuracy: 0.8270 - val_precision: 0.7500 - val_recall: 0.8363\n",
      "Epoch 13/100\n",
      "100/100 [==============================] - 0s 2ms/step - loss: 0.3691 - accuracy: 0.8382 - precision: 0.7857 - recall: 0.8259 - val_loss: 0.3686 - val_accuracy: 0.8350 - val_precision: 0.7770 - val_recall: 0.8107\n",
      "Epoch 14/100\n",
      "100/100 [==============================] - 0s 2ms/step - loss: 0.3714 - accuracy: 0.8347 - precision: 0.7832 - recall: 0.8185 - val_loss: 0.3687 - val_accuracy: 0.8320 - val_precision: 0.7700 - val_recall: 0.8133\n",
      "Epoch 15/100\n",
      "100/100 [==============================] - 0s 2ms/step - loss: 0.3712 - accuracy: 0.8355 - precision: 0.7826 - recall: 0.8222 - val_loss: 0.3742 - val_accuracy: 0.8340 - val_precision: 0.7848 - val_recall: 0.7928\n",
      "Epoch 16/100\n",
      "100/100 [==============================] - 0s 2ms/step - loss: 0.3682 - accuracy: 0.8353 - precision: 0.7821 - recall: 0.8222 - val_loss: 0.4121 - val_accuracy: 0.8330 - val_precision: 0.8060 - val_recall: 0.7545\n",
      "Epoch 17/100\n",
      "100/100 [==============================] - 0s 2ms/step - loss: 0.3666 - accuracy: 0.8360 - precision: 0.7845 - recall: 0.8204 - val_loss: 0.3726 - val_accuracy: 0.8310 - val_precision: 0.7581 - val_recall: 0.8338\n",
      "Epoch 18/100\n",
      "100/100 [==============================] - 0s 2ms/step - loss: 0.3716 - accuracy: 0.8335 - precision: 0.7770 - recall: 0.8259 - val_loss: 0.3711 - val_accuracy: 0.8320 - val_precision: 0.7794 - val_recall: 0.7954\n",
      "Epoch 19/100\n",
      "100/100 [==============================] - 0s 2ms/step - loss: 0.3678 - accuracy: 0.8357 - precision: 0.7834 - recall: 0.8216 - val_loss: 0.3921 - val_accuracy: 0.8300 - val_precision: 0.7418 - val_recall: 0.8670\n",
      "Epoch 20/100\n",
      "100/100 [==============================] - 0s 2ms/step - loss: 0.3772 - accuracy: 0.8363 - precision: 0.7810 - recall: 0.8278 - val_loss: 0.3754 - val_accuracy: 0.8340 - val_precision: 0.7907 - val_recall: 0.7826\n",
      "Epoch 21/100\n",
      "100/100 [==============================] - 0s 2ms/step - loss: 0.3729 - accuracy: 0.8370 - precision: 0.7827 - recall: 0.8272 - val_loss: 0.3669 - val_accuracy: 0.8360 - val_precision: 0.7802 - val_recall: 0.8082\n",
      "Epoch 22/100\n",
      "100/100 [==============================] - 0s 2ms/step - loss: 0.3644 - accuracy: 0.8347 - precision: 0.7812 - recall: 0.8222 - val_loss: 0.3656 - val_accuracy: 0.8340 - val_precision: 0.7698 - val_recall: 0.8210\n",
      "Epoch 23/100\n",
      "100/100 [==============================] - 0s 2ms/step - loss: 0.3754 - accuracy: 0.8357 - precision: 0.7785 - recall: 0.8309 - val_loss: 0.3653 - val_accuracy: 0.8360 - val_precision: 0.7775 - val_recall: 0.8133\n",
      "Epoch 24/100\n",
      "100/100 [==============================] - 0s 2ms/step - loss: 0.3722 - accuracy: 0.8363 - precision: 0.7813 - recall: 0.8272 - val_loss: 0.3654 - val_accuracy: 0.8310 - val_precision: 0.7681 - val_recall: 0.8133\n",
      "Epoch 25/100\n",
      "100/100 [==============================] - 0s 2ms/step - loss: 0.3674 - accuracy: 0.8367 - precision: 0.7803 - recall: 0.8309 - val_loss: 0.4153 - val_accuracy: 0.8330 - val_precision: 0.8043 - val_recall: 0.7570\n",
      "Epoch 26/100\n",
      "100/100 [==============================] - 0s 2ms/step - loss: 0.3695 - accuracy: 0.8363 - precision: 0.7791 - recall: 0.8315 - val_loss: 0.3645 - val_accuracy: 0.8340 - val_precision: 0.7698 - val_recall: 0.8210\n",
      "Epoch 27/100\n",
      "100/100 [==============================] - 0s 2ms/step - loss: 0.3613 - accuracy: 0.8365 - precision: 0.7795 - recall: 0.8315 - val_loss: 0.4136 - val_accuracy: 0.8260 - val_precision: 0.7237 - val_recall: 0.8977\n",
      "Epoch 28/100\n",
      "100/100 [==============================] - 0s 2ms/step - loss: 0.3704 - accuracy: 0.8338 - precision: 0.7755 - recall: 0.8296 - val_loss: 0.3947 - val_accuracy: 0.8270 - val_precision: 0.7339 - val_recall: 0.8747\n",
      "Epoch 29/100\n",
      "100/100 [==============================] - 0s 2ms/step - loss: 0.3752 - accuracy: 0.8388 - precision: 0.7813 - recall: 0.8358 - val_loss: 0.3636 - val_accuracy: 0.8360 - val_precision: 0.7696 - val_recall: 0.8286\n",
      "Epoch 30/100\n",
      "100/100 [==============================] - 0s 2ms/step - loss: 0.3628 - accuracy: 0.8390 - precision: 0.7831 - recall: 0.8333 - val_loss: 0.3636 - val_accuracy: 0.8360 - val_precision: 0.7696 - val_recall: 0.8286\n",
      "Epoch 31/100\n",
      "100/100 [==============================] - 0s 2ms/step - loss: 0.3727 - accuracy: 0.8382 - precision: 0.7775 - recall: 0.8414 - val_loss: 0.4016 - val_accuracy: 0.8370 - val_precision: 0.8032 - val_recall: 0.7724\n",
      "Epoch 32/100\n",
      "100/100 [==============================] - 0s 2ms/step - loss: 0.3636 - accuracy: 0.8380 - precision: 0.7790 - recall: 0.8377 - val_loss: 0.3636 - val_accuracy: 0.8330 - val_precision: 0.7642 - val_recall: 0.8286\n",
      "Epoch 33/100\n",
      "100/100 [==============================] - 0s 2ms/step - loss: 0.3666 - accuracy: 0.8380 - precision: 0.7777 - recall: 0.8401 - val_loss: 0.3626 - val_accuracy: 0.8360 - val_precision: 0.7709 - val_recall: 0.8261\n",
      "Epoch 34/100\n",
      "100/100 [==============================] - 0s 2ms/step - loss: 0.3622 - accuracy: 0.8390 - precision: 0.7798 - recall: 0.8395 - val_loss: 0.3744 - val_accuracy: 0.8360 - val_precision: 0.7802 - val_recall: 0.8082\n",
      "Epoch 35/100\n",
      "100/100 [==============================] - 0s 2ms/step - loss: 0.3630 - accuracy: 0.8395 - precision: 0.7775 - recall: 0.8457 - val_loss: 0.3705 - val_accuracy: 0.8330 - val_precision: 0.7523 - val_recall: 0.8542\n",
      "Epoch 36/100\n",
      "100/100 [==============================] - 0s 2ms/step - loss: 0.3646 - accuracy: 0.8380 - precision: 0.7765 - recall: 0.8426 - val_loss: 0.3672 - val_accuracy: 0.8270 - val_precision: 0.7500 - val_recall: 0.8363\n",
      "Epoch 37/100\n"
     ]
    },
    {
     "name": "stdout",
     "output_type": "stream",
     "text": [
      "100/100 [==============================] - 0s 2ms/step - loss: 0.3617 - accuracy: 0.8370 - precision: 0.7772 - recall: 0.8377 - val_loss: 0.3666 - val_accuracy: 0.8360 - val_precision: 0.7775 - val_recall: 0.8133\n",
      "Epoch 38/100\n",
      "100/100 [==============================] - 0s 2ms/step - loss: 0.3631 - accuracy: 0.8397 - precision: 0.7761 - recall: 0.8494 - val_loss: 0.3692 - val_accuracy: 0.8360 - val_precision: 0.7802 - val_recall: 0.8082\n",
      "Epoch 39/100\n",
      "100/100 [==============================] - 0s 2ms/step - loss: 0.3650 - accuracy: 0.8413 - precision: 0.7784 - recall: 0.8500 - val_loss: 0.3644 - val_accuracy: 0.8310 - val_precision: 0.7681 - val_recall: 0.8133\n",
      "Epoch 40/100\n",
      "100/100 [==============================] - 0s 2ms/step - loss: 0.3619 - accuracy: 0.8397 - precision: 0.7780 - recall: 0.8457 - val_loss: 0.3707 - val_accuracy: 0.8300 - val_precision: 0.7450 - val_recall: 0.8593\n",
      "Epoch 41/100\n",
      "100/100 [==============================] - 0s 2ms/step - loss: 0.3640 - accuracy: 0.8382 - precision: 0.7750 - recall: 0.8463 - val_loss: 0.3678 - val_accuracy: 0.8350 - val_precision: 0.7756 - val_recall: 0.8133\n",
      "Epoch 42/100\n",
      "100/100 [==============================] - 0s 2ms/step - loss: 0.3616 - accuracy: 0.8390 - precision: 0.7735 - recall: 0.8519 - val_loss: 0.3610 - val_accuracy: 0.8360 - val_precision: 0.7696 - val_recall: 0.8286\n",
      "Epoch 43/100\n",
      "100/100 [==============================] - 0s 2ms/step - loss: 0.3664 - accuracy: 0.8403 - precision: 0.7785 - recall: 0.8463 - val_loss: 0.4397 - val_accuracy: 0.8330 - val_precision: 0.8027 - val_recall: 0.7596\n",
      "Epoch 44/100\n",
      "100/100 [==============================] - 0s 2ms/step - loss: 0.3651 - accuracy: 0.8390 - precision: 0.7763 - recall: 0.8463 - val_loss: 0.3617 - val_accuracy: 0.8300 - val_precision: 0.7552 - val_recall: 0.8363\n",
      "Epoch 45/100\n",
      "100/100 [==============================] - 0s 2ms/step - loss: 0.3630 - accuracy: 0.8378 - precision: 0.7763 - recall: 0.8420 - val_loss: 0.3687 - val_accuracy: 0.8310 - val_precision: 0.7445 - val_recall: 0.8645\n",
      "Epoch 46/100\n",
      "100/100 [==============================] - 0s 2ms/step - loss: 0.3725 - accuracy: 0.8372 - precision: 0.7733 - recall: 0.8463 - val_loss: 0.3602 - val_accuracy: 0.8360 - val_precision: 0.7696 - val_recall: 0.8286\n",
      "Epoch 47/100\n",
      "100/100 [==============================] - 0s 2ms/step - loss: 0.3673 - accuracy: 0.8357 - precision: 0.7750 - recall: 0.8377 - val_loss: 0.3819 - val_accuracy: 0.8280 - val_precision: 0.7365 - val_recall: 0.8721\n",
      "Epoch 48/100\n",
      "100/100 [==============================] - 0s 2ms/step - loss: 0.3640 - accuracy: 0.8365 - precision: 0.7747 - recall: 0.8407 - val_loss: 0.3630 - val_accuracy: 0.8360 - val_precision: 0.7709 - val_recall: 0.8261\n",
      "Epoch 49/100\n",
      "100/100 [==============================] - 0s 2ms/step - loss: 0.3575 - accuracy: 0.8380 - precision: 0.7730 - recall: 0.8494 - val_loss: 0.3637 - val_accuracy: 0.8290 - val_precision: 0.7511 - val_recall: 0.8414\n",
      "Epoch 50/100\n",
      "100/100 [==============================] - 0s 2ms/step - loss: 0.3618 - accuracy: 0.8393 - precision: 0.7743 - recall: 0.8512 - val_loss: 0.3699 - val_accuracy: 0.8300 - val_precision: 0.7429 - val_recall: 0.8645\n",
      "Epoch 51/100\n",
      "100/100 [==============================] - 0s 2ms/step - loss: 0.3640 - accuracy: 0.8405 - precision: 0.7749 - recall: 0.8543 - val_loss: 0.3602 - val_accuracy: 0.8290 - val_precision: 0.7535 - val_recall: 0.8363\n",
      "Epoch 52/100\n",
      "100/100 [==============================] - 0s 2ms/step - loss: 0.3636 - accuracy: 0.8415 - precision: 0.7788 - recall: 0.8500 - val_loss: 0.3643 - val_accuracy: 0.8290 - val_precision: 0.7444 - val_recall: 0.8568\n",
      "Epoch 53/100\n",
      "100/100 [==============================] - 0s 2ms/step - loss: 0.3646 - accuracy: 0.8390 - precision: 0.7742 - recall: 0.8506 - val_loss: 0.3634 - val_accuracy: 0.8280 - val_precision: 0.7506 - val_recall: 0.8389\n",
      "Epoch 54/100\n",
      "100/100 [==============================] - 0s 2ms/step - loss: 0.3636 - accuracy: 0.8397 - precision: 0.7748 - recall: 0.8519 - val_loss: 0.3625 - val_accuracy: 0.8330 - val_precision: 0.7534 - val_recall: 0.8517\n",
      "Epoch 55/100\n",
      "100/100 [==============================] - 0s 2ms/step - loss: 0.3784 - accuracy: 0.8365 - precision: 0.7689 - recall: 0.8525 - val_loss: 0.3599 - val_accuracy: 0.8330 - val_precision: 0.7642 - val_recall: 0.8286\n",
      "Epoch 56/100\n",
      "100/100 [==============================] - 0s 2ms/step - loss: 0.3600 - accuracy: 0.8380 - precision: 0.7787 - recall: 0.8383 - val_loss: 0.3757 - val_accuracy: 0.8270 - val_precision: 0.7359 - val_recall: 0.8696\n",
      "Epoch 57/100\n",
      "100/100 [==============================] - 0s 2ms/step - loss: 0.3636 - accuracy: 0.8418 - precision: 0.7755 - recall: 0.8574 - val_loss: 0.3605 - val_accuracy: 0.8270 - val_precision: 0.7500 - val_recall: 0.8363\n",
      "Epoch 58/100\n",
      "100/100 [==============================] - 0s 2ms/step - loss: 0.3571 - accuracy: 0.8397 - precision: 0.7724 - recall: 0.8568 - val_loss: 0.3605 - val_accuracy: 0.8290 - val_precision: 0.7511 - val_recall: 0.8414\n",
      "Epoch 59/100\n",
      "100/100 [==============================] - 0s 2ms/step - loss: 0.3646 - accuracy: 0.8428 - precision: 0.7745 - recall: 0.8630 - val_loss: 0.3761 - val_accuracy: 0.8280 - val_precision: 0.7365 - val_recall: 0.8721\n",
      "Epoch 60/100\n",
      "100/100 [==============================] - 0s 2ms/step - loss: 0.3670 - accuracy: 0.8347 - precision: 0.7704 - recall: 0.8432 - val_loss: 0.3634 - val_accuracy: 0.8320 - val_precision: 0.7506 - val_recall: 0.8542\n",
      "Epoch 61/100\n",
      "100/100 [==============================] - 0s 2ms/step - loss: 0.3609 - accuracy: 0.8403 - precision: 0.7745 - recall: 0.8543 - val_loss: 0.3766 - val_accuracy: 0.8280 - val_precision: 0.7355 - val_recall: 0.8747\n",
      "Epoch 62/100\n",
      "100/100 [==============================] - 0s 2ms/step - loss: 0.3570 - accuracy: 0.8407 - precision: 0.7729 - recall: 0.8593 - val_loss: 0.3602 - val_accuracy: 0.8320 - val_precision: 0.7517 - val_recall: 0.8517\n",
      "Epoch 63/100\n",
      "100/100 [==============================] - 0s 2ms/step - loss: 0.3591 - accuracy: 0.8382 - precision: 0.7707 - recall: 0.8549 - val_loss: 0.3593 - val_accuracy: 0.8290 - val_precision: 0.7535 - val_recall: 0.8363\n",
      "Epoch 64/100\n",
      "100/100 [==============================] - 0s 2ms/step - loss: 0.3568 - accuracy: 0.8403 - precision: 0.7702 - recall: 0.8630 - val_loss: 0.3639 - val_accuracy: 0.8350 - val_precision: 0.7716 - val_recall: 0.8210\n",
      "Epoch 65/100\n",
      "100/100 [==============================] - 0s 2ms/step - loss: 0.3729 - accuracy: 0.8353 - precision: 0.7671 - recall: 0.8519 - val_loss: 0.4282 - val_accuracy: 0.8190 - val_precision: 0.7067 - val_recall: 0.9182\n",
      "Epoch 66/100\n",
      "100/100 [==============================] - 0s 2ms/step - loss: 0.3645 - accuracy: 0.8397 - precision: 0.7761 - recall: 0.8494 - val_loss: 0.3578 - val_accuracy: 0.8330 - val_precision: 0.7642 - val_recall: 0.8286\n",
      "Epoch 67/100\n",
      "100/100 [==============================] - 0s 2ms/step - loss: 0.3596 - accuracy: 0.8400 - precision: 0.7756 - recall: 0.8512 - val_loss: 0.3697 - val_accuracy: 0.8280 - val_precision: 0.7386 - val_recall: 0.8670\n",
      "Epoch 68/100\n",
      "100/100 [==============================] - 0s 2ms/step - loss: 0.3592 - accuracy: 0.8418 - precision: 0.7725 - recall: 0.8636 - val_loss: 0.3573 - val_accuracy: 0.8330 - val_precision: 0.7617 - val_recall: 0.8338\n",
      "Epoch 69/100\n",
      "100/100 [==============================] - 0s 2ms/step - loss: 0.3556 - accuracy: 0.8375 - precision: 0.7694 - recall: 0.8549 - val_loss: 0.3657 - val_accuracy: 0.8350 - val_precision: 0.7703 - val_recall: 0.8235\n",
      "Epoch 70/100\n",
      "100/100 [==============================] - 0s 2ms/step - loss: 0.3576 - accuracy: 0.8410 - precision: 0.7727 - recall: 0.8605 - val_loss: 0.3611 - val_accuracy: 0.8310 - val_precision: 0.7445 - val_recall: 0.8645\n",
      "Epoch 71/100\n",
      "100/100 [==============================] - 0s 2ms/step - loss: 0.3582 - accuracy: 0.8382 - precision: 0.7672 - recall: 0.8623 - val_loss: 0.3576 - val_accuracy: 0.8280 - val_precision: 0.7517 - val_recall: 0.8363\n",
      "Epoch 72/100\n",
      "100/100 [==============================] - 0s 2ms/step - loss: 0.3701 - accuracy: 0.8375 - precision: 0.7716 - recall: 0.8506 - val_loss: 0.3706 - val_accuracy: 0.8320 - val_precision: 0.7461 - val_recall: 0.8645\n",
      "Epoch 73/100\n"
     ]
    },
    {
     "name": "stdout",
     "output_type": "stream",
     "text": [
      "100/100 [==============================] - 0s 2ms/step - loss: 0.3604 - accuracy: 0.8415 - precision: 0.7745 - recall: 0.8586 - val_loss: 0.3602 - val_accuracy: 0.8360 - val_precision: 0.7709 - val_recall: 0.8261\n",
      "Epoch 74/100\n",
      "100/100 [==============================] - 0s 2ms/step - loss: 0.3690 - accuracy: 0.8372 - precision: 0.7690 - recall: 0.8549 - val_loss: 0.3571 - val_accuracy: 0.8320 - val_precision: 0.7611 - val_recall: 0.8312\n",
      "Epoch 75/100\n",
      "100/100 [==============================] - 0s 2ms/step - loss: 0.3579 - accuracy: 0.8395 - precision: 0.7750 - recall: 0.8506 - val_loss: 0.3845 - val_accuracy: 0.8280 - val_precision: 0.7267 - val_recall: 0.8977\n",
      "Epoch 76/100\n",
      "100/100 [==============================] - 0s 2ms/step - loss: 0.3584 - accuracy: 0.8415 - precision: 0.7748 - recall: 0.8580 - val_loss: 0.3890 - val_accuracy: 0.8280 - val_precision: 0.7230 - val_recall: 0.9079\n",
      "Epoch 77/100\n",
      "100/100 [==============================] - 0s 2ms/step - loss: 0.3582 - accuracy: 0.8393 - precision: 0.7688 - recall: 0.8623 - val_loss: 0.3620 - val_accuracy: 0.8340 - val_precision: 0.7660 - val_recall: 0.8286\n",
      "Epoch 78/100\n",
      "100/100 [==============================] - 0s 2ms/step - loss: 0.3599 - accuracy: 0.8413 - precision: 0.7713 - recall: 0.8642 - val_loss: 0.3565 - val_accuracy: 0.8290 - val_precision: 0.7535 - val_recall: 0.8363\n",
      "Epoch 79/100\n",
      "100/100 [==============================] - 0s 2ms/step - loss: 0.3563 - accuracy: 0.8363 - precision: 0.7691 - recall: 0.8512 - val_loss: 0.3710 - val_accuracy: 0.8340 - val_precision: 0.7737 - val_recall: 0.8133\n",
      "Epoch 80/100\n",
      "100/100 [==============================] - 0s 2ms/step - loss: 0.3821 - accuracy: 0.8325 - precision: 0.7645 - recall: 0.8475 - val_loss: 0.3576 - val_accuracy: 0.8300 - val_precision: 0.7564 - val_recall: 0.8338\n",
      "Epoch 81/100\n",
      "100/100 [==============================] - 0s 2ms/step - loss: 0.3601 - accuracy: 0.8380 - precision: 0.7758 - recall: 0.8438 - val_loss: 0.3581 - val_accuracy: 0.8360 - val_precision: 0.7709 - val_recall: 0.8261\n",
      "Epoch 82/100\n",
      "100/100 [==============================] - 0s 2ms/step - loss: 0.3602 - accuracy: 0.8405 - precision: 0.7746 - recall: 0.8549 - val_loss: 0.3598 - val_accuracy: 0.8290 - val_precision: 0.7444 - val_recall: 0.8568\n",
      "Epoch 83/100\n",
      "100/100 [==============================] - 0s 2ms/step - loss: 0.3614 - accuracy: 0.8375 - precision: 0.7665 - recall: 0.8611 - val_loss: 0.3638 - val_accuracy: 0.8310 - val_precision: 0.7445 - val_recall: 0.8645\n",
      "Epoch 84/100\n",
      "100/100 [==============================] - 0s 2ms/step - loss: 0.3548 - accuracy: 0.8418 - precision: 0.7752 - recall: 0.8580 - val_loss: 0.3570 - val_accuracy: 0.8320 - val_precision: 0.7528 - val_recall: 0.8491\n",
      "Epoch 85/100\n",
      "100/100 [==============================] - 0s 2ms/step - loss: 0.3612 - accuracy: 0.8385 - precision: 0.7679 - recall: 0.8617 - val_loss: 0.3662 - val_accuracy: 0.8320 - val_precision: 0.7506 - val_recall: 0.8542\n",
      "Epoch 86/100\n",
      "100/100 [==============================] - 0s 2ms/step - loss: 0.3628 - accuracy: 0.8405 - precision: 0.7737 - recall: 0.8568 - val_loss: 0.3610 - val_accuracy: 0.8300 - val_precision: 0.7564 - val_recall: 0.8338\n",
      "Epoch 87/100\n",
      "100/100 [==============================] - 0s 2ms/step - loss: 0.3674 - accuracy: 0.8347 - precision: 0.7645 - recall: 0.8556 - val_loss: 0.3567 - val_accuracy: 0.8290 - val_precision: 0.7535 - val_recall: 0.8363\n",
      "Epoch 88/100\n",
      "100/100 [==============================] - 0s 2ms/step - loss: 0.3562 - accuracy: 0.8375 - precision: 0.7683 - recall: 0.8574 - val_loss: 0.3561 - val_accuracy: 0.8290 - val_precision: 0.7523 - val_recall: 0.8389\n",
      "Epoch 89/100\n",
      "100/100 [==============================] - 0s 2ms/step - loss: 0.3577 - accuracy: 0.8375 - precision: 0.7680 - recall: 0.8580 - val_loss: 0.3565 - val_accuracy: 0.8290 - val_precision: 0.7523 - val_recall: 0.8389\n",
      "Epoch 90/100\n",
      "100/100 [==============================] - 0s 2ms/step - loss: 0.3661 - accuracy: 0.8380 - precision: 0.7673 - recall: 0.8611 - val_loss: 0.3563 - val_accuracy: 0.8300 - val_precision: 0.7540 - val_recall: 0.8389\n",
      "Epoch 91/100\n",
      "100/100 [==============================] - 0s 2ms/step - loss: 0.3640 - accuracy: 0.8403 - precision: 0.7739 - recall: 0.8556 - val_loss: 0.3591 - val_accuracy: 0.8300 - val_precision: 0.7461 - val_recall: 0.8568\n",
      "Epoch 92/100\n",
      "100/100 [==============================] - 0s 2ms/step - loss: 0.3681 - accuracy: 0.8378 - precision: 0.7744 - recall: 0.8457 - val_loss: 0.3572 - val_accuracy: 0.8330 - val_precision: 0.7629 - val_recall: 0.8312\n",
      "Epoch 93/100\n",
      "100/100 [==============================] - 0s 2ms/step - loss: 0.3571 - accuracy: 0.8357 - precision: 0.7665 - recall: 0.8549 - val_loss: 0.3616 - val_accuracy: 0.8290 - val_precision: 0.7412 - val_recall: 0.8645\n",
      "Epoch 94/100\n",
      "100/100 [==============================] - 0s 2ms/step - loss: 0.3599 - accuracy: 0.8367 - precision: 0.7691 - recall: 0.8531 - val_loss: 0.3651 - val_accuracy: 0.8280 - val_precision: 0.7375 - val_recall: 0.8696\n",
      "Epoch 95/100\n",
      "100/100 [==============================] - 0s 2ms/step - loss: 0.3600 - accuracy: 0.8393 - precision: 0.7712 - recall: 0.8574 - val_loss: 0.3571 - val_accuracy: 0.8310 - val_precision: 0.7511 - val_recall: 0.8491\n",
      "Epoch 96/100\n",
      "100/100 [==============================] - 0s 2ms/step - loss: 0.3590 - accuracy: 0.8390 - precision: 0.7690 - recall: 0.8611 - val_loss: 0.3817 - val_accuracy: 0.8350 - val_precision: 0.7770 - val_recall: 0.8107\n",
      "Epoch 97/100\n",
      "100/100 [==============================] - 0s 2ms/step - loss: 0.3691 - accuracy: 0.8405 - precision: 0.7758 - recall: 0.8525 - val_loss: 0.3698 - val_accuracy: 0.8280 - val_precision: 0.7375 - val_recall: 0.8696\n",
      "Epoch 98/100\n",
      "100/100 [==============================] - 0s 2ms/step - loss: 0.3615 - accuracy: 0.8418 - precision: 0.7762 - recall: 0.8562 - val_loss: 0.3562 - val_accuracy: 0.8310 - val_precision: 0.7558 - val_recall: 0.8389\n",
      "Epoch 99/100\n",
      "100/100 [==============================] - 0s 2ms/step - loss: 0.3617 - accuracy: 0.8405 - precision: 0.7737 - recall: 0.8568 - val_loss: 0.3584 - val_accuracy: 0.8310 - val_precision: 0.7456 - val_recall: 0.8619\n",
      "Epoch 100/100\n",
      "100/100 [==============================] - 0s 2ms/step - loss: 0.3592 - accuracy: 0.8410 - precision: 0.7733 - recall: 0.8593 - val_loss: 0.3560 - val_accuracy: 0.8310 - val_precision: 0.7534 - val_recall: 0.8440\n"
     ]
    },
    {
     "data": {
      "text/html": [
       "<style>#sk-container-id-2 {color: black;}#sk-container-id-2 pre{padding: 0;}#sk-container-id-2 div.sk-toggleable {background-color: white;}#sk-container-id-2 label.sk-toggleable__label {cursor: pointer;display: block;width: 100%;margin-bottom: 0;padding: 0.3em;box-sizing: border-box;text-align: center;}#sk-container-id-2 label.sk-toggleable__label-arrow:before {content: \"▸\";float: left;margin-right: 0.25em;color: #696969;}#sk-container-id-2 label.sk-toggleable__label-arrow:hover:before {color: black;}#sk-container-id-2 div.sk-estimator:hover label.sk-toggleable__label-arrow:before {color: black;}#sk-container-id-2 div.sk-toggleable__content {max-height: 0;max-width: 0;overflow: hidden;text-align: left;background-color: #f0f8ff;}#sk-container-id-2 div.sk-toggleable__content pre {margin: 0.2em;color: black;border-radius: 0.25em;background-color: #f0f8ff;}#sk-container-id-2 input.sk-toggleable__control:checked~div.sk-toggleable__content {max-height: 200px;max-width: 100%;overflow: auto;}#sk-container-id-2 input.sk-toggleable__control:checked~label.sk-toggleable__label-arrow:before {content: \"▾\";}#sk-container-id-2 div.sk-estimator input.sk-toggleable__control:checked~label.sk-toggleable__label {background-color: #d4ebff;}#sk-container-id-2 div.sk-label input.sk-toggleable__control:checked~label.sk-toggleable__label {background-color: #d4ebff;}#sk-container-id-2 input.sk-hidden--visually {border: 0;clip: rect(1px 1px 1px 1px);clip: rect(1px, 1px, 1px, 1px);height: 1px;margin: -1px;overflow: hidden;padding: 0;position: absolute;width: 1px;}#sk-container-id-2 div.sk-estimator {font-family: monospace;background-color: #f0f8ff;border: 1px dotted black;border-radius: 0.25em;box-sizing: border-box;margin-bottom: 0.5em;}#sk-container-id-2 div.sk-estimator:hover {background-color: #d4ebff;}#sk-container-id-2 div.sk-parallel-item::after {content: \"\";width: 100%;border-bottom: 1px solid gray;flex-grow: 1;}#sk-container-id-2 div.sk-label:hover label.sk-toggleable__label {background-color: #d4ebff;}#sk-container-id-2 div.sk-serial::before {content: \"\";position: absolute;border-left: 1px solid gray;box-sizing: border-box;top: 0;bottom: 0;left: 50%;z-index: 0;}#sk-container-id-2 div.sk-serial {display: flex;flex-direction: column;align-items: center;background-color: white;padding-right: 0.2em;padding-left: 0.2em;position: relative;}#sk-container-id-2 div.sk-item {position: relative;z-index: 1;}#sk-container-id-2 div.sk-parallel {display: flex;align-items: stretch;justify-content: center;background-color: white;position: relative;}#sk-container-id-2 div.sk-item::before, #sk-container-id-2 div.sk-parallel-item::before {content: \"\";position: absolute;border-left: 1px solid gray;box-sizing: border-box;top: 0;bottom: 0;left: 50%;z-index: -1;}#sk-container-id-2 div.sk-parallel-item {display: flex;flex-direction: column;z-index: 1;position: relative;background-color: white;}#sk-container-id-2 div.sk-parallel-item:first-child::after {align-self: flex-end;width: 50%;}#sk-container-id-2 div.sk-parallel-item:last-child::after {align-self: flex-start;width: 50%;}#sk-container-id-2 div.sk-parallel-item:only-child::after {width: 0;}#sk-container-id-2 div.sk-dashed-wrapped {border: 1px dashed gray;margin: 0 0.4em 0.5em 0.4em;box-sizing: border-box;padding-bottom: 0.4em;background-color: white;}#sk-container-id-2 div.sk-label label {font-family: monospace;font-weight: bold;display: inline-block;line-height: 1.2em;}#sk-container-id-2 div.sk-label-container {text-align: center;}#sk-container-id-2 div.sk-container {/* jupyter's `normalize.less` sets `[hidden] { display: none; }` but bootstrap.min.css set `[hidden] { display: none !important; }` so we also need the `!important` here to be able to override the default hidden behavior on the sphinx rendered scikit-learn.org. See: https://github.com/scikit-learn/scikit-learn/issues/21755 */display: inline-block !important;position: relative;}#sk-container-id-2 div.sk-text-repr-fallback {display: none;}</style><div id=\"sk-container-id-2\" class=\"sk-top-container\"><div class=\"sk-text-repr-fallback\"><pre>KerasClassifier(\n",
       "\tmodel=&lt;keras.engine.sequential.Sequential object at 0x000001D5CC0D1590&gt;\n",
       "\tbuild_fn=None\n",
       "\twarm_start=False\n",
       "\trandom_state=None\n",
       "\toptimizer=RMSprop\n",
       "\tloss=None\n",
       "\tmetrics=None\n",
       "\tbatch_size=40\n",
       "\tvalidation_batch_size=None\n",
       "\tverbose=1\n",
       "\tcallbacks=None\n",
       "\tvalidation_split=0.2\n",
       "\tshuffle=True\n",
       "\trun_eagerly=False\n",
       "\tepochs=60\n",
       "\tclass_weight=None\n",
       ")</pre><b>In a Jupyter environment, please rerun this cell to show the HTML representation or trust the notebook. <br />On GitHub, the HTML representation is unable to render, please try loading this page with nbviewer.org.</b></div><div class=\"sk-container\" hidden><div class=\"sk-item\"><div class=\"sk-estimator sk-toggleable\"><input class=\"sk-toggleable__control sk-hidden--visually\" id=\"sk-estimator-id-4\" type=\"checkbox\" checked><label for=\"sk-estimator-id-4\" class=\"sk-toggleable__label sk-toggleable__label-arrow\">KerasClassifier</label><div class=\"sk-toggleable__content\"><pre>KerasClassifier(\n",
       "\tmodel=&lt;keras.engine.sequential.Sequential object at 0x000001D5CC0D1590&gt;\n",
       "\tbuild_fn=None\n",
       "\twarm_start=False\n",
       "\trandom_state=None\n",
       "\toptimizer=RMSprop\n",
       "\tloss=None\n",
       "\tmetrics=None\n",
       "\tbatch_size=40\n",
       "\tvalidation_batch_size=None\n",
       "\tverbose=1\n",
       "\tcallbacks=None\n",
       "\tvalidation_split=0.2\n",
       "\tshuffle=True\n",
       "\trun_eagerly=False\n",
       "\tepochs=60\n",
       "\tclass_weight=None\n",
       ")</pre></div></div></div></div></div>"
      ],
      "text/plain": [
       "KerasClassifier(\n",
       "\tmodel=<keras.engine.sequential.Sequential object at 0x000001D5CC0D1590>\n",
       "\tbuild_fn=None\n",
       "\twarm_start=False\n",
       "\trandom_state=None\n",
       "\toptimizer=RMSprop\n",
       "\tloss=None\n",
       "\tmetrics=None\n",
       "\tbatch_size=40\n",
       "\tvalidation_batch_size=None\n",
       "\tverbose=1\n",
       "\tcallbacks=None\n",
       "\tvalidation_split=0.2\n",
       "\tshuffle=True\n",
       "\trun_eagerly=False\n",
       "\tepochs=60\n",
       "\tclass_weight=None\n",
       ")"
      ]
     },
     "execution_count": 24,
     "metadata": {},
     "output_type": "execute_result"
    }
   ],
   "source": [
    "best_mlp_model.fit(X_train, y_train, epochs =100, validation_data = (X_test, y_test), verbose =1)"
   ]
  },
  {
   "cell_type": "code",
   "execution_count": 25,
   "id": "604bcfc5",
   "metadata": {
    "tags": []
   },
   "outputs": [
    {
     "data": {
      "image/png": "[encoded data removed]",
      "text/plain": [
       "<Figure size 640x480 with 1 Axes>"
      ]
     },
     "metadata": {},
     "output_type": "display_data"
    }
   ],
   "source": [
    "plt.plot(best_mlp_model.history_['loss'])\n",
    "plt.plot(best_mlp_model.history_['val_loss'])\n",
    "plt.title('model performance')\n",
    "plt.ylabel('loss values')\n",
    "plt.xlabel('epoch')\n",
    "plt.legend(['train', 'val'], loc='upper left')\n",
    "plt.show()"
   ]
  },
  {
   "cell_type": "code",
   "execution_count": 26,
   "id": "5c79abd2",
   "metadata": {
    "tags": []
   },
   "outputs": [
    {
     "data": {
      "image/png": "[encoded data removed]",
      "text/plain": [
       "<Figure size 800x500 with 1 Axes>"
      ]
     },
     "metadata": {},
     "output_type": "display_data"
    }
   ],
   "source": [
    "pd.DataFrame(best_mlp_model.history_).plot(figsize=(8,5))\n",
    "plt.show()"
   ]
  },
  {
   "cell_type": "code",
   "execution_count": 27,
   "id": "4616ddc8",
   "metadata": {
    "tags": []
   },
   "outputs": [
    {
     "name": "stdout",
     "output_type": "stream",
     "text": [
      "25/25 [==============================] - 0s 1ms/step\n"
     ]
    }
   ],
   "source": [
    "prediction = best_mlp_model.predict(X_test)"
   ]
  },
  {
   "cell_type": "code",
   "execution_count": 28,
   "id": "8c8c0265",
   "metadata": {
    "tags": []
   },
   "outputs": [],
   "source": [
    "from sklearn import metrics"
   ]
  },
  {
   "cell_type": "code",
   "execution_count": 29,
   "id": "693b8027",
   "metadata": {
    "tags": []
   },
   "outputs": [
    {
     "name": "stdout",
     "output_type": "stream",
     "text": [
      "Accuracy:  0.831\n",
      "Precision:  0.7534246575342466\n",
      "Recall:  0.8439897698209718\n"
     ]
    }
   ],
   "source": [
    "accuracy = metrics.accuracy_score(y_test, prediction)\n",
    "precision = metrics.precision_score(y_test, prediction)\n",
    "recall = metrics.recall_score(y_test, prediction)\n",
    "\n",
    "print('Accuracy: ', accuracy)\n",
    "print('Precision: ', precision)\n",
    "print('Recall: ', recall)"
   ]
  },
  {
   "cell_type": "code",
   "execution_count": 30,
   "id": "a23d0ea0",
   "metadata": {
    "tags": []
   },
   "outputs": [
    {
     "data": {
      "text/plain": [
       "<matplotlib.collections.PathCollection at 0x1d5cad5e390>"
      ]
     },
     "execution_count": 30,
     "metadata": {},
     "output_type": "execute_result"
    },
    {
     "data": {
      "image/png": "[encoded data removed]",
      "text/plain": [
       "<Figure size 640x480 with 1 Axes>"
      ]
     },
     "metadata": {},
     "output_type": "display_data"
    }
   ],
   "source": [
    "plt.scatter(y_test,prediction)"
   ]
  },
  {
   "cell_type": "code",
   "execution_count": 31,
   "id": "cb942872",
   "metadata": {
    "tags": []
   },
   "outputs": [],
   "source": [
    "def real_predicted_viz(limit):\n",
    "    plt.figure(figsize=(14,6))\n",
    "    plt.plot(y_test[:limit],color='green',label='Actual')\n",
    "    plt.plot(prediction[:limit],color='red',label='Predicted')\n",
    "    plt.grid(alpha=0.3)\n",
    "    \n",
    "    plt.title('Real x Predicted')\n",
    "    plt.legend()\n",
    "    plt.show()"
   ]
  },
  {
   "cell_type": "code",
   "execution_count": 32,
   "id": "fee731ae",
   "metadata": {
    "tags": []
   },
   "outputs": [
    {
     "data": {
      "image/png": "[encoded data removed]",
      "text/plain": [
       "<Figure size 1400x600 with 1 Axes>"
      ]
     },
     "metadata": {},
     "output_type": "display_data"
    }
   ],
   "source": [
    "real_predicted_viz(200)"
   ]
  },
  {
   "cell_type": "code",
   "execution_count": 33,
   "id": "8f9c0ca3",
   "metadata": {},
   "outputs": [
    {
     "data": {
      "image/png": "[encoded data removed]",
      "text/plain": [
       "<Figure size 640x480 with 2 Axes>"
      ]
     },
     "metadata": {},
     "output_type": "display_data"
    }
   ],
   "source": [
    "from sklearn.metrics import confusion_matrix, ConfusionMatrixDisplay\n",
    "ConfusionMatrixDisplay.from_predictions(y_test,prediction)\n",
    "\n",
    "plt.show()"
   ]
  }
 ],
 "metadata": {
  "kernelspec": {
   "display_name": "Python 3 (ipykernel)",
   "language": "python",
   "name": "python3"
  },
  "language_info": {
   "codemirror_mode": {
    "name": "ipython",
    "version": 3
   },
   "file_extension": ".py",
   "mimetype": "text/x-python",
   "name": "python",
   "nbconvert_exporter": "python",
   "pygments_lexer": "ipython3",
   "version": "3.11.5"
  }
 },
 "nbformat": 4,
 "nbformat_minor": 5
}
