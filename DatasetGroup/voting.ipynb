{
 "cells": [
  {
   "cell_type": "markdown",
   "id": "ff9b1b7f-e37e-437f-af3a-34b06ab0c5aa",
   "metadata": {},
   "source": [
    "# Voting for Competição ML @SBS/DAA - Edição 2023/2024\n",
    "\n",
    "Goal: predict Injeção na rede (kWh)\n",
    "- DecisionTree\n",
    "- RandomForestTree\n",
    "- SVMs"
   ]
  },
  {
   "cell_type": "code",
   "execution_count": 8,
   "id": "23afeb8d-76ad-4381-bfdc-6c986b105057",
   "metadata": {},
   "outputs": [],
   "source": [
    "%store -r model_rft\n",
    "%store -r model_dt\n",
    "%store -r gscv_rfc\n",
    "%store -r model_svm\n",
    "%store -r model_log\n",
    "%store -r data"
   ]
  },
  {
   "cell_type": "code",
   "execution_count": 9,
   "id": "29c39738-398f-4a37-b68c-1ed3122c112f",
   "metadata": {},
   "outputs": [],
   "source": [
    "from sklearn.model_selection import train_test_split\n",
    "import pandas as pd\n",
    "\n",
    "data_v = data.copy()\n",
    "data_v.drop(['category','main_category','currency','deadline','goal','launched','country','continent','usd_goal_real','days_launched','launched_month'] ,axis=1,inplace=True)\n",
    "X = data_v.drop(['state'],axis=1)\n",
    "y = data_v['state'].to_frame()\n",
    "random = 2021\n",
    "X_train, X_test, y_train, y_test = train_test_split(X,y, test_size=0.3, random_state=random)"
   ]
  },
  {
   "cell_type": "code",
   "execution_count": 10,
   "id": "71200b1a-13aa-4a4d-bbae-fc2678f4e43a",
   "metadata": {},
   "outputs": [
    {
     "name": "stderr",
     "output_type": "stream",
     "text": [
      "/home/josebambora/miniconda3/envs/DAA/lib/python3.10/site-packages/sklearn/preprocessing/_label.py:97: DataConversionWarning: A column-vector y was passed when a 1d array was expected. Please change the shape of y to (n_samples, ), for example using ravel().\n",
      "  y = column_or_1d(y, warn=True)\n",
      "/home/josebambora/miniconda3/envs/DAA/lib/python3.10/site-packages/sklearn/preprocessing/_label.py:132: DataConversionWarning: A column-vector y was passed when a 1d array was expected. Please change the shape of y to (n_samples, ), for example using ravel().\n",
      "  y = column_or_1d(y, dtype=self.classes_.dtype, warn=True)\n"
     ]
    },
    {
     "data": {
      "text/html": [
       "<style>#sk-container-id-2 {color: black;}#sk-container-id-2 pre{padding: 0;}#sk-container-id-2 div.sk-toggleable {background-color: white;}#sk-container-id-2 label.sk-toggleable__label {cursor: pointer;display: block;width: 100%;margin-bottom: 0;padding: 0.3em;box-sizing: border-box;text-align: center;}#sk-container-id-2 label.sk-toggleable__label-arrow:before {content: \"▸\";float: left;margin-right: 0.25em;color: #696969;}#sk-container-id-2 label.sk-toggleable__label-arrow:hover:before {color: black;}#sk-container-id-2 div.sk-estimator:hover label.sk-toggleable__label-arrow:before {color: black;}#sk-container-id-2 div.sk-toggleable__content {max-height: 0;max-width: 0;overflow: hidden;text-align: left;background-color: #f0f8ff;}#sk-container-id-2 div.sk-toggleable__content pre {margin: 0.2em;color: black;border-radius: 0.25em;background-color: #f0f8ff;}#sk-container-id-2 input.sk-toggleable__control:checked~div.sk-toggleable__content {max-height: 200px;max-width: 100%;overflow: auto;}#sk-container-id-2 input.sk-toggleable__control:checked~label.sk-toggleable__label-arrow:before {content: \"▾\";}#sk-container-id-2 div.sk-estimator input.sk-toggleable__control:checked~label.sk-toggleable__label {background-color: #d4ebff;}#sk-container-id-2 div.sk-label input.sk-toggleable__control:checked~label.sk-toggleable__label {background-color: #d4ebff;}#sk-container-id-2 input.sk-hidden--visually {border: 0;clip: rect(1px 1px 1px 1px);clip: rect(1px, 1px, 1px, 1px);height: 1px;margin: -1px;overflow: hidden;padding: 0;position: absolute;width: 1px;}#sk-container-id-2 div.sk-estimator {font-family: monospace;background-color: #f0f8ff;border: 1px dotted black;border-radius: 0.25em;box-sizing: border-box;margin-bottom: 0.5em;}#sk-container-id-2 div.sk-estimator:hover {background-color: #d4ebff;}#sk-container-id-2 div.sk-parallel-item::after {content: \"\";width: 100%;border-bottom: 1px solid gray;flex-grow: 1;}#sk-container-id-2 div.sk-label:hover label.sk-toggleable__label {background-color: #d4ebff;}#sk-container-id-2 div.sk-serial::before {content: \"\";position: absolute;border-left: 1px solid gray;box-sizing: border-box;top: 0;bottom: 0;left: 50%;z-index: 0;}#sk-container-id-2 div.sk-serial {display: flex;flex-direction: column;align-items: center;background-color: white;padding-right: 0.2em;padding-left: 0.2em;position: relative;}#sk-container-id-2 div.sk-item {position: relative;z-index: 1;}#sk-container-id-2 div.sk-parallel {display: flex;align-items: stretch;justify-content: center;background-color: white;position: relative;}#sk-container-id-2 div.sk-item::before, #sk-container-id-2 div.sk-parallel-item::before {content: \"\";position: absolute;border-left: 1px solid gray;box-sizing: border-box;top: 0;bottom: 0;left: 50%;z-index: -1;}#sk-container-id-2 div.sk-parallel-item {display: flex;flex-direction: column;z-index: 1;position: relative;background-color: white;}#sk-container-id-2 div.sk-parallel-item:first-child::after {align-self: flex-end;width: 50%;}#sk-container-id-2 div.sk-parallel-item:last-child::after {align-self: flex-start;width: 50%;}#sk-container-id-2 div.sk-parallel-item:only-child::after {width: 0;}#sk-container-id-2 div.sk-dashed-wrapped {border: 1px dashed gray;margin: 0 0.4em 0.5em 0.4em;box-sizing: border-box;padding-bottom: 0.4em;background-color: white;}#sk-container-id-2 div.sk-label label {font-family: monospace;font-weight: bold;display: inline-block;line-height: 1.2em;}#sk-container-id-2 div.sk-label-container {text-align: center;}#sk-container-id-2 div.sk-container {/* jupyter's `normalize.less` sets `[hidden] { display: none; }` but bootstrap.min.css set `[hidden] { display: none !important; }` so we also need the `!important` here to be able to override the default hidden behavior on the sphinx rendered scikit-learn.org. See: https://github.com/scikit-learn/scikit-learn/issues/21755 */display: inline-block !important;position: relative;}#sk-container-id-2 div.sk-text-repr-fallback {display: none;}</style><div id=\"sk-container-id-2\" class=\"sk-top-container\"><div class=\"sk-text-repr-fallback\"><pre>VotingClassifier(estimators=[(&#x27;svm&#x27;, SVC(probability=True, random_state=2021)),\n",
       "                             (&#x27;dt&#x27;, DecisionTreeClassifier(random_state=2021)),\n",
       "                             (&#x27;rft&#x27;, RandomForestClassifier(random_state=2021)),\n",
       "                             (&#x27;gsv_rft&#x27;,\n",
       "                              GridSearchCV(cv=5,\n",
       "                                           estimator=RandomForestClassifier(random_state=2021),\n",
       "                                           param_grid={&#x27;max_depth&#x27;: [None, 5,\n",
       "                                                                     10, 15],\n",
       "                                                       &#x27;min_samples_leaf&#x27;: [1,\n",
       "                                                                            3],\n",
       "                                                       &#x27;min_samples_split&#x27;: [2,\n",
       "                                                                             5],\n",
       "                                                       &#x27;n_estimators&#x27;: [50, 100,\n",
       "                                                                        200]},\n",
       "                                           scoring=&#x27;accuracy&#x27;)),\n",
       "                             (&#x27;log&#x27;, LogisticRegression(random_state=2022))],\n",
       "                 voting=&#x27;soft&#x27;, weights=[0.8, 0.8, 1.3, 1.5, 1])</pre><b>In a Jupyter environment, please rerun this cell to show the HTML representation or trust the notebook. <br />On GitHub, the HTML representation is unable to render, please try loading this page with nbviewer.org.</b></div><div class=\"sk-container\" hidden><div class=\"sk-item sk-dashed-wrapped\"><div class=\"sk-label-container\"><div class=\"sk-label sk-toggleable\"><input class=\"sk-toggleable__control sk-hidden--visually\" id=\"sk-estimator-id-8\" type=\"checkbox\" ><label for=\"sk-estimator-id-8\" class=\"sk-toggleable__label sk-toggleable__label-arrow\">VotingClassifier</label><div class=\"sk-toggleable__content\"><pre>VotingClassifier(estimators=[(&#x27;svm&#x27;, SVC(probability=True, random_state=2021)),\n",
       "                             (&#x27;dt&#x27;, DecisionTreeClassifier(random_state=2021)),\n",
       "                             (&#x27;rft&#x27;, RandomForestClassifier(random_state=2021)),\n",
       "                             (&#x27;gsv_rft&#x27;,\n",
       "                              GridSearchCV(cv=5,\n",
       "                                           estimator=RandomForestClassifier(random_state=2021),\n",
       "                                           param_grid={&#x27;max_depth&#x27;: [None, 5,\n",
       "                                                                     10, 15],\n",
       "                                                       &#x27;min_samples_leaf&#x27;: [1,\n",
       "                                                                            3],\n",
       "                                                       &#x27;min_samples_split&#x27;: [2,\n",
       "                                                                             5],\n",
       "                                                       &#x27;n_estimators&#x27;: [50, 100,\n",
       "                                                                        200]},\n",
       "                                           scoring=&#x27;accuracy&#x27;)),\n",
       "                             (&#x27;log&#x27;, LogisticRegression(random_state=2022))],\n",
       "                 voting=&#x27;soft&#x27;, weights=[0.8, 0.8, 1.3, 1.5, 1])</pre></div></div></div><div class=\"sk-parallel\"><div class=\"sk-parallel-item\"><div class=\"sk-item\"><div class=\"sk-label-container\"><div class=\"sk-label sk-toggleable\"><label>svm</label></div></div><div class=\"sk-serial\"><div class=\"sk-item\"><div class=\"sk-estimator sk-toggleable\"><input class=\"sk-toggleable__control sk-hidden--visually\" id=\"sk-estimator-id-9\" type=\"checkbox\" ><label for=\"sk-estimator-id-9\" class=\"sk-toggleable__label sk-toggleable__label-arrow\">SVC</label><div class=\"sk-toggleable__content\"><pre>SVC(probability=True, random_state=2021)</pre></div></div></div></div></div></div><div class=\"sk-parallel-item\"><div class=\"sk-item\"><div class=\"sk-label-container\"><div class=\"sk-label sk-toggleable\"><label>dt</label></div></div><div class=\"sk-serial\"><div class=\"sk-item\"><div class=\"sk-estimator sk-toggleable\"><input class=\"sk-toggleable__control sk-hidden--visually\" id=\"sk-estimator-id-10\" type=\"checkbox\" ><label for=\"sk-estimator-id-10\" class=\"sk-toggleable__label sk-toggleable__label-arrow\">DecisionTreeClassifier</label><div class=\"sk-toggleable__content\"><pre>DecisionTreeClassifier(random_state=2021)</pre></div></div></div></div></div></div><div class=\"sk-parallel-item\"><div class=\"sk-item\"><div class=\"sk-label-container\"><div class=\"sk-label sk-toggleable\"><label>rft</label></div></div><div class=\"sk-serial\"><div class=\"sk-item\"><div class=\"sk-estimator sk-toggleable\"><input class=\"sk-toggleable__control sk-hidden--visually\" id=\"sk-estimator-id-11\" type=\"checkbox\" ><label for=\"sk-estimator-id-11\" class=\"sk-toggleable__label sk-toggleable__label-arrow\">RandomForestClassifier</label><div class=\"sk-toggleable__content\"><pre>RandomForestClassifier(random_state=2021)</pre></div></div></div></div></div></div><div class=\"sk-parallel-item\"><div class=\"sk-item\"><div class=\"sk-label-container\"><div class=\"sk-label sk-toggleable\"><label>gsv_rft</label></div></div><div class=\"sk-serial\"><div class=\"sk-item sk-dashed-wrapped\"><div class=\"sk-parallel\"><div class=\"sk-parallel-item\"><div class=\"sk-item\"><div class=\"sk-label-container\"><div class=\"sk-label sk-toggleable\"><input class=\"sk-toggleable__control sk-hidden--visually\" id=\"sk-estimator-id-12\" type=\"checkbox\" ><label for=\"sk-estimator-id-12\" class=\"sk-toggleable__label sk-toggleable__label-arrow\">estimator: RandomForestClassifier</label><div class=\"sk-toggleable__content\"><pre>RandomForestClassifier(random_state=2021)</pre></div></div></div><div class=\"sk-serial\"><div class=\"sk-item\"><div class=\"sk-estimator sk-toggleable\"><input class=\"sk-toggleable__control sk-hidden--visually\" id=\"sk-estimator-id-13\" type=\"checkbox\" ><label for=\"sk-estimator-id-13\" class=\"sk-toggleable__label sk-toggleable__label-arrow\">RandomForestClassifier</label><div class=\"sk-toggleable__content\"><pre>RandomForestClassifier(random_state=2021)</pre></div></div></div></div></div></div></div></div></div></div></div><div class=\"sk-parallel-item\"><div class=\"sk-item\"><div class=\"sk-label-container\"><div class=\"sk-label sk-toggleable\"><label>log</label></div></div><div class=\"sk-serial\"><div class=\"sk-item\"><div class=\"sk-estimator sk-toggleable\"><input class=\"sk-toggleable__control sk-hidden--visually\" id=\"sk-estimator-id-14\" type=\"checkbox\" ><label for=\"sk-estimator-id-14\" class=\"sk-toggleable__label sk-toggleable__label-arrow\">LogisticRegression</label><div class=\"sk-toggleable__content\"><pre>LogisticRegression(random_state=2022)</pre></div></div></div></div></div></div></div></div></div></div>"
      ],
      "text/plain": [
       "VotingClassifier(estimators=[('svm', SVC(probability=True, random_state=2021)),\n",
       "                             ('dt', DecisionTreeClassifier(random_state=2021)),\n",
       "                             ('rft', RandomForestClassifier(random_state=2021)),\n",
       "                             ('gsv_rft',\n",
       "                              GridSearchCV(cv=5,\n",
       "                                           estimator=RandomForestClassifier(random_state=2021),\n",
       "                                           param_grid={'max_depth': [None, 5,\n",
       "                                                                     10, 15],\n",
       "                                                       'min_samples_leaf': [1,\n",
       "                                                                            3],\n",
       "                                                       'min_samples_split': [2,\n",
       "                                                                             5],\n",
       "                                                       'n_estimators': [50, 100,\n",
       "                                                                        200]},\n",
       "                                           scoring='accuracy')),\n",
       "                             ('log', LogisticRegression(random_state=2022))],\n",
       "                 voting='soft', weights=[0.8, 0.8, 1.3, 1.5, 1])"
      ]
     },
     "execution_count": 10,
     "metadata": {},
     "output_type": "execute_result"
    }
   ],
   "source": [
    "from sklearn.ensemble import VotingClassifier\n",
    "estimators = [('svm',model_svm),('dt',model_dt),('rft',model_rft),('gsv_rft',gscv_rfc),('log',model_log)]\n",
    "vc=VotingClassifier(estimators,voting='soft',weights=[0.8,0.8,1.3,1.5,1])\n",
    "vc.fit(X_train,y_train)"
   ]
  },
  {
   "cell_type": "code",
   "execution_count": 11,
   "id": "6fdfb6a8-e327-4d56-b1c3-2e98e9569a32",
   "metadata": {
    "tags": []
   },
   "outputs": [],
   "source": [
    "predictions = vc.predict(X_test)"
   ]
  },
  {
   "cell_type": "code",
   "execution_count": 12,
   "id": "a08428bd-21ec-4104-9e6b-6f00e9462d1f",
   "metadata": {
    "tags": []
   },
   "outputs": [],
   "source": [
    "from sklearn.metrics import classification_report,ConfusionMatrixDisplay, accuracy_score\n",
    "\n",
    "import matplotlib.pyplot as plt\n",
    "def stats_confusion_matrix(predictions,y_test):\n",
    "    print(\"%0.2f accuracy\" % (accuracy_score(y_test,predictions)))\n",
    "    print(classification_report(y_test,predictions))\n",
    "    ConfusionMatrixDisplay.from_predictions(y_test, predictions)\n",
    "    plt.show()"
   ]
  },
  {
   "cell_type": "code",
   "execution_count": 13,
   "id": "2cad29ec-146b-4eab-b383-e6032d8fa381",
   "metadata": {
    "tags": []
   },
   "outputs": [
    {
     "name": "stdout",
     "output_type": "stream",
     "text": [
      "0.82 accuracy\n",
      "              precision    recall  f1-score   support\n",
      "\n",
      "           0       0.84      0.84      0.84       869\n",
      "           1       0.78      0.78      0.78       631\n",
      "\n",
      "    accuracy                           0.82      1500\n",
      "   macro avg       0.81      0.81      0.81      1500\n",
      "weighted avg       0.82      0.82      0.82      1500\n",
      "\n"
     ]
    },
    {
     "data": {
      "image/png": "[encoded data removed]",
      "text/plain": [
       "<Figure size 640x480 with 2 Axes>"
      ]
     },
     "metadata": {},
     "output_type": "display_data"
    }
   ],
   "source": [
    "stats_confusion_matrix(predictions,y_test)"
   ]
  },
  {
   "cell_type": "code",
   "execution_count": null,
   "id": "f4f999b9-ea7f-4342-b4d3-a016fe9c3c5c",
   "metadata": {},
   "outputs": [],
   "source": []
  }
 ],
 "metadata": {
  "kernelspec": {
   "display_name": "Python 3 (ipykernel)",
   "language": "python",
   "name": "python3"
  },
  "language_info": {
   "codemirror_mode": {
    "name": "ipython",
    "version": 3
   },
   "file_extension": ".py",
   "mimetype": "text/x-python",
   "name": "python",
   "nbconvert_exporter": "python",
   "pygments_lexer": "ipython3",
   "version": "3.10.0"
  }
 },
 "nbformat": 4,
 "nbformat_minor": 5
}
