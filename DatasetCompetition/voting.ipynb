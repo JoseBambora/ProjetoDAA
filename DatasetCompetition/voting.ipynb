{
 "cells": [
  {
   "cell_type": "markdown",
   "id": "ff9b1b7f-e37e-437f-af3a-34b06ab0c5aa",
   "metadata": {},
   "source": [
    "# Voting for Competição ML @SBS/DAA - Edição 2023/2024\n",
    "\n",
    "Goal: predict Injeção na rede (kWh)\n",
    "- DecisionTree\n",
    "- RandomForestTree\n",
    "- SVMs"
   ]
  },
  {
   "cell_type": "code",
   "execution_count": 51,
   "id": "23afeb8d-76ad-4381-bfdc-6c986b105057",
   "metadata": {},
   "outputs": [],
   "source": [
    "%store -r model_rft\n",
    "%store -r model_dt\n",
    "%store -r model_svm\n",
    "%store -r data\n",
    "%store -r data_test"
   ]
  },
  {
   "cell_type": "code",
   "execution_count": 52,
   "id": "29c39738-398f-4a37-b68c-1ed3122c112f",
   "metadata": {},
   "outputs": [],
   "source": [
    "from sklearn.model_selection import train_test_split\n",
    "import pandas as pd\n",
    "data_dt   = data.copy()\n",
    "data_dt_test = data_test.copy()\n",
    "rem = ['dt','pressure','wind_speed','Mes','Hora','city_name','Data','rain_1h','clouds_all'] \n",
    "data_dt.drop(rem,axis=1,inplace=True)\n",
    "data_dt_test.drop(rem ,axis=1,inplace=True)\n",
    "\n",
    "X = data_dt.drop(['Injeção na rede (kWh)'],axis=1)\n",
    "y = data_dt['Injeção na rede (kWh)'].to_frame()\n",
    "X_train_submission = data_dt.drop(['Injeção na rede (kWh)'],axis=1)\n",
    "y_train_submission = data_dt['Injeção na rede (kWh)'].to_frame()\n",
    "X_test_submission = data_dt_test.drop(['Injeção na rede (kWh)'],axis=1)\n",
    "random = 2021\n",
    "X_train, X_test, y_train, y_test = train_test_split(X,y, test_size=0.25, random_state=random)"
   ]
  },
  {
   "cell_type": "code",
   "execution_count": 58,
   "id": "71200b1a-13aa-4a4d-bbae-fc2678f4e43a",
   "metadata": {},
   "outputs": [
    {
     "name": "stderr",
     "output_type": "stream",
     "text": [
      "/home/josebambora/miniconda3/envs/DAA/lib/python3.10/site-packages/sklearn/preprocessing/_label.py:97: DataConversionWarning: A column-vector y was passed when a 1d array was expected. Please change the shape of y to (n_samples, ), for example using ravel().\n",
      "  y = column_or_1d(y, warn=True)\n",
      "/home/josebambora/miniconda3/envs/DAA/lib/python3.10/site-packages/sklearn/preprocessing/_label.py:132: DataConversionWarning: A column-vector y was passed when a 1d array was expected. Please change the shape of y to (n_samples, ), for example using ravel().\n",
      "  y = column_or_1d(y, dtype=self.classes_.dtype, warn=True)\n"
     ]
    },
    {
     "data": {
      "text/html": [
       "<style>#sk-container-id-8 {color: black;}#sk-container-id-8 pre{padding: 0;}#sk-container-id-8 div.sk-toggleable {background-color: white;}#sk-container-id-8 label.sk-toggleable__label {cursor: pointer;display: block;width: 100%;margin-bottom: 0;padding: 0.3em;box-sizing: border-box;text-align: center;}#sk-container-id-8 label.sk-toggleable__label-arrow:before {content: \"▸\";float: left;margin-right: 0.25em;color: #696969;}#sk-container-id-8 label.sk-toggleable__label-arrow:hover:before {color: black;}#sk-container-id-8 div.sk-estimator:hover label.sk-toggleable__label-arrow:before {color: black;}#sk-container-id-8 div.sk-toggleable__content {max-height: 0;max-width: 0;overflow: hidden;text-align: left;background-color: #f0f8ff;}#sk-container-id-8 div.sk-toggleable__content pre {margin: 0.2em;color: black;border-radius: 0.25em;background-color: #f0f8ff;}#sk-container-id-8 input.sk-toggleable__control:checked~div.sk-toggleable__content {max-height: 200px;max-width: 100%;overflow: auto;}#sk-container-id-8 input.sk-toggleable__control:checked~label.sk-toggleable__label-arrow:before {content: \"▾\";}#sk-container-id-8 div.sk-estimator input.sk-toggleable__control:checked~label.sk-toggleable__label {background-color: #d4ebff;}#sk-container-id-8 div.sk-label input.sk-toggleable__control:checked~label.sk-toggleable__label {background-color: #d4ebff;}#sk-container-id-8 input.sk-hidden--visually {border: 0;clip: rect(1px 1px 1px 1px);clip: rect(1px, 1px, 1px, 1px);height: 1px;margin: -1px;overflow: hidden;padding: 0;position: absolute;width: 1px;}#sk-container-id-8 div.sk-estimator {font-family: monospace;background-color: #f0f8ff;border: 1px dotted black;border-radius: 0.25em;box-sizing: border-box;margin-bottom: 0.5em;}#sk-container-id-8 div.sk-estimator:hover {background-color: #d4ebff;}#sk-container-id-8 div.sk-parallel-item::after {content: \"\";width: 100%;border-bottom: 1px solid gray;flex-grow: 1;}#sk-container-id-8 div.sk-label:hover label.sk-toggleable__label {background-color: #d4ebff;}#sk-container-id-8 div.sk-serial::before {content: \"\";position: absolute;border-left: 1px solid gray;box-sizing: border-box;top: 0;bottom: 0;left: 50%;z-index: 0;}#sk-container-id-8 div.sk-serial {display: flex;flex-direction: column;align-items: center;background-color: white;padding-right: 0.2em;padding-left: 0.2em;position: relative;}#sk-container-id-8 div.sk-item {position: relative;z-index: 1;}#sk-container-id-8 div.sk-parallel {display: flex;align-items: stretch;justify-content: center;background-color: white;position: relative;}#sk-container-id-8 div.sk-item::before, #sk-container-id-8 div.sk-parallel-item::before {content: \"\";position: absolute;border-left: 1px solid gray;box-sizing: border-box;top: 0;bottom: 0;left: 50%;z-index: -1;}#sk-container-id-8 div.sk-parallel-item {display: flex;flex-direction: column;z-index: 1;position: relative;background-color: white;}#sk-container-id-8 div.sk-parallel-item:first-child::after {align-self: flex-end;width: 50%;}#sk-container-id-8 div.sk-parallel-item:last-child::after {align-self: flex-start;width: 50%;}#sk-container-id-8 div.sk-parallel-item:only-child::after {width: 0;}#sk-container-id-8 div.sk-dashed-wrapped {border: 1px dashed gray;margin: 0 0.4em 0.5em 0.4em;box-sizing: border-box;padding-bottom: 0.4em;background-color: white;}#sk-container-id-8 div.sk-label label {font-family: monospace;font-weight: bold;display: inline-block;line-height: 1.2em;}#sk-container-id-8 div.sk-label-container {text-align: center;}#sk-container-id-8 div.sk-container {/* jupyter's `normalize.less` sets `[hidden] { display: none; }` but bootstrap.min.css set `[hidden] { display: none !important; }` so we also need the `!important` here to be able to override the default hidden behavior on the sphinx rendered scikit-learn.org. See: https://github.com/scikit-learn/scikit-learn/issues/21755 */display: inline-block !important;position: relative;}#sk-container-id-8 div.sk-text-repr-fallback {display: none;}</style><div id=\"sk-container-id-8\" class=\"sk-top-container\"><div class=\"sk-text-repr-fallback\"><pre>VotingClassifier(estimators=[(&#x27;svm&#x27;,\n",
       "                              SVC(C=1000, gamma=0.0001, probability=True,\n",
       "                                  random_state=2021)),\n",
       "                             (&#x27;dt&#x27;, DecisionTreeClassifier(random_state=2021)),\n",
       "                             (&#x27;rft&#x27;,\n",
       "                              RandomForestClassifier(random_state=2021))],\n",
       "                 voting=&#x27;soft&#x27;, weights=[1.1, 0.4, 1.3])</pre><b>In a Jupyter environment, please rerun this cell to show the HTML representation or trust the notebook. <br />On GitHub, the HTML representation is unable to render, please try loading this page with nbviewer.org.</b></div><div class=\"sk-container\" hidden><div class=\"sk-item sk-dashed-wrapped\"><div class=\"sk-label-container\"><div class=\"sk-label sk-toggleable\"><input class=\"sk-toggleable__control sk-hidden--visually\" id=\"sk-estimator-id-29\" type=\"checkbox\" ><label for=\"sk-estimator-id-29\" class=\"sk-toggleable__label sk-toggleable__label-arrow\">VotingClassifier</label><div class=\"sk-toggleable__content\"><pre>VotingClassifier(estimators=[(&#x27;svm&#x27;,\n",
       "                              SVC(C=1000, gamma=0.0001, probability=True,\n",
       "                                  random_state=2021)),\n",
       "                             (&#x27;dt&#x27;, DecisionTreeClassifier(random_state=2021)),\n",
       "                             (&#x27;rft&#x27;,\n",
       "                              RandomForestClassifier(random_state=2021))],\n",
       "                 voting=&#x27;soft&#x27;, weights=[1.1, 0.4, 1.3])</pre></div></div></div><div class=\"sk-parallel\"><div class=\"sk-parallel-item\"><div class=\"sk-item\"><div class=\"sk-label-container\"><div class=\"sk-label sk-toggleable\"><label>svm</label></div></div><div class=\"sk-serial\"><div class=\"sk-item\"><div class=\"sk-estimator sk-toggleable\"><input class=\"sk-toggleable__control sk-hidden--visually\" id=\"sk-estimator-id-30\" type=\"checkbox\" ><label for=\"sk-estimator-id-30\" class=\"sk-toggleable__label sk-toggleable__label-arrow\">SVC</label><div class=\"sk-toggleable__content\"><pre>SVC(C=1000, gamma=0.0001, probability=True, random_state=2021)</pre></div></div></div></div></div></div><div class=\"sk-parallel-item\"><div class=\"sk-item\"><div class=\"sk-label-container\"><div class=\"sk-label sk-toggleable\"><label>dt</label></div></div><div class=\"sk-serial\"><div class=\"sk-item\"><div class=\"sk-estimator sk-toggleable\"><input class=\"sk-toggleable__control sk-hidden--visually\" id=\"sk-estimator-id-31\" type=\"checkbox\" ><label for=\"sk-estimator-id-31\" class=\"sk-toggleable__label sk-toggleable__label-arrow\">DecisionTreeClassifier</label><div class=\"sk-toggleable__content\"><pre>DecisionTreeClassifier(random_state=2021)</pre></div></div></div></div></div></div><div class=\"sk-parallel-item\"><div class=\"sk-item\"><div class=\"sk-label-container\"><div class=\"sk-label sk-toggleable\"><label>rft</label></div></div><div class=\"sk-serial\"><div class=\"sk-item\"><div class=\"sk-estimator sk-toggleable\"><input class=\"sk-toggleable__control sk-hidden--visually\" id=\"sk-estimator-id-32\" type=\"checkbox\" ><label for=\"sk-estimator-id-32\" class=\"sk-toggleable__label sk-toggleable__label-arrow\">RandomForestClassifier</label><div class=\"sk-toggleable__content\"><pre>RandomForestClassifier(random_state=2021)</pre></div></div></div></div></div></div></div></div></div></div>"
      ],
      "text/plain": [
       "VotingClassifier(estimators=[('svm',\n",
       "                              SVC(C=1000, gamma=0.0001, probability=True,\n",
       "                                  random_state=2021)),\n",
       "                             ('dt', DecisionTreeClassifier(random_state=2021)),\n",
       "                             ('rft',\n",
       "                              RandomForestClassifier(random_state=2021))],\n",
       "                 voting='soft', weights=[1.1, 0.4, 1.3])"
      ]
     },
     "execution_count": 58,
     "metadata": {},
     "output_type": "execute_result"
    }
   ],
   "source": [
    "from sklearn.ensemble import VotingClassifier\n",
    "estimators = [('svm',model_svm),('dt',model_dt),('rft',model_rft)]\n",
    "vc=VotingClassifier(estimators,voting='soft',weights=[1,0.4,1.3])\n",
    "vc.fit(X_train,y_train)"
   ]
  },
  {
   "cell_type": "code",
   "execution_count": 60,
   "id": "6fdfb6a8-e327-4d56-b1c3-2e98e9569a32",
   "metadata": {
    "tags": []
   },
   "outputs": [],
   "source": [
    "predictions = vc.predict(X_test)"
   ]
  },
  {
   "cell_type": "code",
   "execution_count": 61,
   "id": "a08428bd-21ec-4104-9e6b-6f00e9462d1f",
   "metadata": {
    "tags": []
   },
   "outputs": [],
   "source": [
    "from sklearn.metrics import classification_report,ConfusionMatrixDisplay, accuracy_score\n",
    "\n",
    "import matplotlib.pyplot as plt\n",
    "def stats_confusion_matrix(predictions,y_test):\n",
    "    print(\"%0.2f accuracy\" % (accuracy_score(y_test,predictions)))\n",
    "    print(classification_report(y_test,predictions))\n",
    "    ConfusionMatrixDisplay.from_predictions(y_test, predictions)\n",
    "    plt.show()"
   ]
  },
  {
   "cell_type": "code",
   "execution_count": 62,
   "id": "2cad29ec-146b-4eab-b383-e6032d8fa381",
   "metadata": {
    "tags": []
   },
   "outputs": [
    {
     "name": "stdout",
     "output_type": "stream",
     "text": [
      "0.84 accuracy\n",
      "              precision    recall  f1-score   support\n",
      "\n",
      "           0       0.97      0.98      0.97      1933\n",
      "           1       0.51      0.18      0.27       110\n",
      "           2       0.53      0.61      0.57       276\n",
      "           3       0.55      0.57      0.56       292\n",
      "           4       0.55      0.52      0.53       143\n",
      "\n",
      "    accuracy                           0.84      2754\n",
      "   macro avg       0.62      0.57      0.58      2754\n",
      "weighted avg       0.84      0.84      0.84      2754\n",
      "\n"
     ]
    },
    {
     "data": {
      "image/png": "[encoded data removed]",
      "text/plain": [
       "<Figure size 640x480 with 2 Axes>"
      ]
     },
     "metadata": {},
     "output_type": "display_data"
    }
   ],
   "source": [
    "stats_confusion_matrix(predictions,y_test)"
   ]
  },
  {
   "cell_type": "code",
   "execution_count": 63,
   "id": "548742f2-c7f9-4a56-9d70-0cc7a54e0dcf",
   "metadata": {
    "tags": []
   },
   "outputs": [],
   "source": [
    "def gera_csv(predictions,name):\n",
    "    row_ids = range(1, len(predictions) + 1)\n",
    "    submission_df = pd.DataFrame({'RowId': row_ids, 'Result': predictions})\n",
    "    replace_map = {'Result': {0:'None',1: 'Low', 2: 'Medium' ,3: 'High',4 : 'Very High' }}\n",
    "    submission_df.replace(replace_map,inplace=True)\n",
    "    submission_df.to_csv(name, index=False)\n",
    "predictions_vc = vc.predict(X_test_submission)\n",
    "gera_csv(predictions_vc,'grupo20_vc.csv')"
   ]
  },
  {
   "cell_type": "code",
   "execution_count": null,
   "id": "9aaee9e6-8b60-4edd-8533-ad15da6b0378",
   "metadata": {},
   "outputs": [],
   "source": []
  }
 ],
 "metadata": {
  "kernelspec": {
   "display_name": "Python 3 (ipykernel)",
   "language": "python",
   "name": "python3"
  },
  "language_info": {
   "codemirror_mode": {
    "name": "ipython",
    "version": 3
   },
   "file_extension": ".py",
   "mimetype": "text/x-python",
   "name": "python",
   "nbconvert_exporter": "python",
   "pygments_lexer": "ipython3",
   "version": "3.10.0"
  }
 },
 "nbformat": 4,
 "nbformat_minor": 5
}
