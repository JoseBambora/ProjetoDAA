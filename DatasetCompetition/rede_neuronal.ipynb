{
 "cells": [
  {
   "cell_type": "code",
   "execution_count": 1,
   "id": "37f6c097",
   "metadata": {
    "tags": []
   },
   "outputs": [],
   "source": [
    "import pandas as pd\n",
    "import numpy as np\n",
    "import matplotlib.pyplot as plt\n",
    "import seaborn as sns\n",
    "%matplotlib inline"
   ]
  },
  {
   "cell_type": "code",
   "execution_count": 2,
   "id": "f5be8d8f",
   "metadata": {
    "tags": []
   },
   "outputs": [],
   "source": [
    "%store -r data\n",
    "%store -r data_test"
   ]
  },
  {
   "cell_type": "code",
   "execution_count": 3,
   "id": "280f163c",
   "metadata": {
    "tags": []
   },
   "outputs": [
    {
     "name": "stdout",
     "output_type": "stream",
     "text": [
      "Index(['Data', 'Normal (kWh)', 'Horário Económico (kWh)', 'Autoconsumo (kWh)',\n",
      "       'Injeção na rede (kWh)', 'dt', 'city_name', 'temp', 'feels_like',\n",
      "       'temp_min', 'temp_max', 'pressure', 'humidity', 'wind_speed', 'rain_1h',\n",
      "       'clouds_all', 'weather_description', 'Mes', 'Hora', 'Estacao'],\n",
      "      dtype='object')\n",
      "(11016, 20)\n",
      "<class 'pandas.core.frame.DataFrame'>\n",
      "RangeIndex: 11016 entries, 0 to 11015\n",
      "Data columns (total 20 columns):\n",
      " #   Column                   Non-Null Count  Dtype         \n",
      "---  ------                   --------------  -----         \n",
      " 0   Data                     11016 non-null  datetime64[ns]\n",
      " 1   Normal (kWh)             11016 non-null  float64       \n",
      " 2   Horário Económico (kWh)  11016 non-null  float64       \n",
      " 3   Autoconsumo (kWh)        11016 non-null  float64       \n",
      " 4   Injeção na rede (kWh)    11016 non-null  int64         \n",
      " 5   dt                       11016 non-null  int64         \n",
      " 6   city_name                11016 non-null  object        \n",
      " 7   temp                     11016 non-null  float64       \n",
      " 8   feels_like               11016 non-null  float64       \n",
      " 9   temp_min                 11016 non-null  float64       \n",
      " 10  temp_max                 11016 non-null  float64       \n",
      " 11  pressure                 11016 non-null  int64         \n",
      " 12  humidity                 11016 non-null  int64         \n",
      " 13  wind_speed               11016 non-null  float64       \n",
      " 14  rain_1h                  11016 non-null  float64       \n",
      " 15  clouds_all               11016 non-null  int64         \n",
      " 16  weather_description      11016 non-null  int64         \n",
      " 17  Mes                      11016 non-null  int32         \n",
      " 18  Hora                     11016 non-null  int32         \n",
      " 19  Estacao                  11016 non-null  int64         \n",
      "dtypes: datetime64[ns](1), float64(9), int32(2), int64(7), object(1)\n",
      "memory usage: 1.6+ MB\n",
      "None\n"
     ]
    }
   ],
   "source": [
    "print(data.columns)\n",
    "print(data.shape)\n",
    "print(data.info())"
   ]
  },
  {
   "cell_type": "code",
   "execution_count": 4,
   "id": "289f68ab",
   "metadata": {
    "tags": []
   },
   "outputs": [
    {
     "name": "stdout",
     "output_type": "stream",
     "text": [
      "Index(['Data', 'Normal (kWh)', 'Horário Económico (kWh)', 'Autoconsumo (kWh)',\n",
      "       'Injeção na rede (kWh)', 'dt', 'city_name', 'temp', 'feels_like',\n",
      "       'temp_min', 'temp_max', 'pressure', 'humidity', 'wind_speed', 'rain_1h',\n",
      "       'clouds_all', 'weather_description', 'Mes', 'Hora', 'Estacao'],\n",
      "      dtype='object')\n",
      "(2256, 20)\n",
      "<class 'pandas.core.frame.DataFrame'>\n",
      "RangeIndex: 2256 entries, 0 to 2255\n",
      "Data columns (total 20 columns):\n",
      " #   Column                   Non-Null Count  Dtype         \n",
      "---  ------                   --------------  -----         \n",
      " 0   Data                     2256 non-null   datetime64[ns]\n",
      " 1   Normal (kWh)             2256 non-null   float64       \n",
      " 2   Horário Económico (kWh)  2256 non-null   float64       \n",
      " 3   Autoconsumo (kWh)        2256 non-null   float64       \n",
      " 4   Injeção na rede (kWh)    0 non-null      float64       \n",
      " 5   dt                       2256 non-null   int64         \n",
      " 6   city_name                2256 non-null   object        \n",
      " 7   temp                     2256 non-null   float64       \n",
      " 8   feels_like               2256 non-null   float64       \n",
      " 9   temp_min                 2256 non-null   float64       \n",
      " 10  temp_max                 2256 non-null   float64       \n",
      " 11  pressure                 2256 non-null   int64         \n",
      " 12  humidity                 2256 non-null   int64         \n",
      " 13  wind_speed               2256 non-null   float64       \n",
      " 14  rain_1h                  2256 non-null   float64       \n",
      " 15  clouds_all               2256 non-null   int64         \n",
      " 16  weather_description      2256 non-null   int64         \n",
      " 17  Mes                      2256 non-null   int32         \n",
      " 18  Hora                     2256 non-null   int32         \n",
      " 19  Estacao                  2256 non-null   int64         \n",
      "dtypes: datetime64[ns](1), float64(10), int32(2), int64(6), object(1)\n",
      "memory usage: 335.0+ KB\n",
      "None\n"
     ]
    }
   ],
   "source": [
    "print(data_test.columns)\n",
    "print(data_test.shape)\n",
    "print(data_test.info())"
   ]
  },
  {
   "cell_type": "code",
   "execution_count": 5,
   "id": "bc797b22",
   "metadata": {
    "tags": []
   },
   "outputs": [
    {
     "name": "stdout",
     "output_type": "stream",
     "text": [
      "<class 'pandas.core.frame.DataFrame'>\n",
      "RangeIndex: 11016 entries, 0 to 11015\n",
      "Data columns (total 11 columns):\n",
      " #   Column                   Non-Null Count  Dtype  \n",
      "---  ------                   --------------  -----  \n",
      " 0   Normal (kWh)             11016 non-null  float64\n",
      " 1   Horário Económico (kWh)  11016 non-null  float64\n",
      " 2   Autoconsumo (kWh)        11016 non-null  float64\n",
      " 3   Injeção na rede (kWh)    11016 non-null  int64  \n",
      " 4   temp                     11016 non-null  float64\n",
      " 5   feels_like               11016 non-null  float64\n",
      " 6   temp_min                 11016 non-null  float64\n",
      " 7   temp_max                 11016 non-null  float64\n",
      " 8   humidity                 11016 non-null  int64  \n",
      " 9   weather_description      11016 non-null  int64  \n",
      " 10  Estacao                  11016 non-null  int64  \n",
      "dtypes: float64(7), int64(4)\n",
      "memory usage: 946.8 KB\n",
      "<class 'pandas.core.frame.DataFrame'>\n",
      "RangeIndex: 2256 entries, 0 to 2255\n",
      "Data columns (total 11 columns):\n",
      " #   Column                   Non-Null Count  Dtype  \n",
      "---  ------                   --------------  -----  \n",
      " 0   Normal (kWh)             2256 non-null   float64\n",
      " 1   Horário Económico (kWh)  2256 non-null   float64\n",
      " 2   Autoconsumo (kWh)        2256 non-null   float64\n",
      " 3   Injeção na rede (kWh)    0 non-null      float64\n",
      " 4   temp                     2256 non-null   float64\n",
      " 5   feels_like               2256 non-null   float64\n",
      " 6   temp_min                 2256 non-null   float64\n",
      " 7   temp_max                 2256 non-null   float64\n",
      " 8   humidity                 2256 non-null   int64  \n",
      " 9   weather_description      2256 non-null   int64  \n",
      " 10  Estacao                  2256 non-null   int64  \n",
      "dtypes: float64(8), int64(3)\n",
      "memory usage: 194.0 KB\n"
     ]
    }
   ],
   "source": [
    "data_dt   = data.copy()\n",
    "data_dt_test = data_test.copy()\n",
    "rem = ['dt','pressure','wind_speed','Mes','Hora','city_name','Data','rain_1h','clouds_all'] \n",
    "data_dt.drop(rem,axis=1,inplace=True)\n",
    "data_dt_test.drop(rem ,axis=1,inplace=True)\n",
    "nulls = False\n",
    "def interpolate_linear(data_dt_test):\n",
    "    data_dt_test['temp']                = data_dt_test['temp'].interpolate(method='linear')\n",
    "    data_dt_test['feels_like']          = data_dt_test['feels_like'].interpolate(method='linear')\n",
    "    data_dt_test['temp_min']            = data_dt_test['temp_min'].interpolate(method='linear')\n",
    "    data_dt_test['temp_max']            = data_dt_test['temp_max'].interpolate(method='linear')\n",
    "    data_dt_test['humidity']            = data_dt_test['humidity'].interpolate(method='linear')\n",
    "    # data_dt_test['clouds_all']          = data_dt_test['clouds_all'].fillna(0)\n",
    "    data_dt_test['weather_description'] = data_dt_test['weather_description'].interpolate(method='linear')\n",
    "\n",
    "if nulls:\n",
    "    interpolate_linear(data_dt_test)\n",
    "data_dt.info()\n",
    "data_dt_test.info()"
   ]
  },
  {
   "cell_type": "code",
   "execution_count": 6,
   "id": "82b1a378",
   "metadata": {
    "tags": []
   },
   "outputs": [],
   "source": [
    "from sklearn.model_selection import train_test_split\n",
    "from sklearn.tree import DecisionTreeClassifier\n",
    "from sklearn.tree import DecisionTreeRegressor\n",
    "from sklearn.metrics import confusion_matrix\n",
    "from sklearn.metrics import recall_score\n",
    "from sklearn.metrics import accuracy_score\n",
    "from sklearn.metrics import precision_score\n",
    "from sklearn.metrics import roc_auc_score\n",
    "from sklearn.metrics import roc_curve\n",
    "from sklearn.metrics import f1_score\n",
    "from sklearn.metrics import fbeta_score\n",
    "from sklearn.metrics import mean_absolute_error\n",
    "from sklearn.metrics import mean_squared_error\n",
    "\n",
    "def grafico_barras(data,atr,title,xlabel,ylabel):\n",
    "    incidents_count = data[atr].value_counts()\n",
    "    sns.set(style='darkgrid')\n",
    "    sns.barplot(x=incidents_count.index, y=incidents_count.values)\n",
    "    plt.title(title)\n",
    "    plt.ylabel(ylabel)\n",
    "    plt.xlabel(xlabel)\n",
    "    plt.show()\n",
    "\n",
    "\n",
    "X = data_dt.drop(['Injeção na rede (kWh)'],axis=1)\n",
    "y = data_dt['Injeção na rede (kWh)'].to_frame()\n",
    "random = 2021\n",
    "X_train, X_test, y_train, y_test = train_test_split(X,y, test_size=0.25, random_state=random)\n"
   ]
  },
  {
   "cell_type": "code",
   "execution_count": 7,
   "id": "01c991a6",
   "metadata": {
    "tags": []
   },
   "outputs": [
    {
     "name": "stdout",
     "output_type": "stream",
     "text": [
      "The shape of X (11016, 10). X_train has shape (8262, 10) while X_test has shape (2754, 10)\n",
      "The shape of y (11016, 1). y_train has shape (8262, 1) while y_test has shape (2754, 1)\n"
     ]
    }
   ],
   "source": [
    "print(\"The shape of X %s. X_train has shape %s while X_test has shape %s\" %(X.shape, X_train.shape, X_test.shape))\n",
    "print(\"The shape of y %s. y_train has shape %s while y_test has shape %s\" %(y.shape, y_train.shape, y_test.shape))"
   ]
  },
  {
   "cell_type": "code",
   "execution_count": 8,
   "id": "01a06587",
   "metadata": {
    "tags": []
   },
   "outputs": [
    {
     "name": "stderr",
     "output_type": "stream",
     "text": [
      "C:\\Users\\jmbar\\anaconda3\\Lib\\site-packages\\seaborn\\_oldcore.py:1498: FutureWarning: is_categorical_dtype is deprecated and will be removed in a future version. Use isinstance(dtype, CategoricalDtype) instead\n",
      "  if pd.api.types.is_categorical_dtype(vector):\n",
      "C:\\Users\\jmbar\\anaconda3\\Lib\\site-packages\\seaborn\\_oldcore.py:1498: FutureWarning: is_categorical_dtype is deprecated and will be removed in a future version. Use isinstance(dtype, CategoricalDtype) instead\n",
      "  if pd.api.types.is_categorical_dtype(vector):\n",
      "C:\\Users\\jmbar\\anaconda3\\Lib\\site-packages\\seaborn\\_oldcore.py:1498: FutureWarning: is_categorical_dtype is deprecated and will be removed in a future version. Use isinstance(dtype, CategoricalDtype) instead\n",
      "  if pd.api.types.is_categorical_dtype(vector):\n"
     ]
    },
    {
     "data": {
      "image/png": "[encoded data removed]",
      "text/plain": [
       "<Figure size 640x480 with 1 Axes>"
      ]
     },
     "metadata": {},
     "output_type": "display_data"
    },
    {
     "name": "stderr",
     "output_type": "stream",
     "text": [
      "C:\\Users\\jmbar\\anaconda3\\Lib\\site-packages\\seaborn\\_oldcore.py:1498: FutureWarning: is_categorical_dtype is deprecated and will be removed in a future version. Use isinstance(dtype, CategoricalDtype) instead\n",
      "  if pd.api.types.is_categorical_dtype(vector):\n",
      "C:\\Users\\jmbar\\anaconda3\\Lib\\site-packages\\seaborn\\_oldcore.py:1498: FutureWarning: is_categorical_dtype is deprecated and will be removed in a future version. Use isinstance(dtype, CategoricalDtype) instead\n",
      "  if pd.api.types.is_categorical_dtype(vector):\n",
      "C:\\Users\\jmbar\\anaconda3\\Lib\\site-packages\\seaborn\\_oldcore.py:1498: FutureWarning: is_categorical_dtype is deprecated and will be removed in a future version. Use isinstance(dtype, CategoricalDtype) instead\n",
      "  if pd.api.types.is_categorical_dtype(vector):\n"
     ]
    },
    {
     "data": {
      "image/png": "[encoded data removed]",
      "text/plain": [
       "<Figure size 640x480 with 1 Axes>"
      ]
     },
     "metadata": {},
     "output_type": "display_data"
    }
   ],
   "source": [
    "grafico_barras(y_train,'Injeção na rede (kWh)','Dados treino','Injeção na rede (kWh)','Ocorrências')\n",
    "grafico_barras(y_test,'Injeção na rede (kWh)','Dados teste','Injeção na rede (kWh)','Ocorrências')"
   ]
  },
  {
   "cell_type": "code",
   "execution_count": 9,
   "id": "6fb5ab0b",
   "metadata": {
    "tags": []
   },
   "outputs": [],
   "source": [
    "from sklearn.model_selection import GridSearchCV, KFold, train_test_split"
   ]
  },
  {
   "cell_type": "code",
   "execution_count": 10,
   "id": "bf340ecc",
   "metadata": {
    "tags": []
   },
   "outputs": [],
   "source": [
    "import tensorflow as tf\n",
    "from tensorflow import keras\n",
    "from tensorflow.keras.models import Sequential\n",
    "from tensorflow.keras.layers import Dense, Dropout, BatchNormalization\n",
    "from tensorflow.keras import metrics\n",
    "from scikeras.wrappers import KerasClassifier"
   ]
  },
  {
   "cell_type": "code",
   "execution_count": 11,
   "id": "c69b6f0b",
   "metadata": {
    "tags": []
   },
   "outputs": [
    {
     "name": "stdout",
     "output_type": "stream",
     "text": [
      "TensorFlow version: 2.12.1\n"
     ]
    }
   ],
   "source": [
    "print(\"TensorFlow version:\", tf.__version__)"
   ]
  },
  {
   "cell_type": "code",
   "execution_count": 12,
   "id": "45f8953a",
   "metadata": {
    "tags": []
   },
   "outputs": [],
   "source": [
    "def build_model(activation='relu', learning_rate=0.01):\n",
    "    model = Sequential()\n",
    "    model.add(Dense(32, input_dim=10, activation=activation))\n",
    "    model.add(Dense(16, activation=activation))\n",
    "    model.add(Dense(8, activation=activation))\n",
    "    model.add(Dense(5, activation='softmax'))  # Adjusted for 5 classes\n",
    "    \n",
    "    model.compile(\n",
    "        loss='sparse_categorical_crossentropy',\n",
    "        optimizer=tf.optimizers.Adam(learning_rate),\n",
    "        metrics=['accuracy']\n",
    "    )\n",
    "    return model\n"
   ]
  },
  {
   "cell_type": "code",
   "execution_count": 13,
   "id": "9034bafe",
   "metadata": {
    "tags": []
   },
   "outputs": [],
   "source": [
    "from sklearn.preprocessing import MinMaxScaler\n",
    "\n",
    "scaler_x = MinMaxScaler(feature_range=(0,1)).fit(X)\n",
    "X_scaled = pd.DataFrame(scaler_x.transform(X[X.columns]), columns = X.columns)"
   ]
  },
  {
   "cell_type": "code",
   "execution_count": 14,
   "id": "875b3125",
   "metadata": {
    "tags": []
   },
   "outputs": [
    {
     "data": {
      "text/html": [
       "<div>\n",
       "<style scoped>\n",
       "    .dataframe tbody tr th:only-of-type {\n",
       "        vertical-align: middle;\n",
       "    }\n",
       "\n",
       "    .dataframe tbody tr th {\n",
       "        vertical-align: top;\n",
       "    }\n",
       "\n",
       "    .dataframe thead th {\n",
       "        text-align: right;\n",
       "    }\n",
       "</style>\n",
       "<table border=\"1\" class=\"dataframe\">\n",
       "  <thead>\n",
       "    <tr style=\"text-align: right;\">\n",
       "      <th></th>\n",
       "      <th>Normal (kWh)</th>\n",
       "      <th>Horário Económico (kWh)</th>\n",
       "      <th>Autoconsumo (kWh)</th>\n",
       "      <th>temp</th>\n",
       "      <th>feels_like</th>\n",
       "      <th>temp_min</th>\n",
       "      <th>temp_max</th>\n",
       "      <th>humidity</th>\n",
       "      <th>weather_description</th>\n",
       "      <th>Estacao</th>\n",
       "    </tr>\n",
       "  </thead>\n",
       "  <tbody>\n",
       "    <tr>\n",
       "      <th>0</th>\n",
       "      <td>0.0</td>\n",
       "      <td>0.0</td>\n",
       "      <td>0.0</td>\n",
       "      <td>13.97</td>\n",
       "      <td>13.54</td>\n",
       "      <td>11.45</td>\n",
       "      <td>14.04</td>\n",
       "      <td>81</td>\n",
       "      <td>4</td>\n",
       "      <td>3</td>\n",
       "    </tr>\n",
       "    <tr>\n",
       "      <th>1</th>\n",
       "      <td>0.0</td>\n",
       "      <td>0.0</td>\n",
       "      <td>0.0</td>\n",
       "      <td>13.48</td>\n",
       "      <td>13.02</td>\n",
       "      <td>13.43</td>\n",
       "      <td>13.90</td>\n",
       "      <td>82</td>\n",
       "      <td>4</td>\n",
       "      <td>3</td>\n",
       "    </tr>\n",
       "    <tr>\n",
       "      <th>2</th>\n",
       "      <td>0.0</td>\n",
       "      <td>0.0</td>\n",
       "      <td>0.0</td>\n",
       "      <td>12.93</td>\n",
       "      <td>12.47</td>\n",
       "      <td>12.72</td>\n",
       "      <td>13.43</td>\n",
       "      <td>84</td>\n",
       "      <td>4</td>\n",
       "      <td>3</td>\n",
       "    </tr>\n",
       "    <tr>\n",
       "      <th>3</th>\n",
       "      <td>0.0</td>\n",
       "      <td>0.0</td>\n",
       "      <td>0.0</td>\n",
       "      <td>12.61</td>\n",
       "      <td>12.15</td>\n",
       "      <td>10.34</td>\n",
       "      <td>12.93</td>\n",
       "      <td>85</td>\n",
       "      <td>4</td>\n",
       "      <td>3</td>\n",
       "    </tr>\n",
       "    <tr>\n",
       "      <th>4</th>\n",
       "      <td>0.0</td>\n",
       "      <td>0.0</td>\n",
       "      <td>0.0</td>\n",
       "      <td>12.61</td>\n",
       "      <td>12.17</td>\n",
       "      <td>9.79</td>\n",
       "      <td>12.93</td>\n",
       "      <td>86</td>\n",
       "      <td>4</td>\n",
       "      <td>3</td>\n",
       "    </tr>\n",
       "  </tbody>\n",
       "</table>\n",
       "</div>"
      ],
      "text/plain": [
       "   Normal (kWh)  Horário Económico (kWh)  Autoconsumo (kWh)   temp  \\\n",
       "0           0.0                      0.0                0.0  13.97   \n",
       "1           0.0                      0.0                0.0  13.48   \n",
       "2           0.0                      0.0                0.0  12.93   \n",
       "3           0.0                      0.0                0.0  12.61   \n",
       "4           0.0                      0.0                0.0  12.61   \n",
       "\n",
       "   feels_like  temp_min  temp_max  humidity  weather_description  Estacao  \n",
       "0       13.54     11.45     14.04        81                    4        3  \n",
       "1       13.02     13.43     13.90        82                    4        3  \n",
       "2       12.47     12.72     13.43        84                    4        3  \n",
       "3       12.15     10.34     12.93        85                    4        3  \n",
       "4       12.17      9.79     12.93        86                    4        3  "
      ]
     },
     "execution_count": 14,
     "metadata": {},
     "output_type": "execute_result"
    }
   ],
   "source": [
    "X.head()"
   ]
  },
  {
   "cell_type": "code",
   "execution_count": 15,
   "id": "78f884e6",
   "metadata": {
    "tags": []
   },
   "outputs": [
    {
     "data": {
      "text/html": [
       "<div>\n",
       "<style scoped>\n",
       "    .dataframe tbody tr th:only-of-type {\n",
       "        vertical-align: middle;\n",
       "    }\n",
       "\n",
       "    .dataframe tbody tr th {\n",
       "        vertical-align: top;\n",
       "    }\n",
       "\n",
       "    .dataframe thead th {\n",
       "        text-align: right;\n",
       "    }\n",
       "</style>\n",
       "<table border=\"1\" class=\"dataframe\">\n",
       "  <thead>\n",
       "    <tr style=\"text-align: right;\">\n",
       "      <th></th>\n",
       "      <th>Normal (kWh)</th>\n",
       "      <th>Horário Económico (kWh)</th>\n",
       "      <th>Autoconsumo (kWh)</th>\n",
       "      <th>temp</th>\n",
       "      <th>feels_like</th>\n",
       "      <th>temp_min</th>\n",
       "      <th>temp_max</th>\n",
       "      <th>humidity</th>\n",
       "      <th>weather_description</th>\n",
       "      <th>Estacao</th>\n",
       "    </tr>\n",
       "  </thead>\n",
       "  <tbody>\n",
       "    <tr>\n",
       "      <th>0</th>\n",
       "      <td>0.0</td>\n",
       "      <td>0.0</td>\n",
       "      <td>0.0</td>\n",
       "      <td>0.336788</td>\n",
       "      <td>0.361443</td>\n",
       "      <td>0.323608</td>\n",
       "      <td>0.316800</td>\n",
       "      <td>0.765432</td>\n",
       "      <td>0.428571</td>\n",
       "      <td>0.666667</td>\n",
       "    </tr>\n",
       "    <tr>\n",
       "      <th>1</th>\n",
       "      <td>0.0</td>\n",
       "      <td>0.0</td>\n",
       "      <td>0.0</td>\n",
       "      <td>0.324698</td>\n",
       "      <td>0.349494</td>\n",
       "      <td>0.376606</td>\n",
       "      <td>0.313310</td>\n",
       "      <td>0.777778</td>\n",
       "      <td>0.428571</td>\n",
       "      <td>0.666667</td>\n",
       "    </tr>\n",
       "    <tr>\n",
       "      <th>2</th>\n",
       "      <td>0.0</td>\n",
       "      <td>0.0</td>\n",
       "      <td>0.0</td>\n",
       "      <td>0.311128</td>\n",
       "      <td>0.336857</td>\n",
       "      <td>0.357602</td>\n",
       "      <td>0.301595</td>\n",
       "      <td>0.802469</td>\n",
       "      <td>0.428571</td>\n",
       "      <td>0.666667</td>\n",
       "    </tr>\n",
       "    <tr>\n",
       "      <th>3</th>\n",
       "      <td>0.0</td>\n",
       "      <td>0.0</td>\n",
       "      <td>0.0</td>\n",
       "      <td>0.303232</td>\n",
       "      <td>0.329504</td>\n",
       "      <td>0.293897</td>\n",
       "      <td>0.289133</td>\n",
       "      <td>0.814815</td>\n",
       "      <td>0.428571</td>\n",
       "      <td>0.666667</td>\n",
       "    </tr>\n",
       "    <tr>\n",
       "      <th>4</th>\n",
       "      <td>0.0</td>\n",
       "      <td>0.0</td>\n",
       "      <td>0.0</td>\n",
       "      <td>0.303232</td>\n",
       "      <td>0.329963</td>\n",
       "      <td>0.279176</td>\n",
       "      <td>0.289133</td>\n",
       "      <td>0.827160</td>\n",
       "      <td>0.428571</td>\n",
       "      <td>0.666667</td>\n",
       "    </tr>\n",
       "  </tbody>\n",
       "</table>\n",
       "</div>"
      ],
      "text/plain": [
       "   Normal (kWh)  Horário Económico (kWh)  Autoconsumo (kWh)      temp  \\\n",
       "0           0.0                      0.0                0.0  0.336788   \n",
       "1           0.0                      0.0                0.0  0.324698   \n",
       "2           0.0                      0.0                0.0  0.311128   \n",
       "3           0.0                      0.0                0.0  0.303232   \n",
       "4           0.0                      0.0                0.0  0.303232   \n",
       "\n",
       "   feels_like  temp_min  temp_max  humidity  weather_description   Estacao  \n",
       "0    0.361443  0.323608  0.316800  0.765432             0.428571  0.666667  \n",
       "1    0.349494  0.376606  0.313310  0.777778             0.428571  0.666667  \n",
       "2    0.336857  0.357602  0.301595  0.802469             0.428571  0.666667  \n",
       "3    0.329504  0.293897  0.289133  0.814815             0.428571  0.666667  \n",
       "4    0.329963  0.279176  0.289133  0.827160             0.428571  0.666667  "
      ]
     },
     "execution_count": 15,
     "metadata": {},
     "output_type": "execute_result"
    }
   ],
   "source": [
    "X_scaled.head()"
   ]
  },
  {
   "cell_type": "code",
   "execution_count": 16,
   "id": "e8a764f1",
   "metadata": {
    "tags": []
   },
   "outputs": [
    {
     "name": "stdout",
     "output_type": "stream",
     "text": [
      "Injeção na rede (kWh)\n",
      "0                        5844\n",
      "2                         822\n",
      "3                         811\n",
      "4                         463\n",
      "1                         322\n",
      "Name: count, dtype: int64\n",
      "Injeção na rede (kWh)\n",
      "0                        1933\n",
      "3                         292\n",
      "2                         276\n",
      "4                         143\n",
      "1                         110\n",
      "Name: count, dtype: int64\n"
     ]
    }
   ],
   "source": [
    "X_train, X_test, y_train, y_test = train_test_split(X_scaled,y,test_size=0.25,random_state=2021)\n",
    "print(y_train.value_counts())\n",
    "print(y_test.value_counts())"
   ]
  },
  {
   "cell_type": "code",
   "execution_count": 17,
   "id": "c0edd0bd",
   "metadata": {
    "tags": []
   },
   "outputs": [],
   "source": [
    "optimizer = ['SGD', 'RMSprop', 'Adagrad']\n",
    "param_grid = dict(optimizer = optimizer)"
   ]
  },
  {
   "cell_type": "code",
   "execution_count": 18,
   "id": "7e47d46e",
   "metadata": {
    "tags": []
   },
   "outputs": [],
   "source": [
    "kf = KFold(n_splits =10, shuffle = True, random_state = 2021)"
   ]
  },
  {
   "cell_type": "code",
   "execution_count": 19,
   "id": "31eaca69",
   "metadata": {
    "tags": []
   },
   "outputs": [],
   "source": [
    "build_model = build_model()\n",
    "model = KerasClassifier(model = build_model, batch_size = 40, validation_split = 0.2, epochs = 20, random_state=2021)"
   ]
  },
  {
   "cell_type": "code",
   "execution_count": 20,
   "id": "94ad7306",
   "metadata": {
    "tags": []
   },
   "outputs": [
    {
     "name": "stderr",
     "output_type": "stream",
     "text": [
      "WARNING:absl:Found untraced functions such as _update_step_xla while saving (showing 1 of 1). These functions will not be directly callable after loading.\n"
     ]
    },
    {
     "name": "stdout",
     "output_type": "stream",
     "text": [
      "INFO:tensorflow:Assets written to: C:\\Users\\jmbar\\AppData\\Local\\Temp\\tmpsexj2oq_\\assets\n"
     ]
    },
    {
     "name": "stderr",
     "output_type": "stream",
     "text": [
      "INFO:tensorflow:Assets written to: C:\\Users\\jmbar\\AppData\\Local\\Temp\\tmpsexj2oq_\\assets\n"
     ]
    },
    {
     "name": "stdout",
     "output_type": "stream",
     "text": [
      "Fitting 10 folds for each of 3 candidates, totalling 30 fits\n"
     ]
    },
    {
     "name": "stderr",
     "output_type": "stream",
     "text": [
      "WARNING:absl:Found untraced functions such as _update_step_xla while saving (showing 1 of 1). These functions will not be directly callable after loading.\n"
     ]
    },
    {
     "name": "stdout",
     "output_type": "stream",
     "text": [
      "INFO:tensorflow:Assets written to: C:\\Users\\jmbar\\AppData\\Local\\Temp\\tmp42mu5e2o\\assets\n"
     ]
    },
    {
     "name": "stderr",
     "output_type": "stream",
     "text": [
      "INFO:tensorflow:Assets written to: C:\\Users\\jmbar\\AppData\\Local\\Temp\\tmp42mu5e2o\\assets\n"
     ]
    },
    {
     "name": "stdout",
     "output_type": "stream",
     "text": [
      "Epoch 1/20\n",
      "149/149 [==============================] - 1s 4ms/step - loss: 0.6607 - accuracy: 0.8566 - val_loss: 0.5000 - val_accuracy: 0.7001\n",
      "Epoch 2/20\n",
      "149/149 [==============================] - 0s 3ms/step - loss: 0.4832 - accuracy: 0.7228 - val_loss: 0.4500 - val_accuracy: 0.7135\n",
      "Epoch 3/20\n",
      "149/149 [==============================] - 0s 2ms/step - loss: 0.4627 - accuracy: 0.7120 - val_loss: 0.4423 - val_accuracy: 0.7418\n",
      "Epoch 4/20\n",
      "149/149 [==============================] - 0s 3ms/step - loss: 0.4401 - accuracy: 0.7086 - val_loss: 0.4334 - val_accuracy: 0.6994\n",
      "Epoch 5/20\n",
      "149/149 [==============================] - 0s 3ms/step - loss: 0.4205 - accuracy: 0.7147 - val_loss: 0.4378 - val_accuracy: 0.6987\n",
      "Epoch 6/20\n",
      "149/149 [==============================] - 0s 3ms/step - loss: 0.4158 - accuracy: 0.7132 - val_loss: 0.3953 - val_accuracy: 0.7122\n",
      "Epoch 7/20\n",
      "149/149 [==============================] - 0s 3ms/step - loss: 0.4073 - accuracy: 0.7154 - val_loss: 0.3938 - val_accuracy: 0.7344\n",
      "Epoch 8/20\n",
      "149/149 [==============================] - 0s 3ms/step - loss: 0.3993 - accuracy: 0.7145 - val_loss: 0.3929 - val_accuracy: 0.7041\n",
      "Epoch 9/20\n",
      "149/149 [==============================] - 0s 3ms/step - loss: 0.3953 - accuracy: 0.7149 - val_loss: 0.4121 - val_accuracy: 0.7303\n",
      "Epoch 10/20\n",
      "149/149 [==============================] - 0s 3ms/step - loss: 0.3972 - accuracy: 0.7130 - val_loss: 0.3749 - val_accuracy: 0.7182\n",
      "Epoch 11/20\n",
      "149/149 [==============================] - 0s 2ms/step - loss: 0.3903 - accuracy: 0.7177 - val_loss: 0.3745 - val_accuracy: 0.7135\n",
      "Epoch 12/20\n",
      "149/149 [==============================] - 0s 2ms/step - loss: 0.3868 - accuracy: 0.7123 - val_loss: 0.3883 - val_accuracy: 0.6927\n",
      "Epoch 13/20\n",
      "149/149 [==============================] - 0s 2ms/step - loss: 0.3794 - accuracy: 0.7162 - val_loss: 0.3884 - val_accuracy: 0.7256\n",
      "Epoch 14/20\n",
      "149/149 [==============================] - 0s 3ms/step - loss: 0.3750 - accuracy: 0.7164 - val_loss: 0.3729 - val_accuracy: 0.6960\n",
      "Epoch 15/20\n",
      "149/149 [==============================] - 0s 3ms/step - loss: 0.3722 - accuracy: 0.7133 - val_loss: 0.3715 - val_accuracy: 0.7068\n",
      "Epoch 16/20\n",
      "149/149 [==============================] - 0s 3ms/step - loss: 0.3709 - accuracy: 0.7133 - val_loss: 0.3675 - val_accuracy: 0.7135\n",
      "Epoch 17/20\n",
      "149/149 [==============================] - 0s 3ms/step - loss: 0.3670 - accuracy: 0.7142 - val_loss: 0.3662 - val_accuracy: 0.7162\n",
      "Epoch 18/20\n",
      "149/149 [==============================] - 0s 3ms/step - loss: 0.3683 - accuracy: 0.7139 - val_loss: 0.3709 - val_accuracy: 0.7162\n",
      "Epoch 19/20\n",
      "149/149 [==============================] - 0s 3ms/step - loss: 0.3652 - accuracy: 0.7150 - val_loss: 0.3720 - val_accuracy: 0.7236\n",
      "Epoch 20/20\n",
      "149/149 [==============================] - 0s 3ms/step - loss: 0.3696 - accuracy: 0.7147 - val_loss: 0.3808 - val_accuracy: 0.6907\n",
      "21/21 [==============================] - 0s 2ms/step\n"
     ]
    },
    {
     "name": "stderr",
     "output_type": "stream",
     "text": [
      "WARNING:absl:Found untraced functions such as _update_step_xla while saving (showing 1 of 1). These functions will not be directly callable after loading.\n"
     ]
    },
    {
     "name": "stdout",
     "output_type": "stream",
     "text": [
      "INFO:tensorflow:Assets written to: C:\\Users\\jmbar\\AppData\\Local\\Temp\\tmpd7nacscn\\assets\n"
     ]
    },
    {
     "name": "stderr",
     "output_type": "stream",
     "text": [
      "INFO:tensorflow:Assets written to: C:\\Users\\jmbar\\AppData\\Local\\Temp\\tmpd7nacscn\\assets\n"
     ]
    },
    {
     "name": "stdout",
     "output_type": "stream",
     "text": [
      "Epoch 1/20\n",
      "149/149 [==============================] - 1s 4ms/step - loss: 0.6646 - accuracy: 0.8589 - val_loss: 0.4807 - val_accuracy: 0.7357\n",
      "Epoch 2/20\n",
      "149/149 [==============================] - 0s 3ms/step - loss: 0.4857 - accuracy: 0.7243 - val_loss: 0.4649 - val_accuracy: 0.7034\n",
      "Epoch 3/20\n",
      "149/149 [==============================] - 0s 3ms/step - loss: 0.4672 - accuracy: 0.7144 - val_loss: 0.4234 - val_accuracy: 0.7115\n",
      "Epoch 4/20\n",
      "149/149 [==============================] - 0s 3ms/step - loss: 0.4365 - accuracy: 0.7145 - val_loss: 0.4059 - val_accuracy: 0.7337\n",
      "Epoch 5/20\n",
      "149/149 [==============================] - 0s 3ms/step - loss: 0.4203 - accuracy: 0.7209 - val_loss: 0.3830 - val_accuracy: 0.7176\n",
      "Epoch 6/20\n",
      "149/149 [==============================] - 0s 3ms/step - loss: 0.4156 - accuracy: 0.7184 - val_loss: 0.3756 - val_accuracy: 0.7209\n",
      "Epoch 7/20\n",
      "149/149 [==============================] - 0s 3ms/step - loss: 0.3946 - accuracy: 0.7214 - val_loss: 0.3798 - val_accuracy: 0.7202\n",
      "Epoch 8/20\n",
      "149/149 [==============================] - 0s 3ms/step - loss: 0.3996 - accuracy: 0.7233 - val_loss: 0.3906 - val_accuracy: 0.7075\n",
      "Epoch 9/20\n",
      "149/149 [==============================] - 0s 2ms/step - loss: 0.3829 - accuracy: 0.7202 - val_loss: 0.4058 - val_accuracy: 0.7236\n",
      "Epoch 10/20\n",
      "149/149 [==============================] - 0s 2ms/step - loss: 0.3782 - accuracy: 0.7159 - val_loss: 0.3786 - val_accuracy: 0.7451\n",
      "Epoch 11/20\n",
      "149/149 [==============================] - 0s 2ms/step - loss: 0.3802 - accuracy: 0.7249 - val_loss: 0.3672 - val_accuracy: 0.7243\n",
      "Epoch 12/20\n",
      "149/149 [==============================] - 0s 3ms/step - loss: 0.3699 - accuracy: 0.7162 - val_loss: 0.3603 - val_accuracy: 0.7330\n",
      "Epoch 13/20\n",
      "149/149 [==============================] - 0s 2ms/step - loss: 0.3713 - accuracy: 0.7206 - val_loss: 0.3736 - val_accuracy: 0.6947\n",
      "Epoch 14/20\n",
      "149/149 [==============================] - 0s 3ms/step - loss: 0.3763 - accuracy: 0.7162 - val_loss: 0.3677 - val_accuracy: 0.7155\n",
      "Epoch 15/20\n",
      "149/149 [==============================] - 0s 3ms/step - loss: 0.3664 - accuracy: 0.7201 - val_loss: 0.3643 - val_accuracy: 0.7229\n",
      "Epoch 16/20\n",
      "149/149 [==============================] - 0s 3ms/step - loss: 0.3618 - accuracy: 0.7191 - val_loss: 0.3480 - val_accuracy: 0.7344\n",
      "Epoch 17/20\n",
      "149/149 [==============================] - 0s 3ms/step - loss: 0.3688 - accuracy: 0.7165 - val_loss: 0.3565 - val_accuracy: 0.7303\n",
      "Epoch 18/20\n",
      "149/149 [==============================] - 0s 3ms/step - loss: 0.3570 - accuracy: 0.7160 - val_loss: 0.3531 - val_accuracy: 0.7229\n",
      "Epoch 19/20\n",
      "149/149 [==============================] - 0s 3ms/step - loss: 0.3643 - accuracy: 0.7202 - val_loss: 0.3919 - val_accuracy: 0.7088\n",
      "Epoch 20/20\n",
      "149/149 [==============================] - 0s 3ms/step - loss: 0.3593 - accuracy: 0.7192 - val_loss: 0.3552 - val_accuracy: 0.7377\n",
      "21/21 [==============================] - 0s 1ms/step\n"
     ]
    },
    {
     "name": "stderr",
     "output_type": "stream",
     "text": [
      "WARNING:absl:Found untraced functions such as _update_step_xla while saving (showing 1 of 1). These functions will not be directly callable after loading.\n"
     ]
    },
    {
     "name": "stdout",
     "output_type": "stream",
     "text": [
      "INFO:tensorflow:Assets written to: C:\\Users\\jmbar\\AppData\\Local\\Temp\\tmpnx95hk0u\\assets\n"
     ]
    },
    {
     "name": "stderr",
     "output_type": "stream",
     "text": [
      "INFO:tensorflow:Assets written to: C:\\Users\\jmbar\\AppData\\Local\\Temp\\tmpnx95hk0u\\assets\n"
     ]
    },
    {
     "name": "stdout",
     "output_type": "stream",
     "text": [
      "Epoch 1/20\n",
      "149/149 [==============================] - 1s 4ms/step - loss: 0.6733 - accuracy: 0.8695 - val_loss: 0.4591 - val_accuracy: 0.7352\n",
      "Epoch 2/20\n",
      "149/149 [==============================] - 0s 3ms/step - loss: 0.4567 - accuracy: 0.7170 - val_loss: 0.5105 - val_accuracy: 0.6788\n",
      "Epoch 3/20\n",
      "149/149 [==============================] - 0s 2ms/step - loss: 0.4281 - accuracy: 0.7199 - val_loss: 0.4278 - val_accuracy: 0.6969\n",
      "Epoch 4/20\n",
      "149/149 [==============================] - 0s 3ms/step - loss: 0.4092 - accuracy: 0.7204 - val_loss: 0.3932 - val_accuracy: 0.7272\n",
      "Epoch 5/20\n",
      "149/149 [==============================] - 0s 3ms/step - loss: 0.3926 - accuracy: 0.7249 - val_loss: 0.3832 - val_accuracy: 0.7392\n",
      "Epoch 6/20\n",
      "149/149 [==============================] - 0s 3ms/step - loss: 0.3875 - accuracy: 0.7251 - val_loss: 0.3770 - val_accuracy: 0.7298\n",
      "Epoch 7/20\n",
      "149/149 [==============================] - 0s 3ms/step - loss: 0.3911 - accuracy: 0.7229 - val_loss: 0.3771 - val_accuracy: 0.7171\n",
      "Epoch 8/20\n",
      "149/149 [==============================] - 0s 3ms/step - loss: 0.3911 - accuracy: 0.7214 - val_loss: 0.3831 - val_accuracy: 0.7184\n",
      "Epoch 9/20\n",
      "149/149 [==============================] - 0s 3ms/step - loss: 0.3772 - accuracy: 0.7241 - val_loss: 0.3717 - val_accuracy: 0.7339\n",
      "Epoch 10/20\n",
      "149/149 [==============================] - 0s 3ms/step - loss: 0.3848 - accuracy: 0.7255 - val_loss: 0.3972 - val_accuracy: 0.7124\n",
      "Epoch 11/20\n",
      "149/149 [==============================] - 0s 3ms/step - loss: 0.3731 - accuracy: 0.7256 - val_loss: 0.3802 - val_accuracy: 0.7177\n",
      "Epoch 12/20\n",
      "149/149 [==============================] - 0s 3ms/step - loss: 0.3801 - accuracy: 0.7244 - val_loss: 0.3943 - val_accuracy: 0.7312\n",
      "Epoch 13/20\n",
      "149/149 [==============================] - 0s 3ms/step - loss: 0.3791 - accuracy: 0.7229 - val_loss: 0.3758 - val_accuracy: 0.7507\n",
      "Epoch 14/20\n",
      "149/149 [==============================] - 0s 3ms/step - loss: 0.3668 - accuracy: 0.7249 - val_loss: 0.3671 - val_accuracy: 0.7292\n",
      "Epoch 15/20\n",
      "149/149 [==============================] - 0s 3ms/step - loss: 0.3617 - accuracy: 0.7231 - val_loss: 0.3673 - val_accuracy: 0.7191\n",
      "Epoch 16/20\n",
      "149/149 [==============================] - 0s 3ms/step - loss: 0.3656 - accuracy: 0.7241 - val_loss: 0.3650 - val_accuracy: 0.7198\n",
      "Epoch 17/20\n",
      "149/149 [==============================] - 1s 4ms/step - loss: 0.3580 - accuracy: 0.7239 - val_loss: 0.3678 - val_accuracy: 0.7379\n",
      "Epoch 18/20\n",
      "149/149 [==============================] - 0s 3ms/step - loss: 0.3701 - accuracy: 0.7228 - val_loss: 0.3653 - val_accuracy: 0.7211\n",
      "Epoch 19/20\n",
      "149/149 [==============================] - 0s 3ms/step - loss: 0.3617 - accuracy: 0.7241 - val_loss: 0.3632 - val_accuracy: 0.7144\n",
      "Epoch 20/20\n",
      "149/149 [==============================] - 1s 4ms/step - loss: 0.3579 - accuracy: 0.7234 - val_loss: 0.3674 - val_accuracy: 0.7426\n",
      "21/21 [==============================] - 0s 1ms/step\n"
     ]
    },
    {
     "name": "stderr",
     "output_type": "stream",
     "text": [
      "WARNING:absl:Found untraced functions such as _update_step_xla while saving (showing 1 of 1). These functions will not be directly callable after loading.\n"
     ]
    },
    {
     "name": "stdout",
     "output_type": "stream",
     "text": [
      "INFO:tensorflow:Assets written to: C:\\Users\\jmbar\\AppData\\Local\\Temp\\tmpoj6yul42\\assets\n"
     ]
    },
    {
     "name": "stderr",
     "output_type": "stream",
     "text": [
      "INFO:tensorflow:Assets written to: C:\\Users\\jmbar\\AppData\\Local\\Temp\\tmpoj6yul42\\assets\n"
     ]
    },
    {
     "name": "stdout",
     "output_type": "stream",
     "text": [
      "Epoch 1/20\n",
      "149/149 [==============================] - 1s 4ms/step - loss: 0.6538 - accuracy: 0.8478 - val_loss: 0.4928 - val_accuracy: 0.7251\n",
      "Epoch 2/20\n",
      "149/149 [==============================] - 0s 2ms/step - loss: 0.4849 - accuracy: 0.7243 - val_loss: 0.4552 - val_accuracy: 0.7171\n",
      "Epoch 3/20\n",
      "149/149 [==============================] - 0s 3ms/step - loss: 0.4702 - accuracy: 0.7170 - val_loss: 0.4521 - val_accuracy: 0.6935\n",
      "Epoch 4/20\n",
      "149/149 [==============================] - 0s 3ms/step - loss: 0.4357 - accuracy: 0.7130 - val_loss: 0.4184 - val_accuracy: 0.7164\n",
      "Epoch 5/20\n",
      "149/149 [==============================] - 0s 3ms/step - loss: 0.4178 - accuracy: 0.7192 - val_loss: 0.4181 - val_accuracy: 0.7218\n",
      "Epoch 6/20\n",
      "149/149 [==============================] - 0s 3ms/step - loss: 0.4171 - accuracy: 0.7209 - val_loss: 0.4038 - val_accuracy: 0.7124\n",
      "Epoch 7/20\n",
      "149/149 [==============================] - 0s 3ms/step - loss: 0.4031 - accuracy: 0.7181 - val_loss: 0.3964 - val_accuracy: 0.7218\n",
      "Epoch 8/20\n",
      "149/149 [==============================] - 0s 3ms/step - loss: 0.3974 - accuracy: 0.7170 - val_loss: 0.4095 - val_accuracy: 0.7164\n",
      "Epoch 9/20\n",
      "149/149 [==============================] - 0s 3ms/step - loss: 0.3940 - accuracy: 0.7162 - val_loss: 0.4001 - val_accuracy: 0.7036\n",
      "Epoch 10/20\n",
      "149/149 [==============================] - 0s 3ms/step - loss: 0.3924 - accuracy: 0.7132 - val_loss: 0.3949 - val_accuracy: 0.7231\n",
      "Epoch 11/20\n",
      "149/149 [==============================] - 0s 2ms/step - loss: 0.3849 - accuracy: 0.7157 - val_loss: 0.4105 - val_accuracy: 0.6808\n",
      "Epoch 12/20\n",
      "149/149 [==============================] - 0s 2ms/step - loss: 0.3929 - accuracy: 0.7097 - val_loss: 0.4024 - val_accuracy: 0.7224\n",
      "Epoch 13/20\n",
      "149/149 [==============================] - 0s 3ms/step - loss: 0.3805 - accuracy: 0.7075 - val_loss: 0.4226 - val_accuracy: 0.7440\n",
      "Epoch 14/20\n",
      "149/149 [==============================] - 0s 3ms/step - loss: 0.3878 - accuracy: 0.7120 - val_loss: 0.3948 - val_accuracy: 0.7332\n",
      "Epoch 15/20\n",
      "149/149 [==============================] - 0s 3ms/step - loss: 0.3831 - accuracy: 0.7123 - val_loss: 0.4156 - val_accuracy: 0.7419\n",
      "Epoch 16/20\n",
      "149/149 [==============================] - 0s 3ms/step - loss: 0.3856 - accuracy: 0.7132 - val_loss: 0.4020 - val_accuracy: 0.6794\n",
      "Epoch 17/20\n",
      "149/149 [==============================] - 0s 3ms/step - loss: 0.3839 - accuracy: 0.7123 - val_loss: 0.3895 - val_accuracy: 0.7184\n",
      "Epoch 18/20\n",
      "149/149 [==============================] - 0s 3ms/step - loss: 0.3880 - accuracy: 0.7127 - val_loss: 0.3993 - val_accuracy: 0.7319\n",
      "Epoch 19/20\n",
      "149/149 [==============================] - 0s 2ms/step - loss: 0.3812 - accuracy: 0.7144 - val_loss: 0.3895 - val_accuracy: 0.6976\n",
      "Epoch 20/20\n",
      "149/149 [==============================] - 0s 3ms/step - loss: 0.3820 - accuracy: 0.7110 - val_loss: 0.3973 - val_accuracy: 0.7110\n",
      "21/21 [==============================] - 0s 2ms/step\n"
     ]
    },
    {
     "name": "stderr",
     "output_type": "stream",
     "text": [
      "WARNING:absl:Found untraced functions such as _update_step_xla while saving (showing 1 of 1). These functions will not be directly callable after loading.\n"
     ]
    },
    {
     "name": "stdout",
     "output_type": "stream",
     "text": [
      "INFO:tensorflow:Assets written to: C:\\Users\\jmbar\\AppData\\Local\\Temp\\tmpd9du5ula\\assets\n"
     ]
    },
    {
     "name": "stderr",
     "output_type": "stream",
     "text": [
      "INFO:tensorflow:Assets written to: C:\\Users\\jmbar\\AppData\\Local\\Temp\\tmpd9du5ula\\assets\n"
     ]
    },
    {
     "name": "stdout",
     "output_type": "stream",
     "text": [
      "Epoch 1/20\n",
      "149/149 [==============================] - 1s 4ms/step - loss: 0.6531 - accuracy: 0.8510 - val_loss: 0.4756 - val_accuracy: 0.7366\n",
      "Epoch 2/20\n",
      "149/149 [==============================] - 0s 3ms/step - loss: 0.4619 - accuracy: 0.7207 - val_loss: 0.4240 - val_accuracy: 0.7204\n",
      "Epoch 3/20\n",
      "149/149 [==============================] - 0s 3ms/step - loss: 0.4341 - accuracy: 0.7199 - val_loss: 0.3999 - val_accuracy: 0.7218\n",
      "Epoch 4/20\n",
      "149/149 [==============================] - 0s 3ms/step - loss: 0.4212 - accuracy: 0.7229 - val_loss: 0.4073 - val_accuracy: 0.7056\n",
      "Epoch 5/20\n",
      "149/149 [==============================] - 0s 3ms/step - loss: 0.4102 - accuracy: 0.7196 - val_loss: 0.4182 - val_accuracy: 0.7487\n",
      "Epoch 6/20\n",
      "149/149 [==============================] - 0s 3ms/step - loss: 0.3995 - accuracy: 0.7179 - val_loss: 0.3899 - val_accuracy: 0.7392\n",
      "Epoch 7/20\n",
      "149/149 [==============================] - 0s 3ms/step - loss: 0.3954 - accuracy: 0.7213 - val_loss: 0.3946 - val_accuracy: 0.7285\n",
      "Epoch 8/20\n",
      "149/149 [==============================] - 0s 2ms/step - loss: 0.3921 - accuracy: 0.7218 - val_loss: 0.3775 - val_accuracy: 0.7191\n",
      "Epoch 9/20\n",
      "149/149 [==============================] - 0s 2ms/step - loss: 0.3935 - accuracy: 0.7189 - val_loss: 0.3781 - val_accuracy: 0.7083\n",
      "Epoch 10/20\n",
      "149/149 [==============================] - 0s 3ms/step - loss: 0.3853 - accuracy: 0.7186 - val_loss: 0.3748 - val_accuracy: 0.7171\n",
      "Epoch 11/20\n",
      "149/149 [==============================] - 0s 3ms/step - loss: 0.3813 - accuracy: 0.7157 - val_loss: 0.3658 - val_accuracy: 0.7204\n",
      "Epoch 12/20\n",
      "149/149 [==============================] - 0s 3ms/step - loss: 0.3907 - accuracy: 0.7150 - val_loss: 0.3747 - val_accuracy: 0.7231\n",
      "Epoch 13/20\n",
      "149/149 [==============================] - 1s 4ms/step - loss: 0.3799 - accuracy: 0.7191 - val_loss: 0.3729 - val_accuracy: 0.6983\n",
      "Epoch 14/20\n",
      "149/149 [==============================] - 0s 3ms/step - loss: 0.3765 - accuracy: 0.7162 - val_loss: 0.3666 - val_accuracy: 0.7157\n",
      "Epoch 15/20\n",
      "149/149 [==============================] - 0s 3ms/step - loss: 0.3789 - accuracy: 0.7179 - val_loss: 0.3815 - val_accuracy: 0.7117\n",
      "Epoch 16/20\n",
      "149/149 [==============================] - 0s 3ms/step - loss: 0.3718 - accuracy: 0.7214 - val_loss: 0.3650 - val_accuracy: 0.7265\n",
      "Epoch 17/20\n",
      "149/149 [==============================] - 0s 3ms/step - loss: 0.3675 - accuracy: 0.7194 - val_loss: 0.3670 - val_accuracy: 0.7211\n",
      "Epoch 18/20\n",
      "149/149 [==============================] - 0s 3ms/step - loss: 0.3695 - accuracy: 0.7201 - val_loss: 0.3534 - val_accuracy: 0.7157\n",
      "Epoch 19/20\n",
      "149/149 [==============================] - 0s 3ms/step - loss: 0.3660 - accuracy: 0.7182 - val_loss: 0.3886 - val_accuracy: 0.7110\n",
      "Epoch 20/20\n",
      "149/149 [==============================] - 0s 2ms/step - loss: 0.3662 - accuracy: 0.7211 - val_loss: 0.3523 - val_accuracy: 0.7238\n",
      "21/21 [==============================] - 0s 2ms/step\n"
     ]
    },
    {
     "name": "stderr",
     "output_type": "stream",
     "text": [
      "WARNING:absl:Found untraced functions such as _update_step_xla while saving (showing 1 of 1). These functions will not be directly callable after loading.\n"
     ]
    },
    {
     "name": "stdout",
     "output_type": "stream",
     "text": [
      "WARNING:tensorflow:Detecting that an object or model or tf.train.Checkpoint is being deleted with unrestored values. See the following logs for the specific values in question. To silence these warnings, use `status.expect_partial()`. See https://www.tensorflow.org/api_docs/python/tf/train/Checkpoint#restorefor details about the status object returned by the restore function.\n"
     ]
    },
    {
     "name": "stderr",
     "output_type": "stream",
     "text": [
      "WARNING:tensorflow:Detecting that an object or model or tf.train.Checkpoint is being deleted with unrestored values. See the following logs for the specific values in question. To silence these warnings, use `status.expect_partial()`. See https://www.tensorflow.org/api_docs/python/tf/train/Checkpoint#restorefor details about the status object returned by the restore function.\n"
     ]
    },
    {
     "name": "stdout",
     "output_type": "stream",
     "text": [
      "WARNING:tensorflow:Value in checkpoint could not be found in the restored object: (root).keras_api.metrics.0.total\n"
     ]
    },
    {
     "name": "stderr",
     "output_type": "stream",
     "text": [
      "WARNING:tensorflow:Value in checkpoint could not be found in the restored object: (root).keras_api.metrics.0.total\n"
     ]
    },
    {
     "name": "stdout",
     "output_type": "stream",
     "text": [
      "WARNING:tensorflow:Value in checkpoint could not be found in the restored object: (root).keras_api.metrics.0.count\n"
     ]
    },
    {
     "name": "stderr",
     "output_type": "stream",
     "text": [
      "WARNING:tensorflow:Value in checkpoint could not be found in the restored object: (root).keras_api.metrics.0.count\n"
     ]
    },
    {
     "name": "stdout",
     "output_type": "stream",
     "text": [
      "WARNING:tensorflow:Value in checkpoint could not be found in the restored object: (root).keras_api.metrics.1.total\n"
     ]
    },
    {
     "name": "stderr",
     "output_type": "stream",
     "text": [
      "WARNING:tensorflow:Value in checkpoint could not be found in the restored object: (root).keras_api.metrics.1.total\n"
     ]
    },
    {
     "name": "stdout",
     "output_type": "stream",
     "text": [
      "WARNING:tensorflow:Value in checkpoint could not be found in the restored object: (root).keras_api.metrics.1.count\n"
     ]
    },
    {
     "name": "stderr",
     "output_type": "stream",
     "text": [
      "WARNING:tensorflow:Value in checkpoint could not be found in the restored object: (root).keras_api.metrics.1.count\n"
     ]
    },
    {
     "name": "stdout",
     "output_type": "stream",
     "text": [
      "WARNING:tensorflow:Detecting that an object or model or tf.train.Checkpoint is being deleted with unrestored values. See the following logs for the specific values in question. To silence these warnings, use `status.expect_partial()`. See https://www.tensorflow.org/api_docs/python/tf/train/Checkpoint#restorefor details about the status object returned by the restore function.\n"
     ]
    },
    {
     "name": "stderr",
     "output_type": "stream",
     "text": [
      "WARNING:tensorflow:Detecting that an object or model or tf.train.Checkpoint is being deleted with unrestored values. See the following logs for the specific values in question. To silence these warnings, use `status.expect_partial()`. See https://www.tensorflow.org/api_docs/python/tf/train/Checkpoint#restorefor details about the status object returned by the restore function.\n"
     ]
    },
    {
     "name": "stdout",
     "output_type": "stream",
     "text": [
      "WARNING:tensorflow:Value in checkpoint could not be found in the restored object: (root).keras_api.metrics.0.total\n"
     ]
    },
    {
     "name": "stderr",
     "output_type": "stream",
     "text": [
      "WARNING:tensorflow:Value in checkpoint could not be found in the restored object: (root).keras_api.metrics.0.total\n"
     ]
    },
    {
     "name": "stdout",
     "output_type": "stream",
     "text": [
      "WARNING:tensorflow:Value in checkpoint could not be found in the restored object: (root).keras_api.metrics.0.count\n"
     ]
    },
    {
     "name": "stderr",
     "output_type": "stream",
     "text": [
      "WARNING:tensorflow:Value in checkpoint could not be found in the restored object: (root).keras_api.metrics.0.count\n"
     ]
    },
    {
     "name": "stdout",
     "output_type": "stream",
     "text": [
      "WARNING:tensorflow:Value in checkpoint could not be found in the restored object: (root).keras_api.metrics.1.total\n"
     ]
    },
    {
     "name": "stderr",
     "output_type": "stream",
     "text": [
      "WARNING:tensorflow:Value in checkpoint could not be found in the restored object: (root).keras_api.metrics.1.total\n"
     ]
    },
    {
     "name": "stdout",
     "output_type": "stream",
     "text": [
      "WARNING:tensorflow:Value in checkpoint could not be found in the restored object: (root).keras_api.metrics.1.count\n"
     ]
    },
    {
     "name": "stderr",
     "output_type": "stream",
     "text": [
      "WARNING:tensorflow:Value in checkpoint could not be found in the restored object: (root).keras_api.metrics.1.count\n"
     ]
    },
    {
     "name": "stdout",
     "output_type": "stream",
     "text": [
      "WARNING:tensorflow:Detecting that an object or model or tf.train.Checkpoint is being deleted with unrestored values. See the following logs for the specific values in question. To silence these warnings, use `status.expect_partial()`. See https://www.tensorflow.org/api_docs/python/tf/train/Checkpoint#restorefor details about the status object returned by the restore function.\n"
     ]
    },
    {
     "name": "stderr",
     "output_type": "stream",
     "text": [
      "WARNING:tensorflow:Detecting that an object or model or tf.train.Checkpoint is being deleted with unrestored values. See the following logs for the specific values in question. To silence these warnings, use `status.expect_partial()`. See https://www.tensorflow.org/api_docs/python/tf/train/Checkpoint#restorefor details about the status object returned by the restore function.\n"
     ]
    },
    {
     "name": "stdout",
     "output_type": "stream",
     "text": [
      "WARNING:tensorflow:Value in checkpoint could not be found in the restored object: (root).keras_api.metrics.0.total\n"
     ]
    },
    {
     "name": "stderr",
     "output_type": "stream",
     "text": [
      "WARNING:tensorflow:Value in checkpoint could not be found in the restored object: (root).keras_api.metrics.0.total\n"
     ]
    },
    {
     "name": "stdout",
     "output_type": "stream",
     "text": [
      "WARNING:tensorflow:Value in checkpoint could not be found in the restored object: (root).keras_api.metrics.0.count\n"
     ]
    },
    {
     "name": "stderr",
     "output_type": "stream",
     "text": [
      "WARNING:tensorflow:Value in checkpoint could not be found in the restored object: (root).keras_api.metrics.0.count\n"
     ]
    },
    {
     "name": "stdout",
     "output_type": "stream",
     "text": [
      "WARNING:tensorflow:Value in checkpoint could not be found in the restored object: (root).keras_api.metrics.1.total\n"
     ]
    },
    {
     "name": "stderr",
     "output_type": "stream",
     "text": [
      "WARNING:tensorflow:Value in checkpoint could not be found in the restored object: (root).keras_api.metrics.1.total\n"
     ]
    },
    {
     "name": "stdout",
     "output_type": "stream",
     "text": [
      "WARNING:tensorflow:Value in checkpoint could not be found in the restored object: (root).keras_api.metrics.1.count\n"
     ]
    },
    {
     "name": "stderr",
     "output_type": "stream",
     "text": [
      "WARNING:tensorflow:Value in checkpoint could not be found in the restored object: (root).keras_api.metrics.1.count\n"
     ]
    },
    {
     "name": "stdout",
     "output_type": "stream",
     "text": [
      "INFO:tensorflow:Assets written to: C:\\Users\\jmbar\\AppData\\Local\\Temp\\tmpj10ikv1v\\assets\n"
     ]
    },
    {
     "name": "stderr",
     "output_type": "stream",
     "text": [
      "INFO:tensorflow:Assets written to: C:\\Users\\jmbar\\AppData\\Local\\Temp\\tmpj10ikv1v\\assets\n"
     ]
    },
    {
     "name": "stdout",
     "output_type": "stream",
     "text": [
      "Epoch 1/20\n",
      "149/149 [==============================] - 2s 6ms/step - loss: 0.6617 - accuracy: 0.8566 - val_loss: 0.4657 - val_accuracy: 0.7070\n",
      "Epoch 2/20\n",
      "149/149 [==============================] - 0s 3ms/step - loss: 0.4690 - accuracy: 0.7209 - val_loss: 0.4624 - val_accuracy: 0.6821\n",
      "Epoch 3/20\n",
      "149/149 [==============================] - 1s 4ms/step - loss: 0.4426 - accuracy: 0.7187 - val_loss: 0.4048 - val_accuracy: 0.7103\n",
      "Epoch 4/20\n",
      "149/149 [==============================] - 1s 3ms/step - loss: 0.4183 - accuracy: 0.7211 - val_loss: 0.4040 - val_accuracy: 0.7130\n",
      "Epoch 5/20\n",
      "149/149 [==============================] - 0s 3ms/step - loss: 0.4181 - accuracy: 0.7201 - val_loss: 0.3931 - val_accuracy: 0.7319\n",
      "Epoch 6/20\n",
      "149/149 [==============================] - 0s 3ms/step - loss: 0.4036 - accuracy: 0.7197 - val_loss: 0.3935 - val_accuracy: 0.7272\n",
      "Epoch 7/20\n",
      "149/149 [==============================] - 0s 3ms/step - loss: 0.4008 - accuracy: 0.7213 - val_loss: 0.3985 - val_accuracy: 0.7151\n",
      "Epoch 8/20\n",
      "149/149 [==============================] - 0s 3ms/step - loss: 0.3968 - accuracy: 0.7226 - val_loss: 0.4094 - val_accuracy: 0.7003\n",
      "Epoch 9/20\n",
      "149/149 [==============================] - 0s 3ms/step - loss: 0.3940 - accuracy: 0.7182 - val_loss: 0.4197 - val_accuracy: 0.6962\n",
      "Epoch 10/20\n",
      "149/149 [==============================] - 0s 3ms/step - loss: 0.3898 - accuracy: 0.7209 - val_loss: 0.3764 - val_accuracy: 0.7157\n",
      "Epoch 11/20\n",
      "149/149 [==============================] - 0s 3ms/step - loss: 0.3869 - accuracy: 0.7199 - val_loss: 0.3823 - val_accuracy: 0.7191\n",
      "Epoch 12/20\n",
      "149/149 [==============================] - 0s 3ms/step - loss: 0.3873 - accuracy: 0.7202 - val_loss: 0.3807 - val_accuracy: 0.7036\n",
      "Epoch 13/20\n",
      "149/149 [==============================] - 0s 3ms/step - loss: 0.3873 - accuracy: 0.7201 - val_loss: 0.4056 - val_accuracy: 0.7110\n",
      "Epoch 14/20\n",
      "149/149 [==============================] - 0s 3ms/step - loss: 0.3888 - accuracy: 0.7213 - val_loss: 0.3819 - val_accuracy: 0.7137\n",
      "Epoch 15/20\n",
      "149/149 [==============================] - 0s 3ms/step - loss: 0.3823 - accuracy: 0.7219 - val_loss: 0.4065 - val_accuracy: 0.7137\n",
      "Epoch 16/20\n",
      "149/149 [==============================] - 0s 3ms/step - loss: 0.3845 - accuracy: 0.7149 - val_loss: 0.3961 - val_accuracy: 0.7386\n",
      "Epoch 17/20\n",
      "149/149 [==============================] - 0s 2ms/step - loss: 0.3825 - accuracy: 0.7233 - val_loss: 0.3783 - val_accuracy: 0.7070\n",
      "Epoch 18/20\n",
      "149/149 [==============================] - 0s 3ms/step - loss: 0.3798 - accuracy: 0.7137 - val_loss: 0.4209 - val_accuracy: 0.6949\n",
      "Epoch 19/20\n",
      "149/149 [==============================] - 0s 3ms/step - loss: 0.3750 - accuracy: 0.7152 - val_loss: 0.3715 - val_accuracy: 0.7164\n",
      "Epoch 20/20\n",
      "149/149 [==============================] - 0s 3ms/step - loss: 0.3794 - accuracy: 0.7179 - val_loss: 0.3830 - val_accuracy: 0.6989\n",
      "21/21 [==============================] - 0s 1ms/step\n"
     ]
    },
    {
     "name": "stderr",
     "output_type": "stream",
     "text": [
      "WARNING:absl:Found untraced functions such as _update_step_xla while saving (showing 1 of 1). These functions will not be directly callable after loading.\n"
     ]
    },
    {
     "name": "stdout",
     "output_type": "stream",
     "text": [
      "INFO:tensorflow:Assets written to: C:\\Users\\jmbar\\AppData\\Local\\Temp\\tmplm9kjq2r\\assets\n"
     ]
    },
    {
     "name": "stderr",
     "output_type": "stream",
     "text": [
      "INFO:tensorflow:Assets written to: C:\\Users\\jmbar\\AppData\\Local\\Temp\\tmplm9kjq2r\\assets\n"
     ]
    },
    {
     "name": "stdout",
     "output_type": "stream",
     "text": [
      "Epoch 1/20\n",
      "149/149 [==============================] - 1s 4ms/step - loss: 0.6391 - accuracy: 0.8438 - val_loss: 0.5304 - val_accuracy: 0.6788\n",
      "Epoch 2/20\n",
      "149/149 [==============================] - 0s 3ms/step - loss: 0.4855 - accuracy: 0.7184 - val_loss: 0.4441 - val_accuracy: 0.7117\n",
      "Epoch 3/20\n",
      "149/149 [==============================] - 0s 3ms/step - loss: 0.4616 - accuracy: 0.7147 - val_loss: 0.4260 - val_accuracy: 0.7103\n",
      "Epoch 4/20\n",
      "149/149 [==============================] - 0s 3ms/step - loss: 0.4355 - accuracy: 0.7159 - val_loss: 0.4031 - val_accuracy: 0.7258\n",
      "Epoch 5/20\n",
      "149/149 [==============================] - 0s 3ms/step - loss: 0.4157 - accuracy: 0.7218 - val_loss: 0.4160 - val_accuracy: 0.6882\n",
      "Epoch 6/20\n",
      "149/149 [==============================] - 0s 3ms/step - loss: 0.4105 - accuracy: 0.7209 - val_loss: 0.4024 - val_accuracy: 0.7043\n",
      "Epoch 7/20\n",
      "149/149 [==============================] - 0s 3ms/step - loss: 0.4011 - accuracy: 0.7221 - val_loss: 0.3843 - val_accuracy: 0.7426\n",
      "Epoch 8/20\n",
      "149/149 [==============================] - 0s 3ms/step - loss: 0.4015 - accuracy: 0.7170 - val_loss: 0.3816 - val_accuracy: 0.7070\n",
      "Epoch 9/20\n",
      "149/149 [==============================] - 0s 3ms/step - loss: 0.3883 - accuracy: 0.7176 - val_loss: 0.3725 - val_accuracy: 0.7292\n",
      "Epoch 10/20\n",
      "149/149 [==============================] - 0s 3ms/step - loss: 0.3927 - accuracy: 0.7176 - val_loss: 0.3755 - val_accuracy: 0.7265\n",
      "Epoch 11/20\n",
      "149/149 [==============================] - 0s 3ms/step - loss: 0.3842 - accuracy: 0.7197 - val_loss: 0.3765 - val_accuracy: 0.7345\n",
      "Epoch 12/20\n",
      "149/149 [==============================] - 0s 3ms/step - loss: 0.3744 - accuracy: 0.7176 - val_loss: 0.3638 - val_accuracy: 0.7043\n",
      "Epoch 13/20\n",
      "149/149 [==============================] - 0s 3ms/step - loss: 0.3753 - accuracy: 0.7167 - val_loss: 0.3692 - val_accuracy: 0.7090\n",
      "Epoch 14/20\n",
      "149/149 [==============================] - 0s 3ms/step - loss: 0.3717 - accuracy: 0.7192 - val_loss: 0.3660 - val_accuracy: 0.7191\n",
      "Epoch 15/20\n",
      "149/149 [==============================] - 0s 3ms/step - loss: 0.3708 - accuracy: 0.7159 - val_loss: 0.3692 - val_accuracy: 0.7090\n",
      "Epoch 16/20\n",
      "149/149 [==============================] - 0s 3ms/step - loss: 0.3641 - accuracy: 0.7192 - val_loss: 0.3684 - val_accuracy: 0.7265\n",
      "Epoch 17/20\n",
      "149/149 [==============================] - 0s 2ms/step - loss: 0.3641 - accuracy: 0.7170 - val_loss: 0.3838 - val_accuracy: 0.7359\n",
      "Epoch 18/20\n",
      "149/149 [==============================] - 0s 2ms/step - loss: 0.3628 - accuracy: 0.7221 - val_loss: 0.3668 - val_accuracy: 0.7406\n",
      "Epoch 19/20\n",
      "149/149 [==============================] - 0s 3ms/step - loss: 0.3600 - accuracy: 0.7201 - val_loss: 0.3975 - val_accuracy: 0.7520\n",
      "Epoch 20/20\n",
      "149/149 [==============================] - 0s 3ms/step - loss: 0.3592 - accuracy: 0.7162 - val_loss: 0.3641 - val_accuracy: 0.7473\n",
      "21/21 [==============================] - 0s 1ms/step\n"
     ]
    },
    {
     "name": "stderr",
     "output_type": "stream",
     "text": [
      "WARNING:absl:Found untraced functions such as _update_step_xla while saving (showing 1 of 1). These functions will not be directly callable after loading.\n"
     ]
    },
    {
     "name": "stdout",
     "output_type": "stream",
     "text": [
      "INFO:tensorflow:Assets written to: C:\\Users\\jmbar\\AppData\\Local\\Temp\\tmpe852ft7a\\assets\n"
     ]
    },
    {
     "name": "stderr",
     "output_type": "stream",
     "text": [
      "INFO:tensorflow:Assets written to: C:\\Users\\jmbar\\AppData\\Local\\Temp\\tmpe852ft7a\\assets\n"
     ]
    },
    {
     "name": "stdout",
     "output_type": "stream",
     "text": [
      "Epoch 1/20\n",
      "149/149 [==============================] - 2s 5ms/step - loss: 0.6412 - accuracy: 0.8394 - val_loss: 0.4784 - val_accuracy: 0.7426\n",
      "Epoch 2/20\n",
      "149/149 [==============================] - 0s 3ms/step - loss: 0.4925 - accuracy: 0.7246 - val_loss: 0.4505 - val_accuracy: 0.7063\n",
      "Epoch 3/20\n",
      "149/149 [==============================] - 0s 3ms/step - loss: 0.4591 - accuracy: 0.7145 - val_loss: 0.4505 - val_accuracy: 0.6882\n",
      "Epoch 4/20\n",
      "149/149 [==============================] - 0s 2ms/step - loss: 0.4391 - accuracy: 0.7167 - val_loss: 0.4343 - val_accuracy: 0.7413\n",
      "Epoch 5/20\n",
      "149/149 [==============================] - 0s 3ms/step - loss: 0.4273 - accuracy: 0.7226 - val_loss: 0.3902 - val_accuracy: 0.7251\n",
      "Epoch 6/20\n",
      "149/149 [==============================] - 0s 2ms/step - loss: 0.4112 - accuracy: 0.7223 - val_loss: 0.3921 - val_accuracy: 0.7278\n",
      "Epoch 7/20\n",
      "149/149 [==============================] - 0s 3ms/step - loss: 0.4006 - accuracy: 0.7207 - val_loss: 0.3802 - val_accuracy: 0.7144\n",
      "Epoch 8/20\n",
      "149/149 [==============================] - 0s 3ms/step - loss: 0.4094 - accuracy: 0.7155 - val_loss: 0.3750 - val_accuracy: 0.7191\n",
      "Epoch 9/20\n",
      "149/149 [==============================] - 0s 3ms/step - loss: 0.3940 - accuracy: 0.7186 - val_loss: 0.3914 - val_accuracy: 0.7258\n",
      "Epoch 10/20\n",
      "149/149 [==============================] - 0s 3ms/step - loss: 0.3918 - accuracy: 0.7147 - val_loss: 0.3709 - val_accuracy: 0.7177\n",
      "Epoch 11/20\n",
      "149/149 [==============================] - 0s 3ms/step - loss: 0.3840 - accuracy: 0.7142 - val_loss: 0.3701 - val_accuracy: 0.7171\n",
      "Epoch 12/20\n",
      "149/149 [==============================] - 0s 3ms/step - loss: 0.3789 - accuracy: 0.7170 - val_loss: 0.3693 - val_accuracy: 0.6848\n",
      "Epoch 13/20\n",
      "149/149 [==============================] - 0s 3ms/step - loss: 0.3770 - accuracy: 0.7132 - val_loss: 0.3650 - val_accuracy: 0.6983\n",
      "Epoch 14/20\n",
      "149/149 [==============================] - 0s 3ms/step - loss: 0.3828 - accuracy: 0.7160 - val_loss: 0.3713 - val_accuracy: 0.7433\n",
      "Epoch 15/20\n",
      "149/149 [==============================] - 0s 3ms/step - loss: 0.3709 - accuracy: 0.7117 - val_loss: 0.3567 - val_accuracy: 0.7278\n",
      "Epoch 16/20\n",
      "149/149 [==============================] - 0s 3ms/step - loss: 0.3695 - accuracy: 0.7133 - val_loss: 0.3577 - val_accuracy: 0.7406\n",
      "Epoch 17/20\n",
      "149/149 [==============================] - 0s 3ms/step - loss: 0.3645 - accuracy: 0.7224 - val_loss: 0.3711 - val_accuracy: 0.7164\n",
      "Epoch 18/20\n",
      "149/149 [==============================] - 0s 2ms/step - loss: 0.3649 - accuracy: 0.7179 - val_loss: 0.3537 - val_accuracy: 0.7224\n",
      "Epoch 19/20\n",
      "149/149 [==============================] - 0s 3ms/step - loss: 0.3663 - accuracy: 0.7142 - val_loss: 0.3660 - val_accuracy: 0.6875\n",
      "Epoch 20/20\n",
      "149/149 [==============================] - 0s 3ms/step - loss: 0.3589 - accuracy: 0.7170 - val_loss: 0.3551 - val_accuracy: 0.7050\n",
      "21/21 [==============================] - 0s 1ms/step\n"
     ]
    },
    {
     "name": "stderr",
     "output_type": "stream",
     "text": [
      "WARNING:absl:Found untraced functions such as _update_step_xla while saving (showing 1 of 1). These functions will not be directly callable after loading.\n"
     ]
    },
    {
     "name": "stdout",
     "output_type": "stream",
     "text": [
      "INFO:tensorflow:Assets written to: C:\\Users\\jmbar\\AppData\\Local\\Temp\\tmpa0z5pa2q\\assets\n"
     ]
    },
    {
     "name": "stderr",
     "output_type": "stream",
     "text": [
      "INFO:tensorflow:Assets written to: C:\\Users\\jmbar\\AppData\\Local\\Temp\\tmpa0z5pa2q\\assets\n"
     ]
    },
    {
     "name": "stdout",
     "output_type": "stream",
     "text": [
      "Epoch 1/20\n",
      "149/149 [==============================] - 1s 4ms/step - loss: 0.6412 - accuracy: 0.8258 - val_loss: 0.4676 - val_accuracy: 0.7527\n",
      "Epoch 2/20\n",
      "149/149 [==============================] - 0s 3ms/step - loss: 0.4783 - accuracy: 0.7181 - val_loss: 0.4306 - val_accuracy: 0.7224\n",
      "Epoch 3/20\n",
      "149/149 [==============================] - 0s 3ms/step - loss: 0.4624 - accuracy: 0.7182 - val_loss: 0.4065 - val_accuracy: 0.7231\n",
      "Epoch 4/20\n",
      "149/149 [==============================] - 0s 2ms/step - loss: 0.4218 - accuracy: 0.7182 - val_loss: 0.4107 - val_accuracy: 0.7298\n",
      "Epoch 5/20\n",
      "149/149 [==============================] - 1s 3ms/step - loss: 0.4057 - accuracy: 0.7207 - val_loss: 0.4258 - val_accuracy: 0.7077\n",
      "Epoch 6/20\n",
      "149/149 [==============================] - 0s 3ms/step - loss: 0.4019 - accuracy: 0.7216 - val_loss: 0.3753 - val_accuracy: 0.7386\n",
      "Epoch 7/20\n",
      "149/149 [==============================] - 1s 3ms/step - loss: 0.3996 - accuracy: 0.7238 - val_loss: 0.3761 - val_accuracy: 0.7480\n",
      "Epoch 8/20\n",
      "149/149 [==============================] - 0s 3ms/step - loss: 0.3870 - accuracy: 0.7231 - val_loss: 0.3791 - val_accuracy: 0.7272\n",
      "Epoch 9/20\n",
      "149/149 [==============================] - 0s 3ms/step - loss: 0.3887 - accuracy: 0.7248 - val_loss: 0.3770 - val_accuracy: 0.7339\n",
      "Epoch 10/20\n",
      "149/149 [==============================] - 1s 4ms/step - loss: 0.3862 - accuracy: 0.7224 - val_loss: 0.4106 - val_accuracy: 0.7164\n",
      "Epoch 11/20\n",
      "149/149 [==============================] - 0s 3ms/step - loss: 0.3824 - accuracy: 0.7231 - val_loss: 0.3950 - val_accuracy: 0.7050\n",
      "Epoch 12/20\n",
      "149/149 [==============================] - 0s 3ms/step - loss: 0.3801 - accuracy: 0.7228 - val_loss: 0.3746 - val_accuracy: 0.7413\n",
      "Epoch 13/20\n",
      "149/149 [==============================] - 1s 4ms/step - loss: 0.3866 - accuracy: 0.7255 - val_loss: 0.3642 - val_accuracy: 0.7339\n",
      "Epoch 14/20\n",
      "149/149 [==============================] - 1s 5ms/step - loss: 0.3755 - accuracy: 0.7216 - val_loss: 0.3589 - val_accuracy: 0.7191\n",
      "Epoch 15/20\n",
      "149/149 [==============================] - 1s 4ms/step - loss: 0.3716 - accuracy: 0.7239 - val_loss: 0.3653 - val_accuracy: 0.7453\n",
      "Epoch 16/20\n",
      "149/149 [==============================] - 1s 3ms/step - loss: 0.3711 - accuracy: 0.7202 - val_loss: 0.3715 - val_accuracy: 0.7493\n",
      "Epoch 17/20\n",
      "149/149 [==============================] - 0s 3ms/step - loss: 0.3704 - accuracy: 0.7266 - val_loss: 0.3755 - val_accuracy: 0.7359\n",
      "Epoch 18/20\n",
      "149/149 [==============================] - 0s 3ms/step - loss: 0.3710 - accuracy: 0.7186 - val_loss: 0.3649 - val_accuracy: 0.7352\n",
      "Epoch 19/20\n",
      "149/149 [==============================] - 0s 3ms/step - loss: 0.3765 - accuracy: 0.7192 - val_loss: 0.3781 - val_accuracy: 0.7231\n",
      "Epoch 20/20\n",
      "149/149 [==============================] - 0s 3ms/step - loss: 0.3697 - accuracy: 0.7238 - val_loss: 0.3624 - val_accuracy: 0.7319\n",
      "21/21 [==============================] - 0s 3ms/step\n"
     ]
    },
    {
     "name": "stderr",
     "output_type": "stream",
     "text": [
      "WARNING:absl:Found untraced functions such as _update_step_xla while saving (showing 1 of 1). These functions will not be directly callable after loading.\n"
     ]
    },
    {
     "name": "stdout",
     "output_type": "stream",
     "text": [
      "INFO:tensorflow:Assets written to: C:\\Users\\jmbar\\AppData\\Local\\Temp\\tmpt6g74tze\\assets\n"
     ]
    },
    {
     "name": "stderr",
     "output_type": "stream",
     "text": [
      "INFO:tensorflow:Assets written to: C:\\Users\\jmbar\\AppData\\Local\\Temp\\tmpt6g74tze\\assets\n"
     ]
    },
    {
     "name": "stdout",
     "output_type": "stream",
     "text": [
      "Epoch 1/20\n",
      "135/149 [==========================>...] - ETA: 0s - loss: 0.6708 - accuracy: 0.8704WARNING:tensorflow:Detecting that an object or model or tf.train.Checkpoint is being deleted with unrestored values. See the following logs for the specific values in question. To silence these warnings, use `status.expect_partial()`. See https://www.tensorflow.org/api_docs/python/tf/train/Checkpoint#restorefor details about the status object returned by the restore function.\n"
     ]
    },
    {
     "name": "stderr",
     "output_type": "stream",
     "text": [
      "WARNING:tensorflow:Detecting that an object or model or tf.train.Checkpoint is being deleted with unrestored values. See the following logs for the specific values in question. To silence these warnings, use `status.expect_partial()`. See https://www.tensorflow.org/api_docs/python/tf/train/Checkpoint#restorefor details about the status object returned by the restore function.\n"
     ]
    },
    {
     "name": "stdout",
     "output_type": "stream",
     "text": [
      "WARNING:tensorflow:Value in checkpoint could not be found in the restored object: (root).keras_api.metrics.0.total\n"
     ]
    },
    {
     "name": "stderr",
     "output_type": "stream",
     "text": [
      "WARNING:tensorflow:Value in checkpoint could not be found in the restored object: (root).keras_api.metrics.0.total\n"
     ]
    },
    {
     "name": "stdout",
     "output_type": "stream",
     "text": [
      "WARNING:tensorflow:Value in checkpoint could not be found in the restored object: (root).keras_api.metrics.0.count\n"
     ]
    },
    {
     "name": "stderr",
     "output_type": "stream",
     "text": [
      "WARNING:tensorflow:Value in checkpoint could not be found in the restored object: (root).keras_api.metrics.0.count\n"
     ]
    },
    {
     "name": "stdout",
     "output_type": "stream",
     "text": [
      "WARNING:tensorflow:Value in checkpoint could not be found in the restored object: (root).keras_api.metrics.1.total\n"
     ]
    },
    {
     "name": "stderr",
     "output_type": "stream",
     "text": [
      "WARNING:tensorflow:Value in checkpoint could not be found in the restored object: (root).keras_api.metrics.1.total\n"
     ]
    },
    {
     "name": "stdout",
     "output_type": "stream",
     "text": [
      "WARNING:tensorflow:Value in checkpoint could not be found in the restored object: (root).keras_api.metrics.1.count\n"
     ]
    },
    {
     "name": "stderr",
     "output_type": "stream",
     "text": [
      "WARNING:tensorflow:Value in checkpoint could not be found in the restored object: (root).keras_api.metrics.1.count\n"
     ]
    },
    {
     "name": "stdout",
     "output_type": "stream",
     "text": [
      "WARNING:tensorflow:Detecting that an object or model or tf.train.Checkpoint is being deleted with unrestored values. See the following logs for the specific values in question. To silence these warnings, use `status.expect_partial()`. See https://www.tensorflow.org/api_docs/python/tf/train/Checkpoint#restorefor details about the status object returned by the restore function.\n"
     ]
    },
    {
     "name": "stderr",
     "output_type": "stream",
     "text": [
      "WARNING:tensorflow:Detecting that an object or model or tf.train.Checkpoint is being deleted with unrestored values. See the following logs for the specific values in question. To silence these warnings, use `status.expect_partial()`. See https://www.tensorflow.org/api_docs/python/tf/train/Checkpoint#restorefor details about the status object returned by the restore function.\n"
     ]
    },
    {
     "name": "stdout",
     "output_type": "stream",
     "text": [
      "WARNING:tensorflow:Value in checkpoint could not be found in the restored object: (root).keras_api.metrics.0.total\n"
     ]
    },
    {
     "name": "stderr",
     "output_type": "stream",
     "text": [
      "WARNING:tensorflow:Value in checkpoint could not be found in the restored object: (root).keras_api.metrics.0.total\n"
     ]
    },
    {
     "name": "stdout",
     "output_type": "stream",
     "text": [
      "WARNING:tensorflow:Value in checkpoint could not be found in the restored object: (root).keras_api.metrics.0.count\n"
     ]
    },
    {
     "name": "stderr",
     "output_type": "stream",
     "text": [
      "WARNING:tensorflow:Value in checkpoint could not be found in the restored object: (root).keras_api.metrics.0.count\n"
     ]
    },
    {
     "name": "stdout",
     "output_type": "stream",
     "text": [
      "WARNING:tensorflow:Value in checkpoint could not be found in the restored object: (root).keras_api.metrics.1.total\n"
     ]
    },
    {
     "name": "stderr",
     "output_type": "stream",
     "text": [
      "WARNING:tensorflow:Value in checkpoint could not be found in the restored object: (root).keras_api.metrics.1.total\n"
     ]
    },
    {
     "name": "stdout",
     "output_type": "stream",
     "text": [
      "WARNING:tensorflow:Value in checkpoint could not be found in the restored object: (root).keras_api.metrics.1.count\n"
     ]
    },
    {
     "name": "stderr",
     "output_type": "stream",
     "text": [
      "WARNING:tensorflow:Value in checkpoint could not be found in the restored object: (root).keras_api.metrics.1.count\n"
     ]
    },
    {
     "name": "stdout",
     "output_type": "stream",
     "text": [
      "WARNING:tensorflow:Detecting that an object or model or tf.train.Checkpoint is being deleted with unrestored values. See the following logs for the specific values in question. To silence these warnings, use `status.expect_partial()`. See https://www.tensorflow.org/api_docs/python/tf/train/Checkpoint#restorefor details about the status object returned by the restore function.\n"
     ]
    },
    {
     "name": "stderr",
     "output_type": "stream",
     "text": [
      "WARNING:tensorflow:Detecting that an object or model or tf.train.Checkpoint is being deleted with unrestored values. See the following logs for the specific values in question. To silence these warnings, use `status.expect_partial()`. See https://www.tensorflow.org/api_docs/python/tf/train/Checkpoint#restorefor details about the status object returned by the restore function.\n"
     ]
    },
    {
     "name": "stdout",
     "output_type": "stream",
     "text": [
      "WARNING:tensorflow:Value in checkpoint could not be found in the restored object: (root).keras_api.metrics.0.total\n"
     ]
    },
    {
     "name": "stderr",
     "output_type": "stream",
     "text": [
      "WARNING:tensorflow:Value in checkpoint could not be found in the restored object: (root).keras_api.metrics.0.total\n"
     ]
    },
    {
     "name": "stdout",
     "output_type": "stream",
     "text": [
      "WARNING:tensorflow:Value in checkpoint could not be found in the restored object: (root).keras_api.metrics.0.count\n"
     ]
    },
    {
     "name": "stderr",
     "output_type": "stream",
     "text": [
      "WARNING:tensorflow:Value in checkpoint could not be found in the restored object: (root).keras_api.metrics.0.count\n"
     ]
    },
    {
     "name": "stdout",
     "output_type": "stream",
     "text": [
      "WARNING:tensorflow:Value in checkpoint could not be found in the restored object: (root).keras_api.metrics.1.total\n"
     ]
    },
    {
     "name": "stderr",
     "output_type": "stream",
     "text": [
      "WARNING:tensorflow:Value in checkpoint could not be found in the restored object: (root).keras_api.metrics.1.total\n"
     ]
    },
    {
     "name": "stdout",
     "output_type": "stream",
     "text": [
      "WARNING:tensorflow:Value in checkpoint could not be found in the restored object: (root).keras_api.metrics.1.count\n"
     ]
    },
    {
     "name": "stderr",
     "output_type": "stream",
     "text": [
      "WARNING:tensorflow:Value in checkpoint could not be found in the restored object: (root).keras_api.metrics.1.count\n"
     ]
    },
    {
     "name": "stdout",
     "output_type": "stream",
     "text": [
      "WARNING:tensorflow:Detecting that an object or model or tf.train.Checkpoint is being deleted with unrestored values. See the following logs for the specific values in question. To silence these warnings, use `status.expect_partial()`. See https://www.tensorflow.org/api_docs/python/tf/train/Checkpoint#restorefor details about the status object returned by the restore function.\n"
     ]
    },
    {
     "name": "stderr",
     "output_type": "stream",
     "text": [
      "WARNING:tensorflow:Detecting that an object or model or tf.train.Checkpoint is being deleted with unrestored values. See the following logs for the specific values in question. To silence these warnings, use `status.expect_partial()`. See https://www.tensorflow.org/api_docs/python/tf/train/Checkpoint#restorefor details about the status object returned by the restore function.\n"
     ]
    },
    {
     "name": "stdout",
     "output_type": "stream",
     "text": [
      "WARNING:tensorflow:Value in checkpoint could not be found in the restored object: (root).keras_api.metrics.0.total\n"
     ]
    },
    {
     "name": "stderr",
     "output_type": "stream",
     "text": [
      "WARNING:tensorflow:Value in checkpoint could not be found in the restored object: (root).keras_api.metrics.0.total\n"
     ]
    },
    {
     "name": "stdout",
     "output_type": "stream",
     "text": [
      "WARNING:tensorflow:Value in checkpoint could not be found in the restored object: (root).keras_api.metrics.0.count\n"
     ]
    },
    {
     "name": "stderr",
     "output_type": "stream",
     "text": [
      "WARNING:tensorflow:Value in checkpoint could not be found in the restored object: (root).keras_api.metrics.0.count\n"
     ]
    },
    {
     "name": "stdout",
     "output_type": "stream",
     "text": [
      "WARNING:tensorflow:Value in checkpoint could not be found in the restored object: (root).keras_api.metrics.1.total\n"
     ]
    },
    {
     "name": "stderr",
     "output_type": "stream",
     "text": [
      "WARNING:tensorflow:Value in checkpoint could not be found in the restored object: (root).keras_api.metrics.1.total\n"
     ]
    },
    {
     "name": "stdout",
     "output_type": "stream",
     "text": [
      "WARNING:tensorflow:Value in checkpoint could not be found in the restored object: (root).keras_api.metrics.1.count\n"
     ]
    },
    {
     "name": "stderr",
     "output_type": "stream",
     "text": [
      "WARNING:tensorflow:Value in checkpoint could not be found in the restored object: (root).keras_api.metrics.1.count\n"
     ]
    },
    {
     "name": "stdout",
     "output_type": "stream",
     "text": [
      "WARNING:tensorflow:Detecting that an object or model or tf.train.Checkpoint is being deleted with unrestored values. See the following logs for the specific values in question. To silence these warnings, use `status.expect_partial()`. See https://www.tensorflow.org/api_docs/python/tf/train/Checkpoint#restorefor details about the status object returned by the restore function.\n"
     ]
    },
    {
     "name": "stderr",
     "output_type": "stream",
     "text": [
      "WARNING:tensorflow:Detecting that an object or model or tf.train.Checkpoint is being deleted with unrestored values. See the following logs for the specific values in question. To silence these warnings, use `status.expect_partial()`. See https://www.tensorflow.org/api_docs/python/tf/train/Checkpoint#restorefor details about the status object returned by the restore function.\n"
     ]
    },
    {
     "name": "stdout",
     "output_type": "stream",
     "text": [
      "WARNING:tensorflow:Value in checkpoint could not be found in the restored object: (root).keras_api.metrics.0.total\n"
     ]
    },
    {
     "name": "stderr",
     "output_type": "stream",
     "text": [
      "WARNING:tensorflow:Value in checkpoint could not be found in the restored object: (root).keras_api.metrics.0.total\n"
     ]
    },
    {
     "name": "stdout",
     "output_type": "stream",
     "text": [
      "WARNING:tensorflow:Value in checkpoint could not be found in the restored object: (root).keras_api.metrics.0.count\n"
     ]
    },
    {
     "name": "stderr",
     "output_type": "stream",
     "text": [
      "WARNING:tensorflow:Value in checkpoint could not be found in the restored object: (root).keras_api.metrics.0.count\n"
     ]
    },
    {
     "name": "stdout",
     "output_type": "stream",
     "text": [
      "WARNING:tensorflow:Value in checkpoint could not be found in the restored object: (root).keras_api.metrics.1.total\n"
     ]
    },
    {
     "name": "stderr",
     "output_type": "stream",
     "text": [
      "WARNING:tensorflow:Value in checkpoint could not be found in the restored object: (root).keras_api.metrics.1.total\n"
     ]
    },
    {
     "name": "stdout",
     "output_type": "stream",
     "text": [
      "WARNING:tensorflow:Value in checkpoint could not be found in the restored object: (root).keras_api.metrics.1.count\n"
     ]
    },
    {
     "name": "stderr",
     "output_type": "stream",
     "text": [
      "WARNING:tensorflow:Value in checkpoint could not be found in the restored object: (root).keras_api.metrics.1.count\n"
     ]
    },
    {
     "name": "stdout",
     "output_type": "stream",
     "text": [
      "149/149 [==============================] - 2s 7ms/step - loss: 0.6597 - accuracy: 0.8549 - val_loss: 0.4802 - val_accuracy: 0.7292\n",
      "Epoch 2/20\n",
      "149/149 [==============================] - 0s 3ms/step - loss: 0.4730 - accuracy: 0.7170 - val_loss: 0.4369 - val_accuracy: 0.7191\n",
      "Epoch 3/20\n",
      "149/149 [==============================] - 0s 3ms/step - loss: 0.4338 - accuracy: 0.7191 - val_loss: 0.4139 - val_accuracy: 0.7218\n",
      "Epoch 4/20\n",
      "149/149 [==============================] - 0s 3ms/step - loss: 0.4209 - accuracy: 0.7189 - val_loss: 0.3986 - val_accuracy: 0.7117\n",
      "Epoch 5/20\n",
      "149/149 [==============================] - 0s 3ms/step - loss: 0.4084 - accuracy: 0.7165 - val_loss: 0.4173 - val_accuracy: 0.7366\n",
      "Epoch 6/20\n",
      "149/149 [==============================] - 0s 3ms/step - loss: 0.3977 - accuracy: 0.7204 - val_loss: 0.3981 - val_accuracy: 0.7305\n",
      "Epoch 7/20\n",
      "149/149 [==============================] - 0s 3ms/step - loss: 0.4009 - accuracy: 0.7194 - val_loss: 0.3918 - val_accuracy: 0.7171\n",
      "Epoch 8/20\n",
      "149/149 [==============================] - 1s 3ms/step - loss: 0.3944 - accuracy: 0.7149 - val_loss: 0.3925 - val_accuracy: 0.7191\n",
      "Epoch 9/20\n",
      "149/149 [==============================] - 1s 4ms/step - loss: 0.3945 - accuracy: 0.7160 - val_loss: 0.3953 - val_accuracy: 0.7050\n",
      "Epoch 10/20\n",
      "149/149 [==============================] - 0s 2ms/step - loss: 0.3903 - accuracy: 0.7167 - val_loss: 0.3864 - val_accuracy: 0.7177\n",
      "Epoch 11/20\n",
      "149/149 [==============================] - 0s 3ms/step - loss: 0.3933 - accuracy: 0.7181 - val_loss: 0.3939 - val_accuracy: 0.7164\n",
      "Epoch 12/20\n",
      "149/149 [==============================] - 0s 3ms/step - loss: 0.3946 - accuracy: 0.7179 - val_loss: 0.3996 - val_accuracy: 0.7272\n",
      "Epoch 13/20\n",
      "149/149 [==============================] - 0s 2ms/step - loss: 0.3900 - accuracy: 0.7184 - val_loss: 0.3875 - val_accuracy: 0.7198\n",
      "Epoch 14/20\n",
      "149/149 [==============================] - 0s 2ms/step - loss: 0.3873 - accuracy: 0.7202 - val_loss: 0.4365 - val_accuracy: 0.6794\n",
      "Epoch 15/20\n",
      "149/149 [==============================] - 0s 3ms/step - loss: 0.3834 - accuracy: 0.7162 - val_loss: 0.3899 - val_accuracy: 0.7198\n",
      "Epoch 16/20\n",
      "149/149 [==============================] - 0s 2ms/step - loss: 0.3827 - accuracy: 0.7181 - val_loss: 0.3797 - val_accuracy: 0.7171\n",
      "Epoch 17/20\n",
      "149/149 [==============================] - 0s 2ms/step - loss: 0.3830 - accuracy: 0.7164 - val_loss: 0.3858 - val_accuracy: 0.7090\n",
      "Epoch 18/20\n",
      "149/149 [==============================] - 0s 2ms/step - loss: 0.3861 - accuracy: 0.7149 - val_loss: 0.3882 - val_accuracy: 0.7043\n",
      "Epoch 19/20\n",
      "149/149 [==============================] - 0s 3ms/step - loss: 0.3785 - accuracy: 0.7159 - val_loss: 0.3811 - val_accuracy: 0.6929\n",
      "Epoch 20/20\n",
      "149/149 [==============================] - 0s 2ms/step - loss: 0.3781 - accuracy: 0.7133 - val_loss: 0.3841 - val_accuracy: 0.7063\n",
      "21/21 [==============================] - 0s 1ms/step\n"
     ]
    },
    {
     "name": "stderr",
     "output_type": "stream",
     "text": [
      "WARNING:absl:Found untraced functions such as _update_step_xla while saving (showing 1 of 1). These functions will not be directly callable after loading.\n"
     ]
    },
    {
     "name": "stdout",
     "output_type": "stream",
     "text": [
      "INFO:tensorflow:Assets written to: C:\\Users\\jmbar\\AppData\\Local\\Temp\\tmpxqeh76n_\\assets\n"
     ]
    },
    {
     "name": "stderr",
     "output_type": "stream",
     "text": [
      "INFO:tensorflow:Assets written to: C:\\Users\\jmbar\\AppData\\Local\\Temp\\tmpxqeh76n_\\assets\n"
     ]
    },
    {
     "name": "stdout",
     "output_type": "stream",
     "text": [
      "Epoch 1/20\n",
      "149/149 [==============================] - 1s 4ms/step - loss: 0.6607 - accuracy: 0.8566 - val_loss: 0.5000 - val_accuracy: 0.7001\n",
      "Epoch 2/20\n",
      "149/149 [==============================] - 0s 2ms/step - loss: 0.4832 - accuracy: 0.7228 - val_loss: 0.4500 - val_accuracy: 0.7135\n",
      "Epoch 3/20\n",
      "149/149 [==============================] - 0s 2ms/step - loss: 0.4627 - accuracy: 0.7120 - val_loss: 0.4423 - val_accuracy: 0.7418\n",
      "Epoch 4/20\n",
      "149/149 [==============================] - 0s 3ms/step - loss: 0.4401 - accuracy: 0.7086 - val_loss: 0.4334 - val_accuracy: 0.6994\n",
      "Epoch 5/20\n",
      "149/149 [==============================] - 0s 3ms/step - loss: 0.4205 - accuracy: 0.7147 - val_loss: 0.4378 - val_accuracy: 0.6987\n",
      "Epoch 6/20\n",
      "149/149 [==============================] - 0s 2ms/step - loss: 0.4158 - accuracy: 0.7132 - val_loss: 0.3953 - val_accuracy: 0.7122\n",
      "Epoch 7/20\n",
      "149/149 [==============================] - 0s 3ms/step - loss: 0.4073 - accuracy: 0.7154 - val_loss: 0.3938 - val_accuracy: 0.7344\n",
      "Epoch 8/20\n",
      "149/149 [==============================] - 0s 2ms/step - loss: 0.3993 - accuracy: 0.7145 - val_loss: 0.3929 - val_accuracy: 0.7041\n",
      "Epoch 9/20\n",
      "149/149 [==============================] - 0s 2ms/step - loss: 0.3953 - accuracy: 0.7149 - val_loss: 0.4121 - val_accuracy: 0.7303\n",
      "Epoch 10/20\n",
      "149/149 [==============================] - 0s 2ms/step - loss: 0.3972 - accuracy: 0.7130 - val_loss: 0.3749 - val_accuracy: 0.7182\n",
      "Epoch 11/20\n",
      "149/149 [==============================] - 0s 2ms/step - loss: 0.3903 - accuracy: 0.7177 - val_loss: 0.3745 - val_accuracy: 0.7135\n",
      "Epoch 12/20\n",
      "149/149 [==============================] - 0s 2ms/step - loss: 0.3868 - accuracy: 0.7123 - val_loss: 0.3883 - val_accuracy: 0.6927\n",
      "Epoch 13/20\n",
      "149/149 [==============================] - 0s 2ms/step - loss: 0.3794 - accuracy: 0.7162 - val_loss: 0.3884 - val_accuracy: 0.7256\n",
      "Epoch 14/20\n",
      "149/149 [==============================] - 0s 2ms/step - loss: 0.3750 - accuracy: 0.7164 - val_loss: 0.3729 - val_accuracy: 0.6960\n",
      "Epoch 15/20\n",
      "149/149 [==============================] - 0s 2ms/step - loss: 0.3722 - accuracy: 0.7133 - val_loss: 0.3715 - val_accuracy: 0.7068\n",
      "Epoch 16/20\n",
      "149/149 [==============================] - 0s 2ms/step - loss: 0.3709 - accuracy: 0.7133 - val_loss: 0.3675 - val_accuracy: 0.7135\n",
      "Epoch 17/20\n",
      "149/149 [==============================] - 0s 2ms/step - loss: 0.3670 - accuracy: 0.7142 - val_loss: 0.3662 - val_accuracy: 0.7162\n",
      "Epoch 18/20\n",
      "149/149 [==============================] - 0s 2ms/step - loss: 0.3683 - accuracy: 0.7139 - val_loss: 0.3709 - val_accuracy: 0.7162\n",
      "Epoch 19/20\n",
      "149/149 [==============================] - 0s 2ms/step - loss: 0.3652 - accuracy: 0.7150 - val_loss: 0.3720 - val_accuracy: 0.7236\n",
      "Epoch 20/20\n",
      "149/149 [==============================] - 0s 2ms/step - loss: 0.3696 - accuracy: 0.7147 - val_loss: 0.3808 - val_accuracy: 0.6907\n",
      "21/21 [==============================] - 0s 1ms/step\n"
     ]
    },
    {
     "name": "stderr",
     "output_type": "stream",
     "text": [
      "WARNING:absl:Found untraced functions such as _update_step_xla while saving (showing 1 of 1). These functions will not be directly callable after loading.\n"
     ]
    },
    {
     "name": "stdout",
     "output_type": "stream",
     "text": [
      "INFO:tensorflow:Assets written to: C:\\Users\\jmbar\\AppData\\Local\\Temp\\tmp5gzxzvqh\\assets\n"
     ]
    },
    {
     "name": "stderr",
     "output_type": "stream",
     "text": [
      "INFO:tensorflow:Assets written to: C:\\Users\\jmbar\\AppData\\Local\\Temp\\tmp5gzxzvqh\\assets\n"
     ]
    },
    {
     "name": "stdout",
     "output_type": "stream",
     "text": [
      "Epoch 1/20\n",
      "149/149 [==============================] - 1s 4ms/step - loss: 0.6646 - accuracy: 0.8589 - val_loss: 0.4807 - val_accuracy: 0.7357\n",
      "Epoch 2/20\n",
      "149/149 [==============================] - 0s 2ms/step - loss: 0.4857 - accuracy: 0.7243 - val_loss: 0.4649 - val_accuracy: 0.7034\n",
      "Epoch 3/20\n",
      "149/149 [==============================] - 0s 2ms/step - loss: 0.4672 - accuracy: 0.7144 - val_loss: 0.4234 - val_accuracy: 0.7115\n",
      "Epoch 4/20\n",
      "149/149 [==============================] - 0s 2ms/step - loss: 0.4365 - accuracy: 0.7145 - val_loss: 0.4059 - val_accuracy: 0.7337\n",
      "Epoch 5/20\n",
      "149/149 [==============================] - 0s 3ms/step - loss: 0.4203 - accuracy: 0.7209 - val_loss: 0.3830 - val_accuracy: 0.7176\n",
      "Epoch 6/20\n",
      "149/149 [==============================] - 0s 2ms/step - loss: 0.4156 - accuracy: 0.7184 - val_loss: 0.3756 - val_accuracy: 0.7209\n",
      "Epoch 7/20\n",
      "149/149 [==============================] - 0s 3ms/step - loss: 0.3946 - accuracy: 0.7214 - val_loss: 0.3798 - val_accuracy: 0.7202\n",
      "Epoch 8/20\n",
      "149/149 [==============================] - 0s 2ms/step - loss: 0.3996 - accuracy: 0.7233 - val_loss: 0.3906 - val_accuracy: 0.7075\n",
      "Epoch 9/20\n",
      "149/149 [==============================] - 0s 2ms/step - loss: 0.3829 - accuracy: 0.7202 - val_loss: 0.4058 - val_accuracy: 0.7236\n",
      "Epoch 10/20\n",
      "149/149 [==============================] - 0s 2ms/step - loss: 0.3782 - accuracy: 0.7159 - val_loss: 0.3786 - val_accuracy: 0.7451\n",
      "Epoch 11/20\n",
      "149/149 [==============================] - 0s 2ms/step - loss: 0.3802 - accuracy: 0.7249 - val_loss: 0.3672 - val_accuracy: 0.7243\n",
      "Epoch 12/20\n",
      "149/149 [==============================] - 0s 2ms/step - loss: 0.3699 - accuracy: 0.7162 - val_loss: 0.3603 - val_accuracy: 0.7330\n",
      "Epoch 13/20\n",
      "149/149 [==============================] - 0s 2ms/step - loss: 0.3713 - accuracy: 0.7206 - val_loss: 0.3736 - val_accuracy: 0.6947\n",
      "Epoch 14/20\n",
      "149/149 [==============================] - 0s 2ms/step - loss: 0.3763 - accuracy: 0.7162 - val_loss: 0.3677 - val_accuracy: 0.7155\n",
      "Epoch 15/20\n",
      "149/149 [==============================] - 0s 2ms/step - loss: 0.3664 - accuracy: 0.7201 - val_loss: 0.3643 - val_accuracy: 0.7229\n",
      "Epoch 16/20\n",
      "149/149 [==============================] - 0s 2ms/step - loss: 0.3618 - accuracy: 0.7191 - val_loss: 0.3480 - val_accuracy: 0.7344\n",
      "Epoch 17/20\n",
      "149/149 [==============================] - 0s 2ms/step - loss: 0.3688 - accuracy: 0.7165 - val_loss: 0.3565 - val_accuracy: 0.7303\n",
      "Epoch 18/20\n",
      "149/149 [==============================] - 0s 2ms/step - loss: 0.3570 - accuracy: 0.7160 - val_loss: 0.3531 - val_accuracy: 0.7229\n",
      "Epoch 19/20\n",
      "149/149 [==============================] - 0s 2ms/step - loss: 0.3643 - accuracy: 0.7202 - val_loss: 0.3919 - val_accuracy: 0.7088\n",
      "Epoch 20/20\n",
      "149/149 [==============================] - 0s 2ms/step - loss: 0.3593 - accuracy: 0.7192 - val_loss: 0.3552 - val_accuracy: 0.7377\n",
      "21/21 [==============================] - 0s 1ms/step\n"
     ]
    },
    {
     "name": "stderr",
     "output_type": "stream",
     "text": [
      "WARNING:absl:Found untraced functions such as _update_step_xla while saving (showing 1 of 1). These functions will not be directly callable after loading.\n"
     ]
    },
    {
     "name": "stdout",
     "output_type": "stream",
     "text": [
      "INFO:tensorflow:Assets written to: C:\\Users\\jmbar\\AppData\\Local\\Temp\\tmpgzmubhjl\\assets\n"
     ]
    },
    {
     "name": "stderr",
     "output_type": "stream",
     "text": [
      "INFO:tensorflow:Assets written to: C:\\Users\\jmbar\\AppData\\Local\\Temp\\tmpgzmubhjl\\assets\n"
     ]
    },
    {
     "name": "stdout",
     "output_type": "stream",
     "text": [
      "Epoch 1/20\n",
      "149/149 [==============================] - 1s 4ms/step - loss: 0.6733 - accuracy: 0.8695 - val_loss: 0.4591 - val_accuracy: 0.7352\n",
      "Epoch 2/20\n",
      "149/149 [==============================] - 0s 2ms/step - loss: 0.4567 - accuracy: 0.7170 - val_loss: 0.5105 - val_accuracy: 0.6788\n",
      "Epoch 3/20\n",
      "149/149 [==============================] - 0s 2ms/step - loss: 0.4281 - accuracy: 0.7199 - val_loss: 0.4278 - val_accuracy: 0.6969\n",
      "Epoch 4/20\n",
      "149/149 [==============================] - 0s 2ms/step - loss: 0.4092 - accuracy: 0.7204 - val_loss: 0.3932 - val_accuracy: 0.7272\n",
      "Epoch 5/20\n",
      "149/149 [==============================] - 0s 3ms/step - loss: 0.3926 - accuracy: 0.7249 - val_loss: 0.3832 - val_accuracy: 0.7392\n",
      "Epoch 6/20\n",
      "149/149 [==============================] - 0s 3ms/step - loss: 0.3875 - accuracy: 0.7251 - val_loss: 0.3770 - val_accuracy: 0.7298\n",
      "Epoch 7/20\n",
      "149/149 [==============================] - 0s 3ms/step - loss: 0.3911 - accuracy: 0.7229 - val_loss: 0.3771 - val_accuracy: 0.7171\n",
      "Epoch 8/20\n",
      "149/149 [==============================] - 0s 2ms/step - loss: 0.3911 - accuracy: 0.7214 - val_loss: 0.3831 - val_accuracy: 0.7184\n",
      "Epoch 9/20\n",
      "149/149 [==============================] - 0s 3ms/step - loss: 0.3772 - accuracy: 0.7241 - val_loss: 0.3717 - val_accuracy: 0.7339\n",
      "Epoch 10/20\n",
      "149/149 [==============================] - 0s 3ms/step - loss: 0.3848 - accuracy: 0.7255 - val_loss: 0.3972 - val_accuracy: 0.7124\n",
      "Epoch 11/20\n",
      "149/149 [==============================] - 0s 3ms/step - loss: 0.3731 - accuracy: 0.7256 - val_loss: 0.3802 - val_accuracy: 0.7177\n",
      "Epoch 12/20\n",
      "149/149 [==============================] - 0s 2ms/step - loss: 0.3801 - accuracy: 0.7244 - val_loss: 0.3943 - val_accuracy: 0.7312\n",
      "Epoch 13/20\n",
      "149/149 [==============================] - 0s 2ms/step - loss: 0.3791 - accuracy: 0.7229 - val_loss: 0.3758 - val_accuracy: 0.7507\n",
      "Epoch 14/20\n",
      "149/149 [==============================] - 0s 2ms/step - loss: 0.3668 - accuracy: 0.7249 - val_loss: 0.3671 - val_accuracy: 0.7292\n",
      "Epoch 15/20\n",
      "149/149 [==============================] - 0s 2ms/step - loss: 0.3617 - accuracy: 0.7231 - val_loss: 0.3673 - val_accuracy: 0.7191\n",
      "Epoch 16/20\n",
      "149/149 [==============================] - 0s 2ms/step - loss: 0.3656 - accuracy: 0.7241 - val_loss: 0.3650 - val_accuracy: 0.7198\n",
      "Epoch 17/20\n",
      "149/149 [==============================] - 0s 2ms/step - loss: 0.3580 - accuracy: 0.7239 - val_loss: 0.3678 - val_accuracy: 0.7379\n",
      "Epoch 18/20\n",
      "149/149 [==============================] - 0s 2ms/step - loss: 0.3701 - accuracy: 0.7228 - val_loss: 0.3653 - val_accuracy: 0.7211\n",
      "Epoch 19/20\n",
      "149/149 [==============================] - 0s 2ms/step - loss: 0.3617 - accuracy: 0.7241 - val_loss: 0.3632 - val_accuracy: 0.7144\n",
      "Epoch 20/20\n",
      "149/149 [==============================] - 0s 2ms/step - loss: 0.3579 - accuracy: 0.7234 - val_loss: 0.3674 - val_accuracy: 0.7426\n",
      "21/21 [==============================] - 0s 1ms/step\n"
     ]
    },
    {
     "name": "stderr",
     "output_type": "stream",
     "text": [
      "WARNING:absl:Found untraced functions such as _update_step_xla while saving (showing 1 of 1). These functions will not be directly callable after loading.\n"
     ]
    },
    {
     "name": "stdout",
     "output_type": "stream",
     "text": [
      "INFO:tensorflow:Assets written to: C:\\Users\\jmbar\\AppData\\Local\\Temp\\tmplbat2xj_\\assets\n"
     ]
    },
    {
     "name": "stderr",
     "output_type": "stream",
     "text": [
      "INFO:tensorflow:Assets written to: C:\\Users\\jmbar\\AppData\\Local\\Temp\\tmplbat2xj_\\assets\n"
     ]
    },
    {
     "name": "stdout",
     "output_type": "stream",
     "text": [
      "Epoch 1/20\n",
      "149/149 [==============================] - 1s 4ms/step - loss: 0.6538 - accuracy: 0.8478 - val_loss: 0.4928 - val_accuracy: 0.7251\n",
      "Epoch 2/20\n",
      "149/149 [==============================] - 0s 2ms/step - loss: 0.4849 - accuracy: 0.7243 - val_loss: 0.4552 - val_accuracy: 0.7171\n",
      "Epoch 3/20\n",
      "149/149 [==============================] - 0s 2ms/step - loss: 0.4702 - accuracy: 0.7170 - val_loss: 0.4521 - val_accuracy: 0.6935\n",
      "Epoch 4/20\n",
      "149/149 [==============================] - 0s 2ms/step - loss: 0.4357 - accuracy: 0.7130 - val_loss: 0.4184 - val_accuracy: 0.7164\n",
      "Epoch 5/20\n",
      "149/149 [==============================] - 0s 2ms/step - loss: 0.4178 - accuracy: 0.7192 - val_loss: 0.4181 - val_accuracy: 0.7218\n",
      "Epoch 6/20\n",
      "149/149 [==============================] - 0s 2ms/step - loss: 0.4171 - accuracy: 0.7209 - val_loss: 0.4038 - val_accuracy: 0.7124\n",
      "Epoch 7/20\n",
      "149/149 [==============================] - 0s 3ms/step - loss: 0.4031 - accuracy: 0.7181 - val_loss: 0.3964 - val_accuracy: 0.7218\n",
      "Epoch 8/20\n",
      "149/149 [==============================] - 0s 2ms/step - loss: 0.3974 - accuracy: 0.7170 - val_loss: 0.4095 - val_accuracy: 0.7164\n",
      "Epoch 9/20\n",
      "149/149 [==============================] - 0s 2ms/step - loss: 0.3940 - accuracy: 0.7162 - val_loss: 0.4001 - val_accuracy: 0.7036\n",
      "Epoch 10/20\n",
      "149/149 [==============================] - 0s 2ms/step - loss: 0.3924 - accuracy: 0.7132 - val_loss: 0.3949 - val_accuracy: 0.7231\n",
      "Epoch 11/20\n",
      "149/149 [==============================] - 0s 2ms/step - loss: 0.3849 - accuracy: 0.7157 - val_loss: 0.4105 - val_accuracy: 0.6808\n",
      "Epoch 12/20\n",
      "149/149 [==============================] - 0s 2ms/step - loss: 0.3929 - accuracy: 0.7097 - val_loss: 0.4024 - val_accuracy: 0.7224\n",
      "Epoch 13/20\n",
      "149/149 [==============================] - 0s 2ms/step - loss: 0.3805 - accuracy: 0.7075 - val_loss: 0.4226 - val_accuracy: 0.7440\n",
      "Epoch 14/20\n",
      "149/149 [==============================] - 0s 2ms/step - loss: 0.3878 - accuracy: 0.7120 - val_loss: 0.3948 - val_accuracy: 0.7332\n",
      "Epoch 15/20\n",
      "149/149 [==============================] - 0s 2ms/step - loss: 0.3831 - accuracy: 0.7123 - val_loss: 0.4156 - val_accuracy: 0.7419\n",
      "Epoch 16/20\n",
      "149/149 [==============================] - 0s 3ms/step - loss: 0.3856 - accuracy: 0.7132 - val_loss: 0.4020 - val_accuracy: 0.6794\n",
      "Epoch 17/20\n",
      "149/149 [==============================] - 0s 2ms/step - loss: 0.3839 - accuracy: 0.7123 - val_loss: 0.3895 - val_accuracy: 0.7184\n",
      "Epoch 18/20\n",
      "149/149 [==============================] - 0s 2ms/step - loss: 0.3880 - accuracy: 0.7127 - val_loss: 0.3993 - val_accuracy: 0.7319\n",
      "Epoch 19/20\n",
      "149/149 [==============================] - 0s 2ms/step - loss: 0.3812 - accuracy: 0.7144 - val_loss: 0.3895 - val_accuracy: 0.6976\n",
      "Epoch 20/20\n",
      "149/149 [==============================] - 0s 3ms/step - loss: 0.3820 - accuracy: 0.7110 - val_loss: 0.3973 - val_accuracy: 0.7110\n",
      "21/21 [==============================] - 0s 1ms/step\n"
     ]
    },
    {
     "name": "stderr",
     "output_type": "stream",
     "text": [
      "WARNING:absl:Found untraced functions such as _update_step_xla while saving (showing 1 of 1). These functions will not be directly callable after loading.\n"
     ]
    },
    {
     "name": "stdout",
     "output_type": "stream",
     "text": [
      "INFO:tensorflow:Assets written to: C:\\Users\\jmbar\\AppData\\Local\\Temp\\tmp2e2o8kgf\\assets\n"
     ]
    },
    {
     "name": "stderr",
     "output_type": "stream",
     "text": [
      "INFO:tensorflow:Assets written to: C:\\Users\\jmbar\\AppData\\Local\\Temp\\tmp2e2o8kgf\\assets\n"
     ]
    },
    {
     "name": "stdout",
     "output_type": "stream",
     "text": [
      "WARNING:tensorflow:Detecting that an object or model or tf.train.Checkpoint is being deleted with unrestored values. See the following logs for the specific values in question. To silence these warnings, use `status.expect_partial()`. See https://www.tensorflow.org/api_docs/python/tf/train/Checkpoint#restorefor details about the status object returned by the restore function.\n"
     ]
    },
    {
     "name": "stderr",
     "output_type": "stream",
     "text": [
      "WARNING:tensorflow:Detecting that an object or model or tf.train.Checkpoint is being deleted with unrestored values. See the following logs for the specific values in question. To silence these warnings, use `status.expect_partial()`. See https://www.tensorflow.org/api_docs/python/tf/train/Checkpoint#restorefor details about the status object returned by the restore function.\n"
     ]
    },
    {
     "name": "stdout",
     "output_type": "stream",
     "text": [
      "WARNING:tensorflow:Value in checkpoint could not be found in the restored object: (root).keras_api.metrics.0.total\n"
     ]
    },
    {
     "name": "stderr",
     "output_type": "stream",
     "text": [
      "WARNING:tensorflow:Value in checkpoint could not be found in the restored object: (root).keras_api.metrics.0.total\n"
     ]
    },
    {
     "name": "stdout",
     "output_type": "stream",
     "text": [
      "WARNING:tensorflow:Value in checkpoint could not be found in the restored object: (root).keras_api.metrics.0.count\n"
     ]
    },
    {
     "name": "stderr",
     "output_type": "stream",
     "text": [
      "WARNING:tensorflow:Value in checkpoint could not be found in the restored object: (root).keras_api.metrics.0.count\n"
     ]
    },
    {
     "name": "stdout",
     "output_type": "stream",
     "text": [
      "WARNING:tensorflow:Value in checkpoint could not be found in the restored object: (root).keras_api.metrics.1.total\n"
     ]
    },
    {
     "name": "stderr",
     "output_type": "stream",
     "text": [
      "WARNING:tensorflow:Value in checkpoint could not be found in the restored object: (root).keras_api.metrics.1.total\n"
     ]
    },
    {
     "name": "stdout",
     "output_type": "stream",
     "text": [
      "WARNING:tensorflow:Value in checkpoint could not be found in the restored object: (root).keras_api.metrics.1.count\n"
     ]
    },
    {
     "name": "stderr",
     "output_type": "stream",
     "text": [
      "WARNING:tensorflow:Value in checkpoint could not be found in the restored object: (root).keras_api.metrics.1.count\n"
     ]
    },
    {
     "name": "stdout",
     "output_type": "stream",
     "text": [
      "WARNING:tensorflow:Detecting that an object or model or tf.train.Checkpoint is being deleted with unrestored values. See the following logs for the specific values in question. To silence these warnings, use `status.expect_partial()`. See https://www.tensorflow.org/api_docs/python/tf/train/Checkpoint#restorefor details about the status object returned by the restore function.\n"
     ]
    },
    {
     "name": "stderr",
     "output_type": "stream",
     "text": [
      "WARNING:tensorflow:Detecting that an object or model or tf.train.Checkpoint is being deleted with unrestored values. See the following logs for the specific values in question. To silence these warnings, use `status.expect_partial()`. See https://www.tensorflow.org/api_docs/python/tf/train/Checkpoint#restorefor details about the status object returned by the restore function.\n"
     ]
    },
    {
     "name": "stdout",
     "output_type": "stream",
     "text": [
      "WARNING:tensorflow:Value in checkpoint could not be found in the restored object: (root).keras_api.metrics.0.total\n"
     ]
    },
    {
     "name": "stderr",
     "output_type": "stream",
     "text": [
      "WARNING:tensorflow:Value in checkpoint could not be found in the restored object: (root).keras_api.metrics.0.total\n"
     ]
    },
    {
     "name": "stdout",
     "output_type": "stream",
     "text": [
      "WARNING:tensorflow:Value in checkpoint could not be found in the restored object: (root).keras_api.metrics.0.count\n"
     ]
    },
    {
     "name": "stderr",
     "output_type": "stream",
     "text": [
      "WARNING:tensorflow:Value in checkpoint could not be found in the restored object: (root).keras_api.metrics.0.count\n"
     ]
    },
    {
     "name": "stdout",
     "output_type": "stream",
     "text": [
      "WARNING:tensorflow:Value in checkpoint could not be found in the restored object: (root).keras_api.metrics.1.total\n"
     ]
    },
    {
     "name": "stderr",
     "output_type": "stream",
     "text": [
      "WARNING:tensorflow:Value in checkpoint could not be found in the restored object: (root).keras_api.metrics.1.total\n"
     ]
    },
    {
     "name": "stdout",
     "output_type": "stream",
     "text": [
      "WARNING:tensorflow:Value in checkpoint could not be found in the restored object: (root).keras_api.metrics.1.count\n"
     ]
    },
    {
     "name": "stderr",
     "output_type": "stream",
     "text": [
      "WARNING:tensorflow:Value in checkpoint could not be found in the restored object: (root).keras_api.metrics.1.count\n"
     ]
    },
    {
     "name": "stdout",
     "output_type": "stream",
     "text": [
      "WARNING:tensorflow:Detecting that an object or model or tf.train.Checkpoint is being deleted with unrestored values. See the following logs for the specific values in question. To silence these warnings, use `status.expect_partial()`. See https://www.tensorflow.org/api_docs/python/tf/train/Checkpoint#restorefor details about the status object returned by the restore function.\n"
     ]
    },
    {
     "name": "stderr",
     "output_type": "stream",
     "text": [
      "WARNING:tensorflow:Detecting that an object or model or tf.train.Checkpoint is being deleted with unrestored values. See the following logs for the specific values in question. To silence these warnings, use `status.expect_partial()`. See https://www.tensorflow.org/api_docs/python/tf/train/Checkpoint#restorefor details about the status object returned by the restore function.\n"
     ]
    },
    {
     "name": "stdout",
     "output_type": "stream",
     "text": [
      "WARNING:tensorflow:Value in checkpoint could not be found in the restored object: (root).keras_api.metrics.0.total\n"
     ]
    },
    {
     "name": "stderr",
     "output_type": "stream",
     "text": [
      "WARNING:tensorflow:Value in checkpoint could not be found in the restored object: (root).keras_api.metrics.0.total\n"
     ]
    },
    {
     "name": "stdout",
     "output_type": "stream",
     "text": [
      "WARNING:tensorflow:Value in checkpoint could not be found in the restored object: (root).keras_api.metrics.0.count\n"
     ]
    },
    {
     "name": "stderr",
     "output_type": "stream",
     "text": [
      "WARNING:tensorflow:Value in checkpoint could not be found in the restored object: (root).keras_api.metrics.0.count\n"
     ]
    },
    {
     "name": "stdout",
     "output_type": "stream",
     "text": [
      "WARNING:tensorflow:Value in checkpoint could not be found in the restored object: (root).keras_api.metrics.1.total\n"
     ]
    },
    {
     "name": "stderr",
     "output_type": "stream",
     "text": [
      "WARNING:tensorflow:Value in checkpoint could not be found in the restored object: (root).keras_api.metrics.1.total\n"
     ]
    },
    {
     "name": "stdout",
     "output_type": "stream",
     "text": [
      "WARNING:tensorflow:Value in checkpoint could not be found in the restored object: (root).keras_api.metrics.1.count\n"
     ]
    },
    {
     "name": "stderr",
     "output_type": "stream",
     "text": [
      "WARNING:tensorflow:Value in checkpoint could not be found in the restored object: (root).keras_api.metrics.1.count\n"
     ]
    },
    {
     "name": "stdout",
     "output_type": "stream",
     "text": [
      "WARNING:tensorflow:Detecting that an object or model or tf.train.Checkpoint is being deleted with unrestored values. See the following logs for the specific values in question. To silence these warnings, use `status.expect_partial()`. See https://www.tensorflow.org/api_docs/python/tf/train/Checkpoint#restorefor details about the status object returned by the restore function.\n"
     ]
    },
    {
     "name": "stderr",
     "output_type": "stream",
     "text": [
      "WARNING:tensorflow:Detecting that an object or model or tf.train.Checkpoint is being deleted with unrestored values. See the following logs for the specific values in question. To silence these warnings, use `status.expect_partial()`. See https://www.tensorflow.org/api_docs/python/tf/train/Checkpoint#restorefor details about the status object returned by the restore function.\n"
     ]
    },
    {
     "name": "stdout",
     "output_type": "stream",
     "text": [
      "WARNING:tensorflow:Value in checkpoint could not be found in the restored object: (root).keras_api.metrics.0.total\n"
     ]
    },
    {
     "name": "stderr",
     "output_type": "stream",
     "text": [
      "WARNING:tensorflow:Value in checkpoint could not be found in the restored object: (root).keras_api.metrics.0.total\n"
     ]
    },
    {
     "name": "stdout",
     "output_type": "stream",
     "text": [
      "WARNING:tensorflow:Value in checkpoint could not be found in the restored object: (root).keras_api.metrics.0.count\n"
     ]
    },
    {
     "name": "stderr",
     "output_type": "stream",
     "text": [
      "WARNING:tensorflow:Value in checkpoint could not be found in the restored object: (root).keras_api.metrics.0.count\n"
     ]
    },
    {
     "name": "stdout",
     "output_type": "stream",
     "text": [
      "WARNING:tensorflow:Value in checkpoint could not be found in the restored object: (root).keras_api.metrics.1.total\n"
     ]
    },
    {
     "name": "stderr",
     "output_type": "stream",
     "text": [
      "WARNING:tensorflow:Value in checkpoint could not be found in the restored object: (root).keras_api.metrics.1.total\n"
     ]
    },
    {
     "name": "stdout",
     "output_type": "stream",
     "text": [
      "WARNING:tensorflow:Value in checkpoint could not be found in the restored object: (root).keras_api.metrics.1.count\n"
     ]
    },
    {
     "name": "stderr",
     "output_type": "stream",
     "text": [
      "WARNING:tensorflow:Value in checkpoint could not be found in the restored object: (root).keras_api.metrics.1.count\n"
     ]
    },
    {
     "name": "stdout",
     "output_type": "stream",
     "text": [
      "Epoch 1/20\n",
      "149/149 [==============================] - 1s 4ms/step - loss: 0.6531 - accuracy: 0.8510 - val_loss: 0.4756 - val_accuracy: 0.7366\n",
      "Epoch 2/20\n",
      "149/149 [==============================] - 0s 2ms/step - loss: 0.4619 - accuracy: 0.7207 - val_loss: 0.4240 - val_accuracy: 0.7204\n",
      "Epoch 3/20\n",
      "149/149 [==============================] - 0s 2ms/step - loss: 0.4341 - accuracy: 0.7199 - val_loss: 0.3999 - val_accuracy: 0.7218\n",
      "Epoch 4/20\n",
      "149/149 [==============================] - 0s 2ms/step - loss: 0.4212 - accuracy: 0.7229 - val_loss: 0.4073 - val_accuracy: 0.7056\n",
      "Epoch 5/20\n",
      "149/149 [==============================] - 0s 2ms/step - loss: 0.4102 - accuracy: 0.7196 - val_loss: 0.4182 - val_accuracy: 0.7487\n",
      "Epoch 6/20\n",
      "149/149 [==============================] - 0s 2ms/step - loss: 0.3995 - accuracy: 0.7179 - val_loss: 0.3899 - val_accuracy: 0.7392\n",
      "Epoch 7/20\n",
      "149/149 [==============================] - 0s 2ms/step - loss: 0.3954 - accuracy: 0.7213 - val_loss: 0.3946 - val_accuracy: 0.7285\n",
      "Epoch 8/20\n",
      "149/149 [==============================] - 0s 2ms/step - loss: 0.3921 - accuracy: 0.7218 - val_loss: 0.3775 - val_accuracy: 0.7191\n",
      "Epoch 9/20\n",
      "149/149 [==============================] - 0s 2ms/step - loss: 0.3935 - accuracy: 0.7189 - val_loss: 0.3781 - val_accuracy: 0.7083\n",
      "Epoch 10/20\n",
      "149/149 [==============================] - 0s 2ms/step - loss: 0.3853 - accuracy: 0.7186 - val_loss: 0.3748 - val_accuracy: 0.7171\n",
      "Epoch 11/20\n",
      "149/149 [==============================] - 0s 2ms/step - loss: 0.3813 - accuracy: 0.7157 - val_loss: 0.3658 - val_accuracy: 0.7204\n",
      "Epoch 12/20\n",
      "149/149 [==============================] - 0s 2ms/step - loss: 0.3907 - accuracy: 0.7150 - val_loss: 0.3747 - val_accuracy: 0.7231\n",
      "Epoch 13/20\n",
      "149/149 [==============================] - 0s 2ms/step - loss: 0.3799 - accuracy: 0.7191 - val_loss: 0.3729 - val_accuracy: 0.6983\n",
      "Epoch 14/20\n",
      "149/149 [==============================] - 0s 2ms/step - loss: 0.3765 - accuracy: 0.7162 - val_loss: 0.3666 - val_accuracy: 0.7157\n",
      "Epoch 15/20\n",
      "149/149 [==============================] - 0s 2ms/step - loss: 0.3789 - accuracy: 0.7179 - val_loss: 0.3815 - val_accuracy: 0.7117\n",
      "Epoch 16/20\n",
      "149/149 [==============================] - 0s 2ms/step - loss: 0.3718 - accuracy: 0.7214 - val_loss: 0.3650 - val_accuracy: 0.7265\n",
      "Epoch 17/20\n",
      "149/149 [==============================] - 0s 2ms/step - loss: 0.3675 - accuracy: 0.7194 - val_loss: 0.3670 - val_accuracy: 0.7211\n",
      "Epoch 18/20\n",
      "149/149 [==============================] - 0s 2ms/step - loss: 0.3695 - accuracy: 0.7201 - val_loss: 0.3534 - val_accuracy: 0.7157\n",
      "Epoch 19/20\n",
      "149/149 [==============================] - 0s 2ms/step - loss: 0.3660 - accuracy: 0.7182 - val_loss: 0.3886 - val_accuracy: 0.7110\n",
      "Epoch 20/20\n",
      "149/149 [==============================] - 0s 2ms/step - loss: 0.3662 - accuracy: 0.7211 - val_loss: 0.3523 - val_accuracy: 0.7238\n",
      "21/21 [==============================] - 0s 1ms/step\n"
     ]
    },
    {
     "name": "stderr",
     "output_type": "stream",
     "text": [
      "WARNING:absl:Found untraced functions such as _update_step_xla while saving (showing 1 of 1). These functions will not be directly callable after loading.\n"
     ]
    },
    {
     "name": "stdout",
     "output_type": "stream",
     "text": [
      "INFO:tensorflow:Assets written to: C:\\Users\\jmbar\\AppData\\Local\\Temp\\tmpfvh2cn0f\\assets\n"
     ]
    },
    {
     "name": "stderr",
     "output_type": "stream",
     "text": [
      "INFO:tensorflow:Assets written to: C:\\Users\\jmbar\\AppData\\Local\\Temp\\tmpfvh2cn0f\\assets\n"
     ]
    },
    {
     "name": "stdout",
     "output_type": "stream",
     "text": [
      "Epoch 1/20\n",
      "149/149 [==============================] - 1s 4ms/step - loss: 0.6617 - accuracy: 0.8566 - val_loss: 0.4657 - val_accuracy: 0.7070\n",
      "Epoch 2/20\n",
      "149/149 [==============================] - 0s 2ms/step - loss: 0.4690 - accuracy: 0.7209 - val_loss: 0.4624 - val_accuracy: 0.6821\n",
      "Epoch 3/20\n",
      "149/149 [==============================] - 0s 2ms/step - loss: 0.4426 - accuracy: 0.7187 - val_loss: 0.4048 - val_accuracy: 0.7103\n",
      "Epoch 4/20\n",
      "149/149 [==============================] - 0s 2ms/step - loss: 0.4183 - accuracy: 0.7211 - val_loss: 0.4040 - val_accuracy: 0.7130\n",
      "Epoch 5/20\n",
      "149/149 [==============================] - 0s 2ms/step - loss: 0.4181 - accuracy: 0.7201 - val_loss: 0.3931 - val_accuracy: 0.7319\n",
      "Epoch 6/20\n",
      "149/149 [==============================] - 0s 2ms/step - loss: 0.4036 - accuracy: 0.7197 - val_loss: 0.3935 - val_accuracy: 0.7272\n",
      "Epoch 7/20\n",
      "149/149 [==============================] - 0s 2ms/step - loss: 0.4008 - accuracy: 0.7213 - val_loss: 0.3985 - val_accuracy: 0.7151\n",
      "Epoch 8/20\n",
      "149/149 [==============================] - 0s 2ms/step - loss: 0.3968 - accuracy: 0.7226 - val_loss: 0.4094 - val_accuracy: 0.7003\n",
      "Epoch 9/20\n",
      "149/149 [==============================] - 0s 2ms/step - loss: 0.3940 - accuracy: 0.7182 - val_loss: 0.4197 - val_accuracy: 0.6962\n",
      "Epoch 10/20\n",
      "149/149 [==============================] - 0s 2ms/step - loss: 0.3898 - accuracy: 0.7209 - val_loss: 0.3764 - val_accuracy: 0.7157\n",
      "Epoch 11/20\n",
      "149/149 [==============================] - 0s 2ms/step - loss: 0.3869 - accuracy: 0.7199 - val_loss: 0.3823 - val_accuracy: 0.7191\n",
      "Epoch 12/20\n",
      "149/149 [==============================] - 0s 2ms/step - loss: 0.3873 - accuracy: 0.7202 - val_loss: 0.3807 - val_accuracy: 0.7036\n",
      "Epoch 13/20\n",
      "149/149 [==============================] - 0s 3ms/step - loss: 0.3873 - accuracy: 0.7201 - val_loss: 0.4056 - val_accuracy: 0.7110\n",
      "Epoch 14/20\n",
      "149/149 [==============================] - 0s 3ms/step - loss: 0.3888 - accuracy: 0.7213 - val_loss: 0.3819 - val_accuracy: 0.7137\n",
      "Epoch 15/20\n",
      "149/149 [==============================] - 0s 3ms/step - loss: 0.3823 - accuracy: 0.7219 - val_loss: 0.4065 - val_accuracy: 0.7137\n",
      "Epoch 16/20\n",
      "149/149 [==============================] - 0s 2ms/step - loss: 0.3845 - accuracy: 0.7149 - val_loss: 0.3961 - val_accuracy: 0.7386\n",
      "Epoch 17/20\n",
      "149/149 [==============================] - 0s 2ms/step - loss: 0.3825 - accuracy: 0.7233 - val_loss: 0.3783 - val_accuracy: 0.7070\n",
      "Epoch 18/20\n",
      "149/149 [==============================] - 0s 2ms/step - loss: 0.3798 - accuracy: 0.7137 - val_loss: 0.4209 - val_accuracy: 0.6949\n",
      "Epoch 19/20\n",
      "149/149 [==============================] - 0s 2ms/step - loss: 0.3750 - accuracy: 0.7152 - val_loss: 0.3715 - val_accuracy: 0.7164\n",
      "Epoch 20/20\n",
      "149/149 [==============================] - 0s 3ms/step - loss: 0.3794 - accuracy: 0.7179 - val_loss: 0.3830 - val_accuracy: 0.6989\n",
      "21/21 [==============================] - 0s 1ms/step\n"
     ]
    },
    {
     "name": "stderr",
     "output_type": "stream",
     "text": [
      "WARNING:absl:Found untraced functions such as _update_step_xla while saving (showing 1 of 1). These functions will not be directly callable after loading.\n"
     ]
    },
    {
     "name": "stdout",
     "output_type": "stream",
     "text": [
      "INFO:tensorflow:Assets written to: C:\\Users\\jmbar\\AppData\\Local\\Temp\\tmpmtm56eja\\assets\n"
     ]
    },
    {
     "name": "stderr",
     "output_type": "stream",
     "text": [
      "INFO:tensorflow:Assets written to: C:\\Users\\jmbar\\AppData\\Local\\Temp\\tmpmtm56eja\\assets\n"
     ]
    },
    {
     "name": "stdout",
     "output_type": "stream",
     "text": [
      "Epoch 1/20\n",
      "149/149 [==============================] - 1s 4ms/step - loss: 0.6391 - accuracy: 0.8438 - val_loss: 0.5304 - val_accuracy: 0.6788\n",
      "Epoch 2/20\n",
      "149/149 [==============================] - 0s 3ms/step - loss: 0.4855 - accuracy: 0.7184 - val_loss: 0.4441 - val_accuracy: 0.7117\n",
      "Epoch 3/20\n",
      "149/149 [==============================] - 0s 2ms/step - loss: 0.4616 - accuracy: 0.7147 - val_loss: 0.4260 - val_accuracy: 0.7103\n",
      "Epoch 4/20\n",
      "149/149 [==============================] - 0s 2ms/step - loss: 0.4355 - accuracy: 0.7159 - val_loss: 0.4031 - val_accuracy: 0.7258\n",
      "Epoch 5/20\n",
      "149/149 [==============================] - 0s 2ms/step - loss: 0.4157 - accuracy: 0.7218 - val_loss: 0.4160 - val_accuracy: 0.6882\n",
      "Epoch 6/20\n",
      "149/149 [==============================] - 0s 2ms/step - loss: 0.4105 - accuracy: 0.7209 - val_loss: 0.4024 - val_accuracy: 0.7043\n",
      "Epoch 7/20\n",
      "149/149 [==============================] - 0s 2ms/step - loss: 0.4011 - accuracy: 0.7221 - val_loss: 0.3843 - val_accuracy: 0.7426\n",
      "Epoch 8/20\n",
      "149/149 [==============================] - 0s 2ms/step - loss: 0.4015 - accuracy: 0.7170 - val_loss: 0.3816 - val_accuracy: 0.7070\n",
      "Epoch 9/20\n",
      "149/149 [==============================] - 0s 2ms/step - loss: 0.3883 - accuracy: 0.7176 - val_loss: 0.3725 - val_accuracy: 0.7292\n",
      "Epoch 10/20\n",
      "149/149 [==============================] - 0s 2ms/step - loss: 0.3927 - accuracy: 0.7176 - val_loss: 0.3755 - val_accuracy: 0.7265\n",
      "Epoch 11/20\n",
      "149/149 [==============================] - 0s 2ms/step - loss: 0.3842 - accuracy: 0.7197 - val_loss: 0.3765 - val_accuracy: 0.7345\n",
      "Epoch 12/20\n",
      "149/149 [==============================] - 0s 2ms/step - loss: 0.3744 - accuracy: 0.7176 - val_loss: 0.3638 - val_accuracy: 0.7043\n",
      "Epoch 13/20\n",
      "149/149 [==============================] - 0s 2ms/step - loss: 0.3753 - accuracy: 0.7167 - val_loss: 0.3692 - val_accuracy: 0.7090\n",
      "Epoch 14/20\n",
      "149/149 [==============================] - 0s 2ms/step - loss: 0.3717 - accuracy: 0.7192 - val_loss: 0.3660 - val_accuracy: 0.7191\n",
      "Epoch 15/20\n",
      "149/149 [==============================] - 0s 3ms/step - loss: 0.3708 - accuracy: 0.7159 - val_loss: 0.3692 - val_accuracy: 0.7090\n",
      "Epoch 16/20\n",
      "149/149 [==============================] - 0s 3ms/step - loss: 0.3641 - accuracy: 0.7192 - val_loss: 0.3684 - val_accuracy: 0.7265\n",
      "Epoch 17/20\n",
      "149/149 [==============================] - 0s 3ms/step - loss: 0.3641 - accuracy: 0.7170 - val_loss: 0.3838 - val_accuracy: 0.7359\n",
      "Epoch 18/20\n",
      "149/149 [==============================] - 0s 3ms/step - loss: 0.3628 - accuracy: 0.7221 - val_loss: 0.3668 - val_accuracy: 0.7406\n",
      "Epoch 19/20\n",
      "149/149 [==============================] - 1s 4ms/step - loss: 0.3600 - accuracy: 0.7201 - val_loss: 0.3975 - val_accuracy: 0.7520\n",
      "Epoch 20/20\n",
      "149/149 [==============================] - 0s 3ms/step - loss: 0.3592 - accuracy: 0.7162 - val_loss: 0.3641 - val_accuracy: 0.7473\n",
      "21/21 [==============================] - 0s 2ms/step\n"
     ]
    },
    {
     "name": "stderr",
     "output_type": "stream",
     "text": [
      "WARNING:absl:Found untraced functions such as _update_step_xla while saving (showing 1 of 1). These functions will not be directly callable after loading.\n"
     ]
    },
    {
     "name": "stdout",
     "output_type": "stream",
     "text": [
      "INFO:tensorflow:Assets written to: C:\\Users\\jmbar\\AppData\\Local\\Temp\\tmptzw9borz\\assets\n"
     ]
    },
    {
     "name": "stderr",
     "output_type": "stream",
     "text": [
      "INFO:tensorflow:Assets written to: C:\\Users\\jmbar\\AppData\\Local\\Temp\\tmptzw9borz\\assets\n"
     ]
    },
    {
     "name": "stdout",
     "output_type": "stream",
     "text": [
      "Epoch 1/20\n",
      "149/149 [==============================] - 1s 5ms/step - loss: 0.6412 - accuracy: 0.8394 - val_loss: 0.4784 - val_accuracy: 0.7426\n",
      "Epoch 2/20\n",
      "149/149 [==============================] - 0s 3ms/step - loss: 0.4925 - accuracy: 0.7246 - val_loss: 0.4505 - val_accuracy: 0.7063\n",
      "Epoch 3/20\n",
      "149/149 [==============================] - 0s 3ms/step - loss: 0.4591 - accuracy: 0.7145 - val_loss: 0.4505 - val_accuracy: 0.6882\n",
      "Epoch 4/20\n",
      "149/149 [==============================] - 0s 3ms/step - loss: 0.4391 - accuracy: 0.7167 - val_loss: 0.4343 - val_accuracy: 0.7413\n",
      "Epoch 5/20\n",
      "149/149 [==============================] - 0s 3ms/step - loss: 0.4273 - accuracy: 0.7226 - val_loss: 0.3902 - val_accuracy: 0.7251\n",
      "Epoch 6/20\n",
      "149/149 [==============================] - 1s 3ms/step - loss: 0.4112 - accuracy: 0.7223 - val_loss: 0.3921 - val_accuracy: 0.7278\n",
      "Epoch 7/20\n",
      "149/149 [==============================] - 0s 3ms/step - loss: 0.4006 - accuracy: 0.7207 - val_loss: 0.3802 - val_accuracy: 0.7144\n",
      "Epoch 8/20\n",
      "149/149 [==============================] - 1s 4ms/step - loss: 0.4094 - accuracy: 0.7155 - val_loss: 0.3750 - val_accuracy: 0.7191\n",
      "Epoch 9/20\n",
      "149/149 [==============================] - 0s 3ms/step - loss: 0.3940 - accuracy: 0.7186 - val_loss: 0.3914 - val_accuracy: 0.7258\n",
      "Epoch 10/20\n",
      "149/149 [==============================] - 0s 3ms/step - loss: 0.3918 - accuracy: 0.7147 - val_loss: 0.3709 - val_accuracy: 0.7177\n",
      "Epoch 11/20\n",
      "149/149 [==============================] - 0s 3ms/step - loss: 0.3840 - accuracy: 0.7142 - val_loss: 0.3701 - val_accuracy: 0.7171\n",
      "Epoch 12/20\n",
      "149/149 [==============================] - 0s 3ms/step - loss: 0.3789 - accuracy: 0.7170 - val_loss: 0.3693 - val_accuracy: 0.6848\n",
      "Epoch 13/20\n",
      "149/149 [==============================] - 0s 3ms/step - loss: 0.3770 - accuracy: 0.7132 - val_loss: 0.3650 - val_accuracy: 0.6983\n",
      "Epoch 14/20\n",
      "149/149 [==============================] - 0s 3ms/step - loss: 0.3828 - accuracy: 0.7160 - val_loss: 0.3713 - val_accuracy: 0.7433\n",
      "Epoch 15/20\n",
      "149/149 [==============================] - 0s 3ms/step - loss: 0.3709 - accuracy: 0.7117 - val_loss: 0.3567 - val_accuracy: 0.7278\n",
      "Epoch 16/20\n",
      "149/149 [==============================] - 1s 4ms/step - loss: 0.3695 - accuracy: 0.7133 - val_loss: 0.3577 - val_accuracy: 0.7406\n",
      "Epoch 17/20\n",
      "149/149 [==============================] - 0s 3ms/step - loss: 0.3645 - accuracy: 0.7224 - val_loss: 0.3711 - val_accuracy: 0.7164\n",
      "Epoch 18/20\n",
      "149/149 [==============================] - 0s 2ms/step - loss: 0.3649 - accuracy: 0.7179 - val_loss: 0.3537 - val_accuracy: 0.7224\n",
      "Epoch 19/20\n",
      "149/149 [==============================] - 0s 3ms/step - loss: 0.3663 - accuracy: 0.7142 - val_loss: 0.3660 - val_accuracy: 0.6875\n",
      "Epoch 20/20\n",
      "149/149 [==============================] - 0s 3ms/step - loss: 0.3589 - accuracy: 0.7170 - val_loss: 0.3551 - val_accuracy: 0.7050\n",
      "21/21 [==============================] - 0s 2ms/step\n"
     ]
    },
    {
     "name": "stderr",
     "output_type": "stream",
     "text": [
      "WARNING:absl:Found untraced functions such as _update_step_xla while saving (showing 1 of 1). These functions will not be directly callable after loading.\n"
     ]
    },
    {
     "name": "stdout",
     "output_type": "stream",
     "text": [
      "INFO:tensorflow:Assets written to: C:\\Users\\jmbar\\AppData\\Local\\Temp\\tmp6gdczgcb\\assets\n"
     ]
    },
    {
     "name": "stderr",
     "output_type": "stream",
     "text": [
      "INFO:tensorflow:Assets written to: C:\\Users\\jmbar\\AppData\\Local\\Temp\\tmp6gdczgcb\\assets\n"
     ]
    },
    {
     "name": "stdout",
     "output_type": "stream",
     "text": [
      "Epoch 1/20\n",
      "149/149 [==============================] - 2s 4ms/step - loss: 0.6412 - accuracy: 0.8258 - val_loss: 0.4676 - val_accuracy: 0.7527\n",
      "Epoch 2/20\n",
      "149/149 [==============================] - 1s 4ms/step - loss: 0.4783 - accuracy: 0.7181 - val_loss: 0.4306 - val_accuracy: 0.7224\n",
      "Epoch 3/20\n",
      "149/149 [==============================] - 0s 2ms/step - loss: 0.4624 - accuracy: 0.7182 - val_loss: 0.4065 - val_accuracy: 0.7231\n",
      "Epoch 4/20\n",
      "149/149 [==============================] - 1s 6ms/step - loss: 0.4218 - accuracy: 0.7182 - val_loss: 0.4107 - val_accuracy: 0.7298\n",
      "Epoch 5/20\n",
      "149/149 [==============================] - 1s 3ms/step - loss: 0.4057 - accuracy: 0.7207 - val_loss: 0.4258 - val_accuracy: 0.7077\n",
      "Epoch 6/20\n",
      "149/149 [==============================] - 0s 2ms/step - loss: 0.4019 - accuracy: 0.7216 - val_loss: 0.3753 - val_accuracy: 0.7386\n",
      "Epoch 7/20\n",
      "149/149 [==============================] - 1s 3ms/step - loss: 0.3996 - accuracy: 0.7238 - val_loss: 0.3761 - val_accuracy: 0.7480\n",
      "Epoch 8/20\n",
      "149/149 [==============================] - 0s 2ms/step - loss: 0.3870 - accuracy: 0.7231 - val_loss: 0.3791 - val_accuracy: 0.7272\n",
      "Epoch 9/20\n",
      "149/149 [==============================] - 0s 2ms/step - loss: 0.3887 - accuracy: 0.7248 - val_loss: 0.3770 - val_accuracy: 0.7339\n",
      "Epoch 10/20\n",
      "149/149 [==============================] - 0s 2ms/step - loss: 0.3862 - accuracy: 0.7224 - val_loss: 0.4106 - val_accuracy: 0.7164\n",
      "Epoch 11/20\n",
      "149/149 [==============================] - 0s 3ms/step - loss: 0.3824 - accuracy: 0.7231 - val_loss: 0.3950 - val_accuracy: 0.7050\n",
      "Epoch 12/20\n",
      "149/149 [==============================] - 0s 2ms/step - loss: 0.3801 - accuracy: 0.7228 - val_loss: 0.3746 - val_accuracy: 0.7413\n",
      "Epoch 13/20\n",
      "149/149 [==============================] - 0s 2ms/step - loss: 0.3866 - accuracy: 0.7255 - val_loss: 0.3642 - val_accuracy: 0.7339\n",
      "Epoch 14/20\n",
      "149/149 [==============================] - 0s 2ms/step - loss: 0.3755 - accuracy: 0.7216 - val_loss: 0.3589 - val_accuracy: 0.7191\n",
      "Epoch 15/20\n",
      "149/149 [==============================] - 0s 2ms/step - loss: 0.3716 - accuracy: 0.7239 - val_loss: 0.3653 - val_accuracy: 0.7453\n",
      "Epoch 16/20\n",
      "149/149 [==============================] - 0s 2ms/step - loss: 0.3711 - accuracy: 0.7202 - val_loss: 0.3715 - val_accuracy: 0.7493\n",
      "Epoch 17/20\n",
      "149/149 [==============================] - 0s 2ms/step - loss: 0.3704 - accuracy: 0.7266 - val_loss: 0.3755 - val_accuracy: 0.7359\n",
      "Epoch 18/20\n",
      "149/149 [==============================] - 0s 3ms/step - loss: 0.3710 - accuracy: 0.7186 - val_loss: 0.3649 - val_accuracy: 0.7352\n",
      "Epoch 19/20\n",
      "149/149 [==============================] - 0s 2ms/step - loss: 0.3765 - accuracy: 0.7192 - val_loss: 0.3781 - val_accuracy: 0.7231\n",
      "Epoch 20/20\n",
      "149/149 [==============================] - 0s 2ms/step - loss: 0.3697 - accuracy: 0.7238 - val_loss: 0.3624 - val_accuracy: 0.7319\n",
      "21/21 [==============================] - 0s 1ms/step\n",
      "WARNING:tensorflow:Detecting that an object or model or tf.train.Checkpoint is being deleted with unrestored values. See the following logs for the specific values in question. To silence these warnings, use `status.expect_partial()`. See https://www.tensorflow.org/api_docs/python/tf/train/Checkpoint#restorefor details about the status object returned by the restore function.\n"
     ]
    },
    {
     "name": "stderr",
     "output_type": "stream",
     "text": [
      "WARNING:tensorflow:Detecting that an object or model or tf.train.Checkpoint is being deleted with unrestored values. See the following logs for the specific values in question. To silence these warnings, use `status.expect_partial()`. See https://www.tensorflow.org/api_docs/python/tf/train/Checkpoint#restorefor details about the status object returned by the restore function.\n"
     ]
    },
    {
     "name": "stdout",
     "output_type": "stream",
     "text": [
      "WARNING:tensorflow:Value in checkpoint could not be found in the restored object: (root).keras_api.metrics.0.total\n"
     ]
    },
    {
     "name": "stderr",
     "output_type": "stream",
     "text": [
      "WARNING:tensorflow:Value in checkpoint could not be found in the restored object: (root).keras_api.metrics.0.total\n"
     ]
    },
    {
     "name": "stdout",
     "output_type": "stream",
     "text": [
      "WARNING:tensorflow:Value in checkpoint could not be found in the restored object: (root).keras_api.metrics.0.count\n"
     ]
    },
    {
     "name": "stderr",
     "output_type": "stream",
     "text": [
      "WARNING:tensorflow:Value in checkpoint could not be found in the restored object: (root).keras_api.metrics.0.count\n"
     ]
    },
    {
     "name": "stdout",
     "output_type": "stream",
     "text": [
      "WARNING:tensorflow:Value in checkpoint could not be found in the restored object: (root).keras_api.metrics.1.total\n"
     ]
    },
    {
     "name": "stderr",
     "output_type": "stream",
     "text": [
      "WARNING:tensorflow:Value in checkpoint could not be found in the restored object: (root).keras_api.metrics.1.total\n"
     ]
    },
    {
     "name": "stdout",
     "output_type": "stream",
     "text": [
      "WARNING:tensorflow:Value in checkpoint could not be found in the restored object: (root).keras_api.metrics.1.count\n"
     ]
    },
    {
     "name": "stderr",
     "output_type": "stream",
     "text": [
      "WARNING:tensorflow:Value in checkpoint could not be found in the restored object: (root).keras_api.metrics.1.count\n"
     ]
    },
    {
     "name": "stdout",
     "output_type": "stream",
     "text": [
      "WARNING:tensorflow:Detecting that an object or model or tf.train.Checkpoint is being deleted with unrestored values. See the following logs for the specific values in question. To silence these warnings, use `status.expect_partial()`. See https://www.tensorflow.org/api_docs/python/tf/train/Checkpoint#restorefor details about the status object returned by the restore function.\n"
     ]
    },
    {
     "name": "stderr",
     "output_type": "stream",
     "text": [
      "WARNING:tensorflow:Detecting that an object or model or tf.train.Checkpoint is being deleted with unrestored values. See the following logs for the specific values in question. To silence these warnings, use `status.expect_partial()`. See https://www.tensorflow.org/api_docs/python/tf/train/Checkpoint#restorefor details about the status object returned by the restore function.\n"
     ]
    },
    {
     "name": "stdout",
     "output_type": "stream",
     "text": [
      "WARNING:tensorflow:Value in checkpoint could not be found in the restored object: (root).keras_api.metrics.0.total\n"
     ]
    },
    {
     "name": "stderr",
     "output_type": "stream",
     "text": [
      "WARNING:tensorflow:Value in checkpoint could not be found in the restored object: (root).keras_api.metrics.0.total\n"
     ]
    },
    {
     "name": "stdout",
     "output_type": "stream",
     "text": [
      "WARNING:tensorflow:Value in checkpoint could not be found in the restored object: (root).keras_api.metrics.0.count\n"
     ]
    },
    {
     "name": "stderr",
     "output_type": "stream",
     "text": [
      "WARNING:tensorflow:Value in checkpoint could not be found in the restored object: (root).keras_api.metrics.0.count\n"
     ]
    },
    {
     "name": "stdout",
     "output_type": "stream",
     "text": [
      "WARNING:tensorflow:Value in checkpoint could not be found in the restored object: (root).keras_api.metrics.1.total\n"
     ]
    },
    {
     "name": "stderr",
     "output_type": "stream",
     "text": [
      "WARNING:tensorflow:Value in checkpoint could not be found in the restored object: (root).keras_api.metrics.1.total\n"
     ]
    },
    {
     "name": "stdout",
     "output_type": "stream",
     "text": [
      "WARNING:tensorflow:Value in checkpoint could not be found in the restored object: (root).keras_api.metrics.1.count\n"
     ]
    },
    {
     "name": "stderr",
     "output_type": "stream",
     "text": [
      "WARNING:tensorflow:Value in checkpoint could not be found in the restored object: (root).keras_api.metrics.1.count\n"
     ]
    },
    {
     "name": "stdout",
     "output_type": "stream",
     "text": [
      "WARNING:tensorflow:Detecting that an object or model or tf.train.Checkpoint is being deleted with unrestored values. See the following logs for the specific values in question. To silence these warnings, use `status.expect_partial()`. See https://www.tensorflow.org/api_docs/python/tf/train/Checkpoint#restorefor details about the status object returned by the restore function.\n"
     ]
    },
    {
     "name": "stderr",
     "output_type": "stream",
     "text": [
      "WARNING:tensorflow:Detecting that an object or model or tf.train.Checkpoint is being deleted with unrestored values. See the following logs for the specific values in question. To silence these warnings, use `status.expect_partial()`. See https://www.tensorflow.org/api_docs/python/tf/train/Checkpoint#restorefor details about the status object returned by the restore function.\n"
     ]
    },
    {
     "name": "stdout",
     "output_type": "stream",
     "text": [
      "WARNING:tensorflow:Value in checkpoint could not be found in the restored object: (root).keras_api.metrics.0.total\n"
     ]
    },
    {
     "name": "stderr",
     "output_type": "stream",
     "text": [
      "WARNING:tensorflow:Value in checkpoint could not be found in the restored object: (root).keras_api.metrics.0.total\n"
     ]
    },
    {
     "name": "stdout",
     "output_type": "stream",
     "text": [
      "WARNING:tensorflow:Value in checkpoint could not be found in the restored object: (root).keras_api.metrics.0.count\n"
     ]
    },
    {
     "name": "stderr",
     "output_type": "stream",
     "text": [
      "WARNING:tensorflow:Value in checkpoint could not be found in the restored object: (root).keras_api.metrics.0.count\n"
     ]
    },
    {
     "name": "stdout",
     "output_type": "stream",
     "text": [
      "WARNING:tensorflow:Value in checkpoint could not be found in the restored object: (root).keras_api.metrics.1.total\n"
     ]
    },
    {
     "name": "stderr",
     "output_type": "stream",
     "text": [
      "WARNING:tensorflow:Value in checkpoint could not be found in the restored object: (root).keras_api.metrics.1.total\n"
     ]
    },
    {
     "name": "stdout",
     "output_type": "stream",
     "text": [
      "WARNING:tensorflow:Value in checkpoint could not be found in the restored object: (root).keras_api.metrics.1.count\n"
     ]
    },
    {
     "name": "stderr",
     "output_type": "stream",
     "text": [
      "WARNING:tensorflow:Value in checkpoint could not be found in the restored object: (root).keras_api.metrics.1.count\n"
     ]
    },
    {
     "name": "stdout",
     "output_type": "stream",
     "text": [
      "WARNING:tensorflow:Detecting that an object or model or tf.train.Checkpoint is being deleted with unrestored values. See the following logs for the specific values in question. To silence these warnings, use `status.expect_partial()`. See https://www.tensorflow.org/api_docs/python/tf/train/Checkpoint#restorefor details about the status object returned by the restore function.\n"
     ]
    },
    {
     "name": "stderr",
     "output_type": "stream",
     "text": [
      "WARNING:tensorflow:Detecting that an object or model or tf.train.Checkpoint is being deleted with unrestored values. See the following logs for the specific values in question. To silence these warnings, use `status.expect_partial()`. See https://www.tensorflow.org/api_docs/python/tf/train/Checkpoint#restorefor details about the status object returned by the restore function.\n"
     ]
    },
    {
     "name": "stdout",
     "output_type": "stream",
     "text": [
      "WARNING:tensorflow:Value in checkpoint could not be found in the restored object: (root).keras_api.metrics.0.total\n"
     ]
    },
    {
     "name": "stderr",
     "output_type": "stream",
     "text": [
      "WARNING:tensorflow:Value in checkpoint could not be found in the restored object: (root).keras_api.metrics.0.total\n"
     ]
    },
    {
     "name": "stdout",
     "output_type": "stream",
     "text": [
      "WARNING:tensorflow:Value in checkpoint could not be found in the restored object: (root).keras_api.metrics.0.count\n"
     ]
    },
    {
     "name": "stderr",
     "output_type": "stream",
     "text": [
      "WARNING:tensorflow:Value in checkpoint could not be found in the restored object: (root).keras_api.metrics.0.count\n"
     ]
    },
    {
     "name": "stdout",
     "output_type": "stream",
     "text": [
      "WARNING:tensorflow:Value in checkpoint could not be found in the restored object: (root).keras_api.metrics.1.total\n"
     ]
    },
    {
     "name": "stderr",
     "output_type": "stream",
     "text": [
      "WARNING:tensorflow:Value in checkpoint could not be found in the restored object: (root).keras_api.metrics.1.total\n"
     ]
    },
    {
     "name": "stdout",
     "output_type": "stream",
     "text": [
      "WARNING:tensorflow:Value in checkpoint could not be found in the restored object: (root).keras_api.metrics.1.count\n"
     ]
    },
    {
     "name": "stderr",
     "output_type": "stream",
     "text": [
      "WARNING:tensorflow:Value in checkpoint could not be found in the restored object: (root).keras_api.metrics.1.count\n"
     ]
    },
    {
     "name": "stdout",
     "output_type": "stream",
     "text": [
      "WARNING:tensorflow:Detecting that an object or model or tf.train.Checkpoint is being deleted with unrestored values. See the following logs for the specific values in question. To silence these warnings, use `status.expect_partial()`. See https://www.tensorflow.org/api_docs/python/tf/train/Checkpoint#restorefor details about the status object returned by the restore function.\n"
     ]
    },
    {
     "name": "stderr",
     "output_type": "stream",
     "text": [
      "WARNING:tensorflow:Detecting that an object or model or tf.train.Checkpoint is being deleted with unrestored values. See the following logs for the specific values in question. To silence these warnings, use `status.expect_partial()`. See https://www.tensorflow.org/api_docs/python/tf/train/Checkpoint#restorefor details about the status object returned by the restore function.\n"
     ]
    },
    {
     "name": "stdout",
     "output_type": "stream",
     "text": [
      "WARNING:tensorflow:Value in checkpoint could not be found in the restored object: (root).keras_api.metrics.0.total\n"
     ]
    },
    {
     "name": "stderr",
     "output_type": "stream",
     "text": [
      "WARNING:tensorflow:Value in checkpoint could not be found in the restored object: (root).keras_api.metrics.0.total\n"
     ]
    },
    {
     "name": "stdout",
     "output_type": "stream",
     "text": [
      "WARNING:tensorflow:Value in checkpoint could not be found in the restored object: (root).keras_api.metrics.0.count\n"
     ]
    },
    {
     "name": "stderr",
     "output_type": "stream",
     "text": [
      "WARNING:tensorflow:Value in checkpoint could not be found in the restored object: (root).keras_api.metrics.0.count\n"
     ]
    },
    {
     "name": "stdout",
     "output_type": "stream",
     "text": [
      "WARNING:tensorflow:Value in checkpoint could not be found in the restored object: (root).keras_api.metrics.1.total\n"
     ]
    },
    {
     "name": "stderr",
     "output_type": "stream",
     "text": [
      "WARNING:tensorflow:Value in checkpoint could not be found in the restored object: (root).keras_api.metrics.1.total\n"
     ]
    },
    {
     "name": "stdout",
     "output_type": "stream",
     "text": [
      "WARNING:tensorflow:Value in checkpoint could not be found in the restored object: (root).keras_api.metrics.1.count\n"
     ]
    },
    {
     "name": "stderr",
     "output_type": "stream",
     "text": [
      "WARNING:tensorflow:Value in checkpoint could not be found in the restored object: (root).keras_api.metrics.1.count\n",
      "WARNING:absl:Found untraced functions such as _update_step_xla while saving (showing 1 of 1). These functions will not be directly callable after loading.\n"
     ]
    },
    {
     "name": "stdout",
     "output_type": "stream",
     "text": [
      "INFO:tensorflow:Assets written to: C:\\Users\\jmbar\\AppData\\Local\\Temp\\tmppjggz5ip\\assets\n"
     ]
    },
    {
     "name": "stderr",
     "output_type": "stream",
     "text": [
      "INFO:tensorflow:Assets written to: C:\\Users\\jmbar\\AppData\\Local\\Temp\\tmppjggz5ip\\assets\n"
     ]
    },
    {
     "name": "stdout",
     "output_type": "stream",
     "text": [
      "Epoch 1/20\n",
      "149/149 [==============================] - 1s 4ms/step - loss: 0.6597 - accuracy: 0.8549 - val_loss: 0.4802 - val_accuracy: 0.7292\n",
      "Epoch 2/20\n",
      "149/149 [==============================] - 0s 2ms/step - loss: 0.4730 - accuracy: 0.7170 - val_loss: 0.4369 - val_accuracy: 0.7191\n",
      "Epoch 3/20\n",
      "149/149 [==============================] - 0s 2ms/step - loss: 0.4338 - accuracy: 0.7191 - val_loss: 0.4139 - val_accuracy: 0.7218\n",
      "Epoch 4/20\n",
      "149/149 [==============================] - 0s 2ms/step - loss: 0.4209 - accuracy: 0.7189 - val_loss: 0.3986 - val_accuracy: 0.7117\n",
      "Epoch 5/20\n",
      "149/149 [==============================] - 0s 2ms/step - loss: 0.4084 - accuracy: 0.7165 - val_loss: 0.4173 - val_accuracy: 0.7366\n",
      "Epoch 6/20\n",
      "149/149 [==============================] - 0s 3ms/step - loss: 0.3977 - accuracy: 0.7204 - val_loss: 0.3981 - val_accuracy: 0.7305\n",
      "Epoch 7/20\n",
      "149/149 [==============================] - 0s 3ms/step - loss: 0.4009 - accuracy: 0.7194 - val_loss: 0.3918 - val_accuracy: 0.7171\n",
      "Epoch 8/20\n",
      "149/149 [==============================] - 0s 2ms/step - loss: 0.3944 - accuracy: 0.7149 - val_loss: 0.3925 - val_accuracy: 0.7191\n",
      "Epoch 9/20\n",
      "149/149 [==============================] - 0s 3ms/step - loss: 0.3945 - accuracy: 0.7160 - val_loss: 0.3953 - val_accuracy: 0.7050\n",
      "Epoch 10/20\n",
      "149/149 [==============================] - 0s 3ms/step - loss: 0.3903 - accuracy: 0.7167 - val_loss: 0.3864 - val_accuracy: 0.7177\n",
      "Epoch 11/20\n",
      "149/149 [==============================] - 0s 2ms/step - loss: 0.3933 - accuracy: 0.7181 - val_loss: 0.3939 - val_accuracy: 0.7164\n",
      "Epoch 12/20\n",
      "149/149 [==============================] - 0s 3ms/step - loss: 0.3946 - accuracy: 0.7179 - val_loss: 0.3996 - val_accuracy: 0.7272\n",
      "Epoch 13/20\n",
      "149/149 [==============================] - 0s 2ms/step - loss: 0.3900 - accuracy: 0.7184 - val_loss: 0.3875 - val_accuracy: 0.7198\n",
      "Epoch 14/20\n",
      "149/149 [==============================] - 0s 3ms/step - loss: 0.3873 - accuracy: 0.7202 - val_loss: 0.4365 - val_accuracy: 0.6794\n",
      "Epoch 15/20\n",
      "149/149 [==============================] - 0s 2ms/step - loss: 0.3834 - accuracy: 0.7162 - val_loss: 0.3899 - val_accuracy: 0.7198\n",
      "Epoch 16/20\n",
      "149/149 [==============================] - 0s 2ms/step - loss: 0.3827 - accuracy: 0.7181 - val_loss: 0.3797 - val_accuracy: 0.7171\n",
      "Epoch 17/20\n",
      "149/149 [==============================] - 0s 2ms/step - loss: 0.3830 - accuracy: 0.7164 - val_loss: 0.3858 - val_accuracy: 0.7090\n",
      "Epoch 18/20\n",
      "149/149 [==============================] - 0s 2ms/step - loss: 0.3861 - accuracy: 0.7149 - val_loss: 0.3882 - val_accuracy: 0.7043\n",
      "Epoch 19/20\n",
      "149/149 [==============================] - 0s 2ms/step - loss: 0.3785 - accuracy: 0.7159 - val_loss: 0.3811 - val_accuracy: 0.6929\n",
      "Epoch 20/20\n",
      "149/149 [==============================] - 0s 2ms/step - loss: 0.3781 - accuracy: 0.7133 - val_loss: 0.3841 - val_accuracy: 0.7063\n",
      "21/21 [==============================] - 0s 1ms/step\n"
     ]
    },
    {
     "name": "stderr",
     "output_type": "stream",
     "text": [
      "WARNING:absl:Found untraced functions such as _update_step_xla while saving (showing 1 of 1). These functions will not be directly callable after loading.\n"
     ]
    },
    {
     "name": "stdout",
     "output_type": "stream",
     "text": [
      "INFO:tensorflow:Assets written to: C:\\Users\\jmbar\\AppData\\Local\\Temp\\tmpjnu6m4zp\\assets\n"
     ]
    },
    {
     "name": "stderr",
     "output_type": "stream",
     "text": [
      "INFO:tensorflow:Assets written to: C:\\Users\\jmbar\\AppData\\Local\\Temp\\tmpjnu6m4zp\\assets\n"
     ]
    },
    {
     "name": "stdout",
     "output_type": "stream",
     "text": [
      "Epoch 1/20\n",
      "149/149 [==============================] - 1s 4ms/step - loss: 0.6607 - accuracy: 0.8566 - val_loss: 0.5000 - val_accuracy: 0.7001\n",
      "Epoch 2/20\n",
      "149/149 [==============================] - 0s 2ms/step - loss: 0.4832 - accuracy: 0.7228 - val_loss: 0.4500 - val_accuracy: 0.7135\n",
      "Epoch 3/20\n",
      "149/149 [==============================] - 0s 2ms/step - loss: 0.4627 - accuracy: 0.7120 - val_loss: 0.4423 - val_accuracy: 0.7418\n",
      "Epoch 4/20\n",
      "149/149 [==============================] - 0s 2ms/step - loss: 0.4401 - accuracy: 0.7086 - val_loss: 0.4334 - val_accuracy: 0.6994\n",
      "Epoch 5/20\n",
      "149/149 [==============================] - 0s 2ms/step - loss: 0.4205 - accuracy: 0.7147 - val_loss: 0.4378 - val_accuracy: 0.6987\n",
      "Epoch 6/20\n",
      "149/149 [==============================] - 0s 2ms/step - loss: 0.4158 - accuracy: 0.7132 - val_loss: 0.3953 - val_accuracy: 0.7122\n",
      "Epoch 7/20\n",
      "149/149 [==============================] - 0s 2ms/step - loss: 0.4073 - accuracy: 0.7154 - val_loss: 0.3938 - val_accuracy: 0.7344\n",
      "Epoch 8/20\n",
      "149/149 [==============================] - 0s 2ms/step - loss: 0.3993 - accuracy: 0.7145 - val_loss: 0.3929 - val_accuracy: 0.7041\n",
      "Epoch 9/20\n",
      "149/149 [==============================] - 0s 2ms/step - loss: 0.3953 - accuracy: 0.7149 - val_loss: 0.4121 - val_accuracy: 0.7303\n",
      "Epoch 10/20\n",
      "149/149 [==============================] - 0s 2ms/step - loss: 0.3972 - accuracy: 0.7130 - val_loss: 0.3749 - val_accuracy: 0.7182\n",
      "Epoch 11/20\n",
      "149/149 [==============================] - 0s 2ms/step - loss: 0.3903 - accuracy: 0.7177 - val_loss: 0.3745 - val_accuracy: 0.7135\n",
      "Epoch 12/20\n",
      "149/149 [==============================] - 0s 2ms/step - loss: 0.3868 - accuracy: 0.7123 - val_loss: 0.3883 - val_accuracy: 0.6927\n",
      "Epoch 13/20\n",
      "149/149 [==============================] - 0s 2ms/step - loss: 0.3794 - accuracy: 0.7162 - val_loss: 0.3884 - val_accuracy: 0.7256\n",
      "Epoch 14/20\n",
      "149/149 [==============================] - 0s 2ms/step - loss: 0.3750 - accuracy: 0.7164 - val_loss: 0.3729 - val_accuracy: 0.6960\n",
      "Epoch 15/20\n",
      "149/149 [==============================] - 0s 2ms/step - loss: 0.3722 - accuracy: 0.7133 - val_loss: 0.3715 - val_accuracy: 0.7068\n",
      "Epoch 16/20\n",
      "149/149 [==============================] - 0s 2ms/step - loss: 0.3709 - accuracy: 0.7133 - val_loss: 0.3675 - val_accuracy: 0.7135\n",
      "Epoch 17/20\n",
      "149/149 [==============================] - 0s 2ms/step - loss: 0.3670 - accuracy: 0.7142 - val_loss: 0.3662 - val_accuracy: 0.7162\n",
      "Epoch 18/20\n",
      "149/149 [==============================] - 0s 3ms/step - loss: 0.3683 - accuracy: 0.7139 - val_loss: 0.3709 - val_accuracy: 0.7162\n",
      "Epoch 19/20\n",
      "149/149 [==============================] - 0s 2ms/step - loss: 0.3652 - accuracy: 0.7150 - val_loss: 0.3720 - val_accuracy: 0.7236\n",
      "Epoch 20/20\n",
      "149/149 [==============================] - 0s 2ms/step - loss: 0.3696 - accuracy: 0.7147 - val_loss: 0.3808 - val_accuracy: 0.6907\n",
      "21/21 [==============================] - 0s 1ms/step\n"
     ]
    },
    {
     "name": "stderr",
     "output_type": "stream",
     "text": [
      "WARNING:absl:Found untraced functions such as _update_step_xla while saving (showing 1 of 1). These functions will not be directly callable after loading.\n"
     ]
    },
    {
     "name": "stdout",
     "output_type": "stream",
     "text": [
      "INFO:tensorflow:Assets written to: C:\\Users\\jmbar\\AppData\\Local\\Temp\\tmpp1276_43\\assets\n"
     ]
    },
    {
     "name": "stderr",
     "output_type": "stream",
     "text": [
      "INFO:tensorflow:Assets written to: C:\\Users\\jmbar\\AppData\\Local\\Temp\\tmpp1276_43\\assets\n"
     ]
    },
    {
     "name": "stdout",
     "output_type": "stream",
     "text": [
      "Epoch 1/20\n",
      "149/149 [==============================] - 1s 4ms/step - loss: 0.6646 - accuracy: 0.8589 - val_loss: 0.4807 - val_accuracy: 0.7357\n",
      "Epoch 2/20\n",
      "149/149 [==============================] - 0s 2ms/step - loss: 0.4857 - accuracy: 0.7243 - val_loss: 0.4649 - val_accuracy: 0.7034\n",
      "Epoch 3/20\n",
      "149/149 [==============================] - 0s 2ms/step - loss: 0.4672 - accuracy: 0.7144 - val_loss: 0.4234 - val_accuracy: 0.7115\n",
      "Epoch 4/20\n",
      "149/149 [==============================] - 0s 2ms/step - loss: 0.4365 - accuracy: 0.7145 - val_loss: 0.4059 - val_accuracy: 0.7337\n",
      "Epoch 5/20\n",
      "149/149 [==============================] - 0s 2ms/step - loss: 0.4203 - accuracy: 0.7209 - val_loss: 0.3830 - val_accuracy: 0.7176\n",
      "Epoch 6/20\n",
      "149/149 [==============================] - 0s 3ms/step - loss: 0.4156 - accuracy: 0.7184 - val_loss: 0.3756 - val_accuracy: 0.7209\n",
      "Epoch 7/20\n",
      "149/149 [==============================] - 0s 2ms/step - loss: 0.3946 - accuracy: 0.7214 - val_loss: 0.3798 - val_accuracy: 0.7202\n",
      "Epoch 8/20\n",
      "149/149 [==============================] - 0s 2ms/step - loss: 0.3996 - accuracy: 0.7233 - val_loss: 0.3906 - val_accuracy: 0.7075\n",
      "Epoch 9/20\n",
      "149/149 [==============================] - 0s 3ms/step - loss: 0.3829 - accuracy: 0.7202 - val_loss: 0.4058 - val_accuracy: 0.7236\n",
      "Epoch 10/20\n",
      "149/149 [==============================] - 0s 3ms/step - loss: 0.3782 - accuracy: 0.7159 - val_loss: 0.3786 - val_accuracy: 0.7451\n",
      "Epoch 11/20\n",
      "149/149 [==============================] - 0s 3ms/step - loss: 0.3802 - accuracy: 0.7249 - val_loss: 0.3672 - val_accuracy: 0.7243\n",
      "Epoch 12/20\n",
      "149/149 [==============================] - 0s 3ms/step - loss: 0.3699 - accuracy: 0.7162 - val_loss: 0.3603 - val_accuracy: 0.7330\n",
      "Epoch 13/20\n",
      "149/149 [==============================] - 0s 3ms/step - loss: 0.3713 - accuracy: 0.7206 - val_loss: 0.3736 - val_accuracy: 0.6947\n",
      "Epoch 14/20\n",
      "149/149 [==============================] - 0s 3ms/step - loss: 0.3763 - accuracy: 0.7162 - val_loss: 0.3677 - val_accuracy: 0.7155\n",
      "Epoch 15/20\n",
      "149/149 [==============================] - 0s 2ms/step - loss: 0.3664 - accuracy: 0.7201 - val_loss: 0.3643 - val_accuracy: 0.7229\n",
      "Epoch 16/20\n",
      "149/149 [==============================] - 0s 3ms/step - loss: 0.3618 - accuracy: 0.7191 - val_loss: 0.3480 - val_accuracy: 0.7344\n",
      "Epoch 17/20\n",
      "149/149 [==============================] - 0s 2ms/step - loss: 0.3688 - accuracy: 0.7165 - val_loss: 0.3565 - val_accuracy: 0.7303\n",
      "Epoch 18/20\n",
      "149/149 [==============================] - 0s 3ms/step - loss: 0.3570 - accuracy: 0.7160 - val_loss: 0.3531 - val_accuracy: 0.7229\n",
      "Epoch 19/20\n",
      "149/149 [==============================] - 0s 3ms/step - loss: 0.3643 - accuracy: 0.7202 - val_loss: 0.3919 - val_accuracy: 0.7088\n",
      "Epoch 20/20\n",
      "149/149 [==============================] - 0s 3ms/step - loss: 0.3593 - accuracy: 0.7192 - val_loss: 0.3552 - val_accuracy: 0.7377\n",
      "21/21 [==============================] - 0s 2ms/step\n"
     ]
    },
    {
     "name": "stderr",
     "output_type": "stream",
     "text": [
      "WARNING:absl:Found untraced functions such as _update_step_xla while saving (showing 1 of 1). These functions will not be directly callable after loading.\n"
     ]
    },
    {
     "name": "stdout",
     "output_type": "stream",
     "text": [
      "INFO:tensorflow:Assets written to: C:\\Users\\jmbar\\AppData\\Local\\Temp\\tmp59fqnn7b\\assets\n"
     ]
    },
    {
     "name": "stderr",
     "output_type": "stream",
     "text": [
      "INFO:tensorflow:Assets written to: C:\\Users\\jmbar\\AppData\\Local\\Temp\\tmp59fqnn7b\\assets\n"
     ]
    },
    {
     "name": "stdout",
     "output_type": "stream",
     "text": [
      "Epoch 1/20\n",
      "149/149 [==============================] - 1s 4ms/step - loss: 0.6733 - accuracy: 0.8695 - val_loss: 0.4591 - val_accuracy: 0.7352\n",
      "Epoch 2/20\n",
      "149/149 [==============================] - 0s 2ms/step - loss: 0.4567 - accuracy: 0.7170 - val_loss: 0.5105 - val_accuracy: 0.6788\n",
      "Epoch 3/20\n",
      "149/149 [==============================] - 0s 2ms/step - loss: 0.4281 - accuracy: 0.7199 - val_loss: 0.4278 - val_accuracy: 0.6969\n",
      "Epoch 4/20\n",
      "149/149 [==============================] - 0s 3ms/step - loss: 0.4092 - accuracy: 0.7204 - val_loss: 0.3932 - val_accuracy: 0.7272\n",
      "Epoch 5/20\n",
      "149/149 [==============================] - 0s 3ms/step - loss: 0.3926 - accuracy: 0.7249 - val_loss: 0.3832 - val_accuracy: 0.7392\n",
      "Epoch 6/20\n",
      "149/149 [==============================] - 0s 2ms/step - loss: 0.3875 - accuracy: 0.7251 - val_loss: 0.3770 - val_accuracy: 0.7298\n",
      "Epoch 7/20\n",
      "149/149 [==============================] - 0s 3ms/step - loss: 0.3911 - accuracy: 0.7229 - val_loss: 0.3771 - val_accuracy: 0.7171\n",
      "Epoch 8/20\n",
      "149/149 [==============================] - 0s 3ms/step - loss: 0.3911 - accuracy: 0.7214 - val_loss: 0.3831 - val_accuracy: 0.7184\n",
      "Epoch 9/20\n",
      "149/149 [==============================] - 0s 3ms/step - loss: 0.3772 - accuracy: 0.7241 - val_loss: 0.3717 - val_accuracy: 0.7339\n",
      "Epoch 10/20\n",
      "149/149 [==============================] - 0s 2ms/step - loss: 0.3848 - accuracy: 0.7255 - val_loss: 0.3972 - val_accuracy: 0.7124\n",
      "Epoch 11/20\n",
      "149/149 [==============================] - 0s 2ms/step - loss: 0.3731 - accuracy: 0.7256 - val_loss: 0.3802 - val_accuracy: 0.7177\n",
      "Epoch 12/20\n",
      "149/149 [==============================] - 0s 2ms/step - loss: 0.3801 - accuracy: 0.7244 - val_loss: 0.3943 - val_accuracy: 0.7312\n",
      "Epoch 13/20\n",
      "149/149 [==============================] - 0s 3ms/step - loss: 0.3791 - accuracy: 0.7229 - val_loss: 0.3758 - val_accuracy: 0.7507\n",
      "Epoch 14/20\n",
      "149/149 [==============================] - 0s 3ms/step - loss: 0.3668 - accuracy: 0.7249 - val_loss: 0.3671 - val_accuracy: 0.7292\n",
      "Epoch 15/20\n",
      "149/149 [==============================] - 0s 3ms/step - loss: 0.3617 - accuracy: 0.7231 - val_loss: 0.3673 - val_accuracy: 0.7191\n",
      "Epoch 16/20\n",
      "149/149 [==============================] - 0s 3ms/step - loss: 0.3656 - accuracy: 0.7241 - val_loss: 0.3650 - val_accuracy: 0.7198\n",
      "Epoch 17/20\n",
      "149/149 [==============================] - 0s 2ms/step - loss: 0.3580 - accuracy: 0.7239 - val_loss: 0.3678 - val_accuracy: 0.7379\n",
      "Epoch 18/20\n",
      "149/149 [==============================] - 0s 3ms/step - loss: 0.3701 - accuracy: 0.7228 - val_loss: 0.3653 - val_accuracy: 0.7211\n",
      "Epoch 19/20\n",
      "149/149 [==============================] - 0s 3ms/step - loss: 0.3617 - accuracy: 0.7241 - val_loss: 0.3632 - val_accuracy: 0.7144\n",
      "Epoch 20/20\n",
      "149/149 [==============================] - 0s 2ms/step - loss: 0.3579 - accuracy: 0.7234 - val_loss: 0.3674 - val_accuracy: 0.7426\n",
      "21/21 [==============================] - 0s 1ms/step\n"
     ]
    },
    {
     "name": "stderr",
     "output_type": "stream",
     "text": [
      "WARNING:absl:Found untraced functions such as _update_step_xla while saving (showing 1 of 1). These functions will not be directly callable after loading.\n"
     ]
    },
    {
     "name": "stdout",
     "output_type": "stream",
     "text": [
      "INFO:tensorflow:Assets written to: C:\\Users\\jmbar\\AppData\\Local\\Temp\\tmptwv_w8py\\assets\n"
     ]
    },
    {
     "name": "stderr",
     "output_type": "stream",
     "text": [
      "INFO:tensorflow:Assets written to: C:\\Users\\jmbar\\AppData\\Local\\Temp\\tmptwv_w8py\\assets\n"
     ]
    },
    {
     "name": "stdout",
     "output_type": "stream",
     "text": [
      "WARNING:tensorflow:Detecting that an object or model or tf.train.Checkpoint is being deleted with unrestored values. See the following logs for the specific values in question. To silence these warnings, use `status.expect_partial()`. See https://www.tensorflow.org/api_docs/python/tf/train/Checkpoint#restorefor details about the status object returned by the restore function.\n"
     ]
    },
    {
     "name": "stderr",
     "output_type": "stream",
     "text": [
      "WARNING:tensorflow:Detecting that an object or model or tf.train.Checkpoint is being deleted with unrestored values. See the following logs for the specific values in question. To silence these warnings, use `status.expect_partial()`. See https://www.tensorflow.org/api_docs/python/tf/train/Checkpoint#restorefor details about the status object returned by the restore function.\n"
     ]
    },
    {
     "name": "stdout",
     "output_type": "stream",
     "text": [
      "WARNING:tensorflow:Value in checkpoint could not be found in the restored object: (root).keras_api.metrics.0.total\n"
     ]
    },
    {
     "name": "stderr",
     "output_type": "stream",
     "text": [
      "WARNING:tensorflow:Value in checkpoint could not be found in the restored object: (root).keras_api.metrics.0.total\n"
     ]
    },
    {
     "name": "stdout",
     "output_type": "stream",
     "text": [
      "WARNING:tensorflow:Value in checkpoint could not be found in the restored object: (root).keras_api.metrics.0.count\n"
     ]
    },
    {
     "name": "stderr",
     "output_type": "stream",
     "text": [
      "WARNING:tensorflow:Value in checkpoint could not be found in the restored object: (root).keras_api.metrics.0.count\n"
     ]
    },
    {
     "name": "stdout",
     "output_type": "stream",
     "text": [
      "WARNING:tensorflow:Value in checkpoint could not be found in the restored object: (root).keras_api.metrics.1.total\n"
     ]
    },
    {
     "name": "stderr",
     "output_type": "stream",
     "text": [
      "WARNING:tensorflow:Value in checkpoint could not be found in the restored object: (root).keras_api.metrics.1.total\n"
     ]
    },
    {
     "name": "stdout",
     "output_type": "stream",
     "text": [
      "WARNING:tensorflow:Value in checkpoint could not be found in the restored object: (root).keras_api.metrics.1.count\n"
     ]
    },
    {
     "name": "stderr",
     "output_type": "stream",
     "text": [
      "WARNING:tensorflow:Value in checkpoint could not be found in the restored object: (root).keras_api.metrics.1.count\n"
     ]
    },
    {
     "name": "stdout",
     "output_type": "stream",
     "text": [
      "WARNING:tensorflow:Detecting that an object or model or tf.train.Checkpoint is being deleted with unrestored values. See the following logs for the specific values in question. To silence these warnings, use `status.expect_partial()`. See https://www.tensorflow.org/api_docs/python/tf/train/Checkpoint#restorefor details about the status object returned by the restore function.\n"
     ]
    },
    {
     "name": "stderr",
     "output_type": "stream",
     "text": [
      "WARNING:tensorflow:Detecting that an object or model or tf.train.Checkpoint is being deleted with unrestored values. See the following logs for the specific values in question. To silence these warnings, use `status.expect_partial()`. See https://www.tensorflow.org/api_docs/python/tf/train/Checkpoint#restorefor details about the status object returned by the restore function.\n"
     ]
    },
    {
     "name": "stdout",
     "output_type": "stream",
     "text": [
      "WARNING:tensorflow:Value in checkpoint could not be found in the restored object: (root).keras_api.metrics.0.total\n"
     ]
    },
    {
     "name": "stderr",
     "output_type": "stream",
     "text": [
      "WARNING:tensorflow:Value in checkpoint could not be found in the restored object: (root).keras_api.metrics.0.total\n"
     ]
    },
    {
     "name": "stdout",
     "output_type": "stream",
     "text": [
      "WARNING:tensorflow:Value in checkpoint could not be found in the restored object: (root).keras_api.metrics.0.count\n"
     ]
    },
    {
     "name": "stderr",
     "output_type": "stream",
     "text": [
      "WARNING:tensorflow:Value in checkpoint could not be found in the restored object: (root).keras_api.metrics.0.count\n"
     ]
    },
    {
     "name": "stdout",
     "output_type": "stream",
     "text": [
      "WARNING:tensorflow:Value in checkpoint could not be found in the restored object: (root).keras_api.metrics.1.total\n"
     ]
    },
    {
     "name": "stderr",
     "output_type": "stream",
     "text": [
      "WARNING:tensorflow:Value in checkpoint could not be found in the restored object: (root).keras_api.metrics.1.total\n"
     ]
    },
    {
     "name": "stdout",
     "output_type": "stream",
     "text": [
      "WARNING:tensorflow:Value in checkpoint could not be found in the restored object: (root).keras_api.metrics.1.count\n"
     ]
    },
    {
     "name": "stderr",
     "output_type": "stream",
     "text": [
      "WARNING:tensorflow:Value in checkpoint could not be found in the restored object: (root).keras_api.metrics.1.count\n"
     ]
    },
    {
     "name": "stdout",
     "output_type": "stream",
     "text": [
      "WARNING:tensorflow:Detecting that an object or model or tf.train.Checkpoint is being deleted with unrestored values. See the following logs for the specific values in question. To silence these warnings, use `status.expect_partial()`. See https://www.tensorflow.org/api_docs/python/tf/train/Checkpoint#restorefor details about the status object returned by the restore function.\n"
     ]
    },
    {
     "name": "stderr",
     "output_type": "stream",
     "text": [
      "WARNING:tensorflow:Detecting that an object or model or tf.train.Checkpoint is being deleted with unrestored values. See the following logs for the specific values in question. To silence these warnings, use `status.expect_partial()`. See https://www.tensorflow.org/api_docs/python/tf/train/Checkpoint#restorefor details about the status object returned by the restore function.\n"
     ]
    },
    {
     "name": "stdout",
     "output_type": "stream",
     "text": [
      "WARNING:tensorflow:Value in checkpoint could not be found in the restored object: (root).keras_api.metrics.0.total\n"
     ]
    },
    {
     "name": "stderr",
     "output_type": "stream",
     "text": [
      "WARNING:tensorflow:Value in checkpoint could not be found in the restored object: (root).keras_api.metrics.0.total\n"
     ]
    },
    {
     "name": "stdout",
     "output_type": "stream",
     "text": [
      "WARNING:tensorflow:Value in checkpoint could not be found in the restored object: (root).keras_api.metrics.0.count\n"
     ]
    },
    {
     "name": "stderr",
     "output_type": "stream",
     "text": [
      "WARNING:tensorflow:Value in checkpoint could not be found in the restored object: (root).keras_api.metrics.0.count\n"
     ]
    },
    {
     "name": "stdout",
     "output_type": "stream",
     "text": [
      "WARNING:tensorflow:Value in checkpoint could not be found in the restored object: (root).keras_api.metrics.1.total\n"
     ]
    },
    {
     "name": "stderr",
     "output_type": "stream",
     "text": [
      "WARNING:tensorflow:Value in checkpoint could not be found in the restored object: (root).keras_api.metrics.1.total\n"
     ]
    },
    {
     "name": "stdout",
     "output_type": "stream",
     "text": [
      "WARNING:tensorflow:Value in checkpoint could not be found in the restored object: (root).keras_api.metrics.1.count\n"
     ]
    },
    {
     "name": "stderr",
     "output_type": "stream",
     "text": [
      "WARNING:tensorflow:Value in checkpoint could not be found in the restored object: (root).keras_api.metrics.1.count\n"
     ]
    },
    {
     "name": "stdout",
     "output_type": "stream",
     "text": [
      "WARNING:tensorflow:Detecting that an object or model or tf.train.Checkpoint is being deleted with unrestored values. See the following logs for the specific values in question. To silence these warnings, use `status.expect_partial()`. See https://www.tensorflow.org/api_docs/python/tf/train/Checkpoint#restorefor details about the status object returned by the restore function.\n"
     ]
    },
    {
     "name": "stderr",
     "output_type": "stream",
     "text": [
      "WARNING:tensorflow:Detecting that an object or model or tf.train.Checkpoint is being deleted with unrestored values. See the following logs for the specific values in question. To silence these warnings, use `status.expect_partial()`. See https://www.tensorflow.org/api_docs/python/tf/train/Checkpoint#restorefor details about the status object returned by the restore function.\n"
     ]
    },
    {
     "name": "stdout",
     "output_type": "stream",
     "text": [
      "WARNING:tensorflow:Value in checkpoint could not be found in the restored object: (root).keras_api.metrics.0.total\n"
     ]
    },
    {
     "name": "stderr",
     "output_type": "stream",
     "text": [
      "WARNING:tensorflow:Value in checkpoint could not be found in the restored object: (root).keras_api.metrics.0.total\n"
     ]
    },
    {
     "name": "stdout",
     "output_type": "stream",
     "text": [
      "WARNING:tensorflow:Value in checkpoint could not be found in the restored object: (root).keras_api.metrics.0.count\n"
     ]
    },
    {
     "name": "stderr",
     "output_type": "stream",
     "text": [
      "WARNING:tensorflow:Value in checkpoint could not be found in the restored object: (root).keras_api.metrics.0.count\n"
     ]
    },
    {
     "name": "stdout",
     "output_type": "stream",
     "text": [
      "WARNING:tensorflow:Value in checkpoint could not be found in the restored object: (root).keras_api.metrics.1.total\n"
     ]
    },
    {
     "name": "stderr",
     "output_type": "stream",
     "text": [
      "WARNING:tensorflow:Value in checkpoint could not be found in the restored object: (root).keras_api.metrics.1.total\n"
     ]
    },
    {
     "name": "stdout",
     "output_type": "stream",
     "text": [
      "WARNING:tensorflow:Value in checkpoint could not be found in the restored object: (root).keras_api.metrics.1.count\n"
     ]
    },
    {
     "name": "stderr",
     "output_type": "stream",
     "text": [
      "WARNING:tensorflow:Value in checkpoint could not be found in the restored object: (root).keras_api.metrics.1.count\n"
     ]
    },
    {
     "name": "stdout",
     "output_type": "stream",
     "text": [
      "Epoch 1/20\n",
      "149/149 [==============================] - 1s 4ms/step - loss: 0.6538 - accuracy: 0.8478 - val_loss: 0.4928 - val_accuracy: 0.7251\n",
      "Epoch 2/20\n",
      "149/149 [==============================] - 0s 2ms/step - loss: 0.4849 - accuracy: 0.7243 - val_loss: 0.4552 - val_accuracy: 0.7171\n",
      "Epoch 3/20\n",
      "149/149 [==============================] - 0s 2ms/step - loss: 0.4702 - accuracy: 0.7170 - val_loss: 0.4521 - val_accuracy: 0.6935\n",
      "Epoch 4/20\n",
      "149/149 [==============================] - 0s 2ms/step - loss: 0.4357 - accuracy: 0.7130 - val_loss: 0.4184 - val_accuracy: 0.7164\n",
      "Epoch 5/20\n",
      "149/149 [==============================] - 0s 2ms/step - loss: 0.4178 - accuracy: 0.7192 - val_loss: 0.4181 - val_accuracy: 0.7218\n",
      "Epoch 6/20\n",
      "149/149 [==============================] - 0s 2ms/step - loss: 0.4171 - accuracy: 0.7209 - val_loss: 0.4038 - val_accuracy: 0.7124\n",
      "Epoch 7/20\n",
      "149/149 [==============================] - 0s 2ms/step - loss: 0.4031 - accuracy: 0.7181 - val_loss: 0.3964 - val_accuracy: 0.7218\n",
      "Epoch 8/20\n",
      "149/149 [==============================] - 0s 2ms/step - loss: 0.3974 - accuracy: 0.7170 - val_loss: 0.4095 - val_accuracy: 0.7164\n",
      "Epoch 9/20\n",
      "149/149 [==============================] - 0s 2ms/step - loss: 0.3940 - accuracy: 0.7162 - val_loss: 0.4001 - val_accuracy: 0.7036\n",
      "Epoch 10/20\n",
      "149/149 [==============================] - 0s 2ms/step - loss: 0.3924 - accuracy: 0.7132 - val_loss: 0.3949 - val_accuracy: 0.7231\n",
      "Epoch 11/20\n",
      "149/149 [==============================] - 0s 2ms/step - loss: 0.3849 - accuracy: 0.7157 - val_loss: 0.4105 - val_accuracy: 0.6808\n",
      "Epoch 12/20\n",
      "149/149 [==============================] - 0s 2ms/step - loss: 0.3929 - accuracy: 0.7097 - val_loss: 0.4024 - val_accuracy: 0.7224\n",
      "Epoch 13/20\n",
      "149/149 [==============================] - 0s 2ms/step - loss: 0.3805 - accuracy: 0.7075 - val_loss: 0.4226 - val_accuracy: 0.7440\n",
      "Epoch 14/20\n",
      "149/149 [==============================] - 0s 2ms/step - loss: 0.3878 - accuracy: 0.7120 - val_loss: 0.3948 - val_accuracy: 0.7332\n",
      "Epoch 15/20\n",
      "149/149 [==============================] - 0s 2ms/step - loss: 0.3831 - accuracy: 0.7123 - val_loss: 0.4156 - val_accuracy: 0.7419\n",
      "Epoch 16/20\n",
      "149/149 [==============================] - 0s 2ms/step - loss: 0.3856 - accuracy: 0.7132 - val_loss: 0.4020 - val_accuracy: 0.6794\n",
      "Epoch 17/20\n",
      "149/149 [==============================] - 0s 2ms/step - loss: 0.3839 - accuracy: 0.7123 - val_loss: 0.3895 - val_accuracy: 0.7184\n",
      "Epoch 18/20\n",
      "149/149 [==============================] - 0s 2ms/step - loss: 0.3880 - accuracy: 0.7127 - val_loss: 0.3993 - val_accuracy: 0.7319\n",
      "Epoch 19/20\n",
      "149/149 [==============================] - 0s 2ms/step - loss: 0.3812 - accuracy: 0.7144 - val_loss: 0.3895 - val_accuracy: 0.6976\n",
      "Epoch 20/20\n",
      "149/149 [==============================] - 0s 3ms/step - loss: 0.3820 - accuracy: 0.7110 - val_loss: 0.3973 - val_accuracy: 0.7110\n",
      "21/21 [==============================] - 0s 1ms/step\n"
     ]
    },
    {
     "name": "stderr",
     "output_type": "stream",
     "text": [
      "WARNING:absl:Found untraced functions such as _update_step_xla while saving (showing 1 of 1). These functions will not be directly callable after loading.\n"
     ]
    },
    {
     "name": "stdout",
     "output_type": "stream",
     "text": [
      "INFO:tensorflow:Assets written to: C:\\Users\\jmbar\\AppData\\Local\\Temp\\tmp_nkamlo0\\assets\n"
     ]
    },
    {
     "name": "stderr",
     "output_type": "stream",
     "text": [
      "INFO:tensorflow:Assets written to: C:\\Users\\jmbar\\AppData\\Local\\Temp\\tmp_nkamlo0\\assets\n"
     ]
    },
    {
     "name": "stdout",
     "output_type": "stream",
     "text": [
      "Epoch 1/20\n",
      "149/149 [==============================] - 1s 4ms/step - loss: 0.6531 - accuracy: 0.8510 - val_loss: 0.4756 - val_accuracy: 0.7366\n",
      "Epoch 2/20\n",
      "149/149 [==============================] - 0s 2ms/step - loss: 0.4619 - accuracy: 0.7207 - val_loss: 0.4240 - val_accuracy: 0.7204\n",
      "Epoch 3/20\n",
      "149/149 [==============================] - 0s 2ms/step - loss: 0.4341 - accuracy: 0.7199 - val_loss: 0.3999 - val_accuracy: 0.7218\n",
      "Epoch 4/20\n",
      "149/149 [==============================] - 0s 2ms/step - loss: 0.4212 - accuracy: 0.7229 - val_loss: 0.4073 - val_accuracy: 0.7056\n",
      "Epoch 5/20\n",
      "149/149 [==============================] - 0s 2ms/step - loss: 0.4102 - accuracy: 0.7196 - val_loss: 0.4182 - val_accuracy: 0.7487\n",
      "Epoch 6/20\n",
      "149/149 [==============================] - 0s 2ms/step - loss: 0.3995 - accuracy: 0.7179 - val_loss: 0.3899 - val_accuracy: 0.7392\n",
      "Epoch 7/20\n",
      "149/149 [==============================] - 0s 3ms/step - loss: 0.3954 - accuracy: 0.7213 - val_loss: 0.3946 - val_accuracy: 0.7285\n",
      "Epoch 8/20\n",
      "149/149 [==============================] - 0s 2ms/step - loss: 0.3921 - accuracy: 0.7218 - val_loss: 0.3775 - val_accuracy: 0.7191\n",
      "Epoch 9/20\n",
      "149/149 [==============================] - 0s 2ms/step - loss: 0.3935 - accuracy: 0.7189 - val_loss: 0.3781 - val_accuracy: 0.7083\n",
      "Epoch 10/20\n",
      "149/149 [==============================] - 0s 2ms/step - loss: 0.3853 - accuracy: 0.7186 - val_loss: 0.3748 - val_accuracy: 0.7171\n",
      "Epoch 11/20\n",
      "149/149 [==============================] - 0s 2ms/step - loss: 0.3813 - accuracy: 0.7157 - val_loss: 0.3658 - val_accuracy: 0.7204\n",
      "Epoch 12/20\n",
      "149/149 [==============================] - 0s 2ms/step - loss: 0.3907 - accuracy: 0.7150 - val_loss: 0.3747 - val_accuracy: 0.7231\n",
      "Epoch 13/20\n",
      "149/149 [==============================] - 0s 2ms/step - loss: 0.3799 - accuracy: 0.7191 - val_loss: 0.3729 - val_accuracy: 0.6983\n",
      "Epoch 14/20\n",
      "149/149 [==============================] - 0s 2ms/step - loss: 0.3765 - accuracy: 0.7162 - val_loss: 0.3666 - val_accuracy: 0.7157\n",
      "Epoch 15/20\n",
      "149/149 [==============================] - 0s 2ms/step - loss: 0.3789 - accuracy: 0.7179 - val_loss: 0.3815 - val_accuracy: 0.7117\n",
      "Epoch 16/20\n",
      "149/149 [==============================] - 0s 2ms/step - loss: 0.3718 - accuracy: 0.7214 - val_loss: 0.3650 - val_accuracy: 0.7265\n",
      "Epoch 17/20\n",
      "149/149 [==============================] - 0s 2ms/step - loss: 0.3675 - accuracy: 0.7194 - val_loss: 0.3670 - val_accuracy: 0.7211\n",
      "Epoch 18/20\n",
      "149/149 [==============================] - 0s 2ms/step - loss: 0.3695 - accuracy: 0.7201 - val_loss: 0.3534 - val_accuracy: 0.7157\n",
      "Epoch 19/20\n",
      "149/149 [==============================] - 0s 2ms/step - loss: 0.3660 - accuracy: 0.7182 - val_loss: 0.3886 - val_accuracy: 0.7110\n",
      "Epoch 20/20\n",
      "149/149 [==============================] - 0s 2ms/step - loss: 0.3662 - accuracy: 0.7211 - val_loss: 0.3523 - val_accuracy: 0.7238\n",
      "21/21 [==============================] - 0s 1ms/step\n"
     ]
    },
    {
     "name": "stderr",
     "output_type": "stream",
     "text": [
      "WARNING:absl:Found untraced functions such as _update_step_xla while saving (showing 1 of 1). These functions will not be directly callable after loading.\n"
     ]
    },
    {
     "name": "stdout",
     "output_type": "stream",
     "text": [
      "INFO:tensorflow:Assets written to: C:\\Users\\jmbar\\AppData\\Local\\Temp\\tmpfznuw8qn\\assets\n"
     ]
    },
    {
     "name": "stderr",
     "output_type": "stream",
     "text": [
      "INFO:tensorflow:Assets written to: C:\\Users\\jmbar\\AppData\\Local\\Temp\\tmpfznuw8qn\\assets\n"
     ]
    },
    {
     "name": "stdout",
     "output_type": "stream",
     "text": [
      "Epoch 1/20\n",
      "149/149 [==============================] - 1s 4ms/step - loss: 0.6617 - accuracy: 0.8566 - val_loss: 0.4657 - val_accuracy: 0.7070\n",
      "Epoch 2/20\n",
      "149/149 [==============================] - 0s 2ms/step - loss: 0.4690 - accuracy: 0.7209 - val_loss: 0.4624 - val_accuracy: 0.6821\n",
      "Epoch 3/20\n",
      "149/149 [==============================] - 0s 2ms/step - loss: 0.4426 - accuracy: 0.7187 - val_loss: 0.4048 - val_accuracy: 0.7103\n",
      "Epoch 4/20\n",
      "149/149 [==============================] - 0s 2ms/step - loss: 0.4183 - accuracy: 0.7211 - val_loss: 0.4040 - val_accuracy: 0.7130\n",
      "Epoch 5/20\n",
      "149/149 [==============================] - 0s 2ms/step - loss: 0.4181 - accuracy: 0.7201 - val_loss: 0.3931 - val_accuracy: 0.7319\n",
      "Epoch 6/20\n",
      "149/149 [==============================] - 0s 2ms/step - loss: 0.4036 - accuracy: 0.7197 - val_loss: 0.3935 - val_accuracy: 0.7272\n",
      "Epoch 7/20\n",
      "149/149 [==============================] - 0s 2ms/step - loss: 0.4008 - accuracy: 0.7213 - val_loss: 0.3985 - val_accuracy: 0.7151\n",
      "Epoch 8/20\n",
      "149/149 [==============================] - 0s 2ms/step - loss: 0.3968 - accuracy: 0.7226 - val_loss: 0.4094 - val_accuracy: 0.7003\n",
      "Epoch 9/20\n",
      "149/149 [==============================] - 0s 2ms/step - loss: 0.3940 - accuracy: 0.7182 - val_loss: 0.4197 - val_accuracy: 0.6962\n",
      "Epoch 10/20\n",
      "149/149 [==============================] - 0s 2ms/step - loss: 0.3898 - accuracy: 0.7209 - val_loss: 0.3764 - val_accuracy: 0.7157\n",
      "Epoch 11/20\n",
      "149/149 [==============================] - 0s 2ms/step - loss: 0.3869 - accuracy: 0.7199 - val_loss: 0.3823 - val_accuracy: 0.7191\n",
      "Epoch 12/20\n",
      "149/149 [==============================] - 0s 2ms/step - loss: 0.3873 - accuracy: 0.7202 - val_loss: 0.3807 - val_accuracy: 0.7036\n",
      "Epoch 13/20\n",
      "149/149 [==============================] - 0s 2ms/step - loss: 0.3873 - accuracy: 0.7201 - val_loss: 0.4056 - val_accuracy: 0.7110\n",
      "Epoch 14/20\n",
      "149/149 [==============================] - 0s 2ms/step - loss: 0.3888 - accuracy: 0.7213 - val_loss: 0.3819 - val_accuracy: 0.7137\n",
      "Epoch 15/20\n",
      "149/149 [==============================] - 0s 2ms/step - loss: 0.3823 - accuracy: 0.7219 - val_loss: 0.4065 - val_accuracy: 0.7137\n",
      "Epoch 16/20\n",
      "149/149 [==============================] - 0s 2ms/step - loss: 0.3845 - accuracy: 0.7149 - val_loss: 0.3961 - val_accuracy: 0.7386\n",
      "Epoch 17/20\n",
      "149/149 [==============================] - 0s 2ms/step - loss: 0.3825 - accuracy: 0.7233 - val_loss: 0.3783 - val_accuracy: 0.7070\n",
      "Epoch 18/20\n",
      "149/149 [==============================] - 0s 2ms/step - loss: 0.3798 - accuracy: 0.7137 - val_loss: 0.4209 - val_accuracy: 0.6949\n",
      "Epoch 19/20\n",
      "149/149 [==============================] - 0s 2ms/step - loss: 0.3750 - accuracy: 0.7152 - val_loss: 0.3715 - val_accuracy: 0.7164\n",
      "Epoch 20/20\n",
      "149/149 [==============================] - 0s 2ms/step - loss: 0.3794 - accuracy: 0.7179 - val_loss: 0.3830 - val_accuracy: 0.6989\n",
      "21/21 [==============================] - 0s 1ms/step\n"
     ]
    },
    {
     "name": "stderr",
     "output_type": "stream",
     "text": [
      "WARNING:absl:Found untraced functions such as _update_step_xla while saving (showing 1 of 1). These functions will not be directly callable after loading.\n"
     ]
    },
    {
     "name": "stdout",
     "output_type": "stream",
     "text": [
      "INFO:tensorflow:Assets written to: C:\\Users\\jmbar\\AppData\\Local\\Temp\\tmpcakplt35\\assets\n"
     ]
    },
    {
     "name": "stderr",
     "output_type": "stream",
     "text": [
      "INFO:tensorflow:Assets written to: C:\\Users\\jmbar\\AppData\\Local\\Temp\\tmpcakplt35\\assets\n"
     ]
    },
    {
     "name": "stdout",
     "output_type": "stream",
     "text": [
      "Epoch 1/20\n",
      "149/149 [==============================] - 2s 5ms/step - loss: 0.6391 - accuracy: 0.8438 - val_loss: 0.5304 - val_accuracy: 0.6788\n",
      "Epoch 2/20\n",
      "149/149 [==============================] - 0s 2ms/step - loss: 0.4855 - accuracy: 0.7184 - val_loss: 0.4441 - val_accuracy: 0.7117\n",
      "Epoch 3/20\n",
      "149/149 [==============================] - 0s 3ms/step - loss: 0.4616 - accuracy: 0.7147 - val_loss: 0.4260 - val_accuracy: 0.7103\n",
      "Epoch 4/20\n",
      "149/149 [==============================] - 0s 3ms/step - loss: 0.4355 - accuracy: 0.7159 - val_loss: 0.4031 - val_accuracy: 0.7258\n",
      "Epoch 5/20\n",
      "149/149 [==============================] - 0s 3ms/step - loss: 0.4157 - accuracy: 0.7218 - val_loss: 0.4160 - val_accuracy: 0.6882\n",
      "Epoch 6/20\n",
      "149/149 [==============================] - 0s 2ms/step - loss: 0.4105 - accuracy: 0.7209 - val_loss: 0.4024 - val_accuracy: 0.7043\n",
      "Epoch 7/20\n",
      "149/149 [==============================] - 0s 3ms/step - loss: 0.4011 - accuracy: 0.7221 - val_loss: 0.3843 - val_accuracy: 0.7426\n",
      "Epoch 8/20\n",
      "149/149 [==============================] - 0s 2ms/step - loss: 0.4015 - accuracy: 0.7170 - val_loss: 0.3816 - val_accuracy: 0.7070\n",
      "Epoch 9/20\n",
      "149/149 [==============================] - 0s 2ms/step - loss: 0.3883 - accuracy: 0.7176 - val_loss: 0.3725 - val_accuracy: 0.7292\n",
      "Epoch 10/20\n",
      "149/149 [==============================] - 0s 2ms/step - loss: 0.3927 - accuracy: 0.7176 - val_loss: 0.3755 - val_accuracy: 0.7265\n",
      "Epoch 11/20\n",
      "149/149 [==============================] - 0s 2ms/step - loss: 0.3842 - accuracy: 0.7197 - val_loss: 0.3765 - val_accuracy: 0.7345\n",
      "Epoch 12/20\n",
      "149/149 [==============================] - 0s 3ms/step - loss: 0.3744 - accuracy: 0.7176 - val_loss: 0.3638 - val_accuracy: 0.7043\n",
      "Epoch 13/20\n",
      "149/149 [==============================] - 0s 3ms/step - loss: 0.3753 - accuracy: 0.7167 - val_loss: 0.3692 - val_accuracy: 0.7090\n",
      "Epoch 14/20\n",
      "149/149 [==============================] - 0s 3ms/step - loss: 0.3717 - accuracy: 0.7192 - val_loss: 0.3660 - val_accuracy: 0.7191\n",
      "Epoch 15/20\n",
      "149/149 [==============================] - 0s 2ms/step - loss: 0.3708 - accuracy: 0.7159 - val_loss: 0.3692 - val_accuracy: 0.7090\n",
      "Epoch 16/20\n",
      "149/149 [==============================] - 0s 2ms/step - loss: 0.3641 - accuracy: 0.7192 - val_loss: 0.3684 - val_accuracy: 0.7265\n",
      "Epoch 17/20\n",
      "149/149 [==============================] - 0s 3ms/step - loss: 0.3641 - accuracy: 0.7170 - val_loss: 0.3838 - val_accuracy: 0.7359\n",
      "Epoch 18/20\n",
      "149/149 [==============================] - 0s 3ms/step - loss: 0.3628 - accuracy: 0.7221 - val_loss: 0.3668 - val_accuracy: 0.7406\n",
      "Epoch 19/20\n",
      "149/149 [==============================] - 0s 3ms/step - loss: 0.3600 - accuracy: 0.7201 - val_loss: 0.3975 - val_accuracy: 0.7520\n",
      "Epoch 20/20\n",
      "149/149 [==============================] - 0s 3ms/step - loss: 0.3592 - accuracy: 0.7162 - val_loss: 0.3641 - val_accuracy: 0.7473\n",
      "21/21 [==============================] - 0s 1ms/step\n"
     ]
    },
    {
     "name": "stderr",
     "output_type": "stream",
     "text": [
      "WARNING:absl:Found untraced functions such as _update_step_xla while saving (showing 1 of 1). These functions will not be directly callable after loading.\n"
     ]
    },
    {
     "name": "stdout",
     "output_type": "stream",
     "text": [
      "INFO:tensorflow:Assets written to: C:\\Users\\jmbar\\AppData\\Local\\Temp\\tmpv03y733p\\assets\n"
     ]
    },
    {
     "name": "stderr",
     "output_type": "stream",
     "text": [
      "INFO:tensorflow:Assets written to: C:\\Users\\jmbar\\AppData\\Local\\Temp\\tmpv03y733p\\assets\n"
     ]
    },
    {
     "name": "stdout",
     "output_type": "stream",
     "text": [
      "Epoch 1/20\n",
      "149/149 [==============================] - 1s 3ms/step - loss: 0.6412 - accuracy: 0.8394 - val_loss: 0.4784 - val_accuracy: 0.7426\n",
      "Epoch 2/20\n",
      "149/149 [==============================] - 0s 2ms/step - loss: 0.4925 - accuracy: 0.7246 - val_loss: 0.4505 - val_accuracy: 0.7063\n",
      "Epoch 3/20\n",
      "149/149 [==============================] - 0s 2ms/step - loss: 0.4591 - accuracy: 0.7145 - val_loss: 0.4505 - val_accuracy: 0.6882\n",
      "Epoch 4/20\n",
      "149/149 [==============================] - 0s 2ms/step - loss: 0.4391 - accuracy: 0.7167 - val_loss: 0.4343 - val_accuracy: 0.7413\n",
      "Epoch 5/20\n",
      "149/149 [==============================] - 0s 2ms/step - loss: 0.4273 - accuracy: 0.7226 - val_loss: 0.3902 - val_accuracy: 0.7251\n",
      "Epoch 6/20\n",
      "149/149 [==============================] - 0s 2ms/step - loss: 0.4112 - accuracy: 0.7223 - val_loss: 0.3921 - val_accuracy: 0.7278\n",
      "Epoch 7/20\n",
      "149/149 [==============================] - 0s 2ms/step - loss: 0.4006 - accuracy: 0.7207 - val_loss: 0.3802 - val_accuracy: 0.7144\n",
      "Epoch 8/20\n",
      "149/149 [==============================] - 0s 2ms/step - loss: 0.4094 - accuracy: 0.7155 - val_loss: 0.3750 - val_accuracy: 0.7191\n",
      "Epoch 9/20\n",
      "149/149 [==============================] - 0s 2ms/step - loss: 0.3940 - accuracy: 0.7186 - val_loss: 0.3914 - val_accuracy: 0.7258\n",
      "Epoch 10/20\n",
      "149/149 [==============================] - 0s 3ms/step - loss: 0.3918 - accuracy: 0.7147 - val_loss: 0.3709 - val_accuracy: 0.7177\n",
      "Epoch 11/20\n",
      "149/149 [==============================] - 0s 2ms/step - loss: 0.3840 - accuracy: 0.7142 - val_loss: 0.3701 - val_accuracy: 0.7171\n",
      "Epoch 12/20\n",
      "149/149 [==============================] - 0s 3ms/step - loss: 0.3789 - accuracy: 0.7170 - val_loss: 0.3693 - val_accuracy: 0.6848\n",
      "Epoch 13/20\n",
      "149/149 [==============================] - 0s 2ms/step - loss: 0.3770 - accuracy: 0.7132 - val_loss: 0.3650 - val_accuracy: 0.6983\n",
      "Epoch 14/20\n",
      "149/149 [==============================] - 0s 2ms/step - loss: 0.3828 - accuracy: 0.7160 - val_loss: 0.3713 - val_accuracy: 0.7433\n",
      "Epoch 15/20\n",
      "149/149 [==============================] - 0s 2ms/step - loss: 0.3709 - accuracy: 0.7117 - val_loss: 0.3567 - val_accuracy: 0.7278\n",
      "Epoch 16/20\n",
      "149/149 [==============================] - 0s 2ms/step - loss: 0.3695 - accuracy: 0.7133 - val_loss: 0.3577 - val_accuracy: 0.7406\n",
      "Epoch 17/20\n",
      "149/149 [==============================] - 0s 3ms/step - loss: 0.3645 - accuracy: 0.7224 - val_loss: 0.3711 - val_accuracy: 0.7164\n",
      "Epoch 18/20\n",
      "149/149 [==============================] - 0s 2ms/step - loss: 0.3649 - accuracy: 0.7179 - val_loss: 0.3537 - val_accuracy: 0.7224\n",
      "Epoch 19/20\n",
      "149/149 [==============================] - 0s 2ms/step - loss: 0.3663 - accuracy: 0.7142 - val_loss: 0.3660 - val_accuracy: 0.6875\n",
      "Epoch 20/20\n",
      "149/149 [==============================] - 0s 2ms/step - loss: 0.3589 - accuracy: 0.7170 - val_loss: 0.3551 - val_accuracy: 0.7050\n",
      "21/21 [==============================] - 0s 1ms/step\n",
      "WARNING:tensorflow:Detecting that an object or model or tf.train.Checkpoint is being deleted with unrestored values. See the following logs for the specific values in question. To silence these warnings, use `status.expect_partial()`. See https://www.tensorflow.org/api_docs/python/tf/train/Checkpoint#restorefor details about the status object returned by the restore function.\n"
     ]
    },
    {
     "name": "stderr",
     "output_type": "stream",
     "text": [
      "WARNING:tensorflow:Detecting that an object or model or tf.train.Checkpoint is being deleted with unrestored values. See the following logs for the specific values in question. To silence these warnings, use `status.expect_partial()`. See https://www.tensorflow.org/api_docs/python/tf/train/Checkpoint#restorefor details about the status object returned by the restore function.\n"
     ]
    },
    {
     "name": "stdout",
     "output_type": "stream",
     "text": [
      "WARNING:tensorflow:Value in checkpoint could not be found in the restored object: (root).keras_api.metrics.0.total\n"
     ]
    },
    {
     "name": "stderr",
     "output_type": "stream",
     "text": [
      "WARNING:tensorflow:Value in checkpoint could not be found in the restored object: (root).keras_api.metrics.0.total\n"
     ]
    },
    {
     "name": "stdout",
     "output_type": "stream",
     "text": [
      "WARNING:tensorflow:Value in checkpoint could not be found in the restored object: (root).keras_api.metrics.0.count\n"
     ]
    },
    {
     "name": "stderr",
     "output_type": "stream",
     "text": [
      "WARNING:tensorflow:Value in checkpoint could not be found in the restored object: (root).keras_api.metrics.0.count\n"
     ]
    },
    {
     "name": "stdout",
     "output_type": "stream",
     "text": [
      "WARNING:tensorflow:Value in checkpoint could not be found in the restored object: (root).keras_api.metrics.1.total\n"
     ]
    },
    {
     "name": "stderr",
     "output_type": "stream",
     "text": [
      "WARNING:tensorflow:Value in checkpoint could not be found in the restored object: (root).keras_api.metrics.1.total\n"
     ]
    },
    {
     "name": "stdout",
     "output_type": "stream",
     "text": [
      "WARNING:tensorflow:Value in checkpoint could not be found in the restored object: (root).keras_api.metrics.1.count\n"
     ]
    },
    {
     "name": "stderr",
     "output_type": "stream",
     "text": [
      "WARNING:tensorflow:Value in checkpoint could not be found in the restored object: (root).keras_api.metrics.1.count\n"
     ]
    },
    {
     "name": "stdout",
     "output_type": "stream",
     "text": [
      "WARNING:tensorflow:Detecting that an object or model or tf.train.Checkpoint is being deleted with unrestored values. See the following logs for the specific values in question. To silence these warnings, use `status.expect_partial()`. See https://www.tensorflow.org/api_docs/python/tf/train/Checkpoint#restorefor details about the status object returned by the restore function.\n"
     ]
    },
    {
     "name": "stderr",
     "output_type": "stream",
     "text": [
      "WARNING:tensorflow:Detecting that an object or model or tf.train.Checkpoint is being deleted with unrestored values. See the following logs for the specific values in question. To silence these warnings, use `status.expect_partial()`. See https://www.tensorflow.org/api_docs/python/tf/train/Checkpoint#restorefor details about the status object returned by the restore function.\n"
     ]
    },
    {
     "name": "stdout",
     "output_type": "stream",
     "text": [
      "WARNING:tensorflow:Value in checkpoint could not be found in the restored object: (root).keras_api.metrics.0.total\n"
     ]
    },
    {
     "name": "stderr",
     "output_type": "stream",
     "text": [
      "WARNING:tensorflow:Value in checkpoint could not be found in the restored object: (root).keras_api.metrics.0.total\n"
     ]
    },
    {
     "name": "stdout",
     "output_type": "stream",
     "text": [
      "WARNING:tensorflow:Value in checkpoint could not be found in the restored object: (root).keras_api.metrics.0.count\n"
     ]
    },
    {
     "name": "stderr",
     "output_type": "stream",
     "text": [
      "WARNING:tensorflow:Value in checkpoint could not be found in the restored object: (root).keras_api.metrics.0.count\n"
     ]
    },
    {
     "name": "stdout",
     "output_type": "stream",
     "text": [
      "WARNING:tensorflow:Value in checkpoint could not be found in the restored object: (root).keras_api.metrics.1.total\n"
     ]
    },
    {
     "name": "stderr",
     "output_type": "stream",
     "text": [
      "WARNING:tensorflow:Value in checkpoint could not be found in the restored object: (root).keras_api.metrics.1.total\n"
     ]
    },
    {
     "name": "stdout",
     "output_type": "stream",
     "text": [
      "WARNING:tensorflow:Value in checkpoint could not be found in the restored object: (root).keras_api.metrics.1.count\n"
     ]
    },
    {
     "name": "stderr",
     "output_type": "stream",
     "text": [
      "WARNING:tensorflow:Value in checkpoint could not be found in the restored object: (root).keras_api.metrics.1.count\n"
     ]
    },
    {
     "name": "stdout",
     "output_type": "stream",
     "text": [
      "WARNING:tensorflow:Detecting that an object or model or tf.train.Checkpoint is being deleted with unrestored values. See the following logs for the specific values in question. To silence these warnings, use `status.expect_partial()`. See https://www.tensorflow.org/api_docs/python/tf/train/Checkpoint#restorefor details about the status object returned by the restore function.\n"
     ]
    },
    {
     "name": "stderr",
     "output_type": "stream",
     "text": [
      "WARNING:tensorflow:Detecting that an object or model or tf.train.Checkpoint is being deleted with unrestored values. See the following logs for the specific values in question. To silence these warnings, use `status.expect_partial()`. See https://www.tensorflow.org/api_docs/python/tf/train/Checkpoint#restorefor details about the status object returned by the restore function.\n"
     ]
    },
    {
     "name": "stdout",
     "output_type": "stream",
     "text": [
      "WARNING:tensorflow:Value in checkpoint could not be found in the restored object: (root).keras_api.metrics.0.total\n"
     ]
    },
    {
     "name": "stderr",
     "output_type": "stream",
     "text": [
      "WARNING:tensorflow:Value in checkpoint could not be found in the restored object: (root).keras_api.metrics.0.total\n"
     ]
    },
    {
     "name": "stdout",
     "output_type": "stream",
     "text": [
      "WARNING:tensorflow:Value in checkpoint could not be found in the restored object: (root).keras_api.metrics.0.count\n"
     ]
    },
    {
     "name": "stderr",
     "output_type": "stream",
     "text": [
      "WARNING:tensorflow:Value in checkpoint could not be found in the restored object: (root).keras_api.metrics.0.count\n"
     ]
    },
    {
     "name": "stdout",
     "output_type": "stream",
     "text": [
      "WARNING:tensorflow:Value in checkpoint could not be found in the restored object: (root).keras_api.metrics.1.total\n"
     ]
    },
    {
     "name": "stderr",
     "output_type": "stream",
     "text": [
      "WARNING:tensorflow:Value in checkpoint could not be found in the restored object: (root).keras_api.metrics.1.total\n"
     ]
    },
    {
     "name": "stdout",
     "output_type": "stream",
     "text": [
      "WARNING:tensorflow:Value in checkpoint could not be found in the restored object: (root).keras_api.metrics.1.count\n"
     ]
    },
    {
     "name": "stderr",
     "output_type": "stream",
     "text": [
      "WARNING:tensorflow:Value in checkpoint could not be found in the restored object: (root).keras_api.metrics.1.count\n"
     ]
    },
    {
     "name": "stdout",
     "output_type": "stream",
     "text": [
      "WARNING:tensorflow:Detecting that an object or model or tf.train.Checkpoint is being deleted with unrestored values. See the following logs for the specific values in question. To silence these warnings, use `status.expect_partial()`. See https://www.tensorflow.org/api_docs/python/tf/train/Checkpoint#restorefor details about the status object returned by the restore function.\n"
     ]
    },
    {
     "name": "stderr",
     "output_type": "stream",
     "text": [
      "WARNING:tensorflow:Detecting that an object or model or tf.train.Checkpoint is being deleted with unrestored values. See the following logs for the specific values in question. To silence these warnings, use `status.expect_partial()`. See https://www.tensorflow.org/api_docs/python/tf/train/Checkpoint#restorefor details about the status object returned by the restore function.\n"
     ]
    },
    {
     "name": "stdout",
     "output_type": "stream",
     "text": [
      "WARNING:tensorflow:Value in checkpoint could not be found in the restored object: (root).keras_api.metrics.0.total\n"
     ]
    },
    {
     "name": "stderr",
     "output_type": "stream",
     "text": [
      "WARNING:tensorflow:Value in checkpoint could not be found in the restored object: (root).keras_api.metrics.0.total\n"
     ]
    },
    {
     "name": "stdout",
     "output_type": "stream",
     "text": [
      "WARNING:tensorflow:Value in checkpoint could not be found in the restored object: (root).keras_api.metrics.0.count\n"
     ]
    },
    {
     "name": "stderr",
     "output_type": "stream",
     "text": [
      "WARNING:tensorflow:Value in checkpoint could not be found in the restored object: (root).keras_api.metrics.0.count\n"
     ]
    },
    {
     "name": "stdout",
     "output_type": "stream",
     "text": [
      "WARNING:tensorflow:Value in checkpoint could not be found in the restored object: (root).keras_api.metrics.1.total\n"
     ]
    },
    {
     "name": "stderr",
     "output_type": "stream",
     "text": [
      "WARNING:tensorflow:Value in checkpoint could not be found in the restored object: (root).keras_api.metrics.1.total\n"
     ]
    },
    {
     "name": "stdout",
     "output_type": "stream",
     "text": [
      "WARNING:tensorflow:Value in checkpoint could not be found in the restored object: (root).keras_api.metrics.1.count\n"
     ]
    },
    {
     "name": "stderr",
     "output_type": "stream",
     "text": [
      "WARNING:tensorflow:Value in checkpoint could not be found in the restored object: (root).keras_api.metrics.1.count\n"
     ]
    },
    {
     "name": "stdout",
     "output_type": "stream",
     "text": [
      "WARNING:tensorflow:Detecting that an object or model or tf.train.Checkpoint is being deleted with unrestored values. See the following logs for the specific values in question. To silence these warnings, use `status.expect_partial()`. See https://www.tensorflow.org/api_docs/python/tf/train/Checkpoint#restorefor details about the status object returned by the restore function.\n"
     ]
    },
    {
     "name": "stderr",
     "output_type": "stream",
     "text": [
      "WARNING:tensorflow:Detecting that an object or model or tf.train.Checkpoint is being deleted with unrestored values. See the following logs for the specific values in question. To silence these warnings, use `status.expect_partial()`. See https://www.tensorflow.org/api_docs/python/tf/train/Checkpoint#restorefor details about the status object returned by the restore function.\n"
     ]
    },
    {
     "name": "stdout",
     "output_type": "stream",
     "text": [
      "WARNING:tensorflow:Value in checkpoint could not be found in the restored object: (root).keras_api.metrics.0.total\n"
     ]
    },
    {
     "name": "stderr",
     "output_type": "stream",
     "text": [
      "WARNING:tensorflow:Value in checkpoint could not be found in the restored object: (root).keras_api.metrics.0.total\n"
     ]
    },
    {
     "name": "stdout",
     "output_type": "stream",
     "text": [
      "WARNING:tensorflow:Value in checkpoint could not be found in the restored object: (root).keras_api.metrics.0.count\n"
     ]
    },
    {
     "name": "stderr",
     "output_type": "stream",
     "text": [
      "WARNING:tensorflow:Value in checkpoint could not be found in the restored object: (root).keras_api.metrics.0.count\n"
     ]
    },
    {
     "name": "stdout",
     "output_type": "stream",
     "text": [
      "WARNING:tensorflow:Value in checkpoint could not be found in the restored object: (root).keras_api.metrics.1.total\n"
     ]
    },
    {
     "name": "stderr",
     "output_type": "stream",
     "text": [
      "WARNING:tensorflow:Value in checkpoint could not be found in the restored object: (root).keras_api.metrics.1.total\n"
     ]
    },
    {
     "name": "stdout",
     "output_type": "stream",
     "text": [
      "WARNING:tensorflow:Value in checkpoint could not be found in the restored object: (root).keras_api.metrics.1.count\n"
     ]
    },
    {
     "name": "stderr",
     "output_type": "stream",
     "text": [
      "WARNING:tensorflow:Value in checkpoint could not be found in the restored object: (root).keras_api.metrics.1.count\n",
      "WARNING:absl:Found untraced functions such as _update_step_xla while saving (showing 1 of 1). These functions will not be directly callable after loading.\n"
     ]
    },
    {
     "name": "stdout",
     "output_type": "stream",
     "text": [
      "INFO:tensorflow:Assets written to: C:\\Users\\jmbar\\AppData\\Local\\Temp\\tmpa044xsz3\\assets\n"
     ]
    },
    {
     "name": "stderr",
     "output_type": "stream",
     "text": [
      "INFO:tensorflow:Assets written to: C:\\Users\\jmbar\\AppData\\Local\\Temp\\tmpa044xsz3\\assets\n"
     ]
    },
    {
     "name": "stdout",
     "output_type": "stream",
     "text": [
      "Epoch 1/20\n",
      "149/149 [==============================] - 1s 4ms/step - loss: 0.6412 - accuracy: 0.8258 - val_loss: 0.4676 - val_accuracy: 0.7527\n",
      "Epoch 2/20\n",
      "149/149 [==============================] - 0s 2ms/step - loss: 0.4783 - accuracy: 0.7181 - val_loss: 0.4306 - val_accuracy: 0.7224\n",
      "Epoch 3/20\n",
      "149/149 [==============================] - 0s 2ms/step - loss: 0.4624 - accuracy: 0.7182 - val_loss: 0.4065 - val_accuracy: 0.7231\n",
      "Epoch 4/20\n",
      "149/149 [==============================] - 0s 2ms/step - loss: 0.4218 - accuracy: 0.7182 - val_loss: 0.4107 - val_accuracy: 0.7298\n",
      "Epoch 5/20\n",
      "149/149 [==============================] - 0s 2ms/step - loss: 0.4057 - accuracy: 0.7207 - val_loss: 0.4258 - val_accuracy: 0.7077\n",
      "Epoch 6/20\n",
      "149/149 [==============================] - 0s 2ms/step - loss: 0.4019 - accuracy: 0.7216 - val_loss: 0.3753 - val_accuracy: 0.7386\n",
      "Epoch 7/20\n",
      "149/149 [==============================] - 0s 2ms/step - loss: 0.3996 - accuracy: 0.7238 - val_loss: 0.3761 - val_accuracy: 0.7480\n",
      "Epoch 8/20\n",
      "149/149 [==============================] - 0s 2ms/step - loss: 0.3870 - accuracy: 0.7231 - val_loss: 0.3791 - val_accuracy: 0.7272\n",
      "Epoch 9/20\n",
      "149/149 [==============================] - 0s 2ms/step - loss: 0.3887 - accuracy: 0.7248 - val_loss: 0.3770 - val_accuracy: 0.7339\n",
      "Epoch 10/20\n",
      "149/149 [==============================] - 0s 2ms/step - loss: 0.3862 - accuracy: 0.7224 - val_loss: 0.4106 - val_accuracy: 0.7164\n",
      "Epoch 11/20\n",
      "149/149 [==============================] - 0s 2ms/step - loss: 0.3824 - accuracy: 0.7231 - val_loss: 0.3950 - val_accuracy: 0.7050\n",
      "Epoch 12/20\n",
      "149/149 [==============================] - 0s 2ms/step - loss: 0.3801 - accuracy: 0.7228 - val_loss: 0.3746 - val_accuracy: 0.7413\n",
      "Epoch 13/20\n",
      "149/149 [==============================] - 0s 2ms/step - loss: 0.3866 - accuracy: 0.7255 - val_loss: 0.3642 - val_accuracy: 0.7339\n",
      "Epoch 14/20\n",
      "149/149 [==============================] - 0s 2ms/step - loss: 0.3755 - accuracy: 0.7216 - val_loss: 0.3589 - val_accuracy: 0.7191\n",
      "Epoch 15/20\n",
      "149/149 [==============================] - 0s 2ms/step - loss: 0.3716 - accuracy: 0.7239 - val_loss: 0.3653 - val_accuracy: 0.7453\n",
      "Epoch 16/20\n",
      "149/149 [==============================] - 0s 2ms/step - loss: 0.3711 - accuracy: 0.7202 - val_loss: 0.3715 - val_accuracy: 0.7493\n",
      "Epoch 17/20\n",
      "149/149 [==============================] - 0s 2ms/step - loss: 0.3704 - accuracy: 0.7266 - val_loss: 0.3755 - val_accuracy: 0.7359\n",
      "Epoch 18/20\n",
      "149/149 [==============================] - 0s 2ms/step - loss: 0.3710 - accuracy: 0.7186 - val_loss: 0.3649 - val_accuracy: 0.7352\n",
      "Epoch 19/20\n",
      "149/149 [==============================] - 0s 2ms/step - loss: 0.3765 - accuracy: 0.7192 - val_loss: 0.3781 - val_accuracy: 0.7231\n",
      "Epoch 20/20\n",
      "149/149 [==============================] - 0s 2ms/step - loss: 0.3697 - accuracy: 0.7238 - val_loss: 0.3624 - val_accuracy: 0.7319\n",
      "21/21 [==============================] - 0s 1ms/step\n"
     ]
    },
    {
     "name": "stderr",
     "output_type": "stream",
     "text": [
      "WARNING:absl:Found untraced functions such as _update_step_xla while saving (showing 1 of 1). These functions will not be directly callable after loading.\n"
     ]
    },
    {
     "name": "stdout",
     "output_type": "stream",
     "text": [
      "INFO:tensorflow:Assets written to: C:\\Users\\jmbar\\AppData\\Local\\Temp\\tmpjggyju6l\\assets\n"
     ]
    },
    {
     "name": "stderr",
     "output_type": "stream",
     "text": [
      "INFO:tensorflow:Assets written to: C:\\Users\\jmbar\\AppData\\Local\\Temp\\tmpjggyju6l\\assets\n"
     ]
    },
    {
     "name": "stdout",
     "output_type": "stream",
     "text": [
      "Epoch 1/20\n",
      "149/149 [==============================] - 1s 4ms/step - loss: 0.6597 - accuracy: 0.8549 - val_loss: 0.4802 - val_accuracy: 0.7292\n",
      "Epoch 2/20\n",
      "149/149 [==============================] - 0s 2ms/step - loss: 0.4730 - accuracy: 0.7170 - val_loss: 0.4369 - val_accuracy: 0.7191\n",
      "Epoch 3/20\n",
      "149/149 [==============================] - 0s 2ms/step - loss: 0.4338 - accuracy: 0.7191 - val_loss: 0.4139 - val_accuracy: 0.7218\n",
      "Epoch 4/20\n",
      "149/149 [==============================] - 0s 2ms/step - loss: 0.4209 - accuracy: 0.7189 - val_loss: 0.3986 - val_accuracy: 0.7117\n",
      "Epoch 5/20\n",
      "149/149 [==============================] - 0s 2ms/step - loss: 0.4084 - accuracy: 0.7165 - val_loss: 0.4173 - val_accuracy: 0.7366\n",
      "Epoch 6/20\n",
      "149/149 [==============================] - 0s 2ms/step - loss: 0.3977 - accuracy: 0.7204 - val_loss: 0.3981 - val_accuracy: 0.7305\n",
      "Epoch 7/20\n",
      "149/149 [==============================] - 0s 2ms/step - loss: 0.4009 - accuracy: 0.7194 - val_loss: 0.3918 - val_accuracy: 0.7171\n",
      "Epoch 8/20\n",
      "149/149 [==============================] - 0s 2ms/step - loss: 0.3944 - accuracy: 0.7149 - val_loss: 0.3925 - val_accuracy: 0.7191\n",
      "Epoch 9/20\n",
      "149/149 [==============================] - 0s 2ms/step - loss: 0.3945 - accuracy: 0.7160 - val_loss: 0.3953 - val_accuracy: 0.7050\n",
      "Epoch 10/20\n",
      "149/149 [==============================] - 0s 2ms/step - loss: 0.3903 - accuracy: 0.7167 - val_loss: 0.3864 - val_accuracy: 0.7177\n",
      "Epoch 11/20\n",
      "149/149 [==============================] - 0s 2ms/step - loss: 0.3933 - accuracy: 0.7181 - val_loss: 0.3939 - val_accuracy: 0.7164\n",
      "Epoch 12/20\n",
      "149/149 [==============================] - 0s 2ms/step - loss: 0.3946 - accuracy: 0.7179 - val_loss: 0.3996 - val_accuracy: 0.7272\n",
      "Epoch 13/20\n",
      "149/149 [==============================] - 0s 2ms/step - loss: 0.3900 - accuracy: 0.7184 - val_loss: 0.3875 - val_accuracy: 0.7198\n",
      "Epoch 14/20\n",
      "149/149 [==============================] - 0s 2ms/step - loss: 0.3873 - accuracy: 0.7202 - val_loss: 0.4365 - val_accuracy: 0.6794\n",
      "Epoch 15/20\n",
      "149/149 [==============================] - 0s 2ms/step - loss: 0.3834 - accuracy: 0.7162 - val_loss: 0.3899 - val_accuracy: 0.7198\n",
      "Epoch 16/20\n",
      "149/149 [==============================] - 0s 2ms/step - loss: 0.3827 - accuracy: 0.7181 - val_loss: 0.3797 - val_accuracy: 0.7171\n",
      "Epoch 17/20\n",
      "149/149 [==============================] - 0s 2ms/step - loss: 0.3830 - accuracy: 0.7164 - val_loss: 0.3858 - val_accuracy: 0.7090\n",
      "Epoch 18/20\n",
      "149/149 [==============================] - 0s 2ms/step - loss: 0.3861 - accuracy: 0.7149 - val_loss: 0.3882 - val_accuracy: 0.7043\n",
      "Epoch 19/20\n",
      "149/149 [==============================] - 0s 2ms/step - loss: 0.3785 - accuracy: 0.7159 - val_loss: 0.3811 - val_accuracy: 0.6929\n",
      "Epoch 20/20\n",
      "149/149 [==============================] - 0s 2ms/step - loss: 0.3781 - accuracy: 0.7133 - val_loss: 0.3841 - val_accuracy: 0.7063\n",
      "21/21 [==============================] - 0s 1ms/step\n"
     ]
    },
    {
     "name": "stderr",
     "output_type": "stream",
     "text": [
      "WARNING:absl:Found untraced functions such as _update_step_xla while saving (showing 1 of 1). These functions will not be directly callable after loading.\n"
     ]
    },
    {
     "name": "stdout",
     "output_type": "stream",
     "text": [
      "INFO:tensorflow:Assets written to: C:\\Users\\jmbar\\AppData\\Local\\Temp\\tmpi7gbkqkr\\assets\n"
     ]
    },
    {
     "name": "stderr",
     "output_type": "stream",
     "text": [
      "INFO:tensorflow:Assets written to: C:\\Users\\jmbar\\AppData\\Local\\Temp\\tmpi7gbkqkr\\assets\n",
      "WARNING:absl:Found untraced functions such as _update_step_xla while saving (showing 1 of 1). These functions will not be directly callable after loading.\n"
     ]
    },
    {
     "name": "stdout",
     "output_type": "stream",
     "text": [
      "INFO:tensorflow:Assets written to: C:\\Users\\jmbar\\AppData\\Local\\Temp\\tmplwzflckm\\assets\n"
     ]
    },
    {
     "name": "stderr",
     "output_type": "stream",
     "text": [
      "INFO:tensorflow:Assets written to: C:\\Users\\jmbar\\AppData\\Local\\Temp\\tmplwzflckm\\assets\n"
     ]
    },
    {
     "name": "stdout",
     "output_type": "stream",
     "text": [
      "Epoch 1/20\n",
      "166/166 [==============================] - 1s 3ms/step - loss: 0.6409 - accuracy: 0.8408 - val_loss: 0.4805 - val_accuracy: 0.7181\n",
      "Epoch 2/20\n",
      "166/166 [==============================] - 0s 2ms/step - loss: 0.4664 - accuracy: 0.7118 - val_loss: 0.4298 - val_accuracy: 0.7151\n",
      "Epoch 3/20\n",
      "166/166 [==============================] - 0s 2ms/step - loss: 0.4396 - accuracy: 0.7146 - val_loss: 0.4060 - val_accuracy: 0.7151\n",
      "Epoch 4/20\n",
      "166/166 [==============================] - 0s 2ms/step - loss: 0.4285 - accuracy: 0.7196 - val_loss: 0.4297 - val_accuracy: 0.7604\n",
      "Epoch 5/20\n",
      "166/166 [==============================] - 0s 2ms/step - loss: 0.4121 - accuracy: 0.7230 - val_loss: 0.3983 - val_accuracy: 0.7096\n",
      "Epoch 6/20\n",
      "166/166 [==============================] - 0s 2ms/step - loss: 0.4124 - accuracy: 0.7220 - val_loss: 0.3926 - val_accuracy: 0.7084\n",
      "Epoch 7/20\n",
      "166/166 [==============================] - 0s 2ms/step - loss: 0.3997 - accuracy: 0.7204 - val_loss: 0.3864 - val_accuracy: 0.7272\n",
      "Epoch 8/20\n",
      "166/166 [==============================] - 0s 2ms/step - loss: 0.3906 - accuracy: 0.7166 - val_loss: 0.3966 - val_accuracy: 0.7387\n",
      "Epoch 9/20\n",
      "166/166 [==============================] - 0s 2ms/step - loss: 0.3853 - accuracy: 0.7199 - val_loss: 0.4222 - val_accuracy: 0.7381\n",
      "Epoch 10/20\n",
      "166/166 [==============================] - 0s 2ms/step - loss: 0.3876 - accuracy: 0.7181 - val_loss: 0.3809 - val_accuracy: 0.7042\n",
      "Epoch 11/20\n",
      "166/166 [==============================] - 0s 2ms/step - loss: 0.3826 - accuracy: 0.7217 - val_loss: 0.3887 - val_accuracy: 0.7411\n",
      "Epoch 12/20\n",
      "166/166 [==============================] - 0s 2ms/step - loss: 0.3797 - accuracy: 0.7163 - val_loss: 0.3738 - val_accuracy: 0.7320\n",
      "Epoch 13/20\n",
      "166/166 [==============================] - 0s 2ms/step - loss: 0.3743 - accuracy: 0.7202 - val_loss: 0.3820 - val_accuracy: 0.7332\n",
      "Epoch 14/20\n",
      "166/166 [==============================] - 0s 2ms/step - loss: 0.3774 - accuracy: 0.7189 - val_loss: 0.3627 - val_accuracy: 0.7126\n",
      "Epoch 15/20\n",
      "166/166 [==============================] - 0s 2ms/step - loss: 0.3707 - accuracy: 0.7210 - val_loss: 0.3660 - val_accuracy: 0.7205\n",
      "Epoch 16/20\n",
      "166/166 [==============================] - 0s 2ms/step - loss: 0.3629 - accuracy: 0.7240 - val_loss: 0.3592 - val_accuracy: 0.7235\n",
      "Epoch 17/20\n",
      "166/166 [==============================] - 0s 2ms/step - loss: 0.3623 - accuracy: 0.7213 - val_loss: 0.3580 - val_accuracy: 0.7042\n",
      "Epoch 18/20\n",
      "166/166 [==============================] - 0s 2ms/step - loss: 0.3627 - accuracy: 0.7183 - val_loss: 0.3756 - val_accuracy: 0.7102\n",
      "Epoch 19/20\n",
      "166/166 [==============================] - 0s 2ms/step - loss: 0.3621 - accuracy: 0.7189 - val_loss: 0.3664 - val_accuracy: 0.7145\n",
      "Epoch 20/20\n",
      "166/166 [==============================] - 0s 2ms/step - loss: 0.3595 - accuracy: 0.7230 - val_loss: 0.3679 - val_accuracy: 0.7114\n"
     ]
    },
    {
     "data": {
      "text/html": [
       "<style>#sk-container-id-1 {color: black;}#sk-container-id-1 pre{padding: 0;}#sk-container-id-1 div.sk-toggleable {background-color: white;}#sk-container-id-1 label.sk-toggleable__label {cursor: pointer;display: block;width: 100%;margin-bottom: 0;padding: 0.3em;box-sizing: border-box;text-align: center;}#sk-container-id-1 label.sk-toggleable__label-arrow:before {content: \"▸\";float: left;margin-right: 0.25em;color: #696969;}#sk-container-id-1 label.sk-toggleable__label-arrow:hover:before {color: black;}#sk-container-id-1 div.sk-estimator:hover label.sk-toggleable__label-arrow:before {color: black;}#sk-container-id-1 div.sk-toggleable__content {max-height: 0;max-width: 0;overflow: hidden;text-align: left;background-color: #f0f8ff;}#sk-container-id-1 div.sk-toggleable__content pre {margin: 0.2em;color: black;border-radius: 0.25em;background-color: #f0f8ff;}#sk-container-id-1 input.sk-toggleable__control:checked~div.sk-toggleable__content {max-height: 200px;max-width: 100%;overflow: auto;}#sk-container-id-1 input.sk-toggleable__control:checked~label.sk-toggleable__label-arrow:before {content: \"▾\";}#sk-container-id-1 div.sk-estimator input.sk-toggleable__control:checked~label.sk-toggleable__label {background-color: #d4ebff;}#sk-container-id-1 div.sk-label input.sk-toggleable__control:checked~label.sk-toggleable__label {background-color: #d4ebff;}#sk-container-id-1 input.sk-hidden--visually {border: 0;clip: rect(1px 1px 1px 1px);clip: rect(1px, 1px, 1px, 1px);height: 1px;margin: -1px;overflow: hidden;padding: 0;position: absolute;width: 1px;}#sk-container-id-1 div.sk-estimator {font-family: monospace;background-color: #f0f8ff;border: 1px dotted black;border-radius: 0.25em;box-sizing: border-box;margin-bottom: 0.5em;}#sk-container-id-1 div.sk-estimator:hover {background-color: #d4ebff;}#sk-container-id-1 div.sk-parallel-item::after {content: \"\";width: 100%;border-bottom: 1px solid gray;flex-grow: 1;}#sk-container-id-1 div.sk-label:hover label.sk-toggleable__label {background-color: #d4ebff;}#sk-container-id-1 div.sk-serial::before {content: \"\";position: absolute;border-left: 1px solid gray;box-sizing: border-box;top: 0;bottom: 0;left: 50%;z-index: 0;}#sk-container-id-1 div.sk-serial {display: flex;flex-direction: column;align-items: center;background-color: white;padding-right: 0.2em;padding-left: 0.2em;position: relative;}#sk-container-id-1 div.sk-item {position: relative;z-index: 1;}#sk-container-id-1 div.sk-parallel {display: flex;align-items: stretch;justify-content: center;background-color: white;position: relative;}#sk-container-id-1 div.sk-item::before, #sk-container-id-1 div.sk-parallel-item::before {content: \"\";position: absolute;border-left: 1px solid gray;box-sizing: border-box;top: 0;bottom: 0;left: 50%;z-index: -1;}#sk-container-id-1 div.sk-parallel-item {display: flex;flex-direction: column;z-index: 1;position: relative;background-color: white;}#sk-container-id-1 div.sk-parallel-item:first-child::after {align-self: flex-end;width: 50%;}#sk-container-id-1 div.sk-parallel-item:last-child::after {align-self: flex-start;width: 50%;}#sk-container-id-1 div.sk-parallel-item:only-child::after {width: 0;}#sk-container-id-1 div.sk-dashed-wrapped {border: 1px dashed gray;margin: 0 0.4em 0.5em 0.4em;box-sizing: border-box;padding-bottom: 0.4em;background-color: white;}#sk-container-id-1 div.sk-label label {font-family: monospace;font-weight: bold;display: inline-block;line-height: 1.2em;}#sk-container-id-1 div.sk-label-container {text-align: center;}#sk-container-id-1 div.sk-container {/* jupyter's `normalize.less` sets `[hidden] { display: none; }` but bootstrap.min.css set `[hidden] { display: none !important; }` so we also need the `!important` here to be able to override the default hidden behavior on the sphinx rendered scikit-learn.org. See: https://github.com/scikit-learn/scikit-learn/issues/21755 */display: inline-block !important;position: relative;}#sk-container-id-1 div.sk-text-repr-fallback {display: none;}</style><div id=\"sk-container-id-1\" class=\"sk-top-container\"><div class=\"sk-text-repr-fallback\"><pre>GridSearchCV(cv=KFold(n_splits=10, random_state=2021, shuffle=True),\n",
       "             error_score=&#x27;raise&#x27;,\n",
       "             estimator=KerasClassifier(batch_size=40, epochs=20, model=&lt;keras.engine.sequential.Sequential object at 0x00000279FAD3E850&gt;, random_state=2021, validation_split=0.2),\n",
       "             param_grid={&#x27;optimizer&#x27;: [&#x27;SGD&#x27;, &#x27;RMSprop&#x27;, &#x27;Adagrad&#x27;]},\n",
       "             refit=&#x27;True&#x27;, scoring=&#x27;accuracy&#x27;, verbose=1)</pre><b>In a Jupyter environment, please rerun this cell to show the HTML representation or trust the notebook. <br />On GitHub, the HTML representation is unable to render, please try loading this page with nbviewer.org.</b></div><div class=\"sk-container\" hidden><div class=\"sk-item sk-dashed-wrapped\"><div class=\"sk-label-container\"><div class=\"sk-label sk-toggleable\"><input class=\"sk-toggleable__control sk-hidden--visually\" id=\"sk-estimator-id-1\" type=\"checkbox\" ><label for=\"sk-estimator-id-1\" class=\"sk-toggleable__label sk-toggleable__label-arrow\">GridSearchCV</label><div class=\"sk-toggleable__content\"><pre>GridSearchCV(cv=KFold(n_splits=10, random_state=2021, shuffle=True),\n",
       "             error_score=&#x27;raise&#x27;,\n",
       "             estimator=KerasClassifier(batch_size=40, epochs=20, model=&lt;keras.engine.sequential.Sequential object at 0x00000279FAD3E850&gt;, random_state=2021, validation_split=0.2),\n",
       "             param_grid={&#x27;optimizer&#x27;: [&#x27;SGD&#x27;, &#x27;RMSprop&#x27;, &#x27;Adagrad&#x27;]},\n",
       "             refit=&#x27;True&#x27;, scoring=&#x27;accuracy&#x27;, verbose=1)</pre></div></div></div><div class=\"sk-parallel\"><div class=\"sk-parallel-item\"><div class=\"sk-item\"><div class=\"sk-label-container\"><div class=\"sk-label sk-toggleable\"><input class=\"sk-toggleable__control sk-hidden--visually\" id=\"sk-estimator-id-2\" type=\"checkbox\" ><label for=\"sk-estimator-id-2\" class=\"sk-toggleable__label sk-toggleable__label-arrow\">estimator: KerasClassifier</label><div class=\"sk-toggleable__content\"><pre>KerasClassifier(\n",
       "\tmodel=&lt;keras.engine.sequential.Sequential object at 0x00000279FAD3E850&gt;\n",
       "\tbuild_fn=None\n",
       "\twarm_start=False\n",
       "\trandom_state=2021\n",
       "\toptimizer=rmsprop\n",
       "\tloss=None\n",
       "\tmetrics=None\n",
       "\tbatch_size=40\n",
       "\tvalidation_batch_size=None\n",
       "\tverbose=1\n",
       "\tcallbacks=None\n",
       "\tvalidation_split=0.2\n",
       "\tshuffle=True\n",
       "\trun_eagerly=False\n",
       "\tepochs=20\n",
       "\tclass_weight=None\n",
       ")</pre></div></div></div><div class=\"sk-serial\"><div class=\"sk-item\"><div class=\"sk-estimator sk-toggleable\"><input class=\"sk-toggleable__control sk-hidden--visually\" id=\"sk-estimator-id-3\" type=\"checkbox\" ><label for=\"sk-estimator-id-3\" class=\"sk-toggleable__label sk-toggleable__label-arrow\">KerasClassifier</label><div class=\"sk-toggleable__content\"><pre>KerasClassifier(\n",
       "\tmodel=&lt;keras.engine.sequential.Sequential object at 0x00000279FAD3E850&gt;\n",
       "\tbuild_fn=None\n",
       "\twarm_start=False\n",
       "\trandom_state=2021\n",
       "\toptimizer=rmsprop\n",
       "\tloss=None\n",
       "\tmetrics=None\n",
       "\tbatch_size=40\n",
       "\tvalidation_batch_size=None\n",
       "\tverbose=1\n",
       "\tcallbacks=None\n",
       "\tvalidation_split=0.2\n",
       "\tshuffle=True\n",
       "\trun_eagerly=False\n",
       "\tepochs=20\n",
       "\tclass_weight=None\n",
       ")</pre></div></div></div></div></div></div></div></div></div></div>"
      ],
      "text/plain": [
       "GridSearchCV(cv=KFold(n_splits=10, random_state=2021, shuffle=True),\n",
       "             error_score='raise',\n",
       "             estimator=KerasClassifier(batch_size=40, epochs=20, model=<keras.engine.sequential.Sequential object at 0x00000279FAD3E850>, random_state=2021, validation_split=0.2),\n",
       "             param_grid={'optimizer': ['SGD', 'RMSprop', 'Adagrad']},\n",
       "             refit='True', scoring='accuracy', verbose=1)"
      ]
     },
     "execution_count": 20,
     "metadata": {},
     "output_type": "execute_result"
    }
   ],
   "source": [
    "grid_search = GridSearchCV(estimator = model, param_grid = param_grid, cv = kf, scoring = 'accuracy',refit = 'True', verbose = 1,error_score='raise',)\n",
    "grid_search.fit(X_train,y_train)"
   ]
  },
  {
   "cell_type": "code",
   "execution_count": 21,
   "id": "a801577f",
   "metadata": {
    "tags": []
   },
   "outputs": [
    {
     "name": "stdout",
     "output_type": "stream",
     "text": [
      "Best: 0.838054 using {'optimizer': 'SGD'}\n"
     ]
    }
   ],
   "source": [
    "print(\"Best: %f using %s\" % (grid_search.best_score_,grid_search.best_params_))"
   ]
  },
  {
   "cell_type": "code",
   "execution_count": 22,
   "id": "7e9e9f1c",
   "metadata": {
    "tags": []
   },
   "outputs": [],
   "source": [
    "# means = grid_search.cv_results_['mean_test_score']\n",
    "# stds = grid_search.cv_results_['std_test_score']\n",
    "# params = grid_search.cv_results_['params']"
   ]
  },
  {
   "cell_type": "code",
   "execution_count": 23,
   "id": "3e014944",
   "metadata": {
    "tags": []
   },
   "outputs": [],
   "source": [
    "#for mean, stdev, param in zip(means, stds, params):\n",
    "#    print(\"%f (%f) with %r\" %(mean, stdev,param))"
   ]
  },
  {
   "cell_type": "code",
   "execution_count": 24,
   "id": "3a44835e",
   "metadata": {
    "tags": []
   },
   "outputs": [],
   "source": [
    "best_mlp_model = model"
   ]
  },
  {
   "cell_type": "code",
   "execution_count": 25,
   "id": "896aadf4",
   "metadata": {
    "tags": []
   },
   "outputs": [
    {
     "name": "stdout",
     "output_type": "stream",
     "text": [
      "Epoch 1/30\n",
      "207/207 [==============================] - 2s 3ms/step - loss: 0.5979 - accuracy: 0.8057 - val_loss: 0.4865 - val_accuracy: 0.7397\n",
      "Epoch 2/30\n",
      "207/207 [==============================] - 1s 3ms/step - loss: 0.4674 - accuracy: 0.7206 - val_loss: 0.4700 - val_accuracy: 0.6986\n",
      "Epoch 3/30\n",
      "207/207 [==============================] - 0s 2ms/step - loss: 0.4426 - accuracy: 0.7127 - val_loss: 0.4515 - val_accuracy: 0.6841\n",
      "Epoch 4/30\n",
      "207/207 [==============================] - 1s 2ms/step - loss: 0.4238 - accuracy: 0.7140 - val_loss: 0.4318 - val_accuracy: 0.7055\n",
      "Epoch 5/30\n",
      "207/207 [==============================] - 0s 2ms/step - loss: 0.4077 - accuracy: 0.7173 - val_loss: 0.4110 - val_accuracy: 0.7128\n",
      "Epoch 6/30\n",
      "207/207 [==============================] - 0s 2ms/step - loss: 0.4020 - accuracy: 0.7182 - val_loss: 0.4051 - val_accuracy: 0.7131\n",
      "Epoch 7/30\n",
      "207/207 [==============================] - 0s 2ms/step - loss: 0.3992 - accuracy: 0.7169 - val_loss: 0.3989 - val_accuracy: 0.7019\n",
      "Epoch 8/30\n",
      "207/207 [==============================] - 1s 2ms/step - loss: 0.3913 - accuracy: 0.7165 - val_loss: 0.3955 - val_accuracy: 0.7160\n",
      "Epoch 9/30\n",
      "207/207 [==============================] - 0s 2ms/step - loss: 0.3930 - accuracy: 0.7158 - val_loss: 0.3893 - val_accuracy: 0.7015\n",
      "Epoch 10/30\n",
      "207/207 [==============================] - 1s 2ms/step - loss: 0.3914 - accuracy: 0.7153 - val_loss: 0.4045 - val_accuracy: 0.7324\n",
      "Epoch 11/30\n",
      "207/207 [==============================] - 0s 2ms/step - loss: 0.3900 - accuracy: 0.7150 - val_loss: 0.3889 - val_accuracy: 0.6972\n",
      "Epoch 12/30\n",
      "207/207 [==============================] - 0s 2ms/step - loss: 0.3815 - accuracy: 0.7135 - val_loss: 0.3844 - val_accuracy: 0.6932\n",
      "Epoch 13/30\n",
      "207/207 [==============================] - 0s 2ms/step - loss: 0.3834 - accuracy: 0.7101 - val_loss: 0.4510 - val_accuracy: 0.7160\n",
      "Epoch 14/30\n",
      "207/207 [==============================] - 0s 2ms/step - loss: 0.3780 - accuracy: 0.7142 - val_loss: 0.3882 - val_accuracy: 0.7037\n",
      "Epoch 15/30\n",
      "207/207 [==============================] - 0s 2ms/step - loss: 0.3793 - accuracy: 0.7137 - val_loss: 0.3727 - val_accuracy: 0.7128\n",
      "Epoch 16/30\n",
      "207/207 [==============================] - 0s 2ms/step - loss: 0.3695 - accuracy: 0.7124 - val_loss: 0.3672 - val_accuracy: 0.7110\n",
      "Epoch 17/30\n",
      "207/207 [==============================] - 0s 2ms/step - loss: 0.3735 - accuracy: 0.7125 - val_loss: 0.3862 - val_accuracy: 0.6924\n",
      "Epoch 18/30\n",
      "207/207 [==============================] - 0s 2ms/step - loss: 0.3741 - accuracy: 0.7151 - val_loss: 0.3673 - val_accuracy: 0.6870\n",
      "Epoch 19/30\n",
      "207/207 [==============================] - 0s 2ms/step - loss: 0.3686 - accuracy: 0.7123 - val_loss: 0.3859 - val_accuracy: 0.7095\n",
      "Epoch 20/30\n",
      "207/207 [==============================] - 1s 2ms/step - loss: 0.3619 - accuracy: 0.7144 - val_loss: 0.3667 - val_accuracy: 0.6830\n",
      "Epoch 21/30\n",
      "207/207 [==============================] - 0s 2ms/step - loss: 0.3597 - accuracy: 0.7139 - val_loss: 0.3924 - val_accuracy: 0.7284\n",
      "Epoch 22/30\n",
      "207/207 [==============================] - 0s 2ms/step - loss: 0.3550 - accuracy: 0.7168 - val_loss: 0.3594 - val_accuracy: 0.7066\n",
      "Epoch 23/30\n",
      "207/207 [==============================] - 0s 2ms/step - loss: 0.3599 - accuracy: 0.7129 - val_loss: 0.3570 - val_accuracy: 0.6943\n",
      "Epoch 24/30\n",
      "207/207 [==============================] - 0s 2ms/step - loss: 0.3667 - accuracy: 0.7150 - val_loss: 0.3668 - val_accuracy: 0.7088\n",
      "Epoch 25/30\n",
      "207/207 [==============================] - 0s 2ms/step - loss: 0.3569 - accuracy: 0.7152 - val_loss: 0.3451 - val_accuracy: 0.7186\n",
      "Epoch 26/30\n",
      "207/207 [==============================] - 0s 2ms/step - loss: 0.3543 - accuracy: 0.7148 - val_loss: 0.3482 - val_accuracy: 0.7037\n",
      "Epoch 27/30\n",
      "207/207 [==============================] - 0s 2ms/step - loss: 0.3552 - accuracy: 0.7168 - val_loss: 0.3624 - val_accuracy: 0.7001\n",
      "Epoch 28/30\n",
      "207/207 [==============================] - 0s 2ms/step - loss: 0.3545 - accuracy: 0.7179 - val_loss: 0.3545 - val_accuracy: 0.7121\n",
      "Epoch 29/30\n",
      "207/207 [==============================] - 0s 2ms/step - loss: 0.3563 - accuracy: 0.7160 - val_loss: 0.3553 - val_accuracy: 0.7262\n",
      "Epoch 30/30\n",
      "207/207 [==============================] - 0s 2ms/step - loss: 0.3535 - accuracy: 0.7167 - val_loss: 0.3900 - val_accuracy: 0.7248\n"
     ]
    },
    {
     "data": {
      "text/html": [
       "<style>#sk-container-id-2 {color: black;}#sk-container-id-2 pre{padding: 0;}#sk-container-id-2 div.sk-toggleable {background-color: white;}#sk-container-id-2 label.sk-toggleable__label {cursor: pointer;display: block;width: 100%;margin-bottom: 0;padding: 0.3em;box-sizing: border-box;text-align: center;}#sk-container-id-2 label.sk-toggleable__label-arrow:before {content: \"▸\";float: left;margin-right: 0.25em;color: #696969;}#sk-container-id-2 label.sk-toggleable__label-arrow:hover:before {color: black;}#sk-container-id-2 div.sk-estimator:hover label.sk-toggleable__label-arrow:before {color: black;}#sk-container-id-2 div.sk-toggleable__content {max-height: 0;max-width: 0;overflow: hidden;text-align: left;background-color: #f0f8ff;}#sk-container-id-2 div.sk-toggleable__content pre {margin: 0.2em;color: black;border-radius: 0.25em;background-color: #f0f8ff;}#sk-container-id-2 input.sk-toggleable__control:checked~div.sk-toggleable__content {max-height: 200px;max-width: 100%;overflow: auto;}#sk-container-id-2 input.sk-toggleable__control:checked~label.sk-toggleable__label-arrow:before {content: \"▾\";}#sk-container-id-2 div.sk-estimator input.sk-toggleable__control:checked~label.sk-toggleable__label {background-color: #d4ebff;}#sk-container-id-2 div.sk-label input.sk-toggleable__control:checked~label.sk-toggleable__label {background-color: #d4ebff;}#sk-container-id-2 input.sk-hidden--visually {border: 0;clip: rect(1px 1px 1px 1px);clip: rect(1px, 1px, 1px, 1px);height: 1px;margin: -1px;overflow: hidden;padding: 0;position: absolute;width: 1px;}#sk-container-id-2 div.sk-estimator {font-family: monospace;background-color: #f0f8ff;border: 1px dotted black;border-radius: 0.25em;box-sizing: border-box;margin-bottom: 0.5em;}#sk-container-id-2 div.sk-estimator:hover {background-color: #d4ebff;}#sk-container-id-2 div.sk-parallel-item::after {content: \"\";width: 100%;border-bottom: 1px solid gray;flex-grow: 1;}#sk-container-id-2 div.sk-label:hover label.sk-toggleable__label {background-color: #d4ebff;}#sk-container-id-2 div.sk-serial::before {content: \"\";position: absolute;border-left: 1px solid gray;box-sizing: border-box;top: 0;bottom: 0;left: 50%;z-index: 0;}#sk-container-id-2 div.sk-serial {display: flex;flex-direction: column;align-items: center;background-color: white;padding-right: 0.2em;padding-left: 0.2em;position: relative;}#sk-container-id-2 div.sk-item {position: relative;z-index: 1;}#sk-container-id-2 div.sk-parallel {display: flex;align-items: stretch;justify-content: center;background-color: white;position: relative;}#sk-container-id-2 div.sk-item::before, #sk-container-id-2 div.sk-parallel-item::before {content: \"\";position: absolute;border-left: 1px solid gray;box-sizing: border-box;top: 0;bottom: 0;left: 50%;z-index: -1;}#sk-container-id-2 div.sk-parallel-item {display: flex;flex-direction: column;z-index: 1;position: relative;background-color: white;}#sk-container-id-2 div.sk-parallel-item:first-child::after {align-self: flex-end;width: 50%;}#sk-container-id-2 div.sk-parallel-item:last-child::after {align-self: flex-start;width: 50%;}#sk-container-id-2 div.sk-parallel-item:only-child::after {width: 0;}#sk-container-id-2 div.sk-dashed-wrapped {border: 1px dashed gray;margin: 0 0.4em 0.5em 0.4em;box-sizing: border-box;padding-bottom: 0.4em;background-color: white;}#sk-container-id-2 div.sk-label label {font-family: monospace;font-weight: bold;display: inline-block;line-height: 1.2em;}#sk-container-id-2 div.sk-label-container {text-align: center;}#sk-container-id-2 div.sk-container {/* jupyter's `normalize.less` sets `[hidden] { display: none; }` but bootstrap.min.css set `[hidden] { display: none !important; }` so we also need the `!important` here to be able to override the default hidden behavior on the sphinx rendered scikit-learn.org. See: https://github.com/scikit-learn/scikit-learn/issues/21755 */display: inline-block !important;position: relative;}#sk-container-id-2 div.sk-text-repr-fallback {display: none;}</style><div id=\"sk-container-id-2\" class=\"sk-top-container\"><div class=\"sk-text-repr-fallback\"><pre>KerasClassifier(\n",
       "\tmodel=&lt;keras.engine.sequential.Sequential object at 0x00000279FAD3E850&gt;\n",
       "\tbuild_fn=None\n",
       "\twarm_start=False\n",
       "\trandom_state=2021\n",
       "\toptimizer=rmsprop\n",
       "\tloss=None\n",
       "\tmetrics=None\n",
       "\tbatch_size=40\n",
       "\tvalidation_batch_size=None\n",
       "\tverbose=1\n",
       "\tcallbacks=None\n",
       "\tvalidation_split=0.2\n",
       "\tshuffle=True\n",
       "\trun_eagerly=False\n",
       "\tepochs=20\n",
       "\tclass_weight=None\n",
       ")</pre><b>In a Jupyter environment, please rerun this cell to show the HTML representation or trust the notebook. <br />On GitHub, the HTML representation is unable to render, please try loading this page with nbviewer.org.</b></div><div class=\"sk-container\" hidden><div class=\"sk-item\"><div class=\"sk-estimator sk-toggleable\"><input class=\"sk-toggleable__control sk-hidden--visually\" id=\"sk-estimator-id-4\" type=\"checkbox\" checked><label for=\"sk-estimator-id-4\" class=\"sk-toggleable__label sk-toggleable__label-arrow\">KerasClassifier</label><div class=\"sk-toggleable__content\"><pre>KerasClassifier(\n",
       "\tmodel=&lt;keras.engine.sequential.Sequential object at 0x00000279FAD3E850&gt;\n",
       "\tbuild_fn=None\n",
       "\twarm_start=False\n",
       "\trandom_state=2021\n",
       "\toptimizer=rmsprop\n",
       "\tloss=None\n",
       "\tmetrics=None\n",
       "\tbatch_size=40\n",
       "\tvalidation_batch_size=None\n",
       "\tverbose=1\n",
       "\tcallbacks=None\n",
       "\tvalidation_split=0.2\n",
       "\tshuffle=True\n",
       "\trun_eagerly=False\n",
       "\tepochs=20\n",
       "\tclass_weight=None\n",
       ")</pre></div></div></div></div></div>"
      ],
      "text/plain": [
       "KerasClassifier(\n",
       "\tmodel=<keras.engine.sequential.Sequential object at 0x00000279FAD3E850>\n",
       "\tbuild_fn=None\n",
       "\twarm_start=False\n",
       "\trandom_state=2021\n",
       "\toptimizer=rmsprop\n",
       "\tloss=None\n",
       "\tmetrics=None\n",
       "\tbatch_size=40\n",
       "\tvalidation_batch_size=None\n",
       "\tverbose=1\n",
       "\tcallbacks=None\n",
       "\tvalidation_split=0.2\n",
       "\tshuffle=True\n",
       "\trun_eagerly=False\n",
       "\tepochs=20\n",
       "\tclass_weight=None\n",
       ")"
      ]
     },
     "execution_count": 25,
     "metadata": {},
     "output_type": "execute_result"
    }
   ],
   "source": [
    "best_mlp_model.fit(X_train, y_train, epochs = 30, validation_data = (X_test, y_test), verbose =1)"
   ]
  },
  {
   "cell_type": "code",
   "execution_count": 26,
   "id": "a9fb5be9",
   "metadata": {
    "tags": []
   },
   "outputs": [
    {
     "data": {
      "image/png": "[encoded data removed]",
      "text/plain": [
       "<Figure size 640x480 with 1 Axes>"
      ]
     },
     "metadata": {},
     "output_type": "display_data"
    }
   ],
   "source": [
    "plt.plot(best_mlp_model.history_['loss'])\n",
    "plt.plot(best_mlp_model.history_['val_loss'])\n",
    "plt.title('model performance')\n",
    "plt.ylabel('loss values')\n",
    "plt.xlabel('epoch')\n",
    "plt.legend(['train', 'val'], loc='upper left')\n",
    "plt.show()"
   ]
  },
  {
   "cell_type": "code",
   "execution_count": 27,
   "id": "a8550de6",
   "metadata": {
    "tags": []
   },
   "outputs": [
    {
     "data": {
      "image/png": "[encoded data removed]",
      "text/plain": [
       "<Figure size 800x500 with 1 Axes>"
      ]
     },
     "metadata": {},
     "output_type": "display_data"
    }
   ],
   "source": [
    "pd.DataFrame(best_mlp_model.history_).plot(figsize=(8,5))\n",
    "plt.show()"
   ]
  },
  {
   "cell_type": "code",
   "execution_count": 28,
   "id": "ff6c3726",
   "metadata": {
    "tags": []
   },
   "outputs": [
    {
     "name": "stdout",
     "output_type": "stream",
     "text": [
      "69/69 [==============================] - 0s 1ms/step\n"
     ]
    }
   ],
   "source": [
    "prediction = best_mlp_model.predict(X_test)"
   ]
  },
  {
   "cell_type": "code",
   "execution_count": 29,
   "id": "259fcf1c",
   "metadata": {
    "tags": []
   },
   "outputs": [],
   "source": [
    "from sklearn import metrics"
   ]
  },
  {
   "cell_type": "code",
   "execution_count": 30,
   "id": "9f2cf912",
   "metadata": {
    "tags": []
   },
   "outputs": [
    {
     "name": "stdout",
     "output_type": "stream",
     "text": [
      "Accuracy:  0.8209876543209876\n"
     ]
    }
   ],
   "source": [
    "accuracy = metrics.accuracy_score(y_test, prediction)\n",
    "#precision = metrics.precision_score(y_test, prediction, average='weighted')\n",
    "#recall = metrics.recall_score(y_test, prediction, average='weighted')\n",
    "\n",
    "print('Accuracy: ', accuracy)\n",
    "#print('Precision: ', precision)\n",
    "#print('Recall: ', recall)"
   ]
  },
  {
   "cell_type": "code",
   "execution_count": 31,
   "id": "6c6766c4",
   "metadata": {
    "tags": []
   },
   "outputs": [
    {
     "data": {
      "text/plain": [
       "<matplotlib.collections.PathCollection at 0x279ffaf1290>"
      ]
     },
     "execution_count": 31,
     "metadata": {},
     "output_type": "execute_result"
    },
    {
     "data": {
      "image/png": "[encoded data removed]",
      "text/plain": [
       "<Figure size 640x480 with 1 Axes>"
      ]
     },
     "metadata": {},
     "output_type": "display_data"
    }
   ],
   "source": [
    "plt.scatter(y_test,prediction)"
   ]
  },
  {
   "cell_type": "code",
   "execution_count": 32,
   "id": "ab1ed717",
   "metadata": {
    "tags": []
   },
   "outputs": [],
   "source": [
    "def real_predicted_viz(limit):\n",
    "    plt.figure(figsize=(14,6))\n",
    "    plt.plot(y_test[:limit],color='green',label='Actual')\n",
    "    plt.plot(prediction[:limit],color='red',label='Predicted')\n",
    "    plt.grid(alpha=0.3)\n",
    "\n",
    "    plt.title('Real x Predicted')\n",
    "    plt.legend()\n",
    "    plt.show()"
   ]
  },
  {
   "cell_type": "code",
   "execution_count": 33,
   "id": "6da31230",
   "metadata": {
    "tags": []
   },
   "outputs": [
    {
     "data": {
      "image/png": "[encoded data removed]",
      "text/plain": [
       "<Figure size 1400x600 with 1 Axes>"
      ]
     },
     "metadata": {},
     "output_type": "display_data"
    }
   ],
   "source": [
    "real_predicted_viz(200)"
   ]
  },
  {
   "cell_type": "code",
   "execution_count": 34,
   "id": "d5361931-8841-454e-a7c3-3b6d5a8b03e8",
   "metadata": {
    "tags": []
   },
   "outputs": [],
   "source": [
    "def gera_csv(predictions,name):\n",
    "    row_ids = range(1, len(predictions) + 1)\n",
    "    submission_df = pd.DataFrame({'RowId': row_ids, 'Result': predictions})\n",
    "    replace_map = {'Result': {0:'None',1: 'Low', 2: 'Medium' ,3: 'High',4 : 'Very High' }}\n",
    "    submission_df.replace(replace_map,inplace=True)\n",
    "    submission_df.to_csv(name, index=False)"
   ]
  },
  {
   "cell_type": "code",
   "execution_count": 35,
   "id": "18ef57b0-14cc-4e8d-b458-d5fa0649f581",
   "metadata": {
    "tags": []
   },
   "outputs": [
    {
     "name": "stdout",
     "output_type": "stream",
     "text": [
      "57/57 [==============================] - 0s 1ms/step\n",
      "[0, 0, 0, 0, 0, 0, 0, 0, 0, 0, 0, 0, 0, 0, 0, 0, 0, 0, 0, 0, 0, 0, 0, 0, 0, 0, 0, 0, 0, 0, 0, 0, 0, 0, 0, 0, 0, 0, 0, 0, 0, 0, 0, 0, 0, 0, 0, 0, 0, 0, 0, 0, 0, 0, 0, 0, 0, 0, 0, 0, 0, 0, 0, 0, 0, 0, 0, 0, 0, 0, 0, 0, 0, 0, 0, 0, 0, 0, 0, 0, 0, 0, 0, 0, 0, 0, 0, 0, 0, 0, 0, 0, 0, 0, 0, 0, 0, 0, 0, 0, 0, 0, 0, 0, 0, 0, 0, 0, 0, 0, 0, 0, 0, 0, 0, 0, 0, 0, 0, 0, 0, 0, 0, 0, 0, 0, 0, 0, 0, 0, 0, 0, 0, 0, 0, 0, 0, 0, 0, 0, 0, 0, 0, 0, 0, 0, 0, 0, 0, 0, 0, 0, 0, 0, 0, 0, 0, 0, 0, 0, 0, 0, 0, 0, 0, 0, 0, 0, 0, 0, 0, 0, 0, 0, 0, 0, 0, 0, 0, 0, 0, 0, 0, 0, 0, 0, 0, 0, 0, 0, 0, 0, 0, 0, 0, 0, 0, 0, 0, 0, 0, 0, 0, 0, 0, 0, 0, 0, 0, 0, 0, 0, 0, 0, 0, 0, 0, 0, 0, 0, 0, 0, 0, 0, 0, 0, 0, 0, 0, 0, 0, 0, 0, 0, 0, 0, 0, 0, 0, 0, 0, 0, 0, 0, 0, 0, 0, 0, 0, 0, 0, 0, 0, 0, 0, 0, 0, 0, 0, 0, 0, 0, 0, 0, 0, 0, 0, 0, 0, 0, 0, 0, 0, 0, 0, 0, 0, 0, 0, 0, 0, 0, 0, 0, 0, 0, 0, 0, 0, 0, 0, 0, 0, 0, 0, 0, 0, 0, 0, 0, 0, 0, 0, 0, 0, 0, 0, 0, 0, 0, 0, 0, 0, 0, 0, 0, 0, 0, 0, 0, 0, 0, 0, 0, 0, 0, 0, 0, 0, 0, 0, 0, 0, 0, 0, 0, 0, 0, 0, 0, 0, 0, 0, 0, 0, 0, 0, 0, 0, 0, 0, 0, 0, 0, 0, 0, 0, 0, 0, 0, 0, 0, 0, 0, 0, 0, 0, 0, 0, 0, 0, 0, 0, 0, 0, 0, 0, 0, 0, 0, 0, 0, 0, 0, 0, 0, 0, 0, 0, 0, 0, 0, 0, 0, 0, 0, 0, 0, 0, 0, 0, 0, 0, 0, 0, 0, 0, 0, 0, 0, 0, 0, 0, 0, 0, 0, 0, 0, 0, 0, 0, 0, 0, 0, 0, 0, 0, 0, 0, 0, 0, 0, 0, 0, 0, 0, 0, 0, 0, 0, 0, 0, 0, 0, 0, 0, 0, 0, 0, 0, 0, 0, 0, 0, 0, 0, 0, 0, 0, 0, 0, 0, 0, 0, 0, 0, 0, 0, 0, 0, 0, 0, 0, 0, 0, 0, 0, 0, 0, 0, 0, 0, 0, 0, 0, 0, 0, 0, 0, 0, 0, 0, 0, 0, 0, 0, 0, 0, 0, 0, 0, 0, 0, 0, 0, 0, 0, 0, 0, 0, 0, 0, 0, 0, 0, 0, 0, 0, 0, 0, 0, 0, 0, 0, 0, 0, 0, 0, 0, 0, 0, 0, 0, 0, 0, 0, 0, 0, 0, 0, 0, 0, 0, 0, 0, 0, 0, 0, 0, 0, 0, 0, 0, 0, 0, 0, 0, 0, 0, 0, 0, 0, 0, 0, 0, 0, 0, 0, 0, 0, 0, 0, 0, 0, 0, 0, 0, 0, 0, 0, 0, 0, 0, 0, 0, 0, 0, 0, 0, 0, 0, 0, 0, 0, 0, 0, 0, 0, 0, 0, 0, 0, 0, 0, 0, 0, 0, 0, 0, 0, 0, 0, 0, 0, 0, 0, 0, 0, 0, 0, 0, 0, 0, 0, 0, 0, 0, 0, 0, 0, 0, 0, 0, 0, 0, 0, 0, 0, 0, 0, 0, 0, 0, 0, 0, 0, 0, 0, 0, 0, 0, 0, 0, 0, 0, 0, 0, 0, 0, 0, 0, 0, 0, 0, 0, 0, 0, 0, 0, 0, 0, 0, 0, 0, 0, 0, 0, 0, 0, 0, 0, 0, 0, 0, 0, 0, 0, 0, 0, 0, 0, 0, 0, 0, 0, 0, 0, 0, 0, 0, 0, 0, 0, 0, 0, 0, 0, 0, 0, 0, 0, 0, 0, 0, 0, 0, 0, 0, 0, 0, 0, 0, 0, 0, 0, 0, 0, 0, 0, 0, 0, 0, 0, 0, 0, 0, 0, 0, 0, 0, 0, 0, 0, 0, 0, 0, 0, 0, 0, 0, 0, 0, 0, 0, 0, 0, 0, 0, 0, 0, 0, 0, 0, 0, 0, 0, 0, 0, 0, 0, 0, 0, 0, 0, 0, 0, 0, 0, 0, 0, 0, 0, 0, 0, 0, 0, 0, 0, 0, 0, 0, 0, 0, 0, 0, 0, 0, 0, 0, 0, 0, 0, 0, 0, 0, 0, 0, 0, 0, 0, 0, 0, 0, 0, 0, 0, 0, 0, 0, 0, 0, 0, 0, 0, 0, 0, 0, 0, 0, 0, 0, 0, 0, 0, 0, 0, 0, 0, 0, 0, 0, 0, 0, 0, 0, 0, 0, 0, 0, 0, 0, 0, 0, 0, 0, 0, 0, 0, 0, 0, 0, 0, 0, 0, 0, 0, 0, 0, 0, 0, 0, 0, 0, 0, 0, 0, 0, 0, 0, 0, 0, 0, 0, 0, 0, 0, 0, 0, 0, 0, 0, 0, 0, 0, 0, 0, 0, 0, 0, 0, 0, 0, 0, 0, 0, 0, 0, 0, 0, 0, 0, 0, 0, 0, 0, 0, 0, 0, 0, 0, 0, 0, 0, 0, 0, 0, 0, 0, 0, 0, 0, 0, 0, 0, 0, 0, 0, 0, 0, 0, 0, 0, 0, 0, 0, 0, 0, 0, 0, 0, 0, 0, 0, 0, 0, 0, 0, 0, 0, 0, 0, 0, 0, 0, 0, 0, 0, 0, 0, 0, 0, 0, 0, 0, 0, 0, 0, 0, 0, 0, 0, 0, 0, 0, 0, 0, 0, 0, 0, 0, 0, 0, 0, 0, 0, 0, 0, 0, 0, 0, 0, 0, 0, 0, 0, 0, 0, 0, 0, 0, 0, 0, 0, 0, 0, 0, 0, 0, 0, 0, 0, 0, 0, 0, 0, 0, 0, 0, 0, 0, 0, 0, 0, 0, 0, 0, 0, 0, 0, 0, 0, 0, 0, 0, 0, 0, 0, 0, 0, 0, 0, 0, 0, 0, 0, 0, 0, 0, 0, 0, 0, 0, 0, 0, 0, 0, 0, 0, 0, 0, 0, 0, 0, 0, 0, 0, 0, 0, 0, 0, 0, 0, 0, 0, 0, 0, 0, 0, 0, 0, 0, 0, 0, 0, 0, 0, 0, 0, 0, 0, 0, 0, 0, 0, 0, 0, 0, 0, 0, 0, 0, 0, 0, 0, 0, 0, 0, 0, 0, 0, 0, 0, 0, 0, 0, 0, 0, 0, 0, 0, 0, 0, 0, 0, 0, 0, 0, 0, 0, 0, 0, 0, 0, 0, 0, 0, 0, 0, 0, 0, 0, 0, 0, 0, 0, 0, 0, 0, 0, 0, 0, 0, 0, 0, 0, 0, 0, 0, 0, 0, 0, 0, 0, 0, 0, 0, 0, 0, 0, 0, 0, 0, 0, 0, 0, 0, 0, 0, 0, 0, 0, 0, 0, 0, 0, 0, 0, 0, 0, 0, 0, 0, 0, 0, 0, 0, 0, 0, 0, 0, 0, 0, 0, 0, 0, 0, 0, 0, 0, 0, 0, 0, 0, 0, 0, 0, 0, 0, 0, 0, 0, 0, 0, 0, 0, 0, 0, 0, 0, 0, 0, 0, 0, 0, 0, 0, 0, 0, 0, 0, 0, 0, 0, 0, 0, 0, 0, 0, 0, 0, 0, 0, 0, 0, 0, 0, 0, 0, 0, 0, 0, 0, 0, 0, 0, 0, 0, 0, 0, 0, 0, 0, 0, 0, 0, 0, 0, 0, 0, 0, 0, 0, 0, 0, 0, 0, 0, 0, 0, 0, 0, 0, 0, 0, 0, 0, 0, 0, 0, 0, 0, 0, 0, 0, 0, 0, 0, 0, 0, 0, 0, 0, 0, 0, 0, 0, 0, 0, 0, 0, 0, 0, 0, 0, 0, 0, 0, 0, 0, 0, 0, 0, 0, 0, 0, 0, 0, 0, 0, 0, 0, 0, 0, 0, 0, 0, 0, 0, 0, 0, 0, 0, 0, 0, 0, 0, 0, 0, 0, 0, 0, 0, 0, 0, 0, 0, 0, 0, 0, 0, 0, 0, 0, 0, 0, 0, 0, 0, 0, 0, 0, 0, 0, 0, 0, 0, 0, 0, 0, 0, 0, 0, 0, 0, 0, 0, 0, 0, 0, 0, 0, 0, 0, 0, 0, 0, 0, 0, 0, 0, 0, 0, 0, 0, 0, 0, 0, 0, 0, 0, 0, 0, 0, 0, 0, 0, 0, 0, 0, 0, 0, 0, 0, 0, 0, 0, 0, 0, 0, 0, 0, 0, 0, 0, 0, 0, 0, 0, 0, 0, 0, 0, 0, 0, 0, 0, 0, 0, 0, 0, 0, 0, 0, 0, 0, 0, 0, 0, 0, 0, 0, 0, 0, 0, 0, 0, 0, 0, 0, 0, 0, 0, 0, 0, 0, 0, 0, 0, 0, 0, 0, 0, 0, 0, 0, 0, 0, 0, 0, 0, 0, 0, 0, 0, 0, 0, 0, 0, 0, 0, 0, 0, 0, 0, 0, 0, 0, 0, 0, 0, 0, 0, 0, 0, 0, 0, 0, 0, 0, 0, 0, 0, 0, 0, 0, 0, 0, 0, 0, 0, 0, 0, 0, 0, 0, 0, 0, 0, 0, 0, 0, 0, 0, 0, 0, 0, 0, 0, 0, 0, 0, 0, 0, 0, 0, 0, 0, 0, 0, 0, 0, 0, 0, 0, 0, 0, 0, 0, 0, 0, 0, 0, 0, 0, 0, 0, 0, 0, 0, 0, 0, 0, 0, 0, 0, 0, 0, 0, 0, 0, 0, 0, 0, 0, 0, 0, 0, 0, 0, 0, 0, 0, 0, 0, 0, 0, 0, 0, 0, 0, 0, 0, 0, 0, 0, 0, 0, 0, 0, 0, 0, 0, 0, 0, 0, 0, 0, 0, 0, 0, 0, 0, 0, 0, 0, 0, 0, 0, 0, 0, 0, 0, 0, 0, 0, 0, 0, 0, 0, 0, 0, 0, 0, 0, 0, 0, 0, 0, 0, 0, 0, 0, 0, 0, 0, 0, 0, 0, 0, 0, 0, 0, 0, 0, 0, 0, 0, 0, 0, 0, 0, 0, 0, 0, 0, 0, 0, 0, 0, 0, 0, 0, 0, 0, 0, 0, 0, 0, 0, 0, 0, 0, 0, 0, 0, 0, 0, 0, 0, 0, 0, 0, 0, 0, 0, 0, 0, 0, 0, 0, 0, 0, 0, 0, 0, 0, 0, 0, 0, 0, 0, 0, 0, 0, 0, 0, 0, 0, 0, 0, 0, 0, 0, 0, 0, 0, 0, 0, 0, 0, 0, 0, 0, 0, 0, 0, 0, 0, 0, 0, 0, 0, 0, 0, 0, 0, 0, 0, 0, 0, 0, 0, 0, 0, 0, 0, 0, 0, 0, 0, 0, 0, 0, 0, 0, 0, 0, 0, 0, 0, 0, 0, 0, 0, 0, 0, 0, 0, 0, 0, 0, 0, 0, 0, 0, 0, 0, 0, 0, 0, 0, 0, 0, 0, 0, 0, 0, 0, 0, 0, 0, 0, 0, 0, 0, 0, 0, 0, 0, 0, 0, 0, 0, 0, 0, 0, 0, 0, 0, 0, 0, 0, 0, 0, 0, 0, 0, 0, 0, 0, 0, 0, 0, 0, 0, 0, 0, 0, 0, 0, 0, 0, 0, 0, 0, 0, 0, 0, 0, 0, 0, 0, 0, 0, 0, 0, 0, 0, 0, 0, 0, 0, 0, 0, 0, 0, 0, 0, 0, 0, 0, 0, 0, 0, 0, 0, 0, 0, 0, 0, 0, 0, 0, 0, 0, 0, 0, 0, 0, 0, 0, 0, 0, 0, 0, 0, 0, 0, 0, 0, 0, 0, 0, 0, 0, 0, 0, 0, 0, 0, 0, 0, 0, 0, 0, 0, 0, 0, 0, 0, 0, 0, 0, 0, 0, 0, 0, 0, 0, 0, 0, 0, 0, 0, 0, 0, 0, 0, 0, 0, 0, 0, 0, 0, 0, 0, 0, 0, 0, 0, 0, 0, 0, 0, 0, 0, 0, 0, 0, 0, 0, 0, 0, 0, 0, 0, 0, 0, 0, 0, 0, 0, 0, 0, 0, 0, 0, 0, 0, 0, 0, 0, 0, 0, 0, 0, 0, 0, 0, 0, 0, 0, 0, 0, 0, 0, 0, 0, 0, 0, 0, 0, 0, 0, 0, 0, 0, 0, 0, 0, 0, 0, 0, 0, 0, 0, 0, 0, 0, 0, 0, 0, 0, 0, 0, 0, 0, 0, 0, 0, 0, 0, 0, 0, 0, 0, 0, 0, 0, 0, 0, 0, 0, 0, 0, 0, 0, 0, 0, 0, 0, 0, 0, 0, 0, 0, 0, 0, 0, 0, 0, 0, 0, 0, 0, 0, 0, 0, 0, 0, 0, 0, 0, 0, 0, 0, 0, 0, 0, 0, 0, 0, 0, 0, 0, 0, 0, 0, 0, 0, 0, 0, 0, 0, 0, 0, 0, 0, 0, 0, 0, 0, 0, 0, 0, 0, 0, 0, 0, 0, 0, 0, 0, 0, 0, 0, 0, 0, 0, 0, 0, 0, 0, 0, 0, 0, 0, 0, 0, 0, 0, 0, 0, 0, 0, 0, 0, 0, 0, 0, 0, 0, 0, 0, 0, 0, 0, 0, 0, 0, 0, 0, 0, 0, 0, 0, 0, 0, 0, 0, 0, 0, 0, 0, 0, 0, 0, 0, 0, 0, 0, 0, 0, 0, 0, 0, 0, 0, 0, 0, 0, 0, 0, 0, 0, 0, 0, 0, 0, 0, 0, 0, 0, 0, 0, 0, 0, 0, 0, 0, 0, 0, 0, 0, 0, 0, 0, 0, 0, 0, 0, 0, 0, 0, 0, 0]\n"
     ]
    }
   ],
   "source": [
    "X_test_submission = data_dt_test.drop(['Injeção na rede (kWh)'],axis=1)\n",
    "predictions_sub = best_mlp_model.predict(X_test_submission)\n",
    "predictions_sub_2 = flat_list = [item for sublist in predictions_sub for item in sublist]\n",
    "print(predictions_sub_2)"
   ]
  },
  {
   "cell_type": "code",
   "execution_count": 36,
   "id": "390f05ab-73f4-4dfd-b595-9403e14de0e8",
   "metadata": {
    "tags": []
   },
   "outputs": [],
   "source": [
    "gera_csv(predictions_sub_2,'group20_an.csv')"
   ]
  },
  {
   "cell_type": "code",
   "execution_count": 37,
   "id": "029cc8d4-809c-4ef6-b168-1fa357c4503e",
   "metadata": {},
   "outputs": [
    {
     "name": "stdout",
     "output_type": "stream",
     "text": [
      "              precision    recall  f1-score   support\n",
      "\n",
      "           0       0.95      0.99      0.97      1933\n",
      "           1       0.30      0.13      0.18       110\n",
      "           2       0.43      0.51      0.46       276\n",
      "           3       0.58      0.43      0.50       292\n",
      "           4       0.46      0.52      0.49       143\n",
      "\n",
      "    accuracy                           0.82      2754\n",
      "   macro avg       0.54      0.52      0.52      2754\n",
      "weighted avg       0.81      0.82      0.81      2754\n",
      "\n"
     ]
    }
   ],
   "source": [
    "from sklearn.metrics import classification_report\n",
    "print(classification_report(y_test,prediction))"
   ]
  },
  {
   "cell_type": "code",
   "execution_count": 38,
   "id": "92a027b9",
   "metadata": {},
   "outputs": [
    {
     "data": {
      "image/png": "[encoded data removed]",
      "text/plain": [
       "<Figure size 640x480 with 2 Axes>"
      ]
     },
     "metadata": {},
     "output_type": "display_data"
    }
   ],
   "source": [
    "from sklearn.metrics import confusion_matrix, ConfusionMatrixDisplay\n",
    "ConfusionMatrixDisplay.from_predictions(y_test,prediction)\n",
    "\n",
    "plt.show()"
   ]
  },
  {
   "cell_type": "code",
   "execution_count": null,
   "id": "6d4b6687",
   "metadata": {},
   "outputs": [],
   "source": []
  }
 ],
 "metadata": {
  "kernelspec": {
   "display_name": "Python 3 (ipykernel)",
   "language": "python",
   "name": "python3"
  },
  "language_info": {
   "codemirror_mode": {
    "name": "ipython",
    "version": 3
   },
   "file_extension": ".py",
   "mimetype": "text/x-python",
   "name": "python",
   "nbconvert_exporter": "python",
   "pygments_lexer": "ipython3",
   "version": "3.11.5"
  }
 },
 "nbformat": 4,
 "nbformat_minor": 5
}
